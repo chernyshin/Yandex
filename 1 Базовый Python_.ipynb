{
 "cells": [
  {
   "cell_type": "markdown",
   "metadata": {
    "id": "E0vqbgi9ay0H"
   },
   "source": [
    "\n",
    "# Яндекс.Музыка <a id=\"index\"></a>"
   ]
  },
  {
   "cell_type": "markdown",
   "metadata": {
    "id": "VUC88oWjTJw2"
   },
   "source": [
    "Сравнение Москвы и Петербурга окружено мифами. Например:\n",
    " * Москва — мегаполис, подчинённый жёсткому ритму рабочей недели;\n",
    " * Петербург — культурная столица, со своими вкусами.\n",
    "\n",
    "На данных Яндекс.Музыки вы сравните поведение пользователей двух столиц.\n",
    "\n",
    "**Цель исследования** — проверьте три гипотезы:\n",
    "1. Активность пользователей зависит от дня недели. Причём в Москве и Петербурге это проявляется по-разному.\n",
    "2. В понедельник утром в Москве преобладают одни жанры, а в Петербурге — другие. Так же и вечером пятницы преобладают разные жанры — в зависимости от города. \n",
    "3. Москва и Петербург предпочитают разные жанры музыки. В Москве чаще слушают поп-музыку, в Петербурге — русский рэп.\n",
    "\n",
    "**Ход исследования**\n",
    "\n",
    "Данные о поведении пользователей вы получите из файла `yandex_music_project.csv`. О качестве данных ничего не известно. Поэтому перед проверкой гипотез понадобится обзор данных. \n",
    "\n",
    "Вы проверите данные на ошибки и оцените их влияние на исследование. Затем, на этапе предобработки вы поищете возможность исправить самые критичные ошибки данных.\n",
    " \n",
    "Таким образом, исследование пройдёт в три этапа:\n",
    " 1. Обзор данных.\n",
    " 2. Предобработка данных.\n",
    " 3. Проверка гипотез.\n",
    "\n"
   ]
  },
  {
   "cell_type": "markdown",
   "metadata": {
    "id": "Ml1hmfXC_Zcs"
   },
   "source": [
    "## Обзор данных\n",
    "\n",
    "Составьте первое представление о данных Яндекс.Музыки.\n",
    "\n",
    "\n"
   ]
  },
  {
   "cell_type": "markdown",
   "metadata": {
    "id": "57eAOGIz_Zcs"
   },
   "source": [
    "Основной инструмент аналитика — `pandas`. Импортируйте эту библиотеку."
   ]
  },
  {
   "cell_type": "code",
   "execution_count": 2,
   "metadata": {
    "id": "AXN7PHPN_Zcs"
   },
   "outputs": [],
   "source": [
    "# импорт библиотеки pandas\n",
    "import pandas as pd \n",
    "import seaborn as sns"
   ]
  },
  {
   "cell_type": "markdown",
   "metadata": {
    "id": "SG23P8tt_Zcs"
   },
   "source": [
    "Прочитайте файл `yandex_music_project.csv` из папки `/datasets` и сохраните его в переменной `df`:"
   ]
  },
  {
   "cell_type": "code",
   "execution_count": 3,
   "metadata": {
    "id": "fFVu7vqh_Zct"
   },
   "outputs": [],
   "source": [
    "# чтение файла с данными и сохранение в df\n",
    "df = pd.read_csv('/datasets/yandex_music_project.csv') "
   ]
  },
  {
   "cell_type": "markdown",
   "metadata": {
    "id": "rDoOMd3uTqnZ"
   },
   "source": [
    "Выведите на экран первые десять строк таблицы: <a id=\"info\"></a>"
   ]
  },
  {
   "cell_type": "code",
   "execution_count": 4,
   "metadata": {
    "id": "oWTVX3gW_Zct"
   },
   "outputs": [
    {
     "data": {
      "text/html": [
       "<div>\n",
       "<style scoped>\n",
       "    .dataframe tbody tr th:only-of-type {\n",
       "        vertical-align: middle;\n",
       "    }\n",
       "\n",
       "    .dataframe tbody tr th {\n",
       "        vertical-align: top;\n",
       "    }\n",
       "\n",
       "    .dataframe thead th {\n",
       "        text-align: right;\n",
       "    }\n",
       "</style>\n",
       "<table border=\"1\" class=\"dataframe\">\n",
       "  <thead>\n",
       "    <tr style=\"text-align: right;\">\n",
       "      <th></th>\n",
       "      <th>userID</th>\n",
       "      <th>Track</th>\n",
       "      <th>artist</th>\n",
       "      <th>genre</th>\n",
       "      <th>City</th>\n",
       "      <th>time</th>\n",
       "      <th>Day</th>\n",
       "    </tr>\n",
       "  </thead>\n",
       "  <tbody>\n",
       "    <tr>\n",
       "      <td>0</td>\n",
       "      <td>FFB692EC</td>\n",
       "      <td>Kamigata To Boots</td>\n",
       "      <td>The Mass Missile</td>\n",
       "      <td>rock</td>\n",
       "      <td>Saint-Petersburg</td>\n",
       "      <td>20:28:33</td>\n",
       "      <td>Wednesday</td>\n",
       "    </tr>\n",
       "    <tr>\n",
       "      <td>1</td>\n",
       "      <td>55204538</td>\n",
       "      <td>Delayed Because of Accident</td>\n",
       "      <td>Andreas Rönnberg</td>\n",
       "      <td>rock</td>\n",
       "      <td>Moscow</td>\n",
       "      <td>14:07:09</td>\n",
       "      <td>Friday</td>\n",
       "    </tr>\n",
       "    <tr>\n",
       "      <td>2</td>\n",
       "      <td>20EC38</td>\n",
       "      <td>Funiculì funiculà</td>\n",
       "      <td>Mario Lanza</td>\n",
       "      <td>pop</td>\n",
       "      <td>Saint-Petersburg</td>\n",
       "      <td>20:58:07</td>\n",
       "      <td>Wednesday</td>\n",
       "    </tr>\n",
       "    <tr>\n",
       "      <td>3</td>\n",
       "      <td>A3DD03C9</td>\n",
       "      <td>Dragons in the Sunset</td>\n",
       "      <td>Fire + Ice</td>\n",
       "      <td>folk</td>\n",
       "      <td>Saint-Petersburg</td>\n",
       "      <td>08:37:09</td>\n",
       "      <td>Monday</td>\n",
       "    </tr>\n",
       "    <tr>\n",
       "      <td>4</td>\n",
       "      <td>E2DC1FAE</td>\n",
       "      <td>Soul People</td>\n",
       "      <td>Space Echo</td>\n",
       "      <td>dance</td>\n",
       "      <td>Moscow</td>\n",
       "      <td>08:34:34</td>\n",
       "      <td>Monday</td>\n",
       "    </tr>\n",
       "    <tr>\n",
       "      <td>5</td>\n",
       "      <td>842029A1</td>\n",
       "      <td>Преданная</td>\n",
       "      <td>IMPERVTOR</td>\n",
       "      <td>rusrap</td>\n",
       "      <td>Saint-Petersburg</td>\n",
       "      <td>13:09:41</td>\n",
       "      <td>Friday</td>\n",
       "    </tr>\n",
       "    <tr>\n",
       "      <td>6</td>\n",
       "      <td>4CB90AA5</td>\n",
       "      <td>True</td>\n",
       "      <td>Roman Messer</td>\n",
       "      <td>dance</td>\n",
       "      <td>Moscow</td>\n",
       "      <td>13:00:07</td>\n",
       "      <td>Wednesday</td>\n",
       "    </tr>\n",
       "    <tr>\n",
       "      <td>7</td>\n",
       "      <td>F03E1C1F</td>\n",
       "      <td>Feeling This Way</td>\n",
       "      <td>Polina Griffith</td>\n",
       "      <td>dance</td>\n",
       "      <td>Moscow</td>\n",
       "      <td>20:47:49</td>\n",
       "      <td>Wednesday</td>\n",
       "    </tr>\n",
       "    <tr>\n",
       "      <td>8</td>\n",
       "      <td>8FA1D3BE</td>\n",
       "      <td>И вновь продолжается бой</td>\n",
       "      <td>NaN</td>\n",
       "      <td>ruspop</td>\n",
       "      <td>Moscow</td>\n",
       "      <td>09:17:40</td>\n",
       "      <td>Friday</td>\n",
       "    </tr>\n",
       "    <tr>\n",
       "      <td>9</td>\n",
       "      <td>E772D5C0</td>\n",
       "      <td>Pessimist</td>\n",
       "      <td>NaN</td>\n",
       "      <td>dance</td>\n",
       "      <td>Saint-Petersburg</td>\n",
       "      <td>21:20:49</td>\n",
       "      <td>Wednesday</td>\n",
       "    </tr>\n",
       "  </tbody>\n",
       "</table>\n",
       "</div>"
      ],
      "text/plain": [
       "     userID                        Track            artist   genre  \\\n",
       "0  FFB692EC            Kamigata To Boots  The Mass Missile    rock   \n",
       "1  55204538  Delayed Because of Accident  Andreas Rönnberg    rock   \n",
       "2    20EC38            Funiculì funiculà       Mario Lanza     pop   \n",
       "3  A3DD03C9        Dragons in the Sunset        Fire + Ice    folk   \n",
       "4  E2DC1FAE                  Soul People        Space Echo   dance   \n",
       "5  842029A1                    Преданная         IMPERVTOR  rusrap   \n",
       "6  4CB90AA5                         True      Roman Messer   dance   \n",
       "7  F03E1C1F             Feeling This Way   Polina Griffith   dance   \n",
       "8  8FA1D3BE     И вновь продолжается бой               NaN  ruspop   \n",
       "9  E772D5C0                    Pessimist               NaN   dance   \n",
       "\n",
       "             City        time        Day  \n",
       "0  Saint-Petersburg  20:28:33  Wednesday  \n",
       "1            Moscow  14:07:09     Friday  \n",
       "2  Saint-Petersburg  20:58:07  Wednesday  \n",
       "3  Saint-Petersburg  08:37:09     Monday  \n",
       "4            Moscow  08:34:34     Monday  \n",
       "5  Saint-Petersburg  13:09:41     Friday  \n",
       "6            Moscow  13:00:07  Wednesday  \n",
       "7            Moscow  20:47:49  Wednesday  \n",
       "8            Moscow  09:17:40     Friday  \n",
       "9  Saint-Petersburg  21:20:49  Wednesday  "
      ]
     },
     "metadata": {},
     "output_type": "display_data"
    }
   ],
   "source": [
    "# получение первых 10 строк таблицы df\n",
    "display(df.head(10))"
   ]
  },
  {
   "cell_type": "markdown",
   "metadata": {
    "id": "EO73Kwic_Zct"
   },
   "source": [
    "Одной командой получить общую информацию о таблице:"
   ]
  },
  {
   "cell_type": "code",
   "execution_count": 5,
   "metadata": {
    "id": "DSf2kIb-_Zct"
   },
   "outputs": [
    {
     "name": "stdout",
     "output_type": "stream",
     "text": [
      "<class 'pandas.core.frame.DataFrame'>\n",
      "RangeIndex: 65079 entries, 0 to 65078\n",
      "Data columns (total 7 columns):\n",
      "  userID    65079 non-null object\n",
      "Track       63848 non-null object\n",
      "artist      57876 non-null object\n",
      "genre       63881 non-null object\n",
      "  City      65079 non-null object\n",
      "time        65079 non-null object\n",
      "Day         65079 non-null object\n",
      "dtypes: object(7)\n",
      "memory usage: 3.5+ MB\n"
     ]
    }
   ],
   "source": [
    "# получение общей информации о данных в таблице df\n",
    "df.info()"
   ]
  },
  {
   "cell_type": "markdown",
   "metadata": {
    "id": "TaQ2Iwbr_Zct"
   },
   "source": [
    "Итак, в таблице семь столбцов. Тип данных во всех столбцах — `object`.\n",
    "\n",
    "Согласно документации к данным:\n",
    "* `userID` — идентификатор пользователя;\n",
    "* `Track` — название трека;  \n",
    "* `artist` — имя исполнителя;\n",
    "* `genre` — название жанра;\n",
    "* `City` — город пользователя;\n",
    "* `time` — время начала прослушивания;\n",
    "* `Day` — день недели.\n",
    "\n",
    "В названиях колонок видны три нарушения стиля:\n",
    "1. Строчные буквы сочетаются с прописными.\n",
    "2. Встречаются пробелы.\n",
    "3. Не соблюдён змеиный стиль написания.\n",
    "\n",
    "\n",
    "\n",
    "Количество значений в столбцах различается. Значит, в данных есть пропущенные значения.\n"
   ]
  },
  {
   "cell_type": "markdown",
   "metadata": {
    "id": "MCB6-dXG_Zct"
   },
   "source": [
    "**Выводы**\n",
    "\n",
    "В каждой строке таблицы — данные о прослушанном треке. Часть колонок описывает саму композицию: название, исполнителя и жанр. Остальные данные рассказывают о пользователе: из какого он города, когда он слушал музыку. \n",
    "\n",
    "Предварительно можно утверждать, что, данных достаточно для проверки гипотез. Но встречаются пропуски в данных, а в названиях колонок — расхождения с хорошим стилем.\n",
    "\n",
    "Чтобы двигаться дальше, нужно устранить проблемы в данных."
   ]
  },
  {
   "cell_type": "markdown",
   "metadata": {
    "id": "SjYF6Ub9_Zct"
   },
   "source": [
    "## Предобработка данных\n",
    "Исправьте стиль в заголовках столбцов, исключите пропуски. Затем проверьте данные на дубликаты."
   ]
  },
  {
   "cell_type": "markdown",
   "metadata": {
    "id": "dIaKXr29_Zct"
   },
   "source": [
    "### Стиль заголовков\n",
    "Выведите на экран названия столбцов:"
   ]
  },
  {
   "cell_type": "code",
   "execution_count": 6,
   "metadata": {
    "id": "oKOTdF_Q_Zct"
   },
   "outputs": [
    {
     "data": {
      "text/plain": [
       "'  userID'"
      ]
     },
     "metadata": {},
     "output_type": "display_data"
    },
    {
     "data": {
      "text/plain": [
       "'Track'"
      ]
     },
     "metadata": {},
     "output_type": "display_data"
    },
    {
     "data": {
      "text/plain": [
       "'artist'"
      ]
     },
     "metadata": {},
     "output_type": "display_data"
    },
    {
     "data": {
      "text/plain": [
       "'genre'"
      ]
     },
     "metadata": {},
     "output_type": "display_data"
    },
    {
     "data": {
      "text/plain": [
       "'  City  '"
      ]
     },
     "metadata": {},
     "output_type": "display_data"
    },
    {
     "data": {
      "text/plain": [
       "'time'"
      ]
     },
     "metadata": {},
     "output_type": "display_data"
    },
    {
     "data": {
      "text/plain": [
       "'Day'"
      ]
     },
     "metadata": {},
     "output_type": "display_data"
    }
   ],
   "source": [
    "# перечень названий столбцов таблицы df\n",
    "\n",
    "for column_name in df.columns:\n",
    "    display(column_name) #при display, в отличие от print, видны границы, благодаря чему заметны лишние пробелы в конце"
   ]
  },
  {
   "cell_type": "code",
   "execution_count": 7,
   "metadata": {},
   "outputs": [
    {
     "data": {
      "text/plain": [
       "Index(['  userID', 'Track', 'artist', 'genre', '  City  ', 'time', 'Day'], dtype='object')"
      ]
     },
     "execution_count": 7,
     "metadata": {},
     "output_type": "execute_result"
    }
   ],
   "source": [
    "df.columns"
   ]
  },
  {
   "cell_type": "markdown",
   "metadata": {
    "id": "zj5534cv_Zct"
   },
   "source": [
    "Приведите названия в соответствие с хорошим стилем:\n",
    "* несколько слов в названии запишите в «змеином_регистре»,\n",
    "* все символы сделайте строчными,\n",
    "* устраните пробелы.\n",
    "\n",
    "Для этого переименуйте колонки так:\n",
    "* `'  userID'` → `'user_id'`;\n",
    "* `'Track'` → `'track'`;\n",
    "* `'  City  '` → `'city'`;\n",
    "* `'Day'` → `'day'`."
   ]
  },
  {
   "cell_type": "code",
   "execution_count": 8,
   "metadata": {
    "id": "ISlFqs5y_Zct"
   },
   "outputs": [],
   "source": [
    "# переименование столбцов\n",
    "df = df.rename(columns={\n",
    "    '  userID': 'user_id',\n",
    "    'Track': 'track',\n",
    "    '  City  ': 'city',\n",
    "    'Day': 'day'\n",
    "})"
   ]
  },
  {
   "cell_type": "markdown",
   "metadata": {
    "id": "1dqbh00J_Zct"
   },
   "source": [
    "Проверьте результат. Для этого ещё раз выведите на экран названия столбцов:"
   ]
  },
  {
   "cell_type": "code",
   "execution_count": 9,
   "metadata": {
    "id": "d4NOAmTW_Zct"
   },
   "outputs": [
    {
     "data": {
      "text/plain": [
       "'user_id'"
      ]
     },
     "metadata": {},
     "output_type": "display_data"
    },
    {
     "data": {
      "text/plain": [
       "'track'"
      ]
     },
     "metadata": {},
     "output_type": "display_data"
    },
    {
     "data": {
      "text/plain": [
       "'artist'"
      ]
     },
     "metadata": {},
     "output_type": "display_data"
    },
    {
     "data": {
      "text/plain": [
       "'genre'"
      ]
     },
     "metadata": {},
     "output_type": "display_data"
    },
    {
     "data": {
      "text/plain": [
       "'city'"
      ]
     },
     "metadata": {},
     "output_type": "display_data"
    },
    {
     "data": {
      "text/plain": [
       "'time'"
      ]
     },
     "metadata": {},
     "output_type": "display_data"
    },
    {
     "data": {
      "text/plain": [
       "'day'"
      ]
     },
     "metadata": {},
     "output_type": "display_data"
    }
   ],
   "source": [
    "# проверка результатов - перечень названий столбцов\n",
    "for column_name_upd in df.columns:\n",
    "    display(column_name_upd)"
   ]
  },
  {
   "cell_type": "markdown",
   "metadata": {
    "id": "5ISfbcfY_Zct"
   },
   "source": [
    "### Пропуски значений\n",
    "Сначала посчитайте, сколько в таблице пропущенных значений. Для этого достаточно двух методов `pandas`:"
   ]
  },
  {
   "cell_type": "code",
   "execution_count": 10,
   "metadata": {
    "id": "RskX29qr_Zct"
   },
   "outputs": [
    {
     "name": "stdout",
     "output_type": "stream",
     "text": [
      "user_id       0\n",
      "track      1231\n",
      "artist     7203\n",
      "genre      1198\n",
      "city          0\n",
      "time          0\n",
      "day           0\n",
      "dtype: int64\n"
     ]
    }
   ],
   "source": [
    "# подсчёт пропусков\n",
    "print(df.isna().sum())"
   ]
  },
  {
   "cell_type": "markdown",
   "metadata": {
    "id": "qubhgnlO_Zct"
   },
   "source": [
    "Не все пропущенные значения влияют на исследование. Так в `track` и `artist` пропуски не важны для вашей работы. Достаточно заменить их явными обозначениями.\n",
    "\n",
    "Но пропуски в `genre` могут помешать сравнению музыкальных вкусов в Москве и Санкт-Петербурге. На практике было бы правильно установить причину пропусков и восстановить данные. Такой возможности нет в учебном проекте. Придётся:\n",
    "* заполнить и эти пропуски явными обозначениями,\n",
    "* оценить, насколько они повредят расчётам. "
   ]
  },
  {
   "cell_type": "markdown",
   "metadata": {
    "id": "fSv2laPA_Zct"
   },
   "source": [
    "Замените пропущенные значения в столбцах `track`, `artist` и `genre` на строку `'unknown'`. Для этого создайте список `columns_to_replace`, переберите его элементы циклом `for` и для каждого столбца выполните замену пропущенных значений:"
   ]
  },
  {
   "cell_type": "code",
   "execution_count": 11,
   "metadata": {
    "id": "KplB5qWs_Zct"
   },
   "outputs": [],
   "source": [
    "# перебор названий столбцов в цикле и замена пропущенных значений на 'unknown'\n",
    "columns_to_replace = ['track', 'artist', 'genre']\n",
    "for column in columns_to_replace:\n",
    "    df[column] = df[column].fillna('unknown')    "
   ]
  },
  {
   "cell_type": "markdown",
   "metadata": {
    "id": "Ilsm-MZo_Zct"
   },
   "source": [
    "Убедитесь, что в таблице не осталось пропусков. Для этого ещё раз посчитайте пропущенные значения."
   ]
  },
  {
   "cell_type": "code",
   "execution_count": 12,
   "metadata": {
    "id": "Tq4nYRX4_Zct"
   },
   "outputs": [
    {
     "name": "stdout",
     "output_type": "stream",
     "text": [
      "user_id    0\n",
      "track      0\n",
      "artist     0\n",
      "genre      0\n",
      "city       0\n",
      "time       0\n",
      "day        0\n",
      "dtype: int64\n"
     ]
    }
   ],
   "source": [
    "# подсчёт пропусков\n",
    "print(df.isna().sum())"
   ]
  },
  {
   "cell_type": "markdown",
   "metadata": {
    "id": "BWKRtBJ3_Zct"
   },
   "source": [
    "### Дубликаты\n",
    "Посчитайте явные дубликаты в таблице одной командой:"
   ]
  },
  {
   "cell_type": "code",
   "execution_count": 13,
   "metadata": {
    "id": "36eES_S0_Zct"
   },
   "outputs": [
    {
     "name": "stdout",
     "output_type": "stream",
     "text": [
      "3826\n"
     ]
    }
   ],
   "source": [
    "# подсчёт явных дубликатов\n",
    "print(df.duplicated().sum())"
   ]
  },
  {
   "cell_type": "markdown",
   "metadata": {
    "id": "Ot25h6XR_Zct"
   },
   "source": [
    "Вызовите специальный метод `pandas`, чтобы удалить явные дубликаты:"
   ]
  },
  {
   "cell_type": "code",
   "execution_count": 14,
   "metadata": {
    "id": "exFHq6tt_Zct"
   },
   "outputs": [],
   "source": [
    "# удаление явных дубликатов (с удалением старых индексов и формированием новых)\n",
    "df = df.drop_duplicates().reset_index(drop=True)"
   ]
  },
  {
   "cell_type": "markdown",
   "metadata": {
    "id": "Im2YwBEG_Zct"
   },
   "source": [
    "Ещё раз посчитайте явные дубликаты в таблице — убедитесь, что полностью от них избавились:"
   ]
  },
  {
   "cell_type": "code",
   "execution_count": 15,
   "metadata": {
    "id": "-8PuNWQ0_Zct"
   },
   "outputs": [
    {
     "name": "stdout",
     "output_type": "stream",
     "text": [
      "0\n"
     ]
    }
   ],
   "source": [
    "# проверка на отсутствие дубликатов\n",
    "print(df.duplicated().sum())"
   ]
  },
  {
   "cell_type": "markdown",
   "metadata": {
    "id": "QlFBsxAr_Zct"
   },
   "source": [
    "Теперь избавьтесь от неявных дубликатов в колонке `genre`. Например, название одного и того же жанра может быть записано немного по-разному. Такие ошибки тоже повлияют на результат исследования."
   ]
  },
  {
   "cell_type": "markdown",
   "metadata": {
    "id": "eSjWwsOh_Zct"
   },
   "source": [
    "Выведите на экран список уникальных названий жанров, отсортированный в алфавитном порядке. Для этого:\n",
    "* извлеките нужный столбец датафрейма, \n",
    "* примените к нему метод сортировки,\n",
    "* для отсортированного столбца вызовите метод, который вернёт уникальные значения из столбца."
   ]
  },
  {
   "cell_type": "code",
   "execution_count": 16,
   "metadata": {
    "id": "JIUcqzZN_Zct"
   },
   "outputs": [
    {
     "data": {
      "text/plain": [
       "array(['acid', 'acoustic', 'action', 'adult', 'africa', 'afrikaans',\n",
       "       'alternative', 'alternativepunk', 'ambient', 'americana',\n",
       "       'animated', 'anime', 'arabesk', 'arabic', 'arena',\n",
       "       'argentinetango', 'art', 'audiobook', 'author', 'avantgarde',\n",
       "       'axé', 'baile', 'balkan', 'beats', 'bigroom', 'black', 'bluegrass',\n",
       "       'blues', 'bollywood', 'bossa', 'brazilian', 'breakbeat', 'breaks',\n",
       "       'broadway', 'cantautori', 'cantopop', 'canzone', 'caribbean',\n",
       "       'caucasian', 'celtic', 'chamber', 'chanson', 'children', 'chill',\n",
       "       'chinese', 'choral', 'christian', 'christmas', 'classical',\n",
       "       'classicmetal', 'club', 'colombian', 'comedy', 'conjazz',\n",
       "       'contemporary', 'country', 'cuban', 'dance', 'dancehall',\n",
       "       'dancepop', 'dark', 'death', 'deep', 'deutschrock', 'deutschspr',\n",
       "       'dirty', 'disco', 'dnb', 'documentary', 'downbeat', 'downtempo',\n",
       "       'drum', 'dub', 'dubstep', 'eastern', 'easy', 'electronic',\n",
       "       'electropop', 'emo', 'entehno', 'epicmetal', 'estrada', 'ethnic',\n",
       "       'eurofolk', 'european', 'experimental', 'extrememetal', 'fado',\n",
       "       'fairytail', 'film', 'fitness', 'flamenco', 'folk', 'folklore',\n",
       "       'folkmetal', 'folkrock', 'folktronica', 'forró', 'frankreich',\n",
       "       'französisch', 'french', 'funk', 'future', 'gangsta', 'garage',\n",
       "       'german', 'ghazal', 'gitarre', 'glitch', 'gospel', 'gothic',\n",
       "       'grime', 'grunge', 'gypsy', 'handsup', \"hard'n'heavy\", 'hardcore',\n",
       "       'hardstyle', 'hardtechno', 'hip', 'hip-hop', 'hiphop',\n",
       "       'historisch', 'holiday', 'hop', 'horror', 'house', 'hymn', 'idm',\n",
       "       'independent', 'indian', 'indie', 'indipop', 'industrial',\n",
       "       'inspirational', 'instrumental', 'international', 'irish', 'jam',\n",
       "       'japanese', 'jazz', 'jewish', 'jpop', 'jungle', 'k-pop',\n",
       "       'karadeniz', 'karaoke', 'kayokyoku', 'korean', 'laiko', 'latin',\n",
       "       'latino', 'leftfield', 'local', 'lounge', 'loungeelectronic',\n",
       "       'lovers', 'malaysian', 'mandopop', 'marschmusik', 'meditative',\n",
       "       'mediterranean', 'melodic', 'metal', 'metalcore', 'mexican',\n",
       "       'middle', 'minimal', 'miscellaneous', 'modern', 'mood', 'mpb',\n",
       "       'muslim', 'native', 'neoklassik', 'neue', 'new', 'newage',\n",
       "       'newwave', 'nu', 'nujazz', 'numetal', 'oceania', 'old', 'opera',\n",
       "       'orchestral', 'other', 'piano', 'podcasts', 'pop', 'popdance',\n",
       "       'popelectronic', 'popeurodance', 'poprussian', 'post',\n",
       "       'posthardcore', 'postrock', 'power', 'progmetal', 'progressive',\n",
       "       'psychedelic', 'punjabi', 'punk', 'quebecois', 'ragga', 'ram',\n",
       "       'rancheras', 'rap', 'rave', 'reggae', 'reggaeton', 'regional',\n",
       "       'relax', 'religious', 'retro', 'rhythm', 'rnb', 'rnr', 'rock',\n",
       "       'rockabilly', 'rockalternative', 'rockindie', 'rockother',\n",
       "       'romance', 'roots', 'ruspop', 'rusrap', 'rusrock', 'russian',\n",
       "       'salsa', 'samba', 'scenic', 'schlager', 'self', 'sertanejo',\n",
       "       'shanson', 'shoegazing', 'showtunes', 'singer', 'ska', 'skarock',\n",
       "       'slow', 'smooth', 'soft', 'soul', 'soulful', 'sound', 'soundtrack',\n",
       "       'southern', 'specialty', 'speech', 'spiritual', 'sport',\n",
       "       'stonerrock', 'surf', 'swing', 'synthpop', 'synthrock',\n",
       "       'sängerportrait', 'tango', 'tanzorchester', 'taraftar', 'tatar',\n",
       "       'tech', 'techno', 'teen', 'thrash', 'top', 'traditional',\n",
       "       'tradjazz', 'trance', 'tribal', 'trip', 'triphop', 'tropical',\n",
       "       'türk', 'türkçe', 'ukrrock', 'unknown', 'urban', 'uzbek',\n",
       "       'variété', 'vi', 'videogame', 'vocal', 'western', 'world',\n",
       "       'worldbeat', 'ïîï', 'электроника'], dtype=object)"
      ]
     },
     "metadata": {},
     "output_type": "display_data"
    }
   ],
   "source": [
    "# Просмотр уникальных названий жанров\n",
    "unique_genres = df['genre'].sort_values()\n",
    "display(unique_genres.unique())"
   ]
  },
  {
   "cell_type": "markdown",
   "metadata": {
    "id": "qej-Qmuo_Zct"
   },
   "source": [
    "Просмотрите список и найдите неявные дубликаты названия `hiphop`. Это могут быть названия с ошибками или альтернативные названия того же жанра.\n",
    "\n",
    "Вы увидите следующие неявные дубликаты:\n",
    "* *hip*,\n",
    "* *hop*,\n",
    "* *hip-hop*.\n",
    "\n",
    "Чтобы очистить от них таблицу, напишите функцию `replace_wrong_genres()` с двумя параметрами: \n",
    "* `wrong_genres` — список дубликатов,\n",
    "* `correct_genre` — строка с правильным значением.\n",
    "\n",
    "Функция должна исправить колонку `genre` в таблице `df`: заменить каждое значение из списка `wrong_genres` на значение из `correct_genre`."
   ]
  },
  {
   "cell_type": "code",
   "execution_count": 17,
   "metadata": {
    "id": "ErNDkmns_Zct"
   },
   "outputs": [],
   "source": [
    "# Функция для замены неявных дубликатов\n",
    "def replace_wrong_genres(wrong_genres, correct_genre):\n",
    "    for wrong_genre in wrong_genres:\n",
    "        df['genre'] = df['genre'].replace(wrong_genre, correct_genre)"
   ]
  },
  {
   "cell_type": "markdown",
   "metadata": {
    "id": "aDoBJxbA_Zct"
   },
   "source": [
    "Вызовите `replace_wrong_genres()` и передайте ей такие аргументы, чтобы она устранила неявные дубликаты: вместо `hip`, `hop` и `hip-hop` в таблице должно быть значение `hiphop`:"
   ]
  },
  {
   "cell_type": "code",
   "execution_count": 18,
   "metadata": {
    "id": "YN5i2hpmSo09"
   },
   "outputs": [],
   "source": [
    "# Устранение неявных дубликатов\n",
    "wrong_duplicates = ['hip', 'hop', 'hip-hop']\n",
    "correct_unique = 'hiphop'\n",
    "replace_wrong_genres(wrong_duplicates, correct_unique) #изменяем функцией несколько значений на одно\n",
    "\n",
    "wrong_duplicates = ['ïîï', 'independent', 'rockindie']\n",
    "correct_unique = 'indie'\n",
    "replace_wrong_genres(wrong_duplicates, correct_unique)\n",
    "\n",
    "#далее изменяем отдельные дубликаты. Для анализа не важно какое значение на какое изменяем.\n",
    "df = df.replace('französisch', 'french')\n",
    "df = df.replace('deutschspr', 'german')\n",
    "df = df.replace('dancepop', 'popdance')\n",
    "df = df.replace('türk', 'türkçe')\n",
    "df = df.replace('rockalternative', 'alternative')\n",
    "df = df.replace('trip', 'triphop')\n",
    "df = df.replace('latin', 'latino')\n",
    "df = df.replace('электроника', 'electronic')"
   ]
  },
  {
   "cell_type": "markdown",
   "metadata": {
    "id": "zQKF16_RG15m"
   },
   "source": [
    "Проверьте, что заменили неправильные названия:\n",
    "\n",
    "*   hip\n",
    "*   hop\n",
    "*   hip-hop\n",
    "\n",
    "Выведите отсортированный список уникальных значений столбца `genre`:"
   ]
  },
  {
   "cell_type": "code",
   "execution_count": 19,
   "metadata": {
    "id": "wvixALnFG15m"
   },
   "outputs": [
    {
     "data": {
      "text/plain": [
       "array(['acid', 'acoustic', 'action', 'adult', 'africa', 'afrikaans',\n",
       "       'alternative', 'alternativepunk', 'ambient', 'americana',\n",
       "       'animated', 'anime', 'arabesk', 'arabic', 'arena',\n",
       "       'argentinetango', 'art', 'audiobook', 'author', 'avantgarde',\n",
       "       'axé', 'baile', 'balkan', 'beats', 'bigroom', 'black', 'bluegrass',\n",
       "       'blues', 'bollywood', 'bossa', 'brazilian', 'breakbeat', 'breaks',\n",
       "       'broadway', 'cantautori', 'cantopop', 'canzone', 'caribbean',\n",
       "       'caucasian', 'celtic', 'chamber', 'chanson', 'children', 'chill',\n",
       "       'chinese', 'choral', 'christian', 'christmas', 'classical',\n",
       "       'classicmetal', 'club', 'colombian', 'comedy', 'conjazz',\n",
       "       'contemporary', 'country', 'cuban', 'dance', 'dancehall', 'dark',\n",
       "       'death', 'deep', 'deutschrock', 'dirty', 'disco', 'dnb',\n",
       "       'documentary', 'downbeat', 'downtempo', 'drum', 'dub', 'dubstep',\n",
       "       'eastern', 'easy', 'electronic', 'electropop', 'emo', 'entehno',\n",
       "       'epicmetal', 'estrada', 'ethnic', 'eurofolk', 'european',\n",
       "       'experimental', 'extrememetal', 'fado', 'fairytail', 'film',\n",
       "       'fitness', 'flamenco', 'folk', 'folklore', 'folkmetal', 'folkrock',\n",
       "       'folktronica', 'forró', 'frankreich', 'french', 'funk', 'future',\n",
       "       'gangsta', 'garage', 'german', 'ghazal', 'gitarre', 'glitch',\n",
       "       'gospel', 'gothic', 'grime', 'grunge', 'gypsy', 'handsup',\n",
       "       \"hard'n'heavy\", 'hardcore', 'hardstyle', 'hardtechno', 'hiphop',\n",
       "       'historisch', 'holiday', 'horror', 'house', 'hymn', 'idm',\n",
       "       'indian', 'indie', 'indipop', 'industrial', 'inspirational',\n",
       "       'instrumental', 'international', 'irish', 'jam', 'japanese',\n",
       "       'jazz', 'jewish', 'jpop', 'jungle', 'k-pop', 'karadeniz',\n",
       "       'karaoke', 'kayokyoku', 'korean', 'laiko', 'latino', 'leftfield',\n",
       "       'local', 'lounge', 'loungeelectronic', 'lovers', 'malaysian',\n",
       "       'mandopop', 'marschmusik', 'meditative', 'mediterranean',\n",
       "       'melodic', 'metal', 'metalcore', 'mexican', 'middle', 'minimal',\n",
       "       'miscellaneous', 'modern', 'mood', 'mpb', 'muslim', 'native',\n",
       "       'neoklassik', 'neue', 'new', 'newage', 'newwave', 'nu', 'nujazz',\n",
       "       'numetal', 'oceania', 'old', 'opera', 'orchestral', 'other',\n",
       "       'piano', 'podcasts', 'pop', 'popdance', 'popelectronic',\n",
       "       'popeurodance', 'poprussian', 'post', 'posthardcore', 'postrock',\n",
       "       'power', 'progmetal', 'progressive', 'psychedelic', 'punjabi',\n",
       "       'punk', 'quebecois', 'ragga', 'ram', 'rancheras', 'rap', 'rave',\n",
       "       'reggae', 'reggaeton', 'regional', 'relax', 'religious', 'retro',\n",
       "       'rhythm', 'rnb', 'rnr', 'rock', 'rockabilly', 'rockother',\n",
       "       'romance', 'roots', 'ruspop', 'rusrap', 'rusrock', 'russian',\n",
       "       'salsa', 'samba', 'scenic', 'schlager', 'self', 'sertanejo',\n",
       "       'shanson', 'shoegazing', 'showtunes', 'singer', 'ska', 'skarock',\n",
       "       'slow', 'smooth', 'soft', 'soul', 'soulful', 'sound', 'soundtrack',\n",
       "       'southern', 'specialty', 'speech', 'spiritual', 'sport',\n",
       "       'stonerrock', 'surf', 'swing', 'synthpop', 'synthrock',\n",
       "       'sängerportrait', 'tango', 'tanzorchester', 'taraftar', 'tatar',\n",
       "       'tech', 'techno', 'teen', 'thrash', 'top', 'traditional',\n",
       "       'tradjazz', 'trance', 'tribal', 'triphop', 'tropical', 'türkçe',\n",
       "       'ukrrock', 'unknown', 'urban', 'uzbek', 'variété', 'vi',\n",
       "       'videogame', 'vocal', 'western', 'world', 'worldbeat'],\n",
       "      dtype=object)"
      ]
     },
     "metadata": {},
     "output_type": "display_data"
    }
   ],
   "source": [
    "# Проверка на неявные дубликаты\n",
    "unique_genres = df['genre'].sort_values()\n",
    "display(unique_genres.unique())"
   ]
  },
  {
   "cell_type": "markdown",
   "metadata": {},
   "source": [
    "### Корректность данных"
   ]
  },
  {
   "cell_type": "markdown",
   "metadata": {},
   "source": [
    "При просмотре значений в пункте с [выводом информации](#info) был обнаружен шестизначный `user_id` среди восьмизначных. Предполагается, что длина всех user_id должна быть одинаковой, восьмизначной. Необходимо уточнить у разработчика принцип присваивания user_id, но так как такая возможность отсутствует, проверяем длины user_id."
   ]
  },
  {
   "cell_type": "code",
   "execution_count": 20,
   "metadata": {},
   "outputs": [
    {
     "name": "stdout",
     "output_type": "stream",
     "text": [
      "В массиве при длине user_id равной 0 количество строк: 0\n",
      "В массиве при длине user_id равной 1 количество строк: 0\n",
      "В массиве при длине user_id равной 2 количество строк: 0\n",
      "В массиве при длине user_id равной 3 количество строк: 0\n",
      "В массиве при длине user_id равной 4 количество строк: 2\n",
      "В массиве при длине user_id равной 5 количество строк: 11\n",
      "В массиве при длине user_id равной 6 количество строк: 241\n",
      "В массиве при длине user_id равной 7 количество строк: 3591\n",
      "В массиве при длине user_id равной 8 количество строк: 57408\n",
      "В массиве при длине user_id равной 9 количество строк: 0\n"
     ]
    }
   ],
   "source": [
    "for id_length in range(10):\n",
    "    counter = 0\n",
    "    for index in range(61253):\n",
    "        if len(df.loc[index,'user_id']) == id_length:\n",
    "            counter += 1\n",
    "    print('В массиве при длине user_id равной', id_length, 'количество строк:', counter)\n"
   ]
  },
  {
   "cell_type": "markdown",
   "metadata": {},
   "source": [
    "Распределение похоже на случайную выборку натуральных чисел в диапазоне от 4-значных до 8-значных: каждое следующее количество увеличивается почти в 16 раз, что достоверно для шестнадцатиричной системы счисления. Ошибок в данных нет."
   ]
  },
  {
   "cell_type": "code",
   "execution_count": 21,
   "metadata": {},
   "outputs": [
    {
     "data": {
      "text/html": [
       "<div>\n",
       "<style scoped>\n",
       "    .dataframe tbody tr th:only-of-type {\n",
       "        vertical-align: middle;\n",
       "    }\n",
       "\n",
       "    .dataframe tbody tr th {\n",
       "        vertical-align: top;\n",
       "    }\n",
       "\n",
       "    .dataframe thead th {\n",
       "        text-align: right;\n",
       "    }\n",
       "</style>\n",
       "<table border=\"1\" class=\"dataframe\">\n",
       "  <thead>\n",
       "    <tr style=\"text-align: right;\">\n",
       "      <th></th>\n",
       "      <th>len_user_id</th>\n",
       "      <th>user_id</th>\n",
       "    </tr>\n",
       "  </thead>\n",
       "  <tbody>\n",
       "    <tr>\n",
       "      <td>0</td>\n",
       "      <td>8</td>\n",
       "      <td>57408</td>\n",
       "    </tr>\n",
       "    <tr>\n",
       "      <td>1</td>\n",
       "      <td>7</td>\n",
       "      <td>3591</td>\n",
       "    </tr>\n",
       "    <tr>\n",
       "      <td>2</td>\n",
       "      <td>6</td>\n",
       "      <td>241</td>\n",
       "    </tr>\n",
       "    <tr>\n",
       "      <td>3</td>\n",
       "      <td>5</td>\n",
       "      <td>11</td>\n",
       "    </tr>\n",
       "    <tr>\n",
       "      <td>4</td>\n",
       "      <td>4</td>\n",
       "      <td>2</td>\n",
       "    </tr>\n",
       "  </tbody>\n",
       "</table>\n",
       "</div>"
      ],
      "text/plain": [
       "   len_user_id  user_id\n",
       "0            8    57408\n",
       "1            7     3591\n",
       "2            6      241\n",
       "3            5       11\n",
       "4            4        2"
      ]
     },
     "execution_count": 21,
     "metadata": {},
     "output_type": "execute_result"
    }
   ],
   "source": [
    "# вариант подсчета 🐼\n",
    "\n",
    "df['len_user_id'] = df['user_id'].str.count(r'[0-9A-Za-z]')\n",
    "(\n",
    "    df\n",
    "    .groupby('len_user_id')['user_id'].count()\n",
    "    .sort_values(ascending = False)\n",
    "    .reset_index()\n",
    ")\n",
    "\n",
    "# можно измерить скорость выполнения кода 😉"
   ]
  },
  {
   "cell_type": "markdown",
   "metadata": {
    "id": "jz6a9-7HQUDd"
   },
   "source": [
    "**Выводы**\n",
    "\n",
    "Предобработка обнаружила три проблемы в данных:\n",
    "\n",
    "- нарушения в стиле заголовков,\n",
    "- пропущенные значения,\n",
    "- дубликаты — явные и неявные.\n",
    "\n",
    "Вы исправили заголовки, чтобы упростить работу с таблицей. Без дубликатов исследование станет более точным.\n",
    "\n",
    "Пропущенные значения вы заменили на `'unknown'`. Ещё предстоит увидеть, не повредят ли исследованию пропуски в колонке `genre`.\n",
    "\n",
    "Теперь можно перейти к проверке гипотез. "
   ]
  },
  {
   "cell_type": "markdown",
   "metadata": {
    "id": "WttZHXH0SqKk"
   },
   "source": [
    "## Проверка гипотез"
   ]
  },
  {
   "cell_type": "markdown",
   "metadata": {
    "id": "Im936VVi_Zcu"
   },
   "source": [
    "### Сравнение поведения пользователей двух столиц"
   ]
  },
  {
   "cell_type": "markdown",
   "metadata": {
    "id": "nwt_MuaL_Zcu"
   },
   "source": [
    "Первая гипотеза утверждает, что пользователи по-разному слушают музыку в Москве и Санкт-Петербурге. Проверьте это предположение по данным о трёх днях недели — понедельнике, среде и пятнице. Для этого:\n",
    "\n",
    "* Разделите пользователей Москвы и Санкт-Петербурга\n",
    "* Сравните, сколько треков послушала каждая группа пользователей в понедельник, среду и пятницу.\n"
   ]
  },
  {
   "cell_type": "markdown",
   "metadata": {
    "id": "8Dw_YMmT_Zcu"
   },
   "source": [
    "Для тренировки сначала выполните каждый из расчётов по отдельности. \n",
    "\n",
    "Оцените активность пользователей в каждом городе. Сгруппируйте данные по городу и посчитайте прослушивания в каждой группе.\n",
    "\n"
   ]
  },
  {
   "cell_type": "code",
   "execution_count": 21,
   "metadata": {
    "id": "0_Qs96oh_Zcu"
   },
   "outputs": [
    {
     "name": "stdout",
     "output_type": "stream",
     "text": [
      "city\n",
      "Moscow              42741\n",
      "Saint-Petersburg    18512\n",
      "Name: track, dtype: int64\n"
     ]
    }
   ],
   "source": [
    "# Подсчёт прослушиваний в каждом городе\n",
    "tracks_in_city = df.groupby('city').count()\n",
    "print(tracks_in_city['track'])"
   ]
  },
  {
   "cell_type": "markdown",
   "metadata": {
    "id": "dzli3w8o_Zcu"
   },
   "source": [
    "В Москве прослушиваний больше, чем в Петербурге. Из этого не следует, что московские пользователи чаще слушают музыку. Просто самих пользователей в Москве больше.\n",
    "\n",
    "Теперь сгруппируйте данные по дню недели и подсчитайте прослушивания в понедельник, среду и пятницу. Учтите, что в данных есть информация только о прослушиваниях только за эти дни.\n"
   ]
  },
  {
   "cell_type": "markdown",
   "metadata": {
    "id": "cC2tNrlL_Zcu"
   },
   "source": [
    "В среднем пользователи из двух городов менее активны по средам. Но картина может измениться, если рассмотреть каждый город в отдельности."
   ]
  },
  {
   "cell_type": "code",
   "execution_count": 22,
   "metadata": {
    "id": "uZMKjiJz_Zcu"
   },
   "outputs": [
    {
     "name": "stdout",
     "output_type": "stream",
     "text": [
      "day\n",
      "Friday       21840\n",
      "Monday       21354\n",
      "Wednesday    18059\n",
      "Name: track, dtype: int64\n"
     ]
    },
    {
     "data": {
      "text/plain": [
       "Text(0.5, 1.0, 'Количество прослушиваний по дням недели')"
      ]
     },
     "execution_count": 22,
     "metadata": {},
     "output_type": "execute_result"
    },
    {
     "data": {
      "image/png": "[encoded data removed]",
      "text/plain": [
       "<Figure size 432x288 with 1 Axes>"
      ]
     },
     "metadata": {
      "needs_background": "light"
     },
     "output_type": "display_data"
    }
   ],
   "source": [
    "# Подсчёт прослушиваний в каждый из трёх дней\n",
    "days = ['Monday', 'Wednesday', 'Friday']\n",
    "print(df.groupby('day').count()['track'])\n",
    "sns.countplot(df['day']).set_title('Количество прослушиваний по дням недели', pad=15)\n",
    "    "
   ]
  },
  {
   "cell_type": "markdown",
   "metadata": {
    "id": "POzs8bGa_Zcu"
   },
   "source": [
    "Вы видели, как работает группировка по городу и по дням недели. Теперь напишите функцию, которая объединит два эти расчёта.\n",
    "\n",
    "Создайте функцию `number_tracks()`, которая посчитает прослушивания для заданного дня и города. Ей понадобятся два параметра:\n",
    "* день недели,\n",
    "* название города.\n",
    "\n",
    "В функции сохраните в переменную строки исходной таблицы, у которых значение:\n",
    "  * в колонке `day` равно параметру `day`,\n",
    "  * в колонке `city` равно параметру `city`.\n",
    "\n",
    "Для этого примените последовательную фильтрацию с логической индексацией.\n",
    "\n",
    "Затем посчитайте значения в столбце `user_id` получившейся таблицы. Результат сохраните в новую переменную. Верните эту переменную из функции."
   ]
  },
  {
   "cell_type": "code",
   "execution_count": 23,
   "metadata": {
    "id": "Nz3GdQB1_Zcu"
   },
   "outputs": [],
   "source": [
    "# <создание функции number_tracks()>\n",
    "def number_tracks(day, city):\n",
    "    track_list = df[df['day'] == day]\n",
    "    track_list = track_list[track_list['city'] == city]\n",
    "    track_list_count = track_list['user_id'].count()\n",
    "    return track_list_count"
   ]
  },
  {
   "cell_type": "markdown",
   "metadata": {
    "id": "ytf7xFrFJQ2r"
   },
   "source": [
    "Вызовите `number_tracks()` шесть раз, меняя значение параметров — так, чтобы получить данные для каждого города в каждый из трёх дней."
   ]
  },
  {
   "cell_type": "code",
   "execution_count": 24,
   "metadata": {
    "id": "rJcRATNQ_Zcu"
   },
   "outputs": [
    {
     "name": "stdout",
     "output_type": "stream",
     "text": [
      "В городе Saint-Petersburg в Monday количество прослушиваний: 5614\n",
      "В городе Saint-Petersburg в Wednesday количество прослушиваний: 7003\n",
      "В городе Saint-Petersburg в Friday количество прослушиваний: 5895\n",
      "В городе Moscow в Monday количество прослушиваний: 15740\n",
      "В городе Moscow в Wednesday количество прослушиваний: 11056\n",
      "В городе Moscow в Friday количество прослушиваний: 15945\n"
     ]
    }
   ],
   "source": [
    "cities = list(df['city'].unique()) #получение списков городов и дней недели\n",
    "days = list(df['day'].unique())\n",
    "days.insert(0, days[-1]) #меняем местами дни недели в правильном порядке\n",
    "days.pop()\n",
    "\n",
    "for city_value in cities:\n",
    "    for day_value in days:\n",
    "        print('В городе', city_value, 'в', day_value, 'количество прослушиваний:', number_tracks(day_value, city_value))"
   ]
  },
  {
   "cell_type": "markdown",
   "metadata": {
    "id": "7QXffbO-_Zcu"
   },
   "source": [
    "Создайте c помощью конструктора `pd.DataFrame` таблицу, где\n",
    "* названия колонок — `['city', 'monday', 'wednesday', 'friday']`;\n",
    "* данные — результаты, которые вы получили с помощью `number_tracks`."
   ]
  },
  {
   "cell_type": "code",
   "execution_count": 31,
   "metadata": {
    "id": "APAcLpOr_Zcu"
   },
   "outputs": [
    {
     "data": {
      "text/html": [
       "<div>\n",
       "<style scoped>\n",
       "    .dataframe tbody tr th:only-of-type {\n",
       "        vertical-align: middle;\n",
       "    }\n",
       "\n",
       "    .dataframe tbody tr th {\n",
       "        vertical-align: top;\n",
       "    }\n",
       "\n",
       "    .dataframe thead th {\n",
       "        text-align: right;\n",
       "    }\n",
       "</style>\n",
       "<table border=\"1\" class=\"dataframe\">\n",
       "  <thead>\n",
       "    <tr style=\"text-align: right;\">\n",
       "      <th></th>\n",
       "      <th>monday</th>\n",
       "      <th>wednesday</th>\n",
       "      <th>friday</th>\n",
       "    </tr>\n",
       "  </thead>\n",
       "  <tbody>\n",
       "    <tr>\n",
       "      <td>Saint-Petersburg</td>\n",
       "      <td>5614</td>\n",
       "      <td>7003</td>\n",
       "      <td>5895</td>\n",
       "    </tr>\n",
       "    <tr>\n",
       "      <td>Moscow</td>\n",
       "      <td>15740</td>\n",
       "      <td>11056</td>\n",
       "      <td>15945</td>\n",
       "    </tr>\n",
       "  </tbody>\n",
       "</table>\n",
       "</div>"
      ],
      "text/plain": [
       "                  monday  wednesday  friday\n",
       "Saint-Petersburg    5614       7003    5895\n",
       "Moscow             15740      11056   15945"
      ]
     },
     "metadata": {},
     "output_type": "display_data"
    },
    {
     "data": {
      "text/plain": [
       "Text(0.5, 1, 'Количество прослушиваний в городах в зависимости от дня недели')"
      ]
     },
     "execution_count": 31,
     "metadata": {},
     "output_type": "execute_result"
    },
    {
     "data": {
      "image/png": "[encoded data removed]",
      "text/plain": [
       "<Figure size 432x288 with 2 Axes>"
      ]
     },
     "metadata": {
      "needs_background": "light"
     },
     "output_type": "display_data"
    }
   ],
   "source": [
    "# Таблица с результатами\n",
    "track_by_day_and_city_data = {'monday': {cities[0]: number_tracks(days[0], cities[0]), cities[1]: number_tracks(days[0], cities[1])},\n",
    "                              'wednesday': {cities[0]: number_tracks(days[1], cities[0]), cities[1]: number_tracks(days[1], cities[1])},\n",
    "                              'friday': {cities[0]: number_tracks(days[2], cities[0]), cities[1]: number_tracks(days[2], cities[1])},\n",
    "                             }\n",
    "city_day_frame = pd.DataFrame(track_by_day_and_city_data)\n",
    "display(city_day_frame)\n",
    "sns.heatmap(city_day_frame, cmap=\"Blues\").set_title('Количество прослушиваний в городах в зависимости от дня недели', pad=15)"
   ]
  },
  {
   "cell_type": "markdown",
   "metadata": {
    "id": "-EgPIHYu_Zcu"
   },
   "source": [
    "**Выводы**\n",
    "\n",
    "Данные показывают разницу поведения пользователей:\n",
    "\n",
    "- В Москве пик прослушиваний приходится на понедельник и пятницу, а в среду заметен спад.\n",
    "- В Петербурге, наоборот, больше слушают музыку по средам. Активность в понедельник и пятницу здесь почти в равной мере уступает среде.\n",
    "\n",
    "Значит, данные говорят в пользу первой гипотезы."
   ]
  },
  {
   "cell_type": "markdown",
   "metadata": {
    "id": "atZAxtq4_Zcu"
   },
   "source": [
    "### Музыка в начале и в конце недели"
   ]
  },
  {
   "cell_type": "markdown",
   "metadata": {
    "id": "eXrQqXFH_Zcu"
   },
   "source": [
    "Согласно второй гипотезе, утром в понедельник в Москве преобладают одни жанры, а в Петербурге — другие. Так же и вечером пятницы преобладают разные жанры — в зависимости от города."
   ]
  },
  {
   "cell_type": "markdown",
   "metadata": {
    "id": "S8UcW6Hw_Zcu"
   },
   "source": [
    "Сохраните таблицы с данными в две переменные:\n",
    "* по Москве — в `moscow_general`;\n",
    "* по Санкт-Петербургу — в `spb_general`."
   ]
  },
  {
   "cell_type": "code",
   "execution_count": 32,
   "metadata": {
    "id": "qeaFfM_P_Zcu"
   },
   "outputs": [],
   "source": [
    "# получение таблицы moscow_general из тех строк таблицы df, \n",
    "# для которых значение в столбце 'city' равно 'Moscow'\n",
    "moscow_general = df[df['city'] == 'Moscow']"
   ]
  },
  {
   "cell_type": "code",
   "execution_count": 33,
   "metadata": {
    "id": "ORaVRKto_Zcu"
   },
   "outputs": [],
   "source": [
    "# получение таблицы spb_general из тех строк таблицы df,\n",
    "# для которых значение в столбце 'city' равно 'Saint-Petersburg'\n",
    "spb_general = df[df['city'] == 'Saint-Petersburg']"
   ]
  },
  {
   "cell_type": "markdown",
   "metadata": {
    "id": "MEJV-CX2_Zcu"
   },
   "source": [
    "Создайте функцию `genre_weekday()` с четырьмя параметрами:\n",
    "* таблица (датафрейм) с данными,\n",
    "* день недели,\n",
    "* начальная временная метка в формате 'hh:mm', \n",
    "* последняя временная метка в формате 'hh:mm'.\n",
    "\n",
    "Функция должна вернуть информацию о топ-10 жанров тех треков, которые прослушивали в указанный день, в промежутке между двумя отметками времени."
   ]
  },
  {
   "cell_type": "code",
   "execution_count": 34,
   "metadata": {
    "id": "laJT9BYl_Zcu"
   },
   "outputs": [],
   "source": [
    "def genre_weekday(table, day, time1, time2):\n",
    "    genre_df = table[table['day'] == day]\n",
    "    genre_df = genre_df[genre_df['time'] >= time1]\n",
    "    genre_df = genre_df[genre_df['time'] <= time2]\n",
    "    genre_df_count = genre_df.groupby('genre').count()['user_id']\n",
    "    genre_df_sorted = genre_df_count.sort_values(ascending=False)\n",
    "    return genre_df_sorted.head(10)"
   ]
  },
  {
   "cell_type": "markdown",
   "metadata": {
    "id": "la2s2_PF_Zcu"
   },
   "source": [
    "Cравните результаты функции `genre_weekday()` для Москвы и Санкт-Петербурга в понедельник утром (с 7:00 до 11:00) и в пятницу вечером (с 17:00 до 23:00):"
   ]
  },
  {
   "cell_type": "code",
   "execution_count": 35,
   "metadata": {
    "id": "yz7itPUQ_Zcu"
   },
   "outputs": [
    {
     "data": {
      "text/plain": [
       "genre\n",
       "pop            781\n",
       "dance          549\n",
       "electronic     480\n",
       "rock           474\n",
       "hiphop         286\n",
       "ruspop         186\n",
       "world          181\n",
       "rusrap         175\n",
       "alternative    164\n",
       "unknown        161\n",
       "Name: user_id, dtype: int64"
      ]
     },
     "execution_count": 35,
     "metadata": {},
     "output_type": "execute_result"
    }
   ],
   "source": [
    "# вызов функции для утра понедельника в Москве (вместо df — таблица moscow_general)\n",
    "# объекты, хранящие время, являются строками и сравниваются как строки\n",
    "# пример вызова: genre_weekday(moscow_general, 'Monday', '07:00', '11:00')\n",
    "genre_weekday(moscow_general, 'Monday', '07:00', '11:00')"
   ]
  },
  {
   "cell_type": "code",
   "execution_count": 36,
   "metadata": {
    "id": "kwUcHPdy_Zcu"
   },
   "outputs": [
    {
     "data": {
      "text/plain": [
       "genre\n",
       "pop            218\n",
       "dance          182\n",
       "rock           162\n",
       "electronic     147\n",
       "hiphop          80\n",
       "ruspop          64\n",
       "alternative     58\n",
       "rusrap          55\n",
       "jazz            44\n",
       "classical       40\n",
       "Name: user_id, dtype: int64"
      ]
     },
     "execution_count": 36,
     "metadata": {},
     "output_type": "execute_result"
    }
   ],
   "source": [
    "# вызов функции для утра понедельника в Петербурге (вместо df — таблица spb_general)\n",
    "genre_weekday(spb_general, 'Monday', '07:00', '11:00')"
   ]
  },
  {
   "cell_type": "code",
   "execution_count": 37,
   "metadata": {
    "id": "EzXVRE1o_Zcu"
   },
   "outputs": [
    {
     "data": {
      "text/plain": [
       "genre\n",
       "pop            713\n",
       "rock           517\n",
       "dance          495\n",
       "electronic     482\n",
       "hiphop         273\n",
       "world          208\n",
       "ruspop         170\n",
       "classical      163\n",
       "alternative    163\n",
       "rusrap         142\n",
       "Name: user_id, dtype: int64"
      ]
     },
     "execution_count": 37,
     "metadata": {},
     "output_type": "execute_result"
    }
   ],
   "source": [
    "# вызов функции для вечера пятницы в Москве\n",
    "genre_weekday(moscow_general, 'Friday', '17:00', '23:00')"
   ]
  },
  {
   "cell_type": "code",
   "execution_count": 38,
   "metadata": {
    "id": "JZaEKu5v_Zcu"
   },
   "outputs": [
    {
     "data": {
      "text/plain": [
       "genre\n",
       "pop            713\n",
       "rock           517\n",
       "dance          495\n",
       "electronic     482\n",
       "hiphop         273\n",
       "world          208\n",
       "ruspop         170\n",
       "classical      163\n",
       "alternative    163\n",
       "rusrap         142\n",
       "Name: user_id, dtype: int64"
      ]
     },
     "execution_count": 38,
     "metadata": {},
     "output_type": "execute_result"
    }
   ],
   "source": [
    "# вызов функции для вечера пятницы в Петербурге\n",
    "genre_weekday(moscow_general, 'Friday', '17:00', '23:00')"
   ]
  },
  {
   "cell_type": "markdown",
   "metadata": {
    "id": "wrCe4MNX_Zcu"
   },
   "source": [
    "**Выводы**\n",
    "\n",
    "Если сравнить топ-10 жанров в понедельник утром, можно сделать такие выводы:\n",
    "\n",
    "1. В Москве и Петербурге слушают похожую музыку. Единственное отличие — в московский рейтинг вошёл жанр “world”, а в петербургский — джаз и классика.\n",
    "\n",
    "2. В Москве пропущенных значений оказалось так много, что значение `'unknown'` заняло десятое место среди самых популярных жанров. Значит, пропущенные значения занимают существенную долю в данных и угрожают достоверности исследования.\n",
    "\n",
    "Вечер пятницы не меняет эту картину. Некоторые жанры поднимаются немного выше, другие спускаются, но в целом топ-10 остаётся тем же самым.\n",
    "\n",
    "Таким образом, вторая гипотеза подтвердилась лишь частично:\n",
    "* Пользователи слушают похожую музыку в начале недели и в конце.\n",
    "* Разница между Москвой и Петербургом не слишком выражена. В Москве чаще слушают русскую популярную музыку, в Петербурге — джаз.\n",
    "\n",
    "Однако пропуски в данных ставят под сомнение этот результат. В Москве их так много, что рейтинг топ-10 мог бы выглядеть иначе, если бы не утерянные  данные о жанрах."
   ]
  },
  {
   "cell_type": "markdown",
   "metadata": {
    "id": "JolODAqr_Zcu"
   },
   "source": [
    "### Жанровые предпочтения в Москве и Петербурге\n",
    "\n",
    "Гипотеза: Петербург — столица рэпа, музыку этого жанра там слушают чаще, чем в Москве.  А Москва — город контрастов, в котором, тем не менее, преобладает поп-музыка."
   ]
  },
  {
   "cell_type": "markdown",
   "metadata": {
    "id": "DlegSvaT_Zcu"
   },
   "source": [
    "Сгруппируйте таблицу `moscow_general` по жанру и посчитайте прослушивания треков каждого жанра методом `count()`. Затем отсортируйте результат в порядке убывания и сохраните его в таблице `moscow_genres`."
   ]
  },
  {
   "cell_type": "code",
   "execution_count": 39,
   "metadata": {
    "id": "r19lIPke_Zcu"
   },
   "outputs": [],
   "source": [
    "moscow_genres = moscow_general.groupby('genre').count()['user_id'].sort_values(ascending=False)"
   ]
  },
  {
   "cell_type": "markdown",
   "metadata": {
    "id": "6kMuomxTiIr8"
   },
   "source": [
    "Выведите на экран первые десять строк `moscow_genres`:"
   ]
  },
  {
   "cell_type": "code",
   "execution_count": 40,
   "metadata": {
    "id": "WhCSooF8_Zcv"
   },
   "outputs": [
    {
     "name": "stdout",
     "output_type": "stream",
     "text": [
      "genre\n",
      "pop            5892\n",
      "dance          4435\n",
      "rock           3965\n",
      "electronic     3786\n",
      "hiphop         2096\n",
      "classical      1616\n",
      "world          1432\n",
      "alternative    1380\n",
      "ruspop         1372\n",
      "rusrap         1161\n",
      "Name: user_id, dtype: int64\n"
     ]
    }
   ],
   "source": [
    "# просмотр первых 10 строк moscow_genres\n",
    "print(moscow_genres.head(10))"
   ]
  },
  {
   "cell_type": "markdown",
   "metadata": {
    "id": "cnPG2vnN_Zcv"
   },
   "source": [
    "Теперь повторите то же и для Петербурга.\n",
    "\n",
    "Сгруппируйте таблицу `spb_general` по жанру. Посчитайте прослушивания треков каждого жанра. Результат отсортируйте в порядке убывания и сохраните в таблице `spb_genres`:\n"
   ]
  },
  {
   "cell_type": "code",
   "execution_count": 41,
   "metadata": {
    "id": "gluLIpE7_Zcv"
   },
   "outputs": [],
   "source": [
    "# одной строкой: группировка таблицы spb_general по столбцу 'genre', \n",
    "# подсчёт числа значений 'genre' в этой группировке методом count(), \n",
    "# сортировка получившегося Series в порядке убывания и сохранение в spb_genres\n",
    "spb_genres = spb_general.groupby('genre').count()['user_id'].sort_values(ascending=False)"
   ]
  },
  {
   "cell_type": "markdown",
   "metadata": {
    "id": "5Doha_ODgyQ8"
   },
   "source": [
    "Выведите на экран первые десять строк `spb_genres`:"
   ]
  },
  {
   "cell_type": "code",
   "execution_count": 42,
   "metadata": {
    "id": "uaGJHjVU_Zcv"
   },
   "outputs": [
    {
     "name": "stdout",
     "output_type": "stream",
     "text": [
      "genre\n",
      "pop            2431\n",
      "dance          1932\n",
      "rock           1879\n",
      "electronic     1737\n",
      "hiphop          960\n",
      "alternative     650\n",
      "classical       646\n",
      "rusrap          564\n",
      "ruspop          538\n",
      "world           515\n",
      "Name: user_id, dtype: int64\n"
     ]
    }
   ],
   "source": [
    "# просмотр первых 10 строк spb_genres\n",
    "print(spb_genres.head(10))"
   ]
  },
  {
   "cell_type": "markdown",
   "metadata": {},
   "source": [
    "Для сравнения частоты прослушивания русского рэпа между двумя городами необходимо определить долю жанра от общего числа прослушиваний."
   ]
  },
  {
   "cell_type": "code",
   "execution_count": 43,
   "metadata": {},
   "outputs": [
    {
     "name": "stdout",
     "output_type": "stream",
     "text": [
      "Доля русского рэпа в Санкт-Петербурге: 0.030466724286949007\n",
      "Доля русского рэпа в Москве: 0.027163613392293114\n",
      "В Санкт-Петербурге русский рэп популярнее на 12.160057084279714 %\n"
     ]
    }
   ],
   "source": [
    "#находим долю русского рэпа от общего числа прослушиваний\n",
    "spb_rusrap = spb_genres['rusrap'] / spb_genres.sum()\n",
    "moscow_rusrap = moscow_genres['rusrap'] / moscow_genres.sum()\n",
    "print('Доля русского рэпа в Санкт-Петербурге:', spb_rusrap)\n",
    "print('Доля русского рэпа в Москве:', moscow_rusrap)\n",
    "\n",
    "#считаем разницу в процентах, где 100% у Москвы\n",
    "print('В Санкт-Петербурге русский рэп популярнее на', 100 / moscow_rusrap * spb_rusrap - 100, '%')"
   ]
  },
  {
   "cell_type": "markdown",
   "metadata": {
    "id": "RY51YJYu_Zcv"
   },
   "source": [
    "**Выводы**"
   ]
  },
  {
   "cell_type": "markdown",
   "metadata": {
    "id": "nVhnJEm__Zcv"
   },
   "source": [
    "Гипотеза частично подтвердилась:\n",
    "* Поп-музыка — самый популярный жанр в Москве, как и предполагала гипотеза. Более того, в топ-10 жанров встречается близкий жанр — русская популярная музыка.\n",
    "* Вопреки ожиданиям, рэп незначительно популярнее в Петербурге, разница несущественная. \n"
   ]
  },
  {
   "cell_type": "markdown",
   "metadata": {
    "id": "ykKQ0N65_Zcv"
   },
   "source": [
    "## Итоги исследования"
   ]
  },
  {
   "cell_type": "markdown",
   "metadata": {
    "id": "tjUwbHb3_Zcv"
   },
   "source": [
    "Вы проверили три гипотезы и установили:\n",
    "\n",
    "1. День недели по-разному влияет на активность пользователей в Москве и Петербурге. \n",
    "\n",
    "Первая гипотеза полностью подтвердилась.\n",
    "\n",
    "2. Музыкальные предпочтения не сильно меняются в течение недели — будь то Москва или Петербург. Небольшие различия заметны в начале недели, по понедельникам:\n",
    "* в Москве слушают музыку жанра “world”,\n",
    "* в Петербурге — джаз и классику.\n",
    "\n",
    "Таким образом, вторая гипотеза подтвердилась лишь отчасти. Этот результат мог оказаться иным, если бы не пропуски в данных.\n",
    "\n",
    "3. Во вкусах пользователей Москвы и Петербурга больше общего чем различий. Вопреки ожиданиям, предпочтения жанров в Петербурге напоминают московские.\n",
    "\n",
    "Третья гипотеза не подтвердилась. Если различия в предпочтениях и существуют, на основной массе пользователей они незаметны."
   ]
  },
  {
   "cell_type": "code",
   "execution_count": null,
   "metadata": {},
   "outputs": [],
   "source": []
  }
 ],
 "metadata": {
  "ExecuteTimeLog": [
   {
    "duration": 437,
    "start_time": "2022-02-07T10:30:57.269Z"
   },
   {
    "duration": 722,
    "start_time": "2022-02-07T10:31:41.252Z"
   },
   {
    "duration": 200,
    "start_time": "2022-02-07T10:31:44.069Z"
   },
   {
    "duration": 266,
    "start_time": "2022-02-07T10:48:44.765Z"
   },
   {
    "duration": 15,
    "start_time": "2022-02-07T10:49:05.758Z"
   },
   {
    "duration": 31,
    "start_time": "2022-02-07T10:49:23.920Z"
   },
   {
    "duration": 3,
    "start_time": "2022-02-07T10:50:38.954Z"
   },
   {
    "duration": 214,
    "start_time": "2022-02-07T10:50:38.961Z"
   },
   {
    "duration": 16,
    "start_time": "2022-02-07T10:50:39.178Z"
   },
   {
    "duration": 6,
    "start_time": "2022-02-07T11:33:18.391Z"
   },
   {
    "duration": 357,
    "start_time": "2022-02-07T11:35:28.276Z"
   },
   {
    "duration": 7,
    "start_time": "2022-02-07T11:36:01.400Z"
   },
   {
    "duration": 5,
    "start_time": "2022-02-07T11:36:26.971Z"
   },
   {
    "duration": 6,
    "start_time": "2022-02-07T11:36:51.440Z"
   },
   {
    "duration": 5,
    "start_time": "2022-02-07T11:37:06.261Z"
   },
   {
    "duration": 267,
    "start_time": "2022-02-07T11:37:11.220Z"
   },
   {
    "duration": 5,
    "start_time": "2022-02-07T11:39:59.753Z"
   },
   {
    "duration": 5,
    "start_time": "2022-02-07T11:40:49.782Z"
   },
   {
    "duration": 13,
    "start_time": "2022-02-07T11:41:01.018Z"
   },
   {
    "duration": 5,
    "start_time": "2022-02-07T11:41:15.068Z"
   },
   {
    "duration": 16,
    "start_time": "2022-02-07T12:06:56.994Z"
   },
   {
    "duration": 13,
    "start_time": "2022-02-07T12:09:35.459Z"
   },
   {
    "duration": 13,
    "start_time": "2022-02-07T12:09:36.829Z"
   },
   {
    "duration": 15,
    "start_time": "2022-02-07T12:09:37.854Z"
   },
   {
    "duration": 4,
    "start_time": "2022-02-07T12:09:56.948Z"
   },
   {
    "duration": 174,
    "start_time": "2022-02-07T12:09:57.399Z"
   },
   {
    "duration": 15,
    "start_time": "2022-02-07T12:09:57.576Z"
   },
   {
    "duration": 48,
    "start_time": "2022-02-07T12:09:57.594Z"
   },
   {
    "duration": 15,
    "start_time": "2022-02-07T12:09:57.645Z"
   },
   {
    "duration": 861,
    "start_time": "2022-02-07T12:12:16.120Z"
   },
   {
    "duration": 181,
    "start_time": "2022-02-07T12:12:18.595Z"
   },
   {
    "duration": 25,
    "start_time": "2022-02-07T12:12:20.397Z"
   },
   {
    "duration": 34,
    "start_time": "2022-02-07T12:12:24.663Z"
   },
   {
    "duration": 12,
    "start_time": "2022-02-07T12:12:36.398Z"
   },
   {
    "duration": 27,
    "start_time": "2022-02-07T12:15:01.732Z"
   },
   {
    "duration": 12,
    "start_time": "2022-02-07T12:15:03.876Z"
   },
   {
    "duration": 15,
    "start_time": "2022-02-07T12:15:33.393Z"
   },
   {
    "duration": 15,
    "start_time": "2022-02-07T12:15:50.801Z"
   },
   {
    "duration": 47,
    "start_time": "2022-02-07T12:23:58.010Z"
   },
   {
    "duration": 23,
    "start_time": "2022-02-07T12:29:33.278Z"
   },
   {
    "duration": 31,
    "start_time": "2022-02-07T12:29:44.633Z"
   },
   {
    "duration": 37,
    "start_time": "2022-02-07T12:30:15.034Z"
   },
   {
    "duration": 29,
    "start_time": "2022-02-07T12:30:22.995Z"
   },
   {
    "duration": 8,
    "start_time": "2022-02-07T12:30:23.028Z"
   },
   {
    "duration": 3,
    "start_time": "2022-02-07T12:30:23.048Z"
   },
   {
    "duration": 26,
    "start_time": "2022-02-07T12:30:23.054Z"
   },
   {
    "duration": 7,
    "start_time": "2022-02-07T12:30:23.084Z"
   },
   {
    "duration": 13,
    "start_time": "2022-02-07T12:30:23.094Z"
   },
   {
    "duration": 8,
    "start_time": "2022-02-07T12:30:23.109Z"
   },
   {
    "duration": 15,
    "start_time": "2022-02-07T12:30:23.120Z"
   },
   {
    "duration": 7,
    "start_time": "2022-02-07T12:30:23.138Z"
   },
   {
    "duration": 9,
    "start_time": "2022-02-07T12:30:23.148Z"
   },
   {
    "duration": 11,
    "start_time": "2022-02-07T12:30:23.159Z"
   },
   {
    "duration": 9,
    "start_time": "2022-02-07T12:30:23.172Z"
   },
   {
    "duration": 7,
    "start_time": "2022-02-07T12:30:23.183Z"
   },
   {
    "duration": 7,
    "start_time": "2022-02-07T12:30:23.193Z"
   },
   {
    "duration": 3,
    "start_time": "2022-02-07T12:30:23.233Z"
   },
   {
    "duration": 9,
    "start_time": "2022-02-07T12:30:23.240Z"
   },
   {
    "duration": 16,
    "start_time": "2022-02-07T12:30:23.252Z"
   },
   {
    "duration": 8,
    "start_time": "2022-02-07T12:30:23.270Z"
   },
   {
    "duration": 10,
    "start_time": "2022-02-07T12:30:23.282Z"
   },
   {
    "duration": 9,
    "start_time": "2022-02-07T12:30:23.295Z"
   },
   {
    "duration": 6,
    "start_time": "2022-02-07T12:30:23.306Z"
   },
   {
    "duration": 26,
    "start_time": "2022-02-07T12:30:23.314Z"
   },
   {
    "duration": 7,
    "start_time": "2022-02-07T12:30:23.342Z"
   },
   {
    "duration": 11,
    "start_time": "2022-02-07T12:30:23.352Z"
   },
   {
    "duration": 7,
    "start_time": "2022-02-07T12:30:23.365Z"
   },
   {
    "duration": 8,
    "start_time": "2022-02-07T12:30:23.374Z"
   },
   {
    "duration": 6,
    "start_time": "2022-02-07T12:30:23.385Z"
   },
   {
    "duration": 5,
    "start_time": "2022-02-07T12:30:23.393Z"
   },
   {
    "duration": 31,
    "start_time": "2022-02-07T12:30:23.400Z"
   },
   {
    "duration": 4,
    "start_time": "2022-02-07T12:30:34.141Z"
   },
   {
    "duration": 272,
    "start_time": "2022-02-07T12:30:34.148Z"
   },
   {
    "duration": 17,
    "start_time": "2022-02-07T12:30:34.423Z"
   },
   {
    "duration": 32,
    "start_time": "2022-02-07T12:30:34.443Z"
   },
   {
    "duration": 54,
    "start_time": "2022-02-07T12:30:34.478Z"
   },
   {
    "duration": 26,
    "start_time": "2022-02-07T12:30:34.535Z"
   },
   {
    "duration": 23,
    "start_time": "2022-02-07T12:30:34.564Z"
   },
   {
    "duration": 58,
    "start_time": "2022-02-07T12:30:34.590Z"
   },
   {
    "duration": 34,
    "start_time": "2022-02-07T12:30:34.650Z"
   },
   {
    "duration": 364,
    "start_time": "2022-02-07T12:32:19.736Z"
   },
   {
    "duration": 4,
    "start_time": "2022-02-07T12:32:28.161Z"
   },
   {
    "duration": 181,
    "start_time": "2022-02-07T12:32:28.169Z"
   },
   {
    "duration": 15,
    "start_time": "2022-02-07T12:32:28.353Z"
   },
   {
    "duration": 34,
    "start_time": "2022-02-07T12:32:28.371Z"
   },
   {
    "duration": 31,
    "start_time": "2022-02-07T12:32:28.408Z"
   },
   {
    "duration": 20,
    "start_time": "2022-02-07T12:32:28.442Z"
   },
   {
    "duration": 13,
    "start_time": "2022-02-07T12:32:28.464Z"
   },
   {
    "duration": 74,
    "start_time": "2022-02-07T12:32:28.479Z"
   },
   {
    "duration": 23,
    "start_time": "2022-02-07T12:32:28.556Z"
   },
   {
    "duration": 62,
    "start_time": "2022-02-07T12:32:28.581Z"
   },
   {
    "duration": 329,
    "start_time": "2022-02-07T12:32:33.523Z"
   },
   {
    "duration": 86,
    "start_time": "2022-02-07T12:32:44.986Z"
   },
   {
    "duration": 3,
    "start_time": "2022-02-07T12:33:29.744Z"
   },
   {
    "duration": 179,
    "start_time": "2022-02-07T12:33:29.750Z"
   },
   {
    "duration": 15,
    "start_time": "2022-02-07T12:33:29.933Z"
   },
   {
    "duration": 39,
    "start_time": "2022-02-07T12:33:29.951Z"
   },
   {
    "duration": 43,
    "start_time": "2022-02-07T12:33:29.993Z"
   },
   {
    "duration": 23,
    "start_time": "2022-02-07T12:33:30.038Z"
   },
   {
    "duration": 24,
    "start_time": "2022-02-07T12:33:30.064Z"
   },
   {
    "duration": 64,
    "start_time": "2022-02-07T12:33:30.091Z"
   },
   {
    "duration": 26,
    "start_time": "2022-02-07T12:33:30.158Z"
   },
   {
    "duration": 47,
    "start_time": "2022-02-07T12:33:30.186Z"
   },
   {
    "duration": 99,
    "start_time": "2022-02-07T12:33:30.235Z"
   },
   {
    "duration": 302,
    "start_time": "2022-02-07T12:33:30.337Z"
   },
   {
    "duration": 84,
    "start_time": "2022-02-07T12:33:39.541Z"
   },
   {
    "duration": 74,
    "start_time": "2022-02-07T12:33:43.695Z"
   },
   {
    "duration": 239,
    "start_time": "2022-02-08T06:49:23.993Z"
   },
   {
    "duration": 663,
    "start_time": "2022-02-08T06:49:51.153Z"
   },
   {
    "duration": 171,
    "start_time": "2022-02-08T06:49:51.818Z"
   },
   {
    "duration": 24,
    "start_time": "2022-02-08T06:49:51.991Z"
   },
   {
    "duration": 28,
    "start_time": "2022-02-08T06:49:52.018Z"
   },
   {
    "duration": 17,
    "start_time": "2022-02-08T06:49:52.049Z"
   },
   {
    "duration": 58,
    "start_time": "2022-02-08T06:49:52.068Z"
   },
   {
    "duration": 19,
    "start_time": "2022-02-08T06:49:52.129Z"
   },
   {
    "duration": 59,
    "start_time": "2022-02-08T06:49:52.150Z"
   },
   {
    "duration": 22,
    "start_time": "2022-02-08T06:49:52.212Z"
   },
   {
    "duration": 29,
    "start_time": "2022-02-08T06:49:52.237Z"
   },
   {
    "duration": 134,
    "start_time": "2022-02-08T06:49:52.268Z"
   },
   {
    "duration": 73,
    "start_time": "2022-02-08T06:49:52.404Z"
   },
   {
    "duration": 77,
    "start_time": "2022-02-08T06:49:52.479Z"
   },
   {
    "duration": 10,
    "start_time": "2022-02-08T06:49:56.063Z"
   },
   {
    "duration": 257,
    "start_time": "2022-02-08T06:55:29.836Z"
   },
   {
    "duration": 45,
    "start_time": "2022-02-08T06:55:40.961Z"
   },
   {
    "duration": 3,
    "start_time": "2022-02-08T08:32:06.692Z"
   },
   {
    "duration": 160,
    "start_time": "2022-02-08T08:32:06.697Z"
   },
   {
    "duration": 11,
    "start_time": "2022-02-08T08:32:06.860Z"
   },
   {
    "duration": 35,
    "start_time": "2022-02-08T08:32:06.873Z"
   },
   {
    "duration": 16,
    "start_time": "2022-02-08T08:32:06.911Z"
   },
   {
    "duration": 22,
    "start_time": "2022-02-08T08:32:06.928Z"
   },
   {
    "duration": 18,
    "start_time": "2022-02-08T08:32:06.952Z"
   },
   {
    "duration": 56,
    "start_time": "2022-02-08T08:32:06.972Z"
   },
   {
    "duration": 20,
    "start_time": "2022-02-08T08:32:07.031Z"
   },
   {
    "duration": 24,
    "start_time": "2022-02-08T08:32:07.053Z"
   },
   {
    "duration": 86,
    "start_time": "2022-02-08T08:32:07.079Z"
   },
   {
    "duration": 72,
    "start_time": "2022-02-08T08:32:07.167Z"
   },
   {
    "duration": 69,
    "start_time": "2022-02-08T08:32:07.241Z"
   },
   {
    "duration": 51,
    "start_time": "2022-02-08T08:32:07.312Z"
   },
   {
    "duration": 228,
    "start_time": "2022-02-08T08:32:12.996Z"
   },
   {
    "duration": 194,
    "start_time": "2022-02-08T08:33:22.501Z"
   },
   {
    "duration": 204,
    "start_time": "2022-02-08T08:34:18.560Z"
   },
   {
    "duration": 199,
    "start_time": "2022-02-08T08:34:29.438Z"
   },
   {
    "duration": 357,
    "start_time": "2022-02-08T08:35:07.667Z"
   },
   {
    "duration": 336,
    "start_time": "2022-02-08T09:33:42.664Z"
   },
   {
    "duration": 228,
    "start_time": "2022-02-08T09:34:38.190Z"
   },
   {
    "duration": 594,
    "start_time": "2022-02-08T09:55:55.024Z"
   },
   {
    "duration": 159,
    "start_time": "2022-02-08T09:55:55.620Z"
   },
   {
    "duration": 30,
    "start_time": "2022-02-08T09:55:55.782Z"
   },
   {
    "duration": 28,
    "start_time": "2022-02-08T09:55:55.815Z"
   },
   {
    "duration": 13,
    "start_time": "2022-02-08T09:55:55.846Z"
   },
   {
    "duration": 62,
    "start_time": "2022-02-08T09:55:55.861Z"
   },
   {
    "duration": 13,
    "start_time": "2022-02-08T09:55:55.925Z"
   },
   {
    "duration": 66,
    "start_time": "2022-02-08T09:55:55.941Z"
   },
   {
    "duration": 24,
    "start_time": "2022-02-08T09:55:56.011Z"
   },
   {
    "duration": 25,
    "start_time": "2022-02-08T09:55:56.038Z"
   },
   {
    "duration": 95,
    "start_time": "2022-02-08T09:55:56.065Z"
   },
   {
    "duration": 78,
    "start_time": "2022-02-08T09:55:56.162Z"
   },
   {
    "duration": 71,
    "start_time": "2022-02-08T09:55:56.242Z"
   },
   {
    "duration": 44,
    "start_time": "2022-02-08T09:55:56.315Z"
   },
   {
    "duration": 3,
    "start_time": "2022-02-08T09:55:56.361Z"
   },
   {
    "duration": 238,
    "start_time": "2022-02-08T09:55:56.366Z"
   },
   {
    "duration": 44,
    "start_time": "2022-02-08T09:55:59.634Z"
   },
   {
    "duration": 65,
    "start_time": "2022-02-08T09:57:14.989Z"
   },
   {
    "duration": 5556,
    "start_time": "2022-02-08T12:53:15.091Z"
   },
   {
    "duration": 5272,
    "start_time": "2022-02-08T12:53:37.322Z"
   },
   {
    "duration": 281,
    "start_time": "2022-02-08T12:54:43.063Z"
   },
   {
    "duration": 1736,
    "start_time": "2022-02-08T12:55:05.534Z"
   },
   {
    "duration": 38,
    "start_time": "2022-02-08T12:55:19.464Z"
   },
   {
    "duration": 35,
    "start_time": "2022-02-08T12:56:16.335Z"
   },
   {
    "duration": 550,
    "start_time": "2022-02-09T17:47:50.620Z"
   },
   {
    "duration": 144,
    "start_time": "2022-02-09T17:47:51.172Z"
   },
   {
    "duration": 18,
    "start_time": "2022-02-09T17:47:51.318Z"
   },
   {
    "duration": 38,
    "start_time": "2022-02-09T17:47:51.337Z"
   },
   {
    "duration": 9,
    "start_time": "2022-02-09T17:47:51.377Z"
   },
   {
    "duration": 23,
    "start_time": "2022-02-09T17:47:51.388Z"
   },
   {
    "duration": 46,
    "start_time": "2022-02-09T17:47:51.413Z"
   },
   {
    "duration": 22,
    "start_time": "2022-02-09T17:47:51.461Z"
   },
   {
    "duration": 19,
    "start_time": "2022-02-09T17:47:51.485Z"
   },
   {
    "duration": 21,
    "start_time": "2022-02-09T17:47:51.505Z"
   },
   {
    "duration": 61,
    "start_time": "2022-02-09T17:47:51.559Z"
   },
   {
    "duration": 81,
    "start_time": "2022-02-09T17:47:51.622Z"
   },
   {
    "duration": 62,
    "start_time": "2022-02-09T17:47:51.705Z"
   },
   {
    "duration": 39,
    "start_time": "2022-02-09T17:47:51.769Z"
   },
   {
    "duration": 3,
    "start_time": "2022-02-09T17:47:51.810Z"
   },
   {
    "duration": 223,
    "start_time": "2022-02-09T17:47:51.815Z"
   },
   {
    "duration": 45,
    "start_time": "2022-02-09T17:47:52.040Z"
   },
   {
    "duration": 37,
    "start_time": "2022-02-09T17:48:04.159Z"
   },
   {
    "duration": 42,
    "start_time": "2022-02-09T17:50:50.467Z"
   },
   {
    "duration": 8,
    "start_time": "2022-02-09T17:51:04.799Z"
   },
   {
    "duration": 4,
    "start_time": "2022-02-09T17:51:21.798Z"
   },
   {
    "duration": 219,
    "start_time": "2022-02-09T17:51:30.554Z"
   },
   {
    "duration": 4,
    "start_time": "2022-02-09T17:51:41.933Z"
   },
   {
    "duration": 3,
    "start_time": "2022-02-09T17:52:08.644Z"
   },
   {
    "duration": 5,
    "start_time": "2022-02-09T17:54:35.471Z"
   },
   {
    "duration": 5,
    "start_time": "2022-02-09T17:54:44.173Z"
   },
   {
    "duration": 243,
    "start_time": "2022-02-09T17:57:01.299Z"
   },
   {
    "duration": 158,
    "start_time": "2022-02-09T17:59:55.466Z"
   },
   {
    "duration": 137,
    "start_time": "2022-02-09T18:00:06.594Z"
   },
   {
    "duration": 3619,
    "start_time": "2022-02-09T18:00:19.055Z"
   },
   {
    "duration": 3499,
    "start_time": "2022-02-09T18:02:17.709Z"
   },
   {
    "duration": 3169,
    "start_time": "2022-02-09T18:03:07.487Z"
   },
   {
    "duration": 3317,
    "start_time": "2022-02-09T18:04:34.240Z"
   },
   {
    "duration": 4,
    "start_time": "2022-02-09T18:11:21.478Z"
   },
   {
    "duration": 3129,
    "start_time": "2022-02-09T18:11:54.583Z"
   },
   {
    "duration": 4,
    "start_time": "2022-02-09T18:12:43.945Z"
   },
   {
    "duration": 5,
    "start_time": "2022-02-09T18:16:57.080Z"
   },
   {
    "duration": 4,
    "start_time": "2022-02-09T18:17:29.415Z"
   },
   {
    "duration": 4,
    "start_time": "2022-02-09T18:18:18.814Z"
   },
   {
    "duration": 3579,
    "start_time": "2022-02-09T18:18:28.161Z"
   },
   {
    "duration": 4,
    "start_time": "2022-02-09T18:18:40.901Z"
   },
   {
    "duration": 5,
    "start_time": "2022-02-09T18:18:49.415Z"
   },
   {
    "duration": 3217,
    "start_time": "2022-02-09T18:19:20.375Z"
   },
   {
    "duration": 3300,
    "start_time": "2022-02-09T18:19:26.264Z"
   },
   {
    "duration": 6,
    "start_time": "2022-02-09T18:21:37.466Z"
   },
   {
    "duration": 5,
    "start_time": "2022-02-09T18:21:45.026Z"
   },
   {
    "duration": 4,
    "start_time": "2022-02-09T18:21:50.560Z"
   },
   {
    "duration": 4,
    "start_time": "2022-02-09T18:21:55.128Z"
   },
   {
    "duration": 7,
    "start_time": "2022-02-09T18:22:09.896Z"
   },
   {
    "duration": 3316,
    "start_time": "2022-02-09T18:22:13.907Z"
   },
   {
    "duration": 3213,
    "start_time": "2022-02-09T18:22:21.919Z"
   },
   {
    "duration": 3202,
    "start_time": "2022-02-09T18:22:30.570Z"
   },
   {
    "duration": 7,
    "start_time": "2022-02-09T18:22:38.826Z"
   },
   {
    "duration": 3303,
    "start_time": "2022-02-09T18:22:44.659Z"
   },
   {
    "duration": 7,
    "start_time": "2022-02-09T18:22:52.365Z"
   },
   {
    "duration": 3138,
    "start_time": "2022-02-09T18:23:02.533Z"
   },
   {
    "duration": 3225,
    "start_time": "2022-02-09T18:23:17.472Z"
   },
   {
    "duration": 11,
    "start_time": "2022-02-09T18:23:50.333Z"
   },
   {
    "duration": 3207,
    "start_time": "2022-02-09T18:23:55.084Z"
   },
   {
    "duration": 7,
    "start_time": "2022-02-09T18:29:38.969Z"
   },
   {
    "duration": 8,
    "start_time": "2022-02-09T18:31:21.112Z"
   },
   {
    "duration": 3976,
    "start_time": "2022-02-09T18:31:26.756Z"
   },
   {
    "duration": 3214,
    "start_time": "2022-02-09T18:32:34.412Z"
   },
   {
    "duration": 4,
    "start_time": "2022-02-09T18:32:50.547Z"
   },
   {
    "duration": 3,
    "start_time": "2022-02-09T18:32:55.042Z"
   },
   {
    "duration": 3584,
    "start_time": "2022-02-09T18:33:43.181Z"
   },
   {
    "duration": 3176,
    "start_time": "2022-02-09T18:34:20.901Z"
   },
   {
    "duration": 3788,
    "start_time": "2022-02-09T18:34:41.922Z"
   },
   {
    "duration": 6,
    "start_time": "2022-02-09T18:34:49.422Z"
   },
   {
    "duration": 5,
    "start_time": "2022-02-09T18:34:53.712Z"
   },
   {
    "duration": 8,
    "start_time": "2022-02-09T18:35:07.276Z"
   },
   {
    "duration": 3,
    "start_time": "2022-02-09T18:56:09.486Z"
   },
   {
    "duration": 133,
    "start_time": "2022-02-09T18:56:09.491Z"
   },
   {
    "duration": 10,
    "start_time": "2022-02-09T18:56:09.626Z"
   },
   {
    "duration": 33,
    "start_time": "2022-02-09T18:56:09.637Z"
   },
   {
    "duration": 7,
    "start_time": "2022-02-09T18:56:09.672Z"
   },
   {
    "duration": 24,
    "start_time": "2022-02-09T18:56:09.681Z"
   },
   {
    "duration": 11,
    "start_time": "2022-02-09T18:56:09.708Z"
   },
   {
    "duration": 22,
    "start_time": "2022-02-09T18:56:09.760Z"
   },
   {
    "duration": 21,
    "start_time": "2022-02-09T18:56:09.784Z"
   },
   {
    "duration": 30,
    "start_time": "2022-02-09T18:56:09.806Z"
   },
   {
    "duration": 70,
    "start_time": "2022-02-09T18:56:09.838Z"
   },
   {
    "duration": 78,
    "start_time": "2022-02-09T18:56:09.911Z"
   },
   {
    "duration": 52,
    "start_time": "2022-02-09T18:56:09.990Z"
   },
   {
    "duration": 49,
    "start_time": "2022-02-09T18:56:10.044Z"
   },
   {
    "duration": 9,
    "start_time": "2022-02-09T18:56:10.094Z"
   },
   {
    "duration": 187,
    "start_time": "2022-02-09T18:56:10.104Z"
   },
   {
    "duration": 40,
    "start_time": "2022-02-09T18:56:10.292Z"
   },
   {
    "duration": 7,
    "start_time": "2022-02-09T18:56:10.334Z"
   },
   {
    "duration": 10,
    "start_time": "2022-02-09T18:56:12.536Z"
   },
   {
    "duration": 559,
    "start_time": "2022-02-09T18:57:04.584Z"
   },
   {
    "duration": 495,
    "start_time": "2022-02-09T18:57:09.170Z"
   },
   {
    "duration": 360,
    "start_time": "2022-02-09T18:57:22.906Z"
   },
   {
    "duration": 2541,
    "start_time": "2022-02-09T19:00:06.397Z"
   },
   {
    "duration": 3245,
    "start_time": "2022-02-09T19:00:27.314Z"
   },
   {
    "duration": 3446,
    "start_time": "2022-02-09T19:05:24.651Z"
   },
   {
    "duration": 589,
    "start_time": "2022-02-10T06:59:40.599Z"
   },
   {
    "duration": 125,
    "start_time": "2022-02-10T06:59:41.190Z"
   },
   {
    "duration": 27,
    "start_time": "2022-02-10T06:59:41.318Z"
   },
   {
    "duration": 25,
    "start_time": "2022-02-10T06:59:41.347Z"
   },
   {
    "duration": 9,
    "start_time": "2022-02-10T06:59:41.374Z"
   },
   {
    "duration": 46,
    "start_time": "2022-02-10T06:59:41.385Z"
   },
   {
    "duration": 11,
    "start_time": "2022-02-10T06:59:41.433Z"
   },
   {
    "duration": 21,
    "start_time": "2022-02-10T06:59:41.446Z"
   },
   {
    "duration": 44,
    "start_time": "2022-02-10T06:59:41.470Z"
   },
   {
    "duration": 21,
    "start_time": "2022-02-10T06:59:41.516Z"
   },
   {
    "duration": 74,
    "start_time": "2022-02-10T06:59:41.539Z"
   },
   {
    "duration": 63,
    "start_time": "2022-02-10T06:59:41.615Z"
   },
   {
    "duration": 54,
    "start_time": "2022-02-10T06:59:41.679Z"
   },
   {
    "duration": 39,
    "start_time": "2022-02-10T06:59:41.735Z"
   },
   {
    "duration": 3,
    "start_time": "2022-02-10T06:59:41.775Z"
   },
   {
    "duration": 177,
    "start_time": "2022-02-10T06:59:41.779Z"
   },
   {
    "duration": 38,
    "start_time": "2022-02-10T06:59:41.958Z"
   },
   {
    "duration": 3509,
    "start_time": "2022-02-10T06:59:41.997Z"
   },
   {
    "duration": 26,
    "start_time": "2022-02-10T06:59:49.887Z"
   },
   {
    "duration": 27,
    "start_time": "2022-02-10T07:00:09.977Z"
   },
   {
    "duration": 26,
    "start_time": "2022-02-10T07:00:46.557Z"
   },
   {
    "duration": 3569,
    "start_time": "2022-02-10T07:02:23.026Z"
   },
   {
    "duration": 27,
    "start_time": "2022-02-10T07:04:01.116Z"
   },
   {
    "duration": 271,
    "start_time": "2022-02-10T07:08:42.984Z"
   },
   {
    "duration": 534,
    "start_time": "2022-02-10T07:08:47.208Z"
   },
   {
    "duration": 136,
    "start_time": "2022-02-10T07:08:47.744Z"
   },
   {
    "duration": 11,
    "start_time": "2022-02-10T07:08:47.882Z"
   },
   {
    "duration": 37,
    "start_time": "2022-02-10T07:08:47.895Z"
   },
   {
    "duration": 10,
    "start_time": "2022-02-10T07:08:47.934Z"
   },
   {
    "duration": 22,
    "start_time": "2022-02-10T07:08:47.946Z"
   },
   {
    "duration": 46,
    "start_time": "2022-02-10T07:08:47.970Z"
   },
   {
    "duration": 24,
    "start_time": "2022-02-10T07:08:48.020Z"
   },
   {
    "duration": 26,
    "start_time": "2022-02-10T07:08:48.046Z"
   },
   {
    "duration": 49,
    "start_time": "2022-02-10T07:08:48.075Z"
   },
   {
    "duration": 51,
    "start_time": "2022-02-10T07:08:48.126Z"
   },
   {
    "duration": 77,
    "start_time": "2022-02-10T07:08:48.179Z"
   },
   {
    "duration": 54,
    "start_time": "2022-02-10T07:08:48.258Z"
   },
   {
    "duration": 40,
    "start_time": "2022-02-10T07:08:48.314Z"
   },
   {
    "duration": 2,
    "start_time": "2022-02-10T07:08:48.356Z"
   },
   {
    "duration": 174,
    "start_time": "2022-02-10T07:08:48.360Z"
   },
   {
    "duration": 40,
    "start_time": "2022-02-10T07:08:48.535Z"
   },
   {
    "duration": 3582,
    "start_time": "2022-02-10T07:08:48.576Z"
   },
   {
    "duration": 25,
    "start_time": "2022-02-10T07:08:52.159Z"
   },
   {
    "duration": 5639,
    "start_time": "2022-02-10T07:08:54.862Z"
   },
   {
    "duration": 5824,
    "start_time": "2022-02-10T07:09:00.656Z"
   },
   {
    "duration": 5586,
    "start_time": "2022-02-10T07:09:43.732Z"
   },
   {
    "duration": 147,
    "start_time": "2022-02-10T07:10:04.008Z"
   },
   {
    "duration": 164,
    "start_time": "2022-02-10T07:12:09.340Z"
   },
   {
    "duration": 165,
    "start_time": "2022-02-10T07:12:20.370Z"
   },
   {
    "duration": 182,
    "start_time": "2022-02-10T07:12:36.886Z"
   },
   {
    "duration": 170,
    "start_time": "2022-02-10T07:13:58.963Z"
   },
   {
    "duration": 265,
    "start_time": "2022-02-10T07:16:00.787Z"
   },
   {
    "duration": 169,
    "start_time": "2022-02-10T07:18:19.959Z"
   },
   {
    "duration": 333,
    "start_time": "2022-02-10T07:22:21.655Z"
   },
   {
    "duration": 3409,
    "start_time": "2022-02-10T07:22:30.930Z"
   },
   {
    "duration": 3149,
    "start_time": "2022-02-10T07:27:03.654Z"
   },
   {
    "duration": 3149,
    "start_time": "2022-02-10T07:32:28.673Z"
   },
   {
    "duration": 3152,
    "start_time": "2022-02-10T07:33:04.949Z"
   },
   {
    "duration": 3035,
    "start_time": "2022-02-10T07:34:55.833Z"
   },
   {
    "duration": 393,
    "start_time": "2022-02-10T07:35:55.919Z"
   },
   {
    "duration": 392,
    "start_time": "2022-02-10T07:38:10.239Z"
   },
   {
    "duration": 3179,
    "start_time": "2022-02-10T07:38:39.244Z"
   },
   {
    "duration": 3504,
    "start_time": "2022-02-10T07:39:18.926Z"
   },
   {
    "duration": 3188,
    "start_time": "2022-02-10T07:39:50.846Z"
   },
   {
    "duration": 3198,
    "start_time": "2022-02-10T07:40:49.512Z"
   },
   {
    "duration": 3181,
    "start_time": "2022-02-10T07:40:58.990Z"
   },
   {
    "duration": 3133,
    "start_time": "2022-02-10T07:41:11.272Z"
   },
   {
    "duration": 3056,
    "start_time": "2022-02-10T07:41:51.309Z"
   },
   {
    "duration": 3197,
    "start_time": "2022-02-10T07:42:06.728Z"
   },
   {
    "duration": 15,
    "start_time": "2022-02-10T07:42:35.070Z"
   },
   {
    "duration": 76,
    "start_time": "2022-02-10T07:43:39.558Z"
   },
   {
    "duration": 13,
    "start_time": "2022-02-10T07:43:53.041Z"
   },
   {
    "duration": 14,
    "start_time": "2022-02-10T07:46:05.090Z"
   },
   {
    "duration": 14,
    "start_time": "2022-02-10T07:46:57.681Z"
   },
   {
    "duration": 13,
    "start_time": "2022-02-10T07:47:01.239Z"
   },
   {
    "duration": 251,
    "start_time": "2022-02-10T07:47:38.105Z"
   },
   {
    "duration": 14,
    "start_time": "2022-02-10T07:47:52.665Z"
   },
   {
    "duration": 12,
    "start_time": "2022-02-10T07:48:13.572Z"
   },
   {
    "duration": 15,
    "start_time": "2022-02-10T07:56:52.008Z"
   },
   {
    "duration": 18,
    "start_time": "2022-02-10T07:57:39.095Z"
   },
   {
    "duration": 16,
    "start_time": "2022-02-10T07:57:52.462Z"
   },
   {
    "duration": 6,
    "start_time": "2022-02-10T07:59:44.667Z"
   },
   {
    "duration": 13,
    "start_time": "2022-02-10T08:01:02.304Z"
   },
   {
    "duration": 214,
    "start_time": "2022-02-10T08:08:11.988Z"
   },
   {
    "duration": 236,
    "start_time": "2022-02-10T08:08:17.067Z"
   },
   {
    "duration": 240,
    "start_time": "2022-02-10T08:08:23.875Z"
   },
   {
    "duration": 256,
    "start_time": "2022-02-10T08:08:29.234Z"
   },
   {
    "duration": 237,
    "start_time": "2022-02-10T08:08:39.234Z"
   },
   {
    "duration": 106,
    "start_time": "2022-02-10T08:08:45.390Z"
   },
   {
    "duration": 232,
    "start_time": "2022-02-10T08:08:58.374Z"
   },
   {
    "duration": 261,
    "start_time": "2022-02-10T08:09:03.258Z"
   },
   {
    "duration": 110,
    "start_time": "2022-02-10T08:11:01.408Z"
   },
   {
    "duration": 227,
    "start_time": "2022-02-10T08:11:06.480Z"
   },
   {
    "duration": 230,
    "start_time": "2022-02-10T08:11:28.384Z"
   },
   {
    "duration": 252,
    "start_time": "2022-02-10T08:12:01.242Z"
   },
   {
    "duration": 265,
    "start_time": "2022-02-10T08:12:07.695Z"
   },
   {
    "duration": 296,
    "start_time": "2022-02-10T08:12:18.567Z"
   },
   {
    "duration": 270,
    "start_time": "2022-02-10T08:12:33.125Z"
   },
   {
    "duration": 235,
    "start_time": "2022-02-10T08:12:40.540Z"
   },
   {
    "duration": 261,
    "start_time": "2022-02-10T08:13:13.300Z"
   },
   {
    "duration": 9,
    "start_time": "2022-02-10T08:16:14.966Z"
   },
   {
    "duration": 243,
    "start_time": "2022-02-10T08:17:14.498Z"
   },
   {
    "duration": 235,
    "start_time": "2022-02-10T08:17:24.492Z"
   },
   {
    "duration": 249,
    "start_time": "2022-02-10T08:17:44.218Z"
   },
   {
    "duration": 252,
    "start_time": "2022-02-10T08:17:52.998Z"
   },
   {
    "duration": 8,
    "start_time": "2022-02-10T08:18:34.200Z"
   },
   {
    "duration": 10,
    "start_time": "2022-02-10T08:19:42.014Z"
   },
   {
    "duration": 10,
    "start_time": "2022-02-10T08:20:06.259Z"
   },
   {
    "duration": 8,
    "start_time": "2022-02-10T08:20:18.052Z"
   },
   {
    "duration": 10,
    "start_time": "2022-02-10T08:20:53.067Z"
   },
   {
    "duration": 286,
    "start_time": "2022-02-10T08:21:04.800Z"
   },
   {
    "duration": 75,
    "start_time": "2022-02-10T08:21:11.254Z"
   },
   {
    "duration": 237,
    "start_time": "2022-02-10T08:21:15.445Z"
   },
   {
    "duration": 248,
    "start_time": "2022-02-10T08:21:21.482Z"
   },
   {
    "duration": 244,
    "start_time": "2022-02-10T08:21:52.530Z"
   },
   {
    "duration": 9,
    "start_time": "2022-02-10T08:21:58.477Z"
   },
   {
    "duration": 9,
    "start_time": "2022-02-10T08:22:08.209Z"
   },
   {
    "duration": 37,
    "start_time": "2022-02-10T08:26:59.618Z"
   },
   {
    "duration": 137,
    "start_time": "2022-02-10T08:27:53.969Z"
   },
   {
    "duration": 87,
    "start_time": "2022-02-10T08:28:14.159Z"
   },
   {
    "duration": 88,
    "start_time": "2022-02-10T08:28:23.455Z"
   },
   {
    "duration": 38,
    "start_time": "2022-02-10T08:28:44.194Z"
   },
   {
    "duration": 4,
    "start_time": "2022-02-10T08:28:50.792Z"
   },
   {
    "duration": 37,
    "start_time": "2022-02-10T08:28:54.052Z"
   },
   {
    "duration": 46,
    "start_time": "2022-02-10T08:29:51.953Z"
   },
   {
    "duration": 45,
    "start_time": "2022-02-10T08:30:02.450Z"
   },
   {
    "duration": 37,
    "start_time": "2022-02-10T08:30:39.834Z"
   },
   {
    "duration": 262,
    "start_time": "2022-02-10T08:30:59.821Z"
   },
   {
    "duration": 46,
    "start_time": "2022-02-10T08:31:16.267Z"
   },
   {
    "duration": 46,
    "start_time": "2022-02-10T08:31:20.288Z"
   },
   {
    "duration": 49,
    "start_time": "2022-02-10T08:33:58.886Z"
   },
   {
    "duration": 36,
    "start_time": "2022-02-10T08:34:12.153Z"
   },
   {
    "duration": 38,
    "start_time": "2022-02-10T08:35:03.802Z"
   },
   {
    "duration": 45,
    "start_time": "2022-02-10T08:35:38.972Z"
   },
   {
    "duration": 2,
    "start_time": "2022-02-10T08:37:23.675Z"
   },
   {
    "duration": 36,
    "start_time": "2022-02-10T08:38:00.884Z"
   },
   {
    "duration": 7,
    "start_time": "2022-02-10T08:40:25.983Z"
   },
   {
    "duration": 9,
    "start_time": "2022-02-10T08:40:44.377Z"
   },
   {
    "duration": 35,
    "start_time": "2022-02-10T08:40:47.784Z"
   },
   {
    "duration": 9,
    "start_time": "2022-02-10T08:40:49.835Z"
   },
   {
    "duration": 71,
    "start_time": "2022-02-10T08:42:14.776Z"
   },
   {
    "duration": 3,
    "start_time": "2022-02-10T08:42:20.919Z"
   },
   {
    "duration": 70,
    "start_time": "2022-02-10T08:42:29.073Z"
   },
   {
    "duration": 64,
    "start_time": "2022-02-10T08:43:38.442Z"
   },
   {
    "duration": 68,
    "start_time": "2022-02-10T08:54:58.656Z"
   },
   {
    "duration": 67,
    "start_time": "2022-02-10T08:55:02.346Z"
   },
   {
    "duration": 299,
    "start_time": "2022-02-10T08:56:40.398Z"
   },
   {
    "duration": 302,
    "start_time": "2022-02-10T08:56:46.599Z"
   },
   {
    "duration": 282,
    "start_time": "2022-02-10T08:57:28.426Z"
   },
   {
    "duration": 311,
    "start_time": "2022-02-10T08:57:39.974Z"
   },
   {
    "duration": 296,
    "start_time": "2022-02-10T08:58:18.742Z"
   },
   {
    "duration": 72,
    "start_time": "2022-02-10T09:03:57.045Z"
   },
   {
    "duration": 77,
    "start_time": "2022-02-10T09:04:12.744Z"
   },
   {
    "duration": 85,
    "start_time": "2022-02-10T09:06:50.140Z"
   },
   {
    "duration": 65,
    "start_time": "2022-02-10T09:07:03.384Z"
   },
   {
    "duration": 292,
    "start_time": "2022-02-10T09:07:13.148Z"
   },
   {
    "duration": 382,
    "start_time": "2022-02-10T09:07:31.900Z"
   },
   {
    "duration": 326,
    "start_time": "2022-02-10T09:11:38.560Z"
   },
   {
    "duration": 2,
    "start_time": "2022-02-10T09:12:56.250Z"
   },
   {
    "duration": 160,
    "start_time": "2022-02-10T09:12:56.254Z"
   },
   {
    "duration": 10,
    "start_time": "2022-02-10T09:12:56.416Z"
   },
   {
    "duration": 28,
    "start_time": "2022-02-10T09:12:56.428Z"
   },
   {
    "duration": 10,
    "start_time": "2022-02-10T09:12:56.458Z"
   },
   {
    "duration": 49,
    "start_time": "2022-02-10T09:12:56.470Z"
   },
   {
    "duration": 11,
    "start_time": "2022-02-10T09:12:56.521Z"
   },
   {
    "duration": 24,
    "start_time": "2022-02-10T09:12:56.534Z"
   },
   {
    "duration": 17,
    "start_time": "2022-02-10T09:12:56.560Z"
   },
   {
    "duration": 57,
    "start_time": "2022-02-10T09:12:56.578Z"
   },
   {
    "duration": 52,
    "start_time": "2022-02-10T09:12:56.637Z"
   },
   {
    "duration": 79,
    "start_time": "2022-02-10T09:12:56.691Z"
   },
   {
    "duration": 61,
    "start_time": "2022-02-10T09:12:56.772Z"
   },
   {
    "duration": 42,
    "start_time": "2022-02-10T09:12:56.835Z"
   },
   {
    "duration": 4,
    "start_time": "2022-02-10T09:12:56.879Z"
   },
   {
    "duration": 180,
    "start_time": "2022-02-10T09:12:56.884Z"
   },
   {
    "duration": 47,
    "start_time": "2022-02-10T09:12:57.066Z"
   },
   {
    "duration": 3659,
    "start_time": "2022-02-10T09:12:57.114Z"
   },
   {
    "duration": 36,
    "start_time": "2022-02-10T09:13:00.776Z"
   },
   {
    "duration": 173,
    "start_time": "2022-02-10T09:13:00.814Z"
   },
   {
    "duration": 4,
    "start_time": "2022-02-10T09:13:00.988Z"
   },
   {
    "duration": 86,
    "start_time": "2022-02-10T09:13:00.993Z"
   },
   {
    "duration": 2,
    "start_time": "2022-02-10T09:13:01.081Z"
   },
   {
    "duration": 8,
    "start_time": "2022-02-10T09:13:01.085Z"
   },
   {
    "duration": 18,
    "start_time": "2022-02-10T09:13:01.094Z"
   },
   {
    "duration": 2,
    "start_time": "2022-02-10T09:13:01.114Z"
   },
   {
    "duration": 15,
    "start_time": "2022-02-10T09:13:01.117Z"
   },
   {
    "duration": 7,
    "start_time": "2022-02-10T09:13:01.134Z"
   },
   {
    "duration": 314,
    "start_time": "2022-02-10T09:13:02.811Z"
   },
   {
    "duration": 17,
    "start_time": "2022-02-10T09:25:09.004Z"
   },
   {
    "duration": 13,
    "start_time": "2022-02-10T09:26:34.704Z"
   },
   {
    "duration": 12,
    "start_time": "2022-02-10T09:26:44.833Z"
   },
   {
    "duration": 10,
    "start_time": "2022-02-10T09:26:46.632Z"
   },
   {
    "duration": 4,
    "start_time": "2022-02-10T09:34:01.797Z"
   },
   {
    "duration": 23,
    "start_time": "2022-02-10T09:34:19.161Z"
   },
   {
    "duration": 26,
    "start_time": "2022-02-10T09:34:32.443Z"
   },
   {
    "duration": 28,
    "start_time": "2022-02-10T09:36:21.965Z"
   },
   {
    "duration": 24,
    "start_time": "2022-02-10T09:36:43.700Z"
   },
   {
    "duration": 4,
    "start_time": "2022-02-10T09:37:39.183Z"
   },
   {
    "duration": 22,
    "start_time": "2022-02-10T09:37:41.790Z"
   },
   {
    "duration": 14,
    "start_time": "2022-02-10T09:38:32.225Z"
   },
   {
    "duration": 18,
    "start_time": "2022-02-10T09:38:34.289Z"
   },
   {
    "duration": 18,
    "start_time": "2022-02-10T09:38:37.093Z"
   },
   {
    "duration": 5873,
    "start_time": "2022-02-10T09:41:43.187Z"
   },
   {
    "duration": -1096,
    "start_time": "2022-02-10T09:42:05.245Z"
   },
   {
    "duration": 2,
    "start_time": "2022-02-10T09:42:19.131Z"
   },
   {
    "duration": 5729,
    "start_time": "2022-02-10T09:42:20.727Z"
   },
   {
    "duration": 24,
    "start_time": "2022-02-10T09:44:01.880Z"
   },
   {
    "duration": 5702,
    "start_time": "2022-02-10T09:44:16.848Z"
   },
   {
    "duration": 25,
    "start_time": "2022-02-10T09:44:28.380Z"
   },
   {
    "duration": 22,
    "start_time": "2022-02-10T09:44:52.246Z"
   },
   {
    "duration": 4,
    "start_time": "2022-02-10T09:44:54.103Z"
   },
   {
    "duration": 14,
    "start_time": "2022-02-10T09:45:21.335Z"
   },
   {
    "duration": 4,
    "start_time": "2022-02-10T09:45:38.321Z"
   },
   {
    "duration": 4,
    "start_time": "2022-02-10T09:50:11.490Z"
   },
   {
    "duration": 227,
    "start_time": "2022-02-10T09:52:29.607Z"
   },
   {
    "duration": 4,
    "start_time": "2022-02-10T09:52:37.193Z"
   },
   {
    "duration": 5,
    "start_time": "2022-02-10T09:53:02.266Z"
   },
   {
    "duration": 4,
    "start_time": "2022-02-10T09:53:43.762Z"
   },
   {
    "duration": 4,
    "start_time": "2022-02-10T09:54:50.082Z"
   },
   {
    "duration": 4,
    "start_time": "2022-02-10T09:56:27.360Z"
   },
   {
    "duration": 6,
    "start_time": "2022-02-10T09:56:42.575Z"
   },
   {
    "duration": 6,
    "start_time": "2022-02-10T09:56:51.593Z"
   },
   {
    "duration": 5,
    "start_time": "2022-02-10T09:57:02.014Z"
   },
   {
    "duration": 1085,
    "start_time": "2022-02-10T09:58:43.746Z"
   },
   {
    "duration": 127,
    "start_time": "2022-02-10T09:58:44.833Z"
   },
   {
    "duration": 14,
    "start_time": "2022-02-10T09:58:44.962Z"
   },
   {
    "duration": 37,
    "start_time": "2022-02-10T09:58:44.977Z"
   },
   {
    "duration": 10,
    "start_time": "2022-02-10T09:58:45.016Z"
   },
   {
    "duration": 24,
    "start_time": "2022-02-10T09:58:45.027Z"
   },
   {
    "duration": 29,
    "start_time": "2022-02-10T09:58:45.052Z"
   },
   {
    "duration": 42,
    "start_time": "2022-02-10T09:58:45.084Z"
   },
   {
    "duration": 19,
    "start_time": "2022-02-10T09:58:45.128Z"
   },
   {
    "duration": 20,
    "start_time": "2022-02-10T09:58:45.148Z"
   },
   {
    "duration": 74,
    "start_time": "2022-02-10T09:58:45.170Z"
   },
   {
    "duration": 75,
    "start_time": "2022-02-10T09:58:45.246Z"
   },
   {
    "duration": 50,
    "start_time": "2022-02-10T09:58:45.322Z"
   },
   {
    "duration": 50,
    "start_time": "2022-02-10T09:58:45.374Z"
   },
   {
    "duration": 2,
    "start_time": "2022-02-10T09:58:45.426Z"
   },
   {
    "duration": 168,
    "start_time": "2022-02-10T09:58:45.430Z"
   },
   {
    "duration": 43,
    "start_time": "2022-02-10T09:58:45.600Z"
   },
   {
    "duration": 3605,
    "start_time": "2022-02-10T09:58:45.645Z"
   },
   {
    "duration": 28,
    "start_time": "2022-02-10T09:58:49.252Z"
   },
   {
    "duration": 179,
    "start_time": "2022-02-10T09:58:49.282Z"
   },
   {
    "duration": 4,
    "start_time": "2022-02-10T09:58:49.462Z"
   },
   {
    "duration": 88,
    "start_time": "2022-02-10T09:58:49.467Z"
   },
   {
    "duration": 2,
    "start_time": "2022-02-10T09:58:49.558Z"
   },
   {
    "duration": 5,
    "start_time": "2022-02-10T09:58:49.562Z"
   },
   {
    "duration": 5,
    "start_time": "2022-02-10T09:58:49.569Z"
   },
   {
    "duration": 4,
    "start_time": "2022-02-10T09:58:49.575Z"
   },
   {
    "duration": 10,
    "start_time": "2022-02-10T09:58:49.581Z"
   },
   {
    "duration": 13,
    "start_time": "2022-02-10T09:58:49.593Z"
   },
   {
    "duration": 350,
    "start_time": "2022-02-10T09:58:49.612Z"
   },
   {
    "duration": 10,
    "start_time": "2022-02-10T09:58:49.964Z"
   },
   {
    "duration": 19,
    "start_time": "2022-02-10T09:58:49.976Z"
   },
   {
    "duration": 19,
    "start_time": "2022-02-10T09:58:49.997Z"
   },
   {
    "duration": 26,
    "start_time": "2022-02-10T09:58:50.017Z"
   },
   {
    "duration": 13,
    "start_time": "2022-02-10T09:58:50.044Z"
   },
   {
    "duration": 23,
    "start_time": "2022-02-10T09:58:50.059Z"
   },
   {
    "duration": 32,
    "start_time": "2022-02-10T09:58:50.083Z"
   },
   {
    "duration": 22,
    "start_time": "2022-02-10T09:58:50.116Z"
   },
   {
    "duration": 6,
    "start_time": "2022-02-10T09:58:50.139Z"
   },
   {
    "duration": 33,
    "start_time": "2022-02-10T09:58:50.146Z"
   },
   {
    "duration": 22,
    "start_time": "2022-02-10T09:58:50.180Z"
   },
   {
    "duration": 22,
    "start_time": "2022-02-10T09:58:50.204Z"
   },
   {
    "duration": 28,
    "start_time": "2022-02-10T10:01:34.062Z"
   },
   {
    "duration": 5,
    "start_time": "2022-02-10T10:06:50.860Z"
   },
   {
    "duration": 321,
    "start_time": "2022-02-10T10:08:53.474Z"
   },
   {
    "duration": 84,
    "start_time": "2022-02-10T10:09:37.956Z"
   },
   {
    "duration": 342,
    "start_time": "2022-02-10T10:09:55.437Z"
   },
   {
    "duration": 360,
    "start_time": "2022-02-10T10:10:00.620Z"
   },
   {
    "duration": 179,
    "start_time": "2022-02-10T10:10:42.592Z"
   },
   {
    "duration": 1109,
    "start_time": "2022-02-10T10:11:36.877Z"
   },
   {
    "duration": 132,
    "start_time": "2022-02-10T10:11:37.988Z"
   },
   {
    "duration": 13,
    "start_time": "2022-02-10T10:11:38.123Z"
   },
   {
    "duration": 27,
    "start_time": "2022-02-10T10:11:38.138Z"
   },
   {
    "duration": 9,
    "start_time": "2022-02-10T10:11:38.167Z"
   },
   {
    "duration": 51,
    "start_time": "2022-02-10T10:11:38.178Z"
   },
   {
    "duration": 10,
    "start_time": "2022-02-10T10:11:38.231Z"
   },
   {
    "duration": 23,
    "start_time": "2022-02-10T10:11:38.243Z"
   },
   {
    "duration": 17,
    "start_time": "2022-02-10T10:11:38.268Z"
   },
   {
    "duration": 22,
    "start_time": "2022-02-10T10:11:38.313Z"
   },
   {
    "duration": 60,
    "start_time": "2022-02-10T10:11:38.337Z"
   },
   {
    "duration": 73,
    "start_time": "2022-02-10T10:11:38.413Z"
   },
   {
    "duration": 67,
    "start_time": "2022-02-10T10:11:38.488Z"
   },
   {
    "duration": 41,
    "start_time": "2022-02-10T10:11:38.557Z"
   },
   {
    "duration": 13,
    "start_time": "2022-02-10T10:11:38.600Z"
   },
   {
    "duration": 199,
    "start_time": "2022-02-10T10:11:38.615Z"
   },
   {
    "duration": 40,
    "start_time": "2022-02-10T10:11:38.816Z"
   },
   {
    "duration": 3633,
    "start_time": "2022-02-10T10:11:38.857Z"
   },
   {
    "duration": 36,
    "start_time": "2022-02-10T10:11:42.492Z"
   },
   {
    "duration": 187,
    "start_time": "2022-02-10T10:11:42.529Z"
   },
   {
    "duration": 4,
    "start_time": "2022-02-10T10:11:42.718Z"
   },
   {
    "duration": 103,
    "start_time": "2022-02-10T10:11:42.724Z"
   },
   {
    "duration": 2,
    "start_time": "2022-02-10T10:11:42.832Z"
   },
   {
    "duration": 3,
    "start_time": "2022-02-10T10:11:42.837Z"
   },
   {
    "duration": 4,
    "start_time": "2022-02-10T10:11:42.842Z"
   },
   {
    "duration": 5,
    "start_time": "2022-02-10T10:11:42.847Z"
   },
   {
    "duration": 4,
    "start_time": "2022-02-10T10:11:42.854Z"
   },
   {
    "duration": 4,
    "start_time": "2022-02-10T10:11:42.859Z"
   },
   {
    "duration": 402,
    "start_time": "2022-02-10T10:11:42.865Z"
   },
   {
    "duration": 11,
    "start_time": "2022-02-10T10:11:43.270Z"
   },
   {
    "duration": 9,
    "start_time": "2022-02-10T10:11:43.282Z"
   },
   {
    "duration": 20,
    "start_time": "2022-02-10T10:11:43.292Z"
   },
   {
    "duration": 25,
    "start_time": "2022-02-10T10:11:43.314Z"
   },
   {
    "duration": 15,
    "start_time": "2022-02-10T10:11:43.341Z"
   },
   {
    "duration": 19,
    "start_time": "2022-02-10T10:11:43.357Z"
   },
   {
    "duration": 43,
    "start_time": "2022-02-10T10:11:43.377Z"
   },
   {
    "duration": 22,
    "start_time": "2022-02-10T10:11:43.421Z"
   },
   {
    "duration": 4,
    "start_time": "2022-02-10T10:11:43.444Z"
   },
   {
    "duration": 16,
    "start_time": "2022-02-10T10:11:43.450Z"
   },
   {
    "duration": 3,
    "start_time": "2022-02-10T10:11:43.468Z"
   },
   {
    "duration": 10,
    "start_time": "2022-02-10T10:11:43.473Z"
   },
   {
    "duration": 111,
    "start_time": "2022-02-15T21:50:09.229Z"
   },
   {
    "duration": 1129,
    "start_time": "2022-02-15T21:51:31.106Z"
   },
   {
    "duration": 540,
    "start_time": "2022-02-15T21:51:32.237Z"
   },
   {
    "duration": 12,
    "start_time": "2022-02-15T21:51:32.779Z"
   },
   {
    "duration": 22,
    "start_time": "2022-02-15T21:51:32.792Z"
   },
   {
    "duration": 23,
    "start_time": "2022-02-15T21:51:32.815Z"
   },
   {
    "duration": 21,
    "start_time": "2022-02-15T21:51:32.839Z"
   },
   {
    "duration": 11,
    "start_time": "2022-02-15T21:51:32.861Z"
   },
   {
    "duration": 19,
    "start_time": "2022-02-15T21:51:32.873Z"
   },
   {
    "duration": 48,
    "start_time": "2022-02-15T21:51:32.895Z"
   },
   {
    "duration": 18,
    "start_time": "2022-02-15T21:51:32.945Z"
   },
   {
    "duration": 68,
    "start_time": "2022-02-15T21:51:32.964Z"
   },
   {
    "duration": 61,
    "start_time": "2022-02-15T21:51:33.033Z"
   },
   {
    "duration": 57,
    "start_time": "2022-02-15T21:51:33.095Z"
   },
   {
    "duration": 37,
    "start_time": "2022-02-15T21:51:33.154Z"
   },
   {
    "duration": 2,
    "start_time": "2022-02-15T21:51:33.193Z"
   },
   {
    "duration": 170,
    "start_time": "2022-02-15T21:51:33.197Z"
   },
   {
    "duration": 38,
    "start_time": "2022-02-15T21:51:33.368Z"
   },
   {
    "duration": 3358,
    "start_time": "2022-02-15T21:51:33.407Z"
   },
   {
    "duration": 27,
    "start_time": "2022-02-15T21:51:36.767Z"
   },
   {
    "duration": 168,
    "start_time": "2022-02-15T21:51:36.796Z"
   },
   {
    "duration": 4,
    "start_time": "2022-02-15T21:51:36.966Z"
   },
   {
    "duration": 82,
    "start_time": "2022-02-15T21:51:36.972Z"
   },
   {
    "duration": 3,
    "start_time": "2022-02-15T21:51:37.055Z"
   },
   {
    "duration": 4,
    "start_time": "2022-02-15T21:51:37.059Z"
   },
   {
    "duration": 5,
    "start_time": "2022-02-15T21:51:37.065Z"
   },
   {
    "duration": 4,
    "start_time": "2022-02-15T21:51:37.071Z"
   },
   {
    "duration": 3,
    "start_time": "2022-02-15T21:51:37.079Z"
   },
   {
    "duration": 11,
    "start_time": "2022-02-15T21:51:37.084Z"
   },
   {
    "duration": 297,
    "start_time": "2022-02-15T21:51:37.096Z"
   },
   {
    "duration": 10,
    "start_time": "2022-02-15T21:51:37.395Z"
   },
   {
    "duration": 8,
    "start_time": "2022-02-15T21:51:37.407Z"
   },
   {
    "duration": 4,
    "start_time": "2022-02-15T21:51:37.431Z"
   },
   {
    "duration": 22,
    "start_time": "2022-02-15T21:51:37.436Z"
   },
   {
    "duration": 13,
    "start_time": "2022-02-15T21:51:37.459Z"
   },
   {
    "duration": 17,
    "start_time": "2022-02-15T21:51:37.473Z"
   },
   {
    "duration": 40,
    "start_time": "2022-02-15T21:51:37.492Z"
   },
   {
    "duration": 20,
    "start_time": "2022-02-15T21:51:37.533Z"
   },
   {
    "duration": 3,
    "start_time": "2022-02-15T21:51:37.555Z"
   },
   {
    "duration": 13,
    "start_time": "2022-02-15T21:51:37.560Z"
   },
   {
    "duration": 2,
    "start_time": "2022-02-15T21:51:37.575Z"
   },
   {
    "duration": 8,
    "start_time": "2022-02-15T21:51:37.579Z"
   },
   {
    "duration": 5,
    "start_time": "2022-02-15T21:51:43.580Z"
   },
   {
    "duration": 1054,
    "start_time": "2022-02-15T21:52:04.368Z"
   },
   {
    "duration": 120,
    "start_time": "2022-02-15T21:52:05.424Z"
   },
   {
    "duration": 13,
    "start_time": "2022-02-15T21:52:05.546Z"
   },
   {
    "duration": 26,
    "start_time": "2022-02-15T21:52:05.560Z"
   },
   {
    "duration": 7,
    "start_time": "2022-02-15T21:52:05.587Z"
   },
   {
    "duration": 3,
    "start_time": "2022-02-15T21:52:05.596Z"
   },
   {
    "duration": 45,
    "start_time": "2022-02-15T21:52:05.601Z"
   },
   {
    "duration": 8,
    "start_time": "2022-02-15T21:52:05.649Z"
   },
   {
    "duration": 19,
    "start_time": "2022-02-15T21:52:05.659Z"
   },
   {
    "duration": 15,
    "start_time": "2022-02-15T21:52:05.680Z"
   },
   {
    "duration": 48,
    "start_time": "2022-02-15T21:52:05.697Z"
   },
   {
    "duration": 53,
    "start_time": "2022-02-15T21:52:05.747Z"
   },
   {
    "duration": 80,
    "start_time": "2022-02-15T21:52:05.802Z"
   },
   {
    "duration": 50,
    "start_time": "2022-02-15T21:52:05.883Z"
   },
   {
    "duration": 36,
    "start_time": "2022-02-15T21:52:05.935Z"
   },
   {
    "duration": 10,
    "start_time": "2022-02-15T21:52:05.973Z"
   },
   {
    "duration": 159,
    "start_time": "2022-02-15T21:52:05.984Z"
   },
   {
    "duration": 39,
    "start_time": "2022-02-15T21:52:06.145Z"
   },
   {
    "duration": 3631,
    "start_time": "2022-02-15T21:52:06.186Z"
   },
   {
    "duration": 34,
    "start_time": "2022-02-15T21:52:09.819Z"
   },
   {
    "duration": 160,
    "start_time": "2022-02-15T21:52:09.855Z"
   },
   {
    "duration": 4,
    "start_time": "2022-02-15T21:52:10.017Z"
   },
   {
    "duration": 63,
    "start_time": "2022-02-15T21:52:10.033Z"
   },
   {
    "duration": 2,
    "start_time": "2022-02-15T21:52:10.098Z"
   },
   {
    "duration": 4,
    "start_time": "2022-02-15T21:52:10.101Z"
   },
   {
    "duration": 3,
    "start_time": "2022-02-15T21:52:10.107Z"
   },
   {
    "duration": 2,
    "start_time": "2022-02-15T21:52:10.132Z"
   },
   {
    "duration": 3,
    "start_time": "2022-02-15T21:52:10.136Z"
   },
   {
    "duration": 4,
    "start_time": "2022-02-15T21:52:10.141Z"
   },
   {
    "duration": 334,
    "start_time": "2022-02-15T21:52:10.146Z"
   },
   {
    "duration": 9,
    "start_time": "2022-02-15T21:52:10.482Z"
   },
   {
    "duration": 7,
    "start_time": "2022-02-15T21:52:10.493Z"
   },
   {
    "duration": 3,
    "start_time": "2022-02-15T21:52:10.502Z"
   },
   {
    "duration": 40,
    "start_time": "2022-02-15T21:52:10.506Z"
   },
   {
    "duration": 12,
    "start_time": "2022-02-15T21:52:10.547Z"
   },
   {
    "duration": 17,
    "start_time": "2022-02-15T21:52:10.560Z"
   },
   {
    "duration": 16,
    "start_time": "2022-02-15T21:52:10.578Z"
   },
   {
    "duration": 43,
    "start_time": "2022-02-15T21:52:10.595Z"
   },
   {
    "duration": 4,
    "start_time": "2022-02-15T21:52:10.639Z"
   },
   {
    "duration": 13,
    "start_time": "2022-02-15T21:52:10.644Z"
   },
   {
    "duration": 3,
    "start_time": "2022-02-15T21:52:10.659Z"
   },
   {
    "duration": 7,
    "start_time": "2022-02-15T21:52:10.664Z"
   },
   {
    "duration": 110,
    "start_time": "2022-02-15T21:52:27.087Z"
   },
   {
    "duration": 4,
    "start_time": "2022-02-15T21:53:06.961Z"
   },
   {
    "duration": 149,
    "start_time": "2022-02-15T21:55:53.656Z"
   },
   {
    "duration": 111,
    "start_time": "2022-02-15T21:56:20.656Z"
   },
   {
    "duration": 115,
    "start_time": "2022-02-15T21:57:31.100Z"
   },
   {
    "duration": 4,
    "start_time": "2022-02-15T21:59:58.008Z"
   },
   {
    "duration": 3366,
    "start_time": "2022-02-15T22:00:06.975Z"
   },
   {
    "duration": 3388,
    "start_time": "2022-02-15T22:00:38.425Z"
   },
   {
    "duration": 435,
    "start_time": "2022-02-15T22:03:12.743Z"
   },
   {
    "duration": 5,
    "start_time": "2022-02-15T22:03:23.631Z"
   },
   {
    "duration": 5,
    "start_time": "2022-02-15T22:03:29.399Z"
   },
   {
    "duration": 4,
    "start_time": "2022-02-15T22:03:57.530Z"
   },
   {
    "duration": 532,
    "start_time": "2022-02-15T22:04:34.226Z"
   },
   {
    "duration": 4,
    "start_time": "2022-02-15T22:07:09.552Z"
   },
   {
    "duration": 9,
    "start_time": "2022-02-15T22:07:50.816Z"
   },
   {
    "duration": 9,
    "start_time": "2022-02-15T22:08:07.074Z"
   },
   {
    "duration": 9,
    "start_time": "2022-02-15T22:08:23.962Z"
   },
   {
    "duration": 28,
    "start_time": "2022-02-15T22:11:25.290Z"
   },
   {
    "duration": 19,
    "start_time": "2022-02-15T22:11:31.888Z"
   },
   {
    "duration": 18,
    "start_time": "2022-02-15T22:11:42.092Z"
   },
   {
    "duration": 5,
    "start_time": "2022-02-15T22:11:42.906Z"
   },
   {
    "duration": 5,
    "start_time": "2022-02-15T22:11:54.194Z"
   },
   {
    "duration": 330,
    "start_time": "2022-02-15T22:13:48.846Z"
   },
   {
    "duration": 112,
    "start_time": "2022-02-15T22:14:57.377Z"
   },
   {
    "duration": 328,
    "start_time": "2022-02-15T22:15:01.777Z"
   },
   {
    "duration": 108,
    "start_time": "2022-02-15T22:15:07.193Z"
   },
   {
    "duration": 335,
    "start_time": "2022-02-15T22:15:28.850Z"
   },
   {
    "duration": 40,
    "start_time": "2022-02-15T22:16:34.205Z"
   },
   {
    "duration": 49,
    "start_time": "2022-02-15T22:16:43.261Z"
   },
   {
    "duration": 72,
    "start_time": "2022-02-15T22:17:02.396Z"
   },
   {
    "duration": 363,
    "start_time": "2022-02-15T22:18:31.033Z"
   },
   {
    "duration": 93,
    "start_time": "2022-02-15T22:19:12.651Z"
   },
   {
    "duration": 8,
    "start_time": "2022-02-15T22:19:27.723Z"
   },
   {
    "duration": 101,
    "start_time": "2022-02-15T22:20:29.750Z"
   },
   {
    "duration": 440,
    "start_time": "2022-02-15T22:20:43.124Z"
   },
   {
    "duration": 98,
    "start_time": "2022-02-15T22:20:50.750Z"
   },
   {
    "duration": 103,
    "start_time": "2022-02-15T22:21:19.782Z"
   },
   {
    "duration": 148,
    "start_time": "2022-02-15T22:21:54.960Z"
   },
   {
    "duration": 98,
    "start_time": "2022-02-15T22:22:02.648Z"
   },
   {
    "duration": 113,
    "start_time": "2022-02-15T22:22:25.098Z"
   },
   {
    "duration": 101,
    "start_time": "2022-02-15T22:22:32.506Z"
   },
   {
    "duration": 100,
    "start_time": "2022-02-15T22:23:15.060Z"
   },
   {
    "duration": 102,
    "start_time": "2022-02-15T22:39:08.374Z"
   },
   {
    "duration": 1079,
    "start_time": "2022-02-15T22:41:13.445Z"
   },
   {
    "duration": 125,
    "start_time": "2022-02-15T22:41:14.526Z"
   },
   {
    "duration": 12,
    "start_time": "2022-02-15T22:41:14.652Z"
   },
   {
    "duration": 24,
    "start_time": "2022-02-15T22:41:14.666Z"
   },
   {
    "duration": 7,
    "start_time": "2022-02-15T22:41:14.692Z"
   },
   {
    "duration": 31,
    "start_time": "2022-02-15T22:41:14.701Z"
   },
   {
    "duration": 20,
    "start_time": "2022-02-15T22:41:14.733Z"
   },
   {
    "duration": 9,
    "start_time": "2022-02-15T22:41:14.756Z"
   },
   {
    "duration": 18,
    "start_time": "2022-02-15T22:41:14.767Z"
   },
   {
    "duration": 14,
    "start_time": "2022-02-15T22:41:14.786Z"
   },
   {
    "duration": 50,
    "start_time": "2022-02-15T22:41:14.801Z"
   },
   {
    "duration": 50,
    "start_time": "2022-02-15T22:41:14.852Z"
   },
   {
    "duration": 76,
    "start_time": "2022-02-15T22:41:14.903Z"
   },
   {
    "duration": 43,
    "start_time": "2022-02-15T22:41:14.980Z"
   },
   {
    "duration": 36,
    "start_time": "2022-02-15T22:41:15.032Z"
   },
   {
    "duration": 3,
    "start_time": "2022-02-15T22:41:15.069Z"
   },
   {
    "duration": 153,
    "start_time": "2022-02-15T22:41:15.074Z"
   },
   {
    "duration": 36,
    "start_time": "2022-02-15T22:41:15.231Z"
   },
   {
    "duration": 3383,
    "start_time": "2022-02-15T22:41:15.269Z"
   },
   {
    "duration": 111,
    "start_time": "2022-02-15T22:41:18.654Z"
   },
   {
    "duration": 27,
    "start_time": "2022-02-15T22:41:18.767Z"
   },
   {
    "duration": 172,
    "start_time": "2022-02-15T22:41:18.796Z"
   },
   {
    "duration": 3,
    "start_time": "2022-02-15T22:41:18.971Z"
   },
   {
    "duration": 85,
    "start_time": "2022-02-15T22:41:18.976Z"
   },
   {
    "duration": 3,
    "start_time": "2022-02-15T22:41:19.063Z"
   },
   {
    "duration": 4,
    "start_time": "2022-02-15T22:41:19.067Z"
   },
   {
    "duration": 4,
    "start_time": "2022-02-15T22:41:19.073Z"
   },
   {
    "duration": 4,
    "start_time": "2022-02-15T22:41:19.079Z"
   },
   {
    "duration": 4,
    "start_time": "2022-02-15T22:41:19.084Z"
   },
   {
    "duration": 3,
    "start_time": "2022-02-15T22:41:19.090Z"
   },
   {
    "duration": 343,
    "start_time": "2022-02-15T22:41:19.095Z"
   },
   {
    "duration": 14,
    "start_time": "2022-02-15T22:41:19.440Z"
   },
   {
    "duration": 13,
    "start_time": "2022-02-15T22:41:19.456Z"
   },
   {
    "duration": 5,
    "start_time": "2022-02-15T22:41:19.471Z"
   },
   {
    "duration": 23,
    "start_time": "2022-02-15T22:41:19.477Z"
   },
   {
    "duration": 42,
    "start_time": "2022-02-15T22:41:19.501Z"
   },
   {
    "duration": 17,
    "start_time": "2022-02-15T22:41:19.545Z"
   },
   {
    "duration": 18,
    "start_time": "2022-02-15T22:41:19.564Z"
   },
   {
    "duration": 48,
    "start_time": "2022-02-15T22:41:19.584Z"
   },
   {
    "duration": 4,
    "start_time": "2022-02-15T22:41:19.633Z"
   },
   {
    "duration": 16,
    "start_time": "2022-02-15T22:41:19.639Z"
   },
   {
    "duration": 5,
    "start_time": "2022-02-15T22:41:19.657Z"
   },
   {
    "duration": 6,
    "start_time": "2022-02-15T22:41:19.664Z"
   },
   {
    "duration": 271,
    "start_time": "2022-02-16T08:44:08.674Z"
   },
   {
    "duration": 1113,
    "start_time": "2022-02-16T08:44:18.997Z"
   },
   {
    "duration": 122,
    "start_time": "2022-02-16T08:44:20.112Z"
   },
   {
    "duration": 12,
    "start_time": "2022-02-16T08:44:20.237Z"
   },
   {
    "duration": 23,
    "start_time": "2022-02-16T08:44:20.251Z"
   },
   {
    "duration": 9,
    "start_time": "2022-02-16T08:44:20.276Z"
   },
   {
    "duration": 26,
    "start_time": "2022-02-16T08:44:20.287Z"
   },
   {
    "duration": 20,
    "start_time": "2022-02-16T08:44:20.314Z"
   },
   {
    "duration": 11,
    "start_time": "2022-02-16T08:44:20.336Z"
   },
   {
    "duration": 20,
    "start_time": "2022-02-16T08:44:20.350Z"
   },
   {
    "duration": 49,
    "start_time": "2022-02-16T08:44:20.372Z"
   },
   {
    "duration": 21,
    "start_time": "2022-02-16T08:44:20.422Z"
   },
   {
    "duration": 72,
    "start_time": "2022-02-16T08:44:20.444Z"
   },
   {
    "duration": 62,
    "start_time": "2022-02-16T08:44:20.518Z"
   },
   {
    "duration": 59,
    "start_time": "2022-02-16T08:44:20.581Z"
   },
   {
    "duration": 39,
    "start_time": "2022-02-16T08:44:20.641Z"
   },
   {
    "duration": 2,
    "start_time": "2022-02-16T08:44:20.682Z"
   },
   {
    "duration": 174,
    "start_time": "2022-02-16T08:44:20.686Z"
   },
   {
    "duration": 52,
    "start_time": "2022-02-16T08:44:20.862Z"
   },
   {
    "duration": 3523,
    "start_time": "2022-02-16T08:44:20.915Z"
   },
   {
    "duration": 107,
    "start_time": "2022-02-16T08:44:26.881Z"
   }
  ],
  "colab": {
   "collapsed_sections": [
    "E0vqbgi9ay0H",
    "VUC88oWjTJw2"
   ],
   "name": "yandex_music_project_2021.2.ipynb",
   "provenance": []
  },
  "kernelspec": {
   "display_name": "Python 3",
   "language": "python",
   "name": "python3"
  },
  "language_info": {
   "codemirror_mode": {
    "name": "ipython",
    "version": 3
   },
   "file_extension": ".py",
   "mimetype": "text/x-python",
   "name": "python",
   "nbconvert_exporter": "python",
   "pygments_lexer": "ipython3",
   "version": "3.8.3"
  },
  "toc": {
   "base_numbering": 1,
   "nav_menu": {},
   "number_sections": true,
   "sideBar": true,
   "skip_h1_title": true,
   "title_cell": "Table of Contents",
   "title_sidebar": "Contents",
   "toc_cell": false,
   "toc_position": {},
   "toc_section_display": true,
   "toc_window_display": false
  }
 },
 "nbformat": 4,
 "nbformat_minor": 1
}
