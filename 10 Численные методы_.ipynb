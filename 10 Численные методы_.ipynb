{
 "cells": [
  {
   "cell_type": "markdown",
   "metadata": {},
   "source": [
    "# Определение стоимости автомобилей"
   ]
  },
  {
   "cell_type": "markdown",
   "metadata": {},
   "source": [
    "Сервис по продаже автомобилей с пробегом «Не бит, не крашен» разрабатывает приложение для привлечения новых клиентов. В нём можно быстро узнать рыночную стоимость своего автомобиля. В нашем распоряжении исторические данные: технические характеристики, комплектации и цены автомобилей. Нам нужно построить модель для определения стоимости. \n",
    "\n",
    "Заказчику важны:\n",
    "\n",
    "- качество предсказания;\n",
    "- скорость предсказания;\n",
    "- время обучения.\n",
    "\n",
    "**Ход работы:**\n",
    "1. Загрузка данных, путь к файлу: /datasets/autos.csv.\n",
    "2. Изучение данных. Заполнить пропущенные значения и обработать аномалии в столбцах. Если среди признаков имеются неинформативные, удалитье их.\n",
    "3. Подготовка выборки для обучения моделей.\n",
    "4. Обучение разных моделей, одна из которых — LightGBM, как минимум одна — не бустинг. Для каждой модели попробовать разные гиперпараметры.\n",
    "5. Проанализировать время обучения, время предсказания и качество моделей.\n",
    "6. Опираясь на критерии заказчика, выбрать лучшую модель, проверить её качество на тестовой выборке.\n",
    "\n",
    "**Примечания:**\n",
    "- Для оценки качества моделей применить метрику RMSE.\n",
    "- Значение метрики RMSE должно быть меньше 2500.\n",
    "- Освоение библиотеки LightGBM и её средствами построить модели градиентного бустинга.\n",
    "- Время выполнения ячейки кода Jupyter Notebook можно получить специальной командой. Найти её.\n",
    "- Модель градиентного бустинга может долго обучаться, поэтому неободимо изменить у неё только два-три параметра.\n",
    "- Если перестанет работать Jupyter Notebook, удалите лишние переменные оператором del.\n",
    "\n",
    "**Описание данных:**\n",
    "- DateCrawled — дата скачивания анкеты из базы\n",
    "- VehicleType — тип автомобильного кузова\n",
    "- RegistrationYear — год регистрации автомобиля\n",
    "- Gearbox — тип коробки передач\n",
    "- Power — мощность (л. с.)\n",
    "- Model — модель автомобиля\n",
    "- Kilometer — пробег (км)\n",
    "- RegistrationMonth — месяц регистрации автомобиля\n",
    "- FuelType — тип топлива\n",
    "- Brand — марка автомобиля\n",
    "- NotRepaired — была машина в ремонте или нет\n",
    "- DateCreated — дата создания анкеты\n",
    "- NumberOfPictures — количество фотографий автомобиля\n",
    "- PostalCode — почтовый индекс владельца анкеты (пользователя)\n",
    "- LastSeen — дата последней активности пользователя\n",
    "- Price — цена (евро) - **целевой признак**"
   ]
  },
  {
   "cell_type": "markdown",
   "metadata": {},
   "source": [
    "## Подготовка данных"
   ]
  },
  {
   "cell_type": "code",
   "execution_count": 1,
   "metadata": {},
   "outputs": [],
   "source": [
    "# Импорты\n",
    "\n",
    "import pandas as pd\n",
    "import numpy as np\n",
    "\n",
    "from sklearn.preprocessing import StandardScaler\n",
    "from sklearn.model_selection import train_test_split\n",
    "from sklearn.model_selection import cross_val_score\n",
    "from sklearn.model_selection import GridSearchCV\n",
    "from sklearn.metrics import mean_squared_error\n",
    "from sklearn.metrics import make_scorer\n",
    "from sklearn.tree import DecisionTreeRegressor\n",
    "from sklearn.ensemble import RandomForestRegressor\n",
    "from lightgbm import LGBMRegressor\n",
    "from catboost import CatBoostRegressor"
   ]
  },
  {
   "cell_type": "code",
   "execution_count": 2,
   "metadata": {},
   "outputs": [],
   "source": [
    "# Загрузка данных\n",
    "\n",
    "df = pd.read_csv('/datasets/autos.csv')"
   ]
  },
  {
   "cell_type": "code",
   "execution_count": 3,
   "metadata": {},
   "outputs": [
    {
     "data": {
      "text/html": [
       "<div>\n",
       "<style scoped>\n",
       "    .dataframe tbody tr th:only-of-type {\n",
       "        vertical-align: middle;\n",
       "    }\n",
       "\n",
       "    .dataframe tbody tr th {\n",
       "        vertical-align: top;\n",
       "    }\n",
       "\n",
       "    .dataframe thead th {\n",
       "        text-align: right;\n",
       "    }\n",
       "</style>\n",
       "<table border=\"1\" class=\"dataframe\">\n",
       "  <thead>\n",
       "    <tr style=\"text-align: right;\">\n",
       "      <th></th>\n",
       "      <th>DateCrawled</th>\n",
       "      <th>Price</th>\n",
       "      <th>VehicleType</th>\n",
       "      <th>RegistrationYear</th>\n",
       "      <th>Gearbox</th>\n",
       "      <th>Power</th>\n",
       "      <th>Model</th>\n",
       "      <th>Kilometer</th>\n",
       "      <th>RegistrationMonth</th>\n",
       "      <th>FuelType</th>\n",
       "      <th>Brand</th>\n",
       "      <th>NotRepaired</th>\n",
       "      <th>DateCreated</th>\n",
       "      <th>NumberOfPictures</th>\n",
       "      <th>PostalCode</th>\n",
       "      <th>LastSeen</th>\n",
       "    </tr>\n",
       "  </thead>\n",
       "  <tbody>\n",
       "    <tr>\n",
       "      <th>0</th>\n",
       "      <td>2016-03-24 11:52:17</td>\n",
       "      <td>480</td>\n",
       "      <td>NaN</td>\n",
       "      <td>1993</td>\n",
       "      <td>manual</td>\n",
       "      <td>0</td>\n",
       "      <td>golf</td>\n",
       "      <td>150000</td>\n",
       "      <td>0</td>\n",
       "      <td>petrol</td>\n",
       "      <td>volkswagen</td>\n",
       "      <td>NaN</td>\n",
       "      <td>2016-03-24 00:00:00</td>\n",
       "      <td>0</td>\n",
       "      <td>70435</td>\n",
       "      <td>2016-04-07 03:16:57</td>\n",
       "    </tr>\n",
       "    <tr>\n",
       "      <th>1</th>\n",
       "      <td>2016-03-24 10:58:45</td>\n",
       "      <td>18300</td>\n",
       "      <td>coupe</td>\n",
       "      <td>2011</td>\n",
       "      <td>manual</td>\n",
       "      <td>190</td>\n",
       "      <td>NaN</td>\n",
       "      <td>125000</td>\n",
       "      <td>5</td>\n",
       "      <td>gasoline</td>\n",
       "      <td>audi</td>\n",
       "      <td>yes</td>\n",
       "      <td>2016-03-24 00:00:00</td>\n",
       "      <td>0</td>\n",
       "      <td>66954</td>\n",
       "      <td>2016-04-07 01:46:50</td>\n",
       "    </tr>\n",
       "    <tr>\n",
       "      <th>2</th>\n",
       "      <td>2016-03-14 12:52:21</td>\n",
       "      <td>9800</td>\n",
       "      <td>suv</td>\n",
       "      <td>2004</td>\n",
       "      <td>auto</td>\n",
       "      <td>163</td>\n",
       "      <td>grand</td>\n",
       "      <td>125000</td>\n",
       "      <td>8</td>\n",
       "      <td>gasoline</td>\n",
       "      <td>jeep</td>\n",
       "      <td>NaN</td>\n",
       "      <td>2016-03-14 00:00:00</td>\n",
       "      <td>0</td>\n",
       "      <td>90480</td>\n",
       "      <td>2016-04-05 12:47:46</td>\n",
       "    </tr>\n",
       "    <tr>\n",
       "      <th>3</th>\n",
       "      <td>2016-03-17 16:54:04</td>\n",
       "      <td>1500</td>\n",
       "      <td>small</td>\n",
       "      <td>2001</td>\n",
       "      <td>manual</td>\n",
       "      <td>75</td>\n",
       "      <td>golf</td>\n",
       "      <td>150000</td>\n",
       "      <td>6</td>\n",
       "      <td>petrol</td>\n",
       "      <td>volkswagen</td>\n",
       "      <td>no</td>\n",
       "      <td>2016-03-17 00:00:00</td>\n",
       "      <td>0</td>\n",
       "      <td>91074</td>\n",
       "      <td>2016-03-17 17:40:17</td>\n",
       "    </tr>\n",
       "    <tr>\n",
       "      <th>4</th>\n",
       "      <td>2016-03-31 17:25:20</td>\n",
       "      <td>3600</td>\n",
       "      <td>small</td>\n",
       "      <td>2008</td>\n",
       "      <td>manual</td>\n",
       "      <td>69</td>\n",
       "      <td>fabia</td>\n",
       "      <td>90000</td>\n",
       "      <td>7</td>\n",
       "      <td>gasoline</td>\n",
       "      <td>skoda</td>\n",
       "      <td>no</td>\n",
       "      <td>2016-03-31 00:00:00</td>\n",
       "      <td>0</td>\n",
       "      <td>60437</td>\n",
       "      <td>2016-04-06 10:17:21</td>\n",
       "    </tr>\n",
       "    <tr>\n",
       "      <th>...</th>\n",
       "      <td>...</td>\n",
       "      <td>...</td>\n",
       "      <td>...</td>\n",
       "      <td>...</td>\n",
       "      <td>...</td>\n",
       "      <td>...</td>\n",
       "      <td>...</td>\n",
       "      <td>...</td>\n",
       "      <td>...</td>\n",
       "      <td>...</td>\n",
       "      <td>...</td>\n",
       "      <td>...</td>\n",
       "      <td>...</td>\n",
       "      <td>...</td>\n",
       "      <td>...</td>\n",
       "      <td>...</td>\n",
       "    </tr>\n",
       "    <tr>\n",
       "      <th>354364</th>\n",
       "      <td>2016-03-21 09:50:58</td>\n",
       "      <td>0</td>\n",
       "      <td>NaN</td>\n",
       "      <td>2005</td>\n",
       "      <td>manual</td>\n",
       "      <td>0</td>\n",
       "      <td>colt</td>\n",
       "      <td>150000</td>\n",
       "      <td>7</td>\n",
       "      <td>petrol</td>\n",
       "      <td>mitsubishi</td>\n",
       "      <td>yes</td>\n",
       "      <td>2016-03-21 00:00:00</td>\n",
       "      <td>0</td>\n",
       "      <td>2694</td>\n",
       "      <td>2016-03-21 10:42:49</td>\n",
       "    </tr>\n",
       "    <tr>\n",
       "      <th>354365</th>\n",
       "      <td>2016-03-14 17:48:27</td>\n",
       "      <td>2200</td>\n",
       "      <td>NaN</td>\n",
       "      <td>2005</td>\n",
       "      <td>NaN</td>\n",
       "      <td>0</td>\n",
       "      <td>NaN</td>\n",
       "      <td>20000</td>\n",
       "      <td>1</td>\n",
       "      <td>NaN</td>\n",
       "      <td>sonstige_autos</td>\n",
       "      <td>NaN</td>\n",
       "      <td>2016-03-14 00:00:00</td>\n",
       "      <td>0</td>\n",
       "      <td>39576</td>\n",
       "      <td>2016-04-06 00:46:52</td>\n",
       "    </tr>\n",
       "    <tr>\n",
       "      <th>354366</th>\n",
       "      <td>2016-03-05 19:56:21</td>\n",
       "      <td>1199</td>\n",
       "      <td>convertible</td>\n",
       "      <td>2000</td>\n",
       "      <td>auto</td>\n",
       "      <td>101</td>\n",
       "      <td>fortwo</td>\n",
       "      <td>125000</td>\n",
       "      <td>3</td>\n",
       "      <td>petrol</td>\n",
       "      <td>smart</td>\n",
       "      <td>no</td>\n",
       "      <td>2016-03-05 00:00:00</td>\n",
       "      <td>0</td>\n",
       "      <td>26135</td>\n",
       "      <td>2016-03-11 18:17:12</td>\n",
       "    </tr>\n",
       "    <tr>\n",
       "      <th>354367</th>\n",
       "      <td>2016-03-19 18:57:12</td>\n",
       "      <td>9200</td>\n",
       "      <td>bus</td>\n",
       "      <td>1996</td>\n",
       "      <td>manual</td>\n",
       "      <td>102</td>\n",
       "      <td>transporter</td>\n",
       "      <td>150000</td>\n",
       "      <td>3</td>\n",
       "      <td>gasoline</td>\n",
       "      <td>volkswagen</td>\n",
       "      <td>no</td>\n",
       "      <td>2016-03-19 00:00:00</td>\n",
       "      <td>0</td>\n",
       "      <td>87439</td>\n",
       "      <td>2016-04-07 07:15:26</td>\n",
       "    </tr>\n",
       "    <tr>\n",
       "      <th>354368</th>\n",
       "      <td>2016-03-20 19:41:08</td>\n",
       "      <td>3400</td>\n",
       "      <td>wagon</td>\n",
       "      <td>2002</td>\n",
       "      <td>manual</td>\n",
       "      <td>100</td>\n",
       "      <td>golf</td>\n",
       "      <td>150000</td>\n",
       "      <td>6</td>\n",
       "      <td>gasoline</td>\n",
       "      <td>volkswagen</td>\n",
       "      <td>NaN</td>\n",
       "      <td>2016-03-20 00:00:00</td>\n",
       "      <td>0</td>\n",
       "      <td>40764</td>\n",
       "      <td>2016-03-24 12:45:21</td>\n",
       "    </tr>\n",
       "  </tbody>\n",
       "</table>\n",
       "<p>354369 rows × 16 columns</p>\n",
       "</div>"
      ],
      "text/plain": [
       "                DateCrawled  Price  VehicleType  RegistrationYear Gearbox  \\\n",
       "0       2016-03-24 11:52:17    480          NaN              1993  manual   \n",
       "1       2016-03-24 10:58:45  18300        coupe              2011  manual   \n",
       "2       2016-03-14 12:52:21   9800          suv              2004    auto   \n",
       "3       2016-03-17 16:54:04   1500        small              2001  manual   \n",
       "4       2016-03-31 17:25:20   3600        small              2008  manual   \n",
       "...                     ...    ...          ...               ...     ...   \n",
       "354364  2016-03-21 09:50:58      0          NaN              2005  manual   \n",
       "354365  2016-03-14 17:48:27   2200          NaN              2005     NaN   \n",
       "354366  2016-03-05 19:56:21   1199  convertible              2000    auto   \n",
       "354367  2016-03-19 18:57:12   9200          bus              1996  manual   \n",
       "354368  2016-03-20 19:41:08   3400        wagon              2002  manual   \n",
       "\n",
       "        Power        Model  Kilometer  RegistrationMonth  FuelType  \\\n",
       "0           0         golf     150000                  0    petrol   \n",
       "1         190          NaN     125000                  5  gasoline   \n",
       "2         163        grand     125000                  8  gasoline   \n",
       "3          75         golf     150000                  6    petrol   \n",
       "4          69        fabia      90000                  7  gasoline   \n",
       "...       ...          ...        ...                ...       ...   \n",
       "354364      0         colt     150000                  7    petrol   \n",
       "354365      0          NaN      20000                  1       NaN   \n",
       "354366    101       fortwo     125000                  3    petrol   \n",
       "354367    102  transporter     150000                  3  gasoline   \n",
       "354368    100         golf     150000                  6  gasoline   \n",
       "\n",
       "                 Brand NotRepaired          DateCreated  NumberOfPictures  \\\n",
       "0           volkswagen         NaN  2016-03-24 00:00:00                 0   \n",
       "1                 audi         yes  2016-03-24 00:00:00                 0   \n",
       "2                 jeep         NaN  2016-03-14 00:00:00                 0   \n",
       "3           volkswagen          no  2016-03-17 00:00:00                 0   \n",
       "4                skoda          no  2016-03-31 00:00:00                 0   \n",
       "...                ...         ...                  ...               ...   \n",
       "354364      mitsubishi         yes  2016-03-21 00:00:00                 0   \n",
       "354365  sonstige_autos         NaN  2016-03-14 00:00:00                 0   \n",
       "354366           smart          no  2016-03-05 00:00:00                 0   \n",
       "354367      volkswagen          no  2016-03-19 00:00:00                 0   \n",
       "354368      volkswagen         NaN  2016-03-20 00:00:00                 0   \n",
       "\n",
       "        PostalCode             LastSeen  \n",
       "0            70435  2016-04-07 03:16:57  \n",
       "1            66954  2016-04-07 01:46:50  \n",
       "2            90480  2016-04-05 12:47:46  \n",
       "3            91074  2016-03-17 17:40:17  \n",
       "4            60437  2016-04-06 10:17:21  \n",
       "...            ...                  ...  \n",
       "354364        2694  2016-03-21 10:42:49  \n",
       "354365       39576  2016-04-06 00:46:52  \n",
       "354366       26135  2016-03-11 18:17:12  \n",
       "354367       87439  2016-04-07 07:15:26  \n",
       "354368       40764  2016-03-24 12:45:21  \n",
       "\n",
       "[354369 rows x 16 columns]"
      ]
     },
     "execution_count": 3,
     "metadata": {},
     "output_type": "execute_result"
    }
   ],
   "source": [
    "# Проверяем, что таблица загружена корректно, разделители верные\n",
    "df"
   ]
  },
  {
   "cell_type": "markdown",
   "metadata": {},
   "source": [
    "### Предварительная подготовка данных"
   ]
  },
  {
   "cell_type": "markdown",
   "metadata": {},
   "source": [
    "Приведём наименования столбцов к общепринятому стилю:"
   ]
  },
  {
   "cell_type": "code",
   "execution_count": 4,
   "metadata": {},
   "outputs": [
    {
     "data": {
      "text/plain": [
       "Index(['DateCrawled', 'Price', 'VehicleType', 'RegistrationYear', 'Gearbox',\n",
       "       'Power', 'Model', 'Kilometer', 'RegistrationMonth', 'FuelType', 'Brand',\n",
       "       'NotRepaired', 'DateCreated', 'NumberOfPictures', 'PostalCode',\n",
       "       'LastSeen'],\n",
       "      dtype='object')"
      ]
     },
     "execution_count": 4,
     "metadata": {},
     "output_type": "execute_result"
    }
   ],
   "source": [
    "df.columns"
   ]
  },
  {
   "cell_type": "code",
   "execution_count": 5,
   "metadata": {},
   "outputs": [],
   "source": [
    "df = df.rename(columns={\n",
    "    'DateCrawled': 'date_crawled',\n",
    "    'Price': 'price',\n",
    "    'VehicleType': 'vehicle_type',\n",
    "    'RegistrationYear': 'registration_year',\n",
    "    'Gearbox': 'gearbox',\n",
    "    'Power': 'power',\n",
    "    'Model': 'model',\n",
    "    'Kilometer': 'mileage', #поэтому не использую простое приведение к нижнему регистру\n",
    "    'RegistrationMonth': 'registration_month',\n",
    "    'FuelType': 'fuel_type',\n",
    "    'Brand': 'brand',\n",
    "    'NotRepaired': 'not_repaired',\n",
    "    'DateCreated': 'date_created', #уточнить отличие от date_crawled\n",
    "    'NumberOfPictures': 'pictures_count',\n",
    "    'PostalCode': 'postcode',\n",
    "    'LastSeen': 'last_seen'\n",
    "})"
   ]
  },
  {
   "cell_type": "code",
   "execution_count": 6,
   "metadata": {},
   "outputs": [
    {
     "name": "stdout",
     "output_type": "stream",
     "text": [
      "<class 'pandas.core.frame.DataFrame'>\n",
      "RangeIndex: 354369 entries, 0 to 354368\n",
      "Data columns (total 16 columns):\n",
      " #   Column              Non-Null Count   Dtype \n",
      "---  ------              --------------   ----- \n",
      " 0   date_crawled        354369 non-null  object\n",
      " 1   price               354369 non-null  int64 \n",
      " 2   vehicle_type        316879 non-null  object\n",
      " 3   registration_year   354369 non-null  int64 \n",
      " 4   gearbox             334536 non-null  object\n",
      " 5   power               354369 non-null  int64 \n",
      " 6   model               334664 non-null  object\n",
      " 7   mileage             354369 non-null  int64 \n",
      " 8   registration_month  354369 non-null  int64 \n",
      " 9   fuel_type           321474 non-null  object\n",
      " 10  brand               354369 non-null  object\n",
      " 11  not_repaired        283215 non-null  object\n",
      " 12  date_created        354369 non-null  object\n",
      " 13  pictures_count      354369 non-null  int64 \n",
      " 14  postcode            354369 non-null  int64 \n",
      " 15  last_seen           354369 non-null  object\n",
      "dtypes: int64(7), object(9)\n",
      "memory usage: 43.3+ MB\n"
     ]
    }
   ],
   "source": [
    "df.info()"
   ]
  },
  {
   "cell_type": "markdown",
   "metadata": {},
   "source": [
    "В данных содержится большое количество пропусков в наиболее важных признаках:"
   ]
  },
  {
   "cell_type": "code",
   "execution_count": 7,
   "metadata": {},
   "outputs": [
    {
     "data": {
      "text/plain": [
       "date_crawled              0\n",
       "price                     0\n",
       "vehicle_type          37490\n",
       "registration_year         0\n",
       "gearbox               19833\n",
       "power                     0\n",
       "model                 19705\n",
       "mileage                   0\n",
       "registration_month        0\n",
       "fuel_type             32895\n",
       "brand                     0\n",
       "not_repaired          71154\n",
       "date_created              0\n",
       "pictures_count            0\n",
       "postcode                  0\n",
       "last_seen                 0\n",
       "dtype: int64"
      ]
     },
     "execution_count": 7,
     "metadata": {},
     "output_type": "execute_result"
    }
   ],
   "source": [
    "df.isnull().sum()"
   ]
  },
  {
   "cell_type": "markdown",
   "metadata": {},
   "source": [
    "К сожалению, пропуски в указанных столбцах восстановить невозможно, так как автомобили одной модели могут иметь разные типы кузова, иметь разную коробку передач и тип топлива. Так как информация по указанным признакам может стать ключевой для пользователей и клиентов, заполнять ориентировочными значениями не будем.\n",
    "\n",
    "В столбце \"not_repaired\" также имеется большое количество пропусков. В случае с автомобилями пропуск может означать \"yes\", т.к. пользователь не посчитал нужным это уточнять, а может значить \"no\" с целью скрыть ремонт и не попасть в нежелательные фильтры при фильтрации таблицы. Решение о работе с пропусками примем далее в ходе исследования."
   ]
  },
  {
   "cell_type": "code",
   "execution_count": 8,
   "metadata": {},
   "outputs": [
    {
     "data": {
      "text/plain": [
       "4"
      ]
     },
     "execution_count": 8,
     "metadata": {},
     "output_type": "execute_result"
    }
   ],
   "source": [
    "# Проверяем на дубликаты\n",
    "\n",
    "df.duplicated().sum()"
   ]
  },
  {
   "cell_type": "markdown",
   "metadata": {},
   "source": [
    "Так как в столбце 'date_crawled' указаны значения с точностью до секунды, вероятность того, что строки являются не дублями, а двумя разными объектами, околонулевая. Удалим дубли."
   ]
  },
  {
   "cell_type": "code",
   "execution_count": 9,
   "metadata": {},
   "outputs": [],
   "source": [
    "df = df.drop_duplicates().reset_index(drop=True)"
   ]
  },
  {
   "cell_type": "markdown",
   "metadata": {},
   "source": [
    "Рассмотрим параметры массивов в датафрейме:"
   ]
  },
  {
   "cell_type": "code",
   "execution_count": 10,
   "metadata": {
    "scrolled": false
   },
   "outputs": [
    {
     "data": {
      "text/html": [
       "<div>\n",
       "<style scoped>\n",
       "    .dataframe tbody tr th:only-of-type {\n",
       "        vertical-align: middle;\n",
       "    }\n",
       "\n",
       "    .dataframe tbody tr th {\n",
       "        vertical-align: top;\n",
       "    }\n",
       "\n",
       "    .dataframe thead th {\n",
       "        text-align: right;\n",
       "    }\n",
       "</style>\n",
       "<table border=\"1\" class=\"dataframe\">\n",
       "  <thead>\n",
       "    <tr style=\"text-align: right;\">\n",
       "      <th></th>\n",
       "      <th>price</th>\n",
       "      <th>registration_year</th>\n",
       "      <th>power</th>\n",
       "      <th>mileage</th>\n",
       "      <th>registration_month</th>\n",
       "      <th>pictures_count</th>\n",
       "      <th>postcode</th>\n",
       "    </tr>\n",
       "  </thead>\n",
       "  <tbody>\n",
       "    <tr>\n",
       "      <th>count</th>\n",
       "      <td>354365.000000</td>\n",
       "      <td>354365.000000</td>\n",
       "      <td>354365.000000</td>\n",
       "      <td>354365.000000</td>\n",
       "      <td>354365.000000</td>\n",
       "      <td>354365.0</td>\n",
       "      <td>354365.000000</td>\n",
       "    </tr>\n",
       "    <tr>\n",
       "      <th>mean</th>\n",
       "      <td>4416.679830</td>\n",
       "      <td>2004.234481</td>\n",
       "      <td>110.093816</td>\n",
       "      <td>128211.363989</td>\n",
       "      <td>5.714650</td>\n",
       "      <td>0.0</td>\n",
       "      <td>50508.503800</td>\n",
       "    </tr>\n",
       "    <tr>\n",
       "      <th>std</th>\n",
       "      <td>4514.176349</td>\n",
       "      <td>90.228466</td>\n",
       "      <td>189.851330</td>\n",
       "      <td>37905.083858</td>\n",
       "      <td>3.726432</td>\n",
       "      <td>0.0</td>\n",
       "      <td>25783.100078</td>\n",
       "    </tr>\n",
       "    <tr>\n",
       "      <th>min</th>\n",
       "      <td>0.000000</td>\n",
       "      <td>1000.000000</td>\n",
       "      <td>0.000000</td>\n",
       "      <td>5000.000000</td>\n",
       "      <td>0.000000</td>\n",
       "      <td>0.0</td>\n",
       "      <td>1067.000000</td>\n",
       "    </tr>\n",
       "    <tr>\n",
       "      <th>25%</th>\n",
       "      <td>1050.000000</td>\n",
       "      <td>1999.000000</td>\n",
       "      <td>69.000000</td>\n",
       "      <td>125000.000000</td>\n",
       "      <td>3.000000</td>\n",
       "      <td>0.0</td>\n",
       "      <td>30165.000000</td>\n",
       "    </tr>\n",
       "    <tr>\n",
       "      <th>50%</th>\n",
       "      <td>2700.000000</td>\n",
       "      <td>2003.000000</td>\n",
       "      <td>105.000000</td>\n",
       "      <td>150000.000000</td>\n",
       "      <td>6.000000</td>\n",
       "      <td>0.0</td>\n",
       "      <td>49413.000000</td>\n",
       "    </tr>\n",
       "    <tr>\n",
       "      <th>75%</th>\n",
       "      <td>6400.000000</td>\n",
       "      <td>2008.000000</td>\n",
       "      <td>143.000000</td>\n",
       "      <td>150000.000000</td>\n",
       "      <td>9.000000</td>\n",
       "      <td>0.0</td>\n",
       "      <td>71083.000000</td>\n",
       "    </tr>\n",
       "    <tr>\n",
       "      <th>max</th>\n",
       "      <td>20000.000000</td>\n",
       "      <td>9999.000000</td>\n",
       "      <td>20000.000000</td>\n",
       "      <td>150000.000000</td>\n",
       "      <td>12.000000</td>\n",
       "      <td>0.0</td>\n",
       "      <td>99998.000000</td>\n",
       "    </tr>\n",
       "  </tbody>\n",
       "</table>\n",
       "</div>"
      ],
      "text/plain": [
       "               price  registration_year          power        mileage  \\\n",
       "count  354365.000000      354365.000000  354365.000000  354365.000000   \n",
       "mean     4416.679830        2004.234481     110.093816  128211.363989   \n",
       "std      4514.176349          90.228466     189.851330   37905.083858   \n",
       "min         0.000000        1000.000000       0.000000    5000.000000   \n",
       "25%      1050.000000        1999.000000      69.000000  125000.000000   \n",
       "50%      2700.000000        2003.000000     105.000000  150000.000000   \n",
       "75%      6400.000000        2008.000000     143.000000  150000.000000   \n",
       "max     20000.000000        9999.000000   20000.000000  150000.000000   \n",
       "\n",
       "       registration_month  pictures_count       postcode  \n",
       "count       354365.000000        354365.0  354365.000000  \n",
       "mean             5.714650             0.0   50508.503800  \n",
       "std              3.726432             0.0   25783.100078  \n",
       "min              0.000000             0.0    1067.000000  \n",
       "25%              3.000000             0.0   30165.000000  \n",
       "50%              6.000000             0.0   49413.000000  \n",
       "75%              9.000000             0.0   71083.000000  \n",
       "max             12.000000             0.0   99998.000000  "
      ]
     },
     "execution_count": 10,
     "metadata": {},
     "output_type": "execute_result"
    }
   ],
   "source": [
    "df.describe()"
   ]
  },
  {
   "cell_type": "markdown",
   "metadata": {},
   "source": [
    "В значениях присутствуют аномалии:\n",
    "1. Минимальная цена - 0 евро;\n",
    "2. Минимальный год регистрации - 1000, максимальный год регистрации - 9999;\n",
    "3. Мощность двигателя: минимальная - 0, максимальная 20000 (возможно, это вертолёт с газотурбинными двигателями - проверим);\n",
    "4. Месяц регистрации - неизвестно с какого числа идёт отсчёт - проверить объекты с 0 и 12;\n",
    "5. Количество изображений - 0."
   ]
  },
  {
   "cell_type": "markdown",
   "metadata": {},
   "source": [
    "Рассмотрим распределение категориальных признаков, заодно проверим наличие скрытых дублей:"
   ]
  },
  {
   "cell_type": "code",
   "execution_count": 11,
   "metadata": {},
   "outputs": [
    {
     "data": {
      "text/plain": [
       "'date_crawled'"
      ]
     },
     "metadata": {},
     "output_type": "display_data"
    },
    {
     "data": {
      "text/plain": [
       "2016-03-24 14:49:47    7\n",
       "2016-03-26 22:57:31    6\n",
       "2016-03-19 21:49:56    6\n",
       "2016-03-26 10:51:07    5\n",
       "2016-03-16 17:43:49    5\n",
       "                      ..\n",
       "2016-04-01 08:56:03    1\n",
       "2016-04-04 17:48:02    1\n",
       "2016-03-13 08:49:00    1\n",
       "2016-03-08 14:50:46    1\n",
       "2016-03-21 14:49:52    1\n",
       "Name: date_crawled, Length: 271174, dtype: int64"
      ]
     },
     "metadata": {},
     "output_type": "display_data"
    },
    {
     "data": {
      "text/plain": [
       "'vehicle_type'"
      ]
     },
     "metadata": {},
     "output_type": "display_data"
    },
    {
     "data": {
      "text/plain": [
       "sedan          91457\n",
       "small          79830\n",
       "wagon          65165\n",
       "bus            28775\n",
       "convertible    20203\n",
       "coupe          16161\n",
       "suv            11996\n",
       "other           3288\n",
       "Name: vehicle_type, dtype: int64"
      ]
     },
     "metadata": {},
     "output_type": "display_data"
    },
    {
     "data": {
      "text/plain": [
       "'gearbox'"
      ]
     },
     "metadata": {},
     "output_type": "display_data"
    },
    {
     "data": {
      "text/plain": [
       "manual    268249\n",
       "auto       66283\n",
       "Name: gearbox, dtype: int64"
      ]
     },
     "metadata": {},
     "output_type": "display_data"
    },
    {
     "data": {
      "text/plain": [
       "'model'"
      ]
     },
     "metadata": {},
     "output_type": "display_data"
    },
    {
     "data": {
      "text/plain": [
       "golf                  29232\n",
       "other                 24420\n",
       "3er                   19761\n",
       "polo                  13066\n",
       "corsa                 12570\n",
       "                      ...  \n",
       "i3                        8\n",
       "serie_3                   4\n",
       "rangerover                4\n",
       "serie_1                   2\n",
       "range_rover_evoque        2\n",
       "Name: model, Length: 250, dtype: int64"
      ]
     },
     "metadata": {},
     "output_type": "display_data"
    },
    {
     "data": {
      "text/plain": [
       "'fuel_type'"
      ]
     },
     "metadata": {},
     "output_type": "display_data"
    },
    {
     "data": {
      "text/plain": [
       "petrol      216349\n",
       "gasoline     98719\n",
       "lpg           5310\n",
       "cng            565\n",
       "hybrid         233\n",
       "other          204\n",
       "electric        90\n",
       "Name: fuel_type, dtype: int64"
      ]
     },
     "metadata": {},
     "output_type": "display_data"
    },
    {
     "data": {
      "text/plain": [
       "'brand'"
      ]
     },
     "metadata": {},
     "output_type": "display_data"
    },
    {
     "data": {
      "text/plain": [
       "volkswagen        77012\n",
       "opel              39931\n",
       "bmw               36914\n",
       "mercedes_benz     32044\n",
       "audi              29456\n",
       "ford              25179\n",
       "renault           17927\n",
       "peugeot           10998\n",
       "fiat               9643\n",
       "seat               6907\n",
       "mazda              5615\n",
       "skoda              5500\n",
       "smart              5246\n",
       "citroen            5148\n",
       "nissan             4941\n",
       "toyota             4606\n",
       "hyundai            3587\n",
       "sonstige_autos     3374\n",
       "volvo              3210\n",
       "mini               3202\n",
       "mitsubishi         3022\n",
       "honda              2817\n",
       "kia                2465\n",
       "suzuki             2322\n",
       "alfa_romeo         2314\n",
       "chevrolet          1754\n",
       "chrysler           1439\n",
       "dacia               900\n",
       "daihatsu            806\n",
       "subaru              762\n",
       "porsche             758\n",
       "jeep                677\n",
       "trabant             589\n",
       "land_rover          545\n",
       "daewoo              542\n",
       "saab                526\n",
       "jaguar              505\n",
       "rover               486\n",
       "lancia              471\n",
       "lada                225\n",
       "Name: brand, dtype: int64"
      ]
     },
     "metadata": {},
     "output_type": "display_data"
    },
    {
     "data": {
      "text/plain": [
       "'not_repaired'"
      ]
     },
     "metadata": {},
     "output_type": "display_data"
    },
    {
     "data": {
      "text/plain": [
       "no     247158\n",
       "yes     36053\n",
       "Name: not_repaired, dtype: int64"
      ]
     },
     "metadata": {},
     "output_type": "display_data"
    },
    {
     "data": {
      "text/plain": [
       "'date_created'"
      ]
     },
     "metadata": {},
     "output_type": "display_data"
    },
    {
     "data": {
      "text/plain": [
       "2016-04-03 00:00:00    13718\n",
       "2016-04-04 00:00:00    13317\n",
       "2016-03-20 00:00:00    12918\n",
       "2016-03-12 00:00:00    12840\n",
       "2016-03-21 00:00:00    12691\n",
       "                       ...  \n",
       "2015-11-17 00:00:00        1\n",
       "2015-11-12 00:00:00        1\n",
       "2015-08-07 00:00:00        1\n",
       "2015-12-17 00:00:00        1\n",
       "2016-01-15 00:00:00        1\n",
       "Name: date_created, Length: 109, dtype: int64"
      ]
     },
     "metadata": {},
     "output_type": "display_data"
    },
    {
     "data": {
      "text/plain": [
       "'last_seen'"
      ]
     },
     "metadata": {},
     "output_type": "display_data"
    },
    {
     "data": {
      "text/plain": [
       "2016-04-06 13:45:54    17\n",
       "2016-04-06 09:17:58    16\n",
       "2016-04-06 10:15:26    16\n",
       "2016-04-06 08:46:30    16\n",
       "2016-04-06 09:46:00    16\n",
       "                       ..\n",
       "2016-03-28 16:17:46     1\n",
       "2016-04-04 10:45:56     1\n",
       "2016-04-03 11:48:01     1\n",
       "2016-04-01 16:42:02     1\n",
       "2016-03-20 13:37:40     1\n",
       "Name: last_seen, Length: 179150, dtype: int64"
      ]
     },
     "metadata": {},
     "output_type": "display_data"
    }
   ],
   "source": [
    "for i in df.select_dtypes('object').columns:\n",
    "    display(i)\n",
    "    display(df[i].value_counts())"
   ]
  },
  {
   "cell_type": "code",
   "execution_count": 12,
   "metadata": {},
   "outputs": [
    {
     "data": {
      "text/plain": [
       "Index(['date_crawled', 'price', 'vehicle_type', 'registration_year', 'gearbox',\n",
       "       'power', 'model', 'mileage', 'registration_month', 'fuel_type', 'brand',\n",
       "       'not_repaired', 'date_created', 'pictures_count', 'postcode',\n",
       "       'last_seen'],\n",
       "      dtype='object')"
      ]
     },
     "execution_count": 12,
     "metadata": {},
     "output_type": "execute_result"
    }
   ],
   "source": [
    "df.columns"
   ]
  },
  {
   "cell_type": "code",
   "execution_count": 13,
   "metadata": {},
   "outputs": [
    {
     "data": {
      "text/plain": [
       "sedan          91457\n",
       "small          79830\n",
       "wagon          65165\n",
       "bus            28775\n",
       "convertible    20203\n",
       "coupe          16161\n",
       "suv            11996\n",
       "other           3288\n",
       "Name: vehicle_type, dtype: int64"
      ]
     },
     "execution_count": 13,
     "metadata": {},
     "output_type": "execute_result"
    }
   ],
   "source": [
    "df.vehicle_type.value_counts()"
   ]
  },
  {
   "cell_type": "code",
   "execution_count": 14,
   "metadata": {},
   "outputs": [
    {
     "data": {
      "text/plain": [
       "manual    268249\n",
       "auto       66283\n",
       "Name: gearbox, dtype: int64"
      ]
     },
     "execution_count": 14,
     "metadata": {},
     "output_type": "execute_result"
    }
   ],
   "source": [
    "df.gearbox.value_counts()"
   ]
  },
  {
   "cell_type": "code",
   "execution_count": 15,
   "metadata": {},
   "outputs": [
    {
     "data": {
      "text/plain": [
       "array(['golf', nan, 'grand', 'fabia', '3er', '2_reihe', 'other', 'c_max',\n",
       "       '3_reihe', 'passat', 'navara', 'ka', 'polo', 'twingo', 'a_klasse',\n",
       "       'scirocco', '5er', 'meriva', 'arosa', 'c4', 'civic', 'transporter',\n",
       "       'punto', 'e_klasse', 'clio', 'kadett', 'kangoo', 'corsa', 'one',\n",
       "       'fortwo', '1er', 'b_klasse', 'signum', 'astra', 'a8', 'jetta',\n",
       "       'fiesta', 'c_klasse', 'micra', 'vito', 'sprinter', '156', 'escort',\n",
       "       'forester', 'xc_reihe', 'scenic', 'a4', 'a1', 'insignia', 'combo',\n",
       "       'focus', 'tt', 'a6', 'jazz', 'omega', 'slk', '7er', '80', '147',\n",
       "       '100', 'z_reihe', 'sportage', 'sorento', 'v40', 'ibiza', 'mustang',\n",
       "       'eos', 'touran', 'getz', 'a3', 'almera', 'megane', 'lupo', 'r19',\n",
       "       'zafira', 'caddy', 'mondeo', 'cordoba', 'colt', 'impreza',\n",
       "       'vectra', 'berlingo', 'tiguan', 'i_reihe', 'espace', 'sharan',\n",
       "       '6_reihe', 'panda', 'up', 'seicento', 'ceed', '5_reihe', 'yeti',\n",
       "       'octavia', 'mii', 'rx_reihe', '6er', 'modus', 'fox', 'matiz',\n",
       "       'beetle', 'c1', 'rio', 'touareg', 'logan', 'spider', 'cuore',\n",
       "       's_max', 'a2', 'galaxy', 'c3', 'viano', 's_klasse', '1_reihe',\n",
       "       'avensis', 'roomster', 'sl', 'kaefer', 'santa', 'cooper', 'leon',\n",
       "       '4_reihe', 'a5', '500', 'laguna', 'ptcruiser', 'clk', 'primera',\n",
       "       'x_reihe', 'exeo', '159', 'transit', 'juke', 'qashqai', 'carisma',\n",
       "       'accord', 'corolla', 'lanos', 'phaeton', 'verso', 'swift', 'rav',\n",
       "       'picanto', 'boxster', 'kalos', 'superb', 'stilo', 'alhambra',\n",
       "       'mx_reihe', 'roadster', 'ypsilon', 'cayenne', 'galant', 'justy',\n",
       "       '90', 'sirion', 'crossfire', 'agila', 'duster', 'cr_reihe', 'v50',\n",
       "       'c_reihe', 'v_klasse', 'm_klasse', 'yaris', 'c5', 'aygo', 'cc',\n",
       "       'carnival', 'fusion', '911', 'bora', 'forfour', 'm_reihe', 'cl',\n",
       "       'tigra', '300c', 'spark', 'v70', 'kuga', 'x_type', 'ducato',\n",
       "       's_type', 'x_trail', 'toledo', 'altea', 'voyager', 'calibra',\n",
       "       'bravo', 'antara', 'tucson', 'citigo', 'jimny', 'wrangler',\n",
       "       'lybra', 'q7', 'lancer', 'captiva', 'c2', 'discovery',\n",
       "       'freelander', 'sandero', 'note', '900', 'cherokee', 'clubman',\n",
       "       'samara', 'defender', '601', 'cx_reihe', 'legacy', 'pajero',\n",
       "       'auris', 'niva', 's60', 'nubira', 'vivaro', 'g_klasse', 'lodgy',\n",
       "       '850', 'range_rover', 'q3', 'serie_2', 'glk', 'charade', 'croma',\n",
       "       'outlander', 'doblo', 'musa', 'move', '9000', 'v60', '145', 'aveo',\n",
       "       '200', 'b_max', 'range_rover_sport', 'terios', 'rangerover', 'q5',\n",
       "       'range_rover_evoque', 'materia', 'delta', 'gl', 'kalina', 'amarok',\n",
       "       'elefantino', 'i3', 'kappa', 'serie_3', 'serie_1'], dtype=object)"
      ]
     },
     "execution_count": 15,
     "metadata": {},
     "output_type": "execute_result"
    }
   ],
   "source": [
    "df.model.unique()"
   ]
  },
  {
   "cell_type": "markdown",
   "metadata": {},
   "source": [
    " Несмотря на различный стиль написания, скрытые дубли отсутствуют."
   ]
  },
  {
   "cell_type": "code",
   "execution_count": 16,
   "metadata": {},
   "outputs": [
    {
     "data": {
      "text/plain": [
       "petrol      216349\n",
       "gasoline     98719\n",
       "lpg           5310\n",
       "cng            565\n",
       "hybrid         233\n",
       "other          204\n",
       "electric        90\n",
       "Name: fuel_type, dtype: int64"
      ]
     },
     "execution_count": 16,
     "metadata": {},
     "output_type": "execute_result"
    }
   ],
   "source": [
    "df.fuel_type.value_counts()"
   ]
  },
  {
   "cell_type": "code",
   "execution_count": 17,
   "metadata": {},
   "outputs": [
    {
     "data": {
      "text/plain": [
       "array(['volkswagen', 'audi', 'jeep', 'skoda', 'bmw', 'peugeot', 'ford',\n",
       "       'mazda', 'nissan', 'renault', 'mercedes_benz', 'opel', 'seat',\n",
       "       'citroen', 'honda', 'fiat', 'mini', 'smart', 'hyundai',\n",
       "       'sonstige_autos', 'alfa_romeo', 'subaru', 'volvo', 'mitsubishi',\n",
       "       'kia', 'suzuki', 'lancia', 'toyota', 'chevrolet', 'dacia',\n",
       "       'daihatsu', 'trabant', 'saab', 'chrysler', 'jaguar', 'daewoo',\n",
       "       'porsche', 'rover', 'land_rover', 'lada'], dtype=object)"
      ]
     },
     "execution_count": 17,
     "metadata": {},
     "output_type": "execute_result"
    }
   ],
   "source": [
    "df.brand.unique()"
   ]
  },
  {
   "cell_type": "markdown",
   "metadata": {},
   "source": [
    "\"Rover\" - действительно существующий бренд автомобилей, не имеющий в 20 веке отношения к Land Rover, но компания была упразднена в 2005 году. Проверим, что наше умозаключение правдиво:"
   ]
  },
  {
   "cell_type": "code",
   "execution_count": 18,
   "metadata": {},
   "outputs": [
    {
     "data": {
      "text/plain": [
       "2000    85\n",
       "1999    83\n",
       "1998    68\n",
       "2001    46\n",
       "1997    31\n",
       "2003    28\n",
       "1996    26\n",
       "2017    22\n",
       "2016    21\n",
       "2004    16\n",
       "2005    11\n",
       "2002    10\n",
       "1995    10\n",
       "1994     5\n",
       "2018     4\n",
       "1992     3\n",
       "2006     3\n",
       "1993     2\n",
       "1972     2\n",
       "1966     1\n",
       "1991     1\n",
       "1990     1\n",
       "1986     1\n",
       "1984     1\n",
       "1983     1\n",
       "1976     1\n",
       "2007     1\n",
       "1970     1\n",
       "1688     1\n",
       "Name: registration_year, dtype: int64"
      ]
     },
     "execution_count": 18,
     "metadata": {},
     "output_type": "execute_result"
    }
   ],
   "source": [
    "df.query('brand == \"rover\"').registration_year.value_counts()"
   ]
  },
  {
   "cell_type": "markdown",
   "metadata": {},
   "source": [
    "Наше предположение не подтвердилось, имеются автомобили до 2018 года. Помимо этого, имеется автомобиль 1688 года, что также является ложью. Проверим модели:"
   ]
  },
  {
   "cell_type": "code",
   "execution_count": 19,
   "metadata": {},
   "outputs": [
    {
     "data": {
      "text/plain": [
       "other         394\n",
       "rangerover      4\n",
       "freelander      3\n",
       "discovery       2\n",
       "defender        1\n",
       "Name: model, dtype: int64"
      ]
     },
     "execution_count": 19,
     "metadata": {},
     "output_type": "execute_result"
    }
   ],
   "source": [
    "df.query('brand == \"rover\"').model.value_counts()"
   ]
  },
  {
   "cell_type": "markdown",
   "metadata": {},
   "source": [
    "В списке перечислены автомобили, относящиеся к бренду Land Rover. Таким образом, допускаем, что все модельные автомобили младше 2005 года также относятся к Land Rover. \n",
    "Судя по выведенному распределению, отказываемся от замены пропусков на значение \"other\" - так как в \"other\" могут указываться редкие автомобили не из перечня популярных моделей, тогда как пропуск может обозначать любую модель автомобиля."
   ]
  },
  {
   "cell_type": "code",
   "execution_count": 20,
   "metadata": {
    "scrolled": true
   },
   "outputs": [
    {
     "data": {
      "text/plain": [
       "no     247158\n",
       "yes     36053\n",
       "Name: not_repaired, dtype: int64"
      ]
     },
     "execution_count": 20,
     "metadata": {},
     "output_type": "execute_result"
    }
   ],
   "source": [
    "df.not_repaired.value_counts()"
   ]
  },
  {
   "cell_type": "markdown",
   "metadata": {},
   "source": [
    "Посмотрим на распределение индексов, ожидаем увидеть хаотичный график."
   ]
  },
  {
   "cell_type": "code",
   "execution_count": 21,
   "metadata": {},
   "outputs": [
    {
     "data": {
      "image/png": "[encoded data removed]",
      "text/plain": [
       "<Figure size 576x288 with 1 Axes>"
      ]
     },
     "metadata": {
      "needs_background": "light"
     },
     "output_type": "display_data"
    }
   ],
   "source": [
    "df.postcode.hist(bins=100, figsize=(8,4));"
   ]
  },
  {
   "cell_type": "markdown",
   "metadata": {},
   "source": [
    "Возможно, страна, регион, континент могут влиять на стоимость автомобиля, в таком случае необходимо распределить индексы по различным категориям, но так как в данной работе это нецелесообразно и может привести к отсутствию улучшений в обучении моделей, в дальнейшем удалим признак с индексами."
   ]
  },
  {
   "cell_type": "markdown",
   "metadata": {},
   "source": [
    "Возможно, в данных имеется утечка признака, рассмотрим матрицу корреляций:"
   ]
  },
  {
   "cell_type": "code",
   "execution_count": 22,
   "metadata": {},
   "outputs": [
    {
     "data": {
      "text/html": [
       "<div>\n",
       "<style scoped>\n",
       "    .dataframe tbody tr th:only-of-type {\n",
       "        vertical-align: middle;\n",
       "    }\n",
       "\n",
       "    .dataframe tbody tr th {\n",
       "        vertical-align: top;\n",
       "    }\n",
       "\n",
       "    .dataframe thead th {\n",
       "        text-align: right;\n",
       "    }\n",
       "</style>\n",
       "<table border=\"1\" class=\"dataframe\">\n",
       "  <thead>\n",
       "    <tr style=\"text-align: right;\">\n",
       "      <th></th>\n",
       "      <th>price</th>\n",
       "      <th>registration_year</th>\n",
       "      <th>power</th>\n",
       "      <th>mileage</th>\n",
       "      <th>registration_month</th>\n",
       "      <th>pictures_count</th>\n",
       "      <th>postcode</th>\n",
       "    </tr>\n",
       "  </thead>\n",
       "  <tbody>\n",
       "    <tr>\n",
       "      <th>price</th>\n",
       "      <td>1.000000</td>\n",
       "      <td>0.026916</td>\n",
       "      <td>0.158872</td>\n",
       "      <td>-0.333207</td>\n",
       "      <td>0.110580</td>\n",
       "      <td>NaN</td>\n",
       "      <td>0.076058</td>\n",
       "    </tr>\n",
       "    <tr>\n",
       "      <th>registration_year</th>\n",
       "      <td>0.026916</td>\n",
       "      <td>1.000000</td>\n",
       "      <td>-0.000828</td>\n",
       "      <td>-0.053448</td>\n",
       "      <td>-0.011619</td>\n",
       "      <td>NaN</td>\n",
       "      <td>-0.003459</td>\n",
       "    </tr>\n",
       "    <tr>\n",
       "      <th>power</th>\n",
       "      <td>0.158872</td>\n",
       "      <td>-0.000828</td>\n",
       "      <td>1.000000</td>\n",
       "      <td>0.024006</td>\n",
       "      <td>0.043379</td>\n",
       "      <td>NaN</td>\n",
       "      <td>0.021662</td>\n",
       "    </tr>\n",
       "    <tr>\n",
       "      <th>mileage</th>\n",
       "      <td>-0.333207</td>\n",
       "      <td>-0.053448</td>\n",
       "      <td>0.024006</td>\n",
       "      <td>1.000000</td>\n",
       "      <td>0.009575</td>\n",
       "      <td>NaN</td>\n",
       "      <td>-0.007685</td>\n",
       "    </tr>\n",
       "    <tr>\n",
       "      <th>registration_month</th>\n",
       "      <td>0.110580</td>\n",
       "      <td>-0.011619</td>\n",
       "      <td>0.043379</td>\n",
       "      <td>0.009575</td>\n",
       "      <td>1.000000</td>\n",
       "      <td>NaN</td>\n",
       "      <td>0.013996</td>\n",
       "    </tr>\n",
       "    <tr>\n",
       "      <th>pictures_count</th>\n",
       "      <td>NaN</td>\n",
       "      <td>NaN</td>\n",
       "      <td>NaN</td>\n",
       "      <td>NaN</td>\n",
       "      <td>NaN</td>\n",
       "      <td>NaN</td>\n",
       "      <td>NaN</td>\n",
       "    </tr>\n",
       "    <tr>\n",
       "      <th>postcode</th>\n",
       "      <td>0.076058</td>\n",
       "      <td>-0.003459</td>\n",
       "      <td>0.021662</td>\n",
       "      <td>-0.007685</td>\n",
       "      <td>0.013996</td>\n",
       "      <td>NaN</td>\n",
       "      <td>1.000000</td>\n",
       "    </tr>\n",
       "  </tbody>\n",
       "</table>\n",
       "</div>"
      ],
      "text/plain": [
       "                       price  registration_year     power   mileage  \\\n",
       "price               1.000000           0.026916  0.158872 -0.333207   \n",
       "registration_year   0.026916           1.000000 -0.000828 -0.053448   \n",
       "power               0.158872          -0.000828  1.000000  0.024006   \n",
       "mileage            -0.333207          -0.053448  0.024006  1.000000   \n",
       "registration_month  0.110580          -0.011619  0.043379  0.009575   \n",
       "pictures_count           NaN                NaN       NaN       NaN   \n",
       "postcode            0.076058          -0.003459  0.021662 -0.007685   \n",
       "\n",
       "                    registration_month  pictures_count  postcode  \n",
       "price                         0.110580             NaN  0.076058  \n",
       "registration_year            -0.011619             NaN -0.003459  \n",
       "power                         0.043379             NaN  0.021662  \n",
       "mileage                       0.009575             NaN -0.007685  \n",
       "registration_month            1.000000             NaN  0.013996  \n",
       "pictures_count                     NaN             NaN       NaN  \n",
       "postcode                      0.013996             NaN  1.000000  "
      ]
     },
     "execution_count": 22,
     "metadata": {},
     "output_type": "execute_result"
    }
   ],
   "source": [
    "df.corr()"
   ]
  },
  {
   "cell_type": "markdown",
   "metadata": {},
   "source": [
    "Как и ожидалось, имеется очень слабая отрицательная корреляция между ценой и километражом, а также незначительная корреляция между ценой и мощностью двигателя. Остальные коэффициенты не имеют значения."
   ]
  },
  {
   "cell_type": "markdown",
   "metadata": {},
   "source": [
    "**Вывод**\n",
    "\n",
    "Были изучены данные для последующего анализа. Для дальнейшей корректной работы необходимо провести ряд операций:\n",
    "1. Удалим признаки, которые не влияют на прогнозирование цены: 'registration_month', 'pictures_count', 'postcode', 'date_crawled', 'last_seen', 'date_created'. Это также избавит нас от предобработки ненужных признаков;\n",
    "2. Заменим ошибочные модели бренда Rover на Land Rover;\n",
    "3. Изучим распределение цен и избавимся от выбросов;\n",
    "4. Изучим годы регистрации и избавимся от некорректных значений;\n",
    "5. Изучим мощности двигателей и избавимся от некорректных значений;\n",
    "6. Рассмотрим пропуски и примем решение об удалении или заполнении пропусков."
   ]
  },
  {
   "cell_type": "markdown",
   "metadata": {},
   "source": [
    "### Предобработка данных"
   ]
  },
  {
   "cell_type": "markdown",
   "metadata": {},
   "source": [
    "Удалим ненужные признаки."
   ]
  },
  {
   "cell_type": "code",
   "execution_count": 23,
   "metadata": {},
   "outputs": [],
   "source": [
    "df = df.drop(['registration_month', 'pictures_count', 'postcode', 'date_crawled', 'last_seen', 'date_created'], axis=1)"
   ]
  },
  {
   "cell_type": "code",
   "execution_count": 24,
   "metadata": {},
   "outputs": [
    {
     "data": {
      "text/plain": [
       "Index(['price', 'vehicle_type', 'registration_year', 'gearbox', 'power',\n",
       "       'model', 'mileage', 'fuel_type', 'brand', 'not_repaired'],\n",
       "      dtype='object')"
      ]
     },
     "execution_count": 24,
     "metadata": {},
     "output_type": "execute_result"
    }
   ],
   "source": [
    "df.columns"
   ]
  },
  {
   "cell_type": "code",
   "execution_count": 25,
   "metadata": {},
   "outputs": [],
   "source": [
    "df.loc[(df.registration_year > 2005), 'brand'] = 'land_rover'"
   ]
  },
  {
   "cell_type": "code",
   "execution_count": 26,
   "metadata": {},
   "outputs": [
    {
     "data": {
      "text/plain": [
       "other         361\n",
       "freelander      3\n",
       "rangerover      2\n",
       "discovery       2\n",
       "defender        1\n",
       "Name: model, dtype: int64"
      ]
     },
     "execution_count": 26,
     "metadata": {},
     "output_type": "execute_result"
    }
   ],
   "source": [
    "#Проверяем\n",
    "df.query('brand == \"rover\"').model.value_counts()"
   ]
  },
  {
   "cell_type": "markdown",
   "metadata": {},
   "source": [
    "Ошибки сохраняются. Переименуем дополнительно бренды с указанными моделями."
   ]
  },
  {
   "cell_type": "code",
   "execution_count": 27,
   "metadata": {},
   "outputs": [],
   "source": [
    "df.loc[(df.model.isin(['freelander', 'rangerover', 'discovery', 'defender'])), 'brand'] = 'land_rover'"
   ]
  },
  {
   "cell_type": "code",
   "execution_count": 28,
   "metadata": {},
   "outputs": [
    {
     "data": {
      "text/plain": [
       "other    361\n",
       "Name: model, dtype: int64"
      ]
     },
     "execution_count": 28,
     "metadata": {},
     "output_type": "execute_result"
    }
   ],
   "source": [
    "df.query('brand == \"rover\"').model.value_counts()"
   ]
  },
  {
   "cell_type": "markdown",
   "metadata": {},
   "source": [
    "Рассмотрим распределение цен:"
   ]
  },
  {
   "cell_type": "code",
   "execution_count": 29,
   "metadata": {},
   "outputs": [
    {
     "data": {
      "image/png": "[encoded data removed]",
      "text/plain": [
       "<Figure size 864x288 with 1 Axes>"
      ]
     },
     "metadata": {
      "needs_background": "light"
     },
     "output_type": "display_data"
    }
   ],
   "source": [
    "df.price.hist(bins=200, figsize=(12,4));"
   ]
  },
  {
   "cell_type": "code",
   "execution_count": 30,
   "metadata": {},
   "outputs": [
    {
     "data": {
      "image/png": "[encoded data removed]",
      "text/plain": [
       "<Figure size 864x288 with 1 Axes>"
      ]
     },
     "metadata": {
      "needs_background": "light"
     },
     "output_type": "display_data"
    }
   ],
   "source": [
    "df.boxplot('price', figsize=(12,4), vert=0);"
   ]
  },
  {
   "cell_type": "markdown",
   "metadata": {},
   "source": [
    "Автомобили - товар, который не имеет максимального предела цены. В целом, распределение похоже на скошенное нормальное, как и ожидалось. Известно, что наиболее часто цены округляются, что выглядит как пилящий график. Из того можно сделать вывод, что данные корректные, за исключением товаров с нулевой стоимостью. Рассмотрим некоторые из этих объектов:"
   ]
  },
  {
   "cell_type": "code",
   "execution_count": 31,
   "metadata": {},
   "outputs": [
    {
     "data": {
      "text/html": [
       "<div>\n",
       "<style scoped>\n",
       "    .dataframe tbody tr th:only-of-type {\n",
       "        vertical-align: middle;\n",
       "    }\n",
       "\n",
       "    .dataframe tbody tr th {\n",
       "        vertical-align: top;\n",
       "    }\n",
       "\n",
       "    .dataframe thead th {\n",
       "        text-align: right;\n",
       "    }\n",
       "</style>\n",
       "<table border=\"1\" class=\"dataframe\">\n",
       "  <thead>\n",
       "    <tr style=\"text-align: right;\">\n",
       "      <th></th>\n",
       "      <th>price</th>\n",
       "      <th>vehicle_type</th>\n",
       "      <th>registration_year</th>\n",
       "      <th>gearbox</th>\n",
       "      <th>power</th>\n",
       "      <th>model</th>\n",
       "      <th>mileage</th>\n",
       "      <th>fuel_type</th>\n",
       "      <th>brand</th>\n",
       "      <th>not_repaired</th>\n",
       "    </tr>\n",
       "  </thead>\n",
       "  <tbody>\n",
       "    <tr>\n",
       "      <th>7</th>\n",
       "      <td>0</td>\n",
       "      <td>sedan</td>\n",
       "      <td>1980</td>\n",
       "      <td>manual</td>\n",
       "      <td>50</td>\n",
       "      <td>other</td>\n",
       "      <td>40000</td>\n",
       "      <td>petrol</td>\n",
       "      <td>volkswagen</td>\n",
       "      <td>no</td>\n",
       "    </tr>\n",
       "    <tr>\n",
       "      <th>40</th>\n",
       "      <td>0</td>\n",
       "      <td>NaN</td>\n",
       "      <td>1990</td>\n",
       "      <td>NaN</td>\n",
       "      <td>0</td>\n",
       "      <td>corsa</td>\n",
       "      <td>150000</td>\n",
       "      <td>petrol</td>\n",
       "      <td>opel</td>\n",
       "      <td>NaN</td>\n",
       "    </tr>\n",
       "    <tr>\n",
       "      <th>111</th>\n",
       "      <td>0</td>\n",
       "      <td>NaN</td>\n",
       "      <td>2017</td>\n",
       "      <td>manual</td>\n",
       "      <td>0</td>\n",
       "      <td>golf</td>\n",
       "      <td>5000</td>\n",
       "      <td>petrol</td>\n",
       "      <td>land_rover</td>\n",
       "      <td>NaN</td>\n",
       "    </tr>\n",
       "    <tr>\n",
       "      <th>115</th>\n",
       "      <td>0</td>\n",
       "      <td>small</td>\n",
       "      <td>1999</td>\n",
       "      <td>NaN</td>\n",
       "      <td>0</td>\n",
       "      <td>NaN</td>\n",
       "      <td>5000</td>\n",
       "      <td>petrol</td>\n",
       "      <td>volkswagen</td>\n",
       "      <td>NaN</td>\n",
       "    </tr>\n",
       "    <tr>\n",
       "      <th>152</th>\n",
       "      <td>0</td>\n",
       "      <td>bus</td>\n",
       "      <td>2004</td>\n",
       "      <td>manual</td>\n",
       "      <td>101</td>\n",
       "      <td>meriva</td>\n",
       "      <td>150000</td>\n",
       "      <td>lpg</td>\n",
       "      <td>opel</td>\n",
       "      <td>yes</td>\n",
       "    </tr>\n",
       "    <tr>\n",
       "      <th>...</th>\n",
       "      <td>...</td>\n",
       "      <td>...</td>\n",
       "      <td>...</td>\n",
       "      <td>...</td>\n",
       "      <td>...</td>\n",
       "      <td>...</td>\n",
       "      <td>...</td>\n",
       "      <td>...</td>\n",
       "      <td>...</td>\n",
       "      <td>...</td>\n",
       "    </tr>\n",
       "    <tr>\n",
       "      <th>354201</th>\n",
       "      <td>0</td>\n",
       "      <td>NaN</td>\n",
       "      <td>2000</td>\n",
       "      <td>manual</td>\n",
       "      <td>65</td>\n",
       "      <td>corsa</td>\n",
       "      <td>150000</td>\n",
       "      <td>NaN</td>\n",
       "      <td>opel</td>\n",
       "      <td>yes</td>\n",
       "    </tr>\n",
       "    <tr>\n",
       "      <th>354234</th>\n",
       "      <td>0</td>\n",
       "      <td>small</td>\n",
       "      <td>2002</td>\n",
       "      <td>manual</td>\n",
       "      <td>60</td>\n",
       "      <td>fiesta</td>\n",
       "      <td>150000</td>\n",
       "      <td>petrol</td>\n",
       "      <td>ford</td>\n",
       "      <td>NaN</td>\n",
       "    </tr>\n",
       "    <tr>\n",
       "      <th>354244</th>\n",
       "      <td>0</td>\n",
       "      <td>small</td>\n",
       "      <td>1999</td>\n",
       "      <td>manual</td>\n",
       "      <td>53</td>\n",
       "      <td>swift</td>\n",
       "      <td>150000</td>\n",
       "      <td>petrol</td>\n",
       "      <td>suzuki</td>\n",
       "      <td>NaN</td>\n",
       "    </tr>\n",
       "    <tr>\n",
       "      <th>354273</th>\n",
       "      <td>0</td>\n",
       "      <td>small</td>\n",
       "      <td>1999</td>\n",
       "      <td>manual</td>\n",
       "      <td>37</td>\n",
       "      <td>arosa</td>\n",
       "      <td>150000</td>\n",
       "      <td>petrol</td>\n",
       "      <td>seat</td>\n",
       "      <td>yes</td>\n",
       "    </tr>\n",
       "    <tr>\n",
       "      <th>354360</th>\n",
       "      <td>0</td>\n",
       "      <td>NaN</td>\n",
       "      <td>2005</td>\n",
       "      <td>manual</td>\n",
       "      <td>0</td>\n",
       "      <td>colt</td>\n",
       "      <td>150000</td>\n",
       "      <td>petrol</td>\n",
       "      <td>mitsubishi</td>\n",
       "      <td>yes</td>\n",
       "    </tr>\n",
       "  </tbody>\n",
       "</table>\n",
       "<p>10772 rows × 10 columns</p>\n",
       "</div>"
      ],
      "text/plain": [
       "        price vehicle_type  registration_year gearbox  power   model  mileage  \\\n",
       "7           0        sedan               1980  manual     50   other    40000   \n",
       "40          0          NaN               1990     NaN      0   corsa   150000   \n",
       "111         0          NaN               2017  manual      0    golf     5000   \n",
       "115         0        small               1999     NaN      0     NaN     5000   \n",
       "152         0          bus               2004  manual    101  meriva   150000   \n",
       "...       ...          ...                ...     ...    ...     ...      ...   \n",
       "354201      0          NaN               2000  manual     65   corsa   150000   \n",
       "354234      0        small               2002  manual     60  fiesta   150000   \n",
       "354244      0        small               1999  manual     53   swift   150000   \n",
       "354273      0        small               1999  manual     37   arosa   150000   \n",
       "354360      0          NaN               2005  manual      0    colt   150000   \n",
       "\n",
       "       fuel_type       brand not_repaired  \n",
       "7         petrol  volkswagen           no  \n",
       "40        petrol        opel          NaN  \n",
       "111       petrol  land_rover          NaN  \n",
       "115       petrol  volkswagen          NaN  \n",
       "152          lpg        opel          yes  \n",
       "...          ...         ...          ...  \n",
       "354201       NaN        opel          yes  \n",
       "354234    petrol        ford          NaN  \n",
       "354244    petrol      suzuki          NaN  \n",
       "354273    petrol        seat          yes  \n",
       "354360    petrol  mitsubishi          yes  \n",
       "\n",
       "[10772 rows x 10 columns]"
      ]
     },
     "execution_count": 31,
     "metadata": {},
     "output_type": "execute_result"
    }
   ],
   "source": [
    "df.query('price == 0')"
   ]
  },
  {
   "cell_type": "markdown",
   "metadata": {},
   "source": [
    "В большинстве строк имеются пропуски в остальных признаках. Возможно, в этом есть зависимость, проверим:"
   ]
  },
  {
   "cell_type": "code",
   "execution_count": 32,
   "metadata": {},
   "outputs": [
    {
     "data": {
      "text/plain": [
       "price                   0\n",
       "vehicle_type         3740\n",
       "registration_year       0\n",
       "gearbox              2478\n",
       "power                   0\n",
       "model                2184\n",
       "mileage                 0\n",
       "fuel_type            3436\n",
       "brand                   0\n",
       "not_repaired         5288\n",
       "dtype: int64"
      ]
     },
     "execution_count": 32,
     "metadata": {},
     "output_type": "execute_result"
    }
   ],
   "source": [
    "df.query('price == 0').isnull().sum()"
   ]
  },
  {
   "cell_type": "markdown",
   "metadata": {},
   "source": [
    "Наше предположение подтвердилось: если в начальном датафрейме встречалось от 5% до 20% пропущенных значений в разных столбцах, то теперь - от 20% до 49%. Возможно, пользователи относились к заполнению данных менее ответственно для определённых автомобилей. В остальном зависимостей не обнаружили.\n",
    "\n",
    "Объекты без стоимости не имеют ценности для дальнейшей работы, очистим датафрейм от этих значений."
   ]
  },
  {
   "cell_type": "code",
   "execution_count": 33,
   "metadata": {},
   "outputs": [],
   "source": [
    "df = df.query('price != 0')"
   ]
  },
  {
   "cell_type": "markdown",
   "metadata": {},
   "source": [
    "Рассмотрим распределение низких цен на автомобили, постараемся найти предел, с которого начинаются автомобили, не являющиеся выбросами:"
   ]
  },
  {
   "cell_type": "code",
   "execution_count": 34,
   "metadata": {},
   "outputs": [
    {
     "data": {
      "image/png": "[encoded data removed]",
      "text/plain": [
       "<Figure size 864x288 with 1 Axes>"
      ]
     },
     "metadata": {
      "needs_background": "light"
     },
     "output_type": "display_data"
    }
   ],
   "source": [
    "df.query('price < 1000').price.hist(bins=100, figsize=(12,4));"
   ]
  },
  {
   "cell_type": "markdown",
   "metadata": {},
   "source": [
    "Чёткое разделение автомобилей \"на ходу\" и \"металлолома\" отсутствует, имеется только один чёткий пик на общем графике и малые пики на круглых значениях. Чтобы избавиться от части слишком малых стоимостей, удалим 1,5% самых низких значений."
   ]
  },
  {
   "cell_type": "code",
   "execution_count": 35,
   "metadata": {},
   "outputs": [
    {
     "data": {
      "text/plain": [
       "150.0"
      ]
     },
     "execution_count": 35,
     "metadata": {},
     "output_type": "execute_result"
    }
   ],
   "source": [
    "# Проверяем, какой предел устанавливаем\n",
    "df.price.quantile(.015)"
   ]
  },
  {
   "cell_type": "code",
   "execution_count": 36,
   "metadata": {},
   "outputs": [],
   "source": [
    "df = df.query('price >= 150')"
   ]
  },
  {
   "cell_type": "code",
   "execution_count": 37,
   "metadata": {},
   "outputs": [
    {
     "data": {
      "image/png": "[encoded data removed]",
      "text/plain": [
       "<Figure size 864x288 with 1 Axes>"
      ]
     },
     "metadata": {
      "needs_background": "light"
     },
     "output_type": "display_data"
    }
   ],
   "source": [
    "df.price.hist(bins=200, figsize=(12,4));"
   ]
  },
  {
   "cell_type": "markdown",
   "metadata": {},
   "source": [
    "Рассмотрим года:"
   ]
  },
  {
   "cell_type": "code",
   "execution_count": 38,
   "metadata": {
    "scrolled": true
   },
   "outputs": [
    {
     "data": {
      "image/png": "[encoded data removed]",
      "text/plain": [
       "<Figure size 864x288 with 1 Axes>"
      ]
     },
     "metadata": {
      "needs_background": "light"
     },
     "output_type": "display_data"
    }
   ],
   "source": [
    "df.boxplot('registration_year', figsize=(12,4), vert=0);"
   ]
  },
  {
   "cell_type": "markdown",
   "metadata": {},
   "source": [
    "В первую очередь очистим датафрейм от будущих годов. Так как таблица содержит данные за 2016 год, все года позже 2016 являются ошибочными и однозначному восстановлению значения не подлежат."
   ]
  },
  {
   "cell_type": "code",
   "execution_count": 39,
   "metadata": {},
   "outputs": [],
   "source": [
    "df = df.query('registration_year <= 2016')"
   ]
  },
  {
   "cell_type": "code",
   "execution_count": 40,
   "metadata": {},
   "outputs": [
    {
     "data": {
      "image/png": "[encoded data removed]",
      "text/plain": [
       "<Figure size 864x288 with 1 Axes>"
      ]
     },
     "metadata": {
      "needs_background": "light"
     },
     "output_type": "display_data"
    }
   ],
   "source": [
    "# Проверяем\n",
    "df.boxplot('registration_year', figsize=(12,4), vert=0);"
   ]
  },
  {
   "cell_type": "markdown",
   "metadata": {},
   "source": [
    "Очевидно, с 1900 года начинается область корректных значений. Рассмотрим подробнее:"
   ]
  },
  {
   "cell_type": "code",
   "execution_count": 41,
   "metadata": {},
   "outputs": [
    {
     "data": {
      "image/png": "[encoded data removed]",
      "text/plain": [
       "<Figure size 864x288 with 1 Axes>"
      ]
     },
     "metadata": {
      "needs_background": "light"
     },
     "output_type": "display_data"
    }
   ],
   "source": [
    "df.query('registration_year > 1900').registration_year.hist(bins=117, figsize=(12,4));"
   ]
  },
  {
   "cell_type": "code",
   "execution_count": 42,
   "metadata": {
    "scrolled": true
   },
   "outputs": [
    {
     "data": {
      "image/png": "[encoded data removed]",
      "text/plain": [
       "<Figure size 864x288 with 1 Axes>"
      ]
     },
     "metadata": {
      "needs_background": "light"
     },
     "output_type": "display_data"
    }
   ],
   "source": [
    "# Уточним данные до 1970 года\n",
    "df.query('registration_year > 1900 & registration_year < 1970').registration_year.hist(bins=117, figsize=(12,4));"
   ]
  },
  {
   "cell_type": "code",
   "execution_count": 43,
   "metadata": {},
   "outputs": [
    {
     "data": {
      "text/html": [
       "<div>\n",
       "<style scoped>\n",
       "    .dataframe tbody tr th:only-of-type {\n",
       "        vertical-align: middle;\n",
       "    }\n",
       "\n",
       "    .dataframe tbody tr th {\n",
       "        vertical-align: top;\n",
       "    }\n",
       "\n",
       "    .dataframe thead th {\n",
       "        text-align: right;\n",
       "    }\n",
       "</style>\n",
       "<table border=\"1\" class=\"dataframe\">\n",
       "  <thead>\n",
       "    <tr style=\"text-align: right;\">\n",
       "      <th></th>\n",
       "      <th>price</th>\n",
       "      <th>vehicle_type</th>\n",
       "      <th>registration_year</th>\n",
       "      <th>gearbox</th>\n",
       "      <th>power</th>\n",
       "      <th>model</th>\n",
       "      <th>mileage</th>\n",
       "      <th>fuel_type</th>\n",
       "      <th>brand</th>\n",
       "      <th>not_repaired</th>\n",
       "    </tr>\n",
       "  </thead>\n",
       "  <tbody>\n",
       "    <tr>\n",
       "      <th>305818</th>\n",
       "      <td>8500</td>\n",
       "      <td>suv</td>\n",
       "      <td>1943</td>\n",
       "      <td>manual</td>\n",
       "      <td>76</td>\n",
       "      <td>NaN</td>\n",
       "      <td>150000</td>\n",
       "      <td>petrol</td>\n",
       "      <td>sonstige_autos</td>\n",
       "      <td>no</td>\n",
       "    </tr>\n",
       "    <tr>\n",
       "      <th>196700</th>\n",
       "      <td>3000</td>\n",
       "      <td>NaN</td>\n",
       "      <td>1960</td>\n",
       "      <td>NaN</td>\n",
       "      <td>0</td>\n",
       "      <td>other</td>\n",
       "      <td>5000</td>\n",
       "      <td>NaN</td>\n",
       "      <td>mercedes_benz</td>\n",
       "      <td>NaN</td>\n",
       "    </tr>\n",
       "    <tr>\n",
       "      <th>178303</th>\n",
       "      <td>3500</td>\n",
       "      <td>NaN</td>\n",
       "      <td>1960</td>\n",
       "      <td>manual</td>\n",
       "      <td>90</td>\n",
       "      <td>other</td>\n",
       "      <td>150000</td>\n",
       "      <td>NaN</td>\n",
       "      <td>opel</td>\n",
       "      <td>yes</td>\n",
       "    </tr>\n",
       "    <tr>\n",
       "      <th>309842</th>\n",
       "      <td>17900</td>\n",
       "      <td>bus</td>\n",
       "      <td>1968</td>\n",
       "      <td>NaN</td>\n",
       "      <td>0</td>\n",
       "      <td>transporter</td>\n",
       "      <td>80000</td>\n",
       "      <td>NaN</td>\n",
       "      <td>volkswagen</td>\n",
       "      <td>no</td>\n",
       "    </tr>\n",
       "    <tr>\n",
       "      <th>284690</th>\n",
       "      <td>11500</td>\n",
       "      <td>sedan</td>\n",
       "      <td>1954</td>\n",
       "      <td>NaN</td>\n",
       "      <td>150</td>\n",
       "      <td>other</td>\n",
       "      <td>125000</td>\n",
       "      <td>petrol</td>\n",
       "      <td>chevrolet</td>\n",
       "      <td>no</td>\n",
       "    </tr>\n",
       "    <tr>\n",
       "      <th>212384</th>\n",
       "      <td>10500</td>\n",
       "      <td>suv</td>\n",
       "      <td>1963</td>\n",
       "      <td>manual</td>\n",
       "      <td>200</td>\n",
       "      <td>NaN</td>\n",
       "      <td>90000</td>\n",
       "      <td>petrol</td>\n",
       "      <td>sonstige_autos</td>\n",
       "      <td>no</td>\n",
       "    </tr>\n",
       "    <tr>\n",
       "      <th>257676</th>\n",
       "      <td>13700</td>\n",
       "      <td>convertible</td>\n",
       "      <td>1968</td>\n",
       "      <td>manual</td>\n",
       "      <td>0</td>\n",
       "      <td>NaN</td>\n",
       "      <td>125000</td>\n",
       "      <td>petrol</td>\n",
       "      <td>sonstige_autos</td>\n",
       "      <td>no</td>\n",
       "    </tr>\n",
       "    <tr>\n",
       "      <th>154857</th>\n",
       "      <td>4900</td>\n",
       "      <td>coupe</td>\n",
       "      <td>1965</td>\n",
       "      <td>manual</td>\n",
       "      <td>75</td>\n",
       "      <td>other</td>\n",
       "      <td>40000</td>\n",
       "      <td>petrol</td>\n",
       "      <td>volvo</td>\n",
       "      <td>no</td>\n",
       "    </tr>\n",
       "    <tr>\n",
       "      <th>330517</th>\n",
       "      <td>15000</td>\n",
       "      <td>coupe</td>\n",
       "      <td>1964</td>\n",
       "      <td>NaN</td>\n",
       "      <td>45</td>\n",
       "      <td>NaN</td>\n",
       "      <td>70000</td>\n",
       "      <td>petrol</td>\n",
       "      <td>sonstige_autos</td>\n",
       "      <td>no</td>\n",
       "    </tr>\n",
       "    <tr>\n",
       "      <th>44430</th>\n",
       "      <td>5000</td>\n",
       "      <td>convertible</td>\n",
       "      <td>1968</td>\n",
       "      <td>auto</td>\n",
       "      <td>320</td>\n",
       "      <td>other</td>\n",
       "      <td>150000</td>\n",
       "      <td>petrol</td>\n",
       "      <td>ford</td>\n",
       "      <td>no</td>\n",
       "    </tr>\n",
       "  </tbody>\n",
       "</table>\n",
       "</div>"
      ],
      "text/plain": [
       "        price vehicle_type  registration_year gearbox  power        model  \\\n",
       "305818   8500          suv               1943  manual     76          NaN   \n",
       "196700   3000          NaN               1960     NaN      0        other   \n",
       "178303   3500          NaN               1960  manual     90        other   \n",
       "309842  17900          bus               1968     NaN      0  transporter   \n",
       "284690  11500        sedan               1954     NaN    150        other   \n",
       "212384  10500          suv               1963  manual    200          NaN   \n",
       "257676  13700  convertible               1968  manual      0          NaN   \n",
       "154857   4900        coupe               1965  manual     75        other   \n",
       "330517  15000        coupe               1964     NaN     45          NaN   \n",
       "44430    5000  convertible               1968    auto    320        other   \n",
       "\n",
       "        mileage fuel_type           brand not_repaired  \n",
       "305818   150000    petrol  sonstige_autos           no  \n",
       "196700     5000       NaN   mercedes_benz          NaN  \n",
       "178303   150000       NaN            opel          yes  \n",
       "309842    80000       NaN      volkswagen           no  \n",
       "284690   125000    petrol       chevrolet           no  \n",
       "212384    90000    petrol  sonstige_autos           no  \n",
       "257676   125000    petrol  sonstige_autos           no  \n",
       "154857    40000    petrol           volvo           no  \n",
       "330517    70000    petrol  sonstige_autos           no  \n",
       "44430    150000    petrol            ford           no  "
      ]
     },
     "execution_count": 43,
     "metadata": {},
     "output_type": "execute_result"
    }
   ],
   "source": [
    "df.query('registration_year > 1900 & registration_year < 1970').sample(10)"
   ]
  },
  {
   "cell_type": "markdown",
   "metadata": {},
   "source": [
    "Данные выглядят корректными, но снова в полученной выборке имеем большое количество пропусков, а также аномально низкие цены. На гистограмме также наблюдаем резкое снижение количества автомобилей старше 1950 года. Такие автомобили внутри одной модели могут иметь совершенно разные цены, так как состояние может варьироваться от \"не на ходу\" до восстановленного музейного экспоната. Такие объекты являются шумом и могут снизить качество моделей. Заказчик должен осознавать, что стоимость ретро-автомобилей рассчитывается индивидуально.\n",
    "\n",
    "Принимаем решение избавиться от автомобилей до 1960 года в датафрейме."
   ]
  },
  {
   "cell_type": "code",
   "execution_count": 44,
   "metadata": {},
   "outputs": [],
   "source": [
    "df = df.query('registration_year >= 1960')"
   ]
  },
  {
   "cell_type": "code",
   "execution_count": 45,
   "metadata": {},
   "outputs": [
    {
     "data": {
      "text/html": [
       "<div>\n",
       "<style scoped>\n",
       "    .dataframe tbody tr th:only-of-type {\n",
       "        vertical-align: middle;\n",
       "    }\n",
       "\n",
       "    .dataframe tbody tr th {\n",
       "        vertical-align: top;\n",
       "    }\n",
       "\n",
       "    .dataframe thead th {\n",
       "        text-align: right;\n",
       "    }\n",
       "</style>\n",
       "<table border=\"1\" class=\"dataframe\">\n",
       "  <thead>\n",
       "    <tr style=\"text-align: right;\">\n",
       "      <th></th>\n",
       "      <th>price</th>\n",
       "      <th>vehicle_type</th>\n",
       "      <th>registration_year</th>\n",
       "      <th>gearbox</th>\n",
       "      <th>power</th>\n",
       "      <th>model</th>\n",
       "      <th>mileage</th>\n",
       "      <th>fuel_type</th>\n",
       "      <th>brand</th>\n",
       "      <th>not_repaired</th>\n",
       "    </tr>\n",
       "  </thead>\n",
       "  <tbody>\n",
       "    <tr>\n",
       "      <th>0</th>\n",
       "      <td>480</td>\n",
       "      <td>NaN</td>\n",
       "      <td>1993</td>\n",
       "      <td>manual</td>\n",
       "      <td>0</td>\n",
       "      <td>golf</td>\n",
       "      <td>150000</td>\n",
       "      <td>petrol</td>\n",
       "      <td>volkswagen</td>\n",
       "      <td>NaN</td>\n",
       "    </tr>\n",
       "    <tr>\n",
       "      <th>1</th>\n",
       "      <td>18300</td>\n",
       "      <td>coupe</td>\n",
       "      <td>2011</td>\n",
       "      <td>manual</td>\n",
       "      <td>190</td>\n",
       "      <td>NaN</td>\n",
       "      <td>125000</td>\n",
       "      <td>gasoline</td>\n",
       "      <td>land_rover</td>\n",
       "      <td>yes</td>\n",
       "    </tr>\n",
       "    <tr>\n",
       "      <th>2</th>\n",
       "      <td>9800</td>\n",
       "      <td>suv</td>\n",
       "      <td>2004</td>\n",
       "      <td>auto</td>\n",
       "      <td>163</td>\n",
       "      <td>grand</td>\n",
       "      <td>125000</td>\n",
       "      <td>gasoline</td>\n",
       "      <td>jeep</td>\n",
       "      <td>NaN</td>\n",
       "    </tr>\n",
       "    <tr>\n",
       "      <th>3</th>\n",
       "      <td>1500</td>\n",
       "      <td>small</td>\n",
       "      <td>2001</td>\n",
       "      <td>manual</td>\n",
       "      <td>75</td>\n",
       "      <td>golf</td>\n",
       "      <td>150000</td>\n",
       "      <td>petrol</td>\n",
       "      <td>volkswagen</td>\n",
       "      <td>no</td>\n",
       "    </tr>\n",
       "    <tr>\n",
       "      <th>4</th>\n",
       "      <td>3600</td>\n",
       "      <td>small</td>\n",
       "      <td>2008</td>\n",
       "      <td>manual</td>\n",
       "      <td>69</td>\n",
       "      <td>fabia</td>\n",
       "      <td>90000</td>\n",
       "      <td>gasoline</td>\n",
       "      <td>land_rover</td>\n",
       "      <td>no</td>\n",
       "    </tr>\n",
       "    <tr>\n",
       "      <th>...</th>\n",
       "      <td>...</td>\n",
       "      <td>...</td>\n",
       "      <td>...</td>\n",
       "      <td>...</td>\n",
       "      <td>...</td>\n",
       "      <td>...</td>\n",
       "      <td>...</td>\n",
       "      <td>...</td>\n",
       "      <td>...</td>\n",
       "      <td>...</td>\n",
       "    </tr>\n",
       "    <tr>\n",
       "      <th>354359</th>\n",
       "      <td>1150</td>\n",
       "      <td>bus</td>\n",
       "      <td>2000</td>\n",
       "      <td>manual</td>\n",
       "      <td>0</td>\n",
       "      <td>zafira</td>\n",
       "      <td>150000</td>\n",
       "      <td>petrol</td>\n",
       "      <td>opel</td>\n",
       "      <td>no</td>\n",
       "    </tr>\n",
       "    <tr>\n",
       "      <th>354361</th>\n",
       "      <td>2200</td>\n",
       "      <td>NaN</td>\n",
       "      <td>2005</td>\n",
       "      <td>NaN</td>\n",
       "      <td>0</td>\n",
       "      <td>NaN</td>\n",
       "      <td>20000</td>\n",
       "      <td>NaN</td>\n",
       "      <td>sonstige_autos</td>\n",
       "      <td>NaN</td>\n",
       "    </tr>\n",
       "    <tr>\n",
       "      <th>354362</th>\n",
       "      <td>1199</td>\n",
       "      <td>convertible</td>\n",
       "      <td>2000</td>\n",
       "      <td>auto</td>\n",
       "      <td>101</td>\n",
       "      <td>fortwo</td>\n",
       "      <td>125000</td>\n",
       "      <td>petrol</td>\n",
       "      <td>smart</td>\n",
       "      <td>no</td>\n",
       "    </tr>\n",
       "    <tr>\n",
       "      <th>354363</th>\n",
       "      <td>9200</td>\n",
       "      <td>bus</td>\n",
       "      <td>1996</td>\n",
       "      <td>manual</td>\n",
       "      <td>102</td>\n",
       "      <td>transporter</td>\n",
       "      <td>150000</td>\n",
       "      <td>gasoline</td>\n",
       "      <td>volkswagen</td>\n",
       "      <td>no</td>\n",
       "    </tr>\n",
       "    <tr>\n",
       "      <th>354364</th>\n",
       "      <td>3400</td>\n",
       "      <td>wagon</td>\n",
       "      <td>2002</td>\n",
       "      <td>manual</td>\n",
       "      <td>100</td>\n",
       "      <td>golf</td>\n",
       "      <td>150000</td>\n",
       "      <td>gasoline</td>\n",
       "      <td>volkswagen</td>\n",
       "      <td>NaN</td>\n",
       "    </tr>\n",
       "  </tbody>\n",
       "</table>\n",
       "<p>325475 rows × 10 columns</p>\n",
       "</div>"
      ],
      "text/plain": [
       "        price vehicle_type  registration_year gearbox  power        model  \\\n",
       "0         480          NaN               1993  manual      0         golf   \n",
       "1       18300        coupe               2011  manual    190          NaN   \n",
       "2        9800          suv               2004    auto    163        grand   \n",
       "3        1500        small               2001  manual     75         golf   \n",
       "4        3600        small               2008  manual     69        fabia   \n",
       "...       ...          ...                ...     ...    ...          ...   \n",
       "354359   1150          bus               2000  manual      0       zafira   \n",
       "354361   2200          NaN               2005     NaN      0          NaN   \n",
       "354362   1199  convertible               2000    auto    101       fortwo   \n",
       "354363   9200          bus               1996  manual    102  transporter   \n",
       "354364   3400        wagon               2002  manual    100         golf   \n",
       "\n",
       "        mileage fuel_type           brand not_repaired  \n",
       "0        150000    petrol      volkswagen          NaN  \n",
       "1        125000  gasoline      land_rover          yes  \n",
       "2        125000  gasoline            jeep          NaN  \n",
       "3        150000    petrol      volkswagen           no  \n",
       "4         90000  gasoline      land_rover           no  \n",
       "...         ...       ...             ...          ...  \n",
       "354359   150000    petrol            opel           no  \n",
       "354361    20000       NaN  sonstige_autos          NaN  \n",
       "354362   125000    petrol           smart           no  \n",
       "354363   150000  gasoline      volkswagen           no  \n",
       "354364   150000  gasoline      volkswagen          NaN  \n",
       "\n",
       "[325475 rows x 10 columns]"
      ]
     },
     "execution_count": 45,
     "metadata": {},
     "output_type": "execute_result"
    }
   ],
   "source": [
    "df"
   ]
  },
  {
   "cell_type": "markdown",
   "metadata": {},
   "source": [
    "Рассмотрим мощности двигателей:"
   ]
  },
  {
   "cell_type": "code",
   "execution_count": 46,
   "metadata": {},
   "outputs": [
    {
     "data": {
      "image/png": "[encoded data removed]",
      "text/plain": [
       "<Figure size 864x288 with 1 Axes>"
      ]
     },
     "metadata": {
      "needs_background": "light"
     },
     "output_type": "display_data"
    }
   ],
   "source": [
    "df.power.hist(bins=100, figsize=(12,4));"
   ]
  },
  {
   "cell_type": "markdown",
   "metadata": {},
   "source": [
    "Выбросы слишком редкие, рассмотрим высокие значения подробнее:"
   ]
  },
  {
   "cell_type": "code",
   "execution_count": 47,
   "metadata": {},
   "outputs": [
    {
     "data": {
      "image/png": "[encoded data removed]",
      "text/plain": [
       "<Figure size 864x288 with 1 Axes>"
      ]
     },
     "metadata": {
      "needs_background": "light"
     },
     "output_type": "display_data"
    }
   ],
   "source": [
    "df.query('power > 500').power.hist(bins=100, figsize=(12,4));"
   ]
  },
  {
   "cell_type": "code",
   "execution_count": 48,
   "metadata": {},
   "outputs": [
    {
     "data": {
      "text/html": [
       "<div>\n",
       "<style scoped>\n",
       "    .dataframe tbody tr th:only-of-type {\n",
       "        vertical-align: middle;\n",
       "    }\n",
       "\n",
       "    .dataframe tbody tr th {\n",
       "        vertical-align: top;\n",
       "    }\n",
       "\n",
       "    .dataframe thead th {\n",
       "        text-align: right;\n",
       "    }\n",
       "</style>\n",
       "<table border=\"1\" class=\"dataframe\">\n",
       "  <thead>\n",
       "    <tr style=\"text-align: right;\">\n",
       "      <th></th>\n",
       "      <th>price</th>\n",
       "      <th>vehicle_type</th>\n",
       "      <th>registration_year</th>\n",
       "      <th>gearbox</th>\n",
       "      <th>power</th>\n",
       "      <th>model</th>\n",
       "      <th>mileage</th>\n",
       "      <th>fuel_type</th>\n",
       "      <th>brand</th>\n",
       "      <th>not_repaired</th>\n",
       "    </tr>\n",
       "  </thead>\n",
       "  <tbody>\n",
       "    <tr>\n",
       "      <th>1816</th>\n",
       "      <td>3200</td>\n",
       "      <td>small</td>\n",
       "      <td>2004</td>\n",
       "      <td>manual</td>\n",
       "      <td>1398</td>\n",
       "      <td>corolla</td>\n",
       "      <td>5000</td>\n",
       "      <td>petrol</td>\n",
       "      <td>toyota</td>\n",
       "      <td>no</td>\n",
       "    </tr>\n",
       "    <tr>\n",
       "      <th>4060</th>\n",
       "      <td>3100</td>\n",
       "      <td>sedan</td>\n",
       "      <td>2005</td>\n",
       "      <td>manual</td>\n",
       "      <td>953</td>\n",
       "      <td>colt</td>\n",
       "      <td>150000</td>\n",
       "      <td>gasoline</td>\n",
       "      <td>mitsubishi</td>\n",
       "      <td>no</td>\n",
       "    </tr>\n",
       "    <tr>\n",
       "      <th>5328</th>\n",
       "      <td>500</td>\n",
       "      <td>wagon</td>\n",
       "      <td>1999</td>\n",
       "      <td>manual</td>\n",
       "      <td>1001</td>\n",
       "      <td>astra</td>\n",
       "      <td>150000</td>\n",
       "      <td>petrol</td>\n",
       "      <td>opel</td>\n",
       "      <td>NaN</td>\n",
       "    </tr>\n",
       "    <tr>\n",
       "      <th>6296</th>\n",
       "      <td>599</td>\n",
       "      <td>small</td>\n",
       "      <td>2002</td>\n",
       "      <td>manual</td>\n",
       "      <td>603</td>\n",
       "      <td>matiz</td>\n",
       "      <td>5000</td>\n",
       "      <td>petrol</td>\n",
       "      <td>chevrolet</td>\n",
       "      <td>yes</td>\n",
       "    </tr>\n",
       "    <tr>\n",
       "      <th>6504</th>\n",
       "      <td>3000</td>\n",
       "      <td>small</td>\n",
       "      <td>2009</td>\n",
       "      <td>manual</td>\n",
       "      <td>771</td>\n",
       "      <td>punto</td>\n",
       "      <td>125000</td>\n",
       "      <td>petrol</td>\n",
       "      <td>land_rover</td>\n",
       "      <td>NaN</td>\n",
       "    </tr>\n",
       "    <tr>\n",
       "      <th>...</th>\n",
       "      <td>...</td>\n",
       "      <td>...</td>\n",
       "      <td>...</td>\n",
       "      <td>...</td>\n",
       "      <td>...</td>\n",
       "      <td>...</td>\n",
       "      <td>...</td>\n",
       "      <td>...</td>\n",
       "      <td>...</td>\n",
       "      <td>...</td>\n",
       "    </tr>\n",
       "    <tr>\n",
       "      <th>348879</th>\n",
       "      <td>7500</td>\n",
       "      <td>sedan</td>\n",
       "      <td>2011</td>\n",
       "      <td>manual</td>\n",
       "      <td>1548</td>\n",
       "      <td>scenic</td>\n",
       "      <td>90000</td>\n",
       "      <td>petrol</td>\n",
       "      <td>land_rover</td>\n",
       "      <td>NaN</td>\n",
       "    </tr>\n",
       "    <tr>\n",
       "      <th>348964</th>\n",
       "      <td>250</td>\n",
       "      <td>small</td>\n",
       "      <td>1999</td>\n",
       "      <td>manual</td>\n",
       "      <td>1241</td>\n",
       "      <td>ypsilon</td>\n",
       "      <td>150000</td>\n",
       "      <td>petrol</td>\n",
       "      <td>lancia</td>\n",
       "      <td>yes</td>\n",
       "    </tr>\n",
       "    <tr>\n",
       "      <th>351943</th>\n",
       "      <td>1500</td>\n",
       "      <td>bus</td>\n",
       "      <td>2001</td>\n",
       "      <td>manual</td>\n",
       "      <td>1001</td>\n",
       "      <td>zafira</td>\n",
       "      <td>5000</td>\n",
       "      <td>gasoline</td>\n",
       "      <td>opel</td>\n",
       "      <td>no</td>\n",
       "    </tr>\n",
       "    <tr>\n",
       "      <th>353629</th>\n",
       "      <td>2400</td>\n",
       "      <td>sedan</td>\n",
       "      <td>2007</td>\n",
       "      <td>manual</td>\n",
       "      <td>650</td>\n",
       "      <td>c2</td>\n",
       "      <td>150000</td>\n",
       "      <td>petrol</td>\n",
       "      <td>land_rover</td>\n",
       "      <td>NaN</td>\n",
       "    </tr>\n",
       "    <tr>\n",
       "      <th>354256</th>\n",
       "      <td>399</td>\n",
       "      <td>other</td>\n",
       "      <td>1994</td>\n",
       "      <td>NaN</td>\n",
       "      <td>1103</td>\n",
       "      <td>3er</td>\n",
       "      <td>150000</td>\n",
       "      <td>NaN</td>\n",
       "      <td>bmw</td>\n",
       "      <td>NaN</td>\n",
       "    </tr>\n",
       "  </tbody>\n",
       "</table>\n",
       "<p>380 rows × 10 columns</p>\n",
       "</div>"
      ],
      "text/plain": [
       "        price vehicle_type  registration_year gearbox  power    model  \\\n",
       "1816     3200        small               2004  manual   1398  corolla   \n",
       "4060     3100        sedan               2005  manual    953     colt   \n",
       "5328      500        wagon               1999  manual   1001    astra   \n",
       "6296      599        small               2002  manual    603    matiz   \n",
       "6504     3000        small               2009  manual    771    punto   \n",
       "...       ...          ...                ...     ...    ...      ...   \n",
       "348879   7500        sedan               2011  manual   1548   scenic   \n",
       "348964    250        small               1999  manual   1241  ypsilon   \n",
       "351943   1500          bus               2001  manual   1001   zafira   \n",
       "353629   2400        sedan               2007  manual    650       c2   \n",
       "354256    399        other               1994     NaN   1103      3er   \n",
       "\n",
       "        mileage fuel_type       brand not_repaired  \n",
       "1816       5000    petrol      toyota           no  \n",
       "4060     150000  gasoline  mitsubishi           no  \n",
       "5328     150000    petrol        opel          NaN  \n",
       "6296       5000    petrol   chevrolet          yes  \n",
       "6504     125000    petrol  land_rover          NaN  \n",
       "...         ...       ...         ...          ...  \n",
       "348879    90000    petrol  land_rover          NaN  \n",
       "348964   150000    petrol      lancia          yes  \n",
       "351943     5000  gasoline        opel           no  \n",
       "353629   150000    petrol  land_rover          NaN  \n",
       "354256   150000       NaN         bmw          NaN  \n",
       "\n",
       "[380 rows x 10 columns]"
      ]
     },
     "execution_count": 48,
     "metadata": {},
     "output_type": "execute_result"
    }
   ],
   "source": [
    "df.query('power > 500')"
   ]
  },
  {
   "cell_type": "markdown",
   "metadata": {},
   "source": [
    "Возможно, некоторые пользователи ошибочно вводили данные по крутящему моменту или иную информацию вместо мощности двигателя в лошадиных силах. Судя по распределению, имеется около 90 автомобилей с мощностью около 500, что является возможным, но сомнительным. Принимаем решение удалить верхние 0.15% значений."
   ]
  },
  {
   "cell_type": "code",
   "execution_count": 49,
   "metadata": {},
   "outputs": [
    {
     "data": {
      "text/plain": [
       "450.0"
      ]
     },
     "execution_count": 49,
     "metadata": {},
     "output_type": "execute_result"
    }
   ],
   "source": [
    "# Проверяем, насколько адекватно взят предел\n",
    "df.power.quantile(.9985)"
   ]
  },
  {
   "cell_type": "code",
   "execution_count": 50,
   "metadata": {},
   "outputs": [],
   "source": [
    "df = df.query('power <= 450')"
   ]
  },
  {
   "cell_type": "code",
   "execution_count": 51,
   "metadata": {},
   "outputs": [
    {
     "data": {
      "image/png": "[encoded data removed]",
      "text/plain": [
       "<Figure size 864x288 with 1 Axes>"
      ]
     },
     "metadata": {
      "needs_background": "light"
     },
     "output_type": "display_data"
    }
   ],
   "source": [
    "df.power.hist(bins=50, figsize=(12,4));"
   ]
  },
  {
   "cell_type": "markdown",
   "metadata": {},
   "source": [
    "Остались околонулевые значения, проверим их:"
   ]
  },
  {
   "cell_type": "code",
   "execution_count": 52,
   "metadata": {
    "scrolled": true
   },
   "outputs": [
    {
     "data": {
      "image/png": "[encoded data removed]",
      "text/plain": [
       "<Figure size 864x288 with 1 Axes>"
      ]
     },
     "metadata": {
      "needs_background": "light"
     },
     "output_type": "display_data"
    }
   ],
   "source": [
    "df.query('power < 50').power.hist(bins=50, figsize=(12,4));"
   ]
  },
  {
   "cell_type": "markdown",
   "metadata": {},
   "source": [
    "При значении 45 имеется небольшой пик, также присутствует большое количество нулевых значений. Остальные значения распределены по всему диапазону, но их слишком мало. Так как мощность является количественным признаком, мы не можем заменить значения до 45 на \"no_info\", поэтому удаляем объекты с низкой мощностью."
   ]
  },
  {
   "cell_type": "code",
   "execution_count": 53,
   "metadata": {},
   "outputs": [],
   "source": [
    "df = df.query('power >= 45')"
   ]
  },
  {
   "cell_type": "markdown",
   "metadata": {},
   "source": [
    "Как заявляли ранее, восстановить данные мощности двигателя по другим признакам невозможно, так как одна модель автомобиля в одно время может выпускаться с различными двигателями."
   ]
  },
  {
   "cell_type": "code",
   "execution_count": 54,
   "metadata": {},
   "outputs": [
    {
     "data": {
      "text/plain": [
       "price                    0\n",
       "vehicle_type         10485\n",
       "registration_year        0\n",
       "gearbox               4989\n",
       "power                    0\n",
       "model                10595\n",
       "mileage                  0\n",
       "fuel_type            14887\n",
       "brand                    0\n",
       "not_repaired         41520\n",
       "dtype: int64"
      ]
     },
     "execution_count": 54,
     "metadata": {},
     "output_type": "execute_result"
    }
   ],
   "source": [
    "df.isna().sum()"
   ]
  },
  {
   "cell_type": "markdown",
   "metadata": {},
   "source": [
    "Количество пропусков сильно снизилось после очистки данных, но их количество остаётся существенным. Принимаем решение заполнить пропуски заглушкой. Параллельно сохраним датафрейм, в котором все пропуски удалены и применим его, если качество моделей будет неприемлемым."
   ]
  },
  {
   "cell_type": "code",
   "execution_count": 55,
   "metadata": {},
   "outputs": [],
   "source": [
    "df_0 = df.dropna()\n",
    "df_0 = df_0.reset_index(drop=True)"
   ]
  },
  {
   "cell_type": "code",
   "execution_count": 56,
   "metadata": {},
   "outputs": [
    {
     "data": {
      "text/html": [
       "<div>\n",
       "<style scoped>\n",
       "    .dataframe tbody tr th:only-of-type {\n",
       "        vertical-align: middle;\n",
       "    }\n",
       "\n",
       "    .dataframe tbody tr th {\n",
       "        vertical-align: top;\n",
       "    }\n",
       "\n",
       "    .dataframe thead th {\n",
       "        text-align: right;\n",
       "    }\n",
       "</style>\n",
       "<table border=\"1\" class=\"dataframe\">\n",
       "  <thead>\n",
       "    <tr style=\"text-align: right;\">\n",
       "      <th></th>\n",
       "      <th>price</th>\n",
       "      <th>vehicle_type</th>\n",
       "      <th>registration_year</th>\n",
       "      <th>gearbox</th>\n",
       "      <th>power</th>\n",
       "      <th>model</th>\n",
       "      <th>mileage</th>\n",
       "      <th>fuel_type</th>\n",
       "      <th>brand</th>\n",
       "      <th>not_repaired</th>\n",
       "    </tr>\n",
       "  </thead>\n",
       "  <tbody>\n",
       "    <tr>\n",
       "      <th>0</th>\n",
       "      <td>1500</td>\n",
       "      <td>small</td>\n",
       "      <td>2001</td>\n",
       "      <td>manual</td>\n",
       "      <td>75</td>\n",
       "      <td>golf</td>\n",
       "      <td>150000</td>\n",
       "      <td>petrol</td>\n",
       "      <td>volkswagen</td>\n",
       "      <td>no</td>\n",
       "    </tr>\n",
       "    <tr>\n",
       "      <th>1</th>\n",
       "      <td>3600</td>\n",
       "      <td>small</td>\n",
       "      <td>2008</td>\n",
       "      <td>manual</td>\n",
       "      <td>69</td>\n",
       "      <td>fabia</td>\n",
       "      <td>90000</td>\n",
       "      <td>gasoline</td>\n",
       "      <td>land_rover</td>\n",
       "      <td>no</td>\n",
       "    </tr>\n",
       "    <tr>\n",
       "      <th>2</th>\n",
       "      <td>650</td>\n",
       "      <td>sedan</td>\n",
       "      <td>1995</td>\n",
       "      <td>manual</td>\n",
       "      <td>102</td>\n",
       "      <td>3er</td>\n",
       "      <td>150000</td>\n",
       "      <td>petrol</td>\n",
       "      <td>bmw</td>\n",
       "      <td>yes</td>\n",
       "    </tr>\n",
       "    <tr>\n",
       "      <th>3</th>\n",
       "      <td>2200</td>\n",
       "      <td>convertible</td>\n",
       "      <td>2004</td>\n",
       "      <td>manual</td>\n",
       "      <td>109</td>\n",
       "      <td>2_reihe</td>\n",
       "      <td>150000</td>\n",
       "      <td>petrol</td>\n",
       "      <td>peugeot</td>\n",
       "      <td>no</td>\n",
       "    </tr>\n",
       "    <tr>\n",
       "      <th>4</th>\n",
       "      <td>2000</td>\n",
       "      <td>sedan</td>\n",
       "      <td>2004</td>\n",
       "      <td>manual</td>\n",
       "      <td>105</td>\n",
       "      <td>3_reihe</td>\n",
       "      <td>150000</td>\n",
       "      <td>petrol</td>\n",
       "      <td>mazda</td>\n",
       "      <td>no</td>\n",
       "    </tr>\n",
       "    <tr>\n",
       "      <th>...</th>\n",
       "      <td>...</td>\n",
       "      <td>...</td>\n",
       "      <td>...</td>\n",
       "      <td>...</td>\n",
       "      <td>...</td>\n",
       "      <td>...</td>\n",
       "      <td>...</td>\n",
       "      <td>...</td>\n",
       "      <td>...</td>\n",
       "      <td>...</td>\n",
       "    </tr>\n",
       "    <tr>\n",
       "      <th>230639</th>\n",
       "      <td>1490</td>\n",
       "      <td>small</td>\n",
       "      <td>1998</td>\n",
       "      <td>manual</td>\n",
       "      <td>50</td>\n",
       "      <td>lupo</td>\n",
       "      <td>150000</td>\n",
       "      <td>petrol</td>\n",
       "      <td>volkswagen</td>\n",
       "      <td>no</td>\n",
       "    </tr>\n",
       "    <tr>\n",
       "      <th>230640</th>\n",
       "      <td>7900</td>\n",
       "      <td>sedan</td>\n",
       "      <td>2010</td>\n",
       "      <td>manual</td>\n",
       "      <td>140</td>\n",
       "      <td>golf</td>\n",
       "      <td>150000</td>\n",
       "      <td>gasoline</td>\n",
       "      <td>land_rover</td>\n",
       "      <td>no</td>\n",
       "    </tr>\n",
       "    <tr>\n",
       "      <th>230641</th>\n",
       "      <td>3200</td>\n",
       "      <td>sedan</td>\n",
       "      <td>2004</td>\n",
       "      <td>manual</td>\n",
       "      <td>225</td>\n",
       "      <td>leon</td>\n",
       "      <td>150000</td>\n",
       "      <td>petrol</td>\n",
       "      <td>seat</td>\n",
       "      <td>yes</td>\n",
       "    </tr>\n",
       "    <tr>\n",
       "      <th>230642</th>\n",
       "      <td>1199</td>\n",
       "      <td>convertible</td>\n",
       "      <td>2000</td>\n",
       "      <td>auto</td>\n",
       "      <td>101</td>\n",
       "      <td>fortwo</td>\n",
       "      <td>125000</td>\n",
       "      <td>petrol</td>\n",
       "      <td>smart</td>\n",
       "      <td>no</td>\n",
       "    </tr>\n",
       "    <tr>\n",
       "      <th>230643</th>\n",
       "      <td>9200</td>\n",
       "      <td>bus</td>\n",
       "      <td>1996</td>\n",
       "      <td>manual</td>\n",
       "      <td>102</td>\n",
       "      <td>transporter</td>\n",
       "      <td>150000</td>\n",
       "      <td>gasoline</td>\n",
       "      <td>volkswagen</td>\n",
       "      <td>no</td>\n",
       "    </tr>\n",
       "  </tbody>\n",
       "</table>\n",
       "<p>230644 rows × 10 columns</p>\n",
       "</div>"
      ],
      "text/plain": [
       "        price vehicle_type  registration_year gearbox  power        model  \\\n",
       "0        1500        small               2001  manual     75         golf   \n",
       "1        3600        small               2008  manual     69        fabia   \n",
       "2         650        sedan               1995  manual    102          3er   \n",
       "3        2200  convertible               2004  manual    109      2_reihe   \n",
       "4        2000        sedan               2004  manual    105      3_reihe   \n",
       "...       ...          ...                ...     ...    ...          ...   \n",
       "230639   1490        small               1998  manual     50         lupo   \n",
       "230640   7900        sedan               2010  manual    140         golf   \n",
       "230641   3200        sedan               2004  manual    225         leon   \n",
       "230642   1199  convertible               2000    auto    101       fortwo   \n",
       "230643   9200          bus               1996  manual    102  transporter   \n",
       "\n",
       "        mileage fuel_type       brand not_repaired  \n",
       "0        150000    petrol  volkswagen           no  \n",
       "1         90000  gasoline  land_rover           no  \n",
       "2        150000    petrol         bmw          yes  \n",
       "3        150000    petrol     peugeot           no  \n",
       "4        150000    petrol       mazda           no  \n",
       "...         ...       ...         ...          ...  \n",
       "230639   150000    petrol  volkswagen           no  \n",
       "230640   150000  gasoline  land_rover           no  \n",
       "230641   150000    petrol        seat          yes  \n",
       "230642   125000    petrol       smart           no  \n",
       "230643   150000  gasoline  volkswagen           no  \n",
       "\n",
       "[230644 rows x 10 columns]"
      ]
     },
     "execution_count": 56,
     "metadata": {},
     "output_type": "execute_result"
    }
   ],
   "source": [
    "df_0"
   ]
  },
  {
   "cell_type": "markdown",
   "metadata": {},
   "source": [
    "От изначальных 354369 строк осталось 229100. Утеряно много данных, но количества объектов достаточно для дальнейшей работы.\n",
    "\n",
    "В основном датафрейме заполним пропуски. Так как пропуски имеются только в признаках с текстовыми значениями, заполним их строкой:"
   ]
  },
  {
   "cell_type": "code",
   "execution_count": 57,
   "metadata": {},
   "outputs": [],
   "source": [
    "df = df.fillna('no_info')\n",
    "df = df.reset_index(drop=True)"
   ]
  },
  {
   "cell_type": "code",
   "execution_count": 58,
   "metadata": {},
   "outputs": [
    {
     "data": {
      "text/plain": [
       "price                0\n",
       "vehicle_type         0\n",
       "registration_year    0\n",
       "gearbox              0\n",
       "power                0\n",
       "model                0\n",
       "mileage              0\n",
       "fuel_type            0\n",
       "brand                0\n",
       "not_repaired         0\n",
       "dtype: int64"
      ]
     },
     "execution_count": 58,
     "metadata": {},
     "output_type": "execute_result"
    }
   ],
   "source": [
    "# Проверяем\n",
    "df.isna().sum()"
   ]
  },
  {
   "cell_type": "code",
   "execution_count": 59,
   "metadata": {},
   "outputs": [
    {
     "name": "stdout",
     "output_type": "stream",
     "text": [
      "Утеряно 62646 строк\n"
     ]
    }
   ],
   "source": [
    "print('Утеряно', 354369 - df.shape[0], 'строк')"
   ]
  },
  {
   "cell_type": "markdown",
   "metadata": {},
   "source": [
    "### Вывод"
   ]
  },
  {
   "cell_type": "markdown",
   "metadata": {},
   "source": [
    "Провели изучение и предобработку данных. По итогу обработки были внесены следующие изменения:\n",
    "1. Удалили несвязанные с ценой признаки;\n",
    "2. Заменили значения на корректные для автомобилей бренда Land Rover;\n",
    "3. Избавились от некорректных значений в целевом признаке;\n",
    "4. Избавились от некорректных и неактуальных значений в признаке с годом регистрации;\n",
    "5. Избавились от некорректных значений в признаке мощности двигателя;\n",
    "6. Заполнили пропуски значением 'no_info'.\n",
    "\n",
    "Дополнительно была создана копия итогового датафрейма, но без признаков с пропусками.\n",
    "\n",
    "Ретро-автомобили удалены из датафрейма, расчёт стоимости автомобилей старше 1960 года рекомендуем проводить индивидуально на основании экспертной оценки."
   ]
  },
  {
   "cell_type": "code",
   "execution_count": 60,
   "metadata": {},
   "outputs": [
    {
     "data": {
      "text/html": [
       "<div>\n",
       "<style scoped>\n",
       "    .dataframe tbody tr th:only-of-type {\n",
       "        vertical-align: middle;\n",
       "    }\n",
       "\n",
       "    .dataframe tbody tr th {\n",
       "        vertical-align: top;\n",
       "    }\n",
       "\n",
       "    .dataframe thead th {\n",
       "        text-align: right;\n",
       "    }\n",
       "</style>\n",
       "<table border=\"1\" class=\"dataframe\">\n",
       "  <thead>\n",
       "    <tr style=\"text-align: right;\">\n",
       "      <th></th>\n",
       "      <th>price</th>\n",
       "      <th>registration_year</th>\n",
       "      <th>power</th>\n",
       "      <th>mileage</th>\n",
       "    </tr>\n",
       "  </thead>\n",
       "  <tbody>\n",
       "    <tr>\n",
       "      <th>count</th>\n",
       "      <td>291723.000000</td>\n",
       "      <td>291723.000000</td>\n",
       "      <td>291723.000000</td>\n",
       "      <td>291723.000000</td>\n",
       "    </tr>\n",
       "    <tr>\n",
       "      <th>mean</th>\n",
       "      <td>4901.086219</td>\n",
       "      <td>2002.949349</td>\n",
       "      <td>121.374410</td>\n",
       "      <td>128493.776631</td>\n",
       "    </tr>\n",
       "    <tr>\n",
       "      <th>std</th>\n",
       "      <td>4610.764919</td>\n",
       "      <td>6.291644</td>\n",
       "      <td>52.801996</td>\n",
       "      <td>36501.767025</td>\n",
       "    </tr>\n",
       "    <tr>\n",
       "      <th>min</th>\n",
       "      <td>150.000000</td>\n",
       "      <td>1960.000000</td>\n",
       "      <td>45.000000</td>\n",
       "      <td>5000.000000</td>\n",
       "    </tr>\n",
       "    <tr>\n",
       "      <th>25%</th>\n",
       "      <td>1390.000000</td>\n",
       "      <td>1999.000000</td>\n",
       "      <td>80.000000</td>\n",
       "      <td>125000.000000</td>\n",
       "    </tr>\n",
       "    <tr>\n",
       "      <th>50%</th>\n",
       "      <td>3200.000000</td>\n",
       "      <td>2003.000000</td>\n",
       "      <td>114.000000</td>\n",
       "      <td>150000.000000</td>\n",
       "    </tr>\n",
       "    <tr>\n",
       "      <th>75%</th>\n",
       "      <td>6999.000000</td>\n",
       "      <td>2007.000000</td>\n",
       "      <td>150.000000</td>\n",
       "      <td>150000.000000</td>\n",
       "    </tr>\n",
       "    <tr>\n",
       "      <th>max</th>\n",
       "      <td>20000.000000</td>\n",
       "      <td>2016.000000</td>\n",
       "      <td>450.000000</td>\n",
       "      <td>150000.000000</td>\n",
       "    </tr>\n",
       "  </tbody>\n",
       "</table>\n",
       "</div>"
      ],
      "text/plain": [
       "               price  registration_year          power        mileage\n",
       "count  291723.000000      291723.000000  291723.000000  291723.000000\n",
       "mean     4901.086219        2002.949349     121.374410  128493.776631\n",
       "std      4610.764919           6.291644      52.801996   36501.767025\n",
       "min       150.000000        1960.000000      45.000000    5000.000000\n",
       "25%      1390.000000        1999.000000      80.000000  125000.000000\n",
       "50%      3200.000000        2003.000000     114.000000  150000.000000\n",
       "75%      6999.000000        2007.000000     150.000000  150000.000000\n",
       "max     20000.000000        2016.000000     450.000000  150000.000000"
      ]
     },
     "execution_count": 60,
     "metadata": {},
     "output_type": "execute_result"
    }
   ],
   "source": [
    "#КОД РЕВЬЮЕРА\n",
    "\n",
    "df.describe()"
   ]
  },
  {
   "cell_type": "markdown",
   "metadata": {},
   "source": [
    "## Обучение моделей"
   ]
  },
  {
   "cell_type": "markdown",
   "metadata": {},
   "source": [
    "Так как требуется решение задачи регрессии, необходимо закодировать категориальные признаки. Так как они несравнимы между собой, закодируем их методом прямого кодирования."
   ]
  },
  {
   "cell_type": "code",
   "execution_count": 61,
   "metadata": {},
   "outputs": [
    {
     "name": "stdout",
     "output_type": "stream",
     "text": [
      "<class 'pandas.core.frame.DataFrame'>\n",
      "RangeIndex: 291723 entries, 0 to 291722\n",
      "Data columns (total 10 columns):\n",
      " #   Column             Non-Null Count   Dtype \n",
      "---  ------             --------------   ----- \n",
      " 0   price              291723 non-null  int64 \n",
      " 1   vehicle_type       291723 non-null  object\n",
      " 2   registration_year  291723 non-null  int64 \n",
      " 3   gearbox            291723 non-null  object\n",
      " 4   power              291723 non-null  int64 \n",
      " 5   model              291723 non-null  object\n",
      " 6   mileage            291723 non-null  int64 \n",
      " 7   fuel_type          291723 non-null  object\n",
      " 8   brand              291723 non-null  object\n",
      " 9   not_repaired       291723 non-null  object\n",
      "dtypes: int64(4), object(6)\n",
      "memory usage: 22.3+ MB\n"
     ]
    }
   ],
   "source": [
    "df.info()"
   ]
  },
  {
   "cell_type": "code",
   "execution_count": 62,
   "metadata": {},
   "outputs": [],
   "source": [
    "df_prep = pd.get_dummies(df, drop_first=True)"
   ]
  },
  {
   "cell_type": "code",
   "execution_count": 65,
   "metadata": {},
   "outputs": [],
   "source": [
    "# Создаём переменные\n",
    "features = df_prep.drop(['price'], axis=1)\n",
    "target = df_prep.price\n",
    "\n",
    "# Разделяем выборки\n",
    "features_train, features_test, target_train, target_test = train_test_split(\n",
    "    features, target, test_size=0.25, random_state=777)"
   ]
  },
  {
   "cell_type": "code",
   "execution_count": 66,
   "metadata": {},
   "outputs": [
    {
     "name": "stdout",
     "output_type": "stream",
     "text": [
      "Index(['registration_year', 'power', 'mileage', 'vehicle_type_convertible',\n",
      "       'vehicle_type_coupe', 'vehicle_type_no_info', 'vehicle_type_other',\n",
      "       'vehicle_type_sedan', 'vehicle_type_small', 'vehicle_type_suv',\n",
      "       ...\n",
      "       'brand_smart', 'brand_sonstige_autos', 'brand_subaru', 'brand_suzuki',\n",
      "       'brand_toyota', 'brand_trabant', 'brand_volkswagen', 'brand_volvo',\n",
      "       'not_repaired_no_info', 'not_repaired_yes'],\n",
      "      dtype='object', length=310)\n"
     ]
    }
   ],
   "source": [
    "print(features_train.columns)"
   ]
  },
  {
   "cell_type": "code",
   "execution_count": 67,
   "metadata": {},
   "outputs": [
    {
     "name": "stdout",
     "output_type": "stream",
     "text": [
      "(218792, 310)\n",
      "(72931, 310)\n",
      "0.2500008569773381\n"
     ]
    }
   ],
   "source": [
    "# Проверим размер выборок\n",
    "\n",
    "print(features_train.shape)\n",
    "print(features_test.shape)\n",
    "print(features_test.shape[0] / df_prep.shape[0])"
   ]
  },
  {
   "cell_type": "markdown",
   "metadata": {},
   "source": [
    "Масштабируем данные:"
   ]
  },
  {
   "cell_type": "code",
   "execution_count": 68,
   "metadata": {},
   "outputs": [],
   "source": [
    "# Стандартизируем признаки, которые изначально были количественными, выделим их\n",
    "numeric = ['registration_year', 'power', 'mileage']"
   ]
  },
  {
   "cell_type": "code",
   "execution_count": 69,
   "metadata": {
    "scrolled": false
   },
   "outputs": [
    {
     "name": "stdout",
     "output_type": "stream",
     "text": [
      "CPU times: user 128 ms, sys: 8.36 ms, total: 136 ms\n",
      "Wall time: 132 ms\n"
     ]
    },
    {
     "name": "stderr",
     "output_type": "stream",
     "text": [
      "<timed exec>:7: SettingWithCopyWarning: \n",
      "A value is trying to be set on a copy of a slice from a DataFrame.\n",
      "Try using .loc[row_indexer,col_indexer] = value instead\n",
      "\n",
      "See the caveats in the documentation: https://pandas.pydata.org/pandas-docs/stable/user_guide/indexing.html#returning-a-view-versus-a-copy\n",
      "/opt/conda/lib/python3.9/site-packages/pandas/core/indexing.py:1738: SettingWithCopyWarning: \n",
      "A value is trying to be set on a copy of a slice from a DataFrame.\n",
      "Try using .loc[row_indexer,col_indexer] = value instead\n",
      "\n",
      "See the caveats in the documentation: https://pandas.pydata.org/pandas-docs/stable/user_guide/indexing.html#returning-a-view-versus-a-copy\n",
      "  self._setitem_single_column(loc, value[:, i].tolist(), pi)\n",
      "<timed exec>:8: SettingWithCopyWarning: \n",
      "A value is trying to be set on a copy of a slice from a DataFrame.\n",
      "Try using .loc[row_indexer,col_indexer] = value instead\n",
      "\n",
      "See the caveats in the documentation: https://pandas.pydata.org/pandas-docs/stable/user_guide/indexing.html#returning-a-view-versus-a-copy\n",
      "/opt/conda/lib/python3.9/site-packages/pandas/core/indexing.py:1738: SettingWithCopyWarning: \n",
      "A value is trying to be set on a copy of a slice from a DataFrame.\n",
      "Try using .loc[row_indexer,col_indexer] = value instead\n",
      "\n",
      "See the caveats in the documentation: https://pandas.pydata.org/pandas-docs/stable/user_guide/indexing.html#returning-a-view-versus-a-copy\n",
      "  self._setitem_single_column(loc, value[:, i].tolist(), pi)\n"
     ]
    }
   ],
   "source": [
    "%%time\n",
    "\n",
    "scaler = StandardScaler()\n",
    "scaler.fit(features_train[numeric])\n",
    "\n",
    "features_train_scaled = features_train\n",
    "features_test_scaled = features_test\n",
    "\n",
    "features_train_scaled[numeric] = scaler.transform(features_train[numeric])\n",
    "features_test_scaled[numeric] = scaler.transform(features_test[numeric])"
   ]
  },
  {
   "cell_type": "markdown",
   "metadata": {},
   "source": [
    "Так как наша основная метрика качества - RMSE, напишем функции для поиска лучшей модели."
   ]
  },
  {
   "cell_type": "code",
   "execution_count": 70,
   "metadata": {},
   "outputs": [],
   "source": [
    "def rmse(target, predictions):\n",
    "    mse = mean_squared_error(target, predictions)\n",
    "    return mse ** 0.5"
   ]
  },
  {
   "cell_type": "code",
   "execution_count": 71,
   "metadata": {},
   "outputs": [],
   "source": [
    "rmse_score = make_scorer(rmse, greater_is_better=False)"
   ]
  },
  {
   "cell_type": "code",
   "execution_count": 72,
   "metadata": {},
   "outputs": [],
   "source": [
    "def cross_val(model, params, features_train, features_test, target_train, target_test):\n",
    "    grid = GridSearchCV(model, param_grid=params, cv=3, scoring=rmse_score, n_jobs=1)\n",
    "    grid.fit(features_train, target_train)\n",
    "    predict = grid.predict(features_test)\n",
    "    return print(rmse(target_test, predict), model.get_params())"
   ]
  },
  {
   "cell_type": "markdown",
   "metadata": {},
   "source": [
    "### DecisionTreeRegressor"
   ]
  },
  {
   "cell_type": "markdown",
   "metadata": {},
   "source": [
    "Рассмотрим использование модели дерева решений, измерим время обучения."
   ]
  },
  {
   "cell_type": "code",
   "execution_count": 73,
   "metadata": {},
   "outputs": [
    {
     "name": "stdout",
     "output_type": "stream",
     "text": [
      "CPU times: user 3.75 s, sys: 186 ms, total: 3.94 s\n",
      "Wall time: 3.94 s\n"
     ]
    },
    {
     "data": {
      "text/plain": [
       "DecisionTreeRegressor(max_depth=10, random_state=777)"
      ]
     },
     "execution_count": 73,
     "metadata": {},
     "output_type": "execute_result"
    }
   ],
   "source": [
    "%%time\n",
    "\n",
    "model_dtr = DecisionTreeRegressor(random_state=777, max_depth=10)\n",
    "model_dtr.fit(features_train, target_train)"
   ]
  },
  {
   "cell_type": "markdown",
   "metadata": {},
   "source": [
    "Измерим время предсказаний:"
   ]
  },
  {
   "cell_type": "code",
   "execution_count": 74,
   "metadata": {
    "scrolled": true
   },
   "outputs": [
    {
     "name": "stdout",
     "output_type": "stream",
     "text": [
      "CPU times: user 199 ms, sys: 185 ms, total: 384 ms\n",
      "Wall time: 387 ms\n"
     ]
    }
   ],
   "source": [
    "%%time\n",
    "\n",
    "predict_dtr_train = model_dtr.predict(features_train)"
   ]
  },
  {
   "cell_type": "code",
   "execution_count": 75,
   "metadata": {},
   "outputs": [
    {
     "data": {
      "text/plain": [
       "1889.6277652571143"
      ]
     },
     "execution_count": 75,
     "metadata": {},
     "output_type": "execute_result"
    }
   ],
   "source": [
    "rmse(target_train, predict_dtr_train)"
   ]
  },
  {
   "cell_type": "code",
   "execution_count": 76,
   "metadata": {},
   "outputs": [],
   "source": [
    "#dtr_params = {'max_depth': range(1, 10, 2)}"
   ]
  },
  {
   "cell_type": "code",
   "execution_count": 77,
   "metadata": {
    "scrolled": true
   },
   "outputs": [],
   "source": [
    "#%%time\n",
    "\n",
    "#dtr_best_model = cross_val(model_dtr, dtr_params, features_train, features_test, target_train, target_test)"
   ]
  },
  {
   "cell_type": "markdown",
   "metadata": {},
   "source": [
    "Время обучения - 3.75 сек.\n",
    "\n",
    "Время предсказания на обучающей выборке - 0.148 сек.\n",
    "\n",
    "RMSE - 1889.6."
   ]
  },
  {
   "cell_type": "markdown",
   "metadata": {},
   "source": [
    "### RandomForestRegressor"
   ]
  },
  {
   "cell_type": "markdown",
   "metadata": {},
   "source": [
    "Рассмотрим модель случайного леса. Проведём аналогичные измерения."
   ]
  },
  {
   "cell_type": "code",
   "execution_count": 78,
   "metadata": {
    "scrolled": true
   },
   "outputs": [],
   "source": [
    "model_rfr = RandomForestRegressor(random_state=777, max_depth=10)"
   ]
  },
  {
   "cell_type": "code",
   "execution_count": 79,
   "metadata": {},
   "outputs": [
    {
     "name": "stdout",
     "output_type": "stream",
     "text": [
      "CPU times: user 4min 8s, sys: 527 ms, total: 4min 9s\n",
      "Wall time: 4min 9s\n"
     ]
    },
    {
     "data": {
      "text/plain": [
       "RandomForestRegressor(max_depth=10, random_state=777)"
      ]
     },
     "execution_count": 79,
     "metadata": {},
     "output_type": "execute_result"
    }
   ],
   "source": [
    "%%time\n",
    "\n",
    "model_rfr.fit(features_train, target_train)"
   ]
  },
  {
   "cell_type": "code",
   "execution_count": 80,
   "metadata": {},
   "outputs": [
    {
     "name": "stdout",
     "output_type": "stream",
     "text": [
      "CPU times: user 2.49 s, sys: 200 ms, total: 2.69 s\n",
      "Wall time: 2.7 s\n"
     ]
    }
   ],
   "source": [
    "%%time\n",
    "\n",
    "predict_rfr_train = model_rfr.predict(features_train)"
   ]
  },
  {
   "cell_type": "code",
   "execution_count": 81,
   "metadata": {},
   "outputs": [
    {
     "data": {
      "text/plain": [
       "1815.6856195345626"
      ]
     },
     "execution_count": 81,
     "metadata": {},
     "output_type": "execute_result"
    }
   ],
   "source": [
    "rmse(target_train, predict_rfr_train)"
   ]
  },
  {
   "cell_type": "markdown",
   "metadata": {},
   "source": [
    "Время обучения - 267 сек.\n",
    "\n",
    "Время предсказания на обучающей выборке - 2.6 сек.\n",
    "\n",
    "RMSE - 1815.7."
   ]
  },
  {
   "cell_type": "markdown",
   "metadata": {},
   "source": [
    "### LightGBM"
   ]
  },
  {
   "cell_type": "markdown",
   "metadata": {},
   "source": [
    "Рассмотрим гиперпараметры модели LightGBM."
   ]
  },
  {
   "cell_type": "markdown",
   "metadata": {},
   "source": [
    "Для поиска эффективных гиперпараметров используем GridSearchCV."
   ]
  },
  {
   "cell_type": "code",
   "execution_count": 82,
   "metadata": {},
   "outputs": [],
   "source": [
    "grid_params = {'max_depth': range(1, 6)\n",
    "              }"
   ]
  },
  {
   "cell_type": "code",
   "execution_count": 83,
   "metadata": {},
   "outputs": [],
   "source": [
    "grid_lgbm = LGBMRegressor(random_state=777)\n",
    "grid_model = GridSearchCV(estimator=grid_lgbm, param_grid=grid_params, cv=3, scoring='neg_root_mean_squared_error', n_jobs=-1, verbose=True)"
   ]
  },
  {
   "cell_type": "code",
   "execution_count": 84,
   "metadata": {
    "scrolled": true
   },
   "outputs": [],
   "source": [
    "# Время исполнения кода - 34 минуты для поиска одного гиперпараметра\n",
    "#%%time\n",
    "\n",
    "#grid_model.fit(features_train, target_train)\n",
    "#print('RMSE:', grid_model.best_score_)\n",
    "#print('-'*40)\n",
    "#print('Гиперпараметры:', grid_model.best_params_)"
   ]
  },
  {
   "cell_type": "markdown",
   "metadata": {},
   "source": [
    "Пробуем другие значения и параметр 'cv' для поиска гиперпараметров."
   ]
  },
  {
   "cell_type": "code",
   "execution_count": 85,
   "metadata": {},
   "outputs": [],
   "source": [
    "grid_lgbm_0 = LGBMRegressor(random_state=777)\n",
    "params_lgbm = {'n_estimators': [200], # сократил до известного интервала, чтобы ускорить выполнение кода\n",
    "              'max_depth': [9]} # сократил до известного интервала, чтобы ускорить выполнение кода\n",
    "grid_model_0 = GridSearchCV(estimator=grid_lgbm_0, param_grid=params_lgbm, cv=5, scoring=rmse_score, verbose=10)"
   ]
  },
  {
   "cell_type": "code",
   "execution_count": 86,
   "metadata": {
    "scrolled": true
   },
   "outputs": [
    {
     "name": "stdout",
     "output_type": "stream",
     "text": [
      "Fitting 5 folds for each of 1 candidates, totalling 5 fits\n",
      "[CV 1/5; 1/1] START max_depth=9, n_estimators=200...............................\n",
      "[CV 1/5; 1/1] END .............max_depth=9, n_estimators=200; total time=  10.2s\n",
      "[CV 2/5; 1/1] START max_depth=9, n_estimators=200...............................\n",
      "[CV 2/5; 1/1] END .............max_depth=9, n_estimators=200; total time=   9.9s\n",
      "[CV 3/5; 1/1] START max_depth=9, n_estimators=200...............................\n",
      "[CV 3/5; 1/1] END .............max_depth=9, n_estimators=200; total time=  12.6s\n",
      "[CV 4/5; 1/1] START max_depth=9, n_estimators=200...............................\n",
      "[CV 4/5; 1/1] END .............max_depth=9, n_estimators=200; total time=  10.7s\n",
      "[CV 5/5; 1/1] START max_depth=9, n_estimators=200...............................\n",
      "[CV 5/5; 1/1] END .............max_depth=9, n_estimators=200; total time=   9.5s\n",
      "{'max_depth': 9, 'n_estimators': 200}\n",
      "1650.8396370472503\n",
      "CPU times: user 1min, sys: 2.05 s, total: 1min 2s\n",
      "Wall time: 1min 3s\n"
     ]
    }
   ],
   "source": [
    "%%time\n",
    "\n",
    "grid_model_0.fit(features_train, target_train)\n",
    "print(grid_model_0.best_params_)\n",
    "print(abs(grid_model_0.best_score_))"
   ]
  },
  {
   "cell_type": "code",
   "execution_count": 87,
   "metadata": {},
   "outputs": [
    {
     "name": "stdout",
     "output_type": "stream",
     "text": [
      "CPU times: user 3.41 s, sys: 282 ms, total: 3.69 s\n",
      "Wall time: 3.71 s\n"
     ]
    },
    {
     "data": {
      "text/plain": [
       "array([2095.29848461, 4463.73517345,  807.89947567, ..., 7511.9325832 ,\n",
       "       1182.78140736, 2724.06136841])"
      ]
     },
     "execution_count": 87,
     "metadata": {},
     "output_type": "execute_result"
    }
   ],
   "source": [
    "%%time\n",
    "\n",
    "grid_model_0.predict(features_train)"
   ]
  },
  {
   "cell_type": "markdown",
   "metadata": {},
   "source": [
    "Лучший показатель RMSE - 1650.8 при гиперпараметрах 'max_depth': 9, 'n_estimators': 200."
   ]
  },
  {
   "cell_type": "markdown",
   "metadata": {},
   "source": [
    "### CatBoostRegressor"
   ]
  },
  {
   "cell_type": "code",
   "execution_count": 88,
   "metadata": {},
   "outputs": [
    {
     "name": "stdout",
     "output_type": "stream",
     "text": [
      "Лучшие гиперпараметры: {'depth': 7, 'iterations': 200, 'learning_rate': 0.1}\n",
      "Лучшая метрика RMSE: 1722.4785790948185\n"
     ]
    }
   ],
   "source": [
    "model_cbr = CatBoostRegressor(random_state=777, verbose=0)\n",
    "\n",
    "params = {'iterations': [200],\n",
    "          'depth': [7],\n",
    "         'learning_rate': [0.1]}\n",
    "\n",
    "grid = GridSearchCV(model_cbr, params, cv=5, scoring='neg_root_mean_squared_error', verbose=0)\n",
    "grid.fit(features_train, target_train)\n",
    "\n",
    "print('Лучшие гиперпараметры:', grid.best_params_)\n",
    "print('Лучшая метрика RMSE:', abs(grid.best_score_))"
   ]
  },
  {
   "cell_type": "code",
   "execution_count": 89,
   "metadata": {
    "scrolled": true
   },
   "outputs": [
    {
     "name": "stdout",
     "output_type": "stream",
     "text": [
      "CPU times: user 8.17 s, sys: 72.5 ms, total: 8.24 s\n",
      "Wall time: 8.91 s\n"
     ]
    },
    {
     "data": {
      "text/plain": [
       "<catboost.core.CatBoostRegressor at 0x7f24292a77c0>"
      ]
     },
     "execution_count": 89,
     "metadata": {},
     "output_type": "execute_result"
    }
   ],
   "source": [
    "%%time\n",
    "\n",
    "model_cbr = CatBoostRegressor(random_state=777, **grid.best_params_, verbose=0)\n",
    "model_cbr.fit(features_train, target_train)"
   ]
  },
  {
   "cell_type": "code",
   "execution_count": 90,
   "metadata": {},
   "outputs": [
    {
     "name": "stdout",
     "output_type": "stream",
     "text": [
      "CPU times: user 161 ms, sys: 4 ms, total: 165 ms\n",
      "Wall time: 163 ms\n"
     ]
    },
    {
     "data": {
      "text/plain": [
       "array([2335.30218275, 4116.60028775,  986.04737175, ..., 8230.11549129,\n",
       "       1240.44332975, 2720.40674266])"
      ]
     },
     "execution_count": 90,
     "metadata": {},
     "output_type": "execute_result"
    }
   ],
   "source": [
    "%%time\n",
    "\n",
    "model_cbr.predict(features_train)"
   ]
  },
  {
   "cell_type": "markdown",
   "metadata": {},
   "source": [
    "Лучший результат RMSE - 1749, лучшие гиперпараметры: 'depth': 7, 'learning_rate': 0.1."
   ]
  },
  {
   "cell_type": "markdown",
   "metadata": {},
   "source": [
    "Результат работы моделей на тренировочной выборке:"
   ]
  },
  {
   "cell_type": "code",
   "execution_count": 91,
   "metadata": {},
   "outputs": [
    {
     "data": {
      "text/html": [
       "<div>\n",
       "<style scoped>\n",
       "    .dataframe tbody tr th:only-of-type {\n",
       "        vertical-align: middle;\n",
       "    }\n",
       "\n",
       "    .dataframe tbody tr th {\n",
       "        vertical-align: top;\n",
       "    }\n",
       "\n",
       "    .dataframe thead th {\n",
       "        text-align: right;\n",
       "    }\n",
       "</style>\n",
       "<table border=\"1\" class=\"dataframe\">\n",
       "  <thead>\n",
       "    <tr style=\"text-align: right;\">\n",
       "      <th></th>\n",
       "      <th>model</th>\n",
       "      <th>time_fit</th>\n",
       "      <th>time_pred</th>\n",
       "      <th>RMSE</th>\n",
       "    </tr>\n",
       "  </thead>\n",
       "  <tbody>\n",
       "    <tr>\n",
       "      <th>0</th>\n",
       "      <td>CatBoost</td>\n",
       "      <td>8.20</td>\n",
       "      <td>0.16</td>\n",
       "      <td>1537.5</td>\n",
       "    </tr>\n",
       "    <tr>\n",
       "      <th>1</th>\n",
       "      <td>LGBM</td>\n",
       "      <td>336.00</td>\n",
       "      <td>3.38</td>\n",
       "      <td>1650.8</td>\n",
       "    </tr>\n",
       "    <tr>\n",
       "      <th>2</th>\n",
       "      <td>Forest</td>\n",
       "      <td>267.00</td>\n",
       "      <td>2.60</td>\n",
       "      <td>1815.7</td>\n",
       "    </tr>\n",
       "    <tr>\n",
       "      <th>3</th>\n",
       "      <td>Tree</td>\n",
       "      <td>3.86</td>\n",
       "      <td>0.15</td>\n",
       "      <td>1889.6</td>\n",
       "    </tr>\n",
       "  </tbody>\n",
       "</table>\n",
       "</div>"
      ],
      "text/plain": [
       "      model  time_fit  time_pred    RMSE\n",
       "0  CatBoost      8.20       0.16  1537.5\n",
       "1      LGBM    336.00       3.38  1650.8\n",
       "2    Forest    267.00       2.60  1815.7\n",
       "3      Tree      3.86       0.15  1889.6"
      ]
     },
     "execution_count": 91,
     "metadata": {},
     "output_type": "execute_result"
    }
   ],
   "source": [
    "result = pd.DataFrame({'model' : ['CatBoost', 'LGBM', 'Forest', 'Tree'],\n",
    "                       'time_fit' : [8.2, 336, 267, 3.86],\n",
    "                       'time_pred' : [0.16, 3.38, 2.6, 0.15],\n",
    "                       'RMSE' : [1537.5, 1650.8, 1815.7, 1889.6]})\n",
    "result"
   ]
  },
  {
   "cell_type": "markdown",
   "metadata": {},
   "source": [
    "Для дальнейшей работы наибольшую эффективность показала модель CatBoostRegressor как по качеству, так и по времени предсказания. Проанализируем её на тестовой выборке."
   ]
  },
  {
   "cell_type": "markdown",
   "metadata": {},
   "source": [
    "## Анализ моделей"
   ]
  },
  {
   "cell_type": "markdown",
   "metadata": {},
   "source": [
    "Испытаем выбранную модель на тестовой выборке:"
   ]
  },
  {
   "cell_type": "code",
   "execution_count": 92,
   "metadata": {},
   "outputs": [
    {
     "name": "stdout",
     "output_type": "stream",
     "text": [
      "CPU times: user 66 ms, sys: 34 µs, total: 66.1 ms\n",
      "Wall time: 65.7 ms\n"
     ]
    }
   ],
   "source": [
    "%%time\n",
    "\n",
    "prediction_test = model_cbr.predict(features_test)"
   ]
  },
  {
   "cell_type": "code",
   "execution_count": 93,
   "metadata": {},
   "outputs": [
    {
     "data": {
      "text/plain": [
       "1712.0283346540095"
      ]
     },
     "execution_count": 93,
     "metadata": {},
     "output_type": "execute_result"
    }
   ],
   "source": [
    "rmse(prediction_test, target_test)"
   ]
  },
  {
   "cell_type": "markdown",
   "metadata": {},
   "source": [
    "На тестовой выборке модель, построенная по алгоритму CatBoostRegressor, имеет низкую ошибку - 1712 при допустимом пределе RMSE 2500. Полученную модель модем рекомендовать заказчику для прогнозирования стоимости автомобилей."
   ]
  },
  {
   "cell_type": "markdown",
   "metadata": {},
   "source": [
    "### Вывод"
   ]
  },
  {
   "cell_type": "markdown",
   "metadata": {},
   "source": [
    "В ходе работы построили четыре модели для предсказания стоимостей автомобилей с целевой метрикой RMSE, а также с упором на время обучения и время предсказания моделей."
   ]
  },
  {
   "cell_type": "markdown",
   "metadata": {},
   "source": [
    "Модель, построенная по алгоритму CatBoostRegressor показала наилучший результат на тестовой выборке по качеству модели - RMSE = 1712, что является приемлемым результатом, входящим в требуемые рамки. Время обучения модели - низкое, 8.2 секунды. При увеличении времени обучения повысится точность модели.\n",
    "\n",
    "Модель LightGBM достигла показателя RMSE за 11.5 секунд, тогда как модель CatBoost достигла этого же результата за 10.5 секунд на итерации 297. Также время предсказания модели LGBM является самым долгим.\n",
    "\n",
    "Модели успешно справились с датафреймом с заполненными пропусками."
   ]
  },
  {
   "cell_type": "markdown",
   "metadata": {},
   "source": [
    "## Чек-лист проверки"
   ]
  },
  {
   "cell_type": "markdown",
   "metadata": {},
   "source": [
    "- [x]  Jupyter Notebook открыт\n",
    "- [x]  Весь код выполняется без ошибок\n",
    "- [x]  Ячейки с кодом расположены в порядке исполнения\n",
    "- [x]  Выполнена загрузка и подготовка данных\n",
    "- [x]  Выполнено обучение моделей\n",
    "- [x]  Есть анализ скорости работы и качества моделей"
   ]
  },
  {
   "cell_type": "code",
   "execution_count": null,
   "metadata": {},
   "outputs": [],
   "source": []
  }
 ],
 "metadata": {
  "ExecuteTimeLog": [
   {
    "duration": 48,
    "start_time": "2022-08-21T21:29:18.415Z"
   },
   {
    "duration": 382,
    "start_time": "2022-08-21T21:29:21.398Z"
   },
   {
    "duration": 1063,
    "start_time": "2022-08-21T21:29:23.522Z"
   },
   {
    "duration": 25,
    "start_time": "2022-08-21T21:29:29.946Z"
   },
   {
    "duration": 22,
    "start_time": "2022-08-21T21:30:17.233Z"
   },
   {
    "duration": 28,
    "start_time": "2022-08-21T21:32:53.951Z"
   },
   {
    "duration": 4,
    "start_time": "2022-08-21T21:32:57.500Z"
   },
   {
    "duration": 54,
    "start_time": "2022-08-21T21:43:42.433Z"
   },
   {
    "duration": 5,
    "start_time": "2022-08-21T21:43:47.119Z"
   },
   {
    "duration": 12,
    "start_time": "2022-08-21T21:44:01.979Z"
   },
   {
    "duration": 119,
    "start_time": "2022-08-21T21:44:08.140Z"
   },
   {
    "duration": 100,
    "start_time": "2022-08-21T21:48:04.808Z"
   },
   {
    "duration": 112,
    "start_time": "2022-08-21T21:48:38.592Z"
   },
   {
    "duration": 383,
    "start_time": "2022-08-22T08:06:07.928Z"
   },
   {
    "duration": 1101,
    "start_time": "2022-08-22T08:06:08.314Z"
   },
   {
    "duration": 31,
    "start_time": "2022-08-22T08:06:09.417Z"
   },
   {
    "duration": 6,
    "start_time": "2022-08-22T08:06:09.450Z"
   },
   {
    "duration": 72,
    "start_time": "2022-08-22T08:06:09.458Z"
   },
   {
    "duration": 122,
    "start_time": "2022-08-22T08:06:09.532Z"
   },
   {
    "duration": 120,
    "start_time": "2022-08-22T08:06:09.656Z"
   },
   {
    "duration": 78,
    "start_time": "2022-08-22T08:06:58.021Z"
   },
   {
    "duration": 8,
    "start_time": "2022-08-22T08:07:02.524Z"
   },
   {
    "duration": 443,
    "start_time": "2022-08-22T08:07:10.684Z"
   },
   {
    "duration": 461,
    "start_time": "2022-08-22T08:08:37.660Z"
   },
   {
    "duration": 584,
    "start_time": "2022-08-22T08:13:13.831Z"
   },
   {
    "duration": 571,
    "start_time": "2022-08-22T08:13:54.457Z"
   },
   {
    "duration": 13,
    "start_time": "2022-08-22T08:14:06.180Z"
   },
   {
    "duration": 97,
    "start_time": "2022-08-22T08:14:10.627Z"
   },
   {
    "duration": 7,
    "start_time": "2022-08-22T09:59:52.585Z"
   },
   {
    "duration": 4,
    "start_time": "2022-08-22T09:59:57.115Z"
   },
   {
    "duration": 30,
    "start_time": "2022-08-22T10:00:22.726Z"
   },
   {
    "duration": 29,
    "start_time": "2022-08-22T10:02:03.005Z"
   },
   {
    "duration": 34,
    "start_time": "2022-08-22T10:02:20.101Z"
   },
   {
    "duration": 22,
    "start_time": "2022-08-22T10:04:08.815Z"
   },
   {
    "duration": 30,
    "start_time": "2022-08-22T10:06:18.835Z"
   },
   {
    "duration": 25,
    "start_time": "2022-08-22T10:07:15.995Z"
   },
   {
    "duration": 73,
    "start_time": "2022-08-22T10:08:45.033Z"
   },
   {
    "duration": 30,
    "start_time": "2022-08-22T10:11:30.783Z"
   },
   {
    "duration": 24,
    "start_time": "2022-08-22T10:11:50.804Z"
   },
   {
    "duration": 19,
    "start_time": "2022-08-22T10:15:33.246Z"
   },
   {
    "duration": 16,
    "start_time": "2022-08-22T10:15:40.983Z"
   },
   {
    "duration": 17,
    "start_time": "2022-08-22T10:16:10.473Z"
   },
   {
    "duration": 17,
    "start_time": "2022-08-22T10:17:17.024Z"
   },
   {
    "duration": 17,
    "start_time": "2022-08-22T10:18:37.945Z"
   },
   {
    "duration": 30,
    "start_time": "2022-08-22T11:08:43.010Z"
   },
   {
    "duration": 12,
    "start_time": "2022-08-22T11:18:17.622Z"
   },
   {
    "duration": 19,
    "start_time": "2022-08-22T11:18:23.514Z"
   },
   {
    "duration": 18,
    "start_time": "2022-08-22T11:18:29.939Z"
   },
   {
    "duration": 18,
    "start_time": "2022-08-22T11:19:36.397Z"
   },
   {
    "duration": 60,
    "start_time": "2022-08-22T11:20:36.483Z"
   },
   {
    "duration": 26,
    "start_time": "2022-08-22T11:22:17.175Z"
   },
   {
    "duration": 24,
    "start_time": "2022-08-22T11:27:30.889Z"
   },
   {
    "duration": 57,
    "start_time": "2022-08-22T11:27:45.757Z"
   },
   {
    "duration": 18,
    "start_time": "2022-08-22T11:29:15.034Z"
   },
   {
    "duration": 18,
    "start_time": "2022-08-22T11:29:25.347Z"
   },
   {
    "duration": 418,
    "start_time": "2022-08-22T11:29:41.167Z"
   },
   {
    "duration": 823,
    "start_time": "2022-08-22T11:29:41.587Z"
   },
   {
    "duration": 33,
    "start_time": "2022-08-22T11:29:42.412Z"
   },
   {
    "duration": 7,
    "start_time": "2022-08-22T11:29:42.448Z"
   },
   {
    "duration": 83,
    "start_time": "2022-08-22T11:29:42.457Z"
   },
   {
    "duration": 134,
    "start_time": "2022-08-22T11:29:42.542Z"
   },
   {
    "duration": 115,
    "start_time": "2022-08-22T11:29:42.678Z"
   },
   {
    "duration": 469,
    "start_time": "2022-08-22T11:29:42.795Z"
   },
   {
    "duration": 598,
    "start_time": "2022-08-22T11:29:43.266Z"
   },
   {
    "duration": 110,
    "start_time": "2022-08-22T11:29:43.867Z"
   },
   {
    "duration": 4,
    "start_time": "2022-08-22T11:29:43.979Z"
   },
   {
    "duration": 53,
    "start_time": "2022-08-22T11:29:43.985Z"
   },
   {
    "duration": 42,
    "start_time": "2022-08-22T11:29:44.039Z"
   },
   {
    "duration": 49,
    "start_time": "2022-08-22T11:29:44.082Z"
   },
   {
    "duration": 61,
    "start_time": "2022-08-22T11:29:44.133Z"
   },
   {
    "duration": 40,
    "start_time": "2022-08-22T11:29:44.196Z"
   },
   {
    "duration": 34,
    "start_time": "2022-08-22T11:29:44.238Z"
   },
   {
    "duration": 17,
    "start_time": "2022-08-22T11:29:44.274Z"
   },
   {
    "duration": 52,
    "start_time": "2022-08-22T11:29:44.293Z"
   },
   {
    "duration": 39,
    "start_time": "2022-08-22T11:29:44.346Z"
   },
   {
    "duration": 34,
    "start_time": "2022-08-22T11:29:44.387Z"
   },
   {
    "duration": 22,
    "start_time": "2022-08-22T11:29:44.422Z"
   },
   {
    "duration": 26,
    "start_time": "2022-08-22T11:29:44.446Z"
   },
   {
    "duration": 590,
    "start_time": "2022-08-22T11:38:00.790Z"
   },
   {
    "duration": 266,
    "start_time": "2022-08-22T11:38:10.451Z"
   },
   {
    "duration": 327,
    "start_time": "2022-08-22T11:38:32.031Z"
   },
   {
    "duration": 280,
    "start_time": "2022-08-22T11:38:36.382Z"
   },
   {
    "duration": 78,
    "start_time": "2022-08-22T11:42:27.675Z"
   },
   {
    "duration": 75,
    "start_time": "2022-08-22T11:45:06.247Z"
   },
   {
    "duration": 7,
    "start_time": "2022-08-22T11:45:14.953Z"
   },
   {
    "duration": 20,
    "start_time": "2022-08-22T11:45:20.150Z"
   },
   {
    "duration": 29,
    "start_time": "2022-08-22T11:45:28.066Z"
   },
   {
    "duration": 63,
    "start_time": "2022-08-22T11:46:00.642Z"
   },
   {
    "duration": 13,
    "start_time": "2022-08-22T11:46:04.818Z"
   },
   {
    "duration": 76,
    "start_time": "2022-08-22T11:46:12.011Z"
   },
   {
    "duration": 52,
    "start_time": "2022-08-22T11:55:38.719Z"
   },
   {
    "duration": 17,
    "start_time": "2022-08-22T11:57:21.000Z"
   },
   {
    "duration": 20,
    "start_time": "2022-08-22T11:57:26.752Z"
   },
   {
    "duration": 14,
    "start_time": "2022-08-22T11:58:02.127Z"
   },
   {
    "duration": 5,
    "start_time": "2022-08-22T11:58:11.950Z"
   },
   {
    "duration": 418,
    "start_time": "2022-08-22T11:58:36.214Z"
   },
   {
    "duration": 811,
    "start_time": "2022-08-22T11:58:36.634Z"
   },
   {
    "duration": 32,
    "start_time": "2022-08-22T11:58:37.447Z"
   },
   {
    "duration": 22,
    "start_time": "2022-08-22T11:58:37.482Z"
   },
   {
    "duration": 78,
    "start_time": "2022-08-22T11:58:37.506Z"
   },
   {
    "duration": 128,
    "start_time": "2022-08-22T11:58:37.586Z"
   },
   {
    "duration": 115,
    "start_time": "2022-08-22T11:58:37.715Z"
   },
   {
    "duration": 474,
    "start_time": "2022-08-22T11:58:37.832Z"
   },
   {
    "duration": 580,
    "start_time": "2022-08-22T11:58:38.308Z"
   },
   {
    "duration": 126,
    "start_time": "2022-08-22T11:58:38.892Z"
   },
   {
    "duration": 5,
    "start_time": "2022-08-22T11:58:39.020Z"
   },
   {
    "duration": 71,
    "start_time": "2022-08-22T11:58:39.027Z"
   },
   {
    "duration": 53,
    "start_time": "2022-08-22T11:58:39.100Z"
   },
   {
    "duration": 40,
    "start_time": "2022-08-22T11:58:39.155Z"
   },
   {
    "duration": 47,
    "start_time": "2022-08-22T11:58:39.197Z"
   },
   {
    "duration": 47,
    "start_time": "2022-08-22T11:58:39.247Z"
   },
   {
    "duration": 38,
    "start_time": "2022-08-22T11:58:39.296Z"
   },
   {
    "duration": 18,
    "start_time": "2022-08-22T11:58:39.335Z"
   },
   {
    "duration": 34,
    "start_time": "2022-08-22T11:58:39.356Z"
   },
   {
    "duration": 530,
    "start_time": "2022-08-22T11:58:39.392Z"
   },
   {
    "duration": 94,
    "start_time": "2022-08-22T11:58:39.925Z"
   },
   {
    "duration": 28,
    "start_time": "2022-08-22T11:58:40.021Z"
   },
   {
    "duration": 5,
    "start_time": "2022-08-22T11:58:40.051Z"
   },
   {
    "duration": 23,
    "start_time": "2022-08-22T11:58:40.058Z"
   },
   {
    "duration": 27,
    "start_time": "2022-08-22T11:58:40.102Z"
   },
   {
    "duration": 24,
    "start_time": "2022-08-22T11:58:40.131Z"
   },
   {
    "duration": 28,
    "start_time": "2022-08-22T11:58:40.157Z"
   },
   {
    "duration": 58,
    "start_time": "2022-08-22T12:34:55.234Z"
   },
   {
    "duration": 163,
    "start_time": "2022-08-22T12:35:13.124Z"
   },
   {
    "duration": 103,
    "start_time": "2022-08-22T12:35:27.918Z"
   },
   {
    "duration": 491,
    "start_time": "2022-08-22T12:39:15.688Z"
   },
   {
    "duration": 425,
    "start_time": "2022-08-22T12:39:22.506Z"
   },
   {
    "duration": 485,
    "start_time": "2022-08-22T12:40:02.835Z"
   },
   {
    "duration": 483,
    "start_time": "2022-08-22T12:40:25.780Z"
   },
   {
    "duration": 490,
    "start_time": "2022-08-22T12:40:29.549Z"
   },
   {
    "duration": 25,
    "start_time": "2022-08-22T12:43:37.806Z"
   },
   {
    "duration": 22,
    "start_time": "2022-08-22T12:45:45.248Z"
   },
   {
    "duration": 33,
    "start_time": "2022-08-22T12:55:51.247Z"
   },
   {
    "duration": 445,
    "start_time": "2022-08-22T12:58:23.086Z"
   },
   {
    "duration": 10,
    "start_time": "2022-08-22T13:01:40.190Z"
   },
   {
    "duration": 44,
    "start_time": "2022-08-22T13:02:13.177Z"
   },
   {
    "duration": 38,
    "start_time": "2022-08-22T13:02:26.506Z"
   },
   {
    "duration": 424,
    "start_time": "2022-08-22T13:02:34.319Z"
   },
   {
    "duration": 448,
    "start_time": "2022-08-22T13:03:21.979Z"
   },
   {
    "duration": 421,
    "start_time": "2022-08-22T13:03:51.652Z"
   },
   {
    "duration": 564,
    "start_time": "2022-08-22T13:03:57.921Z"
   },
   {
    "duration": 433,
    "start_time": "2022-08-22T13:04:51.518Z"
   },
   {
    "duration": 1186,
    "start_time": "2022-08-22T13:05:36.069Z"
   },
   {
    "duration": 320,
    "start_time": "2022-08-22T13:05:55.773Z"
   },
   {
    "duration": 400,
    "start_time": "2022-08-22T13:06:05.843Z"
   },
   {
    "duration": 302,
    "start_time": "2022-08-22T13:06:16.920Z"
   },
   {
    "duration": 310,
    "start_time": "2022-08-22T13:06:20.617Z"
   },
   {
    "duration": 289,
    "start_time": "2022-08-22T13:06:44.990Z"
   },
   {
    "duration": 287,
    "start_time": "2022-08-22T13:07:16.548Z"
   },
   {
    "duration": 401,
    "start_time": "2022-08-22T13:07:23.520Z"
   },
   {
    "duration": 80,
    "start_time": "2022-08-22T13:10:45.693Z"
   },
   {
    "duration": 290,
    "start_time": "2022-08-22T13:10:53.773Z"
   },
   {
    "duration": 22,
    "start_time": "2022-08-22T13:14:30.794Z"
   },
   {
    "duration": 16,
    "start_time": "2022-08-22T13:16:23.734Z"
   },
   {
    "duration": 16,
    "start_time": "2022-08-22T13:16:27.217Z"
   },
   {
    "duration": 307,
    "start_time": "2022-08-22T13:18:20.359Z"
   },
   {
    "duration": 394,
    "start_time": "2022-08-22T13:18:38.845Z"
   },
   {
    "duration": 20,
    "start_time": "2022-08-22T13:18:44.428Z"
   },
   {
    "duration": 21,
    "start_time": "2022-08-22T13:25:43.831Z"
   },
   {
    "duration": 22,
    "start_time": "2022-08-22T13:25:54.139Z"
   },
   {
    "duration": 21,
    "start_time": "2022-08-22T13:26:13.897Z"
   },
   {
    "duration": 219,
    "start_time": "2022-08-22T13:28:08.814Z"
   },
   {
    "duration": 305,
    "start_time": "2022-08-22T13:28:27.263Z"
   },
   {
    "duration": 459,
    "start_time": "2022-08-22T13:28:32.067Z"
   },
   {
    "duration": 48,
    "start_time": "2022-08-22T13:29:52.216Z"
   },
   {
    "duration": 879,
    "start_time": "2022-08-22T13:30:22.733Z"
   },
   {
    "duration": 277,
    "start_time": "2022-08-22T13:30:40.056Z"
   },
   {
    "duration": 22,
    "start_time": "2022-08-22T13:31:02.344Z"
   },
   {
    "duration": 323,
    "start_time": "2022-08-22T13:32:29.009Z"
   },
   {
    "duration": 414,
    "start_time": "2022-08-22T13:33:06.919Z"
   },
   {
    "duration": 20,
    "start_time": "2022-08-22T13:33:11.055Z"
   },
   {
    "duration": 266,
    "start_time": "2022-08-22T13:38:43.622Z"
   },
   {
    "duration": 20,
    "start_time": "2022-08-22T13:39:08.211Z"
   },
   {
    "duration": 11,
    "start_time": "2022-08-22T13:40:49.992Z"
   },
   {
    "duration": 9,
    "start_time": "2022-08-22T13:41:02.265Z"
   },
   {
    "duration": 9,
    "start_time": "2022-08-22T13:41:11.171Z"
   },
   {
    "duration": 10,
    "start_time": "2022-08-22T13:41:15.632Z"
   },
   {
    "duration": 11,
    "start_time": "2022-08-22T13:41:25.083Z"
   },
   {
    "duration": 9,
    "start_time": "2022-08-22T13:41:57.222Z"
   },
   {
    "duration": 10,
    "start_time": "2022-08-22T13:42:15.995Z"
   },
   {
    "duration": 10,
    "start_time": "2022-08-22T13:42:36.494Z"
   },
   {
    "duration": 21,
    "start_time": "2022-08-22T13:42:56.735Z"
   },
   {
    "duration": 252,
    "start_time": "2022-08-22T13:43:07.899Z"
   },
   {
    "duration": 187,
    "start_time": "2022-08-22T13:43:26.464Z"
   },
   {
    "duration": 34,
    "start_time": "2022-08-22T13:45:58.397Z"
   },
   {
    "duration": 26,
    "start_time": "2022-08-22T13:46:03.942Z"
   },
   {
    "duration": 58,
    "start_time": "2022-08-22T13:46:30.038Z"
   },
   {
    "duration": 88,
    "start_time": "2022-08-22T13:51:28.299Z"
   },
   {
    "duration": 3,
    "start_time": "2022-08-22T13:51:57.969Z"
   },
   {
    "duration": 73,
    "start_time": "2022-08-22T13:52:56.269Z"
   },
   {
    "duration": 20,
    "start_time": "2022-08-22T13:53:01.828Z"
   },
   {
    "duration": 101,
    "start_time": "2022-08-22T13:54:55.340Z"
   },
   {
    "duration": 25,
    "start_time": "2022-08-22T13:54:58.842Z"
   },
   {
    "duration": 68,
    "start_time": "2022-08-22T13:57:31.671Z"
   },
   {
    "duration": 104,
    "start_time": "2022-08-22T13:57:47.510Z"
   },
   {
    "duration": 103,
    "start_time": "2022-08-22T13:59:36.976Z"
   },
   {
    "duration": 59,
    "start_time": "2022-08-22T13:59:37.603Z"
   },
   {
    "duration": 60,
    "start_time": "2022-08-22T13:59:52.235Z"
   },
   {
    "duration": 8,
    "start_time": "2022-08-22T14:00:46.894Z"
   },
   {
    "duration": 5,
    "start_time": "2022-08-22T14:00:49.897Z"
   },
   {
    "duration": 3,
    "start_time": "2022-08-22T14:01:07.988Z"
   },
   {
    "duration": 5,
    "start_time": "2022-08-22T14:02:01.600Z"
   },
   {
    "duration": 100,
    "start_time": "2022-08-22T14:02:37.854Z"
   },
   {
    "duration": 59,
    "start_time": "2022-08-22T14:02:38.511Z"
   },
   {
    "duration": 4,
    "start_time": "2022-08-22T14:02:39.582Z"
   },
   {
    "duration": 31,
    "start_time": "2022-08-22T14:17:08.018Z"
   },
   {
    "duration": 916,
    "start_time": "2022-08-22T14:19:04.041Z"
   },
   {
    "duration": 3,
    "start_time": "2022-08-22T14:19:14.861Z"
   },
   {
    "duration": 16,
    "start_time": "2022-08-22T14:19:26.899Z"
   },
   {
    "duration": 2,
    "start_time": "2022-08-22T14:20:09.218Z"
   },
   {
    "duration": 9,
    "start_time": "2022-08-22T14:25:29.158Z"
   },
   {
    "duration": 11,
    "start_time": "2022-08-22T14:25:34.138Z"
   },
   {
    "duration": 10,
    "start_time": "2022-08-22T14:25:42.074Z"
   },
   {
    "duration": 20,
    "start_time": "2022-08-22T14:25:45.785Z"
   },
   {
    "duration": 71,
    "start_time": "2022-08-22T14:31:06.430Z"
   },
   {
    "duration": 18,
    "start_time": "2022-08-22T14:33:08.465Z"
   },
   {
    "duration": 15,
    "start_time": "2022-08-22T14:33:13.182Z"
   },
   {
    "duration": 87,
    "start_time": "2022-08-22T14:33:29.249Z"
   },
   {
    "duration": 87,
    "start_time": "2022-08-22T14:40:31.668Z"
   },
   {
    "duration": 31,
    "start_time": "2022-08-22T15:08:32.503Z"
   },
   {
    "duration": 993,
    "start_time": "2022-08-22T15:54:09.824Z"
   },
   {
    "duration": 782,
    "start_time": "2022-08-22T15:54:24.914Z"
   },
   {
    "duration": 29,
    "start_time": "2022-08-22T15:54:31.114Z"
   },
   {
    "duration": 57,
    "start_time": "2022-08-22T16:02:50.327Z"
   },
   {
    "duration": 13,
    "start_time": "2022-08-22T16:03:16.833Z"
   },
   {
    "duration": 1174,
    "start_time": "2022-08-22T16:03:35.314Z"
   },
   {
    "duration": 893,
    "start_time": "2022-08-22T16:03:36.490Z"
   },
   {
    "duration": 40,
    "start_time": "2022-08-22T16:03:37.385Z"
   },
   {
    "duration": 6,
    "start_time": "2022-08-22T16:03:37.428Z"
   },
   {
    "duration": 85,
    "start_time": "2022-08-22T16:03:37.436Z"
   },
   {
    "duration": 126,
    "start_time": "2022-08-22T16:03:37.523Z"
   },
   {
    "duration": 114,
    "start_time": "2022-08-22T16:03:37.651Z"
   },
   {
    "duration": 492,
    "start_time": "2022-08-22T16:03:37.767Z"
   },
   {
    "duration": 609,
    "start_time": "2022-08-22T16:03:38.261Z"
   },
   {
    "duration": 136,
    "start_time": "2022-08-22T16:03:38.874Z"
   },
   {
    "duration": 6,
    "start_time": "2022-08-22T16:03:39.012Z"
   },
   {
    "duration": 49,
    "start_time": "2022-08-22T16:03:39.020Z"
   },
   {
    "duration": 56,
    "start_time": "2022-08-22T16:03:39.071Z"
   },
   {
    "duration": 39,
    "start_time": "2022-08-22T16:03:39.129Z"
   },
   {
    "duration": 45,
    "start_time": "2022-08-22T16:03:39.170Z"
   },
   {
    "duration": 27,
    "start_time": "2022-08-22T16:03:39.217Z"
   },
   {
    "duration": 18,
    "start_time": "2022-08-22T16:03:39.246Z"
   },
   {
    "duration": 43,
    "start_time": "2022-08-22T16:03:39.266Z"
   },
   {
    "duration": 30,
    "start_time": "2022-08-22T16:03:39.311Z"
   },
   {
    "duration": 562,
    "start_time": "2022-08-22T16:03:39.343Z"
   },
   {
    "duration": 81,
    "start_time": "2022-08-22T16:03:39.907Z"
   },
   {
    "duration": 28,
    "start_time": "2022-08-22T16:03:40.003Z"
   },
   {
    "duration": 5,
    "start_time": "2022-08-22T16:03:40.033Z"
   },
   {
    "duration": 22,
    "start_time": "2022-08-22T16:03:40.041Z"
   },
   {
    "duration": 48,
    "start_time": "2022-08-22T16:03:40.065Z"
   },
   {
    "duration": 23,
    "start_time": "2022-08-22T16:03:40.115Z"
   },
   {
    "duration": 19,
    "start_time": "2022-08-22T16:03:40.140Z"
   },
   {
    "duration": 488,
    "start_time": "2022-08-22T16:03:40.163Z"
   },
   {
    "duration": 466,
    "start_time": "2022-08-22T16:03:40.654Z"
   },
   {
    "duration": 25,
    "start_time": "2022-08-22T16:03:41.121Z"
   },
   {
    "duration": 15,
    "start_time": "2022-08-22T16:03:41.148Z"
   },
   {
    "duration": 66,
    "start_time": "2022-08-22T16:03:41.165Z"
   },
   {
    "duration": 425,
    "start_time": "2022-08-22T16:03:41.233Z"
   },
   {
    "duration": 43,
    "start_time": "2022-08-22T16:03:41.660Z"
   },
   {
    "duration": 507,
    "start_time": "2022-08-22T16:03:41.705Z"
   },
   {
    "duration": 321,
    "start_time": "2022-08-22T16:03:42.214Z"
   },
   {
    "duration": 304,
    "start_time": "2022-08-22T16:03:42.536Z"
   },
   {
    "duration": 18,
    "start_time": "2022-08-22T16:03:42.842Z"
   },
   {
    "duration": 47,
    "start_time": "2022-08-22T16:03:42.862Z"
   },
   {
    "duration": 18,
    "start_time": "2022-08-22T16:03:42.912Z"
   },
   {
    "duration": 305,
    "start_time": "2022-08-22T16:03:42.932Z"
   },
   {
    "duration": 274,
    "start_time": "2022-08-22T16:03:43.239Z"
   },
   {
    "duration": 21,
    "start_time": "2022-08-22T16:03:43.515Z"
   },
   {
    "duration": 10,
    "start_time": "2022-08-22T16:03:43.538Z"
   },
   {
    "duration": 56,
    "start_time": "2022-08-22T16:03:43.549Z"
   },
   {
    "duration": 199,
    "start_time": "2022-08-22T16:03:43.607Z"
   },
   {
    "duration": 29,
    "start_time": "2022-08-22T16:03:43.808Z"
   },
   {
    "duration": 71,
    "start_time": "2022-08-22T16:03:43.839Z"
   },
   {
    "duration": 112,
    "start_time": "2022-08-22T16:03:43.912Z"
   },
   {
    "duration": 20,
    "start_time": "2022-08-22T16:03:44.025Z"
   },
   {
    "duration": 99,
    "start_time": "2022-08-22T16:03:44.047Z"
   },
   {
    "duration": 74,
    "start_time": "2022-08-22T16:03:44.148Z"
   },
   {
    "duration": 4,
    "start_time": "2022-08-22T16:03:44.224Z"
   },
   {
    "duration": 118,
    "start_time": "2022-08-22T16:03:44.230Z"
   },
   {
    "duration": 814,
    "start_time": "2022-08-22T16:03:44.350Z"
   },
   {
    "duration": 42,
    "start_time": "2022-08-22T16:03:45.166Z"
   },
   {
    "duration": 163,
    "start_time": "2022-08-22T16:03:45.210Z"
   },
   {
    "duration": 0,
    "start_time": "2022-08-22T16:03:45.375Z"
   },
   {
    "duration": 12,
    "start_time": "2022-08-22T16:04:29.112Z"
   },
   {
    "duration": 1162,
    "start_time": "2022-08-22T16:05:26.925Z"
   },
   {
    "duration": 915,
    "start_time": "2022-08-22T16:05:28.089Z"
   },
   {
    "duration": 40,
    "start_time": "2022-08-22T16:05:29.007Z"
   },
   {
    "duration": 6,
    "start_time": "2022-08-22T16:05:29.050Z"
   },
   {
    "duration": 86,
    "start_time": "2022-08-22T16:05:29.058Z"
   },
   {
    "duration": 130,
    "start_time": "2022-08-22T16:05:29.146Z"
   },
   {
    "duration": 135,
    "start_time": "2022-08-22T16:05:29.278Z"
   },
   {
    "duration": 509,
    "start_time": "2022-08-22T16:05:29.415Z"
   },
   {
    "duration": 632,
    "start_time": "2022-08-22T16:05:29.926Z"
   },
   {
    "duration": 112,
    "start_time": "2022-08-22T16:05:30.561Z"
   },
   {
    "duration": 5,
    "start_time": "2022-08-22T16:05:30.676Z"
   },
   {
    "duration": 49,
    "start_time": "2022-08-22T16:05:30.683Z"
   },
   {
    "duration": 42,
    "start_time": "2022-08-22T16:05:30.734Z"
   },
   {
    "duration": 41,
    "start_time": "2022-08-22T16:05:30.778Z"
   },
   {
    "duration": 39,
    "start_time": "2022-08-22T16:05:30.821Z"
   },
   {
    "duration": 43,
    "start_time": "2022-08-22T16:05:30.861Z"
   },
   {
    "duration": 18,
    "start_time": "2022-08-22T16:05:30.906Z"
   },
   {
    "duration": 15,
    "start_time": "2022-08-22T16:05:30.925Z"
   },
   {
    "duration": 64,
    "start_time": "2022-08-22T16:05:30.942Z"
   },
   {
    "duration": 578,
    "start_time": "2022-08-22T16:05:31.008Z"
   },
   {
    "duration": 92,
    "start_time": "2022-08-22T16:05:31.588Z"
   },
   {
    "duration": 37,
    "start_time": "2022-08-22T16:05:31.681Z"
   },
   {
    "duration": 5,
    "start_time": "2022-08-22T16:05:31.720Z"
   },
   {
    "duration": 25,
    "start_time": "2022-08-22T16:05:31.726Z"
   },
   {
    "duration": 19,
    "start_time": "2022-08-22T16:05:31.752Z"
   },
   {
    "duration": 41,
    "start_time": "2022-08-22T16:05:31.773Z"
   },
   {
    "duration": 42,
    "start_time": "2022-08-22T16:05:31.816Z"
   },
   {
    "duration": 471,
    "start_time": "2022-08-22T16:05:31.863Z"
   },
   {
    "duration": 485,
    "start_time": "2022-08-22T16:05:32.336Z"
   },
   {
    "duration": 25,
    "start_time": "2022-08-22T16:05:32.823Z"
   },
   {
    "duration": 18,
    "start_time": "2022-08-22T16:05:32.850Z"
   },
   {
    "duration": 59,
    "start_time": "2022-08-22T16:05:32.870Z"
   },
   {
    "duration": 443,
    "start_time": "2022-08-22T16:05:32.931Z"
   },
   {
    "duration": 41,
    "start_time": "2022-08-22T16:05:33.376Z"
   },
   {
    "duration": 498,
    "start_time": "2022-08-22T16:05:33.419Z"
   },
   {
    "duration": 304,
    "start_time": "2022-08-22T16:05:33.918Z"
   },
   {
    "duration": 339,
    "start_time": "2022-08-22T16:05:34.224Z"
   },
   {
    "duration": 20,
    "start_time": "2022-08-22T16:05:34.565Z"
   },
   {
    "duration": 40,
    "start_time": "2022-08-22T16:05:34.587Z"
   },
   {
    "duration": 25,
    "start_time": "2022-08-22T16:05:34.630Z"
   },
   {
    "duration": 312,
    "start_time": "2022-08-22T16:05:34.657Z"
   },
   {
    "duration": 276,
    "start_time": "2022-08-22T16:05:34.970Z"
   },
   {
    "duration": 21,
    "start_time": "2022-08-22T16:05:35.248Z"
   },
   {
    "duration": 33,
    "start_time": "2022-08-22T16:05:35.270Z"
   },
   {
    "duration": 22,
    "start_time": "2022-08-22T16:05:35.305Z"
   },
   {
    "duration": 219,
    "start_time": "2022-08-22T16:05:35.329Z"
   },
   {
    "duration": 29,
    "start_time": "2022-08-22T16:05:35.550Z"
   },
   {
    "duration": 73,
    "start_time": "2022-08-22T16:05:35.581Z"
   },
   {
    "duration": 109,
    "start_time": "2022-08-22T16:05:35.656Z"
   },
   {
    "duration": 38,
    "start_time": "2022-08-22T16:05:35.767Z"
   },
   {
    "duration": 119,
    "start_time": "2022-08-22T16:05:35.807Z"
   },
   {
    "duration": 64,
    "start_time": "2022-08-22T16:05:35.928Z"
   },
   {
    "duration": 4,
    "start_time": "2022-08-22T16:05:36.004Z"
   },
   {
    "duration": 773,
    "start_time": "2022-08-22T16:05:36.011Z"
   },
   {
    "duration": 118,
    "start_time": "2022-08-22T16:05:36.785Z"
   },
   {
    "duration": 0,
    "start_time": "2022-08-22T16:05:36.904Z"
   },
   {
    "duration": 0,
    "start_time": "2022-08-22T16:05:36.906Z"
   },
   {
    "duration": 0,
    "start_time": "2022-08-22T16:05:36.907Z"
   },
   {
    "duration": 1136,
    "start_time": "2022-08-22T16:05:54.253Z"
   },
   {
    "duration": 839,
    "start_time": "2022-08-22T16:05:55.392Z"
   },
   {
    "duration": 28,
    "start_time": "2022-08-22T16:05:56.233Z"
   },
   {
    "duration": 5,
    "start_time": "2022-08-22T16:05:56.262Z"
   },
   {
    "duration": 77,
    "start_time": "2022-08-22T16:05:56.269Z"
   },
   {
    "duration": 140,
    "start_time": "2022-08-22T16:05:56.348Z"
   },
   {
    "duration": 128,
    "start_time": "2022-08-22T16:05:56.490Z"
   },
   {
    "duration": 493,
    "start_time": "2022-08-22T16:05:56.619Z"
   },
   {
    "duration": 612,
    "start_time": "2022-08-22T16:05:57.114Z"
   },
   {
    "duration": 109,
    "start_time": "2022-08-22T16:05:57.728Z"
   },
   {
    "duration": 4,
    "start_time": "2022-08-22T16:05:57.839Z"
   },
   {
    "duration": 33,
    "start_time": "2022-08-22T16:05:57.844Z"
   },
   {
    "duration": 53,
    "start_time": "2022-08-22T16:05:57.879Z"
   },
   {
    "duration": 25,
    "start_time": "2022-08-22T16:05:57.934Z"
   },
   {
    "duration": 51,
    "start_time": "2022-08-22T16:05:57.961Z"
   },
   {
    "duration": 25,
    "start_time": "2022-08-22T16:05:58.014Z"
   },
   {
    "duration": 17,
    "start_time": "2022-08-22T16:05:58.041Z"
   },
   {
    "duration": 46,
    "start_time": "2022-08-22T16:05:58.060Z"
   },
   {
    "duration": 32,
    "start_time": "2022-08-22T16:05:58.107Z"
   },
   {
    "duration": 553,
    "start_time": "2022-08-22T16:05:58.141Z"
   },
   {
    "duration": 82,
    "start_time": "2022-08-22T16:05:58.702Z"
   },
   {
    "duration": 34,
    "start_time": "2022-08-22T16:05:58.786Z"
   },
   {
    "duration": 7,
    "start_time": "2022-08-22T16:05:58.822Z"
   },
   {
    "duration": 21,
    "start_time": "2022-08-22T16:05:58.831Z"
   },
   {
    "duration": 51,
    "start_time": "2022-08-22T16:05:58.855Z"
   },
   {
    "duration": 25,
    "start_time": "2022-08-22T16:05:58.909Z"
   },
   {
    "duration": 23,
    "start_time": "2022-08-22T16:05:58.938Z"
   },
   {
    "duration": 468,
    "start_time": "2022-08-22T16:05:58.965Z"
   },
   {
    "duration": 455,
    "start_time": "2022-08-22T16:05:59.434Z"
   },
   {
    "duration": 27,
    "start_time": "2022-08-22T16:05:59.891Z"
   },
   {
    "duration": 15,
    "start_time": "2022-08-22T16:05:59.920Z"
   },
   {
    "duration": 66,
    "start_time": "2022-08-22T16:05:59.937Z"
   },
   {
    "duration": 437,
    "start_time": "2022-08-22T16:06:00.005Z"
   },
   {
    "duration": 41,
    "start_time": "2022-08-22T16:06:00.445Z"
   },
   {
    "duration": 519,
    "start_time": "2022-08-22T16:06:00.487Z"
   },
   {
    "duration": 312,
    "start_time": "2022-08-22T16:06:01.008Z"
   },
   {
    "duration": 299,
    "start_time": "2022-08-22T16:06:01.323Z"
   },
   {
    "duration": 18,
    "start_time": "2022-08-22T16:06:01.624Z"
   },
   {
    "duration": 27,
    "start_time": "2022-08-22T16:06:01.644Z"
   },
   {
    "duration": 44,
    "start_time": "2022-08-22T16:06:01.673Z"
   },
   {
    "duration": 297,
    "start_time": "2022-08-22T16:06:01.718Z"
   },
   {
    "duration": 285,
    "start_time": "2022-08-22T16:06:02.017Z"
   },
   {
    "duration": 22,
    "start_time": "2022-08-22T16:06:02.304Z"
   },
   {
    "duration": 9,
    "start_time": "2022-08-22T16:06:02.328Z"
   },
   {
    "duration": 29,
    "start_time": "2022-08-22T16:06:02.339Z"
   },
   {
    "duration": 243,
    "start_time": "2022-08-22T16:06:02.370Z"
   },
   {
    "duration": 28,
    "start_time": "2022-08-22T16:06:02.614Z"
   },
   {
    "duration": 77,
    "start_time": "2022-08-22T16:06:02.644Z"
   },
   {
    "duration": 117,
    "start_time": "2022-08-22T16:06:02.723Z"
   },
   {
    "duration": 18,
    "start_time": "2022-08-22T16:06:02.842Z"
   },
   {
    "duration": 97,
    "start_time": "2022-08-22T16:06:02.861Z"
   },
   {
    "duration": 70,
    "start_time": "2022-08-22T16:06:02.960Z"
   },
   {
    "duration": 3,
    "start_time": "2022-08-22T16:06:03.032Z"
   },
   {
    "duration": 757,
    "start_time": "2022-08-22T16:06:03.037Z"
   },
   {
    "duration": 122,
    "start_time": "2022-08-22T16:06:03.796Z"
   },
   {
    "duration": 0,
    "start_time": "2022-08-22T16:06:03.920Z"
   },
   {
    "duration": 0,
    "start_time": "2022-08-22T16:06:03.921Z"
   },
   {
    "duration": 34,
    "start_time": "2022-08-22T16:06:32.699Z"
   },
   {
    "duration": 11,
    "start_time": "2022-08-22T16:06:38.351Z"
   },
   {
    "duration": 5,
    "start_time": "2022-08-22T16:06:46.602Z"
   },
   {
    "duration": 3,
    "start_time": "2022-08-22T16:06:58.465Z"
   },
   {
    "duration": 5,
    "start_time": "2022-08-22T16:07:01.656Z"
   },
   {
    "duration": 6,
    "start_time": "2022-08-22T16:07:08.849Z"
   },
   {
    "duration": 4,
    "start_time": "2022-08-22T16:07:16.247Z"
   },
   {
    "duration": 1066,
    "start_time": "2022-08-22T16:07:31.538Z"
   },
   {
    "duration": 14,
    "start_time": "2022-08-22T16:08:11.121Z"
   },
   {
    "duration": 1096,
    "start_time": "2022-08-22T16:08:55.541Z"
   },
   {
    "duration": 885,
    "start_time": "2022-08-22T16:08:56.639Z"
   },
   {
    "duration": 33,
    "start_time": "2022-08-22T16:08:57.526Z"
   },
   {
    "duration": 4,
    "start_time": "2022-08-22T16:08:57.561Z"
   },
   {
    "duration": 87,
    "start_time": "2022-08-22T16:08:57.567Z"
   },
   {
    "duration": 122,
    "start_time": "2022-08-22T16:08:57.656Z"
   },
   {
    "duration": 124,
    "start_time": "2022-08-22T16:08:57.779Z"
   },
   {
    "duration": 518,
    "start_time": "2022-08-22T16:08:57.905Z"
   },
   {
    "duration": 653,
    "start_time": "2022-08-22T16:08:58.424Z"
   },
   {
    "duration": 111,
    "start_time": "2022-08-22T16:08:59.081Z"
   },
   {
    "duration": 11,
    "start_time": "2022-08-22T16:08:59.194Z"
   },
   {
    "duration": 35,
    "start_time": "2022-08-22T16:08:59.208Z"
   },
   {
    "duration": 32,
    "start_time": "2022-08-22T16:08:59.246Z"
   },
   {
    "duration": 44,
    "start_time": "2022-08-22T16:08:59.280Z"
   },
   {
    "duration": 33,
    "start_time": "2022-08-22T16:08:59.325Z"
   },
   {
    "duration": 43,
    "start_time": "2022-08-22T16:08:59.360Z"
   },
   {
    "duration": 19,
    "start_time": "2022-08-22T16:08:59.404Z"
   },
   {
    "duration": 15,
    "start_time": "2022-08-22T16:08:59.425Z"
   },
   {
    "duration": 31,
    "start_time": "2022-08-22T16:08:59.441Z"
   },
   {
    "duration": 588,
    "start_time": "2022-08-22T16:08:59.474Z"
   },
   {
    "duration": 89,
    "start_time": "2022-08-22T16:09:00.063Z"
   },
   {
    "duration": 29,
    "start_time": "2022-08-22T16:09:00.153Z"
   },
   {
    "duration": 5,
    "start_time": "2022-08-22T16:09:00.183Z"
   },
   {
    "duration": 24,
    "start_time": "2022-08-22T16:09:00.189Z"
   },
   {
    "duration": 14,
    "start_time": "2022-08-22T16:09:00.215Z"
   },
   {
    "duration": 21,
    "start_time": "2022-08-22T16:09:00.231Z"
   },
   {
    "duration": 25,
    "start_time": "2022-08-22T16:09:00.253Z"
   },
   {
    "duration": 437,
    "start_time": "2022-08-22T16:09:00.282Z"
   },
   {
    "duration": 478,
    "start_time": "2022-08-22T16:09:00.721Z"
   },
   {
    "duration": 28,
    "start_time": "2022-08-22T16:09:01.203Z"
   },
   {
    "duration": 44,
    "start_time": "2022-08-22T16:09:01.233Z"
   },
   {
    "duration": 38,
    "start_time": "2022-08-22T16:09:01.279Z"
   },
   {
    "duration": 467,
    "start_time": "2022-08-22T16:09:01.319Z"
   },
   {
    "duration": 43,
    "start_time": "2022-08-22T16:09:01.788Z"
   },
   {
    "duration": 526,
    "start_time": "2022-08-22T16:09:01.833Z"
   },
   {
    "duration": 300,
    "start_time": "2022-08-22T16:09:02.361Z"
   },
   {
    "duration": 300,
    "start_time": "2022-08-22T16:09:02.663Z"
   },
   {
    "duration": 19,
    "start_time": "2022-08-22T16:09:02.964Z"
   },
   {
    "duration": 38,
    "start_time": "2022-08-22T16:09:02.985Z"
   },
   {
    "duration": 18,
    "start_time": "2022-08-22T16:09:03.025Z"
   },
   {
    "duration": 298,
    "start_time": "2022-08-22T16:09:03.044Z"
   },
   {
    "duration": 269,
    "start_time": "2022-08-22T16:09:03.344Z"
   },
   {
    "duration": 20,
    "start_time": "2022-08-22T16:09:03.615Z"
   },
   {
    "duration": 27,
    "start_time": "2022-08-22T16:09:03.636Z"
   },
   {
    "duration": 22,
    "start_time": "2022-08-22T16:09:03.665Z"
   },
   {
    "duration": 217,
    "start_time": "2022-08-22T16:09:03.689Z"
   },
   {
    "duration": 29,
    "start_time": "2022-08-22T16:09:03.908Z"
   },
   {
    "duration": 76,
    "start_time": "2022-08-22T16:09:03.939Z"
   },
   {
    "duration": 119,
    "start_time": "2022-08-22T16:09:04.017Z"
   },
   {
    "duration": 24,
    "start_time": "2022-08-22T16:09:04.138Z"
   },
   {
    "duration": 119,
    "start_time": "2022-08-22T16:09:04.164Z"
   },
   {
    "duration": 62,
    "start_time": "2022-08-22T16:09:04.285Z"
   },
   {
    "duration": 4,
    "start_time": "2022-08-22T16:09:04.348Z"
   },
   {
    "duration": 115,
    "start_time": "2022-08-22T16:09:04.354Z"
   },
   {
    "duration": 750,
    "start_time": "2022-08-22T16:09:04.471Z"
   },
   {
    "duration": 4,
    "start_time": "2022-08-22T16:09:05.223Z"
   },
   {
    "duration": 129,
    "start_time": "2022-08-22T16:09:05.229Z"
   },
   {
    "duration": 0,
    "start_time": "2022-08-22T16:09:05.359Z"
   },
   {
    "duration": 0,
    "start_time": "2022-08-22T16:09:05.361Z"
   },
   {
    "duration": 1119,
    "start_time": "2022-08-22T16:10:04.438Z"
   },
   {
    "duration": 916,
    "start_time": "2022-08-22T16:10:05.560Z"
   },
   {
    "duration": 32,
    "start_time": "2022-08-22T16:10:06.478Z"
   },
   {
    "duration": 5,
    "start_time": "2022-08-22T16:10:06.512Z"
   },
   {
    "duration": 86,
    "start_time": "2022-08-22T16:10:06.518Z"
   },
   {
    "duration": 125,
    "start_time": "2022-08-22T16:10:06.606Z"
   },
   {
    "duration": 137,
    "start_time": "2022-08-22T16:10:06.733Z"
   },
   {
    "duration": 542,
    "start_time": "2022-08-22T16:10:06.872Z"
   },
   {
    "duration": 642,
    "start_time": "2022-08-22T16:10:07.416Z"
   },
   {
    "duration": 114,
    "start_time": "2022-08-22T16:10:08.061Z"
   },
   {
    "duration": 4,
    "start_time": "2022-08-22T16:10:08.177Z"
   },
   {
    "duration": 47,
    "start_time": "2022-08-22T16:10:08.183Z"
   },
   {
    "duration": 33,
    "start_time": "2022-08-22T16:10:08.232Z"
   },
   {
    "duration": 45,
    "start_time": "2022-08-22T16:10:08.267Z"
   },
   {
    "duration": 37,
    "start_time": "2022-08-22T16:10:08.314Z"
   },
   {
    "duration": 28,
    "start_time": "2022-08-22T16:10:08.353Z"
   },
   {
    "duration": 41,
    "start_time": "2022-08-22T16:10:08.382Z"
   },
   {
    "duration": 19,
    "start_time": "2022-08-22T16:10:08.425Z"
   },
   {
    "duration": 62,
    "start_time": "2022-08-22T16:10:08.446Z"
   },
   {
    "duration": 625,
    "start_time": "2022-08-22T16:10:08.510Z"
   },
   {
    "duration": 94,
    "start_time": "2022-08-22T16:10:09.137Z"
   },
   {
    "duration": 30,
    "start_time": "2022-08-22T16:10:09.233Z"
   },
   {
    "duration": 4,
    "start_time": "2022-08-22T16:10:09.265Z"
   },
   {
    "duration": 33,
    "start_time": "2022-08-22T16:10:09.271Z"
   },
   {
    "duration": 18,
    "start_time": "2022-08-22T16:10:09.306Z"
   },
   {
    "duration": 18,
    "start_time": "2022-08-22T16:10:09.326Z"
   },
   {
    "duration": 64,
    "start_time": "2022-08-22T16:10:09.346Z"
   },
   {
    "duration": 414,
    "start_time": "2022-08-22T16:10:09.416Z"
   },
   {
    "duration": 484,
    "start_time": "2022-08-22T16:10:09.832Z"
   },
   {
    "duration": 28,
    "start_time": "2022-08-22T16:10:10.319Z"
   },
   {
    "duration": 20,
    "start_time": "2022-08-22T16:10:10.349Z"
   },
   {
    "duration": 70,
    "start_time": "2022-08-22T16:10:10.370Z"
   },
   {
    "duration": 448,
    "start_time": "2022-08-22T16:10:10.442Z"
   },
   {
    "duration": 40,
    "start_time": "2022-08-22T16:10:10.891Z"
   },
   {
    "duration": 557,
    "start_time": "2022-08-22T16:10:10.933Z"
   },
   {
    "duration": 306,
    "start_time": "2022-08-22T16:10:11.492Z"
   },
   {
    "duration": 310,
    "start_time": "2022-08-22T16:10:11.803Z"
   },
   {
    "duration": 21,
    "start_time": "2022-08-22T16:10:12.115Z"
   },
   {
    "duration": 27,
    "start_time": "2022-08-22T16:10:12.138Z"
   },
   {
    "duration": 51,
    "start_time": "2022-08-22T16:10:12.167Z"
   },
   {
    "duration": 314,
    "start_time": "2022-08-22T16:10:12.220Z"
   },
   {
    "duration": 269,
    "start_time": "2022-08-22T16:10:12.536Z"
   },
   {
    "duration": 22,
    "start_time": "2022-08-22T16:10:12.806Z"
   },
   {
    "duration": 10,
    "start_time": "2022-08-22T16:10:12.830Z"
   },
   {
    "duration": 26,
    "start_time": "2022-08-22T16:10:12.841Z"
   },
   {
    "duration": 262,
    "start_time": "2022-08-22T16:10:12.869Z"
   },
   {
    "duration": 30,
    "start_time": "2022-08-22T16:10:13.133Z"
   },
   {
    "duration": 77,
    "start_time": "2022-08-22T16:10:13.165Z"
   },
   {
    "duration": 107,
    "start_time": "2022-08-22T16:10:13.244Z"
   },
   {
    "duration": 18,
    "start_time": "2022-08-22T16:10:13.353Z"
   },
   {
    "duration": 105,
    "start_time": "2022-08-22T16:10:13.373Z"
   },
   {
    "duration": 79,
    "start_time": "2022-08-22T16:10:13.480Z"
   },
   {
    "duration": 4,
    "start_time": "2022-08-22T16:10:13.561Z"
   },
   {
    "duration": 87,
    "start_time": "2022-08-22T16:10:13.566Z"
   },
   {
    "duration": 782,
    "start_time": "2022-08-22T16:10:13.654Z"
   },
   {
    "duration": 4,
    "start_time": "2022-08-22T16:10:14.438Z"
   },
   {
    "duration": 484,
    "start_time": "2022-08-22T16:10:14.444Z"
   },
   {
    "duration": 2658,
    "start_time": "2022-08-22T16:10:14.930Z"
   },
   {
    "duration": 0,
    "start_time": "2022-08-22T16:10:17.590Z"
   },
   {
    "duration": 3,
    "start_time": "2022-08-22T16:13:21.554Z"
   },
   {
    "duration": 11,
    "start_time": "2022-08-22T16:13:22.394Z"
   },
   {
    "duration": 14,
    "start_time": "2022-08-22T16:13:51.135Z"
   },
   {
    "duration": 407,
    "start_time": "2022-08-22T16:14:07.782Z"
   },
   {
    "duration": 3,
    "start_time": "2022-08-22T16:14:12.981Z"
   },
   {
    "duration": 137,
    "start_time": "2022-08-22T16:14:13.662Z"
   },
   {
    "duration": 40,
    "start_time": "2022-08-22T16:15:03.803Z"
   },
   {
    "duration": 136,
    "start_time": "2022-08-22T16:17:55.059Z"
   },
   {
    "duration": 31,
    "start_time": "2022-08-22T16:28:42.531Z"
   },
   {
    "duration": 5,
    "start_time": "2022-08-22T16:32:02.310Z"
   },
   {
    "duration": 131,
    "start_time": "2022-08-22T16:37:28.834Z"
   },
   {
    "duration": 4,
    "start_time": "2022-08-22T16:37:36.724Z"
   },
   {
    "duration": 3,
    "start_time": "2022-08-22T16:40:34.303Z"
   },
   {
    "duration": 3,
    "start_time": "2022-08-22T16:41:04.488Z"
   },
   {
    "duration": 4,
    "start_time": "2022-08-22T16:44:51.334Z"
   },
   {
    "duration": 4,
    "start_time": "2022-08-22T17:57:55.395Z"
   },
   {
    "duration": 20072,
    "start_time": "2022-08-22T17:59:42.071Z"
   },
   {
    "duration": 1235,
    "start_time": "2022-08-22T18:00:18.034Z"
   },
   {
    "duration": 867,
    "start_time": "2022-08-22T18:00:19.272Z"
   },
   {
    "duration": 30,
    "start_time": "2022-08-22T18:00:20.141Z"
   },
   {
    "duration": 19,
    "start_time": "2022-08-22T18:00:20.174Z"
   },
   {
    "duration": 68,
    "start_time": "2022-08-22T18:00:20.203Z"
   },
   {
    "duration": 130,
    "start_time": "2022-08-22T18:00:20.273Z"
   },
   {
    "duration": 116,
    "start_time": "2022-08-22T18:00:20.405Z"
   },
   {
    "duration": 519,
    "start_time": "2022-08-22T18:00:20.523Z"
   },
   {
    "duration": 638,
    "start_time": "2022-08-22T18:00:21.044Z"
   },
   {
    "duration": 107,
    "start_time": "2022-08-22T18:00:21.685Z"
   },
   {
    "duration": 12,
    "start_time": "2022-08-22T18:00:21.793Z"
   },
   {
    "duration": 40,
    "start_time": "2022-08-22T18:00:21.806Z"
   },
   {
    "duration": 59,
    "start_time": "2022-08-22T18:00:21.848Z"
   },
   {
    "duration": 24,
    "start_time": "2022-08-22T18:00:21.909Z"
   },
   {
    "duration": 33,
    "start_time": "2022-08-22T18:00:21.935Z"
   },
   {
    "duration": 52,
    "start_time": "2022-08-22T18:00:21.970Z"
   },
   {
    "duration": 19,
    "start_time": "2022-08-22T18:00:22.024Z"
   },
   {
    "duration": 17,
    "start_time": "2022-08-22T18:00:22.045Z"
   },
   {
    "duration": 66,
    "start_time": "2022-08-22T18:00:22.064Z"
   },
   {
    "duration": 534,
    "start_time": "2022-08-22T18:00:22.132Z"
   },
   {
    "duration": 103,
    "start_time": "2022-08-22T18:00:22.669Z"
   },
   {
    "duration": 39,
    "start_time": "2022-08-22T18:00:22.774Z"
   },
   {
    "duration": 5,
    "start_time": "2022-08-22T18:00:22.814Z"
   },
   {
    "duration": 14,
    "start_time": "2022-08-22T18:00:22.821Z"
   },
   {
    "duration": 15,
    "start_time": "2022-08-22T18:00:22.837Z"
   },
   {
    "duration": 51,
    "start_time": "2022-08-22T18:00:22.854Z"
   },
   {
    "duration": 16,
    "start_time": "2022-08-22T18:00:22.906Z"
   },
   {
    "duration": 448,
    "start_time": "2022-08-22T18:00:22.926Z"
   },
   {
    "duration": 455,
    "start_time": "2022-08-22T18:00:23.376Z"
   },
   {
    "duration": 30,
    "start_time": "2022-08-22T18:00:23.833Z"
   },
   {
    "duration": 39,
    "start_time": "2022-08-22T18:00:23.865Z"
   },
   {
    "duration": 33,
    "start_time": "2022-08-22T18:00:23.906Z"
   },
   {
    "duration": 525,
    "start_time": "2022-08-22T18:00:23.941Z"
   },
   {
    "duration": 39,
    "start_time": "2022-08-22T18:00:24.468Z"
   },
   {
    "duration": 397,
    "start_time": "2022-08-22T18:00:24.509Z"
   },
   {
    "duration": 307,
    "start_time": "2022-08-22T18:00:24.908Z"
   },
   {
    "duration": 300,
    "start_time": "2022-08-22T18:00:25.217Z"
   },
   {
    "duration": 24,
    "start_time": "2022-08-22T18:00:25.520Z"
   },
   {
    "duration": 27,
    "start_time": "2022-08-22T18:00:25.546Z"
   },
   {
    "duration": 42,
    "start_time": "2022-08-22T18:00:25.574Z"
   },
   {
    "duration": 286,
    "start_time": "2022-08-22T18:00:25.617Z"
   },
   {
    "duration": 270,
    "start_time": "2022-08-22T18:00:25.905Z"
   },
   {
    "duration": 31,
    "start_time": "2022-08-22T18:00:26.177Z"
   },
   {
    "duration": 9,
    "start_time": "2022-08-22T18:00:26.210Z"
   },
   {
    "duration": 25,
    "start_time": "2022-08-22T18:00:26.221Z"
   },
   {
    "duration": 243,
    "start_time": "2022-08-22T18:00:26.248Z"
   },
   {
    "duration": 32,
    "start_time": "2022-08-22T18:00:26.493Z"
   },
   {
    "duration": 80,
    "start_time": "2022-08-22T18:00:26.526Z"
   },
   {
    "duration": 109,
    "start_time": "2022-08-22T18:00:26.608Z"
   },
   {
    "duration": 19,
    "start_time": "2022-08-22T18:00:26.719Z"
   },
   {
    "duration": 100,
    "start_time": "2022-08-22T18:00:26.740Z"
   },
   {
    "duration": 75,
    "start_time": "2022-08-22T18:00:26.843Z"
   },
   {
    "duration": 4,
    "start_time": "2022-08-22T18:00:26.920Z"
   },
   {
    "duration": 86,
    "start_time": "2022-08-22T18:00:26.926Z"
   },
   {
    "duration": 809,
    "start_time": "2022-08-22T18:00:27.014Z"
   },
   {
    "duration": 4,
    "start_time": "2022-08-22T18:00:27.825Z"
   },
   {
    "duration": 481,
    "start_time": "2022-08-22T18:00:27.830Z"
   },
   {
    "duration": 3,
    "start_time": "2022-08-22T18:00:28.313Z"
   },
   {
    "duration": 276,
    "start_time": "2022-08-22T18:00:28.318Z"
   },
   {
    "duration": 4,
    "start_time": "2022-08-22T18:00:28.602Z"
   },
   {
    "duration": 7,
    "start_time": "2022-08-22T18:00:28.608Z"
   },
   {
    "duration": 14,
    "start_time": "2022-08-22T18:00:28.617Z"
   },
   {
    "duration": 8,
    "start_time": "2022-08-22T18:00:28.633Z"
   },
   {
    "duration": 6,
    "start_time": "2022-08-22T18:00:28.643Z"
   },
   {
    "duration": 125968,
    "start_time": "2022-08-22T18:00:28.651Z"
   },
   {
    "duration": 3,
    "start_time": "2022-08-22T18:02:39.801Z"
   },
   {
    "duration": 223605,
    "start_time": "2022-08-22T18:02:41.650Z"
   },
   {
    "duration": 3,
    "start_time": "2022-08-22T18:06:33.955Z"
   },
   {
    "duration": 77501,
    "start_time": "2022-08-22T18:06:35.433Z"
   },
   {
    "duration": 4,
    "start_time": "2022-08-22T18:07:56.469Z"
   },
   {
    "duration": 201085,
    "start_time": "2022-08-22T18:07:57.204Z"
   },
   {
    "duration": 2,
    "start_time": "2022-08-22T18:11:47.057Z"
   },
   {
    "duration": 455690,
    "start_time": "2022-08-22T18:11:48.038Z"
   },
   {
    "duration": 4,
    "start_time": "2022-08-22T18:19:41.005Z"
   },
   {
    "duration": 4,
    "start_time": "2022-08-22T18:19:43.430Z"
   },
   {
    "duration": 3,
    "start_time": "2022-08-22T18:19:45.594Z"
   },
   {
    "duration": 48376,
    "start_time": "2022-08-22T18:19:46.044Z"
   },
   {
    "duration": 3,
    "start_time": "2022-08-22T18:21:46.391Z"
   },
   {
    "duration": 69,
    "start_time": "2022-08-22T18:21:48.517Z"
   },
   {
    "duration": 63,
    "start_time": "2022-08-22T18:21:50.254Z"
   },
   {
    "duration": 3,
    "start_time": "2022-08-22T18:22:09.720Z"
   },
   {
    "duration": 212284,
    "start_time": "2022-08-22T18:22:10.450Z"
   },
   {
    "duration": 49,
    "start_time": "2022-08-22T18:27:28.774Z"
   },
   {
    "duration": 7,
    "start_time": "2022-08-22T18:28:23.334Z"
   },
   {
    "duration": 3,
    "start_time": "2022-08-22T18:29:01.798Z"
   },
   {
    "duration": 5,
    "start_time": "2022-08-22T18:29:18.887Z"
   },
   {
    "duration": 3,
    "start_time": "2022-08-22T18:29:19.520Z"
   },
   {
    "duration": 6,
    "start_time": "2022-08-22T18:29:39.086Z"
   },
   {
    "duration": 4,
    "start_time": "2022-08-22T18:29:40.166Z"
   },
   {
    "duration": 30356,
    "start_time": "2022-08-22T18:30:06.466Z"
   },
   {
    "duration": 5,
    "start_time": "2022-08-22T18:31:56.427Z"
   },
   {
    "duration": 29749,
    "start_time": "2022-08-22T18:32:00.243Z"
   },
   {
    "duration": 3,
    "start_time": "2022-08-22T18:32:48.493Z"
   },
   {
    "duration": 30598,
    "start_time": "2022-08-22T18:32:53.659Z"
   },
   {
    "duration": 20,
    "start_time": "2022-08-22T18:34:16.677Z"
   },
   {
    "duration": 5,
    "start_time": "2022-08-22T18:35:39.260Z"
   },
   {
    "duration": 6,
    "start_time": "2022-08-22T18:35:41.781Z"
   },
   {
    "duration": 3,
    "start_time": "2022-08-22T18:35:42.619Z"
   },
   {
    "duration": 42910,
    "start_time": "2022-08-22T18:35:43.458Z"
   },
   {
    "duration": 14,
    "start_time": "2022-08-22T18:39:35.453Z"
   },
   {
    "duration": 5,
    "start_time": "2022-08-22T18:40:22.956Z"
   },
   {
    "duration": 10,
    "start_time": "2022-08-22T18:41:20.488Z"
   },
   {
    "duration": 9,
    "start_time": "2022-08-22T18:41:32.246Z"
   },
   {
    "duration": 9,
    "start_time": "2022-08-22T18:42:02.870Z"
   },
   {
    "duration": 13,
    "start_time": "2022-08-22T18:42:06.412Z"
   },
   {
    "duration": 3,
    "start_time": "2022-08-22T18:43:36.838Z"
   },
   {
    "duration": 639310,
    "start_time": "2022-08-22T18:44:01.216Z"
   },
   {
    "duration": 3,
    "start_time": "2022-08-22T18:54:40.781Z"
   },
   {
    "duration": 201324,
    "start_time": "2022-08-22T18:54:42.520Z"
   },
   {
    "duration": 3,
    "start_time": "2022-08-22T18:58:19.252Z"
   },
   {
    "duration": 69,
    "start_time": "2022-08-22T18:58:19.880Z"
   },
   {
    "duration": 3,
    "start_time": "2022-08-22T18:58:38.343Z"
   },
   {
    "duration": 280392,
    "start_time": "2022-08-22T18:58:38.980Z"
   },
   {
    "duration": 1799,
    "start_time": "2022-08-22T19:03:44.757Z"
   },
   {
    "duration": 1546,
    "start_time": "2022-08-22T19:07:13.969Z"
   },
   {
    "duration": 1003,
    "start_time": "2022-08-22T19:07:15.517Z"
   },
   {
    "duration": 39,
    "start_time": "2022-08-22T19:07:16.522Z"
   },
   {
    "duration": 5,
    "start_time": "2022-08-22T19:07:16.564Z"
   },
   {
    "duration": 87,
    "start_time": "2022-08-22T19:07:16.572Z"
   },
   {
    "duration": 142,
    "start_time": "2022-08-22T19:07:16.661Z"
   },
   {
    "duration": 119,
    "start_time": "2022-08-22T19:07:16.805Z"
   },
   {
    "duration": 554,
    "start_time": "2022-08-22T19:07:16.926Z"
   },
   {
    "duration": 662,
    "start_time": "2022-08-22T19:07:17.482Z"
   },
   {
    "duration": 123,
    "start_time": "2022-08-22T19:07:18.148Z"
   },
   {
    "duration": 6,
    "start_time": "2022-08-22T19:07:18.274Z"
   },
   {
    "duration": 48,
    "start_time": "2022-08-22T19:07:18.285Z"
   },
   {
    "duration": 53,
    "start_time": "2022-08-22T19:07:18.335Z"
   },
   {
    "duration": 49,
    "start_time": "2022-08-22T19:07:18.403Z"
   },
   {
    "duration": 65,
    "start_time": "2022-08-22T19:07:18.455Z"
   },
   {
    "duration": 29,
    "start_time": "2022-08-22T19:07:18.523Z"
   },
   {
    "duration": 50,
    "start_time": "2022-08-22T19:07:18.555Z"
   },
   {
    "duration": 22,
    "start_time": "2022-08-22T19:07:18.607Z"
   },
   {
    "duration": 72,
    "start_time": "2022-08-22T19:07:18.632Z"
   },
   {
    "duration": 603,
    "start_time": "2022-08-22T19:07:18.706Z"
   },
   {
    "duration": 80,
    "start_time": "2022-08-22T19:07:19.311Z"
   },
   {
    "duration": 28,
    "start_time": "2022-08-22T19:07:19.403Z"
   },
   {
    "duration": 5,
    "start_time": "2022-08-22T19:07:19.433Z"
   },
   {
    "duration": 20,
    "start_time": "2022-08-22T19:07:19.439Z"
   },
   {
    "duration": 52,
    "start_time": "2022-08-22T19:07:19.461Z"
   },
   {
    "duration": 26,
    "start_time": "2022-08-22T19:07:19.516Z"
   },
   {
    "duration": 17,
    "start_time": "2022-08-22T19:07:19.543Z"
   },
   {
    "duration": 472,
    "start_time": "2022-08-22T19:07:19.565Z"
   },
   {
    "duration": 628,
    "start_time": "2022-08-22T19:07:20.040Z"
   },
   {
    "duration": 43,
    "start_time": "2022-08-22T19:07:20.670Z"
   },
   {
    "duration": 16,
    "start_time": "2022-08-22T19:07:20.715Z"
   },
   {
    "duration": 32,
    "start_time": "2022-08-22T19:07:20.733Z"
   },
   {
    "duration": 497,
    "start_time": "2022-08-22T19:07:20.767Z"
   },
   {
    "duration": 38,
    "start_time": "2022-08-22T19:07:21.266Z"
   },
   {
    "duration": 452,
    "start_time": "2022-08-22T19:07:21.307Z"
   },
   {
    "duration": 314,
    "start_time": "2022-08-22T19:07:21.762Z"
   },
   {
    "duration": 306,
    "start_time": "2022-08-22T19:07:22.078Z"
   },
   {
    "duration": 46,
    "start_time": "2022-08-22T19:07:22.386Z"
   },
   {
    "duration": 35,
    "start_time": "2022-08-22T19:07:22.439Z"
   },
   {
    "duration": 29,
    "start_time": "2022-08-22T19:07:22.476Z"
   },
   {
    "duration": 300,
    "start_time": "2022-08-22T19:07:22.508Z"
   },
   {
    "duration": 318,
    "start_time": "2022-08-22T19:07:22.810Z"
   },
   {
    "duration": 21,
    "start_time": "2022-08-22T19:07:23.130Z"
   },
   {
    "duration": 10,
    "start_time": "2022-08-22T19:07:23.153Z"
   },
   {
    "duration": 60,
    "start_time": "2022-08-22T19:07:23.165Z"
   },
   {
    "duration": 330,
    "start_time": "2022-08-22T19:07:23.227Z"
   },
   {
    "duration": 30,
    "start_time": "2022-08-22T19:07:23.559Z"
   },
   {
    "duration": 65,
    "start_time": "2022-08-22T19:07:23.603Z"
   },
   {
    "duration": 114,
    "start_time": "2022-08-22T19:07:23.670Z"
   },
   {
    "duration": 24,
    "start_time": "2022-08-22T19:07:23.786Z"
   },
   {
    "duration": 94,
    "start_time": "2022-08-22T19:07:23.811Z"
   },
   {
    "duration": 61,
    "start_time": "2022-08-22T19:07:23.906Z"
   },
   {
    "duration": 4,
    "start_time": "2022-08-22T19:07:23.969Z"
   },
   {
    "duration": 101,
    "start_time": "2022-08-22T19:07:23.975Z"
   },
   {
    "duration": 759,
    "start_time": "2022-08-22T19:07:24.078Z"
   },
   {
    "duration": 4,
    "start_time": "2022-08-22T19:07:24.839Z"
   },
   {
    "duration": 479,
    "start_time": "2022-08-22T19:07:24.845Z"
   },
   {
    "duration": 3,
    "start_time": "2022-08-22T19:07:25.327Z"
   },
   {
    "duration": 162,
    "start_time": "2022-08-22T19:07:25.332Z"
   },
   {
    "duration": 7,
    "start_time": "2022-08-22T19:07:25.496Z"
   },
   {
    "duration": 8,
    "start_time": "2022-08-22T19:07:25.505Z"
   },
   {
    "duration": 8,
    "start_time": "2022-08-22T19:07:25.515Z"
   },
   {
    "duration": 8,
    "start_time": "2022-08-22T19:07:25.524Z"
   },
   {
    "duration": 8,
    "start_time": "2022-08-22T19:07:25.534Z"
   },
   {
    "duration": 43231,
    "start_time": "2022-08-22T19:07:25.545Z"
   },
   {
    "duration": 7,
    "start_time": "2022-08-22T19:08:08.778Z"
   },
   {
    "duration": 18,
    "start_time": "2022-08-22T19:08:08.786Z"
   },
   {
    "duration": 469773,
    "start_time": "2022-08-22T19:08:08.806Z"
   },
   {
    "duration": 5,
    "start_time": "2022-08-22T19:15:58.581Z"
   },
   {
    "duration": 9,
    "start_time": "2022-08-22T19:15:58.589Z"
   },
   {
    "duration": 37514,
    "start_time": "2022-08-22T19:15:58.600Z"
   },
   {
    "duration": 4,
    "start_time": "2022-08-22T19:16:36.125Z"
   },
   {
    "duration": 3,
    "start_time": "2022-08-22T19:16:39.684Z"
   },
   {
    "duration": 5,
    "start_time": "2022-08-22T19:16:40.566Z"
   },
   {
    "duration": 3,
    "start_time": "2022-08-22T19:16:43.612Z"
   },
   {
    "duration": 42349,
    "start_time": "2022-08-22T19:16:44.008Z"
   },
   {
    "duration": 4,
    "start_time": "2022-08-22T19:18:00.681Z"
   },
   {
    "duration": 5,
    "start_time": "2022-08-22T19:18:05.482Z"
   },
   {
    "duration": 3,
    "start_time": "2022-08-22T19:18:05.930Z"
   },
   {
    "duration": 30076,
    "start_time": "2022-08-22T19:18:06.427Z"
   },
   {
    "duration": 1445,
    "start_time": "2022-08-22T19:42:18.361Z"
   },
   {
    "duration": 928,
    "start_time": "2022-08-22T19:42:19.808Z"
   },
   {
    "duration": 31,
    "start_time": "2022-08-22T19:42:20.738Z"
   },
   {
    "duration": 6,
    "start_time": "2022-08-22T19:42:20.772Z"
   },
   {
    "duration": 61,
    "start_time": "2022-08-22T19:42:20.802Z"
   },
   {
    "duration": 143,
    "start_time": "2022-08-22T19:42:20.865Z"
   },
   {
    "duration": 123,
    "start_time": "2022-08-22T19:42:21.010Z"
   },
   {
    "duration": 550,
    "start_time": "2022-08-22T19:42:21.135Z"
   },
   {
    "duration": 646,
    "start_time": "2022-08-22T19:42:21.687Z"
   },
   {
    "duration": 122,
    "start_time": "2022-08-22T19:42:22.336Z"
   },
   {
    "duration": 6,
    "start_time": "2022-08-22T19:42:22.460Z"
   },
   {
    "duration": 55,
    "start_time": "2022-08-22T19:42:22.468Z"
   },
   {
    "duration": 35,
    "start_time": "2022-08-22T19:42:22.525Z"
   },
   {
    "duration": 43,
    "start_time": "2022-08-22T19:42:22.562Z"
   },
   {
    "duration": 72,
    "start_time": "2022-08-22T19:42:22.607Z"
   },
   {
    "duration": 25,
    "start_time": "2022-08-22T19:42:22.681Z"
   },
   {
    "duration": 24,
    "start_time": "2022-08-22T19:42:22.709Z"
   },
   {
    "duration": 16,
    "start_time": "2022-08-22T19:42:22.735Z"
   },
   {
    "duration": 60,
    "start_time": "2022-08-22T19:42:22.753Z"
   },
   {
    "duration": 545,
    "start_time": "2022-08-22T19:42:22.816Z"
   },
   {
    "duration": 97,
    "start_time": "2022-08-22T19:42:23.363Z"
   },
   {
    "duration": 41,
    "start_time": "2022-08-22T19:42:23.462Z"
   },
   {
    "duration": 4,
    "start_time": "2022-08-22T19:42:23.505Z"
   },
   {
    "duration": 19,
    "start_time": "2022-08-22T19:42:23.511Z"
   },
   {
    "duration": 18,
    "start_time": "2022-08-22T19:42:23.532Z"
   },
   {
    "duration": 55,
    "start_time": "2022-08-22T19:42:23.552Z"
   },
   {
    "duration": 20,
    "start_time": "2022-08-22T19:42:23.609Z"
   },
   {
    "duration": 448,
    "start_time": "2022-08-22T19:42:23.636Z"
   },
   {
    "duration": 589,
    "start_time": "2022-08-22T19:42:24.086Z"
   },
   {
    "duration": 40,
    "start_time": "2022-08-22T19:42:24.677Z"
   },
   {
    "duration": 16,
    "start_time": "2022-08-22T19:42:24.718Z"
   },
   {
    "duration": 37,
    "start_time": "2022-08-22T19:42:24.735Z"
   },
   {
    "duration": 492,
    "start_time": "2022-08-22T19:42:24.774Z"
   },
   {
    "duration": 42,
    "start_time": "2022-08-22T19:42:25.268Z"
   },
   {
    "duration": 447,
    "start_time": "2022-08-22T19:42:25.312Z"
   },
   {
    "duration": 392,
    "start_time": "2022-08-22T19:42:25.761Z"
   },
   {
    "duration": 343,
    "start_time": "2022-08-22T19:42:26.156Z"
   },
   {
    "duration": 19,
    "start_time": "2022-08-22T19:42:26.503Z"
   },
   {
    "duration": 26,
    "start_time": "2022-08-22T19:42:26.523Z"
   },
   {
    "duration": 56,
    "start_time": "2022-08-22T19:42:26.551Z"
   },
   {
    "duration": 309,
    "start_time": "2022-08-22T19:42:26.609Z"
   },
   {
    "duration": 290,
    "start_time": "2022-08-22T19:42:26.922Z"
   },
   {
    "duration": 23,
    "start_time": "2022-08-22T19:42:27.214Z"
   },
   {
    "duration": 10,
    "start_time": "2022-08-22T19:42:27.239Z"
   },
   {
    "duration": 64,
    "start_time": "2022-08-22T19:42:27.251Z"
   },
   {
    "duration": 359,
    "start_time": "2022-08-22T19:42:27.317Z"
   },
   {
    "duration": 46,
    "start_time": "2022-08-22T19:42:27.677Z"
   },
   {
    "duration": 63,
    "start_time": "2022-08-22T19:42:27.725Z"
   },
   {
    "duration": 109,
    "start_time": "2022-08-22T19:42:27.803Z"
   },
   {
    "duration": 23,
    "start_time": "2022-08-22T19:42:27.915Z"
   },
   {
    "duration": 107,
    "start_time": "2022-08-22T19:42:27.940Z"
   },
   {
    "duration": 75,
    "start_time": "2022-08-22T19:42:28.049Z"
   },
   {
    "duration": 4,
    "start_time": "2022-08-22T19:42:28.126Z"
   },
   {
    "duration": 95,
    "start_time": "2022-08-22T19:42:28.132Z"
   },
   {
    "duration": 878,
    "start_time": "2022-08-22T19:42:28.230Z"
   },
   {
    "duration": 4,
    "start_time": "2022-08-22T19:42:29.110Z"
   },
   {
    "duration": 503,
    "start_time": "2022-08-22T19:42:29.116Z"
   },
   {
    "duration": 4,
    "start_time": "2022-08-22T19:42:29.620Z"
   },
   {
    "duration": 188,
    "start_time": "2022-08-22T19:42:29.626Z"
   },
   {
    "duration": 3,
    "start_time": "2022-08-22T19:42:29.816Z"
   },
   {
    "duration": 8,
    "start_time": "2022-08-22T19:42:29.821Z"
   },
   {
    "duration": 8,
    "start_time": "2022-08-22T19:42:29.830Z"
   },
   {
    "duration": 7,
    "start_time": "2022-08-22T19:42:29.839Z"
   },
   {
    "duration": 8,
    "start_time": "2022-08-22T19:42:29.848Z"
   },
   {
    "duration": 30383,
    "start_time": "2022-08-22T19:42:29.858Z"
   },
   {
    "duration": 5,
    "start_time": "2022-08-22T19:43:00.243Z"
   },
   {
    "duration": 15,
    "start_time": "2022-08-22T19:43:00.250Z"
   },
   {
    "duration": 1583581,
    "start_time": "2022-08-22T19:43:00.267Z"
   },
   {
    "duration": 5,
    "start_time": "2022-08-22T20:09:23.850Z"
   },
   {
    "duration": 15,
    "start_time": "2022-08-22T20:09:23.857Z"
   },
   {
    "duration": 226216,
    "start_time": "2022-08-22T20:09:23.874Z"
   },
   {
    "duration": 86,
    "start_time": "2022-08-22T20:13:56.532Z"
   },
   {
    "duration": 5,
    "start_time": "2022-08-22T20:14:03.456Z"
   },
   {
    "duration": 3,
    "start_time": "2022-08-22T20:17:45.531Z"
   },
   {
    "duration": 57781,
    "start_time": "2022-08-22T20:18:28.682Z"
   },
   {
    "duration": 3,
    "start_time": "2022-08-22T20:20:07.285Z"
   },
   {
    "duration": 56295,
    "start_time": "2022-08-22T20:20:08.303Z"
   },
   {
    "duration": 4,
    "start_time": "2022-08-22T20:21:58.734Z"
   },
   {
    "duration": 56235,
    "start_time": "2022-08-22T20:21:59.211Z"
   },
   {
    "duration": 3,
    "start_time": "2022-08-22T20:23:12.674Z"
   },
   {
    "duration": 27028,
    "start_time": "2022-08-22T20:23:13.118Z"
   },
   {
    "duration": 3,
    "start_time": "2022-08-22T20:24:04.554Z"
   },
   {
    "duration": 669,
    "start_time": "2022-08-22T20:24:05.210Z"
   },
   {
    "duration": 3,
    "start_time": "2022-08-22T20:24:12.961Z"
   },
   {
    "duration": 0,
    "start_time": "2022-08-22T20:27:12.324Z"
   },
   {
    "duration": 0,
    "start_time": "2022-08-22T20:27:12.326Z"
   },
   {
    "duration": 3,
    "start_time": "2022-08-22T20:27:19.871Z"
   },
   {
    "duration": 26616,
    "start_time": "2022-08-22T20:27:20.763Z"
   },
   {
    "duration": 3,
    "start_time": "2022-08-22T20:29:16.102Z"
   },
   {
    "duration": 16,
    "start_time": "2022-08-22T20:29:16.692Z"
   },
   {
    "duration": 4,
    "start_time": "2022-08-22T20:30:30.252Z"
   },
   {
    "duration": 26978,
    "start_time": "2022-08-22T20:30:32.966Z"
   },
   {
    "duration": 26894,
    "start_time": "2022-08-22T20:31:50.506Z"
   },
   {
    "duration": 3,
    "start_time": "2022-08-22T20:34:00.099Z"
   },
   {
    "duration": 1158678,
    "start_time": "2022-08-22T20:34:01.120Z"
   },
   {
    "duration": 3,
    "start_time": "2022-08-22T20:53:25.884Z"
   },
   {
    "duration": 201773,
    "start_time": "2022-08-22T20:53:26.451Z"
   },
   {
    "duration": 3,
    "start_time": "2022-08-22T20:58:31.838Z"
   },
   {
    "duration": 362014,
    "start_time": "2022-08-22T20:58:35.206Z"
   },
   {
    "duration": 3,
    "start_time": "2022-08-22T21:05:37.727Z"
   },
   {
    "duration": 620617,
    "start_time": "2022-08-22T21:05:38.311Z"
   },
   {
    "duration": 1322,
    "start_time": "2022-08-22T21:20:02.452Z"
   },
   {
    "duration": 870,
    "start_time": "2022-08-22T21:20:03.776Z"
   },
   {
    "duration": 31,
    "start_time": "2022-08-22T21:20:04.648Z"
   },
   {
    "duration": 22,
    "start_time": "2022-08-22T21:20:04.682Z"
   },
   {
    "duration": 59,
    "start_time": "2022-08-22T21:20:04.706Z"
   },
   {
    "duration": 140,
    "start_time": "2022-08-22T21:20:04.767Z"
   },
   {
    "duration": 113,
    "start_time": "2022-08-22T21:20:04.909Z"
   },
   {
    "duration": 510,
    "start_time": "2022-08-22T21:20:05.024Z"
   },
   {
    "duration": 607,
    "start_time": "2022-08-22T21:20:05.535Z"
   },
   {
    "duration": 110,
    "start_time": "2022-08-22T21:20:06.145Z"
   },
   {
    "duration": 10,
    "start_time": "2022-08-22T21:20:06.257Z"
   },
   {
    "duration": 43,
    "start_time": "2022-08-22T21:20:06.272Z"
   },
   {
    "duration": 39,
    "start_time": "2022-08-22T21:20:06.317Z"
   },
   {
    "duration": 25,
    "start_time": "2022-08-22T21:20:06.358Z"
   },
   {
    "duration": 42,
    "start_time": "2022-08-22T21:20:06.385Z"
   },
   {
    "duration": 26,
    "start_time": "2022-08-22T21:20:06.429Z"
   },
   {
    "duration": 19,
    "start_time": "2022-08-22T21:20:06.456Z"
   },
   {
    "duration": 40,
    "start_time": "2022-08-22T21:20:06.477Z"
   },
   {
    "duration": 31,
    "start_time": "2022-08-22T21:20:06.519Z"
   },
   {
    "duration": 428,
    "start_time": "2022-08-22T21:20:06.551Z"
   },
   {
    "duration": 87,
    "start_time": "2022-08-22T21:20:06.980Z"
   },
   {
    "duration": 39,
    "start_time": "2022-08-22T21:20:07.069Z"
   },
   {
    "duration": 5,
    "start_time": "2022-08-22T21:20:07.110Z"
   },
   {
    "duration": 18,
    "start_time": "2022-08-22T21:20:07.116Z"
   },
   {
    "duration": 14,
    "start_time": "2022-08-22T21:20:07.136Z"
   },
   {
    "duration": 18,
    "start_time": "2022-08-22T21:20:07.151Z"
   },
   {
    "duration": 43,
    "start_time": "2022-08-22T21:20:07.171Z"
   },
   {
    "duration": 503,
    "start_time": "2022-08-22T21:20:07.218Z"
   },
   {
    "duration": 437,
    "start_time": "2022-08-22T21:20:07.723Z"
   },
   {
    "duration": 24,
    "start_time": "2022-08-22T21:20:08.162Z"
   },
   {
    "duration": 26,
    "start_time": "2022-08-22T21:20:08.187Z"
   },
   {
    "duration": 30,
    "start_time": "2022-08-22T21:20:08.215Z"
   },
   {
    "duration": 439,
    "start_time": "2022-08-22T21:20:08.247Z"
   },
   {
    "duration": 38,
    "start_time": "2022-08-22T21:20:08.688Z"
   },
   {
    "duration": 457,
    "start_time": "2022-08-22T21:20:08.728Z"
   },
   {
    "duration": 306,
    "start_time": "2022-08-22T21:20:09.187Z"
   },
   {
    "duration": 301,
    "start_time": "2022-08-22T21:20:09.495Z"
   },
   {
    "duration": 25,
    "start_time": "2022-08-22T21:20:09.798Z"
   },
   {
    "duration": 26,
    "start_time": "2022-08-22T21:20:09.825Z"
   },
   {
    "duration": 20,
    "start_time": "2022-08-22T21:20:09.853Z"
   },
   {
    "duration": 315,
    "start_time": "2022-08-22T21:20:09.875Z"
   },
   {
    "duration": 419,
    "start_time": "2022-08-22T21:20:10.192Z"
   },
   {
    "duration": 21,
    "start_time": "2022-08-22T21:20:10.613Z"
   },
   {
    "duration": 32,
    "start_time": "2022-08-22T21:20:10.636Z"
   },
   {
    "duration": 55,
    "start_time": "2022-08-22T21:20:10.670Z"
   },
   {
    "duration": 223,
    "start_time": "2022-08-22T21:20:10.727Z"
   },
   {
    "duration": 32,
    "start_time": "2022-08-22T21:20:10.952Z"
   },
   {
    "duration": 70,
    "start_time": "2022-08-22T21:20:10.986Z"
   },
   {
    "duration": 120,
    "start_time": "2022-08-22T21:20:11.058Z"
   },
   {
    "duration": 23,
    "start_time": "2022-08-22T21:20:11.180Z"
   },
   {
    "duration": 102,
    "start_time": "2022-08-22T21:20:11.204Z"
   },
   {
    "duration": 64,
    "start_time": "2022-08-22T21:20:11.308Z"
   },
   {
    "duration": 4,
    "start_time": "2022-08-22T21:20:11.374Z"
   },
   {
    "duration": 85,
    "start_time": "2022-08-22T21:20:11.380Z"
   },
   {
    "duration": 732,
    "start_time": "2022-08-22T21:20:11.467Z"
   },
   {
    "duration": 4,
    "start_time": "2022-08-22T21:20:12.202Z"
   },
   {
    "duration": 464,
    "start_time": "2022-08-22T21:20:12.208Z"
   },
   {
    "duration": 3,
    "start_time": "2022-08-22T21:20:12.674Z"
   },
   {
    "duration": 161,
    "start_time": "2022-08-22T21:20:12.679Z"
   },
   {
    "duration": 3,
    "start_time": "2022-08-22T21:20:12.842Z"
   },
   {
    "duration": 5,
    "start_time": "2022-08-22T21:20:12.847Z"
   },
   {
    "duration": 7,
    "start_time": "2022-08-22T21:20:12.854Z"
   },
   {
    "duration": 10,
    "start_time": "2022-08-22T21:20:12.863Z"
   },
   {
    "duration": 6,
    "start_time": "2022-08-22T21:20:12.874Z"
   },
   {
    "duration": 29671,
    "start_time": "2022-08-22T21:20:12.882Z"
   },
   {
    "duration": 4,
    "start_time": "2022-08-22T21:20:42.555Z"
   },
   {
    "duration": 36,
    "start_time": "2022-08-22T21:20:42.561Z"
   },
   {
    "duration": 25,
    "start_time": "2022-08-22T21:20:42.599Z"
   },
   {
    "duration": 37,
    "start_time": "2022-08-22T21:20:42.625Z"
   },
   {
    "duration": 20,
    "start_time": "2022-08-22T21:20:42.664Z"
   },
   {
    "duration": 639118,
    "start_time": "2022-08-22T21:20:42.686Z"
   },
   {
    "duration": 4,
    "start_time": "2022-08-22T21:31:21.806Z"
   },
   {
    "duration": 15,
    "start_time": "2022-08-22T21:31:21.812Z"
   },
   {
    "duration": 26957,
    "start_time": "2022-08-22T21:31:21.829Z"
   },
   {
    "duration": 2007,
    "start_time": "2022-08-23T21:42:58.261Z"
   },
   {
    "duration": 2963,
    "start_time": "2022-08-23T21:43:01.173Z"
   },
   {
    "duration": 28,
    "start_time": "2022-08-23T21:43:04.138Z"
   },
   {
    "duration": 4,
    "start_time": "2022-08-23T21:43:04.168Z"
   },
   {
    "duration": 57,
    "start_time": "2022-08-23T21:43:04.868Z"
   },
   {
    "duration": 119,
    "start_time": "2022-08-23T21:43:05.172Z"
   },
   {
    "duration": 103,
    "start_time": "2022-08-23T21:43:05.774Z"
   },
   {
    "duration": 465,
    "start_time": "2022-08-23T21:43:06.961Z"
   },
   {
    "duration": 574,
    "start_time": "2022-08-23T21:43:07.818Z"
   },
   {
    "duration": 105,
    "start_time": "2022-08-23T21:43:08.777Z"
   },
   {
    "duration": 106,
    "start_time": "2022-08-23T21:43:10.332Z"
   },
   {
    "duration": 38,
    "start_time": "2022-08-23T21:43:13.575Z"
   },
   {
    "duration": 45,
    "start_time": "2022-08-23T21:43:26.178Z"
   },
   {
    "duration": 38,
    "start_time": "2022-08-23T21:43:51.721Z"
   },
   {
    "duration": 39,
    "start_time": "2022-08-23T21:43:58.772Z"
   },
   {
    "duration": 42,
    "start_time": "2022-08-23T21:44:24.159Z"
   },
   {
    "duration": 43,
    "start_time": "2022-08-23T21:44:34.305Z"
   },
   {
    "duration": 700,
    "start_time": "2022-08-23T21:44:54.768Z"
   },
   {
    "duration": 895,
    "start_time": "2022-08-23T21:45:10.257Z"
   },
   {
    "duration": 844,
    "start_time": "2022-08-23T21:45:29.406Z"
   },
   {
    "duration": 795,
    "start_time": "2022-08-23T21:45:47.608Z"
   },
   {
    "duration": 3,
    "start_time": "2022-08-23T21:46:00.148Z"
   },
   {
    "duration": 866,
    "start_time": "2022-08-23T21:46:00.605Z"
   },
   {
    "duration": 27,
    "start_time": "2022-08-23T21:46:01.474Z"
   },
   {
    "duration": 5,
    "start_time": "2022-08-23T21:46:02.389Z"
   },
   {
    "duration": 29,
    "start_time": "2022-08-23T21:46:02.694Z"
   },
   {
    "duration": 119,
    "start_time": "2022-08-23T21:46:02.976Z"
   },
   {
    "duration": 109,
    "start_time": "2022-08-23T21:46:03.666Z"
   },
   {
    "duration": 444,
    "start_time": "2022-08-23T21:46:04.493Z"
   },
   {
    "duration": 563,
    "start_time": "2022-08-23T21:46:05.005Z"
   },
   {
    "duration": 94,
    "start_time": "2022-08-23T21:46:05.574Z"
   },
   {
    "duration": 945,
    "start_time": "2022-08-23T21:46:06.923Z"
   },
   {
    "duration": 4,
    "start_time": "2022-08-23T22:14:01.517Z"
   },
   {
    "duration": 768,
    "start_time": "2022-08-23T22:14:02.385Z"
   },
   {
    "duration": 23,
    "start_time": "2022-08-23T22:14:03.987Z"
   },
   {
    "duration": 4,
    "start_time": "2022-08-23T22:14:05.176Z"
   },
   {
    "duration": 24,
    "start_time": "2022-08-23T22:14:05.341Z"
   },
   {
    "duration": 139,
    "start_time": "2022-08-23T22:14:05.488Z"
   },
   {
    "duration": 110,
    "start_time": "2022-08-23T22:14:05.772Z"
   },
   {
    "duration": 453,
    "start_time": "2022-08-23T22:14:06.389Z"
   },
   {
    "duration": 486,
    "start_time": "2022-08-23T22:14:06.890Z"
   },
   {
    "duration": 100,
    "start_time": "2022-08-23T22:14:07.378Z"
   },
   {
    "duration": 858,
    "start_time": "2022-08-23T22:14:07.910Z"
   },
   {
    "duration": 4,
    "start_time": "2022-08-23T22:14:08.770Z"
   },
   {
    "duration": 35,
    "start_time": "2022-08-23T22:14:08.776Z"
   },
   {
    "duration": 32,
    "start_time": "2022-08-23T22:14:08.814Z"
   },
   {
    "duration": 46,
    "start_time": "2022-08-23T22:14:08.848Z"
   },
   {
    "duration": 29,
    "start_time": "2022-08-23T22:14:09.075Z"
   },
   {
    "duration": 21,
    "start_time": "2022-08-23T22:14:09.246Z"
   },
   {
    "duration": 16,
    "start_time": "2022-08-23T22:14:09.628Z"
   },
   {
    "duration": 14,
    "start_time": "2022-08-23T22:14:10.006Z"
   },
   {
    "duration": 29,
    "start_time": "2022-08-23T22:14:10.577Z"
   },
   {
    "duration": 643,
    "start_time": "2022-08-23T22:14:10.955Z"
   },
   {
    "duration": 73,
    "start_time": "2022-08-23T22:14:11.727Z"
   },
   {
    "duration": 39,
    "start_time": "2022-08-23T22:14:13.389Z"
   },
   {
    "duration": 4,
    "start_time": "2022-08-23T22:14:13.854Z"
   },
   {
    "duration": 11,
    "start_time": "2022-08-23T22:14:14.229Z"
   },
   {
    "duration": 17,
    "start_time": "2022-08-23T22:14:14.621Z"
   },
   {
    "duration": 17,
    "start_time": "2022-08-23T22:14:15.035Z"
   },
   {
    "duration": 17,
    "start_time": "2022-08-23T22:14:15.223Z"
   },
   {
    "duration": 489,
    "start_time": "2022-08-23T22:14:15.561Z"
   },
   {
    "duration": 433,
    "start_time": "2022-08-23T22:14:16.052Z"
   },
   {
    "duration": 34,
    "start_time": "2022-08-23T22:14:16.487Z"
   },
   {
    "duration": 17,
    "start_time": "2022-08-23T22:14:16.776Z"
   },
   {
    "duration": 29,
    "start_time": "2022-08-23T22:14:17.306Z"
   },
   {
    "duration": 400,
    "start_time": "2022-08-23T22:14:17.858Z"
   },
   {
    "duration": 30,
    "start_time": "2022-08-23T22:14:18.401Z"
   },
   {
    "duration": 369,
    "start_time": "2022-08-23T22:14:18.873Z"
   },
   {
    "duration": 288,
    "start_time": "2022-08-23T22:14:19.467Z"
   },
   {
    "duration": 281,
    "start_time": "2022-08-23T22:14:19.767Z"
   },
   {
    "duration": 25,
    "start_time": "2022-08-23T22:14:20.050Z"
   },
   {
    "duration": 24,
    "start_time": "2022-08-23T22:14:20.607Z"
   },
   {
    "duration": 18,
    "start_time": "2022-08-23T22:14:21.075Z"
   },
   {
    "duration": 278,
    "start_time": "2022-08-23T22:14:21.975Z"
   },
   {
    "duration": 356,
    "start_time": "2022-08-23T22:14:22.364Z"
   },
   {
    "duration": 21,
    "start_time": "2022-08-23T22:14:22.722Z"
   },
   {
    "duration": 9,
    "start_time": "2022-08-23T22:14:23.088Z"
   },
   {
    "duration": 23,
    "start_time": "2022-08-23T22:14:23.408Z"
   },
   {
    "duration": 180,
    "start_time": "2022-08-23T22:14:23.648Z"
   },
   {
    "duration": 26,
    "start_time": "2022-08-23T22:14:24.451Z"
   },
   {
    "duration": 59,
    "start_time": "2022-08-23T22:14:24.644Z"
   },
   {
    "duration": 84,
    "start_time": "2022-08-23T22:14:25.053Z"
   },
   {
    "duration": 17,
    "start_time": "2022-08-23T22:14:25.312Z"
   },
   {
    "duration": 89,
    "start_time": "2022-08-23T22:14:26.379Z"
   },
   {
    "duration": 59,
    "start_time": "2022-08-23T22:14:26.944Z"
   },
   {
    "duration": 4,
    "start_time": "2022-08-23T22:14:27.206Z"
   },
   {
    "duration": 70,
    "start_time": "2022-08-23T22:14:28.530Z"
   },
   {
    "duration": 87,
    "start_time": "2022-08-24T05:44:58.261Z"
   },
   {
    "duration": 59,
    "start_time": "2022-08-24T05:45:02.181Z"
   },
   {
    "duration": 1381,
    "start_time": "2022-08-24T05:45:25.202Z"
   },
   {
    "duration": 3003,
    "start_time": "2022-08-24T05:45:26.585Z"
   },
   {
    "duration": 28,
    "start_time": "2022-08-24T05:45:29.590Z"
   },
   {
    "duration": 4,
    "start_time": "2022-08-24T05:45:29.620Z"
   },
   {
    "duration": 78,
    "start_time": "2022-08-24T05:45:29.626Z"
   },
   {
    "duration": 144,
    "start_time": "2022-08-24T05:45:29.706Z"
   },
   {
    "duration": 158,
    "start_time": "2022-08-24T05:45:29.851Z"
   },
   {
    "duration": 515,
    "start_time": "2022-08-24T05:45:30.011Z"
   },
   {
    "duration": 610,
    "start_time": "2022-08-24T05:45:30.528Z"
   },
   {
    "duration": 105,
    "start_time": "2022-08-24T05:45:31.139Z"
   },
   {
    "duration": 962,
    "start_time": "2022-08-24T05:45:31.246Z"
   },
   {
    "duration": 3,
    "start_time": "2022-08-24T05:45:32.210Z"
   },
   {
    "duration": 38,
    "start_time": "2022-08-24T05:45:32.215Z"
   },
   {
    "duration": 47,
    "start_time": "2022-08-24T05:45:32.256Z"
   },
   {
    "duration": 26,
    "start_time": "2022-08-24T05:45:32.305Z"
   },
   {
    "duration": 37,
    "start_time": "2022-08-24T05:45:32.332Z"
   },
   {
    "duration": 40,
    "start_time": "2022-08-24T05:45:32.371Z"
   },
   {
    "duration": 17,
    "start_time": "2022-08-24T05:45:32.412Z"
   },
   {
    "duration": 15,
    "start_time": "2022-08-24T05:45:32.430Z"
   },
   {
    "duration": 55,
    "start_time": "2022-08-24T05:45:32.447Z"
   },
   {
    "duration": 619,
    "start_time": "2022-08-24T05:45:32.504Z"
   },
   {
    "duration": 82,
    "start_time": "2022-08-24T05:45:33.125Z"
   },
   {
    "duration": 41,
    "start_time": "2022-08-24T05:45:33.209Z"
   },
   {
    "duration": 3,
    "start_time": "2022-08-24T05:45:33.252Z"
   },
   {
    "duration": 35,
    "start_time": "2022-08-24T05:45:33.257Z"
   },
   {
    "duration": 14,
    "start_time": "2022-08-24T05:45:33.293Z"
   },
   {
    "duration": 17,
    "start_time": "2022-08-24T05:45:33.308Z"
   },
   {
    "duration": 13,
    "start_time": "2022-08-24T05:45:33.327Z"
   },
   {
    "duration": 505,
    "start_time": "2022-08-24T05:45:33.342Z"
   },
   {
    "duration": 471,
    "start_time": "2022-08-24T05:45:33.849Z"
   },
   {
    "duration": 23,
    "start_time": "2022-08-24T05:45:34.322Z"
   },
   {
    "duration": 15,
    "start_time": "2022-08-24T05:45:34.347Z"
   },
   {
    "duration": 58,
    "start_time": "2022-08-24T05:45:34.364Z"
   },
   {
    "duration": 27,
    "start_time": "2022-08-24T05:45:57.212Z"
   },
   {
    "duration": 252,
    "start_time": "2022-08-24T05:46:06.200Z"
   },
   {
    "duration": 252,
    "start_time": "2022-08-24T05:46:28.512Z"
   },
   {
    "duration": 8,
    "start_time": "2022-08-24T05:52:47.275Z"
   },
   {
    "duration": 9,
    "start_time": "2022-08-24T05:54:09.398Z"
   },
   {
    "duration": 9,
    "start_time": "2022-08-24T05:54:14.300Z"
   },
   {
    "duration": 9,
    "start_time": "2022-08-24T05:54:18.373Z"
   },
   {
    "duration": 8,
    "start_time": "2022-08-24T05:55:14.175Z"
   },
   {
    "duration": 12,
    "start_time": "2022-08-24T05:55:46.496Z"
   },
   {
    "duration": 263,
    "start_time": "2022-08-24T05:58:51.084Z"
   },
   {
    "duration": 1334,
    "start_time": "2022-08-24T05:59:12.737Z"
   },
   {
    "duration": 929,
    "start_time": "2022-08-24T05:59:14.073Z"
   },
   {
    "duration": 29,
    "start_time": "2022-08-24T05:59:15.004Z"
   },
   {
    "duration": 5,
    "start_time": "2022-08-24T05:59:15.035Z"
   },
   {
    "duration": 74,
    "start_time": "2022-08-24T05:59:15.042Z"
   },
   {
    "duration": 149,
    "start_time": "2022-08-24T05:59:15.118Z"
   },
   {
    "duration": 192,
    "start_time": "2022-08-24T05:59:15.269Z"
   },
   {
    "duration": 576,
    "start_time": "2022-08-24T05:59:15.463Z"
   },
   {
    "duration": 623,
    "start_time": "2022-08-24T05:59:16.040Z"
   },
   {
    "duration": 104,
    "start_time": "2022-08-24T05:59:16.666Z"
   },
   {
    "duration": 1011,
    "start_time": "2022-08-24T05:59:16.771Z"
   },
   {
    "duration": 10,
    "start_time": "2022-08-24T05:59:17.783Z"
   },
   {
    "duration": 55,
    "start_time": "2022-08-24T05:59:17.795Z"
   },
   {
    "duration": 43,
    "start_time": "2022-08-24T05:59:17.852Z"
   },
   {
    "duration": 34,
    "start_time": "2022-08-24T05:59:17.898Z"
   },
   {
    "duration": 55,
    "start_time": "2022-08-24T05:59:17.934Z"
   },
   {
    "duration": 59,
    "start_time": "2022-08-24T05:59:17.991Z"
   },
   {
    "duration": 28,
    "start_time": "2022-08-24T05:59:18.051Z"
   },
   {
    "duration": 25,
    "start_time": "2022-08-24T05:59:18.081Z"
   },
   {
    "duration": 37,
    "start_time": "2022-08-24T05:59:18.108Z"
   },
   {
    "duration": 440,
    "start_time": "2022-08-24T05:59:18.146Z"
   },
   {
    "duration": 76,
    "start_time": "2022-08-24T05:59:18.588Z"
   },
   {
    "duration": 41,
    "start_time": "2022-08-24T05:59:18.666Z"
   },
   {
    "duration": 4,
    "start_time": "2022-08-24T05:59:18.709Z"
   },
   {
    "duration": 34,
    "start_time": "2022-08-24T05:59:18.714Z"
   },
   {
    "duration": 42,
    "start_time": "2022-08-24T05:59:18.750Z"
   },
   {
    "duration": 26,
    "start_time": "2022-08-24T05:59:18.793Z"
   },
   {
    "duration": 30,
    "start_time": "2022-08-24T05:59:18.822Z"
   },
   {
    "duration": 581,
    "start_time": "2022-08-24T05:59:18.853Z"
   },
   {
    "duration": 522,
    "start_time": "2022-08-24T05:59:19.437Z"
   },
   {
    "duration": 37,
    "start_time": "2022-08-24T05:59:19.961Z"
   },
   {
    "duration": 16,
    "start_time": "2022-08-24T05:59:20.000Z"
   },
   {
    "duration": 37,
    "start_time": "2022-08-24T05:59:20.018Z"
   },
   {
    "duration": 282,
    "start_time": "2022-08-24T05:59:20.057Z"
   },
   {
    "duration": 9,
    "start_time": "2022-08-24T05:59:20.341Z"
   },
   {
    "duration": 480,
    "start_time": "2022-08-24T08:33:35.186Z"
   },
   {
    "duration": 42,
    "start_time": "2022-08-24T08:33:42.016Z"
   },
   {
    "duration": 526,
    "start_time": "2022-08-24T08:33:42.887Z"
   },
   {
    "duration": 2563,
    "start_time": "2022-08-24T08:35:04.850Z"
   },
   {
    "duration": 1007,
    "start_time": "2022-08-24T08:35:07.415Z"
   },
   {
    "duration": 33,
    "start_time": "2022-08-24T08:35:08.423Z"
   },
   {
    "duration": 5,
    "start_time": "2022-08-24T08:35:08.458Z"
   },
   {
    "duration": 76,
    "start_time": "2022-08-24T08:35:08.465Z"
   },
   {
    "duration": 174,
    "start_time": "2022-08-24T08:35:08.543Z"
   },
   {
    "duration": 154,
    "start_time": "2022-08-24T08:35:08.718Z"
   },
   {
    "duration": 564,
    "start_time": "2022-08-24T08:35:08.873Z"
   },
   {
    "duration": 706,
    "start_time": "2022-08-24T08:35:09.439Z"
   },
   {
    "duration": 130,
    "start_time": "2022-08-24T08:35:10.148Z"
   },
   {
    "duration": 1087,
    "start_time": "2022-08-24T08:35:10.281Z"
   },
   {
    "duration": 5,
    "start_time": "2022-08-24T08:35:11.370Z"
   },
   {
    "duration": 63,
    "start_time": "2022-08-24T08:35:11.377Z"
   },
   {
    "duration": 40,
    "start_time": "2022-08-24T08:35:11.442Z"
   },
   {
    "duration": 27,
    "start_time": "2022-08-24T08:35:11.492Z"
   },
   {
    "duration": 49,
    "start_time": "2022-08-24T08:35:11.521Z"
   },
   {
    "duration": 40,
    "start_time": "2022-08-24T08:35:11.572Z"
   },
   {
    "duration": 18,
    "start_time": "2022-08-24T08:35:11.614Z"
   },
   {
    "duration": 16,
    "start_time": "2022-08-24T08:35:11.634Z"
   },
   {
    "duration": 63,
    "start_time": "2022-08-24T08:35:11.652Z"
   },
   {
    "duration": 584,
    "start_time": "2022-08-24T08:35:11.718Z"
   },
   {
    "duration": 91,
    "start_time": "2022-08-24T08:35:12.304Z"
   },
   {
    "duration": 28,
    "start_time": "2022-08-24T08:35:12.397Z"
   },
   {
    "duration": 4,
    "start_time": "2022-08-24T08:35:12.427Z"
   },
   {
    "duration": 20,
    "start_time": "2022-08-24T08:35:12.433Z"
   },
   {
    "duration": 46,
    "start_time": "2022-08-24T08:35:12.455Z"
   },
   {
    "duration": 26,
    "start_time": "2022-08-24T08:35:12.504Z"
   },
   {
    "duration": 21,
    "start_time": "2022-08-24T08:35:12.535Z"
   },
   {
    "duration": 581,
    "start_time": "2022-08-24T08:35:12.558Z"
   },
   {
    "duration": 564,
    "start_time": "2022-08-24T08:35:13.141Z"
   },
   {
    "duration": 28,
    "start_time": "2022-08-24T08:35:13.707Z"
   },
   {
    "duration": 24,
    "start_time": "2022-08-24T08:35:13.737Z"
   },
   {
    "duration": 65,
    "start_time": "2022-08-24T08:35:13.763Z"
   },
   {
    "duration": 324,
    "start_time": "2022-08-24T08:35:13.830Z"
   },
   {
    "duration": 9,
    "start_time": "2022-08-24T08:35:14.156Z"
   },
   {
    "duration": 59,
    "start_time": "2022-08-24T08:35:14.168Z"
   },
   {
    "duration": 517,
    "start_time": "2022-08-24T08:35:14.230Z"
   },
   {
    "duration": 484,
    "start_time": "2022-08-24T08:35:14.749Z"
   },
   {
    "duration": 26,
    "start_time": "2022-08-24T08:35:15.235Z"
   },
   {
    "duration": 481,
    "start_time": "2022-08-24T08:35:15.263Z"
   },
   {
    "duration": 356,
    "start_time": "2022-08-24T08:35:15.746Z"
   },
   {
    "duration": 491,
    "start_time": "2022-08-24T08:35:16.104Z"
   },
   {
    "duration": 24,
    "start_time": "2022-08-24T08:35:16.597Z"
   },
   {
    "duration": 28,
    "start_time": "2022-08-24T08:35:16.623Z"
   },
   {
    "duration": 23,
    "start_time": "2022-08-24T08:35:16.653Z"
   },
   {
    "duration": 340,
    "start_time": "2022-08-24T08:35:16.678Z"
   },
   {
    "duration": 277,
    "start_time": "2022-08-24T08:35:17.021Z"
   },
   {
    "duration": 299,
    "start_time": "2022-08-24T08:35:40.006Z"
   },
   {
    "duration": 23,
    "start_time": "2022-08-24T08:35:43.447Z"
   },
   {
    "duration": 11,
    "start_time": "2022-08-24T08:35:48.974Z"
   },
   {
    "duration": 23,
    "start_time": "2022-08-24T08:35:54.383Z"
   },
   {
    "duration": 238,
    "start_time": "2022-08-24T08:35:55.069Z"
   },
   {
    "duration": 248,
    "start_time": "2022-08-24T08:36:45.803Z"
   },
   {
    "duration": 291,
    "start_time": "2022-08-24T08:38:45.861Z"
   },
   {
    "duration": 362,
    "start_time": "2022-08-24T08:38:49.147Z"
   },
   {
    "duration": 197,
    "start_time": "2022-08-24T08:39:28.221Z"
   },
   {
    "duration": 205,
    "start_time": "2022-08-24T08:39:39.055Z"
   },
   {
    "duration": 120,
    "start_time": "2022-08-24T09:36:28.111Z"
   },
   {
    "duration": 4,
    "start_time": "2022-08-24T09:36:44.014Z"
   },
   {
    "duration": 12,
    "start_time": "2022-08-24T09:37:04.419Z"
   },
   {
    "duration": 15,
    "start_time": "2022-08-24T09:37:10.364Z"
   },
   {
    "duration": 14,
    "start_time": "2022-08-24T09:37:21.366Z"
   },
   {
    "duration": 13,
    "start_time": "2022-08-24T09:37:25.965Z"
   },
   {
    "duration": 4,
    "start_time": "2022-08-24T09:37:34.426Z"
   },
   {
    "duration": 10,
    "start_time": "2022-08-24T09:37:50.190Z"
   },
   {
    "duration": 1454,
    "start_time": "2022-08-24T09:37:59.684Z"
   },
   {
    "duration": 1043,
    "start_time": "2022-08-24T09:38:01.140Z"
   },
   {
    "duration": 33,
    "start_time": "2022-08-24T09:38:02.185Z"
   },
   {
    "duration": 7,
    "start_time": "2022-08-24T09:38:02.220Z"
   },
   {
    "duration": 87,
    "start_time": "2022-08-24T09:38:02.229Z"
   },
   {
    "duration": 159,
    "start_time": "2022-08-24T09:38:02.318Z"
   },
   {
    "duration": 145,
    "start_time": "2022-08-24T09:38:02.479Z"
   },
   {
    "duration": 543,
    "start_time": "2022-08-24T09:38:02.626Z"
   },
   {
    "duration": 668,
    "start_time": "2022-08-24T09:38:03.171Z"
   },
   {
    "duration": 117,
    "start_time": "2022-08-24T09:38:03.842Z"
   },
   {
    "duration": 997,
    "start_time": "2022-08-24T09:38:03.961Z"
   },
   {
    "duration": 4,
    "start_time": "2022-08-24T09:38:04.960Z"
   },
   {
    "duration": 52,
    "start_time": "2022-08-24T09:38:04.966Z"
   },
   {
    "duration": 37,
    "start_time": "2022-08-24T09:38:05.021Z"
   },
   {
    "duration": 38,
    "start_time": "2022-08-24T09:38:05.060Z"
   },
   {
    "duration": 45,
    "start_time": "2022-08-24T09:38:05.100Z"
   },
   {
    "duration": 48,
    "start_time": "2022-08-24T09:38:05.147Z"
   },
   {
    "duration": 21,
    "start_time": "2022-08-24T09:38:05.197Z"
   },
   {
    "duration": 18,
    "start_time": "2022-08-24T09:38:05.220Z"
   },
   {
    "duration": 70,
    "start_time": "2022-08-24T09:38:05.240Z"
   },
   {
    "duration": 493,
    "start_time": "2022-08-24T09:38:05.312Z"
   },
   {
    "duration": 87,
    "start_time": "2022-08-24T09:38:05.806Z"
   },
   {
    "duration": 28,
    "start_time": "2022-08-24T09:38:05.894Z"
   },
   {
    "duration": 4,
    "start_time": "2022-08-24T09:38:05.925Z"
   },
   {
    "duration": 14,
    "start_time": "2022-08-24T09:38:05.930Z"
   },
   {
    "duration": 49,
    "start_time": "2022-08-24T09:38:05.946Z"
   },
   {
    "duration": 20,
    "start_time": "2022-08-24T09:38:05.996Z"
   },
   {
    "duration": 18,
    "start_time": "2022-08-24T09:38:06.020Z"
   },
   {
    "duration": 525,
    "start_time": "2022-08-24T09:38:06.040Z"
   },
   {
    "duration": 531,
    "start_time": "2022-08-24T09:38:06.567Z"
   },
   {
    "duration": 27,
    "start_time": "2022-08-24T09:38:07.100Z"
   },
   {
    "duration": 17,
    "start_time": "2022-08-24T09:38:07.130Z"
   },
   {
    "duration": 64,
    "start_time": "2022-08-24T09:38:07.149Z"
   },
   {
    "duration": 270,
    "start_time": "2022-08-24T09:38:07.216Z"
   },
   {
    "duration": 9,
    "start_time": "2022-08-24T09:38:07.492Z"
   },
   {
    "duration": 34,
    "start_time": "2022-08-24T09:38:07.502Z"
   },
   {
    "duration": 450,
    "start_time": "2022-08-24T09:38:07.538Z"
   },
   {
    "duration": 484,
    "start_time": "2022-08-24T09:38:07.992Z"
   },
   {
    "duration": 32,
    "start_time": "2022-08-24T09:38:08.478Z"
   },
   {
    "duration": 480,
    "start_time": "2022-08-24T09:38:08.512Z"
   },
   {
    "duration": 335,
    "start_time": "2022-08-24T09:38:08.994Z"
   },
   {
    "duration": 450,
    "start_time": "2022-08-24T09:38:09.331Z"
   },
   {
    "duration": 24,
    "start_time": "2022-08-24T09:38:09.783Z"
   },
   {
    "duration": 27,
    "start_time": "2022-08-24T09:38:09.809Z"
   },
   {
    "duration": 20,
    "start_time": "2022-08-24T09:38:09.838Z"
   },
   {
    "duration": 330,
    "start_time": "2022-08-24T09:38:09.860Z"
   },
   {
    "duration": 299,
    "start_time": "2022-08-24T09:38:10.193Z"
   },
   {
    "duration": 23,
    "start_time": "2022-08-24T09:38:10.494Z"
   },
   {
    "duration": 10,
    "start_time": "2022-08-24T09:38:10.519Z"
   },
   {
    "duration": 24,
    "start_time": "2022-08-24T09:38:10.530Z"
   },
   {
    "duration": 232,
    "start_time": "2022-08-24T09:38:10.556Z"
   },
   {
    "duration": 235,
    "start_time": "2022-08-24T09:38:10.789Z"
   },
   {
    "duration": 19,
    "start_time": "2022-08-24T09:38:31.726Z"
   },
   {
    "duration": 132,
    "start_time": "2022-08-24T09:38:39.780Z"
   },
   {
    "duration": 11,
    "start_time": "2022-08-24T09:40:05.892Z"
   },
   {
    "duration": 28,
    "start_time": "2022-08-24T09:40:38.399Z"
   },
   {
    "duration": 28,
    "start_time": "2022-08-24T09:40:42.416Z"
   },
   {
    "duration": 9,
    "start_time": "2022-08-24T09:40:47.967Z"
   },
   {
    "duration": 242,
    "start_time": "2022-08-24T09:40:55.920Z"
   },
   {
    "duration": 5,
    "start_time": "2022-08-24T09:42:16.466Z"
   },
   {
    "duration": 1000,
    "start_time": "2022-08-24T09:42:16.504Z"
   },
   {
    "duration": 24,
    "start_time": "2022-08-24T09:42:17.506Z"
   },
   {
    "duration": 5,
    "start_time": "2022-08-24T09:42:17.532Z"
   },
   {
    "duration": 43,
    "start_time": "2022-08-24T09:42:17.539Z"
   },
   {
    "duration": 150,
    "start_time": "2022-08-24T09:42:17.591Z"
   },
   {
    "duration": 153,
    "start_time": "2022-08-24T09:42:17.743Z"
   },
   {
    "duration": 545,
    "start_time": "2022-08-24T09:42:17.898Z"
   },
   {
    "duration": 614,
    "start_time": "2022-08-24T09:42:18.444Z"
   },
   {
    "duration": 113,
    "start_time": "2022-08-24T09:42:19.060Z"
   },
   {
    "duration": 1009,
    "start_time": "2022-08-24T09:42:19.175Z"
   },
   {
    "duration": 7,
    "start_time": "2022-08-24T09:42:20.186Z"
   },
   {
    "duration": 51,
    "start_time": "2022-08-24T09:42:20.196Z"
   },
   {
    "duration": 47,
    "start_time": "2022-08-24T09:42:20.249Z"
   },
   {
    "duration": 37,
    "start_time": "2022-08-24T09:42:20.301Z"
   },
   {
    "duration": 66,
    "start_time": "2022-08-24T09:42:20.341Z"
   },
   {
    "duration": 36,
    "start_time": "2022-08-24T09:42:20.408Z"
   },
   {
    "duration": 20,
    "start_time": "2022-08-24T09:42:20.446Z"
   },
   {
    "duration": 37,
    "start_time": "2022-08-24T09:42:20.468Z"
   },
   {
    "duration": 36,
    "start_time": "2022-08-24T09:42:20.507Z"
   },
   {
    "duration": 304,
    "start_time": "2022-08-24T09:42:20.545Z"
   },
   {
    "duration": 84,
    "start_time": "2022-08-24T09:42:20.851Z"
   },
   {
    "duration": 29,
    "start_time": "2022-08-24T09:42:20.937Z"
   },
   {
    "duration": 5,
    "start_time": "2022-08-24T09:42:20.968Z"
   },
   {
    "duration": 28,
    "start_time": "2022-08-24T09:42:20.975Z"
   },
   {
    "duration": 27,
    "start_time": "2022-08-24T09:42:21.006Z"
   },
   {
    "duration": 25,
    "start_time": "2022-08-24T09:42:21.036Z"
   },
   {
    "duration": 52,
    "start_time": "2022-08-24T09:42:21.064Z"
   },
   {
    "duration": 575,
    "start_time": "2022-08-24T09:42:21.118Z"
   },
   {
    "duration": 686,
    "start_time": "2022-08-24T09:42:21.695Z"
   },
   {
    "duration": 36,
    "start_time": "2022-08-24T09:42:22.383Z"
   },
   {
    "duration": 18,
    "start_time": "2022-08-24T09:42:22.421Z"
   },
   {
    "duration": 54,
    "start_time": "2022-08-24T09:42:22.441Z"
   },
   {
    "duration": 285,
    "start_time": "2022-08-24T09:42:22.498Z"
   },
   {
    "duration": 14,
    "start_time": "2022-08-24T09:42:22.784Z"
   },
   {
    "duration": 39,
    "start_time": "2022-08-24T09:42:22.799Z"
   },
   {
    "duration": 525,
    "start_time": "2022-08-24T09:42:22.841Z"
   },
   {
    "duration": 494,
    "start_time": "2022-08-24T09:42:23.368Z"
   },
   {
    "duration": 37,
    "start_time": "2022-08-24T09:42:23.864Z"
   },
   {
    "duration": 501,
    "start_time": "2022-08-24T09:42:23.903Z"
   },
   {
    "duration": 455,
    "start_time": "2022-08-24T09:42:24.405Z"
   },
   {
    "duration": 321,
    "start_time": "2022-08-24T09:42:24.864Z"
   },
   {
    "duration": 20,
    "start_time": "2022-08-24T09:42:25.192Z"
   },
   {
    "duration": 29,
    "start_time": "2022-08-24T09:42:25.214Z"
   },
   {
    "duration": 48,
    "start_time": "2022-08-24T09:42:25.245Z"
   },
   {
    "duration": 366,
    "start_time": "2022-08-24T09:42:25.295Z"
   },
   {
    "duration": 285,
    "start_time": "2022-08-24T09:42:25.663Z"
   },
   {
    "duration": 43,
    "start_time": "2022-08-24T09:42:25.951Z"
   },
   {
    "duration": 11,
    "start_time": "2022-08-24T09:42:25.996Z"
   },
   {
    "duration": 25,
    "start_time": "2022-08-24T09:42:26.011Z"
   },
   {
    "duration": 233,
    "start_time": "2022-08-24T09:42:26.038Z"
   },
   {
    "duration": 223,
    "start_time": "2022-08-24T09:42:26.273Z"
   },
   {
    "duration": 25,
    "start_time": "2022-08-24T09:42:26.498Z"
   },
   {
    "duration": 19,
    "start_time": "2022-08-24T09:42:26.525Z"
   },
   {
    "duration": 16,
    "start_time": "2022-08-24T09:42:26.546Z"
   },
   {
    "duration": 84,
    "start_time": "2022-08-24T09:45:54.192Z"
   },
   {
    "duration": 129,
    "start_time": "2022-08-24T09:45:58.052Z"
   },
   {
    "duration": 21,
    "start_time": "2022-08-24T09:46:04.041Z"
   },
   {
    "duration": 192,
    "start_time": "2022-08-24T09:46:26.197Z"
   },
   {
    "duration": 106,
    "start_time": "2022-08-24T09:46:27.750Z"
   },
   {
    "duration": 5,
    "start_time": "2022-08-24T09:46:32.228Z"
   },
   {
    "duration": 120,
    "start_time": "2022-08-24T09:46:40.915Z"
   },
   {
    "duration": 101,
    "start_time": "2022-08-24T09:53:35.379Z"
   },
   {
    "duration": 104,
    "start_time": "2022-08-24T09:53:38.474Z"
   },
   {
    "duration": 1747,
    "start_time": "2022-08-24T09:53:39.429Z"
   },
   {
    "duration": 4,
    "start_time": "2022-08-24T09:53:50.584Z"
   },
   {
    "duration": 6,
    "start_time": "2022-08-24T09:54:10.036Z"
   },
   {
    "duration": 4,
    "start_time": "2022-08-24T09:54:33.816Z"
   },
   {
    "duration": 6,
    "start_time": "2022-08-24T09:56:25.135Z"
   },
   {
    "duration": 4,
    "start_time": "2022-08-24T09:56:33.147Z"
   },
   {
    "duration": 5,
    "start_time": "2022-08-24T09:56:39.288Z"
   },
   {
    "duration": 5,
    "start_time": "2022-08-24T09:56:45.083Z"
   },
   {
    "duration": 5,
    "start_time": "2022-08-24T09:57:13.409Z"
   },
   {
    "duration": 5,
    "start_time": "2022-08-24T09:58:09.145Z"
   },
   {
    "duration": 1109,
    "start_time": "2022-08-24T09:58:09.154Z"
   },
   {
    "duration": 40,
    "start_time": "2022-08-24T09:58:10.265Z"
   },
   {
    "duration": 10,
    "start_time": "2022-08-24T09:58:10.307Z"
   },
   {
    "duration": 33,
    "start_time": "2022-08-24T09:58:10.320Z"
   },
   {
    "duration": 181,
    "start_time": "2022-08-24T09:58:10.355Z"
   },
   {
    "duration": 158,
    "start_time": "2022-08-24T09:58:10.537Z"
   },
   {
    "duration": 513,
    "start_time": "2022-08-24T09:58:10.697Z"
   },
   {
    "duration": 567,
    "start_time": "2022-08-24T09:58:11.211Z"
   },
   {
    "duration": 134,
    "start_time": "2022-08-24T09:58:11.781Z"
   },
   {
    "duration": 1053,
    "start_time": "2022-08-24T09:58:11.918Z"
   },
   {
    "duration": 5,
    "start_time": "2022-08-24T09:58:12.973Z"
   },
   {
    "duration": 47,
    "start_time": "2022-08-24T09:58:12.980Z"
   },
   {
    "duration": 74,
    "start_time": "2022-08-24T09:58:13.029Z"
   },
   {
    "duration": 39,
    "start_time": "2022-08-24T09:58:13.106Z"
   },
   {
    "duration": 55,
    "start_time": "2022-08-24T09:58:13.147Z"
   },
   {
    "duration": 50,
    "start_time": "2022-08-24T09:58:13.205Z"
   },
   {
    "duration": 19,
    "start_time": "2022-08-24T09:58:13.257Z"
   },
   {
    "duration": 35,
    "start_time": "2022-08-24T09:58:13.278Z"
   },
   {
    "duration": 37,
    "start_time": "2022-08-24T09:58:13.315Z"
   },
   {
    "duration": 405,
    "start_time": "2022-08-24T09:58:13.354Z"
   },
   {
    "duration": 87,
    "start_time": "2022-08-24T09:58:13.761Z"
   },
   {
    "duration": 42,
    "start_time": "2022-08-24T09:58:13.850Z"
   },
   {
    "duration": 4,
    "start_time": "2022-08-24T09:58:13.894Z"
   },
   {
    "duration": 26,
    "start_time": "2022-08-24T09:58:13.900Z"
   },
   {
    "duration": 20,
    "start_time": "2022-08-24T09:58:13.928Z"
   },
   {
    "duration": 43,
    "start_time": "2022-08-24T09:58:13.950Z"
   },
   {
    "duration": 23,
    "start_time": "2022-08-24T09:58:13.995Z"
   },
   {
    "duration": 445,
    "start_time": "2022-08-24T09:58:14.023Z"
   },
   {
    "duration": 554,
    "start_time": "2022-08-24T09:58:14.470Z"
   },
   {
    "duration": 28,
    "start_time": "2022-08-24T09:58:15.027Z"
   },
   {
    "duration": 36,
    "start_time": "2022-08-24T09:58:15.057Z"
   },
   {
    "duration": 29,
    "start_time": "2022-08-24T09:58:15.095Z"
   },
   {
    "duration": 296,
    "start_time": "2022-08-24T09:58:15.126Z"
   },
   {
    "duration": 10,
    "start_time": "2022-08-24T09:58:15.424Z"
   },
   {
    "duration": 30,
    "start_time": "2022-08-24T09:58:15.435Z"
   },
   {
    "duration": 443,
    "start_time": "2022-08-24T09:58:15.467Z"
   },
   {
    "duration": 515,
    "start_time": "2022-08-24T09:58:15.912Z"
   },
   {
    "duration": 27,
    "start_time": "2022-08-24T09:58:16.429Z"
   },
   {
    "duration": 733,
    "start_time": "2022-08-24T09:58:16.458Z"
   },
   {
    "duration": 328,
    "start_time": "2022-08-24T09:58:17.193Z"
   },
   {
    "duration": 338,
    "start_time": "2022-08-24T09:58:17.523Z"
   },
   {
    "duration": 27,
    "start_time": "2022-08-24T09:58:17.864Z"
   },
   {
    "duration": 27,
    "start_time": "2022-08-24T09:58:17.893Z"
   },
   {
    "duration": 24,
    "start_time": "2022-08-24T09:58:17.923Z"
   },
   {
    "duration": 332,
    "start_time": "2022-08-24T09:58:17.949Z"
   },
   {
    "duration": 273,
    "start_time": "2022-08-24T09:58:18.283Z"
   },
   {
    "duration": 35,
    "start_time": "2022-08-24T09:58:18.558Z"
   },
   {
    "duration": 11,
    "start_time": "2022-08-24T09:58:18.594Z"
   },
   {
    "duration": 25,
    "start_time": "2022-08-24T09:58:18.607Z"
   },
   {
    "duration": 229,
    "start_time": "2022-08-24T09:58:18.634Z"
   },
   {
    "duration": 239,
    "start_time": "2022-08-24T09:58:18.865Z"
   },
   {
    "duration": 34,
    "start_time": "2022-08-24T09:58:19.107Z"
   },
   {
    "duration": 22,
    "start_time": "2022-08-24T09:58:19.143Z"
   },
   {
    "duration": 33,
    "start_time": "2022-08-24T09:58:19.167Z"
   },
   {
    "duration": 104,
    "start_time": "2022-08-24T09:58:19.203Z"
   },
   {
    "duration": 150,
    "start_time": "2022-08-24T09:58:19.310Z"
   },
   {
    "duration": 38,
    "start_time": "2022-08-24T09:58:19.463Z"
   },
   {
    "duration": 180,
    "start_time": "2022-08-24T09:58:19.503Z"
   },
   {
    "duration": 108,
    "start_time": "2022-08-24T09:58:19.684Z"
   },
   {
    "duration": 5,
    "start_time": "2022-08-24T09:58:19.795Z"
   },
   {
    "duration": 156,
    "start_time": "2022-08-24T09:58:19.802Z"
   },
   {
    "duration": 182,
    "start_time": "2022-08-24T09:58:19.961Z"
   },
   {
    "duration": 2300,
    "start_time": "2022-08-24T09:58:20.145Z"
   },
   {
    "duration": 5,
    "start_time": "2022-08-24T09:58:30.702Z"
   },
   {
    "duration": 555,
    "start_time": "2022-08-24T09:58:41.909Z"
   },
   {
    "duration": 949,
    "start_time": "2022-08-24T09:58:49.156Z"
   },
   {
    "duration": 4,
    "start_time": "2022-08-24T09:58:50.774Z"
   },
   {
    "duration": 5,
    "start_time": "2022-08-24T09:59:03.085Z"
   },
   {
    "duration": 998,
    "start_time": "2022-08-24T10:01:27.410Z"
   },
   {
    "duration": 5,
    "start_time": "2022-08-24T10:01:29.594Z"
   },
   {
    "duration": 75,
    "start_time": "2022-08-24T10:10:50.258Z"
   },
   {
    "duration": 1647,
    "start_time": "2022-08-24T10:11:01.203Z"
   },
   {
    "duration": 1026,
    "start_time": "2022-08-24T10:11:02.852Z"
   },
   {
    "duration": 39,
    "start_time": "2022-08-24T10:11:03.881Z"
   },
   {
    "duration": 7,
    "start_time": "2022-08-24T10:11:03.923Z"
   },
   {
    "duration": 90,
    "start_time": "2022-08-24T10:11:03.932Z"
   },
   {
    "duration": 173,
    "start_time": "2022-08-24T10:11:04.024Z"
   },
   {
    "duration": 160,
    "start_time": "2022-08-24T10:11:04.199Z"
   },
   {
    "duration": 590,
    "start_time": "2022-08-24T10:11:04.361Z"
   },
   {
    "duration": 687,
    "start_time": "2022-08-24T10:11:04.952Z"
   },
   {
    "duration": 115,
    "start_time": "2022-08-24T10:11:05.642Z"
   },
   {
    "duration": 1027,
    "start_time": "2022-08-24T10:11:05.759Z"
   },
   {
    "duration": 4,
    "start_time": "2022-08-24T10:11:06.791Z"
   },
   {
    "duration": 63,
    "start_time": "2022-08-24T10:11:06.797Z"
   },
   {
    "duration": 58,
    "start_time": "2022-08-24T10:11:06.863Z"
   },
   {
    "duration": 47,
    "start_time": "2022-08-24T10:11:06.923Z"
   },
   {
    "duration": 64,
    "start_time": "2022-08-24T10:11:06.972Z"
   },
   {
    "duration": 65,
    "start_time": "2022-08-24T10:11:07.043Z"
   },
   {
    "duration": 21,
    "start_time": "2022-08-24T10:11:07.111Z"
   },
   {
    "duration": 25,
    "start_time": "2022-08-24T10:11:07.134Z"
   },
   {
    "duration": 78,
    "start_time": "2022-08-24T10:11:07.162Z"
   },
   {
    "duration": 480,
    "start_time": "2022-08-24T10:11:07.241Z"
   },
   {
    "duration": 101,
    "start_time": "2022-08-24T10:11:07.724Z"
   },
   {
    "duration": 35,
    "start_time": "2022-08-24T10:11:07.828Z"
   },
   {
    "duration": 8,
    "start_time": "2022-08-24T10:11:07.866Z"
   },
   {
    "duration": 16,
    "start_time": "2022-08-24T10:11:07.893Z"
   },
   {
    "duration": 24,
    "start_time": "2022-08-24T10:11:07.912Z"
   },
   {
    "duration": 54,
    "start_time": "2022-08-24T10:11:07.938Z"
   },
   {
    "duration": 16,
    "start_time": "2022-08-24T10:11:07.998Z"
   },
   {
    "duration": 531,
    "start_time": "2022-08-24T10:11:08.016Z"
   },
   {
    "duration": 563,
    "start_time": "2022-08-24T10:11:08.550Z"
   },
   {
    "duration": 33,
    "start_time": "2022-08-24T10:11:09.115Z"
   },
   {
    "duration": 18,
    "start_time": "2022-08-24T10:11:09.151Z"
   },
   {
    "duration": 36,
    "start_time": "2022-08-24T10:11:09.191Z"
   },
   {
    "duration": 317,
    "start_time": "2022-08-24T10:11:09.229Z"
   },
   {
    "duration": 12,
    "start_time": "2022-08-24T10:11:09.548Z"
   },
   {
    "duration": 56,
    "start_time": "2022-08-24T10:11:09.562Z"
   },
   {
    "duration": 447,
    "start_time": "2022-08-24T10:11:09.621Z"
   },
   {
    "duration": 654,
    "start_time": "2022-08-24T10:11:10.070Z"
   },
   {
    "duration": 32,
    "start_time": "2022-08-24T10:11:10.727Z"
   },
   {
    "duration": 515,
    "start_time": "2022-08-24T10:11:10.762Z"
   },
   {
    "duration": 332,
    "start_time": "2022-08-24T10:11:11.279Z"
   },
   {
    "duration": 555,
    "start_time": "2022-08-24T10:11:11.613Z"
   },
   {
    "duration": 39,
    "start_time": "2022-08-24T10:11:12.171Z"
   },
   {
    "duration": 33,
    "start_time": "2022-08-24T10:11:12.212Z"
   },
   {
    "duration": 44,
    "start_time": "2022-08-24T10:11:12.248Z"
   },
   {
    "duration": 300,
    "start_time": "2022-08-24T10:11:12.294Z"
   },
   {
    "duration": 280,
    "start_time": "2022-08-24T10:11:12.597Z"
   },
   {
    "duration": 28,
    "start_time": "2022-08-24T10:11:12.879Z"
   },
   {
    "duration": 13,
    "start_time": "2022-08-24T10:11:12.910Z"
   },
   {
    "duration": 23,
    "start_time": "2022-08-24T10:11:12.925Z"
   },
   {
    "duration": 237,
    "start_time": "2022-08-24T10:11:12.950Z"
   },
   {
    "duration": 236,
    "start_time": "2022-08-24T10:11:13.189Z"
   },
   {
    "duration": 32,
    "start_time": "2022-08-24T10:11:13.427Z"
   },
   {
    "duration": 34,
    "start_time": "2022-08-24T10:11:13.461Z"
   },
   {
    "duration": 10,
    "start_time": "2022-08-24T10:11:13.497Z"
   },
   {
    "duration": 107,
    "start_time": "2022-08-24T10:11:13.509Z"
   },
   {
    "duration": 139,
    "start_time": "2022-08-24T10:11:13.618Z"
   },
   {
    "duration": 32,
    "start_time": "2022-08-24T10:11:13.759Z"
   },
   {
    "duration": 178,
    "start_time": "2022-08-24T10:11:13.793Z"
   },
   {
    "duration": 107,
    "start_time": "2022-08-24T10:11:13.973Z"
   },
   {
    "duration": 4,
    "start_time": "2022-08-24T10:11:14.091Z"
   },
   {
    "duration": 127,
    "start_time": "2022-08-24T10:11:14.097Z"
   },
   {
    "duration": 105,
    "start_time": "2022-08-24T10:11:14.226Z"
   },
   {
    "duration": 2433,
    "start_time": "2022-08-24T10:11:14.333Z"
   },
   {
    "duration": 1364,
    "start_time": "2022-08-24T10:11:16.768Z"
   },
   {
    "duration": 5,
    "start_time": "2022-08-24T10:11:18.134Z"
   },
   {
    "duration": 109,
    "start_time": "2022-08-24T10:14:32.621Z"
   },
   {
    "duration": 4,
    "start_time": "2022-08-24T10:14:42.013Z"
   },
   {
    "duration": 5,
    "start_time": "2022-08-24T10:15:08.502Z"
   },
   {
    "duration": 4,
    "start_time": "2022-08-24T10:15:48.102Z"
   },
   {
    "duration": 4,
    "start_time": "2022-08-24T10:16:05.302Z"
   },
   {
    "duration": 4,
    "start_time": "2022-08-24T10:16:16.108Z"
   },
   {
    "duration": 91,
    "start_time": "2022-08-24T10:16:19.205Z"
   },
   {
    "duration": 462,
    "start_time": "2022-08-24T10:17:30.025Z"
   },
   {
    "duration": 1632,
    "start_time": "2022-08-24T10:19:56.284Z"
   },
   {
    "duration": 974,
    "start_time": "2022-08-24T10:19:57.918Z"
   },
   {
    "duration": 42,
    "start_time": "2022-08-24T10:19:58.894Z"
   },
   {
    "duration": 11,
    "start_time": "2022-08-24T10:19:58.939Z"
   },
   {
    "duration": 70,
    "start_time": "2022-08-24T10:19:58.952Z"
   },
   {
    "duration": 168,
    "start_time": "2022-08-24T10:19:59.024Z"
   },
   {
    "duration": 151,
    "start_time": "2022-08-24T10:19:59.194Z"
   },
   {
    "duration": 573,
    "start_time": "2022-08-24T10:19:59.347Z"
   },
   {
    "duration": 703,
    "start_time": "2022-08-24T10:19:59.922Z"
   },
   {
    "duration": 118,
    "start_time": "2022-08-24T10:20:00.629Z"
   },
   {
    "duration": 1143,
    "start_time": "2022-08-24T10:20:00.749Z"
   },
   {
    "duration": 6,
    "start_time": "2022-08-24T10:20:01.894Z"
   },
   {
    "duration": 103,
    "start_time": "2022-08-24T10:20:01.901Z"
   },
   {
    "duration": 88,
    "start_time": "2022-08-24T10:20:02.006Z"
   },
   {
    "duration": 84,
    "start_time": "2022-08-24T10:20:02.096Z"
   },
   {
    "duration": 90,
    "start_time": "2022-08-24T10:20:02.182Z"
   },
   {
    "duration": 55,
    "start_time": "2022-08-24T10:20:02.275Z"
   },
   {
    "duration": 30,
    "start_time": "2022-08-24T10:20:02.333Z"
   },
   {
    "duration": 27,
    "start_time": "2022-08-24T10:20:02.365Z"
   },
   {
    "duration": 35,
    "start_time": "2022-08-24T10:20:02.394Z"
   },
   {
    "duration": 470,
    "start_time": "2022-08-24T10:20:02.431Z"
   },
   {
    "duration": 92,
    "start_time": "2022-08-24T10:20:02.903Z"
   },
   {
    "duration": 30,
    "start_time": "2022-08-24T10:20:02.998Z"
   },
   {
    "duration": 5,
    "start_time": "2022-08-24T10:20:03.030Z"
   },
   {
    "duration": 26,
    "start_time": "2022-08-24T10:20:03.036Z"
   },
   {
    "duration": 33,
    "start_time": "2022-08-24T10:20:03.064Z"
   },
   {
    "duration": 23,
    "start_time": "2022-08-24T10:20:03.099Z"
   },
   {
    "duration": 31,
    "start_time": "2022-08-24T10:20:03.127Z"
   },
   {
    "duration": 576,
    "start_time": "2022-08-24T10:20:03.160Z"
   },
   {
    "duration": 538,
    "start_time": "2022-08-24T10:20:03.739Z"
   },
   {
    "duration": 30,
    "start_time": "2022-08-24T10:20:04.279Z"
   },
   {
    "duration": 25,
    "start_time": "2022-08-24T10:20:04.311Z"
   },
   {
    "duration": 77,
    "start_time": "2022-08-24T10:20:04.338Z"
   },
   {
    "duration": 281,
    "start_time": "2022-08-24T10:20:04.416Z"
   },
   {
    "duration": 10,
    "start_time": "2022-08-24T10:20:04.699Z"
   },
   {
    "duration": 32,
    "start_time": "2022-08-24T10:20:04.711Z"
   },
   {
    "duration": 432,
    "start_time": "2022-08-24T10:20:04.745Z"
   },
   {
    "duration": 480,
    "start_time": "2022-08-24T10:20:05.179Z"
   },
   {
    "duration": 38,
    "start_time": "2022-08-24T10:20:05.661Z"
   },
   {
    "duration": 472,
    "start_time": "2022-08-24T10:20:05.701Z"
   },
   {
    "duration": 319,
    "start_time": "2022-08-24T10:20:06.175Z"
   },
   {
    "duration": 457,
    "start_time": "2022-08-24T10:20:06.496Z"
   },
   {
    "duration": 19,
    "start_time": "2022-08-24T10:20:06.955Z"
   },
   {
    "duration": 40,
    "start_time": "2022-08-24T10:20:06.975Z"
   },
   {
    "duration": 21,
    "start_time": "2022-08-24T10:20:07.016Z"
   },
   {
    "duration": 330,
    "start_time": "2022-08-24T10:20:07.039Z"
   },
   {
    "duration": 279,
    "start_time": "2022-08-24T10:20:07.371Z"
   },
   {
    "duration": 23,
    "start_time": "2022-08-24T10:20:07.652Z"
   },
   {
    "duration": 11,
    "start_time": "2022-08-24T10:20:07.691Z"
   },
   {
    "duration": 22,
    "start_time": "2022-08-24T10:20:07.704Z"
   },
   {
    "duration": 226,
    "start_time": "2022-08-24T10:20:07.728Z"
   },
   {
    "duration": 239,
    "start_time": "2022-08-24T10:20:07.956Z"
   },
   {
    "duration": 30,
    "start_time": "2022-08-24T10:20:08.197Z"
   },
   {
    "duration": 20,
    "start_time": "2022-08-24T10:20:08.229Z"
   },
   {
    "duration": 10,
    "start_time": "2022-08-24T10:20:08.251Z"
   },
   {
    "duration": 22,
    "start_time": "2022-08-24T10:49:39.087Z"
   },
   {
    "duration": 227,
    "start_time": "2022-08-24T10:49:43.310Z"
   },
   {
    "duration": 78,
    "start_time": "2022-08-24T10:49:48.340Z"
   },
   {
    "duration": 128,
    "start_time": "2022-08-24T10:49:53.677Z"
   },
   {
    "duration": 20,
    "start_time": "2022-08-24T10:49:54.088Z"
   },
   {
    "duration": 116,
    "start_time": "2022-08-24T10:49:56.137Z"
   },
   {
    "duration": 88,
    "start_time": "2022-08-24T10:49:59.652Z"
   },
   {
    "duration": 5,
    "start_time": "2022-08-24T10:50:03.173Z"
   },
   {
    "duration": 116,
    "start_time": "2022-08-24T10:50:09.341Z"
   },
   {
    "duration": 109,
    "start_time": "2022-08-24T10:50:21.838Z"
   },
   {
    "duration": 882,
    "start_time": "2022-08-24T10:50:25.117Z"
   },
   {
    "duration": 482,
    "start_time": "2022-08-24T10:50:27.978Z"
   },
   {
    "duration": 4,
    "start_time": "2022-08-24T10:50:28.741Z"
   },
   {
    "duration": 5,
    "start_time": "2022-08-24T10:50:30.998Z"
   },
   {
    "duration": 4,
    "start_time": "2022-08-24T10:50:37.535Z"
   },
   {
    "duration": 238,
    "start_time": "2022-08-24T10:50:38.615Z"
   },
   {
    "duration": 159,
    "start_time": "2022-08-24T10:51:45.709Z"
   },
   {
    "duration": 3,
    "start_time": "2022-08-24T10:58:35.487Z"
   },
   {
    "duration": 3,
    "start_time": "2022-08-24T10:58:36.127Z"
   },
   {
    "duration": 5,
    "start_time": "2022-08-24T10:58:39.583Z"
   },
   {
    "duration": 6,
    "start_time": "2022-08-24T10:58:43.362Z"
   },
   {
    "duration": 4,
    "start_time": "2022-08-24T10:58:47.175Z"
   },
   {
    "duration": 30079,
    "start_time": "2022-08-24T10:58:47.924Z"
   },
   {
    "duration": 29885,
    "start_time": "2022-08-24T11:01:55.548Z"
   },
   {
    "duration": 80,
    "start_time": "2022-08-24T11:03:19.479Z"
   },
   {
    "duration": 4,
    "start_time": "2022-08-24T11:03:28.697Z"
   },
   {
    "duration": 5,
    "start_time": "2022-08-24T11:03:33.204Z"
   },
   {
    "duration": 3,
    "start_time": "2022-08-24T11:03:34.976Z"
   },
   {
    "duration": 30001,
    "start_time": "2022-08-24T11:03:35.527Z"
   },
   {
    "duration": 30185,
    "start_time": "2022-08-24T11:06:31.342Z"
   },
   {
    "duration": 4,
    "start_time": "2022-08-24T11:08:32.232Z"
   },
   {
    "duration": 11,
    "start_time": "2022-08-24T11:08:34.582Z"
   },
   {
    "duration": 6,
    "start_time": "2022-08-24T11:25:31.289Z"
   },
   {
    "duration": 7,
    "start_time": "2022-08-24T11:25:35.312Z"
   },
   {
    "duration": 4,
    "start_time": "2022-08-24T11:25:37.283Z"
   },
   {
    "duration": 31846,
    "start_time": "2022-08-24T11:25:39.420Z"
   },
   {
    "duration": 7629,
    "start_time": "2022-08-24T11:32:35.055Z"
   },
   {
    "duration": 7528,
    "start_time": "2022-08-24T11:33:16.448Z"
   },
   {
    "duration": 73,
    "start_time": "2022-08-24T11:33:48.148Z"
   },
   {
    "duration": 10744,
    "start_time": "2022-08-24T11:36:32.572Z"
   },
   {
    "duration": 218,
    "start_time": "2022-08-24T11:37:02.913Z"
   },
   {
    "duration": 12,
    "start_time": "2022-08-24T11:37:09.332Z"
   },
   {
    "duration": 28,
    "start_time": "2022-08-24T11:40:05.078Z"
   },
   {
    "duration": 571,
    "start_time": "2022-08-24T11:40:20.960Z"
   },
   {
    "duration": 9,
    "start_time": "2022-08-24T11:40:22.469Z"
   },
   {
    "duration": 8049,
    "start_time": "2022-08-24T11:41:52.193Z"
   },
   {
    "duration": 183,
    "start_time": "2022-08-24T11:43:37.638Z"
   },
   {
    "duration": 600,
    "start_time": "2022-08-24T11:45:45.569Z"
   },
   {
    "duration": 222,
    "start_time": "2022-08-24T11:45:46.172Z"
   },
   {
    "duration": 621,
    "start_time": "2022-08-24T11:47:49.136Z"
   },
   {
    "duration": 232,
    "start_time": "2022-08-24T11:47:54.537Z"
   },
   {
    "duration": 8,
    "start_time": "2022-08-24T11:48:07.020Z"
   },
   {
    "duration": 95,
    "start_time": "2022-08-24T12:59:25.718Z"
   },
   {
    "duration": 11,
    "start_time": "2022-08-24T13:01:52.559Z"
   },
   {
    "duration": 3,
    "start_time": "2022-08-24T13:03:20.418Z"
   },
   {
    "duration": 452359,
    "start_time": "2022-08-24T13:03:21.589Z"
   },
   {
    "duration": 12826,
    "start_time": "2022-08-24T13:11:00.419Z"
   },
   {
    "duration": 4282,
    "start_time": "2022-08-24T13:11:13.247Z"
   },
   {
    "duration": 4,
    "start_time": "2022-08-24T13:11:17.531Z"
   },
   {
    "duration": 12689,
    "start_time": "2022-08-24T13:12:01.048Z"
   },
   {
    "duration": 5,
    "start_time": "2022-08-24T13:16:03.090Z"
   },
   {
    "duration": 102,
    "start_time": "2022-08-24T13:16:54.303Z"
   },
   {
    "duration": 15,
    "start_time": "2022-08-24T13:18:59.064Z"
   },
   {
    "duration": 4,
    "start_time": "2022-08-24T13:19:22.238Z"
   },
   {
    "duration": 3,
    "start_time": "2022-08-24T13:20:20.740Z"
   },
   {
    "duration": 4,
    "start_time": "2022-08-24T13:22:35.714Z"
   },
   {
    "duration": 11392,
    "start_time": "2022-08-24T13:25:21.682Z"
   },
   {
    "duration": 4263,
    "start_time": "2022-08-24T13:27:10.065Z"
   },
   {
    "duration": 456619,
    "start_time": "2022-08-24T13:27:20.144Z"
   },
   {
    "duration": 4,
    "start_time": "2022-08-24T13:35:06.722Z"
   },
   {
    "duration": 4,
    "start_time": "2022-08-24T13:35:07.583Z"
   },
   {
    "duration": 4021,
    "start_time": "2022-08-24T13:39:18.835Z"
   },
   {
    "duration": 17,
    "start_time": "2022-08-24T13:39:22.863Z"
   },
   {
    "duration": 11,
    "start_time": "2022-08-24T13:39:22.886Z"
   },
   {
    "duration": 3,
    "start_time": "2022-08-24T13:39:25.086Z"
   },
   {
    "duration": 3,
    "start_time": "2022-08-24T13:39:26.697Z"
   },
   {
    "duration": 367983,
    "start_time": "2022-08-24T13:39:27.073Z"
   },
   {
    "duration": 3,
    "start_time": "2022-08-24T13:45:35.059Z"
   },
   {
    "duration": 8,
    "start_time": "2022-08-24T13:45:35.064Z"
   },
   {
    "duration": 3,
    "start_time": "2022-08-24T13:45:37.253Z"
   },
   {
    "duration": 5,
    "start_time": "2022-08-24T13:45:38.047Z"
   },
   {
    "duration": 844636,
    "start_time": "2022-08-24T13:45:38.654Z"
   },
   {
    "duration": 1597,
    "start_time": "2022-08-24T14:40:59.424Z"
   },
   {
    "duration": 1027,
    "start_time": "2022-08-24T14:41:01.023Z"
   },
   {
    "duration": 42,
    "start_time": "2022-08-24T14:41:02.052Z"
   },
   {
    "duration": 6,
    "start_time": "2022-08-24T14:41:02.100Z"
   },
   {
    "duration": 71,
    "start_time": "2022-08-24T14:41:02.112Z"
   },
   {
    "duration": 220,
    "start_time": "2022-08-24T14:41:02.185Z"
   },
   {
    "duration": 171,
    "start_time": "2022-08-24T14:41:02.409Z"
   },
   {
    "duration": 579,
    "start_time": "2022-08-24T14:41:02.582Z"
   },
   {
    "duration": 752,
    "start_time": "2022-08-24T14:41:03.163Z"
   },
   {
    "duration": 112,
    "start_time": "2022-08-24T14:41:03.918Z"
   },
   {
    "duration": 1156,
    "start_time": "2022-08-24T14:41:04.031Z"
   },
   {
    "duration": 9,
    "start_time": "2022-08-24T14:41:05.189Z"
   },
   {
    "duration": 65,
    "start_time": "2022-08-24T14:41:05.204Z"
   },
   {
    "duration": 70,
    "start_time": "2022-08-24T14:41:05.271Z"
   },
   {
    "duration": 34,
    "start_time": "2022-08-24T14:41:05.343Z"
   },
   {
    "duration": 72,
    "start_time": "2022-08-24T14:41:05.380Z"
   },
   {
    "duration": 54,
    "start_time": "2022-08-24T14:41:05.454Z"
   },
   {
    "duration": 33,
    "start_time": "2022-08-24T14:41:05.511Z"
   },
   {
    "duration": 22,
    "start_time": "2022-08-24T14:41:05.547Z"
   },
   {
    "duration": 67,
    "start_time": "2022-08-24T14:41:05.571Z"
   },
   {
    "duration": 512,
    "start_time": "2022-08-24T14:41:05.641Z"
   },
   {
    "duration": 94,
    "start_time": "2022-08-24T14:41:06.156Z"
   },
   {
    "duration": 53,
    "start_time": "2022-08-24T14:41:06.252Z"
   },
   {
    "duration": 7,
    "start_time": "2022-08-24T14:41:06.309Z"
   },
   {
    "duration": 28,
    "start_time": "2022-08-24T14:41:06.318Z"
   },
   {
    "duration": 25,
    "start_time": "2022-08-24T14:41:06.349Z"
   },
   {
    "duration": 39,
    "start_time": "2022-08-24T14:41:06.376Z"
   },
   {
    "duration": 27,
    "start_time": "2022-08-24T14:41:06.423Z"
   },
   {
    "duration": 589,
    "start_time": "2022-08-24T14:41:06.452Z"
   },
   {
    "duration": 655,
    "start_time": "2022-08-24T14:41:07.043Z"
   },
   {
    "duration": 26,
    "start_time": "2022-08-24T14:41:07.707Z"
   },
   {
    "duration": 18,
    "start_time": "2022-08-24T14:41:07.736Z"
   },
   {
    "duration": 58,
    "start_time": "2022-08-24T14:41:07.756Z"
   },
   {
    "duration": 354,
    "start_time": "2022-08-24T14:41:07.818Z"
   },
   {
    "duration": 11,
    "start_time": "2022-08-24T14:41:08.174Z"
   },
   {
    "duration": 38,
    "start_time": "2022-08-24T14:41:08.197Z"
   },
   {
    "duration": 534,
    "start_time": "2022-08-24T14:41:08.238Z"
   },
   {
    "duration": 656,
    "start_time": "2022-08-24T14:41:08.775Z"
   },
   {
    "duration": 33,
    "start_time": "2022-08-24T14:41:09.433Z"
   },
   {
    "duration": 518,
    "start_time": "2022-08-24T14:41:09.470Z"
   },
   {
    "duration": 531,
    "start_time": "2022-08-24T14:41:09.993Z"
   },
   {
    "duration": 479,
    "start_time": "2022-08-24T14:41:10.529Z"
   },
   {
    "duration": 20,
    "start_time": "2022-08-24T14:41:11.012Z"
   },
   {
    "duration": 33,
    "start_time": "2022-08-24T14:41:11.035Z"
   },
   {
    "duration": 56,
    "start_time": "2022-08-24T14:41:11.071Z"
   },
   {
    "duration": 339,
    "start_time": "2022-08-24T14:41:11.129Z"
   },
   {
    "duration": 389,
    "start_time": "2022-08-24T14:41:11.469Z"
   },
   {
    "duration": 52,
    "start_time": "2022-08-24T14:41:11.860Z"
   },
   {
    "duration": 26,
    "start_time": "2022-08-24T14:41:11.914Z"
   },
   {
    "duration": 52,
    "start_time": "2022-08-24T14:41:11.943Z"
   },
   {
    "duration": 369,
    "start_time": "2022-08-24T14:41:11.998Z"
   },
   {
    "duration": 258,
    "start_time": "2022-08-24T14:41:12.370Z"
   },
   {
    "duration": 29,
    "start_time": "2022-08-24T14:41:12.630Z"
   },
   {
    "duration": 163,
    "start_time": "2022-08-24T14:41:12.661Z"
   },
   {
    "duration": 145,
    "start_time": "2022-08-24T14:41:12.827Z"
   },
   {
    "duration": 36,
    "start_time": "2022-08-24T14:41:12.974Z"
   },
   {
    "duration": 201,
    "start_time": "2022-08-24T14:41:13.012Z"
   },
   {
    "duration": 154,
    "start_time": "2022-08-24T14:41:13.219Z"
   },
   {
    "duration": 5,
    "start_time": "2022-08-24T14:41:13.376Z"
   },
   {
    "duration": 174,
    "start_time": "2022-08-24T14:41:13.383Z"
   },
   {
    "duration": 103,
    "start_time": "2022-08-24T14:41:13.560Z"
   },
   {
    "duration": 961,
    "start_time": "2022-08-24T14:41:13.666Z"
   },
   {
    "duration": 487,
    "start_time": "2022-08-24T14:41:14.629Z"
   },
   {
    "duration": 5,
    "start_time": "2022-08-24T14:41:15.118Z"
   },
   {
    "duration": 15,
    "start_time": "2022-08-24T14:41:15.126Z"
   },
   {
    "duration": 16,
    "start_time": "2022-08-24T14:41:15.144Z"
   },
   {
    "duration": 192,
    "start_time": "2022-08-24T14:41:15.163Z"
   },
   {
    "duration": 4,
    "start_time": "2022-08-24T14:41:15.357Z"
   },
   {
    "duration": 17,
    "start_time": "2022-08-24T14:41:15.363Z"
   },
   {
    "duration": 19,
    "start_time": "2022-08-24T14:41:15.382Z"
   },
   {
    "duration": 8287,
    "start_time": "2022-08-24T14:41:15.411Z"
   },
   {
    "duration": 552,
    "start_time": "2022-08-24T14:41:23.707Z"
   },
   {
    "duration": 227,
    "start_time": "2022-08-24T14:41:24.262Z"
   },
   {
    "duration": 6,
    "start_time": "2022-08-24T14:41:24.492Z"
   },
   {
    "duration": 35,
    "start_time": "2022-08-24T14:41:24.499Z"
   },
   {
    "duration": 8,
    "start_time": "2022-08-24T14:41:24.540Z"
   },
   {
    "duration": 31,
    "start_time": "2022-08-24T14:41:24.550Z"
   },
   {
    "duration": 37,
    "start_time": "2022-08-24T14:41:24.583Z"
   },
   {
    "duration": 486729,
    "start_time": "2022-08-24T14:41:24.623Z"
   },
   {
    "duration": 246,
    "start_time": "2022-08-24T15:13:37.145Z"
   },
   {
    "duration": 1582,
    "start_time": "2022-08-24T15:13:54.786Z"
   },
   {
    "duration": 3569,
    "start_time": "2022-08-24T15:13:56.371Z"
   },
   {
    "duration": 49,
    "start_time": "2022-08-24T15:13:59.943Z"
   },
   {
    "duration": 13,
    "start_time": "2022-08-24T15:13:59.996Z"
   },
   {
    "duration": 87,
    "start_time": "2022-08-24T15:14:00.013Z"
   },
   {
    "duration": 213,
    "start_time": "2022-08-24T15:14:00.106Z"
   },
   {
    "duration": 153,
    "start_time": "2022-08-24T15:14:00.322Z"
   },
   {
    "duration": 583,
    "start_time": "2022-08-24T15:14:00.477Z"
   },
   {
    "duration": 699,
    "start_time": "2022-08-24T15:14:01.062Z"
   },
   {
    "duration": 134,
    "start_time": "2022-08-24T15:14:01.763Z"
   },
   {
    "duration": 1137,
    "start_time": "2022-08-24T15:14:01.901Z"
   },
   {
    "duration": 5,
    "start_time": "2022-08-24T15:14:03.039Z"
   },
   {
    "duration": 77,
    "start_time": "2022-08-24T15:14:03.046Z"
   },
   {
    "duration": 43,
    "start_time": "2022-08-24T15:14:03.127Z"
   },
   {
    "duration": 47,
    "start_time": "2022-08-24T15:14:03.172Z"
   },
   {
    "duration": 49,
    "start_time": "2022-08-24T15:14:03.222Z"
   },
   {
    "duration": 67,
    "start_time": "2022-08-24T15:14:03.273Z"
   },
   {
    "duration": 17,
    "start_time": "2022-08-24T15:14:03.342Z"
   },
   {
    "duration": 14,
    "start_time": "2022-08-24T15:14:03.362Z"
   },
   {
    "duration": 53,
    "start_time": "2022-08-24T15:14:03.378Z"
   },
   {
    "duration": 487,
    "start_time": "2022-08-24T15:14:03.433Z"
   },
   {
    "duration": 104,
    "start_time": "2022-08-24T15:14:03.922Z"
   },
   {
    "duration": 28,
    "start_time": "2022-08-24T15:14:04.028Z"
   },
   {
    "duration": 5,
    "start_time": "2022-08-24T15:14:04.058Z"
   },
   {
    "duration": 38,
    "start_time": "2022-08-24T15:14:04.065Z"
   },
   {
    "duration": 19,
    "start_time": "2022-08-24T15:14:04.106Z"
   },
   {
    "duration": 24,
    "start_time": "2022-08-24T15:14:04.127Z"
   },
   {
    "duration": 18,
    "start_time": "2022-08-24T15:14:04.153Z"
   },
   {
    "duration": 545,
    "start_time": "2022-08-24T15:14:04.193Z"
   },
   {
    "duration": 562,
    "start_time": "2022-08-24T15:14:04.740Z"
   },
   {
    "duration": 27,
    "start_time": "2022-08-24T15:14:05.307Z"
   },
   {
    "duration": 17,
    "start_time": "2022-08-24T15:14:05.336Z"
   },
   {
    "duration": 64,
    "start_time": "2022-08-24T15:14:05.355Z"
   },
   {
    "duration": 296,
    "start_time": "2022-08-24T15:14:05.421Z"
   },
   {
    "duration": 9,
    "start_time": "2022-08-24T15:14:05.719Z"
   },
   {
    "duration": 51,
    "start_time": "2022-08-24T15:14:05.730Z"
   },
   {
    "duration": 468,
    "start_time": "2022-08-24T15:14:05.783Z"
   },
   {
    "duration": 520,
    "start_time": "2022-08-24T15:14:06.253Z"
   },
   {
    "duration": 38,
    "start_time": "2022-08-24T15:14:06.774Z"
   },
   {
    "duration": 537,
    "start_time": "2022-08-24T15:14:06.815Z"
   },
   {
    "duration": 329,
    "start_time": "2022-08-24T15:14:07.357Z"
   },
   {
    "duration": 450,
    "start_time": "2022-08-24T15:14:07.688Z"
   },
   {
    "duration": 17,
    "start_time": "2022-08-24T15:14:08.140Z"
   },
   {
    "duration": 51,
    "start_time": "2022-08-24T15:14:08.159Z"
   },
   {
    "duration": 20,
    "start_time": "2022-08-24T15:14:08.212Z"
   },
   {
    "duration": 306,
    "start_time": "2022-08-24T15:14:08.233Z"
   },
   {
    "duration": 303,
    "start_time": "2022-08-24T15:14:08.542Z"
   },
   {
    "duration": 22,
    "start_time": "2022-08-24T15:14:08.847Z"
   },
   {
    "duration": 30,
    "start_time": "2022-08-24T15:14:08.871Z"
   },
   {
    "duration": 33,
    "start_time": "2022-08-24T15:14:08.904Z"
   },
   {
    "duration": 279,
    "start_time": "2022-08-24T15:14:08.940Z"
   },
   {
    "duration": 250,
    "start_time": "2022-08-24T15:14:09.221Z"
   },
   {
    "duration": 47,
    "start_time": "2022-08-24T15:14:09.474Z"
   },
   {
    "duration": 91,
    "start_time": "2022-08-24T15:14:09.524Z"
   },
   {
    "duration": 119,
    "start_time": "2022-08-24T15:14:09.617Z"
   },
   {
    "duration": 20,
    "start_time": "2022-08-24T15:14:09.737Z"
   },
   {
    "duration": 149,
    "start_time": "2022-08-24T15:14:09.760Z"
   },
   {
    "duration": 111,
    "start_time": "2022-08-24T15:14:09.912Z"
   },
   {
    "duration": 9,
    "start_time": "2022-08-24T15:14:10.025Z"
   },
   {
    "duration": 96,
    "start_time": "2022-08-24T15:14:10.036Z"
   },
   {
    "duration": 98,
    "start_time": "2022-08-24T15:14:10.134Z"
   },
   {
    "duration": 830,
    "start_time": "2022-08-24T15:14:10.237Z"
   },
   {
    "duration": 486,
    "start_time": "2022-08-24T15:14:11.069Z"
   },
   {
    "duration": 5,
    "start_time": "2022-08-24T15:14:11.557Z"
   },
   {
    "duration": 16,
    "start_time": "2022-08-24T15:14:11.563Z"
   },
   {
    "duration": 33,
    "start_time": "2022-08-24T15:14:11.580Z"
   },
   {
    "duration": 183,
    "start_time": "2022-08-24T15:14:11.615Z"
   },
   {
    "duration": 9,
    "start_time": "2022-08-24T15:14:11.800Z"
   },
   {
    "duration": 17,
    "start_time": "2022-08-24T15:14:11.813Z"
   },
   {
    "duration": 25,
    "start_time": "2022-08-24T15:14:11.834Z"
   },
   {
    "duration": 7814,
    "start_time": "2022-08-24T15:14:11.861Z"
   },
   {
    "duration": 578,
    "start_time": "2022-08-24T15:14:19.678Z"
   },
   {
    "duration": 195,
    "start_time": "2022-08-24T15:14:20.258Z"
   },
   {
    "duration": 6,
    "start_time": "2022-08-24T15:14:20.455Z"
   },
   {
    "duration": 5,
    "start_time": "2022-08-24T15:14:20.465Z"
   },
   {
    "duration": 6,
    "start_time": "2022-08-24T15:14:20.471Z"
   },
   {
    "duration": 37,
    "start_time": "2022-08-24T15:14:20.478Z"
   },
   {
    "duration": 5,
    "start_time": "2022-08-24T15:14:20.518Z"
   },
   {
    "duration": 497496,
    "start_time": "2022-08-24T15:14:20.526Z"
   },
   {
    "duration": 144,
    "start_time": "2022-08-24T15:22:50.263Z"
   },
   {
    "duration": 1510,
    "start_time": "2022-08-24T15:23:08.142Z"
   },
   {
    "duration": 3554,
    "start_time": "2022-08-24T15:23:09.654Z"
   },
   {
    "duration": 32,
    "start_time": "2022-08-24T15:23:13.210Z"
   },
   {
    "duration": 4,
    "start_time": "2022-08-24T15:23:13.245Z"
   },
   {
    "duration": 65,
    "start_time": "2022-08-24T15:23:13.252Z"
   },
   {
    "duration": 163,
    "start_time": "2022-08-24T15:23:13.319Z"
   },
   {
    "duration": 168,
    "start_time": "2022-08-24T15:23:13.484Z"
   },
   {
    "duration": 587,
    "start_time": "2022-08-24T15:23:13.654Z"
   },
   {
    "duration": 692,
    "start_time": "2022-08-24T15:23:14.243Z"
   },
   {
    "duration": 137,
    "start_time": "2022-08-24T15:23:14.939Z"
   },
   {
    "duration": 1067,
    "start_time": "2022-08-24T15:23:15.078Z"
   },
   {
    "duration": 5,
    "start_time": "2022-08-24T15:23:16.147Z"
   },
   {
    "duration": 60,
    "start_time": "2022-08-24T15:23:16.155Z"
   },
   {
    "duration": 38,
    "start_time": "2022-08-24T15:23:16.217Z"
   },
   {
    "duration": 51,
    "start_time": "2022-08-24T15:23:16.257Z"
   },
   {
    "duration": 38,
    "start_time": "2022-08-24T15:23:16.310Z"
   },
   {
    "duration": 28,
    "start_time": "2022-08-24T15:23:16.350Z"
   },
   {
    "duration": 38,
    "start_time": "2022-08-24T15:23:16.380Z"
   },
   {
    "duration": 16,
    "start_time": "2022-08-24T15:23:16.420Z"
   },
   {
    "duration": 36,
    "start_time": "2022-08-24T15:23:16.439Z"
   },
   {
    "duration": 491,
    "start_time": "2022-08-24T15:23:16.494Z"
   },
   {
    "duration": 82,
    "start_time": "2022-08-24T15:23:16.992Z"
   },
   {
    "duration": 56,
    "start_time": "2022-08-24T15:23:17.076Z"
   },
   {
    "duration": 5,
    "start_time": "2022-08-24T15:23:17.134Z"
   },
   {
    "duration": 24,
    "start_time": "2022-08-24T15:23:17.140Z"
   },
   {
    "duration": 15,
    "start_time": "2022-08-24T15:23:17.166Z"
   },
   {
    "duration": 31,
    "start_time": "2022-08-24T15:23:17.183Z"
   },
   {
    "duration": 20,
    "start_time": "2022-08-24T15:23:17.220Z"
   },
   {
    "duration": 537,
    "start_time": "2022-08-24T15:23:17.242Z"
   },
   {
    "duration": 573,
    "start_time": "2022-08-24T15:23:17.781Z"
   },
   {
    "duration": 24,
    "start_time": "2022-08-24T15:23:18.356Z"
   },
   {
    "duration": 20,
    "start_time": "2022-08-24T15:23:18.394Z"
   },
   {
    "duration": 37,
    "start_time": "2022-08-24T15:23:18.416Z"
   },
   {
    "duration": 296,
    "start_time": "2022-08-24T15:23:18.455Z"
   },
   {
    "duration": 8,
    "start_time": "2022-08-24T15:23:18.753Z"
   },
   {
    "duration": 49,
    "start_time": "2022-08-24T15:23:18.763Z"
   },
   {
    "duration": 443,
    "start_time": "2022-08-24T15:23:18.814Z"
   },
   {
    "duration": 525,
    "start_time": "2022-08-24T15:23:19.259Z"
   },
   {
    "duration": 30,
    "start_time": "2022-08-24T15:23:19.786Z"
   },
   {
    "duration": 501,
    "start_time": "2022-08-24T15:23:19.818Z"
   },
   {
    "duration": 318,
    "start_time": "2022-08-24T15:23:20.321Z"
   },
   {
    "duration": 458,
    "start_time": "2022-08-24T15:23:20.641Z"
   },
   {
    "duration": 20,
    "start_time": "2022-08-24T15:23:21.103Z"
   },
   {
    "duration": 25,
    "start_time": "2022-08-24T15:23:21.125Z"
   },
   {
    "duration": 19,
    "start_time": "2022-08-24T15:23:21.151Z"
   },
   {
    "duration": 294,
    "start_time": "2022-08-24T15:23:21.196Z"
   },
   {
    "duration": 293,
    "start_time": "2022-08-24T15:23:21.491Z"
   },
   {
    "duration": 35,
    "start_time": "2022-08-24T15:23:21.786Z"
   },
   {
    "duration": 12,
    "start_time": "2022-08-24T15:23:21.824Z"
   },
   {
    "duration": 62,
    "start_time": "2022-08-24T15:23:21.838Z"
   },
   {
    "duration": 243,
    "start_time": "2022-08-24T15:23:21.912Z"
   },
   {
    "duration": 269,
    "start_time": "2022-08-24T15:23:22.159Z"
   },
   {
    "duration": 28,
    "start_time": "2022-08-24T15:23:22.430Z"
   },
   {
    "duration": 97,
    "start_time": "2022-08-24T15:23:22.460Z"
   },
   {
    "duration": 139,
    "start_time": "2022-08-24T15:23:22.559Z"
   },
   {
    "duration": 21,
    "start_time": "2022-08-24T15:23:22.702Z"
   },
   {
    "duration": 111,
    "start_time": "2022-08-24T15:23:22.725Z"
   },
   {
    "duration": 97,
    "start_time": "2022-08-24T15:23:22.837Z"
   },
   {
    "duration": 5,
    "start_time": "2022-08-24T15:23:22.935Z"
   },
   {
    "duration": 92,
    "start_time": "2022-08-24T15:23:22.942Z"
   },
   {
    "duration": 93,
    "start_time": "2022-08-24T15:23:23.036Z"
   },
   {
    "duration": 884,
    "start_time": "2022-08-24T15:23:23.131Z"
   },
   {
    "duration": 486,
    "start_time": "2022-08-24T15:23:24.017Z"
   },
   {
    "duration": 5,
    "start_time": "2022-08-24T15:23:24.507Z"
   },
   {
    "duration": 12,
    "start_time": "2022-08-24T15:23:24.514Z"
   },
   {
    "duration": 5,
    "start_time": "2022-08-24T15:23:24.528Z"
   },
   {
    "duration": 182,
    "start_time": "2022-08-24T15:23:24.535Z"
   },
   {
    "duration": 3,
    "start_time": "2022-08-24T15:23:24.719Z"
   },
   {
    "duration": 7,
    "start_time": "2022-08-24T15:23:24.724Z"
   },
   {
    "duration": 6,
    "start_time": "2022-08-24T15:23:24.732Z"
   },
   {
    "duration": 7564,
    "start_time": "2022-08-24T15:23:24.740Z"
   },
   {
    "duration": 501,
    "start_time": "2022-08-24T15:23:32.311Z"
   },
   {
    "duration": 192,
    "start_time": "2022-08-24T15:23:32.814Z"
   },
   {
    "duration": 6,
    "start_time": "2022-08-24T15:23:33.008Z"
   },
   {
    "duration": 5,
    "start_time": "2022-08-24T15:23:33.016Z"
   },
   {
    "duration": 5,
    "start_time": "2022-08-24T15:23:33.023Z"
   },
   {
    "duration": 6,
    "start_time": "2022-08-24T15:23:33.030Z"
   },
   {
    "duration": 8,
    "start_time": "2022-08-24T15:23:33.038Z"
   },
   {
    "duration": 513772,
    "start_time": "2022-08-24T15:23:41.969Z"
   },
   {
    "duration": 186,
    "start_time": "2022-08-24T15:33:00.972Z"
   },
   {
    "duration": 1557,
    "start_time": "2022-08-24T15:33:42.808Z"
   },
   {
    "duration": 3385,
    "start_time": "2022-08-24T15:33:44.367Z"
   },
   {
    "duration": 30,
    "start_time": "2022-08-24T15:33:47.754Z"
   },
   {
    "duration": 6,
    "start_time": "2022-08-24T15:33:47.786Z"
   },
   {
    "duration": 80,
    "start_time": "2022-08-24T15:33:47.794Z"
   },
   {
    "duration": 166,
    "start_time": "2022-08-24T15:33:47.876Z"
   },
   {
    "duration": 164,
    "start_time": "2022-08-24T15:33:48.044Z"
   },
   {
    "duration": 547,
    "start_time": "2022-08-24T15:33:48.210Z"
   },
   {
    "duration": 688,
    "start_time": "2022-08-24T15:33:48.759Z"
   },
   {
    "duration": 117,
    "start_time": "2022-08-24T15:33:49.449Z"
   },
   {
    "duration": 1066,
    "start_time": "2022-08-24T15:33:49.567Z"
   },
   {
    "duration": 4,
    "start_time": "2022-08-24T15:33:50.635Z"
   },
   {
    "duration": 86,
    "start_time": "2022-08-24T15:33:50.641Z"
   },
   {
    "duration": 98,
    "start_time": "2022-08-24T15:33:50.731Z"
   },
   {
    "duration": 34,
    "start_time": "2022-08-24T15:33:50.830Z"
   },
   {
    "duration": 78,
    "start_time": "2022-08-24T15:33:50.866Z"
   },
   {
    "duration": 81,
    "start_time": "2022-08-24T15:33:50.945Z"
   },
   {
    "duration": 48,
    "start_time": "2022-08-24T15:33:51.028Z"
   },
   {
    "duration": 21,
    "start_time": "2022-08-24T15:33:51.079Z"
   },
   {
    "duration": 76,
    "start_time": "2022-08-24T15:33:51.102Z"
   },
   {
    "duration": 485,
    "start_time": "2022-08-24T15:33:51.180Z"
   },
   {
    "duration": 88,
    "start_time": "2022-08-24T15:33:51.667Z"
   },
   {
    "duration": 46,
    "start_time": "2022-08-24T15:33:51.756Z"
   },
   {
    "duration": 11,
    "start_time": "2022-08-24T15:33:51.807Z"
   },
   {
    "duration": 40,
    "start_time": "2022-08-24T15:33:51.820Z"
   },
   {
    "duration": 34,
    "start_time": "2022-08-24T15:33:51.863Z"
   },
   {
    "duration": 29,
    "start_time": "2022-08-24T15:33:51.902Z"
   },
   {
    "duration": 65,
    "start_time": "2022-08-24T15:33:51.934Z"
   },
   {
    "duration": 568,
    "start_time": "2022-08-24T15:33:52.008Z"
   },
   {
    "duration": 540,
    "start_time": "2022-08-24T15:33:52.579Z"
   },
   {
    "duration": 25,
    "start_time": "2022-08-24T15:33:53.121Z"
   },
   {
    "duration": 16,
    "start_time": "2022-08-24T15:33:53.148Z"
   },
   {
    "duration": 55,
    "start_time": "2022-08-24T15:33:53.165Z"
   },
   {
    "duration": 294,
    "start_time": "2022-08-24T15:33:53.222Z"
   },
   {
    "duration": 9,
    "start_time": "2022-08-24T15:33:53.518Z"
   },
   {
    "duration": 41,
    "start_time": "2022-08-24T15:33:53.529Z"
   },
   {
    "duration": 457,
    "start_time": "2022-08-24T15:33:53.572Z"
   },
   {
    "duration": 552,
    "start_time": "2022-08-24T15:33:54.031Z"
   },
   {
    "duration": 43,
    "start_time": "2022-08-24T15:33:54.585Z"
   },
   {
    "duration": 966,
    "start_time": "2022-08-24T15:33:54.631Z"
   },
   {
    "duration": 381,
    "start_time": "2022-08-24T15:33:55.605Z"
   },
   {
    "duration": 555,
    "start_time": "2022-08-24T15:33:55.988Z"
   },
   {
    "duration": 19,
    "start_time": "2022-08-24T15:33:56.545Z"
   },
   {
    "duration": 61,
    "start_time": "2022-08-24T15:33:56.566Z"
   },
   {
    "duration": 31,
    "start_time": "2022-08-24T15:33:56.630Z"
   },
   {
    "duration": 411,
    "start_time": "2022-08-24T15:33:56.664Z"
   },
   {
    "duration": 361,
    "start_time": "2022-08-24T15:33:57.077Z"
   },
   {
    "duration": 23,
    "start_time": "2022-08-24T15:33:57.440Z"
   },
   {
    "duration": 32,
    "start_time": "2022-08-24T15:33:57.466Z"
   },
   {
    "duration": 34,
    "start_time": "2022-08-24T15:33:57.501Z"
   },
   {
    "duration": 277,
    "start_time": "2022-08-24T15:33:57.537Z"
   },
   {
    "duration": 253,
    "start_time": "2022-08-24T15:33:57.816Z"
   },
   {
    "duration": 46,
    "start_time": "2022-08-24T15:33:58.071Z"
   },
   {
    "duration": 153,
    "start_time": "2022-08-24T15:33:58.121Z"
   },
   {
    "duration": 192,
    "start_time": "2022-08-24T15:33:58.277Z"
   },
   {
    "duration": 30,
    "start_time": "2022-08-24T15:33:58.472Z"
   },
   {
    "duration": 155,
    "start_time": "2022-08-24T15:33:58.506Z"
   },
   {
    "duration": 117,
    "start_time": "2022-08-24T15:33:58.663Z"
   },
   {
    "duration": 5,
    "start_time": "2022-08-24T15:33:58.783Z"
   },
   {
    "duration": 137,
    "start_time": "2022-08-24T15:33:58.790Z"
   },
   {
    "duration": 111,
    "start_time": "2022-08-24T15:33:58.932Z"
   },
   {
    "duration": 1062,
    "start_time": "2022-08-24T15:33:59.045Z"
   },
   {
    "duration": 578,
    "start_time": "2022-08-24T15:34:00.109Z"
   },
   {
    "duration": 7,
    "start_time": "2022-08-24T15:34:00.689Z"
   },
   {
    "duration": 41,
    "start_time": "2022-08-24T15:34:00.698Z"
   },
   {
    "duration": 27,
    "start_time": "2022-08-24T15:34:00.742Z"
   },
   {
    "duration": 239,
    "start_time": "2022-08-24T15:34:00.771Z"
   },
   {
    "duration": 7,
    "start_time": "2022-08-24T15:34:01.018Z"
   },
   {
    "duration": 31,
    "start_time": "2022-08-24T15:34:01.028Z"
   },
   {
    "duration": 74,
    "start_time": "2022-08-24T15:34:01.061Z"
   },
   {
    "duration": 8992,
    "start_time": "2022-08-24T15:34:01.137Z"
   },
   {
    "duration": 647,
    "start_time": "2022-08-24T15:34:10.131Z"
   },
   {
    "duration": 231,
    "start_time": "2022-08-24T15:34:10.780Z"
   },
   {
    "duration": 12,
    "start_time": "2022-08-24T15:34:11.013Z"
   },
   {
    "duration": 40,
    "start_time": "2022-08-24T15:34:11.027Z"
   },
   {
    "duration": 9,
    "start_time": "2022-08-24T15:34:11.070Z"
   },
   {
    "duration": 8,
    "start_time": "2022-08-24T15:34:11.081Z"
   },
   {
    "duration": 71,
    "start_time": "2022-08-24T15:34:11.091Z"
   },
   {
    "duration": 9,
    "start_time": "2022-08-24T15:34:11.165Z"
   },
   {
    "duration": 41,
    "start_time": "2022-08-24T15:34:11.176Z"
   },
   {
    "duration": 42,
    "start_time": "2022-08-24T15:34:11.219Z"
   },
   {
    "duration": 18,
    "start_time": "2022-08-24T15:34:11.267Z"
   },
   {
    "duration": 49,
    "start_time": "2022-08-24T15:34:11.288Z"
   },
   {
    "duration": 26,
    "start_time": "2022-08-24T15:34:11.339Z"
   },
   {
    "duration": 10,
    "start_time": "2022-08-24T15:34:11.367Z"
   },
   {
    "duration": 1594,
    "start_time": "2022-08-24T16:02:16.268Z"
   },
   {
    "duration": 1139,
    "start_time": "2022-08-24T16:02:17.864Z"
   },
   {
    "duration": 53,
    "start_time": "2022-08-24T16:02:19.015Z"
   },
   {
    "duration": 7,
    "start_time": "2022-08-24T16:02:19.071Z"
   },
   {
    "duration": 108,
    "start_time": "2022-08-24T16:02:19.079Z"
   },
   {
    "duration": 221,
    "start_time": "2022-08-24T16:02:19.190Z"
   },
   {
    "duration": 267,
    "start_time": "2022-08-24T16:02:19.414Z"
   },
   {
    "duration": 630,
    "start_time": "2022-08-24T16:02:19.683Z"
   },
   {
    "duration": 750,
    "start_time": "2022-08-24T16:02:20.318Z"
   },
   {
    "duration": 122,
    "start_time": "2022-08-24T16:02:21.071Z"
   },
   {
    "duration": 1248,
    "start_time": "2022-08-24T16:02:21.197Z"
   },
   {
    "duration": 5,
    "start_time": "2022-08-24T16:02:22.448Z"
   },
   {
    "duration": 63,
    "start_time": "2022-08-24T16:02:22.455Z"
   },
   {
    "duration": 38,
    "start_time": "2022-08-24T16:02:22.520Z"
   },
   {
    "duration": 47,
    "start_time": "2022-08-24T16:02:22.560Z"
   },
   {
    "duration": 50,
    "start_time": "2022-08-24T16:02:22.609Z"
   },
   {
    "duration": 43,
    "start_time": "2022-08-24T16:02:22.661Z"
   },
   {
    "duration": 38,
    "start_time": "2022-08-24T16:02:22.707Z"
   },
   {
    "duration": 23,
    "start_time": "2022-08-24T16:02:22.748Z"
   },
   {
    "duration": 66,
    "start_time": "2022-08-24T16:02:22.774Z"
   },
   {
    "duration": 494,
    "start_time": "2022-08-24T16:02:22.842Z"
   },
   {
    "duration": 127,
    "start_time": "2022-08-24T16:02:23.338Z"
   },
   {
    "duration": 39,
    "start_time": "2022-08-24T16:02:23.467Z"
   },
   {
    "duration": 10,
    "start_time": "2022-08-24T16:02:23.510Z"
   },
   {
    "duration": 30,
    "start_time": "2022-08-24T16:02:23.523Z"
   },
   {
    "duration": 29,
    "start_time": "2022-08-24T16:02:23.556Z"
   },
   {
    "duration": 49,
    "start_time": "2022-08-24T16:02:23.587Z"
   },
   {
    "duration": 31,
    "start_time": "2022-08-24T16:02:23.643Z"
   },
   {
    "duration": 555,
    "start_time": "2022-08-24T16:02:23.676Z"
   },
   {
    "duration": 594,
    "start_time": "2022-08-24T16:02:24.234Z"
   },
   {
    "duration": 31,
    "start_time": "2022-08-24T16:02:24.830Z"
   },
   {
    "duration": 45,
    "start_time": "2022-08-24T16:02:24.864Z"
   },
   {
    "duration": 35,
    "start_time": "2022-08-24T16:02:24.913Z"
   },
   {
    "duration": 305,
    "start_time": "2022-08-24T16:02:24.950Z"
   },
   {
    "duration": 11,
    "start_time": "2022-08-24T16:02:25.257Z"
   },
   {
    "duration": 57,
    "start_time": "2022-08-24T16:02:25.271Z"
   },
   {
    "duration": 615,
    "start_time": "2022-08-24T16:02:25.330Z"
   },
   {
    "duration": 567,
    "start_time": "2022-08-24T16:02:25.947Z"
   },
   {
    "duration": 27,
    "start_time": "2022-08-24T16:02:26.516Z"
   },
   {
    "duration": 520,
    "start_time": "2022-08-24T16:02:26.545Z"
   },
   {
    "duration": 336,
    "start_time": "2022-08-24T16:02:27.068Z"
   },
   {
    "duration": 440,
    "start_time": "2022-08-24T16:02:27.406Z"
   },
   {
    "duration": 19,
    "start_time": "2022-08-24T16:02:27.848Z"
   },
   {
    "duration": 49,
    "start_time": "2022-08-24T16:02:27.869Z"
   },
   {
    "duration": 22,
    "start_time": "2022-08-24T16:02:27.921Z"
   },
   {
    "duration": 368,
    "start_time": "2022-08-24T16:02:27.946Z"
   },
   {
    "duration": 313,
    "start_time": "2022-08-24T16:02:28.316Z"
   },
   {
    "duration": 23,
    "start_time": "2022-08-24T16:02:28.631Z"
   },
   {
    "duration": 12,
    "start_time": "2022-08-24T16:02:28.656Z"
   },
   {
    "duration": 36,
    "start_time": "2022-08-24T16:02:28.691Z"
   },
   {
    "duration": 225,
    "start_time": "2022-08-24T16:02:28.730Z"
   },
   {
    "duration": 232,
    "start_time": "2022-08-24T16:02:28.957Z"
   },
   {
    "duration": 33,
    "start_time": "2022-08-24T16:02:29.191Z"
   },
   {
    "duration": 100,
    "start_time": "2022-08-24T16:02:29.225Z"
   },
   {
    "duration": 166,
    "start_time": "2022-08-24T16:02:29.328Z"
   },
   {
    "duration": 29,
    "start_time": "2022-08-24T16:02:29.496Z"
   },
   {
    "duration": 121,
    "start_time": "2022-08-24T16:02:29.526Z"
   },
   {
    "duration": 115,
    "start_time": "2022-08-24T16:02:29.650Z"
   },
   {
    "duration": 5,
    "start_time": "2022-08-24T16:02:29.767Z"
   },
   {
    "duration": 102,
    "start_time": "2022-08-24T16:02:29.774Z"
   },
   {
    "duration": 130,
    "start_time": "2022-08-24T16:02:29.878Z"
   },
   {
    "duration": 874,
    "start_time": "2022-08-24T16:02:30.016Z"
   },
   {
    "duration": 478,
    "start_time": "2022-08-24T16:02:30.899Z"
   },
   {
    "duration": 14,
    "start_time": "2022-08-24T16:02:31.379Z"
   },
   {
    "duration": 9,
    "start_time": "2022-08-24T16:02:31.394Z"
   },
   {
    "duration": 31,
    "start_time": "2022-08-24T16:02:31.408Z"
   },
   {
    "duration": 186,
    "start_time": "2022-08-24T16:02:31.441Z"
   },
   {
    "duration": 4,
    "start_time": "2022-08-24T16:02:31.629Z"
   },
   {
    "duration": 30,
    "start_time": "2022-08-24T16:02:31.636Z"
   },
   {
    "duration": 46,
    "start_time": "2022-08-24T16:02:31.668Z"
   },
   {
    "duration": 7593,
    "start_time": "2022-08-24T16:02:31.716Z"
   },
   {
    "duration": 522,
    "start_time": "2022-08-24T16:02:39.311Z"
   },
   {
    "duration": 189,
    "start_time": "2022-08-24T16:02:39.835Z"
   },
   {
    "duration": 7,
    "start_time": "2022-08-24T16:02:40.026Z"
   },
   {
    "duration": 21,
    "start_time": "2022-08-24T16:02:40.035Z"
   },
   {
    "duration": 15,
    "start_time": "2022-08-24T16:02:40.058Z"
   },
   {
    "duration": 14,
    "start_time": "2022-08-24T16:02:40.077Z"
   },
   {
    "duration": 26,
    "start_time": "2022-08-24T16:02:40.098Z"
   },
   {
    "duration": 11,
    "start_time": "2022-08-24T16:02:40.126Z"
   },
   {
    "duration": 18,
    "start_time": "2022-08-24T16:02:40.140Z"
   },
   {
    "duration": 11,
    "start_time": "2022-08-24T16:02:40.160Z"
   },
   {
    "duration": 12,
    "start_time": "2022-08-24T16:02:40.178Z"
   },
   {
    "duration": 35,
    "start_time": "2022-08-24T16:02:40.192Z"
   },
   {
    "duration": 17,
    "start_time": "2022-08-24T16:02:40.229Z"
   },
   {
    "duration": 19,
    "start_time": "2022-08-24T16:02:40.248Z"
   },
   {
    "duration": 136793,
    "start_time": "2022-08-24T16:02:56.655Z"
   },
   {
    "duration": 3,
    "start_time": "2022-08-24T16:06:02.831Z"
   },
   {
    "duration": 41794,
    "start_time": "2022-08-24T16:06:04.426Z"
   },
   {
    "duration": 4,
    "start_time": "2022-08-24T16:06:58.428Z"
   },
   {
    "duration": 5,
    "start_time": "2022-08-24T16:07:00.652Z"
   },
   {
    "duration": 107611,
    "start_time": "2022-08-24T16:07:03.008Z"
   },
   {
    "duration": 5,
    "start_time": "2022-08-24T16:09:02.318Z"
   },
   {
    "duration": 39713,
    "start_time": "2022-08-24T16:09:06.323Z"
   },
   {
    "duration": 4,
    "start_time": "2022-08-24T16:09:52.585Z"
   },
   {
    "duration": 4,
    "start_time": "2022-08-24T16:09:53.362Z"
   },
   {
    "duration": 134082,
    "start_time": "2022-08-24T16:09:54.820Z"
   },
   {
    "duration": 18,
    "start_time": "2022-08-24T16:12:22.332Z"
   },
   {
    "duration": 4,
    "start_time": "2022-08-24T16:12:36.269Z"
   },
   {
    "duration": 3,
    "start_time": "2022-08-24T16:12:44.108Z"
   },
   {
    "duration": 7,
    "start_time": "2022-08-24T16:12:44.793Z"
   },
   {
    "duration": 100896,
    "start_time": "2022-08-24T16:12:45.322Z"
   },
   {
    "duration": 11,
    "start_time": "2022-08-24T16:15:38.390Z"
   },
   {
    "duration": 4,
    "start_time": "2022-08-24T16:15:40.714Z"
   },
   {
    "duration": 4,
    "start_time": "2022-08-24T16:15:41.161Z"
   },
   {
    "duration": 6,
    "start_time": "2022-08-24T16:15:42.980Z"
   },
   {
    "duration": 3,
    "start_time": "2022-08-24T16:15:52.550Z"
   },
   {
    "duration": 4,
    "start_time": "2022-08-24T16:15:56.607Z"
   },
   {
    "duration": 3,
    "start_time": "2022-08-24T16:15:59.788Z"
   },
   {
    "duration": 10,
    "start_time": "2022-08-24T16:16:00.290Z"
   },
   {
    "duration": 264128,
    "start_time": "2022-08-24T16:16:00.418Z"
   },
   {
    "duration": 3,
    "start_time": "2022-08-24T16:20:28.963Z"
   },
   {
    "duration": 17434,
    "start_time": "2022-08-24T16:20:29.511Z"
   },
   {
    "duration": 3,
    "start_time": "2022-08-24T16:20:52.223Z"
   },
   {
    "duration": 3,
    "start_time": "2022-08-24T16:20:52.668Z"
   },
   {
    "duration": 48158,
    "start_time": "2022-08-24T16:20:53.073Z"
   },
   {
    "duration": 5,
    "start_time": "2022-08-24T16:21:49.507Z"
   },
   {
    "duration": 14771,
    "start_time": "2022-08-24T16:21:50.857Z"
   },
   {
    "duration": 4,
    "start_time": "2022-08-24T16:22:05.631Z"
   },
   {
    "duration": 11,
    "start_time": "2022-08-24T16:22:05.637Z"
   },
   {
    "duration": 3,
    "start_time": "2022-08-24T16:22:07.714Z"
   },
   {
    "duration": 5,
    "start_time": "2022-08-24T16:22:08.446Z"
   },
   {
    "duration": 2080269,
    "start_time": "2022-08-24T16:22:09.423Z"
   },
   {
    "duration": 72,
    "start_time": "2022-08-24T17:22:58.942Z"
   },
   {
    "duration": 73,
    "start_time": "2022-08-24T17:23:06.769Z"
   },
   {
    "duration": 87,
    "start_time": "2022-08-24T17:23:26.922Z"
   },
   {
    "duration": 4,
    "start_time": "2022-08-24T17:23:43.647Z"
   },
   {
    "duration": 13504,
    "start_time": "2022-08-24T17:24:52.804Z"
   },
   {
    "duration": 4,
    "start_time": "2022-08-24T17:25:12.882Z"
   },
   {
    "duration": 68381,
    "start_time": "2022-08-24T17:25:13.916Z"
   },
   {
    "duration": 4,
    "start_time": "2022-08-24T17:26:26.720Z"
   },
   {
    "duration": 82858,
    "start_time": "2022-08-24T17:26:27.753Z"
   },
   {
    "duration": 4,
    "start_time": "2022-08-24T17:28:08.879Z"
   },
   {
    "duration": 425535,
    "start_time": "2022-08-24T17:28:09.659Z"
   },
   {
    "duration": 5,
    "start_time": "2022-08-24T17:39:35.538Z"
   },
   {
    "duration": 3,
    "start_time": "2022-08-24T17:39:38.732Z"
   },
   {
    "duration": 28876,
    "start_time": "2022-08-24T17:39:39.938Z"
   },
   {
    "duration": 3,
    "start_time": "2022-08-24T17:41:34.254Z"
   },
   {
    "duration": 75039,
    "start_time": "2022-08-24T17:41:35.780Z"
   },
   {
    "duration": 3,
    "start_time": "2022-08-24T17:44:33.064Z"
   },
   {
    "duration": 11,
    "start_time": "2022-08-24T17:49:37.649Z"
   },
   {
    "duration": 13,
    "start_time": "2022-08-24T17:50:01.161Z"
   },
   {
    "duration": 728,
    "start_time": "2022-08-24T17:50:27.037Z"
   },
   {
    "duration": 58583,
    "start_time": "2022-08-24T17:50:43.643Z"
   },
   {
    "duration": 67658,
    "start_time": "2022-08-24T17:52:10.578Z"
   },
   {
    "duration": 5,
    "start_time": "2022-08-24T17:53:42.760Z"
   },
   {
    "duration": 9,
    "start_time": "2022-08-24T17:53:57.634Z"
   },
   {
    "duration": 10,
    "start_time": "2022-08-24T17:54:03.778Z"
   },
   {
    "duration": 4,
    "start_time": "2022-08-24T17:54:15.062Z"
   },
   {
    "duration": 1447,
    "start_time": "2022-08-24T17:59:02.278Z"
   },
   {
    "duration": 362,
    "start_time": "2022-08-24T17:59:05.942Z"
   },
   {
    "duration": 128,
    "start_time": "2022-08-24T17:59:06.447Z"
   },
   {
    "duration": 6,
    "start_time": "2022-08-24T17:59:07.370Z"
   },
   {
    "duration": 3924,
    "start_time": "2022-08-24T17:59:12.768Z"
   },
   {
    "duration": 398,
    "start_time": "2022-08-24T17:59:16.694Z"
   },
   {
    "duration": 138,
    "start_time": "2022-08-24T17:59:17.094Z"
   },
   {
    "duration": 5,
    "start_time": "2022-08-24T17:59:17.234Z"
   },
   {
    "duration": 7081,
    "start_time": "2022-08-24T17:59:29.013Z"
   },
   {
    "duration": 493,
    "start_time": "2022-08-24T17:59:38.518Z"
   },
   {
    "duration": 173,
    "start_time": "2022-08-24T17:59:39.012Z"
   },
   {
    "duration": 6,
    "start_time": "2022-08-24T17:59:39.191Z"
   },
   {
    "duration": 4,
    "start_time": "2022-08-24T18:00:13.344Z"
   },
   {
    "duration": 29028,
    "start_time": "2022-08-24T18:00:15.257Z"
   },
   {
    "duration": 12,
    "start_time": "2022-08-24T18:00:53.960Z"
   },
   {
    "duration": 9,
    "start_time": "2022-08-24T18:01:39.168Z"
   },
   {
    "duration": 5,
    "start_time": "2022-08-24T18:01:47.638Z"
   },
   {
    "duration": 5,
    "start_time": "2022-08-24T18:02:02.690Z"
   },
   {
    "duration": 18,
    "start_time": "2022-08-24T18:04:17.126Z"
   },
   {
    "duration": 6,
    "start_time": "2022-08-24T18:04:24.470Z"
   },
   {
    "duration": 3951,
    "start_time": "2022-08-24T18:05:16.438Z"
   },
   {
    "duration": 385,
    "start_time": "2022-08-24T18:05:22.032Z"
   },
   {
    "duration": 136,
    "start_time": "2022-08-24T18:05:22.419Z"
   },
   {
    "duration": 6,
    "start_time": "2022-08-24T18:05:26.424Z"
   },
   {
    "duration": 3,
    "start_time": "2022-08-24T18:06:57.262Z"
   },
   {
    "duration": 268848,
    "start_time": "2022-08-24T18:06:57.704Z"
   },
   {
    "duration": 2762,
    "start_time": "2022-08-24T18:11:26.555Z"
   },
   {
    "duration": 1000,
    "start_time": "2022-08-24T18:11:29.319Z"
   },
   {
    "duration": 6,
    "start_time": "2022-08-24T18:11:30.321Z"
   },
   {
    "duration": 3,
    "start_time": "2022-08-24T18:16:14.004Z"
   },
   {
    "duration": 11942,
    "start_time": "2022-08-24T18:16:27.561Z"
   },
   {
    "duration": 1285,
    "start_time": "2022-08-24T18:18:07.433Z"
   },
   {
    "duration": 8,
    "start_time": "2022-08-24T18:21:17.611Z"
   },
   {
    "duration": 19,
    "start_time": "2022-08-24T18:22:45.300Z"
   },
   {
    "duration": 6,
    "start_time": "2022-08-24T18:23:12.815Z"
   },
   {
    "duration": 6,
    "start_time": "2022-08-24T18:23:18.983Z"
   },
   {
    "duration": 4,
    "start_time": "2022-08-24T18:25:03.417Z"
   },
   {
    "duration": 38253,
    "start_time": "2022-08-24T18:25:18.506Z"
   },
   {
    "duration": 227,
    "start_time": "2022-08-24T18:26:30.293Z"
   },
   {
    "duration": 7,
    "start_time": "2022-08-24T18:27:01.223Z"
   },
   {
    "duration": 1466,
    "start_time": "2022-08-24T18:52:57.056Z"
   },
   {
    "duration": 972,
    "start_time": "2022-08-24T18:52:58.524Z"
   },
   {
    "duration": 30,
    "start_time": "2022-08-24T18:52:59.498Z"
   },
   {
    "duration": 5,
    "start_time": "2022-08-24T18:52:59.530Z"
   },
   {
    "duration": 79,
    "start_time": "2022-08-24T18:52:59.537Z"
   },
   {
    "duration": 153,
    "start_time": "2022-08-24T18:52:59.618Z"
   },
   {
    "duration": 157,
    "start_time": "2022-08-24T18:52:59.773Z"
   },
   {
    "duration": 579,
    "start_time": "2022-08-24T18:52:59.933Z"
   },
   {
    "duration": 688,
    "start_time": "2022-08-24T18:53:00.514Z"
   },
   {
    "duration": 108,
    "start_time": "2022-08-24T18:53:01.205Z"
   },
   {
    "duration": 1198,
    "start_time": "2022-08-24T18:53:01.315Z"
   },
   {
    "duration": 5,
    "start_time": "2022-08-24T18:53:02.515Z"
   },
   {
    "duration": 39,
    "start_time": "2022-08-24T18:53:02.522Z"
   },
   {
    "duration": 53,
    "start_time": "2022-08-24T18:53:02.564Z"
   },
   {
    "duration": 28,
    "start_time": "2022-08-24T18:53:02.619Z"
   },
   {
    "duration": 48,
    "start_time": "2022-08-24T18:53:02.648Z"
   },
   {
    "duration": 50,
    "start_time": "2022-08-24T18:53:02.698Z"
   },
   {
    "duration": 22,
    "start_time": "2022-08-24T18:53:02.751Z"
   },
   {
    "duration": 34,
    "start_time": "2022-08-24T18:53:02.775Z"
   },
   {
    "duration": 43,
    "start_time": "2022-08-24T18:53:02.811Z"
   },
   {
    "duration": 499,
    "start_time": "2022-08-24T18:53:02.857Z"
   },
   {
    "duration": 104,
    "start_time": "2022-08-24T18:53:03.360Z"
   },
   {
    "duration": 39,
    "start_time": "2022-08-24T18:53:03.466Z"
   },
   {
    "duration": 5,
    "start_time": "2022-08-24T18:53:03.508Z"
   },
   {
    "duration": 19,
    "start_time": "2022-08-24T18:53:03.515Z"
   },
   {
    "duration": 18,
    "start_time": "2022-08-24T18:53:03.535Z"
   },
   {
    "duration": 42,
    "start_time": "2022-08-24T18:53:03.555Z"
   },
   {
    "duration": 17,
    "start_time": "2022-08-24T18:53:03.602Z"
   },
   {
    "duration": 540,
    "start_time": "2022-08-24T18:53:03.621Z"
   },
   {
    "duration": 522,
    "start_time": "2022-08-24T18:53:04.162Z"
   },
   {
    "duration": 29,
    "start_time": "2022-08-24T18:53:04.686Z"
   },
   {
    "duration": 17,
    "start_time": "2022-08-24T18:53:04.717Z"
   },
   {
    "duration": 31,
    "start_time": "2022-08-24T18:53:04.736Z"
   },
   {
    "duration": 278,
    "start_time": "2022-08-24T18:53:04.792Z"
   },
   {
    "duration": 8,
    "start_time": "2022-08-24T18:53:05.072Z"
   },
   {
    "duration": 37,
    "start_time": "2022-08-24T18:53:05.092Z"
   },
   {
    "duration": 443,
    "start_time": "2022-08-24T18:53:05.131Z"
   },
   {
    "duration": 478,
    "start_time": "2022-08-24T18:53:05.575Z"
   },
   {
    "duration": 27,
    "start_time": "2022-08-24T18:53:06.055Z"
   },
   {
    "duration": 484,
    "start_time": "2022-08-24T18:53:06.092Z"
   },
   {
    "duration": 316,
    "start_time": "2022-08-24T18:53:06.578Z"
   },
   {
    "duration": 429,
    "start_time": "2022-08-24T18:53:06.895Z"
   },
   {
    "duration": 18,
    "start_time": "2022-08-24T18:53:07.326Z"
   },
   {
    "duration": 28,
    "start_time": "2022-08-24T18:53:07.346Z"
   },
   {
    "duration": 33,
    "start_time": "2022-08-24T18:53:07.376Z"
   },
   {
    "duration": 293,
    "start_time": "2022-08-24T18:53:07.411Z"
   },
   {
    "duration": 276,
    "start_time": "2022-08-24T18:53:07.706Z"
   },
   {
    "duration": 28,
    "start_time": "2022-08-24T18:53:07.984Z"
   },
   {
    "duration": 11,
    "start_time": "2022-08-24T18:53:08.014Z"
   },
   {
    "duration": 25,
    "start_time": "2022-08-24T18:53:08.027Z"
   },
   {
    "duration": 284,
    "start_time": "2022-08-24T18:53:08.054Z"
   },
   {
    "duration": 231,
    "start_time": "2022-08-24T18:53:08.340Z"
   },
   {
    "duration": 42,
    "start_time": "2022-08-24T18:53:08.574Z"
   },
   {
    "duration": 92,
    "start_time": "2022-08-24T18:53:08.622Z"
   },
   {
    "duration": 130,
    "start_time": "2022-08-24T18:53:08.716Z"
   },
   {
    "duration": 45,
    "start_time": "2022-08-24T18:53:08.848Z"
   },
   {
    "duration": 163,
    "start_time": "2022-08-24T18:53:08.896Z"
   },
   {
    "duration": 98,
    "start_time": "2022-08-24T18:53:09.061Z"
   },
   {
    "duration": 5,
    "start_time": "2022-08-24T18:53:09.161Z"
   },
   {
    "duration": 109,
    "start_time": "2022-08-24T18:53:09.169Z"
   },
   {
    "duration": 84,
    "start_time": "2022-08-24T18:53:09.279Z"
   },
   {
    "duration": 892,
    "start_time": "2022-08-24T18:53:09.365Z"
   },
   {
    "duration": 486,
    "start_time": "2022-08-24T18:53:10.259Z"
   },
   {
    "duration": 5,
    "start_time": "2022-08-24T18:53:10.747Z"
   },
   {
    "duration": 8,
    "start_time": "2022-08-24T18:53:10.754Z"
   },
   {
    "duration": 22,
    "start_time": "2022-08-24T18:53:10.764Z"
   },
   {
    "duration": 162,
    "start_time": "2022-08-24T18:53:10.788Z"
   },
   {
    "duration": 4,
    "start_time": "2022-08-24T18:53:10.953Z"
   },
   {
    "duration": 6,
    "start_time": "2022-08-24T18:53:10.959Z"
   },
   {
    "duration": 4171,
    "start_time": "2022-08-24T18:53:10.968Z"
   },
   {
    "duration": 413,
    "start_time": "2022-08-24T18:53:15.141Z"
   },
   {
    "duration": 150,
    "start_time": "2022-08-24T18:53:15.556Z"
   },
   {
    "duration": 7,
    "start_time": "2022-08-24T18:53:15.708Z"
   },
   {
    "duration": 10,
    "start_time": "2022-08-24T18:53:15.717Z"
   },
   {
    "duration": 20,
    "start_time": "2022-08-24T18:53:15.729Z"
   },
   {
    "duration": 7,
    "start_time": "2022-08-24T18:53:15.751Z"
   },
   {
    "duration": 260755,
    "start_time": "2022-08-24T18:53:15.760Z"
   },
   {
    "duration": 2807,
    "start_time": "2022-08-24T18:57:36.516Z"
   },
   {
    "duration": 955,
    "start_time": "2022-08-24T18:57:39.325Z"
   },
   {
    "duration": 11,
    "start_time": "2022-08-24T18:57:40.282Z"
   },
   {
    "duration": 5,
    "start_time": "2022-08-24T18:57:40.295Z"
   },
   {
    "duration": 3,
    "start_time": "2022-08-24T18:57:40.307Z"
   },
   {
    "duration": 11,
    "start_time": "2022-08-24T18:57:40.312Z"
   },
   {
    "duration": 7,
    "start_time": "2022-08-24T18:57:40.325Z"
   },
   {
    "duration": 110105,
    "start_time": "2022-08-24T18:57:40.334Z"
   },
   {
    "duration": 5,
    "start_time": "2022-08-24T18:59:30.442Z"
   },
   {
    "duration": 71,
    "start_time": "2022-08-24T18:59:30.449Z"
   },
   {
    "duration": 90,
    "start_time": "2022-08-24T18:59:30.523Z"
   },
   {
    "duration": 55513,
    "start_time": "2022-08-24T18:59:30.615Z"
   },
   {
    "duration": 0,
    "start_time": "2022-08-24T19:00:26.131Z"
   },
   {
    "duration": 0,
    "start_time": "2022-08-24T19:00:26.132Z"
   },
   {
    "duration": 0,
    "start_time": "2022-08-24T19:00:26.133Z"
   },
   {
    "duration": 0,
    "start_time": "2022-08-24T19:00:26.134Z"
   },
   {
    "duration": 0,
    "start_time": "2022-08-24T19:00:26.135Z"
   },
   {
    "duration": 0,
    "start_time": "2022-08-24T19:00:26.137Z"
   },
   {
    "duration": 0,
    "start_time": "2022-08-24T19:00:26.139Z"
   },
   {
    "duration": 0,
    "start_time": "2022-08-24T19:00:26.140Z"
   },
   {
    "duration": 0,
    "start_time": "2022-08-24T19:00:26.141Z"
   },
   {
    "duration": 0,
    "start_time": "2022-08-24T19:00:26.142Z"
   },
   {
    "duration": 0,
    "start_time": "2022-08-24T19:00:26.146Z"
   },
   {
    "duration": 0,
    "start_time": "2022-08-24T19:00:26.148Z"
   },
   {
    "duration": 1559,
    "start_time": "2022-08-24T19:03:01.378Z"
   },
   {
    "duration": 995,
    "start_time": "2022-08-24T19:03:02.939Z"
   },
   {
    "duration": 44,
    "start_time": "2022-08-24T19:03:03.936Z"
   },
   {
    "duration": 5,
    "start_time": "2022-08-24T19:03:03.991Z"
   },
   {
    "duration": 66,
    "start_time": "2022-08-24T19:03:03.999Z"
   },
   {
    "duration": 168,
    "start_time": "2022-08-24T19:03:04.067Z"
   },
   {
    "duration": 155,
    "start_time": "2022-08-24T19:03:04.237Z"
   },
   {
    "duration": 548,
    "start_time": "2022-08-24T19:03:04.394Z"
   },
   {
    "duration": 677,
    "start_time": "2022-08-24T19:03:04.944Z"
   },
   {
    "duration": 124,
    "start_time": "2022-08-24T19:03:05.625Z"
   },
   {
    "duration": 1016,
    "start_time": "2022-08-24T19:03:05.751Z"
   },
   {
    "duration": 5,
    "start_time": "2022-08-24T19:03:06.769Z"
   },
   {
    "duration": 69,
    "start_time": "2022-08-24T19:03:06.775Z"
   },
   {
    "duration": 47,
    "start_time": "2022-08-24T19:03:06.846Z"
   },
   {
    "duration": 41,
    "start_time": "2022-08-24T19:03:06.895Z"
   },
   {
    "duration": 43,
    "start_time": "2022-08-24T19:03:06.938Z"
   },
   {
    "duration": 44,
    "start_time": "2022-08-24T19:03:06.984Z"
   },
   {
    "duration": 24,
    "start_time": "2022-08-24T19:03:07.030Z"
   },
   {
    "duration": 39,
    "start_time": "2022-08-24T19:03:07.056Z"
   },
   {
    "duration": 48,
    "start_time": "2022-08-24T19:03:07.097Z"
   },
   {
    "duration": 467,
    "start_time": "2022-08-24T19:03:07.151Z"
   },
   {
    "duration": 87,
    "start_time": "2022-08-24T19:03:07.620Z"
   },
   {
    "duration": 28,
    "start_time": "2022-08-24T19:03:07.709Z"
   },
   {
    "duration": 4,
    "start_time": "2022-08-24T19:03:07.739Z"
   },
   {
    "duration": 19,
    "start_time": "2022-08-24T19:03:07.746Z"
   },
   {
    "duration": 46,
    "start_time": "2022-08-24T19:03:07.767Z"
   },
   {
    "duration": 24,
    "start_time": "2022-08-24T19:03:07.815Z"
   },
   {
    "duration": 18,
    "start_time": "2022-08-24T19:03:07.845Z"
   },
   {
    "duration": 530,
    "start_time": "2022-08-24T19:03:07.891Z"
   },
   {
    "duration": 536,
    "start_time": "2022-08-24T19:03:08.423Z"
   },
   {
    "duration": 36,
    "start_time": "2022-08-24T19:03:08.961Z"
   },
   {
    "duration": 17,
    "start_time": "2022-08-24T19:03:08.999Z"
   },
   {
    "duration": 35,
    "start_time": "2022-08-24T19:03:09.019Z"
   },
   {
    "duration": 302,
    "start_time": "2022-08-24T19:03:09.056Z"
   },
   {
    "duration": 9,
    "start_time": "2022-08-24T19:03:09.360Z"
   },
   {
    "duration": 54,
    "start_time": "2022-08-24T19:03:09.371Z"
   },
   {
    "duration": 482,
    "start_time": "2022-08-24T19:03:09.428Z"
   },
   {
    "duration": 589,
    "start_time": "2022-08-24T19:03:09.912Z"
   },
   {
    "duration": 29,
    "start_time": "2022-08-24T19:03:10.504Z"
   },
   {
    "duration": 605,
    "start_time": "2022-08-24T19:03:10.536Z"
   },
   {
    "duration": 337,
    "start_time": "2022-08-24T19:03:11.143Z"
   },
   {
    "duration": 554,
    "start_time": "2022-08-24T19:03:11.483Z"
   },
   {
    "duration": 27,
    "start_time": "2022-08-24T19:03:12.039Z"
   },
   {
    "duration": 51,
    "start_time": "2022-08-24T19:03:12.068Z"
   },
   {
    "duration": 26,
    "start_time": "2022-08-24T19:03:12.121Z"
   },
   {
    "duration": 351,
    "start_time": "2022-08-24T19:03:12.149Z"
   },
   {
    "duration": 303,
    "start_time": "2022-08-24T19:03:12.502Z"
   },
   {
    "duration": 21,
    "start_time": "2022-08-24T19:03:12.808Z"
   },
   {
    "duration": 10,
    "start_time": "2022-08-24T19:03:12.831Z"
   },
   {
    "duration": 50,
    "start_time": "2022-08-24T19:03:12.843Z"
   },
   {
    "duration": 226,
    "start_time": "2022-08-24T19:03:12.896Z"
   },
   {
    "duration": 232,
    "start_time": "2022-08-24T19:03:13.124Z"
   },
   {
    "duration": 36,
    "start_time": "2022-08-24T19:03:13.357Z"
   },
   {
    "duration": 81,
    "start_time": "2022-08-24T19:03:13.396Z"
   },
   {
    "duration": 138,
    "start_time": "2022-08-24T19:03:13.478Z"
   },
   {
    "duration": 25,
    "start_time": "2022-08-24T19:03:13.618Z"
   },
   {
    "duration": 131,
    "start_time": "2022-08-24T19:03:13.645Z"
   },
   {
    "duration": 89,
    "start_time": "2022-08-24T19:03:13.778Z"
   },
   {
    "duration": 4,
    "start_time": "2022-08-24T19:03:13.869Z"
   },
   {
    "duration": 90,
    "start_time": "2022-08-24T19:03:13.893Z"
   },
   {
    "duration": 94,
    "start_time": "2022-08-24T19:03:13.985Z"
   },
   {
    "duration": 795,
    "start_time": "2022-08-24T19:03:14.092Z"
   },
   {
    "duration": 489,
    "start_time": "2022-08-24T19:03:14.888Z"
   },
   {
    "duration": 4,
    "start_time": "2022-08-24T19:03:15.379Z"
   },
   {
    "duration": 15,
    "start_time": "2022-08-24T19:03:15.385Z"
   },
   {
    "duration": 10,
    "start_time": "2022-08-24T19:03:15.403Z"
   },
   {
    "duration": 168,
    "start_time": "2022-08-24T19:03:15.415Z"
   },
   {
    "duration": 8,
    "start_time": "2022-08-24T19:03:15.585Z"
   },
   {
    "duration": 15,
    "start_time": "2022-08-24T19:03:15.597Z"
   },
   {
    "duration": 6,
    "start_time": "2022-08-24T19:03:15.614Z"
   },
   {
    "duration": 4228,
    "start_time": "2022-08-24T19:03:15.623Z"
   },
   {
    "duration": 397,
    "start_time": "2022-08-24T19:03:19.852Z"
   },
   {
    "duration": 146,
    "start_time": "2022-08-24T19:03:20.251Z"
   },
   {
    "duration": 5,
    "start_time": "2022-08-24T19:03:20.399Z"
   },
   {
    "duration": 4,
    "start_time": "2022-08-24T19:03:20.406Z"
   },
   {
    "duration": 8,
    "start_time": "2022-08-24T19:03:20.411Z"
   },
   {
    "duration": 4,
    "start_time": "2022-08-24T19:03:20.421Z"
   },
   {
    "duration": 260317,
    "start_time": "2022-08-24T19:03:20.427Z"
   },
   {
    "duration": 2729,
    "start_time": "2022-08-24T19:07:40.745Z"
   },
   {
    "duration": 927,
    "start_time": "2022-08-24T19:07:43.475Z"
   },
   {
    "duration": 6,
    "start_time": "2022-08-24T19:07:44.404Z"
   },
   {
    "duration": 9,
    "start_time": "2022-08-24T19:07:44.416Z"
   },
   {
    "duration": 18,
    "start_time": "2022-08-24T19:07:44.427Z"
   },
   {
    "duration": 17,
    "start_time": "2022-08-24T19:07:44.447Z"
   },
   {
    "duration": 15,
    "start_time": "2022-08-24T19:07:44.466Z"
   },
   {
    "duration": 5,
    "start_time": "2022-08-24T19:11:31.417Z"
   },
   {
    "duration": 12,
    "start_time": "2022-08-24T19:11:31.424Z"
   },
   {
    "duration": 77881,
    "start_time": "2022-08-24T19:11:31.439Z"
   },
   {
    "duration": 1709,
    "start_time": "2022-08-24T19:19:20.522Z"
   },
   {
    "duration": 1113,
    "start_time": "2022-08-24T19:19:22.236Z"
   },
   {
    "duration": 31,
    "start_time": "2022-08-24T19:19:23.351Z"
   },
   {
    "duration": 14,
    "start_time": "2022-08-24T19:19:23.384Z"
   },
   {
    "duration": 91,
    "start_time": "2022-08-24T19:19:23.401Z"
   },
   {
    "duration": 182,
    "start_time": "2022-08-24T19:19:23.495Z"
   },
   {
    "duration": 205,
    "start_time": "2022-08-24T19:19:23.680Z"
   },
   {
    "duration": 645,
    "start_time": "2022-08-24T19:19:23.887Z"
   },
   {
    "duration": 811,
    "start_time": "2022-08-24T19:19:24.534Z"
   },
   {
    "duration": 116,
    "start_time": "2022-08-24T19:19:25.347Z"
   },
   {
    "duration": 1161,
    "start_time": "2022-08-24T19:19:25.465Z"
   },
   {
    "duration": 4,
    "start_time": "2022-08-24T19:19:26.628Z"
   },
   {
    "duration": 66,
    "start_time": "2022-08-24T19:19:26.634Z"
   },
   {
    "duration": 84,
    "start_time": "2022-08-24T19:19:26.704Z"
   },
   {
    "duration": 75,
    "start_time": "2022-08-24T19:19:26.790Z"
   },
   {
    "duration": 86,
    "start_time": "2022-08-24T19:19:26.867Z"
   },
   {
    "duration": 41,
    "start_time": "2022-08-24T19:19:26.956Z"
   },
   {
    "duration": 31,
    "start_time": "2022-08-24T19:19:26.999Z"
   },
   {
    "duration": 27,
    "start_time": "2022-08-24T19:19:27.032Z"
   },
   {
    "duration": 48,
    "start_time": "2022-08-24T19:19:27.061Z"
   },
   {
    "duration": 507,
    "start_time": "2022-08-24T19:19:27.111Z"
   },
   {
    "duration": 83,
    "start_time": "2022-08-24T19:19:27.622Z"
   },
   {
    "duration": 33,
    "start_time": "2022-08-24T19:19:27.707Z"
   },
   {
    "duration": 4,
    "start_time": "2022-08-24T19:19:27.742Z"
   },
   {
    "duration": 26,
    "start_time": "2022-08-24T19:19:27.748Z"
   },
   {
    "duration": 35,
    "start_time": "2022-08-24T19:19:27.778Z"
   },
   {
    "duration": 36,
    "start_time": "2022-08-24T19:19:27.816Z"
   },
   {
    "duration": 23,
    "start_time": "2022-08-24T19:19:27.853Z"
   },
   {
    "duration": 588,
    "start_time": "2022-08-24T19:19:27.878Z"
   },
   {
    "duration": 659,
    "start_time": "2022-08-24T19:19:28.469Z"
   },
   {
    "duration": 26,
    "start_time": "2022-08-24T19:19:29.131Z"
   },
   {
    "duration": 40,
    "start_time": "2022-08-24T19:19:29.159Z"
   },
   {
    "duration": 47,
    "start_time": "2022-08-24T19:19:29.201Z"
   },
   {
    "duration": 326,
    "start_time": "2022-08-24T19:19:29.250Z"
   },
   {
    "duration": 23,
    "start_time": "2022-08-24T19:19:29.578Z"
   },
   {
    "duration": 41,
    "start_time": "2022-08-24T19:19:29.604Z"
   },
   {
    "duration": 511,
    "start_time": "2022-08-24T19:19:29.648Z"
   },
   {
    "duration": 630,
    "start_time": "2022-08-24T19:19:30.160Z"
   },
   {
    "duration": 34,
    "start_time": "2022-08-24T19:19:30.799Z"
   },
   {
    "duration": 593,
    "start_time": "2022-08-24T19:19:30.835Z"
   },
   {
    "duration": 385,
    "start_time": "2022-08-24T19:19:31.434Z"
   },
   {
    "duration": 628,
    "start_time": "2022-08-24T19:19:31.821Z"
   },
   {
    "duration": 18,
    "start_time": "2022-08-24T19:19:32.451Z"
   },
   {
    "duration": 49,
    "start_time": "2022-08-24T19:19:32.471Z"
   },
   {
    "duration": 25,
    "start_time": "2022-08-24T19:19:32.523Z"
   },
   {
    "duration": 341,
    "start_time": "2022-08-24T19:19:32.550Z"
   },
   {
    "duration": 333,
    "start_time": "2022-08-24T19:19:32.893Z"
   },
   {
    "duration": 22,
    "start_time": "2022-08-24T19:19:33.228Z"
   },
   {
    "duration": 10,
    "start_time": "2022-08-24T19:19:33.252Z"
   },
   {
    "duration": 63,
    "start_time": "2022-08-24T19:19:33.263Z"
   },
   {
    "duration": 248,
    "start_time": "2022-08-24T19:19:33.328Z"
   },
   {
    "duration": 245,
    "start_time": "2022-08-24T19:19:33.578Z"
   },
   {
    "duration": 33,
    "start_time": "2022-08-24T19:19:33.827Z"
   },
   {
    "duration": 97,
    "start_time": "2022-08-24T19:19:33.862Z"
   },
   {
    "duration": 150,
    "start_time": "2022-08-24T19:19:33.962Z"
   },
   {
    "duration": 26,
    "start_time": "2022-08-24T19:19:34.114Z"
   },
   {
    "duration": 124,
    "start_time": "2022-08-24T19:19:34.142Z"
   },
   {
    "duration": 119,
    "start_time": "2022-08-24T19:19:34.268Z"
   },
   {
    "duration": 9,
    "start_time": "2022-08-24T19:19:34.389Z"
   },
   {
    "duration": 149,
    "start_time": "2022-08-24T19:19:34.400Z"
   },
   {
    "duration": 103,
    "start_time": "2022-08-24T19:19:34.551Z"
   },
   {
    "duration": 881,
    "start_time": "2022-08-24T19:19:34.656Z"
   },
   {
    "duration": 530,
    "start_time": "2022-08-24T19:19:35.538Z"
   },
   {
    "duration": 4,
    "start_time": "2022-08-24T19:19:36.070Z"
   },
   {
    "duration": 55,
    "start_time": "2022-08-24T19:19:36.076Z"
   },
   {
    "duration": 18,
    "start_time": "2022-08-24T19:19:36.132Z"
   },
   {
    "duration": 204,
    "start_time": "2022-08-24T19:19:36.151Z"
   },
   {
    "duration": 4,
    "start_time": "2022-08-24T19:19:36.358Z"
   },
   {
    "duration": 73,
    "start_time": "2022-08-24T19:19:36.363Z"
   },
   {
    "duration": 43,
    "start_time": "2022-08-24T19:19:36.439Z"
   },
   {
    "duration": 4886,
    "start_time": "2022-08-24T19:19:36.483Z"
   },
   {
    "duration": 428,
    "start_time": "2022-08-24T19:19:41.371Z"
   },
   {
    "duration": 173,
    "start_time": "2022-08-24T19:19:41.801Z"
   },
   {
    "duration": 22,
    "start_time": "2022-08-24T19:19:41.977Z"
   },
   {
    "duration": 39,
    "start_time": "2022-08-24T19:19:42.001Z"
   },
   {
    "duration": 17,
    "start_time": "2022-08-24T19:19:42.042Z"
   },
   {
    "duration": 16,
    "start_time": "2022-08-24T19:19:42.061Z"
   },
   {
    "duration": 281264,
    "start_time": "2022-08-24T19:19:42.079Z"
   },
   {
    "duration": 2886,
    "start_time": "2022-08-24T19:24:23.345Z"
   },
   {
    "duration": 1001,
    "start_time": "2022-08-24T19:24:26.233Z"
   },
   {
    "duration": 7,
    "start_time": "2022-08-24T19:24:27.237Z"
   },
   {
    "duration": 5,
    "start_time": "2022-08-24T19:24:27.246Z"
   },
   {
    "duration": 6,
    "start_time": "2022-08-24T19:24:27.253Z"
   },
   {
    "duration": 10,
    "start_time": "2022-08-24T19:24:27.261Z"
   },
   {
    "duration": 37,
    "start_time": "2022-08-24T19:24:27.273Z"
   },
   {
    "duration": 1698,
    "start_time": "2022-08-24T19:29:30.938Z"
   },
   {
    "duration": 1135,
    "start_time": "2022-08-24T19:29:32.638Z"
   },
   {
    "duration": 52,
    "start_time": "2022-08-24T19:29:33.775Z"
   },
   {
    "duration": 7,
    "start_time": "2022-08-24T19:29:33.831Z"
   },
   {
    "duration": 78,
    "start_time": "2022-08-24T19:29:33.839Z"
   },
   {
    "duration": 195,
    "start_time": "2022-08-24T19:29:33.926Z"
   },
   {
    "duration": 179,
    "start_time": "2022-08-24T19:29:34.123Z"
   },
   {
    "duration": 636,
    "start_time": "2022-08-24T19:29:34.305Z"
   },
   {
    "duration": 789,
    "start_time": "2022-08-24T19:29:34.943Z"
   },
   {
    "duration": 121,
    "start_time": "2022-08-24T19:29:35.735Z"
   },
   {
    "duration": 1187,
    "start_time": "2022-08-24T19:29:35.858Z"
   },
   {
    "duration": 4,
    "start_time": "2022-08-24T19:29:37.047Z"
   },
   {
    "duration": 48,
    "start_time": "2022-08-24T19:29:37.053Z"
   },
   {
    "duration": 62,
    "start_time": "2022-08-24T19:29:37.103Z"
   },
   {
    "duration": 37,
    "start_time": "2022-08-24T19:29:37.167Z"
   },
   {
    "duration": 55,
    "start_time": "2022-08-24T19:29:37.208Z"
   },
   {
    "duration": 60,
    "start_time": "2022-08-24T19:29:37.265Z"
   },
   {
    "duration": 25,
    "start_time": "2022-08-24T19:29:37.327Z"
   },
   {
    "duration": 18,
    "start_time": "2022-08-24T19:29:37.354Z"
   },
   {
    "duration": 64,
    "start_time": "2022-08-24T19:29:37.373Z"
   },
   {
    "duration": 491,
    "start_time": "2022-08-24T19:29:37.439Z"
   },
   {
    "duration": 108,
    "start_time": "2022-08-24T19:29:37.932Z"
   },
   {
    "duration": 30,
    "start_time": "2022-08-24T19:29:38.042Z"
   },
   {
    "duration": 5,
    "start_time": "2022-08-24T19:29:38.074Z"
   },
   {
    "duration": 24,
    "start_time": "2022-08-24T19:29:38.096Z"
   },
   {
    "duration": 28,
    "start_time": "2022-08-24T19:29:38.123Z"
   },
   {
    "duration": 20,
    "start_time": "2022-08-24T19:29:38.153Z"
   },
   {
    "duration": 55,
    "start_time": "2022-08-24T19:29:38.179Z"
   },
   {
    "duration": 624,
    "start_time": "2022-08-24T19:29:38.237Z"
   },
   {
    "duration": 695,
    "start_time": "2022-08-24T19:29:38.863Z"
   },
   {
    "duration": 47,
    "start_time": "2022-08-24T19:29:39.561Z"
   },
   {
    "duration": 42,
    "start_time": "2022-08-24T19:29:39.610Z"
   },
   {
    "duration": 68,
    "start_time": "2022-08-24T19:29:39.654Z"
   },
   {
    "duration": 327,
    "start_time": "2022-08-24T19:29:39.725Z"
   },
   {
    "duration": 9,
    "start_time": "2022-08-24T19:29:40.055Z"
   },
   {
    "duration": 58,
    "start_time": "2022-08-24T19:29:40.067Z"
   },
   {
    "duration": 557,
    "start_time": "2022-08-24T19:29:40.127Z"
   },
   {
    "duration": 582,
    "start_time": "2022-08-24T19:29:40.686Z"
   },
   {
    "duration": 45,
    "start_time": "2022-08-24T19:29:41.270Z"
   },
   {
    "duration": 571,
    "start_time": "2022-08-24T19:29:41.318Z"
   },
   {
    "duration": 428,
    "start_time": "2022-08-24T19:29:41.891Z"
   },
   {
    "duration": 477,
    "start_time": "2022-08-24T19:29:42.324Z"
   },
   {
    "duration": 25,
    "start_time": "2022-08-24T19:29:42.804Z"
   },
   {
    "duration": 34,
    "start_time": "2022-08-24T19:29:42.831Z"
   },
   {
    "duration": 38,
    "start_time": "2022-08-24T19:29:42.867Z"
   },
   {
    "duration": 356,
    "start_time": "2022-08-24T19:29:42.907Z"
   },
   {
    "duration": 321,
    "start_time": "2022-08-24T19:29:43.265Z"
   },
   {
    "duration": 32,
    "start_time": "2022-08-24T19:29:43.588Z"
   },
   {
    "duration": 14,
    "start_time": "2022-08-24T19:29:43.624Z"
   },
   {
    "duration": 27,
    "start_time": "2022-08-24T19:29:43.639Z"
   },
   {
    "duration": 261,
    "start_time": "2022-08-24T19:29:43.668Z"
   },
   {
    "duration": 236,
    "start_time": "2022-08-24T19:29:43.930Z"
   },
   {
    "duration": 55,
    "start_time": "2022-08-24T19:29:44.167Z"
   },
   {
    "duration": 108,
    "start_time": "2022-08-24T19:29:44.224Z"
   },
   {
    "duration": 142,
    "start_time": "2022-08-24T19:29:44.334Z"
   },
   {
    "duration": 44,
    "start_time": "2022-08-24T19:29:44.479Z"
   },
   {
    "duration": 117,
    "start_time": "2022-08-24T19:29:44.525Z"
   },
   {
    "duration": 118,
    "start_time": "2022-08-24T19:29:44.644Z"
   },
   {
    "duration": 5,
    "start_time": "2022-08-24T19:29:44.765Z"
   },
   {
    "duration": 111,
    "start_time": "2022-08-24T19:29:44.772Z"
   },
   {
    "duration": 106,
    "start_time": "2022-08-24T19:29:44.885Z"
   },
   {
    "duration": 892,
    "start_time": "2022-08-24T19:29:44.997Z"
   },
   {
    "duration": 519,
    "start_time": "2022-08-24T19:29:45.891Z"
   },
   {
    "duration": 5,
    "start_time": "2022-08-24T19:29:46.412Z"
   },
   {
    "duration": 29,
    "start_time": "2022-08-24T19:29:46.419Z"
   },
   {
    "duration": 6,
    "start_time": "2022-08-24T19:29:46.450Z"
   },
   {
    "duration": 208,
    "start_time": "2022-08-24T19:29:46.458Z"
   },
   {
    "duration": 3,
    "start_time": "2022-08-24T19:29:46.668Z"
   },
   {
    "duration": 67,
    "start_time": "2022-08-24T19:29:46.673Z"
   },
   {
    "duration": 37,
    "start_time": "2022-08-24T19:29:46.742Z"
   },
   {
    "duration": 4925,
    "start_time": "2022-08-24T19:29:46.782Z"
   },
   {
    "duration": 474,
    "start_time": "2022-08-24T19:29:51.710Z"
   },
   {
    "duration": 171,
    "start_time": "2022-08-24T19:29:52.187Z"
   },
   {
    "duration": 8,
    "start_time": "2022-08-24T19:29:52.360Z"
   },
   {
    "duration": 23,
    "start_time": "2022-08-24T19:29:52.371Z"
   },
   {
    "duration": 42,
    "start_time": "2022-08-24T19:29:52.396Z"
   },
   {
    "duration": 23,
    "start_time": "2022-08-24T19:29:52.441Z"
   },
   {
    "duration": 283943,
    "start_time": "2022-08-24T19:29:52.465Z"
   },
   {
    "duration": 2844,
    "start_time": "2022-08-24T19:34:36.410Z"
   },
   {
    "duration": 1076,
    "start_time": "2022-08-24T19:34:39.256Z"
   },
   {
    "duration": 7,
    "start_time": "2022-08-24T19:34:40.334Z"
   },
   {
    "duration": 4,
    "start_time": "2022-08-24T19:34:40.348Z"
   },
   {
    "duration": 14,
    "start_time": "2022-08-24T19:34:40.355Z"
   },
   {
    "duration": 28,
    "start_time": "2022-08-24T19:34:40.371Z"
   },
   {
    "duration": 15,
    "start_time": "2022-08-24T19:34:40.404Z"
   },
   {
    "duration": 11,
    "start_time": "2022-08-24T19:34:40.421Z"
   },
   {
    "duration": 13,
    "start_time": "2022-08-24T19:34:40.434Z"
   },
   {
    "duration": 6,
    "start_time": "2022-08-24T19:34:40.449Z"
   },
   {
    "duration": 89778,
    "start_time": "2022-08-24T19:34:40.458Z"
   },
   {
    "duration": 77335,
    "start_time": "2022-08-24T19:36:10.238Z"
   },
   {
    "duration": 5,
    "start_time": "2022-08-24T19:37:27.575Z"
   },
   {
    "duration": 7,
    "start_time": "2022-08-24T19:37:27.582Z"
   },
   {
    "duration": 11,
    "start_time": "2022-08-24T19:37:27.598Z"
   },
   {
    "duration": 443491,
    "start_time": "2022-08-24T19:37:27.611Z"
   },
   {
    "duration": 86,
    "start_time": "2022-08-24T19:44:51.104Z"
   },
   {
    "duration": 12,
    "start_time": "2022-08-24T19:44:51.192Z"
   },
   {
    "duration": 0,
    "start_time": "2022-08-24T19:44:51.206Z"
   },
   {
    "duration": 0,
    "start_time": "2022-08-24T19:44:51.208Z"
   },
   {
    "duration": 0,
    "start_time": "2022-08-24T19:44:51.209Z"
   },
   {
    "duration": 0,
    "start_time": "2022-08-24T19:44:51.211Z"
   },
   {
    "duration": 1657,
    "start_time": "2022-08-25T11:53:52.820Z"
   },
   {
    "duration": 696,
    "start_time": "2022-08-25T11:53:55.138Z"
   },
   {
    "duration": 25,
    "start_time": "2022-08-25T11:53:56.434Z"
   },
   {
    "duration": 4,
    "start_time": "2022-08-25T11:53:58.350Z"
   },
   {
    "duration": 48,
    "start_time": "2022-08-25T11:53:58.802Z"
   },
   {
    "duration": 108,
    "start_time": "2022-08-25T11:53:59.297Z"
   },
   {
    "duration": 100,
    "start_time": "2022-08-25T11:54:00.095Z"
   },
   {
    "duration": 376,
    "start_time": "2022-08-25T11:54:01.843Z"
   },
   {
    "duration": 491,
    "start_time": "2022-08-25T11:54:02.972Z"
   },
   {
    "duration": 87,
    "start_time": "2022-08-25T11:54:03.841Z"
   },
   {
    "duration": 620,
    "start_time": "2022-08-25T11:54:05.572Z"
   },
   {
    "duration": 4,
    "start_time": "2022-08-25T11:54:09.264Z"
   },
   {
    "duration": 30,
    "start_time": "2022-08-25T11:54:09.579Z"
   },
   {
    "duration": 28,
    "start_time": "2022-08-25T11:54:09.824Z"
   },
   {
    "duration": 19,
    "start_time": "2022-08-25T11:54:10.053Z"
   },
   {
    "duration": 31,
    "start_time": "2022-08-25T11:54:10.462Z"
   },
   {
    "duration": 23,
    "start_time": "2022-08-25T11:54:10.709Z"
   },
   {
    "duration": 15,
    "start_time": "2022-08-25T11:54:11.267Z"
   },
   {
    "duration": 12,
    "start_time": "2022-08-25T11:54:11.787Z"
   },
   {
    "duration": 32,
    "start_time": "2022-08-25T11:54:12.412Z"
   },
   {
    "duration": 342,
    "start_time": "2022-08-25T11:54:13.100Z"
   },
   {
    "duration": 76,
    "start_time": "2022-08-25T11:54:14.686Z"
   },
   {
    "duration": 25,
    "start_time": "2022-08-25T11:54:26.261Z"
   },
   {
    "duration": 4,
    "start_time": "2022-08-25T11:54:28.285Z"
   },
   {
    "duration": 12,
    "start_time": "2022-08-25T11:54:30.928Z"
   },
   {
    "duration": 12,
    "start_time": "2022-08-25T11:54:35.241Z"
   },
   {
    "duration": 16,
    "start_time": "2022-08-25T11:54:36.799Z"
   },
   {
    "duration": 11,
    "start_time": "2022-08-25T11:54:43.789Z"
   },
   {
    "duration": 370,
    "start_time": "2022-08-25T11:54:45.961Z"
   },
   {
    "duration": 388,
    "start_time": "2022-08-25T11:54:46.332Z"
   },
   {
    "duration": 24,
    "start_time": "2022-08-25T11:54:49.438Z"
   },
   {
    "duration": 13,
    "start_time": "2022-08-25T11:54:50.097Z"
   },
   {
    "duration": 32,
    "start_time": "2022-08-25T11:54:52.308Z"
   },
   {
    "duration": 205,
    "start_time": "2022-08-25T11:57:04.107Z"
   },
   {
    "duration": 8,
    "start_time": "2022-08-25T11:57:04.672Z"
   },
   {
    "duration": 28,
    "start_time": "2022-08-25T11:57:04.923Z"
   },
   {
    "duration": 311,
    "start_time": "2022-08-25T11:57:05.121Z"
   },
   {
    "duration": 322,
    "start_time": "2022-08-25T11:57:05.471Z"
   },
   {
    "duration": 23,
    "start_time": "2022-08-25T11:57:05.812Z"
   },
   {
    "duration": 319,
    "start_time": "2022-08-25T11:57:06.158Z"
   },
   {
    "duration": 245,
    "start_time": "2022-08-25T11:57:06.525Z"
   },
   {
    "duration": 313,
    "start_time": "2022-08-25T11:57:06.772Z"
   },
   {
    "duration": 15,
    "start_time": "2022-08-25T11:57:07.344Z"
   },
   {
    "duration": 24,
    "start_time": "2022-08-25T11:57:07.733Z"
   },
   {
    "duration": 16,
    "start_time": "2022-08-25T11:57:08.712Z"
   },
   {
    "duration": 217,
    "start_time": "2022-08-25T11:57:09.658Z"
   },
   {
    "duration": 198,
    "start_time": "2022-08-25T11:57:10.483Z"
   },
   {
    "duration": 17,
    "start_time": "2022-08-25T11:57:10.766Z"
   },
   {
    "duration": 9,
    "start_time": "2022-08-25T11:57:12.215Z"
   },
   {
    "duration": 21,
    "start_time": "2022-08-25T11:57:12.508Z"
   },
   {
    "duration": 160,
    "start_time": "2022-08-25T11:57:12.849Z"
   },
   {
    "duration": 161,
    "start_time": "2022-08-25T11:57:13.531Z"
   },
   {
    "duration": 25,
    "start_time": "2022-08-25T11:57:14.261Z"
   },
   {
    "duration": 55,
    "start_time": "2022-08-25T11:57:15.165Z"
   },
   {
    "duration": 86,
    "start_time": "2022-08-25T11:57:15.982Z"
   },
   {
    "duration": 15,
    "start_time": "2022-08-25T11:57:16.194Z"
   },
   {
    "duration": 74,
    "start_time": "2022-08-25T11:57:16.562Z"
   },
   {
    "duration": 56,
    "start_time": "2022-08-25T11:57:17.238Z"
   },
   {
    "duration": 3,
    "start_time": "2022-08-25T11:57:17.564Z"
   },
   {
    "duration": 68,
    "start_time": "2022-08-25T11:57:19.663Z"
   },
   {
    "duration": 58,
    "start_time": "2022-08-25T11:57:28.114Z"
   },
   {
    "duration": 422,
    "start_time": "2022-08-25T11:57:30.011Z"
   },
   {
    "duration": 312,
    "start_time": "2022-08-25T12:07:45.153Z"
   },
   {
    "duration": 3,
    "start_time": "2022-08-25T12:07:47.214Z"
   },
   {
    "duration": 4,
    "start_time": "2022-08-25T12:07:50.763Z"
   },
   {
    "duration": 3,
    "start_time": "2022-08-25T12:33:45.984Z"
   },
   {
    "duration": 31121,
    "start_time": "2022-08-25T12:33:47.136Z"
   },
   {
    "duration": 133,
    "start_time": "2022-08-25T12:34:18.259Z"
   },
   {
    "duration": 118,
    "start_time": "2022-08-25T12:34:18.394Z"
   },
   {
    "duration": 2,
    "start_time": "2022-08-25T12:47:53.232Z"
   },
   {
    "duration": 4,
    "start_time": "2022-08-25T12:47:56.891Z"
   },
   {
    "duration": 0,
    "start_time": "2022-08-25T13:02:02.475Z"
   },
   {
    "duration": 20,
    "start_time": "2022-08-25T13:02:25.981Z"
   },
   {
    "duration": 0,
    "start_time": "2022-08-25T13:05:01.149Z"
   },
   {
    "duration": 141403,
    "start_time": "2022-08-25T13:08:44.126Z"
   },
   {
    "duration": 0,
    "start_time": "2022-08-25T13:15:22.621Z"
   },
   {
    "duration": 140820,
    "start_time": "2022-08-25T13:17:32.049Z"
   },
   {
    "duration": 139849,
    "start_time": "2022-08-25T13:21:16.781Z"
   },
   {
    "duration": 139517,
    "start_time": "2022-08-25T13:24:40.739Z"
   },
   {
    "duration": 13,
    "start_time": "2022-08-25T13:27:33.589Z"
   },
   {
    "duration": 56,
    "start_time": "2022-08-25T13:28:14.040Z"
   },
   {
    "duration": 1372,
    "start_time": "2022-08-25T13:28:29.798Z"
   },
   {
    "duration": 748,
    "start_time": "2022-08-25T13:28:31.789Z"
   },
   {
    "duration": 26,
    "start_time": "2022-08-25T13:28:33.172Z"
   },
   {
    "duration": 4,
    "start_time": "2022-08-25T13:28:39.230Z"
   },
   {
    "duration": 48,
    "start_time": "2022-08-25T13:28:39.645Z"
   },
   {
    "duration": 114,
    "start_time": "2022-08-25T13:28:40.034Z"
   },
   {
    "duration": 104,
    "start_time": "2022-08-25T13:28:40.871Z"
   },
   {
    "duration": 413,
    "start_time": "2022-08-25T13:28:42.132Z"
   },
   {
    "duration": 482,
    "start_time": "2022-08-25T13:28:42.934Z"
   },
   {
    "duration": 93,
    "start_time": "2022-08-25T13:28:43.666Z"
   },
   {
    "duration": 638,
    "start_time": "2022-08-25T13:28:45.216Z"
   },
   {
    "duration": 4,
    "start_time": "2022-08-25T13:28:47.048Z"
   },
   {
    "duration": 31,
    "start_time": "2022-08-25T13:28:47.294Z"
   },
   {
    "duration": 28,
    "start_time": "2022-08-25T13:28:47.500Z"
   },
   {
    "duration": 20,
    "start_time": "2022-08-25T13:28:47.691Z"
   },
   {
    "duration": 29,
    "start_time": "2022-08-25T13:28:48.441Z"
   },
   {
    "duration": 23,
    "start_time": "2022-08-25T13:28:48.727Z"
   },
   {
    "duration": 17,
    "start_time": "2022-08-25T13:28:49.390Z"
   },
   {
    "duration": 15,
    "start_time": "2022-08-25T13:28:50.063Z"
   },
   {
    "duration": 27,
    "start_time": "2022-08-25T13:28:50.579Z"
   },
   {
    "duration": 344,
    "start_time": "2022-08-25T13:28:50.951Z"
   },
   {
    "duration": 74,
    "start_time": "2022-08-25T13:28:51.708Z"
   },
   {
    "duration": 25,
    "start_time": "2022-08-25T13:28:53.972Z"
   },
   {
    "duration": 4,
    "start_time": "2022-08-25T13:28:54.610Z"
   },
   {
    "duration": 11,
    "start_time": "2022-08-25T13:28:54.837Z"
   },
   {
    "duration": 15,
    "start_time": "2022-08-25T13:28:55.101Z"
   },
   {
    "duration": 17,
    "start_time": "2022-08-25T13:28:55.656Z"
   },
   {
    "duration": 15,
    "start_time": "2022-08-25T13:28:55.905Z"
   },
   {
    "duration": 386,
    "start_time": "2022-08-25T13:28:56.374Z"
   },
   {
    "duration": 376,
    "start_time": "2022-08-25T13:28:56.762Z"
   },
   {
    "duration": 18,
    "start_time": "2022-08-25T13:28:57.140Z"
   },
   {
    "duration": 13,
    "start_time": "2022-08-25T13:28:57.418Z"
   },
   {
    "duration": 29,
    "start_time": "2022-08-25T13:28:57.840Z"
   },
   {
    "duration": 205,
    "start_time": "2022-08-25T13:28:59.177Z"
   },
   {
    "duration": 7,
    "start_time": "2022-08-25T13:28:59.782Z"
   },
   {
    "duration": 28,
    "start_time": "2022-08-25T13:28:59.953Z"
   },
   {
    "duration": 309,
    "start_time": "2022-08-25T13:29:00.162Z"
   },
   {
    "duration": 330,
    "start_time": "2022-08-25T13:29:00.528Z"
   },
   {
    "duration": 23,
    "start_time": "2022-08-25T13:29:01.015Z"
   },
   {
    "duration": 322,
    "start_time": "2022-08-25T13:29:01.599Z"
   },
   {
    "duration": 229,
    "start_time": "2022-08-25T13:29:02.891Z"
   },
   {
    "duration": 308,
    "start_time": "2022-08-25T13:29:03.122Z"
   },
   {
    "duration": 16,
    "start_time": "2022-08-25T13:29:03.433Z"
   },
   {
    "duration": 22,
    "start_time": "2022-08-25T13:29:03.522Z"
   },
   {
    "duration": 15,
    "start_time": "2022-08-25T13:29:04.134Z"
   },
   {
    "duration": 216,
    "start_time": "2022-08-25T13:29:04.890Z"
   },
   {
    "duration": 206,
    "start_time": "2022-08-25T13:29:05.317Z"
   },
   {
    "duration": 17,
    "start_time": "2022-08-25T13:29:05.525Z"
   },
   {
    "duration": 9,
    "start_time": "2022-08-25T13:29:06.174Z"
   },
   {
    "duration": 19,
    "start_time": "2022-08-25T13:29:06.474Z"
   },
   {
    "duration": 174,
    "start_time": "2022-08-25T13:29:06.712Z"
   },
   {
    "duration": 166,
    "start_time": "2022-08-25T13:29:07.447Z"
   },
   {
    "duration": 27,
    "start_time": "2022-08-25T13:29:08.171Z"
   },
   {
    "duration": 55,
    "start_time": "2022-08-25T13:29:09.141Z"
   },
   {
    "duration": 93,
    "start_time": "2022-08-25T13:29:09.817Z"
   },
   {
    "duration": 16,
    "start_time": "2022-08-25T13:29:10.264Z"
   },
   {
    "duration": 72,
    "start_time": "2022-08-25T13:29:11.075Z"
   },
   {
    "duration": 57,
    "start_time": "2022-08-25T13:29:11.762Z"
   },
   {
    "duration": 3,
    "start_time": "2022-08-25T13:29:12.130Z"
   },
   {
    "duration": 69,
    "start_time": "2022-08-25T13:29:13.136Z"
   },
   {
    "duration": 59,
    "start_time": "2022-08-25T13:29:15.272Z"
   },
   {
    "duration": 413,
    "start_time": "2022-08-25T13:29:17.647Z"
   },
   {
    "duration": 78,
    "start_time": "2022-08-25T13:29:18.812Z"
   },
   {
    "duration": 310,
    "start_time": "2022-08-25T13:29:34.969Z"
   },
   {
    "duration": 3,
    "start_time": "2022-08-25T13:29:35.890Z"
   },
   {
    "duration": 4,
    "start_time": "2022-08-25T13:29:38.128Z"
   },
   {
    "duration": 3,
    "start_time": "2022-08-25T13:29:40.215Z"
   },
   {
    "duration": 118,
    "start_time": "2022-08-25T13:29:42.291Z"
   },
   {
    "duration": 2,
    "start_time": "2022-08-25T13:29:47.229Z"
   },
   {
    "duration": 2,
    "start_time": "2022-08-25T13:29:47.955Z"
   },
   {
    "duration": 4,
    "start_time": "2022-08-25T13:29:48.167Z"
   },
   {
    "duration": 139057,
    "start_time": "2022-08-25T13:29:56.935Z"
   },
   {
    "duration": 20198,
    "start_time": "2022-08-25T13:42:25.398Z"
   },
   {
    "duration": 20653,
    "start_time": "2022-08-25T13:42:55.923Z"
   },
   {
    "duration": 309,
    "start_time": "2022-08-25T13:44:42.714Z"
   },
   {
    "duration": 315,
    "start_time": "2022-08-25T13:44:47.311Z"
   },
   {
    "duration": 4,
    "start_time": "2022-08-25T13:46:07.404Z"
   },
   {
    "duration": 4,
    "start_time": "2022-08-25T13:46:14.823Z"
   },
   {
    "duration": 9,
    "start_time": "2022-08-25T13:46:26.714Z"
   },
   {
    "duration": 9,
    "start_time": "2022-08-25T13:46:32.439Z"
   },
   {
    "duration": 4,
    "start_time": "2022-08-25T13:46:38.104Z"
   },
   {
    "duration": 3,
    "start_time": "2022-08-25T13:46:46.473Z"
   },
   {
    "duration": 3,
    "start_time": "2022-08-25T13:47:00.854Z"
   },
   {
    "duration": 5,
    "start_time": "2022-08-25T13:47:13.049Z"
   },
   {
    "duration": 5,
    "start_time": "2022-08-25T13:47:22.472Z"
   },
   {
    "duration": 9,
    "start_time": "2022-08-25T13:48:31.499Z"
   },
   {
    "duration": 9,
    "start_time": "2022-08-25T13:49:05.071Z"
   },
   {
    "duration": 8,
    "start_time": "2022-08-25T13:49:24.950Z"
   },
   {
    "duration": 9,
    "start_time": "2022-08-25T13:50:06.532Z"
   },
   {
    "duration": 9,
    "start_time": "2022-08-25T13:50:10.067Z"
   },
   {
    "duration": 8,
    "start_time": "2022-08-25T13:51:58.096Z"
   },
   {
    "duration": 8,
    "start_time": "2022-08-25T13:52:10.523Z"
   },
   {
    "duration": 9,
    "start_time": "2022-08-25T13:55:32.901Z"
   },
   {
    "duration": 9,
    "start_time": "2022-08-25T13:55:54.580Z"
   },
   {
    "duration": 9,
    "start_time": "2022-08-25T14:00:19.530Z"
   },
   {
    "duration": 8,
    "start_time": "2022-08-25T14:00:31.344Z"
   },
   {
    "duration": 8,
    "start_time": "2022-08-25T14:05:32.274Z"
   },
   {
    "duration": 514,
    "start_time": "2022-08-25T14:06:05.397Z"
   },
   {
    "duration": 13,
    "start_time": "2022-08-25T14:06:16.849Z"
   },
   {
    "duration": 9,
    "start_time": "2022-08-25T14:09:41.675Z"
   },
   {
    "duration": 9,
    "start_time": "2022-08-25T14:11:07.786Z"
   },
   {
    "duration": 7,
    "start_time": "2022-08-25T14:11:12.829Z"
   },
   {
    "duration": 9,
    "start_time": "2022-08-25T14:11:23.936Z"
   },
   {
    "duration": 92,
    "start_time": "2022-08-25T14:11:38.464Z"
   },
   {
    "duration": 11,
    "start_time": "2022-08-25T14:11:42.688Z"
   },
   {
    "duration": 9,
    "start_time": "2022-08-25T14:11:56.845Z"
   },
   {
    "duration": 1418,
    "start_time": "2022-08-25T19:58:06.745Z"
   },
   {
    "duration": 2907,
    "start_time": "2022-08-25T19:58:08.165Z"
   },
   {
    "duration": 29,
    "start_time": "2022-08-25T19:58:11.074Z"
   },
   {
    "duration": 5,
    "start_time": "2022-08-25T19:58:11.105Z"
   },
   {
    "duration": 59,
    "start_time": "2022-08-25T19:58:11.111Z"
   },
   {
    "duration": 157,
    "start_time": "2022-08-25T19:58:11.171Z"
   },
   {
    "duration": 136,
    "start_time": "2022-08-25T19:58:11.329Z"
   },
   {
    "duration": 528,
    "start_time": "2022-08-25T19:58:11.467Z"
   },
   {
    "duration": 591,
    "start_time": "2022-08-25T19:58:11.997Z"
   },
   {
    "duration": 109,
    "start_time": "2022-08-25T19:58:12.591Z"
   },
   {
    "duration": 913,
    "start_time": "2022-08-25T19:58:12.702Z"
   },
   {
    "duration": 4,
    "start_time": "2022-08-25T19:58:13.617Z"
   },
   {
    "duration": 49,
    "start_time": "2022-08-25T19:58:13.622Z"
   },
   {
    "duration": 40,
    "start_time": "2022-08-25T19:58:13.673Z"
   },
   {
    "duration": 26,
    "start_time": "2022-08-25T19:58:13.714Z"
   },
   {
    "duration": 49,
    "start_time": "2022-08-25T19:58:13.742Z"
   },
   {
    "duration": 24,
    "start_time": "2022-08-25T19:58:13.793Z"
   },
   {
    "duration": 18,
    "start_time": "2022-08-25T19:58:13.819Z"
   },
   {
    "duration": 17,
    "start_time": "2022-08-25T19:58:13.839Z"
   },
   {
    "duration": 63,
    "start_time": "2022-08-25T19:58:13.858Z"
   },
   {
    "duration": 593,
    "start_time": "2022-08-25T19:58:13.923Z"
   },
   {
    "duration": 85,
    "start_time": "2022-08-25T19:58:14.518Z"
   },
   {
    "duration": 38,
    "start_time": "2022-08-25T19:58:14.605Z"
   },
   {
    "duration": 6,
    "start_time": "2022-08-25T19:58:14.645Z"
   },
   {
    "duration": 13,
    "start_time": "2022-08-25T19:58:14.652Z"
   },
   {
    "duration": 38,
    "start_time": "2022-08-25T19:58:14.667Z"
   },
   {
    "duration": 17,
    "start_time": "2022-08-25T19:58:14.707Z"
   },
   {
    "duration": 15,
    "start_time": "2022-08-25T19:58:14.728Z"
   },
   {
    "duration": 510,
    "start_time": "2022-08-25T19:58:14.745Z"
   },
   {
    "duration": 473,
    "start_time": "2022-08-25T19:58:15.257Z"
   },
   {
    "duration": 23,
    "start_time": "2022-08-25T19:58:15.732Z"
   },
   {
    "duration": 15,
    "start_time": "2022-08-25T19:58:15.758Z"
   },
   {
    "duration": 32,
    "start_time": "2022-08-25T19:58:15.792Z"
   },
   {
    "duration": 284,
    "start_time": "2022-08-25T19:58:15.826Z"
   },
   {
    "duration": 9,
    "start_time": "2022-08-25T19:58:16.111Z"
   },
   {
    "duration": 31,
    "start_time": "2022-08-25T19:58:16.121Z"
   },
   {
    "duration": 435,
    "start_time": "2022-08-25T19:58:16.154Z"
   },
   {
    "duration": 475,
    "start_time": "2022-08-25T19:58:16.591Z"
   },
   {
    "duration": 29,
    "start_time": "2022-08-25T19:58:17.067Z"
   },
   {
    "duration": 413,
    "start_time": "2022-08-25T19:58:17.098Z"
   },
   {
    "duration": 416,
    "start_time": "2022-08-25T19:58:17.513Z"
   },
   {
    "duration": 307,
    "start_time": "2022-08-25T19:58:17.931Z"
   },
   {
    "duration": 18,
    "start_time": "2022-08-25T19:58:18.240Z"
   },
   {
    "duration": 36,
    "start_time": "2022-08-25T19:58:18.260Z"
   },
   {
    "duration": 19,
    "start_time": "2022-08-25T19:58:18.298Z"
   },
   {
    "duration": 300,
    "start_time": "2022-08-25T19:58:18.318Z"
   },
   {
    "duration": 260,
    "start_time": "2022-08-25T19:58:18.620Z"
   },
   {
    "duration": 24,
    "start_time": "2022-08-25T19:58:18.882Z"
   },
   {
    "duration": 9,
    "start_time": "2022-08-25T19:58:18.908Z"
   },
   {
    "duration": 20,
    "start_time": "2022-08-25T19:58:18.919Z"
   },
   {
    "duration": 208,
    "start_time": "2022-08-25T19:58:18.941Z"
   },
   {
    "duration": 201,
    "start_time": "2022-08-25T19:58:19.151Z"
   },
   {
    "duration": 39,
    "start_time": "2022-08-25T19:58:19.353Z"
   },
   {
    "duration": 77,
    "start_time": "2022-08-25T19:58:19.394Z"
   },
   {
    "duration": 114,
    "start_time": "2022-08-25T19:58:19.473Z"
   },
   {
    "duration": 18,
    "start_time": "2022-08-25T19:58:19.591Z"
   },
   {
    "duration": 126,
    "start_time": "2022-08-25T19:58:19.610Z"
   },
   {
    "duration": 83,
    "start_time": "2022-08-25T19:58:19.738Z"
   },
   {
    "duration": 3,
    "start_time": "2022-08-25T19:58:19.822Z"
   },
   {
    "duration": 73,
    "start_time": "2022-08-25T19:58:19.827Z"
   },
   {
    "duration": 90,
    "start_time": "2022-08-25T19:58:19.902Z"
   },
   {
    "duration": 717,
    "start_time": "2022-08-25T19:58:19.994Z"
   },
   {
    "duration": 122,
    "start_time": "2022-08-25T19:58:20.714Z"
   },
   {
    "duration": 0,
    "start_time": "2022-08-25T19:58:20.838Z"
   },
   {
    "duration": 0,
    "start_time": "2022-08-25T19:58:20.839Z"
   },
   {
    "duration": 0,
    "start_time": "2022-08-25T19:58:20.841Z"
   },
   {
    "duration": 0,
    "start_time": "2022-08-25T19:58:20.842Z"
   },
   {
    "duration": 0,
    "start_time": "2022-08-25T19:58:20.843Z"
   },
   {
    "duration": 0,
    "start_time": "2022-08-25T19:58:20.844Z"
   },
   {
    "duration": 0,
    "start_time": "2022-08-25T19:58:20.845Z"
   },
   {
    "duration": 452,
    "start_time": "2022-08-25T19:59:33.023Z"
   },
   {
    "duration": 4,
    "start_time": "2022-08-25T19:59:35.179Z"
   },
   {
    "duration": 5,
    "start_time": "2022-08-25T19:59:39.372Z"
   },
   {
    "duration": 3,
    "start_time": "2022-08-25T19:59:44.928Z"
   },
   {
    "duration": 152,
    "start_time": "2022-08-25T19:59:46.027Z"
   },
   {
    "duration": 3,
    "start_time": "2022-08-25T20:00:03.899Z"
   },
   {
    "duration": 2,
    "start_time": "2022-08-25T20:00:04.780Z"
   },
   {
    "duration": 5,
    "start_time": "2022-08-25T20:00:05.473Z"
   },
   {
    "duration": 4060,
    "start_time": "2022-08-25T20:00:13.165Z"
   },
   {
    "duration": 394,
    "start_time": "2022-08-25T20:00:25.900Z"
   },
   {
    "duration": 6,
    "start_time": "2022-08-25T20:00:47.017Z"
   },
   {
    "duration": 4,
    "start_time": "2022-08-25T20:01:06.286Z"
   },
   {
    "duration": 256094,
    "start_time": "2022-08-25T20:01:08.463Z"
   },
   {
    "duration": 2785,
    "start_time": "2022-08-25T20:05:53.485Z"
   },
   {
    "duration": 6,
    "start_time": "2022-08-25T20:05:59.679Z"
   },
   {
    "duration": 3,
    "start_time": "2022-08-25T20:06:12.584Z"
   },
   {
    "duration": 3,
    "start_time": "2022-08-25T20:06:14.164Z"
   },
   {
    "duration": 4,
    "start_time": "2022-08-25T20:07:08.032Z"
   },
   {
    "duration": 53900,
    "start_time": "2022-08-25T20:07:13.692Z"
   },
   {
    "duration": 4,
    "start_time": "2022-08-25T20:08:11.627Z"
   },
   {
    "duration": 9194,
    "start_time": "2022-08-25T20:08:14.608Z"
   },
   {
    "duration": 4,
    "start_time": "2022-08-25T20:08:32.336Z"
   },
   {
    "duration": 214916,
    "start_time": "2022-08-25T20:08:33.289Z"
   },
   {
    "duration": 345329,
    "start_time": "2022-08-25T20:15:17.370Z"
   },
   {
    "duration": 45602,
    "start_time": "2022-08-25T20:23:30.563Z"
   },
   {
    "duration": 8931,
    "start_time": "2022-08-25T20:24:27.873Z"
   },
   {
    "duration": 114,
    "start_time": "2022-08-25T20:24:50.865Z"
   },
   {
    "duration": 166,
    "start_time": "2022-08-25T20:24:55.234Z"
   },
   {
    "duration": 88,
    "start_time": "2022-08-25T20:27:02.695Z"
   },
   {
    "duration": 3656,
    "start_time": "2022-08-25T20:27:05.670Z"
   },
   {
    "duration": 11,
    "start_time": "2022-08-25T20:29:17.212Z"
   },
   {
    "duration": 4,
    "start_time": "2022-08-25T20:32:04.929Z"
   },
   {
    "duration": 70,
    "start_time": "2022-08-25T20:32:09.988Z"
   },
   {
    "duration": 6,
    "start_time": "2022-08-25T20:32:48.446Z"
   },
   {
    "duration": 1502,
    "start_time": "2022-08-25T20:37:16.738Z"
   },
   {
    "duration": 900,
    "start_time": "2022-08-25T20:37:18.242Z"
   },
   {
    "duration": 30,
    "start_time": "2022-08-25T20:37:19.144Z"
   },
   {
    "duration": 17,
    "start_time": "2022-08-25T20:37:19.176Z"
   },
   {
    "duration": 66,
    "start_time": "2022-08-25T20:37:19.195Z"
   },
   {
    "duration": 191,
    "start_time": "2022-08-25T20:37:19.264Z"
   },
   {
    "duration": 159,
    "start_time": "2022-08-25T20:37:19.457Z"
   },
   {
    "duration": 534,
    "start_time": "2022-08-25T20:37:19.618Z"
   },
   {
    "duration": 654,
    "start_time": "2022-08-25T20:37:20.154Z"
   },
   {
    "duration": 138,
    "start_time": "2022-08-25T20:37:20.812Z"
   },
   {
    "duration": 1129,
    "start_time": "2022-08-25T20:37:20.952Z"
   },
   {
    "duration": 9,
    "start_time": "2022-08-25T20:37:22.083Z"
   },
   {
    "duration": 46,
    "start_time": "2022-08-25T20:37:22.094Z"
   },
   {
    "duration": 40,
    "start_time": "2022-08-25T20:37:22.142Z"
   },
   {
    "duration": 31,
    "start_time": "2022-08-25T20:37:22.184Z"
   },
   {
    "duration": 49,
    "start_time": "2022-08-25T20:37:22.216Z"
   },
   {
    "duration": 30,
    "start_time": "2022-08-25T20:37:22.267Z"
   },
   {
    "duration": 25,
    "start_time": "2022-08-25T20:37:22.299Z"
   },
   {
    "duration": 18,
    "start_time": "2022-08-25T20:37:22.326Z"
   },
   {
    "duration": 56,
    "start_time": "2022-08-25T20:37:22.346Z"
   },
   {
    "duration": 438,
    "start_time": "2022-08-25T20:37:22.404Z"
   },
   {
    "duration": 86,
    "start_time": "2022-08-25T20:37:22.844Z"
   },
   {
    "duration": 26,
    "start_time": "2022-08-25T20:37:22.932Z"
   },
   {
    "duration": 5,
    "start_time": "2022-08-25T20:37:22.960Z"
   },
   {
    "duration": 29,
    "start_time": "2022-08-25T20:37:22.967Z"
   },
   {
    "duration": 15,
    "start_time": "2022-08-25T20:37:22.998Z"
   },
   {
    "duration": 19,
    "start_time": "2022-08-25T20:37:23.015Z"
   },
   {
    "duration": 17,
    "start_time": "2022-08-25T20:37:23.040Z"
   },
   {
    "duration": 539,
    "start_time": "2022-08-25T20:37:23.058Z"
   },
   {
    "duration": 508,
    "start_time": "2022-08-25T20:37:23.599Z"
   },
   {
    "duration": 24,
    "start_time": "2022-08-25T20:37:24.109Z"
   },
   {
    "duration": 16,
    "start_time": "2022-08-25T20:37:24.134Z"
   },
   {
    "duration": 61,
    "start_time": "2022-08-25T20:37:24.152Z"
   },
   {
    "duration": 271,
    "start_time": "2022-08-25T20:37:24.215Z"
   },
   {
    "duration": 8,
    "start_time": "2022-08-25T20:37:24.488Z"
   },
   {
    "duration": 30,
    "start_time": "2022-08-25T20:37:24.498Z"
   },
   {
    "duration": 445,
    "start_time": "2022-08-25T20:37:24.530Z"
   },
   {
    "duration": 459,
    "start_time": "2022-08-25T20:37:24.976Z"
   },
   {
    "duration": 25,
    "start_time": "2022-08-25T20:37:25.437Z"
   },
   {
    "duration": 446,
    "start_time": "2022-08-25T20:37:25.463Z"
   },
   {
    "duration": 320,
    "start_time": "2022-08-25T20:37:25.911Z"
   },
   {
    "duration": 405,
    "start_time": "2022-08-25T20:37:26.233Z"
   },
   {
    "duration": 18,
    "start_time": "2022-08-25T20:37:26.640Z"
   },
   {
    "duration": 41,
    "start_time": "2022-08-25T20:37:26.660Z"
   },
   {
    "duration": 18,
    "start_time": "2022-08-25T20:37:26.703Z"
   },
   {
    "duration": 323,
    "start_time": "2022-08-25T20:37:26.723Z"
   },
   {
    "duration": 270,
    "start_time": "2022-08-25T20:37:27.048Z"
   },
   {
    "duration": 21,
    "start_time": "2022-08-25T20:37:27.320Z"
   },
   {
    "duration": 10,
    "start_time": "2022-08-25T20:37:27.343Z"
   },
   {
    "duration": 46,
    "start_time": "2022-08-25T20:37:27.355Z"
   },
   {
    "duration": 201,
    "start_time": "2022-08-25T20:37:27.403Z"
   },
   {
    "duration": 208,
    "start_time": "2022-08-25T20:37:27.605Z"
   },
   {
    "duration": 28,
    "start_time": "2022-08-25T20:37:27.815Z"
   },
   {
    "duration": 88,
    "start_time": "2022-08-25T20:37:27.845Z"
   },
   {
    "duration": 133,
    "start_time": "2022-08-25T20:37:27.935Z"
   },
   {
    "duration": 28,
    "start_time": "2022-08-25T20:37:28.070Z"
   },
   {
    "duration": 106,
    "start_time": "2022-08-25T20:37:28.100Z"
   },
   {
    "duration": 84,
    "start_time": "2022-08-25T20:37:28.208Z"
   },
   {
    "duration": 4,
    "start_time": "2022-08-25T20:37:28.294Z"
   },
   {
    "duration": 82,
    "start_time": "2022-08-25T20:37:28.300Z"
   },
   {
    "duration": 77,
    "start_time": "2022-08-25T20:37:28.392Z"
   },
   {
    "duration": 767,
    "start_time": "2022-08-25T20:37:28.471Z"
   },
   {
    "duration": 80,
    "start_time": "2022-08-25T20:37:29.240Z"
   },
   {
    "duration": 0,
    "start_time": "2022-08-25T20:37:29.322Z"
   },
   {
    "duration": 0,
    "start_time": "2022-08-25T20:37:29.323Z"
   },
   {
    "duration": 0,
    "start_time": "2022-08-25T20:37:29.325Z"
   },
   {
    "duration": 0,
    "start_time": "2022-08-25T20:37:29.326Z"
   },
   {
    "duration": 0,
    "start_time": "2022-08-25T20:37:29.328Z"
   },
   {
    "duration": 0,
    "start_time": "2022-08-25T20:37:29.331Z"
   },
   {
    "duration": 0,
    "start_time": "2022-08-25T20:37:29.332Z"
   },
   {
    "duration": 0,
    "start_time": "2022-08-25T20:37:29.334Z"
   },
   {
    "duration": 0,
    "start_time": "2022-08-25T20:37:29.336Z"
   },
   {
    "duration": 0,
    "start_time": "2022-08-25T20:37:29.337Z"
   },
   {
    "duration": 0,
    "start_time": "2022-08-25T20:37:29.339Z"
   },
   {
    "duration": 0,
    "start_time": "2022-08-25T20:37:29.340Z"
   },
   {
    "duration": 0,
    "start_time": "2022-08-25T20:37:29.342Z"
   },
   {
    "duration": 0,
    "start_time": "2022-08-25T20:37:29.343Z"
   },
   {
    "duration": 0,
    "start_time": "2022-08-25T20:37:29.345Z"
   },
   {
    "duration": 0,
    "start_time": "2022-08-25T20:37:29.347Z"
   },
   {
    "duration": 0,
    "start_time": "2022-08-25T20:37:29.348Z"
   },
   {
    "duration": 0,
    "start_time": "2022-08-25T20:37:29.350Z"
   },
   {
    "duration": 0,
    "start_time": "2022-08-25T20:37:29.351Z"
   },
   {
    "duration": 0,
    "start_time": "2022-08-25T20:37:29.352Z"
   },
   {
    "duration": 1,
    "start_time": "2022-08-25T20:37:29.353Z"
   },
   {
    "duration": 0,
    "start_time": "2022-08-25T20:37:29.355Z"
   },
   {
    "duration": 0,
    "start_time": "2022-08-25T20:37:29.356Z"
   },
   {
    "duration": 0,
    "start_time": "2022-08-25T20:37:29.357Z"
   },
   {
    "duration": 0,
    "start_time": "2022-08-25T20:37:29.358Z"
   },
   {
    "duration": 0,
    "start_time": "2022-08-25T20:37:29.392Z"
   },
   {
    "duration": 0,
    "start_time": "2022-08-25T20:37:29.393Z"
   },
   {
    "duration": 0,
    "start_time": "2022-08-25T20:37:29.395Z"
   },
   {
    "duration": 0,
    "start_time": "2022-08-25T20:37:29.397Z"
   },
   {
    "duration": 0,
    "start_time": "2022-08-25T20:37:29.398Z"
   },
   {
    "duration": 0,
    "start_time": "2022-08-25T20:37:29.400Z"
   },
   {
    "duration": 0,
    "start_time": "2022-08-25T20:37:29.401Z"
   },
   {
    "duration": 0,
    "start_time": "2022-08-25T20:37:29.403Z"
   },
   {
    "duration": 5,
    "start_time": "2022-08-25T20:46:27.273Z"
   },
   {
    "duration": 460,
    "start_time": "2022-08-25T20:46:33.351Z"
   },
   {
    "duration": 3,
    "start_time": "2022-08-25T20:46:34.480Z"
   },
   {
    "duration": 4,
    "start_time": "2022-08-25T20:46:35.460Z"
   },
   {
    "duration": 3,
    "start_time": "2022-08-25T20:46:35.899Z"
   },
   {
    "duration": 136,
    "start_time": "2022-08-25T20:46:36.081Z"
   },
   {
    "duration": 3,
    "start_time": "2022-08-25T20:46:39.502Z"
   },
   {
    "duration": 2,
    "start_time": "2022-08-25T20:46:40.373Z"
   },
   {
    "duration": 3,
    "start_time": "2022-08-25T20:46:40.878Z"
   },
   {
    "duration": 3949,
    "start_time": "2022-08-25T20:46:42.434Z"
   },
   {
    "duration": 396,
    "start_time": "2022-08-25T20:46:46.384Z"
   },
   {
    "duration": 13,
    "start_time": "2022-08-25T20:46:46.782Z"
   },
   {
    "duration": 3,
    "start_time": "2022-08-25T20:46:46.798Z"
   },
   {
    "duration": 11,
    "start_time": "2022-08-25T20:46:46.803Z"
   },
   {
    "duration": 15,
    "start_time": "2022-08-25T20:46:46.816Z"
   },
   {
    "duration": 249882,
    "start_time": "2022-08-25T20:46:46.833Z"
   },
   {
    "duration": 2703,
    "start_time": "2022-08-25T20:50:56.717Z"
   },
   {
    "duration": 8,
    "start_time": "2022-08-25T20:50:59.422Z"
   },
   {
    "duration": 4,
    "start_time": "2022-08-25T20:50:59.432Z"
   },
   {
    "duration": 5,
    "start_time": "2022-08-25T20:50:59.438Z"
   },
   {
    "duration": 5,
    "start_time": "2022-08-25T20:50:59.445Z"
   },
   {
    "duration": 16,
    "start_time": "2022-08-25T20:50:59.451Z"
   },
   {
    "duration": 63333,
    "start_time": "2022-08-25T20:50:59.468Z"
   },
   {
    "duration": 3716,
    "start_time": "2022-08-25T20:52:02.803Z"
   },
   {
    "duration": 45510,
    "start_time": "2022-08-25T20:52:06.521Z"
   },
   {
    "duration": 8913,
    "start_time": "2022-08-25T20:52:52.032Z"
   },
   {
    "duration": 169,
    "start_time": "2022-08-25T20:53:00.947Z"
   },
   {
    "duration": 12,
    "start_time": "2022-08-25T20:53:01.118Z"
   },
   {
    "duration": 83,
    "start_time": "2022-08-25T20:53:01.132Z"
   },
   {
    "duration": 6,
    "start_time": "2022-08-25T20:53:01.217Z"
   }
  ],
  "kernelspec": {
   "display_name": "Python 3",
   "language": "python",
   "name": "python3"
  },
  "language_info": {
   "codemirror_mode": {
    "name": "ipython",
    "version": 3
   },
   "file_extension": ".py",
   "mimetype": "text/x-python",
   "name": "python",
   "nbconvert_exporter": "python",
   "pygments_lexer": "ipython3",
   "version": "3.8.3"
  },
  "toc": {
   "base_numbering": 1,
   "nav_menu": {},
   "number_sections": true,
   "sideBar": true,
   "skip_h1_title": true,
   "title_cell": "Table of Contents",
   "title_sidebar": "Contents",
   "toc_cell": false,
   "toc_position": {
    "height": "calc(100% - 180px)",
    "left": "10px",
    "top": "150px",
    "width": "241.797px"
   },
   "toc_section_display": true,
   "toc_window_display": true
  }
 },
 "nbformat": 4,
 "nbformat_minor": 2
}
