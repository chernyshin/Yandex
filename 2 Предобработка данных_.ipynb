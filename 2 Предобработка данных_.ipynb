{
 "cells": [
  {
   "cell_type": "markdown",
   "metadata": {},
   "source": [
    "# Исследование надежности заемщиков. <a id=\"index\"></a>"
   ]
  },
  {
   "cell_type": "markdown",
   "metadata": {},
   "source": [
    "Заказчик — кредитный отдел банка.\n",
    "\n",
    "Входные данные — статистика о платёжеспособности клиентов.\n",
    "\n",
    "Результаты исследования будут учтены при построении подели кредитного скоринга — специальной системы, которая оценивает способность потенциального заёмщика вернуть кредит банку.\n",
    "\n",
    "**Цель исследования** — выявить влияние семейного положения и количество детей на факт погашения кредита в срок.\n",
    "\n",
    "**Ход исследования**\n",
    "\n",
    "Информация о клиентах находится в файле `/datasets/data.csv`. Данные представлены в \"сыром\" виде, необходима предобработка.\n",
    "\n",
    "Поставленные вопросы:\n",
    "* 1. Есть ли зависимость между количеством детей и возвратом кредита в срок?\n",
    "* 2. Есть ли зависимость между семейным положением и возвратом кредита в срок?\n",
    "* 3. Есть ли зависимость между уровнем дохода и возвратом кредита в срок?\n",
    "* 4. Как разные цели кредита влияют на его возврат в срок?"
   ]
  },
  {
   "cell_type": "markdown",
   "metadata": {},
   "source": [
    "### Шаг 1. Обзор данных"
   ]
  },
  {
   "cell_type": "code",
   "execution_count": 1,
   "metadata": {},
   "outputs": [],
   "source": [
    "# импорт необходимых библиотек\n",
    "import pandas as pd"
   ]
  },
  {
   "cell_type": "code",
   "execution_count": 2,
   "metadata": {},
   "outputs": [
    {
     "name": "stdout",
     "output_type": "stream",
     "text": [
      "<class 'pandas.core.frame.DataFrame'>\n",
      "RangeIndex: 21525 entries, 0 to 21524\n",
      "Data columns (total 12 columns):\n",
      " #   Column            Non-Null Count  Dtype  \n",
      "---  ------            --------------  -----  \n",
      " 0   children          21525 non-null  int64  \n",
      " 1   days_employed     19351 non-null  float64\n",
      " 2   dob_years         21525 non-null  int64  \n",
      " 3   education         21525 non-null  object \n",
      " 4   education_id      21525 non-null  int64  \n",
      " 5   family_status     21525 non-null  object \n",
      " 6   family_status_id  21525 non-null  int64  \n",
      " 7   gender            21525 non-null  object \n",
      " 8   income_type       21525 non-null  object \n",
      " 9   debt              21525 non-null  int64  \n",
      " 10  total_income      19351 non-null  float64\n",
      " 11  purpose           21525 non-null  object \n",
      "dtypes: float64(2), int64(5), object(5)\n",
      "memory usage: 2.0+ MB\n",
      "----------------------------------------------------------------------\n"
     ]
    },
    {
     "data": {
      "text/html": [
       "<div>\n",
       "<style scoped>\n",
       "    .dataframe tbody tr th:only-of-type {\n",
       "        vertical-align: middle;\n",
       "    }\n",
       "\n",
       "    .dataframe tbody tr th {\n",
       "        vertical-align: top;\n",
       "    }\n",
       "\n",
       "    .dataframe thead th {\n",
       "        text-align: right;\n",
       "    }\n",
       "</style>\n",
       "<table border=\"1\" class=\"dataframe\">\n",
       "  <thead>\n",
       "    <tr style=\"text-align: right;\">\n",
       "      <th></th>\n",
       "      <th>children</th>\n",
       "      <th>days_employed</th>\n",
       "      <th>dob_years</th>\n",
       "      <th>education</th>\n",
       "      <th>education_id</th>\n",
       "      <th>family_status</th>\n",
       "      <th>family_status_id</th>\n",
       "      <th>gender</th>\n",
       "      <th>income_type</th>\n",
       "      <th>debt</th>\n",
       "      <th>total_income</th>\n",
       "      <th>purpose</th>\n",
       "    </tr>\n",
       "  </thead>\n",
       "  <tbody>\n",
       "    <tr>\n",
       "      <th>0</th>\n",
       "      <td>1</td>\n",
       "      <td>-8437.673028</td>\n",
       "      <td>42</td>\n",
       "      <td>высшее</td>\n",
       "      <td>0</td>\n",
       "      <td>женат / замужем</td>\n",
       "      <td>0</td>\n",
       "      <td>F</td>\n",
       "      <td>сотрудник</td>\n",
       "      <td>0</td>\n",
       "      <td>253875.639453</td>\n",
       "      <td>покупка жилья</td>\n",
       "    </tr>\n",
       "    <tr>\n",
       "      <th>1</th>\n",
       "      <td>1</td>\n",
       "      <td>-4024.803754</td>\n",
       "      <td>36</td>\n",
       "      <td>среднее</td>\n",
       "      <td>1</td>\n",
       "      <td>женат / замужем</td>\n",
       "      <td>0</td>\n",
       "      <td>F</td>\n",
       "      <td>сотрудник</td>\n",
       "      <td>0</td>\n",
       "      <td>112080.014102</td>\n",
       "      <td>приобретение автомобиля</td>\n",
       "    </tr>\n",
       "    <tr>\n",
       "      <th>2</th>\n",
       "      <td>0</td>\n",
       "      <td>-5623.422610</td>\n",
       "      <td>33</td>\n",
       "      <td>Среднее</td>\n",
       "      <td>1</td>\n",
       "      <td>женат / замужем</td>\n",
       "      <td>0</td>\n",
       "      <td>M</td>\n",
       "      <td>сотрудник</td>\n",
       "      <td>0</td>\n",
       "      <td>145885.952297</td>\n",
       "      <td>покупка жилья</td>\n",
       "    </tr>\n",
       "    <tr>\n",
       "      <th>3</th>\n",
       "      <td>3</td>\n",
       "      <td>-4124.747207</td>\n",
       "      <td>32</td>\n",
       "      <td>среднее</td>\n",
       "      <td>1</td>\n",
       "      <td>женат / замужем</td>\n",
       "      <td>0</td>\n",
       "      <td>M</td>\n",
       "      <td>сотрудник</td>\n",
       "      <td>0</td>\n",
       "      <td>267628.550329</td>\n",
       "      <td>дополнительное образование</td>\n",
       "    </tr>\n",
       "    <tr>\n",
       "      <th>4</th>\n",
       "      <td>0</td>\n",
       "      <td>340266.072047</td>\n",
       "      <td>53</td>\n",
       "      <td>среднее</td>\n",
       "      <td>1</td>\n",
       "      <td>гражданский брак</td>\n",
       "      <td>1</td>\n",
       "      <td>F</td>\n",
       "      <td>пенсионер</td>\n",
       "      <td>0</td>\n",
       "      <td>158616.077870</td>\n",
       "      <td>сыграть свадьбу</td>\n",
       "    </tr>\n",
       "    <tr>\n",
       "      <th>5</th>\n",
       "      <td>0</td>\n",
       "      <td>-926.185831</td>\n",
       "      <td>27</td>\n",
       "      <td>высшее</td>\n",
       "      <td>0</td>\n",
       "      <td>гражданский брак</td>\n",
       "      <td>1</td>\n",
       "      <td>M</td>\n",
       "      <td>компаньон</td>\n",
       "      <td>0</td>\n",
       "      <td>255763.565419</td>\n",
       "      <td>покупка жилья</td>\n",
       "    </tr>\n",
       "    <tr>\n",
       "      <th>6</th>\n",
       "      <td>0</td>\n",
       "      <td>-2879.202052</td>\n",
       "      <td>43</td>\n",
       "      <td>высшее</td>\n",
       "      <td>0</td>\n",
       "      <td>женат / замужем</td>\n",
       "      <td>0</td>\n",
       "      <td>F</td>\n",
       "      <td>компаньон</td>\n",
       "      <td>0</td>\n",
       "      <td>240525.971920</td>\n",
       "      <td>операции с жильем</td>\n",
       "    </tr>\n",
       "    <tr>\n",
       "      <th>7</th>\n",
       "      <td>0</td>\n",
       "      <td>-152.779569</td>\n",
       "      <td>50</td>\n",
       "      <td>СРЕДНЕЕ</td>\n",
       "      <td>1</td>\n",
       "      <td>женат / замужем</td>\n",
       "      <td>0</td>\n",
       "      <td>M</td>\n",
       "      <td>сотрудник</td>\n",
       "      <td>0</td>\n",
       "      <td>135823.934197</td>\n",
       "      <td>образование</td>\n",
       "    </tr>\n",
       "    <tr>\n",
       "      <th>8</th>\n",
       "      <td>2</td>\n",
       "      <td>-6929.865299</td>\n",
       "      <td>35</td>\n",
       "      <td>ВЫСШЕЕ</td>\n",
       "      <td>0</td>\n",
       "      <td>гражданский брак</td>\n",
       "      <td>1</td>\n",
       "      <td>F</td>\n",
       "      <td>сотрудник</td>\n",
       "      <td>0</td>\n",
       "      <td>95856.832424</td>\n",
       "      <td>на проведение свадьбы</td>\n",
       "    </tr>\n",
       "    <tr>\n",
       "      <th>9</th>\n",
       "      <td>0</td>\n",
       "      <td>-2188.756445</td>\n",
       "      <td>41</td>\n",
       "      <td>среднее</td>\n",
       "      <td>1</td>\n",
       "      <td>женат / замужем</td>\n",
       "      <td>0</td>\n",
       "      <td>M</td>\n",
       "      <td>сотрудник</td>\n",
       "      <td>0</td>\n",
       "      <td>144425.938277</td>\n",
       "      <td>покупка жилья для семьи</td>\n",
       "    </tr>\n",
       "  </tbody>\n",
       "</table>\n",
       "</div>"
      ],
      "text/plain": [
       "   children  days_employed  dob_years education  education_id  \\\n",
       "0         1   -8437.673028         42    высшее             0   \n",
       "1         1   -4024.803754         36   среднее             1   \n",
       "2         0   -5623.422610         33   Среднее             1   \n",
       "3         3   -4124.747207         32   среднее             1   \n",
       "4         0  340266.072047         53   среднее             1   \n",
       "5         0    -926.185831         27    высшее             0   \n",
       "6         0   -2879.202052         43    высшее             0   \n",
       "7         0    -152.779569         50   СРЕДНЕЕ             1   \n",
       "8         2   -6929.865299         35    ВЫСШЕЕ             0   \n",
       "9         0   -2188.756445         41   среднее             1   \n",
       "\n",
       "      family_status  family_status_id gender income_type  debt   total_income  \\\n",
       "0   женат / замужем                 0      F   сотрудник     0  253875.639453   \n",
       "1   женат / замужем                 0      F   сотрудник     0  112080.014102   \n",
       "2   женат / замужем                 0      M   сотрудник     0  145885.952297   \n",
       "3   женат / замужем                 0      M   сотрудник     0  267628.550329   \n",
       "4  гражданский брак                 1      F   пенсионер     0  158616.077870   \n",
       "5  гражданский брак                 1      M   компаньон     0  255763.565419   \n",
       "6   женат / замужем                 0      F   компаньон     0  240525.971920   \n",
       "7   женат / замужем                 0      M   сотрудник     0  135823.934197   \n",
       "8  гражданский брак                 1      F   сотрудник     0   95856.832424   \n",
       "9   женат / замужем                 0      M   сотрудник     0  144425.938277   \n",
       "\n",
       "                      purpose  \n",
       "0               покупка жилья  \n",
       "1     приобретение автомобиля  \n",
       "2               покупка жилья  \n",
       "3  дополнительное образование  \n",
       "4             сыграть свадьбу  \n",
       "5               покупка жилья  \n",
       "6           операции с жильем  \n",
       "7                 образование  \n",
       "8       на проведение свадьбы  \n",
       "9     покупка жилья для семьи  "
      ]
     },
     "metadata": {},
     "output_type": "display_data"
    },
    {
     "data": {
      "text/plain": [
       "54"
      ]
     },
     "execution_count": 2,
     "metadata": {},
     "output_type": "execute_result"
    }
   ],
   "source": [
    "# получаем данные, изучаем общую информацию\n",
    "df = pd.read_csv('/datasets/data.csv')\n",
    "df.info()\n",
    "print('-' * 70)\n",
    "display(df.head(10))\n",
    "\n",
    "#проверяем наличие дубликатов\n",
    "df.duplicated().sum()"
   ]
  },
  {
   "cell_type": "markdown",
   "metadata": {},
   "source": [
    "На небольшом отрезке таблицы в столбцах `education` и `purpose` очевидны неявные дубликаты и некорректные данные. Проверяем остальные столбцы: <a id=\"value_counts\"></a>"
   ]
  },
  {
   "cell_type": "code",
   "execution_count": 3,
   "metadata": {},
   "outputs": [
    {
     "name": "stdout",
     "output_type": "stream",
     "text": [
      "сотрудник          11119\n",
      "компаньон           5085\n",
      "пенсионер           3856\n",
      "госслужащий         1459\n",
      "предприниматель        2\n",
      "безработный            2\n",
      "студент                1\n",
      "в декрете              1\n",
      "Name: income_type, dtype: int64\n",
      "----------------------------------------------------------------------\n",
      " 0     14149\n",
      " 1      4818\n",
      " 2      2055\n",
      " 3       330\n",
      " 20       76\n",
      "-1        47\n",
      " 4        41\n",
      " 5         9\n",
      "Name: children, dtype: int64\n",
      "----------------------------------------------------------------------\n",
      "35    617\n",
      "40    609\n",
      "41    607\n",
      "34    603\n",
      "38    598\n",
      "42    597\n",
      "33    581\n",
      "39    573\n",
      "31    560\n",
      "36    555\n",
      "44    547\n",
      "29    545\n",
      "30    540\n",
      "48    538\n",
      "37    537\n",
      "50    514\n",
      "43    513\n",
      "32    510\n",
      "49    508\n",
      "28    503\n",
      "45    497\n",
      "27    493\n",
      "56    487\n",
      "52    484\n",
      "47    480\n",
      "54    479\n",
      "46    475\n",
      "58    461\n",
      "57    460\n",
      "53    459\n",
      "51    448\n",
      "59    444\n",
      "55    443\n",
      "26    408\n",
      "60    377\n",
      "25    357\n",
      "61    355\n",
      "62    352\n",
      "63    269\n",
      "64    265\n",
      "24    264\n",
      "23    254\n",
      "65    194\n",
      "66    183\n",
      "22    183\n",
      "67    167\n",
      "21    111\n",
      "0     101\n",
      "68     99\n",
      "69     85\n",
      "70     65\n",
      "71     58\n",
      "20     51\n",
      "72     33\n",
      "19     14\n",
      "73      8\n",
      "74      6\n",
      "75      1\n",
      "Name: dob_years, dtype: int64\n",
      "----------------------------------------------------------------------\n",
      "женат / замужем          12380\n",
      "гражданский брак          4177\n",
      "Не женат / не замужем     2813\n",
      "в разводе                 1195\n",
      "вдовец / вдова             960\n",
      "Name: family_status, dtype: int64\n",
      "----------------------------------------------------------------------\n",
      "0    12380\n",
      "1     4177\n",
      "4     2813\n",
      "3     1195\n",
      "2      960\n",
      "Name: family_status_id, dtype: int64\n",
      "----------------------------------------------------------------------\n",
      "F      14236\n",
      "M       7288\n",
      "XNA        1\n",
      "Name: gender, dtype: int64\n",
      "----------------------------------------------------------------------\n",
      "0    19784\n",
      "1     1741\n",
      "Name: debt, dtype: int64\n",
      "----------------------------------------------------------------------\n",
      "14585      20667\n",
      "13006      21205\n",
      "16174      21367\n",
      "1598       21695\n",
      "14276      21895\n",
      "          ...   \n",
      "17178    1711309\n",
      "20809    1715018\n",
      "9169     1726276\n",
      "19606    2200852\n",
      "12412    2265604\n",
      "Name: total_income, Length: 19351, dtype: int64\n"
     ]
    }
   ],
   "source": [
    "columns_without_problems = ['income_type', 'children', 'dob_years', 'family_status', 'family_status_id', 'gender', 'debt']\n",
    "for column in columns_without_problems:\n",
    "    print(df[column].value_counts()) #используем .value_counts(), а не .unique() с целью понимания являются ли ошибки системными или единичными выбросами\n",
    "    print('-' * 70)\n",
    "    \n",
    "total_income_df = df.sort_values(by='total_income').dropna() #отрицательные и неадекватные значения в списке дохода ищем другим путём\n",
    "print(total_income_df['total_income'].astype(int))"
   ]
  },
  {
   "cell_type": "markdown",
   "metadata": {},
   "source": [
    "В результате первичного изучения данных выявлен ряд проблем, препятствующий качественному анализу: <a id=\"anomaly\"></a>\n",
    "* Неоднозначные названия столбцов;\n",
    "* Пропущенные значения в столбцах `days_employed`, `total_income`;\n",
    "* Некорректные значения в столбце `days_employed`;\n",
    "* Неоднородные значения в столбце `education` (неявные дубликаты);\n",
    "* Неоднородные значения в столбце `purpose`;\n",
    "* Некорректные данные в столбце `total_income` (миллионные доли, неизвестные единицы измерения);</a>\n",
    "* Отрицательные и превышенные значения в столбце `children`;\n",
    "* Нулевые значения в столбце `dob_years`."
   ]
  },
  {
   "cell_type": "markdown",
   "metadata": {},
   "source": [
    "Для дальнейшей работы необходимо привести названия столбцов к однозначным наименованиям. <a id=\"p1\"></a>"
   ]
  },
  {
   "cell_type": "code",
   "execution_count": 4,
   "metadata": {},
   "outputs": [
    {
     "name": "stdout",
     "output_type": "stream",
     "text": [
      "Index(['children_count', 'days_employed', 'age', 'education', 'education_id',\n",
      "       'family_status', 'family_status_id', 'gender', 'income_type', 'debt',\n",
      "       'income_per_month', 'purpose'],\n",
      "      dtype='object')\n"
     ]
    }
   ],
   "source": [
    "df = df.rename(columns={\n",
    "    'children': 'children_count', #иначе можно понять значение как \"да/нет\" - \"1/0\"\n",
    "    'dob_years': 'age', #не сразу понятно что такое dob, да и даты рождения в столбце нет \n",
    "    'total_income': 'income_per_month'#на основании диапазона значений можем предполагать, что указана месячная зарплата\n",
    "})\n",
    "\n",
    "#проверяем изменения\n",
    "print(df.columns)"
   ]
  },
  {
   "cell_type": "markdown",
   "metadata": {},
   "source": [
    "### Шаг 2.1 Заполнение пропусков"
   ]
  },
  {
   "cell_type": "markdown",
   "metadata": {},
   "source": [
    "Вычисляем долю строк с пропущенными значениями: <a id=\"p2\"></a>"
   ]
  },
  {
   "cell_type": "code",
   "execution_count": 5,
   "metadata": {},
   "outputs": [
    {
     "name": "stdout",
     "output_type": "stream",
     "text": [
      "Количество пропущенных значений: 2174 из 21525, что соответствует 10%\n"
     ]
    }
   ],
   "source": [
    "count_nulls = df['days_employed'].isna().sum()\n",
    "count_len = len(df['days_employed'])\n",
    "print(f'Количество пропущенных значений: {count_nulls} из {count_len}, что соответствует {int(count_nulls / count_len * 100)}%')"
   ]
  },
  {
   "cell_type": "markdown",
   "metadata": {},
   "source": [
    "10% является весомым количеством для анализа данных, поэтому для задачи №3 создадим новый датафрейм, отфильтрованный от строк с пустыми значениями:"
   ]
  },
  {
   "cell_type": "code",
   "execution_count": 6,
   "metadata": {},
   "outputs": [
    {
     "name": "stdout",
     "output_type": "stream",
     "text": [
      "19351\n"
     ]
    },
    {
     "data": {
      "text/html": [
       "<div>\n",
       "<style scoped>\n",
       "    .dataframe tbody tr th:only-of-type {\n",
       "        vertical-align: middle;\n",
       "    }\n",
       "\n",
       "    .dataframe tbody tr th {\n",
       "        vertical-align: top;\n",
       "    }\n",
       "\n",
       "    .dataframe thead th {\n",
       "        text-align: right;\n",
       "    }\n",
       "</style>\n",
       "<table border=\"1\" class=\"dataframe\">\n",
       "  <thead>\n",
       "    <tr style=\"text-align: right;\">\n",
       "      <th></th>\n",
       "      <th>days_employed</th>\n",
       "      <th>income_type</th>\n",
       "      <th>debt</th>\n",
       "      <th>income_per_month</th>\n",
       "    </tr>\n",
       "  </thead>\n",
       "  <tbody>\n",
       "    <tr>\n",
       "      <th>0</th>\n",
       "      <td>-8437.673028</td>\n",
       "      <td>сотрудник</td>\n",
       "      <td>0</td>\n",
       "      <td>253875.639453</td>\n",
       "    </tr>\n",
       "    <tr>\n",
       "      <th>1</th>\n",
       "      <td>-4024.803754</td>\n",
       "      <td>сотрудник</td>\n",
       "      <td>0</td>\n",
       "      <td>112080.014102</td>\n",
       "    </tr>\n",
       "    <tr>\n",
       "      <th>2</th>\n",
       "      <td>-5623.422610</td>\n",
       "      <td>сотрудник</td>\n",
       "      <td>0</td>\n",
       "      <td>145885.952297</td>\n",
       "    </tr>\n",
       "    <tr>\n",
       "      <th>3</th>\n",
       "      <td>-4124.747207</td>\n",
       "      <td>сотрудник</td>\n",
       "      <td>0</td>\n",
       "      <td>267628.550329</td>\n",
       "    </tr>\n",
       "    <tr>\n",
       "      <th>4</th>\n",
       "      <td>340266.072047</td>\n",
       "      <td>пенсионер</td>\n",
       "      <td>0</td>\n",
       "      <td>158616.077870</td>\n",
       "    </tr>\n",
       "    <tr>\n",
       "      <th>...</th>\n",
       "      <td>...</td>\n",
       "      <td>...</td>\n",
       "      <td>...</td>\n",
       "      <td>...</td>\n",
       "    </tr>\n",
       "    <tr>\n",
       "      <th>19346</th>\n",
       "      <td>-4529.316663</td>\n",
       "      <td>компаньон</td>\n",
       "      <td>0</td>\n",
       "      <td>224791.862382</td>\n",
       "    </tr>\n",
       "    <tr>\n",
       "      <th>19347</th>\n",
       "      <td>343937.404131</td>\n",
       "      <td>пенсионер</td>\n",
       "      <td>0</td>\n",
       "      <td>155999.806512</td>\n",
       "    </tr>\n",
       "    <tr>\n",
       "      <th>19348</th>\n",
       "      <td>-2113.346888</td>\n",
       "      <td>сотрудник</td>\n",
       "      <td>1</td>\n",
       "      <td>89672.561153</td>\n",
       "    </tr>\n",
       "    <tr>\n",
       "      <th>19349</th>\n",
       "      <td>-3112.481705</td>\n",
       "      <td>сотрудник</td>\n",
       "      <td>1</td>\n",
       "      <td>244093.050500</td>\n",
       "    </tr>\n",
       "    <tr>\n",
       "      <th>19350</th>\n",
       "      <td>-1984.507589</td>\n",
       "      <td>сотрудник</td>\n",
       "      <td>0</td>\n",
       "      <td>82047.418899</td>\n",
       "    </tr>\n",
       "  </tbody>\n",
       "</table>\n",
       "<p>19351 rows × 4 columns</p>\n",
       "</div>"
      ],
      "text/plain": [
       "       days_employed income_type  debt  income_per_month\n",
       "0       -8437.673028   сотрудник     0     253875.639453\n",
       "1       -4024.803754   сотрудник     0     112080.014102\n",
       "2       -5623.422610   сотрудник     0     145885.952297\n",
       "3       -4124.747207   сотрудник     0     267628.550329\n",
       "4      340266.072047   пенсионер     0     158616.077870\n",
       "...              ...         ...   ...               ...\n",
       "19346   -4529.316663   компаньон     0     224791.862382\n",
       "19347  343937.404131   пенсионер     0     155999.806512\n",
       "19348   -2113.346888   сотрудник     1      89672.561153\n",
       "19349   -3112.481705   сотрудник     1     244093.050500\n",
       "19350   -1984.507589   сотрудник     0      82047.418899\n",
       "\n",
       "[19351 rows x 4 columns]"
      ]
     },
     "metadata": {},
     "output_type": "display_data"
    }
   ],
   "source": [
    "#удаляем пропуски и сбрасываем индексы\n",
    "df_cleared = df.dropna().reset_index(drop=True)\n",
    "\n",
    "#проверяем результаты, должна быть 19351 строка\n",
    "print(len(df_cleared))\n",
    "\n",
    "#чтобы избежать дальнейшей нецелесообразной обработки данных удаляем все столбцы из нового датафрейма, кроме нужных\n",
    "#столбец `days_employed` и `income_type` оставляем для анализа аномалий в значениях\n",
    "df_cleared = df_cleared.drop(['children_count', 'age', 'education', 'education_id', 'family_status', 'family_status_id', 'gender', 'purpose'], axis=1)\n",
    "display(df_cleared)"
   ]
  },
  {
   "cell_type": "markdown",
   "metadata": {},
   "source": [
    "Для задач №1, №2, №4 данные из столбцов `days_employed` и `income_per_month` не имеют значения, поэтому заполняем пропущенные значения медианными:"
   ]
  },
  {
   "cell_type": "code",
   "execution_count": 7,
   "metadata": {},
   "outputs": [
    {
     "name": "stdout",
     "output_type": "stream",
     "text": [
      "-1203.369529      2175\n",
      "-327.685916          1\n",
      "-4399.664923         1\n",
      "-4122.460569         1\n",
      "-2828.237691         1\n",
      "                  ... \n",
      "-2146.884040         1\n",
      "-881.454684          1\n",
      "-794.666350          1\n",
      " 372337.985304       1\n",
      "-3382.113891         1\n",
      "Name: days_employed, Length: 19351, dtype: int64\n",
      "145017.937533    2175\n",
      "106196.235958       1\n",
      "45654.214129        1\n",
      "132775.748481       1\n",
      "127240.919486       1\n",
      "                 ... \n",
      "239154.168013       1\n",
      "165009.733021       1\n",
      "94270.049769        1\n",
      "68166.012050        1\n",
      "189255.286637       1\n",
      "Name: income_per_month, Length: 19351, dtype: int64\n"
     ]
    },
    {
     "data": {
      "text/html": [
       "<div>\n",
       "<style scoped>\n",
       "    .dataframe tbody tr th:only-of-type {\n",
       "        vertical-align: middle;\n",
       "    }\n",
       "\n",
       "    .dataframe tbody tr th {\n",
       "        vertical-align: top;\n",
       "    }\n",
       "\n",
       "    .dataframe thead th {\n",
       "        text-align: right;\n",
       "    }\n",
       "</style>\n",
       "<table border=\"1\" class=\"dataframe\">\n",
       "  <thead>\n",
       "    <tr style=\"text-align: right;\">\n",
       "      <th></th>\n",
       "      <th>children_count</th>\n",
       "      <th>days_employed</th>\n",
       "      <th>age</th>\n",
       "      <th>education</th>\n",
       "      <th>education_id</th>\n",
       "      <th>family_status</th>\n",
       "      <th>family_status_id</th>\n",
       "      <th>gender</th>\n",
       "      <th>income_type</th>\n",
       "      <th>debt</th>\n",
       "      <th>income_per_month</th>\n",
       "      <th>purpose</th>\n",
       "    </tr>\n",
       "  </thead>\n",
       "  <tbody>\n",
       "    <tr>\n",
       "      <th>12</th>\n",
       "      <td>0</td>\n",
       "      <td>-1203.369529</td>\n",
       "      <td>65</td>\n",
       "      <td>среднее</td>\n",
       "      <td>1</td>\n",
       "      <td>гражданский брак</td>\n",
       "      <td>1</td>\n",
       "      <td>M</td>\n",
       "      <td>пенсионер</td>\n",
       "      <td>0</td>\n",
       "      <td>145017.937533</td>\n",
       "      <td>сыграть свадьбу</td>\n",
       "    </tr>\n",
       "    <tr>\n",
       "      <th>26</th>\n",
       "      <td>0</td>\n",
       "      <td>-1203.369529</td>\n",
       "      <td>41</td>\n",
       "      <td>среднее</td>\n",
       "      <td>1</td>\n",
       "      <td>женат / замужем</td>\n",
       "      <td>0</td>\n",
       "      <td>M</td>\n",
       "      <td>госслужащий</td>\n",
       "      <td>0</td>\n",
       "      <td>145017.937533</td>\n",
       "      <td>образование</td>\n",
       "    </tr>\n",
       "    <tr>\n",
       "      <th>29</th>\n",
       "      <td>0</td>\n",
       "      <td>-1203.369529</td>\n",
       "      <td>63</td>\n",
       "      <td>среднее</td>\n",
       "      <td>1</td>\n",
       "      <td>Не женат / не замужем</td>\n",
       "      <td>4</td>\n",
       "      <td>F</td>\n",
       "      <td>пенсионер</td>\n",
       "      <td>0</td>\n",
       "      <td>145017.937533</td>\n",
       "      <td>строительство жилой недвижимости</td>\n",
       "    </tr>\n",
       "    <tr>\n",
       "      <th>41</th>\n",
       "      <td>0</td>\n",
       "      <td>-1203.369529</td>\n",
       "      <td>50</td>\n",
       "      <td>среднее</td>\n",
       "      <td>1</td>\n",
       "      <td>женат / замужем</td>\n",
       "      <td>0</td>\n",
       "      <td>F</td>\n",
       "      <td>госслужащий</td>\n",
       "      <td>0</td>\n",
       "      <td>145017.937533</td>\n",
       "      <td>сделка с подержанным автомобилем</td>\n",
       "    </tr>\n",
       "    <tr>\n",
       "      <th>55</th>\n",
       "      <td>0</td>\n",
       "      <td>-1203.369529</td>\n",
       "      <td>54</td>\n",
       "      <td>среднее</td>\n",
       "      <td>1</td>\n",
       "      <td>гражданский брак</td>\n",
       "      <td>1</td>\n",
       "      <td>F</td>\n",
       "      <td>пенсионер</td>\n",
       "      <td>1</td>\n",
       "      <td>145017.937533</td>\n",
       "      <td>сыграть свадьбу</td>\n",
       "    </tr>\n",
       "    <tr>\n",
       "      <th>...</th>\n",
       "      <td>...</td>\n",
       "      <td>...</td>\n",
       "      <td>...</td>\n",
       "      <td>...</td>\n",
       "      <td>...</td>\n",
       "      <td>...</td>\n",
       "      <td>...</td>\n",
       "      <td>...</td>\n",
       "      <td>...</td>\n",
       "      <td>...</td>\n",
       "      <td>...</td>\n",
       "      <td>...</td>\n",
       "    </tr>\n",
       "    <tr>\n",
       "      <th>21489</th>\n",
       "      <td>2</td>\n",
       "      <td>-1203.369529</td>\n",
       "      <td>47</td>\n",
       "      <td>Среднее</td>\n",
       "      <td>1</td>\n",
       "      <td>женат / замужем</td>\n",
       "      <td>0</td>\n",
       "      <td>M</td>\n",
       "      <td>компаньон</td>\n",
       "      <td>0</td>\n",
       "      <td>145017.937533</td>\n",
       "      <td>сделка с автомобилем</td>\n",
       "    </tr>\n",
       "    <tr>\n",
       "      <th>21495</th>\n",
       "      <td>1</td>\n",
       "      <td>-1203.369529</td>\n",
       "      <td>50</td>\n",
       "      <td>среднее</td>\n",
       "      <td>1</td>\n",
       "      <td>гражданский брак</td>\n",
       "      <td>1</td>\n",
       "      <td>F</td>\n",
       "      <td>сотрудник</td>\n",
       "      <td>0</td>\n",
       "      <td>145017.937533</td>\n",
       "      <td>свадьба</td>\n",
       "    </tr>\n",
       "    <tr>\n",
       "      <th>21497</th>\n",
       "      <td>0</td>\n",
       "      <td>-1203.369529</td>\n",
       "      <td>48</td>\n",
       "      <td>ВЫСШЕЕ</td>\n",
       "      <td>0</td>\n",
       "      <td>женат / замужем</td>\n",
       "      <td>0</td>\n",
       "      <td>F</td>\n",
       "      <td>компаньон</td>\n",
       "      <td>0</td>\n",
       "      <td>145017.937533</td>\n",
       "      <td>строительство недвижимости</td>\n",
       "    </tr>\n",
       "    <tr>\n",
       "      <th>21502</th>\n",
       "      <td>1</td>\n",
       "      <td>-1203.369529</td>\n",
       "      <td>42</td>\n",
       "      <td>среднее</td>\n",
       "      <td>1</td>\n",
       "      <td>женат / замужем</td>\n",
       "      <td>0</td>\n",
       "      <td>F</td>\n",
       "      <td>сотрудник</td>\n",
       "      <td>0</td>\n",
       "      <td>145017.937533</td>\n",
       "      <td>строительство жилой недвижимости</td>\n",
       "    </tr>\n",
       "    <tr>\n",
       "      <th>21510</th>\n",
       "      <td>2</td>\n",
       "      <td>-1203.369529</td>\n",
       "      <td>28</td>\n",
       "      <td>среднее</td>\n",
       "      <td>1</td>\n",
       "      <td>женат / замужем</td>\n",
       "      <td>0</td>\n",
       "      <td>F</td>\n",
       "      <td>сотрудник</td>\n",
       "      <td>0</td>\n",
       "      <td>145017.937533</td>\n",
       "      <td>приобретение автомобиля</td>\n",
       "    </tr>\n",
       "  </tbody>\n",
       "</table>\n",
       "<p>2175 rows × 12 columns</p>\n",
       "</div>"
      ],
      "text/plain": [
       "       children_count  days_employed  age education  education_id  \\\n",
       "12                  0   -1203.369529   65   среднее             1   \n",
       "26                  0   -1203.369529   41   среднее             1   \n",
       "29                  0   -1203.369529   63   среднее             1   \n",
       "41                  0   -1203.369529   50   среднее             1   \n",
       "55                  0   -1203.369529   54   среднее             1   \n",
       "...               ...            ...  ...       ...           ...   \n",
       "21489               2   -1203.369529   47   Среднее             1   \n",
       "21495               1   -1203.369529   50   среднее             1   \n",
       "21497               0   -1203.369529   48    ВЫСШЕЕ             0   \n",
       "21502               1   -1203.369529   42   среднее             1   \n",
       "21510               2   -1203.369529   28   среднее             1   \n",
       "\n",
       "               family_status  family_status_id gender  income_type  debt  \\\n",
       "12          гражданский брак                 1      M    пенсионер     0   \n",
       "26           женат / замужем                 0      M  госслужащий     0   \n",
       "29     Не женат / не замужем                 4      F    пенсионер     0   \n",
       "41           женат / замужем                 0      F  госслужащий     0   \n",
       "55          гражданский брак                 1      F    пенсионер     1   \n",
       "...                      ...               ...    ...          ...   ...   \n",
       "21489        женат / замужем                 0      M    компаньон     0   \n",
       "21495       гражданский брак                 1      F    сотрудник     0   \n",
       "21497        женат / замужем                 0      F    компаньон     0   \n",
       "21502        женат / замужем                 0      F    сотрудник     0   \n",
       "21510        женат / замужем                 0      F    сотрудник     0   \n",
       "\n",
       "       income_per_month                           purpose  \n",
       "12        145017.937533                   сыграть свадьбу  \n",
       "26        145017.937533                       образование  \n",
       "29        145017.937533  строительство жилой недвижимости  \n",
       "41        145017.937533  сделка с подержанным автомобилем  \n",
       "55        145017.937533                   сыграть свадьбу  \n",
       "...                 ...                               ...  \n",
       "21489     145017.937533              сделка с автомобилем  \n",
       "21495     145017.937533                           свадьба  \n",
       "21497     145017.937533        строительство недвижимости  \n",
       "21502     145017.937533  строительство жилой недвижимости  \n",
       "21510     145017.937533           приобретение автомобиля  \n",
       "\n",
       "[2175 rows x 12 columns]"
      ]
     },
     "metadata": {},
     "output_type": "display_data"
    }
   ],
   "source": [
    "#вычисляем медианы для days_employed и total_income\n",
    "days_employed_median = df['days_employed'].dropna().median()\n",
    "total_income_median = df['income_per_month'].dropna().median()\n",
    "\n",
    "#заполняем пропуски медианными значениями\n",
    "df['days_employed'] = df['days_employed'].fillna(days_employed_median)\n",
    "df['income_per_month'] = df['income_per_month'].fillna(total_income_median)\n",
    "\n",
    "#проверяем заполнение, количество медианных значение должно быть равно 2174 или 2175, в зависимости от чётности/нечётности размера массива\n",
    "print(df['days_employed'].value_counts())\n",
    "print(df['income_per_month'].value_counts())\n",
    "\n",
    "display(df[df['income_per_month'] == total_income_median])"
   ]
  },
  {
   "cell_type": "markdown",
   "metadata": {},
   "source": [
    "Промежуточный итог:\n",
    "В основном датафрейме пустые значения заполнены медианными значениями, сохранён в переменной `df`.\n",
    "\n",
    "Датафрейм для задачи №2 без строк с пустыми значениями сохранён в переменной `df_cleared`."
   ]
  },
  {
   "cell_type": "markdown",
   "metadata": {},
   "source": [
    "### Шаг 2.2 Проверка данных на аномалии и исправления."
   ]
  },
  {
   "cell_type": "markdown",
   "metadata": {},
   "source": [
    "На шаге обзора данных были выявлены <a href=\"#anomaly\">аномалии</a> в данных."
   ]
  },
  {
   "cell_type": "markdown",
   "metadata": {},
   "source": [
    "#### Шаг 2.2.1 Аномалии в столбце `days_employed` <a id=\"p3\"></a>"
   ]
  },
  {
   "cell_type": "markdown",
   "metadata": {},
   "source": [
    "Данные в столбце распределены от отрицательных значений до неадекватно больших. Распределение данных ненаглядно, построим гистограмму для понимания распределения."
   ]
  },
  {
   "cell_type": "code",
   "execution_count": 8,
   "metadata": {},
   "outputs": [
    {
     "name": "stdout",
     "output_type": "stream",
     "text": [
      "AxesSubplot(0.125,0.125;0.775x0.755)\n"
     ]
    },
    {
     "data": {
      "image/png": "[encoded data removed]",
      "text/plain": [
       "<Figure size 432x288 with 1 Axes>"
      ]
     },
     "metadata": {
      "needs_background": "light"
     },
     "output_type": "display_data"
    }
   ],
   "source": [
    "print(pd.Series(df_cleared['days_employed']).hist(bins=100))"
   ]
  },
  {
   "cell_type": "markdown",
   "metadata": {},
   "source": [
    "Значения распределены неравномерно, имеется два участка:\n",
    "\n",
    "1. от отрицательных до 0;\n",
    "2. примерно от 320000 до 400000.\n",
    "\n",
    "Рассмотрим участки подробнее по-отдельности:"
   ]
  },
  {
   "cell_type": "code",
   "execution_count": 9,
   "metadata": {},
   "outputs": [
    {
     "name": "stdout",
     "output_type": "stream",
     "text": [
      "AxesSubplot(0.125,0.125;0.775x0.755)\n"
     ]
    },
    {
     "data": {
      "image/png": "[encoded data removed]",
      "text/plain": [
       "<Figure size 432x288 with 1 Axes>"
      ]
     },
     "metadata": {
      "needs_background": "light"
     },
     "output_type": "display_data"
    }
   ],
   "source": [
    "#строим гистограмму от минимального до 0\n",
    "#верхний предел пока не устанавливаем на нуле, так как мы не можем достоверно утверждать, что положительные околонулевые значения отсутствуют \n",
    "#работаем с очищенным датафреймом df_cleared, так как заполненные медианой строки дадут существенный выброс\n",
    "print(pd.Series(df_cleared['days_employed']).hist(bins=100, range=(df_cleared['days_employed'].min(), 1000)))"
   ]
  },
  {
   "cell_type": "markdown",
   "metadata": {},
   "source": [
    "Данные похожи на корректные: при стаже около 0 клиенты не подают заявки на кредиты, так как в банках часто установлено ограничение по минимальному стажу на последнем рабочем месте. Распределение также выглядит правдоподобным - при смене места работы количество людей со стажем уменьшается, наполняя околонулевые значения."
   ]
  },
  {
   "cell_type": "code",
   "execution_count": 10,
   "metadata": {},
   "outputs": [
    {
     "name": "stdout",
     "output_type": "stream",
     "text": [
      "AxesSubplot(0.125,0.125;0.775x0.755)\n"
     ]
    },
    {
     "data": {
      "image/png": "[encoded data removed]",
      "text/plain": [
       "<Figure size 432x288 with 1 Axes>"
      ]
     },
     "metadata": {
      "needs_background": "light"
     },
     "output_type": "display_data"
    }
   ],
   "source": [
    "#строим гистограмму для второго диапазона значений\n",
    "print(pd.Series(df_cleared['days_employed']).hist(bins=100, range=(330000, df_cleared['days_employed'].max())))"
   ]
  },
  {
   "cell_type": "markdown",
   "metadata": {},
   "source": [
    "Распределение выглядит случайным, отсутствуют тренд и явные пики. Диапазон захватывает промежуток времени в 191,7 лет, из чего также нельзя сделать определённые выводы. Предполагаем, что эти значения проявляются в строках, где стаж работы неприменим. Изучив <a href=\"#value_counts\">топ-4</a> значений по частоте в столбце `income_type` обнаруживаем, что для проверки предположения нам подходят пенсионеры.\n",
    "\n",
    "Проверяем гипотезу:"
   ]
  },
  {
   "cell_type": "code",
   "execution_count": 11,
   "metadata": {},
   "outputs": [
    {
     "name": "stdout",
     "output_type": "stream",
     "text": [
      "Series([], Name: days_employed, dtype: float64)\n"
     ]
    }
   ],
   "source": [
    "#используем последовательную фильтрацию. 1. Выделяем стаж всех пенсионеров:\n",
    "pensioner_employed = df_cleared[df_cleared['income_type'] == 'пенсионер']['days_employed']\n",
    "#2. Выделяем пенсионеров со стажем меньше 320000\n",
    "pensioner_employed = pensioner_employed[pensioner_employed < 320000]\n",
    "#выводим на экран, ожидаем увидеть пустой датафрейм\n",
    "print(pensioner_employed)\n"
   ]
  },
  {
   "cell_type": "markdown",
   "metadata": {},
   "source": [
    "Предположение подтвердилось: все пенсионеры учтены в диапазоне от 330000 и выше.\n",
    "\n",
    "Тем не менее, нельзя утверждать, что все учтённые в диапазоне от 330000 и выше - пенсионеры. \n",
    "\n",
    "Допускаем увидеть в полученной выборке студентов, безработных и предпринимателей, но мы не ожидаем обнаружить в выборке сотрудников, компаньонов и госслужащих."
   ]
  },
  {
   "cell_type": "code",
   "execution_count": 12,
   "metadata": {},
   "outputs": [
    {
     "name": "stdout",
     "output_type": "stream",
     "text": [
      "пенсионер      3443\n",
      "безработный       2\n",
      "Name: income_type, dtype: int64\n"
     ]
    }
   ],
   "source": [
    "immortal_workers_count = df_cleared[df_cleared['days_employed'] > 320000]\n",
    "print(immortal_workers_count['income_type'].value_counts())"
   ]
  },
  {
   "cell_type": "markdown",
   "metadata": {},
   "source": [
    "Рассмотрим значения `days_employed`, а заодно и другие данные, для безработных:"
   ]
  },
  {
   "cell_type": "code",
   "execution_count": 13,
   "metadata": {},
   "outputs": [
    {
     "data": {
      "text/html": [
       "<div>\n",
       "<style scoped>\n",
       "    .dataframe tbody tr th:only-of-type {\n",
       "        vertical-align: middle;\n",
       "    }\n",
       "\n",
       "    .dataframe tbody tr th {\n",
       "        vertical-align: top;\n",
       "    }\n",
       "\n",
       "    .dataframe thead th {\n",
       "        text-align: right;\n",
       "    }\n",
       "</style>\n",
       "<table border=\"1\" class=\"dataframe\">\n",
       "  <thead>\n",
       "    <tr style=\"text-align: right;\">\n",
       "      <th></th>\n",
       "      <th>days_employed</th>\n",
       "      <th>income_type</th>\n",
       "      <th>debt</th>\n",
       "      <th>income_per_month</th>\n",
       "    </tr>\n",
       "  </thead>\n",
       "  <tbody>\n",
       "    <tr>\n",
       "      <th>2832</th>\n",
       "      <td>337524.466835</td>\n",
       "      <td>безработный</td>\n",
       "      <td>1</td>\n",
       "      <td>59956.991984</td>\n",
       "    </tr>\n",
       "    <tr>\n",
       "      <th>13347</th>\n",
       "      <td>395302.838654</td>\n",
       "      <td>безработный</td>\n",
       "      <td>0</td>\n",
       "      <td>202722.511368</td>\n",
       "    </tr>\n",
       "  </tbody>\n",
       "</table>\n",
       "</div>"
      ],
      "text/plain": [
       "       days_employed  income_type  debt  income_per_month\n",
       "2832   337524.466835  безработный     1      59956.991984\n",
       "13347  395302.838654  безработный     0     202722.511368"
      ]
     },
     "metadata": {},
     "output_type": "display_data"
    }
   ],
   "source": [
    "display(immortal_workers_count[immortal_workers_count['income_type'] == 'безработный'])"
   ]
  },
  {
   "cell_type": "markdown",
   "metadata": {},
   "source": [
    "Из полученных данных можем предположить, что оба безработных занимаются сдачей или перепродажей жилья, но не оформлены как предприниматели.\n",
    "К сожалению, причина больших положительных значений пока не определена. Для выполнения поставленных задач не требуется понимание стажа работы, поэтому оставляем данные в существующем виде для дальнейших выяснений. Ошибочные значения не удаляем, так как данные будут утеряны после понимания дефекта."
   ]
  },
  {
   "cell_type": "markdown",
   "metadata": {},
   "source": [
    "Строки с отрицательными значениями переведём в года и изменим знак на противоположный:"
   ]
  },
  {
   "cell_type": "code",
   "execution_count": 14,
   "metadata": {},
   "outputs": [],
   "source": [
    "#так как при делении значения int переводятся в float, проводим операции последовательно\n",
    "df['years_employed'] = df['days_employed'].abs() / 365\n",
    "df['years_employed'] = df['years_employed'].astype(int)\n",
    "df_cleared['years_employed'] = df_cleared['days_employed'].abs() / 365"
   ]
  },
  {
   "cell_type": "markdown",
   "metadata": {},
   "source": [
    "#### Шаг 2.2.1 Аномалии в столбце `children` (переименовано на `children_count`)"
   ]
  },
  {
   "cell_type": "markdown",
   "metadata": {},
   "source": [
    "В столбце встречаются два аномальных значения: \"20\" и \"-1\". Для задачи №1 важно точно понимать количество детей, поэтому некорректные строки удаляем из датафрейма:"
   ]
  },
  {
   "cell_type": "code",
   "execution_count": 15,
   "metadata": {},
   "outputs": [
    {
     "name": "stdout",
     "output_type": "stream",
     "text": [
      "0    14149\n",
      "1     4818\n",
      "2     2055\n",
      "3      330\n",
      "4       41\n",
      "5        9\n",
      "Name: children_count, dtype: int64\n"
     ]
    }
   ],
   "source": [
    "#записывам новый датафрейм в переменную, которую будем использовать только для задачи №1\n",
    "df_task_1 = df.query('children_count not in [20, -1]')\n",
    "#чтобы не проводить предобработку всех значений в датафрейме, которые не нужны для решения задачи, оставим только необходимые столбцы\n",
    "df_task_1 = df_task_1.drop(['years_employed', 'days_employed', 'age', 'education', 'education_id', 'family_status', 'family_status_id', 'gender', 'income_type', 'income_per_month', 'purpose'], axis=1)\n",
    "\n",
    "#проверяем выполнение операции\n",
    "print(df_task_1['children_count'].value_counts())\n",
    "\n",
    "#для остальных датафреймов заполняем некорректные значения медианой\n",
    "children_median = df_task_1['children_count'].median().astype(int)\n",
    "df['children_count'] = df['children_count'].replace(to_replace=[20, -1], value=children_median)"
   ]
  },
  {
   "cell_type": "markdown",
   "metadata": {},
   "source": [
    "#### Шаг 2.2.2 Неоднородные записи в столбце `education` <a id=\"p4\"></a>"
   ]
  },
  {
   "cell_type": "markdown",
   "metadata": {},
   "source": [
    "В столбце `education` обнаружены записи в разных регистрах. Приведём все значения к нижнему регистру:"
   ]
  },
  {
   "cell_type": "code",
   "execution_count": 16,
   "metadata": {},
   "outputs": [
    {
     "data": {
      "text/plain": [
       "array(['высшее', 'среднее', 'неоконченное высшее', 'начальное',\n",
       "       'ученая степень'], dtype=object)"
      ]
     },
     "execution_count": 16,
     "metadata": {},
     "output_type": "execute_result"
    }
   ],
   "source": [
    "df['education'] = df['education'].str.lower()\n",
    "\n",
    "#Проверяем значения\n",
    "df['education'].unique()"
   ]
  },
  {
   "cell_type": "markdown",
   "metadata": {},
   "source": [
    "#### Неоднородные значения в столбце `purpose`"
   ]
  },
  {
   "cell_type": "markdown",
   "metadata": {},
   "source": [
    "В столбце `purpose` имеются неявные дубликаты. Приведём одинаковые по смыслу значения к уникальным."
   ]
  },
  {
   "cell_type": "code",
   "execution_count": 17,
   "metadata": {},
   "outputs": [
    {
     "name": "stdout",
     "output_type": "stream",
     "text": [
      "['автомобили' 'автомобиль' 'высшее образование'\n",
      " 'дополнительное образование' 'жилье' 'заняться высшим образованием'\n",
      " 'заняться образованием' 'на покупку автомобиля'\n",
      " 'на покупку подержанного автомобиля' 'на покупку своего автомобиля'\n",
      " 'на проведение свадьбы' 'недвижимость' 'образование' 'операции с жильем'\n",
      " 'операции с коммерческой недвижимостью' 'операции с недвижимостью'\n",
      " 'операции со своей недвижимостью' 'покупка жилой недвижимости'\n",
      " 'покупка жилья' 'покупка жилья для сдачи' 'покупка жилья для семьи'\n",
      " 'покупка коммерческой недвижимости' 'покупка недвижимости'\n",
      " 'покупка своего жилья' 'получение высшего образования'\n",
      " 'получение дополнительного образования' 'получение образования'\n",
      " 'приобретение автомобиля' 'профильное образование' 'ремонт жилью'\n",
      " 'свадьба' 'свой автомобиль' 'сделка с автомобилем'\n",
      " 'сделка с подержанным автомобилем' 'строительство жилой недвижимости'\n",
      " 'строительство недвижимости' 'строительство собственной недвижимости'\n",
      " 'сыграть свадьбу']\n"
     ]
    }
   ],
   "source": [
    "#Рассмотрим уникальные значения\n",
    "unique_purposes = df['purpose'].sort_values()\n",
    "print(unique_purposes.unique())"
   ]
  },
  {
   "cell_type": "code",
   "execution_count": 18,
   "metadata": {},
   "outputs": [
    {
     "name": "stdout",
     "output_type": "stream",
     "text": [
      "['образование' 'покупка автомобиля' 'покупка недвижимости' 'ремонт'\n",
      " 'свадьба']\n"
     ]
    }
   ],
   "source": [
    "#Функция для замены неявных дубликатов\n",
    "def replace_wrong_purposes(wrong_purposes, correct_purpose):\n",
    "    for wrong_purpose in wrong_purposes:\n",
    "        df['purpose'] = df['purpose'].replace(wrong_purpose, correct_purpose)\n",
    "        \n",
    "#Устраняем дубликаты\n",
    "wrong_duplicates = ['автомобили', 'автомобиль', 'на покупку автомобиля', 'на покупку подержанного автомобиля', 'на покупку своего автомобиля', 'приобретение автомобиля', 'свой автомобиль', 'сделка с автомобилем', 'сделка с подержанным автомобилем']\n",
    "correct_unique = 'покупка автомобиля'\n",
    "replace_wrong_purposes(wrong_duplicates, correct_unique)\n",
    "\n",
    "wrong_duplicates = ['высшее образование', 'дополнительное образование', 'заняться высшим образованием', 'заняться образованием', 'образование', 'получение высшего образования', 'получение дополнительного образования', 'получение образования', 'профильное образование'] \n",
    "correct_unique = 'образование'\n",
    "replace_wrong_purposes(wrong_duplicates, correct_unique)\n",
    "\n",
    "wrong_duplicates = ['покупка своего жилья', 'жилье', 'недвижимость', 'операции с жильем', 'операции с коммерческой недвижимостью', 'операции со своей недвижимостью', 'операции с недвижимостью', 'покупка жилой недвижимости', 'покупка жилья', 'покупка жилья для сдачи', 'покупка жилья для семьи', 'покупка коммерческой недвижимости', 'покупка недвижимости' 'покупка своего жилья', 'строительство жилой недвижимости', 'строительство недвижимости', 'строительство собственной недвижимости'] \n",
    "correct_unique = 'покупка недвижимости'\n",
    "replace_wrong_purposes(wrong_duplicates, correct_unique)\n",
    "\n",
    "wrong_duplicates = ['на проведение свадьбы', 'сыграть свадьбу'] \n",
    "correct_unique = 'свадьба'\n",
    "df = df.replace('ремонт жилью', 'ремонт')\n",
    "\n",
    "replace_wrong_purposes(wrong_duplicates, correct_unique)\n",
    "print(df['purpose'].sort_values().unique())"
   ]
  },
  {
   "cell_type": "markdown",
   "metadata": {},
   "source": [
    "#### Вывод:\n",
    "1. Необходимо разобраться в принципе заполнения `days_employed` для пенсионеров и безработных: являются ли данные ошибочными или представлены в неправильном виде;\n",
    "2. От основного датафрейма ответвлён `df_task_1`"
   ]
  },
  {
   "cell_type": "markdown",
   "metadata": {},
   "source": [
    "\n",
    "### Шаг 2.3. Изменение типов данных."
   ]
  },
  {
   "cell_type": "markdown",
   "metadata": {},
   "source": [
    "Некорректный тип данных встречается в столбцах:\n",
    "* `days_employed`, `income_per_month` - перевести float в int;\n",
    "* `debt` - перевести в bool"
   ]
  },
  {
   "cell_type": "code",
   "execution_count": 19,
   "metadata": {},
   "outputs": [
    {
     "data": {
      "text/plain": [
       "days_employed         int64\n",
       "income_type          object\n",
       "debt                   bool\n",
       "income_per_month      int64\n",
       "years_employed      float64\n",
       "dtype: object"
      ]
     },
     "execution_count": 19,
     "metadata": {},
     "output_type": "execute_result"
    }
   ],
   "source": [
    "df['days_employed'] = df['days_employed'].abs().astype(int)\n",
    "df_cleared['days_employed'] = df_cleared['days_employed'].abs().astype(int)\n",
    "\n",
    "df['income_per_month'] = df['income_per_month'].astype(int)\n",
    "df_cleared['income_per_month'] = df_cleared['income_per_month'].astype(int)\n",
    "\n",
    "df['debt'] = df['debt'].astype(bool)\n",
    "df_cleared['debt'] = df_cleared['debt'].astype(bool)\n",
    "\n",
    "#Проверяем изменения\n",
    "df_cleared.dtypes"
   ]
  },
  {
   "cell_type": "markdown",
   "metadata": {},
   "source": [
    "### Шаг 2.4. Удаление дубликатов."
   ]
  },
  {
   "cell_type": "code",
   "execution_count": 20,
   "metadata": {},
   "outputs": [
    {
     "data": {
      "text/plain": [
       "386"
      ]
     },
     "execution_count": 20,
     "metadata": {},
     "output_type": "execute_result"
    }
   ],
   "source": [
    "#проверяем наличие дубликатов\n",
    "df.duplicated().sum()"
   ]
  },
  {
   "cell_type": "markdown",
   "metadata": {},
   "source": [
    "Дубликаты можно допустить, так как отсутствуют уникальные id каждого клиента, а пересечения возможны, т.к. количество комбинаций не такое большое, как может показаться: определённые группы людей имеют определённый возраст, с высокой вероятностью будут иметь похожий уровень заработка, стаж работы и схожую цель кредита.\n",
    "\n",
    "На этапе первичного просмотра датафрейма количество дубликатов было 54. После очистки данных - 378, что может указывать на уникальность всех данных, а все дубликаты - совпадения.\n"
   ]
  },
  {
   "cell_type": "code",
   "execution_count": 21,
   "metadata": {},
   "outputs": [
    {
     "data": {
      "text/plain": [
       "0"
      ]
     },
     "execution_count": 21,
     "metadata": {},
     "output_type": "execute_result"
    }
   ],
   "source": [
    "#Проверим наличие дубликатов в отфильтрованном датафрейме\n",
    "df_cleared.duplicated().sum()"
   ]
  },
  {
   "cell_type": "markdown",
   "metadata": {},
   "source": [
    "Из этого следует, что дубликаты образуются в строках, где пропущены значения в столбцах `days_employed` и `income_per_month`, что дополнительно подтверждает вероятность уникальности всех значений, то есть все дубликаты - это разные клиенты, но с одинаковыми данными.\n",
    "\n",
    "На основании полученых данных можно утверждать, что миллионные доли в столбцах `days_employed` и `income_per_month` можно принимать за \"подпись\", подтверждающую уникальность данных.\n",
    "\n",
    "Принимаем решение не удалять дубликаты."
   ]
  },
  {
   "cell_type": "markdown",
   "metadata": {},
   "source": [
    "Для дальнейшего анализа в очищенном датафрейме можем оставить только необходимые столбцы:"
   ]
  },
  {
   "cell_type": "code",
   "execution_count": 22,
   "metadata": {},
   "outputs": [
    {
     "data": {
      "text/html": [
       "<div>\n",
       "<style scoped>\n",
       "    .dataframe tbody tr th:only-of-type {\n",
       "        vertical-align: middle;\n",
       "    }\n",
       "\n",
       "    .dataframe tbody tr th {\n",
       "        vertical-align: top;\n",
       "    }\n",
       "\n",
       "    .dataframe thead th {\n",
       "        text-align: right;\n",
       "    }\n",
       "</style>\n",
       "<table border=\"1\" class=\"dataframe\">\n",
       "  <thead>\n",
       "    <tr style=\"text-align: right;\">\n",
       "      <th></th>\n",
       "      <th>debt</th>\n",
       "      <th>income_per_month</th>\n",
       "    </tr>\n",
       "  </thead>\n",
       "  <tbody>\n",
       "    <tr>\n",
       "      <th>0</th>\n",
       "      <td>False</td>\n",
       "      <td>253875</td>\n",
       "    </tr>\n",
       "    <tr>\n",
       "      <th>1</th>\n",
       "      <td>False</td>\n",
       "      <td>112080</td>\n",
       "    </tr>\n",
       "    <tr>\n",
       "      <th>2</th>\n",
       "      <td>False</td>\n",
       "      <td>145885</td>\n",
       "    </tr>\n",
       "    <tr>\n",
       "      <th>3</th>\n",
       "      <td>False</td>\n",
       "      <td>267628</td>\n",
       "    </tr>\n",
       "    <tr>\n",
       "      <th>4</th>\n",
       "      <td>False</td>\n",
       "      <td>158616</td>\n",
       "    </tr>\n",
       "    <tr>\n",
       "      <th>...</th>\n",
       "      <td>...</td>\n",
       "      <td>...</td>\n",
       "    </tr>\n",
       "    <tr>\n",
       "      <th>19346</th>\n",
       "      <td>False</td>\n",
       "      <td>224791</td>\n",
       "    </tr>\n",
       "    <tr>\n",
       "      <th>19347</th>\n",
       "      <td>False</td>\n",
       "      <td>155999</td>\n",
       "    </tr>\n",
       "    <tr>\n",
       "      <th>19348</th>\n",
       "      <td>True</td>\n",
       "      <td>89672</td>\n",
       "    </tr>\n",
       "    <tr>\n",
       "      <th>19349</th>\n",
       "      <td>True</td>\n",
       "      <td>244093</td>\n",
       "    </tr>\n",
       "    <tr>\n",
       "      <th>19350</th>\n",
       "      <td>False</td>\n",
       "      <td>82047</td>\n",
       "    </tr>\n",
       "  </tbody>\n",
       "</table>\n",
       "<p>19351 rows × 2 columns</p>\n",
       "</div>"
      ],
      "text/plain": [
       "        debt  income_per_month\n",
       "0      False            253875\n",
       "1      False            112080\n",
       "2      False            145885\n",
       "3      False            267628\n",
       "4      False            158616\n",
       "...      ...               ...\n",
       "19346  False            224791\n",
       "19347  False            155999\n",
       "19348   True             89672\n",
       "19349   True            244093\n",
       "19350  False             82047\n",
       "\n",
       "[19351 rows x 2 columns]"
      ]
     },
     "metadata": {},
     "output_type": "display_data"
    }
   ],
   "source": [
    "df_cleared = df_cleared.drop(['days_employed', 'income_type', 'years_employed'], axis=1)\n",
    "display(df_cleared)"
   ]
  },
  {
   "cell_type": "markdown",
   "metadata": {},
   "source": [
    "### Шаг 2.5. Формирование дополнительных датафреймов словарей, декомпозиция исходного датафрейма."
   ]
  },
  {
   "cell_type": "markdown",
   "metadata": {},
   "source": [
    "В основном датарейме существуют столбцы со значениями и соответствующими id. Создадим датафреймы словари:"
   ]
  },
  {
   "cell_type": "markdown",
   "metadata": {},
   "source": [
    "#### Шаг 2.5.1. Словарь для `education`"
   ]
  },
  {
   "cell_type": "code",
   "execution_count": 23,
   "metadata": {},
   "outputs": [
    {
     "data": {
      "text/html": [
       "<div>\n",
       "<style scoped>\n",
       "    .dataframe tbody tr th:only-of-type {\n",
       "        vertical-align: middle;\n",
       "    }\n",
       "\n",
       "    .dataframe tbody tr th {\n",
       "        vertical-align: top;\n",
       "    }\n",
       "\n",
       "    .dataframe thead th {\n",
       "        text-align: right;\n",
       "    }\n",
       "</style>\n",
       "<table border=\"1\" class=\"dataframe\">\n",
       "  <thead>\n",
       "    <tr style=\"text-align: right;\">\n",
       "      <th></th>\n",
       "      <th>education</th>\n",
       "      <th>education_id</th>\n",
       "    </tr>\n",
       "  </thead>\n",
       "  <tbody>\n",
       "    <tr>\n",
       "      <th>0</th>\n",
       "      <td>высшее</td>\n",
       "      <td>0</td>\n",
       "    </tr>\n",
       "    <tr>\n",
       "      <th>1</th>\n",
       "      <td>среднее</td>\n",
       "      <td>1</td>\n",
       "    </tr>\n",
       "    <tr>\n",
       "      <th>2</th>\n",
       "      <td>неоконченное высшее</td>\n",
       "      <td>2</td>\n",
       "    </tr>\n",
       "    <tr>\n",
       "      <th>3</th>\n",
       "      <td>начальное</td>\n",
       "      <td>3</td>\n",
       "    </tr>\n",
       "    <tr>\n",
       "      <th>4</th>\n",
       "      <td>ученая степень</td>\n",
       "      <td>4</td>\n",
       "    </tr>\n",
       "  </tbody>\n",
       "</table>\n",
       "</div>"
      ],
      "text/plain": [
       "             education  education_id\n",
       "0               высшее             0\n",
       "1              среднее             1\n",
       "2  неоконченное высшее             2\n",
       "3            начальное             3\n",
       "4       ученая степень             4"
      ]
     },
     "metadata": {},
     "output_type": "display_data"
    }
   ],
   "source": [
    "#Вводим новую переменную со словарём\n",
    "education_dict = df[['education', 'education_id']]\n",
    "\n",
    "#Удаляем дубликаты\n",
    "education_dict = education_dict.drop_duplicates().reset_index(drop=True)\n",
    "\n",
    "display(education_dict)"
   ]
  },
  {
   "cell_type": "markdown",
   "metadata": {},
   "source": [
    "#### Шаг 2.5.2. Словарь для `family_status`"
   ]
  },
  {
   "cell_type": "code",
   "execution_count": 24,
   "metadata": {},
   "outputs": [
    {
     "data": {
      "text/html": [
       "<div>\n",
       "<style scoped>\n",
       "    .dataframe tbody tr th:only-of-type {\n",
       "        vertical-align: middle;\n",
       "    }\n",
       "\n",
       "    .dataframe tbody tr th {\n",
       "        vertical-align: top;\n",
       "    }\n",
       "\n",
       "    .dataframe thead th {\n",
       "        text-align: right;\n",
       "    }\n",
       "</style>\n",
       "<table border=\"1\" class=\"dataframe\">\n",
       "  <thead>\n",
       "    <tr style=\"text-align: right;\">\n",
       "      <th></th>\n",
       "      <th>family_status</th>\n",
       "      <th>family_status_id</th>\n",
       "    </tr>\n",
       "  </thead>\n",
       "  <tbody>\n",
       "    <tr>\n",
       "      <th>0</th>\n",
       "      <td>женат / замужем</td>\n",
       "      <td>0</td>\n",
       "    </tr>\n",
       "    <tr>\n",
       "      <th>1</th>\n",
       "      <td>гражданский брак</td>\n",
       "      <td>1</td>\n",
       "    </tr>\n",
       "    <tr>\n",
       "      <th>2</th>\n",
       "      <td>вдовец / вдова</td>\n",
       "      <td>2</td>\n",
       "    </tr>\n",
       "    <tr>\n",
       "      <th>3</th>\n",
       "      <td>в разводе</td>\n",
       "      <td>3</td>\n",
       "    </tr>\n",
       "    <tr>\n",
       "      <th>4</th>\n",
       "      <td>Не женат / не замужем</td>\n",
       "      <td>4</td>\n",
       "    </tr>\n",
       "  </tbody>\n",
       "</table>\n",
       "</div>"
      ],
      "text/plain": [
       "           family_status  family_status_id\n",
       "0        женат / замужем                 0\n",
       "1       гражданский брак                 1\n",
       "2         вдовец / вдова                 2\n",
       "3              в разводе                 3\n",
       "4  Не женат / не замужем                 4"
      ]
     },
     "metadata": {},
     "output_type": "display_data"
    }
   ],
   "source": [
    "family_status_dict = df[['family_status', 'family_status_id']]\n",
    "\n",
    "family_status_dict = family_status_dict.drop_duplicates().reset_index(drop=True)\n",
    "\n",
    "display(family_status_dict)"
   ]
  },
  {
   "cell_type": "markdown",
   "metadata": {},
   "source": [
    "Для простоты чтения таблицы удаляем столбцы с дублирующейся информацией"
   ]
  },
  {
   "cell_type": "code",
   "execution_count": 25,
   "metadata": {},
   "outputs": [
    {
     "data": {
      "text/html": [
       "<div>\n",
       "<style scoped>\n",
       "    .dataframe tbody tr th:only-of-type {\n",
       "        vertical-align: middle;\n",
       "    }\n",
       "\n",
       "    .dataframe tbody tr th {\n",
       "        vertical-align: top;\n",
       "    }\n",
       "\n",
       "    .dataframe thead th {\n",
       "        text-align: right;\n",
       "    }\n",
       "</style>\n",
       "<table border=\"1\" class=\"dataframe\">\n",
       "  <thead>\n",
       "    <tr style=\"text-align: right;\">\n",
       "      <th></th>\n",
       "      <th>children_count</th>\n",
       "      <th>days_employed</th>\n",
       "      <th>age</th>\n",
       "      <th>education_id</th>\n",
       "      <th>family_status_id</th>\n",
       "      <th>gender</th>\n",
       "      <th>income_type</th>\n",
       "      <th>debt</th>\n",
       "      <th>income_per_month</th>\n",
       "      <th>purpose</th>\n",
       "      <th>years_employed</th>\n",
       "    </tr>\n",
       "  </thead>\n",
       "  <tbody>\n",
       "    <tr>\n",
       "      <th>0</th>\n",
       "      <td>1</td>\n",
       "      <td>8437</td>\n",
       "      <td>42</td>\n",
       "      <td>0</td>\n",
       "      <td>0</td>\n",
       "      <td>F</td>\n",
       "      <td>сотрудник</td>\n",
       "      <td>False</td>\n",
       "      <td>253875</td>\n",
       "      <td>покупка недвижимости</td>\n",
       "      <td>23</td>\n",
       "    </tr>\n",
       "    <tr>\n",
       "      <th>1</th>\n",
       "      <td>1</td>\n",
       "      <td>4024</td>\n",
       "      <td>36</td>\n",
       "      <td>1</td>\n",
       "      <td>0</td>\n",
       "      <td>F</td>\n",
       "      <td>сотрудник</td>\n",
       "      <td>False</td>\n",
       "      <td>112080</td>\n",
       "      <td>покупка автомобиля</td>\n",
       "      <td>11</td>\n",
       "    </tr>\n",
       "    <tr>\n",
       "      <th>2</th>\n",
       "      <td>0</td>\n",
       "      <td>5623</td>\n",
       "      <td>33</td>\n",
       "      <td>1</td>\n",
       "      <td>0</td>\n",
       "      <td>M</td>\n",
       "      <td>сотрудник</td>\n",
       "      <td>False</td>\n",
       "      <td>145885</td>\n",
       "      <td>покупка недвижимости</td>\n",
       "      <td>15</td>\n",
       "    </tr>\n",
       "    <tr>\n",
       "      <th>3</th>\n",
       "      <td>3</td>\n",
       "      <td>4124</td>\n",
       "      <td>32</td>\n",
       "      <td>1</td>\n",
       "      <td>0</td>\n",
       "      <td>M</td>\n",
       "      <td>сотрудник</td>\n",
       "      <td>False</td>\n",
       "      <td>267628</td>\n",
       "      <td>образование</td>\n",
       "      <td>11</td>\n",
       "    </tr>\n",
       "    <tr>\n",
       "      <th>4</th>\n",
       "      <td>0</td>\n",
       "      <td>340266</td>\n",
       "      <td>53</td>\n",
       "      <td>1</td>\n",
       "      <td>1</td>\n",
       "      <td>F</td>\n",
       "      <td>пенсионер</td>\n",
       "      <td>False</td>\n",
       "      <td>158616</td>\n",
       "      <td>свадьба</td>\n",
       "      <td>932</td>\n",
       "    </tr>\n",
       "    <tr>\n",
       "      <th>...</th>\n",
       "      <td>...</td>\n",
       "      <td>...</td>\n",
       "      <td>...</td>\n",
       "      <td>...</td>\n",
       "      <td>...</td>\n",
       "      <td>...</td>\n",
       "      <td>...</td>\n",
       "      <td>...</td>\n",
       "      <td>...</td>\n",
       "      <td>...</td>\n",
       "      <td>...</td>\n",
       "    </tr>\n",
       "    <tr>\n",
       "      <th>21520</th>\n",
       "      <td>1</td>\n",
       "      <td>4529</td>\n",
       "      <td>43</td>\n",
       "      <td>1</td>\n",
       "      <td>1</td>\n",
       "      <td>F</td>\n",
       "      <td>компаньон</td>\n",
       "      <td>False</td>\n",
       "      <td>224791</td>\n",
       "      <td>покупка недвижимости</td>\n",
       "      <td>12</td>\n",
       "    </tr>\n",
       "    <tr>\n",
       "      <th>21521</th>\n",
       "      <td>0</td>\n",
       "      <td>343937</td>\n",
       "      <td>67</td>\n",
       "      <td>1</td>\n",
       "      <td>0</td>\n",
       "      <td>F</td>\n",
       "      <td>пенсионер</td>\n",
       "      <td>False</td>\n",
       "      <td>155999</td>\n",
       "      <td>покупка автомобиля</td>\n",
       "      <td>942</td>\n",
       "    </tr>\n",
       "    <tr>\n",
       "      <th>21522</th>\n",
       "      <td>1</td>\n",
       "      <td>2113</td>\n",
       "      <td>38</td>\n",
       "      <td>1</td>\n",
       "      <td>1</td>\n",
       "      <td>M</td>\n",
       "      <td>сотрудник</td>\n",
       "      <td>True</td>\n",
       "      <td>89672</td>\n",
       "      <td>покупка недвижимости</td>\n",
       "      <td>5</td>\n",
       "    </tr>\n",
       "    <tr>\n",
       "      <th>21523</th>\n",
       "      <td>3</td>\n",
       "      <td>3112</td>\n",
       "      <td>38</td>\n",
       "      <td>1</td>\n",
       "      <td>0</td>\n",
       "      <td>M</td>\n",
       "      <td>сотрудник</td>\n",
       "      <td>True</td>\n",
       "      <td>244093</td>\n",
       "      <td>покупка автомобиля</td>\n",
       "      <td>8</td>\n",
       "    </tr>\n",
       "    <tr>\n",
       "      <th>21524</th>\n",
       "      <td>2</td>\n",
       "      <td>1984</td>\n",
       "      <td>40</td>\n",
       "      <td>1</td>\n",
       "      <td>0</td>\n",
       "      <td>F</td>\n",
       "      <td>сотрудник</td>\n",
       "      <td>False</td>\n",
       "      <td>82047</td>\n",
       "      <td>покупка автомобиля</td>\n",
       "      <td>5</td>\n",
       "    </tr>\n",
       "  </tbody>\n",
       "</table>\n",
       "<p>21525 rows × 11 columns</p>\n",
       "</div>"
      ],
      "text/plain": [
       "       children_count  days_employed  age  education_id  family_status_id  \\\n",
       "0                   1           8437   42             0                 0   \n",
       "1                   1           4024   36             1                 0   \n",
       "2                   0           5623   33             1                 0   \n",
       "3                   3           4124   32             1                 0   \n",
       "4                   0         340266   53             1                 1   \n",
       "...               ...            ...  ...           ...               ...   \n",
       "21520               1           4529   43             1                 1   \n",
       "21521               0         343937   67             1                 0   \n",
       "21522               1           2113   38             1                 1   \n",
       "21523               3           3112   38             1                 0   \n",
       "21524               2           1984   40             1                 0   \n",
       "\n",
       "      gender income_type   debt  income_per_month               purpose  \\\n",
       "0          F   сотрудник  False            253875  покупка недвижимости   \n",
       "1          F   сотрудник  False            112080    покупка автомобиля   \n",
       "2          M   сотрудник  False            145885  покупка недвижимости   \n",
       "3          M   сотрудник  False            267628           образование   \n",
       "4          F   пенсионер  False            158616               свадьба   \n",
       "...      ...         ...    ...               ...                   ...   \n",
       "21520      F   компаньон  False            224791  покупка недвижимости   \n",
       "21521      F   пенсионер  False            155999    покупка автомобиля   \n",
       "21522      M   сотрудник   True             89672  покупка недвижимости   \n",
       "21523      M   сотрудник   True            244093    покупка автомобиля   \n",
       "21524      F   сотрудник  False             82047    покупка автомобиля   \n",
       "\n",
       "       years_employed  \n",
       "0                  23  \n",
       "1                  11  \n",
       "2                  15  \n",
       "3                  11  \n",
       "4                 932  \n",
       "...               ...  \n",
       "21520              12  \n",
       "21521             942  \n",
       "21522               5  \n",
       "21523               8  \n",
       "21524               5  \n",
       "\n",
       "[21525 rows x 11 columns]"
      ]
     },
     "metadata": {},
     "output_type": "display_data"
    }
   ],
   "source": [
    "df = df.drop(['education', 'family_status'], axis=1)\n",
    "display(df)"
   ]
  },
  {
   "cell_type": "markdown",
   "metadata": {},
   "source": [
    "**Вывод:** созданы датафреймы словари с id семейного положения и id уровня образования."
   ]
  },
  {
   "cell_type": "markdown",
   "metadata": {},
   "source": [
    "### Шаг 2.6. Категоризация дохода."
   ]
  },
  {
   "cell_type": "markdown",
   "metadata": {},
   "source": [
    "Для упрощения дальнейшего анализа необходимо перевести данные о доходе клиентов в более наглядный вид. Категоризируем значения:"
   ]
  },
  {
   "cell_type": "code",
   "execution_count": 26,
   "metadata": {},
   "outputs": [
    {
     "data": {
      "text/html": [
       "<div>\n",
       "<style scoped>\n",
       "    .dataframe tbody tr th:only-of-type {\n",
       "        vertical-align: middle;\n",
       "    }\n",
       "\n",
       "    .dataframe tbody tr th {\n",
       "        vertical-align: top;\n",
       "    }\n",
       "\n",
       "    .dataframe thead th {\n",
       "        text-align: right;\n",
       "    }\n",
       "</style>\n",
       "<table border=\"1\" class=\"dataframe\">\n",
       "  <thead>\n",
       "    <tr style=\"text-align: right;\">\n",
       "      <th></th>\n",
       "      <th>children_count</th>\n",
       "      <th>days_employed</th>\n",
       "      <th>age</th>\n",
       "      <th>education_id</th>\n",
       "      <th>family_status_id</th>\n",
       "      <th>gender</th>\n",
       "      <th>income_type</th>\n",
       "      <th>debt</th>\n",
       "      <th>income_per_month</th>\n",
       "      <th>purpose</th>\n",
       "      <th>years_employed</th>\n",
       "      <th>total_income_category</th>\n",
       "    </tr>\n",
       "  </thead>\n",
       "  <tbody>\n",
       "    <tr>\n",
       "      <th>0</th>\n",
       "      <td>1</td>\n",
       "      <td>8437</td>\n",
       "      <td>42</td>\n",
       "      <td>0</td>\n",
       "      <td>0</td>\n",
       "      <td>F</td>\n",
       "      <td>сотрудник</td>\n",
       "      <td>False</td>\n",
       "      <td>253875</td>\n",
       "      <td>покупка недвижимости</td>\n",
       "      <td>23</td>\n",
       "      <td>B</td>\n",
       "    </tr>\n",
       "    <tr>\n",
       "      <th>1</th>\n",
       "      <td>1</td>\n",
       "      <td>4024</td>\n",
       "      <td>36</td>\n",
       "      <td>1</td>\n",
       "      <td>0</td>\n",
       "      <td>F</td>\n",
       "      <td>сотрудник</td>\n",
       "      <td>False</td>\n",
       "      <td>112080</td>\n",
       "      <td>покупка автомобиля</td>\n",
       "      <td>11</td>\n",
       "      <td>C</td>\n",
       "    </tr>\n",
       "    <tr>\n",
       "      <th>2</th>\n",
       "      <td>0</td>\n",
       "      <td>5623</td>\n",
       "      <td>33</td>\n",
       "      <td>1</td>\n",
       "      <td>0</td>\n",
       "      <td>M</td>\n",
       "      <td>сотрудник</td>\n",
       "      <td>False</td>\n",
       "      <td>145885</td>\n",
       "      <td>покупка недвижимости</td>\n",
       "      <td>15</td>\n",
       "      <td>C</td>\n",
       "    </tr>\n",
       "    <tr>\n",
       "      <th>3</th>\n",
       "      <td>3</td>\n",
       "      <td>4124</td>\n",
       "      <td>32</td>\n",
       "      <td>1</td>\n",
       "      <td>0</td>\n",
       "      <td>M</td>\n",
       "      <td>сотрудник</td>\n",
       "      <td>False</td>\n",
       "      <td>267628</td>\n",
       "      <td>образование</td>\n",
       "      <td>11</td>\n",
       "      <td>B</td>\n",
       "    </tr>\n",
       "    <tr>\n",
       "      <th>4</th>\n",
       "      <td>0</td>\n",
       "      <td>340266</td>\n",
       "      <td>53</td>\n",
       "      <td>1</td>\n",
       "      <td>1</td>\n",
       "      <td>F</td>\n",
       "      <td>пенсионер</td>\n",
       "      <td>False</td>\n",
       "      <td>158616</td>\n",
       "      <td>свадьба</td>\n",
       "      <td>932</td>\n",
       "      <td>C</td>\n",
       "    </tr>\n",
       "    <tr>\n",
       "      <th>...</th>\n",
       "      <td>...</td>\n",
       "      <td>...</td>\n",
       "      <td>...</td>\n",
       "      <td>...</td>\n",
       "      <td>...</td>\n",
       "      <td>...</td>\n",
       "      <td>...</td>\n",
       "      <td>...</td>\n",
       "      <td>...</td>\n",
       "      <td>...</td>\n",
       "      <td>...</td>\n",
       "      <td>...</td>\n",
       "    </tr>\n",
       "    <tr>\n",
       "      <th>21520</th>\n",
       "      <td>1</td>\n",
       "      <td>4529</td>\n",
       "      <td>43</td>\n",
       "      <td>1</td>\n",
       "      <td>1</td>\n",
       "      <td>F</td>\n",
       "      <td>компаньон</td>\n",
       "      <td>False</td>\n",
       "      <td>224791</td>\n",
       "      <td>покупка недвижимости</td>\n",
       "      <td>12</td>\n",
       "      <td>B</td>\n",
       "    </tr>\n",
       "    <tr>\n",
       "      <th>21521</th>\n",
       "      <td>0</td>\n",
       "      <td>343937</td>\n",
       "      <td>67</td>\n",
       "      <td>1</td>\n",
       "      <td>0</td>\n",
       "      <td>F</td>\n",
       "      <td>пенсионер</td>\n",
       "      <td>False</td>\n",
       "      <td>155999</td>\n",
       "      <td>покупка автомобиля</td>\n",
       "      <td>942</td>\n",
       "      <td>C</td>\n",
       "    </tr>\n",
       "    <tr>\n",
       "      <th>21522</th>\n",
       "      <td>1</td>\n",
       "      <td>2113</td>\n",
       "      <td>38</td>\n",
       "      <td>1</td>\n",
       "      <td>1</td>\n",
       "      <td>M</td>\n",
       "      <td>сотрудник</td>\n",
       "      <td>True</td>\n",
       "      <td>89672</td>\n",
       "      <td>покупка недвижимости</td>\n",
       "      <td>5</td>\n",
       "      <td>C</td>\n",
       "    </tr>\n",
       "    <tr>\n",
       "      <th>21523</th>\n",
       "      <td>3</td>\n",
       "      <td>3112</td>\n",
       "      <td>38</td>\n",
       "      <td>1</td>\n",
       "      <td>0</td>\n",
       "      <td>M</td>\n",
       "      <td>сотрудник</td>\n",
       "      <td>True</td>\n",
       "      <td>244093</td>\n",
       "      <td>покупка автомобиля</td>\n",
       "      <td>8</td>\n",
       "      <td>B</td>\n",
       "    </tr>\n",
       "    <tr>\n",
       "      <th>21524</th>\n",
       "      <td>2</td>\n",
       "      <td>1984</td>\n",
       "      <td>40</td>\n",
       "      <td>1</td>\n",
       "      <td>0</td>\n",
       "      <td>F</td>\n",
       "      <td>сотрудник</td>\n",
       "      <td>False</td>\n",
       "      <td>82047</td>\n",
       "      <td>покупка автомобиля</td>\n",
       "      <td>5</td>\n",
       "      <td>C</td>\n",
       "    </tr>\n",
       "  </tbody>\n",
       "</table>\n",
       "<p>21525 rows × 12 columns</p>\n",
       "</div>"
      ],
      "text/plain": [
       "       children_count  days_employed  age  education_id  family_status_id  \\\n",
       "0                   1           8437   42             0                 0   \n",
       "1                   1           4024   36             1                 0   \n",
       "2                   0           5623   33             1                 0   \n",
       "3                   3           4124   32             1                 0   \n",
       "4                   0         340266   53             1                 1   \n",
       "...               ...            ...  ...           ...               ...   \n",
       "21520               1           4529   43             1                 1   \n",
       "21521               0         343937   67             1                 0   \n",
       "21522               1           2113   38             1                 1   \n",
       "21523               3           3112   38             1                 0   \n",
       "21524               2           1984   40             1                 0   \n",
       "\n",
       "      gender income_type   debt  income_per_month               purpose  \\\n",
       "0          F   сотрудник  False            253875  покупка недвижимости   \n",
       "1          F   сотрудник  False            112080    покупка автомобиля   \n",
       "2          M   сотрудник  False            145885  покупка недвижимости   \n",
       "3          M   сотрудник  False            267628           образование   \n",
       "4          F   пенсионер  False            158616               свадьба   \n",
       "...      ...         ...    ...               ...                   ...   \n",
       "21520      F   компаньон  False            224791  покупка недвижимости   \n",
       "21521      F   пенсионер  False            155999    покупка автомобиля   \n",
       "21522      M   сотрудник   True             89672  покупка недвижимости   \n",
       "21523      M   сотрудник   True            244093    покупка автомобиля   \n",
       "21524      F   сотрудник  False             82047    покупка автомобиля   \n",
       "\n",
       "       years_employed total_income_category  \n",
       "0                  23                     B  \n",
       "1                  11                     C  \n",
       "2                  15                     C  \n",
       "3                  11                     B  \n",
       "4                 932                     C  \n",
       "...               ...                   ...  \n",
       "21520              12                     B  \n",
       "21521             942                     C  \n",
       "21522               5                     C  \n",
       "21523               8                     B  \n",
       "21524               5                     C  \n",
       "\n",
       "[21525 rows x 12 columns]"
      ]
     },
     "metadata": {},
     "output_type": "display_data"
    }
   ],
   "source": [
    "#Назначаем функцию с правилом категоризации\n",
    "def income_group(income_per_month):\n",
    "    try:       #мы проверили, но вдруг где-то есть отрицательное значение или не число\n",
    "        if 0 < income_per_month <= 30000:\n",
    "            return 'E'\n",
    "        elif income_per_month <= 50000:\n",
    "            return 'D'\n",
    "        elif income_per_month <= 200000:\n",
    "            return 'C'\n",
    "        elif income_per_month <= 1000000:\n",
    "            return 'B'\n",
    "        elif income_per_month > 1000000:\n",
    "            return 'A'\n",
    "    except:\n",
    "        return ''\n",
    "    \n",
    "#Добавляем столбец с категорией в основной датафрейм\n",
    "df['total_income_category'] = df['income_per_month'].apply(income_group)\n",
    "df_cleared['total_income_category'] = df_cleared['income_per_month'].apply(income_group)\n",
    "display(df)"
   ]
  },
  {
   "cell_type": "markdown",
   "metadata": {},
   "source": [
    "**Вывод:** присвоены категории клиентам в зависимости от уровня дохода."
   ]
  },
  {
   "cell_type": "markdown",
   "metadata": {},
   "source": [
    "### Шаг 2.7. Категоризация целей кредита."
   ]
  },
  {
   "cell_type": "markdown",
   "metadata": {},
   "source": [
    "Цели кредита были объединены как неявные дубликаты. При дальнейшем наполнении датайрейма введём автоматическую категоризацию целей."
   ]
  },
  {
   "cell_type": "code",
   "execution_count": 27,
   "metadata": {},
   "outputs": [
    {
     "data": {
      "text/html": [
       "<div>\n",
       "<style scoped>\n",
       "    .dataframe tbody tr th:only-of-type {\n",
       "        vertical-align: middle;\n",
       "    }\n",
       "\n",
       "    .dataframe tbody tr th {\n",
       "        vertical-align: top;\n",
       "    }\n",
       "\n",
       "    .dataframe thead th {\n",
       "        text-align: right;\n",
       "    }\n",
       "</style>\n",
       "<table border=\"1\" class=\"dataframe\">\n",
       "  <thead>\n",
       "    <tr style=\"text-align: right;\">\n",
       "      <th></th>\n",
       "      <th>children_count</th>\n",
       "      <th>days_employed</th>\n",
       "      <th>age</th>\n",
       "      <th>education_id</th>\n",
       "      <th>family_status_id</th>\n",
       "      <th>gender</th>\n",
       "      <th>income_type</th>\n",
       "      <th>debt</th>\n",
       "      <th>income_per_month</th>\n",
       "      <th>purpose</th>\n",
       "      <th>years_employed</th>\n",
       "      <th>total_income_category</th>\n",
       "      <th>purpose_category</th>\n",
       "    </tr>\n",
       "  </thead>\n",
       "  <tbody>\n",
       "    <tr>\n",
       "      <th>0</th>\n",
       "      <td>1</td>\n",
       "      <td>8437</td>\n",
       "      <td>42</td>\n",
       "      <td>0</td>\n",
       "      <td>0</td>\n",
       "      <td>F</td>\n",
       "      <td>сотрудник</td>\n",
       "      <td>False</td>\n",
       "      <td>253875</td>\n",
       "      <td>покупка недвижимости</td>\n",
       "      <td>23</td>\n",
       "      <td>B</td>\n",
       "      <td>операции с недвижимостью</td>\n",
       "    </tr>\n",
       "    <tr>\n",
       "      <th>1</th>\n",
       "      <td>1</td>\n",
       "      <td>4024</td>\n",
       "      <td>36</td>\n",
       "      <td>1</td>\n",
       "      <td>0</td>\n",
       "      <td>F</td>\n",
       "      <td>сотрудник</td>\n",
       "      <td>False</td>\n",
       "      <td>112080</td>\n",
       "      <td>покупка автомобиля</td>\n",
       "      <td>11</td>\n",
       "      <td>C</td>\n",
       "      <td>операции с автомобилем</td>\n",
       "    </tr>\n",
       "    <tr>\n",
       "      <th>2</th>\n",
       "      <td>0</td>\n",
       "      <td>5623</td>\n",
       "      <td>33</td>\n",
       "      <td>1</td>\n",
       "      <td>0</td>\n",
       "      <td>M</td>\n",
       "      <td>сотрудник</td>\n",
       "      <td>False</td>\n",
       "      <td>145885</td>\n",
       "      <td>покупка недвижимости</td>\n",
       "      <td>15</td>\n",
       "      <td>C</td>\n",
       "      <td>операции с недвижимостью</td>\n",
       "    </tr>\n",
       "    <tr>\n",
       "      <th>3</th>\n",
       "      <td>3</td>\n",
       "      <td>4124</td>\n",
       "      <td>32</td>\n",
       "      <td>1</td>\n",
       "      <td>0</td>\n",
       "      <td>M</td>\n",
       "      <td>сотрудник</td>\n",
       "      <td>False</td>\n",
       "      <td>267628</td>\n",
       "      <td>образование</td>\n",
       "      <td>11</td>\n",
       "      <td>B</td>\n",
       "      <td>получение образования</td>\n",
       "    </tr>\n",
       "    <tr>\n",
       "      <th>4</th>\n",
       "      <td>0</td>\n",
       "      <td>340266</td>\n",
       "      <td>53</td>\n",
       "      <td>1</td>\n",
       "      <td>1</td>\n",
       "      <td>F</td>\n",
       "      <td>пенсионер</td>\n",
       "      <td>False</td>\n",
       "      <td>158616</td>\n",
       "      <td>свадьба</td>\n",
       "      <td>932</td>\n",
       "      <td>C</td>\n",
       "      <td>проведение свадьбы</td>\n",
       "    </tr>\n",
       "    <tr>\n",
       "      <th>...</th>\n",
       "      <td>...</td>\n",
       "      <td>...</td>\n",
       "      <td>...</td>\n",
       "      <td>...</td>\n",
       "      <td>...</td>\n",
       "      <td>...</td>\n",
       "      <td>...</td>\n",
       "      <td>...</td>\n",
       "      <td>...</td>\n",
       "      <td>...</td>\n",
       "      <td>...</td>\n",
       "      <td>...</td>\n",
       "      <td>...</td>\n",
       "    </tr>\n",
       "    <tr>\n",
       "      <th>21520</th>\n",
       "      <td>1</td>\n",
       "      <td>4529</td>\n",
       "      <td>43</td>\n",
       "      <td>1</td>\n",
       "      <td>1</td>\n",
       "      <td>F</td>\n",
       "      <td>компаньон</td>\n",
       "      <td>False</td>\n",
       "      <td>224791</td>\n",
       "      <td>покупка недвижимости</td>\n",
       "      <td>12</td>\n",
       "      <td>B</td>\n",
       "      <td>операции с недвижимостью</td>\n",
       "    </tr>\n",
       "    <tr>\n",
       "      <th>21521</th>\n",
       "      <td>0</td>\n",
       "      <td>343937</td>\n",
       "      <td>67</td>\n",
       "      <td>1</td>\n",
       "      <td>0</td>\n",
       "      <td>F</td>\n",
       "      <td>пенсионер</td>\n",
       "      <td>False</td>\n",
       "      <td>155999</td>\n",
       "      <td>покупка автомобиля</td>\n",
       "      <td>942</td>\n",
       "      <td>C</td>\n",
       "      <td>операции с автомобилем</td>\n",
       "    </tr>\n",
       "    <tr>\n",
       "      <th>21522</th>\n",
       "      <td>1</td>\n",
       "      <td>2113</td>\n",
       "      <td>38</td>\n",
       "      <td>1</td>\n",
       "      <td>1</td>\n",
       "      <td>M</td>\n",
       "      <td>сотрудник</td>\n",
       "      <td>True</td>\n",
       "      <td>89672</td>\n",
       "      <td>покупка недвижимости</td>\n",
       "      <td>5</td>\n",
       "      <td>C</td>\n",
       "      <td>операции с недвижимостью</td>\n",
       "    </tr>\n",
       "    <tr>\n",
       "      <th>21523</th>\n",
       "      <td>3</td>\n",
       "      <td>3112</td>\n",
       "      <td>38</td>\n",
       "      <td>1</td>\n",
       "      <td>0</td>\n",
       "      <td>M</td>\n",
       "      <td>сотрудник</td>\n",
       "      <td>True</td>\n",
       "      <td>244093</td>\n",
       "      <td>покупка автомобиля</td>\n",
       "      <td>8</td>\n",
       "      <td>B</td>\n",
       "      <td>операции с автомобилем</td>\n",
       "    </tr>\n",
       "    <tr>\n",
       "      <th>21524</th>\n",
       "      <td>2</td>\n",
       "      <td>1984</td>\n",
       "      <td>40</td>\n",
       "      <td>1</td>\n",
       "      <td>0</td>\n",
       "      <td>F</td>\n",
       "      <td>сотрудник</td>\n",
       "      <td>False</td>\n",
       "      <td>82047</td>\n",
       "      <td>покупка автомобиля</td>\n",
       "      <td>5</td>\n",
       "      <td>C</td>\n",
       "      <td>операции с автомобилем</td>\n",
       "    </tr>\n",
       "  </tbody>\n",
       "</table>\n",
       "<p>21525 rows × 13 columns</p>\n",
       "</div>"
      ],
      "text/plain": [
       "       children_count  days_employed  age  education_id  family_status_id  \\\n",
       "0                   1           8437   42             0                 0   \n",
       "1                   1           4024   36             1                 0   \n",
       "2                   0           5623   33             1                 0   \n",
       "3                   3           4124   32             1                 0   \n",
       "4                   0         340266   53             1                 1   \n",
       "...               ...            ...  ...           ...               ...   \n",
       "21520               1           4529   43             1                 1   \n",
       "21521               0         343937   67             1                 0   \n",
       "21522               1           2113   38             1                 1   \n",
       "21523               3           3112   38             1                 0   \n",
       "21524               2           1984   40             1                 0   \n",
       "\n",
       "      gender income_type   debt  income_per_month               purpose  \\\n",
       "0          F   сотрудник  False            253875  покупка недвижимости   \n",
       "1          F   сотрудник  False            112080    покупка автомобиля   \n",
       "2          M   сотрудник  False            145885  покупка недвижимости   \n",
       "3          M   сотрудник  False            267628           образование   \n",
       "4          F   пенсионер  False            158616               свадьба   \n",
       "...      ...         ...    ...               ...                   ...   \n",
       "21520      F   компаньон  False            224791  покупка недвижимости   \n",
       "21521      F   пенсионер  False            155999    покупка автомобиля   \n",
       "21522      M   сотрудник   True             89672  покупка недвижимости   \n",
       "21523      M   сотрудник   True            244093    покупка автомобиля   \n",
       "21524      F   сотрудник  False             82047    покупка автомобиля   \n",
       "\n",
       "       years_employed total_income_category          purpose_category  \n",
       "0                  23                     B  операции с недвижимостью  \n",
       "1                  11                     C    операции с автомобилем  \n",
       "2                  15                     C  операции с недвижимостью  \n",
       "3                  11                     B     получение образования  \n",
       "4                 932                     C        проведение свадьбы  \n",
       "...               ...                   ...                       ...  \n",
       "21520              12                     B  операции с недвижимостью  \n",
       "21521             942                     C    операции с автомобилем  \n",
       "21522               5                     C  операции с недвижимостью  \n",
       "21523               8                     B    операции с автомобилем  \n",
       "21524               5                     C    операции с автомобилем  \n",
       "\n",
       "[21525 rows x 13 columns]"
      ]
     },
     "metadata": {},
     "output_type": "display_data"
    }
   ],
   "source": [
    "def purpose_group(purpose):\n",
    "    try:\n",
    "        if 'авто' in purpose:\n",
    "            return 'операции с автомобилем'\n",
    "        elif 'недвиж' in purpose:\n",
    "            return 'операции с недвижимостью'\n",
    "        elif 'жил' in purpose:\n",
    "            return 'операции с недвижимостью'\n",
    "        elif 'ремонт' in purpose:\n",
    "            return 'операции с недвижимостью'\n",
    "        elif 'свад' in purpose:\n",
    "            return 'проведение свадьбы'\n",
    "        elif 'жени' in purpose:\n",
    "            return 'проведение свадьбы'\n",
    "        elif 'образ' in purpose:\n",
    "            return 'получение образования'        \n",
    "    except:\n",
    "        return 'другое'\n",
    "    \n",
    "\n",
    "df['purpose_category'] = df['purpose'].apply(purpose_group)\n",
    "display(df)"
   ]
  },
  {
   "cell_type": "markdown",
   "metadata": {},
   "source": [
    "### Ответы на вопросы."
   ]
  },
  {
   "cell_type": "markdown",
   "metadata": {},
   "source": [
    "##### Вопрос 1: Есть ли зависимость между количеством детей и возвратом кредита в срок?"
   ]
  },
  {
   "cell_type": "markdown",
   "metadata": {},
   "source": [
    "Построим сводную таблицу на основании датафрейма `df_task_1` с очищенными от некорректных значений в столбце `children_count` данными.\n",
    "Для этого посчитаем количество клиентов, которые вернули кредит в срок, количество клиентов, которые не вернули кредит в срок, и вычислим процент должников."
   ]
  },
  {
   "cell_type": "code",
   "execution_count": 28,
   "metadata": {},
   "outputs": [
    {
     "data": {
      "text/html": [
       "<div>\n",
       "<style scoped>\n",
       "    .dataframe tbody tr th:only-of-type {\n",
       "        vertical-align: middle;\n",
       "    }\n",
       "\n",
       "    .dataframe tbody tr th {\n",
       "        vertical-align: top;\n",
       "    }\n",
       "\n",
       "    .dataframe thead th {\n",
       "        text-align: right;\n",
       "    }\n",
       "</style>\n",
       "<table border=\"1\" class=\"dataframe\">\n",
       "  <thead>\n",
       "    <tr style=\"text-align: right;\">\n",
       "      <th></th>\n",
       "      <th>sum</th>\n",
       "      <th>debt</th>\n",
       "      <th>percentage</th>\n",
       "    </tr>\n",
       "    <tr>\n",
       "      <th>children_count</th>\n",
       "      <th></th>\n",
       "      <th></th>\n",
       "      <th></th>\n",
       "    </tr>\n",
       "  </thead>\n",
       "  <tbody>\n",
       "    <tr>\n",
       "      <th>0</th>\n",
       "      <td>14149</td>\n",
       "      <td>1063</td>\n",
       "      <td>7.512898</td>\n",
       "    </tr>\n",
       "    <tr>\n",
       "      <th>1</th>\n",
       "      <td>4818</td>\n",
       "      <td>444</td>\n",
       "      <td>9.215442</td>\n",
       "    </tr>\n",
       "    <tr>\n",
       "      <th>2</th>\n",
       "      <td>2055</td>\n",
       "      <td>194</td>\n",
       "      <td>9.440389</td>\n",
       "    </tr>\n",
       "    <tr>\n",
       "      <th>3</th>\n",
       "      <td>330</td>\n",
       "      <td>27</td>\n",
       "      <td>8.181818</td>\n",
       "    </tr>\n",
       "    <tr>\n",
       "      <th>4</th>\n",
       "      <td>41</td>\n",
       "      <td>4</td>\n",
       "      <td>9.756098</td>\n",
       "    </tr>\n",
       "    <tr>\n",
       "      <th>5</th>\n",
       "      <td>9</td>\n",
       "      <td>0</td>\n",
       "      <td>0.000000</td>\n",
       "    </tr>\n",
       "  </tbody>\n",
       "</table>\n",
       "</div>"
      ],
      "text/plain": [
       "                  sum  debt  percentage\n",
       "children_count                         \n",
       "0               14149  1063    7.512898\n",
       "1                4818   444    9.215442\n",
       "2                2055   194    9.440389\n",
       "3                 330    27    8.181818\n",
       "4                  41     4    9.756098\n",
       "5                   9     0    0.000000"
      ]
     },
     "metadata": {},
     "output_type": "display_data"
    }
   ],
   "source": [
    "children_debt = df_task_1.groupby('children_count')['debt'].count()\n",
    "children_grouped = df_task_1.groupby('children_count')['debt'].sum()\n",
    "children_debt_merged = (pd\n",
    "                        .concat([children_debt, children_grouped], axis=1)\n",
    "                        .set_axis(['sum', 'debt'], axis=1, inplace=False)\n",
    "                       )\n",
    "children_debt_merged['percentage'] = children_debt_merged['debt'] / children_debt_merged['sum'] * 100\n",
    "display(children_debt_merged)\n",
    "\n",
    "# Далее применены более лаконичные решения для задач подобного принципа"
   ]
  },
  {
   "cell_type": "code",
   "execution_count": 29,
   "metadata": {},
   "outputs": [
    {
     "data": {
      "text/html": [
       "<style  type=\"text/css\" >\n",
       "</style><table id=\"T_4cd45_\" ><thead>    <tr>        <th class=\"blank level0\" ></th>        <th class=\"col_heading level0 col0\" >число_клиентов</th>        <th class=\"col_heading level0 col1\" >число_должников</th>        <th class=\"col_heading level0 col2\" >доля_должников</th>    </tr>    <tr>        <th class=\"index_name level0\" >children_count</th>        <th class=\"blank\" ></th>        <th class=\"blank\" ></th>        <th class=\"blank\" ></th>    </tr></thead><tbody>\n",
       "                <tr>\n",
       "                        <th id=\"T_4cd45_level0_row0\" class=\"row_heading level0 row0\" >0</th>\n",
       "                        <td id=\"T_4cd45_row0_col0\" class=\"data row0 col0\" >14149</td>\n",
       "                        <td id=\"T_4cd45_row0_col1\" class=\"data row0 col1\" >1063</td>\n",
       "                        <td id=\"T_4cd45_row0_col2\" class=\"data row0 col2\" >7.51%</td>\n",
       "            </tr>\n",
       "            <tr>\n",
       "                        <th id=\"T_4cd45_level0_row1\" class=\"row_heading level0 row1\" >1</th>\n",
       "                        <td id=\"T_4cd45_row1_col0\" class=\"data row1 col0\" >4818</td>\n",
       "                        <td id=\"T_4cd45_row1_col1\" class=\"data row1 col1\" >444</td>\n",
       "                        <td id=\"T_4cd45_row1_col2\" class=\"data row1 col2\" >9.22%</td>\n",
       "            </tr>\n",
       "            <tr>\n",
       "                        <th id=\"T_4cd45_level0_row2\" class=\"row_heading level0 row2\" >2</th>\n",
       "                        <td id=\"T_4cd45_row2_col0\" class=\"data row2 col0\" >2055</td>\n",
       "                        <td id=\"T_4cd45_row2_col1\" class=\"data row2 col1\" >194</td>\n",
       "                        <td id=\"T_4cd45_row2_col2\" class=\"data row2 col2\" >9.44%</td>\n",
       "            </tr>\n",
       "            <tr>\n",
       "                        <th id=\"T_4cd45_level0_row3\" class=\"row_heading level0 row3\" >3</th>\n",
       "                        <td id=\"T_4cd45_row3_col0\" class=\"data row3 col0\" >330</td>\n",
       "                        <td id=\"T_4cd45_row3_col1\" class=\"data row3 col1\" >27</td>\n",
       "                        <td id=\"T_4cd45_row3_col2\" class=\"data row3 col2\" >8.18%</td>\n",
       "            </tr>\n",
       "            <tr>\n",
       "                        <th id=\"T_4cd45_level0_row4\" class=\"row_heading level0 row4\" >4</th>\n",
       "                        <td id=\"T_4cd45_row4_col0\" class=\"data row4 col0\" >41</td>\n",
       "                        <td id=\"T_4cd45_row4_col1\" class=\"data row4 col1\" >4</td>\n",
       "                        <td id=\"T_4cd45_row4_col2\" class=\"data row4 col2\" >9.76%</td>\n",
       "            </tr>\n",
       "            <tr>\n",
       "                        <th id=\"T_4cd45_level0_row5\" class=\"row_heading level0 row5\" >5</th>\n",
       "                        <td id=\"T_4cd45_row5_col0\" class=\"data row5 col0\" >9</td>\n",
       "                        <td id=\"T_4cd45_row5_col1\" class=\"data row5 col1\" >0</td>\n",
       "                        <td id=\"T_4cd45_row5_col2\" class=\"data row5 col2\" >0.00%</td>\n",
       "            </tr>\n",
       "    </tbody></table>"
      ],
      "text/plain": [
       "<pandas.io.formats.style.Styler at 0x7fa629f1d5b0>"
      ]
     },
     "execution_count": 29,
     "metadata": {},
     "output_type": "execute_result"
    }
   ],
   "source": [
    "df_task_1.groupby('children_count').agg(число_клиентов=('debt','count'), число_должников=('debt','sum'), доля_должников=('debt','mean'))\\\n",
    "    .style.format({'доля_должников' : '{:.2%}'.format})"
   ]
  },
  {
   "cell_type": "markdown",
   "metadata": {},
   "source": [
    "###### Вывод 1:"
   ]
  },
  {
   "cell_type": "markdown",
   "metadata": {},
   "source": [
    "Очевидноая зависимость между количеством детей и задолженностью по кредиту отсутсвует. \n",
    "Клиенты без детей имеют меньше задолженностей по кредитам.\n",
    "Для клиентов с 4 и более детьми количества данных недостаточно для однозначного вывода."
   ]
  },
  {
   "cell_type": "markdown",
   "metadata": {},
   "source": [
    "##### Вопрос 2: Есть ли зависимость между семейным положением и возвратом кредита в срок?"
   ]
  },
  {
   "cell_type": "code",
   "execution_count": 30,
   "metadata": {},
   "outputs": [
    {
     "data": {
      "text/html": [
       "<div>\n",
       "<style scoped>\n",
       "    .dataframe tbody tr th:only-of-type {\n",
       "        vertical-align: middle;\n",
       "    }\n",
       "\n",
       "    .dataframe tbody tr th {\n",
       "        vertical-align: top;\n",
       "    }\n",
       "\n",
       "    .dataframe thead th {\n",
       "        text-align: right;\n",
       "    }\n",
       "</style>\n",
       "<table border=\"1\" class=\"dataframe\">\n",
       "  <thead>\n",
       "    <tr style=\"text-align: right;\">\n",
       "      <th>debt</th>\n",
       "      <th>False</th>\n",
       "      <th>True</th>\n",
       "      <th>percentage</th>\n",
       "      <th>status</th>\n",
       "    </tr>\n",
       "    <tr>\n",
       "      <th>family_status_id</th>\n",
       "      <th></th>\n",
       "      <th></th>\n",
       "      <th></th>\n",
       "      <th></th>\n",
       "    </tr>\n",
       "  </thead>\n",
       "  <tbody>\n",
       "    <tr>\n",
       "      <th>0</th>\n",
       "      <td>11449</td>\n",
       "      <td>931</td>\n",
       "      <td>8.131715</td>\n",
       "      <td>женат / замужем</td>\n",
       "    </tr>\n",
       "    <tr>\n",
       "      <th>1</th>\n",
       "      <td>3789</td>\n",
       "      <td>388</td>\n",
       "      <td>10.240169</td>\n",
       "      <td>гражданский брак</td>\n",
       "    </tr>\n",
       "    <tr>\n",
       "      <th>2</th>\n",
       "      <td>897</td>\n",
       "      <td>63</td>\n",
       "      <td>7.023411</td>\n",
       "      <td>вдовец / вдова</td>\n",
       "    </tr>\n",
       "    <tr>\n",
       "      <th>3</th>\n",
       "      <td>1110</td>\n",
       "      <td>85</td>\n",
       "      <td>7.657658</td>\n",
       "      <td>в разводе</td>\n",
       "    </tr>\n",
       "    <tr>\n",
       "      <th>4</th>\n",
       "      <td>2539</td>\n",
       "      <td>274</td>\n",
       "      <td>10.791650</td>\n",
       "      <td>Не женат / не замужем</td>\n",
       "    </tr>\n",
       "  </tbody>\n",
       "</table>\n",
       "</div>"
      ],
      "text/plain": [
       "debt              False  True  percentage                 status\n",
       "family_status_id                                                \n",
       "0                 11449   931    8.131715        женат / замужем\n",
       "1                  3789   388   10.240169       гражданский брак\n",
       "2                   897    63    7.023411         вдовец / вдова\n",
       "3                  1110    85    7.657658              в разводе\n",
       "4                  2539   274   10.791650  Не женат / не замужем"
      ]
     },
     "execution_count": 30,
     "metadata": {},
     "output_type": "execute_result"
    }
   ],
   "source": [
    "family_status_ind = df.pivot_table(index=['family_status_id'], columns=['debt'], values='purpose', aggfunc='count')\n",
    "family_status_ind['percentage'] = family_status_ind[1] / family_status_ind[0] * 100\n",
    "family_status_ind['status'] = family_status_dict['family_status'] #Вернём из словаря расшифровку\n",
    "family_status_ind"
   ]
  },
  {
   "cell_type": "markdown",
   "metadata": {},
   "source": [
    "###### Вывод 2:"
   ]
  },
  {
   "cell_type": "markdown",
   "metadata": {},
   "source": [
    "Существенных отклонений от среднего процента задолженностей между различными группами не наблюдается.\n",
    "\n",
    "Неженатые/незамужние клиенты чаще имели задолженности по кредитам. Незначительно проявляется зависимость отсутствия задолженности от предполагаемого возраста клиента: незамужние/неженатые клиенты и люди в гражданском браке чаще моложе и имеют менее стабильные жизненные ситуации, чем вдовцы/вдовы и клиенты в разводе, которые, обычно, старше."
   ]
  },
  {
   "cell_type": "markdown",
   "metadata": {},
   "source": [
    "##### Вопрос 3: Есть ли зависимость между уровнем дохода и возвратом кредита в срок?"
   ]
  },
  {
   "cell_type": "code",
   "execution_count": 31,
   "metadata": {},
   "outputs": [
    {
     "data": {
      "text/html": [
       "<div>\n",
       "<style scoped>\n",
       "    .dataframe tbody tr th:only-of-type {\n",
       "        vertical-align: middle;\n",
       "    }\n",
       "\n",
       "    .dataframe tbody tr th {\n",
       "        vertical-align: top;\n",
       "    }\n",
       "\n",
       "    .dataframe thead th {\n",
       "        text-align: right;\n",
       "    }\n",
       "</style>\n",
       "<table border=\"1\" class=\"dataframe\">\n",
       "  <thead>\n",
       "    <tr style=\"text-align: right;\">\n",
       "      <th>debt</th>\n",
       "      <th>False</th>\n",
       "      <th>True</th>\n",
       "      <th>percentage</th>\n",
       "    </tr>\n",
       "    <tr>\n",
       "      <th>total_income_category</th>\n",
       "      <th></th>\n",
       "      <th></th>\n",
       "      <th></th>\n",
       "    </tr>\n",
       "  </thead>\n",
       "  <tbody>\n",
       "    <tr>\n",
       "      <th>A</th>\n",
       "      <td>23</td>\n",
       "      <td>2</td>\n",
       "      <td>8.695652</td>\n",
       "    </tr>\n",
       "    <tr>\n",
       "      <th>B</th>\n",
       "      <td>4685</td>\n",
       "      <td>356</td>\n",
       "      <td>7.598719</td>\n",
       "    </tr>\n",
       "    <tr>\n",
       "      <th>C</th>\n",
       "      <td>12723</td>\n",
       "      <td>1190</td>\n",
       "      <td>9.353140</td>\n",
       "    </tr>\n",
       "    <tr>\n",
       "      <th>D</th>\n",
       "      <td>329</td>\n",
       "      <td>21</td>\n",
       "      <td>6.382979</td>\n",
       "    </tr>\n",
       "    <tr>\n",
       "      <th>E</th>\n",
       "      <td>20</td>\n",
       "      <td>2</td>\n",
       "      <td>10.000000</td>\n",
       "    </tr>\n",
       "  </tbody>\n",
       "</table>\n",
       "</div>"
      ],
      "text/plain": [
       "debt                   False  True  percentage\n",
       "total_income_category                         \n",
       "A                         23     2    8.695652\n",
       "B                       4685   356    7.598719\n",
       "C                      12723  1190    9.353140\n",
       "D                        329    21    6.382979\n",
       "E                         20     2   10.000000"
      ]
     },
     "execution_count": 31,
     "metadata": {},
     "output_type": "execute_result"
    }
   ],
   "source": [
    "#Для ответа на поставленный вопрос необходимо использовать очищенный от медиан и пропущенных значений датафрейм\n",
    "income_ind = df_cleared.pivot_table(index=['total_income_category'], columns=['debt'], values='income_per_month', aggfunc='count')\n",
    "income_ind['percentage'] = income_ind[1] / income_ind[0] * 100\n",
    "income_ind"
   ]
  },
  {
   "cell_type": "markdown",
   "metadata": {},
   "source": [
    "###### Вывод 3:"
   ]
  },
  {
   "cell_type": "markdown",
   "metadata": {},
   "source": [
    "Полученные данные ненаглядны, отсутствует явная зависимость задолженностей от категории.\n",
    "\n",
    "Для людей из категории E и A анализ неприменим по причине отсутствия адекватной выборки.\n",
    "\n",
    "Также отсутствует информация по критериям выдачи кредитов клиентам из разных категорий. Возможно, алгоритм, принимающий решение о выдаче кредита, корректнее работает, анализируя клиентов из категории D и B, а людям из категории C чаще ошибочно одобрялись кредиты. Например, люди из категории C могли предоставлять банку данные с завышенным доходом."
   ]
  },
  {
   "cell_type": "markdown",
   "metadata": {},
   "source": [
    "##### Вопрос 4: Как разные цели кредита влияют на его возврат в срок?"
   ]
  },
  {
   "cell_type": "code",
   "execution_count": 32,
   "metadata": {},
   "outputs": [
    {
     "data": {
      "text/html": [
       "<div>\n",
       "<style scoped>\n",
       "    .dataframe tbody tr th:only-of-type {\n",
       "        vertical-align: middle;\n",
       "    }\n",
       "\n",
       "    .dataframe tbody tr th {\n",
       "        vertical-align: top;\n",
       "    }\n",
       "\n",
       "    .dataframe thead th {\n",
       "        text-align: right;\n",
       "    }\n",
       "</style>\n",
       "<table border=\"1\" class=\"dataframe\">\n",
       "  <thead>\n",
       "    <tr style=\"text-align: right;\">\n",
       "      <th>debt</th>\n",
       "      <th>False</th>\n",
       "      <th>True</th>\n",
       "      <th>percentage</th>\n",
       "    </tr>\n",
       "    <tr>\n",
       "      <th>purpose_category</th>\n",
       "      <th></th>\n",
       "      <th></th>\n",
       "      <th></th>\n",
       "    </tr>\n",
       "  </thead>\n",
       "  <tbody>\n",
       "    <tr>\n",
       "      <th>операции с автомобилем</th>\n",
       "      <td>3912</td>\n",
       "      <td>403</td>\n",
       "      <td>10.301636</td>\n",
       "    </tr>\n",
       "    <tr>\n",
       "      <th>операции с недвижимостью</th>\n",
       "      <td>10058</td>\n",
       "      <td>782</td>\n",
       "      <td>7.774906</td>\n",
       "    </tr>\n",
       "    <tr>\n",
       "      <th>получение образования</th>\n",
       "      <td>3652</td>\n",
       "      <td>370</td>\n",
       "      <td>10.131435</td>\n",
       "    </tr>\n",
       "    <tr>\n",
       "      <th>проведение свадьбы</th>\n",
       "      <td>2162</td>\n",
       "      <td>186</td>\n",
       "      <td>8.603145</td>\n",
       "    </tr>\n",
       "  </tbody>\n",
       "</table>\n",
       "</div>"
      ],
      "text/plain": [
       "debt                      False  True  percentage\n",
       "purpose_category                                 \n",
       "операции с автомобилем     3912   403   10.301636\n",
       "операции с недвижимостью  10058   782    7.774906\n",
       "получение образования      3652   370   10.131435\n",
       "проведение свадьбы         2162   186    8.603145"
      ]
     },
     "execution_count": 32,
     "metadata": {},
     "output_type": "execute_result"
    }
   ],
   "source": [
    "purpose_ind = df.pivot_table(index='purpose_category', columns=['debt'], values='income_per_month', aggfunc='count')\n",
    "purpose_ind['percentage'] = purpose_ind[1] / purpose_ind[0] * 100\n",
    "purpose_ind"
   ]
  },
  {
   "cell_type": "markdown",
   "metadata": {},
   "source": [
    "###### Вывод 4:"
   ]
  },
  {
   "cell_type": "markdown",
   "metadata": {},
   "source": [
    "Клиенты имеют больше задолженностей по автокредитам и кредитам на образование.\n",
    "\n",
    "Кредиты на свадьбу и операции с недвижимостью возвращают в срок чаще."
   ]
  },
  {
   "cell_type": "markdown",
   "metadata": {},
   "source": [
    "## Общий вывод:"
   ]
  },
  {
   "cell_type": "markdown",
   "metadata": {},
   "source": [
    "**Результаты предобработки данных:**\n",
    "1. Необходимо стандартизировать варианты ответов при заполнении данных. Таким образом можно исключить:\n",
    "    - неявные дубликаты в данных о целях получения кредита;\n",
    "    - неявные дубликаты в данных об уровне образования;\n",
    "    - отрицательные и завышенные значения в данных о количестве детей;\n",
    "    - нулевое значение в данных о возрасте;\n",
    "    - неверные данные в данных о поле.\n",
    "2. Необходимо выявить и исправить источник некорректной записи данных в столбце со стажем работы:\n",
    "    - причина появления отрицательных значений;\n",
    "    - причина появления нецелых значений;\n",
    "    - причина появления больших значений стажа у пенсионеров.\n",
    "3. Необходимо уточнить причину появления миллионных долей в значениях дохода\n"
   ]
  },
  {
   "cell_type": "markdown",
   "metadata": {},
   "source": [
    "**Результаты анализа данных:**\n",
    "\n",
    "При анализе зависимости наличия задолженности от одного фактора не выявлены однозначные результаты. Предполагаем, что зависимость, чаще всего, многофакторная. Незначительные отклонения от среднего выявлены в следующих зависимостях:\n",
    "1. Клиенты без детей имеют меньше задолженностей;\n",
    "2. Вдовцы/вдовы и клиенты в разводе имеют меньше задолженностей, чем неженатые;\n",
    "3. Люди с доходом от 50 до 200 тысяч чаще имеют задолженности;\n",
    "    - необходимо обратить внимание на алгоритм одобрения кредитов для данной категории клиентов\n",
    "4. Автокредиты и кредиты на образование возвращаются в срок реже, чем кредиты на операции с недвижимостью и кредиты на свадьбу."
   ]
  }
 ],
 "metadata": {
  "ExecuteTimeLog": [
   {
    "duration": 640,
    "start_time": "2022-02-22T06:21:38.254Z"
   },
   {
    "duration": 247,
    "start_time": "2022-02-22T06:22:09.005Z"
   },
   {
    "duration": 47,
    "start_time": "2022-02-22T06:22:21.580Z"
   },
   {
    "duration": 178,
    "start_time": "2022-02-22T06:24:16.267Z"
   },
   {
    "duration": 209,
    "start_time": "2022-02-22T06:24:30.501Z"
   },
   {
    "duration": 173,
    "start_time": "2022-02-22T06:24:54.857Z"
   },
   {
    "duration": 171,
    "start_time": "2022-02-22T06:24:59.471Z"
   },
   {
    "duration": 193,
    "start_time": "2022-02-22T06:26:21.055Z"
   },
   {
    "duration": 46,
    "start_time": "2022-02-22T06:26:37.226Z"
   },
   {
    "duration": 185,
    "start_time": "2022-02-22T06:27:06.618Z"
   },
   {
    "duration": 269,
    "start_time": "2022-02-22T06:27:13.807Z"
   },
   {
    "duration": 223,
    "start_time": "2022-02-22T06:27:22.575Z"
   },
   {
    "duration": 54,
    "start_time": "2022-02-22T06:27:26.281Z"
   },
   {
    "duration": 3787,
    "start_time": "2022-02-22T06:28:08.675Z"
   },
   {
    "duration": 72,
    "start_time": "2022-02-22T08:56:38.881Z"
   },
   {
    "duration": 972,
    "start_time": "2022-02-23T10:15:52.503Z"
   },
   {
    "duration": 3,
    "start_time": "2022-02-23T10:16:36.824Z"
   },
   {
    "duration": 88,
    "start_time": "2022-02-23T10:20:34.906Z"
   },
   {
    "duration": 87,
    "start_time": "2022-02-23T10:30:56.263Z"
   },
   {
    "duration": 79,
    "start_time": "2022-02-23T10:31:09.391Z"
   },
   {
    "duration": 341,
    "start_time": "2022-02-23T10:31:55.985Z"
   },
   {
    "duration": 758,
    "start_time": "2022-02-23T10:31:59.263Z"
   },
   {
    "duration": 81,
    "start_time": "2022-02-23T10:32:00.026Z"
   },
   {
    "duration": 354,
    "start_time": "2022-02-23T10:39:23.992Z"
   },
   {
    "duration": 9,
    "start_time": "2022-02-23T10:40:12.188Z"
   },
   {
    "duration": 85,
    "start_time": "2022-02-23T10:42:25.482Z"
   },
   {
    "duration": 78,
    "start_time": "2022-02-23T10:42:38.810Z"
   },
   {
    "duration": 80,
    "start_time": "2022-02-23T10:42:44.436Z"
   },
   {
    "duration": 83,
    "start_time": "2022-02-23T10:42:48.655Z"
   },
   {
    "duration": 38,
    "start_time": "2022-02-23T13:54:41.748Z"
   },
   {
    "duration": 34,
    "start_time": "2022-02-23T13:58:19.738Z"
   },
   {
    "duration": 321,
    "start_time": "2022-02-23T19:39:45.130Z"
   },
   {
    "duration": 2081,
    "start_time": "2022-02-23T19:40:09.252Z"
   },
   {
    "duration": 75,
    "start_time": "2022-02-23T19:40:11.335Z"
   },
   {
    "duration": 24,
    "start_time": "2022-02-23T19:40:15.891Z"
   },
   {
    "duration": 29,
    "start_time": "2022-02-23T19:43:55.676Z"
   },
   {
    "duration": 275,
    "start_time": "2022-02-23T19:45:33.461Z"
   },
   {
    "duration": 235,
    "start_time": "2022-02-23T19:46:17.082Z"
   },
   {
    "duration": 252,
    "start_time": "2022-02-23T19:46:25.770Z"
   },
   {
    "duration": 38,
    "start_time": "2022-02-23T19:47:33.607Z"
   },
   {
    "duration": 48,
    "start_time": "2022-02-23T19:50:02.208Z"
   },
   {
    "duration": 36,
    "start_time": "2022-02-23T19:50:25.995Z"
   },
   {
    "duration": 252,
    "start_time": "2022-02-23T19:51:50.267Z"
   },
   {
    "duration": 242,
    "start_time": "2022-02-23T19:52:53.785Z"
   },
   {
    "duration": 334,
    "start_time": "2022-02-23T19:53:00.878Z"
   },
   {
    "duration": 262,
    "start_time": "2022-02-23T19:53:29.118Z"
   },
   {
    "duration": 378,
    "start_time": "2022-02-23T19:53:53.546Z"
   },
   {
    "duration": 40,
    "start_time": "2022-02-23T19:54:30.720Z"
   },
   {
    "duration": 41,
    "start_time": "2022-02-23T20:05:34.979Z"
   },
   {
    "duration": 34,
    "start_time": "2022-02-23T20:07:24.443Z"
   },
   {
    "duration": 38,
    "start_time": "2022-02-23T20:09:35.947Z"
   },
   {
    "duration": 40,
    "start_time": "2022-02-23T20:09:59.719Z"
   },
   {
    "duration": 33,
    "start_time": "2022-02-23T20:10:32.837Z"
   },
   {
    "duration": 869,
    "start_time": "2022-02-24T06:29:35.561Z"
   },
   {
    "duration": 83,
    "start_time": "2022-02-24T06:29:36.433Z"
   },
   {
    "duration": 50,
    "start_time": "2022-02-24T06:29:36.527Z"
   },
   {
    "duration": 103,
    "start_time": "2022-02-24T07:42:10.312Z"
   },
   {
    "duration": 8,
    "start_time": "2022-02-24T07:42:19.631Z"
   },
   {
    "duration": 6,
    "start_time": "2022-02-24T07:42:38.600Z"
   },
   {
    "duration": 6,
    "start_time": "2022-02-24T07:43:02.163Z"
   },
   {
    "duration": 6,
    "start_time": "2022-02-24T07:44:11.438Z"
   },
   {
    "duration": 7,
    "start_time": "2022-02-24T07:44:22.551Z"
   },
   {
    "duration": 7,
    "start_time": "2022-02-24T08:08:41.756Z"
   },
   {
    "duration": 6,
    "start_time": "2022-02-24T08:10:33.702Z"
   },
   {
    "duration": 7,
    "start_time": "2022-02-24T08:11:31.019Z"
   },
   {
    "duration": 7,
    "start_time": "2022-02-24T08:11:44.936Z"
   },
   {
    "duration": 5,
    "start_time": "2022-02-24T08:11:56.725Z"
   },
   {
    "duration": 628,
    "start_time": "2022-02-28T05:01:03.858Z"
   },
   {
    "duration": 80,
    "start_time": "2022-02-28T05:01:04.489Z"
   },
   {
    "duration": 36,
    "start_time": "2022-02-28T05:01:04.572Z"
   },
   {
    "duration": 5,
    "start_time": "2022-02-28T05:01:09.469Z"
   },
   {
    "duration": 4,
    "start_time": "2022-02-28T05:17:43.631Z"
   },
   {
    "duration": 11,
    "start_time": "2022-02-28T07:46:56.738Z"
   },
   {
    "duration": 21,
    "start_time": "2022-02-28T07:47:06.404Z"
   },
   {
    "duration": 20,
    "start_time": "2022-02-28T07:47:20.988Z"
   },
   {
    "duration": 21,
    "start_time": "2022-02-28T07:48:09.672Z"
   },
   {
    "duration": 16,
    "start_time": "2022-02-28T07:48:20.584Z"
   },
   {
    "duration": 12,
    "start_time": "2022-02-28T07:52:48.222Z"
   },
   {
    "duration": 13,
    "start_time": "2022-02-28T07:53:06.858Z"
   },
   {
    "duration": 13,
    "start_time": "2022-02-28T08:00:03.418Z"
   },
   {
    "duration": 6,
    "start_time": "2022-02-28T10:15:24.664Z"
   },
   {
    "duration": 8,
    "start_time": "2022-02-28T10:27:11.360Z"
   },
   {
    "duration": 9,
    "start_time": "2022-02-28T10:29:10.278Z"
   },
   {
    "duration": 17,
    "start_time": "2022-02-28T11:15:20.313Z"
   },
   {
    "duration": 287,
    "start_time": "2022-02-28T11:15:50.964Z"
   },
   {
    "duration": 11,
    "start_time": "2022-02-28T11:15:59.280Z"
   },
   {
    "duration": 12,
    "start_time": "2022-02-28T11:16:22.990Z"
   },
   {
    "duration": 13,
    "start_time": "2022-02-28T11:16:35.894Z"
   },
   {
    "duration": 15,
    "start_time": "2022-02-28T11:18:43.592Z"
   },
   {
    "duration": 218,
    "start_time": "2022-03-04T06:40:43.046Z"
   },
   {
    "duration": 589,
    "start_time": "2022-03-04T06:40:50.350Z"
   },
   {
    "duration": 72,
    "start_time": "2022-03-04T06:40:50.941Z"
   },
   {
    "duration": 36,
    "start_time": "2022-03-04T06:40:51.016Z"
   },
   {
    "duration": 5,
    "start_time": "2022-03-04T06:40:51.055Z"
   },
   {
    "duration": 16,
    "start_time": "2022-03-04T06:40:51.062Z"
   },
   {
    "duration": 17,
    "start_time": "2022-03-04T06:40:51.102Z"
   },
   {
    "duration": 269,
    "start_time": "2022-03-04T06:40:53.594Z"
   },
   {
    "duration": 264,
    "start_time": "2022-03-04T06:42:20.671Z"
   },
   {
    "duration": 314,
    "start_time": "2022-03-04T06:42:42.798Z"
   },
   {
    "duration": 378,
    "start_time": "2022-03-04T06:43:08.295Z"
   },
   {
    "duration": 372,
    "start_time": "2022-03-04T06:44:00.800Z"
   },
   {
    "duration": 456,
    "start_time": "2022-03-04T06:44:48.298Z"
   },
   {
    "duration": 331,
    "start_time": "2022-03-04T06:44:55.598Z"
   },
   {
    "duration": 341,
    "start_time": "2022-03-04T06:45:34.991Z"
   },
   {
    "duration": 199,
    "start_time": "2022-03-04T06:45:45.537Z"
   },
   {
    "duration": 193,
    "start_time": "2022-03-04T06:47:01.418Z"
   },
   {
    "duration": 266,
    "start_time": "2022-03-04T06:47:17.367Z"
   },
   {
    "duration": 336,
    "start_time": "2022-03-04T06:47:24.114Z"
   },
   {
    "duration": 372,
    "start_time": "2022-03-04T06:49:13.273Z"
   },
   {
    "duration": 357,
    "start_time": "2022-03-04T06:49:40.765Z"
   },
   {
    "duration": 347,
    "start_time": "2022-03-04T06:50:20.709Z"
   },
   {
    "duration": 4731,
    "start_time": "2022-03-04T06:51:00.758Z"
   },
   {
    "duration": 2855,
    "start_time": "2022-03-04T06:51:18.932Z"
   },
   {
    "duration": 367,
    "start_time": "2022-03-04T07:19:17.238Z"
   },
   {
    "duration": 10,
    "start_time": "2022-03-04T07:55:08.493Z"
   },
   {
    "duration": 2,
    "start_time": "2022-03-04T07:56:13.143Z"
   },
   {
    "duration": 78,
    "start_time": "2022-03-04T07:56:13.147Z"
   },
   {
    "duration": 36,
    "start_time": "2022-03-04T07:56:13.227Z"
   },
   {
    "duration": 7,
    "start_time": "2022-03-04T07:56:13.265Z"
   },
   {
    "duration": 30,
    "start_time": "2022-03-04T07:56:13.274Z"
   },
   {
    "duration": 31,
    "start_time": "2022-03-04T07:56:13.306Z"
   },
   {
    "duration": 21,
    "start_time": "2022-03-04T07:56:13.340Z"
   },
   {
    "duration": 3,
    "start_time": "2022-03-04T07:56:19.889Z"
   },
   {
    "duration": 67,
    "start_time": "2022-03-04T07:56:19.894Z"
   },
   {
    "duration": 36,
    "start_time": "2022-03-04T07:56:19.963Z"
   },
   {
    "duration": 7,
    "start_time": "2022-03-04T07:56:20.001Z"
   },
   {
    "duration": 14,
    "start_time": "2022-03-04T07:56:20.010Z"
   },
   {
    "duration": 22,
    "start_time": "2022-03-04T07:56:20.026Z"
   },
   {
    "duration": 28,
    "start_time": "2022-03-04T07:56:20.050Z"
   },
   {
    "duration": 356,
    "start_time": "2022-03-04T07:56:22.412Z"
   },
   {
    "duration": 341,
    "start_time": "2022-03-04T08:32:06.080Z"
   },
   {
    "duration": 362,
    "start_time": "2022-03-04T08:34:29.563Z"
   },
   {
    "duration": 758,
    "start_time": "2022-03-04T08:41:44.304Z"
   },
   {
    "duration": 346,
    "start_time": "2022-03-04T08:42:59.242Z"
   },
   {
    "duration": 345,
    "start_time": "2022-03-04T08:44:42.774Z"
   },
   {
    "duration": 346,
    "start_time": "2022-03-04T08:44:52.204Z"
   },
   {
    "duration": 348,
    "start_time": "2022-03-04T08:45:03.981Z"
   },
   {
    "duration": 340,
    "start_time": "2022-03-04T08:45:14.188Z"
   },
   {
    "duration": 71,
    "start_time": "2022-03-04T08:45:26.537Z"
   },
   {
    "duration": 63,
    "start_time": "2022-03-04T08:45:39.549Z"
   },
   {
    "duration": 522,
    "start_time": "2022-03-04T08:45:43.816Z"
   },
   {
    "duration": 364,
    "start_time": "2022-03-04T08:45:53.474Z"
   },
   {
    "duration": 350,
    "start_time": "2022-03-04T08:46:04.461Z"
   },
   {
    "duration": 367,
    "start_time": "2022-03-04T08:46:12.539Z"
   },
   {
    "duration": 402,
    "start_time": "2022-03-04T09:17:30.276Z"
   },
   {
    "duration": 506,
    "start_time": "2022-03-04T09:17:46.442Z"
   },
   {
    "duration": 210,
    "start_time": "2022-03-04T09:18:03.055Z"
   },
   {
    "duration": 201,
    "start_time": "2022-03-04T09:18:12.935Z"
   },
   {
    "duration": 205,
    "start_time": "2022-03-04T09:20:39.170Z"
   },
   {
    "duration": 198,
    "start_time": "2022-03-04T09:20:51.082Z"
   },
   {
    "duration": 58,
    "start_time": "2022-03-04T09:20:58.062Z"
   },
   {
    "duration": 210,
    "start_time": "2022-03-04T09:21:02.109Z"
   },
   {
    "duration": 388,
    "start_time": "2022-03-04T09:21:13.549Z"
   },
   {
    "duration": 394,
    "start_time": "2022-03-04T09:21:33.414Z"
   },
   {
    "duration": 494,
    "start_time": "2022-03-04T09:21:41.829Z"
   },
   {
    "duration": 379,
    "start_time": "2022-03-04T09:21:52.622Z"
   },
   {
    "duration": 375,
    "start_time": "2022-03-04T09:21:59.471Z"
   },
   {
    "duration": 208,
    "start_time": "2022-03-04T09:22:36.950Z"
   },
   {
    "duration": 536,
    "start_time": "2022-03-04T09:28:56.232Z"
   },
   {
    "duration": 363,
    "start_time": "2022-03-04T09:33:01.955Z"
   },
   {
    "duration": 12,
    "start_time": "2022-03-04T09:36:06.116Z"
   },
   {
    "duration": 470,
    "start_time": "2022-03-04T09:36:24.853Z"
   },
   {
    "duration": 8,
    "start_time": "2022-03-04T09:39:52.034Z"
   },
   {
    "duration": 194,
    "start_time": "2022-03-04T09:40:43.915Z"
   },
   {
    "duration": 9,
    "start_time": "2022-03-04T09:41:10.870Z"
   },
   {
    "duration": 185,
    "start_time": "2022-03-04T09:41:28.627Z"
   },
   {
    "duration": 8,
    "start_time": "2022-03-04T09:41:42.758Z"
   },
   {
    "duration": 2149,
    "start_time": "2022-03-04T09:58:51.152Z"
   },
   {
    "duration": 2493,
    "start_time": "2022-03-04T09:59:07.201Z"
   },
   {
    "duration": 9,
    "start_time": "2022-03-04T09:59:39.074Z"
   },
   {
    "duration": 9,
    "start_time": "2022-03-04T10:00:05.329Z"
   },
   {
    "duration": 165,
    "start_time": "2022-03-04T10:15:56.496Z"
   },
   {
    "duration": 14,
    "start_time": "2022-03-04T10:16:33.295Z"
   },
   {
    "duration": 8,
    "start_time": "2022-03-04T10:17:56.852Z"
   },
   {
    "duration": 365,
    "start_time": "2022-03-04T10:23:59.787Z"
   },
   {
    "duration": 6,
    "start_time": "2022-03-04T10:27:33.353Z"
   },
   {
    "duration": 6,
    "start_time": "2022-03-04T10:27:51.961Z"
   },
   {
    "duration": 61,
    "start_time": "2022-03-04T10:28:36.581Z"
   },
   {
    "duration": 94,
    "start_time": "2022-03-04T11:39:04.781Z"
   },
   {
    "duration": 9,
    "start_time": "2022-03-04T11:39:09.081Z"
   },
   {
    "duration": 1925,
    "start_time": "2022-03-04T11:43:22.779Z"
   },
   {
    "duration": 377,
    "start_time": "2022-03-04T11:50:20.330Z"
   },
   {
    "duration": 199,
    "start_time": "2022-03-04T12:36:24.262Z"
   },
   {
    "duration": 11,
    "start_time": "2022-03-04T12:46:29.483Z"
   },
   {
    "duration": 10,
    "start_time": "2022-03-04T12:46:35.552Z"
   },
   {
    "duration": 258,
    "start_time": "2022-03-04T12:46:53.062Z"
   },
   {
    "duration": 273,
    "start_time": "2022-03-04T12:47:24.927Z"
   },
   {
    "duration": 214,
    "start_time": "2022-03-04T12:47:44.907Z"
   },
   {
    "duration": 10,
    "start_time": "2022-03-04T12:52:07.481Z"
   },
   {
    "duration": 13,
    "start_time": "2022-03-04T12:53:13.222Z"
   },
   {
    "duration": 10,
    "start_time": "2022-03-04T12:54:45.006Z"
   },
   {
    "duration": 272,
    "start_time": "2022-03-05T07:14:15.480Z"
   },
   {
    "duration": 804,
    "start_time": "2022-03-05T07:14:22.703Z"
   },
   {
    "duration": 112,
    "start_time": "2022-03-05T07:14:23.510Z"
   },
   {
    "duration": 82,
    "start_time": "2022-03-05T07:14:23.625Z"
   },
   {
    "duration": 12,
    "start_time": "2022-03-05T07:14:23.710Z"
   },
   {
    "duration": 6,
    "start_time": "2022-03-05T07:14:23.726Z"
   },
   {
    "duration": 48,
    "start_time": "2022-03-05T07:14:23.734Z"
   },
   {
    "duration": 21,
    "start_time": "2022-03-05T07:14:23.785Z"
   },
   {
    "duration": 677,
    "start_time": "2022-03-05T07:14:23.808Z"
   },
   {
    "duration": 609,
    "start_time": "2022-03-05T07:14:24.490Z"
   },
   {
    "duration": 539,
    "start_time": "2022-03-05T07:14:25.102Z"
   },
   {
    "duration": 10,
    "start_time": "2022-03-05T07:14:25.644Z"
   },
   {
    "duration": 31,
    "start_time": "2022-03-05T07:14:25.656Z"
   },
   {
    "duration": 11,
    "start_time": "2022-03-05T07:14:25.690Z"
   },
   {
    "duration": 236,
    "start_time": "2022-03-05T07:14:28.487Z"
   },
   {
    "duration": 9,
    "start_time": "2022-03-05T07:14:42.955Z"
   },
   {
    "duration": 244,
    "start_time": "2022-03-05T07:17:35.072Z"
   },
   {
    "duration": 9,
    "start_time": "2022-03-05T07:17:54.722Z"
   },
   {
    "duration": 10,
    "start_time": "2022-03-05T07:18:09.082Z"
   },
   {
    "duration": 10,
    "start_time": "2022-03-05T07:18:18.414Z"
   },
   {
    "duration": 9,
    "start_time": "2022-03-05T07:18:34.673Z"
   },
   {
    "duration": 10,
    "start_time": "2022-03-05T07:18:35.810Z"
   },
   {
    "duration": 8,
    "start_time": "2022-03-05T07:18:36.605Z"
   },
   {
    "duration": 7,
    "start_time": "2022-03-05T07:18:37.402Z"
   },
   {
    "duration": 8,
    "start_time": "2022-03-05T07:18:38.534Z"
   },
   {
    "duration": 8,
    "start_time": "2022-03-05T07:18:40.564Z"
   },
   {
    "duration": 9,
    "start_time": "2022-03-05T07:18:41.134Z"
   },
   {
    "duration": 8,
    "start_time": "2022-03-05T07:18:41.707Z"
   },
   {
    "duration": 8,
    "start_time": "2022-03-05T07:18:42.277Z"
   },
   {
    "duration": 8,
    "start_time": "2022-03-05T07:18:42.738Z"
   },
   {
    "duration": 8,
    "start_time": "2022-03-05T07:18:43.198Z"
   },
   {
    "duration": 8,
    "start_time": "2022-03-05T07:18:43.658Z"
   },
   {
    "duration": 9,
    "start_time": "2022-03-05T07:18:44.006Z"
   },
   {
    "duration": 8,
    "start_time": "2022-03-05T07:18:44.468Z"
   },
   {
    "duration": 9,
    "start_time": "2022-03-05T07:18:45.044Z"
   },
   {
    "duration": 8,
    "start_time": "2022-03-05T07:18:45.498Z"
   },
   {
    "duration": 8,
    "start_time": "2022-03-05T07:18:45.849Z"
   },
   {
    "duration": 9,
    "start_time": "2022-03-05T07:18:46.314Z"
   },
   {
    "duration": 8,
    "start_time": "2022-03-05T07:18:46.769Z"
   },
   {
    "duration": 7,
    "start_time": "2022-03-05T07:18:47.119Z"
   },
   {
    "duration": 7,
    "start_time": "2022-03-05T07:18:47.577Z"
   },
   {
    "duration": 9,
    "start_time": "2022-03-05T07:18:47.926Z"
   },
   {
    "duration": 8,
    "start_time": "2022-03-05T07:18:48.387Z"
   },
   {
    "duration": 8,
    "start_time": "2022-03-05T07:18:48.852Z"
   },
   {
    "duration": 7,
    "start_time": "2022-03-05T07:18:49.311Z"
   },
   {
    "duration": 8,
    "start_time": "2022-03-05T07:18:49.881Z"
   },
   {
    "duration": 9,
    "start_time": "2022-03-05T07:18:50.453Z"
   },
   {
    "duration": 8,
    "start_time": "2022-03-05T07:18:50.916Z"
   },
   {
    "duration": 8,
    "start_time": "2022-03-05T07:18:52.492Z"
   },
   {
    "duration": 7,
    "start_time": "2022-03-05T07:18:53.066Z"
   },
   {
    "duration": 7,
    "start_time": "2022-03-05T07:18:53.526Z"
   },
   {
    "duration": 9,
    "start_time": "2022-03-05T07:18:53.984Z"
   },
   {
    "duration": 9,
    "start_time": "2022-03-05T07:18:54.560Z"
   },
   {
    "duration": 8,
    "start_time": "2022-03-05T07:18:55.131Z"
   },
   {
    "duration": 8,
    "start_time": "2022-03-05T07:18:55.592Z"
   },
   {
    "duration": 9,
    "start_time": "2022-03-05T07:18:57.168Z"
   },
   {
    "duration": 8,
    "start_time": "2022-03-05T07:18:57.662Z"
   },
   {
    "duration": 10,
    "start_time": "2022-03-05T07:18:58.568Z"
   },
   {
    "duration": 9,
    "start_time": "2022-03-05T07:18:59.036Z"
   },
   {
    "duration": 8,
    "start_time": "2022-03-05T07:18:59.490Z"
   },
   {
    "duration": 10,
    "start_time": "2022-03-05T07:19:01.294Z"
   },
   {
    "duration": 9,
    "start_time": "2022-03-05T07:19:03.546Z"
   },
   {
    "duration": 9,
    "start_time": "2022-03-05T07:19:05.349Z"
   },
   {
    "duration": 9,
    "start_time": "2022-03-05T07:19:05.810Z"
   },
   {
    "duration": 9,
    "start_time": "2022-03-05T07:19:06.270Z"
   },
   {
    "duration": 8,
    "start_time": "2022-03-05T07:19:06.732Z"
   },
   {
    "duration": 9,
    "start_time": "2022-03-05T07:19:07.189Z"
   },
   {
    "duration": 8,
    "start_time": "2022-03-05T07:19:07.652Z"
   },
   {
    "duration": 10,
    "start_time": "2022-03-05T07:19:07.997Z"
   },
   {
    "duration": 10,
    "start_time": "2022-03-05T07:19:08.572Z"
   },
   {
    "duration": 10,
    "start_time": "2022-03-05T07:19:08.920Z"
   },
   {
    "duration": 9,
    "start_time": "2022-03-05T07:19:09.269Z"
   },
   {
    "duration": 4,
    "start_time": "2022-03-05T07:19:15.115Z"
   },
   {
    "duration": 78,
    "start_time": "2022-03-05T07:19:15.165Z"
   },
   {
    "duration": 61,
    "start_time": "2022-03-05T07:19:15.245Z"
   },
   {
    "duration": 11,
    "start_time": "2022-03-05T07:19:15.309Z"
   },
   {
    "duration": 18,
    "start_time": "2022-03-05T07:19:15.323Z"
   },
   {
    "duration": 39,
    "start_time": "2022-03-05T07:19:15.344Z"
   },
   {
    "duration": 21,
    "start_time": "2022-03-05T07:19:15.386Z"
   },
   {
    "duration": 561,
    "start_time": "2022-03-05T07:19:15.410Z"
   },
   {
    "duration": 588,
    "start_time": "2022-03-05T07:19:15.974Z"
   },
   {
    "duration": 555,
    "start_time": "2022-03-05T07:19:16.565Z"
   },
   {
    "duration": 10,
    "start_time": "2022-03-05T07:19:17.123Z"
   },
   {
    "duration": 14,
    "start_time": "2022-03-05T07:19:17.135Z"
   },
   {
    "duration": 37,
    "start_time": "2022-03-05T07:19:17.152Z"
   },
   {
    "duration": 8,
    "start_time": "2022-03-05T07:19:19.442Z"
   },
   {
    "duration": 8,
    "start_time": "2022-03-05T07:19:32.365Z"
   },
   {
    "duration": 3,
    "start_time": "2022-03-05T07:19:47.058Z"
   },
   {
    "duration": 79,
    "start_time": "2022-03-05T07:19:47.065Z"
   },
   {
    "duration": 64,
    "start_time": "2022-03-05T07:19:47.147Z"
   },
   {
    "duration": 12,
    "start_time": "2022-03-05T07:19:47.215Z"
   },
   {
    "duration": 8,
    "start_time": "2022-03-05T07:19:47.229Z"
   },
   {
    "duration": 47,
    "start_time": "2022-03-05T07:19:47.239Z"
   },
   {
    "duration": 23,
    "start_time": "2022-03-05T07:19:47.288Z"
   },
   {
    "duration": 572,
    "start_time": "2022-03-05T07:19:47.313Z"
   },
   {
    "duration": 674,
    "start_time": "2022-03-05T07:19:47.888Z"
   },
   {
    "duration": 564,
    "start_time": "2022-03-05T07:19:48.564Z"
   },
   {
    "duration": 13,
    "start_time": "2022-03-05T07:19:49.131Z"
   },
   {
    "duration": 37,
    "start_time": "2022-03-05T07:19:49.146Z"
   },
   {
    "duration": 12,
    "start_time": "2022-03-05T07:19:49.186Z"
   },
   {
    "duration": 8,
    "start_time": "2022-03-05T07:19:52.789Z"
   },
   {
    "duration": 3,
    "start_time": "2022-03-05T07:20:20.513Z"
   },
   {
    "duration": 83,
    "start_time": "2022-03-05T07:20:20.519Z"
   },
   {
    "duration": 49,
    "start_time": "2022-03-05T07:20:20.605Z"
   },
   {
    "duration": 25,
    "start_time": "2022-03-05T07:20:20.657Z"
   },
   {
    "duration": 7,
    "start_time": "2022-03-05T07:20:20.685Z"
   },
   {
    "duration": 29,
    "start_time": "2022-03-05T07:20:20.694Z"
   },
   {
    "duration": 33,
    "start_time": "2022-03-05T07:20:20.725Z"
   },
   {
    "duration": 571,
    "start_time": "2022-03-05T07:20:20.783Z"
   },
   {
    "duration": 554,
    "start_time": "2022-03-05T07:20:21.358Z"
   },
   {
    "duration": 549,
    "start_time": "2022-03-05T07:20:21.915Z"
   },
   {
    "duration": 21,
    "start_time": "2022-03-05T07:20:22.467Z"
   },
   {
    "duration": 13,
    "start_time": "2022-03-05T07:20:22.491Z"
   },
   {
    "duration": 15,
    "start_time": "2022-03-05T07:20:22.507Z"
   },
   {
    "duration": 10,
    "start_time": "2022-03-05T07:20:25.519Z"
   },
   {
    "duration": 3,
    "start_time": "2022-03-05T07:22:07.829Z"
   },
   {
    "duration": 73,
    "start_time": "2022-03-05T07:22:07.835Z"
   },
   {
    "duration": 43,
    "start_time": "2022-03-05T07:22:07.911Z"
   },
   {
    "duration": 32,
    "start_time": "2022-03-05T07:22:07.957Z"
   },
   {
    "duration": 8,
    "start_time": "2022-03-05T07:22:07.991Z"
   },
   {
    "duration": 18,
    "start_time": "2022-03-05T07:22:08.001Z"
   },
   {
    "duration": 20,
    "start_time": "2022-03-05T07:22:08.022Z"
   },
   {
    "duration": 641,
    "start_time": "2022-03-05T07:22:08.044Z"
   },
   {
    "duration": 535,
    "start_time": "2022-03-05T07:22:08.688Z"
   },
   {
    "duration": 541,
    "start_time": "2022-03-05T07:22:09.226Z"
   },
   {
    "duration": 18,
    "start_time": "2022-03-05T07:22:09.770Z"
   },
   {
    "duration": 17,
    "start_time": "2022-03-05T07:22:09.790Z"
   },
   {
    "duration": 11,
    "start_time": "2022-03-05T07:22:09.810Z"
   },
   {
    "duration": 9,
    "start_time": "2022-03-05T07:22:15.088Z"
   },
   {
    "duration": 11,
    "start_time": "2022-03-05T08:42:04.536Z"
   },
   {
    "duration": 11,
    "start_time": "2022-03-05T08:42:05.338Z"
   },
   {
    "duration": 11,
    "start_time": "2022-03-05T08:42:05.908Z"
   },
   {
    "duration": 13,
    "start_time": "2022-03-05T08:42:06.369Z"
   },
   {
    "duration": 3,
    "start_time": "2022-03-05T08:42:11.198Z"
   },
   {
    "duration": 75,
    "start_time": "2022-03-05T08:42:11.245Z"
   },
   {
    "duration": 42,
    "start_time": "2022-03-05T08:42:11.323Z"
   },
   {
    "duration": 20,
    "start_time": "2022-03-05T08:42:11.368Z"
   },
   {
    "duration": 14,
    "start_time": "2022-03-05T08:42:11.391Z"
   },
   {
    "duration": 17,
    "start_time": "2022-03-05T08:42:11.407Z"
   },
   {
    "duration": 20,
    "start_time": "2022-03-05T08:42:11.426Z"
   },
   {
    "duration": 567,
    "start_time": "2022-03-05T08:42:11.448Z"
   },
   {
    "duration": 535,
    "start_time": "2022-03-05T08:42:12.019Z"
   },
   {
    "duration": 643,
    "start_time": "2022-03-05T08:42:12.557Z"
   },
   {
    "duration": 11,
    "start_time": "2022-03-05T08:42:13.203Z"
   },
   {
    "duration": 21,
    "start_time": "2022-03-05T08:42:13.216Z"
   },
   {
    "duration": 12,
    "start_time": "2022-03-05T08:42:13.239Z"
   },
   {
    "duration": 10,
    "start_time": "2022-03-05T08:42:15.248Z"
   },
   {
    "duration": 4548,
    "start_time": "2022-03-05T08:43:03.596Z"
   },
   {
    "duration": 13,
    "start_time": "2022-03-05T08:43:21.668Z"
   },
   {
    "duration": 12,
    "start_time": "2022-03-05T08:43:29.523Z"
   },
   {
    "duration": 3,
    "start_time": "2022-03-05T08:43:32.674Z"
   },
   {
    "duration": 99,
    "start_time": "2022-03-05T08:43:32.680Z"
   },
   {
    "duration": 141,
    "start_time": "2022-03-05T08:43:32.783Z"
   },
   {
    "duration": 12,
    "start_time": "2022-03-05T08:43:32.928Z"
   },
   {
    "duration": 43,
    "start_time": "2022-03-05T08:43:32.942Z"
   },
   {
    "duration": 48,
    "start_time": "2022-03-05T08:43:32.988Z"
   },
   {
    "duration": 34,
    "start_time": "2022-03-05T08:43:33.039Z"
   },
   {
    "duration": 529,
    "start_time": "2022-03-05T08:43:33.075Z"
   },
   {
    "duration": 578,
    "start_time": "2022-03-05T08:43:33.607Z"
   },
   {
    "duration": 575,
    "start_time": "2022-03-05T08:43:34.188Z"
   },
   {
    "duration": 20,
    "start_time": "2022-03-05T08:43:34.766Z"
   },
   {
    "duration": 16,
    "start_time": "2022-03-05T08:43:34.789Z"
   },
   {
    "duration": 21,
    "start_time": "2022-03-05T08:43:34.808Z"
   },
   {
    "duration": 25,
    "start_time": "2022-03-05T08:43:34.831Z"
   },
   {
    "duration": 12,
    "start_time": "2022-03-05T08:43:37.255Z"
   },
   {
    "duration": 11,
    "start_time": "2022-03-05T08:43:39.989Z"
   },
   {
    "duration": 11,
    "start_time": "2022-03-05T08:43:42.239Z"
   },
   {
    "duration": 12,
    "start_time": "2022-03-05T08:43:42.700Z"
   },
   {
    "duration": 15,
    "start_time": "2022-03-05T08:43:43.160Z"
   },
   {
    "duration": 13,
    "start_time": "2022-03-05T08:43:43.619Z"
   },
   {
    "duration": 17,
    "start_time": "2022-03-05T08:44:20.248Z"
   },
   {
    "duration": 13,
    "start_time": "2022-03-05T08:47:14.916Z"
   },
   {
    "duration": 12,
    "start_time": "2022-03-05T08:47:19.205Z"
   },
   {
    "duration": 12,
    "start_time": "2022-03-05T08:47:20.565Z"
   },
   {
    "duration": 11,
    "start_time": "2022-03-05T08:48:32.476Z"
   },
   {
    "duration": 21,
    "start_time": "2022-03-05T08:49:41.130Z"
   },
   {
    "duration": 14,
    "start_time": "2022-03-05T08:55:14.352Z"
   },
   {
    "duration": 24,
    "start_time": "2022-03-05T09:04:29.651Z"
   },
   {
    "duration": 34,
    "start_time": "2022-03-05T09:04:59.036Z"
   },
   {
    "duration": 3,
    "start_time": "2022-03-05T09:06:01.543Z"
   },
   {
    "duration": 79,
    "start_time": "2022-03-05T09:06:01.595Z"
   },
   {
    "duration": 45,
    "start_time": "2022-03-05T09:06:01.677Z"
   },
   {
    "duration": 9,
    "start_time": "2022-03-05T09:06:01.725Z"
   },
   {
    "duration": 26,
    "start_time": "2022-03-05T09:06:01.736Z"
   },
   {
    "duration": 34,
    "start_time": "2022-03-05T09:06:01.765Z"
   },
   {
    "duration": 22,
    "start_time": "2022-03-05T09:06:01.802Z"
   },
   {
    "duration": 573,
    "start_time": "2022-03-05T09:06:01.827Z"
   },
   {
    "duration": 532,
    "start_time": "2022-03-05T09:06:02.403Z"
   },
   {
    "duration": 606,
    "start_time": "2022-03-05T09:06:02.939Z"
   },
   {
    "duration": 11,
    "start_time": "2022-03-05T09:06:03.547Z"
   },
   {
    "duration": 29,
    "start_time": "2022-03-05T09:06:03.560Z"
   },
   {
    "duration": 11,
    "start_time": "2022-03-05T09:06:03.591Z"
   },
   {
    "duration": 11,
    "start_time": "2022-03-05T09:06:03.604Z"
   },
   {
    "duration": 15,
    "start_time": "2022-03-05T09:06:03.618Z"
   },
   {
    "duration": 36,
    "start_time": "2022-03-05T09:06:10.421Z"
   },
   {
    "duration": 75,
    "start_time": "2022-03-05T09:07:06.056Z"
   },
   {
    "duration": 30,
    "start_time": "2022-03-05T09:07:12.351Z"
   },
   {
    "duration": 269,
    "start_time": "2022-03-05T09:07:47.369Z"
   },
   {
    "duration": 24,
    "start_time": "2022-03-05T09:07:53.012Z"
   },
   {
    "duration": 15,
    "start_time": "2022-03-05T09:11:23.203Z"
   },
   {
    "duration": 21,
    "start_time": "2022-03-05T09:11:56.671Z"
   },
   {
    "duration": 15,
    "start_time": "2022-03-05T11:09:52.157Z"
   },
   {
    "duration": 20,
    "start_time": "2022-03-05T11:12:38.901Z"
   },
   {
    "duration": 67,
    "start_time": "2022-03-05T11:17:27.344Z"
   },
   {
    "duration": 107,
    "start_time": "2022-03-05T11:17:43.084Z"
   },
   {
    "duration": 66,
    "start_time": "2022-03-05T11:18:00.698Z"
   },
   {
    "duration": 24,
    "start_time": "2022-03-05T11:18:10.799Z"
   },
   {
    "duration": 198,
    "start_time": "2022-03-05T11:18:36.275Z"
   },
   {
    "duration": 64,
    "start_time": "2022-03-05T11:18:56.584Z"
   },
   {
    "duration": 122,
    "start_time": "2022-03-05T11:19:00.969Z"
   },
   {
    "duration": 207,
    "start_time": "2022-03-05T11:19:10.077Z"
   },
   {
    "duration": 196,
    "start_time": "2022-03-05T11:19:18.609Z"
   },
   {
    "duration": 21,
    "start_time": "2022-03-05T11:19:24.227Z"
   },
   {
    "duration": 203,
    "start_time": "2022-03-05T11:19:46.559Z"
   },
   {
    "duration": 22,
    "start_time": "2022-03-05T11:29:31.750Z"
   },
   {
    "duration": 21,
    "start_time": "2022-03-05T11:33:58.238Z"
   },
   {
    "duration": 20,
    "start_time": "2022-03-05T11:34:30.560Z"
   },
   {
    "duration": 23,
    "start_time": "2022-03-05T11:34:40.998Z"
   },
   {
    "duration": 22,
    "start_time": "2022-03-05T11:34:47.317Z"
   },
   {
    "duration": 22,
    "start_time": "2022-03-05T11:34:47.999Z"
   },
   {
    "duration": 23,
    "start_time": "2022-03-05T11:34:48.696Z"
   },
   {
    "duration": 22,
    "start_time": "2022-03-05T11:35:34.630Z"
   },
   {
    "duration": 18,
    "start_time": "2022-03-05T11:35:55.618Z"
   },
   {
    "duration": 188,
    "start_time": "2022-03-05T11:36:15.170Z"
   },
   {
    "duration": 202,
    "start_time": "2022-03-05T11:36:23.719Z"
   },
   {
    "duration": 14,
    "start_time": "2022-03-05T11:37:16.204Z"
   },
   {
    "duration": 1044,
    "start_time": "2022-03-05T11:37:53.032Z"
   },
   {
    "duration": -98,
    "start_time": "2022-03-05T11:37:54.178Z"
   },
   {
    "duration": -112,
    "start_time": "2022-03-05T11:37:54.194Z"
   },
   {
    "duration": -123,
    "start_time": "2022-03-05T11:37:54.206Z"
   },
   {
    "duration": -141,
    "start_time": "2022-03-05T11:37:54.225Z"
   },
   {
    "duration": -155,
    "start_time": "2022-03-05T11:37:54.241Z"
   },
   {
    "duration": -189,
    "start_time": "2022-03-05T11:37:54.277Z"
   },
   {
    "duration": -204,
    "start_time": "2022-03-05T11:37:54.293Z"
   },
   {
    "duration": -219,
    "start_time": "2022-03-05T11:37:54.310Z"
   },
   {
    "duration": -249,
    "start_time": "2022-03-05T11:37:54.341Z"
   },
   {
    "duration": -264,
    "start_time": "2022-03-05T11:37:54.358Z"
   },
   {
    "duration": -299,
    "start_time": "2022-03-05T11:37:54.394Z"
   },
   {
    "duration": -317,
    "start_time": "2022-03-05T11:37:54.413Z"
   },
   {
    "duration": -328,
    "start_time": "2022-03-05T11:37:54.426Z"
   },
   {
    "duration": -365,
    "start_time": "2022-03-05T11:37:54.464Z"
   },
   {
    "duration": 187,
    "start_time": "2022-03-05T11:38:05.052Z"
   },
   {
    "duration": -13,
    "start_time": "2022-03-05T11:38:05.255Z"
   },
   {
    "duration": -32,
    "start_time": "2022-03-05T11:38:05.276Z"
   },
   {
    "duration": -53,
    "start_time": "2022-03-05T11:38:05.298Z"
   },
   {
    "duration": -63,
    "start_time": "2022-03-05T11:38:05.310Z"
   },
   {
    "duration": -85,
    "start_time": "2022-03-05T11:38:05.333Z"
   },
   {
    "duration": -147,
    "start_time": "2022-03-05T11:38:05.396Z"
   },
   {
    "duration": -191,
    "start_time": "2022-03-05T11:38:05.442Z"
   },
   {
    "duration": -285,
    "start_time": "2022-03-05T11:38:05.537Z"
   },
   {
    "duration": -295,
    "start_time": "2022-03-05T11:38:05.549Z"
   },
   {
    "duration": -303,
    "start_time": "2022-03-05T11:38:05.558Z"
   },
   {
    "duration": -320,
    "start_time": "2022-03-05T11:38:05.576Z"
   },
   {
    "duration": -326,
    "start_time": "2022-03-05T11:38:05.584Z"
   },
   {
    "duration": -336,
    "start_time": "2022-03-05T11:38:05.596Z"
   },
   {
    "duration": -343,
    "start_time": "2022-03-05T11:38:05.604Z"
   },
   {
    "duration": 4,
    "start_time": "2022-03-05T11:38:19.455Z"
   },
   {
    "duration": 85,
    "start_time": "2022-03-05T11:38:19.461Z"
   },
   {
    "duration": 61,
    "start_time": "2022-03-05T11:38:19.550Z"
   },
   {
    "duration": 10,
    "start_time": "2022-03-05T11:38:19.614Z"
   },
   {
    "duration": 6,
    "start_time": "2022-03-05T11:38:19.626Z"
   },
   {
    "duration": 48,
    "start_time": "2022-03-05T11:38:19.635Z"
   },
   {
    "duration": 19,
    "start_time": "2022-03-05T11:38:19.686Z"
   },
   {
    "duration": 634,
    "start_time": "2022-03-05T11:38:19.707Z"
   },
   {
    "duration": 591,
    "start_time": "2022-03-05T11:38:20.345Z"
   },
   {
    "duration": 545,
    "start_time": "2022-03-05T11:38:20.939Z"
   },
   {
    "duration": 10,
    "start_time": "2022-03-05T11:38:21.487Z"
   },
   {
    "duration": 13,
    "start_time": "2022-03-05T11:38:21.500Z"
   },
   {
    "duration": 10,
    "start_time": "2022-03-05T11:38:21.516Z"
   },
   {
    "duration": 16,
    "start_time": "2022-03-05T11:38:21.529Z"
   },
   {
    "duration": 53,
    "start_time": "2022-03-05T11:38:21.547Z"
   },
   {
    "duration": 15,
    "start_time": "2022-03-05T11:38:25.869Z"
   },
   {
    "duration": 580,
    "start_time": "2022-03-10T07:14:29.422Z"
   },
   {
    "duration": 86,
    "start_time": "2022-03-10T07:14:30.004Z"
   },
   {
    "duration": 56,
    "start_time": "2022-03-10T07:14:30.096Z"
   },
   {
    "duration": 9,
    "start_time": "2022-03-10T07:14:30.154Z"
   },
   {
    "duration": 4,
    "start_time": "2022-03-10T07:14:30.165Z"
   },
   {
    "duration": 20,
    "start_time": "2022-03-10T07:14:30.171Z"
   },
   {
    "duration": 17,
    "start_time": "2022-03-10T07:14:30.193Z"
   },
   {
    "duration": 453,
    "start_time": "2022-03-10T07:14:30.213Z"
   },
   {
    "duration": 427,
    "start_time": "2022-03-10T07:14:30.669Z"
   },
   {
    "duration": 366,
    "start_time": "2022-03-10T07:14:31.098Z"
   },
   {
    "duration": 9,
    "start_time": "2022-03-10T07:14:31.466Z"
   },
   {
    "duration": 44,
    "start_time": "2022-03-10T07:14:31.477Z"
   },
   {
    "duration": 20,
    "start_time": "2022-03-10T07:14:31.523Z"
   },
   {
    "duration": 19,
    "start_time": "2022-03-10T07:14:31.546Z"
   },
   {
    "duration": 18,
    "start_time": "2022-03-10T07:14:31.567Z"
   },
   {
    "duration": 18,
    "start_time": "2022-03-10T07:14:31.587Z"
   },
   {
    "duration": 12,
    "start_time": "2022-03-10T07:16:33.646Z"
   },
   {
    "duration": 15,
    "start_time": "2022-03-10T07:18:08.735Z"
   },
   {
    "duration": 13,
    "start_time": "2022-03-10T07:18:13.677Z"
   },
   {
    "duration": 11,
    "start_time": "2022-03-10T07:18:31.161Z"
   },
   {
    "duration": 22,
    "start_time": "2022-03-10T07:26:29.385Z"
   },
   {
    "duration": 18,
    "start_time": "2022-03-10T07:26:47.971Z"
   },
   {
    "duration": 13,
    "start_time": "2022-03-10T07:26:57.762Z"
   },
   {
    "duration": 3,
    "start_time": "2022-03-10T07:28:24.802Z"
   },
   {
    "duration": 17,
    "start_time": "2022-03-10T07:28:35.530Z"
   },
   {
    "duration": 16,
    "start_time": "2022-03-10T07:29:06.154Z"
   },
   {
    "duration": 7,
    "start_time": "2022-03-10T07:33:03.078Z"
   },
   {
    "duration": 8,
    "start_time": "2022-03-10T07:33:11.214Z"
   },
   {
    "duration": 7,
    "start_time": "2022-03-10T07:35:29.167Z"
   },
   {
    "duration": 12,
    "start_time": "2022-03-10T07:37:13.641Z"
   },
   {
    "duration": 21,
    "start_time": "2022-03-10T07:37:39.801Z"
   },
   {
    "duration": 276,
    "start_time": "2022-03-10T07:44:15.111Z"
   },
   {
    "duration": 23,
    "start_time": "2022-03-10T07:44:40.120Z"
   },
   {
    "duration": 690,
    "start_time": "2022-03-10T07:45:12.347Z"
   },
   {
    "duration": 72,
    "start_time": "2022-03-10T07:45:13.039Z"
   },
   {
    "duration": 42,
    "start_time": "2022-03-10T07:45:13.113Z"
   },
   {
    "duration": 7,
    "start_time": "2022-03-10T07:45:13.156Z"
   },
   {
    "duration": 4,
    "start_time": "2022-03-10T07:45:13.165Z"
   },
   {
    "duration": 22,
    "start_time": "2022-03-10T07:45:13.170Z"
   },
   {
    "duration": 14,
    "start_time": "2022-03-10T07:45:13.194Z"
   },
   {
    "duration": 3702,
    "start_time": "2022-03-10T07:45:13.238Z"
   },
   {
    "duration": -3950,
    "start_time": "2022-03-10T07:45:20.892Z"
   },
   {
    "duration": -3955,
    "start_time": "2022-03-10T07:45:20.898Z"
   },
   {
    "duration": -3956,
    "start_time": "2022-03-10T07:45:20.900Z"
   },
   {
    "duration": -3957,
    "start_time": "2022-03-10T07:45:20.902Z"
   },
   {
    "duration": -3959,
    "start_time": "2022-03-10T07:45:20.905Z"
   },
   {
    "duration": -3960,
    "start_time": "2022-03-10T07:45:20.907Z"
   },
   {
    "duration": -3962,
    "start_time": "2022-03-10T07:45:20.910Z"
   },
   {
    "duration": -3963,
    "start_time": "2022-03-10T07:45:20.912Z"
   },
   {
    "duration": -3964,
    "start_time": "2022-03-10T07:45:20.914Z"
   },
   {
    "duration": -3965,
    "start_time": "2022-03-10T07:45:20.916Z"
   },
   {
    "duration": 410,
    "start_time": "2022-03-10T07:46:14.268Z"
   },
   {
    "duration": 377,
    "start_time": "2022-03-10T07:46:20.314Z"
   },
   {
    "duration": 537,
    "start_time": "2022-03-10T07:46:27.387Z"
   },
   {
    "duration": 77,
    "start_time": "2022-03-10T07:46:27.926Z"
   },
   {
    "duration": 47,
    "start_time": "2022-03-10T07:46:28.005Z"
   },
   {
    "duration": 7,
    "start_time": "2022-03-10T07:46:28.054Z"
   },
   {
    "duration": 4,
    "start_time": "2022-03-10T07:46:28.063Z"
   },
   {
    "duration": 20,
    "start_time": "2022-03-10T07:46:28.069Z"
   },
   {
    "duration": 16,
    "start_time": "2022-03-10T07:46:28.091Z"
   },
   {
    "duration": 422,
    "start_time": "2022-03-10T07:46:28.139Z"
   },
   {
    "duration": 3882,
    "start_time": "2022-03-10T07:46:28.563Z"
   },
   {
    "duration": -3956,
    "start_time": "2022-03-10T07:46:36.403Z"
   },
   {
    "duration": -3958,
    "start_time": "2022-03-10T07:46:36.405Z"
   },
   {
    "duration": -3959,
    "start_time": "2022-03-10T07:46:36.407Z"
   },
   {
    "duration": -3960,
    "start_time": "2022-03-10T07:46:36.409Z"
   },
   {
    "duration": -3964,
    "start_time": "2022-03-10T07:46:36.414Z"
   },
   {
    "duration": -3967,
    "start_time": "2022-03-10T07:46:36.418Z"
   },
   {
    "duration": -3976,
    "start_time": "2022-03-10T07:46:36.428Z"
   },
   {
    "duration": -3978,
    "start_time": "2022-03-10T07:46:36.431Z"
   },
   {
    "duration": -3981,
    "start_time": "2022-03-10T07:46:36.434Z"
   },
   {
    "duration": 516,
    "start_time": "2022-03-10T07:47:50.575Z"
   },
   {
    "duration": 67,
    "start_time": "2022-03-10T07:47:51.093Z"
   },
   {
    "duration": 31,
    "start_time": "2022-03-10T07:47:51.162Z"
   },
   {
    "duration": 7,
    "start_time": "2022-03-10T07:47:51.195Z"
   },
   {
    "duration": 6,
    "start_time": "2022-03-10T07:47:51.203Z"
   },
   {
    "duration": 43,
    "start_time": "2022-03-10T07:47:51.210Z"
   },
   {
    "duration": 15,
    "start_time": "2022-03-10T07:47:51.255Z"
   },
   {
    "duration": 429,
    "start_time": "2022-03-10T07:47:51.272Z"
   },
   {
    "duration": 419,
    "start_time": "2022-03-10T07:47:51.703Z"
   },
   {
    "duration": 363,
    "start_time": "2022-03-10T07:47:52.124Z"
   },
   {
    "duration": 3563,
    "start_time": "2022-03-10T07:47:52.489Z"
   },
   {
    "duration": -3968,
    "start_time": "2022-03-10T07:48:00.022Z"
   },
   {
    "duration": -3970,
    "start_time": "2022-03-10T07:48:00.025Z"
   },
   {
    "duration": -3971,
    "start_time": "2022-03-10T07:48:00.027Z"
   },
   {
    "duration": -3972,
    "start_time": "2022-03-10T07:48:00.029Z"
   },
   {
    "duration": -3974,
    "start_time": "2022-03-10T07:48:00.032Z"
   },
   {
    "duration": -3977,
    "start_time": "2022-03-10T07:48:00.035Z"
   },
   {
    "duration": -3978,
    "start_time": "2022-03-10T07:48:00.037Z"
   },
   {
    "duration": 546,
    "start_time": "2022-03-10T07:48:40.458Z"
   },
   {
    "duration": 70,
    "start_time": "2022-03-10T07:48:41.008Z"
   },
   {
    "duration": 34,
    "start_time": "2022-03-10T07:48:41.081Z"
   },
   {
    "duration": 21,
    "start_time": "2022-03-10T07:48:41.117Z"
   },
   {
    "duration": 5,
    "start_time": "2022-03-10T07:48:41.140Z"
   },
   {
    "duration": 43,
    "start_time": "2022-03-10T07:48:41.146Z"
   },
   {
    "duration": 14,
    "start_time": "2022-03-10T07:48:41.192Z"
   },
   {
    "duration": 433,
    "start_time": "2022-03-10T07:48:41.208Z"
   },
   {
    "duration": 429,
    "start_time": "2022-03-10T07:48:41.642Z"
   },
   {
    "duration": 364,
    "start_time": "2022-03-10T07:48:42.073Z"
   },
   {
    "duration": 7,
    "start_time": "2022-03-10T07:48:42.439Z"
   },
   {
    "duration": 10,
    "start_time": "2022-03-10T07:48:42.448Z"
   },
   {
    "duration": 8,
    "start_time": "2022-03-10T07:48:42.459Z"
   },
   {
    "duration": 8,
    "start_time": "2022-03-10T07:48:42.469Z"
   },
   {
    "duration": 3242,
    "start_time": "2022-03-10T07:48:42.479Z"
   },
   {
    "duration": -3944,
    "start_time": "2022-03-10T07:48:49.666Z"
   },
   {
    "duration": -3946,
    "start_time": "2022-03-10T07:48:49.669Z"
   },
   {
    "duration": -3948,
    "start_time": "2022-03-10T07:48:49.672Z"
   },
   {
    "duration": 14,
    "start_time": "2022-03-10T07:49:46.945Z"
   },
   {
    "duration": 546,
    "start_time": "2022-03-10T07:59:33.647Z"
   },
   {
    "duration": 72,
    "start_time": "2022-03-10T07:59:34.195Z"
   },
   {
    "duration": 34,
    "start_time": "2022-03-10T07:59:34.269Z"
   },
   {
    "duration": 7,
    "start_time": "2022-03-10T07:59:34.305Z"
   },
   {
    "duration": 8,
    "start_time": "2022-03-10T07:59:34.314Z"
   },
   {
    "duration": 24,
    "start_time": "2022-03-10T07:59:34.338Z"
   },
   {
    "duration": 14,
    "start_time": "2022-03-10T07:59:34.364Z"
   },
   {
    "duration": 441,
    "start_time": "2022-03-10T07:59:34.380Z"
   },
   {
    "duration": 420,
    "start_time": "2022-03-10T07:59:34.823Z"
   },
   {
    "duration": 365,
    "start_time": "2022-03-10T07:59:35.245Z"
   },
   {
    "duration": 7,
    "start_time": "2022-03-10T07:59:35.611Z"
   },
   {
    "duration": 18,
    "start_time": "2022-03-10T07:59:35.620Z"
   },
   {
    "duration": 16,
    "start_time": "2022-03-10T07:59:35.640Z"
   },
   {
    "duration": 10,
    "start_time": "2022-03-10T07:59:35.658Z"
   },
   {
    "duration": 16,
    "start_time": "2022-03-10T07:59:35.669Z"
   },
   {
    "duration": 14,
    "start_time": "2022-03-10T07:59:35.687Z"
   },
   {
    "duration": 11,
    "start_time": "2022-03-10T07:59:35.703Z"
   },
   {
    "duration": 38,
    "start_time": "2022-03-10T07:59:35.715Z"
   },
   {
    "duration": 533,
    "start_time": "2022-03-10T08:02:36.866Z"
   },
   {
    "duration": 69,
    "start_time": "2022-03-10T08:02:37.401Z"
   },
   {
    "duration": 33,
    "start_time": "2022-03-10T08:02:37.474Z"
   },
   {
    "duration": 7,
    "start_time": "2022-03-10T08:02:37.509Z"
   },
   {
    "duration": 6,
    "start_time": "2022-03-10T08:02:37.537Z"
   },
   {
    "duration": 35,
    "start_time": "2022-03-10T08:02:37.544Z"
   },
   {
    "duration": 20,
    "start_time": "2022-03-10T08:02:37.582Z"
   },
   {
    "duration": 424,
    "start_time": "2022-03-10T08:02:37.604Z"
   },
   {
    "duration": 410,
    "start_time": "2022-03-10T08:02:38.030Z"
   },
   {
    "duration": 347,
    "start_time": "2022-03-10T08:02:38.442Z"
   },
   {
    "duration": 7,
    "start_time": "2022-03-10T08:02:38.791Z"
   },
   {
    "duration": 9,
    "start_time": "2022-03-10T08:02:38.800Z"
   },
   {
    "duration": 26,
    "start_time": "2022-03-10T08:02:38.811Z"
   },
   {
    "duration": 8,
    "start_time": "2022-03-10T08:02:38.839Z"
   },
   {
    "duration": 18,
    "start_time": "2022-03-10T08:02:38.849Z"
   },
   {
    "duration": 27,
    "start_time": "2022-03-10T08:02:38.869Z"
   },
   {
    "duration": 18,
    "start_time": "2022-03-10T08:02:38.898Z"
   },
   {
    "duration": 31,
    "start_time": "2022-03-10T08:02:38.918Z"
   },
   {
    "duration": 575,
    "start_time": "2022-03-10T08:07:22.255Z"
   },
   {
    "duration": 76,
    "start_time": "2022-03-10T08:07:22.832Z"
   },
   {
    "duration": 44,
    "start_time": "2022-03-10T08:07:22.910Z"
   },
   {
    "duration": 8,
    "start_time": "2022-03-10T08:07:22.956Z"
   },
   {
    "duration": 8,
    "start_time": "2022-03-10T08:07:22.965Z"
   },
   {
    "duration": 37,
    "start_time": "2022-03-10T08:07:22.975Z"
   },
   {
    "duration": 34,
    "start_time": "2022-03-10T08:07:23.013Z"
   },
   {
    "duration": 416,
    "start_time": "2022-03-10T08:07:23.049Z"
   },
   {
    "duration": 423,
    "start_time": "2022-03-10T08:07:23.467Z"
   },
   {
    "duration": 364,
    "start_time": "2022-03-10T08:07:23.892Z"
   },
   {
    "duration": 8,
    "start_time": "2022-03-10T08:07:24.257Z"
   },
   {
    "duration": 8,
    "start_time": "2022-03-10T08:07:24.267Z"
   },
   {
    "duration": 14,
    "start_time": "2022-03-10T08:07:24.277Z"
   },
   {
    "duration": 10,
    "start_time": "2022-03-10T08:07:24.293Z"
   },
   {
    "duration": 37,
    "start_time": "2022-03-10T08:07:24.305Z"
   },
   {
    "duration": 15,
    "start_time": "2022-03-10T08:07:24.344Z"
   },
   {
    "duration": 12,
    "start_time": "2022-03-10T08:07:24.361Z"
   },
   {
    "duration": 17,
    "start_time": "2022-03-10T08:07:24.375Z"
   },
   {
    "duration": 11,
    "start_time": "2022-03-10T08:07:50.628Z"
   },
   {
    "duration": 11,
    "start_time": "2022-03-10T08:08:05.636Z"
   },
   {
    "duration": 9,
    "start_time": "2022-03-10T08:08:10.220Z"
   },
   {
    "duration": 9,
    "start_time": "2022-03-10T08:08:23.661Z"
   },
   {
    "duration": 546,
    "start_time": "2022-03-10T08:08:56.939Z"
   },
   {
    "duration": 73,
    "start_time": "2022-03-10T08:08:57.487Z"
   },
   {
    "duration": 33,
    "start_time": "2022-03-10T08:08:57.562Z"
   },
   {
    "duration": 8,
    "start_time": "2022-03-10T08:08:57.596Z"
   },
   {
    "duration": 7,
    "start_time": "2022-03-10T08:08:57.605Z"
   },
   {
    "duration": 40,
    "start_time": "2022-03-10T08:08:57.613Z"
   },
   {
    "duration": 13,
    "start_time": "2022-03-10T08:08:57.655Z"
   },
   {
    "duration": 417,
    "start_time": "2022-03-10T08:08:57.671Z"
   },
   {
    "duration": 414,
    "start_time": "2022-03-10T08:08:58.090Z"
   },
   {
    "duration": 357,
    "start_time": "2022-03-10T08:08:58.506Z"
   },
   {
    "duration": 7,
    "start_time": "2022-03-10T08:08:58.865Z"
   },
   {
    "duration": 9,
    "start_time": "2022-03-10T08:08:58.873Z"
   },
   {
    "duration": 9,
    "start_time": "2022-03-10T08:08:58.883Z"
   },
   {
    "duration": 15,
    "start_time": "2022-03-10T08:08:58.893Z"
   },
   {
    "duration": 35,
    "start_time": "2022-03-10T08:08:58.910Z"
   },
   {
    "duration": 15,
    "start_time": "2022-03-10T08:08:58.947Z"
   },
   {
    "duration": 11,
    "start_time": "2022-03-10T08:08:58.964Z"
   },
   {
    "duration": 18,
    "start_time": "2022-03-10T08:08:58.976Z"
   },
   {
    "duration": 18,
    "start_time": "2022-03-10T08:14:05.833Z"
   },
   {
    "duration": 18,
    "start_time": "2022-03-10T08:14:28.321Z"
   },
   {
    "duration": 3,
    "start_time": "2022-03-10T08:16:02.817Z"
   },
   {
    "duration": 14,
    "start_time": "2022-03-10T08:20:05.348Z"
   },
   {
    "duration": 16,
    "start_time": "2022-03-10T08:20:19.829Z"
   },
   {
    "duration": 17,
    "start_time": "2022-03-10T08:21:46.453Z"
   },
   {
    "duration": 542,
    "start_time": "2022-03-10T08:22:29.359Z"
   },
   {
    "duration": 74,
    "start_time": "2022-03-10T08:22:29.903Z"
   },
   {
    "duration": 31,
    "start_time": "2022-03-10T08:22:29.979Z"
   },
   {
    "duration": 7,
    "start_time": "2022-03-10T08:22:30.012Z"
   },
   {
    "duration": 20,
    "start_time": "2022-03-10T08:22:30.021Z"
   },
   {
    "duration": 29,
    "start_time": "2022-03-10T08:22:30.044Z"
   },
   {
    "duration": 17,
    "start_time": "2022-03-10T08:22:30.075Z"
   },
   {
    "duration": 446,
    "start_time": "2022-03-10T08:22:30.095Z"
   },
   {
    "duration": 411,
    "start_time": "2022-03-10T08:22:30.543Z"
   },
   {
    "duration": 372,
    "start_time": "2022-03-10T08:22:30.956Z"
   },
   {
    "duration": 12,
    "start_time": "2022-03-10T08:22:31.330Z"
   },
   {
    "duration": 34,
    "start_time": "2022-03-10T08:22:31.343Z"
   },
   {
    "duration": 14,
    "start_time": "2022-03-10T08:22:31.378Z"
   },
   {
    "duration": 25,
    "start_time": "2022-03-10T08:22:31.394Z"
   },
   {
    "duration": 47,
    "start_time": "2022-03-10T08:22:31.420Z"
   },
   {
    "duration": 16,
    "start_time": "2022-03-10T08:22:31.470Z"
   },
   {
    "duration": 36,
    "start_time": "2022-03-10T08:22:31.488Z"
   },
   {
    "duration": 17,
    "start_time": "2022-03-10T08:22:31.526Z"
   },
   {
    "duration": 11,
    "start_time": "2022-03-10T08:22:31.546Z"
   },
   {
    "duration": 19,
    "start_time": "2022-03-10T08:22:31.559Z"
   },
   {
    "duration": 19,
    "start_time": "2022-03-10T08:22:45.164Z"
   },
   {
    "duration": 577,
    "start_time": "2022-03-10T08:23:00.759Z"
   },
   {
    "duration": 80,
    "start_time": "2022-03-10T08:23:01.338Z"
   },
   {
    "duration": 42,
    "start_time": "2022-03-10T08:23:01.423Z"
   },
   {
    "duration": 41,
    "start_time": "2022-03-10T08:23:01.467Z"
   },
   {
    "duration": 38,
    "start_time": "2022-03-10T08:23:01.510Z"
   },
   {
    "duration": 39,
    "start_time": "2022-03-10T08:23:01.550Z"
   },
   {
    "duration": 16,
    "start_time": "2022-03-10T08:23:01.593Z"
   },
   {
    "duration": 438,
    "start_time": "2022-03-10T08:23:01.612Z"
   },
   {
    "duration": 422,
    "start_time": "2022-03-10T08:23:02.053Z"
   },
   {
    "duration": 392,
    "start_time": "2022-03-10T08:23:02.477Z"
   },
   {
    "duration": 9,
    "start_time": "2022-03-10T08:23:02.870Z"
   },
   {
    "duration": 12,
    "start_time": "2022-03-10T08:23:02.881Z"
   },
   {
    "duration": 16,
    "start_time": "2022-03-10T08:23:02.895Z"
   },
   {
    "duration": 28,
    "start_time": "2022-03-10T08:23:02.913Z"
   },
   {
    "duration": 17,
    "start_time": "2022-03-10T08:23:02.943Z"
   },
   {
    "duration": 15,
    "start_time": "2022-03-10T08:23:02.962Z"
   },
   {
    "duration": 32,
    "start_time": "2022-03-10T08:23:02.979Z"
   },
   {
    "duration": 35,
    "start_time": "2022-03-10T08:23:03.012Z"
   },
   {
    "duration": 12,
    "start_time": "2022-03-10T08:23:03.048Z"
   },
   {
    "duration": 23,
    "start_time": "2022-03-10T08:23:03.061Z"
   },
   {
    "duration": 43,
    "start_time": "2022-03-10T08:24:01.495Z"
   },
   {
    "duration": 37,
    "start_time": "2022-03-10T08:25:47.505Z"
   },
   {
    "duration": 48,
    "start_time": "2022-03-10T08:27:44.370Z"
   },
   {
    "duration": 53,
    "start_time": "2022-03-10T08:37:56.134Z"
   },
   {
    "duration": 91,
    "start_time": "2022-03-10T08:38:59.355Z"
   },
   {
    "duration": 92,
    "start_time": "2022-03-10T08:39:17.075Z"
   },
   {
    "duration": 511,
    "start_time": "2022-03-10T08:39:26.484Z"
   },
   {
    "duration": 76,
    "start_time": "2022-03-10T08:39:26.997Z"
   },
   {
    "duration": 33,
    "start_time": "2022-03-10T08:39:27.076Z"
   },
   {
    "duration": 7,
    "start_time": "2022-03-10T08:39:27.111Z"
   },
   {
    "duration": 5,
    "start_time": "2022-03-10T08:39:27.138Z"
   },
   {
    "duration": 25,
    "start_time": "2022-03-10T08:39:27.146Z"
   },
   {
    "duration": 15,
    "start_time": "2022-03-10T08:39:27.172Z"
   },
   {
    "duration": 452,
    "start_time": "2022-03-10T08:39:27.189Z"
   },
   {
    "duration": 406,
    "start_time": "2022-03-10T08:39:27.643Z"
   },
   {
    "duration": 359,
    "start_time": "2022-03-10T08:39:28.050Z"
   },
   {
    "duration": 8,
    "start_time": "2022-03-10T08:39:28.410Z"
   },
   {
    "duration": 22,
    "start_time": "2022-03-10T08:39:28.420Z"
   },
   {
    "duration": 9,
    "start_time": "2022-03-10T08:39:28.444Z"
   },
   {
    "duration": 9,
    "start_time": "2022-03-10T08:39:28.455Z"
   },
   {
    "duration": 15,
    "start_time": "2022-03-10T08:39:28.465Z"
   },
   {
    "duration": 14,
    "start_time": "2022-03-10T08:39:28.482Z"
   },
   {
    "duration": 47,
    "start_time": "2022-03-10T08:39:28.498Z"
   },
   {
    "duration": 110,
    "start_time": "2022-03-10T08:39:28.547Z"
   },
   {
    "duration": 10,
    "start_time": "2022-03-10T08:39:28.659Z"
   },
   {
    "duration": 15,
    "start_time": "2022-03-10T08:39:28.670Z"
   },
   {
    "duration": 78,
    "start_time": "2022-03-10T08:40:42.496Z"
   },
   {
    "duration": 44,
    "start_time": "2022-03-10T08:52:50.500Z"
   },
   {
    "duration": 14,
    "start_time": "2022-03-10T08:52:53.167Z"
   },
   {
    "duration": 16,
    "start_time": "2022-03-10T08:52:57.504Z"
   },
   {
    "duration": 17,
    "start_time": "2022-03-10T08:53:12.351Z"
   },
   {
    "duration": 15,
    "start_time": "2022-03-10T08:55:19.441Z"
   },
   {
    "duration": 654,
    "start_time": "2022-03-10T08:58:58.629Z"
   },
   {
    "duration": 90,
    "start_time": "2022-03-10T08:58:59.285Z"
   },
   {
    "duration": 31,
    "start_time": "2022-03-10T08:58:59.377Z"
   },
   {
    "duration": 7,
    "start_time": "2022-03-10T08:58:59.410Z"
   },
   {
    "duration": 5,
    "start_time": "2022-03-10T08:58:59.438Z"
   },
   {
    "duration": 23,
    "start_time": "2022-03-10T08:58:59.444Z"
   },
   {
    "duration": 13,
    "start_time": "2022-03-10T08:58:59.469Z"
   },
   {
    "duration": 431,
    "start_time": "2022-03-10T08:58:59.484Z"
   },
   {
    "duration": 447,
    "start_time": "2022-03-10T08:58:59.917Z"
   },
   {
    "duration": 374,
    "start_time": "2022-03-10T08:59:00.366Z"
   },
   {
    "duration": 7,
    "start_time": "2022-03-10T08:59:00.742Z"
   },
   {
    "duration": 16,
    "start_time": "2022-03-10T08:59:00.750Z"
   },
   {
    "duration": 12,
    "start_time": "2022-03-10T08:59:00.768Z"
   },
   {
    "duration": 23,
    "start_time": "2022-03-10T08:59:00.782Z"
   },
   {
    "duration": 25,
    "start_time": "2022-03-10T08:59:00.806Z"
   },
   {
    "duration": 32,
    "start_time": "2022-03-10T08:59:00.833Z"
   },
   {
    "duration": 29,
    "start_time": "2022-03-10T08:59:00.867Z"
   },
   {
    "duration": 99,
    "start_time": "2022-03-10T08:59:00.898Z"
   },
   {
    "duration": 12,
    "start_time": "2022-03-10T08:59:01.000Z"
   },
   {
    "duration": 29,
    "start_time": "2022-03-10T08:59:01.014Z"
   },
   {
    "duration": 557,
    "start_time": "2022-03-10T09:00:15.357Z"
   },
   {
    "duration": 86,
    "start_time": "2022-03-10T09:00:15.916Z"
   },
   {
    "duration": 48,
    "start_time": "2022-03-10T09:00:16.004Z"
   },
   {
    "duration": 8,
    "start_time": "2022-03-10T09:00:16.054Z"
   },
   {
    "duration": 12,
    "start_time": "2022-03-10T09:00:16.064Z"
   },
   {
    "duration": 33,
    "start_time": "2022-03-10T09:00:16.077Z"
   },
   {
    "duration": 31,
    "start_time": "2022-03-10T09:00:16.111Z"
   },
   {
    "duration": 432,
    "start_time": "2022-03-10T09:00:16.145Z"
   },
   {
    "duration": 429,
    "start_time": "2022-03-10T09:00:16.579Z"
   },
   {
    "duration": 386,
    "start_time": "2022-03-10T09:00:17.009Z"
   },
   {
    "duration": 7,
    "start_time": "2022-03-10T09:00:17.397Z"
   },
   {
    "duration": 14,
    "start_time": "2022-03-10T09:00:17.406Z"
   },
   {
    "duration": 18,
    "start_time": "2022-03-10T09:00:17.422Z"
   },
   {
    "duration": 15,
    "start_time": "2022-03-10T09:00:17.442Z"
   },
   {
    "duration": 24,
    "start_time": "2022-03-10T09:00:17.458Z"
   },
   {
    "duration": 16,
    "start_time": "2022-03-10T09:00:17.483Z"
   },
   {
    "duration": 21,
    "start_time": "2022-03-10T09:00:17.501Z"
   },
   {
    "duration": 115,
    "start_time": "2022-03-10T09:00:17.524Z"
   },
   {
    "duration": 12,
    "start_time": "2022-03-10T09:00:17.641Z"
   },
   {
    "duration": 17,
    "start_time": "2022-03-10T09:00:17.654Z"
   },
   {
    "duration": 20,
    "start_time": "2022-03-10T09:01:54.559Z"
   },
   {
    "duration": 16,
    "start_time": "2022-03-10T09:02:28.016Z"
   },
   {
    "duration": 2,
    "start_time": "2022-03-10T09:04:45.738Z"
   },
   {
    "duration": 9,
    "start_time": "2022-03-10T09:04:54.857Z"
   },
   {
    "duration": 17,
    "start_time": "2022-03-10T09:05:59.819Z"
   },
   {
    "duration": 22,
    "start_time": "2022-03-10T09:07:50.052Z"
   },
   {
    "duration": 30,
    "start_time": "2022-03-10T09:07:56.747Z"
   },
   {
    "duration": 20,
    "start_time": "2022-03-10T09:08:02.595Z"
   },
   {
    "duration": 20,
    "start_time": "2022-03-10T09:08:07.580Z"
   },
   {
    "duration": 10,
    "start_time": "2022-03-10T09:08:16.467Z"
   },
   {
    "duration": 16,
    "start_time": "2022-03-10T09:08:25.156Z"
   },
   {
    "duration": 10,
    "start_time": "2022-03-10T09:10:13.022Z"
   },
   {
    "duration": 18,
    "start_time": "2022-03-10T09:10:14.212Z"
   },
   {
    "duration": 9,
    "start_time": "2022-03-10T09:10:16.604Z"
   },
   {
    "duration": 14,
    "start_time": "2022-03-10T09:12:00.355Z"
   },
   {
    "duration": 8,
    "start_time": "2022-03-10T09:12:20.008Z"
   },
   {
    "duration": 8,
    "start_time": "2022-03-10T09:12:46.391Z"
   },
   {
    "duration": 9,
    "start_time": "2022-03-10T09:12:51.327Z"
   },
   {
    "duration": 5,
    "start_time": "2022-03-10T09:13:12.287Z"
   },
   {
    "duration": 5,
    "start_time": "2022-03-10T09:13:22.600Z"
   },
   {
    "duration": 55,
    "start_time": "2022-03-10T09:13:32.095Z"
   },
   {
    "duration": 5,
    "start_time": "2022-03-10T09:13:37.662Z"
   },
   {
    "duration": 21,
    "start_time": "2022-03-10T09:14:38.193Z"
   },
   {
    "duration": 29,
    "start_time": "2022-03-10T09:14:59.546Z"
   },
   {
    "duration": 572,
    "start_time": "2022-03-10T09:15:34.949Z"
   },
   {
    "duration": 86,
    "start_time": "2022-03-10T09:15:35.523Z"
   },
   {
    "duration": 42,
    "start_time": "2022-03-10T09:15:35.611Z"
   },
   {
    "duration": 8,
    "start_time": "2022-03-10T09:15:35.655Z"
   },
   {
    "duration": 4,
    "start_time": "2022-03-10T09:15:35.665Z"
   },
   {
    "duration": 29,
    "start_time": "2022-03-10T09:15:35.670Z"
   },
   {
    "duration": 52,
    "start_time": "2022-03-10T09:15:35.701Z"
   },
   {
    "duration": 436,
    "start_time": "2022-03-10T09:15:35.755Z"
   },
   {
    "duration": 425,
    "start_time": "2022-03-10T09:15:36.193Z"
   },
   {
    "duration": 357,
    "start_time": "2022-03-10T09:15:36.620Z"
   },
   {
    "duration": 8,
    "start_time": "2022-03-10T09:15:36.979Z"
   },
   {
    "duration": 9,
    "start_time": "2022-03-10T09:15:36.989Z"
   },
   {
    "duration": 21,
    "start_time": "2022-03-10T09:15:37.000Z"
   },
   {
    "duration": 20,
    "start_time": "2022-03-10T09:15:37.023Z"
   },
   {
    "duration": 25,
    "start_time": "2022-03-10T09:15:37.045Z"
   },
   {
    "duration": 28,
    "start_time": "2022-03-10T09:15:37.072Z"
   },
   {
    "duration": 25,
    "start_time": "2022-03-10T09:15:37.102Z"
   },
   {
    "duration": 109,
    "start_time": "2022-03-10T09:15:37.129Z"
   },
   {
    "duration": 12,
    "start_time": "2022-03-10T09:15:37.239Z"
   },
   {
    "duration": 44,
    "start_time": "2022-03-10T09:15:37.252Z"
   },
   {
    "duration": 9,
    "start_time": "2022-03-10T09:15:37.297Z"
   },
   {
    "duration": 10,
    "start_time": "2022-03-10T09:34:55.281Z"
   },
   {
    "duration": 22,
    "start_time": "2022-03-10T09:40:55.501Z"
   },
   {
    "duration": 14,
    "start_time": "2022-03-10T09:41:07.943Z"
   },
   {
    "duration": 22,
    "start_time": "2022-03-10T09:41:38.174Z"
   },
   {
    "duration": 9,
    "start_time": "2022-03-10T09:42:37.150Z"
   },
   {
    "duration": 255,
    "start_time": "2022-03-10T09:47:26.377Z"
   },
   {
    "duration": 137,
    "start_time": "2022-03-10T09:47:32.225Z"
   },
   {
    "duration": 47,
    "start_time": "2022-03-10T09:47:57.097Z"
   },
   {
    "duration": 6,
    "start_time": "2022-03-10T09:48:01.113Z"
   },
   {
    "duration": 134,
    "start_time": "2022-03-10T09:48:12.042Z"
   },
   {
    "duration": 10,
    "start_time": "2022-03-10T09:48:31.026Z"
   },
   {
    "duration": 547,
    "start_time": "2022-03-10T09:48:53.468Z"
   },
   {
    "duration": 94,
    "start_time": "2022-03-10T09:48:54.018Z"
   },
   {
    "duration": 43,
    "start_time": "2022-03-10T09:48:54.115Z"
   },
   {
    "duration": 7,
    "start_time": "2022-03-10T09:48:54.160Z"
   },
   {
    "duration": 5,
    "start_time": "2022-03-10T09:48:54.168Z"
   },
   {
    "duration": 26,
    "start_time": "2022-03-10T09:48:54.174Z"
   },
   {
    "duration": 57,
    "start_time": "2022-03-10T09:48:54.202Z"
   },
   {
    "duration": 431,
    "start_time": "2022-03-10T09:48:54.262Z"
   },
   {
    "duration": 432,
    "start_time": "2022-03-10T09:48:54.696Z"
   },
   {
    "duration": 371,
    "start_time": "2022-03-10T09:48:55.130Z"
   },
   {
    "duration": 8,
    "start_time": "2022-03-10T09:48:55.502Z"
   },
   {
    "duration": 10,
    "start_time": "2022-03-10T09:48:55.512Z"
   },
   {
    "duration": 10,
    "start_time": "2022-03-10T09:48:55.538Z"
   },
   {
    "duration": 12,
    "start_time": "2022-03-10T09:48:55.549Z"
   },
   {
    "duration": 16,
    "start_time": "2022-03-10T09:48:55.563Z"
   },
   {
    "duration": 18,
    "start_time": "2022-03-10T09:48:55.580Z"
   },
   {
    "duration": 45,
    "start_time": "2022-03-10T09:48:55.600Z"
   },
   {
    "duration": 100,
    "start_time": "2022-03-10T09:48:55.647Z"
   },
   {
    "duration": 10,
    "start_time": "2022-03-10T09:48:55.749Z"
   },
   {
    "duration": 241,
    "start_time": "2022-03-10T09:48:55.761Z"
   },
   {
    "duration": 8,
    "start_time": "2022-03-10T09:48:56.004Z"
   },
   {
    "duration": 13,
    "start_time": "2022-03-10T09:48:56.014Z"
   },
   {
    "duration": 10,
    "start_time": "2022-03-10T09:49:08.291Z"
   },
   {
    "duration": 22,
    "start_time": "2022-03-10T09:59:52.413Z"
   },
   {
    "duration": 3722,
    "start_time": "2022-03-10T10:02:20.047Z"
   },
   {
    "duration": 8,
    "start_time": "2022-03-10T10:02:44.727Z"
   },
   {
    "duration": 12,
    "start_time": "2022-03-10T10:04:52.221Z"
   },
   {
    "duration": 11,
    "start_time": "2022-03-10T10:05:58.392Z"
   },
   {
    "duration": 10,
    "start_time": "2022-03-10T10:06:50.274Z"
   },
   {
    "duration": 12,
    "start_time": "2022-03-10T10:10:54.645Z"
   },
   {
    "duration": 13,
    "start_time": "2022-03-10T10:10:57.378Z"
   },
   {
    "duration": 5,
    "start_time": "2022-03-10T10:10:59.104Z"
   },
   {
    "duration": 131,
    "start_time": "2022-03-10T10:11:07.033Z"
   },
   {
    "duration": 534,
    "start_time": "2022-03-10T10:11:21.374Z"
   },
   {
    "duration": 89,
    "start_time": "2022-03-10T10:11:21.910Z"
   },
   {
    "duration": 49,
    "start_time": "2022-03-10T10:11:22.002Z"
   },
   {
    "duration": 9,
    "start_time": "2022-03-10T10:11:22.054Z"
   },
   {
    "duration": 5,
    "start_time": "2022-03-10T10:11:22.065Z"
   },
   {
    "duration": 26,
    "start_time": "2022-03-10T10:11:22.072Z"
   },
   {
    "duration": 63,
    "start_time": "2022-03-10T10:11:22.100Z"
   },
   {
    "duration": 444,
    "start_time": "2022-03-10T10:11:22.165Z"
   },
   {
    "duration": 433,
    "start_time": "2022-03-10T10:11:22.611Z"
   },
   {
    "duration": 367,
    "start_time": "2022-03-10T10:11:23.046Z"
   },
   {
    "duration": 7,
    "start_time": "2022-03-10T10:11:23.415Z"
   },
   {
    "duration": 18,
    "start_time": "2022-03-10T10:11:23.424Z"
   },
   {
    "duration": 12,
    "start_time": "2022-03-10T10:11:23.444Z"
   },
   {
    "duration": 12,
    "start_time": "2022-03-10T10:11:23.458Z"
   },
   {
    "duration": 16,
    "start_time": "2022-03-10T10:11:23.472Z"
   },
   {
    "duration": 16,
    "start_time": "2022-03-10T10:11:23.490Z"
   },
   {
    "duration": 46,
    "start_time": "2022-03-10T10:11:23.507Z"
   },
   {
    "duration": 104,
    "start_time": "2022-03-10T10:11:23.555Z"
   },
   {
    "duration": 13,
    "start_time": "2022-03-10T10:11:23.661Z"
   },
   {
    "duration": 16,
    "start_time": "2022-03-10T10:11:23.676Z"
   },
   {
    "duration": 10,
    "start_time": "2022-03-10T10:11:23.694Z"
   },
   {
    "duration": 39,
    "start_time": "2022-03-10T10:11:23.706Z"
   },
   {
    "duration": 13,
    "start_time": "2022-03-10T10:11:23.749Z"
   },
   {
    "duration": 13,
    "start_time": "2022-03-10T10:11:23.764Z"
   },
   {
    "duration": 20,
    "start_time": "2022-03-10T10:11:23.778Z"
   },
   {
    "duration": 51,
    "start_time": "2022-03-10T10:27:02.350Z"
   },
   {
    "duration": 220,
    "start_time": "2022-03-10T10:27:07.982Z"
   },
   {
    "duration": 24,
    "start_time": "2022-03-10T10:27:14.509Z"
   },
   {
    "duration": 28,
    "start_time": "2022-03-10T10:29:21.910Z"
   },
   {
    "duration": 24,
    "start_time": "2022-03-10T10:30:43.662Z"
   },
   {
    "duration": 25,
    "start_time": "2022-03-10T10:31:24.670Z"
   },
   {
    "duration": 61,
    "start_time": "2022-03-10T10:31:46.934Z"
   },
   {
    "duration": 26,
    "start_time": "2022-03-10T10:31:52.021Z"
   },
   {
    "duration": 91,
    "start_time": "2022-03-10T10:43:14.450Z"
   },
   {
    "duration": 48,
    "start_time": "2022-03-10T10:43:25.466Z"
   },
   {
    "duration": 52,
    "start_time": "2022-03-10T10:44:00.794Z"
   },
   {
    "duration": 4,
    "start_time": "2022-03-10T10:44:16.570Z"
   },
   {
    "duration": 3573,
    "start_time": "2022-03-10T10:44:43.131Z"
   },
   {
    "duration": 29,
    "start_time": "2022-03-10T10:45:14.395Z"
   },
   {
    "duration": 6,
    "start_time": "2022-03-10T10:51:36.342Z"
   },
   {
    "duration": 6,
    "start_time": "2022-03-10T10:52:55.230Z"
   },
   {
    "duration": 694,
    "start_time": "2022-03-10T10:55:26.487Z"
   },
   {
    "duration": 150,
    "start_time": "2022-03-10T10:56:04.416Z"
   },
   {
    "duration": 3296,
    "start_time": "2022-03-10T10:56:37.625Z"
   },
   {
    "duration": 3370,
    "start_time": "2022-03-10T10:57:16.474Z"
   },
   {
    "duration": 191,
    "start_time": "2022-03-10T11:01:28.763Z"
   },
   {
    "duration": 10,
    "start_time": "2022-03-10T11:01:52.146Z"
   },
   {
    "duration": 12,
    "start_time": "2022-03-10T11:02:19.362Z"
   },
   {
    "duration": 6,
    "start_time": "2022-03-10T11:08:48.724Z"
   },
   {
    "duration": 8,
    "start_time": "2022-03-10T11:09:11.580Z"
   },
   {
    "duration": 7,
    "start_time": "2022-03-10T11:09:19.796Z"
   },
   {
    "duration": 541,
    "start_time": "2022-03-10T11:09:28.580Z"
   },
   {
    "duration": 1752,
    "start_time": "2022-03-10T11:09:29.123Z"
   },
   {
    "duration": 36,
    "start_time": "2022-03-10T11:09:30.878Z"
   },
   {
    "duration": 27,
    "start_time": "2022-03-10T11:09:30.916Z"
   },
   {
    "duration": 5,
    "start_time": "2022-03-10T11:09:30.945Z"
   },
   {
    "duration": 43,
    "start_time": "2022-03-10T11:09:30.952Z"
   },
   {
    "duration": 46,
    "start_time": "2022-03-10T11:09:30.997Z"
   },
   {
    "duration": 457,
    "start_time": "2022-03-10T11:09:31.045Z"
   },
   {
    "duration": 444,
    "start_time": "2022-03-10T11:09:31.504Z"
   },
   {
    "duration": 365,
    "start_time": "2022-03-10T11:09:31.949Z"
   },
   {
    "duration": 7,
    "start_time": "2022-03-10T11:09:32.315Z"
   },
   {
    "duration": 19,
    "start_time": "2022-03-10T11:09:32.324Z"
   },
   {
    "duration": 12,
    "start_time": "2022-03-10T11:09:32.345Z"
   },
   {
    "duration": 8,
    "start_time": "2022-03-10T11:09:32.359Z"
   },
   {
    "duration": 15,
    "start_time": "2022-03-10T11:09:32.369Z"
   },
   {
    "duration": 29,
    "start_time": "2022-03-10T11:09:32.386Z"
   },
   {
    "duration": 34,
    "start_time": "2022-03-10T11:09:32.417Z"
   },
   {
    "duration": 105,
    "start_time": "2022-03-10T11:09:32.453Z"
   },
   {
    "duration": 11,
    "start_time": "2022-03-10T11:09:32.559Z"
   },
   {
    "duration": 20,
    "start_time": "2022-03-10T11:09:32.571Z"
   },
   {
    "duration": 9,
    "start_time": "2022-03-10T11:09:32.592Z"
   },
   {
    "duration": 10,
    "start_time": "2022-03-10T11:09:32.602Z"
   },
   {
    "duration": 13,
    "start_time": "2022-03-10T11:09:32.639Z"
   },
   {
    "duration": 12,
    "start_time": "2022-03-10T11:09:32.654Z"
   },
   {
    "duration": 38,
    "start_time": "2022-03-10T11:09:32.667Z"
   },
   {
    "duration": 33,
    "start_time": "2022-03-10T11:09:32.706Z"
   },
   {
    "duration": 25,
    "start_time": "2022-03-10T11:09:32.741Z"
   },
   {
    "duration": 1944,
    "start_time": "2022-03-10T11:09:32.768Z"
   },
   {
    "duration": 6,
    "start_time": "2022-03-10T11:09:47.281Z"
   },
   {
    "duration": 6,
    "start_time": "2022-03-10T11:11:00.658Z"
   },
   {
    "duration": 677,
    "start_time": "2022-03-10T11:11:35.308Z"
   },
   {
    "duration": 235,
    "start_time": "2022-03-10T11:11:46.051Z"
   },
   {
    "duration": 7,
    "start_time": "2022-03-10T11:11:49.986Z"
   },
   {
    "duration": 10,
    "start_time": "2022-03-10T11:13:48.459Z"
   },
   {
    "duration": 9,
    "start_time": "2022-03-10T11:21:56.775Z"
   },
   {
    "duration": 9,
    "start_time": "2022-03-10T11:22:11.350Z"
   },
   {
    "duration": 10,
    "start_time": "2022-03-10T11:25:08.128Z"
   },
   {
    "duration": 11,
    "start_time": "2022-03-10T11:25:14.968Z"
   },
   {
    "duration": 12,
    "start_time": "2022-03-10T11:26:19.850Z"
   },
   {
    "duration": 11,
    "start_time": "2022-03-10T11:26:29.977Z"
   },
   {
    "duration": 10,
    "start_time": "2022-03-10T11:26:35.672Z"
   },
   {
    "duration": 10,
    "start_time": "2022-03-10T11:26:43.368Z"
   },
   {
    "duration": 149,
    "start_time": "2022-03-10T11:27:21.481Z"
   },
   {
    "duration": 138,
    "start_time": "2022-03-10T11:27:27.129Z"
   },
   {
    "duration": 7,
    "start_time": "2022-03-10T11:27:51.281Z"
   },
   {
    "duration": 8,
    "start_time": "2022-03-10T11:28:01.153Z"
   },
   {
    "duration": 8,
    "start_time": "2022-03-10T11:28:05.976Z"
   },
   {
    "duration": 8,
    "start_time": "2022-03-10T11:28:45.474Z"
   },
   {
    "duration": 518,
    "start_time": "2022-03-10T11:28:54.284Z"
   },
   {
    "duration": 87,
    "start_time": "2022-03-10T11:28:54.805Z"
   },
   {
    "duration": 31,
    "start_time": "2022-03-10T11:28:54.894Z"
   },
   {
    "duration": 7,
    "start_time": "2022-03-10T11:28:54.938Z"
   },
   {
    "duration": 5,
    "start_time": "2022-03-10T11:28:54.947Z"
   },
   {
    "duration": 29,
    "start_time": "2022-03-10T11:28:54.954Z"
   },
   {
    "duration": 55,
    "start_time": "2022-03-10T11:28:54.984Z"
   },
   {
    "duration": 425,
    "start_time": "2022-03-10T11:28:55.041Z"
   },
   {
    "duration": 420,
    "start_time": "2022-03-10T11:28:55.468Z"
   },
   {
    "duration": 359,
    "start_time": "2022-03-10T11:28:55.890Z"
   },
   {
    "duration": 8,
    "start_time": "2022-03-10T11:28:56.251Z"
   },
   {
    "duration": 13,
    "start_time": "2022-03-10T11:28:56.260Z"
   },
   {
    "duration": 11,
    "start_time": "2022-03-10T11:28:56.274Z"
   },
   {
    "duration": 8,
    "start_time": "2022-03-10T11:28:56.286Z"
   },
   {
    "duration": 42,
    "start_time": "2022-03-10T11:28:56.296Z"
   },
   {
    "duration": 15,
    "start_time": "2022-03-10T11:28:56.339Z"
   },
   {
    "duration": 18,
    "start_time": "2022-03-10T11:28:56.356Z"
   },
   {
    "duration": 112,
    "start_time": "2022-03-10T11:28:56.375Z"
   },
   {
    "duration": 12,
    "start_time": "2022-03-10T11:28:56.489Z"
   },
   {
    "duration": 16,
    "start_time": "2022-03-10T11:28:56.502Z"
   },
   {
    "duration": 25,
    "start_time": "2022-03-10T11:28:56.520Z"
   },
   {
    "duration": 10,
    "start_time": "2022-03-10T11:28:56.547Z"
   },
   {
    "duration": 13,
    "start_time": "2022-03-10T11:28:56.560Z"
   },
   {
    "duration": 12,
    "start_time": "2022-03-10T11:28:56.575Z"
   },
   {
    "duration": 59,
    "start_time": "2022-03-10T11:28:56.589Z"
   },
   {
    "duration": 26,
    "start_time": "2022-03-10T11:28:56.650Z"
   },
   {
    "duration": 26,
    "start_time": "2022-03-10T11:28:56.679Z"
   },
   {
    "duration": 33,
    "start_time": "2022-03-10T11:28:56.707Z"
   },
   {
    "duration": 10,
    "start_time": "2022-03-10T11:29:35.428Z"
   },
   {
    "duration": 9,
    "start_time": "2022-03-10T11:32:41.934Z"
   },
   {
    "duration": 13,
    "start_time": "2022-03-10T11:32:51.798Z"
   },
   {
    "duration": 58,
    "start_time": "2022-03-10T11:33:21.080Z"
   },
   {
    "duration": 12,
    "start_time": "2022-03-10T11:33:26.182Z"
   },
   {
    "duration": 17,
    "start_time": "2022-03-10T11:33:50.409Z"
   },
   {
    "duration": 15,
    "start_time": "2022-03-10T11:34:55.993Z"
   },
   {
    "duration": 13,
    "start_time": "2022-03-10T11:35:10.624Z"
   },
   {
    "duration": 14,
    "start_time": "2022-03-10T11:35:15.459Z"
   },
   {
    "duration": 14,
    "start_time": "2022-03-10T11:51:23.733Z"
   },
   {
    "duration": 21,
    "start_time": "2022-03-10T11:53:29.742Z"
   },
   {
    "duration": 21,
    "start_time": "2022-03-10T11:54:52.369Z"
   },
   {
    "duration": 1881,
    "start_time": "2022-03-10T11:57:03.104Z"
   },
   {
    "duration": 28,
    "start_time": "2022-03-10T11:57:09.416Z"
   },
   {
    "duration": 21,
    "start_time": "2022-03-10T11:57:51.713Z"
   },
   {
    "duration": 3327,
    "start_time": "2022-03-10T11:58:50.529Z"
   },
   {
    "duration": 16,
    "start_time": "2022-03-10T11:58:55.585Z"
   },
   {
    "duration": 22,
    "start_time": "2022-03-10T11:59:08.392Z"
   },
   {
    "duration": 147,
    "start_time": "2022-03-10T12:09:21.022Z"
   },
   {
    "duration": 9,
    "start_time": "2022-03-10T12:09:25.773Z"
   },
   {
    "duration": 573,
    "start_time": "2022-03-10T12:10:23.857Z"
   },
   {
    "duration": 87,
    "start_time": "2022-03-10T12:10:24.432Z"
   },
   {
    "duration": 40,
    "start_time": "2022-03-10T12:10:24.521Z"
   },
   {
    "duration": 8,
    "start_time": "2022-03-10T12:10:24.563Z"
   },
   {
    "duration": 7,
    "start_time": "2022-03-10T12:10:24.573Z"
   },
   {
    "duration": 24,
    "start_time": "2022-03-10T12:10:24.582Z"
   },
   {
    "duration": 57,
    "start_time": "2022-03-10T12:10:24.608Z"
   },
   {
    "duration": 447,
    "start_time": "2022-03-10T12:10:24.667Z"
   },
   {
    "duration": 413,
    "start_time": "2022-03-10T12:10:25.116Z"
   },
   {
    "duration": 349,
    "start_time": "2022-03-10T12:10:25.531Z"
   },
   {
    "duration": 7,
    "start_time": "2022-03-10T12:10:25.882Z"
   },
   {
    "duration": 8,
    "start_time": "2022-03-10T12:10:25.892Z"
   },
   {
    "duration": 11,
    "start_time": "2022-03-10T12:10:25.902Z"
   },
   {
    "duration": 27,
    "start_time": "2022-03-10T12:10:25.914Z"
   },
   {
    "duration": 16,
    "start_time": "2022-03-10T12:10:25.943Z"
   },
   {
    "duration": 17,
    "start_time": "2022-03-10T12:10:25.960Z"
   },
   {
    "duration": 21,
    "start_time": "2022-03-10T12:10:25.979Z"
   },
   {
    "duration": 118,
    "start_time": "2022-03-10T12:10:26.002Z"
   },
   {
    "duration": 19,
    "start_time": "2022-03-10T12:10:26.122Z"
   },
   {
    "duration": 15,
    "start_time": "2022-03-10T12:10:26.143Z"
   },
   {
    "duration": 8,
    "start_time": "2022-03-10T12:10:26.160Z"
   },
   {
    "duration": 10,
    "start_time": "2022-03-10T12:10:26.169Z"
   },
   {
    "duration": 13,
    "start_time": "2022-03-10T12:10:26.182Z"
   },
   {
    "duration": 44,
    "start_time": "2022-03-10T12:10:26.197Z"
   },
   {
    "duration": 19,
    "start_time": "2022-03-10T12:10:26.243Z"
   },
   {
    "duration": 28,
    "start_time": "2022-03-10T12:10:26.264Z"
   },
   {
    "duration": 53,
    "start_time": "2022-03-10T12:10:26.294Z"
   },
   {
    "duration": 12,
    "start_time": "2022-03-10T12:10:26.348Z"
   },
   {
    "duration": 21,
    "start_time": "2022-03-10T12:10:26.362Z"
   },
   {
    "duration": 8,
    "start_time": "2022-03-10T12:10:26.385Z"
   },
   {
    "duration": 20,
    "start_time": "2022-03-10T12:11:14.613Z"
   },
   {
    "duration": 19,
    "start_time": "2022-03-10T12:11:20.051Z"
   },
   {
    "duration": 177,
    "start_time": "2022-03-10T12:19:15.119Z"
   },
   {
    "duration": 97,
    "start_time": "2022-03-10T12:19:20.439Z"
   },
   {
    "duration": 58,
    "start_time": "2022-03-10T12:19:27.463Z"
   },
   {
    "duration": 3,
    "start_time": "2022-03-10T12:26:26.114Z"
   },
   {
    "duration": 3,
    "start_time": "2022-03-10T12:26:26.882Z"
   },
   {
    "duration": 18,
    "start_time": "2022-03-10T12:42:07.187Z"
   },
   {
    "duration": 20,
    "start_time": "2022-03-10T12:42:27.443Z"
   },
   {
    "duration": 540,
    "start_time": "2022-03-10T12:58:42.490Z"
   },
   {
    "duration": 86,
    "start_time": "2022-03-10T12:58:43.032Z"
   },
   {
    "duration": 41,
    "start_time": "2022-03-10T12:58:43.120Z"
   },
   {
    "duration": 8,
    "start_time": "2022-03-10T12:58:43.162Z"
   },
   {
    "duration": 4,
    "start_time": "2022-03-10T12:58:43.172Z"
   },
   {
    "duration": 27,
    "start_time": "2022-03-10T12:58:43.178Z"
   },
   {
    "duration": 56,
    "start_time": "2022-03-10T12:58:43.207Z"
   },
   {
    "duration": 440,
    "start_time": "2022-03-10T12:58:43.266Z"
   },
   {
    "duration": 425,
    "start_time": "2022-03-10T12:58:43.709Z"
   },
   {
    "duration": 368,
    "start_time": "2022-03-10T12:58:44.136Z"
   },
   {
    "duration": 8,
    "start_time": "2022-03-10T12:58:44.506Z"
   },
   {
    "duration": 24,
    "start_time": "2022-03-10T12:58:44.516Z"
   },
   {
    "duration": 10,
    "start_time": "2022-03-10T12:58:44.542Z"
   },
   {
    "duration": 8,
    "start_time": "2022-03-10T12:58:44.554Z"
   },
   {
    "duration": 15,
    "start_time": "2022-03-10T12:58:44.564Z"
   },
   {
    "duration": 15,
    "start_time": "2022-03-10T12:58:44.581Z"
   },
   {
    "duration": 48,
    "start_time": "2022-03-10T12:58:44.598Z"
   },
   {
    "duration": 115,
    "start_time": "2022-03-10T12:58:44.648Z"
   },
   {
    "duration": 11,
    "start_time": "2022-03-10T12:58:44.765Z"
   },
   {
    "duration": 19,
    "start_time": "2022-03-10T12:58:44.777Z"
   },
   {
    "duration": 10,
    "start_time": "2022-03-10T12:58:44.798Z"
   },
   {
    "duration": 39,
    "start_time": "2022-03-10T12:58:44.809Z"
   },
   {
    "duration": 13,
    "start_time": "2022-03-10T12:58:44.851Z"
   },
   {
    "duration": 22,
    "start_time": "2022-03-10T12:58:44.867Z"
   },
   {
    "duration": 20,
    "start_time": "2022-03-10T12:58:44.891Z"
   },
   {
    "duration": 52,
    "start_time": "2022-03-10T12:58:44.913Z"
   },
   {
    "duration": 30,
    "start_time": "2022-03-10T12:58:44.967Z"
   },
   {
    "duration": 52,
    "start_time": "2022-03-10T12:58:45.000Z"
   },
   {
    "duration": 33,
    "start_time": "2022-03-10T12:58:45.055Z"
   },
   {
    "duration": 19,
    "start_time": "2022-03-10T12:58:45.091Z"
   },
   {
    "duration": 46,
    "start_time": "2022-03-10T12:58:45.111Z"
   },
   {
    "duration": 571,
    "start_time": "2022-03-10T13:09:48.635Z"
   },
   {
    "duration": 91,
    "start_time": "2022-03-10T13:09:49.208Z"
   },
   {
    "duration": 45,
    "start_time": "2022-03-10T13:09:49.301Z"
   },
   {
    "duration": 8,
    "start_time": "2022-03-10T13:09:49.348Z"
   },
   {
    "duration": 4,
    "start_time": "2022-03-10T13:09:49.358Z"
   },
   {
    "duration": 24,
    "start_time": "2022-03-10T13:09:49.364Z"
   },
   {
    "duration": 58,
    "start_time": "2022-03-10T13:09:49.390Z"
   },
   {
    "duration": 432,
    "start_time": "2022-03-10T13:09:49.450Z"
   },
   {
    "duration": 435,
    "start_time": "2022-03-10T13:09:49.885Z"
   },
   {
    "duration": 381,
    "start_time": "2022-03-10T13:09:50.322Z"
   },
   {
    "duration": 7,
    "start_time": "2022-03-10T13:09:50.705Z"
   },
   {
    "duration": 24,
    "start_time": "2022-03-10T13:09:50.714Z"
   },
   {
    "duration": 9,
    "start_time": "2022-03-10T13:09:50.739Z"
   },
   {
    "duration": 25,
    "start_time": "2022-03-10T13:09:50.750Z"
   },
   {
    "duration": 18,
    "start_time": "2022-03-10T13:09:50.777Z"
   },
   {
    "duration": 16,
    "start_time": "2022-03-10T13:09:50.797Z"
   },
   {
    "duration": 30,
    "start_time": "2022-03-10T13:09:50.814Z"
   },
   {
    "duration": 99,
    "start_time": "2022-03-10T13:09:50.846Z"
   },
   {
    "duration": 10,
    "start_time": "2022-03-10T13:09:50.947Z"
   },
   {
    "duration": 29,
    "start_time": "2022-03-10T13:09:50.959Z"
   },
   {
    "duration": 10,
    "start_time": "2022-03-10T13:09:50.990Z"
   },
   {
    "duration": 20,
    "start_time": "2022-03-10T13:09:51.002Z"
   },
   {
    "duration": 49,
    "start_time": "2022-03-10T13:09:51.026Z"
   },
   {
    "duration": 13,
    "start_time": "2022-03-10T13:09:51.078Z"
   },
   {
    "duration": 20,
    "start_time": "2022-03-10T13:09:51.093Z"
   },
   {
    "duration": 36,
    "start_time": "2022-03-10T13:09:51.115Z"
   },
   {
    "duration": 26,
    "start_time": "2022-03-10T13:09:51.153Z"
   },
   {
    "duration": 14,
    "start_time": "2022-03-10T13:09:51.181Z"
   },
   {
    "duration": 52,
    "start_time": "2022-03-10T13:09:51.197Z"
   },
   {
    "duration": 19,
    "start_time": "2022-03-10T13:09:51.251Z"
   },
   {
    "duration": 20,
    "start_time": "2022-03-10T13:09:51.272Z"
   },
   {
    "duration": 71,
    "start_time": "2022-03-19T12:26:42.760Z"
   },
   {
    "duration": 49,
    "start_time": "2022-03-19T12:31:13.068Z"
   },
   {
    "duration": 397,
    "start_time": "2022-03-19T12:31:17.943Z"
   },
   {
    "duration": 113,
    "start_time": "2022-03-19T12:31:18.343Z"
   },
   {
    "duration": 32,
    "start_time": "2022-03-19T12:31:18.458Z"
   },
   {
    "duration": 8,
    "start_time": "2022-03-19T12:31:18.509Z"
   },
   {
    "duration": 5,
    "start_time": "2022-03-19T12:31:18.519Z"
   },
   {
    "duration": 27,
    "start_time": "2022-03-19T12:31:18.526Z"
   },
   {
    "duration": 61,
    "start_time": "2022-03-19T12:31:18.555Z"
   },
   {
    "duration": 557,
    "start_time": "2022-03-19T12:31:18.618Z"
   },
   {
    "duration": 288,
    "start_time": "2022-03-19T12:31:19.177Z"
   },
   {
    "duration": 470,
    "start_time": "2022-03-19T12:31:19.467Z"
   },
   {
    "duration": 7,
    "start_time": "2022-03-19T12:31:19.939Z"
   },
   {
    "duration": 9,
    "start_time": "2022-03-19T12:31:19.948Z"
   },
   {
    "duration": 9,
    "start_time": "2022-03-19T12:31:19.958Z"
   },
   {
    "duration": 48,
    "start_time": "2022-03-19T12:31:19.968Z"
   },
   {
    "duration": 18,
    "start_time": "2022-03-19T12:31:20.019Z"
   },
   {
    "duration": 15,
    "start_time": "2022-03-19T12:31:20.039Z"
   },
   {
    "duration": 79,
    "start_time": "2022-03-19T12:31:20.056Z"
   },
   {
    "duration": 172,
    "start_time": "2022-03-19T12:31:20.137Z"
   },
   {
    "duration": 13,
    "start_time": "2022-03-19T12:31:20.311Z"
   },
   {
    "duration": 40,
    "start_time": "2022-03-19T12:31:20.326Z"
   },
   {
    "duration": 42,
    "start_time": "2022-03-19T12:31:20.369Z"
   },
   {
    "duration": 12,
    "start_time": "2022-03-19T12:31:20.413Z"
   },
   {
    "duration": 15,
    "start_time": "2022-03-19T12:31:20.428Z"
   },
   {
    "duration": 72,
    "start_time": "2022-03-19T12:31:20.445Z"
   },
   {
    "duration": 19,
    "start_time": "2022-03-19T12:31:20.519Z"
   },
   {
    "duration": 83,
    "start_time": "2022-03-19T12:31:20.540Z"
   },
   {
    "duration": 27,
    "start_time": "2022-03-19T12:31:20.624Z"
   },
   {
    "duration": 14,
    "start_time": "2022-03-19T12:31:20.710Z"
   },
   {
    "duration": 103,
    "start_time": "2022-03-19T12:31:20.727Z"
   },
   {
    "duration": 0,
    "start_time": "2022-03-19T12:31:20.832Z"
   },
   {
    "duration": 0,
    "start_time": "2022-03-19T12:31:20.834Z"
   },
   {
    "duration": 0,
    "start_time": "2022-03-19T12:31:20.836Z"
   },
   {
    "duration": 58,
    "start_time": "2022-03-19T12:31:34.124Z"
   },
   {
    "duration": 17,
    "start_time": "2022-03-19T12:31:38.410Z"
   },
   {
    "duration": 25,
    "start_time": "2022-03-19T12:31:38.430Z"
   },
   {
    "duration": 21,
    "start_time": "2022-03-19T12:31:38.457Z"
   },
   {
    "duration": 52,
    "start_time": "2022-03-19T12:31:38.480Z"
   },
   {
    "duration": 388,
    "start_time": "2022-03-19T12:36:13.359Z"
   },
   {
    "duration": 47,
    "start_time": "2022-03-21T17:33:45.813Z"
   },
   {
    "duration": 414,
    "start_time": "2022-03-21T17:33:54.254Z"
   },
   {
    "duration": 110,
    "start_time": "2022-03-21T17:33:54.670Z"
   },
   {
    "duration": 34,
    "start_time": "2022-03-21T17:33:54.781Z"
   },
   {
    "duration": 5,
    "start_time": "2022-03-21T17:33:54.817Z"
   },
   {
    "duration": 9,
    "start_time": "2022-03-21T17:33:54.823Z"
   },
   {
    "duration": 47,
    "start_time": "2022-03-21T17:33:54.833Z"
   },
   {
    "duration": 28,
    "start_time": "2022-03-21T17:33:54.881Z"
   },
   {
    "duration": 647,
    "start_time": "2022-03-21T17:33:54.911Z"
   },
   {
    "duration": 230,
    "start_time": "2022-03-21T17:33:55.563Z"
   },
   {
    "duration": 288,
    "start_time": "2022-03-21T17:33:55.795Z"
   },
   {
    "duration": 8,
    "start_time": "2022-03-21T17:33:56.085Z"
   },
   {
    "duration": 10,
    "start_time": "2022-03-21T17:33:56.095Z"
   },
   {
    "duration": 9,
    "start_time": "2022-03-21T17:33:56.107Z"
   },
   {
    "duration": 9,
    "start_time": "2022-03-21T17:33:56.118Z"
   },
   {
    "duration": 18,
    "start_time": "2022-03-21T17:33:56.162Z"
   },
   {
    "duration": 16,
    "start_time": "2022-03-21T17:33:56.182Z"
   },
   {
    "duration": 17,
    "start_time": "2022-03-21T17:33:56.200Z"
   },
   {
    "duration": 85,
    "start_time": "2022-03-21T17:33:56.220Z"
   },
   {
    "duration": 10,
    "start_time": "2022-03-21T17:33:56.307Z"
   },
   {
    "duration": 17,
    "start_time": "2022-03-21T17:33:56.319Z"
   },
   {
    "duration": 10,
    "start_time": "2022-03-21T17:33:56.362Z"
   },
   {
    "duration": 11,
    "start_time": "2022-03-21T17:33:56.374Z"
   },
   {
    "duration": 15,
    "start_time": "2022-03-21T17:33:56.387Z"
   },
   {
    "duration": 10,
    "start_time": "2022-03-21T17:33:56.403Z"
   },
   {
    "duration": 50,
    "start_time": "2022-03-21T17:33:56.415Z"
   },
   {
    "duration": 30,
    "start_time": "2022-03-21T17:33:56.467Z"
   },
   {
    "duration": 25,
    "start_time": "2022-03-21T17:33:56.498Z"
   },
   {
    "duration": 38,
    "start_time": "2022-03-21T17:33:56.526Z"
   },
   {
    "duration": 52,
    "start_time": "2022-03-21T17:33:56.566Z"
   },
   {
    "duration": 21,
    "start_time": "2022-03-21T17:33:56.620Z"
   },
   {
    "duration": 34,
    "start_time": "2022-03-21T17:33:56.643Z"
   },
   {
    "duration": 19,
    "start_time": "2022-03-21T17:33:56.679Z"
   }
  ],
  "kernelspec": {
   "display_name": "Python 3",
   "language": "python",
   "name": "python3"
  },
  "language_info": {
   "codemirror_mode": {
    "name": "ipython",
    "version": 3
   },
   "file_extension": ".py",
   "mimetype": "text/x-python",
   "name": "python",
   "nbconvert_exporter": "python",
   "pygments_lexer": "ipython3",
   "version": "3.8.3"
  },
  "toc": {
   "base_numbering": 1,
   "nav_menu": {},
   "number_sections": true,
   "sideBar": true,
   "skip_h1_title": true,
   "title_cell": "Table of Contents",
   "title_sidebar": "Contents",
   "toc_cell": false,
   "toc_position": {},
   "toc_section_display": true,
   "toc_window_display": false
  }
 },
 "nbformat": 4,
 "nbformat_minor": 5
}
