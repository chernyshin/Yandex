{
 "cells": [
  {
   "cell_type": "markdown",
   "metadata": {
    "id": "c1cLkSfqpJfi"
   },
   "source": [
    "# Анализ тарифных планов\n",
    "\n"
   ]
  },
  {
   "cell_type": "markdown",
   "metadata": {
    "id": "1tNHmkA7pZGT"
   },
   "source": [
    "### Описание проекта"
   ]
  },
  {
   "cell_type": "markdown",
   "metadata": {
    "id": "vainb6zopJsI"
   },
   "source": [
    "Компания «Мегалайн» — федеральный оператор сотовой связи. Клиентам предлагают два тарифных плана: «Смарт» и «Ультра». Чтобы скорректировать рекламный бюджет, коммерческий департамент хочет понять, какой тариф приносит больше денег.\n",
    "\n",
    "Предстоит сделать предварительный анализ тарифов на небольшой выборке клиентов. В нашем распоряжении данные 500 пользователей «Мегалайна»: кто они, откуда, каким тарифом пользуются, сколько звонков и сообщений каждый отправил за 2018 год. Нужно проанализировать поведение клиентов и сделать вывод — какой тариф лучше."
   ]
  },
  {
   "cell_type": "markdown",
   "metadata": {
    "id": "tZLArGhKp9_9"
   },
   "source": [
    "### Описание тарифов"
   ]
  },
  {
   "cell_type": "markdown",
   "metadata": {
    "id": "aVkQBZHCp-CM"
   },
   "source": [
    "**Тариф «Смарт»**\n",
    "1. Ежемесячная плата: 550 рублей\n",
    "2. Включено 500 минут разговора, 50 сообщений и 15 Гб интернет-трафика\n",
    "3. Стоимость услуг сверх тарифного пакета:\n",
    "  - минута разговора: 3 рубля\n",
    "  - сообщение: 3 рубля\n",
    "  - 1 Гб интернет-трафика: 200 рублей\n",
    "**Тариф «Ультра»**\n",
    "1. Ежемесячная плата: 1950 рублей\n",
    "2. Включено 3000 минут разговора, 1000 сообщений и 30 Гб интернет-трафика\n",
    "3. Стоимость услуг сверх тарифного пакета:\n",
    "  - минута разговора: 1 рубль\n",
    "  - сообщение: 1 рубль\n",
    "  - 1 Гб интернет-трафика: 150 рублей\n",
    "\n",
    "***Примечание:***\n",
    "\n",
    "*«Мегалайн» всегда округляет секунды до минут, а мегабайты — до гигабайт. Каждый звонок округляется отдельно: даже если он длился всего 1 секунду, будет засчитан как 1 минута.*\n",
    "\n",
    "*Для веб-трафика отдельные сессии не считаются. Вместо этого общая сумма за месяц округляется в бо́льшую сторону. Если абонент использует 1025 мегабайт в этом месяце, с него возьмут плату за 2 гигабайта.*"
   ]
  },
  {
   "cell_type": "markdown",
   "metadata": {
    "id": "WaVS1rYap-EM"
   },
   "source": [
    "### Ход исследования"
   ]
  },
  {
   "cell_type": "markdown",
   "metadata": {
    "id": "kZaAFs_aqtCK"
   },
   "source": [
    "#### Шаг 1. Изучение общей информации"
   ]
  },
  {
   "cell_type": "markdown",
   "metadata": {
    "id": "rTYiI0u5qtEV"
   },
   "source": [
    "Путь к файлам:\n",
    "- /datasets/calls.csv. \n",
    "- /datasets/internet.csv.\n",
    "- /datasets/messages.csv.\n",
    "- /datasets/tariffs.csv.\n",
    "- /datasets/users.csv."
   ]
  },
  {
   "cell_type": "markdown",
   "metadata": {
    "id": "rHB6ZP8kqtGJ"
   },
   "source": [
    "#### Шаг 2. Подготовка данных"
   ]
  },
  {
   "cell_type": "markdown",
   "metadata": {
    "id": "Pb9wBt6urCNg"
   },
   "source": [
    "- Привести данные к нужным типам;\n",
    "- Найти и исправить ошибки в данных, если они есть.\n",
    "\n",
    "Пояснить, какие ошибки найдены и как исправлены. В данных могут быть найдёны звонки с нулевой продолжительностью. Это не ошибка: нулями обозначены пропущенные звонки, поэтому их не нужно удалять.\n",
    "\n",
    "Посчитать для каждого пользователя:\n",
    "- количество сделанных звонков и израсходованных минут разговора по месяцам;\n",
    "- количество отправленных сообщений по месяцам;\n",
    "- объем израсходованного интернет-трафика по месяцам;\n",
    "- помесячную выручку с каждого пользователя (вычесть бесплатный лимит из суммарного количества звонков, сообщений и интернет-трафика; остаток умножить на значение из тарифного плана; прибавить абонентскую плату, соответствующую тарифному плану)."
   ]
  },
  {
   "cell_type": "markdown",
   "metadata": {
    "id": "xxpLyYtxrCPg"
   },
   "source": [
    "#### Шаг 3. Проанализировать данные"
   ]
  },
  {
   "cell_type": "markdown",
   "metadata": {
    "id": "CSwZ8fpxrCRV"
   },
   "source": [
    "Описать поведение клиентов оператора, исходя из выборки. Сколько минут разговора, сколько сообщений и какой объём интернет-трафика требуется пользователям каждого тарифа в месяц? Посчитать среднее количество, дисперсию и стандартное отклонение. Построить гистограммы. Описать распределения."
   ]
  },
  {
   "cell_type": "markdown",
   "metadata": {
    "id": "ymtF0ASKrCTa"
   },
   "source": [
    "#### Шаг 4. Проверить гипотезы"
   ]
  },
  {
   "cell_type": "markdown",
   "metadata": {
    "id": "TTqK6V3lrCVr"
   },
   "source": [
    "- средняя выручка пользователей тарифов «Ультра» и «Смарт» различаются;\n",
    "- средняя выручка пользователей из Москвы отличается от выручки пользователей из других регионов.\n",
    "\n",
    "Пороговое значение alpha задать самостоятельно.\n",
    "\n",
    "Пояснить:\n",
    "- как сформулированы нулевая и альтернативная гипотезы;\n",
    "- какой критерий использован для проверки гипотез и почему."
   ]
  },
  {
   "cell_type": "markdown",
   "metadata": {
    "id": "KMpXwgqxr4ho"
   },
   "source": [
    "#### Шаг 5. Написать общий вывод"
   ]
  },
  {
   "cell_type": "markdown",
   "metadata": {
    "id": "ro78Mhear4jo"
   },
   "source": [
    "### Описание данных"
   ]
  },
  {
   "cell_type": "markdown",
   "metadata": {
    "id": "nCUaI1yYsAs_"
   },
   "source": [
    "Таблица `users` (информация о пользователях):\n",
    "- user_id — уникальный идентификатор пользователя\n",
    "- first_name — имя пользователя\n",
    "- last_name — фамилия пользователя\n",
    "- age — возраст пользователя (годы)\n",
    "- reg_date — дата подключения тарифа (день, месяц, год)\n",
    "- churn_date — дата прекращения пользования тарифом (если значение пропущено, то тариф ещё действовал на момент выгрузки данных)\n",
    "- city — город проживания пользователя\n",
    "- tariff — название тарифного плана\n",
    "\n",
    "Таблица `calls` (информация о звонках):\n",
    "- id — уникальный номер звонка\n",
    "- call_date — дата звонка\n",
    "- duration — длительность звонка в минутах\n",
    "- user_id — идентификатор пользователя, сделавшего звонок\n",
    "\n",
    "Таблица `messages` (информация о сообщениях):\n",
    "- id — уникальный номер сообщения\n",
    "- message_date — дата сообщения\n",
    "- user_id — идентификатор пользователя, отправившего сообщение\n",
    "\n",
    "Таблица `internet` (информация об интернет-сессиях):\n",
    "- id — уникальный номер сессии\n",
    "- mb_used — объём потраченного за сессию интернет-трафика (в мегабайтах)\n",
    "- session_date — дата интернет-сессии\n",
    "- user_id — идентификатор пользователя\n",
    "\n",
    "Таблица `tariffs` (информация о тарифах):\n",
    "- tariff_name — название тарифа\n",
    "- rub_monthly_fee — ежемесячная абонентская плата в рублях\n",
    "- minutes_included — количество минут разговора в месяц, включённых в абонентскую плату\n",
    "- messages_included — количество сообщений в месяц, включённых в абонентскую плату\n",
    "- mb_per_month_included — объём интернет-трафика, включённого в абонентскую плату (в мегабайтах)\n",
    "- rub_per_minute — стоимость минуты разговора сверх тарифного пакета (например, если в тарифе 100 минут разговора в месяц, то со 101 минуты будет взиматься плата)\n",
    "- rub_per_message — стоимость отправки сообщения сверх тарифного пакета\n",
    "- rub_per_gb — стоимость дополнительного гигабайта интернет-трафика сверх тарифного пакета (1 гигабайт = 1024 мегабайта)"
   ]
  },
  {
   "cell_type": "markdown",
   "metadata": {
    "id": "BLqTsAx1smTg"
   },
   "source": [
    "## Шаг 1. Обзор данных"
   ]
  },
  {
   "cell_type": "code",
   "execution_count": 1,
   "metadata": {
    "id": "cirDfZr7VpF4"
   },
   "outputs": [],
   "source": [
    "# Импорт необходимых библиотек\n",
    "import pandas as pd\n",
    "import numpy as np\n",
    "from datetime import datetime\n",
    "from scipy import stats as st"
   ]
  },
  {
   "cell_type": "code",
   "execution_count": 2,
   "metadata": {
    "id": "H0nW8NMmdqPJ"
   },
   "outputs": [],
   "source": [
    "# Получаем данные из таблиц\n",
    "calls_df = pd.read_csv('/datasets/calls.csv')\n",
    "internet_df = pd.read_csv('/datasets/internet.csv')\n",
    "messages_df = pd.read_csv('/datasets/messages.csv')\n",
    "tarrifs_df = pd.read_csv('/datasets/tariffs.csv')\n",
    "users_df = pd.read_csv('/datasets/users.csv')"
   ]
  },
  {
   "cell_type": "markdown",
   "metadata": {
    "id": "EWWnG0MHfvIH"
   },
   "source": [
    "Рассмотрим полученные датафреймы:"
   ]
  },
  {
   "cell_type": "code",
   "execution_count": 3,
   "metadata": {
    "colab": {
     "base_uri": "https://localhost:8080/",
     "height": 1000
    },
    "id": "Hu-QgvkydqSJ",
    "outputId": "f01ea71e-1d60-41e1-e6b6-e0acb2d049f6"
   },
   "outputs": [
    {
     "data": {
      "text/html": [
       "<div>\n",
       "<style scoped>\n",
       "    .dataframe tbody tr th:only-of-type {\n",
       "        vertical-align: middle;\n",
       "    }\n",
       "\n",
       "    .dataframe tbody tr th {\n",
       "        vertical-align: top;\n",
       "    }\n",
       "\n",
       "    .dataframe thead th {\n",
       "        text-align: right;\n",
       "    }\n",
       "</style>\n",
       "<table border=\"1\" class=\"dataframe\">\n",
       "  <thead>\n",
       "    <tr style=\"text-align: right;\">\n",
       "      <th></th>\n",
       "      <th>id</th>\n",
       "      <th>call_date</th>\n",
       "      <th>duration</th>\n",
       "      <th>user_id</th>\n",
       "    </tr>\n",
       "  </thead>\n",
       "  <tbody>\n",
       "    <tr>\n",
       "      <th>0</th>\n",
       "      <td>1000_0</td>\n",
       "      <td>2018-07-25</td>\n",
       "      <td>0.00</td>\n",
       "      <td>1000</td>\n",
       "    </tr>\n",
       "    <tr>\n",
       "      <th>1</th>\n",
       "      <td>1000_1</td>\n",
       "      <td>2018-08-17</td>\n",
       "      <td>0.00</td>\n",
       "      <td>1000</td>\n",
       "    </tr>\n",
       "    <tr>\n",
       "      <th>2</th>\n",
       "      <td>1000_2</td>\n",
       "      <td>2018-06-11</td>\n",
       "      <td>2.85</td>\n",
       "      <td>1000</td>\n",
       "    </tr>\n",
       "    <tr>\n",
       "      <th>3</th>\n",
       "      <td>1000_3</td>\n",
       "      <td>2018-09-21</td>\n",
       "      <td>13.80</td>\n",
       "      <td>1000</td>\n",
       "    </tr>\n",
       "    <tr>\n",
       "      <th>4</th>\n",
       "      <td>1000_4</td>\n",
       "      <td>2018-12-15</td>\n",
       "      <td>5.18</td>\n",
       "      <td>1000</td>\n",
       "    </tr>\n",
       "    <tr>\n",
       "      <th>...</th>\n",
       "      <td>...</td>\n",
       "      <td>...</td>\n",
       "      <td>...</td>\n",
       "      <td>...</td>\n",
       "    </tr>\n",
       "    <tr>\n",
       "      <th>202602</th>\n",
       "      <td>1499_215</td>\n",
       "      <td>2018-12-26</td>\n",
       "      <td>0.76</td>\n",
       "      <td>1499</td>\n",
       "    </tr>\n",
       "    <tr>\n",
       "      <th>202603</th>\n",
       "      <td>1499_216</td>\n",
       "      <td>2018-10-18</td>\n",
       "      <td>18.83</td>\n",
       "      <td>1499</td>\n",
       "    </tr>\n",
       "    <tr>\n",
       "      <th>202604</th>\n",
       "      <td>1499_217</td>\n",
       "      <td>2018-11-10</td>\n",
       "      <td>10.81</td>\n",
       "      <td>1499</td>\n",
       "    </tr>\n",
       "    <tr>\n",
       "      <th>202605</th>\n",
       "      <td>1499_218</td>\n",
       "      <td>2018-10-06</td>\n",
       "      <td>4.27</td>\n",
       "      <td>1499</td>\n",
       "    </tr>\n",
       "    <tr>\n",
       "      <th>202606</th>\n",
       "      <td>1499_219</td>\n",
       "      <td>2018-12-14</td>\n",
       "      <td>19.62</td>\n",
       "      <td>1499</td>\n",
       "    </tr>\n",
       "  </tbody>\n",
       "</table>\n",
       "<p>202607 rows × 4 columns</p>\n",
       "</div>"
      ],
      "text/plain": [
       "              id   call_date  duration  user_id\n",
       "0         1000_0  2018-07-25      0.00     1000\n",
       "1         1000_1  2018-08-17      0.00     1000\n",
       "2         1000_2  2018-06-11      2.85     1000\n",
       "3         1000_3  2018-09-21     13.80     1000\n",
       "4         1000_4  2018-12-15      5.18     1000\n",
       "...          ...         ...       ...      ...\n",
       "202602  1499_215  2018-12-26      0.76     1499\n",
       "202603  1499_216  2018-10-18     18.83     1499\n",
       "202604  1499_217  2018-11-10     10.81     1499\n",
       "202605  1499_218  2018-10-06      4.27     1499\n",
       "202606  1499_219  2018-12-14     19.62     1499\n",
       "\n",
       "[202607 rows x 4 columns]"
      ]
     },
     "metadata": {},
     "output_type": "display_data"
    },
    {
     "data": {
      "text/html": [
       "<div>\n",
       "<style scoped>\n",
       "    .dataframe tbody tr th:only-of-type {\n",
       "        vertical-align: middle;\n",
       "    }\n",
       "\n",
       "    .dataframe tbody tr th {\n",
       "        vertical-align: top;\n",
       "    }\n",
       "\n",
       "    .dataframe thead th {\n",
       "        text-align: right;\n",
       "    }\n",
       "</style>\n",
       "<table border=\"1\" class=\"dataframe\">\n",
       "  <thead>\n",
       "    <tr style=\"text-align: right;\">\n",
       "      <th></th>\n",
       "      <th>Unnamed: 0</th>\n",
       "      <th>id</th>\n",
       "      <th>mb_used</th>\n",
       "      <th>session_date</th>\n",
       "      <th>user_id</th>\n",
       "    </tr>\n",
       "  </thead>\n",
       "  <tbody>\n",
       "    <tr>\n",
       "      <th>0</th>\n",
       "      <td>0</td>\n",
       "      <td>1000_0</td>\n",
       "      <td>112.95</td>\n",
       "      <td>2018-11-25</td>\n",
       "      <td>1000</td>\n",
       "    </tr>\n",
       "    <tr>\n",
       "      <th>1</th>\n",
       "      <td>1</td>\n",
       "      <td>1000_1</td>\n",
       "      <td>1052.81</td>\n",
       "      <td>2018-09-07</td>\n",
       "      <td>1000</td>\n",
       "    </tr>\n",
       "    <tr>\n",
       "      <th>2</th>\n",
       "      <td>2</td>\n",
       "      <td>1000_2</td>\n",
       "      <td>1197.26</td>\n",
       "      <td>2018-06-25</td>\n",
       "      <td>1000</td>\n",
       "    </tr>\n",
       "    <tr>\n",
       "      <th>3</th>\n",
       "      <td>3</td>\n",
       "      <td>1000_3</td>\n",
       "      <td>550.27</td>\n",
       "      <td>2018-08-22</td>\n",
       "      <td>1000</td>\n",
       "    </tr>\n",
       "    <tr>\n",
       "      <th>4</th>\n",
       "      <td>4</td>\n",
       "      <td>1000_4</td>\n",
       "      <td>302.56</td>\n",
       "      <td>2018-09-24</td>\n",
       "      <td>1000</td>\n",
       "    </tr>\n",
       "    <tr>\n",
       "      <th>...</th>\n",
       "      <td>...</td>\n",
       "      <td>...</td>\n",
       "      <td>...</td>\n",
       "      <td>...</td>\n",
       "      <td>...</td>\n",
       "    </tr>\n",
       "    <tr>\n",
       "      <th>149391</th>\n",
       "      <td>149391</td>\n",
       "      <td>1499_152</td>\n",
       "      <td>318.90</td>\n",
       "      <td>2018-10-03</td>\n",
       "      <td>1499</td>\n",
       "    </tr>\n",
       "    <tr>\n",
       "      <th>149392</th>\n",
       "      <td>149392</td>\n",
       "      <td>1499_153</td>\n",
       "      <td>490.13</td>\n",
       "      <td>2018-12-14</td>\n",
       "      <td>1499</td>\n",
       "    </tr>\n",
       "    <tr>\n",
       "      <th>149393</th>\n",
       "      <td>149393</td>\n",
       "      <td>1499_154</td>\n",
       "      <td>0.00</td>\n",
       "      <td>2018-10-27</td>\n",
       "      <td>1499</td>\n",
       "    </tr>\n",
       "    <tr>\n",
       "      <th>149394</th>\n",
       "      <td>149394</td>\n",
       "      <td>1499_155</td>\n",
       "      <td>1246.32</td>\n",
       "      <td>2018-11-26</td>\n",
       "      <td>1499</td>\n",
       "    </tr>\n",
       "    <tr>\n",
       "      <th>149395</th>\n",
       "      <td>149395</td>\n",
       "      <td>1499_156</td>\n",
       "      <td>544.37</td>\n",
       "      <td>2018-10-26</td>\n",
       "      <td>1499</td>\n",
       "    </tr>\n",
       "  </tbody>\n",
       "</table>\n",
       "<p>149396 rows × 5 columns</p>\n",
       "</div>"
      ],
      "text/plain": [
       "        Unnamed: 0        id  mb_used session_date  user_id\n",
       "0                0    1000_0   112.95   2018-11-25     1000\n",
       "1                1    1000_1  1052.81   2018-09-07     1000\n",
       "2                2    1000_2  1197.26   2018-06-25     1000\n",
       "3                3    1000_3   550.27   2018-08-22     1000\n",
       "4                4    1000_4   302.56   2018-09-24     1000\n",
       "...            ...       ...      ...          ...      ...\n",
       "149391      149391  1499_152   318.90   2018-10-03     1499\n",
       "149392      149392  1499_153   490.13   2018-12-14     1499\n",
       "149393      149393  1499_154     0.00   2018-10-27     1499\n",
       "149394      149394  1499_155  1246.32   2018-11-26     1499\n",
       "149395      149395  1499_156   544.37   2018-10-26     1499\n",
       "\n",
       "[149396 rows x 5 columns]"
      ]
     },
     "metadata": {},
     "output_type": "display_data"
    },
    {
     "data": {
      "text/html": [
       "<div>\n",
       "<style scoped>\n",
       "    .dataframe tbody tr th:only-of-type {\n",
       "        vertical-align: middle;\n",
       "    }\n",
       "\n",
       "    .dataframe tbody tr th {\n",
       "        vertical-align: top;\n",
       "    }\n",
       "\n",
       "    .dataframe thead th {\n",
       "        text-align: right;\n",
       "    }\n",
       "</style>\n",
       "<table border=\"1\" class=\"dataframe\">\n",
       "  <thead>\n",
       "    <tr style=\"text-align: right;\">\n",
       "      <th></th>\n",
       "      <th>id</th>\n",
       "      <th>message_date</th>\n",
       "      <th>user_id</th>\n",
       "    </tr>\n",
       "  </thead>\n",
       "  <tbody>\n",
       "    <tr>\n",
       "      <th>0</th>\n",
       "      <td>1000_0</td>\n",
       "      <td>2018-06-27</td>\n",
       "      <td>1000</td>\n",
       "    </tr>\n",
       "    <tr>\n",
       "      <th>1</th>\n",
       "      <td>1000_1</td>\n",
       "      <td>2018-10-08</td>\n",
       "      <td>1000</td>\n",
       "    </tr>\n",
       "    <tr>\n",
       "      <th>2</th>\n",
       "      <td>1000_2</td>\n",
       "      <td>2018-08-04</td>\n",
       "      <td>1000</td>\n",
       "    </tr>\n",
       "    <tr>\n",
       "      <th>3</th>\n",
       "      <td>1000_3</td>\n",
       "      <td>2018-06-16</td>\n",
       "      <td>1000</td>\n",
       "    </tr>\n",
       "    <tr>\n",
       "      <th>4</th>\n",
       "      <td>1000_4</td>\n",
       "      <td>2018-12-05</td>\n",
       "      <td>1000</td>\n",
       "    </tr>\n",
       "    <tr>\n",
       "      <th>...</th>\n",
       "      <td>...</td>\n",
       "      <td>...</td>\n",
       "      <td>...</td>\n",
       "    </tr>\n",
       "    <tr>\n",
       "      <th>123031</th>\n",
       "      <td>1499_179</td>\n",
       "      <td>2018-12-12</td>\n",
       "      <td>1499</td>\n",
       "    </tr>\n",
       "    <tr>\n",
       "      <th>123032</th>\n",
       "      <td>1499_180</td>\n",
       "      <td>2018-09-28</td>\n",
       "      <td>1499</td>\n",
       "    </tr>\n",
       "    <tr>\n",
       "      <th>123033</th>\n",
       "      <td>1499_181</td>\n",
       "      <td>2018-09-27</td>\n",
       "      <td>1499</td>\n",
       "    </tr>\n",
       "    <tr>\n",
       "      <th>123034</th>\n",
       "      <td>1499_182</td>\n",
       "      <td>2018-11-15</td>\n",
       "      <td>1499</td>\n",
       "    </tr>\n",
       "    <tr>\n",
       "      <th>123035</th>\n",
       "      <td>1499_183</td>\n",
       "      <td>2018-11-16</td>\n",
       "      <td>1499</td>\n",
       "    </tr>\n",
       "  </tbody>\n",
       "</table>\n",
       "<p>123036 rows × 3 columns</p>\n",
       "</div>"
      ],
      "text/plain": [
       "              id message_date  user_id\n",
       "0         1000_0   2018-06-27     1000\n",
       "1         1000_1   2018-10-08     1000\n",
       "2         1000_2   2018-08-04     1000\n",
       "3         1000_3   2018-06-16     1000\n",
       "4         1000_4   2018-12-05     1000\n",
       "...          ...          ...      ...\n",
       "123031  1499_179   2018-12-12     1499\n",
       "123032  1499_180   2018-09-28     1499\n",
       "123033  1499_181   2018-09-27     1499\n",
       "123034  1499_182   2018-11-15     1499\n",
       "123035  1499_183   2018-11-16     1499\n",
       "\n",
       "[123036 rows x 3 columns]"
      ]
     },
     "metadata": {},
     "output_type": "display_data"
    },
    {
     "data": {
      "text/html": [
       "<div>\n",
       "<style scoped>\n",
       "    .dataframe tbody tr th:only-of-type {\n",
       "        vertical-align: middle;\n",
       "    }\n",
       "\n",
       "    .dataframe tbody tr th {\n",
       "        vertical-align: top;\n",
       "    }\n",
       "\n",
       "    .dataframe thead th {\n",
       "        text-align: right;\n",
       "    }\n",
       "</style>\n",
       "<table border=\"1\" class=\"dataframe\">\n",
       "  <thead>\n",
       "    <tr style=\"text-align: right;\">\n",
       "      <th></th>\n",
       "      <th>messages_included</th>\n",
       "      <th>mb_per_month_included</th>\n",
       "      <th>minutes_included</th>\n",
       "      <th>rub_monthly_fee</th>\n",
       "      <th>rub_per_gb</th>\n",
       "      <th>rub_per_message</th>\n",
       "      <th>rub_per_minute</th>\n",
       "      <th>tariff_name</th>\n",
       "    </tr>\n",
       "  </thead>\n",
       "  <tbody>\n",
       "    <tr>\n",
       "      <th>0</th>\n",
       "      <td>50</td>\n",
       "      <td>15360</td>\n",
       "      <td>500</td>\n",
       "      <td>550</td>\n",
       "      <td>200</td>\n",
       "      <td>3</td>\n",
       "      <td>3</td>\n",
       "      <td>smart</td>\n",
       "    </tr>\n",
       "    <tr>\n",
       "      <th>1</th>\n",
       "      <td>1000</td>\n",
       "      <td>30720</td>\n",
       "      <td>3000</td>\n",
       "      <td>1950</td>\n",
       "      <td>150</td>\n",
       "      <td>1</td>\n",
       "      <td>1</td>\n",
       "      <td>ultra</td>\n",
       "    </tr>\n",
       "  </tbody>\n",
       "</table>\n",
       "</div>"
      ],
      "text/plain": [
       "   messages_included  mb_per_month_included  minutes_included  \\\n",
       "0                 50                  15360               500   \n",
       "1               1000                  30720              3000   \n",
       "\n",
       "   rub_monthly_fee  rub_per_gb  rub_per_message  rub_per_minute tariff_name  \n",
       "0              550         200                3               3       smart  \n",
       "1             1950         150                1               1       ultra  "
      ]
     },
     "metadata": {},
     "output_type": "display_data"
    },
    {
     "data": {
      "text/html": [
       "<div>\n",
       "<style scoped>\n",
       "    .dataframe tbody tr th:only-of-type {\n",
       "        vertical-align: middle;\n",
       "    }\n",
       "\n",
       "    .dataframe tbody tr th {\n",
       "        vertical-align: top;\n",
       "    }\n",
       "\n",
       "    .dataframe thead th {\n",
       "        text-align: right;\n",
       "    }\n",
       "</style>\n",
       "<table border=\"1\" class=\"dataframe\">\n",
       "  <thead>\n",
       "    <tr style=\"text-align: right;\">\n",
       "      <th></th>\n",
       "      <th>user_id</th>\n",
       "      <th>age</th>\n",
       "      <th>churn_date</th>\n",
       "      <th>city</th>\n",
       "      <th>first_name</th>\n",
       "      <th>last_name</th>\n",
       "      <th>reg_date</th>\n",
       "      <th>tariff</th>\n",
       "    </tr>\n",
       "  </thead>\n",
       "  <tbody>\n",
       "    <tr>\n",
       "      <th>0</th>\n",
       "      <td>1000</td>\n",
       "      <td>52</td>\n",
       "      <td>NaN</td>\n",
       "      <td>Краснодар</td>\n",
       "      <td>Рафаил</td>\n",
       "      <td>Верещагин</td>\n",
       "      <td>2018-05-25</td>\n",
       "      <td>ultra</td>\n",
       "    </tr>\n",
       "    <tr>\n",
       "      <th>1</th>\n",
       "      <td>1001</td>\n",
       "      <td>41</td>\n",
       "      <td>NaN</td>\n",
       "      <td>Москва</td>\n",
       "      <td>Иван</td>\n",
       "      <td>Ежов</td>\n",
       "      <td>2018-11-01</td>\n",
       "      <td>smart</td>\n",
       "    </tr>\n",
       "    <tr>\n",
       "      <th>2</th>\n",
       "      <td>1002</td>\n",
       "      <td>59</td>\n",
       "      <td>NaN</td>\n",
       "      <td>Стерлитамак</td>\n",
       "      <td>Евгений</td>\n",
       "      <td>Абрамович</td>\n",
       "      <td>2018-06-17</td>\n",
       "      <td>smart</td>\n",
       "    </tr>\n",
       "    <tr>\n",
       "      <th>3</th>\n",
       "      <td>1003</td>\n",
       "      <td>23</td>\n",
       "      <td>NaN</td>\n",
       "      <td>Москва</td>\n",
       "      <td>Белла</td>\n",
       "      <td>Белякова</td>\n",
       "      <td>2018-08-17</td>\n",
       "      <td>ultra</td>\n",
       "    </tr>\n",
       "    <tr>\n",
       "      <th>4</th>\n",
       "      <td>1004</td>\n",
       "      <td>68</td>\n",
       "      <td>NaN</td>\n",
       "      <td>Новокузнецк</td>\n",
       "      <td>Татьяна</td>\n",
       "      <td>Авдеенко</td>\n",
       "      <td>2018-05-14</td>\n",
       "      <td>ultra</td>\n",
       "    </tr>\n",
       "    <tr>\n",
       "      <th>...</th>\n",
       "      <td>...</td>\n",
       "      <td>...</td>\n",
       "      <td>...</td>\n",
       "      <td>...</td>\n",
       "      <td>...</td>\n",
       "      <td>...</td>\n",
       "      <td>...</td>\n",
       "      <td>...</td>\n",
       "    </tr>\n",
       "    <tr>\n",
       "      <th>495</th>\n",
       "      <td>1495</td>\n",
       "      <td>65</td>\n",
       "      <td>NaN</td>\n",
       "      <td>Иркутск</td>\n",
       "      <td>Авксентий</td>\n",
       "      <td>Фокин</td>\n",
       "      <td>2018-08-28</td>\n",
       "      <td>ultra</td>\n",
       "    </tr>\n",
       "    <tr>\n",
       "      <th>496</th>\n",
       "      <td>1496</td>\n",
       "      <td>36</td>\n",
       "      <td>NaN</td>\n",
       "      <td>Вологда</td>\n",
       "      <td>Трифон</td>\n",
       "      <td>Блохин</td>\n",
       "      <td>2018-01-27</td>\n",
       "      <td>smart</td>\n",
       "    </tr>\n",
       "    <tr>\n",
       "      <th>497</th>\n",
       "      <td>1497</td>\n",
       "      <td>32</td>\n",
       "      <td>NaN</td>\n",
       "      <td>Челябинск</td>\n",
       "      <td>Каролина</td>\n",
       "      <td>Агеева</td>\n",
       "      <td>2018-10-09</td>\n",
       "      <td>smart</td>\n",
       "    </tr>\n",
       "    <tr>\n",
       "      <th>498</th>\n",
       "      <td>1498</td>\n",
       "      <td>68</td>\n",
       "      <td>2018-10-25</td>\n",
       "      <td>Владикавказ</td>\n",
       "      <td>Всеволод</td>\n",
       "      <td>Акимчин</td>\n",
       "      <td>2018-07-19</td>\n",
       "      <td>smart</td>\n",
       "    </tr>\n",
       "    <tr>\n",
       "      <th>499</th>\n",
       "      <td>1499</td>\n",
       "      <td>35</td>\n",
       "      <td>NaN</td>\n",
       "      <td>Пермь</td>\n",
       "      <td>Гектор</td>\n",
       "      <td>Корнилов</td>\n",
       "      <td>2018-09-27</td>\n",
       "      <td>smart</td>\n",
       "    </tr>\n",
       "  </tbody>\n",
       "</table>\n",
       "<p>500 rows × 8 columns</p>\n",
       "</div>"
      ],
      "text/plain": [
       "     user_id  age  churn_date         city first_name  last_name    reg_date  \\\n",
       "0       1000   52         NaN    Краснодар     Рафаил  Верещагин  2018-05-25   \n",
       "1       1001   41         NaN       Москва       Иван       Ежов  2018-11-01   \n",
       "2       1002   59         NaN  Стерлитамак    Евгений  Абрамович  2018-06-17   \n",
       "3       1003   23         NaN       Москва      Белла   Белякова  2018-08-17   \n",
       "4       1004   68         NaN  Новокузнецк    Татьяна   Авдеенко  2018-05-14   \n",
       "..       ...  ...         ...          ...        ...        ...         ...   \n",
       "495     1495   65         NaN      Иркутск  Авксентий      Фокин  2018-08-28   \n",
       "496     1496   36         NaN      Вологда     Трифон     Блохин  2018-01-27   \n",
       "497     1497   32         NaN    Челябинск   Каролина     Агеева  2018-10-09   \n",
       "498     1498   68  2018-10-25  Владикавказ   Всеволод    Акимчин  2018-07-19   \n",
       "499     1499   35         NaN        Пермь     Гектор   Корнилов  2018-09-27   \n",
       "\n",
       "    tariff  \n",
       "0    ultra  \n",
       "1    smart  \n",
       "2    smart  \n",
       "3    ultra  \n",
       "4    ultra  \n",
       "..     ...  \n",
       "495  ultra  \n",
       "496  smart  \n",
       "497  smart  \n",
       "498  smart  \n",
       "499  smart  \n",
       "\n",
       "[500 rows x 8 columns]"
      ]
     },
     "metadata": {},
     "output_type": "display_data"
    }
   ],
   "source": [
    "display(calls_df)\n",
    "display(internet_df)\n",
    "display(messages_df)\n",
    "display(tarrifs_df)\n",
    "display(users_df)"
   ]
  },
  {
   "cell_type": "code",
   "execution_count": 4,
   "metadata": {
    "colab": {
     "base_uri": "https://localhost:8080/",
     "height": 104
    },
    "id": "1_5kJPIEdqUt",
    "outputId": "f2385d94-8a8e-4a41-dae0-da526baade7e"
   },
   "outputs": [
    {
     "data": {
      "text/plain": [
       "0"
      ]
     },
     "metadata": {},
     "output_type": "display_data"
    },
    {
     "data": {
      "text/plain": [
       "0"
      ]
     },
     "metadata": {},
     "output_type": "display_data"
    },
    {
     "data": {
      "text/plain": [
       "0"
      ]
     },
     "metadata": {},
     "output_type": "display_data"
    },
    {
     "data": {
      "text/plain": [
       "0"
      ]
     },
     "metadata": {},
     "output_type": "display_data"
    },
    {
     "data": {
      "text/plain": [
       "0"
      ]
     },
     "metadata": {},
     "output_type": "display_data"
    }
   ],
   "source": [
    "# Проверяем наличие дубликатов\n",
    "display(calls_df.duplicated().sum())\n",
    "display(internet_df.duplicated().sum())\n",
    "display(messages_df.duplicated().sum())\n",
    "display(tarrifs_df.duplicated().sum())\n",
    "display(users_df.duplicated().sum())"
   ]
  },
  {
   "cell_type": "code",
   "execution_count": 5,
   "metadata": {
    "colab": {
     "base_uri": "https://localhost:8080/"
    },
    "id": "5r00vnyvvujX",
    "outputId": "57602e43-070d-47bc-d0a0-4a552c5d2526"
   },
   "outputs": [
    {
     "name": "stdout",
     "output_type": "stream",
     "text": [
      "<class 'pandas.core.frame.DataFrame'>\n",
      "RangeIndex: 202607 entries, 0 to 202606\n",
      "Data columns (total 4 columns):\n",
      " #   Column     Non-Null Count   Dtype  \n",
      "---  ------     --------------   -----  \n",
      " 0   id         202607 non-null  object \n",
      " 1   call_date  202607 non-null  object \n",
      " 2   duration   202607 non-null  float64\n",
      " 3   user_id    202607 non-null  int64  \n",
      "dtypes: float64(1), int64(1), object(2)\n",
      "memory usage: 6.2+ MB\n",
      "----------------------------------------------------------------------\n",
      "<class 'pandas.core.frame.DataFrame'>\n",
      "RangeIndex: 149396 entries, 0 to 149395\n",
      "Data columns (total 5 columns):\n",
      " #   Column        Non-Null Count   Dtype  \n",
      "---  ------        --------------   -----  \n",
      " 0   Unnamed: 0    149396 non-null  int64  \n",
      " 1   id            149396 non-null  object \n",
      " 2   mb_used       149396 non-null  float64\n",
      " 3   session_date  149396 non-null  object \n",
      " 4   user_id       149396 non-null  int64  \n",
      "dtypes: float64(1), int64(2), object(2)\n",
      "memory usage: 5.7+ MB\n",
      "----------------------------------------------------------------------\n",
      "<class 'pandas.core.frame.DataFrame'>\n",
      "RangeIndex: 123036 entries, 0 to 123035\n",
      "Data columns (total 3 columns):\n",
      " #   Column        Non-Null Count   Dtype \n",
      "---  ------        --------------   ----- \n",
      " 0   id            123036 non-null  object\n",
      " 1   message_date  123036 non-null  object\n",
      " 2   user_id       123036 non-null  int64 \n",
      "dtypes: int64(1), object(2)\n",
      "memory usage: 2.8+ MB\n",
      "----------------------------------------------------------------------\n",
      "<class 'pandas.core.frame.DataFrame'>\n",
      "RangeIndex: 2 entries, 0 to 1\n",
      "Data columns (total 8 columns):\n",
      " #   Column                 Non-Null Count  Dtype \n",
      "---  ------                 --------------  ----- \n",
      " 0   messages_included      2 non-null      int64 \n",
      " 1   mb_per_month_included  2 non-null      int64 \n",
      " 2   minutes_included       2 non-null      int64 \n",
      " 3   rub_monthly_fee        2 non-null      int64 \n",
      " 4   rub_per_gb             2 non-null      int64 \n",
      " 5   rub_per_message        2 non-null      int64 \n",
      " 6   rub_per_minute         2 non-null      int64 \n",
      " 7   tariff_name            2 non-null      object\n",
      "dtypes: int64(7), object(1)\n",
      "memory usage: 256.0+ bytes\n",
      "----------------------------------------------------------------------\n",
      "<class 'pandas.core.frame.DataFrame'>\n",
      "RangeIndex: 500 entries, 0 to 499\n",
      "Data columns (total 8 columns):\n",
      " #   Column      Non-Null Count  Dtype \n",
      "---  ------      --------------  ----- \n",
      " 0   user_id     500 non-null    int64 \n",
      " 1   age         500 non-null    int64 \n",
      " 2   churn_date  38 non-null     object\n",
      " 3   city        500 non-null    object\n",
      " 4   first_name  500 non-null    object\n",
      " 5   last_name   500 non-null    object\n",
      " 6   reg_date    500 non-null    object\n",
      " 7   tariff      500 non-null    object\n",
      "dtypes: int64(2), object(6)\n",
      "memory usage: 31.4+ KB\n"
     ]
    }
   ],
   "source": [
    "# Изучаем общую информацию\n",
    "calls_df.info()\n",
    "print('-' * 70)\n",
    "internet_df.info()\n",
    "print('-' * 70)\n",
    "messages_df.info()\n",
    "print('-' * 70)\n",
    "tarrifs_df.info()\n",
    "print('-' * 70)\n",
    "users_df.info()"
   ]
  },
  {
   "cell_type": "markdown",
   "metadata": {
    "id": "v9s74mziw00D"
   },
   "source": [
    "По результатам обзора данных выделим следующие проблемы и пути их решения:\n",
    "1. Различное наименование столбцов с однородным содержимым `tariff` и `tariff_name` в разных датафреймах. Необходимо привести к единому наименованию;\n",
    "2. Одинаковое наименование столбцов `id` в датафреймах `calls_df`, `internet_df`, `messages_df`. Необходимо различное наименованием, так как это разные id;\n",
    "3. В таблице `internet_df` безымянный столбец с индексам, следует удалить;\n",
    "4. Формат данных в столбцах `call_date`, `session_date`, `message_date`, `reg_date`, `churn_date` перевести в datetime;\n",
    "5. Округлим значения продолжительности звонков до минут вверх, а для использованных мегабайт создадим дополнительный столбец с переводом в гигабайты и округлением вверх. Перевести тип данных в int.\n",
    "\n"
   ]
  },
  {
   "cell_type": "markdown",
   "metadata": {
    "id": "__shbpeOuiBt"
   },
   "source": [
    "## Шаг 2. Подготовка данных"
   ]
  },
  {
   "cell_type": "markdown",
   "metadata": {
    "id": "JG87G2owurwd"
   },
   "source": [
    "При обзоре данных были обнаружены несоответствия в типах данных, приведём их к правильным:"
   ]
  },
  {
   "cell_type": "code",
   "execution_count": 6,
   "metadata": {
    "id": "6d-gjoDRw4Hk"
   },
   "outputs": [],
   "source": [
    "# Переведём даты в формат datetime\n",
    "calls_df['call_date'] = pd.to_datetime(calls_df['call_date'], format='%Y-%m-%d')\n",
    "internet_df['session_date'] = pd.to_datetime(internet_df['session_date'], format='%Y-%m-%d')\n",
    "messages_df['message_date'] = pd.to_datetime(messages_df['message_date'], format='%Y-%m-%d')\n",
    "users_df['reg_date'] = pd.to_datetime(users_df['reg_date'], format='%Y-%m-%d')\n",
    "users_df['churn_date'] = pd.to_datetime(users_df['churn_date'], format='%Y-%m-%d')"
   ]
  },
  {
   "cell_type": "code",
   "execution_count": 7,
   "metadata": {
    "colab": {
     "base_uri": "https://localhost:8080/",
     "height": 104
    },
    "id": "Ti72Rhcv0OUm",
    "outputId": "dbe7c48a-9bb2-441f-ab40-174366fe302e"
   },
   "outputs": [
    {
     "data": {
      "text/plain": [
       "dtype('<M8[ns]')"
      ]
     },
     "metadata": {},
     "output_type": "display_data"
    },
    {
     "data": {
      "text/plain": [
       "dtype('<M8[ns]')"
      ]
     },
     "metadata": {},
     "output_type": "display_data"
    },
    {
     "data": {
      "text/plain": [
       "dtype('<M8[ns]')"
      ]
     },
     "metadata": {},
     "output_type": "display_data"
    },
    {
     "data": {
      "text/plain": [
       "dtype('<M8[ns]')"
      ]
     },
     "metadata": {},
     "output_type": "display_data"
    },
    {
     "data": {
      "text/plain": [
       "dtype('<M8[ns]')"
      ]
     },
     "metadata": {},
     "output_type": "display_data"
    }
   ],
   "source": [
    "# Проверяем \n",
    "display(calls_df['call_date'].dtype)\n",
    "display(internet_df['session_date'].dtype)\n",
    "display(messages_df['message_date'].dtype)\n",
    "display(users_df['reg_date'].dtype)\n",
    "display(users_df['churn_date'].dtype)"
   ]
  },
  {
   "cell_type": "code",
   "execution_count": 8,
   "metadata": {
    "id": "_K_fvVd14eHF"
   },
   "outputs": [],
   "source": [
    "# Округляем минуты вверх с переводом типа \n",
    "calls_df['duration'] = np.ceil(calls_df['duration']).astype('int')"
   ]
  },
  {
   "cell_type": "code",
   "execution_count": 9,
   "metadata": {
    "colab": {
     "base_uri": "https://localhost:8080/"
    },
    "id": "V_TrhUe34eMT",
    "outputId": "c8a687cc-f0d2-4c18-a880-a265c6205fbd"
   },
   "outputs": [
    {
     "data": {
      "text/plain": [
       "0     0\n",
       "1     0\n",
       "2     3\n",
       "3    14\n",
       "4     6\n",
       "5     0\n",
       "6     0\n",
       "7    19\n",
       "8    19\n",
       "9     0\n",
       "Name: duration, dtype: int64"
      ]
     },
     "execution_count": 9,
     "metadata": {},
     "output_type": "execute_result"
    }
   ],
   "source": [
    "calls_df['duration'].head(10)"
   ]
  },
  {
   "cell_type": "code",
   "execution_count": 10,
   "metadata": {
    "colab": {
     "base_uri": "https://localhost:8080/"
    },
    "id": "yXBanFDz_dBn",
    "outputId": "42ec1beb-62e5-483b-c538-a8d6084bff2b"
   },
   "outputs": [],
   "source": [
    "# Мегабайты переведём в гигабайты и округлим вверх\n",
    "#internet_df['gb_used'] = internet_df['mb_used'] / 1024\n",
    "#internet_df['gb_used'] = np.ceil(internet_df['gb_used']).astype('int')\n",
    "\n",
    "#internet_df['gb_used'].head(10)"
   ]
  },
  {
   "cell_type": "markdown",
   "metadata": {
    "id": "9ooZWewburyd"
   },
   "source": [
    "Ранее были найдены разные написания столбцов `tariff` и `tariff_name`. `tariff_name` более точное название, переименовываем столбец в таблице `users_df`:"
   ]
  },
  {
   "cell_type": "code",
   "execution_count": 11,
   "metadata": {
    "id": "Sshlk8GuFEsb"
   },
   "outputs": [],
   "source": [
    "users_df = users_df.rename(columns={'tariff': 'tariff_name'})"
   ]
  },
  {
   "cell_type": "code",
   "execution_count": 12,
   "metadata": {
    "colab": {
     "base_uri": "https://localhost:8080/"
    },
    "id": "bVQE63w3FrqY",
    "outputId": "e55272f7-f0c1-419d-bd2b-8a20ee4ee81c"
   },
   "outputs": [
    {
     "name": "stdout",
     "output_type": "stream",
     "text": [
      "<class 'pandas.core.frame.DataFrame'>\n",
      "RangeIndex: 500 entries, 0 to 499\n",
      "Data columns (total 8 columns):\n",
      " #   Column       Non-Null Count  Dtype         \n",
      "---  ------       --------------  -----         \n",
      " 0   user_id      500 non-null    int64         \n",
      " 1   age          500 non-null    int64         \n",
      " 2   churn_date   38 non-null     datetime64[ns]\n",
      " 3   city         500 non-null    object        \n",
      " 4   first_name   500 non-null    object        \n",
      " 5   last_name    500 non-null    object        \n",
      " 6   reg_date     500 non-null    datetime64[ns]\n",
      " 7   tariff_name  500 non-null    object        \n",
      "dtypes: datetime64[ns](2), int64(2), object(4)\n",
      "memory usage: 31.4+ KB\n"
     ]
    }
   ],
   "source": [
    "users_df.info()"
   ]
  },
  {
   "cell_type": "markdown",
   "metadata": {
    "id": "m6UL44kTur9Q"
   },
   "source": [
    "В таблицах `calls_df`, `internet_df`, `messages_df` переименуем столбцы `id` в уникальные."
   ]
  },
  {
   "cell_type": "code",
   "execution_count": 13,
   "metadata": {
    "id": "tnBWXkdDGhe6"
   },
   "outputs": [],
   "source": [
    "calls_df = calls_df.rename(columns={'id': 'calls_id'})\n",
    "internet_df = internet_df.rename(columns={'id': 'internet_id'})\n",
    "messages_df = messages_df.rename(columns={'id': 'messages_id'})"
   ]
  },
  {
   "cell_type": "code",
   "execution_count": 14,
   "metadata": {
    "colab": {
     "base_uri": "https://localhost:8080/",
     "height": 659
    },
    "id": "fxLph15JHVdJ",
    "outputId": "b3e16635-c6ca-4628-83a3-62d29f89cee3"
   },
   "outputs": [
    {
     "name": "stdout",
     "output_type": "stream",
     "text": [
      "<class 'pandas.core.frame.DataFrame'>\n",
      "RangeIndex: 202607 entries, 0 to 202606\n",
      "Data columns (total 4 columns):\n",
      " #   Column     Non-Null Count   Dtype         \n",
      "---  ------     --------------   -----         \n",
      " 0   calls_id   202607 non-null  object        \n",
      " 1   call_date  202607 non-null  datetime64[ns]\n",
      " 2   duration   202607 non-null  int64         \n",
      " 3   user_id    202607 non-null  int64         \n",
      "dtypes: datetime64[ns](1), int64(2), object(1)\n",
      "memory usage: 6.2+ MB\n"
     ]
    },
    {
     "data": {
      "text/plain": [
       "None"
      ]
     },
     "metadata": {},
     "output_type": "display_data"
    },
    {
     "name": "stdout",
     "output_type": "stream",
     "text": [
      "<class 'pandas.core.frame.DataFrame'>\n",
      "RangeIndex: 149396 entries, 0 to 149395\n",
      "Data columns (total 5 columns):\n",
      " #   Column        Non-Null Count   Dtype         \n",
      "---  ------        --------------   -----         \n",
      " 0   Unnamed: 0    149396 non-null  int64         \n",
      " 1   internet_id   149396 non-null  object        \n",
      " 2   mb_used       149396 non-null  float64       \n",
      " 3   session_date  149396 non-null  datetime64[ns]\n",
      " 4   user_id       149396 non-null  int64         \n",
      "dtypes: datetime64[ns](1), float64(1), int64(2), object(1)\n",
      "memory usage: 5.7+ MB\n"
     ]
    },
    {
     "data": {
      "text/plain": [
       "None"
      ]
     },
     "metadata": {},
     "output_type": "display_data"
    },
    {
     "name": "stdout",
     "output_type": "stream",
     "text": [
      "<class 'pandas.core.frame.DataFrame'>\n",
      "RangeIndex: 123036 entries, 0 to 123035\n",
      "Data columns (total 3 columns):\n",
      " #   Column        Non-Null Count   Dtype         \n",
      "---  ------        --------------   -----         \n",
      " 0   messages_id   123036 non-null  object        \n",
      " 1   message_date  123036 non-null  datetime64[ns]\n",
      " 2   user_id       123036 non-null  int64         \n",
      "dtypes: datetime64[ns](1), int64(1), object(1)\n",
      "memory usage: 2.8+ MB\n"
     ]
    },
    {
     "data": {
      "text/plain": [
       "None"
      ]
     },
     "metadata": {},
     "output_type": "display_data"
    }
   ],
   "source": [
    "# Проверяем изменения\n",
    "display(calls_df.info())\n",
    "display(internet_df.info())\n",
    "display(messages_df.info())"
   ]
  },
  {
   "cell_type": "markdown",
   "metadata": {
    "id": "rguwvQS4usEE"
   },
   "source": [
    "В таблице `internet_df` существует столбец `Unnamed: 0` с порядковыми номерами. Так как столбец дублирует индексы, удалим его."
   ]
  },
  {
   "cell_type": "code",
   "execution_count": 15,
   "metadata": {
    "colab": {
     "base_uri": "https://localhost:8080/"
    },
    "id": "0VNP-No7k9Sl",
    "outputId": "7370a9cd-4478-4bc1-c025-825a18a862a2"
   },
   "outputs": [],
   "source": [
    "internet_df = internet_df.drop('Unnamed: 0', 1)"
   ]
  },
  {
   "cell_type": "code",
   "execution_count": 16,
   "metadata": {
    "colab": {
     "base_uri": "https://localhost:8080/",
     "height": 424
    },
    "id": "fZoCYvnOl59i",
    "outputId": "249177b3-3259-4130-bc8a-525c93539782"
   },
   "outputs": [
    {
     "data": {
      "text/html": [
       "<div>\n",
       "<style scoped>\n",
       "    .dataframe tbody tr th:only-of-type {\n",
       "        vertical-align: middle;\n",
       "    }\n",
       "\n",
       "    .dataframe tbody tr th {\n",
       "        vertical-align: top;\n",
       "    }\n",
       "\n",
       "    .dataframe thead th {\n",
       "        text-align: right;\n",
       "    }\n",
       "</style>\n",
       "<table border=\"1\" class=\"dataframe\">\n",
       "  <thead>\n",
       "    <tr style=\"text-align: right;\">\n",
       "      <th></th>\n",
       "      <th>internet_id</th>\n",
       "      <th>mb_used</th>\n",
       "      <th>session_date</th>\n",
       "      <th>user_id</th>\n",
       "    </tr>\n",
       "  </thead>\n",
       "  <tbody>\n",
       "    <tr>\n",
       "      <th>0</th>\n",
       "      <td>1000_0</td>\n",
       "      <td>112.95</td>\n",
       "      <td>2018-11-25</td>\n",
       "      <td>1000</td>\n",
       "    </tr>\n",
       "    <tr>\n",
       "      <th>1</th>\n",
       "      <td>1000_1</td>\n",
       "      <td>1052.81</td>\n",
       "      <td>2018-09-07</td>\n",
       "      <td>1000</td>\n",
       "    </tr>\n",
       "    <tr>\n",
       "      <th>2</th>\n",
       "      <td>1000_2</td>\n",
       "      <td>1197.26</td>\n",
       "      <td>2018-06-25</td>\n",
       "      <td>1000</td>\n",
       "    </tr>\n",
       "    <tr>\n",
       "      <th>3</th>\n",
       "      <td>1000_3</td>\n",
       "      <td>550.27</td>\n",
       "      <td>2018-08-22</td>\n",
       "      <td>1000</td>\n",
       "    </tr>\n",
       "    <tr>\n",
       "      <th>4</th>\n",
       "      <td>1000_4</td>\n",
       "      <td>302.56</td>\n",
       "      <td>2018-09-24</td>\n",
       "      <td>1000</td>\n",
       "    </tr>\n",
       "    <tr>\n",
       "      <th>...</th>\n",
       "      <td>...</td>\n",
       "      <td>...</td>\n",
       "      <td>...</td>\n",
       "      <td>...</td>\n",
       "    </tr>\n",
       "    <tr>\n",
       "      <th>149391</th>\n",
       "      <td>1499_152</td>\n",
       "      <td>318.90</td>\n",
       "      <td>2018-10-03</td>\n",
       "      <td>1499</td>\n",
       "    </tr>\n",
       "    <tr>\n",
       "      <th>149392</th>\n",
       "      <td>1499_153</td>\n",
       "      <td>490.13</td>\n",
       "      <td>2018-12-14</td>\n",
       "      <td>1499</td>\n",
       "    </tr>\n",
       "    <tr>\n",
       "      <th>149393</th>\n",
       "      <td>1499_154</td>\n",
       "      <td>0.00</td>\n",
       "      <td>2018-10-27</td>\n",
       "      <td>1499</td>\n",
       "    </tr>\n",
       "    <tr>\n",
       "      <th>149394</th>\n",
       "      <td>1499_155</td>\n",
       "      <td>1246.32</td>\n",
       "      <td>2018-11-26</td>\n",
       "      <td>1499</td>\n",
       "    </tr>\n",
       "    <tr>\n",
       "      <th>149395</th>\n",
       "      <td>1499_156</td>\n",
       "      <td>544.37</td>\n",
       "      <td>2018-10-26</td>\n",
       "      <td>1499</td>\n",
       "    </tr>\n",
       "  </tbody>\n",
       "</table>\n",
       "<p>149396 rows × 4 columns</p>\n",
       "</div>"
      ],
      "text/plain": [
       "       internet_id  mb_used session_date  user_id\n",
       "0           1000_0   112.95   2018-11-25     1000\n",
       "1           1000_1  1052.81   2018-09-07     1000\n",
       "2           1000_2  1197.26   2018-06-25     1000\n",
       "3           1000_3   550.27   2018-08-22     1000\n",
       "4           1000_4   302.56   2018-09-24     1000\n",
       "...            ...      ...          ...      ...\n",
       "149391    1499_152   318.90   2018-10-03     1499\n",
       "149392    1499_153   490.13   2018-12-14     1499\n",
       "149393    1499_154     0.00   2018-10-27     1499\n",
       "149394    1499_155  1246.32   2018-11-26     1499\n",
       "149395    1499_156   544.37   2018-10-26     1499\n",
       "\n",
       "[149396 rows x 4 columns]"
      ]
     },
     "execution_count": 16,
     "metadata": {},
     "output_type": "execute_result"
    }
   ],
   "source": [
    "internet_df"
   ]
  },
  {
   "cell_type": "markdown",
   "metadata": {
    "id": "HH-GaAtlmST0"
   },
   "source": [
    "Для анализа данных по месяцам создадим в таблицах `calls_df`, `internet_df`, `messages_df` столбец с названиями месяцев."
   ]
  },
  {
   "cell_type": "code",
   "execution_count": 17,
   "metadata": {
    "colab": {
     "base_uri": "https://localhost:8080/",
     "height": 363
    },
    "id": "cyxlf6v-mpLP",
    "outputId": "52302490-cbcc-41d1-88ea-e35b644aea5e"
   },
   "outputs": [
    {
     "data": {
      "text/html": [
       "<div>\n",
       "<style scoped>\n",
       "    .dataframe tbody tr th:only-of-type {\n",
       "        vertical-align: middle;\n",
       "    }\n",
       "\n",
       "    .dataframe tbody tr th {\n",
       "        vertical-align: top;\n",
       "    }\n",
       "\n",
       "    .dataframe thead th {\n",
       "        text-align: right;\n",
       "    }\n",
       "</style>\n",
       "<table border=\"1\" class=\"dataframe\">\n",
       "  <thead>\n",
       "    <tr style=\"text-align: right;\">\n",
       "      <th></th>\n",
       "      <th>calls_id</th>\n",
       "      <th>call_date</th>\n",
       "      <th>duration</th>\n",
       "      <th>user_id</th>\n",
       "      <th>month</th>\n",
       "    </tr>\n",
       "  </thead>\n",
       "  <tbody>\n",
       "    <tr>\n",
       "      <th>0</th>\n",
       "      <td>1000_0</td>\n",
       "      <td>2018-07-25</td>\n",
       "      <td>0</td>\n",
       "      <td>1000</td>\n",
       "      <td>7</td>\n",
       "    </tr>\n",
       "    <tr>\n",
       "      <th>1</th>\n",
       "      <td>1000_1</td>\n",
       "      <td>2018-08-17</td>\n",
       "      <td>0</td>\n",
       "      <td>1000</td>\n",
       "      <td>8</td>\n",
       "    </tr>\n",
       "    <tr>\n",
       "      <th>2</th>\n",
       "      <td>1000_2</td>\n",
       "      <td>2018-06-11</td>\n",
       "      <td>3</td>\n",
       "      <td>1000</td>\n",
       "      <td>6</td>\n",
       "    </tr>\n",
       "    <tr>\n",
       "      <th>3</th>\n",
       "      <td>1000_3</td>\n",
       "      <td>2018-09-21</td>\n",
       "      <td>14</td>\n",
       "      <td>1000</td>\n",
       "      <td>9</td>\n",
       "    </tr>\n",
       "    <tr>\n",
       "      <th>4</th>\n",
       "      <td>1000_4</td>\n",
       "      <td>2018-12-15</td>\n",
       "      <td>6</td>\n",
       "      <td>1000</td>\n",
       "      <td>12</td>\n",
       "    </tr>\n",
       "    <tr>\n",
       "      <th>5</th>\n",
       "      <td>1000_5</td>\n",
       "      <td>2018-11-02</td>\n",
       "      <td>0</td>\n",
       "      <td>1000</td>\n",
       "      <td>11</td>\n",
       "    </tr>\n",
       "    <tr>\n",
       "      <th>6</th>\n",
       "      <td>1000_6</td>\n",
       "      <td>2018-10-18</td>\n",
       "      <td>0</td>\n",
       "      <td>1000</td>\n",
       "      <td>10</td>\n",
       "    </tr>\n",
       "    <tr>\n",
       "      <th>7</th>\n",
       "      <td>1000_7</td>\n",
       "      <td>2018-08-22</td>\n",
       "      <td>19</td>\n",
       "      <td>1000</td>\n",
       "      <td>8</td>\n",
       "    </tr>\n",
       "    <tr>\n",
       "      <th>8</th>\n",
       "      <td>1000_8</td>\n",
       "      <td>2018-09-15</td>\n",
       "      <td>19</td>\n",
       "      <td>1000</td>\n",
       "      <td>9</td>\n",
       "    </tr>\n",
       "    <tr>\n",
       "      <th>9</th>\n",
       "      <td>1000_9</td>\n",
       "      <td>2018-08-15</td>\n",
       "      <td>0</td>\n",
       "      <td>1000</td>\n",
       "      <td>8</td>\n",
       "    </tr>\n",
       "  </tbody>\n",
       "</table>\n",
       "</div>"
      ],
      "text/plain": [
       "  calls_id  call_date  duration  user_id  month\n",
       "0   1000_0 2018-07-25         0     1000      7\n",
       "1   1000_1 2018-08-17         0     1000      8\n",
       "2   1000_2 2018-06-11         3     1000      6\n",
       "3   1000_3 2018-09-21        14     1000      9\n",
       "4   1000_4 2018-12-15         6     1000     12\n",
       "5   1000_5 2018-11-02         0     1000     11\n",
       "6   1000_6 2018-10-18         0     1000     10\n",
       "7   1000_7 2018-08-22        19     1000      8\n",
       "8   1000_8 2018-09-15        19     1000      9\n",
       "9   1000_9 2018-08-15         0     1000      8"
      ]
     },
     "execution_count": 17,
     "metadata": {},
     "output_type": "execute_result"
    }
   ],
   "source": [
    "# По аналогии с id хочется назвать столбцы calls_month, internet_month и message_month, но так как в полном адресе уже есть название датафрейма, это нецелесообразно. В случае с id кажется, что без уточнения \n",
    "calls_df['month'] = calls_df['call_date'].dt.month\n",
    "internet_df['month'] = internet_df['session_date'].dt.month\n",
    "messages_df['month'] = messages_df['message_date'].dt.month\n",
    "calls_df.head(10)"
   ]
  },
  {
   "cell_type": "markdown",
   "metadata": {},
   "source": [
    "Рассмотрим распределения значений в продолжительности звонков и расходе трафика для выявления ошибок:"
   ]
  },
  {
   "cell_type": "code",
   "execution_count": 18,
   "metadata": {},
   "outputs": [
    {
     "data": {
      "text/plain": [
       "count    202607.000000\n",
       "mean          7.158198\n",
       "std           5.959173\n",
       "min           0.000000\n",
       "25%           2.000000\n",
       "50%           6.000000\n",
       "75%          11.000000\n",
       "max          38.000000\n",
       "Name: duration, dtype: float64"
      ]
     },
     "execution_count": 18,
     "metadata": {},
     "output_type": "execute_result"
    }
   ],
   "source": [
    "calls_df['duration'].describe()"
   ]
  },
  {
   "cell_type": "code",
   "execution_count": 19,
   "metadata": {},
   "outputs": [
    {
     "data": {
      "image/png": "[encoded data removed]",
      "text/plain": [
       "<Figure size 432x288 with 1 Axes>"
      ]
     },
     "metadata": {
      "needs_background": "light"
     },
     "output_type": "display_data"
    }
   ],
   "source": [
    "calls_df['duration'].hist(bins=(calls_df['duration'].max()+1));"
   ]
  },
  {
   "cell_type": "code",
   "execution_count": 20,
   "metadata": {},
   "outputs": [
    {
     "data": {
      "text/plain": [
       "count    149396.000000\n",
       "mean        370.192426\n",
       "std         278.300951\n",
       "min           0.000000\n",
       "25%         138.187500\n",
       "50%         348.015000\n",
       "75%         559.552500\n",
       "max        1724.830000\n",
       "Name: mb_used, dtype: float64"
      ]
     },
     "execution_count": 20,
     "metadata": {},
     "output_type": "execute_result"
    }
   ],
   "source": [
    "internet_df['mb_used'].describe()"
   ]
  },
  {
   "cell_type": "code",
   "execution_count": 21,
   "metadata": {},
   "outputs": [
    {
     "data": {
      "image/png": "[encoded data removed]",
      "text/plain": [
       "<Figure size 432x288 with 1 Axes>"
      ]
     },
     "metadata": {
      "needs_background": "light"
     },
     "output_type": "display_data"
    }
   ],
   "source": [
    "internet_df['mb_used'].hist(bins=100);"
   ]
  },
  {
   "cell_type": "markdown",
   "metadata": {},
   "source": [
    "Распределения близки к нормальным. Имеется большое количество нулевых значений, но они связаны с тем, что многие клиенты не пользовались данным типом услуг."
   ]
  },
  {
   "cell_type": "markdown",
   "metadata": {
    "id": "jesEDchgqIhn"
   },
   "source": [
    "Создадим сводные таблицы по пользователям по месяцам. Так как нам предоставлены данные за год, удобно будет расположить месяцы как столбцы, а пользователей по строкам."
   ]
  },
  {
   "cell_type": "code",
   "execution_count": 22,
   "metadata": {
    "colab": {
     "base_uri": "https://localhost:8080/",
     "height": 394
    },
    "id": "N0s7qTKFmpNR",
    "outputId": "a420b943-5a08-43e0-c7f9-41666e1fcba9"
   },
   "outputs": [
    {
     "data": {
      "text/html": [
       "<div>\n",
       "<style scoped>\n",
       "    .dataframe tbody tr th:only-of-type {\n",
       "        vertical-align: middle;\n",
       "    }\n",
       "\n",
       "    .dataframe tbody tr th {\n",
       "        vertical-align: top;\n",
       "    }\n",
       "\n",
       "    .dataframe thead th {\n",
       "        text-align: right;\n",
       "    }\n",
       "</style>\n",
       "<table border=\"1\" class=\"dataframe\">\n",
       "  <thead>\n",
       "    <tr style=\"text-align: right;\">\n",
       "      <th>month</th>\n",
       "      <th>1</th>\n",
       "      <th>2</th>\n",
       "      <th>3</th>\n",
       "      <th>4</th>\n",
       "      <th>5</th>\n",
       "      <th>6</th>\n",
       "      <th>7</th>\n",
       "      <th>8</th>\n",
       "      <th>9</th>\n",
       "      <th>10</th>\n",
       "      <th>11</th>\n",
       "      <th>12</th>\n",
       "    </tr>\n",
       "    <tr>\n",
       "      <th>user_id</th>\n",
       "      <th></th>\n",
       "      <th></th>\n",
       "      <th></th>\n",
       "      <th></th>\n",
       "      <th></th>\n",
       "      <th></th>\n",
       "      <th></th>\n",
       "      <th></th>\n",
       "      <th></th>\n",
       "      <th></th>\n",
       "      <th></th>\n",
       "      <th></th>\n",
       "    </tr>\n",
       "  </thead>\n",
       "  <tbody>\n",
       "    <tr>\n",
       "      <th>1000</th>\n",
       "      <td>NaN</td>\n",
       "      <td>NaN</td>\n",
       "      <td>NaN</td>\n",
       "      <td>NaN</td>\n",
       "      <td>159.0</td>\n",
       "      <td>172.0</td>\n",
       "      <td>340.0</td>\n",
       "      <td>408.0</td>\n",
       "      <td>466.0</td>\n",
       "      <td>350.0</td>\n",
       "      <td>338.0</td>\n",
       "      <td>333.0</td>\n",
       "    </tr>\n",
       "    <tr>\n",
       "      <th>1001</th>\n",
       "      <td>NaN</td>\n",
       "      <td>NaN</td>\n",
       "      <td>NaN</td>\n",
       "      <td>NaN</td>\n",
       "      <td>NaN</td>\n",
       "      <td>NaN</td>\n",
       "      <td>NaN</td>\n",
       "      <td>NaN</td>\n",
       "      <td>NaN</td>\n",
       "      <td>NaN</td>\n",
       "      <td>430.0</td>\n",
       "      <td>414.0</td>\n",
       "    </tr>\n",
       "    <tr>\n",
       "      <th>1002</th>\n",
       "      <td>NaN</td>\n",
       "      <td>NaN</td>\n",
       "      <td>NaN</td>\n",
       "      <td>NaN</td>\n",
       "      <td>NaN</td>\n",
       "      <td>117.0</td>\n",
       "      <td>214.0</td>\n",
       "      <td>289.0</td>\n",
       "      <td>206.0</td>\n",
       "      <td>212.0</td>\n",
       "      <td>243.0</td>\n",
       "      <td>236.0</td>\n",
       "    </tr>\n",
       "    <tr>\n",
       "      <th>1003</th>\n",
       "      <td>NaN</td>\n",
       "      <td>NaN</td>\n",
       "      <td>NaN</td>\n",
       "      <td>NaN</td>\n",
       "      <td>NaN</td>\n",
       "      <td>NaN</td>\n",
       "      <td>NaN</td>\n",
       "      <td>380.0</td>\n",
       "      <td>961.0</td>\n",
       "      <td>855.0</td>\n",
       "      <td>824.0</td>\n",
       "      <td>802.0</td>\n",
       "    </tr>\n",
       "    <tr>\n",
       "      <th>1004</th>\n",
       "      <td>NaN</td>\n",
       "      <td>NaN</td>\n",
       "      <td>NaN</td>\n",
       "      <td>NaN</td>\n",
       "      <td>35.0</td>\n",
       "      <td>171.0</td>\n",
       "      <td>135.0</td>\n",
       "      <td>137.0</td>\n",
       "      <td>117.0</td>\n",
       "      <td>145.0</td>\n",
       "      <td>117.0</td>\n",
       "      <td>130.0</td>\n",
       "    </tr>\n",
       "    <tr>\n",
       "      <th>1005</th>\n",
       "      <td>95.0</td>\n",
       "      <td>456.0</td>\n",
       "      <td>606.0</td>\n",
       "      <td>712.0</td>\n",
       "      <td>595.0</td>\n",
       "      <td>612.0</td>\n",
       "      <td>569.0</td>\n",
       "      <td>619.0</td>\n",
       "      <td>479.0</td>\n",
       "      <td>723.0</td>\n",
       "      <td>547.0</td>\n",
       "      <td>592.0</td>\n",
       "    </tr>\n",
       "    <tr>\n",
       "      <th>1006</th>\n",
       "      <td>NaN</td>\n",
       "      <td>42.0</td>\n",
       "      <td>286.0</td>\n",
       "      <td>356.0</td>\n",
       "      <td>370.0</td>\n",
       "      <td>478.0</td>\n",
       "      <td>316.0</td>\n",
       "      <td>275.0</td>\n",
       "      <td>360.0</td>\n",
       "      <td>267.0</td>\n",
       "      <td>372.0</td>\n",
       "      <td>379.0</td>\n",
       "    </tr>\n",
       "    <tr>\n",
       "      <th>1007</th>\n",
       "      <td>NaN</td>\n",
       "      <td>NaN</td>\n",
       "      <td>NaN</td>\n",
       "      <td>198.0</td>\n",
       "      <td>480.0</td>\n",
       "      <td>545.0</td>\n",
       "      <td>577.0</td>\n",
       "      <td>458.0</td>\n",
       "      <td>655.0</td>\n",
       "      <td>465.0</td>\n",
       "      <td>580.0</td>\n",
       "      <td>421.0</td>\n",
       "    </tr>\n",
       "    <tr>\n",
       "      <th>1008</th>\n",
       "      <td>NaN</td>\n",
       "      <td>NaN</td>\n",
       "      <td>NaN</td>\n",
       "      <td>NaN</td>\n",
       "      <td>NaN</td>\n",
       "      <td>NaN</td>\n",
       "      <td>NaN</td>\n",
       "      <td>NaN</td>\n",
       "      <td>NaN</td>\n",
       "      <td>NaN</td>\n",
       "      <td>NaN</td>\n",
       "      <td>339.0</td>\n",
       "    </tr>\n",
       "    <tr>\n",
       "      <th>1009</th>\n",
       "      <td>NaN</td>\n",
       "      <td>NaN</td>\n",
       "      <td>109.0</td>\n",
       "      <td>324.0</td>\n",
       "      <td>170.0</td>\n",
       "      <td>289.0</td>\n",
       "      <td>183.0</td>\n",
       "      <td>249.0</td>\n",
       "      <td>133.0</td>\n",
       "      <td>213.0</td>\n",
       "      <td>290.0</td>\n",
       "      <td>229.0</td>\n",
       "    </tr>\n",
       "  </tbody>\n",
       "</table>\n",
       "</div>"
      ],
      "text/plain": [
       "month      1      2      3      4      5      6      7      8      9      10  \\\n",
       "user_id                                                                        \n",
       "1000      NaN    NaN    NaN    NaN  159.0  172.0  340.0  408.0  466.0  350.0   \n",
       "1001      NaN    NaN    NaN    NaN    NaN    NaN    NaN    NaN    NaN    NaN   \n",
       "1002      NaN    NaN    NaN    NaN    NaN  117.0  214.0  289.0  206.0  212.0   \n",
       "1003      NaN    NaN    NaN    NaN    NaN    NaN    NaN  380.0  961.0  855.0   \n",
       "1004      NaN    NaN    NaN    NaN   35.0  171.0  135.0  137.0  117.0  145.0   \n",
       "1005     95.0  456.0  606.0  712.0  595.0  612.0  569.0  619.0  479.0  723.0   \n",
       "1006      NaN   42.0  286.0  356.0  370.0  478.0  316.0  275.0  360.0  267.0   \n",
       "1007      NaN    NaN    NaN  198.0  480.0  545.0  577.0  458.0  655.0  465.0   \n",
       "1008      NaN    NaN    NaN    NaN    NaN    NaN    NaN    NaN    NaN    NaN   \n",
       "1009      NaN    NaN  109.0  324.0  170.0  289.0  183.0  249.0  133.0  213.0   \n",
       "\n",
       "month       11     12  \n",
       "user_id                \n",
       "1000     338.0  333.0  \n",
       "1001     430.0  414.0  \n",
       "1002     243.0  236.0  \n",
       "1003     824.0  802.0  \n",
       "1004     117.0  130.0  \n",
       "1005     547.0  592.0  \n",
       "1006     372.0  379.0  \n",
       "1007     580.0  421.0  \n",
       "1008       NaN  339.0  \n",
       "1009     290.0  229.0  "
      ]
     },
     "execution_count": 22,
     "metadata": {},
     "output_type": "execute_result"
    }
   ],
   "source": [
    "# Количество израсходованных минут разговора\n",
    "calls_pivot_duration = pd.pivot_table(calls_df, \n",
    "                             values='duration', \n",
    "                             index='user_id',\n",
    "                             columns='month',\n",
    "                             aggfunc='sum'\n",
    "                             )\n",
    "\n",
    "calls_pivot_duration.head(10)"
   ]
  },
  {
   "cell_type": "code",
   "execution_count": 23,
   "metadata": {
    "colab": {
     "base_uri": "https://localhost:8080/",
     "height": 238
    },
    "id": "wzYe4IFOic7G",
    "outputId": "cee99132-25ae-4eff-cf7f-cc0e612bdd32"
   },
   "outputs": [
    {
     "data": {
      "text/html": [
       "<div>\n",
       "<style scoped>\n",
       "    .dataframe tbody tr th:only-of-type {\n",
       "        vertical-align: middle;\n",
       "    }\n",
       "\n",
       "    .dataframe tbody tr th {\n",
       "        vertical-align: top;\n",
       "    }\n",
       "\n",
       "    .dataframe thead th {\n",
       "        text-align: right;\n",
       "    }\n",
       "</style>\n",
       "<table border=\"1\" class=\"dataframe\">\n",
       "  <thead>\n",
       "    <tr style=\"text-align: right;\">\n",
       "      <th>month</th>\n",
       "      <th>1</th>\n",
       "      <th>2</th>\n",
       "      <th>3</th>\n",
       "      <th>4</th>\n",
       "      <th>5</th>\n",
       "      <th>6</th>\n",
       "      <th>7</th>\n",
       "      <th>8</th>\n",
       "      <th>9</th>\n",
       "      <th>10</th>\n",
       "      <th>11</th>\n",
       "      <th>12</th>\n",
       "    </tr>\n",
       "    <tr>\n",
       "      <th>user_id</th>\n",
       "      <th></th>\n",
       "      <th></th>\n",
       "      <th></th>\n",
       "      <th></th>\n",
       "      <th></th>\n",
       "      <th></th>\n",
       "      <th></th>\n",
       "      <th></th>\n",
       "      <th></th>\n",
       "      <th></th>\n",
       "      <th></th>\n",
       "      <th></th>\n",
       "    </tr>\n",
       "  </thead>\n",
       "  <tbody>\n",
       "    <tr>\n",
       "      <th>1000</th>\n",
       "      <td>NaN</td>\n",
       "      <td>NaN</td>\n",
       "      <td>NaN</td>\n",
       "      <td>NaN</td>\n",
       "      <td>22.0</td>\n",
       "      <td>43.0</td>\n",
       "      <td>47.0</td>\n",
       "      <td>52.0</td>\n",
       "      <td>58.0</td>\n",
       "      <td>57.0</td>\n",
       "      <td>43.0</td>\n",
       "      <td>46.0</td>\n",
       "    </tr>\n",
       "    <tr>\n",
       "      <th>1001</th>\n",
       "      <td>NaN</td>\n",
       "      <td>NaN</td>\n",
       "      <td>NaN</td>\n",
       "      <td>NaN</td>\n",
       "      <td>NaN</td>\n",
       "      <td>NaN</td>\n",
       "      <td>NaN</td>\n",
       "      <td>NaN</td>\n",
       "      <td>NaN</td>\n",
       "      <td>NaN</td>\n",
       "      <td>59.0</td>\n",
       "      <td>63.0</td>\n",
       "    </tr>\n",
       "    <tr>\n",
       "      <th>1002</th>\n",
       "      <td>NaN</td>\n",
       "      <td>NaN</td>\n",
       "      <td>NaN</td>\n",
       "      <td>NaN</td>\n",
       "      <td>NaN</td>\n",
       "      <td>15.0</td>\n",
       "      <td>26.0</td>\n",
       "      <td>42.0</td>\n",
       "      <td>36.0</td>\n",
       "      <td>33.0</td>\n",
       "      <td>32.0</td>\n",
       "      <td>33.0</td>\n",
       "    </tr>\n",
       "    <tr>\n",
       "      <th>1003</th>\n",
       "      <td>NaN</td>\n",
       "      <td>NaN</td>\n",
       "      <td>NaN</td>\n",
       "      <td>NaN</td>\n",
       "      <td>NaN</td>\n",
       "      <td>NaN</td>\n",
       "      <td>NaN</td>\n",
       "      <td>55.0</td>\n",
       "      <td>134.0</td>\n",
       "      <td>108.0</td>\n",
       "      <td>115.0</td>\n",
       "      <td>108.0</td>\n",
       "    </tr>\n",
       "    <tr>\n",
       "      <th>1004</th>\n",
       "      <td>NaN</td>\n",
       "      <td>NaN</td>\n",
       "      <td>NaN</td>\n",
       "      <td>NaN</td>\n",
       "      <td>9.0</td>\n",
       "      <td>31.0</td>\n",
       "      <td>22.0</td>\n",
       "      <td>19.0</td>\n",
       "      <td>26.0</td>\n",
       "      <td>29.0</td>\n",
       "      <td>19.0</td>\n",
       "      <td>21.0</td>\n",
       "    </tr>\n",
       "  </tbody>\n",
       "</table>\n",
       "</div>"
      ],
      "text/plain": [
       "month    1   2   3   4     5     6     7     8      9      10     11     12\n",
       "user_id                                                                    \n",
       "1000    NaN NaN NaN NaN  22.0  43.0  47.0  52.0   58.0   57.0   43.0   46.0\n",
       "1001    NaN NaN NaN NaN   NaN   NaN   NaN   NaN    NaN    NaN   59.0   63.0\n",
       "1002    NaN NaN NaN NaN   NaN  15.0  26.0  42.0   36.0   33.0   32.0   33.0\n",
       "1003    NaN NaN NaN NaN   NaN   NaN   NaN  55.0  134.0  108.0  115.0  108.0\n",
       "1004    NaN NaN NaN NaN   9.0  31.0  22.0  19.0   26.0   29.0   19.0   21.0"
      ]
     },
     "execution_count": 23,
     "metadata": {},
     "output_type": "execute_result"
    }
   ],
   "source": [
    "# Количество звонков\n",
    "calls_pivot_count = pd.pivot_table(calls_df, \n",
    "                             values='duration', \n",
    "                             index='user_id',\n",
    "                             columns='month',\n",
    "                             aggfunc='count'\n",
    "                             )\n",
    "calls_pivot_count.head()"
   ]
  },
  {
   "cell_type": "code",
   "execution_count": 24,
   "metadata": {
    "colab": {
     "base_uri": "https://localhost:8080/",
     "height": 238
    },
    "id": "jNdGaQCSjMLv",
    "outputId": "b93abe0c-462d-4649-d1d9-7ada2d56d2fe"
   },
   "outputs": [
    {
     "data": {
      "text/html": [
       "<div>\n",
       "<style scoped>\n",
       "    .dataframe tbody tr th:only-of-type {\n",
       "        vertical-align: middle;\n",
       "    }\n",
       "\n",
       "    .dataframe tbody tr th {\n",
       "        vertical-align: top;\n",
       "    }\n",
       "\n",
       "    .dataframe thead th {\n",
       "        text-align: right;\n",
       "    }\n",
       "</style>\n",
       "<table border=\"1\" class=\"dataframe\">\n",
       "  <thead>\n",
       "    <tr style=\"text-align: right;\">\n",
       "      <th>month</th>\n",
       "      <th>1</th>\n",
       "      <th>2</th>\n",
       "      <th>3</th>\n",
       "      <th>4</th>\n",
       "      <th>5</th>\n",
       "      <th>6</th>\n",
       "      <th>7</th>\n",
       "      <th>8</th>\n",
       "      <th>9</th>\n",
       "      <th>10</th>\n",
       "      <th>11</th>\n",
       "      <th>12</th>\n",
       "    </tr>\n",
       "    <tr>\n",
       "      <th>user_id</th>\n",
       "      <th></th>\n",
       "      <th></th>\n",
       "      <th></th>\n",
       "      <th></th>\n",
       "      <th></th>\n",
       "      <th></th>\n",
       "      <th></th>\n",
       "      <th></th>\n",
       "      <th></th>\n",
       "      <th></th>\n",
       "      <th></th>\n",
       "      <th></th>\n",
       "    </tr>\n",
       "  </thead>\n",
       "  <tbody>\n",
       "    <tr>\n",
       "      <th>1000</th>\n",
       "      <td>NaN</td>\n",
       "      <td>NaN</td>\n",
       "      <td>NaN</td>\n",
       "      <td>NaN</td>\n",
       "      <td>22.0</td>\n",
       "      <td>60.0</td>\n",
       "      <td>75.0</td>\n",
       "      <td>81.0</td>\n",
       "      <td>57.0</td>\n",
       "      <td>73.0</td>\n",
       "      <td>58.0</td>\n",
       "      <td>70.0</td>\n",
       "    </tr>\n",
       "    <tr>\n",
       "      <th>1002</th>\n",
       "      <td>NaN</td>\n",
       "      <td>NaN</td>\n",
       "      <td>NaN</td>\n",
       "      <td>NaN</td>\n",
       "      <td>NaN</td>\n",
       "      <td>4.0</td>\n",
       "      <td>11.0</td>\n",
       "      <td>13.0</td>\n",
       "      <td>4.0</td>\n",
       "      <td>10.0</td>\n",
       "      <td>16.0</td>\n",
       "      <td>12.0</td>\n",
       "    </tr>\n",
       "    <tr>\n",
       "      <th>1003</th>\n",
       "      <td>NaN</td>\n",
       "      <td>NaN</td>\n",
       "      <td>NaN</td>\n",
       "      <td>NaN</td>\n",
       "      <td>NaN</td>\n",
       "      <td>NaN</td>\n",
       "      <td>NaN</td>\n",
       "      <td>37.0</td>\n",
       "      <td>91.0</td>\n",
       "      <td>83.0</td>\n",
       "      <td>94.0</td>\n",
       "      <td>75.0</td>\n",
       "    </tr>\n",
       "    <tr>\n",
       "      <th>1004</th>\n",
       "      <td>NaN</td>\n",
       "      <td>NaN</td>\n",
       "      <td>NaN</td>\n",
       "      <td>NaN</td>\n",
       "      <td>95.0</td>\n",
       "      <td>134.0</td>\n",
       "      <td>181.0</td>\n",
       "      <td>151.0</td>\n",
       "      <td>146.0</td>\n",
       "      <td>165.0</td>\n",
       "      <td>158.0</td>\n",
       "      <td>162.0</td>\n",
       "    </tr>\n",
       "    <tr>\n",
       "      <th>1005</th>\n",
       "      <td>7.0</td>\n",
       "      <td>38.0</td>\n",
       "      <td>56.0</td>\n",
       "      <td>41.0</td>\n",
       "      <td>42.0</td>\n",
       "      <td>47.0</td>\n",
       "      <td>56.0</td>\n",
       "      <td>64.0</td>\n",
       "      <td>52.0</td>\n",
       "      <td>44.0</td>\n",
       "      <td>51.0</td>\n",
       "      <td>54.0</td>\n",
       "    </tr>\n",
       "  </tbody>\n",
       "</table>\n",
       "</div>"
      ],
      "text/plain": [
       "month     1     2     3     4     5      6      7      8      9      10  \\\n",
       "user_id                                                                   \n",
       "1000     NaN   NaN   NaN   NaN  22.0   60.0   75.0   81.0   57.0   73.0   \n",
       "1002     NaN   NaN   NaN   NaN   NaN    4.0   11.0   13.0    4.0   10.0   \n",
       "1003     NaN   NaN   NaN   NaN   NaN    NaN    NaN   37.0   91.0   83.0   \n",
       "1004     NaN   NaN   NaN   NaN  95.0  134.0  181.0  151.0  146.0  165.0   \n",
       "1005     7.0  38.0  56.0  41.0  42.0   47.0   56.0   64.0   52.0   44.0   \n",
       "\n",
       "month       11     12  \n",
       "user_id                \n",
       "1000      58.0   70.0  \n",
       "1002      16.0   12.0  \n",
       "1003      94.0   75.0  \n",
       "1004     158.0  162.0  \n",
       "1005      51.0   54.0  "
      ]
     },
     "execution_count": 24,
     "metadata": {},
     "output_type": "execute_result"
    }
   ],
   "source": [
    "# Количество сообщений\n",
    "messages_pivot_count = pd.pivot_table(messages_df,\n",
    "                                      values='messages_id',\n",
    "                             index='user_id',\n",
    "                             columns='month',\n",
    "                             aggfunc='count'\n",
    "                             )\n",
    "messages_pivot_count.head()"
   ]
  },
  {
   "cell_type": "code",
   "execution_count": 25,
   "metadata": {
    "colab": {
     "base_uri": "https://localhost:8080/",
     "height": 238
    },
    "id": "tRhS1U4ijMgG",
    "outputId": "d95dbe79-ef17-4e22-d2ae-860644565c74"
   },
   "outputs": [
    {
     "data": {
      "text/html": [
       "<div>\n",
       "<style scoped>\n",
       "    .dataframe tbody tr th:only-of-type {\n",
       "        vertical-align: middle;\n",
       "    }\n",
       "\n",
       "    .dataframe tbody tr th {\n",
       "        vertical-align: top;\n",
       "    }\n",
       "\n",
       "    .dataframe thead th {\n",
       "        text-align: right;\n",
       "    }\n",
       "</style>\n",
       "<table border=\"1\" class=\"dataframe\">\n",
       "  <thead>\n",
       "    <tr style=\"text-align: right;\">\n",
       "      <th>month</th>\n",
       "      <th>1</th>\n",
       "      <th>2</th>\n",
       "      <th>3</th>\n",
       "      <th>4</th>\n",
       "      <th>5</th>\n",
       "      <th>6</th>\n",
       "      <th>7</th>\n",
       "      <th>8</th>\n",
       "      <th>9</th>\n",
       "      <th>10</th>\n",
       "      <th>11</th>\n",
       "      <th>12</th>\n",
       "    </tr>\n",
       "    <tr>\n",
       "      <th>user_id</th>\n",
       "      <th></th>\n",
       "      <th></th>\n",
       "      <th></th>\n",
       "      <th></th>\n",
       "      <th></th>\n",
       "      <th></th>\n",
       "      <th></th>\n",
       "      <th></th>\n",
       "      <th></th>\n",
       "      <th></th>\n",
       "      <th></th>\n",
       "      <th></th>\n",
       "    </tr>\n",
       "  </thead>\n",
       "  <tbody>\n",
       "    <tr>\n",
       "      <th>1000</th>\n",
       "      <td>NaN</td>\n",
       "      <td>NaN</td>\n",
       "      <td>NaN</td>\n",
       "      <td>NaN</td>\n",
       "      <td>2253.49</td>\n",
       "      <td>23233.77</td>\n",
       "      <td>14003.64</td>\n",
       "      <td>14055.93</td>\n",
       "      <td>14568.91</td>\n",
       "      <td>14702.49</td>\n",
       "      <td>14756.47</td>\n",
       "      <td>9817.61</td>\n",
       "    </tr>\n",
       "    <tr>\n",
       "      <th>1001</th>\n",
       "      <td>NaN</td>\n",
       "      <td>NaN</td>\n",
       "      <td>NaN</td>\n",
       "      <td>NaN</td>\n",
       "      <td>NaN</td>\n",
       "      <td>NaN</td>\n",
       "      <td>NaN</td>\n",
       "      <td>NaN</td>\n",
       "      <td>NaN</td>\n",
       "      <td>NaN</td>\n",
       "      <td>18429.34</td>\n",
       "      <td>14036.66</td>\n",
       "    </tr>\n",
       "    <tr>\n",
       "      <th>1002</th>\n",
       "      <td>NaN</td>\n",
       "      <td>NaN</td>\n",
       "      <td>NaN</td>\n",
       "      <td>NaN</td>\n",
       "      <td>NaN</td>\n",
       "      <td>10856.82</td>\n",
       "      <td>17580.10</td>\n",
       "      <td>20319.26</td>\n",
       "      <td>16691.08</td>\n",
       "      <td>13888.25</td>\n",
       "      <td>18587.28</td>\n",
       "      <td>18113.73</td>\n",
       "    </tr>\n",
       "    <tr>\n",
       "      <th>1003</th>\n",
       "      <td>NaN</td>\n",
       "      <td>NaN</td>\n",
       "      <td>NaN</td>\n",
       "      <td>NaN</td>\n",
       "      <td>NaN</td>\n",
       "      <td>NaN</td>\n",
       "      <td>NaN</td>\n",
       "      <td>8565.21</td>\n",
       "      <td>12468.87</td>\n",
       "      <td>14768.14</td>\n",
       "      <td>11356.89</td>\n",
       "      <td>10121.53</td>\n",
       "    </tr>\n",
       "    <tr>\n",
       "      <th>1004</th>\n",
       "      <td>NaN</td>\n",
       "      <td>NaN</td>\n",
       "      <td>NaN</td>\n",
       "      <td>NaN</td>\n",
       "      <td>13403.98</td>\n",
       "      <td>17600.02</td>\n",
       "      <td>22229.58</td>\n",
       "      <td>28584.37</td>\n",
       "      <td>15109.03</td>\n",
       "      <td>18475.44</td>\n",
       "      <td>15616.02</td>\n",
       "      <td>18021.04</td>\n",
       "    </tr>\n",
       "  </tbody>\n",
       "</table>\n",
       "</div>"
      ],
      "text/plain": [
       "month    1   2   3   4         5         6         7         8         9   \\\n",
       "user_id                                                                     \n",
       "1000    NaN NaN NaN NaN   2253.49  23233.77  14003.64  14055.93  14568.91   \n",
       "1001    NaN NaN NaN NaN       NaN       NaN       NaN       NaN       NaN   \n",
       "1002    NaN NaN NaN NaN       NaN  10856.82  17580.10  20319.26  16691.08   \n",
       "1003    NaN NaN NaN NaN       NaN       NaN       NaN   8565.21  12468.87   \n",
       "1004    NaN NaN NaN NaN  13403.98  17600.02  22229.58  28584.37  15109.03   \n",
       "\n",
       "month          10        11        12  \n",
       "user_id                                \n",
       "1000     14702.49  14756.47   9817.61  \n",
       "1001          NaN  18429.34  14036.66  \n",
       "1002     13888.25  18587.28  18113.73  \n",
       "1003     14768.14  11356.89  10121.53  \n",
       "1004     18475.44  15616.02  18021.04  "
      ]
     },
     "execution_count": 25,
     "metadata": {},
     "output_type": "execute_result"
    }
   ],
   "source": [
    "# Объём трафика в мегабайтах\n",
    "internet_pivot_mb = pd.pivot_table(internet_df,\n",
    "                                      values='mb_used',\n",
    "                             index='user_id',\n",
    "                             columns='month',\n",
    "                             aggfunc='sum'\n",
    "                             )\n",
    "internet_pivot_mb.head()"
   ]
  },
  {
   "cell_type": "code",
   "execution_count": 26,
   "metadata": {
    "colab": {
     "base_uri": "https://localhost:8080/",
     "height": 238
    },
    "id": "OCyVM0iOk8VH",
    "outputId": "2a79350a-3c80-40c1-9165-1dc87a65e254"
   },
   "outputs": [
    {
     "data": {
      "text/html": [
       "<div>\n",
       "<style scoped>\n",
       "    .dataframe tbody tr th:only-of-type {\n",
       "        vertical-align: middle;\n",
       "    }\n",
       "\n",
       "    .dataframe tbody tr th {\n",
       "        vertical-align: top;\n",
       "    }\n",
       "\n",
       "    .dataframe thead th {\n",
       "        text-align: right;\n",
       "    }\n",
       "</style>\n",
       "<table border=\"1\" class=\"dataframe\">\n",
       "  <thead>\n",
       "    <tr style=\"text-align: right;\">\n",
       "      <th>month</th>\n",
       "      <th>1</th>\n",
       "      <th>2</th>\n",
       "      <th>3</th>\n",
       "      <th>4</th>\n",
       "      <th>5</th>\n",
       "      <th>6</th>\n",
       "      <th>7</th>\n",
       "      <th>8</th>\n",
       "      <th>9</th>\n",
       "      <th>10</th>\n",
       "      <th>11</th>\n",
       "      <th>12</th>\n",
       "    </tr>\n",
       "    <tr>\n",
       "      <th>user_id</th>\n",
       "      <th></th>\n",
       "      <th></th>\n",
       "      <th></th>\n",
       "      <th></th>\n",
       "      <th></th>\n",
       "      <th></th>\n",
       "      <th></th>\n",
       "      <th></th>\n",
       "      <th></th>\n",
       "      <th></th>\n",
       "      <th></th>\n",
       "      <th></th>\n",
       "    </tr>\n",
       "  </thead>\n",
       "  <tbody>\n",
       "    <tr>\n",
       "      <th>1000</th>\n",
       "      <td>NaN</td>\n",
       "      <td>NaN</td>\n",
       "      <td>NaN</td>\n",
       "      <td>NaN</td>\n",
       "      <td>2253.49</td>\n",
       "      <td>23233.77</td>\n",
       "      <td>14003.64</td>\n",
       "      <td>14055.93</td>\n",
       "      <td>14568.91</td>\n",
       "      <td>14702.49</td>\n",
       "      <td>14756.47</td>\n",
       "      <td>9817.61</td>\n",
       "    </tr>\n",
       "    <tr>\n",
       "      <th>1001</th>\n",
       "      <td>NaN</td>\n",
       "      <td>NaN</td>\n",
       "      <td>NaN</td>\n",
       "      <td>NaN</td>\n",
       "      <td>NaN</td>\n",
       "      <td>NaN</td>\n",
       "      <td>NaN</td>\n",
       "      <td>NaN</td>\n",
       "      <td>NaN</td>\n",
       "      <td>NaN</td>\n",
       "      <td>18429.34</td>\n",
       "      <td>14036.66</td>\n",
       "    </tr>\n",
       "    <tr>\n",
       "      <th>1002</th>\n",
       "      <td>NaN</td>\n",
       "      <td>NaN</td>\n",
       "      <td>NaN</td>\n",
       "      <td>NaN</td>\n",
       "      <td>NaN</td>\n",
       "      <td>10856.82</td>\n",
       "      <td>17580.10</td>\n",
       "      <td>20319.26</td>\n",
       "      <td>16691.08</td>\n",
       "      <td>13888.25</td>\n",
       "      <td>18587.28</td>\n",
       "      <td>18113.73</td>\n",
       "    </tr>\n",
       "    <tr>\n",
       "      <th>1003</th>\n",
       "      <td>NaN</td>\n",
       "      <td>NaN</td>\n",
       "      <td>NaN</td>\n",
       "      <td>NaN</td>\n",
       "      <td>NaN</td>\n",
       "      <td>NaN</td>\n",
       "      <td>NaN</td>\n",
       "      <td>8565.21</td>\n",
       "      <td>12468.87</td>\n",
       "      <td>14768.14</td>\n",
       "      <td>11356.89</td>\n",
       "      <td>10121.53</td>\n",
       "    </tr>\n",
       "    <tr>\n",
       "      <th>1004</th>\n",
       "      <td>NaN</td>\n",
       "      <td>NaN</td>\n",
       "      <td>NaN</td>\n",
       "      <td>NaN</td>\n",
       "      <td>13403.98</td>\n",
       "      <td>17600.02</td>\n",
       "      <td>22229.58</td>\n",
       "      <td>28584.37</td>\n",
       "      <td>15109.03</td>\n",
       "      <td>18475.44</td>\n",
       "      <td>15616.02</td>\n",
       "      <td>18021.04</td>\n",
       "    </tr>\n",
       "  </tbody>\n",
       "</table>\n",
       "</div>"
      ],
      "text/plain": [
       "month    1   2   3   4         5         6         7         8         9   \\\n",
       "user_id                                                                     \n",
       "1000    NaN NaN NaN NaN   2253.49  23233.77  14003.64  14055.93  14568.91   \n",
       "1001    NaN NaN NaN NaN       NaN       NaN       NaN       NaN       NaN   \n",
       "1002    NaN NaN NaN NaN       NaN  10856.82  17580.10  20319.26  16691.08   \n",
       "1003    NaN NaN NaN NaN       NaN       NaN       NaN   8565.21  12468.87   \n",
       "1004    NaN NaN NaN NaN  13403.98  17600.02  22229.58  28584.37  15109.03   \n",
       "\n",
       "month          10        11        12  \n",
       "user_id                                \n",
       "1000     14702.49  14756.47   9817.61  \n",
       "1001          NaN  18429.34  14036.66  \n",
       "1002     13888.25  18587.28  18113.73  \n",
       "1003     14768.14  11356.89  10121.53  \n",
       "1004     18475.44  15616.02  18021.04  "
      ]
     },
     "execution_count": 26,
     "metadata": {},
     "output_type": "execute_result"
    }
   ],
   "source": [
    "# Объём трафика в гигабайтах\n",
    "internet_pivot_gb = pd.pivot_table(internet_df,\n",
    "                                      values='mb_used',\n",
    "                             index='user_id',\n",
    "                             columns='month',\n",
    "                             aggfunc='sum'\n",
    "                             )\n",
    "internet_pivot_gb.head()"
   ]
  },
  {
   "cell_type": "markdown",
   "metadata": {
    "id": "0ALfQeDeicXq"
   },
   "source": [
    "Для вычисления помесячной выручки каждого пользователя удобнее будет предварительно расположить месяцы по строкам, создав многоуровневую сводную таблицу."
   ]
  },
  {
   "cell_type": "code",
   "execution_count": 27,
   "metadata": {
    "colab": {
     "base_uri": "https://localhost:8080/",
     "height": 424
    },
    "id": "i5SoV5gKicje",
    "outputId": "86cd8d66-b51e-4918-ea19-77466c47685c"
   },
   "outputs": [
    {
     "data": {
      "text/html": [
       "<div>\n",
       "<style scoped>\n",
       "    .dataframe tbody tr th:only-of-type {\n",
       "        vertical-align: middle;\n",
       "    }\n",
       "\n",
       "    .dataframe tbody tr th {\n",
       "        vertical-align: top;\n",
       "    }\n",
       "\n",
       "    .dataframe thead th {\n",
       "        text-align: right;\n",
       "    }\n",
       "</style>\n",
       "<table border=\"1\" class=\"dataframe\">\n",
       "  <thead>\n",
       "    <tr style=\"text-align: right;\">\n",
       "      <th></th>\n",
       "      <th>user_id</th>\n",
       "      <th>month</th>\n",
       "      <th>duration</th>\n",
       "    </tr>\n",
       "  </thead>\n",
       "  <tbody>\n",
       "    <tr>\n",
       "      <th>0</th>\n",
       "      <td>1000</td>\n",
       "      <td>5</td>\n",
       "      <td>159</td>\n",
       "    </tr>\n",
       "    <tr>\n",
       "      <th>1</th>\n",
       "      <td>1000</td>\n",
       "      <td>6</td>\n",
       "      <td>172</td>\n",
       "    </tr>\n",
       "    <tr>\n",
       "      <th>2</th>\n",
       "      <td>1000</td>\n",
       "      <td>7</td>\n",
       "      <td>340</td>\n",
       "    </tr>\n",
       "    <tr>\n",
       "      <th>3</th>\n",
       "      <td>1000</td>\n",
       "      <td>8</td>\n",
       "      <td>408</td>\n",
       "    </tr>\n",
       "    <tr>\n",
       "      <th>4</th>\n",
       "      <td>1000</td>\n",
       "      <td>9</td>\n",
       "      <td>466</td>\n",
       "    </tr>\n",
       "    <tr>\n",
       "      <th>...</th>\n",
       "      <td>...</td>\n",
       "      <td>...</td>\n",
       "      <td>...</td>\n",
       "    </tr>\n",
       "    <tr>\n",
       "      <th>3169</th>\n",
       "      <td>1498</td>\n",
       "      <td>10</td>\n",
       "      <td>247</td>\n",
       "    </tr>\n",
       "    <tr>\n",
       "      <th>3170</th>\n",
       "      <td>1499</td>\n",
       "      <td>9</td>\n",
       "      <td>70</td>\n",
       "    </tr>\n",
       "    <tr>\n",
       "      <th>3171</th>\n",
       "      <td>1499</td>\n",
       "      <td>10</td>\n",
       "      <td>449</td>\n",
       "    </tr>\n",
       "    <tr>\n",
       "      <th>3172</th>\n",
       "      <td>1499</td>\n",
       "      <td>11</td>\n",
       "      <td>612</td>\n",
       "    </tr>\n",
       "    <tr>\n",
       "      <th>3173</th>\n",
       "      <td>1499</td>\n",
       "      <td>12</td>\n",
       "      <td>492</td>\n",
       "    </tr>\n",
       "  </tbody>\n",
       "</table>\n",
       "<p>3174 rows × 3 columns</p>\n",
       "</div>"
      ],
      "text/plain": [
       "      user_id  month  duration\n",
       "0        1000      5       159\n",
       "1        1000      6       172\n",
       "2        1000      7       340\n",
       "3        1000      8       408\n",
       "4        1000      9       466\n",
       "...       ...    ...       ...\n",
       "3169     1498     10       247\n",
       "3170     1499      9        70\n",
       "3171     1499     10       449\n",
       "3172     1499     11       612\n",
       "3173     1499     12       492\n",
       "\n",
       "[3174 rows x 3 columns]"
      ]
     },
     "execution_count": 27,
     "metadata": {},
     "output_type": "execute_result"
    }
   ],
   "source": [
    "# Продолжительность звонков\n",
    "calls_durations = pd.pivot_table(calls_df,\n",
    "                                 values='duration',\n",
    "                                 index=['user_id', 'month'],\n",
    "                                 aggfunc='sum').reset_index() # reset_index превратил красивую многоуровневую сводную таблицу в обычную таблицу. Без него убирается столбец с месяцами при \".merge(users_df...\"\n",
    "\n",
    "calls_durations"
   ]
  },
  {
   "cell_type": "code",
   "execution_count": 28,
   "metadata": {
    "colab": {
     "base_uri": "https://localhost:8080/",
     "height": 424
    },
    "id": "-Go-F2glyOBM",
    "outputId": "5cfa7592-ce4a-4b91-f977-a44fdd9d30f0"
   },
   "outputs": [
    {
     "data": {
      "text/html": [
       "<div>\n",
       "<style scoped>\n",
       "    .dataframe tbody tr th:only-of-type {\n",
       "        vertical-align: middle;\n",
       "    }\n",
       "\n",
       "    .dataframe tbody tr th {\n",
       "        vertical-align: top;\n",
       "    }\n",
       "\n",
       "    .dataframe thead th {\n",
       "        text-align: right;\n",
       "    }\n",
       "</style>\n",
       "<table border=\"1\" class=\"dataframe\">\n",
       "  <thead>\n",
       "    <tr style=\"text-align: right;\">\n",
       "      <th></th>\n",
       "      <th>user_id</th>\n",
       "      <th>month</th>\n",
       "      <th>messages_id</th>\n",
       "    </tr>\n",
       "  </thead>\n",
       "  <tbody>\n",
       "    <tr>\n",
       "      <th>0</th>\n",
       "      <td>1000</td>\n",
       "      <td>5</td>\n",
       "      <td>22</td>\n",
       "    </tr>\n",
       "    <tr>\n",
       "      <th>1</th>\n",
       "      <td>1000</td>\n",
       "      <td>6</td>\n",
       "      <td>60</td>\n",
       "    </tr>\n",
       "    <tr>\n",
       "      <th>2</th>\n",
       "      <td>1000</td>\n",
       "      <td>7</td>\n",
       "      <td>75</td>\n",
       "    </tr>\n",
       "    <tr>\n",
       "      <th>3</th>\n",
       "      <td>1000</td>\n",
       "      <td>8</td>\n",
       "      <td>81</td>\n",
       "    </tr>\n",
       "    <tr>\n",
       "      <th>4</th>\n",
       "      <td>1000</td>\n",
       "      <td>9</td>\n",
       "      <td>57</td>\n",
       "    </tr>\n",
       "    <tr>\n",
       "      <th>...</th>\n",
       "      <td>...</td>\n",
       "      <td>...</td>\n",
       "      <td>...</td>\n",
       "    </tr>\n",
       "    <tr>\n",
       "      <th>2712</th>\n",
       "      <td>1498</td>\n",
       "      <td>10</td>\n",
       "      <td>42</td>\n",
       "    </tr>\n",
       "    <tr>\n",
       "      <th>2713</th>\n",
       "      <td>1499</td>\n",
       "      <td>9</td>\n",
       "      <td>11</td>\n",
       "    </tr>\n",
       "    <tr>\n",
       "      <th>2714</th>\n",
       "      <td>1499</td>\n",
       "      <td>10</td>\n",
       "      <td>48</td>\n",
       "    </tr>\n",
       "    <tr>\n",
       "      <th>2715</th>\n",
       "      <td>1499</td>\n",
       "      <td>11</td>\n",
       "      <td>59</td>\n",
       "    </tr>\n",
       "    <tr>\n",
       "      <th>2716</th>\n",
       "      <td>1499</td>\n",
       "      <td>12</td>\n",
       "      <td>66</td>\n",
       "    </tr>\n",
       "  </tbody>\n",
       "</table>\n",
       "<p>2717 rows × 3 columns</p>\n",
       "</div>"
      ],
      "text/plain": [
       "      user_id  month  messages_id\n",
       "0        1000      5           22\n",
       "1        1000      6           60\n",
       "2        1000      7           75\n",
       "3        1000      8           81\n",
       "4        1000      9           57\n",
       "...       ...    ...          ...\n",
       "2712     1498     10           42\n",
       "2713     1499      9           11\n",
       "2714     1499     10           48\n",
       "2715     1499     11           59\n",
       "2716     1499     12           66\n",
       "\n",
       "[2717 rows x 3 columns]"
      ]
     },
     "execution_count": 28,
     "metadata": {},
     "output_type": "execute_result"
    }
   ],
   "source": [
    "# Количество смс\n",
    "messages_count = pd.pivot_table(messages_df,\n",
    "                                values='messages_id',\n",
    "                                index=['user_id', 'month'],\n",
    "                                aggfunc='count').reset_index()\n",
    "\n",
    "messages_count"
   ]
  },
  {
   "cell_type": "code",
   "execution_count": 29,
   "metadata": {
    "colab": {
     "base_uri": "https://localhost:8080/",
     "height": 424
    },
    "id": "fR9HDh7jyOJT",
    "outputId": "1b48a624-e697-4632-8186-2deb60877884"
   },
   "outputs": [
    {
     "data": {
      "text/html": [
       "<div>\n",
       "<style scoped>\n",
       "    .dataframe tbody tr th:only-of-type {\n",
       "        vertical-align: middle;\n",
       "    }\n",
       "\n",
       "    .dataframe tbody tr th {\n",
       "        vertical-align: top;\n",
       "    }\n",
       "\n",
       "    .dataframe thead th {\n",
       "        text-align: right;\n",
       "    }\n",
       "</style>\n",
       "<table border=\"1\" class=\"dataframe\">\n",
       "  <thead>\n",
       "    <tr style=\"text-align: right;\">\n",
       "      <th></th>\n",
       "      <th>user_id</th>\n",
       "      <th>month</th>\n",
       "      <th>mb_used</th>\n",
       "      <th>gb_used</th>\n",
       "    </tr>\n",
       "  </thead>\n",
       "  <tbody>\n",
       "    <tr>\n",
       "      <th>0</th>\n",
       "      <td>1000</td>\n",
       "      <td>5</td>\n",
       "      <td>2253.49</td>\n",
       "      <td>3</td>\n",
       "    </tr>\n",
       "    <tr>\n",
       "      <th>1</th>\n",
       "      <td>1000</td>\n",
       "      <td>6</td>\n",
       "      <td>23233.77</td>\n",
       "      <td>23</td>\n",
       "    </tr>\n",
       "    <tr>\n",
       "      <th>2</th>\n",
       "      <td>1000</td>\n",
       "      <td>7</td>\n",
       "      <td>14003.64</td>\n",
       "      <td>14</td>\n",
       "    </tr>\n",
       "    <tr>\n",
       "      <th>3</th>\n",
       "      <td>1000</td>\n",
       "      <td>8</td>\n",
       "      <td>14055.93</td>\n",
       "      <td>14</td>\n",
       "    </tr>\n",
       "    <tr>\n",
       "      <th>4</th>\n",
       "      <td>1000</td>\n",
       "      <td>9</td>\n",
       "      <td>14568.91</td>\n",
       "      <td>15</td>\n",
       "    </tr>\n",
       "    <tr>\n",
       "      <th>...</th>\n",
       "      <td>...</td>\n",
       "      <td>...</td>\n",
       "      <td>...</td>\n",
       "      <td>...</td>\n",
       "    </tr>\n",
       "    <tr>\n",
       "      <th>3198</th>\n",
       "      <td>1498</td>\n",
       "      <td>10</td>\n",
       "      <td>20579.36</td>\n",
       "      <td>21</td>\n",
       "    </tr>\n",
       "    <tr>\n",
       "      <th>3199</th>\n",
       "      <td>1499</td>\n",
       "      <td>9</td>\n",
       "      <td>1845.75</td>\n",
       "      <td>2</td>\n",
       "    </tr>\n",
       "    <tr>\n",
       "      <th>3200</th>\n",
       "      <td>1499</td>\n",
       "      <td>10</td>\n",
       "      <td>17788.51</td>\n",
       "      <td>18</td>\n",
       "    </tr>\n",
       "    <tr>\n",
       "      <th>3201</th>\n",
       "      <td>1499</td>\n",
       "      <td>11</td>\n",
       "      <td>17963.31</td>\n",
       "      <td>18</td>\n",
       "    </tr>\n",
       "    <tr>\n",
       "      <th>3202</th>\n",
       "      <td>1499</td>\n",
       "      <td>12</td>\n",
       "      <td>13055.58</td>\n",
       "      <td>13</td>\n",
       "    </tr>\n",
       "  </tbody>\n",
       "</table>\n",
       "<p>3203 rows × 4 columns</p>\n",
       "</div>"
      ],
      "text/plain": [
       "      user_id  month   mb_used  gb_used\n",
       "0        1000      5   2253.49        3\n",
       "1        1000      6  23233.77       23\n",
       "2        1000      7  14003.64       14\n",
       "3        1000      8  14055.93       14\n",
       "4        1000      9  14568.91       15\n",
       "...       ...    ...       ...      ...\n",
       "3198     1498     10  20579.36       21\n",
       "3199     1499      9   1845.75        2\n",
       "3200     1499     10  17788.51       18\n",
       "3201     1499     11  17963.31       18\n",
       "3202     1499     12  13055.58       13\n",
       "\n",
       "[3203 rows x 4 columns]"
      ]
     },
     "execution_count": 29,
     "metadata": {},
     "output_type": "execute_result"
    }
   ],
   "source": [
    "# Использованный трафик\n",
    "traffic_count = pd.pivot_table(internet_df,\n",
    "                                values='mb_used',\n",
    "                                index=['user_id', 'month'],\n",
    "                                aggfunc='sum').reset_index()\n",
    "\n",
    "traffic_count['gb_used'] = traffic_count['mb_used'] / 1024\n",
    "traffic_count['gb_used'] = np.ceil(traffic_count['gb_used']).astype('int')\n",
    "\n",
    "traffic_count"
   ]
  },
  {
   "cell_type": "markdown",
   "metadata": {
    "id": "IfBxSzVImopA"
   },
   "source": [
    "Объединим полученные значения в одну таблицу по месяцам для каждого пользователя, утончнив тариф."
   ]
  },
  {
   "cell_type": "code",
   "execution_count": 30,
   "metadata": {
    "colab": {
     "base_uri": "https://localhost:8080/",
     "height": 661
    },
    "id": "I28NSEwCzZ9S",
    "outputId": "ec6bf2d1-ee16-4ce5-8f3e-3505968c0dba"
   },
   "outputs": [
    {
     "data": {
      "text/html": [
       "<div>\n",
       "<style scoped>\n",
       "    .dataframe tbody tr th:only-of-type {\n",
       "        vertical-align: middle;\n",
       "    }\n",
       "\n",
       "    .dataframe tbody tr th {\n",
       "        vertical-align: top;\n",
       "    }\n",
       "\n",
       "    .dataframe thead th {\n",
       "        text-align: right;\n",
       "    }\n",
       "</style>\n",
       "<table border=\"1\" class=\"dataframe\">\n",
       "  <thead>\n",
       "    <tr style=\"text-align: right;\">\n",
       "      <th></th>\n",
       "      <th>user_id</th>\n",
       "      <th>month</th>\n",
       "      <th>duration</th>\n",
       "      <th>messages_id</th>\n",
       "      <th>mb_used</th>\n",
       "      <th>gb_used</th>\n",
       "      <th>age</th>\n",
       "      <th>churn_date</th>\n",
       "      <th>city</th>\n",
       "      <th>first_name</th>\n",
       "      <th>last_name</th>\n",
       "      <th>reg_date</th>\n",
       "      <th>tariff_name</th>\n",
       "      <th>messages_included</th>\n",
       "      <th>mb_per_month_included</th>\n",
       "      <th>minutes_included</th>\n",
       "      <th>rub_monthly_fee</th>\n",
       "      <th>rub_per_gb</th>\n",
       "      <th>rub_per_message</th>\n",
       "      <th>rub_per_minute</th>\n",
       "    </tr>\n",
       "  </thead>\n",
       "  <tbody>\n",
       "    <tr>\n",
       "      <th>0</th>\n",
       "      <td>1000</td>\n",
       "      <td>5</td>\n",
       "      <td>159.0</td>\n",
       "      <td>22.0</td>\n",
       "      <td>2253.49</td>\n",
       "      <td>3.0</td>\n",
       "      <td>52</td>\n",
       "      <td>NaT</td>\n",
       "      <td>Краснодар</td>\n",
       "      <td>Рафаил</td>\n",
       "      <td>Верещагин</td>\n",
       "      <td>2018-05-25</td>\n",
       "      <td>ultra</td>\n",
       "      <td>1000</td>\n",
       "      <td>30720</td>\n",
       "      <td>3000</td>\n",
       "      <td>1950</td>\n",
       "      <td>150</td>\n",
       "      <td>1</td>\n",
       "      <td>1</td>\n",
       "    </tr>\n",
       "    <tr>\n",
       "      <th>1</th>\n",
       "      <td>1000</td>\n",
       "      <td>6</td>\n",
       "      <td>172.0</td>\n",
       "      <td>60.0</td>\n",
       "      <td>23233.77</td>\n",
       "      <td>23.0</td>\n",
       "      <td>52</td>\n",
       "      <td>NaT</td>\n",
       "      <td>Краснодар</td>\n",
       "      <td>Рафаил</td>\n",
       "      <td>Верещагин</td>\n",
       "      <td>2018-05-25</td>\n",
       "      <td>ultra</td>\n",
       "      <td>1000</td>\n",
       "      <td>30720</td>\n",
       "      <td>3000</td>\n",
       "      <td>1950</td>\n",
       "      <td>150</td>\n",
       "      <td>1</td>\n",
       "      <td>1</td>\n",
       "    </tr>\n",
       "    <tr>\n",
       "      <th>2</th>\n",
       "      <td>1000</td>\n",
       "      <td>7</td>\n",
       "      <td>340.0</td>\n",
       "      <td>75.0</td>\n",
       "      <td>14003.64</td>\n",
       "      <td>14.0</td>\n",
       "      <td>52</td>\n",
       "      <td>NaT</td>\n",
       "      <td>Краснодар</td>\n",
       "      <td>Рафаил</td>\n",
       "      <td>Верещагин</td>\n",
       "      <td>2018-05-25</td>\n",
       "      <td>ultra</td>\n",
       "      <td>1000</td>\n",
       "      <td>30720</td>\n",
       "      <td>3000</td>\n",
       "      <td>1950</td>\n",
       "      <td>150</td>\n",
       "      <td>1</td>\n",
       "      <td>1</td>\n",
       "    </tr>\n",
       "    <tr>\n",
       "      <th>3</th>\n",
       "      <td>1000</td>\n",
       "      <td>8</td>\n",
       "      <td>408.0</td>\n",
       "      <td>81.0</td>\n",
       "      <td>14055.93</td>\n",
       "      <td>14.0</td>\n",
       "      <td>52</td>\n",
       "      <td>NaT</td>\n",
       "      <td>Краснодар</td>\n",
       "      <td>Рафаил</td>\n",
       "      <td>Верещагин</td>\n",
       "      <td>2018-05-25</td>\n",
       "      <td>ultra</td>\n",
       "      <td>1000</td>\n",
       "      <td>30720</td>\n",
       "      <td>3000</td>\n",
       "      <td>1950</td>\n",
       "      <td>150</td>\n",
       "      <td>1</td>\n",
       "      <td>1</td>\n",
       "    </tr>\n",
       "    <tr>\n",
       "      <th>4</th>\n",
       "      <td>1000</td>\n",
       "      <td>9</td>\n",
       "      <td>466.0</td>\n",
       "      <td>57.0</td>\n",
       "      <td>14568.91</td>\n",
       "      <td>15.0</td>\n",
       "      <td>52</td>\n",
       "      <td>NaT</td>\n",
       "      <td>Краснодар</td>\n",
       "      <td>Рафаил</td>\n",
       "      <td>Верещагин</td>\n",
       "      <td>2018-05-25</td>\n",
       "      <td>ultra</td>\n",
       "      <td>1000</td>\n",
       "      <td>30720</td>\n",
       "      <td>3000</td>\n",
       "      <td>1950</td>\n",
       "      <td>150</td>\n",
       "      <td>1</td>\n",
       "      <td>1</td>\n",
       "    </tr>\n",
       "    <tr>\n",
       "      <th>...</th>\n",
       "      <td>...</td>\n",
       "      <td>...</td>\n",
       "      <td>...</td>\n",
       "      <td>...</td>\n",
       "      <td>...</td>\n",
       "      <td>...</td>\n",
       "      <td>...</td>\n",
       "      <td>...</td>\n",
       "      <td>...</td>\n",
       "      <td>...</td>\n",
       "      <td>...</td>\n",
       "      <td>...</td>\n",
       "      <td>...</td>\n",
       "      <td>...</td>\n",
       "      <td>...</td>\n",
       "      <td>...</td>\n",
       "      <td>...</td>\n",
       "      <td>...</td>\n",
       "      <td>...</td>\n",
       "      <td>...</td>\n",
       "    </tr>\n",
       "    <tr>\n",
       "      <th>3169</th>\n",
       "      <td>1498</td>\n",
       "      <td>10</td>\n",
       "      <td>247.0</td>\n",
       "      <td>42.0</td>\n",
       "      <td>20579.36</td>\n",
       "      <td>21.0</td>\n",
       "      <td>68</td>\n",
       "      <td>2018-10-25</td>\n",
       "      <td>Владикавказ</td>\n",
       "      <td>Всеволод</td>\n",
       "      <td>Акимчин</td>\n",
       "      <td>2018-07-19</td>\n",
       "      <td>smart</td>\n",
       "      <td>50</td>\n",
       "      <td>15360</td>\n",
       "      <td>500</td>\n",
       "      <td>550</td>\n",
       "      <td>200</td>\n",
       "      <td>3</td>\n",
       "      <td>3</td>\n",
       "    </tr>\n",
       "    <tr>\n",
       "      <th>3170</th>\n",
       "      <td>1499</td>\n",
       "      <td>9</td>\n",
       "      <td>70.0</td>\n",
       "      <td>11.0</td>\n",
       "      <td>1845.75</td>\n",
       "      <td>2.0</td>\n",
       "      <td>35</td>\n",
       "      <td>NaT</td>\n",
       "      <td>Пермь</td>\n",
       "      <td>Гектор</td>\n",
       "      <td>Корнилов</td>\n",
       "      <td>2018-09-27</td>\n",
       "      <td>smart</td>\n",
       "      <td>50</td>\n",
       "      <td>15360</td>\n",
       "      <td>500</td>\n",
       "      <td>550</td>\n",
       "      <td>200</td>\n",
       "      <td>3</td>\n",
       "      <td>3</td>\n",
       "    </tr>\n",
       "    <tr>\n",
       "      <th>3171</th>\n",
       "      <td>1499</td>\n",
       "      <td>10</td>\n",
       "      <td>449.0</td>\n",
       "      <td>48.0</td>\n",
       "      <td>17788.51</td>\n",
       "      <td>18.0</td>\n",
       "      <td>35</td>\n",
       "      <td>NaT</td>\n",
       "      <td>Пермь</td>\n",
       "      <td>Гектор</td>\n",
       "      <td>Корнилов</td>\n",
       "      <td>2018-09-27</td>\n",
       "      <td>smart</td>\n",
       "      <td>50</td>\n",
       "      <td>15360</td>\n",
       "      <td>500</td>\n",
       "      <td>550</td>\n",
       "      <td>200</td>\n",
       "      <td>3</td>\n",
       "      <td>3</td>\n",
       "    </tr>\n",
       "    <tr>\n",
       "      <th>3172</th>\n",
       "      <td>1499</td>\n",
       "      <td>11</td>\n",
       "      <td>612.0</td>\n",
       "      <td>59.0</td>\n",
       "      <td>17963.31</td>\n",
       "      <td>18.0</td>\n",
       "      <td>35</td>\n",
       "      <td>NaT</td>\n",
       "      <td>Пермь</td>\n",
       "      <td>Гектор</td>\n",
       "      <td>Корнилов</td>\n",
       "      <td>2018-09-27</td>\n",
       "      <td>smart</td>\n",
       "      <td>50</td>\n",
       "      <td>15360</td>\n",
       "      <td>500</td>\n",
       "      <td>550</td>\n",
       "      <td>200</td>\n",
       "      <td>3</td>\n",
       "      <td>3</td>\n",
       "    </tr>\n",
       "    <tr>\n",
       "      <th>3173</th>\n",
       "      <td>1499</td>\n",
       "      <td>12</td>\n",
       "      <td>492.0</td>\n",
       "      <td>66.0</td>\n",
       "      <td>13055.58</td>\n",
       "      <td>13.0</td>\n",
       "      <td>35</td>\n",
       "      <td>NaT</td>\n",
       "      <td>Пермь</td>\n",
       "      <td>Гектор</td>\n",
       "      <td>Корнилов</td>\n",
       "      <td>2018-09-27</td>\n",
       "      <td>smart</td>\n",
       "      <td>50</td>\n",
       "      <td>15360</td>\n",
       "      <td>500</td>\n",
       "      <td>550</td>\n",
       "      <td>200</td>\n",
       "      <td>3</td>\n",
       "      <td>3</td>\n",
       "    </tr>\n",
       "  </tbody>\n",
       "</table>\n",
       "<p>3214 rows × 20 columns</p>\n",
       "</div>"
      ],
      "text/plain": [
       "      user_id  month  duration  messages_id   mb_used  gb_used  age  \\\n",
       "0        1000      5     159.0         22.0   2253.49      3.0   52   \n",
       "1        1000      6     172.0         60.0  23233.77     23.0   52   \n",
       "2        1000      7     340.0         75.0  14003.64     14.0   52   \n",
       "3        1000      8     408.0         81.0  14055.93     14.0   52   \n",
       "4        1000      9     466.0         57.0  14568.91     15.0   52   \n",
       "...       ...    ...       ...          ...       ...      ...  ...   \n",
       "3169     1498     10     247.0         42.0  20579.36     21.0   68   \n",
       "3170     1499      9      70.0         11.0   1845.75      2.0   35   \n",
       "3171     1499     10     449.0         48.0  17788.51     18.0   35   \n",
       "3172     1499     11     612.0         59.0  17963.31     18.0   35   \n",
       "3173     1499     12     492.0         66.0  13055.58     13.0   35   \n",
       "\n",
       "     churn_date         city first_name  last_name   reg_date tariff_name  \\\n",
       "0           NaT    Краснодар     Рафаил  Верещагин 2018-05-25       ultra   \n",
       "1           NaT    Краснодар     Рафаил  Верещагин 2018-05-25       ultra   \n",
       "2           NaT    Краснодар     Рафаил  Верещагин 2018-05-25       ultra   \n",
       "3           NaT    Краснодар     Рафаил  Верещагин 2018-05-25       ultra   \n",
       "4           NaT    Краснодар     Рафаил  Верещагин 2018-05-25       ultra   \n",
       "...         ...          ...        ...        ...        ...         ...   \n",
       "3169 2018-10-25  Владикавказ   Всеволод    Акимчин 2018-07-19       smart   \n",
       "3170        NaT        Пермь     Гектор   Корнилов 2018-09-27       smart   \n",
       "3171        NaT        Пермь     Гектор   Корнилов 2018-09-27       smart   \n",
       "3172        NaT        Пермь     Гектор   Корнилов 2018-09-27       smart   \n",
       "3173        NaT        Пермь     Гектор   Корнилов 2018-09-27       smart   \n",
       "\n",
       "      messages_included  mb_per_month_included  minutes_included  \\\n",
       "0                  1000                  30720              3000   \n",
       "1                  1000                  30720              3000   \n",
       "2                  1000                  30720              3000   \n",
       "3                  1000                  30720              3000   \n",
       "4                  1000                  30720              3000   \n",
       "...                 ...                    ...               ...   \n",
       "3169                 50                  15360               500   \n",
       "3170                 50                  15360               500   \n",
       "3171                 50                  15360               500   \n",
       "3172                 50                  15360               500   \n",
       "3173                 50                  15360               500   \n",
       "\n",
       "      rub_monthly_fee  rub_per_gb  rub_per_message  rub_per_minute  \n",
       "0                1950         150                1               1  \n",
       "1                1950         150                1               1  \n",
       "2                1950         150                1               1  \n",
       "3                1950         150                1               1  \n",
       "4                1950         150                1               1  \n",
       "...               ...         ...              ...             ...  \n",
       "3169              550         200                3               3  \n",
       "3170              550         200                3               3  \n",
       "3171              550         200                3               3  \n",
       "3172              550         200                3               3  \n",
       "3173              550         200                3               3  \n",
       "\n",
       "[3214 rows x 20 columns]"
      ]
     },
     "execution_count": 30,
     "metadata": {},
     "output_type": "execute_result"
    }
   ],
   "source": [
    "total_df = calls_durations.merge(messages_count, on=['user_id', 'month'], how='outer')\n",
    "total_df = total_df.merge(traffic_count, on=['user_id', 'month'], how='outer')\n",
    "total_df = total_df.merge(users_df, on='user_id', how='left')\n",
    "total_df = total_df.merge(tarrifs_df, on='tariff_name', how='left')\n",
    "# Из-за пустых значений в смс и звонках у некоторых пользователей  сбилась сортировка по id и месяцам, исправляем\n",
    "total_df = total_df.sort_values(by=['user_id', 'month'])\n",
    "\n",
    "total_df"
   ]
  },
  {
   "cell_type": "code",
   "execution_count": 31,
   "metadata": {
    "colab": {
     "base_uri": "https://localhost:8080/",
     "height": 522
    },
    "id": "CIiXa-P1zaFD",
    "outputId": "9c5e699b-8007-46e3-a627-abc1d8d7e3fd"
   },
   "outputs": [
    {
     "data": {
      "text/html": [
       "<div>\n",
       "<style scoped>\n",
       "    .dataframe tbody tr th:only-of-type {\n",
       "        vertical-align: middle;\n",
       "    }\n",
       "\n",
       "    .dataframe tbody tr th {\n",
       "        vertical-align: top;\n",
       "    }\n",
       "\n",
       "    .dataframe thead th {\n",
       "        text-align: right;\n",
       "    }\n",
       "</style>\n",
       "<table border=\"1\" class=\"dataframe\">\n",
       "  <thead>\n",
       "    <tr style=\"text-align: right;\">\n",
       "      <th></th>\n",
       "      <th>user_id</th>\n",
       "      <th>month</th>\n",
       "      <th>duration</th>\n",
       "      <th>messages_id</th>\n",
       "      <th>mb_used</th>\n",
       "      <th>gb_used</th>\n",
       "      <th>city</th>\n",
       "      <th>tariff_name</th>\n",
       "      <th>messages_included</th>\n",
       "      <th>mb_per_month_included</th>\n",
       "      <th>minutes_included</th>\n",
       "      <th>rub_monthly_fee</th>\n",
       "      <th>rub_per_gb</th>\n",
       "      <th>rub_per_message</th>\n",
       "      <th>rub_per_minute</th>\n",
       "    </tr>\n",
       "  </thead>\n",
       "  <tbody>\n",
       "    <tr>\n",
       "      <th>0</th>\n",
       "      <td>1000</td>\n",
       "      <td>5</td>\n",
       "      <td>159.0</td>\n",
       "      <td>22.0</td>\n",
       "      <td>2253.49</td>\n",
       "      <td>3.0</td>\n",
       "      <td>Краснодар</td>\n",
       "      <td>ultra</td>\n",
       "      <td>1000</td>\n",
       "      <td>30720</td>\n",
       "      <td>3000</td>\n",
       "      <td>1950</td>\n",
       "      <td>150</td>\n",
       "      <td>1</td>\n",
       "      <td>1</td>\n",
       "    </tr>\n",
       "    <tr>\n",
       "      <th>1</th>\n",
       "      <td>1000</td>\n",
       "      <td>6</td>\n",
       "      <td>172.0</td>\n",
       "      <td>60.0</td>\n",
       "      <td>23233.77</td>\n",
       "      <td>23.0</td>\n",
       "      <td>Краснодар</td>\n",
       "      <td>ultra</td>\n",
       "      <td>1000</td>\n",
       "      <td>30720</td>\n",
       "      <td>3000</td>\n",
       "      <td>1950</td>\n",
       "      <td>150</td>\n",
       "      <td>1</td>\n",
       "      <td>1</td>\n",
       "    </tr>\n",
       "    <tr>\n",
       "      <th>2</th>\n",
       "      <td>1000</td>\n",
       "      <td>7</td>\n",
       "      <td>340.0</td>\n",
       "      <td>75.0</td>\n",
       "      <td>14003.64</td>\n",
       "      <td>14.0</td>\n",
       "      <td>Краснодар</td>\n",
       "      <td>ultra</td>\n",
       "      <td>1000</td>\n",
       "      <td>30720</td>\n",
       "      <td>3000</td>\n",
       "      <td>1950</td>\n",
       "      <td>150</td>\n",
       "      <td>1</td>\n",
       "      <td>1</td>\n",
       "    </tr>\n",
       "    <tr>\n",
       "      <th>3</th>\n",
       "      <td>1000</td>\n",
       "      <td>8</td>\n",
       "      <td>408.0</td>\n",
       "      <td>81.0</td>\n",
       "      <td>14055.93</td>\n",
       "      <td>14.0</td>\n",
       "      <td>Краснодар</td>\n",
       "      <td>ultra</td>\n",
       "      <td>1000</td>\n",
       "      <td>30720</td>\n",
       "      <td>3000</td>\n",
       "      <td>1950</td>\n",
       "      <td>150</td>\n",
       "      <td>1</td>\n",
       "      <td>1</td>\n",
       "    </tr>\n",
       "    <tr>\n",
       "      <th>4</th>\n",
       "      <td>1000</td>\n",
       "      <td>9</td>\n",
       "      <td>466.0</td>\n",
       "      <td>57.0</td>\n",
       "      <td>14568.91</td>\n",
       "      <td>15.0</td>\n",
       "      <td>Краснодар</td>\n",
       "      <td>ultra</td>\n",
       "      <td>1000</td>\n",
       "      <td>30720</td>\n",
       "      <td>3000</td>\n",
       "      <td>1950</td>\n",
       "      <td>150</td>\n",
       "      <td>1</td>\n",
       "      <td>1</td>\n",
       "    </tr>\n",
       "    <tr>\n",
       "      <th>...</th>\n",
       "      <td>...</td>\n",
       "      <td>...</td>\n",
       "      <td>...</td>\n",
       "      <td>...</td>\n",
       "      <td>...</td>\n",
       "      <td>...</td>\n",
       "      <td>...</td>\n",
       "      <td>...</td>\n",
       "      <td>...</td>\n",
       "      <td>...</td>\n",
       "      <td>...</td>\n",
       "      <td>...</td>\n",
       "      <td>...</td>\n",
       "      <td>...</td>\n",
       "      <td>...</td>\n",
       "    </tr>\n",
       "    <tr>\n",
       "      <th>3169</th>\n",
       "      <td>1498</td>\n",
       "      <td>10</td>\n",
       "      <td>247.0</td>\n",
       "      <td>42.0</td>\n",
       "      <td>20579.36</td>\n",
       "      <td>21.0</td>\n",
       "      <td>Владикавказ</td>\n",
       "      <td>smart</td>\n",
       "      <td>50</td>\n",
       "      <td>15360</td>\n",
       "      <td>500</td>\n",
       "      <td>550</td>\n",
       "      <td>200</td>\n",
       "      <td>3</td>\n",
       "      <td>3</td>\n",
       "    </tr>\n",
       "    <tr>\n",
       "      <th>3170</th>\n",
       "      <td>1499</td>\n",
       "      <td>9</td>\n",
       "      <td>70.0</td>\n",
       "      <td>11.0</td>\n",
       "      <td>1845.75</td>\n",
       "      <td>2.0</td>\n",
       "      <td>Пермь</td>\n",
       "      <td>smart</td>\n",
       "      <td>50</td>\n",
       "      <td>15360</td>\n",
       "      <td>500</td>\n",
       "      <td>550</td>\n",
       "      <td>200</td>\n",
       "      <td>3</td>\n",
       "      <td>3</td>\n",
       "    </tr>\n",
       "    <tr>\n",
       "      <th>3171</th>\n",
       "      <td>1499</td>\n",
       "      <td>10</td>\n",
       "      <td>449.0</td>\n",
       "      <td>48.0</td>\n",
       "      <td>17788.51</td>\n",
       "      <td>18.0</td>\n",
       "      <td>Пермь</td>\n",
       "      <td>smart</td>\n",
       "      <td>50</td>\n",
       "      <td>15360</td>\n",
       "      <td>500</td>\n",
       "      <td>550</td>\n",
       "      <td>200</td>\n",
       "      <td>3</td>\n",
       "      <td>3</td>\n",
       "    </tr>\n",
       "    <tr>\n",
       "      <th>3172</th>\n",
       "      <td>1499</td>\n",
       "      <td>11</td>\n",
       "      <td>612.0</td>\n",
       "      <td>59.0</td>\n",
       "      <td>17963.31</td>\n",
       "      <td>18.0</td>\n",
       "      <td>Пермь</td>\n",
       "      <td>smart</td>\n",
       "      <td>50</td>\n",
       "      <td>15360</td>\n",
       "      <td>500</td>\n",
       "      <td>550</td>\n",
       "      <td>200</td>\n",
       "      <td>3</td>\n",
       "      <td>3</td>\n",
       "    </tr>\n",
       "    <tr>\n",
       "      <th>3173</th>\n",
       "      <td>1499</td>\n",
       "      <td>12</td>\n",
       "      <td>492.0</td>\n",
       "      <td>66.0</td>\n",
       "      <td>13055.58</td>\n",
       "      <td>13.0</td>\n",
       "      <td>Пермь</td>\n",
       "      <td>smart</td>\n",
       "      <td>50</td>\n",
       "      <td>15360</td>\n",
       "      <td>500</td>\n",
       "      <td>550</td>\n",
       "      <td>200</td>\n",
       "      <td>3</td>\n",
       "      <td>3</td>\n",
       "    </tr>\n",
       "  </tbody>\n",
       "</table>\n",
       "<p>3214 rows × 15 columns</p>\n",
       "</div>"
      ],
      "text/plain": [
       "      user_id  month  duration  messages_id   mb_used  gb_used         city  \\\n",
       "0        1000      5     159.0         22.0   2253.49      3.0    Краснодар   \n",
       "1        1000      6     172.0         60.0  23233.77     23.0    Краснодар   \n",
       "2        1000      7     340.0         75.0  14003.64     14.0    Краснодар   \n",
       "3        1000      8     408.0         81.0  14055.93     14.0    Краснодар   \n",
       "4        1000      9     466.0         57.0  14568.91     15.0    Краснодар   \n",
       "...       ...    ...       ...          ...       ...      ...          ...   \n",
       "3169     1498     10     247.0         42.0  20579.36     21.0  Владикавказ   \n",
       "3170     1499      9      70.0         11.0   1845.75      2.0        Пермь   \n",
       "3171     1499     10     449.0         48.0  17788.51     18.0        Пермь   \n",
       "3172     1499     11     612.0         59.0  17963.31     18.0        Пермь   \n",
       "3173     1499     12     492.0         66.0  13055.58     13.0        Пермь   \n",
       "\n",
       "     tariff_name  messages_included  mb_per_month_included  minutes_included  \\\n",
       "0          ultra               1000                  30720              3000   \n",
       "1          ultra               1000                  30720              3000   \n",
       "2          ultra               1000                  30720              3000   \n",
       "3          ultra               1000                  30720              3000   \n",
       "4          ultra               1000                  30720              3000   \n",
       "...          ...                ...                    ...               ...   \n",
       "3169       smart                 50                  15360               500   \n",
       "3170       smart                 50                  15360               500   \n",
       "3171       smart                 50                  15360               500   \n",
       "3172       smart                 50                  15360               500   \n",
       "3173       smart                 50                  15360               500   \n",
       "\n",
       "      rub_monthly_fee  rub_per_gb  rub_per_message  rub_per_minute  \n",
       "0                1950         150                1               1  \n",
       "1                1950         150                1               1  \n",
       "2                1950         150                1               1  \n",
       "3                1950         150                1               1  \n",
       "4                1950         150                1               1  \n",
       "...               ...         ...              ...             ...  \n",
       "3169              550         200                3               3  \n",
       "3170              550         200                3               3  \n",
       "3171              550         200                3               3  \n",
       "3172              550         200                3               3  \n",
       "3173              550         200                3               3  \n",
       "\n",
       "[3214 rows x 15 columns]"
      ]
     },
     "execution_count": 31,
     "metadata": {},
     "output_type": "execute_result"
    }
   ],
   "source": [
    "# Очистим таблицу от ненужных для расчёта столбцов. Ненужных меньше, чем нужных, поэтому удаление будет короче. 'city' оставляем для проверки гипотезы\n",
    "total_df_cleared = total_df.drop(['age', 'churn_date', 'first_name', 'last_name', 'reg_date'], 1)\n",
    "total_df_cleared"
   ]
  },
  {
   "cell_type": "markdown",
   "metadata": {
    "id": "pw7RcNgm9OyE"
   },
   "source": [
    "В процессе объединения таблиц в некоторых столбцах появились пустые значения, если пользователь не использует звонки, смс и интернет в одном месяце. Заполним пропуски нулями."
   ]
  },
  {
   "cell_type": "code",
   "execution_count": 32,
   "metadata": {
    "colab": {
     "base_uri": "https://localhost:8080/"
    },
    "id": "jeS9aSW78xdo",
    "outputId": "025f1dc4-f47a-40a6-9dde-7ddc1b3a4620"
   },
   "outputs": [
    {
     "data": {
      "text/plain": [
       "user_id                  0\n",
       "month                    0\n",
       "duration                 0\n",
       "messages_id              0\n",
       "mb_used                  0\n",
       "gb_used                  0\n",
       "city                     0\n",
       "tariff_name              0\n",
       "messages_included        0\n",
       "mb_per_month_included    0\n",
       "minutes_included         0\n",
       "rub_monthly_fee          0\n",
       "rub_per_gb               0\n",
       "rub_per_message          0\n",
       "rub_per_minute           0\n",
       "dtype: int64"
      ]
     },
     "execution_count": 32,
     "metadata": {},
     "output_type": "execute_result"
    }
   ],
   "source": [
    "total_df_cleared['duration'] = total_df_cleared['duration'].fillna(0)\n",
    "total_df_cleared['mb_used'] = total_df_cleared['mb_used'].fillna(0)\n",
    "total_df_cleared['gb_used'] = total_df_cleared['gb_used'].fillna(0)\n",
    "total_df_cleared['messages_id'] = total_df_cleared['messages_id'].fillna(0)\n",
    "total_df_cleared.isna().sum()"
   ]
  },
  {
   "cell_type": "markdown",
   "metadata": {
    "id": "9YaMnnaSmoqx"
   },
   "source": [
    "Так как в датафрейме уже есть столбцы с лимитами и стоимостями, остаётся написать функцию, которая пересчитает затраты сверх лимита."
   ]
  },
  {
   "cell_type": "code",
   "execution_count": 33,
   "metadata": {
    "id": "BlFS-ieY_Ge1"
   },
   "outputs": [],
   "source": [
    "def over_payment(row):\n",
    "  total = 0\n",
    "  if row['minutes_included'] < row['duration']:\n",
    "    total += (row['duration'] - row['minutes_included']) * row['rub_per_minute']\n",
    "  if row['messages_included'] < row['messages_id']:\n",
    "    total += (row['messages_id'] - row['messages_included']) * row['rub_per_message']\n",
    "  if row['mb_per_month_included'] / 1024 < row['gb_used']:\n",
    "    total += (row['gb_used'] - row['mb_per_month_included'] / 1024) * row['rub_per_gb']\n",
    "  return total"
   ]
  },
  {
   "cell_type": "code",
   "execution_count": 34,
   "metadata": {
    "colab": {
     "base_uri": "https://localhost:8080/",
     "height": 758
    },
    "id": "3eYcm8vM_Ggu",
    "outputId": "2a6e4fcc-7110-4bc2-eb66-f17c72d7ee42"
   },
   "outputs": [
    {
     "data": {
      "text/html": [
       "<div>\n",
       "<style scoped>\n",
       "    .dataframe tbody tr th:only-of-type {\n",
       "        vertical-align: middle;\n",
       "    }\n",
       "\n",
       "    .dataframe tbody tr th {\n",
       "        vertical-align: top;\n",
       "    }\n",
       "\n",
       "    .dataframe thead th {\n",
       "        text-align: right;\n",
       "    }\n",
       "</style>\n",
       "<table border=\"1\" class=\"dataframe\">\n",
       "  <thead>\n",
       "    <tr style=\"text-align: right;\">\n",
       "      <th></th>\n",
       "      <th>user_id</th>\n",
       "      <th>month</th>\n",
       "      <th>duration</th>\n",
       "      <th>messages_id</th>\n",
       "      <th>mb_used</th>\n",
       "      <th>gb_used</th>\n",
       "      <th>city</th>\n",
       "      <th>tariff_name</th>\n",
       "      <th>messages_included</th>\n",
       "      <th>mb_per_month_included</th>\n",
       "      <th>minutes_included</th>\n",
       "      <th>rub_monthly_fee</th>\n",
       "      <th>rub_per_gb</th>\n",
       "      <th>rub_per_message</th>\n",
       "      <th>rub_per_minute</th>\n",
       "      <th>over_payment</th>\n",
       "      <th>total_amount</th>\n",
       "    </tr>\n",
       "  </thead>\n",
       "  <tbody>\n",
       "    <tr>\n",
       "      <th>1270</th>\n",
       "      <td>1201</td>\n",
       "      <td>9</td>\n",
       "      <td>1045.0</td>\n",
       "      <td>0.0</td>\n",
       "      <td>12196.55</td>\n",
       "      <td>12.0</td>\n",
       "      <td>Москва</td>\n",
       "      <td>ultra</td>\n",
       "      <td>1000</td>\n",
       "      <td>30720</td>\n",
       "      <td>3000</td>\n",
       "      <td>1950</td>\n",
       "      <td>150</td>\n",
       "      <td>1</td>\n",
       "      <td>1</td>\n",
       "      <td>0.0</td>\n",
       "      <td>1950.0</td>\n",
       "    </tr>\n",
       "    <tr>\n",
       "      <th>349</th>\n",
       "      <td>1055</td>\n",
       "      <td>9</td>\n",
       "      <td>465.0</td>\n",
       "      <td>31.0</td>\n",
       "      <td>18811.52</td>\n",
       "      <td>19.0</td>\n",
       "      <td>Казань</td>\n",
       "      <td>smart</td>\n",
       "      <td>50</td>\n",
       "      <td>15360</td>\n",
       "      <td>500</td>\n",
       "      <td>550</td>\n",
       "      <td>200</td>\n",
       "      <td>3</td>\n",
       "      <td>3</td>\n",
       "      <td>800.0</td>\n",
       "      <td>1350.0</td>\n",
       "    </tr>\n",
       "    <tr>\n",
       "      <th>523</th>\n",
       "      <td>1083</td>\n",
       "      <td>7</td>\n",
       "      <td>414.0</td>\n",
       "      <td>47.0</td>\n",
       "      <td>17199.33</td>\n",
       "      <td>17.0</td>\n",
       "      <td>Сочи</td>\n",
       "      <td>smart</td>\n",
       "      <td>50</td>\n",
       "      <td>15360</td>\n",
       "      <td>500</td>\n",
       "      <td>550</td>\n",
       "      <td>200</td>\n",
       "      <td>3</td>\n",
       "      <td>3</td>\n",
       "      <td>400.0</td>\n",
       "      <td>950.0</td>\n",
       "    </tr>\n",
       "    <tr>\n",
       "      <th>53</th>\n",
       "      <td>1007</td>\n",
       "      <td>4</td>\n",
       "      <td>198.0</td>\n",
       "      <td>11.0</td>\n",
       "      <td>8022.76</td>\n",
       "      <td>8.0</td>\n",
       "      <td>Москва</td>\n",
       "      <td>smart</td>\n",
       "      <td>50</td>\n",
       "      <td>15360</td>\n",
       "      <td>500</td>\n",
       "      <td>550</td>\n",
       "      <td>200</td>\n",
       "      <td>3</td>\n",
       "      <td>3</td>\n",
       "      <td>0.0</td>\n",
       "      <td>550.0</td>\n",
       "    </tr>\n",
       "    <tr>\n",
       "      <th>1644</th>\n",
       "      <td>1264</td>\n",
       "      <td>6</td>\n",
       "      <td>464.0</td>\n",
       "      <td>17.0</td>\n",
       "      <td>13740.04</td>\n",
       "      <td>14.0</td>\n",
       "      <td>Хабаровск</td>\n",
       "      <td>smart</td>\n",
       "      <td>50</td>\n",
       "      <td>15360</td>\n",
       "      <td>500</td>\n",
       "      <td>550</td>\n",
       "      <td>200</td>\n",
       "      <td>3</td>\n",
       "      <td>3</td>\n",
       "      <td>0.0</td>\n",
       "      <td>550.0</td>\n",
       "    </tr>\n",
       "    <tr>\n",
       "      <th>1849</th>\n",
       "      <td>1294</td>\n",
       "      <td>12</td>\n",
       "      <td>261.0</td>\n",
       "      <td>23.0</td>\n",
       "      <td>27306.37</td>\n",
       "      <td>27.0</td>\n",
       "      <td>Владивосток</td>\n",
       "      <td>ultra</td>\n",
       "      <td>1000</td>\n",
       "      <td>30720</td>\n",
       "      <td>3000</td>\n",
       "      <td>1950</td>\n",
       "      <td>150</td>\n",
       "      <td>1</td>\n",
       "      <td>1</td>\n",
       "      <td>0.0</td>\n",
       "      <td>1950.0</td>\n",
       "    </tr>\n",
       "    <tr>\n",
       "      <th>2249</th>\n",
       "      <td>1360</td>\n",
       "      <td>8</td>\n",
       "      <td>771.0</td>\n",
       "      <td>0.0</td>\n",
       "      <td>8633.31</td>\n",
       "      <td>9.0</td>\n",
       "      <td>Санкт-Петербург</td>\n",
       "      <td>ultra</td>\n",
       "      <td>1000</td>\n",
       "      <td>30720</td>\n",
       "      <td>3000</td>\n",
       "      <td>1950</td>\n",
       "      <td>150</td>\n",
       "      <td>1</td>\n",
       "      <td>1</td>\n",
       "      <td>0.0</td>\n",
       "      <td>1950.0</td>\n",
       "    </tr>\n",
       "    <tr>\n",
       "      <th>2409</th>\n",
       "      <td>1382</td>\n",
       "      <td>6</td>\n",
       "      <td>681.0</td>\n",
       "      <td>74.0</td>\n",
       "      <td>7844.43</td>\n",
       "      <td>8.0</td>\n",
       "      <td>Самара</td>\n",
       "      <td>ultra</td>\n",
       "      <td>1000</td>\n",
       "      <td>30720</td>\n",
       "      <td>3000</td>\n",
       "      <td>1950</td>\n",
       "      <td>150</td>\n",
       "      <td>1</td>\n",
       "      <td>1</td>\n",
       "      <td>0.0</td>\n",
       "      <td>1950.0</td>\n",
       "    </tr>\n",
       "    <tr>\n",
       "      <th>1655</th>\n",
       "      <td>1265</td>\n",
       "      <td>10</td>\n",
       "      <td>130.0</td>\n",
       "      <td>6.0</td>\n",
       "      <td>2241.43</td>\n",
       "      <td>3.0</td>\n",
       "      <td>Омск</td>\n",
       "      <td>ultra</td>\n",
       "      <td>1000</td>\n",
       "      <td>30720</td>\n",
       "      <td>3000</td>\n",
       "      <td>1950</td>\n",
       "      <td>150</td>\n",
       "      <td>1</td>\n",
       "      <td>1</td>\n",
       "      <td>0.0</td>\n",
       "      <td>1950.0</td>\n",
       "    </tr>\n",
       "    <tr>\n",
       "      <th>1427</th>\n",
       "      <td>1226</td>\n",
       "      <td>11</td>\n",
       "      <td>122.0</td>\n",
       "      <td>83.0</td>\n",
       "      <td>11368.77</td>\n",
       "      <td>12.0</td>\n",
       "      <td>Новосибирск</td>\n",
       "      <td>ultra</td>\n",
       "      <td>1000</td>\n",
       "      <td>30720</td>\n",
       "      <td>3000</td>\n",
       "      <td>1950</td>\n",
       "      <td>150</td>\n",
       "      <td>1</td>\n",
       "      <td>1</td>\n",
       "      <td>0.0</td>\n",
       "      <td>1950.0</td>\n",
       "    </tr>\n",
       "    <tr>\n",
       "      <th>193</th>\n",
       "      <td>1030</td>\n",
       "      <td>8</td>\n",
       "      <td>426.0</td>\n",
       "      <td>97.0</td>\n",
       "      <td>12172.28</td>\n",
       "      <td>12.0</td>\n",
       "      <td>Махачкала</td>\n",
       "      <td>smart</td>\n",
       "      <td>50</td>\n",
       "      <td>15360</td>\n",
       "      <td>500</td>\n",
       "      <td>550</td>\n",
       "      <td>200</td>\n",
       "      <td>3</td>\n",
       "      <td>3</td>\n",
       "      <td>141.0</td>\n",
       "      <td>691.0</td>\n",
       "    </tr>\n",
       "    <tr>\n",
       "      <th>1376</th>\n",
       "      <td>1218</td>\n",
       "      <td>12</td>\n",
       "      <td>378.0</td>\n",
       "      <td>16.0</td>\n",
       "      <td>12283.42</td>\n",
       "      <td>12.0</td>\n",
       "      <td>Екатеринбург</td>\n",
       "      <td>smart</td>\n",
       "      <td>50</td>\n",
       "      <td>15360</td>\n",
       "      <td>500</td>\n",
       "      <td>550</td>\n",
       "      <td>200</td>\n",
       "      <td>3</td>\n",
       "      <td>3</td>\n",
       "      <td>0.0</td>\n",
       "      <td>550.0</td>\n",
       "    </tr>\n",
       "    <tr>\n",
       "      <th>2425</th>\n",
       "      <td>1384</td>\n",
       "      <td>10</td>\n",
       "      <td>667.0</td>\n",
       "      <td>1.0</td>\n",
       "      <td>25811.51</td>\n",
       "      <td>26.0</td>\n",
       "      <td>Нижний Новгород</td>\n",
       "      <td>smart</td>\n",
       "      <td>50</td>\n",
       "      <td>15360</td>\n",
       "      <td>500</td>\n",
       "      <td>550</td>\n",
       "      <td>200</td>\n",
       "      <td>3</td>\n",
       "      <td>3</td>\n",
       "      <td>2701.0</td>\n",
       "      <td>3251.0</td>\n",
       "    </tr>\n",
       "    <tr>\n",
       "      <th>2389</th>\n",
       "      <td>1380</td>\n",
       "      <td>8</td>\n",
       "      <td>629.0</td>\n",
       "      <td>26.0</td>\n",
       "      <td>33044.80</td>\n",
       "      <td>33.0</td>\n",
       "      <td>Ростов-на-Дону</td>\n",
       "      <td>ultra</td>\n",
       "      <td>1000</td>\n",
       "      <td>30720</td>\n",
       "      <td>3000</td>\n",
       "      <td>1950</td>\n",
       "      <td>150</td>\n",
       "      <td>1</td>\n",
       "      <td>1</td>\n",
       "      <td>450.0</td>\n",
       "      <td>2400.0</td>\n",
       "    </tr>\n",
       "    <tr>\n",
       "      <th>582</th>\n",
       "      <td>1093</td>\n",
       "      <td>11</td>\n",
       "      <td>843.0</td>\n",
       "      <td>76.0</td>\n",
       "      <td>18735.08</td>\n",
       "      <td>19.0</td>\n",
       "      <td>Санкт-Петербург</td>\n",
       "      <td>smart</td>\n",
       "      <td>50</td>\n",
       "      <td>15360</td>\n",
       "      <td>500</td>\n",
       "      <td>550</td>\n",
       "      <td>200</td>\n",
       "      <td>3</td>\n",
       "      <td>3</td>\n",
       "      <td>1907.0</td>\n",
       "      <td>2457.0</td>\n",
       "    </tr>\n",
       "    <tr>\n",
       "      <th>1590</th>\n",
       "      <td>1254</td>\n",
       "      <td>7</td>\n",
       "      <td>715.0</td>\n",
       "      <td>0.0</td>\n",
       "      <td>19981.19</td>\n",
       "      <td>20.0</td>\n",
       "      <td>Москва</td>\n",
       "      <td>ultra</td>\n",
       "      <td>1000</td>\n",
       "      <td>30720</td>\n",
       "      <td>3000</td>\n",
       "      <td>1950</td>\n",
       "      <td>150</td>\n",
       "      <td>1</td>\n",
       "      <td>1</td>\n",
       "      <td>0.0</td>\n",
       "      <td>1950.0</td>\n",
       "    </tr>\n",
       "    <tr>\n",
       "      <th>140</th>\n",
       "      <td>1019</td>\n",
       "      <td>9</td>\n",
       "      <td>519.0</td>\n",
       "      <td>21.0</td>\n",
       "      <td>16080.39</td>\n",
       "      <td>16.0</td>\n",
       "      <td>Томск</td>\n",
       "      <td>ultra</td>\n",
       "      <td>1000</td>\n",
       "      <td>30720</td>\n",
       "      <td>3000</td>\n",
       "      <td>1950</td>\n",
       "      <td>150</td>\n",
       "      <td>1</td>\n",
       "      <td>1</td>\n",
       "      <td>0.0</td>\n",
       "      <td>1950.0</td>\n",
       "    </tr>\n",
       "    <tr>\n",
       "      <th>1160</th>\n",
       "      <td>1183</td>\n",
       "      <td>12</td>\n",
       "      <td>564.0</td>\n",
       "      <td>46.0</td>\n",
       "      <td>16021.73</td>\n",
       "      <td>16.0</td>\n",
       "      <td>Владивосток</td>\n",
       "      <td>smart</td>\n",
       "      <td>50</td>\n",
       "      <td>15360</td>\n",
       "      <td>500</td>\n",
       "      <td>550</td>\n",
       "      <td>200</td>\n",
       "      <td>3</td>\n",
       "      <td>3</td>\n",
       "      <td>392.0</td>\n",
       "      <td>942.0</td>\n",
       "    </tr>\n",
       "    <tr>\n",
       "      <th>1301</th>\n",
       "      <td>1205</td>\n",
       "      <td>11</td>\n",
       "      <td>214.0</td>\n",
       "      <td>15.0</td>\n",
       "      <td>20097.50</td>\n",
       "      <td>20.0</td>\n",
       "      <td>Москва</td>\n",
       "      <td>smart</td>\n",
       "      <td>50</td>\n",
       "      <td>15360</td>\n",
       "      <td>500</td>\n",
       "      <td>550</td>\n",
       "      <td>200</td>\n",
       "      <td>3</td>\n",
       "      <td>3</td>\n",
       "      <td>1000.0</td>\n",
       "      <td>1550.0</td>\n",
       "    </tr>\n",
       "    <tr>\n",
       "      <th>2065</th>\n",
       "      <td>1330</td>\n",
       "      <td>7</td>\n",
       "      <td>652.0</td>\n",
       "      <td>76.0</td>\n",
       "      <td>28239.47</td>\n",
       "      <td>28.0</td>\n",
       "      <td>Нижний Новгород</td>\n",
       "      <td>ultra</td>\n",
       "      <td>1000</td>\n",
       "      <td>30720</td>\n",
       "      <td>3000</td>\n",
       "      <td>1950</td>\n",
       "      <td>150</td>\n",
       "      <td>1</td>\n",
       "      <td>1</td>\n",
       "      <td>0.0</td>\n",
       "      <td>1950.0</td>\n",
       "    </tr>\n",
       "  </tbody>\n",
       "</table>\n",
       "</div>"
      ],
      "text/plain": [
       "      user_id  month  duration  messages_id   mb_used  gb_used  \\\n",
       "1270     1201      9    1045.0          0.0  12196.55     12.0   \n",
       "349      1055      9     465.0         31.0  18811.52     19.0   \n",
       "523      1083      7     414.0         47.0  17199.33     17.0   \n",
       "53       1007      4     198.0         11.0   8022.76      8.0   \n",
       "1644     1264      6     464.0         17.0  13740.04     14.0   \n",
       "1849     1294     12     261.0         23.0  27306.37     27.0   \n",
       "2249     1360      8     771.0          0.0   8633.31      9.0   \n",
       "2409     1382      6     681.0         74.0   7844.43      8.0   \n",
       "1655     1265     10     130.0          6.0   2241.43      3.0   \n",
       "1427     1226     11     122.0         83.0  11368.77     12.0   \n",
       "193      1030      8     426.0         97.0  12172.28     12.0   \n",
       "1376     1218     12     378.0         16.0  12283.42     12.0   \n",
       "2425     1384     10     667.0          1.0  25811.51     26.0   \n",
       "2389     1380      8     629.0         26.0  33044.80     33.0   \n",
       "582      1093     11     843.0         76.0  18735.08     19.0   \n",
       "1590     1254      7     715.0          0.0  19981.19     20.0   \n",
       "140      1019      9     519.0         21.0  16080.39     16.0   \n",
       "1160     1183     12     564.0         46.0  16021.73     16.0   \n",
       "1301     1205     11     214.0         15.0  20097.50     20.0   \n",
       "2065     1330      7     652.0         76.0  28239.47     28.0   \n",
       "\n",
       "                 city tariff_name  messages_included  mb_per_month_included  \\\n",
       "1270           Москва       ultra               1000                  30720   \n",
       "349            Казань       smart                 50                  15360   \n",
       "523              Сочи       smart                 50                  15360   \n",
       "53             Москва       smart                 50                  15360   \n",
       "1644        Хабаровск       smart                 50                  15360   \n",
       "1849      Владивосток       ultra               1000                  30720   \n",
       "2249  Санкт-Петербург       ultra               1000                  30720   \n",
       "2409           Самара       ultra               1000                  30720   \n",
       "1655             Омск       ultra               1000                  30720   \n",
       "1427      Новосибирск       ultra               1000                  30720   \n",
       "193         Махачкала       smart                 50                  15360   \n",
       "1376     Екатеринбург       smart                 50                  15360   \n",
       "2425  Нижний Новгород       smart                 50                  15360   \n",
       "2389   Ростов-на-Дону       ultra               1000                  30720   \n",
       "582   Санкт-Петербург       smart                 50                  15360   \n",
       "1590           Москва       ultra               1000                  30720   \n",
       "140             Томск       ultra               1000                  30720   \n",
       "1160      Владивосток       smart                 50                  15360   \n",
       "1301           Москва       smart                 50                  15360   \n",
       "2065  Нижний Новгород       ultra               1000                  30720   \n",
       "\n",
       "      minutes_included  rub_monthly_fee  rub_per_gb  rub_per_message  \\\n",
       "1270              3000             1950         150                1   \n",
       "349                500              550         200                3   \n",
       "523                500              550         200                3   \n",
       "53                 500              550         200                3   \n",
       "1644               500              550         200                3   \n",
       "1849              3000             1950         150                1   \n",
       "2249              3000             1950         150                1   \n",
       "2409              3000             1950         150                1   \n",
       "1655              3000             1950         150                1   \n",
       "1427              3000             1950         150                1   \n",
       "193                500              550         200                3   \n",
       "1376               500              550         200                3   \n",
       "2425               500              550         200                3   \n",
       "2389              3000             1950         150                1   \n",
       "582                500              550         200                3   \n",
       "1590              3000             1950         150                1   \n",
       "140               3000             1950         150                1   \n",
       "1160               500              550         200                3   \n",
       "1301               500              550         200                3   \n",
       "2065              3000             1950         150                1   \n",
       "\n",
       "      rub_per_minute  over_payment  total_amount  \n",
       "1270               1           0.0        1950.0  \n",
       "349                3         800.0        1350.0  \n",
       "523                3         400.0         950.0  \n",
       "53                 3           0.0         550.0  \n",
       "1644               3           0.0         550.0  \n",
       "1849               1           0.0        1950.0  \n",
       "2249               1           0.0        1950.0  \n",
       "2409               1           0.0        1950.0  \n",
       "1655               1           0.0        1950.0  \n",
       "1427               1           0.0        1950.0  \n",
       "193                3         141.0         691.0  \n",
       "1376               3           0.0         550.0  \n",
       "2425               3        2701.0        3251.0  \n",
       "2389               1         450.0        2400.0  \n",
       "582                3        1907.0        2457.0  \n",
       "1590               1           0.0        1950.0  \n",
       "140                1           0.0        1950.0  \n",
       "1160               3         392.0         942.0  \n",
       "1301               3        1000.0        1550.0  \n",
       "2065               1           0.0        1950.0  "
      ]
     },
     "execution_count": 34,
     "metadata": {},
     "output_type": "execute_result"
    }
   ],
   "source": [
    "# Создаём столбец со сверхлимитными затратами\n",
    "total_df_cleared['over_payment'] = total_df_cleared.apply(over_payment, 1)\n",
    "\n",
    "# Создаём столбец с итоговыми затратами\n",
    "total_df_cleared['total_amount'] = total_df_cleared['rub_monthly_fee'] + total_df_cleared['over_payment']\n",
    "total_df_cleared.sample(20)"
   ]
  },
  {
   "cell_type": "markdown",
   "metadata": {
    "id": "hyAyGxxWKqUW"
   },
   "source": [
    "**Вывод:**\n",
    "\n",
    "В результате подготовки данных создана сводная таблица с помесячной информацией о каждом пользователе, в том числе информацией об оплате сверх лимита и итоговой суммой."
   ]
  },
  {
   "cell_type": "markdown",
   "metadata": {
    "id": "EIgb9fIqV9C1"
   },
   "source": [
    "## Шаг 3. Анализ данных"
   ]
  },
  {
   "cell_type": "markdown",
   "metadata": {
    "id": "hvMhbgQAceaj"
   },
   "source": [
    "### Общее поведение клиентов"
   ]
  },
  {
   "cell_type": "markdown",
   "metadata": {
    "id": "VWj-PoXTJ54W"
   },
   "source": [
    "Рассмотрим поведение клиентов с разных сторон."
   ]
  },
  {
   "cell_type": "code",
   "execution_count": 35,
   "metadata": {
    "colab": {
     "base_uri": "https://localhost:8080/"
    },
    "id": "s3mubx2SMIM3",
    "outputId": "1b71b273-8d0c-4606-d206-206c4f60c794"
   },
   "outputs": [
    {
     "data": {
      "text/plain": [
       "smart    2229\n",
       "ultra     985\n",
       "Name: tariff_name, dtype: int64"
      ]
     },
     "execution_count": 35,
     "metadata": {},
     "output_type": "execute_result"
    }
   ],
   "source": [
    "total_df_cleared['tariff_name'].value_counts()"
   ]
  },
  {
   "cell_type": "markdown",
   "metadata": {
    "id": "CypzafhAL7an"
   },
   "source": [
    "Тарифом \"Смарт\" люди пользуются чаще."
   ]
  },
  {
   "cell_type": "markdown",
   "metadata": {
    "id": "PjUskWdPPL9F"
   },
   "source": [
    "Посмотрим на средние и медианные значения:"
   ]
  },
  {
   "cell_type": "code",
   "execution_count": 36,
   "metadata": {
    "colab": {
     "base_uri": "https://localhost:8080/",
     "height": 143
    },
    "id": "HID8ytfW_Gi9",
    "outputId": "0d546aca-2f03-4cdd-9dad-4d926c81b797"
   },
   "outputs": [
    {
     "data": {
      "text/html": [
       "<div>\n",
       "<style scoped>\n",
       "    .dataframe tbody tr th:only-of-type {\n",
       "        vertical-align: middle;\n",
       "    }\n",
       "\n",
       "    .dataframe tbody tr th {\n",
       "        vertical-align: top;\n",
       "    }\n",
       "\n",
       "    .dataframe thead th {\n",
       "        text-align: right;\n",
       "    }\n",
       "</style>\n",
       "<table border=\"1\" class=\"dataframe\">\n",
       "  <thead>\n",
       "    <tr style=\"text-align: right;\">\n",
       "      <th></th>\n",
       "      <th>duration</th>\n",
       "      <th>messages_id</th>\n",
       "      <th>gb_used</th>\n",
       "    </tr>\n",
       "    <tr>\n",
       "      <th>tariff_name</th>\n",
       "      <th></th>\n",
       "      <th></th>\n",
       "      <th></th>\n",
       "    </tr>\n",
       "  </thead>\n",
       "  <tbody>\n",
       "    <tr>\n",
       "      <th>smart</th>\n",
       "      <td>417.934948</td>\n",
       "      <td>33.384029</td>\n",
       "      <td>16.328847</td>\n",
       "    </tr>\n",
       "    <tr>\n",
       "      <th>ultra</th>\n",
       "      <td>526.623350</td>\n",
       "      <td>49.363452</td>\n",
       "      <td>19.494416</td>\n",
       "    </tr>\n",
       "  </tbody>\n",
       "</table>\n",
       "</div>"
      ],
      "text/plain": [
       "               duration  messages_id    gb_used\n",
       "tariff_name                                    \n",
       "smart        417.934948    33.384029  16.328847\n",
       "ultra        526.623350    49.363452  19.494416"
      ]
     },
     "execution_count": 36,
     "metadata": {},
     "output_type": "execute_result"
    }
   ],
   "source": [
    "means_by_tariff = total_df_cleared.groupby('tariff_name').agg({'duration': 'mean', 'messages_id': 'mean', 'gb_used': 'mean'})\n",
    "means_by_tariff"
   ]
  },
  {
   "cell_type": "code",
   "execution_count": 37,
   "metadata": {
    "colab": {
     "base_uri": "https://localhost:8080/",
     "height": 143
    },
    "id": "dK7EHGlQPhfe",
    "outputId": "c48260e6-484a-4f2c-8bb8-565fdccf0e8b"
   },
   "outputs": [
    {
     "data": {
      "text/html": [
       "<div>\n",
       "<style scoped>\n",
       "    .dataframe tbody tr th:only-of-type {\n",
       "        vertical-align: middle;\n",
       "    }\n",
       "\n",
       "    .dataframe tbody tr th {\n",
       "        vertical-align: top;\n",
       "    }\n",
       "\n",
       "    .dataframe thead th {\n",
       "        text-align: right;\n",
       "    }\n",
       "</style>\n",
       "<table border=\"1\" class=\"dataframe\">\n",
       "  <thead>\n",
       "    <tr style=\"text-align: right;\">\n",
       "      <th></th>\n",
       "      <th>duration</th>\n",
       "      <th>messages_id</th>\n",
       "      <th>gb_used</th>\n",
       "    </tr>\n",
       "    <tr>\n",
       "      <th>tariff_name</th>\n",
       "      <th></th>\n",
       "      <th></th>\n",
       "      <th></th>\n",
       "    </tr>\n",
       "  </thead>\n",
       "  <tbody>\n",
       "    <tr>\n",
       "      <th>smart</th>\n",
       "      <td>422.0</td>\n",
       "      <td>28.0</td>\n",
       "      <td>17.0</td>\n",
       "    </tr>\n",
       "    <tr>\n",
       "      <th>ultra</th>\n",
       "      <td>518.0</td>\n",
       "      <td>38.0</td>\n",
       "      <td>19.0</td>\n",
       "    </tr>\n",
       "  </tbody>\n",
       "</table>\n",
       "</div>"
      ],
      "text/plain": [
       "             duration  messages_id  gb_used\n",
       "tariff_name                                \n",
       "smart           422.0         28.0     17.0\n",
       "ultra           518.0         38.0     19.0"
      ]
     },
     "execution_count": 37,
     "metadata": {},
     "output_type": "execute_result"
    }
   ],
   "source": [
    "median_by_tariff = total_df_cleared.groupby('tariff_name').agg({'duration': 'median', 'messages_id': 'median', 'gb_used': 'median'})\n",
    "median_by_tariff"
   ]
  },
  {
   "cell_type": "markdown",
   "metadata": {
    "id": "Rc_Hf88DPqSG"
   },
   "source": [
    "Тариф \"Ультра\" включает в себя гораздо больше звонков, сообщений и интернета, но фактические отличия между тарифами не настолько велики. Проверим, действительно ли \"скупой платит дважды\". Выберем пользователей с тарифом \"Смарт\" и посчитаем, сколько они заплатили бы при подключении тарифа \"Ультра\"."
   ]
  },
  {
   "cell_type": "code",
   "execution_count": 38,
   "metadata": {
    "colab": {
     "base_uri": "https://localhost:8080/"
    },
    "id": "e4BIXN7JQjC2",
    "outputId": "4013d485-80a9-4105-d51a-26ba30f16c89"
   },
   "outputs": [
    {
     "data": {
      "text/plain": [
       "2875351.0"
      ]
     },
     "execution_count": 38,
     "metadata": {},
     "output_type": "execute_result"
    }
   ],
   "source": [
    "smart_df = total_df_cleared.query('tariff_name == \"smart\"').reset_index()\n",
    "smart_sum = smart_df['total_amount'].sum()\n",
    "smart_sum"
   ]
  },
  {
   "cell_type": "code",
   "execution_count": 39,
   "metadata": {
    "colab": {
     "base_uri": "https://localhost:8080/",
     "height": 444
    },
    "id": "5dos_5bsRaJp",
    "outputId": "52e433dd-516b-45f8-f430-ff5099d8080f"
   },
   "outputs": [
    {
     "data": {
      "text/html": [
       "<div>\n",
       "<style scoped>\n",
       "    .dataframe tbody tr th:only-of-type {\n",
       "        vertical-align: middle;\n",
       "    }\n",
       "\n",
       "    .dataframe tbody tr th {\n",
       "        vertical-align: top;\n",
       "    }\n",
       "\n",
       "    .dataframe thead th {\n",
       "        text-align: right;\n",
       "    }\n",
       "</style>\n",
       "<table border=\"1\" class=\"dataframe\">\n",
       "  <thead>\n",
       "    <tr style=\"text-align: right;\">\n",
       "      <th></th>\n",
       "      <th>index</th>\n",
       "      <th>user_id</th>\n",
       "      <th>month</th>\n",
       "      <th>duration</th>\n",
       "      <th>messages_id</th>\n",
       "      <th>mb_used</th>\n",
       "      <th>gb_used</th>\n",
       "      <th>city</th>\n",
       "      <th>tariff_name</th>\n",
       "      <th>messages_included</th>\n",
       "      <th>mb_per_month_included</th>\n",
       "      <th>minutes_included</th>\n",
       "      <th>rub_monthly_fee</th>\n",
       "      <th>rub_per_gb</th>\n",
       "      <th>rub_per_message</th>\n",
       "      <th>rub_per_minute</th>\n",
       "      <th>over_payment</th>\n",
       "      <th>total_amount</th>\n",
       "    </tr>\n",
       "  </thead>\n",
       "  <tbody>\n",
       "    <tr>\n",
       "      <th>0</th>\n",
       "      <td>8</td>\n",
       "      <td>1001</td>\n",
       "      <td>11</td>\n",
       "      <td>430.0</td>\n",
       "      <td>0.0</td>\n",
       "      <td>18429.34</td>\n",
       "      <td>18.0</td>\n",
       "      <td>Москва</td>\n",
       "      <td>ultra</td>\n",
       "      <td>1000</td>\n",
       "      <td>30720</td>\n",
       "      <td>3000</td>\n",
       "      <td>1950</td>\n",
       "      <td>150</td>\n",
       "      <td>1</td>\n",
       "      <td>1</td>\n",
       "      <td>0.0</td>\n",
       "      <td>1950.0</td>\n",
       "    </tr>\n",
       "    <tr>\n",
       "      <th>1</th>\n",
       "      <td>9</td>\n",
       "      <td>1001</td>\n",
       "      <td>12</td>\n",
       "      <td>414.0</td>\n",
       "      <td>0.0</td>\n",
       "      <td>14036.66</td>\n",
       "      <td>14.0</td>\n",
       "      <td>Москва</td>\n",
       "      <td>ultra</td>\n",
       "      <td>1000</td>\n",
       "      <td>30720</td>\n",
       "      <td>3000</td>\n",
       "      <td>1950</td>\n",
       "      <td>150</td>\n",
       "      <td>1</td>\n",
       "      <td>1</td>\n",
       "      <td>0.0</td>\n",
       "      <td>1950.0</td>\n",
       "    </tr>\n",
       "    <tr>\n",
       "      <th>2</th>\n",
       "      <td>10</td>\n",
       "      <td>1002</td>\n",
       "      <td>6</td>\n",
       "      <td>117.0</td>\n",
       "      <td>4.0</td>\n",
       "      <td>10856.82</td>\n",
       "      <td>11.0</td>\n",
       "      <td>Стерлитамак</td>\n",
       "      <td>ultra</td>\n",
       "      <td>1000</td>\n",
       "      <td>30720</td>\n",
       "      <td>3000</td>\n",
       "      <td>1950</td>\n",
       "      <td>150</td>\n",
       "      <td>1</td>\n",
       "      <td>1</td>\n",
       "      <td>0.0</td>\n",
       "      <td>1950.0</td>\n",
       "    </tr>\n",
       "    <tr>\n",
       "      <th>3</th>\n",
       "      <td>11</td>\n",
       "      <td>1002</td>\n",
       "      <td>7</td>\n",
       "      <td>214.0</td>\n",
       "      <td>11.0</td>\n",
       "      <td>17580.10</td>\n",
       "      <td>18.0</td>\n",
       "      <td>Стерлитамак</td>\n",
       "      <td>ultra</td>\n",
       "      <td>1000</td>\n",
       "      <td>30720</td>\n",
       "      <td>3000</td>\n",
       "      <td>1950</td>\n",
       "      <td>150</td>\n",
       "      <td>1</td>\n",
       "      <td>1</td>\n",
       "      <td>0.0</td>\n",
       "      <td>1950.0</td>\n",
       "    </tr>\n",
       "    <tr>\n",
       "      <th>4</th>\n",
       "      <td>12</td>\n",
       "      <td>1002</td>\n",
       "      <td>8</td>\n",
       "      <td>289.0</td>\n",
       "      <td>13.0</td>\n",
       "      <td>20319.26</td>\n",
       "      <td>20.0</td>\n",
       "      <td>Стерлитамак</td>\n",
       "      <td>ultra</td>\n",
       "      <td>1000</td>\n",
       "      <td>30720</td>\n",
       "      <td>3000</td>\n",
       "      <td>1950</td>\n",
       "      <td>150</td>\n",
       "      <td>1</td>\n",
       "      <td>1</td>\n",
       "      <td>0.0</td>\n",
       "      <td>1950.0</td>\n",
       "    </tr>\n",
       "    <tr>\n",
       "      <th>5</th>\n",
       "      <td>13</td>\n",
       "      <td>1002</td>\n",
       "      <td>9</td>\n",
       "      <td>206.0</td>\n",
       "      <td>4.0</td>\n",
       "      <td>16691.08</td>\n",
       "      <td>17.0</td>\n",
       "      <td>Стерлитамак</td>\n",
       "      <td>ultra</td>\n",
       "      <td>1000</td>\n",
       "      <td>30720</td>\n",
       "      <td>3000</td>\n",
       "      <td>1950</td>\n",
       "      <td>150</td>\n",
       "      <td>1</td>\n",
       "      <td>1</td>\n",
       "      <td>0.0</td>\n",
       "      <td>1950.0</td>\n",
       "    </tr>\n",
       "    <tr>\n",
       "      <th>6</th>\n",
       "      <td>14</td>\n",
       "      <td>1002</td>\n",
       "      <td>10</td>\n",
       "      <td>212.0</td>\n",
       "      <td>10.0</td>\n",
       "      <td>13888.25</td>\n",
       "      <td>14.0</td>\n",
       "      <td>Стерлитамак</td>\n",
       "      <td>ultra</td>\n",
       "      <td>1000</td>\n",
       "      <td>30720</td>\n",
       "      <td>3000</td>\n",
       "      <td>1950</td>\n",
       "      <td>150</td>\n",
       "      <td>1</td>\n",
       "      <td>1</td>\n",
       "      <td>0.0</td>\n",
       "      <td>1950.0</td>\n",
       "    </tr>\n",
       "    <tr>\n",
       "      <th>7</th>\n",
       "      <td>15</td>\n",
       "      <td>1002</td>\n",
       "      <td>11</td>\n",
       "      <td>243.0</td>\n",
       "      <td>16.0</td>\n",
       "      <td>18587.28</td>\n",
       "      <td>19.0</td>\n",
       "      <td>Стерлитамак</td>\n",
       "      <td>ultra</td>\n",
       "      <td>1000</td>\n",
       "      <td>30720</td>\n",
       "      <td>3000</td>\n",
       "      <td>1950</td>\n",
       "      <td>150</td>\n",
       "      <td>1</td>\n",
       "      <td>1</td>\n",
       "      <td>0.0</td>\n",
       "      <td>1950.0</td>\n",
       "    </tr>\n",
       "    <tr>\n",
       "      <th>8</th>\n",
       "      <td>16</td>\n",
       "      <td>1002</td>\n",
       "      <td>12</td>\n",
       "      <td>236.0</td>\n",
       "      <td>12.0</td>\n",
       "      <td>18113.73</td>\n",
       "      <td>18.0</td>\n",
       "      <td>Стерлитамак</td>\n",
       "      <td>ultra</td>\n",
       "      <td>1000</td>\n",
       "      <td>30720</td>\n",
       "      <td>3000</td>\n",
       "      <td>1950</td>\n",
       "      <td>150</td>\n",
       "      <td>1</td>\n",
       "      <td>1</td>\n",
       "      <td>0.0</td>\n",
       "      <td>1950.0</td>\n",
       "    </tr>\n",
       "    <tr>\n",
       "      <th>9</th>\n",
       "      <td>30</td>\n",
       "      <td>1005</td>\n",
       "      <td>1</td>\n",
       "      <td>95.0</td>\n",
       "      <td>7.0</td>\n",
       "      <td>2727.97</td>\n",
       "      <td>3.0</td>\n",
       "      <td>Набережные Челны</td>\n",
       "      <td>ultra</td>\n",
       "      <td>1000</td>\n",
       "      <td>30720</td>\n",
       "      <td>3000</td>\n",
       "      <td>1950</td>\n",
       "      <td>150</td>\n",
       "      <td>1</td>\n",
       "      <td>1</td>\n",
       "      <td>0.0</td>\n",
       "      <td>1950.0</td>\n",
       "    </tr>\n",
       "  </tbody>\n",
       "</table>\n",
       "</div>"
      ],
      "text/plain": [
       "   index  user_id  month  duration  messages_id   mb_used  gb_used  \\\n",
       "0      8     1001     11     430.0          0.0  18429.34     18.0   \n",
       "1      9     1001     12     414.0          0.0  14036.66     14.0   \n",
       "2     10     1002      6     117.0          4.0  10856.82     11.0   \n",
       "3     11     1002      7     214.0         11.0  17580.10     18.0   \n",
       "4     12     1002      8     289.0         13.0  20319.26     20.0   \n",
       "5     13     1002      9     206.0          4.0  16691.08     17.0   \n",
       "6     14     1002     10     212.0         10.0  13888.25     14.0   \n",
       "7     15     1002     11     243.0         16.0  18587.28     19.0   \n",
       "8     16     1002     12     236.0         12.0  18113.73     18.0   \n",
       "9     30     1005      1      95.0          7.0   2727.97      3.0   \n",
       "\n",
       "               city tariff_name  messages_included  mb_per_month_included  \\\n",
       "0            Москва       ultra               1000                  30720   \n",
       "1            Москва       ultra               1000                  30720   \n",
       "2       Стерлитамак       ultra               1000                  30720   \n",
       "3       Стерлитамак       ultra               1000                  30720   \n",
       "4       Стерлитамак       ultra               1000                  30720   \n",
       "5       Стерлитамак       ultra               1000                  30720   \n",
       "6       Стерлитамак       ultra               1000                  30720   \n",
       "7       Стерлитамак       ultra               1000                  30720   \n",
       "8       Стерлитамак       ultra               1000                  30720   \n",
       "9  Набережные Челны       ultra               1000                  30720   \n",
       "\n",
       "   minutes_included  rub_monthly_fee  rub_per_gb  rub_per_message  \\\n",
       "0              3000             1950         150                1   \n",
       "1              3000             1950         150                1   \n",
       "2              3000             1950         150                1   \n",
       "3              3000             1950         150                1   \n",
       "4              3000             1950         150                1   \n",
       "5              3000             1950         150                1   \n",
       "6              3000             1950         150                1   \n",
       "7              3000             1950         150                1   \n",
       "8              3000             1950         150                1   \n",
       "9              3000             1950         150                1   \n",
       "\n",
       "   rub_per_minute  over_payment  total_amount  \n",
       "0               1           0.0        1950.0  \n",
       "1               1           0.0        1950.0  \n",
       "2               1           0.0        1950.0  \n",
       "3               1           0.0        1950.0  \n",
       "4               1           0.0        1950.0  \n",
       "5               1           0.0        1950.0  \n",
       "6               1           0.0        1950.0  \n",
       "7               1           0.0        1950.0  \n",
       "8               1           0.0        1950.0  \n",
       "9               1           0.0        1950.0  "
      ]
     },
     "execution_count": 39,
     "metadata": {},
     "output_type": "execute_result"
    }
   ],
   "source": [
    "# Изменим тарифы на \"Ультра\" и применим функцию расчёта стоимости\n",
    "smart_df['tariff_name'] = 'ultra'\n",
    "smart_df['rub_monthly_fee'] = 1950\n",
    "smart_df['messages_included'] = 1000\n",
    "smart_df['minutes_included'] = 3000\n",
    "smart_df['mb_per_month_included'] = 30720\n",
    "smart_df['rub_per_message'] = 1\n",
    "smart_df['rub_per_minute'] = 1\n",
    "smart_df['rub_per_gb'] = 150\n",
    "\n",
    "smart_df['over_payment'] = smart_df.apply(over_payment, 1)\n",
    "\n",
    "smart_df['total_amount'] = smart_df['rub_monthly_fee'] + smart_df['over_payment']\n",
    "smart_df.head(10)"
   ]
  },
  {
   "cell_type": "code",
   "execution_count": 40,
   "metadata": {
    "colab": {
     "base_uri": "https://localhost:8080/"
    },
    "id": "TX85hT1FSXU3",
    "outputId": "d359dac0-d9cf-4568-9e6e-a99eb3771451"
   },
   "outputs": [
    {
     "name": "stdout",
     "output_type": "stream",
     "text": [
      "Всего пользователи тарифа \"Смарт\" переплатили -1480049.0 рублей. Более дешёвый тариф оказался на -34.0% дороже.\n"
     ]
    }
   ],
   "source": [
    "really_smart_sum = smart_df['total_amount'].sum()\n",
    "print(f'Всего пользователи тарифа \"Смарт\" переплатили {smart_sum - really_smart_sum} рублей. Более дешёвый тариф оказался на {(100/really_smart_sum*smart_sum-100).round(1)}% дороже.')\n"
   ]
  },
  {
   "cell_type": "markdown",
   "metadata": {
    "id": "2FRogcuxT-Te"
   },
   "source": [
    "Проверим обратное: переплатили ли пользователи тарифа \"Ультра\" за свой ошибочный выбор?"
   ]
  },
  {
   "cell_type": "code",
   "execution_count": 41,
   "metadata": {
    "colab": {
     "base_uri": "https://localhost:8080/"
    },
    "id": "EfSfuntpV1h2",
    "outputId": "11f6b015-fec9-4164-e55c-3db75200b66a"
   },
   "outputs": [
    {
     "data": {
      "text/plain": [
       "2039100.0"
      ]
     },
     "execution_count": 41,
     "metadata": {},
     "output_type": "execute_result"
    }
   ],
   "source": [
    "ultra_df = total_df_cleared.query('tariff_name == \"ultra\"').reset_index()\n",
    "ultra_sum = ultra_df['total_amount'].sum()\n",
    "ultra_sum"
   ]
  },
  {
   "cell_type": "code",
   "execution_count": 42,
   "metadata": {
    "colab": {
     "base_uri": "https://localhost:8080/",
     "height": 427
    },
    "id": "GAEDti__V_MB",
    "outputId": "17b89cbe-c8a7-458e-b551-92bf70eee013"
   },
   "outputs": [
    {
     "data": {
      "text/html": [
       "<div>\n",
       "<style scoped>\n",
       "    .dataframe tbody tr th:only-of-type {\n",
       "        vertical-align: middle;\n",
       "    }\n",
       "\n",
       "    .dataframe tbody tr th {\n",
       "        vertical-align: top;\n",
       "    }\n",
       "\n",
       "    .dataframe thead th {\n",
       "        text-align: right;\n",
       "    }\n",
       "</style>\n",
       "<table border=\"1\" class=\"dataframe\">\n",
       "  <thead>\n",
       "    <tr style=\"text-align: right;\">\n",
       "      <th></th>\n",
       "      <th>index</th>\n",
       "      <th>user_id</th>\n",
       "      <th>month</th>\n",
       "      <th>duration</th>\n",
       "      <th>messages_id</th>\n",
       "      <th>mb_used</th>\n",
       "      <th>gb_used</th>\n",
       "      <th>city</th>\n",
       "      <th>tariff_name</th>\n",
       "      <th>messages_included</th>\n",
       "      <th>mb_per_month_included</th>\n",
       "      <th>minutes_included</th>\n",
       "      <th>rub_monthly_fee</th>\n",
       "      <th>rub_per_gb</th>\n",
       "      <th>rub_per_message</th>\n",
       "      <th>rub_per_minute</th>\n",
       "      <th>over_payment</th>\n",
       "      <th>total_amount</th>\n",
       "    </tr>\n",
       "  </thead>\n",
       "  <tbody>\n",
       "    <tr>\n",
       "      <th>0</th>\n",
       "      <td>0</td>\n",
       "      <td>1000</td>\n",
       "      <td>5</td>\n",
       "      <td>159.0</td>\n",
       "      <td>22.0</td>\n",
       "      <td>2253.49</td>\n",
       "      <td>3.0</td>\n",
       "      <td>Краснодар</td>\n",
       "      <td>smart</td>\n",
       "      <td>50</td>\n",
       "      <td>15360</td>\n",
       "      <td>500</td>\n",
       "      <td>550</td>\n",
       "      <td>200</td>\n",
       "      <td>3</td>\n",
       "      <td>3</td>\n",
       "      <td>0.0</td>\n",
       "      <td>550.0</td>\n",
       "    </tr>\n",
       "    <tr>\n",
       "      <th>1</th>\n",
       "      <td>1</td>\n",
       "      <td>1000</td>\n",
       "      <td>6</td>\n",
       "      <td>172.0</td>\n",
       "      <td>60.0</td>\n",
       "      <td>23233.77</td>\n",
       "      <td>23.0</td>\n",
       "      <td>Краснодар</td>\n",
       "      <td>smart</td>\n",
       "      <td>50</td>\n",
       "      <td>15360</td>\n",
       "      <td>500</td>\n",
       "      <td>550</td>\n",
       "      <td>200</td>\n",
       "      <td>3</td>\n",
       "      <td>3</td>\n",
       "      <td>1630.0</td>\n",
       "      <td>2180.0</td>\n",
       "    </tr>\n",
       "    <tr>\n",
       "      <th>2</th>\n",
       "      <td>2</td>\n",
       "      <td>1000</td>\n",
       "      <td>7</td>\n",
       "      <td>340.0</td>\n",
       "      <td>75.0</td>\n",
       "      <td>14003.64</td>\n",
       "      <td>14.0</td>\n",
       "      <td>Краснодар</td>\n",
       "      <td>smart</td>\n",
       "      <td>50</td>\n",
       "      <td>15360</td>\n",
       "      <td>500</td>\n",
       "      <td>550</td>\n",
       "      <td>200</td>\n",
       "      <td>3</td>\n",
       "      <td>3</td>\n",
       "      <td>75.0</td>\n",
       "      <td>625.0</td>\n",
       "    </tr>\n",
       "    <tr>\n",
       "      <th>3</th>\n",
       "      <td>3</td>\n",
       "      <td>1000</td>\n",
       "      <td>8</td>\n",
       "      <td>408.0</td>\n",
       "      <td>81.0</td>\n",
       "      <td>14055.93</td>\n",
       "      <td>14.0</td>\n",
       "      <td>Краснодар</td>\n",
       "      <td>smart</td>\n",
       "      <td>50</td>\n",
       "      <td>15360</td>\n",
       "      <td>500</td>\n",
       "      <td>550</td>\n",
       "      <td>200</td>\n",
       "      <td>3</td>\n",
       "      <td>3</td>\n",
       "      <td>93.0</td>\n",
       "      <td>643.0</td>\n",
       "    </tr>\n",
       "    <tr>\n",
       "      <th>4</th>\n",
       "      <td>4</td>\n",
       "      <td>1000</td>\n",
       "      <td>9</td>\n",
       "      <td>466.0</td>\n",
       "      <td>57.0</td>\n",
       "      <td>14568.91</td>\n",
       "      <td>15.0</td>\n",
       "      <td>Краснодар</td>\n",
       "      <td>smart</td>\n",
       "      <td>50</td>\n",
       "      <td>15360</td>\n",
       "      <td>500</td>\n",
       "      <td>550</td>\n",
       "      <td>200</td>\n",
       "      <td>3</td>\n",
       "      <td>3</td>\n",
       "      <td>21.0</td>\n",
       "      <td>571.0</td>\n",
       "    </tr>\n",
       "    <tr>\n",
       "      <th>5</th>\n",
       "      <td>5</td>\n",
       "      <td>1000</td>\n",
       "      <td>10</td>\n",
       "      <td>350.0</td>\n",
       "      <td>73.0</td>\n",
       "      <td>14702.49</td>\n",
       "      <td>15.0</td>\n",
       "      <td>Краснодар</td>\n",
       "      <td>smart</td>\n",
       "      <td>50</td>\n",
       "      <td>15360</td>\n",
       "      <td>500</td>\n",
       "      <td>550</td>\n",
       "      <td>200</td>\n",
       "      <td>3</td>\n",
       "      <td>3</td>\n",
       "      <td>69.0</td>\n",
       "      <td>619.0</td>\n",
       "    </tr>\n",
       "    <tr>\n",
       "      <th>6</th>\n",
       "      <td>6</td>\n",
       "      <td>1000</td>\n",
       "      <td>11</td>\n",
       "      <td>338.0</td>\n",
       "      <td>58.0</td>\n",
       "      <td>14756.47</td>\n",
       "      <td>15.0</td>\n",
       "      <td>Краснодар</td>\n",
       "      <td>smart</td>\n",
       "      <td>50</td>\n",
       "      <td>15360</td>\n",
       "      <td>500</td>\n",
       "      <td>550</td>\n",
       "      <td>200</td>\n",
       "      <td>3</td>\n",
       "      <td>3</td>\n",
       "      <td>24.0</td>\n",
       "      <td>574.0</td>\n",
       "    </tr>\n",
       "    <tr>\n",
       "      <th>7</th>\n",
       "      <td>7</td>\n",
       "      <td>1000</td>\n",
       "      <td>12</td>\n",
       "      <td>333.0</td>\n",
       "      <td>70.0</td>\n",
       "      <td>9817.61</td>\n",
       "      <td>10.0</td>\n",
       "      <td>Краснодар</td>\n",
       "      <td>smart</td>\n",
       "      <td>50</td>\n",
       "      <td>15360</td>\n",
       "      <td>500</td>\n",
       "      <td>550</td>\n",
       "      <td>200</td>\n",
       "      <td>3</td>\n",
       "      <td>3</td>\n",
       "      <td>60.0</td>\n",
       "      <td>610.0</td>\n",
       "    </tr>\n",
       "    <tr>\n",
       "      <th>8</th>\n",
       "      <td>17</td>\n",
       "      <td>1003</td>\n",
       "      <td>8</td>\n",
       "      <td>380.0</td>\n",
       "      <td>37.0</td>\n",
       "      <td>8565.21</td>\n",
       "      <td>9.0</td>\n",
       "      <td>Москва</td>\n",
       "      <td>smart</td>\n",
       "      <td>50</td>\n",
       "      <td>15360</td>\n",
       "      <td>500</td>\n",
       "      <td>550</td>\n",
       "      <td>200</td>\n",
       "      <td>3</td>\n",
       "      <td>3</td>\n",
       "      <td>0.0</td>\n",
       "      <td>550.0</td>\n",
       "    </tr>\n",
       "    <tr>\n",
       "      <th>9</th>\n",
       "      <td>18</td>\n",
       "      <td>1003</td>\n",
       "      <td>9</td>\n",
       "      <td>961.0</td>\n",
       "      <td>91.0</td>\n",
       "      <td>12468.87</td>\n",
       "      <td>13.0</td>\n",
       "      <td>Москва</td>\n",
       "      <td>smart</td>\n",
       "      <td>50</td>\n",
       "      <td>15360</td>\n",
       "      <td>500</td>\n",
       "      <td>550</td>\n",
       "      <td>200</td>\n",
       "      <td>3</td>\n",
       "      <td>3</td>\n",
       "      <td>1506.0</td>\n",
       "      <td>2056.0</td>\n",
       "    </tr>\n",
       "  </tbody>\n",
       "</table>\n",
       "</div>"
      ],
      "text/plain": [
       "   index  user_id  month  duration  messages_id   mb_used  gb_used       city  \\\n",
       "0      0     1000      5     159.0         22.0   2253.49      3.0  Краснодар   \n",
       "1      1     1000      6     172.0         60.0  23233.77     23.0  Краснодар   \n",
       "2      2     1000      7     340.0         75.0  14003.64     14.0  Краснодар   \n",
       "3      3     1000      8     408.0         81.0  14055.93     14.0  Краснодар   \n",
       "4      4     1000      9     466.0         57.0  14568.91     15.0  Краснодар   \n",
       "5      5     1000     10     350.0         73.0  14702.49     15.0  Краснодар   \n",
       "6      6     1000     11     338.0         58.0  14756.47     15.0  Краснодар   \n",
       "7      7     1000     12     333.0         70.0   9817.61     10.0  Краснодар   \n",
       "8     17     1003      8     380.0         37.0   8565.21      9.0     Москва   \n",
       "9     18     1003      9     961.0         91.0  12468.87     13.0     Москва   \n",
       "\n",
       "  tariff_name  messages_included  mb_per_month_included  minutes_included  \\\n",
       "0       smart                 50                  15360               500   \n",
       "1       smart                 50                  15360               500   \n",
       "2       smart                 50                  15360               500   \n",
       "3       smart                 50                  15360               500   \n",
       "4       smart                 50                  15360               500   \n",
       "5       smart                 50                  15360               500   \n",
       "6       smart                 50                  15360               500   \n",
       "7       smart                 50                  15360               500   \n",
       "8       smart                 50                  15360               500   \n",
       "9       smart                 50                  15360               500   \n",
       "\n",
       "   rub_monthly_fee  rub_per_gb  rub_per_message  rub_per_minute  over_payment  \\\n",
       "0              550         200                3               3           0.0   \n",
       "1              550         200                3               3        1630.0   \n",
       "2              550         200                3               3          75.0   \n",
       "3              550         200                3               3          93.0   \n",
       "4              550         200                3               3          21.0   \n",
       "5              550         200                3               3          69.0   \n",
       "6              550         200                3               3          24.0   \n",
       "7              550         200                3               3          60.0   \n",
       "8              550         200                3               3           0.0   \n",
       "9              550         200                3               3        1506.0   \n",
       "\n",
       "   total_amount  \n",
       "0         550.0  \n",
       "1        2180.0  \n",
       "2         625.0  \n",
       "3         643.0  \n",
       "4         571.0  \n",
       "5         619.0  \n",
       "6         574.0  \n",
       "7         610.0  \n",
       "8         550.0  \n",
       "9        2056.0  "
      ]
     },
     "execution_count": 42,
     "metadata": {},
     "output_type": "execute_result"
    }
   ],
   "source": [
    "# Изменим тарифы на \"Смарт\" и применим функцию расчёта стоимости\n",
    "ultra_df['tariff_name'] = 'smart'\n",
    "ultra_df['rub_monthly_fee'] = 550\n",
    "ultra_df['messages_included'] = 50\n",
    "ultra_df['minutes_included'] = 500\n",
    "ultra_df['mb_per_month_included'] = 15360\n",
    "ultra_df['rub_per_message'] = 3\n",
    "ultra_df['rub_per_minute'] = 3\n",
    "ultra_df['rub_per_gb'] = 200\n",
    "ultra_df['over_payment'] = ultra_df.apply(over_payment, 1)\n",
    "\n",
    "ultra_df['total_amount'] = ultra_df['rub_monthly_fee'] + ultra_df['over_payment']\n",
    "ultra_df.head(10)"
   ]
  },
  {
   "cell_type": "code",
   "execution_count": 43,
   "metadata": {
    "colab": {
     "base_uri": "https://localhost:8080/"
    },
    "id": "daiuVq7dV1qY",
    "outputId": "2db9b9bf-dbca-4851-9d5d-70e67c0e6ef3"
   },
   "outputs": [
    {
     "name": "stdout",
     "output_type": "stream",
     "text": [
      "Всего пользователи тарифа \"Ультра\" переплатили -279668.0 рублей. Более дорогой тариф оказался на -12.1% дороже.\n"
     ]
    }
   ],
   "source": [
    "smart_ultra_sum = ultra_df['total_amount'].sum()\n",
    "print(f'Всего пользователи тарифа \"Ультра\" переплатили {ultra_sum - smart_ultra_sum} рублей. Более дорогой тариф оказался на {(100/smart_ultra_sum*ultra_sum-100).round(1)}% дороже.')"
   ]
  },
  {
   "cell_type": "markdown",
   "metadata": {
    "id": "v38KAfQcYo_0"
   },
   "source": [
    "**Промежуточный вывод:**\n",
    "\n",
    "Среднее количество использованных минут, сообщений и трафика незначительно различается между тарифами. Если количество сообщений и минут низкое и часто не превышает лимит, то средний объём трафика выше, чем включено в тарифный пакет.\n",
    "В среднем, пользователи не переплачивают по причине выбора невыгодного тарифа."
   ]
  },
  {
   "cell_type": "markdown",
   "metadata": {
    "id": "CMNHGInSciT-"
   },
   "source": [
    "### Изучение параметров данных, анализ потребностей клиентов"
   ]
  },
  {
   "cell_type": "markdown",
   "metadata": {
    "id": "FxoZDor2dI4q"
   },
   "source": [
    "Рассмотрим использование услуг клиентами."
   ]
  },
  {
   "cell_type": "code",
   "execution_count": 44,
   "metadata": {
    "id": "B8SEpcQoelF0"
   },
   "outputs": [],
   "source": [
    "# Запишем один раз набор параметров, которые необходимы. Ренее наблюдали, что медианы не так интересны в выбранном датафрейме: отличие от средней незначительное, кроме количества смс в тарифе \"Ультра\".\n",
    "agg_p = ['mean', 'var', 'std']"
   ]
  },
  {
   "cell_type": "code",
   "execution_count": 45,
   "metadata": {
    "colab": {
     "base_uri": "https://localhost:8080/",
     "height": 175
    },
    "id": "2obqW-zydWcI",
    "outputId": "8b699624-154d-4f79-fe47-21065d81115b"
   },
   "outputs": [
    {
     "data": {
      "text/html": [
       "<div>\n",
       "<style scoped>\n",
       "    .dataframe tbody tr th:only-of-type {\n",
       "        vertical-align: middle;\n",
       "    }\n",
       "\n",
       "    .dataframe tbody tr th {\n",
       "        vertical-align: top;\n",
       "    }\n",
       "\n",
       "    .dataframe thead tr th {\n",
       "        text-align: left;\n",
       "    }\n",
       "\n",
       "    .dataframe thead tr:last-of-type th {\n",
       "        text-align: right;\n",
       "    }\n",
       "</style>\n",
       "<table border=\"1\" class=\"dataframe\">\n",
       "  <thead>\n",
       "    <tr>\n",
       "      <th></th>\n",
       "      <th colspan=\"3\" halign=\"left\">duration</th>\n",
       "    </tr>\n",
       "    <tr>\n",
       "      <th></th>\n",
       "      <th>mean</th>\n",
       "      <th>var</th>\n",
       "      <th>std</th>\n",
       "    </tr>\n",
       "    <tr>\n",
       "      <th>tariff_name</th>\n",
       "      <th></th>\n",
       "      <th></th>\n",
       "      <th></th>\n",
       "    </tr>\n",
       "  </thead>\n",
       "  <tbody>\n",
       "    <tr>\n",
       "      <th>smart</th>\n",
       "      <td>417.934948</td>\n",
       "      <td>36219.315784</td>\n",
       "      <td>190.313730</td>\n",
       "    </tr>\n",
       "    <tr>\n",
       "      <th>ultra</th>\n",
       "      <td>526.623350</td>\n",
       "      <td>100873.633397</td>\n",
       "      <td>317.606098</td>\n",
       "    </tr>\n",
       "  </tbody>\n",
       "</table>\n",
       "</div>"
      ],
      "text/plain": [
       "               duration                           \n",
       "                   mean            var         std\n",
       "tariff_name                                       \n",
       "smart        417.934948   36219.315784  190.313730\n",
       "ultra        526.623350  100873.633397  317.606098"
      ]
     },
     "execution_count": 45,
     "metadata": {},
     "output_type": "execute_result"
    }
   ],
   "source": [
    "# Количество использованных минут по тарифам\n",
    "total_df_cleared.groupby('tariff_name').agg({'duration': agg_p})"
   ]
  },
  {
   "cell_type": "code",
   "execution_count": 46,
   "metadata": {
    "colab": {
     "base_uri": "https://localhost:8080/",
     "height": 175
    },
    "id": "TA4ZqDQafTTk",
    "outputId": "fbec3ace-8557-4396-9957-02965aafb8fa"
   },
   "outputs": [
    {
     "data": {
      "text/html": [
       "<div>\n",
       "<style scoped>\n",
       "    .dataframe tbody tr th:only-of-type {\n",
       "        vertical-align: middle;\n",
       "    }\n",
       "\n",
       "    .dataframe tbody tr th {\n",
       "        vertical-align: top;\n",
       "    }\n",
       "\n",
       "    .dataframe thead tr th {\n",
       "        text-align: left;\n",
       "    }\n",
       "\n",
       "    .dataframe thead tr:last-of-type th {\n",
       "        text-align: right;\n",
       "    }\n",
       "</style>\n",
       "<table border=\"1\" class=\"dataframe\">\n",
       "  <thead>\n",
       "    <tr>\n",
       "      <th></th>\n",
       "      <th colspan=\"3\" halign=\"left\">messages_id</th>\n",
       "    </tr>\n",
       "    <tr>\n",
       "      <th></th>\n",
       "      <th>mean</th>\n",
       "      <th>var</th>\n",
       "      <th>std</th>\n",
       "    </tr>\n",
       "    <tr>\n",
       "      <th>tariff_name</th>\n",
       "      <th></th>\n",
       "      <th></th>\n",
       "      <th></th>\n",
       "    </tr>\n",
       "  </thead>\n",
       "  <tbody>\n",
       "    <tr>\n",
       "      <th>smart</th>\n",
       "      <td>33.384029</td>\n",
       "      <td>796.812958</td>\n",
       "      <td>28.227876</td>\n",
       "    </tr>\n",
       "    <tr>\n",
       "      <th>ultra</th>\n",
       "      <td>49.363452</td>\n",
       "      <td>2285.266143</td>\n",
       "      <td>47.804457</td>\n",
       "    </tr>\n",
       "  </tbody>\n",
       "</table>\n",
       "</div>"
      ],
      "text/plain": [
       "            messages_id                        \n",
       "                   mean          var        std\n",
       "tariff_name                                    \n",
       "smart         33.384029   796.812958  28.227876\n",
       "ultra         49.363452  2285.266143  47.804457"
      ]
     },
     "execution_count": 46,
     "metadata": {},
     "output_type": "execute_result"
    }
   ],
   "source": [
    "# Количество использованных сообщений по тарифам\n",
    "total_df_cleared.groupby('tariff_name').agg({'messages_id': agg_p})"
   ]
  },
  {
   "cell_type": "code",
   "execution_count": 47,
   "metadata": {
    "colab": {
     "base_uri": "https://localhost:8080/",
     "height": 175
    },
    "id": "eRKdKUy1fTWB",
    "outputId": "6fb6797e-0112-4b25-8d16-c11cc0cf2dc3"
   },
   "outputs": [
    {
     "data": {
      "text/html": [
       "<div>\n",
       "<style scoped>\n",
       "    .dataframe tbody tr th:only-of-type {\n",
       "        vertical-align: middle;\n",
       "    }\n",
       "\n",
       "    .dataframe tbody tr th {\n",
       "        vertical-align: top;\n",
       "    }\n",
       "\n",
       "    .dataframe thead tr th {\n",
       "        text-align: left;\n",
       "    }\n",
       "\n",
       "    .dataframe thead tr:last-of-type th {\n",
       "        text-align: right;\n",
       "    }\n",
       "</style>\n",
       "<table border=\"1\" class=\"dataframe\">\n",
       "  <thead>\n",
       "    <tr>\n",
       "      <th></th>\n",
       "      <th colspan=\"3\" halign=\"left\">gb_used</th>\n",
       "    </tr>\n",
       "    <tr>\n",
       "      <th></th>\n",
       "      <th>mean</th>\n",
       "      <th>var</th>\n",
       "      <th>std</th>\n",
       "    </tr>\n",
       "    <tr>\n",
       "      <th>tariff_name</th>\n",
       "      <th></th>\n",
       "      <th></th>\n",
       "      <th></th>\n",
       "    </tr>\n",
       "  </thead>\n",
       "  <tbody>\n",
       "    <tr>\n",
       "      <th>smart</th>\n",
       "      <td>16.328847</td>\n",
       "      <td>33.028705</td>\n",
       "      <td>5.747061</td>\n",
       "    </tr>\n",
       "    <tr>\n",
       "      <th>ultra</th>\n",
       "      <td>19.494416</td>\n",
       "      <td>97.091686</td>\n",
       "      <td>9.853511</td>\n",
       "    </tr>\n",
       "  </tbody>\n",
       "</table>\n",
       "</div>"
      ],
      "text/plain": [
       "               gb_used                     \n",
       "                  mean        var       std\n",
       "tariff_name                                \n",
       "smart        16.328847  33.028705  5.747061\n",
       "ultra        19.494416  97.091686  9.853511"
      ]
     },
     "execution_count": 47,
     "metadata": {},
     "output_type": "execute_result"
    }
   ],
   "source": [
    "# Количество использованного трафика по тарифам\n",
    "total_df_cleared.groupby('tariff_name').agg({'gb_used': agg_p})"
   ]
  },
  {
   "cell_type": "markdown",
   "metadata": {
    "id": "xYARESBj46aC"
   },
   "source": [
    "Для более нагладного понимания данных построим диаграммы."
   ]
  },
  {
   "cell_type": "code",
   "execution_count": 48,
   "metadata": {
    "colab": {
     "base_uri": "https://localhost:8080/",
     "height": 265
    },
    "id": "WWII0s3x45G5",
    "outputId": "11357c5e-03dd-49ec-99dd-d4e75f1dc9bf"
   },
   "outputs": [
    {
     "data": {
      "image/png": "[encoded data removed]",
      "text/plain": [
       "<Figure size 864x288 with 1 Axes>"
      ]
     },
     "metadata": {
      "needs_background": "light"
     },
     "output_type": "display_data"
    }
   ],
   "source": [
    "# Рассматриваем продолжительность звонков, затраченных на разных тарифах.\n",
    "total_df_cleared.query('tariff_name == \"smart\"')['duration'].hist(bins=100, figsize=(12, 4));\n",
    "total_df_cleared.query('tariff_name == \"ultra\"')['duration'].hist(bins=100, figsize=(12, 4), alpha=0.5);"
   ]
  },
  {
   "cell_type": "markdown",
   "metadata": {
    "id": "8rXQUfwT57ll"
   },
   "source": [
    "На графике видно, что пользователи тарифа \"Смарт\" пользуются звонками, стараясь не превысить лимит - после 500 минут график направлен вниз. У пользователей тарифа \"Ультра\" лимит минут равен 3000, но никто не использовал все минуты. Распределение частот более плоское, можем предположить, что пользователи дорогого тарифа разговаривают столько, сколько необходимо, не следя за лимитом.\n",
    "\n",
    "Также можем предположить, что у пользователей тарифа \"Ультра\" часто отсутствуют звонки. Возможно, они пользуются дорогим тарифом ради большего лимита трафика или смс, проверим:\n"
   ]
  },
  {
   "cell_type": "code",
   "execution_count": 49,
   "metadata": {
    "colab": {
     "base_uri": "https://localhost:8080/",
     "height": 265
    },
    "id": "QuMn2v_D7XZu",
    "outputId": "73b5a544-cce5-4266-ef75-8742b32cbcf6"
   },
   "outputs": [
    {
     "data": {
      "image/png": "[encoded data removed]",
      "text/plain": [
       "<Figure size 864x288 with 1 Axes>"
      ]
     },
     "metadata": {
      "needs_background": "light"
     },
     "output_type": "display_data"
    }
   ],
   "source": [
    "# Проверяем, ради чего пользователи тарифа \"Ультра\" используют более дорогой тариф, если не ради звонков\n",
    "total_df_cleared.query('tariff_name == \"ultra\" & duration == 0')['gb_used'].hist(bins=20, figsize=(12, 4));"
   ]
  },
  {
   "cell_type": "markdown",
   "metadata": {
    "id": "gBtGaHqR8dOP"
   },
   "source": [
    "Действительно, клиенты без звонков активно используют интернет. Количество трафика и его распределение соответствует данным остальных клиентов выборки. Далее рассмотрим, пользуются ли люди без звонков сообщениями:"
   ]
  },
  {
   "cell_type": "code",
   "execution_count": 50,
   "metadata": {
    "colab": {
     "base_uri": "https://localhost:8080/",
     "height": 282
    },
    "id": "v4Blmhfg8RMy",
    "outputId": "b9749ebd-28b0-4c8f-a490-f81e0c73803a"
   },
   "outputs": [
    {
     "data": {
      "text/plain": [
       "<AxesSubplot:>"
      ]
     },
     "execution_count": 50,
     "metadata": {},
     "output_type": "execute_result"
    },
    {
     "data": {
      "image/png": "[encoded data removed]",
      "text/plain": [
       "<Figure size 864x288 with 1 Axes>"
      ]
     },
     "metadata": {
      "needs_background": "light"
     },
     "output_type": "display_data"
    }
   ],
   "source": [
    "total_df_cleared.query('tariff_name == \"ultra\" & duration == 0')['messages_id'].hist(bins=100, figsize=(12, 4))"
   ]
  },
  {
   "cell_type": "markdown",
   "metadata": {
    "id": "mKJJHqVv9Ktt"
   },
   "source": [
    "Клиенты без звонков пользуются сообщениями, причём либо примерно по 1 смс в день, либо в 3-4 раза чаще. Посмотрим на общее распределение количества сообщений:"
   ]
  },
  {
   "cell_type": "code",
   "execution_count": 51,
   "metadata": {
    "colab": {
     "base_uri": "https://localhost:8080/",
     "height": 282
    },
    "id": "3lmLK85I-JLG",
    "outputId": "c5a70264-7721-487a-8926-c3b09da6afb5"
   },
   "outputs": [
    {
     "data": {
      "text/plain": [
       "<AxesSubplot:>"
      ]
     },
     "execution_count": 51,
     "metadata": {},
     "output_type": "execute_result"
    },
    {
     "data": {
      "image/png": "[encoded data removed]",
      "text/plain": [
       "<Figure size 864x288 with 1 Axes>"
      ]
     },
     "metadata": {
      "needs_background": "light"
     },
     "output_type": "display_data"
    }
   ],
   "source": [
    "# Рассматриваем количество сообщений, затраченных на разных тарифах\n",
    "total_df_cleared.query('tariff_name == \"smart\"')['messages_id'].hist(bins=20, figsize=(12, 4))\n",
    "total_df_cleared.query('tariff_name == \"ultra\"')['messages_id'].hist(bins=20, figsize=(12, 4), alpha=0.5)"
   ]
  },
  {
   "cell_type": "markdown",
   "metadata": {
    "id": "gDoE7MkE_Oqm"
   },
   "source": [
    "По графику видно, что многие пользователи не используют сообщения. На графике использованных гигабайт выделим этих пользователей."
   ]
  },
  {
   "cell_type": "code",
   "execution_count": 52,
   "metadata": {
    "colab": {
     "base_uri": "https://localhost:8080/",
     "height": 391
    },
    "id": "tyrJs_iwvUgR",
    "outputId": "39a7e76d-16de-47d3-8dbd-61bc9b2c8a5d"
   },
   "outputs": [
    {
     "data": {
      "text/plain": [
       "<AxesSubplot:>"
      ]
     },
     "execution_count": 52,
     "metadata": {},
     "output_type": "execute_result"
    },
    {
     "data": {
      "image/png": "[encoded data removed]",
      "text/plain": [
       "<Figure size 576x432 with 1 Axes>"
      ]
     },
     "metadata": {
      "needs_background": "light"
     },
     "output_type": "display_data"
    }
   ],
   "source": [
    "# Посмотрим, сколько пользователей превысили лимит по сообщениям\n",
    "total_df_cleared.query('tariff_name == \"smart\"')['messages_id'].hist(bins=[0, 50.1, 300], figsize=(8, 6))"
   ]
  },
  {
   "cell_type": "markdown",
   "metadata": {
    "id": "KcQRsgxFwUpa"
   },
   "source": [
    "Менее 600 пользователей из 2229 отправили сверхлимитные сообщения."
   ]
  },
  {
   "cell_type": "code",
   "execution_count": 53,
   "metadata": {
    "colab": {
     "base_uri": "https://localhost:8080/",
     "height": 282
    },
    "id": "XiSAmwFe45Os",
    "outputId": "afed7332-0f03-4425-940e-661ac8d133c2"
   },
   "outputs": [
    {
     "data": {
      "text/plain": [
       "<AxesSubplot:>"
      ]
     },
     "execution_count": 53,
     "metadata": {},
     "output_type": "execute_result"
    },
    {
     "data": {
      "image/png": "[encoded data removed]",
      "text/plain": [
       "<Figure size 864x288 with 1 Axes>"
      ]
     },
     "metadata": {
      "needs_background": "light"
     },
     "output_type": "display_data"
    }
   ],
   "source": [
    "# Рассматриваем количество гигабайт, затраченных на разных тарифах.\n",
    "total_df_cleared.query('tariff_name == \"smart\"')['gb_used'].hist(bins=30, figsize=(12, 4))\n",
    "total_df_cleared.query('tariff_name == \"ultra\"')['gb_used'].hist(bins=30, figsize=(12, 4), alpha=0.5)\n",
    "total_df_cleared.query('messages_id == 0 | gb_used == 0')['gb_used'].hist(bins=30, figsize=(12, 4))"
   ]
  },
  {
   "cell_type": "markdown",
   "metadata": {
    "id": "zWJpsvy_44W-"
   },
   "source": [
    "Распределение пользователей тарифа \"Смарт\" по количеству использованных гигабайт больше похоже на нормальное с пиками на 15 и 20 Гб. Пользователи тарифа \"Ультра\" распределены более равномерно, хотя диапазон использованных гигабайт примерно одинаковый для всех пользователей. \n",
    "\n",
    "На графике минут наблюдалось падение при достижении лимита, но на графике интернет-трафика подобная зависимость отсутствует."
   ]
  },
  {
   "cell_type": "markdown",
   "metadata": {
    "id": "k4OY1MLSV15u"
   },
   "source": [
    "## Шаг 4. Проверка гипотез"
   ]
  },
  {
   "cell_type": "markdown",
   "metadata": {
    "id": "2rzTP3eEHFPV"
   },
   "source": [
    "### Гипотеза о равенстве средней выручки среди пользователей разных тарифов"
   ]
  },
  {
   "cell_type": "markdown",
   "metadata": {
    "id": "bP7kvoNoW8x_"
   },
   "source": [
    "Проверим гипотезу о равенстве средних двух генеральных совокупностей по взятым из них выборкам - тарифным планам.\n",
    "\n",
    "Так как выборки независимые и имеют большое количество данных, используем  метод для проверки гипотезы о равенстве среднего двух генеральных совокупностей по взятым из них выборкам `scipy.stats.ttest_ind`.\n",
    "\n",
    "- **Нулевая гипотеза:** средняя выручка пользователей тарифов «Ультра» и «Смарт» одинаковая\n",
    "- **Альтернативная гипотеза:** средняя выручка пользователей тарифов \"Ультра\" и \"Смарт\" различается\n"
   ]
  },
  {
   "cell_type": "code",
   "execution_count": 54,
   "metadata": {
    "id": "W0X4UdNCW6m2"
   },
   "outputs": [],
   "source": [
    "sample_1_1 = total_df_cleared.query('tariff_name == \"smart\"')['total_amount']\n",
    "sample_1_2 = total_df_cleared.query('tariff_name == \"ultra\"')['total_amount']"
   ]
  },
  {
   "cell_type": "markdown",
   "metadata": {
    "id": "qDEEOjdeb_BP"
   },
   "source": [
    "Так как в выборах находится достаточное количество значений, их нормальное распределение не является обязательным условием. Учитывая то, что значительная часть пользователей платят только абонентскую плату, нормальное распределение будет искажено большим пиком на уровне стоимости тарифного плана."
   ]
  },
  {
   "cell_type": "code",
   "execution_count": 55,
   "metadata": {
    "colab": {
     "base_uri": "https://localhost:8080/"
    },
    "id": "p8T89HafW6pM",
    "outputId": "21ab8cfa-add9-4d06-91cf-cbeda5ed6ffc"
   },
   "outputs": [
    {
     "name": "stdout",
     "output_type": "stream",
     "text": [
      "p-значение: 4.2606313931076085e-250\n",
      "Отвергаем нулевую гипотезу\n"
     ]
    }
   ],
   "source": [
    "results = st.ttest_ind(sample_1_1, sample_1_2, equal_var=False) #equal_var=False, так как выборки разного размера\n",
    "\n",
    "alpha = .01\n",
    "\n",
    "print('p-значение:', results.pvalue)\n",
    "\n",
    "if results.pvalue < alpha:\n",
    "    print(\"Отвергаем нулевую гипотезу\")\n",
    "else:\n",
    "    print(\"Не получилось отвергнуть нулевую гипотезу\")"
   ]
  },
  {
   "cell_type": "markdown",
   "metadata": {
    "id": "GFuabpPjfjyo"
   },
   "source": [
    "Нулевая гипотеза отвергнута. Имеются значительные различия между выручкой пользователей разных тарифов."
   ]
  },
  {
   "cell_type": "code",
   "execution_count": 56,
   "metadata": {
    "colab": {
     "base_uri": "https://localhost:8080/",
     "height": 265
    },
    "id": "RUKWdtIyW6rN",
    "outputId": "fa7cd668-6e4d-4dee-83b1-61b8bcdcb6b5"
   },
   "outputs": [
    {
     "data": {
      "image/png": "[encoded data removed]",
      "text/plain": [
       "<Figure size 432x288 with 1 Axes>"
      ]
     },
     "metadata": {
      "needs_background": "light"
     },
     "output_type": "display_data"
    }
   ],
   "source": [
    "# Посмотрим на графике, действительно ли сильно различаются выборки\n",
    "sample_1_1.hist(bins=20);\n",
    "sample_1_2.hist(bins=20);"
   ]
  },
  {
   "cell_type": "markdown",
   "metadata": {
    "id": "NrF3yEkGHFYe"
   },
   "source": [
    "### Гипотеза о равенстве средней выручки пользователей из Москвы и из других регионов"
   ]
  },
  {
   "cell_type": "markdown",
   "metadata": {
    "id": "J0FA23Qrg8Li"
   },
   "source": [
    "Проверим гипотезу о равенстве средних двух генеральных совокупностей по взятым из них выборкам - тарифным планам. Выборки независимые, количество данных достаточное для корректного анализа.\n",
    "\n",
    "- **Нулевая гипотеза:** средняя выручка пользователей из Москвы равна средней выручке пользователей из других регионов\n",
    "- **Альтернативная гипотеза:** средняя выручка пользователей из Москвы отличается от средней выручки пользователей из других регионов\n"
   ]
  },
  {
   "cell_type": "code",
   "execution_count": 57,
   "metadata": {
    "id": "twiVVKPehVfb"
   },
   "outputs": [],
   "source": [
    "sample_2_1 = total_df_cleared.query('city == \"Москва\"')['total_amount']\n",
    "sample_2_2 = total_df_cleared.query('city != \"Москва\"')['total_amount']"
   ]
  },
  {
   "cell_type": "code",
   "execution_count": 58,
   "metadata": {
    "colab": {
     "base_uri": "https://localhost:8080/"
    },
    "id": "8MkXX36XiNJ7",
    "outputId": "408b5080-a68e-4673-9766-3e9459e68461"
   },
   "outputs": [
    {
     "name": "stdout",
     "output_type": "stream",
     "text": [
      "p-значение: 0.5257376663729298\n",
      "Не получилось отвергнуть нулевую гипотезу\n"
     ]
    }
   ],
   "source": [
    "results = st.ttest_ind(sample_2_1, sample_2_2, equal_var=False) #equal_var=False, так как выборки разного размера\n",
    "\n",
    "alpha = .01\n",
    "\n",
    "print('p-значение:', results.pvalue)\n",
    "\n",
    "if results.pvalue < alpha:\n",
    "    print(\"Отвергаем нулевую гипотезу\")\n",
    "else:\n",
    "    print(\"Не получилось отвергнуть нулевую гипотезу\")"
   ]
  },
  {
   "cell_type": "markdown",
   "metadata": {
    "id": "ye_7o6BCi6ij"
   },
   "source": [
    "p-значение большое, гипотеза будет отвергнута даже при большем значении alpha.\n",
    "Посмотрим на график распределения:"
   ]
  },
  {
   "cell_type": "code",
   "execution_count": 59,
   "metadata": {
    "colab": {
     "base_uri": "https://localhost:8080/",
     "height": 265
    },
    "id": "HoMj4z0-jOXd",
    "outputId": "968bab15-2eba-4f7c-ae07-39e62c4ece74"
   },
   "outputs": [
    {
     "data": {
      "image/png": "[encoded data removed]",
      "text/plain": [
       "<Figure size 432x288 with 1 Axes>"
      ]
     },
     "metadata": {
      "needs_background": "light"
     },
     "output_type": "display_data"
    }
   ],
   "source": [
    "sample_2_2.hist(bins=30);\n",
    "sample_2_1.hist(bins=30);"
   ]
  },
  {
   "cell_type": "markdown",
   "metadata": {
    "id": "0Ura45lujkla"
   },
   "source": [
    "Графики действительно имеют очень похожее распределение и диапазон. Предполагаем, что причина их схожести в большом количестве пользователей, которые платят только абонентскую плату.\n",
    "\n",
    "Проверим только пользователей, которые используют дополнительные лимиты: нулевая гипотеза: сверхлимитные платежи одинаковые для пользователей из Москвы и других регионов."
   ]
  },
  {
   "cell_type": "code",
   "execution_count": 60,
   "metadata": {
    "colab": {
     "base_uri": "https://localhost:8080/"
    },
    "id": "FtW9fCpajeaV",
    "outputId": "c5a19da4-66a1-4e93-812f-6c131e50bd58"
   },
   "outputs": [
    {
     "name": "stdout",
     "output_type": "stream",
     "text": [
      "p-значение: 0.8944222305490894\n",
      "Не получилось отвергнуть нулевую гипотезу\n"
     ]
    }
   ],
   "source": [
    "sample_2_3 = total_df_cleared.query('city == \"Москва\" & over_payment != 0')['total_amount']\n",
    "sample_2_4 = total_df_cleared.query('city != \"Москва\" & over_payment != 0')['total_amount']\n",
    "\n",
    "results = st.ttest_ind(sample_2_3, sample_2_4, equal_var=False) #equal_var=False, так как выборки разного размера\n",
    "\n",
    "alpha = .01\n",
    "\n",
    "print('p-значение:', results.pvalue)\n",
    "\n",
    "if results.pvalue < alpha:\n",
    "    print(\"Отвергаем нулевую гипотезу\")\n",
    "else:\n",
    "    print(\"Не получилось отвергнуть нулевую гипотезу\")"
   ]
  },
  {
   "cell_type": "code",
   "execution_count": 61,
   "metadata": {
    "colab": {
     "base_uri": "https://localhost:8080/",
     "height": 265
    },
    "id": "24PHVZPzkUcy",
    "outputId": "a896045b-7b24-4056-9cec-6010b23ebbab"
   },
   "outputs": [
    {
     "data": {
      "image/png": "[encoded data removed]",
      "text/plain": [
       "<Figure size 432x288 with 1 Axes>"
      ]
     },
     "metadata": {
      "needs_background": "light"
     },
     "output_type": "display_data"
    }
   ],
   "source": [
    "sample_2_4.hist(bins=30);\n",
    "sample_2_3.hist(bins=30);"
   ]
  },
  {
   "cell_type": "markdown",
   "metadata": {
    "id": "WSl--LbPklLT"
   },
   "source": [
    "Даже после удаления пользоваталей, платящих абонентскую плату, средние двух выборок очень схожи."
   ]
  },
  {
   "cell_type": "markdown",
   "metadata": {
    "id": "LlanwhytV2l8"
   },
   "source": [
    "## Вывод"
   ]
  },
  {
   "cell_type": "markdown",
   "metadata": {
    "id": "RJ-xeuJRq-Zf"
   },
   "source": [
    "Изучены данные пользователей по тарифам \"Смарт\" и \"Ультра\" компании \"Мегалайн\" за 2018 год. В результате анализа полученные следующие результаты:\n",
    "1. Среднее количество использованных минут, сообщений и трафика незначительно различается между тарифами;\n",
    "2. Пользователям требуется большее количество интернет-трафика, чем установленные лимиты. Пользователи редно следят за количеством использованного интернета;\n",
    "4. - Медианный пользователь тарифа \"Смарт\" использует 418 минут. В целом, пользователи стремятся соблюдать лимит 500 минут;\n",
    "  - Медианный пользователь тарифа \"Ультра\" использует 516, но в распределении отсутствует область концентрации, явные пики - лимит слишком высокий и пользователи не следят за количеством минут;\n",
    "5. Сообщения не пользуются большим спросом, около четверти пользователей тарифа \"Смарт\" отправили сообщения сверх лимита. Многие пользователи не отправили ни одного сообщения;\n",
    "\n",
    "Основные выводы:\n",
    "1. Тариф \"Ультра\" приносит больше выручки, чем тариф \"Смарт\";\n",
    "2. Выручка не отличается в Москве от выручки в регионах."
   ]
  }
 ],
 "metadata": {
  "ExecuteTimeLog": [
   {
    "duration": 1078,
    "start_time": "2022-04-25T09:20:58.009Z"
   },
   {
    "duration": 371,
    "start_time": "2022-04-25T09:20:59.090Z"
   },
   {
    "duration": 49,
    "start_time": "2022-04-25T09:20:59.462Z"
   },
   {
    "duration": 259,
    "start_time": "2022-04-25T09:20:59.513Z"
   },
   {
    "duration": 65,
    "start_time": "2022-04-25T09:20:59.773Z"
   },
   {
    "duration": 67,
    "start_time": "2022-04-25T09:20:59.854Z"
   },
   {
    "duration": 9,
    "start_time": "2022-04-25T09:20:59.923Z"
   },
   {
    "duration": 21,
    "start_time": "2022-04-25T09:20:59.934Z"
   },
   {
    "duration": 26,
    "start_time": "2022-04-25T09:20:59.956Z"
   },
   {
    "duration": 18,
    "start_time": "2022-04-25T09:20:59.985Z"
   },
   {
    "duration": 10,
    "start_time": "2022-04-25T09:21:00.004Z"
   },
   {
    "duration": 38,
    "start_time": "2022-04-25T09:21:00.016Z"
   },
   {
    "duration": 30,
    "start_time": "2022-04-25T09:21:00.056Z"
   },
   {
    "duration": 66,
    "start_time": "2022-04-25T09:21:00.088Z"
   },
   {
    "duration": 14,
    "start_time": "2022-04-25T09:21:00.156Z"
   },
   {
    "duration": 21,
    "start_time": "2022-04-25T09:21:00.171Z"
   },
   {
    "duration": 71,
    "start_time": "2022-04-25T09:21:00.194Z"
   },
   {
    "duration": 50,
    "start_time": "2022-04-25T09:21:00.266Z"
   },
   {
    "duration": 55,
    "start_time": "2022-04-25T09:21:00.318Z"
   },
   {
    "duration": 40,
    "start_time": "2022-04-25T09:21:00.375Z"
   },
   {
    "duration": 60,
    "start_time": "2022-04-25T09:21:00.417Z"
   },
   {
    "duration": 46,
    "start_time": "2022-04-25T09:21:00.479Z"
   },
   {
    "duration": 52,
    "start_time": "2022-04-25T09:21:00.527Z"
   },
   {
    "duration": 30,
    "start_time": "2022-04-25T09:21:00.581Z"
   },
   {
    "duration": 46,
    "start_time": "2022-04-25T09:21:00.613Z"
   },
   {
    "duration": 41,
    "start_time": "2022-04-25T09:21:00.661Z"
   },
   {
    "duration": 19,
    "start_time": "2022-04-25T09:21:00.704Z"
   },
   {
    "duration": 40,
    "start_time": "2022-04-25T09:21:00.726Z"
   },
   {
    "duration": 19,
    "start_time": "2022-04-25T09:21:00.768Z"
   },
   {
    "duration": 147,
    "start_time": "2022-04-25T09:21:00.788Z"
   },
   {
    "duration": 6,
    "start_time": "2022-04-25T09:21:00.937Z"
   },
   {
    "duration": 37,
    "start_time": "2022-04-25T09:21:00.944Z"
   },
   {
    "duration": 37,
    "start_time": "2022-04-25T09:21:00.983Z"
   },
   {
    "duration": 23,
    "start_time": "2022-04-25T09:21:01.021Z"
   },
   {
    "duration": 91,
    "start_time": "2022-04-25T09:21:01.046Z"
   },
   {
    "duration": 4,
    "start_time": "2022-04-25T09:21:01.138Z"
   },
   {
    "duration": 21,
    "start_time": "2022-04-25T09:21:01.144Z"
   },
   {
    "duration": 75,
    "start_time": "2022-04-25T09:21:01.166Z"
   },
   {
    "duration": 5,
    "start_time": "2022-04-25T09:21:01.244Z"
   },
   {
    "duration": 28,
    "start_time": "2022-04-25T09:21:01.251Z"
   },
   {
    "duration": 46,
    "start_time": "2022-04-25T09:21:01.281Z"
   },
   {
    "duration": 23,
    "start_time": "2022-04-25T09:21:01.329Z"
   },
   {
    "duration": 20,
    "start_time": "2022-04-25T09:21:01.354Z"
   },
   {
    "duration": 749,
    "start_time": "2022-04-25T09:21:01.376Z"
   },
   {
    "duration": 209,
    "start_time": "2022-04-25T09:21:02.128Z"
   },
   {
    "duration": 225,
    "start_time": "2022-04-25T09:21:02.339Z"
   },
   {
    "duration": 158,
    "start_time": "2022-04-25T09:21:02.566Z"
   },
   {
    "duration": 137,
    "start_time": "2022-04-25T09:21:02.725Z"
   },
   {
    "duration": 517,
    "start_time": "2022-04-25T09:21:02.864Z"
   },
   {
    "duration": 9,
    "start_time": "2022-04-25T09:21:03.383Z"
   },
   {
    "duration": 26,
    "start_time": "2022-04-25T09:21:03.394Z"
   },
   {
    "duration": 178,
    "start_time": "2022-04-25T09:21:03.422Z"
   },
   {
    "duration": 8,
    "start_time": "2022-04-25T09:21:03.602Z"
   },
   {
    "duration": 23,
    "start_time": "2022-04-25T09:21:03.611Z"
   },
   {
    "duration": 191,
    "start_time": "2022-04-25T09:21:03.635Z"
   },
   {
    "duration": 11,
    "start_time": "2022-04-25T09:21:03.828Z"
   },
   {
    "duration": 202,
    "start_time": "2022-04-25T09:21:03.841Z"
   },
   {
    "duration": 14,
    "start_time": "2022-04-25T09:46:35.156Z"
   },
   {
    "duration": 932,
    "start_time": "2022-04-25T11:12:08.299Z"
   },
   {
    "duration": 1104,
    "start_time": "2022-04-25T11:12:09.234Z"
   },
   {
    "duration": 70,
    "start_time": "2022-04-25T11:12:10.340Z"
   },
   {
    "duration": 349,
    "start_time": "2022-04-25T11:12:10.412Z"
   },
   {
    "duration": 118,
    "start_time": "2022-04-25T11:12:10.768Z"
   },
   {
    "duration": 121,
    "start_time": "2022-04-25T11:12:10.892Z"
   },
   {
    "duration": 11,
    "start_time": "2022-04-25T11:12:11.017Z"
   },
   {
    "duration": 30,
    "start_time": "2022-04-25T11:12:11.030Z"
   },
   {
    "duration": 7,
    "start_time": "2022-04-25T11:12:11.062Z"
   },
   {
    "duration": 39,
    "start_time": "2022-04-25T11:12:11.071Z"
   },
   {
    "duration": 16,
    "start_time": "2022-04-25T11:12:11.112Z"
   },
   {
    "duration": 22,
    "start_time": "2022-04-25T11:12:11.130Z"
   },
   {
    "duration": 67,
    "start_time": "2022-04-25T11:12:11.154Z"
   },
   {
    "duration": 66,
    "start_time": "2022-04-25T11:12:11.226Z"
   },
   {
    "duration": 12,
    "start_time": "2022-04-25T11:12:11.294Z"
   },
   {
    "duration": 21,
    "start_time": "2022-04-25T11:12:11.312Z"
   },
   {
    "duration": 76,
    "start_time": "2022-04-25T11:12:11.334Z"
   },
   {
    "duration": 44,
    "start_time": "2022-04-25T11:12:11.412Z"
   },
   {
    "duration": 70,
    "start_time": "2022-04-25T11:12:11.458Z"
   },
   {
    "duration": 56,
    "start_time": "2022-04-25T11:12:11.531Z"
   },
   {
    "duration": 67,
    "start_time": "2022-04-25T11:12:11.589Z"
   },
   {
    "duration": 45,
    "start_time": "2022-04-25T11:12:11.658Z"
   },
   {
    "duration": 129,
    "start_time": "2022-04-25T11:12:11.705Z"
   },
   {
    "duration": 0,
    "start_time": "2022-04-25T11:12:11.836Z"
   },
   {
    "duration": 0,
    "start_time": "2022-04-25T11:12:11.837Z"
   },
   {
    "duration": 0,
    "start_time": "2022-04-25T11:12:11.838Z"
   },
   {
    "duration": 0,
    "start_time": "2022-04-25T11:12:11.839Z"
   },
   {
    "duration": 0,
    "start_time": "2022-04-25T11:12:11.847Z"
   },
   {
    "duration": 0,
    "start_time": "2022-04-25T11:12:11.848Z"
   },
   {
    "duration": 0,
    "start_time": "2022-04-25T11:12:11.849Z"
   },
   {
    "duration": 0,
    "start_time": "2022-04-25T11:12:11.850Z"
   },
   {
    "duration": 0,
    "start_time": "2022-04-25T11:12:11.852Z"
   },
   {
    "duration": 0,
    "start_time": "2022-04-25T11:12:11.853Z"
   },
   {
    "duration": 0,
    "start_time": "2022-04-25T11:12:11.854Z"
   },
   {
    "duration": 0,
    "start_time": "2022-04-25T11:12:11.859Z"
   },
   {
    "duration": 0,
    "start_time": "2022-04-25T11:12:11.860Z"
   },
   {
    "duration": 0,
    "start_time": "2022-04-25T11:12:11.861Z"
   },
   {
    "duration": 0,
    "start_time": "2022-04-25T11:12:11.863Z"
   },
   {
    "duration": 0,
    "start_time": "2022-04-25T11:12:11.864Z"
   },
   {
    "duration": 0,
    "start_time": "2022-04-25T11:12:11.866Z"
   },
   {
    "duration": 0,
    "start_time": "2022-04-25T11:12:11.869Z"
   },
   {
    "duration": 0,
    "start_time": "2022-04-25T11:12:11.870Z"
   },
   {
    "duration": 0,
    "start_time": "2022-04-25T11:12:11.872Z"
   },
   {
    "duration": 0,
    "start_time": "2022-04-25T11:12:11.873Z"
   },
   {
    "duration": 0,
    "start_time": "2022-04-25T11:12:11.875Z"
   },
   {
    "duration": 0,
    "start_time": "2022-04-25T11:12:11.877Z"
   },
   {
    "duration": 0,
    "start_time": "2022-04-25T11:12:11.878Z"
   },
   {
    "duration": 0,
    "start_time": "2022-04-25T11:12:11.879Z"
   },
   {
    "duration": 0,
    "start_time": "2022-04-25T11:12:11.881Z"
   },
   {
    "duration": 0,
    "start_time": "2022-04-25T11:12:11.882Z"
   },
   {
    "duration": 0,
    "start_time": "2022-04-25T11:12:11.884Z"
   },
   {
    "duration": 0,
    "start_time": "2022-04-25T11:12:11.885Z"
   },
   {
    "duration": 0,
    "start_time": "2022-04-25T11:12:11.887Z"
   },
   {
    "duration": 0,
    "start_time": "2022-04-25T11:12:11.888Z"
   },
   {
    "duration": 0,
    "start_time": "2022-04-25T11:12:11.889Z"
   },
   {
    "duration": 0,
    "start_time": "2022-04-25T11:12:11.890Z"
   },
   {
    "duration": 0,
    "start_time": "2022-04-25T11:12:11.892Z"
   },
   {
    "duration": 0,
    "start_time": "2022-04-25T11:12:11.895Z"
   },
   {
    "duration": 59,
    "start_time": "2022-04-25T11:13:30.875Z"
   },
   {
    "duration": 28,
    "start_time": "2022-04-25T11:13:54.999Z"
   },
   {
    "duration": 36,
    "start_time": "2022-04-25T11:13:59.938Z"
   },
   {
    "duration": 31,
    "start_time": "2022-04-25T11:14:00.975Z"
   },
   {
    "duration": 22,
    "start_time": "2022-04-25T11:18:13.651Z"
   },
   {
    "duration": 24,
    "start_time": "2022-04-25T11:18:15.575Z"
   },
   {
    "duration": 733,
    "start_time": "2022-04-25T11:20:57.186Z"
   },
   {
    "duration": 289,
    "start_time": "2022-04-25T11:21:10.320Z"
   },
   {
    "duration": 185,
    "start_time": "2022-04-25T11:21:30.278Z"
   },
   {
    "duration": 371,
    "start_time": "2022-04-25T11:22:21.634Z"
   },
   {
    "duration": 250,
    "start_time": "2022-04-25T11:22:27.474Z"
   },
   {
    "duration": 95,
    "start_time": "2022-04-25T11:26:20.435Z"
   },
   {
    "duration": 43,
    "start_time": "2022-04-25T11:31:27.412Z"
   },
   {
    "duration": 817,
    "start_time": "2022-04-25T11:31:35.084Z"
   },
   {
    "duration": 414,
    "start_time": "2022-04-25T11:31:35.904Z"
   },
   {
    "duration": 64,
    "start_time": "2022-04-25T11:31:36.320Z"
   },
   {
    "duration": 251,
    "start_time": "2022-04-25T11:31:36.385Z"
   },
   {
    "duration": 79,
    "start_time": "2022-04-25T11:31:36.649Z"
   },
   {
    "duration": 87,
    "start_time": "2022-04-25T11:31:36.730Z"
   },
   {
    "duration": 9,
    "start_time": "2022-04-25T11:31:36.819Z"
   },
   {
    "duration": 14,
    "start_time": "2022-04-25T11:31:36.848Z"
   },
   {
    "duration": 20,
    "start_time": "2022-04-25T11:31:36.864Z"
   },
   {
    "duration": 5,
    "start_time": "2022-04-25T11:31:36.886Z"
   },
   {
    "duration": 7,
    "start_time": "2022-04-25T11:31:36.892Z"
   },
   {
    "duration": 13,
    "start_time": "2022-04-25T11:31:36.900Z"
   },
   {
    "duration": 17,
    "start_time": "2022-04-25T11:31:36.914Z"
   },
   {
    "duration": 54,
    "start_time": "2022-04-25T11:31:36.935Z"
   },
   {
    "duration": 8,
    "start_time": "2022-04-25T11:31:36.991Z"
   },
   {
    "duration": 15,
    "start_time": "2022-04-25T11:31:37.001Z"
   },
   {
    "duration": 79,
    "start_time": "2022-04-25T11:31:37.018Z"
   },
   {
    "duration": 14,
    "start_time": "2022-04-25T11:31:37.099Z"
   },
   {
    "duration": 502,
    "start_time": "2022-04-25T11:31:37.114Z"
   },
   {
    "duration": 13,
    "start_time": "2022-04-25T11:31:37.618Z"
   },
   {
    "duration": 261,
    "start_time": "2022-04-25T11:31:37.632Z"
   },
   {
    "duration": 68,
    "start_time": "2022-04-25T11:31:37.895Z"
   },
   {
    "duration": 42,
    "start_time": "2022-04-25T11:31:37.965Z"
   },
   {
    "duration": 73,
    "start_time": "2022-04-25T11:31:38.009Z"
   },
   {
    "duration": 33,
    "start_time": "2022-04-25T11:31:38.085Z"
   },
   {
    "duration": 48,
    "start_time": "2022-04-25T11:31:38.121Z"
   },
   {
    "duration": 42,
    "start_time": "2022-04-25T11:31:38.170Z"
   },
   {
    "duration": 56,
    "start_time": "2022-04-25T11:31:38.214Z"
   },
   {
    "duration": 148,
    "start_time": "2022-04-25T11:31:38.277Z"
   },
   {
    "duration": 0,
    "start_time": "2022-04-25T11:31:38.427Z"
   },
   {
    "duration": 0,
    "start_time": "2022-04-25T11:31:38.428Z"
   },
   {
    "duration": 0,
    "start_time": "2022-04-25T11:31:38.430Z"
   },
   {
    "duration": 0,
    "start_time": "2022-04-25T11:31:38.431Z"
   },
   {
    "duration": 0,
    "start_time": "2022-04-25T11:31:38.432Z"
   },
   {
    "duration": 0,
    "start_time": "2022-04-25T11:31:38.433Z"
   },
   {
    "duration": 0,
    "start_time": "2022-04-25T11:31:38.434Z"
   },
   {
    "duration": 0,
    "start_time": "2022-04-25T11:31:38.451Z"
   },
   {
    "duration": 0,
    "start_time": "2022-04-25T11:31:38.452Z"
   },
   {
    "duration": 0,
    "start_time": "2022-04-25T11:31:38.453Z"
   },
   {
    "duration": 0,
    "start_time": "2022-04-25T11:31:38.454Z"
   },
   {
    "duration": 0,
    "start_time": "2022-04-25T11:31:38.455Z"
   },
   {
    "duration": 0,
    "start_time": "2022-04-25T11:31:38.456Z"
   },
   {
    "duration": 0,
    "start_time": "2022-04-25T11:31:38.457Z"
   },
   {
    "duration": 0,
    "start_time": "2022-04-25T11:31:38.458Z"
   },
   {
    "duration": 0,
    "start_time": "2022-04-25T11:31:38.463Z"
   },
   {
    "duration": 0,
    "start_time": "2022-04-25T11:31:38.466Z"
   },
   {
    "duration": 0,
    "start_time": "2022-04-25T11:31:38.467Z"
   },
   {
    "duration": 0,
    "start_time": "2022-04-25T11:31:38.468Z"
   },
   {
    "duration": 0,
    "start_time": "2022-04-25T11:31:38.469Z"
   },
   {
    "duration": 0,
    "start_time": "2022-04-25T11:31:38.470Z"
   },
   {
    "duration": 0,
    "start_time": "2022-04-25T11:31:38.472Z"
   },
   {
    "duration": 0,
    "start_time": "2022-04-25T11:31:38.473Z"
   },
   {
    "duration": 0,
    "start_time": "2022-04-25T11:31:38.474Z"
   },
   {
    "duration": 0,
    "start_time": "2022-04-25T11:31:38.475Z"
   },
   {
    "duration": 0,
    "start_time": "2022-04-25T11:31:38.476Z"
   },
   {
    "duration": 0,
    "start_time": "2022-04-25T11:31:38.477Z"
   },
   {
    "duration": 0,
    "start_time": "2022-04-25T11:31:38.479Z"
   },
   {
    "duration": 0,
    "start_time": "2022-04-25T11:31:38.480Z"
   },
   {
    "duration": 0,
    "start_time": "2022-04-25T11:31:38.481Z"
   },
   {
    "duration": 0,
    "start_time": "2022-04-25T11:31:38.482Z"
   },
   {
    "duration": 0,
    "start_time": "2022-04-25T11:31:38.483Z"
   },
   {
    "duration": 30,
    "start_time": "2022-04-25T11:32:21.235Z"
   },
   {
    "duration": 26,
    "start_time": "2022-04-25T11:33:48.082Z"
   },
   {
    "duration": 912,
    "start_time": "2022-04-25T11:35:38.598Z"
   },
   {
    "duration": 414,
    "start_time": "2022-04-25T11:35:39.513Z"
   },
   {
    "duration": 66,
    "start_time": "2022-04-25T11:35:39.929Z"
   },
   {
    "duration": 287,
    "start_time": "2022-04-25T11:35:39.996Z"
   },
   {
    "duration": 92,
    "start_time": "2022-04-25T11:35:40.285Z"
   },
   {
    "duration": 86,
    "start_time": "2022-04-25T11:35:40.381Z"
   },
   {
    "duration": 14,
    "start_time": "2022-04-25T11:35:40.472Z"
   },
   {
    "duration": 7,
    "start_time": "2022-04-25T11:35:40.488Z"
   },
   {
    "duration": 7,
    "start_time": "2022-04-25T11:35:40.497Z"
   },
   {
    "duration": 6,
    "start_time": "2022-04-25T11:35:40.506Z"
   },
   {
    "duration": 8,
    "start_time": "2022-04-25T11:35:40.513Z"
   },
   {
    "duration": 34,
    "start_time": "2022-04-25T11:35:40.522Z"
   },
   {
    "duration": 43,
    "start_time": "2022-04-25T11:35:40.558Z"
   },
   {
    "duration": 49,
    "start_time": "2022-04-25T11:35:40.606Z"
   },
   {
    "duration": 10,
    "start_time": "2022-04-25T11:35:40.656Z"
   },
   {
    "duration": 30,
    "start_time": "2022-04-25T11:35:40.668Z"
   },
   {
    "duration": 63,
    "start_time": "2022-04-25T11:35:40.700Z"
   },
   {
    "duration": 17,
    "start_time": "2022-04-25T11:35:40.766Z"
   },
   {
    "duration": 447,
    "start_time": "2022-04-25T11:35:40.784Z"
   },
   {
    "duration": 27,
    "start_time": "2022-04-25T11:35:41.233Z"
   },
   {
    "duration": 357,
    "start_time": "2022-04-25T11:35:41.262Z"
   },
   {
    "duration": 81,
    "start_time": "2022-04-25T11:35:41.621Z"
   },
   {
    "duration": 62,
    "start_time": "2022-04-25T11:35:41.704Z"
   },
   {
    "duration": 39,
    "start_time": "2022-04-25T11:35:41.770Z"
   },
   {
    "duration": 49,
    "start_time": "2022-04-25T11:35:41.810Z"
   },
   {
    "duration": 33,
    "start_time": "2022-04-25T11:35:41.865Z"
   },
   {
    "duration": 29,
    "start_time": "2022-04-25T11:35:41.900Z"
   },
   {
    "duration": 51,
    "start_time": "2022-04-25T11:35:41.931Z"
   },
   {
    "duration": 27,
    "start_time": "2022-04-25T11:35:41.984Z"
   },
   {
    "duration": 71,
    "start_time": "2022-04-25T11:35:42.012Z"
   },
   {
    "duration": 17,
    "start_time": "2022-04-25T11:35:42.085Z"
   },
   {
    "duration": 7,
    "start_time": "2022-04-25T11:35:42.104Z"
   },
   {
    "duration": 4,
    "start_time": "2022-04-25T11:35:42.112Z"
   },
   {
    "duration": 156,
    "start_time": "2022-04-25T11:35:42.117Z"
   },
   {
    "duration": 6,
    "start_time": "2022-04-25T11:35:42.275Z"
   },
   {
    "duration": 11,
    "start_time": "2022-04-25T11:35:42.283Z"
   },
   {
    "duration": 10,
    "start_time": "2022-04-25T11:35:42.296Z"
   },
   {
    "duration": 7,
    "start_time": "2022-04-25T11:35:42.308Z"
   },
   {
    "duration": 113,
    "start_time": "2022-04-25T11:35:42.317Z"
   },
   {
    "duration": 4,
    "start_time": "2022-04-25T11:35:42.432Z"
   },
   {
    "duration": 15,
    "start_time": "2022-04-25T11:35:42.450Z"
   },
   {
    "duration": 66,
    "start_time": "2022-04-25T11:35:42.467Z"
   },
   {
    "duration": 4,
    "start_time": "2022-04-25T11:35:42.534Z"
   },
   {
    "duration": 4,
    "start_time": "2022-04-25T11:35:42.540Z"
   },
   {
    "duration": 43,
    "start_time": "2022-04-25T11:35:42.545Z"
   },
   {
    "duration": 11,
    "start_time": "2022-04-25T11:35:42.590Z"
   },
   {
    "duration": 12,
    "start_time": "2022-04-25T11:35:42.602Z"
   },
   {
    "duration": 362,
    "start_time": "2022-04-25T11:35:42.615Z"
   },
   {
    "duration": 253,
    "start_time": "2022-04-25T11:35:42.979Z"
   },
   {
    "duration": 245,
    "start_time": "2022-04-25T11:35:43.234Z"
   },
   {
    "duration": 243,
    "start_time": "2022-04-25T11:35:43.481Z"
   },
   {
    "duration": 151,
    "start_time": "2022-04-25T11:35:43.726Z"
   },
   {
    "duration": 451,
    "start_time": "2022-04-25T11:35:43.880Z"
   },
   {
    "duration": 17,
    "start_time": "2022-04-25T11:35:44.333Z"
   },
   {
    "duration": 32,
    "start_time": "2022-04-25T11:35:44.352Z"
   },
   {
    "duration": 166,
    "start_time": "2022-04-25T11:35:44.386Z"
   },
   {
    "duration": 10,
    "start_time": "2022-04-25T11:35:44.557Z"
   },
   {
    "duration": 21,
    "start_time": "2022-04-25T11:35:44.569Z"
   },
   {
    "duration": 174,
    "start_time": "2022-04-25T11:35:44.591Z"
   },
   {
    "duration": 14,
    "start_time": "2022-04-25T11:35:44.771Z"
   },
   {
    "duration": 184,
    "start_time": "2022-04-25T11:35:44.787Z"
   },
   {
    "duration": 9,
    "start_time": "2022-04-25T11:37:07.208Z"
   },
   {
    "duration": 31,
    "start_time": "2022-04-25T11:45:11.713Z"
   },
   {
    "duration": 798,
    "start_time": "2022-04-25T11:45:24.703Z"
   },
   {
    "duration": 468,
    "start_time": "2022-04-25T11:45:25.503Z"
   },
   {
    "duration": 46,
    "start_time": "2022-04-25T11:45:25.973Z"
   },
   {
    "duration": 246,
    "start_time": "2022-04-25T11:45:26.021Z"
   },
   {
    "duration": 76,
    "start_time": "2022-04-25T11:45:26.275Z"
   },
   {
    "duration": 82,
    "start_time": "2022-04-25T11:45:26.353Z"
   },
   {
    "duration": 16,
    "start_time": "2022-04-25T11:45:26.437Z"
   },
   {
    "duration": 5,
    "start_time": "2022-04-25T11:45:26.455Z"
   },
   {
    "duration": 25,
    "start_time": "2022-04-25T11:45:26.462Z"
   },
   {
    "duration": 5,
    "start_time": "2022-04-25T11:45:26.489Z"
   },
   {
    "duration": 6,
    "start_time": "2022-04-25T11:45:26.495Z"
   },
   {
    "duration": 11,
    "start_time": "2022-04-25T11:45:26.502Z"
   },
   {
    "duration": 16,
    "start_time": "2022-04-25T11:45:26.515Z"
   },
   {
    "duration": 61,
    "start_time": "2022-04-25T11:45:26.546Z"
   },
   {
    "duration": 8,
    "start_time": "2022-04-25T11:45:26.609Z"
   },
   {
    "duration": 35,
    "start_time": "2022-04-25T11:45:26.619Z"
   },
   {
    "duration": 56,
    "start_time": "2022-04-25T11:45:26.656Z"
   },
   {
    "duration": 14,
    "start_time": "2022-04-25T11:45:26.714Z"
   },
   {
    "duration": 454,
    "start_time": "2022-04-25T11:45:26.730Z"
   },
   {
    "duration": 13,
    "start_time": "2022-04-25T11:45:27.185Z"
   },
   {
    "duration": 253,
    "start_time": "2022-04-25T11:45:27.200Z"
   },
   {
    "duration": 52,
    "start_time": "2022-04-25T11:45:27.454Z"
   },
   {
    "duration": 59,
    "start_time": "2022-04-25T11:45:27.508Z"
   },
   {
    "duration": 40,
    "start_time": "2022-04-25T11:45:27.571Z"
   },
   {
    "duration": 45,
    "start_time": "2022-04-25T11:45:27.612Z"
   },
   {
    "duration": 34,
    "start_time": "2022-04-25T11:45:27.660Z"
   },
   {
    "duration": 28,
    "start_time": "2022-04-25T11:45:27.696Z"
   },
   {
    "duration": 56,
    "start_time": "2022-04-25T11:45:27.725Z"
   },
   {
    "duration": 29,
    "start_time": "2022-04-25T11:45:27.783Z"
   },
   {
    "duration": 67,
    "start_time": "2022-04-25T11:45:27.814Z"
   },
   {
    "duration": 18,
    "start_time": "2022-04-25T11:45:27.882Z"
   },
   {
    "duration": 9,
    "start_time": "2022-04-25T11:45:27.901Z"
   },
   {
    "duration": 5,
    "start_time": "2022-04-25T11:45:27.911Z"
   },
   {
    "duration": 136,
    "start_time": "2022-04-25T11:45:27.918Z"
   },
   {
    "duration": 10,
    "start_time": "2022-04-25T11:45:28.057Z"
   },
   {
    "duration": 21,
    "start_time": "2022-04-25T11:45:28.070Z"
   },
   {
    "duration": 11,
    "start_time": "2022-04-25T11:45:28.092Z"
   },
   {
    "duration": 10,
    "start_time": "2022-04-25T11:45:28.105Z"
   },
   {
    "duration": 97,
    "start_time": "2022-04-25T11:45:28.117Z"
   },
   {
    "duration": 4,
    "start_time": "2022-04-25T11:45:28.215Z"
   },
   {
    "duration": 27,
    "start_time": "2022-04-25T11:45:28.224Z"
   },
   {
    "duration": 72,
    "start_time": "2022-04-25T11:45:28.255Z"
   },
   {
    "duration": 4,
    "start_time": "2022-04-25T11:45:28.329Z"
   },
   {
    "duration": 15,
    "start_time": "2022-04-25T11:45:28.335Z"
   },
   {
    "duration": 19,
    "start_time": "2022-04-25T11:45:28.356Z"
   },
   {
    "duration": 13,
    "start_time": "2022-04-25T11:45:28.379Z"
   },
   {
    "duration": 11,
    "start_time": "2022-04-25T11:45:28.393Z"
   },
   {
    "duration": 359,
    "start_time": "2022-04-25T11:45:28.406Z"
   },
   {
    "duration": 231,
    "start_time": "2022-04-25T11:45:28.770Z"
   },
   {
    "duration": 239,
    "start_time": "2022-04-25T11:45:29.003Z"
   },
   {
    "duration": 258,
    "start_time": "2022-04-25T11:45:29.244Z"
   },
   {
    "duration": 149,
    "start_time": "2022-04-25T11:45:29.504Z"
   },
   {
    "duration": 450,
    "start_time": "2022-04-25T11:45:29.655Z"
   },
   {
    "duration": 8,
    "start_time": "2022-04-25T11:45:30.107Z"
   },
   {
    "duration": 16,
    "start_time": "2022-04-25T11:45:30.117Z"
   },
   {
    "duration": 188,
    "start_time": "2022-04-25T11:45:30.135Z"
   },
   {
    "duration": 10,
    "start_time": "2022-04-25T11:45:30.325Z"
   },
   {
    "duration": 6,
    "start_time": "2022-04-25T11:45:30.347Z"
   },
   {
    "duration": 205,
    "start_time": "2022-04-25T11:45:30.357Z"
   },
   {
    "duration": 21,
    "start_time": "2022-04-25T11:45:30.564Z"
   },
   {
    "duration": 182,
    "start_time": "2022-04-25T11:45:30.587Z"
   },
   {
    "duration": 260,
    "start_time": "2022-04-25T11:54:46.962Z"
   },
   {
    "duration": 308,
    "start_time": "2022-04-25T11:55:51.105Z"
   },
   {
    "duration": 166,
    "start_time": "2022-04-25T11:56:50.443Z"
   },
   {
    "duration": 159,
    "start_time": "2022-04-25T11:57:04.931Z"
   },
   {
    "duration": 345,
    "start_time": "2022-04-25T11:57:49.246Z"
   },
   {
    "duration": 243,
    "start_time": "2022-04-25T11:57:58.910Z"
   },
   {
    "duration": 918,
    "start_time": "2022-04-27T06:16:00.338Z"
   },
   {
    "duration": 407,
    "start_time": "2022-04-27T06:16:01.258Z"
   },
   {
    "duration": 54,
    "start_time": "2022-04-27T06:16:01.666Z"
   },
   {
    "duration": 250,
    "start_time": "2022-04-27T06:16:01.722Z"
   },
   {
    "duration": 94,
    "start_time": "2022-04-27T06:16:01.975Z"
   },
   {
    "duration": 87,
    "start_time": "2022-04-27T06:16:02.071Z"
   },
   {
    "duration": 12,
    "start_time": "2022-04-27T06:16:02.160Z"
   },
   {
    "duration": 8,
    "start_time": "2022-04-27T06:16:02.174Z"
   },
   {
    "duration": 25,
    "start_time": "2022-04-27T06:16:02.184Z"
   },
   {
    "duration": 4,
    "start_time": "2022-04-27T06:16:02.211Z"
   },
   {
    "duration": 11,
    "start_time": "2022-04-27T06:16:02.216Z"
   },
   {
    "duration": 13,
    "start_time": "2022-04-27T06:16:02.229Z"
   },
   {
    "duration": 19,
    "start_time": "2022-04-27T06:16:02.244Z"
   },
   {
    "duration": 72,
    "start_time": "2022-04-27T06:16:02.268Z"
   },
   {
    "duration": 8,
    "start_time": "2022-04-27T06:16:02.342Z"
   },
   {
    "duration": 16,
    "start_time": "2022-04-27T06:16:02.351Z"
   },
   {
    "duration": 87,
    "start_time": "2022-04-27T06:16:02.368Z"
   },
   {
    "duration": 15,
    "start_time": "2022-04-27T06:16:02.457Z"
   },
   {
    "duration": 670,
    "start_time": "2022-04-27T06:16:02.473Z"
   },
   {
    "duration": 16,
    "start_time": "2022-04-27T06:16:03.144Z"
   },
   {
    "duration": 283,
    "start_time": "2022-04-27T06:16:03.162Z"
   },
   {
    "duration": 71,
    "start_time": "2022-04-27T06:16:03.447Z"
   },
   {
    "duration": 40,
    "start_time": "2022-04-27T06:16:03.520Z"
   },
   {
    "duration": 66,
    "start_time": "2022-04-27T06:16:03.561Z"
   },
   {
    "duration": 37,
    "start_time": "2022-04-27T06:16:03.629Z"
   },
   {
    "duration": 53,
    "start_time": "2022-04-27T06:16:03.667Z"
   },
   {
    "duration": 31,
    "start_time": "2022-04-27T06:16:03.722Z"
   },
   {
    "duration": 54,
    "start_time": "2022-04-27T06:16:03.755Z"
   },
   {
    "duration": 32,
    "start_time": "2022-04-27T06:16:03.811Z"
   },
   {
    "duration": 73,
    "start_time": "2022-04-27T06:16:03.845Z"
   },
   {
    "duration": 22,
    "start_time": "2022-04-27T06:16:03.920Z"
   },
   {
    "duration": 11,
    "start_time": "2022-04-27T06:16:03.944Z"
   },
   {
    "duration": 5,
    "start_time": "2022-04-27T06:16:03.957Z"
   },
   {
    "duration": 152,
    "start_time": "2022-04-27T06:16:03.964Z"
   },
   {
    "duration": 8,
    "start_time": "2022-04-27T06:16:04.119Z"
   },
   {
    "duration": 27,
    "start_time": "2022-04-27T06:16:04.129Z"
   },
   {
    "duration": 14,
    "start_time": "2022-04-27T06:16:04.158Z"
   },
   {
    "duration": 9,
    "start_time": "2022-04-27T06:16:04.174Z"
   },
   {
    "duration": 69,
    "start_time": "2022-04-27T06:16:04.207Z"
   },
   {
    "duration": 4,
    "start_time": "2022-04-27T06:16:04.277Z"
   },
   {
    "duration": 8,
    "start_time": "2022-04-27T06:16:04.307Z"
   },
   {
    "duration": 55,
    "start_time": "2022-04-27T06:16:04.317Z"
   },
   {
    "duration": 3,
    "start_time": "2022-04-27T06:16:04.374Z"
   },
   {
    "duration": 5,
    "start_time": "2022-04-27T06:16:04.406Z"
   },
   {
    "duration": 14,
    "start_time": "2022-04-27T06:16:04.412Z"
   },
   {
    "duration": 12,
    "start_time": "2022-04-27T06:16:04.428Z"
   },
   {
    "duration": 12,
    "start_time": "2022-04-27T06:16:04.442Z"
   },
   {
    "duration": 438,
    "start_time": "2022-04-27T06:16:04.456Z"
   },
   {
    "duration": 178,
    "start_time": "2022-04-27T06:16:04.896Z"
   },
   {
    "duration": 352,
    "start_time": "2022-04-27T06:16:05.077Z"
   },
   {
    "duration": 195,
    "start_time": "2022-04-27T06:16:05.432Z"
   },
   {
    "duration": 156,
    "start_time": "2022-04-27T06:16:05.629Z"
   },
   {
    "duration": 263,
    "start_time": "2022-04-27T06:16:05.787Z"
   },
   {
    "duration": 8,
    "start_time": "2022-04-27T06:16:06.051Z"
   },
   {
    "duration": 10,
    "start_time": "2022-04-27T06:16:06.061Z"
   },
   {
    "duration": 190,
    "start_time": "2022-04-27T06:16:06.073Z"
   },
   {
    "duration": 9,
    "start_time": "2022-04-27T06:16:06.264Z"
   },
   {
    "duration": 5,
    "start_time": "2022-04-27T06:16:06.275Z"
   },
   {
    "duration": 224,
    "start_time": "2022-04-27T06:16:06.281Z"
   },
   {
    "duration": 13,
    "start_time": "2022-04-27T06:16:06.506Z"
   },
   {
    "duration": 219,
    "start_time": "2022-04-27T06:16:06.520Z"
   },
   {
    "duration": 858,
    "start_time": "2022-04-27T08:07:03.105Z"
   },
   {
    "duration": 388,
    "start_time": "2022-04-27T08:07:03.965Z"
   },
   {
    "duration": 48,
    "start_time": "2022-04-27T08:07:04.355Z"
   },
   {
    "duration": 232,
    "start_time": "2022-04-27T08:07:04.404Z"
   },
   {
    "duration": 90,
    "start_time": "2022-04-27T08:07:04.638Z"
   },
   {
    "duration": 87,
    "start_time": "2022-04-27T08:07:04.730Z"
   },
   {
    "duration": 10,
    "start_time": "2022-04-27T08:07:04.818Z"
   },
   {
    "duration": 5,
    "start_time": "2022-04-27T08:07:04.830Z"
   },
   {
    "duration": 6,
    "start_time": "2022-04-27T08:07:04.836Z"
   },
   {
    "duration": 4,
    "start_time": "2022-04-27T08:07:04.844Z"
   },
   {
    "duration": 7,
    "start_time": "2022-04-27T08:07:04.849Z"
   },
   {
    "duration": 18,
    "start_time": "2022-04-27T08:07:04.857Z"
   },
   {
    "duration": 17,
    "start_time": "2022-04-27T08:07:04.907Z"
   },
   {
    "duration": 47,
    "start_time": "2022-04-27T08:07:04.928Z"
   },
   {
    "duration": 34,
    "start_time": "2022-04-27T08:07:04.977Z"
   },
   {
    "duration": 15,
    "start_time": "2022-04-27T08:07:05.013Z"
   },
   {
    "duration": 77,
    "start_time": "2022-04-27T08:07:05.030Z"
   },
   {
    "duration": 17,
    "start_time": "2022-04-27T08:07:05.109Z"
   },
   {
    "duration": 459,
    "start_time": "2022-04-27T08:07:05.128Z"
   },
   {
    "duration": 28,
    "start_time": "2022-04-27T08:07:05.589Z"
   },
   {
    "duration": 271,
    "start_time": "2022-04-27T08:07:05.619Z"
   },
   {
    "duration": 63,
    "start_time": "2022-04-27T08:07:05.892Z"
   },
   {
    "duration": 51,
    "start_time": "2022-04-27T08:07:05.956Z"
   },
   {
    "duration": 43,
    "start_time": "2022-04-27T08:07:06.009Z"
   },
   {
    "duration": 55,
    "start_time": "2022-04-27T08:07:06.053Z"
   },
   {
    "duration": 32,
    "start_time": "2022-04-27T08:07:06.110Z"
   },
   {
    "duration": 31,
    "start_time": "2022-04-27T08:07:06.144Z"
   },
   {
    "duration": 54,
    "start_time": "2022-04-27T08:07:06.176Z"
   },
   {
    "duration": 31,
    "start_time": "2022-04-27T08:07:06.231Z"
   },
   {
    "duration": 70,
    "start_time": "2022-04-27T08:07:06.263Z"
   },
   {
    "duration": 21,
    "start_time": "2022-04-27T08:07:06.335Z"
   },
   {
    "duration": 10,
    "start_time": "2022-04-27T08:07:06.358Z"
   },
   {
    "duration": 4,
    "start_time": "2022-04-27T08:07:06.370Z"
   },
   {
    "duration": 144,
    "start_time": "2022-04-27T08:07:06.375Z"
   },
   {
    "duration": 5,
    "start_time": "2022-04-27T08:07:06.521Z"
   },
   {
    "duration": 14,
    "start_time": "2022-04-27T08:07:06.527Z"
   },
   {
    "duration": 11,
    "start_time": "2022-04-27T08:07:06.543Z"
   },
   {
    "duration": 8,
    "start_time": "2022-04-27T08:07:06.555Z"
   },
   {
    "duration": 98,
    "start_time": "2022-04-27T08:07:06.565Z"
   },
   {
    "duration": 4,
    "start_time": "2022-04-27T08:07:06.665Z"
   },
   {
    "duration": 10,
    "start_time": "2022-04-27T08:07:06.673Z"
   },
   {
    "duration": 67,
    "start_time": "2022-04-27T08:07:06.685Z"
   },
   {
    "duration": 4,
    "start_time": "2022-04-27T08:07:06.753Z"
   },
   {
    "duration": 7,
    "start_time": "2022-04-27T08:07:06.759Z"
   },
   {
    "duration": 17,
    "start_time": "2022-04-27T08:07:06.767Z"
   },
   {
    "duration": 32,
    "start_time": "2022-04-27T08:07:06.785Z"
   },
   {
    "duration": 13,
    "start_time": "2022-04-27T08:07:06.818Z"
   },
   {
    "duration": 410,
    "start_time": "2022-04-27T08:07:06.833Z"
   },
   {
    "duration": 167,
    "start_time": "2022-04-27T08:07:07.245Z"
   },
   {
    "duration": 277,
    "start_time": "2022-04-27T08:07:07.413Z"
   },
   {
    "duration": 204,
    "start_time": "2022-04-27T08:07:07.692Z"
   },
   {
    "duration": 241,
    "start_time": "2022-04-27T08:07:07.897Z"
   },
   {
    "duration": 255,
    "start_time": "2022-04-27T08:07:08.140Z"
   },
   {
    "duration": 15,
    "start_time": "2022-04-27T08:07:08.397Z"
   },
   {
    "duration": 7,
    "start_time": "2022-04-27T08:07:08.414Z"
   },
   {
    "duration": 169,
    "start_time": "2022-04-27T08:07:08.422Z"
   },
   {
    "duration": 17,
    "start_time": "2022-04-27T08:07:08.593Z"
   },
   {
    "duration": 6,
    "start_time": "2022-04-27T08:07:08.611Z"
   },
   {
    "duration": 216,
    "start_time": "2022-04-27T08:07:08.618Z"
   },
   {
    "duration": 11,
    "start_time": "2022-04-27T08:07:08.835Z"
   },
   {
    "duration": 204,
    "start_time": "2022-04-27T08:07:08.847Z"
   }
  ],
  "colab": {
   "collapsed_sections": [
    "KMpXwgqxr4ho"
   ],
   "name": "Копия блокнота \"Untitled1.ipynb\"",
   "provenance": [],
   "toc_visible": true
  },
  "kernelspec": {
   "display_name": "Python 3",
   "language": "python",
   "name": "python3"
  },
  "language_info": {
   "codemirror_mode": {
    "name": "ipython",
    "version": 3
   },
   "file_extension": ".py",
   "mimetype": "text/x-python",
   "name": "python",
   "nbconvert_exporter": "python",
   "pygments_lexer": "ipython3",
   "version": "3.8.3"
  },
  "toc": {
   "base_numbering": 1,
   "nav_menu": {},
   "number_sections": false,
   "sideBar": true,
   "skip_h1_title": false,
   "title_cell": "Table of Contents",
   "title_sidebar": "Contents",
   "toc_cell": false,
   "toc_position": {
    "height": "calc(100% - 180px)",
    "left": "10px",
    "top": "150px",
    "width": "316.4px"
   },
   "toc_section_display": true,
   "toc_window_display": true
  }
 },
 "nbformat": 4,
 "nbformat_minor": 1
}
