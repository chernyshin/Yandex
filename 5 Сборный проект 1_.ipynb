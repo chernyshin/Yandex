{
 "cells": [
  {
   "cell_type": "markdown",
   "metadata": {},
   "source": [
    "## Описание проекта"
   ]
  },
  {
   "cell_type": "markdown",
   "metadata": {},
   "source": [
    "Заказчик исследования - интернет-магазин «Стримчик», который продаёт по всему миру компьютерные игры. Из открытых источников доступны исторические данные о продажах игр, оценки пользователей и экспертов, жанры и платформы (например, Xbox или PlayStation). Нужно выявить определяющие успешность игры закономерности. Это позволит сделать ставку на потенциально популярный продукт и спланировать рекламные кампании.\n",
    "\n",
    "Перед нами данные до 2016 года, и мы планируем кампанию на 2017-й.\n",
    "\n",
    "*В наборе данных попадается аббревиатура ESRB (Entertainment Software Rating Board) — это ассоциация, определяющая возрастной рейтинг компьютерных игр. ESRB оценивает игровой контент и присваивает ему подходящую возрастную категорию, например, «Для взрослых», «Для детей младшего возраста» или «Для подростков».*"
   ]
  },
  {
   "cell_type": "markdown",
   "metadata": {},
   "source": [
    "### Ход выполнения проекта\n",
    "\n",
    "<a href=\"#p1\">Шаг 1. Открыть файл с данными и изучить общую информацию</a>\n",
    "\n",
    "Путь к файлу: `/datasets/games.csv.`\n",
    "\n",
    "<a href=\"#p2\">Шаг 2. Подготовить данные</a>\n",
    "\n",
    "1. Заменить названия столбцов (привести к нижнему регистру);\n",
    "2. Преобразовать данные в нужные типы;\n",
    "3. Обработать пропуски при необходимости:\n",
    "4. Объяснить цель заполнения или незаполнения пропусков;\n",
    "5. Описать причины, которые могли привести к пропускам;\n",
    "6. Посчитать суммарные продажи во всех регионах и запишите их в отдельный столбец.\n",
    "\n",
    "<a href=\"#p3\">Шаг 3. Провести исследовательский анализ данных</a>\n",
    "\n",
    "1. Посмотреть, сколько игр выпускалось в разные годы. Важны ли данные за все периоды?\n",
    "2. Посмотреть, как менялись продажи по платформам. Выбрать платформы с наибольшими суммарными продажами и построить распределение по годам. За какой характерный срок появляются новые и исчезают старые платформы?\n",
    "3. Взять данные за соответствующий актуальный период. Актуальный период определить самостоятельно в результате исследования предыдущих вопросов. Основной фактор — эти данные помогут построить прогноз на 2017 год.\n",
    "4. Не учитывать в работе данные за предыдущие годы.\n",
    "5. Какие платформы лидируют по продажам, растут или падают? Выбрать несколько потенциально прибыльных платформ.\n",
    "6. Построить график «ящик с усами» по глобальным продажам игр в разбивке по платформам. Описать результат.\n",
    "7. Посмотреть, как влияют на продажи внутри одной популярной платформы отзывы пользователей и критиков. Построить диаграмму рассеяния и посчитать корреляцию между отзывами и продажами. Сформулировать выводы.\n",
    "8. Соотнести выводы с продажами игр на других платформах.\n",
    "9. Посмотреть на общее распределение игр по жанрам. Что можно сказать о самых прибыльных жанрах? Выделяются ли жанры с высокими и низкими продажами?\n",
    "\n",
    "<a href=\"#p4\">Шаг 4. Составить портрет пользователя каждого региона</a>\n",
    "\n",
    "Определить для пользователя каждого региона (NA, EU, JP):\n",
    "1. Самые популярные платформы (топ-5). Описать различия в долях продаж.\n",
    "2. Самые популярные жанры (топ-5). Пояснить разницу.\n",
    "3. Влияет ли рейтинг ESRB на продажи в отдельном регионе?\n",
    "\n",
    "<a href=\"#p5\">Шаг 5. Провка гипотез</a>\n",
    "\n",
    "1. Средние пользовательские рейтинги платформ Xbox One и PC одинаковые;\n",
    "2. Средние пользовательские рейтинги жанров Action (англ. «действие», экшен-игры) и Sports (англ. «спортивные соревнования») разные.\n",
    "\n",
    "Пояснить:\n",
    "- Как сформулированы нулевая и альтернативная гипотезы;\n",
    "- Какой критерий применили для проверки гипотез и почему.\n",
    "\n",
    "<a href=\"#p6\">Шаг 6. Написать общий вывод</a>"
   ]
  },
  {
   "cell_type": "markdown",
   "metadata": {},
   "source": [
    "### Описание данных\n",
    "\n",
    "*Name* — название игры\n",
    "\n",
    "*Platform* — платформа\n",
    "\n",
    "*Year_of_Release* — год выпуска\n",
    "\n",
    "*Genre* — жанр игры\n",
    "\n",
    "*NA_sales* — продажи в Северной Америке (миллионы проданных копий)\n",
    "\n",
    "*EU_sales* — продажи в Европе (миллионы проданных копий)\n",
    "\n",
    "*JP_sales* — продажи в Японии (миллионы проданных копий)\n",
    "\n",
    "*Other_sales* — продажи в других странах (миллионы проданных копий)\n",
    "\n",
    "*Critic_Score* — оценка критиков (максимум 100)\n",
    "\n",
    "*User_Score* — оценка пользователей (максимум 10)\n",
    "\n",
    "*Rating* — рейтинг от организации ESRB (англ. Entertainment Software Rating Board). Эта ассоциация определяет рейтинг компьютерных игр и присваивает им подходящую возрастную категорию."
   ]
  },
  {
   "cell_type": "markdown",
   "metadata": {},
   "source": [
    "<a id=\"p1\"></a>\n",
    "### Получение данных"
   ]
  },
  {
   "cell_type": "code",
   "execution_count": 1,
   "metadata": {},
   "outputs": [],
   "source": [
    "#Импорты\n",
    "\n",
    "import pandas as pd\n",
    "import numpy as np\n",
    "import seaborn as sns\n",
    "import matplotlib.pyplot as plt\n",
    "from scipy import stats as st"
   ]
  },
  {
   "cell_type": "code",
   "execution_count": 2,
   "metadata": {},
   "outputs": [
    {
     "data": {
      "text/html": [
       "<div>\n",
       "<style scoped>\n",
       "    .dataframe tbody tr th:only-of-type {\n",
       "        vertical-align: middle;\n",
       "    }\n",
       "\n",
       "    .dataframe tbody tr th {\n",
       "        vertical-align: top;\n",
       "    }\n",
       "\n",
       "    .dataframe thead th {\n",
       "        text-align: right;\n",
       "    }\n",
       "</style>\n",
       "<table border=\"1\" class=\"dataframe\">\n",
       "  <thead>\n",
       "    <tr style=\"text-align: right;\">\n",
       "      <th></th>\n",
       "      <th>Name</th>\n",
       "      <th>Platform</th>\n",
       "      <th>Year_of_Release</th>\n",
       "      <th>Genre</th>\n",
       "      <th>NA_sales</th>\n",
       "      <th>EU_sales</th>\n",
       "      <th>JP_sales</th>\n",
       "      <th>Other_sales</th>\n",
       "      <th>Critic_Score</th>\n",
       "      <th>User_Score</th>\n",
       "      <th>Rating</th>\n",
       "    </tr>\n",
       "  </thead>\n",
       "  <tbody>\n",
       "    <tr>\n",
       "      <th>0</th>\n",
       "      <td>Wii Sports</td>\n",
       "      <td>Wii</td>\n",
       "      <td>2006.0</td>\n",
       "      <td>Sports</td>\n",
       "      <td>41.36</td>\n",
       "      <td>28.96</td>\n",
       "      <td>3.77</td>\n",
       "      <td>8.45</td>\n",
       "      <td>76.0</td>\n",
       "      <td>8</td>\n",
       "      <td>E</td>\n",
       "    </tr>\n",
       "    <tr>\n",
       "      <th>1</th>\n",
       "      <td>Super Mario Bros.</td>\n",
       "      <td>NES</td>\n",
       "      <td>1985.0</td>\n",
       "      <td>Platform</td>\n",
       "      <td>29.08</td>\n",
       "      <td>3.58</td>\n",
       "      <td>6.81</td>\n",
       "      <td>0.77</td>\n",
       "      <td>NaN</td>\n",
       "      <td>NaN</td>\n",
       "      <td>NaN</td>\n",
       "    </tr>\n",
       "    <tr>\n",
       "      <th>2</th>\n",
       "      <td>Mario Kart Wii</td>\n",
       "      <td>Wii</td>\n",
       "      <td>2008.0</td>\n",
       "      <td>Racing</td>\n",
       "      <td>15.68</td>\n",
       "      <td>12.76</td>\n",
       "      <td>3.79</td>\n",
       "      <td>3.29</td>\n",
       "      <td>82.0</td>\n",
       "      <td>8.3</td>\n",
       "      <td>E</td>\n",
       "    </tr>\n",
       "    <tr>\n",
       "      <th>3</th>\n",
       "      <td>Wii Sports Resort</td>\n",
       "      <td>Wii</td>\n",
       "      <td>2009.0</td>\n",
       "      <td>Sports</td>\n",
       "      <td>15.61</td>\n",
       "      <td>10.93</td>\n",
       "      <td>3.28</td>\n",
       "      <td>2.95</td>\n",
       "      <td>80.0</td>\n",
       "      <td>8</td>\n",
       "      <td>E</td>\n",
       "    </tr>\n",
       "    <tr>\n",
       "      <th>4</th>\n",
       "      <td>Pokemon Red/Pokemon Blue</td>\n",
       "      <td>GB</td>\n",
       "      <td>1996.0</td>\n",
       "      <td>Role-Playing</td>\n",
       "      <td>11.27</td>\n",
       "      <td>8.89</td>\n",
       "      <td>10.22</td>\n",
       "      <td>1.00</td>\n",
       "      <td>NaN</td>\n",
       "      <td>NaN</td>\n",
       "      <td>NaN</td>\n",
       "    </tr>\n",
       "    <tr>\n",
       "      <th>...</th>\n",
       "      <td>...</td>\n",
       "      <td>...</td>\n",
       "      <td>...</td>\n",
       "      <td>...</td>\n",
       "      <td>...</td>\n",
       "      <td>...</td>\n",
       "      <td>...</td>\n",
       "      <td>...</td>\n",
       "      <td>...</td>\n",
       "      <td>...</td>\n",
       "      <td>...</td>\n",
       "    </tr>\n",
       "    <tr>\n",
       "      <th>16710</th>\n",
       "      <td>Samurai Warriors: Sanada Maru</td>\n",
       "      <td>PS3</td>\n",
       "      <td>2016.0</td>\n",
       "      <td>Action</td>\n",
       "      <td>0.00</td>\n",
       "      <td>0.00</td>\n",
       "      <td>0.01</td>\n",
       "      <td>0.00</td>\n",
       "      <td>NaN</td>\n",
       "      <td>NaN</td>\n",
       "      <td>NaN</td>\n",
       "    </tr>\n",
       "    <tr>\n",
       "      <th>16711</th>\n",
       "      <td>LMA Manager 2007</td>\n",
       "      <td>X360</td>\n",
       "      <td>2006.0</td>\n",
       "      <td>Sports</td>\n",
       "      <td>0.00</td>\n",
       "      <td>0.01</td>\n",
       "      <td>0.00</td>\n",
       "      <td>0.00</td>\n",
       "      <td>NaN</td>\n",
       "      <td>NaN</td>\n",
       "      <td>NaN</td>\n",
       "    </tr>\n",
       "    <tr>\n",
       "      <th>16712</th>\n",
       "      <td>Haitaka no Psychedelica</td>\n",
       "      <td>PSV</td>\n",
       "      <td>2016.0</td>\n",
       "      <td>Adventure</td>\n",
       "      <td>0.00</td>\n",
       "      <td>0.00</td>\n",
       "      <td>0.01</td>\n",
       "      <td>0.00</td>\n",
       "      <td>NaN</td>\n",
       "      <td>NaN</td>\n",
       "      <td>NaN</td>\n",
       "    </tr>\n",
       "    <tr>\n",
       "      <th>16713</th>\n",
       "      <td>Spirits &amp; Spells</td>\n",
       "      <td>GBA</td>\n",
       "      <td>2003.0</td>\n",
       "      <td>Platform</td>\n",
       "      <td>0.01</td>\n",
       "      <td>0.00</td>\n",
       "      <td>0.00</td>\n",
       "      <td>0.00</td>\n",
       "      <td>NaN</td>\n",
       "      <td>NaN</td>\n",
       "      <td>NaN</td>\n",
       "    </tr>\n",
       "    <tr>\n",
       "      <th>16714</th>\n",
       "      <td>Winning Post 8 2016</td>\n",
       "      <td>PSV</td>\n",
       "      <td>2016.0</td>\n",
       "      <td>Simulation</td>\n",
       "      <td>0.00</td>\n",
       "      <td>0.00</td>\n",
       "      <td>0.01</td>\n",
       "      <td>0.00</td>\n",
       "      <td>NaN</td>\n",
       "      <td>NaN</td>\n",
       "      <td>NaN</td>\n",
       "    </tr>\n",
       "  </tbody>\n",
       "</table>\n",
       "<p>16715 rows × 11 columns</p>\n",
       "</div>"
      ],
      "text/plain": [
       "                                Name Platform  Year_of_Release         Genre  \\\n",
       "0                         Wii Sports      Wii           2006.0        Sports   \n",
       "1                  Super Mario Bros.      NES           1985.0      Platform   \n",
       "2                     Mario Kart Wii      Wii           2008.0        Racing   \n",
       "3                  Wii Sports Resort      Wii           2009.0        Sports   \n",
       "4           Pokemon Red/Pokemon Blue       GB           1996.0  Role-Playing   \n",
       "...                              ...      ...              ...           ...   \n",
       "16710  Samurai Warriors: Sanada Maru      PS3           2016.0        Action   \n",
       "16711               LMA Manager 2007     X360           2006.0        Sports   \n",
       "16712        Haitaka no Psychedelica      PSV           2016.0     Adventure   \n",
       "16713               Spirits & Spells      GBA           2003.0      Platform   \n",
       "16714            Winning Post 8 2016      PSV           2016.0    Simulation   \n",
       "\n",
       "       NA_sales  EU_sales  JP_sales  Other_sales  Critic_Score User_Score  \\\n",
       "0         41.36     28.96      3.77         8.45          76.0          8   \n",
       "1         29.08      3.58      6.81         0.77           NaN        NaN   \n",
       "2         15.68     12.76      3.79         3.29          82.0        8.3   \n",
       "3         15.61     10.93      3.28         2.95          80.0          8   \n",
       "4         11.27      8.89     10.22         1.00           NaN        NaN   \n",
       "...         ...       ...       ...          ...           ...        ...   \n",
       "16710      0.00      0.00      0.01         0.00           NaN        NaN   \n",
       "16711      0.00      0.01      0.00         0.00           NaN        NaN   \n",
       "16712      0.00      0.00      0.01         0.00           NaN        NaN   \n",
       "16713      0.01      0.00      0.00         0.00           NaN        NaN   \n",
       "16714      0.00      0.00      0.01         0.00           NaN        NaN   \n",
       "\n",
       "      Rating  \n",
       "0          E  \n",
       "1        NaN  \n",
       "2          E  \n",
       "3          E  \n",
       "4        NaN  \n",
       "...      ...  \n",
       "16710    NaN  \n",
       "16711    NaN  \n",
       "16712    NaN  \n",
       "16713    NaN  \n",
       "16714    NaN  \n",
       "\n",
       "[16715 rows x 11 columns]"
      ]
     },
     "execution_count": 2,
     "metadata": {},
     "output_type": "execute_result"
    }
   ],
   "source": [
    "#Создаём датафрейм\n",
    "df = pd.read_csv('/datasets/games.csv')\n",
    "df"
   ]
  },
  {
   "cell_type": "markdown",
   "metadata": {},
   "source": [
    "Рассмотрим общую информацию о данных"
   ]
  },
  {
   "cell_type": "code",
   "execution_count": 3,
   "metadata": {},
   "outputs": [
    {
     "name": "stdout",
     "output_type": "stream",
     "text": [
      "<class 'pandas.core.frame.DataFrame'>\n",
      "RangeIndex: 16715 entries, 0 to 16714\n",
      "Data columns (total 11 columns):\n",
      " #   Column           Non-Null Count  Dtype  \n",
      "---  ------           --------------  -----  \n",
      " 0   Name             16713 non-null  object \n",
      " 1   Platform         16715 non-null  object \n",
      " 2   Year_of_Release  16446 non-null  float64\n",
      " 3   Genre            16713 non-null  object \n",
      " 4   NA_sales         16715 non-null  float64\n",
      " 5   EU_sales         16715 non-null  float64\n",
      " 6   JP_sales         16715 non-null  float64\n",
      " 7   Other_sales      16715 non-null  float64\n",
      " 8   Critic_Score     8137 non-null   float64\n",
      " 9   User_Score       10014 non-null  object \n",
      " 10  Rating           9949 non-null   object \n",
      "dtypes: float64(6), object(5)\n",
      "memory usage: 1.4+ MB\n"
     ]
    }
   ],
   "source": [
    "df.info()"
   ]
  },
  {
   "cell_type": "code",
   "execution_count": 4,
   "metadata": {},
   "outputs": [
    {
     "data": {
      "text/html": [
       "<div>\n",
       "<style scoped>\n",
       "    .dataframe tbody tr th:only-of-type {\n",
       "        vertical-align: middle;\n",
       "    }\n",
       "\n",
       "    .dataframe tbody tr th {\n",
       "        vertical-align: top;\n",
       "    }\n",
       "\n",
       "    .dataframe thead th {\n",
       "        text-align: right;\n",
       "    }\n",
       "</style>\n",
       "<table border=\"1\" class=\"dataframe\">\n",
       "  <thead>\n",
       "    <tr style=\"text-align: right;\">\n",
       "      <th></th>\n",
       "      <th>Year_of_Release</th>\n",
       "      <th>NA_sales</th>\n",
       "      <th>EU_sales</th>\n",
       "      <th>JP_sales</th>\n",
       "      <th>Other_sales</th>\n",
       "      <th>Critic_Score</th>\n",
       "    </tr>\n",
       "  </thead>\n",
       "  <tbody>\n",
       "    <tr>\n",
       "      <th>count</th>\n",
       "      <td>16446.000000</td>\n",
       "      <td>16715.000000</td>\n",
       "      <td>16715.000000</td>\n",
       "      <td>16715.000000</td>\n",
       "      <td>16715.000000</td>\n",
       "      <td>8137.000000</td>\n",
       "    </tr>\n",
       "    <tr>\n",
       "      <th>mean</th>\n",
       "      <td>2006.484616</td>\n",
       "      <td>0.263377</td>\n",
       "      <td>0.145060</td>\n",
       "      <td>0.077617</td>\n",
       "      <td>0.047342</td>\n",
       "      <td>68.967679</td>\n",
       "    </tr>\n",
       "    <tr>\n",
       "      <th>std</th>\n",
       "      <td>5.877050</td>\n",
       "      <td>0.813604</td>\n",
       "      <td>0.503339</td>\n",
       "      <td>0.308853</td>\n",
       "      <td>0.186731</td>\n",
       "      <td>13.938165</td>\n",
       "    </tr>\n",
       "    <tr>\n",
       "      <th>min</th>\n",
       "      <td>1980.000000</td>\n",
       "      <td>0.000000</td>\n",
       "      <td>0.000000</td>\n",
       "      <td>0.000000</td>\n",
       "      <td>0.000000</td>\n",
       "      <td>13.000000</td>\n",
       "    </tr>\n",
       "    <tr>\n",
       "      <th>25%</th>\n",
       "      <td>2003.000000</td>\n",
       "      <td>0.000000</td>\n",
       "      <td>0.000000</td>\n",
       "      <td>0.000000</td>\n",
       "      <td>0.000000</td>\n",
       "      <td>60.000000</td>\n",
       "    </tr>\n",
       "    <tr>\n",
       "      <th>50%</th>\n",
       "      <td>2007.000000</td>\n",
       "      <td>0.080000</td>\n",
       "      <td>0.020000</td>\n",
       "      <td>0.000000</td>\n",
       "      <td>0.010000</td>\n",
       "      <td>71.000000</td>\n",
       "    </tr>\n",
       "    <tr>\n",
       "      <th>75%</th>\n",
       "      <td>2010.000000</td>\n",
       "      <td>0.240000</td>\n",
       "      <td>0.110000</td>\n",
       "      <td>0.040000</td>\n",
       "      <td>0.030000</td>\n",
       "      <td>79.000000</td>\n",
       "    </tr>\n",
       "    <tr>\n",
       "      <th>max</th>\n",
       "      <td>2016.000000</td>\n",
       "      <td>41.360000</td>\n",
       "      <td>28.960000</td>\n",
       "      <td>10.220000</td>\n",
       "      <td>10.570000</td>\n",
       "      <td>98.000000</td>\n",
       "    </tr>\n",
       "  </tbody>\n",
       "</table>\n",
       "</div>"
      ],
      "text/plain": [
       "       Year_of_Release      NA_sales      EU_sales      JP_sales  \\\n",
       "count     16446.000000  16715.000000  16715.000000  16715.000000   \n",
       "mean       2006.484616      0.263377      0.145060      0.077617   \n",
       "std           5.877050      0.813604      0.503339      0.308853   \n",
       "min        1980.000000      0.000000      0.000000      0.000000   \n",
       "25%        2003.000000      0.000000      0.000000      0.000000   \n",
       "50%        2007.000000      0.080000      0.020000      0.000000   \n",
       "75%        2010.000000      0.240000      0.110000      0.040000   \n",
       "max        2016.000000     41.360000     28.960000     10.220000   \n",
       "\n",
       "        Other_sales  Critic_Score  \n",
       "count  16715.000000   8137.000000  \n",
       "mean       0.047342     68.967679  \n",
       "std        0.186731     13.938165  \n",
       "min        0.000000     13.000000  \n",
       "25%        0.000000     60.000000  \n",
       "50%        0.010000     71.000000  \n",
       "75%        0.030000     79.000000  \n",
       "max       10.570000     98.000000  "
      ]
     },
     "execution_count": 4,
     "metadata": {},
     "output_type": "execute_result"
    }
   ],
   "source": [
    "#Рассмотрим диапазоны данных\n",
    "df.describe()"
   ]
  },
  {
   "cell_type": "code",
   "execution_count": 5,
   "metadata": {},
   "outputs": [
    {
     "data": {
      "text/plain": [
       "False    16715\n",
       "dtype: int64"
      ]
     },
     "execution_count": 5,
     "metadata": {},
     "output_type": "execute_result"
    }
   ],
   "source": [
    "#Ищем дубли\n",
    "df.duplicated().value_counts()"
   ]
  },
  {
   "cell_type": "code",
   "execution_count": 6,
   "metadata": {},
   "outputs": [
    {
     "data": {
      "text/plain": [
       "E       3990\n",
       "T       2961\n",
       "M       1563\n",
       "E10+    1420\n",
       "EC         8\n",
       "K-A        3\n",
       "RP         3\n",
       "AO         1\n",
       "Name: Rating, dtype: int64"
      ]
     },
     "execution_count": 6,
     "metadata": {},
     "output_type": "execute_result"
    }
   ],
   "source": [
    "#Ищем неявные дубликаты в рейтинге\n",
    "df['Rating'].value_counts()"
   ]
  },
  {
   "cell_type": "markdown",
   "metadata": {},
   "source": [
    "Рейтинг K-A, AO и E - примерно один и тот же рейтинг, но использовался в разные годы и может иметь разный \"оттенок\", принимаем решение не объединять."
   ]
  },
  {
   "cell_type": "markdown",
   "metadata": {},
   "source": [
    "ESRB определяет рейтинг ПО в США и Канаде с 1994 года. Игры, которые выпускались за пределами этих стран в ранние годы могут не иметь рейтинг ESRB, чем и объясняются пропуски. Заполним пропуски значением \"WR\" (without rating).  "
   ]
  },
  {
   "cell_type": "markdown",
   "metadata": {},
   "source": [
    "Оценки критиков выглядят как целые числа, хотя тип данных - float, проверим это:"
   ]
  },
  {
   "cell_type": "code",
   "execution_count": 7,
   "metadata": {},
   "outputs": [
    {
     "name": "stdout",
     "output_type": "stream",
     "text": [
      "Количество нецелых значений: 0\n"
     ]
    }
   ],
   "source": [
    "dfc = df.dropna()\n",
    "dfc = dfc.loc[df['Critic_Score'] % 1 != 0]\n",
    "print('Количество нецелых значений:', len(dfc))"
   ]
  },
  {
   "cell_type": "markdown",
   "metadata": {},
   "source": [
    "Год также имеет тип данных float, проверим значения:\n"
   ]
  },
  {
   "cell_type": "code",
   "execution_count": 8,
   "metadata": {},
   "outputs": [
    {
     "name": "stdout",
     "output_type": "stream",
     "text": [
      "Количество нецелых значений: 0\n"
     ]
    }
   ],
   "source": [
    "dfy = df.dropna()\n",
    "dfy = dfy.loc[df['Year_of_Release'] % 1 != 0]\n",
    "print('Количество нецелых значений:', len(dfy))"
   ]
  },
  {
   "cell_type": "markdown",
   "metadata": {},
   "source": [
    "В столбцах с названием игр найдём неявные дубликаты:"
   ]
  },
  {
   "cell_type": "code",
   "execution_count": 9,
   "metadata": {},
   "outputs": [
    {
     "name": "stdout",
     "output_type": "stream",
     "text": [
      "[' Beyblade Burst', ' Fire Emblem Fates', \" Frozen: Olaf's Quest\", ' Haikyu!! Cross Team Match!', ' Tales of Xillia 2', \"'98 Koshien\", '.hack//G.U. Vol.1//Rebirth', '.hack//G.U. Vol.2//Reminisce', '.hack//G.U. Vol.2//Reminisce (jp sales)', '.hack//G.U. Vol.3//Redemption', '.hack//Infection Part 1', '.hack//Link', '.hack//Mutation Part 2', '.hack//Outbreak Part 3', '.hack//Quarantine Part 4: The Final Chapter', '.hack: Sekai no Mukou ni + Versus', '007 Racing', '007: Quantum of Solace', '007: The World is not Enough', '007: Tomorrow Never Dies', '1 vs. 100', '1/2 Summer +', '10 Minute Solution', '100 All-Time Favorites', '100 Classic Books', '100 Classic Games', '1000 Cooking Recipes from ELLE à table', '1001 Touch Games', '101-in-1 Explosive Megamix', '101-in-1 Party Megamix Wii', '101-in-1 Sports Megamix', '101-in-1 Sports Party Megamix', '1080°: TenEighty Snowboarding', '11eyes: CrossOver', '12-Sai. Honto no Kimochi', '12-Sai. Koisuru Diary', '12Riven: The Psi-Climinal of Integral', '15 Days', '1701 A.D.', '18 Wheeler: American Pro Trucker', '18 Wheels of Steel: Extreme Trucker', '18 Wheels of Steel: Extreme Trucker 2', '187: Ride or Die', '1942', '2 Games in 1 Double Pack: Hot Wheels Velocity X / Hot Wheels World Race', '2 Games in 1 Double Pack: The Incredibles / Finding Nemo: The Continuing Adventures', '2 Games in 1: Disney Princess & The Lion King', \"2 Games in 1: Disney's Brother Bear / The Lion King 1 1/2\", '2 Games in 1: Sonic Advance & ChuChu Rocket!', '2 Games in 1: Sonic Battle & ChuChu Rocket!', '2 Games in 1: Sonic Pinball Party & Columns Crown', '2 Games in 1: SpongeBob SquarePants: SuperSponge & Rugrats Go Wild', '2 in 1 Combo Pack: Sonic Heroes / Super Monkey Ball Deluxe', '2-in-1 Game Pack: Spider-Man & Spider-Man 2', '2002 FIFA World Cup', '2010 FIFA World Cup South Africa', '2014 FIFA World Cup Brazil', '24: The Game', '25 to Life', '2Xtreme', '3 in 1: Solitaire, Mahjong & Tangram', '300: March to Glory', '3D Baseball', '3D Dot Game Heroes', '3D Lemmings', '3D Tank Warfare Simulator Panzer Front', '3DS Classic Collection', '3Xtreme', '3rd Super Robot Wars Z Jigoku Hen', '3rd Super Robot Wars Z: Tengoku-Hen', '4 Elements', '4 Game Fun Pack: Monopoly / Boggle / Yahtzee / Battleship', '4 Nin uchi Mahjong', '4 Play Collection - Dark Mysteries', '40 Winks', '428: Fuusa Sareta Shibuya de', '4x4 EVO 2', '4x4 Evolution', '50 Cent: Blood on the Sand', '50 Cent: Bulletproof', '50 Classic Games', '64 de Hakken! Tamagotchi Minna de Tamagotchi World', '7 Days to Die', '7 Roses: A Darkness Rises', '7 Wonders II', '7 Wonders of the Ancient World', '7 Wonders: Treasures of Seven', \"7'scarlet\", '7th Dragon', '7th Dragon 2020', '7th Dragon 2020-II', '7th Dragon III Code: VFD', '99 no Namida', '999: Nine Hours, Nine Persons, Nine Doors', 'A Boy and His Blob', \"A Bug's Life\", 'A Collection of Activision Classic Games for the Atari 2600', 'A Collection of Classic Games from the Intellivision', 'A Game of Thrones: Genesis', 'A Good Librarian Like a Good Shepherd: Library Party', 'A New Beginning', 'A Ressha de Gyoukou 2001', 'A Ressha de Ikou DS', 'A Vampyre Story', \"A Witch's Tale\", 'A llI S.V.: A Ressha de Gyoukou 3 Super Version', 'A-Train', 'A-Train 6', 'A-Train: City Simulator', 'A. IV Evolution: A Ressha de Ikou 4', \"A.C.E.: Another Century's Episode\", \"A.C.E.: Another Century's Episode 2\", \"A.C.E.: Another Century's Episode 3: The Final\", \"A.C.E.: Another Century's Episode Portable\", \"A.C.E.: Another Century's Episode R\", 'ABBA: You Can Dance', 'AC/DC LIVE: Rock Band Track Pack', 'AIR', 'AKB1/149: Love Election', 'AKB1/48: Idol to Guam de Koishitara...', 'AKB1/48: Idol to Koishitara...', 'AKB48+Me', 'AMF Bowling 2004', 'AMF Bowling Pinbusters!', 'AMF Bowling World Lanes', 'AMF Xtreme Bowling', 'AMNESIA World', 'APB Reloaded', 'ASH: Archaic Sealed Heat', 'ATV Offroad Fury', 'ATV Offroad Fury 2', 'ATV Offroad Fury 3', 'ATV Offroad Fury Pro', \"ATV Offroad Fury: Blazin' Trails\", 'ATV Quad Kings', 'ATV Quad Power Racing 2', 'ATV/Monster Truck Mayhem', 'ATV: Quad Frenzy', 'ATV: Quad Power Racing', 'Aa Megami-samaa', 'Abunai: Koi no Sousa Shitsu', 'Academy of Champions: Soccer', 'Accel World: Ginyoku no Kakusei', 'Accel World: Kasoku no Chouten', 'Ace Attorney 6', 'Ace Attorney Investigations 2', 'Ace Attorney Investigations: Miles Edgeworth', 'Ace Combat 04: Shattered Skies', 'Ace Combat 2', 'Ace Combat 3: Electrosphere', 'Ace Combat 5: The Unsung War', 'Ace Combat 6: Fires of Liberation', 'Ace Combat X: Skies of Deception', 'Ace Combat Zero: The Belkan War', 'Ace Combat: Assault Horizon', 'Ace Combat: Assault Horizon Legacy', 'Ace Combat: Joint Assault', 'Achtung Panzer: Kharkov 1943', 'Act of Aggression', 'Action Bass', 'Action Force', 'Action Man-Operation Extreme', 'Active Health with Carol Vorderman', 'Active Life Explorer', 'Active Life: Extreme Challenge', 'Active Life: Magical Carnival', 'Active Life: Outdoor Challenge', 'Activision Anthology', 'Activision Hits: Remixed', 'Actua Tennis', 'Adidas Power Soccer', 'Adidas Power Soccer 98', 'Adrenalin Misfits', 'Advance Guardian Heroes', 'Advance Wars', 'Advance Wars 2: Black Hole Rising', 'Advance Wars: Days of Ruin', 'Advance Wars: Dual Strike', 'Advent Rising', 'Adventure', 'Adventure Island', \"Adventure Time: Explore the Dungeon Because I Don't Know!\", 'Adventure Time: Finn & Jake Investigations', 'Adventure Time: The Secret of the Nameless ', 'Adventure Time: The Secret of the Nameless Kingdom', 'Adventures of Lolo', 'Adventures of Tron', 'Adventures to Go!', 'Aedis Eclipse: Generation of Chaos', 'Aegis of Earth: Protonovus Assault', 'Aeon Flux', 'Aero Elite: Combat Academy', 'Aero Gauge', 'AeroFighters Assault', 'Afrika', 'Afro Samurai', 'After Hours Athletes', 'Again', 'Agarest Senki: Re-appearance', 'Agassi Tennis Generation', \"Agatha Christie's The ABC Murders\", 'Agatha Christie: And Then There Were None', 'Agatha Christie: Death on the Nile', 'Agatha Christie: Evil Under the Sun', 'Agatha Christie: Peril at End House', 'Agatha Christie: The ABC Murders', 'Age of Conan: Rise of the Godslayer', 'Age of Empires II: The Age of Kings', 'Age of Empires III', 'Age of Empires III: Complete Collection', 'Age of Empires III: Gold Edition', 'Age of Empires III: The Asian Dynasties', 'Age of Empires Online', \"Age of Empires: Collector's Edition\", 'Age of Empires: Mythologies', 'Age of Empires: The Age of Kings', 'Age of Mythology', 'Age of Mythology: The Titans', 'Aggressive Inline', 'Agile Warrior F-111X', 'Aibou DS', 'Aidyn Chronicles: The First Mage', 'Aikatsu Stars! My Special Appeal', 'Aikatsu! 2-nin no My Princess', 'Aikatsu! 365 Idol Days', 'Aikatsu! Cinderella Lesson', 'Aikatsu! My No.1 Stage!', 'Ailu de Puzzle', 'Air Combat', 'Air Conflicts: Aces of World War II', 'Air Conflicts: Secret Wars', 'Air Raid', 'Air Traffic Chaos', 'Air-Sea Battle', 'AirForce Delta Storm', 'AirForce Delta Strike', 'Airblade', 'Airborne Troops: Countdown to D-Day', 'Airline Tycoon', 'Airline Tycoon 2', 'Airlock', 'Airport Simulator', 'Airship Q', 'Aiyoku no Eustia', 'Akagawa Jirou Mystery: Yasoukyoku - Hon ni Manekareta Satsujin', 'Akai Ito DS', 'Akai Katana Shin', 'Akane Iro ni Somaru Saka Parallel', 'Akatsuki no Amaneka to Aoi Kyojin', 'Akatsuki no Goei Trinity', \"Akiba's Trip\", \"Akiba's Trip Plus\", \"Akiba's Trip: Undead & Undressed\", 'Akko ni Omakase! Brain Shock', 'Akuji the Heartless', 'Aladdin Magic Racer', 'Alan Wake', 'Alex Rider: Stormbreaker', 'Alexi Lalas International Soccer', 'Alfa Romeo Racing Italiano', \"Alia's Carnival! Sacrament\", 'Alias', 'Alice in Wonderland', 'Alice: Madness Returns', 'Alien', 'Alien Breed Trilogy', 'Alien Hominid', 'Alien Monster Bowling League', 'Alien Resurrection', 'Alien Syndrome', 'Alien Trilogy', \"Alien's Return\", 'Alien: Isolation', 'Alienators: Evolution Continues', 'Aliens in the Attic', 'Aliens versus Predator: Extinction', 'Aliens vs Predator', 'Aliens vs Predator: Requiem', 'Aliens: Colonial Marines', 'Aliens: Infestation', 'All Grown Up! Express Yourself', 'All Grown Up!: Game Boy Advance Video Volume 1', 'All Japan Pro Wrestling featuring Virtua', 'All Kamen Rider: Rider Generation', 'All Kamen Rider: Rider Generation 2', 'All Points Bulletin', 'All Star Cheer Squad', 'All Star Cheer Squad 2', 'All Star Karate', 'All Star Pro-Wrestling', 'All Star Tennis 99', 'All-Pro Football 2K8', 'All-Star Baseball 2000', 'All-Star Baseball 2001', 'All-Star Baseball 2002', 'All-Star Baseball 2003', 'All-Star Baseball 2004', 'All-Star Baseball 2005', 'All-Star Baseball 99', 'Alleyway', 'Allied General', 'Alone in the Dark', 'Alone in the Dark: Inferno', \"Alone in the Dark: One-Eyed Jack's Revenge\", 'Alone in the Dark: The New Nightmare', 'Alpha Protocol', 'Alpha and Omega', 'Alter Echo', 'Alter Ego', 'Altered Beast: Guardian of the Realms', 'Alundra', 'Alundra 2: A New Legend Begins', 'Alvin and the Chipmunks', 'Alvin and the Chipmunks: Chipwrecked', 'Alvin and the Chipmunks: The Squeakquel', 'Amagami', 'Amagoushi no Yakata', 'Amatsumi Sora ni! Kumo no Hatate ni', 'Amazing Adventures: The Forgotten Ruins', 'Amazing Island', 'America Oudan Ultra-Quiz', \"America's Army: Rise of a Soldier\", \"America's Army: True Soldiers\", \"America's Next Top Model\", \"America's Test Kitchen: Let's Get Cooking\", 'American Bass Challenge', 'American Chopper', 'American Chopper 2: Full Throttle', 'American Girl: Julie Finds a Way', 'American Girl: Kit Mystery Challenge!', 'American Idol', 'Amnesia', 'Amnesia Crowd', 'Amnesia Later', 'Amped 2', 'Amped 3', 'Amped: Freestyle Snowboarding', 'Amplitude', \"An American Tail: Fievel's Gold Rush\", 'Anarchy Reigns', 'And1 Streetball', 'Andretti Racing', 'Angel Blade: Neo Tokyo Guardians', 'Angelique Duet', 'Angelique Retour', 'Angelique Trois', 'Angelique: Maren no Rokukishi', \"Angler's Club: Ultimate Bass Fishing 3D\", 'Angry Birds', 'Angry Birds Star Wars', 'Angry Birds Trilogy', 'Angry Birds: Rio', 'AniMates!', 'Anima - Gate of Memories', 'Animal Crossing', 'Animal Crossing: Amiibo Festival', 'Animal Crossing: City Folk', 'Animal Crossing: Happy Home Designer', 'Animal Crossing: New Leaf', 'Animal Crossing: Wild World', 'Animal Genius', 'Animal Kingdom: Wildlife Expedition', 'Animal Paradise', 'Animal Planet: Emergency Vets', 'Animal Planet: Vet Collection', 'Animal Planet: Vet Life', 'Animaniacs Ten Pin Alley', 'Animaniacs: The Great Edgar Hunt', 'Animorphs: Shattered Reality', 'Anno 1701: Dawn of Discovery', 'Anno 2070', 'Anno 2205', 'Ano Hi Mita Hana no Namae o Bokutachi wa Mada Shiranai', 'Another Code R: A Journey into Lost Memories', 'Ansatsu Kyoushitsu: Assassin Ikusei Keikaku!!', 'Ant Nation', 'Antiphona no Seikahime: Tenshi no Gakufu Op.A', 'Antz Extreme Racing', 'Anubis II', 'Ao no Exorcist: Genkoku no Labyrinth', 'Ao no Kanata no Four Rhythm', 'Aoishiro', 'Apache: Air Assault', 'Apassionata: Die Galanacht der Pferde', 'Ape Escape', 'Ape Escape 2', 'Ape Escape 3', 'Ape Escape Academy', 'Ape Escape Academy (jp sales)', 'Ape Escape: On the Loose', 'Ape Escape: Pumped & Primed', 'Apex', 'Apocalypse', 'Apollo Justice: Ace Attorney', 'Aqua Aqua', 'Aqua Panic!', 'Aqua Teen Hunger Force: Zombie Ninja Pro-Am', 'Aquaman: Battle for Atlantis', \"Aquanaut's Holiday\", \"Aquanaut's Holiday: Kakusareta Kiroku\", 'Aquapazza: Aquaplus Dream Match', 'Aquarium by DS', 'Ar Nosurge: Ode to an Unborn Star', 'Ar tonelico 2: Melody of Metafalica', 'Ar tonelico Qoga: Knell of Ar Ciel', 'Ar tonelico: Melody of Elemia', 'Arabians Lost: The Engagement on Desert', 'Arc Rise Fantasia', 'Arc the Lad', 'Arc the Lad II', 'Arc the Lad III', 'Arc the Lad: End of Darkness', 'Arc the Lad: Twilight of the Spirits', 'Arcade Hits: Frisky Tom', 'Arcade Party Pak', 'Arcade Shooting Gallery', 'Arcade Zone', 'Arcana Famiglia 2', 'Arcana Famiglia: La storia della Aracana Famiglia', 'Arcana Famiglia: Vascello Phantasma no Majutsushi', 'Arcana Heart', 'Arcana Heart 3', 'Arcania: Gothic 4', 'Archer Maclean Presents: Pool Paradise', \"Archer Maclean's 3D Pool\", \"Archer Maclean's Mercury\", 'Arctic Tale', 'Arctic Thunder', 'Are You Alice?', 'Are You Smarter Than A 5th Grader?', 'Are You Smarter Than a 5th Grader? Back to School', 'Are You Smarter than a 5th Grader? Game Time', 'Are You Smarter than a 5th Grader? Make the Grade', 'Area 51', 'Arena Football', 'Aria: The Natural ~Tooi Yume no Mirage~', 'Aria: The Origination ~Aoi Wakusei no El Cielo~', 'Arkanoid DS', 'ArmA II', 'ArmA III', 'Armed and Dangerous', 'Armor Ambush', 'Armored Core', 'Armored Core 2', 'Armored Core 2: Another Age', 'Armored Core 3', 'Armored Core 3 Portable', 'Armored Core 4', 'Armored Core SL: Silent Line Portable', 'Armored Core V', 'Armored Core: For Answer', 'Armored Core: Formula Front Extreme Battle', 'Armored Core: Last Raven', 'Armored Core: Last Raven Portable', 'Armored Core: Master of Arena', 'Armored Core: Nexus', 'Armored Core: Nine Breaker', 'Armored Core: Project Phantasma', 'Armored Core: Silent Line', 'Armored Core: Verdict Day', 'Armorines: Project S.W.A.R.M.', 'Army Corps of Hell', 'Army Men 3D', 'Army Men World War: Final Front', 'Army Men World War: Land, Sea, Air', 'Army Men World War: Team Assault', 'Army Men: Air Attack', 'Army Men: Air Attack 2', 'Army Men: Air Combat', 'Army Men: Air Combat - The Elite Missions', 'Army Men: Green Rogue', 'Army Men: Major Malfunction', 'Army Men: RTS', \"Army Men: Sarge's Heroes\", \"Army Men: Sarge's Heroes 2\", \"Army Men: Sarge's War\", 'Army Men: Soldiers of Misfortune', 'Army Rescue', 'Army of Two', 'Army of Two: The 40th Day', \"Army of Two: The Devil's Cartel\", 'Around the World in 80 Days', 'Arslan: The Warriors of Legend', 'Art Academy', 'Art Academy: Home Studio', 'Art Academy: Lessons for Everyone', 'Art of Fighting 3: The Path of the Warrior', 'Art of Fighting Anthology', 'Arthur and the Invisibles', 'Arthur! Ready to Race', 'Arx Fatalis', 'Ashes Cricket 2009', 'Asphalt 3D', 'Asphalt: Injection', 'Asphalt: Urban GT', 'Asphalt: Urban GT 2', \"Assassin's Creed\", \"Assassin's Creed Chronicles\", \"Assassin's Creed Chronicles: China\", \"Assassin's Creed II\", \"Assassin's Creed II: Discovery\", \"Assassin's Creed III\", \"Assassin's Creed III: Liberation\", \"Assassin's Creed IV: Black Flag\", \"Assassin's Creed Syndicate\", \"Assassin's Creed The Ezio Collection\", \"Assassin's Creed: Altair's Chronicles\", \"Assassin's Creed: Bloodlines\", \"Assassin's Creed: Brotherhood\", \"Assassin's Creed: Revelations\", \"Assassin's Creed: Rogue\", \"Assassin's Creed: Unity\", 'Assassination Classroom: Grand Siege on Kuro-sensei', 'Assault', 'Assault Rigs', 'Assault Suit Leynos', 'Assault: Retribution', 'Assetto Corsa', 'Asterix & Obelix: Kick Buttix', 'Asteroids', 'Asteroids Hyper 64', 'Astonishia Story', 'Astro Boy', 'Astro Boy: Omega Factor', 'Astro Boy: The Video Game', 'Astroblast', 'Astrology DS', \"Asura's Wrath\", 'Atari Anniversary Advance', 'Atari Anniversary Edition Redux', 'Atari Anthology', 'Atari Classics Evolved', 'Atari Flashback Classics: Volume 1', 'Atari Flashback Classics: Volume 2', \"Atari's Greatest Hits: Volume 1\", \"Atari's Greatest Hits: Volume 2\", 'Atelier Annie: Alchemists of Sera Island', 'Atelier Ayesha: The Alchemist of Dusk', 'Atelier Escha & Logy: Alchemists of the Dusk Sky', 'Atelier Firis: The Alchemist of the Mysterious Journey', 'Atelier Iris 2: The Azoth Of Destiny', 'Atelier Iris 3: Grand Phantasm (JP Sales)', 'Atelier Iris 3: Grand Phantasm (US Sales)', 'Atelier Iris: Eternal Mana', 'Atelier Meruru: Alchemist of Arland 3', 'Atelier Rorona: Alchemist of Arland', 'Atelier Shallie Plus: Alchemists of the Dusk Sea', 'Atelier Shallie: Alchemists of the Dusk Sea', 'Atelier Sophie: The Alchemist of the Mysterious Book', 'Atelier Totori: The Adventurer of Arland', 'Athens 2004', 'Atlantic Quest', 'Atlantis', 'Atomic Betty', 'Atsumare! Power Pro Kun no DS Koushien', 'Attack of the Movies 3D', 'Attack on Titan (KOEI)', 'Attack on Titan: Humanity in Chains', 'Auto Destruct', 'Auto Modellista', 'Automobili Lamborghini', 'Avalon Code', 'Avatar: The Game', 'Avatar: The Last Airbender', 'Avatar: The Last Airbender - Into the Inferno', 'Avatar: The Last Airbender - The Burning Earth', 'Away: Shuffle Dungeon', 'Azada', 'Azure Dreams', 'Azure Striker Gunvolt', 'Azure Striker Gunvolt: Striker Pack', 'Azurik: Rise of Perathia', \"B's-LOG Party♪\", 'B-17: Fortress in the Sky', 'B-Boy', 'B.L.U.E.: Legend of Water', 'BCFX: The Black College Football Xperience, The Doug Williams Edition', 'BIT.TRIP COMPLETE', 'BIT.TRIP SAGA', 'BMX XXX', 'BRAHMA Force: The Assault on Beltlogger 9', 'Baby Pals', 'Babysitting Mama', 'Babysitting Mania', 'Back At The Barnyard: Slop Bucket Games', 'Back to the Future: The Game', 'Backbreaker', 'Backstreet Billiards', 'Backyard Baseball', \"Backyard Baseball '09\", \"Backyard Baseball '10\", 'Backyard Baseball 2006', 'Backyard Basketball', 'Backyard Hockey', 'Backyard NBA Basketball', 'Backyard NFL Football', \"Backyard NFL Football '08\", \"Backyard NFL Football '09\", \"Backyard NFL Football '10\", 'Backyard NFL Football 2006', 'Backyard Skateboarding 2006', 'Backyard Soccer', 'Backyard Sports Football: Rookie Rush', 'Backyard Sports: Sandlot Sluggers', 'Backyard Wrestling 2: There Goes the Neighborhood', \"Backyard Wrestling: Don't Try This at Home\", 'Bad Apple Wars', 'Bad Boys: Miami Takedown', 'Bae Yong-joon to Manabu Kankokugo DS', 'Bahamut Lagoon', 'Baja: Edge of Control', 'Bakemonogatari Portable', 'Baku Baku', 'Bakugan Battle Brawlers: Defenders of the Core', 'Bakugan: Battle Brawlers', 'Bakugan: Battle Trainer', 'Bakugan: Rise of the Resistance', 'Bakumatsu Koihana: Shinsengumi DS', 'Bakumatsu Renka: Karyuu Kenshi-den', 'Bakumatsu Rock', 'Bakumatsu Rock: Ultra Soul', 'Bakusou Dekotora Densetsu: Otoko Ippiki Yume Kaidoi', \"Bakusou Kyoudai Let's & Go!! Eternal Wings\", \"Baldur's Gate: Dark Alliance\", \"Baldur's Gate: Dark Alliance II\", 'Ball Breakers', 'Ballblazer Champions', 'Ballistic', 'Ballistic: Ecks vs. Sever', 'Balloon Fight', 'Balloon Pop', 'Balloon Pop 2', 'Balls of Fury', 'Band Hero', 'Bangai-O Spirits', 'Banjo-Kazooie', \"Banjo-Kazooie: Grunty's Revenge\", 'Banjo-Kazooie: Nuts & Bolts', 'Banjo-Pilot', 'Banjo-Tooie', 'Bank Heist', \"Banushi Life Game: Winner's Circle\", 'Barbarian', 'Barbie Explorer', 'Barbie Fashion Show: An Eye for Style', 'Barbie Groovy Games', 'Barbie Horse Adventures: Blue Ribbon Race', 'Barbie Horse Adventures: Riding Camp', 'Barbie Horse Adventures: Wild Horse Rescue', 'Barbie Super Sports', 'Barbie Superpack: Secret Agent / Groovy Games', 'Barbie and Her Sisters Puppy Rescue', 'Barbie and the Magic of Pegasus', 'Barbie and the Three Musketeers', 'Barbie as The Island Princess', 'Barbie as the Princess and the Pauper', 'Barbie in The 12 Dancing Princesses', 'Barbie: Groom and Glam Pups', 'Barbie: Jet, Set & Style!', 'Barbie: Race & Ride', 'Barnstorming', 'Barnyard', 'Barnyard Blast: Swine of the Night', 'Baroque', 'Baseball', 'Baseball Advance', 'Baseball Blast!', \"Bases Loaded '96: Double Header\", 'Basketball Hall of Fame Ultimate Hoops Challenge', 'Bass Hunter 64', 'Bass Landing', 'Bass Pro Shops: The Hunt', 'Bass Pro Shops: The Strike', 'Bass Rise', 'Bass Strike', 'Bassmasters 2000', 'Bastard!! Utsuro Naru Kamigami no Utsuwa', 'Baten Kaitos Origins', 'Baten Kaitos: Eternal Wings and the Lost Ocean', 'Batman & Robin', 'Batman Begins', 'Batman Beyond: Return of the Joker', 'Batman Forever: The Arcade Game', 'Batman: A Telltale Game Series', 'Batman: Arkham Asylum', 'Batman: Arkham City', 'Batman: Arkham Knight', 'Batman: Arkham Origins', 'Batman: Arkham Origins Blackgate', 'Batman: Arkham VR', 'Batman: Dark Tomorrow', 'Batman: Gotham City Racer', 'Batman: Return to Arkham', 'Batman: Rise of Sin Tzu', 'Batman: The Brave and the Bold the Videogame', 'Batman: Vengeance', 'Battalion Wars', 'Battalion Wars 2', 'Battle & Get! Pokemon Typing DS', 'Battle Arena Toshinden', 'Battle Arena Toshinden 2', 'Battle Arena Toshinden 3', 'Battle Arena Toshinden Remix', 'Battle Arena Toshinden URA', 'Battle Assault 3 featuring Gundam Seed', 'Battle Commander: Hachibushu Shura no Heihou', 'Battle Dodge Ball', 'Battle Engine Aquila', 'Battle Fantasia', 'Battle Hunter', 'Battle Princess of Arcadias', 'Battle Rage', 'Battle Soccer: Field no Hasha', 'Battle Spirits: Digital Starter', \"Battle Spirits: Hero's Soul\", 'Battle Spirits: Kiseki no Hasha', 'Battle Stadium D.O.N', 'Battle Stations', 'Battle Worlds: Kronos', 'Battle of Giants: Dinosaurs', 'Battle of Giants: Dinosaurs Strike', 'Battle of Giants: Dragons', 'Battle of Giants: Mutant Insects', 'Battle vs. Chess', 'BattleBots: Beyond the BattleBox', 'BattleForge', 'BattleTanx', 'BattleTanx: Global Assault', 'Battleborn', 'Battlebots: Design & Destroy', 'Battlefield 1', 'Battlefield 1942', 'Battlefield 1942: The WW II Anthology', 'Battlefield 2', 'Battlefield 2142', 'Battlefield 2: Modern Combat', 'Battlefield 2: Modern Combat(JP sales)', 'Battlefield 3', 'Battlefield 4', 'Battlefield Vietnam', 'Battlefield: Bad Company', 'Battlefield: Bad Company 2', 'Battlefield: Hardline', 'Battles of Prince of Persia', 'Battleship / Connect Four / Sorry! / Trouble', 'Battlestar Galactica', 'Battlestations: Midway', 'Battlestations: Pacific', 'Battlezone', 'Battlezone: Rise of the Black Dogs', 'Bayonetta', 'Bayonetta 2', 'Beach Spikers: Virtua Beach Volleyball', 'Beamrider', 'Beastly', 'Beastly Frantic Foto', 'Beat City', 'Beat Down: Fists of Vengeance', 'Beat Sketch!', 'BeatMania', 'BeatMania Append 3rdMix', 'BeatMania Append 4thMix: The beat goes on', 'BeatMania Append GottaMix', 'BeatMania IIDX 11: IIDX Red', 'BeatMania IIDX 13: DistorteD', 'BeatMania IIDX 14 Gold', 'BeatMania IIDX 15: DJ Troopers', 'BeatMania IIDX 16: Empress + Premium Best', 'BeatMania IIDX 3rd Style', 'BeatMania IIDX 4th Style: New Songs Collection', 'Beatdown: Fists of Vengeance', 'Beaterator', 'Beautiful Katamari', 'Bee Movie Game', 'Beetle Adventure Racing!', 'Beijing 2008', 'Bejeweled 2 Deluxe', 'Bejeweled 3', 'Bejeweled Blitz', 'Bejeweled Twist', 'Bella Sara', 'Bella Sara 2 - The Magic of Drasilmare', 'Ben 10 Alien Force: Vilgax Attacks', 'Ben 10 Galactic Racing', 'Ben 10 Omniverse 2', 'Ben 10 Triple Pack', 'Ben 10 Ultimate Alien: Cosmic Destruction', 'Ben 10: Alien Force', 'Ben 10: Protector of Earth', \"Bentley's Hackpack\", 'Beowulf: The Game', 'Berserk and the Band of the Hawk', 'Berzerk', 'Best Friends Tonight', 'Best Of Tests', \"Betty Boop's Double Shift\", 'BeyBlade VForce: Super Tournament Battle', 'Beyblade Evolution', 'Beyblade G-Revolution', 'Beyblade VForce: Ultimate Blader Jam', 'Beyblade: Metal Fusion', 'Beyblade: Metal Fusion - Battle Fortress', 'Beyblade: Metal Masters', 'Beyond Good & Evil', 'Beyond Oasis', 'Beyond The Beyond', 'Beyond the Labyrinth', 'Beyond: Two Souls', 'Bicycle Casino 2005', 'Big Air', 'Big Air Freestyle', 'Big Bang Mini', 'Big Bass Fishing', 'Big Bass World Championship', 'Big Beach Sports', 'Big Beach Sports 2', 'Big Brain Academy', 'Big Brain Academy: Wii Degree', 'Big Family Games', 'Big Hero 6: Battle in the Bay', 'Big Ichigeki! Pachi-Slot Taikouryku Universal Museum', \"Big Idea's VeggieTales: LarryBoy and the Bad Apple\", 'Big League Sports', 'Big League Sports: Summer', 'Big Mountain 2000', 'Big Mutha Truckers', 'Big Mutha Truckers 2', 'Big Strike Bowling', 'Bigfoot King of Crush', 'Bigfoot: Collision Course', 'Biker Mice From Mars', 'Bikkuriman Daijiten', 'Billy Hatcher and the Giant Egg', 'Billy the Wizard: Rocket Broomstick Racing', \"Billy's Boot Camp: Wii de Enjoy Diet!\", 'Binary Domain', 'Binary Star', 'Bio FREAKS', 'BioShock', 'BioShock 2', 'BioShock Infinite', 'BioShock The Collection', 'Biohazard: Revival Selection', 'Bionic Commando', 'Bionicle', 'Bionicle Heroes', 'Bionicle: Matoran Adventures', 'Birds of Steel', 'Birthday Party Bash', 'Bishoujo Senshi Sailormoon R', 'Bishoujo Senshi Sailormoon S: Juugai Rantou!? Shuyaku Soudatsusen', 'Black', 'Black & Bruised', 'Black & White', 'Black & White 2', 'Black * Rock Shooter: The Game', 'Black Bass with Blue Marlin', 'Black Cat', 'Black Dawn', 'Black Jack vs. Matsudajun', 'Black Mirror 2', 'Black Rose Valkyrie', 'Black Sigil: Blade of the Exiled', 'Black Stone: Magic & Steel', 'Black/Matrix', 'Blacksite: Area 51', 'Blackthorne', 'Blackwater', 'Blade Arcus from Shining EX', 'Blade Dancer: Lineage of Light', 'Blade II', 'Blades of Blood: Samurai Shodown III', 'Blades of Time', 'Bladestorm: Nightmare', \"Bladestorm: The Hundred Years' War\", 'Blast Chamber', 'Blast Corps', 'Blast Lacrosse', 'Blast Radius', 'Blast Works: Build, Trade, Destroy', 'Blaster Master: Blasting Again', 'Blasto', 'BlazBlue Central Fiction', 'BlazBlue: Calamity Trigger', 'BlazBlue: Calamity Trigger Portable', 'BlazBlue: Chrono Phantasma', 'BlazBlue: Chrono Phantasma Extend', 'BlazBlue: Continuum Shift', 'BlazBlue: Continuum Shift II', 'Blazblue: Continuum Shift Extend', 'Blaze Union: Story to Reach the Future', 'Blazer Drive', 'Blazing Angels 2: Secret Missions of WWII', 'Blazing Angels: Squadrons of WWII', 'Blazing Dragons', 'Blazing Heroes', 'Blazing Souls', 'Blazing Souls: Accelate', 'Bleach DS 4th: Flame Bringer', 'Bleach GC: Tasogare Ni Mamieru Shinigami', 'Bleach: Blade Battlers', 'Bleach: Blade Battlers 2nd', 'Bleach: Dark Souls', 'Bleach: Dark Souls (JP sales)', 'Bleach: Erabareshi Tamashii', 'Bleach: Hanatareshi Yabou', 'Bleach: Heat the Soul', 'Bleach: Heat the Soul 3', 'Bleach: Heat the Soul 4', 'Bleach: Heat the Soul 5', 'Bleach: Heat the Soul 6', 'Bleach: Heat the Soul 7', 'Bleach: Shattered Blade', 'Bleach: Soul Carnival', 'Bleach: Soul Carnival 2', 'Bleach: Soul Resurreccion', 'Bleach: The 3rd Phantom', 'Bleach: The Blade of Fate', 'Bleach: Versus Crusade', 'Blender Bros.', 'Blinx 2: Masters of Time & Space', 'Blinx: The Time Sweeper', 'Blitz: Overtime', 'Blitz: The League', 'Blitz: The League II', 'Blitzkrieg 2 Anthology', 'Block Kuzushi', 'Block Party', 'Blokus Portable: Steambot Championship', 'Blood Bowl', 'Blood Bowl: Legendary Edition', 'Blood Drive', 'Blood Omen 2', 'Blood Omen: Legacy of Kain', 'Blood Wake', \"Blood Will Tell: Tezuka Osamu's Dororo\", 'Blood of Bahamut', 'Blood: The Last Vampire (Joukan)', 'BloodRayne', 'BloodRayne 2', 'Bloodborne', 'Bloody Roar', 'Bloody Roar 3', 'Bloody Roar 4', 'Bloody Roar Extreme', 'Bloody Roar II', 'Bloody Roar: Primal Fury', 'BlowOut', 'Blue Breaker: Ken Yorimo Hohoemi o', 'Blue Dragon', 'Blue Dragon Plus', 'Blue Dragon: Awakened Shadow', 'Blue Roses: Yousei to Aoi Hitomi no Senshitachi', 'Blue Stinger', \"Blue's Clues: Blue's Big Musical\", 'Blues Brothers 2000', 'Blur', 'Board Game Classics', 'Board Game: Top Shop', 'Bob the Builder: Can We Fix It?', 'Boboboubo Boubobo: Ougi 87.5 Bakuretsu Hanage Shinken', 'Bode Miller Alpine Skiing', 'Body Harvest', 'Body and Brain Connection', 'Bodycount', 'Bogey: Dead 6', 'Boing! Docomodake DS', 'Boktai 2: Solar Boy Django', 'Boktai: The Sun is in Your Hand', 'Boku no Natsuyasumi', 'Boku no Natsuyasumi 2: Umi no Bouken Hen', 'Boku no Natsuyasumi 3: Hokkoku Hen: Chiisana Boku no Dai Sougen\\u200b', 'Boku no Natsuyasumi 4: Seitouchi Shounen Tanteidan, Boku to Himitsu no Chizu', 'Boku no Natsuyasumi Portable 2: Nazo Nazo Shimai to Chinbotsusen no Himitsu', 'Boku no Natsuyasumi Portable: Mushi Mushi Hakase to Teppen-yama no Himitsu!!', 'Bolt', 'Bombastic', 'Bomberman', 'Bomberman (jp sales)', 'Bomberman 2', 'Bomberman 64', 'Bomberman 64: The Second Attack!', 'Bomberman B-Daman', 'Bomberman Fantasy Race', 'Bomberman Generation', 'Bomberman Hero', 'Bomberman II', 'Bomberman Jetters', 'Bomberman Land', 'Bomberman Land Touch!', 'Bomberman Land Touch! 2', 'Bomberman Max 2: Blue Advance', 'Bomberman Max 2: Red Advance', 'Bomberman Party Edition', 'Bomberman Story DS', 'Bomberman Tournament', 'Bomberman World', 'Bomberman: Act Zero', 'Boogie', 'Boogie SuperStar', 'Book of Spells', 'Bookworm', 'Bookworm Deluxe', 'Boom Blox', 'Boom Blox Bash Party', 'BoomBots', 'Boot Camp Academy', 'Borderlands', 'Borderlands 2', 'Borderlands: Double Game Add-On Pack', 'Borderlands: The Handsome Collection', 'Borderlands: The Pre-Sequel', 'Botanicula', 'Bottom of the 9th', \"Bottom of the 9th '97\", \"Bottom of the 9th '99\", 'Boulder Dash: Rocks!', 'Bound By Flame', 'Bounty Hounds', \"Boxer's Road\", 'Boxing', 'Boxing Fever', 'Braid', 'Brain Age 2: More Training in Minutes a Day', 'Brain Age: Concentration Training', 'Brain Age: Train Your Brain in Minutes a Day', 'Brain Assist', 'Brain Boost: Beta Wave', 'Brain Boost: Gamma Wave', 'Brain Challenge', 'Brain Dead 13', 'Brain Exercise With Dr. Kawashima', 'Brain Quest: Grades 3 & 4', 'Brain Quest: Grades 5 & 6', 'Brain Voyage', 'Brandish: The Dark Revenant', 'Bratz', 'Bratz 4 Real', 'Bratz Kidz', 'Bratz Ponyz', 'Bratz Ponyz 2', 'Bratz: Forever Diamondz', 'Bratz: Girlz Really Rock', 'Bratz: Rock Angelz', 'Bratz: Super Babyz', 'Bratz: The Movie', 'Brave Fencer Musashi', 'Brave Story: Boku no Kioku to Negai', 'Brave Story: New Traveler (US sales)', 'Brave Story: New Traveller (jp sales)', \"Brave: A Warrior's Tale\", 'Brave: The Video Game', 'Bravely Default: Flying Fairy', 'Bravely Second: End Layer', 'Bravo Air Race', 'Breach', \"Break 'Em All\", 'Breakaway IV', 'Breakdown', 'Breakout', 'Breath of Fire', 'Breath of Fire II', 'Breath of Fire III', 'Breath of Fire IV', 'Breath of Fire: Dragon Quarter', 'Breeding Stud 2', 'Brian Lara Cricket', 'Bridge', 'Brigandine: The Legend of Forsena', 'Brink', \"Britney's Dance Beat\", 'Broken Helix', \"Broken Sword 5: The Serpent's Curse\", 'Broken Sword II: The Smoking Mirror', \"Broken Sword: Shadow of the Templars - The Director's Cut\", \"Broken Sword: Shadows of the Templars - The Director's Cut\", 'Broken Sword: The Shadow of the Templars', 'Broken Sword: The Sleeping Dragon', 'Brooktown High: Senior Year', 'Brothers Conflict: Brilliant Blue', 'Brothers Conflict: Passion Pink', 'Brothers In Arms DS', 'Brothers In Arms: D-Day', 'Brothers In Arms: Earned in Blood', 'Brothers In Arms: Road to Hill 30', 'Brothers in Arms: Double Time', 'Brothers in Arms: Furious 4', \"Brothers in Arms: Hell's Highway\", 'Brothers: A Tale of Two Sons', 'Bruce Lee: Quest of the Dragon', 'Brunswick Circuit Pro Bowling', 'Brunswick Circuit Pro Bowling 2', 'Brunswick Cosmic Bowling', 'Brunswick Pro Bowling', 'Brutal Legend', 'Brute Force', 'Bubble Bobble Double Shot', 'Bubble Bobble Evolution', 'Bubble Bobble Revolution', 'Bubble Bobble also featuring Rainbow Islands', 'Bubble Bobble: Old & New', 'Bubsy 3D', 'Buck Bumble', 'Buck Fever', 'Buffy the Vampire Slayer', 'Buffy the Vampire Slayer: Chaos Bleeds', 'Buffy the Vampire Slayer: Wrath of the Darkhul King', 'Bugriders: The Race of Kings', 'Bugs Bunny & Taz: Time Busters', 'Bugs Bunny: Lost in Time', \"Build 'n Race\", 'Build-A-Bear Workshop', 'Build-A-Bear Workshop: A Friend Fur All Seasons', 'Build-A-Bear Workshop: Friendship Valley', 'Build-A-Bear Workshop: Welcome to Hugsville', \"Builder's Block\", 'Bujingai: The Forsaken City', 'Bullet Girls', 'Bullet Girls 2', 'Bullet Soul: Tama Tamashii', 'Bullet Witch', 'Bulletstorm', 'Bully', 'Bully: Scholarship Edition', \"Bump 'n' Jump\", 'Bunmei Haruka: Aoiza Ibunroku', 'Bunmei Kaika: Aoiza Ibunroku Saien', 'Burger Island', 'BurgerTime', 'Burning Rangers', 'Burning Road', 'Burnout', 'Burnout 2: Point of Impact', 'Burnout 3: Takedown', 'Burnout Dominator', 'Burnout Legends', 'Burnout Paradise', 'Burnout Paradise: The Ultimate Box', 'Burnout Revenge', 'Burstrick: Wake Boarding!!', 'Bus Simulator 16', 'Bushido Blade', 'Bushido Blade 2', 'Busou Renkin: Youkoso Papillon Park e', 'Busou Shinki: Battle Masters', 'Busou Shinki: Battle Masters Mk. 2', 'Bust A Groove', 'Bust A Groove 2', 'Bust-A-Bloc', 'Bust-A-Move', \"Bust-A-Move '99\", 'Bust-A-Move 2 Arcade Edition', 'Bust-A-Move 3000', 'Bust-A-Move 4', 'Bust-A-Move Bash!', 'Bust-A-Move DS', 'Bust-A-Move Deluxe', 'Bust-A-Move Universe', 'Buster Bros. Collection', 'Busy Scissors', 'Butt Ugly Martians: B.K.M. Battles', 'Butt-Ugly Martians: Zoom or Doom!', 'Buzz Lightyear of Star Command', 'Buzz! Brain of the UK', 'Buzz! Junior: Jungle Party', 'Buzz! Junior: RoboJam', 'Buzz! Master Quiz', 'Buzz! Quiz TV', 'Buzz! Quiz World', 'Buzz! The BIG Quiz', 'Buzz! The Hollywood Quiz', 'Buzz! The Mega Quiz', 'Buzz! The Music Quiz', 'Buzz! The Schools Quiz', 'Buzz! The Ultimate Music Quiz', 'C.O.P.: The Recruit', 'C.O.R.E.', 'C: The Contra Adventure', 'CID The Dummy', 'CIMA: The Enemy', 'CMT Presents: Karaoke Revolution Country', 'CSI: 3 Dimensions of Murder', 'CSI: Crime Scene Investigation', 'CSI: Dark Motives', 'CSI: Deadly Intent', 'CSI: Deadly Intent - The Hidden Cases', 'CSI: Fatal Conspiracy', 'CSI: Hard Evidence', 'CSI: Unsolved!', 'CT Special Forces', 'CT Special Forces 2: Back in the Trenches', 'CV Casting Voice', 'Cabbage Patch Kids: The Patch Puppy Rescue', \"Cabela's Adventure Camp\", \"Cabela's African Safari\", \"Cabela's Alaskan Adventure\", \"Cabela's Big Game Hunter\", \"Cabela's Big Game Hunter (2008)\", \"Cabela's Big Game Hunter 2005 Adventures\", \"Cabela's Big Game Hunter 2010\", \"Cabela's Big Game Hunter 2012\", \"Cabela's Big Game Hunter: Hunting Party\", \"Cabela's Big Game Hunter: Pro Hunts\", \"Cabela's Big Game Hunter: Ultimate Challenge\", \"Cabela's Dangerous Hunts\", \"Cabela's Dangerous Hunts 2\", \"Cabela's Dangerous Hunts 2009\", \"Cabela's Dangerous Hunts 2011\", \"Cabela's Dangerous Hunts: Ultimate Challenge\", \"Cabela's Deer Hunt 2005 Season\", \"Cabela's Deer Hunt: 2004 Season\", \"Cabela's Legendary Adventures\", \"Cabela's Monster Buck Hunter\", \"Cabela's North American Adventures\", \"Cabela's Outdoor Adventures\", \"Cabela's Outdoor Adventures (2006)\", \"Cabela's Outdoor Adventures (2009)\", \"Cabela's Survival: Shadows of Katmai\", \"Cabela's Trophy Bucks\", 'Caesar III', 'Caesar IV', 'Caesars Palace 2000: Millennium Gold Edition', 'Caesars Palace Advance: Millennium Gold Edition', 'Caesars Palace II', 'Cake Mania', \"Cake Mania 2: Jill's Next Adventure!\", 'Cake Mania 3', \"Cake Mania: Baker's Challenge\", 'Cake Mania: In The Mix!', 'Cake Mania: Main Street', 'Caladrius', 'Calcio Bit', 'California Speed', 'Caligula', 'Call Of Duty 2: Big Red One', 'Call of Cthulhu: Dark Corners of the Earth', 'Call of Duty 2', 'Call of Duty 3', 'Call of Duty 4: Modern Warfare', 'Call of Duty Black Ops: Declassified', 'Call of Duty: Advanced Warfare', 'Call of Duty: Black Ops', 'Call of Duty: Black Ops 3', 'Call of Duty: Black Ops II', 'Call of Duty: Finest Hour', 'Call of Duty: Ghosts', 'Call of Duty: Infinite Warfare', 'Call of Duty: Modern Warfare 2', 'Call of Duty: Modern Warfare 3', 'Call of Duty: Modern Warfare 3: Defiance', 'Call of Duty: Modern Warfare Trilogy', 'Call of Duty: Modern Warfare: Mobilized', 'Call of Duty: Modern Warfare: Reflex Edition', 'Call of Duty: Roads to Victory', 'Call of Duty: The War Collection', 'Call of Duty: World at War', 'Call of Duty: World at War Final Fronts', 'Call of Juarez', 'Call of Juarez: Bound in Blood', 'Call of Juarez: The Cartel', 'Calling', \"Calvin Tucker's Redneck Jamboree\", 'Camp Rock: The Final Jam', 'Camping Mama: Outdoor Adventures', 'Canada Hunt', \"Candace Kane's Candy Factory\", 'CandyLand / Chutes & Ladders / Memory', 'Canvas 2', 'Capcom Classics Collection', 'Capcom Classics Collection Reloaded', 'Capcom Classics Collection Remixed', 'Capcom Digital Collection', 'Capcom Fighting Evolution', 'Capcom vs. SNK', 'Capcom vs. SNK 2 EO', 'Capcom vs. SNK 2: Mark of the Millennium 2001', 'Capcom vs. SNK 2: Millionaire Fighting 2001', 'Capcom vs. SNK: Millennium Fight 2000 Pro', \"Capcom's Soccer Shootout\", 'Captain America: Super Soldier', 'Captain Morgane and the Golden Turtle', 'Captain Rainbow', 'Captain Toad: Treasure Tracker', 'Captain Tsubasa', 'Captain Tsubasa J: The Way to World Youth', 'Captain Tsubasa: Aratanaru Densetsu Joshou', 'Captain Tsubasa: New Kick Off', 'Car Battler Joe', 'Card Fight!! Vanguard G: Stride to Victory!!', 'Card Games', 'Cardfight!! Vanguard: Lock On Victory!!', 'Cardfight!! Vanguard: Ride to Victory', 'Cardinal Syn', 'Care Bears - Care Quest', 'Carmageddon 64', 'Carmageddon: Max Damage', 'Carmen Sandiego: The Secret of the Stolen Drums', 'Carnage Heart', 'Carnage Heart EXA', 'Carnival', 'Carnival Games', 'Carnival Games: Mini Golf', 'Carnival Games: Monkey See, Monkey Do!', 'Carnival Games: Wild West 3D', 'Carnival Island', \"Carol Vorderman's Sudoku\", 'Cars', 'Cars 2', 'Cars Mater-National Championship', \"Cars Toon: Mater's Tall Tales\", 'Cars: Mater-National Championship', 'Cars: Race-O-Rama', 'Cart World Series', 'Cartoon Network Battle Crashers', 'Cartoon Network Block Party', 'Cartoon Network Block Party / Cartoon Network Speedway Double Pack', 'Cartoon Network Collection: Game Boy Advance Video Platinum Edition', 'Cartoon Network Collection: Game Boy Advance Video Special Edition', 'Cartoon Network Collection: Game Boy Advance Video Volume 1', 'Cartoon Network Collection: Game Boy Advance Video Volume 2', 'Cartoon Network Racing', 'Cartoon Network: Punch Time Explosion', 'Cartoon Network: Punch Time Explosion XL', 'Carve', 'Case Closed: One Truth Prevails', 'Casino Chaos With Las Vegas Players Collection', 'Casper', \"Casper's Scare School: Classroom Capers\", \"Casper's Scare School: Spooky Sports Day\", 'Casper: Friends Around the World', 'Casper: Spirit Dimensions', 'Castle Shikigami 2', 'Castle of Shikigami III', 'Castlevania', 'Castlevania Bloodlines', 'Castlevania Chronicles', 'Castlevania Double Pack', 'Castlevania Dracula X', \"Castlevania II: Simon's Quest\", \"Castlevania III: Dracula's Curse\", 'Castlevania Judgment', 'Castlevania: Aria of Sorrow', 'Castlevania: Circle of the Moon', 'Castlevania: Curse of Darkness', 'Castlevania: Dawn of Sorrow', 'Castlevania: Harmony of Dissonance', 'Castlevania: Lament of Innocence', 'Castlevania: Legacy of Darkness', 'Castlevania: Lords of Shadow', 'Castlevania: Lords of Shadow - Mirror of Fate', 'Castlevania: Lords of Shadow - Reverie', 'Castlevania: Lords of Shadow 2', 'Castlevania: Order of Ecclesia', 'Castlevania: Portrait of Ruin', 'Castlevania: Symphony of the Night', 'Castlevania: The Dracula X Chronicles', 'Castrol Honda Superbike Racing', 'Casual Mania!', 'Catan', 'Cate West: The Vanishing Files', 'Catherine', 'Cats & Dogs: The Revenge of Kitty Galore', 'Catwoman', 'Catz', 'Cave Story 3D', 'Cel Damage', 'Celebrity Sports Showdown', 'Center Ring Boxing', 'Centipede', 'Centipede / Breakout / Warlords', 'Centipede: Infestation', \"Cesar Millan's Dog Whisperer\", 'Ceville', 'Challenge Me: Brain Puzzles', 'Challenge Me: Brain Puzzles 2', 'Challenge Me: Maths Workout', 'Challenge Me: Word Puzzles', 'Chameleon', 'Chameleon Twist', 'Chameleon Twist 2', 'Chameleon: To Dye For!', 'Champion Jockey: G1 Jockey & Gallop Racer', 'Champions of Norrath', 'Champions: Return to Arms', 'Championship Bass', 'Championship Foosball', 'Championship Manager 03/04', 'Championship Manager 2010', 'Championship Manager 3', 'Championship Manager 99/00', 'Championship Manager Season 01/02', 'Championship Motocross 2001 featuring Ricky Carmichael', 'Championship Motocross featuring Ricky Carmichael', 'Championship Pony', 'Championship Surfer', 'Chaos Legion', 'Chaos Rings III', 'Chaos Wars', 'Chaos;Child', 'Chaos;Head - Love Chu*Chu!', 'Chaos;Head Noah', 'Chaotic: Shadow Warriors', 'Charlie Blasts Territory', 'Charlie and the Chocolate Factory', \"Charlie's Angels\", \"Charlotte's Web\", 'Charm Girls Club: My Fashion Mall', 'Charm Girls Club: My Fashion Show', 'Charm Girls Club: My Perfect Prom', 'Charm Girls Club: Pajama Party', 'Chase: Hollywood Stunt Driver', 'Checkers', 'Cheer We Go!', 'Chess', 'Chessmaster', 'Chessmaster II', 'Chessmaster: The Art of Learning', 'Chevrolet Camaro: Wild Ride', 'Chibi Maruko-Chan DS: Maru-Chan no Machi', 'Chibi Maruko-Chan: Harikiri 365-Nichi no Maki', 'Chibi-Robo! Park Patrol', 'Chibi-Robo! Plug into Adventure!', 'Chibi-Robo! Zip Lash', 'Chicago Enforcer', 'Chicken Blaster', 'Chicken Hunter', 'Chicken Riot', 'Chicken Run', 'Chicken Shoot', 'Chicken Shoot 2', 'Child of Eden', 'Child of Light', 'Children of Mana', 'Chili Con Carnage', 'Chocobo Racing', 'Chocobo no Fushigi Dungeon', 'Chocobo no Fushigi Dungeon for WonderSwan', 'Chocobo to Mahou no Ehon: Majo to Shoujo to 5-Jin no Yuusha', \"Chocobo's Dungeon 2\", 'Chocolatier', 'Chokkan! Asonde Relaxuma', 'Chopper Attack', 'Chopper Command', 'Choro Q', 'Choro Q 64 2: Hacha Mecha Grand Prix Race', 'Choro Q Marine: Q Boat', 'Choro Q2', 'Choro Q3', 'Chou Ezaru wa Akai Hana: Koi wa Tsuki ni Shirube Kareru', 'Chou Gekijoban Keroro Gunsou: Gekishin Dragon Warriors de Arimasu!', 'Chou Gekijouban Keroro Gunsou 3: Tenkuu Daibouken de Arimasu!', 'Chou Jigen Game Neptune Mk-II', 'Chou Soujuu Mecha MG', 'Chou!! Super Nep League DS', 'Chou-Kuukan Night Pro Yakyuu King (weekly JP sales)', 'Chou-Kuukan Night Pro Yakyuu King(higher JP sales)', 'Choujikuu Yousai Macross: Ai Oboete Imasu ka', 'Choujikuu Yousai Macross: Do You Remember Love', 'Chousoku Henkei Gyrozetter: Albatross no Tsubasa', 'Cho~ricchi! Tamagotchi no Puchi Puchi Omisecchi', 'Chromehounds', 'Chronicles of Mystery: Curse of the Ancient Temple', 'Chronicles of Mystery: The Secret Tree of Life', 'Chronicles of the Sword', 'Chrono Cross', 'Chrono Trigger', 'Chrysler Classic Racing', 'ChuChu Rocket!', \"Chuck E. Cheese's Game Room\", \"Chuck E. Cheese's Party Games\", \"Chuck E. Cheese's Playhouse\", \"Chuck E. Cheese's Sports Games\", \"Chuck E. Cheese's Super Collection\", 'Chuugaku Eitango Target 1800 DS', 'Chuugen no Hasha: Sangoku Shouseiden', 'Cid to Chocobo no Fushigi na Dungeon: Toki Wasure no Meikyuu DS+', 'Ciel Nosurge: Ushinawareta Hoshi e Sasagu Uta', 'Circuit Breakers', 'Circus Atari', 'Circus Maximus: Chariot Wars', 'Cities XL 2011', 'Cities XL 2012', 'Cities in Motion', 'Cities in Motion Collection', 'Cities: Skylines', 'Cities: Skylines Snowfall', 'City Builder', 'City Crisis', 'City Life: World Edition', 'Civilization Beyond Earth: Rising Tide', 'Civilization II', 'Clannad', 'Clannad: Mitsumi Mamoru Sakamichi de - Gekan', 'Clannad: Mitsumi Mamoru Sakamichi de - Joukan', 'Clash of Elementalists', 'Clash of the Titans', 'Class of Heroes', 'Classic Action: Devilish', 'Classic Dungeon X2', 'Classic Dungeon: Fuyoku no Masoujin', 'Classic NES Series: Bomberman', 'Classic NES Series: Castlevania', 'Classic NES Series: Donkey Kong', 'Classic NES Series: Dr. Mario', 'Classic NES Series: Excitebike', 'Classic NES Series: Ice Climber', 'Classic NES Series: Metroid', 'Classic NES Series: Pac-Man', 'Classic NES Series: Super Mario Bros.', 'Classic NES Series: The Legend of Zelda', 'Classic NES Series: Xevious', 'Classic NES Series: Zelda II: The Adventure of Link', 'Classic Road', 'Classic Word Games', 'ClayFighter 63 1/3', 'Clever Kids: Creepy Crawlies', 'Clever Kids: Pirates', \"Clive Barker's Jericho\", 'Clock Tower', 'Clock Tower 3', 'Clock Tower II: The Struggle Within', 'Clock Tower: The First Fear', 'Clock Zero: Shuuen no Ichibyou - ExTime', 'Clock Zero: Shuuen no Ichibyou Portable', 'Clockwork Empires', 'Clockwork Knight', 'Close Combat: First to Fight', 'Cloudy With a Chance of Meatballs', 'Clover no Kuni no Alice: Wonderful Wonder World', 'Clu Clu Land', 'Club Penguin: Elite Penguin Force', \"Club Penguin: Elite Penguin Force - Herbert's Revenge\", 'Club Penguin: Game Day!', 'Clubhouse Games', 'Cocoto Kart Racer', 'Cocoto Magic Circus', 'Code Geass: Hangyaku no Lelouch', 'Code Geass: Hangyaku no Lelouch - Lost Colors', 'Code Geass: Hangyaku no Lelouch R2 - Banjou no Geass Gekijou', 'Code Lyoko', 'Code Lyoko: Fall of X.A.N.A.', 'Code Lyoko: Quest for Infinity', 'Code Name: S.T.E.A.M.', 'Code R', 'Code of Princess', 'Code:Realize - Sousei no Himegimi', 'Coded Arms', 'Coded Arms: Contagion', 'Coded Soul: Uke Keigareshi Idea', 'Codename Tenka', 'Codename: Kids Next Door: Game Boy Advance Video Volume 1', 'Codename: Kids Next Door: Operation S.O.D.A.', 'Codename: Kids Next Door: Operation V.I.D.E.O.G.A.M.E.', 'Codename: Panzers Cold War', 'Codename: Panzers Complete Collection', 'Codename: Panzers Phase Two', 'Cold Fear', 'Cold Stone Creamery: Scoop It Up', 'Cold War', 'Cold Winter', 'Colin McRae Rally', 'Colin McRae Rally 04', 'Colin McRae Rally 2.0', 'Colin McRae Rally 2005', 'Colin McRae Rally 3', 'Collar x Malice', 'College Hoops 2K6', 'College Hoops 2K7', 'College Hoops 2K8', 'College Slam', 'Colony Wars', 'Colony Wars III: Red Sun', 'Colony Wars: Vengeance', 'Color Cross', 'Colosseum: Road to Freedom', 'Combat', 'Combat Elite: WWII Paratroopers', 'Combat Flight Simulator 3: Battle for Europe', 'Combat Mission: Shock Force', 'Combat Wings: The Great Battles of WWII', 'Combat of Giants: Dinosaurs 3D', 'Combat: Task Force 121', 'Combination Pro Soccer: J-League no Kantoku ni Natte Sekai wo Mezase!!', 'Command & Conquer', 'Command & Conquer 3: Deluxe Edition', \"Command & Conquer 3: Kane's Wrath\", 'Command & Conquer 3: Tiberium Wars', 'Command & Conquer 4: Tiberian Twilight', 'Command & Conquer Collection', 'Command & Conquer Renegade', 'Command & Conquer: Red Alert', 'Command & Conquer: Red Alert 2', 'Command & Conquer: Red Alert 3', 'Command & Conquer: Red Alert 3 Ultimate Edition', 'Command & Conquer: Red Alert Retaliation', 'Command & Conquer: The First Decade', 'Command & Conquer: Tiberian Sun', 'Commander: Conquest of the Americas', 'Commando', 'Commando: Steel Disaster', 'Commandos 2: Men of Courage', 'Commandos 3: Destination Berlin', 'Commandos: Strike Force', 'Company of Heroes', 'Company of Heroes 2', 'Company of Heroes: Anthology', 'Company of Heroes: Opposing Fronts', 'Company of Heroes: Tales of Valor', 'Conan', 'Conception II: Children of the Seven Stars', 'Conception: Please Give Birth to My Child!', 'Condemned 2: Bloodshot', 'Condemned: Criminal Origins', 'Conduit 2', 'Conflict Zone', 'Conflict: Denied Ops', 'Conflict: Desert Storm', 'Conflict: Desert Storm II - Back to Bagdhad', 'Conflict: Global Terror', 'Conflict: Vietnam', 'Congo Bongo', \"Conker's Bad Fur Day\", 'Conker: Live And Reloaded', 'Connect Four / Perfection / Trouble', 'Constantine', 'Contact', 'Contender 2', 'Contra 4', 'Contra Advance: The Alien Wars EX', 'Contra III: The Alien Wars', 'Contra: Legacy of War', 'Contra: Shattered Soldier', 'Contrast', 'Cook Wars', 'Cookie & Cream', 'Cooking Mama', 'Cooking Mama 2: Dinner With Friends', 'Cooking Mama 3: Shop & Chop', 'Cooking Mama 4: Kitchen Magic!', 'Cooking Mama 5: Bon Appetit!', 'Cooking Mama: Cook Off', 'Cooking Mama: My Sweets Shop', 'Cooking Mama: World Kitchen', 'Cool Boarders', 'Cool Boarders 2', 'Cool Boarders 2001', 'Cool Boarders 3', 'Cool Boarders 4', 'Coraline', 'Coronation Street: The Mystery of the Missing Hotpot Recipe', 'Corpse Party: Back to School Edition', 'Corpse Party: Blood Covered - Repeated Fear', 'Corpse Party: Blood Drive', 'Corpse Party: Book of Shadows', 'Corvette', 'Corvette Evolution GT', 'Cory in the House', 'Cosmetic Paradise: Make no Kiseki', 'Cosmic Ark', 'Cosmic Family', 'Cosmos Chaos!', 'Cossacks: European Wars', 'Countdown Vampires', 'Countdown: The Game', 'Counter Force', 'Counter-Strike', 'Counter-Strike: Source', 'Country Dance', 'Country Dance 2', 'Country Dance: All Stars', 'Courier Crisis', 'Coven and Labyrinth of Refrain', 'Covert Ops: Nuclear Dawn', 'Crackdown', 'Crackdown 2', 'Cradle of Rome', 'Crafting Mama', 'Cranium Kabookii', 'Crash & Spyro Superpack', \"Crash 'N' Burn\", 'Crash Bandicoot', 'Crash Bandicoot 2: Cortex Strikes Back', 'Crash Bandicoot 2: N-Tranced', 'Crash Bandicoot 3: Warped', \"Crash Bandicoot Purple: Ripto's Rampage\", 'Crash Bandicoot: The Huge Adventure', 'Crash Bandicoot: The Wrath of Cortex', 'Crash Bash', 'Crash Boom Bang!', 'Crash City Mayhem', 'Crash Nitro Kart', 'Crash Superpack: Crash Bandicoot 2: N-Tranced / Crash Nitro Kart', 'Crash Tag Team Racing', 'Crash Team Racing', 'Crash Time: Autobahn Pusuit', 'Crash of the Titans', 'Crash: Mind Over Mutant', 'Crash: Twinsanity', 'Crayola: Colorful Journey', 'Crayola: Treasure Adventures', 'Crayon Shin-Chan Shokkugan! Densetsu o Yobu Omake Daiketsusen!!', 'Crayon Shin-Chan: Arashi o Yobu Enji', 'Crayon Shin-Chan: Densetsu o Yobu Omake no To Shukkugaan!', 'Crayon Shin-Chan: Obaka Daininden - Susume! Kasukabe Ninja Tai!', 'Crayon Shin-Chan: Uchuu de Achoo!? Yuujou no Oba-Karate!!', 'Crayon Shin-chan: Arashi o Yobu Kasukabe Eiga Stars!', 'Crazy Chicken Tales', 'Crazy Chicken: Atlantis Quest', \"Crazy Chicken: Pharaoh's Treasure\", 'Crazy Chicken: Star Karts', 'Crazy Climber', 'Crazy Machines', 'Crazy Taxi', 'Crazy Taxi 2', 'Crazy Taxi 3: High Roller', 'Crazy Taxi: Catch a Ride', 'Crazy Taxi: Fare Wars', 'Create', 'Creeper World 3: Arc Eternal', 'Crime Crackers', 'Crime Killer', 'Crime Lab: Body of Evidence', 'Crime Life: Gang Wars', 'Crime Scene', 'Criminal Girls 2', 'Criminal Girls: Invite Only', 'Crimson Gem Saga', 'Crimson Sea', 'Crimson Sea 2', 'Crimson Skies: High Road to Revenge', 'Crimson Tears', 'Crisis Core: Final Fantasy VII', 'Critical Depth', 'Criticom', 'Croc 2', 'Croc: Legend of the Gobbos', 'Cross + Channel', 'Cross Ange: Tenshi to Ryuu no Rondo tr.', 'Cross Channel: In Memory of All People', 'Cross Edge', 'Cross Edge Dash', 'Cross Treasures', 'Crossroad Crisis', 'CrossworDS', 'Crouching Tiger, Hidden Dragon', 'Crows: Burning Edge', \"Cruis'n\", \"Cruis'n Exotica\", \"Cruis'n USA\", \"Cruis'n World\", 'Cruise Ship Vacation Games', 'Crusader: No Remorse', 'Crusaders of Might and Magic', 'Crush', 'Crush3D', 'Crushed Baseball', 'Crypt Killer', 'Crysis', 'Crysis 2', 'Crysis 3', 'Crysis: Maximum Edition', 'Crysis: Warhead', 'Crystal Castles', 'Cube', 'Cubic Ninja', 'Cubivore: Survival of the Fittest', \"Cubix Robots for Everyone: Clash 'n' Bash\", 'Culdcept', 'Culdcept DS', 'Culdcept Revolt', 'Culdcept SAGA', 'Curious George', 'Curse of the Amsterdam Diamond', 'Cursed Mountain', \"Custer's Revenge\", 'Custom Beat Battle: Draglade 2', 'Custom Drive', 'Custom Robo', 'Custom Robo Arena', 'Custom Robo V2', 'Cut the Rope', 'Cy Girls', 'Cyber Sled', 'Cyber Troopers Virtual-On', 'Cyber Troopers Virtual-On Marz', 'CyberTiger', 'Cyberia', 'D', 'D.C. II P.S.: Da Capo II Plus Situation', 'D.C. III: Da Capo III', 'D.C.F.S.: Da Capo Four Seasons', 'D.C.I.F.: Da Capo Innocent Finale', 'D.Gray-man: Kami no Shitotachi', 'D.Gray-man: Sousha no Shikaku', 'D1 Professional Drift Grand Prix Series', 'DC Universe Online', 'DDRMAX2: Dance Dance Revolution', 'DEATH NOTE: Kira Game', 'DEATH NOTE: L o Tsugu Mono', 'DECA Sports Freedom', 'DICE: DNA Integrated Cybernetic Enterprises', 'DJ Hero', 'DJ Hero 2', 'DJ Max Fever', 'DJ Max Portable 3', 'DJ Max Technika Tune', 'DJ Star', 'DK: King of Swing', 'DOA 2: Dead or Alive 2 Hardcore', 'DS Bimoji Training', 'DS Bungaku Zenshuu', 'DS Kageyama Method: Dennou Hanpuku - Masu x Masu Hyaku Masu Keisan', 'DS Kageyama Method: Dennou Hanpuku - Tadashii Kanji Kakitori-Kun', 'DS Nishimura Kyotaro Suspense 2 Shin Tantei Series: Kanazawa Hakodate - Gokkan no Kyoukoku - Fukushuu no Kage', 'DS Nishimura Kyotaro Suspense Shin Tantei Series: Kyoto Atami Zekkai no Kotou - Satsui no Wana', 'DS Rakubiki Jiten', 'DS Uranai Seikatsu', 'DS Yamamura Misa Suspense: Maiko Kogiku - Kisha Katherine - Sougiya Isa Akashi - Koto ni Maru Hana Sanrin: Kyoto Satujin Jinken File', 'DT Carnage', 'DT Racer', 'DX Game of Life', 'DX Game of Life 2', 'Da Capo I & II Plus Situation Portable', 'DaGeDar', 'Dai Senryaku VII: Modern Military Tactics', 'Dai-2-Ji Super Robot Taisen OG', 'Dai-2-Ji Super Robot Taisen Z Saisei-hen', 'Dai-2-Ji Super Robot Taisen Z: Hakai-hen', 'Dai-2-Ji Super Robot Taisen α', 'Dai-3-Ji Super Robot Taisen α: Shuuen no Ginga e', 'Dai-4-Ji Super Robot Taisen', 'Dai-4-Ji Super Robot Taisen S', 'Daibakushou: Jinsei Gekijou', 'Daigasso! Band Brothers', 'Daigasso! Band Brothers P', 'Daikaijuu Battle: Ultra Coliseum', 'Daikaijuu Battle: Ultra Coliseum DX - Ultra Senshi Daishuuketsu', 'Daikaijyuu Monogatari', 'Daikaijyuu Monogatari II', 'Daisy Fuentes Pilates', 'Daito Giken Koushiki Pachi-Slot Simulator Hihouden: Taiyou o Motomeru Monotachi', 'Daito Giken Koushiki Pachi-Slot Simulator: 24 - Twenty-Four', 'Daito Giken Koushiki Pachi-Slot Simulator: Hihouden', 'Daito Giken Koushiki Pachi-Slot Simulator: Hihouden - Fuujirareta Megami Portable', 'Daito Giken Koushiki Pachi-Slot Simulator: Hihouden - Ossu! Banchou - Yoshimune DS', 'Daito Giken Koushiki Pachi-Slot Simulator: Ossu! Banchou Portable', 'Daito Giken Koushiki Pachi-Slot Simulator: Ossu! Misao + Maguro Densetsu Portable', 'Daito Giken Koushiki Pachi-Slot Simulator: Shake II', 'Daito Giken Koushiki Pachi-Slot Simulator: Shin Yoshimune', 'Daito Giken Koushiki Pachi-Slot Simulator: Yoshimune Portable', 'Daito Giken Premium Pachi-Slot Collection: Yoshimune', 'Daiya no Kuni no Alice: Wonderful Mirror World', \"Dakar 2: The World's Ultimate Rally\", 'Damage Inc.: Pacific Squadron WWII', 'Damnation', 'Danball Senki', 'Danball Senki Boost', 'Dance Central', 'Dance Central 2', 'Dance Central 3', 'Dance Central: Spotlight', 'Dance Dance Revolution (Japan)', 'Dance Dance Revolution (North America)', 'Dance Dance Revolution 2nd ReMIX', 'Dance Dance Revolution 3rdMix', 'Dance Dance Revolution Disney Mix', 'Dance Dance Revolution Extra Mix', 'Dance Dance Revolution Extreme', 'Dance Dance Revolution Extreme 2', 'Dance Dance Revolution SuperNOVA', 'Dance Dance Revolution SuperNOVA 2', 'Dance Dance Revolution Ultramix', 'Dance Dance Revolution Ultramix 2', 'Dance Dance Revolution Ultramix 3', 'Dance Dance Revolution Universe', 'Dance Dance Revolution Universe 2', 'Dance Dance Revolution Universe 3', 'Dance Dance Revolution X', 'Dance Dance Revolution X2', 'Dance Dance Revolution: Disney Channel Edition', 'Dance Dance Revolution: Disney Grooves', 'Dance Dance Revolution: Hottest Party', 'Dance Dance Revolution: Hottest Party 2', 'Dance Dance Revolution: Hottest Party 3', 'Dance Dance Revolution: Hottest Party 5', 'Dance Dance Revolution: Mario Mix', 'Dance Dance Revolution: Mario Mix (JP sales)', 'Dance Factory', 'Dance Paradise', 'Dance Party: Pop Hits', 'Dance Sensation!', 'Dance on Broadway', 'Dance with Devils', \"Dance! It's Your Stage\", 'DanceDanceRevolution', 'DanceDanceRevolution II', 'DanceMasters', 'DanceStar Party', 'Dancing Blade II: Tears of Eden', 'Dancing With The Stars', 'Dancing on Ice', 'Dancing with the Stars: We Dance!', 'Danganronpa 2: Goodbye Despair', 'Danganronpa Another Episode: Ultra Despair Girls', 'Danganronpa: Trigger Happy Havoc', 'Dangerous Ji-San to 1000-nin no Otomodachi Yokoshima', 'Daniel X: The Ultimate Power', 'Danny Phantom: The Ultimate Enemy', 'Danny Phantom: Urban Jungle', \"Dante's Inferno\", 'Darius Burst: Chronicle Saviours', 'Darius Gaiden', 'Darius II', 'Dark Angel: Vampire Apocalypse', 'Dark Arena', 'Dark Cavern', 'Dark Cloud', 'Dark Cloud 2', 'Dark Half', 'Dark Messiah of Might and Magic Elements', 'Dark Parables: The Exiled Prince', 'Dark Rift', 'Dark Sector', 'Dark Souls', 'Dark Souls II', 'Dark Souls III', 'Dark Summit', \"Dark Tales: Edgar Allan Poe's The Premature Burial\", 'Dark Void', 'DarkStar One', 'DarkStar One: Broken Alliance', 'Darkened Skye', 'Darkest of Days', 'Darklight Conflict', 'Darksiders', 'Darksiders II', 'Darksiders: Warmastered Edition', 'Darkspore', 'Darkstalkers 3', 'Darkstalkers Chronicle: The Chaos Tower', 'Darkstalkers Resurrection', 'Darkstone', 'Darkwatch', 'Data East Arcade Classics', 'Date A Live: Arusu Install', 'Date A Live: Rine Utopia', 'Date-A-Live Twin Edition: Rio Reincarnation', 'Datenshi no Amai Yuuwaku x Kaikan Phrase', 'Dave Mirra BMX Challenge', 'Dave Mirra Freestyle BMX', 'Dave Mirra Freestyle BMX 2', 'Dave Mirra Freestyle BMX 3', 'Dave Mirra Freestyle BMX: Maximum Remix', 'Davis Cup Tennis', 'Dawn of Discovery', 'Dawn of Heroes', 'Dawn of Mana', 'Daxter', 'Daytona USA', 'Daytona USA Championship Circuit Edition', 'Dead Ball Zone', 'Dead Head Fred', 'Dead Island', 'Dead Island Definitive Collection', 'Dead Island: Riptide', \"Dead Man's Hand\", 'Dead Rising', 'Dead Rising 2', 'Dead Rising 2: Off the Record', 'Dead Rising 3', 'Dead Rising: Chop Till You Drop', 'Dead Space', 'Dead Space 2', 'Dead Space 3', 'Dead Space Extraction', 'Dead in the Water', 'Dead or Alive', 'Dead or Alive 2', 'Dead or Alive 3', 'Dead or Alive 4', 'Dead or Alive 5', 'Dead or Alive Paradise', 'Dead or Alive Ultimate', 'Dead or Alive Xtreme 2', 'Dead or Alive Xtreme 3: Fortune', 'Dead or Alive Xtreme 3: Venus', 'Dead or Alive Xtreme Beach Volleyball', 'Dead or Alive: Dimensions', 'Dead to Rights', 'Dead to Rights II', 'Dead to Rights: Reckoning', 'Dead to Rights: Retribution', 'Deadliest Catch: Alaskan Storm', 'Deadliest Catch: Sea of Chaos', 'Deadliest Warrior: Ancient Combat', 'Deadly Arts', 'Deadly Creatures', 'Deadly Duck', 'Deadly Premonition', 'Deadpool', 'Deal or No Deal', 'Deal or No Deal: Special Edition', 'Deal or No Deal: The Banker is Back!', 'Death By Degrees', 'Death Connection Portable', 'Death Jr.', 'Death Jr. II: Root of Evil', 'Death Jr. and the Science Fair of Doom', 'Death Jr.: Root of Evil', 'Death Trap', 'DeathSmiles', 'DeathSmiles II', 'Deathrow: Underground Team Combat', 'Deathtrap Dungeon', 'Deca Sports', 'Deca Sports 2', 'Deca Sports 3', 'Deca Sports DS', 'Deca Sports Extreme', 'Decathlete', 'Deception III: Dark Delusion', 'Deception IV: Blood Ties', 'Deep Fear', 'Deep Labyrinth', \"Deepak Chopra's Leela\", 'Deer Drive', 'Deer Drive: Legends', 'Deer Hunter', 'Def Jam Fight For NY: The Takeover', 'Def Jam Icon', 'Def Jam Rapstar', 'Def Jam Vendetta', 'Def Jam: Fight for NY', 'DefCon 5', 'Defender', 'Defender II', \"Defendin' De Penguin\", 'Defiance', 'Delta Force: Black Hawk Down', 'Dementium II', 'Dementium: The Ward', 'DemiKids: Dark Version', 'DemiKids: Light Version', 'Demigod', 'Demolition Company: Gold Edition', 'Demolition Racer', 'Demon Attack', 'Demon Chaos', 'Demon Driver: Time to Burn Rubber!', 'Demon Gaze', 'Demon Gaze 2', \"Demon's Souls\", 'Dengeki Bunko Fighting Climax', 'Dengeki Gakuen RPG: Cross of Venus', 'Dengeki Gakuen RPG: Cross of Venus Special', 'Denki Blocks!', 'Dennou Senki Virtual-On Force', 'Densetsu no Stafi', 'Densetsu no Stafi 2', 'Densetsu no Stafi 3', 'Densetsu no Stafi 4', 'Densetsu no Yuusha no Densetsu: Legendary Saga', 'Densha De Go!', 'Densha De Go! 2', 'Densha De Go! 3 Tsuukinhen', 'Densha De Go! 64', 'Densha de Go! Shinkansen EX: Sanyou Shinkansen-hen', 'Densha de Go! Tokubetsu-hen: Fukkatsu Shouwa no Yamatesen', 'Deponia', 'Derby Jockey 2', 'Derby Jockey: Kishou e no Michi', 'Derby Stallion', 'Derby Stallion 04', 'Derby Stallion 64', 'Derby Stallion 96', 'Derby Stallion 98', 'Derby Stallion 99', 'Derby Stallion Advance', 'Derby Stallion DS', 'Derby Stallion Gold', 'Derby Stallion II', 'Derby Stallion III', 'Derby Stallion P', 'Derby Time 2006', 'Derby Tsuku 5: Derby Uma o Tsukurou!', 'Derby Tsuku: Derby Uma o Tsukurou!', 'Descent', 'Descent Maximum', 'Desert Falcon', 'Desert Strike Advance', 'Desire', 'Desktop Tower Defense', 'Despicable Me: The Game', 'Despicable Me: The Game - Minion Mayhem', 'Destiny', 'Destiny Links', 'Destiny: The Collection', 'Destiny: The Taken King', 'Destrega', 'Destroy All Humans!', 'Destroy All Humans! 2', 'Destroy All Humans! Big Willy Unleashed', 'Destroy All Humans! Path of the Furon', 'Destruction Derby', 'Destruction Derby 2', 'Destruction Derby 64', 'Destruction Derby Arenas', 'Destruction Derby Raw', 'Detana TwinBee Yahho! Deluxe Pack', 'Detective Barbie: The Mystery Cruise', 'Detective Conan: Marionette Symphony', 'Detective Conan: Phantom Rhapsody', 'Detective Conan: Prelude from the Past', 'Detective Jinguuji Saburo: Ronde Revenge', 'Detective Opera: Milky Holmes 2', 'Deus Ex', 'Deus Ex: Human Revolution', 'Deus Ex: Invisible War', 'Deus Ex: Mankind Divided', 'Deus Ex: The Conspiracy', 'Devil Dice', 'Devil Kings', 'Devil May Cry', 'Devil May Cry 2', \"Devil May Cry 3: Dante's Awakening\", \"Devil May Cry 3: Dante's Awakening Special Edition\", 'Devil May Cry 4', 'Devil May Cry HD Collection', 'Devil Survivor: Over Clock', \"Devil's Third\", \"Dewy's Adventure\", \"Dexter's Lab Chess Challenge\", \"Dexter's Laboratory Deesaster Strikes\", 'Di-Gata Defenders', 'DiRT', 'DiRT 2', 'DiRT 3', 'DiRT Rally', 'DiRT Showdown', 'Diablo', 'Diablo II', 'Diablo II: Lord of Destruction', 'Diablo III', 'Diabolik Lovers', 'Diabolik Lovers: Dark Fate', 'Diabolik Lovers: Lunatic Parade', 'Diabolik Lovers: More Blood', 'Diabolik Lovers: Vandead Carnival', 'Diary Girl', 'Diddy Kong Racing', 'Diddy Kong Racing DS', 'Die Hard Trilogy', 'Die Hard Trilogy 2: Viva Las Vegas', 'Die Hard: Vendetta', \"Diego's Build & Rescue\", 'Dies Irae: Amantes Amentes', 'Dig Dug', 'Dig Dug: Digging Strike', 'Digger Simulator', 'Digging for Dinosaurs', 'Digimon Adventure', 'Digimon Adventure: Anode Tamer', 'Digimon All-Star Rumble', 'Digimon Battle Spirit 2', 'Digimon Digital Card Battle', 'Digimon Racing', 'Digimon Rumble Arena', 'Digimon Rumble Arena 2', 'Digimon Story: Cyber Sleuth', 'Digimon Story: Lost Evolution', 'Digimon Story: Super Xros Wars Blue/Red', 'Digimon World', 'Digimon World 2', 'Digimon World 4', 'Digimon World Championship', 'Digimon World DS', 'Digimon World DS (JP sales)', 'Digimon World Re:Digitize', 'Digimon World Re:Digitize Decode', 'Digimon World: Data Squad', 'Digimon World: Dawn / Dusk', 'Digimon World: Next Order', 'Diner Dash: Flo on the Go', 'Diner Dash: Sizzle & Serve', 'Dino Crisis', 'Dino Crisis 2', 'Dino Crisis 3', \"Dino Dini's Kick Off Revival\", 'Dino Master: Dig Discover Duel', 'Dino Pets', 'Dino Stalker', 'Dinosaur King', 'Dinotopia: The Sunstone Odyssey', 'Dinotopia: The Timestone Pirates', 'Dirge of Cerberus: Final Fantasy VII', 'Disaster Report', 'Disaster: Day of Crisis', 'Disciples III: Renaissance', 'Discovery Kids: Dolphin Discovery', 'Discovery Kids: Kitten Corner', 'Discovery Kids: Parrot Pals', 'Discovery Kids: Pony Paradise', 'Discovery Kids: Puppy Playtime', 'Discovery Kids: Snake Safari', 'Discovery Kids: Spider Quest', 'Discworld', 'Discworld II: Mortality Bytes!', 'Disgaea 2: Cursed Memories', 'Disgaea 2: Dark Hero Days', 'Disgaea 3: Absence of Detention', 'Disgaea 3: Absence of Justice', 'Disgaea 4: A Promise Unforgotten', 'Disgaea 5: Alliance of Vengeance', 'Disgaea D2: A Brighter Darkness', 'Disgaea DS', 'Disgaea Infinite', 'Disgaea: Afternoon of Darkness', 'Disgaea: Hour of Darkness', 'Dishonored', 'Dishonored 2', 'Disney Art Academy', 'Disney Channel Collection Vol. 1', 'Disney Channel: All Star Party', 'Disney Fairies: Tinker Bell', 'Disney Fairies: Tinker Bell and the Great Fairy Rescue', 'Disney Fairies: Tinker Bell and the Lost Treasure', 'Disney Friends', 'Disney Golf', 'Disney Guilty Party', 'Disney Infinity', 'Disney Infinity 2.0: Marvel Super Heroes', 'Disney Infinity 3.0', 'Disney Magic World 2', 'Disney Magical World', 'Disney Planes Fire & Rescue', 'Disney Princess', 'Disney Princess: Enchanted Journey', 'Disney Princess: Enchanting Storybooks', 'Disney Princess: Magical Jewels', 'Disney Sing It', 'Disney Sing It! High School Musical 3: Senior Year', 'Disney Sing It: Family Hits', 'Disney Sing It: Party Hits', 'Disney Sing It: Pop Hits', 'Disney Sports Basketball', 'Disney Sports Football', 'Disney Sports Skateboarding', 'Disney Sports Soccer', 'Disney Stitch Jam', 'Disney TH!NK Fast: The Ultimate Trivia Showdown', 'Disney Tangled', 'Disney Universe', \"Disney's 102 Dalmatians: Puppies to the Rescue\", \"Disney's A Christmas Carol\", \"Disney's Aladdin\", \"Disney's Aladdin in Nasira's Revenge\", \"Disney's American Dragon Jake Long: Attack of the Dark Dragon\", \"Disney's Atlantis: The Lost Empire\", \"Disney's Brother Bear\", \"Disney's Chicken Little\", \"Disney's Chicken Little: Ace In Action\", \"Disney's Chip 'n Dale: Rescue Rangers\", \"Disney's Cinderella: Magical Dreams\", \"Disney's Donald Duck Advance\", \"Disney's Donald Duck: Goin' Quackers\", \"Disney's DuckTales\", \"Disney's Extreme Skate Adventure\", \"Disney's Hercules / Disney's The Jungle Book: Groove Party / A Bug's Life\", \"Disney's Hide & Sneak\", \"Disney's Home on the Range\", \"Disney's Kim Possible 2: Drakken's Demise\", \"Disney's Kim Possible 3: Team Possible\", \"Disney's Kim Possible: Global Gemini\", \"Disney's Kim Possible: Kimmunicator\", \"Disney's Kim Possible: Revenge of Monkey Fist\", \"Disney's Lilo & Stitch\", \"Disney's Magical Mirror Starring Mickey Mouse\", \"Disney's Magical Quest 2 Starring Mickey and Minnie\", \"Disney's Magical Quest 3 Starring Mickey and Donald\", \"Disney's Magical Quest Starring Mickey and Minnie\", \"Disney's Meet the Robinsons\", \"Disney's PK: Out of the Shadows\", \"Disney's Party\", \"Disney's Peter Pan: Return to Never Land\", \"Disney's Planes\", \"Disney's Stitch: Experiment 626\", \"Disney's Story Studio: Disney's Mulan\", \"Disney's Tarzan\", \"Disney's Tarzan / Disney's Aladdin in Nasira's Revenge / Disney's The Emperor's New Groove Action Game\", \"Disney's Tarzan Untamed\", \"Disney's Tarzan: Return to the Jungle\", \"Disney's The Emperor's New Groove\", \"Disney's The Haunted Mansion\", \"Disney's The Jungle Book\", \"Disney's The Lion King\", \"Disney's The Lion King: Simba's Mighty Adventure\", \"Disney's The Little Mermaid: Ariel's Undersea Adventure\", \"Disney's Treasure Planet\", \"Disney's Winnie the Pooh's Rumbly Tumbly Adventure\", 'Disruptor', 'Dissidia 012: Duodecim Final Fantasy', 'Dissidia: Final Fantasy', 'Dissidia: Final Fantasy Universal Tuning', 'Diva Girls: Divas on Ice', 'Divinity II: Ego Draconis', 'Divinity II: Flames of Vengeance', 'Divinity II: The Dragon Knight Saga', 'Divinity: Original Sin', 'DmC: Devil May Cry', 'Do-Konjou Shougakussei: Bon Bita - Hadaka no Choujou Ketsusen!! Bita vs. Dokuro Dei!', 'DoDonPachi Dai-Oujou: Black Label Extra', 'DoDonPachi Daifukkatsu: Black Label', 'DoDonPachi Resurrection', 'DoDonPachi Saidaioujou', 'Doctor Lautrec and the Forgotten Knights', 'Doctor Who: Evacuation Earth', 'Doctor Who: Return to Earth', 'Dodge Racing: Charger vs Challenger', \"Dog's Life\", 'Dogz', 'Dokapon Journey', 'Dokapon Kingdom', 'Doki Doki! PreCure Narikiri Life!', 'Doki Majo Plus', 'Doki Oki', 'Doki-Doki Universe', 'DokiDoki Majo Shinpan!', 'DokiDoki Majo Shinpan! 2', 'Doko Demo Issho', \"Doko Demo Issho: Let's Gakkou!\", 'Doko Demo Issyo', 'DokuSui: DokiDoki Suikoden', 'Dokuro', 'Dollar Dash', 'Dolly Kanon Dokidoki Tokimeki Himitsu no Ongaku Katsudou Start Desu!!', 'Dolphin', 'Domino Rally', 'Don Bradman Cricket 14', 'Don King Boxing', 'Don King Presents: Prizefighter', 'Donkey Kong', 'Donkey Kong 64', 'Donkey Kong Barrel Blast', 'Donkey Kong Classics', 'Donkey Kong Country', 'Donkey Kong Country 2', \"Donkey Kong Country 2: Diddy's Kong Quest\", 'Donkey Kong Country 3', \"Donkey Kong Country 3: Dixie Kong's Double Trouble!\", 'Donkey Kong Country Returns', 'Donkey Kong Country: Tropical Freeze', 'Donkey Kong GB: Dinky Kong & Dixie Kong', 'Donkey Kong Jr.', 'Donkey Kong Jungle Beat', 'Donkey Kong Jungle Climber', 'Donkey Kong Junior', 'Donkey Kong Land', 'Donkey Kong Land II', 'Donkey Kong Land III', 'Donkey Konga', 'Donkey Konga 2', \"Dood's Big Adventure\", 'Doodle Hex', 'Doom', 'Doom (2016)', 'Doom 3', 'Doom 3 BFG Edition', 'Doom 3: Resurrection of Evil', 'Doom 64', 'Doom II: Hell on Earth', \"Dora & Kai-Lan's Pet Shelter\", 'Dora The Explorer: Dora Saves the Snow Princess', 'Dora the Explorer: Dora Puppy', 'Dora the Explorer: Dora Saves the Crystal Kingdom', 'Dora the Explorer: Dora Saves the Mermaids', 'Dora the Explorer: Game Boy Advance Video Volume 1', 'Dora the Explorer: Journey to the Purple Planet', 'Dora the Explorer: Super Spies', 'Dora the Explorer: Super Star Adventures', \"Dora the Explorer: The Search for Pirate Pig's Treasure\", \"Dora's Big Birthday Adventure\", \"Dora's Cooking Club\", 'DoraMoji: Nobita no Kanji Daisakusen', 'Dorabase 2: Nettou Ultra Stadium', 'Dorabase DS: Dramatic Stadium', 'Doraemon', 'Doraemon 2: Nobita no Toizurando Daibouken', 'Doraemon 3: Nobi Dai no Machi SOS!', 'Doraemon 4: Nobita to Toki no Okoku', 'Doraemon Wii: Himitsu Douguou Ketteisen!', 'Doraemon: Nobita and the Island of Miracles', 'Doraemon: Nobita no Kyouryuu 2006 DS', 'Doraemon: Nobita no Shin Makai Daibouken DS', 'Doraemon: Nobita no Uchuu Eiyuuki', 'Doraemon: Nobita to Himitsu Dougu Hakubutsukan', 'Doraemon: Nobita to Midori no Kyojinden DS', 'Doraemon: Shin Nobita no Daimakyou Peko to 5-nin no Tankenta', 'Doraemon: Shin Nobita no Nihon Tanjou', 'Doshin the Giant', 'Double Dragon', 'Double Dragon Advance', 'Double Pack: Finding Nemo / The Incredibles', 'Double Sequence: The Q-Virus Invasion', 'Double Value!: ATV Thunder Ridge Riders / Monster Trucks Mayhem', 'Doubutsu no Mori', 'Doukoku Shoshite...', 'Doukyuusei', 'Doukyuusei 2', 'Doukyuusei if', 'Downforce', 'Downhill Domination', 'Downstream Panic!', 'Downtown Nekketsu Jidaigek', 'Downtown Nekketsu Koushinkyoku: Soreyuke Daiundoukai All-Star Special', 'Downtown no Gaki no Tsukai Yaarahen de!! Zettai ni Tsukamatte Haikenai Gasu Kurobikari Land', 'Dr. Mario', 'Dr. Mario / Puzzle League', 'Dr. Mario 64', 'Dr. Muto', \"Dr. Seuss' The Cat in the Hat\", 'Dr. Seuss: Green Eggs and Ham', 'Dr. Seuss: How the Grinch Stole Christmas', 'Dr. Slump & Arale-Chan', 'Draglade', 'Draglade (JP sales)', 'Dragon Age II', 'Dragon Age Origins: Awakening', 'Dragon Age: Inquisition', 'Dragon Age: Origins', 'Dragon Age: Origins - Ultimate Edition', 'Dragon Ball GT: Final Bout', 'Dragon Ball GT: Game Boy Advance Video Volume 1', 'Dragon Ball GT: Transformation', 'Dragon Ball Heroes: Ultimate Mission', 'Dragon Ball Heroes: Ultimate Mission 2 ', 'Dragon Ball Kai: Ultimate Butouden', 'Dragon Ball Z', 'Dragon Ball Z Hyper Dimension', 'Dragon Ball Z Super Gokuden: Kakusei-Hen', 'Dragon Ball Z for Kinect', 'Dragon Ball Z: Attack of the Saiyans', 'Dragon Ball Z: Battle of Z', 'Dragon Ball Z: Budokai', 'Dragon Ball Z: Budokai 2', 'Dragon Ball Z: Budokai 3', 'Dragon Ball Z: Budokai Tenkaichi', 'Dragon Ball Z: Budokai Tenkaichi 2', 'Dragon Ball Z: Budokai Tenkaichi 2 (JP sales)', 'Dragon Ball Z: Budokai Tenkaichi 3', 'Dragon Ball Z: Burst Limit', \"Dragon Ball Z: Buu's Fury\", \"Dragon Ball Z: Buu's Fury / Dragon Ball GT: Transformation\", 'Dragon Ball Z: Chou Saiya Densetsu', 'Dragon Ball Z: Collectible Card Game', 'Dragon Ball Z: Extreme Butoden', 'Dragon Ball Z: Harukanaru Densetsu', 'Dragon Ball Z: Harukanaru Densetsu (JP sales)', 'Dragon Ball Z: Idainaru Dragon Ball Densetsu', 'Dragon Ball Z: Infinite World', 'Dragon Ball Z: La Legende Saien', 'Dragon Ball Z: Sagas', 'Dragon Ball Z: Shin Budokai', 'Dragon Ball Z: Shin Budokai - Another Road', 'Dragon Ball Z: Shin Butouden', 'Dragon Ball Z: Supersonic Warriors', 'Dragon Ball Z: Supersonic Warriors 2', 'Dragon Ball Z: Taiketsu', 'Dragon Ball Z: Tenkaichi Tag Team', 'Dragon Ball Z: The Legacy of Goku', 'Dragon Ball Z: The Legacy of Goku I & II', 'Dragon Ball Z: The Legacy of Goku II', 'Dragon Ball Z: Ultimate Tenkaichi', 'Dragon Ball Z: Ultime Menace', 'Dragon Ball: Advanced Adventure', 'Dragon Ball: Daimaou Fukkatsu', 'Dragon Ball: Evolution', 'Dragon Ball: Fusions', 'Dragon Ball: Origins', 'Dragon Ball: Origins (JP & incomplete US sales)', 'Dragon Ball: Origins 2', 'Dragon Ball: Raging Blast', 'Dragon Ball: Raging Blast 2', 'Dragon Ball: Revenge of King Piccolo', 'Dragon Ball: XenoVerse', 'Dragon Ball: Xenoverse 2', 'Dragon Blade: Wrath of Fire', 'Dragon Booster', 'Dragon Force', 'Dragon Force II: Kamisarishi Daichi ni', 'Dragon Quest & Final Fantasy in Itadaki Street Portable', 'Dragon Quest 25 Shuunen Kinin: Famicom & Super Famicom Dragon Quest I-II-III', 'Dragon Quest Builders: Revive Alefgard', 'Dragon Quest Characters: Torneko no Daibouken 3: Fushigi no Dungeon', \"Dragon Quest Heroes II: Twin Kings and the Prophecy's End\", 'Dragon Quest Heroes: Rocket Slime', \"Dragon Quest Heroes: The World's Tree Woe and the Blight Below\", 'Dragon Quest I & II', 'Dragon Quest III: Soshite Densetsu e...', 'Dragon Quest IV: Chapters of the Chosen', 'Dragon Quest IV: Michibikareshi Monotachi', 'Dragon Quest IX: Sentinels of the Starry Skies', 'Dragon Quest Monsters 1·2', 'Dragon Quest Monsters 2', 'Dragon Quest Monsters Joker 3', 'Dragon Quest Monsters: Battle Road Victory', 'Dragon Quest Monsters: Caravan Heart', 'Dragon Quest Monsters: Joker', 'Dragon Quest Monsters: Joker 2', 'Dragon Quest Monsters: Joker 2 Professional', \"Dragon Quest Monsters: Terry's Wonderland 3D\", 'Dragon Quest Swords: The Masked Queen and the Tower of Mirrors', 'Dragon Quest V: Hand of the Heavenly Bride', 'Dragon Quest V: Tenkuu no Hanayome', 'Dragon Quest VI: Maboroshi no Daichi', 'Dragon Quest VI: Realms of Revelation', 'Dragon Quest VII: Warriors of Eden', 'Dragon Quest VIII: Journey of the Cursed King', 'Dragon Quest X', 'Dragon Quest X: All in One Package', 'Dragon Quest: Shounen Yangus to Fushigi no Dungeon', 'Dragon Rage', 'Dragon Shadow Spell', 'Dragon Slayer: The Legend of Heroes', 'Dragon Tales: Dragon Adventures', 'Dragon Tales: Dragon Seek', 'Dragon Tamer: Sound Spirit', 'Dragon Valor', 'Dragon Warrior', 'Dragon Warrior I&II', 'Dragon Warrior II', 'Dragon Warrior III', 'Dragon Warrior IV', 'Dragon Warrior Monsters', 'Dragon Zakura DS', \"Dragon's Crown\", \"Dragon's Dogma\", \"Dragon's Dogma Online\", \"Dragon's Dogma Online: Season 2\", \"Dragon's Lair\", \"Dragon's Lair 3D: Return to the Lair\", \"Dragon's Lair Trilogy\", 'DragonHeart: Fire & Steel', \"Dragoneer's Aria\", 'Dragonfire', 'Dragonseeds', 'Dragster', \"Drakan: The Ancients' Gates\", 'Drake & Josh: Talent Showdown', 'Drake of the 99 Dragons', 'Drakengard', 'Drakengard 2', 'Drakengard 3', 'Drakensang: The Dark Eye', 'Drama Queens', 'Dramatic Dungeon: Sakura Wars - Kimi Arugatame', 'Dramatic Soccer Game: Nippon Daihyou Senshu Ninarou!', 'Dramatical Murder Re:code', 'Drawn To Life: SpongeBob SquarePants Edition', 'Drawn to Life', 'Drawn to Life Collection', 'Drawn to Life: The Next Chapter', 'Dream C Club', 'Dream C Club Portable', 'Dream C Club Zero', 'Dream C Club: GoGo ', 'Dream Chronicles', 'Dream Club Zero Portable', 'Dream Dance & Cheer', 'Dream Dancer', 'Dream Day: Wedding Destinations', 'Dream Girl Premier', 'Dream Pinball 3D', 'Dream Salon', 'Dream Trigger 3D', 'DreamWorks Super Star Kartz', 'Dreamcast Collection', 'Dreamer Series: Babysitter', 'Dreamer Series: Horse Trainer', 'Dreamer Series: Pop Star', 'Dreamer Series: Puppy Trainer', 'Dreamer Series: Shop Owner', 'Dreamer Series: Teacher', 'Dreamer Series: Top Model', 'Dreamer Series: Zoo Keeper', 'Dreamfall: The Longest Journey', 'Dreamworks 2-in-1 Party Pack', 'Dreamworks Madagascar Kartz', \"Drift King Shutokou Battle '94\", 'Drill Dozer', 'Driv3r', 'DriveClub', 'DriveClub VR', 'Driven', 'Driver', \"Driver '76\", 'Driver 2', 'Driver 2 Advance', 'Driver: Parallel Lines', 'Driver: Renegade', 'Driver: San Francisco', 'Drivers Ed Portable', 'Driving Emotion Type-S', 'Driving Simulator 2011', 'Drome Racers', 'Drone Tactics', 'DropCast', 'Dropship: United Peace Force', 'DrumMania', 'DrumMania 7th Mix', 'Dual Hearts', 'Dual Heroes', 'DualPenSports', 'Ducati Moto', 'Ducati World Racing Challenge', 'Duck Hunt', 'DuckTales: Remastered', 'Duel Love: Koisuru Otome wa Shouri no Megami', 'Duel Masters', 'Duel Masters: Kaijudo Showdown', 'Duel Masters: Sempai Legends', 'Duel Masters: Shadow of the Code', 'Duke Nukem 3D: 20th Anniversary World Tour', 'Duke Nukem 64', 'Duke Nukem Forever', 'Duke Nukem Trilogy: Critical Mass', 'Duke Nukem: Land of the Babes', 'Duke Nukem: Time to Kill', 'Duke Nukem: Total Meltdown', 'Duke Nukem: Zero Hour', 'Dunamis 15', 'Dune 2000', 'Dungeon Defenders', 'Dungeon Explorer: Warriors of Ancient Arts', 'Dungeon Hunter Alliance', 'Dungeon Keeper 2', 'Dungeon Maker II: The Hidden War', 'Dungeon Maker: Hunting Ground', 'Dungeon Raiders', 'Dungeon Siege II', 'Dungeon Siege III', 'Dungeon Siege: Throne of Agony', 'Dungeon Travelers 2: The Royal Library & The Monster Seal', 'Dungeons', 'Dungeons & Dragons Heroes', 'Dungeons & Dragons Tactics', 'Dungeons & Dragons: Eye of the Beholder', 'Dungeons & Dragons: Neverwinter Nights - Complete', 'Dungeons & Dragons: Shadow over Mystara', 'Dungeons - The Dark Lord', 'Dungeons 2', 'Durarara!! 3-way Standoff', 'Durarara!! 3way Standoff: Alley', 'Durarara!! Relay', 'Dying Light', 'Dynamite Headdy', 'Dynasty Tactics', 'Dynasty Tactics 2', 'Dynasty Warriors', 'Dynasty Warriors 2', 'Dynasty Warriors 3', 'Dynasty Warriors 3: Xtreme Legends', 'Dynasty Warriors 4', 'Dynasty Warriors 4 Empires', 'Dynasty Warriors 4: Xtreme Legends', 'Dynasty Warriors 5', 'Dynasty Warriors 5 Empires', 'Dynasty Warriors 5: Xtreme Legends', 'Dynasty Warriors 6', 'Dynasty Warriors 6 (JP sales)', 'Dynasty Warriors 6 Empires', 'Dynasty Warriors 7', 'Dynasty Warriors 7: Empires', 'Dynasty Warriors 7: Xtreme Legends', 'Dynasty Warriors 8', 'Dynasty Warriors 8: Empires', 'Dynasty Warriors 8: Xtreme Legends', 'Dynasty Warriors Advance', \"Dynasty Warriors DS: Fighter's Battle\", 'Dynasty Warriors Gundam', 'Dynasty Warriors Next', 'Dynasty Warriors Vol. 2', 'Dynasty Warriors Vol. 2 (JP sales)', 'Dynasty Warriors Vs', 'Dynasty Warriors: Eiketsuden', 'Dynasty Warriors: Gundam', 'Dynasty Warriors: Gundam 2', 'Dynasty Warriors: Gundam 3', 'Dynasty Warriors: Gundam Reborn', 'Dynasty Warriors: Strikeforce', 'E.T. The Extra-Terrestrial', 'E.T. The Extra-Terrestrial: Interplanetary Mission', 'E.T.: The Extra Terrestrial', 'E.X. Troopers', 'E0: Enemy Zero', 'EA Playground', 'EA Replay', 'EA Sports Active', 'EA Sports Active 2', 'EA Sports Active NFL Training Camp', 'EA Sports Active: More Workouts', 'EA Sports Grand Slam Tennis', 'EA Sports MMA', 'EA Sports UFC', 'EA Sports UFC 2', 'ECW Anarchy Rulz', 'ECW Hardcore Revolution', 'ESA Foundation Compilation', 'ESA Game Pack', 'ESPN College Hoops', 'ESPN College Hoops 2K5', 'ESPN Extreme Games', 'ESPN Final Round Golf 2002', 'ESPN Great Outdoor Games Bass 2002', 'ESPN International Track & Field', 'ESPN International Winter Sports 2002', 'ESPN MLB Baseball', 'ESPN MLS ExtraTime 2002', 'ESPN NBA 2K5', 'ESPN NBA 2Night', 'ESPN NBA 2Night 2002', 'ESPN NBA Basketball', 'ESPN NFL 2K5', 'ESPN NFL Football', 'ESPN NFL Primetime 2002', 'ESPN NHL 2K5', 'ESPN NHL Hockey', 'ESPN National Hockey Night', 'ESPN Winter X Games: Snowboarding 2002', 'ESPN Winter X-Games: Snowboarding 2002', 'ESPN X Games Skateboarding', 'ESPN X-Games Pro Boarder', 'ESPN: Sports Connection', 'EVE Online', 'EVE: Valkyrie', 'EVE: burst error', 'EX Monopoly', 'Eagle Flight', 'Earth Defense Force 2017', 'Earth Defense Force 2017 (old JP sales)', 'Earth Defense Force 2017 Portable', 'Earth Defense Force 2025', 'Earth Defense Force 2025.1: The Shadow of New Despair', 'Earth Defense Force 2: Invaders from Planet Space', 'Earth Defense Force 4.1: The Shadow of New Despair', 'Earth Defense Force: Insect Armageddon', 'Earth Seeker', 'EarthBound', 'Earthworm Jim', 'Earthworm Jim 2', 'Earthworm Jim 3D', 'East India Company', 'East India Company Collection', 'Easy Piano', 'Eat Lead: The Return of Matt Hazard', 'Ebikore Photo Kano Kiss ', 'Ecco the Dolphin', 'Ecco the Dolphin: Defender of the Future', 'Ecco: The Tides of Time', 'Echo Night', 'Echo Night Beyond', 'Eco Creatures: Save The Forest', 'Ed, Edd n Eddy: Jawbreakers!', 'Ed, Edd n Eddy: The Mis-Edventures', \"Edna & Harvey: Harvey's New Eyes\", 'Egg Mania: Eggstreme Madness', 'Egg Monster Hero', 'Ehrgeiz', 'Eigo de Tabisuru: Little Charo', 'Eikan wa Kimini 2002: Koshien no Kodou', 'Eiken DS', 'Einhänder', 'Eiyuu Densetsu: Sora no Kiseki Material Collection Portable', 'El Shaddai: Ascension of the Metatron', 'El Tigre: The Adventures of Manny Rivera', 'Elebits', 'Elebits: The Adventures of Kai and Zero', 'Electroplankton', 'Element Girl: Love, Fashion and Friends', 'Element Hunter', 'Elemental Gearbolt', 'Elements of Destruction', 'Elf Bowling 1 & 2', 'Elf: The Movie', 'Elite Beat Agents', 'Elite Forces: Unit 77', 'Elkrone no Atelier: Dear for Otomate', 'Elminage Gothic: Ulm Zakir to Yami no Gishiki', 'Elminage II DS Remix: Sousei no Megami to Unmai no Daichi', 'Elminage II: Sousei no Megami to Unmei no Daichi', 'Elminage III: Ankoku no Shito to Yaiyou no Kyuuden', 'Elminage Original: Majo to Megami to Kamigami no Yubiwa', 'Elvandia Story', 'Elven Legacy', 'Elven Legacy Collection', 'Emblem of Gundam', 'Emergency 2012', 'Emergency Heroes', 'Emergency Mayhem', 'Emergency Room: Real Life Rescues', 'Emergency! Disaster Rescue Squad', 'Emily Archer and the Curse of Tutankhamun', 'Emily the Strange: Strangerous', 'Emma at the Farm', 'Empire Deluxe', 'Empire Earth', 'Empire Earth II', 'Empire Earth III', 'Empire: Total War', 'Enchanted Arms', 'Enchanted Arms (JP sales)', 'Enclave', 'End of Nations', 'Endgame', 'Endless Ocean', 'Endless Ocean: Blue World', 'Enduro', 'Enemy Front', 'Enemy Territory: Quake Wars', 'Ener-G Horse Riders', 'Ener-G: Dance Squad', 'Ener-G: Gym Rockets', 'English Training: Have Fun Improving Your Skills!', 'Enkaku Sousa: Sana e no 23 Hiai', 'Ennichi no Tatsujin', 'Enslaved: Odyssey to the West', 'Entaku no Seito: Students of Round', 'Entaku no Seito: The Eternal Legend', 'Enter the Matrix', 'Enthusia Professional Racing', 'Ephemeral Fantasia', 'Epic Mickey', 'Epic Mickey 2: The Power of Two', 'Epic Mickey: Power of Illusion', 'Epidemic', 'Eragon', 'Escape Dead Island', 'Escape From Monkey Island', 'Escape The Museum', 'Escape from Bug Island', 'Escape the Emerald Star', 'Espgaluda II Black Label', \"Eternal Darkness: Sanity's Requiem\", 'Eternal Eyes', 'Eternal Poison', 'Eternal Poison (JP sales)', 'Eternal Ring', 'Eternal Sonata', 'Etrian Mystery Dungeon', 'Etrian Odyssey', 'Etrian Odyssey 2 Untold: Knight of Fafnir', 'Etrian Odyssey II: Heroes of Lagaard', 'Etrian Odyssey III: The Drowned City', 'Etrian Odyssey IV: Legends of the Titans', 'Etrian Odyssey Untold: The Millennium Girl', 'Etrian Odyssey V', 'Eureka Seven AO: Jungfrau no Hanabanatachi', 'Eureka Seven Vol. 2: The New Vision', 'Euro Truck Simulator', 'Euro Truck Simulator 2', 'Europa Universalis III Complete', 'Evangelion: Jo', 'Eve: Burst Error R', 'Eve: The Lost One', 'Even in a Game Listen to Me Girls. I Am Your Father!', 'EverBlue 2', 'EverGrace', 'EverQuest II: Destiny of Velious', 'EverQuest Online Adventures', 'EverQuest Online Adventures: Frontiers', 'Every Extend Extra', 'Everybody Dance', 'Evil Dead: Fistfull of Boomstick', 'Evil Dead: Hail to the King', 'Evil Dead: Regeneration', 'Evil Genius', 'Evil Zone', 'Evolution Skateboarding', 'Evolution Snowboarding', 'Evolution Worlds', 'Evolve', 'Excite Truck', 'ExciteBots: Trick Racing', 'Excitebike', 'Excitebike 64', 'ExerBeat', 'Exhibition', 'Exhibition Volume 02', 'Exhibition Volume 03', 'Exhibition Volume 4', 'Exhibition Volume 5', 'Exhibition Volume 6', 'Exist Archive: The Other Side of the Sky', 'Exit', 'Exit DS', 'Expendable', 'Exstetra', 'Extermination', 'Extra Bases', 'Extreme Pinball', 'Extreme-G', 'Extreme-G: XG2', 'EyeCreate', 'EyePet', 'EyePet & Friends', 'EyeToy Play', 'EyeToy Play 2', 'EyeToy: AntiGrav', 'EyeToy: Groove', 'EyeToy: Kinetic', 'EyeToy: Operation Spy', 'Eyeshield 21: DevilBats DevilDays', 'Eyeshield 21: Field Saikyou no Senshi Tachi', 'Eyeshield 21: Max Devil Power', 'Eyeshield 21: Portable Edition', 'E·O·E: Eve of Extinction', 'F-1 Grand Prix', 'F-1 Race', 'F-1 World Grand Prix', 'F-14 Tomcat', 'F-Zero', 'F-Zero GX', 'F-Zero X', 'F-Zero: GP Legend', 'F-Zero: Maximum Velocity', 'F.E.A.R.', 'F.E.A.R. 2: Project Origin', 'F.E.A.R. 3', 'F.E.A.R. Files', 'F.E.A.R. Perseus Mandate', 'F/A-18F Super Hornet', 'F1 2000', 'F1 2001', 'F1 2002', 'F1 2009', 'F1 2010', 'F1 2011', 'F1 2012', 'F1 2013', 'F1 2014', 'F1 2015', 'F1 2016 (Codemasters)', 'F1 Career Challenge', 'F1 Challenge', 'F1 Championship Season 2000', 'F1 Pole Position 64', 'F1 ROC: Race of Champions', 'F1 Race', 'F1 Race Stars', 'F1 Racing Championship', 'FIFA 06 Soccer', 'FIFA 06: Road to FIFA World Cup', 'FIFA 12', 'FIFA 14', 'FIFA 15', 'FIFA 16', 'FIFA 17', 'FIFA 2000', 'FIFA 2001 Major League Soccer', 'FIFA 2001: Major League Soccer', 'FIFA 99', 'FIFA Manager 12', 'FIFA Soccer', 'FIFA Soccer 06', 'FIFA Soccer 07', 'FIFA Soccer 08', 'FIFA Soccer 09', 'FIFA Soccer 09 All-Play', 'FIFA Soccer 10', 'FIFA Soccer 11', 'FIFA Soccer 13', 'FIFA Soccer 2002', 'FIFA Soccer 2003', 'FIFA Soccer 2003 (weekly jp sales)', 'FIFA Soccer 2004', 'FIFA Soccer 2005', 'FIFA Soccer 64', 'FIFA Soccer 96', 'FIFA Soccer 97', 'FIFA Soccer World Championship', 'FIFA Street', 'FIFA Street 2', 'FIFA Street 3', 'FIFA World Cup Germany 2006', 'FIFA World Cup: Germany 2006', 'FIFA: Road to  World Cup 98', 'FIFA: Road to World Cup 98', 'Fab 5 Soccer', 'FabStyle', 'Fable', 'Fable II', 'Fable III', 'Fable: The Journey', 'Fable: The Lost Chapters', 'Fabulous Finds', 'Face Racers: Photo Finish', 'Face Training', 'FaceBreaker', 'FaceBreaker K.O. Party', 'Fade to Black', 'Fading Shadows', 'FairlyLife: MiracleDays', 'Fairy Fencer F', 'Fairy Fencer F: Advent Dark Force', 'Fairy Tail: Portable Guild', 'Fairy Tail: Portable Guild 2', 'Fairy Tail: Zelef Kakusei', 'Fairytale Fights', 'Falcon 4.0: Allied Force', 'Fallout 3', 'Fallout 3 Game Add-On Pack: Broken Steel and Point Lookout', 'Fallout 3 Game Add-On Pack: The Pitt and Operation: Anchorage', 'Fallout 4', 'Fallout Anthology', 'Fallout Trilogy', 'Fallout: Brotherhood of Steel', 'Fallout: New Vegas', 'Famicom Jump: Eiyuu Retsuden', 'Famicom Mini: Adventure Island', 'Famicom Mini: Balloon Fight', 'Famicom Mini: Clu Clu Land', 'Famicom Mini: Dig Dug', 'Famicom Mini: Famicom Mukashi Banashi - Shin Oniga Shima Zenkouhen', 'Famicom Mini: Famicom Tantei Club - Kieta Koukeisha Zenkouhen', 'Famicom Mini: Famicom Tantei Club Part II - Ushiro ni Tatsu Shoujo Zenkouhen', 'Famicom Mini: Ganbare Goemon! Karakuri Douchuu', 'Famicom Mini: Hikari Shinwa: Palutena no Kagami', 'Famicom Mini: Makaimura', 'Famicom Mini: Mappy', 'Famicom Mini: Mario Bros.', 'Famicom Mini: Nazo no Murasame-Jou', 'Famicom Mini: SD Gundam World Gachapon Senshi - Scramble Wars', 'Famicom Mini: Star Soldier', 'Famicom Mini: Super Mario Bros. 2', 'Famicom Mini: TwinBee', 'Famicom Mini: Wrecking Crew', 'Famicom Remix Best Choice', 'Family Fest Presents Circus Games', 'Family Fest presents: Movie Games', 'Family Feud Decades', 'Family Feud: 2010 Edition', 'Family Feud: 2012 Edition', 'Family Fortunes', 'Family Fun Football', 'Family Game Night 4: The Game Show', 'Family GameShow', 'Family Guy', 'Family Guy: Back to the Multiverse', 'Family Jockey', 'Family Party: 30 Great Games', 'Family Party: 30 Great Games Outdoor Fun', 'Family Party: 30 Great Games Winter Fun', 'Family Party: 90 Great Games Party Pack', 'Family Party: Fitness Fun', 'Family Trainer: Treasure Adventure', \"Famista '91\", \"Famista '92\", 'Famista 64', 'Famista Returns', 'Fancy Nancy: Tea Party Time!', 'Fantasia: Music Evolved', 'Fantastic 4', 'Fantastic 4: Flame On', 'Fantastic Four', 'Fantastic Four: Rise of the Silver Surfer', 'Fantastic Pets', 'Fantastic Voyage', 'Fantasy Aquarium World', 'Fantasy Aquarium by DS', 'Fantasy Life', 'Fantavision', 'Far Cry', 'Far Cry 2', 'Far Cry 3', 'Far Cry 4', 'Far Cry Instincts', 'Far Cry Instincts Evolution', 'Far Cry Instincts Predator', 'Far Cry Vengeance', 'Far Cry: Primal', 'Far East of Eden II: Manji Maru', 'Far East of Eden Shinden', 'Far East of Eden Zero', 'Farm Frenzy', 'Farm Frenzy 3', 'Farm Frenzy: Animal Country', 'Farming 2017 - The Simulation', 'Farming Simulator 15 Expansion Pack', 'Farming Simulator 17', 'Farming Simulator 2011', 'Farming Simulator 2012', 'Farming Simulator 2013', 'Farming Simulator 2014', 'Farming Simulator 2015', 'Farmtopia', 'Fashion Studio: Paris Collection', 'Fashion Week Jr. Designer', 'Fashionable Puppy: Oshare na Koinu DS', 'Fast & Furious: Showdown', 'Fast Food', 'Fast Food Panic', 'Fast Racing Neo ', 'Fat Princess: Fistful of Cake', 'Fatal Frame', 'Fatal Frame 2: Wii Edition', 'Fatal Frame II: Crimson Butterfly', \"Fatal Frame II: Crimson Butterfly Director's Cut\", 'Fatal Frame III: The Tormented', 'Fatal Frame: Maiden of Black Water', 'Fatal Fury', 'Fatal Fury 2', 'Fatal Fury Special', 'Fatal Fury: Battle Archives Volume 1', 'Fatal Fury: Battle Archives Volume 1 (JP sales)', 'Fatal Fury: Battle Archives Volume 2', 'Fatal Fury: Battle Archives Volume 2 (JP sales)', 'Fatal Fury: Wild Ambition', 'Fatal Inertia', 'Fate/Extella: The Umbral Star', 'Fate/Extra', 'Fate/Extra CCC', 'Fate/Stay Night [Réalta Nua]', 'Fate/Tiger Colosseum', 'Fate/Tiger Colosseum Upper', 'Fate/Unlimited Codes', 'Fate/Unlimited Codes Portable', 'Fate/hollow ataraxia', 'Fate/kaleid liner Prisma Illya', 'Fear Effect', 'Fear Effect 2: Retro Helix', 'Fear Factor: Unleashed', 'Feel the Magic XY/XX', 'Felony 11-79', 'Fernbus Simulator', 'Ferrari Challenge Trofeo Pirelli', 'Ferrari Challenge Trofeo Pirelli Deluxe', 'Ferrari F355 Challenge', 'Ferrari: The Race Experience', 'Festa!! Hyper Girls Party', 'Field & Stream: Total Outdoorsman Challenge', 'Field Commander', 'Fifi and the Flowertots', 'Fight Club', 'Fight Night 2004', 'Fight Night Champion', 'Fight Night Round 2', 'Fight Night Round 2004', 'Fight Night Round 3', 'Fight Night Round 4', 'Fighter Destiny 2', 'Fighter Maker', 'Fighter Maker 2', 'Fighter Within', 'Fighters Destiny', 'Fighters MEGAMiX', 'Fighters Uncaged', 'Fighting Fantasy: The Warlock of Firetop Mountain', 'Fighting Force', 'Fighting Force 2', 'Fighting Force 64', 'Fighting Vipers', 'Fighting Vipers 2', 'Final Approach 2: 1st Priority', 'Final Doom', 'Final Fantasy', 'Final Fantasy Adventure', 'Final Fantasy Anniversary Edition', 'Final Fantasy Anthology', 'Final Fantasy Chronicles', 'Final Fantasy Collection', 'Final Fantasy Crystal Chronicles: Echoes of Time', 'Final Fantasy Crystal Chronicles: Ring of Fates', 'Final Fantasy Crystal Chronicles: The Crystal Bearers', 'Final Fantasy Explorers', 'Final Fantasy Fables: Chocobo Tales', \"Final Fantasy Fables: Chocobo's Dungeon\", 'Final Fantasy I & II', 'Final Fantasy I & II: Dawn of Souls', 'Final Fantasy II', 'Final Fantasy II Anniversary Edition', 'Final Fantasy III', 'Final Fantasy IV', 'Final Fantasy IV Advance', 'Final Fantasy IV: The Complete Collection', 'Final Fantasy IX', 'Final Fantasy Legend III', 'Final Fantasy Tactics', 'Final Fantasy Tactics A2: Grimoire of the Rift', 'Final Fantasy Tactics Advance', 'Final Fantasy Tactics: The War of the Lions', 'Final Fantasy Type-0', 'Final Fantasy V', 'Final Fantasy V Advance', 'Final Fantasy VI', 'Final Fantasy VI Advance', 'Final Fantasy VII', 'Final Fantasy VII International', 'Final Fantasy VIII', 'Final Fantasy X', 'Final Fantasy X / X-2 HD Remaster', 'Final Fantasy X International', 'Final Fantasy X-2', 'Final Fantasy X-2: International + Last Mission', 'Final Fantasy X/X-2 HD Remaster', 'Final Fantasy XI', 'Final Fantasy XI: All-In-One Pack 2006', 'Final Fantasy XI: Chains of Promathia', 'Final Fantasy XI: Rise of the Zilart', 'Final Fantasy XI: Treasures of Aht Urhgan', 'Final Fantasy XI: Ultimate Collection', \"Final Fantasy XI: Vana'diel Collection 2008\", 'Final Fantasy XI: Wings of the Goddess', 'Final Fantasy XII', 'Final Fantasy XII International Zodiac Job System', 'Final Fantasy XII: Revenant Wings', 'Final Fantasy XIII', 'Final Fantasy XIII-2', 'Final Fantasy XIV: A Realm Reborn', 'Final Fantasy XIV: Heavensward', 'Final Fantasy: Crystal Chronicles', 'Final Fantasy: The 4 Heroes of Light', 'Final Fight', 'Final Fight 2', 'Final Fight One', 'Final Fight: Streetwise', 'Finding Nemo', 'Finding Nemo: Escape to the Big Blue', 'Finding Nemo: The Continuing Adventures', 'Finny the Fish & the Seven Waters', 'Fire Emblem', 'Fire Emblem: Awakening', 'Fire Emblem: Fuuin no Tsurugi', 'Fire Emblem: Monsh? no Nazo', 'Fire Emblem: Path of Radiance', 'Fire Emblem: Radiant Dawn', 'Fire Emblem: Seisen no Keifu', 'Fire Emblem: Shadow Dragon', 'Fire Emblem: Shin Monshou no Nazo Hikari to Kage no Eiyuu', 'Fire Emblem: The Sacred Stones', 'Fire Emblem: Thracia 776', 'Fire Pro Wrestling Returns', 'Fire ProWrestling', 'Fire ProWrestling G', 'Fire ProWrestling S: 6Men Scramble', 'Fireball', 'Fireblade', 'Firefighter F.D.18', 'First Queen: Ornic Senki', 'Fish Tycoon', 'Fishdom', 'Fishdom 2 Deluxe', \"Fisherman's Bait 2: Big Ol' Bass\", \"Fisherman's Bass Club\", \"Fisherman's Challenge\", 'Fishing Derby', 'Fishing Master', 'Fishing Master (jp sales)', 'Fishing Master World Tour', 'Fishing Resort', \"Fist of the North Star: Ken's Rage\", \"Fist of the North Star: Ken's Rage 2\", 'Fit in Six', 'Flag Capture', 'Flash Focus: Vision Training in Minutes a Day', 'FlatOut', 'FlatOut 2', 'FlatOut: Head On', 'FlatOut: Ultimate Carnage', 'Flight Control Rocket', 'FlingSmash', \"Flip's Twisted World\", 'Flipnic: Ultimate Pinball', 'Flipper Critters', 'Flow: Urban Dance Uprising', 'Flower, Sun, and Rain', 'Flushed Away', 'Flying Dragon', 'Folklore', 'Food Network: Cook or Be Cooked', 'Football Academy', 'Football Director DS', 'Football Manager 2005', 'Football Manager 2007', 'Football Manager 2010', 'Football Manager 2011', 'Football Manager 2012', 'Football Manager 2013', 'Football Manager 2014', 'Football Manager 2015', 'Football Manager 2016', 'Football Manager 2017', 'Football Manager Handheld 2008', 'Football Manager Handheld 2009', 'Football Manager Handheld 2010', 'Football Manager Handheld 2011', 'Football Manager Live', 'Forbidden Siren 2', 'Ford Bold Moves Street Racing', 'Ford Mustang: The Legend Lives', 'Ford Racing', 'Ford Racing 2', 'Ford Racing 3', 'Ford Racing Off Road', 'Ford vs. Chevy', 'Forever Kingdom', 'Forgotten Realms: Demon Stone', 'Formula 1', 'Formula 1 06', 'Formula 1 Championship Edition', 'Formula 1: Championship Edition', 'Formula One 2001', 'Formula One World Championship: Beyond the Limit', 'Forsaken', 'Fortress', 'Fortune Street', 'Forza Horizon', 'Forza Horizon 2', 'Forza Horizon 3', 'Forza Motorsport', 'Forza Motorsport 2', 'Forza Motorsport 3', 'Forza Motorsport 3: Ultimate Edition', 'Forza Motorsport 4', 'Forza Motorsport 5', 'Forza Motorsport 6', 'Fossil Fighters', 'Fossil Fighters (JP sales)', 'Fossil Fighters: Champions', 'Fossil Fighters: Frontier', \"Foster's Home for Imaginary Friends: Imagination Invaders\", 'Foto Frenzy: Spot The Diffrence', 'Foto Showdown', \"Fox Sports College Hoops '99\", \"Fox Sports Golf '99\", 'FoxKids.com Micro Maniacs Racing', 'Fracture', 'Fragile Dreams: Farewell Ruins of the Moon', 'Frank Thomas Big Hurt Baseball', \"Frankenstein's Monster\", 'Franklin the Turtle', \"Franklin's Great Adventures\", 'Franklin: A Birthday Surprise', 'Frantix', 'Freaky Flyers', 'Freddi Fish: ABC under the sea', 'Freddi Fish: Kelp Seed Mystery', 'Free Running', 'Freedom Fighters', 'Freedom Wars', 'Freedom Wings', 'Freekstyle', 'Freelancer', 'Freestyle Metal X', 'Freeway', 'Frequency', 'Fresh PreCure! Asobi Collection', \"Freshly-Picked: Tingle's Rosy Rupeeland\", 'Friend Collection', 'Friends: The One with All the Trivia', 'Frisbee Disc Freestyle / Frisbee Disc Golf', 'Fritz Chess', 'Frogger', \"Frogger 2: Swampy's Revenge\", 'Frogger 3D', 'Frogger Advance: The Great Quest', 'Frogger Beyond', 'Frogger II: Threeedeep!', \"Frogger's Adventures 2: The Lost Wand\", \"Frogger's Adventures: Temple of the Frog\", \"Frogger's Adventures: The Rescue\", \"Frogger's Journey: The Forgotten Relic\", 'Frogger: Ancient Shadow', 'Frogger: Helmet Chaos', 'Frogger: The Great Quest', 'Frogs And Flies', 'From Russia With Love', 'From TV Animation One Piece: Grand Battle 2', 'From TV Animation One Piece: Grand Battle! 3', 'From TV Animation One Piece: Tobidase Kaizokudan!', 'From TV Animation One Piece: Treasure Battle!', 'From TV Animation One Piece: Yume no Lufy Kaizokudan Tanjou!', 'From The Abyss', 'Front Line', 'Front Mission', 'Front Mission 2', 'Front Mission 2089: Border of Madness', 'Front Mission 3', 'Front Mission 4', 'Front Mission 5: Scars of the War', 'Front Mission Alternative', 'Front Mission Evolved', 'Front Mission: Gun Hazard', 'Frontier Gate', 'Frontlines: Fuel of War', 'Frostbite', 'Fuel', 'Fugitive Hunter: War on Terror', 'Fujiko F. Fujio Characters: Great Assembly! Slightly Fantastic Slapstick Party', 'Full Auto', 'Full Auto 2: Battlelines', 'Full House Kiss 2', 'Full Spectrum Warrior', 'Full Spectrum Warrior: Ten Hammers', 'Fullmetal Alchemist 2: Curse of the Crimson Elixir', 'Fullmetal Alchemist and the Broken Angel', 'Fullmetal Alchemist: Brotherhood', 'Fullmetal Alchemist: Dual Sympathy', 'Fullmetal Alchemist: Prince of the Dawn', 'Fullmetal Alchemist: Trading Card Game', \"FunkMaster Flex's Digital Hitz Factory\", 'Funky Barn', \"Fur Fighters: Viggo's Revenge\", 'Furious Karting', 'Furu Furu Park', 'Fuse (Insomniac)', 'Fushigi no Dungeon: Furai no Shiren 2 - Oni Shuurai! Shiren Shiro!', 'Fushigi no Dungeon: Fuurai no Shiren 3 Portable', 'Fushigi no Dungeon: Fuurai no Shiren 5 - Fortune Tower to Unmei no Dice', 'Fushigi no Dungeon: Fuurai no Shiren GB: Tsukikagemura no Kaibutsu', 'Fushigi? Kagaku: Nazotoki Quiz Training - NazoTore', 'Futurama', 'Future Card Buddy Fight: Yuujou no Bakunetsu Fight', 'Future Cop L.A.P.D.', 'Future Tactics: The Uprising', 'Fuun Shinsengumi Bakumatsuden Portable', 'Fuuraiki 3', 'Fuzion Frenzy', 'Fuzion Frenzy 2', 'G Darius', 'G-Force', 'G-Police', 'G-Police: Weapons of Justice', 'G-Saviour', 'G.I. Joe: The Rise of Cobra', 'G1 Grand Prix', 'G1 Jockey 2', 'G1 Jockey 3', 'G1 Jockey 4 2007', 'G1 Jockey 4 2008', 'G1 Jockey Wii', 'GA - Geijutsuka Art Design Class: Slapstick Wonder Land', 'GOTHA: Ismailia Seneki', 'GRID', 'GRID 2', 'GRID Autosport', 'GT Advance 2: Rally Racing', 'GT Advance 3: Pro Concept Racing', 'GT Advance Championship Racing', 'GT Legends', 'GT Pro Series', 'GT64 Championship Edition', 'GTI Club: Supermini Festa!', 'GTR Evolution', \"Gabrielle's Ghostly Groove 3D\", 'Gacharoku', 'GachiTora! Abarenbou Kyoushi in High School', 'Gadget Racers', 'Gadget Racers (PAL)', 'Gaia Saver Hero Saidai no Sakusen', 'Gaist Crusher', 'Gaist Crusher God', 'Gakken DS: Shin TOEIC Test Kanzen Kouryaku', 'Gaku ? Ou: The Royal Seven Stars', 'Gakuen Alice: WakuWaku * Happy Friends', 'Gakuen Hetalia', 'Gakuen Hetalia Portable', 'Gakuen K: Wonderful School Days', 'Gakusen Toshi Asterisk Festa: Houka Kenran', 'Gal Gun', 'Gal Gun: Double Peace', 'Gal*Gun', 'Galactic Attack', 'Galactic Taz Ball', 'Galactic Wrestling: Featuring Ultimate Muscle', 'Galaga: Destination Earth', 'Galaxian', 'Galaxy Angel II: Eigou Kaiki no Koku', 'Galaxy Angel II: Mugen Kairou no Kagi', 'Galaxy Angel II: Zettairyouiki no Tobira', 'Galaxy Fight', 'Galaxy Racers', 'Gale Racer', 'Galerians', 'Galerians: Ash', 'Galidor: Defenders of the Outer Dimension', 'Galileo', 'Galleon: Islands of Mystery', 'Gallop & Ride!', 'Gallop Racer', 'Gallop Racer (JP)', 'Gallop Racer 2000', 'Gallop Racer 2001', 'Gallop Racer 2003: A New Breed', 'Gallop Racer 2004', 'Gallop Racer 2006', 'Gallop Racer 2: One and Only Road to Victory', 'Gallop Racer Inbreed', 'Gambler Densetsu Tetsuya', 'Game & Wario', 'Game & Watch Gallery', 'Game & Watch Gallery 2', 'Game & Watch Gallery 3', 'Game & Watch Gallery 4', 'Game Book DS: Sword World 2.0', 'Game Center CX: 3-Choume no Arino', 'Game Center CX: Arino no Chousenjou 2', 'Game Hits!', 'Game Party', 'Game Party 2', 'Game Party 3', 'Game Party in Motion', 'Game Party: Champions', 'Game de Hakken!! Tamagotchi 2', 'Game no Kanzume Vol 1', 'Game no Kanzume Vol 2', 'Game of Thrones', 'Game of Thrones (Telltale)', 'GameBoy Wars', 'Gameboy Gallery', 'Games Around the World', 'Games Explosion!', 'Ganbare Goemon 2: Kiteretsu Shougun Magginesu', 'Ganbare Goemon 3: Shishi Jyuurokubei no Karakuri Manji Katame', 'Ganbare Goemon! Karakuri Douchuu', 'Ganbare Goemon: KiraKira Douchuu - Boku ga Dancer ni Natta Riyuu', 'Ganbare Goemon: Toukai Douchuu Ooedo Tengurigaeshi no Maki', 'Ganbaru Watashi no Kakei Diary', 'Gangs of London', 'Gardening Mama', 'Garfield Gets Real', \"Garfield's Fun Fest\", \"Garfield's Nightmare\", 'Garfield: A Tale of Two Kitties', 'Garfield: Lasagna World Tour', 'Garfield: The Search for Pooky', 'Garou Densetsu 3: Road to the Final Victory', 'Gauntlet', 'Gauntlet / Rampart', 'Gauntlet Legends', 'Gauntlet: Dark Legacy', 'Gauntlet: Seven Sorrows', 'Gears of War', 'Gears of War 2', 'Gears of War 3', 'Gears of War 4', 'Gears of War: Judgment', 'Gears of War: Ultimate Edition', 'Gegege no Kitarou 2: Youkai Gundan no Chousen', 'Gegege no Kitarou: Youkai Daigekisen', 'Geist', 'Gekiatsu!! Pachi Game Tamashi Max: Evangelion 7 x Seimei no Kodou', 'Gekiatsu!! Pachi Game Tamashi Vol. 1: CR Evangelion - Shinjitsu no Tsubasa', 'Gekiatsu!! Pachi Game Tamashi Vol. 2: CR Evangelion - Shinjitsu no Tsubasa', 'Gekiatsu!! Pachi Game Tamashi: CR Evangelion - Hajimari no Fukuin', 'Gekido', \"Gekido Advance: Kintaro's Revenge\", 'Gekijouban Macross F: Itsuwarino Utahime - Hybrid Pack', 'Gekijouban Macross F: Sayonara no Tsubasa - Hybrid Pack', 'Gekijouban Madoka Magicka: The Battle Pentagram', 'Gekikuukan Pro Yakyuu: At the End of the Century 1999', 'Gekka Ryouran Romance', 'Gem Quest: 4 Elements', 'Gem Smashers', 'Generation of Chaos', 'Generator Rex: Agent of Providence', 'Genji: Dawn of the Samurai', 'Genji: Days of the Blade', 'Genkai Tokki Monster Monpiece', 'Genkai Tokki: Moero Crystal', 'Genkai Tokki: Seven Pirates', 'Genkai Totsuki Moero Chronicle', 'Genma Onimusha', 'Genroh', 'Gensou Suikoden I & II', 'Geometry Wars: Galaxies', 'Geon Cube', 'George of the Jungle and the Search for the Secret', \"Germany's Next Topmodel 2011\", 'Get Fit with Mel B', 'Get On Da Mic', 'Get Up and Dance', 'Geten no Hana', 'Geten no Hana: Yume Akari', 'Getsuei Gakuen: kou', 'Gex', 'Gex 3: Deep Cover Gecko', 'Gex 64: Enter the Gecko', 'Gex: Enter the Gecko', 'Ghost Pirates of Vooju Island', 'Ghost Rider', 'Ghost Squad', 'Ghost Trick: Phantom Detective', 'Ghost in the Shell', 'Ghost in the Shell: Stand Alone Complex', 'Ghostbusters', 'Ghostbusters (2016)', 'Ghostbusters II', 'Ghostbusters: The Video Game', 'Ghostbusters: The Video Game (DS Version)', 'Ghosthunter', \"Ghosts 'n Goblins\", 'GiFTPiA', 'Giants: Citizen Kabuto', 'Gift: Prism', 'Ginga Fukei Densetsu: Sapphire', 'Ginga Tetsudou 999 DS', 'Gintama DS: Yorozuya Daisoudou', 'Gintama Gin-Oh Quest: Gin-San ga Tenshoku Shitari Sekai wo Sukuttari', 'Gintama no Sugoroku', 'Gintama: Banji Oku Chuubu!', 'Gintama: Gin-San to Issho! Boku no Kabuki Machi Nikki', 'Girl Friend Beta: Kimi to Sugosu Natsuyasumi', 'Girl Time', 'Girls Mode 3: Kirakira Code', 'Girls Only', 'Girls RPG: Cinderellife', 'Girls und Panzer: I Will Master Tankery', 'Gitaroo Man', 'Gitaroo Man Lives!', 'Glacier2', 'Gladiator Begins', 'Gladiator: Sword of Vengeance', 'Gladius', 'Global Defence Force', 'Global Touring Challenge: Africa', 'Gloria Union', 'Glory Days 2', 'Glory of Heracles', 'Glover', 'Go Diego Go! Great Dinosaur Rescue', 'Go Diego Go! Safari Rescue', 'Go Diego Go!: Safari Rescue', 'Go Go Ackman 3', 'Go Play: Circus Star', 'Go Play: City Sports', 'Go Play: Lumberjacks', 'Go Vacation', 'Go! Go! Hypergrind', 'Go! Sudoku', 'Go! Sudoku (JP sales)', 'Go, Diego, Go! Safari Rescue', 'Go, Diego, Go!: Great Dinosaur Rescue', \"GoGo's Crazy Bones\", 'GoPets: Vacation Island', \"Goal Storm '97\", 'Goat Simulator', 'Gobliiins 4', 'Goblin Commander: Unleash the Horde', 'Gochuumon wa Usagi Desu ka?? Wonderful Party!', 'God Eater', 'God Eater 2', 'God Eater 2: Rage Burst', 'God Eater Off Shot: Lindow-hen Twin Pack & Animation Vol. 2', 'God Eater Off Shot: Soma Shikkuzaru-hen Twin Pack & Animation Vol.4', 'God Eater Off Shot: Tachibana Sakuya-hen Twin Pack & Animation Vol.7', 'God Eater Off Shot:Shiou-hen Twin Pack & Animation Vol.5', 'God Eater Resurrection', 'God Hand', 'God of War', 'God of War Collection', 'God of War II', 'God of War III', 'God of War Saga', 'God of War: Ascension', 'God of War: Chains of Olympus', 'God of War: Ghost of Sparta', 'God of War: Origins Collection', 'Godai: Elemental Force', 'Gods Eater Burst', 'Godzilla (2014)', 'Godzilla (2015)', 'Godzilla Generations', 'Godzilla Unleashed', 'Godzilla Unleashed: Double Smash', 'Godzilla: Destroy All Monsters Melee', 'Godzilla: Domination!', 'Godzilla: Save the Earth', \"Goemon's Great Adventure\", 'Goku Makaimura Kai', 'Gokuhou!! Mecha Mote Iinchou: Girls Motekawa Box', 'Gokuhou!! Mecha Mote Iinchou: MM Town de Miracle Change!', 'Gokujou Parodius', 'Gokujou!! Mecha Mote Iinchou: MM My Best Friend!', 'Gold and Glory: The Road to El Dorado', \"Gold's Gym: Cardio Workout\", \"Gold's Gym: Cardio Workout (Others sales)\", \"Gold's Gym: Dance Workout\", 'Golden Axe: Beast Rider', 'Golden Axe: The Duel', 'Golden Nugget 64', 'Golden Nugget Casino', \"Golden Nugget Casino / Texas Hold 'Em Double Pack\", 'Golden Nugget Casino DS', 'Golden Sun', 'Golden Sun: Dark Dawn', 'Golden Sun: The Lost Age', 'Golden Time: Vivid Memories', 'GoldenEye 007', 'GoldenEye 007 (2010)', 'GoldenEye: Rogue Agent', 'Goldeneye 007: Reloaded', 'Golf', 'Gon: BakuBakuBakuBaku Adventure', 'Goodbye Deponia', 'Goosebumps HorrorLand', 'Goosebumps: The Game', 'Gormiti: The Lords of Nature!', 'Gotcha Force', 'Gothic 3', 'Gothic Universe', 'Gotouchi Kenkei DS', 'Gotouchi Tetsudou: Gotouchi Chara to Nihon Zenkoku no Tabi', 'Gouketuji Ichizoku 2: Chottodake Saikyou Densetsu', 'Gourmet Chef: Cook Your Way to Fame', 'Grabbed by the Ghoulies', 'Gradius', 'Gradius Collection', 'Gradius Galaxies', 'Gradius III and IV', 'Gradius V', 'Graffiti Kingdom', 'Gran Turismo', 'Gran Turismo (PSP)', 'Gran Turismo 2', 'Gran Turismo 3: A-Spec', 'Gran Turismo 4', 'Gran Turismo 4 Prologue', 'Gran Turismo 5', 'Gran Turismo 5 Prologue', 'Gran Turismo 6', 'Gran Turismo Concept 2001 Tokyo', 'Grand Ages: Medieval', 'Grand Kingdom', 'Grand Knights History', 'Grand Prix', 'Grand Prix Challenge', 'Grand Prix Legends', 'Grand Slam', 'Grand Slam Tennis 2', 'Grand Theft Auto', 'Grand Theft Auto 2', 'Grand Theft Auto III', 'Grand Theft Auto IV', 'Grand Theft Auto V', 'Grand Theft Auto: Chinatown Wars', 'Grand Theft Auto: Liberty City Stories', 'Grand Theft Auto: Mission Pack #1, London 1969', 'Grand Theft Auto: San Andreas', 'Grand Theft Auto: Vice City', 'Grand Theft Auto: Vice City Stories', 'Grandia', 'Grandia II', 'Grandia III', 'Grandia Xtreme', 'Gravitar', 'Gravity Falls: Legend of the Gnome Gemulets', 'Gravity Games Bike: Street Vert Dirt', 'Gravity Rush', 'Gravity Rush Remastered', 'Gray Matter', 'Grease', 'Grease Dance', 'Great Battle Full Blast', 'Great Edo Blacksmith', 'Great Party Games', 'Great Phoenix Wright: Ace Attorney - Naruhodou Ryuunosuke no Bouken', 'Green Day: Rock Band', 'Green Lantern: Rise of the Manhunters', 'Greg Hastings Paintball 2', \"Greg Hastings' Tournament Paintball\", \"Greg Hastings' Tournament Paintball Max'd\", 'Gremlins', 'Gretzky NHL', 'Gretzky NHL 06', 'Gretzky NHL 2005', \"Grey's Anatomy: The Video Game\", 'Grid Runner', 'GrimGrimoire', 'Grind Session', 'GripShift', 'Grisaia no Kajitsu: La Fruit de la Grisaia', 'Grisaia no Meikyuu: Le Labyrinthe de la Grisaia', 'Grisaia no Rakuen: Le Eden de la Grisaia', 'Grooverider: Slot Car Thunder', \"Groovin' Blocks\", 'Group S Challenge', 'Growlanser', 'Growlanser Generations', 'Growlanser IV: Over Reloaded', 'Growlanser VI: Precarious World', 'Growlanser: Heritage of War', 'Growlanser: Heritage of War (jp sales)', 'Grudge Warriors', 'Guardian Heroes', \"Guardian's Crusade\", 'Gudetama: Hanjuku de Tanomuwa', 'Guess the Logos', 'Guild 01', 'Guild Wars', 'Guild Wars 2', 'Guild Wars Trilogy', 'Guild Wars: Factions', 'Guild Wars: Nightfall', 'Guilty Gear', 'Guilty Gear Dust Strikers', 'Guilty Gear Isuka', 'Guilty Gear Judgment', 'Guilty Gear X', 'Guilty Gear X2', 'Guilty Gear X2 #Reload', 'Guilty Gear X: Advance Edition', 'Guilty Gear XX Accent Core', 'Guilty Gear XX Accent Core Plus', 'Guilty Gear XX Slash', 'Guilty Gear Xrd -Revelator-', 'Guilty Gear Xrd: Sign', 'Guinness World Records: The Videogame', 'Guitar Freaks', 'Guitar Freaks & DrumMania: Masterpiece Gold', 'Guitar Freaks 3rdMIX & DrumMania 2ndMIX', 'Guitar Freaks V & DrumMania V', 'Guitar Freaks V2 & DrumMania V2', 'Guitar Freaks V3 & DrumMania V3', 'Guitar Hero', 'Guitar Hero 5', 'Guitar Hero Encore: Rocks The 80s', 'Guitar Hero II', 'Guitar Hero III: Legends of Rock', 'Guitar Hero Live', 'Guitar Hero On Tour: Modern Hits', 'Guitar Hero: Aerosmith', 'Guitar Hero: Metallica', 'Guitar Hero: On Tour', 'Guitar Hero: On Tour Decades', 'Guitar Hero: Smash Hits', 'Guitar Hero: Van Halen', 'Guitar Hero: Warriors of Rock', 'Guitar Hero: World Tour', 'Guitar Rock Tour', 'Gumby vs. the Astrobots', 'Gummy Bears Magical Medallion', 'Gummy Bears Mini Golf', 'Gun', 'Gun Metal', 'Gun Showdown', 'GunGriffon', 'GunGriffon Blaze', 'GunGriffon II', 'GunGriffon: Allied Strike', 'GunParade Orchestra: Ao no Shou', 'GunParade Orchestra: Midori no Shou', 'GunParade Orchestra: Shiro no Shou', 'GunPey', 'GunPey DS', 'Gunbird', 'Gunblade NY & L.A. Machineguns Arcade Hits Pack', 'Gundam Assault Survive', 'Gundam Battle Assault', 'Gundam Battle Chronicle', 'Gundam Battle Online', 'Gundam Battle Royale', 'Gundam Battle Tactics', 'Gundam Battle Universe', 'Gundam Breaker', 'Gundam Breaker 2', 'Gundam Breaker 3', 'Gundam Memories: Tatakai no Kioku', 'Gundam SEED: Federation vs. Z.A.F.T.', 'Gundam Seed: Battle Assault', 'Gundam Try Age SP', 'Gundam the 3D Battle', 'Gundam: The Battle Master', 'Gungnir: Mayari no Gunshin to Eiyuu Sensou', 'Gungrave', 'Gungrave: Overdose', 'Gunship', 'Gunslingers', 'Gunstar Heroes', 'Gunstar Super Heroes', 'Gunvalkyrie', 'Gyakuten Saiban 2', 'Gyakuten Saiban 3', 'Gyromite', 'H2O+: Footprints in the Sand', 'HBO Boxing', 'HOP', 'HSX HyperSonic.Xtreme', 'Hagane no Renkinjutsushi - Fullmetal Alchemist: Yakusoku no Hi e', 'Haikyuu!! Tsunage! Itadaki no Keshiki!!', 'Hail to the Chimp', 'Haitaka no Psychedelica', 'Hajime no Ippo Portable: Victorious Spirits', 'Hajime no Ippo: The Fighting', 'Hajime no Ippo: The Fighting! (2014)', 'Hakuoki Zuisouroku Omokage Hana', 'Hakuoki: Demon of the Fleeting Blossom', 'Hakuoki: Reimeiroku - Omouhase Kara', 'Hakuoki: Reimeiroku DS', 'Hakuoki: Shinkai - Furi no Shou', 'Hakuoki: Shinkai - Hana no Shou', 'Hakuoki: Stories of the Shinsengumi', 'Hakuouki', 'Hakuouki DS', 'Hakuouki Portable', 'Hakuouki SSL: Sweet School Life', 'Hakuouki: Bakumatsu Musou Roku', 'Hakuouki: Reimeiroku', 'Hakuouki: Reimeiroku Portable', 'Hakuouki: Shinsengumi Kitan', 'Hakuouki: Yuugi Roku', 'Hakuouki: Yuugi Roku DS', 'Hakuouki: Yuugi Roku Ni - Matsuri Hayashi to Taishitachi', 'Hakuouki: Zuisouroku', 'Hakuouki: Zuisouroku DS', 'Hakuouki: Zuisouroku Portable', 'Half-Life', 'Half-Life 2', 'Half-Minute Hero', 'Half-Minute Hero 2', 'Hallowed Legends: Samhain', 'Halloween', 'Halo 2', 'Halo 2 Multiplayer Map Pack', 'Halo 3', 'Halo 3: ODST', 'Halo 4', 'Halo 5: Guardians', 'Halo Triple Pack', 'Halo Wars', 'Halo: Combat Evolved', 'Halo: Combat Evolved Anniversary', 'Halo: Reach', 'Halo: The Master Chief Collection', \"Hammerin' Hero\", 'Hamster Club 3', 'Hamster Club 4: Shigessa Daidassou', 'Hamster Heroes', 'Hamster Tarou', 'Hamsterz Life', 'Hamtaro: Ham-Ham Games', 'Hamtaro: Ham-Ham Heartbreak', 'Hamtaro: Ham-Hams Unite!', 'Hana to Ikimo no Rittai Zukan', 'Hana to Otome ni Shukufuku o: Harekaze no Okurimono', 'Hanagumi Taisen Columns', 'Hanaoni: Koisomeru Koku - Eikyuu no Shirushi', 'Hanaoni: Yume no Tsudzuki', 'Hanasaku Manimani', 'Hanayaka Kana, Ware ga Ichizoku', 'Hanayaka Kana, Ware ga Ichizoku Twin Pack', 'Hanayaka Kana, Ware ga Ichizoku: Tasogare Polarstar', 'Hanayamata: Yosakoi Live', 'Hanayori Danshi: Koi Seyo Onago', 'Handball 16', 'Hands On! Tangrams', 'Haneru no Tobira DS: Tanshuku Tetsudou no Yoru', 'Haneru no Tobira Wii: Girigirissu', 'Hang On GP', 'Hangman', 'Hanjuku Eiyuu Tai 3D', 'Hankou Shashin', 'Hannah Montana', 'Hannah Montana: Music Jam', 'Hannah Montana: Rock Out the Show', 'Hannah Montana: Spotlight World Tour', 'Hannah Montana: The Movie', 'Hannspree Ten Kate Honda: SBK Superbike World Championship', 'Happiness! De-Lucks', 'HappinessCharge PreCure! Kawarun Collection', 'Happy Cooking', 'Happy Dance Collection', 'Happy Feet', 'Happy Feet Two', 'Hard Hitter Tennis', 'Hard Rock Casino', 'HardBall 5', 'Harlem Globetrotters: World Tour', 'Harley-Davidson: Road Trip', 'Harry Potter Collection', 'Harry Potter and the Chamber of Secrets', 'Harry Potter and the Deathly Hallows - Part 1', 'Harry Potter and the Deathly Hallows - Part 2', 'Harry Potter and the Goblet of Fire', 'Harry Potter and the Half-Blood Prince', 'Harry Potter and the Order of the Phoenix', 'Harry Potter and the Prisoner of Azkaban', \"Harry Potter and the Sorcerer's Stone\", 'Harry Potter: Quidditch World Cup', 'Harukanaru Augusta 2: Masters', 'Harukanaru Toki no Naka de 3', 'Harukanaru Toki no Naka de 3 with Izayoiki Aizouban', 'Harukanaru Toki no Naka de 3: Unmei no Meikyuu Aizouban', 'Harukanaru Toki no Naka de 4', 'Harukanaru Toki no Naka de 4: Aizouban', 'Harukanaru Toki no Naka de 5', 'Harukanaru Toki no Naka de 5: Kazahanaki', 'Harukanaru Toki no Naka de 6', 'Harukanaru Toki no Naka de Yumenoukihashi Special', 'Harukanaru Toki no Naka de: Maihitoyo', 'Harukanaru Toki no Naka de: Yumenoukihashi', 'Harvest Moon 2 GBC', 'Harvest Moon 3D: A New Beginning', 'Harvest Moon 64', 'Harvest Moon DS (US sales)', 'Harvest Moon DS (jp sales)', 'Harvest Moon DS Cute (US sales)', 'Harvest Moon DS Cute (jp sales)', 'Harvest Moon DS: Island of Happiness', 'Harvest Moon GB', 'Harvest Moon: A Wonderful Life', 'Harvest Moon: A Wonderful Life Special Edition', 'Harvest Moon: Animal Parade', 'Harvest Moon: Another Wonderful Life', 'Harvest Moon: Back to Nature', 'Harvest Moon: Boy & Girl', 'Harvest Moon: Frantic Farming', 'Harvest Moon: Friends of Mineral Town', 'Harvest Moon: Grand Bazaar', 'Harvest Moon: Hero of Leaf Valley', 'Harvest Moon: Magical Melody', 'Harvest Moon: More Friends of Mineral Town', 'Harvest Moon: Save the Homeland', 'Harvest Moon: Skytree Village', 'Harvest Moon: Sunshine Islands', 'Harvest Moon: The Lost Valley', 'Harvest Moon: The Tale of Two Towns', 'Harvest Moon: Tree of Tranquility', 'Harvey Birdman: Attorney at Law', 'Hasbro Family Fun Pack', 'Hasbro Family Game Night', 'Hasbro Family Game Night 2', 'Hasbro Family Game Night 3', 'Hasbro Family Game Night Fun Pack', 'HatsuKare * Renai Debut Sengen!', 'Hatsune Miku and Future Stars: Project Mirai', 'Hatsune Miku: Project Diva', 'Hatsune Miku: Project Diva 2nd', 'Hatsune Miku: Project Diva Extend', 'Hatsune Miku: Project Diva F 2nd', 'Hatsune Miku: Project Diva X', 'Hatsune Miku: Project Diva f', 'Hatsune Miku: Project Mirai 2', 'Hatsune Miku: Project Mirai DX', 'Haunted Casino', 'Haunted House', 'Haunting Ground', 'Haven: Call of the King', 'Hayate no Gotoku! Nightmare Paradise', 'Hayate no Gotoku! Ojousama Produce Daisakusen Boku Iro ni Somare! Gakkou-Hen', 'Hayate no Gotoku! Ojousama Produce Daisakusen Boku Iro ni Somare! Oyashiki-Hen', 'Haze', 'He-Man: Power of Grayskull', 'Headhunter', 'Headhunter: Redemption', 'Heart Catch PreCure! Oshare Collection', 'Heart no Kuni no Alice', 'Heart no Kuni no Alice Anniversary Ver.: Wonderful Wonder World', 'Heart no Kuni no Alice: Wonderful Twin World', 'Heart of Darkness', 'Hearts of Iron III', 'Hearts of Iron IV', 'Heathcliff! Frantic Foto', 'Heathcliff! The Fast and the Furriest', 'Heatseeker', 'Heavenly Guardian', 'Heavenly Sword', 'Heavy Fire: Afghanistan', 'Heavy Fire: The Chosen Few 3D', 'Heavy Rain', 'Heisei Kyouiku linkai DS', \"Hell's Kitchen: The Game\", 'Hellboy: The Science of Evil', 'Hellgate: London', 'Hello Kitty Daily', 'Hello Kitty Party', 'Hello Kitty Seasons', \"Hello Kitty's Cube Frenzy\", 'Hello Kitty: Big City Dreams', 'Hello Kitty: Birthday Adventures', 'Hello Kitty: Happy Party Pals', 'Hello Kitty: Roller Rescue', 'Help Wanted: 50 Wacky Jobs', 'Help Wanted: 50 Wacky Jobs (jp sales)', 'Henry Hatsworth in the Puzzling Adventure', 'Herbie: Fully Loaded', \"Herc's Adventures\", 'Hercules: The Legendary Journeys', 'Herdy Gerdy', 'Here They Lie', 'Hermie Hopperhead: Scrap Panic', 'Hero Bank', 'Hero Bank 2', \"Hero's Saga Laevatein Tactics\", 'Heroes Phantasia', 'Heroes VS', 'Heroes of Hellas 2: Olympia', 'Heroes of Mana', 'Heroes of Might and Magic V', 'Heroes of Ruin', 'Heroes of the Pacific', 'Heroes over Europe', 'Hexen', 'Hexen: Beyond Heretic', 'Hexyz Force', 'Hey Arnold! The Movie', 'Hey You, Pikachu!', 'Hi Hi Puffy AmiYumi: Kaznapped', 'Hi Hi Puffy AmiYumi: The Genie & the Amp', 'Hi! Hamtaro - Little Hamsters,big Adventures: Ham-Ham Challenge', 'Hi-Octane: The Track Fights Back!', 'Hidden Invasion', 'Hidden Mysteries: Buckingham Palace', 'Hidden Mysteries: Salem Secrets - Witch Trials of 1692', 'Hidden Mysteries: Titanic - Secrets of the Fateful Voyage', 'Hidden Mysteries: Vampire Secrets', 'Hidden Objects: Mystery Stories', 'High Heat Baseball 2002', 'High Heat Major League Baseball 2003', 'High Heat Major League Baseball 2004', 'High Rollers Casino', 'High School Musical 2: Work This Out!', 'High School Musical 3: Senior Year', 'High School Musical 3: Senior Year DANCE!', \"High School Musical: Makin' the Cut!\", 'High School Musical: Sing It!', 'High Velocity Bowling', 'High Velocity: Mountain Racing Challenge', 'Highschool Terra Story', 'Higurashi Daybreak Portable', 'Higurashi Daybreak Portable Mega Edition', 'Higurashi no Naku Koro ni Iki', 'Higurashi no Naku Koro ni Kizuna: Dai-San-Kan - Rasen', 'Higurashi no Naku Koro ni Kizuna: Dai-Yon-Kan - Kizuna', 'Higurashi no Naku Koro ni Matsuri', 'Higurashi no Naku Koro ni Matsuri: Kakera Asobi', 'Higurashi no Naku Koro ni: Jan', 'Higurashi no Nakukoru ni Kizuna: Dai-Ichi-Kan - Tatari', 'Higurashi no Nakukoru ni Kizuna: Dai-Ni-Kan - Sou', 'Hiiro no Kakera 2: Hisui no Shizuku', 'Hiiro no Kakera 3: Aoikuro no Kusabi', 'Hiiro no Kakera DS', 'Hiiro no Kakera Portable', 'Hiiro no Kakera: Shin Tamayori Hime Denshou', 'Hiiro no Kakera: Shin Tamayori Hime Denshou - Piece of Future', 'Hiiro no Kakera: Shin Tamayori Hime Denshou Portable', 'Hikaru no Go: Heian Gensou Ibunroku', 'Himawari: Pebble in the Sky Portable', 'Himoutou! Umaru-Chan: Himoutou Ikusei Keikaku', 'Hirameki Action: Chibikko Wagyan no Daiki na Bouken', 'Hissatsu Pachinko Collection 3', 'Hisshou 777 Fighter: Pachi Slot Eiyu Densetsu', 'Hisshou Pachinko * Pachi-Slot Kouryaku Series Portable Vol. 2: CR Evangelion - Hajimari no Fukuin', 'Hisshou Pachinko*Pachi-Slot Kouryaku Series DS Vol. 1: Shinseiki Evangelion - Magokoro o, Kimi ni', 'Hisshou Pachinko*Pachi-Slot Kouryaku Series DS Vol. 2: Shinseiki Evangelion - Shito, Futatabi', 'Hisshou Pachinko*Pachi-Slot Kouryaku Series DS Vol. 4: Shinseiki Evangelion - Saigo no Mono', 'Hisshou Pachinko*Pachi-Slot Kouryaku Series DS Vol. 5: Shinseiki Evangelion - Tamashii no Kiseki', 'Hisshou Pachinko*Pachi-Slot Kouryaku Series Portable Vol. 1: Shinseiki Evangelion - Tamashii no Kiseki', 'Hisshou Pachinko*Pachi-Slot Kouryaku Series Vol. 11: Shinseiki Evangelion - Magokoro o, Kimi ni', 'Hisshou Pachinko*Pachi-Slot Kouryaku Series Vol. 12: CR Shinseiki Evangelion - Shito, Futatabi', 'Hisshou Pachinko*Pachi-Slot Kouryaku Series Vol. 13: Shinseiki Evangelion - Yakusoku no Toki', 'Hisshou Pachinko*Pachi-Slot Kouryaku Series Vol. 14: CR Shinseiki Evangelion: Saigo no Mono', 'Hisshou Pachinko*Pachi-Slot Kouryaku Series Vol. 1: CR Shinseiki Evangelion', 'Hisshou Pachinko*Pachi-Slot Kouryaku Series Vol. 5: CR Shinseiki Evangelion * Pachi-Slot Shinseiki Evangelion', 'Hisshou Pachinko*Pachi-Slot Kouryaku Series Vol. 9: CR Fever Captain Harlock', 'Hisshou Pachinko*Pachi-Slot Kouryaku Series Vol.10: CR Shinseiki Evangelion: Kiseki no Kachi', 'Hisshou Pachinko*Pachi-slot Kouryaku Series DS Vol. 3: Shinseiki Evangelion - Yakusoku no Toki', 'History Civil War: Secret Missions', 'History Great Empires: Rome', 'Hitman (2016)', 'Hitman 2: Silent Assassin', 'Hitman Trilogy', 'Hitman: Absolution', 'Hitman: Blood Money', 'Hitman: Contracts', 'Hitman: HD Trilogy', 'Hitotsu Tobashi Renai V', \"Hogan's Alley\", 'Hogs of War', 'Hokuto no Ken', 'Hokuto no Ken: Hokuto Shinken Denshousha no Michi', 'Hole in the Wall: Deluxe Edition', 'Holly Hobbie & Friends', 'Hollywood Squares', 'Holy Invasion of Privacy, Badman! What Did I Do to Deserve This?', 'Home Run', 'Home Run King', 'Homefront', 'Homefront: The Revolution', 'Hometown Story', 'Homeworld', 'Homeworld 2', 'Homeworld Remastered Collection', 'Homie Rollerz', 'Honda ATV Fever', 'Honeycomb Beat', 'Hooked! Again: Real Motion Fishing', 'Hooked! Real Motion Fishing', 'Hoppechan: Minna de Odekake! Waku Waku Hoppe Land!!', 'Hoppechan: Tsukutte! Asonde! Punipuni Town!!', 'Hoppie', \"Horrid Henry's Horrid Adventure\", 'Horrid Henry: Missions of Mischief', 'Horrid Henry: The Good, The Bad and The Bugly', 'Horse Life', 'Horse Life 4: My Horse, My Friend, My Champion', 'Horse Life Adventures', 'Horses 3D', 'Horsez', 'Hoshigami: Ruining Blue Earth', 'Hoshigami: Ruining Blue Earth Remix', 'Hoshizora no Comic Garden', 'Hospital Tycoon', \"Hot 'n' Cold\", 'Hot Pixel', 'Hot Potato!', 'Hot Shots Golf', 'Hot Shots Golf 2', 'Hot Shots Golf 3', 'Hot Shots Golf Fore!', 'Hot Shots Golf: Open Tee', 'Hot Shots Golf: Open Tee 2', 'Hot Shots Golf: Out of Bounds', 'Hot Shots Golf: World Invitational', 'Hot Shots Tennis', 'Hot Shots Tennis: Get a Grip', 'Hot Wheels Turbo Racing', 'Hot Wheels Ultimate Racing', 'Hot Wheels Velocity X', 'Hot Wheels World Race', 'Hot Wheels: Battle Force 5', 'Hot Wheels: Beat That!', \"Hot Wheels: Burnin' Rubber\", 'Hot Wheels: Stunt Track Challenge', 'Hot Wheels: Stunt Track Challenge / World Race', 'Hot Wheels: Track Attack', 'Hot Wheels: World Race', 'HotBrain', 'Hotel Dusk: Room 215', 'Hotel Giant 2', 'Hotel Giant DS', 'Hotel for Dogs', 'Houkago Shounen', 'Hour of Victory', 'House M.D.', 'Housekeeping', 'Houshinengi', 'How to Train Your Dragon', 'How to Train Your Dragon 2', 'Hudson x GReeeeN Live!? DeeeeS!?', 'Hulk', \"Hulk Hogan's Main Event\", 'Hummer Badlands', \"Hunted: The Demon's Forge\", 'Hunter x Hunter: Wonder Adventure', 'Hunter: The Reckoning', 'Hunter: The Reckoning  Wayward', 'Hunter: The Reckoning Redeemer', 'Hurry Up Hedgehog!', 'Hyakka Hyakurou: Sengoku Ninpoujou', 'Hyakka Yakou', 'Hyakki Yagyou Kaidan Romance', 'Hyakumanton no Bara Bara', 'Hybrid Heaven', 'Hydro Thunder', 'Hyper Formation Soccer', 'Hyperdevotion Noire: Goddess Black Heart', 'Hyperdimension Idol Neptunia PP', 'Hyperdimension Neptunia', 'Hyperdimension Neptunia Re;Birth 2', 'Hyperdimension Neptunia Re;Birth 3', 'Hyperdimension Neptunia U: Action Unleashed', 'Hyperdimension Neptunia Victory', 'Hyperdimension Neptunia Victory II', 'Hyperdimension Neptunia Vs. Sega Hard Girls: Yume no Gattai Special', 'Hyperdimension Neptunia mk2', 'Hyrule Warriors', 'Hysteria Hospital: Emergency Ward', 'I Am In The Movie', 'I Doll U', \"I Don't Have Many Friends Portable\", 'I Heart Geeks', 'I Love Beauty: Hollywood Makeover', 'I Love Horses', \"I Love Horses: Rider's Paradise\", 'I Love Puppies', 'I Spy: Castle', 'I Spy: Fun House', 'I Spy: Spooky Mansion', 'I Spy: Universe', \"I'm A Celebrity: Get Me Out of Here!\", 'I-Ninja', 'I.Q. Remix+: Intelligent Qube', 'IA/VT Colorful', 'ICO', \"IGT Slots: Lucky Larry's Lobstermania\", 'IHRA Drag Racing 2', 'IHRA Drag Racing 2004', 'IHRA Drag Racing: Sportsman Edition', 'IHRA Professional Drag Racing 2005', 'IL-2 Sturmovik', 'IL-2 Sturmovik: 1946', 'IL-2 Sturmovik: Birds of Prey', 'IL-2 Sturmovik: Cliffs of Dover', 'IL-2 Sturmovik: Forgotten Battles', 'ISS Pro Evolution', 'Ice Age', 'Ice Age 2: The Meltdown', 'Ice Age: Dawn of the Dinosaurs', 'Ice Climber', 'Ice Hockey', 'Icewind Dale II', 'Ide Yosuke no Mahjong Kazoku', 'Idol Janshi Suchie-Pai IV', 'Idol Janshi Suchie-Pai Remix', \"Iggy's Reckin' Balls\", 'Igor: The Game', 'Ikaruga', 'Ikki Tousen: Eloquent Fist', 'Ikki Tousen: Shining Dragon', 'Ikki Tousen: Xross Impact', 'Illusion of Gaia', 'Imabikisou', 'Imagine Animal Doctor Care Center', 'Imagine Figure Skater (JP sales)', 'Imagine: Animal Doctor', 'Imagine: Artist', 'Imagine: Babysitters', 'Imagine: Babyz', 'Imagine: Babyz Fashion', 'Imagine: Ballet Star', 'Imagine: Boutique Owner', 'Imagine: Cheerleader', 'Imagine: Detective', 'Imagine: Family Doctor', 'Imagine: Fashion Designer', 'Imagine: Fashion Designer New York', 'Imagine: Fashion Designer World Tour', 'Imagine: Fashion Party', 'Imagine: Fashion Stylist', 'Imagine: Figure Skater (US sales)', 'Imagine: Gymnast', 'Imagine: Ice Champions', 'Imagine: Interior Designer', 'Imagine: Master Chef', 'Imagine: Movie Star', 'Imagine: Music Fest', 'Imagine: My Restaurant', 'Imagine: Party Babyz', 'Imagine: Party Planner', 'Imagine: Reporter', 'Imagine: Resort Owner', 'Imagine: Rock Star', 'Imagine: Salon Stylist', 'Imagine: Soccer Captain', 'Imagine: Sweet 16', 'Imagine: Teacher', 'Imagine: Teacher Class Trip', 'Imagine: Wedding Designer', 'Imagine: Zookeeper', 'Impact Racing', 'Imperial Glory', 'Imperium Romanum', 'Import Tuner Challenge (American sales)', 'Impossible Creatures', 'Impossible Mission', 'In Cold Blood', 'In The Groove', 'In the Hunt', 'Inazuma Eleven', 'Inazuma Eleven 2', 'Inazuma Eleven 3', 'Inazuma Eleven GO', 'Inazuma Eleven GO 3: Galaxy', 'Inazuma Eleven GO Strikers 2013', 'Inazuma Eleven Go 2: Chrono Stone', 'Inazuma Eleven Strikers', 'Inazuma Eleven Strikers 2012 Xtreme', 'Incredible Crisis', 'Independence Day', \"Indiana Jones and the Emperor's Tomb\", 'Indiana Jones and the Staff of Kings', 'Indianapolis 500 Evolution', 'Indianapolis 500 Legends', 'Indigo Prophecy', 'Indy 500', 'Indy Racing 2000', 'IndyCar Series', 'Indycar Series 2005', 'Infamous: First Light', 'Infected', \"Infernal: Hell's Vengeance\", 'Infinite Space', 'Infinite Stratos 2: Ignition Hearts', 'Infinite Stratos 2: Love and Purge', 'Infinite Undiscovery', 'Initial D: Extreme Stage', 'Initial D: Special Stage', 'Initial D: Street Stage', 'Injustice: Gods Among Us', 'Inkheart', 'Innocent Life: A Futuristic Harvest Moon', 'Insecticide', \"Inspector Gadget: Gadget's Crazy Maze\", 'Instant Brain', 'Intelligent Qube', 'Intellivision Lives!', 'Interactive Sampler Disc 6', 'Interactive Storybook DS Series 1', 'Interactive Storybook DS Series 3', 'International Cricket 2010', 'International Soccer', 'International Superstar Soccer', \"International Superstar Soccer '98\", 'International Superstar Soccer 2000', 'International Superstar Soccer 2000 (All region sales)', 'International Superstar Soccer 2000 (JP weekly sales)', 'International Superstar Soccer 64', 'International Superstar Soccer 64 (weekly JP sales)', 'International Superstar Soccer Deluxe', \"International Superstar Soccer Pro '98\", 'International Track & Field', 'International Track & Field 2000', 'Interplay Sports Baseball 2000', 'InuYasha: A Feudal Fairy Tale', 'InuYasha: Feudal Combat', 'InuYasha: Secret of the Divine Jewel', 'InuYasha: The Secret of the Cursed Mask', 'Invasion From Beyond', 'Inversion', 'Invizimals', 'Invizimals: Shadow Zone', 'Invizimals: The Alliance', 'Invizimals: The Lost Kingdom', 'Invizimals: The Lost Tribes', 'Iridion 3D', 'Iridion II', 'Iridium Runners', 'Iron & Blood', 'Iron Chef America: Supreme Cuisine', 'Iron Man', 'Iron Man / X-O Manowar in Heavy Metal', 'Iron Man 2', 'Iron Phoenix', 'Iron Soldier 3', 'Iron Storm', \"Irotoridori no Sekai: World's End Re-Birth\", 'Irozuki Tingle no Koi no Balloon Trip', 'Irritating Stick', 'Ishin Renka: Ryouma Gaiden', 'Ishin no Arashi: Shippuu Ryuumeden', 'Island Xtreme Stunts', 'Isshoni Gohan. Portable', 'Itadaki Street 2: Neon Sign wa Bara Iro ni', 'Itadaki Street DS', 'Itoi Shigesato no Bass Tsuri No. 1', 'Itoi Shigesato no Bass Tsuri No. 1 Ketteihan!', 'Ivy the Kiwi?', 'Iza, Shutsujin! Koisen', 'Izumo 2', 'Izuna 2: The Unemployed Ninja Returns', 'J Legend Retsuden', 'J Stars Victory Vs.', \"J-League '96 Dream Stadium\", \"J-League Excite Stage '95\", \"J-League Excite Stage '96\", 'J-League Jikkyou Winning Eleven 2000', 'J-League Jikkyou Winning Eleven 3', \"J-League Pro Soccer Club o Tsukurou '04\", 'J-League Pro Soccer Club o Tsukurou!', 'J-League Pro Soccer Club o Tsukurou! 3', 'J-League Pro Soccer Club o Tsukurou! 5', 'J-League Pro Soccer Club o Tsukurou! 6: Pride of J', 'J-League Pro Soccer Club o Tsukurou! 7 Euro Plus', 'J-League Pro Soccer Club wo Tsukurou!', 'J-League Pro Soccer Club wo Tsukurou! 2', 'J-League Pro Striker 2', 'J-League Soccer: Prime Goal', 'J-League Soccer: Prime Goal 2', 'J-League Victory Goal', \"J-League Victory Goal '96\", 'J-League Winning Eleven 10 + Europa League 06-07', 'J-League Winning Eleven 2007: Club Championship', 'J-League Winning Eleven 2008: Club Championship', 'J-League Winning Eleven 2009: Club Championship', 'J-League Winning Eleven 2010: Club Championship', 'J-League Winning Eleven 9: Asia Championship', 'J.League Pro Soccer Club o Tsukurou! 8 Euro Plus', \"JASF: Jane's Advanced Strike Fighters\", 'JGTC: All-Japan Grand Touring Car Championship', 'JSRF: Jet Set Radio Future', 'JU-ON: The Grudge', 'Jack Keane', 'Jackass the Game', 'Jackass the Game DS', 'Jackie Chan Adventures: Legend of the Dark Hand', 'Jackie Chan: Stuntmaster', \"Jacqueline Wilson's Tracy Beaker: The Game\", 'Jade Cocoon 2', 'Jade Cocoon: Story of the Tamamayu', 'Jade Empire', 'Jak 3', 'Jak II', 'Jak X: Combat Racing', 'Jak and Daxter: The Lost Frontier', 'Jak and Daxter: The Precursor Legacy', 'Jake Hunter Detective Story: Memories of the Past', 'Jake Hunter: Detective Chronicles', 'Jake Power: Fireman', 'Jake Power: Handyman', 'Jake Power: Policeman', 'Jam Sessions 2', 'Jam Sessions: Sing and Play Guitar (US sales)', 'Jam Sessions: Sing and Play Guitar (jp sales)', 'Jam With the Band', 'Jambo! Safari Animal Rescue', 'James Bond 007: Agent Under Fire', 'James Bond 007: Blood Stone', 'James Bond 007: Everything or Nothing', 'James Bond 007: Legends', 'James Bond 007: Nightfire', \"James Cameron's Dark Angel\", \"James Noir's Hollywood Crimes\", \"James Patterson Women's Murder Club: Games of Passion\", 'James Pond: Codename Robocod', 'Jampack Fall 2001', 'Jampack Spring 2004 (RP-T)', \"Jampack Summer '99\", 'Jampack Summer 2001', 'Jampack Summer 2002', 'Jampack Summer 2K', 'Jampack Vol. 1', 'Jampack Vol. 2', 'Jampack Volume 11', 'Jampack Volume 12', 'Jampack Volume 13 (RP-M)', 'Jampack Volume 13 (RP-T)', 'Jampack Volume 14 (RP-T)', \"Jampack Winter '98\", \"Jampack Winter '99\", 'Jampack Winter 2000', 'Jampack Winter 2001', 'Jampack Winter 2002', 'Jampack Winter 2003 (RP-M)', 'Jampack Winter 2003 (RP-T)', 'Jampack: Summer 2003 (RP-M)', 'Jampack: Summer 2003 (RP-T)', 'Jan Sangoku Musou', \"Jane's Hotel\", 'Jawbreaker', 'Jaws Unleashed', 'Jaws: Ultimate Predator', \"Jeanne d'Arc\", 'Jeep Thrills', 'Jelly Belly: Ballistic Beans', 'Jenga World Tour', 'Jeopardy!', 'Jeopardy! 2nd Edition', 'Jeremy McGrath Supercross 2000', 'Jeremy McGrath Supercross 98', 'Jeremy McGrath Supercross World', \"Jerry Rice and Nitus' Dog Football\", 'Jersey Devil', 'Jet Force Gemini', 'Jet Grind Radio', 'Jet Impulse', 'Jet Li: Rise to Honor', 'Jet Moto', 'Jet Moto 2', 'Jet Moto 3', 'Jet X20', 'Jewel Legends: Tree of Life', 'Jewel Link Chronicles: Legend of Athena', 'Jewel Link Chronicles: Mountains of Madness', 'Jewel Master Egypt', 'Jewel Master: Cradle Of Rome 2', 'Jewel Master: Cradle of Athena', 'Jewel Master: Cradle of Persia', 'Jewel Master: Cradle of Rome', 'Jewel Match', 'Jewel Match 2', 'Jewel Quest 5: The Sleepless Star', 'Jewel Quest II', 'Jewel Quest IV: Heritage', 'Jewel Quest Mysteries', 'Jewel Quest Mysteries 2: Trail of the Midnight Heart', 'Jewel Quest Mysteries: Curse of the Emerald Tear', 'Jewel Quest Solitaire', 'Jewel Quest: Expeditions', 'Jewel Time Deluxe', 'Jewels of the Ages', 'Jewels of the Tropical Lost Island', 'Jig-A-Pix: Pets', 'Jig-A-Pix: Wild World', 'Jikandia: The Timeless Land', 'Jikkyou J-League Perfect Striker', 'Jikkyou Oshaberi Parodius', 'Jikkyou Powerful Major League', 'Jikkyou Powerful Major League 2009', 'Jikkyou Powerful Pro Baseball 2016', \"Jikkyou Powerful Pro Yakuu '94\", \"Jikkyou Powerful Pro Yakyuu '95\", \"Jikkyou Powerful Pro Yakyuu '96 Kaimakuban\", \"Jikkyou Powerful Pro Yakyuu '97 Kaimakuban\", \"Jikkyou Powerful Pro Yakyuu '98 Kaimakuban\", \"Jikkyou Powerful Pro Yakyuu '98 Ketteiban\", \"Jikkyou Powerful Pro Yakyuu '99 Kaimakuban\", \"Jikkyou Powerful Pro Yakyuu '99 Ketteiban\", 'Jikkyou Powerful Pro Yakyuu 10', 'Jikkyou Powerful Pro Yakyuu 10 Chou Ketteiban: 2003 Memorial', 'Jikkyou Powerful Pro Yakyuu 11', 'Jikkyou Powerful Pro Yakyuu 12', 'Jikkyou Powerful Pro Yakyuu 12 Ketteiban', 'Jikkyou Powerful Pro Yakyuu 13', 'Jikkyou Powerful Pro Yakyuu 13 Ketteiban', 'Jikkyou Powerful Pro Yakyuu 14', 'Jikkyou Powerful Pro Yakyuu 14 Ketteiban', 'Jikkyou Powerful Pro Yakyuu 15', 'Jikkyou Powerful Pro Yakyuu 2', 'Jikkyou Powerful Pro Yakyuu 2000', 'Jikkyou Powerful Pro Yakyuu 2000 Kaimakuban', 'Jikkyou Powerful Pro Yakyuu 2000 Ketteiban', 'Jikkyou Powerful Pro Yakyuu 2001', 'Jikkyou Powerful Pro Yakyuu 2009', 'Jikkyou Powerful Pro Yakyuu 2010', 'Jikkyou Powerful Pro Yakyuu 2011', 'Jikkyou Powerful Pro Yakyuu 2011 Ketteiban', 'Jikkyou Powerful Pro Yakyuu 2012', 'Jikkyou Powerful Pro Yakyuu 2013', 'Jikkyou Powerful Pro Yakyuu 2014', 'Jikkyou Powerful Pro Yakyuu 3', \"Jikkyou Powerful Pro Yakyuu 3 '97 Haru\", 'Jikkyou Powerful Pro Yakyuu 4', 'Jikkyou Powerful Pro Yakyuu 5', 'Jikkyou Powerful Pro Yakyuu 6', 'Jikkyou Powerful Pro Yakyuu 7', 'Jikkyou Powerful Pro Yakyuu 8', 'Jikkyou Powerful Pro Yakyuu 8 Ketteiban', 'Jikkyou Powerful Pro Yakyuu 9', 'Jikkyou Powerful Pro Yakyuu 9 Ketteiban', 'Jikkyou Powerful Pro Yakyuu Basic-han 2001', 'Jikkyou Powerful Pro Yakyuu DreamCast Edition', 'Jikkyou Powerful Pro Yakyuu Next', 'Jikkyou Powerful Pro Yakyuu Portable', 'Jikkyou Powerful Pro Yakyuu Portable 2', 'Jikkyou Powerful Pro Yakyuu Portable 3', 'Jikkyou Powerful Pro Yakyuu Portable 4', 'Jikkyou Powerful Pro Yakyuu Wii', 'Jikkyou Powerful Pro Yakyuu Wii Ketteiban', 'Jikkyou World Soccer 2000 Final Edition', 'Jikkyou World Soccer 2002', 'Jillian Michaels Fitness Ultimatum 2010', 'Jillian Michaels Fitness Ultimatum 2011', \"Jillian Michaels' Fitness Adventure\", \"Jillian Michaels' Fitness Ultimatum 2009\", \"Jim Henson's Muppets in Spy Muppets: License to Croak\", \"Jim Henson's the Muppets: On With the Show!\", \"Jimmie Johnson's Anything With an Engine\", 'Jimmy Neutron: Boy Genius', 'Jinguuji Saburou DS: Akai Chou', 'Jinsei Game DS', 'Jinsei Game Q DS: Shouwa no Dekigoto', 'Jinsei Game Wii', 'Jirou Akagawa: Majotachi no Nemuri', 'Jissen Pachi-Slot Hisshouhou', 'Jissen Pachi-Slot Hisshouhou! Aladdin A', 'Jissen Pachi-Slot Hisshouhou! Aladdin II Evolution', 'Jissen Pachi-Slot Hisshouhou! Hokuto no Ken 2', 'Jissen Pachi-Slot Hisshouhou! Hokuto no Ken SE', 'Jissen Pachi-Slot Hisshouhou! Mister Magic Neo', 'Jissen Pachi-Slot Hisshouhou! Moujuu-Oh S', 'Jissen Pachi-Slot Hisshouhou: Hokuto no Ken', 'Jissen Pachinko Hisshouhou! CR Sakura Taisen', 'Jissen Pachislot Hisshouhou! Hokuto no Ken DS', 'Jissen Pachislot Hisshouhou! Hokuto no Ken DS SE', 'Jissen Pachislot Hisshouhou! Hokuto no Ken Portable SE', 'Jissen Pachislot Secrets! Fist of the North Star F - Seikimatsu Kyuuseishu Densetsu', 'Jitsumei Jikkyou Keiba Dream Classic 2002', 'JoJo no Kimy? na B?ken Fantomu Buraddo', \"JoJo's Bizarre Adventure: All Star Battle\", \"JoJo's Bizarre Adventure: Eyes of Heaven\", \"John Daly's ProStroke Golf\", 'John Deere: Harvest in the Heartland', 'John Madden Football', 'Johnny Bazookatone', 'Johnny Bravo in The Hukka-Mega-Mighty-Ultra-Extreme Date-O-Rama', 'Johnny Test', 'Joint Operations: Combined Arms', \"Jojo's Bizarre Adventure\", \"Jojo's Fashion Show: Design in a Dash!\", 'Joker no Kuni no Alice: Wonderful Wonder World', 'Jonah Lomu Rugby Challenge', 'Jonas', 'Jonny Moseley Mad Trix', 'Journey', 'Joust', 'Jr. Pac-Man', 'Judge Dredd', 'Judge Dredd: Dredd Vs Death', 'Judie no Atelier: Guramnat no Renkinjutsu - Toraware no Morito', 'Judie no Atelier: Guramnat no Renkinjutsushi', 'Juggler DS', 'Juiced', 'Juiced 2: Hot Import Nights', 'Juiced: Eliminator', 'July', 'Jumble Madness', 'Jump Start Pet Rescue', 'Jump Super Stars', 'Jump Ultimate Stars', 'JumpStart: Escape from Adventure Island', \"Jumper: Griffin's Story\", 'Jumping Flash!', 'Jumping Flash! 2', 'Jungle Hunt', 'Junior Brain Trainer', 'Junior Brain Trainer 2', 'Junior Classic Books & Fairytales', 'Junior Classic Games', 'Junior Island Adventure', 'Junior Mystery Quest', 'Junjou Romanchika: Koi no Doki Doki Daisakusen', 'Jupiter Strike', 'Jurassic Park', 'Jurassic Park III: Island Attack', 'Jurassic Park III: Park Builder', 'Jurassic Park: Operation Genesis', 'Jurassic Park: The Game', 'Jurassic: The Hunted', 'Just Cause', 'Just Cause 2', 'Just Cause 3', 'Just Dance', 'Just Dance 2', 'Just Dance 2014', 'Just Dance 2015', 'Just Dance 2016', 'Just Dance 2017', 'Just Dance 2: Extra Songs', 'Just Dance 3', 'Just Dance 4', 'Just Dance Kids', 'Just Dance Kids 2', 'Just Dance Wii', 'Just Dance Wii 2', 'Just Dance Wii U', 'Just Dance: Disney Party', 'Just Dance: Disney Party 2', 'Just Dance: Greatest Hits', 'Just Dance: Summer Party', 'Just In Time Translations', 'Just Sing!', 'Just Sing! Vol. 2', 'Justice League Heroes', 'Justice League Heroes: The Flash', 'Justice League: Chronicles', 'Juusanshi Engi Engetsu Sangokuden 2', 'Jyuzaengi: Engetsu Sangokuden', 'K-1 Grand Prix', 'K-1 Revenge', 'K-1 World Grand Prix', 'K-ON! Houkago Live!!', 'K-On! After School Live!! HD Ver.', 'KISS Pinball', 'KORG DS-10 Synthesizer', 'KORG DS-10 Synthesizer Plus', 'Kaboom!', 'Kabu Trader Shun', 'Kabuki Warriors', 'Kabushiki Baibai Trainer: Kabutore!', 'Kabushiki Baibai Trainer: Kabutore! Next', 'Kadenz fermata//Akkord:fortissimo', 'Kagero: Deception II', 'Kaidan Restaurant: Ura Menu 100-Sen', 'Kaidan Restaurant: Zoku! Shin Menu 100-Sen', 'Kaijuu Busters', 'Kaijuu Busters Powered', 'Kaite Shabette Hajimeyou! Monster Farm DS', 'Kaitou Joker: Toki o Koeru Kaitou to Ushinawareta Houseki', 'Kaitou Rousseau', 'Kaitou Tenshi Twin Angel: Toki to Sekai no Meikyuu', 'Kaizoku Sentai Gokaiger: Atsumete Henshin! 35 Sentai!', 'Kakuto Chojin', 'Kakyuusei', 'Kaleidoeve', 'Kamaitachi no Yoru', 'Kamaitachi no Yoru 2', 'Kamaitachi no Yoru 2: Tokubetsu Hen', 'Kamaitachi no Yoru × 3', 'Kamen Rider Battle: Ganbaride', 'Kamen Rider Kabuto', 'Kamen Rider Ryuki', 'Kamen Rider: Battride War', 'Kamen Rider: Battride War Genesis', 'Kamen Rider: Battride War II', 'Kamen Rider: Climax Heroes', 'Kamen Rider: Dragon Knight', 'Kamen Rider: Travelers Senki', 'Kameo: Elements of Power', 'Kami Naru Kimi to', 'Kamigami no Asobi', 'Kamigami no Asobi InFinite', 'Kamiwaza', 'Kan Colle Kai', 'Kana: Imouto', 'Kane & Lynch 2: Dog Days', 'Kane & Lynch: Dead Men', 'Kangaroo', 'Kangokutou Mary Skelter', 'Kanji Sonomama DS Rakubiki Jiten', 'Kannou Mukashi Banashi Portable', 'Kanokon: Esuii', 'Kanon', 'Kanshuu Nippon Joushikiryoku Kentei Kyoukai: Imasara Hito ni wa Kikenai Otona no Joushikiryoku Training DS', 'Kanuchi: Shiroki Tsubasa no Shou', 'Kanzen Chuuki Pro Yakyuu Greatest Nine', 'Kao Challengers', 'Kao the Kangaroo', 'Kao the Kangaroo Round 2', 'Karaoke Joysound Wii', 'Karaoke Joysound Wii DX', 'Karaoke Joysound Wii Super DX: Hitori de Minna de Utai Houdai!', 'Karaoke Revolution', 'Karaoke Revolution Glee', 'Karaoke Revolution Glee 2: Road to Regionals', 'Karaoke Revolution Glee: Volume 3', 'Karaoke Revolution Party', 'Karaoke Revolution Presents American Idol Encore', 'Karaoke Revolution Presents American Idol Encore 2', 'Karaoke Revolution Volume 2', 'Karaoke Revolution Volume 3', 'Karate', 'Karnaaj Rally', 'Kart Racer', 'Kartia: The Word of Fate', 'Katamari Damacy', 'Katamari Forever', 'Katekyoo Hitman Reborn Nerae!? Ring x Bongole Returns', 'Katekyoo Hitman Reborn! Battle Arena', 'Katekyoo Hitman Reborn! Battle Arena 2 - Spirits Burst', 'Katekyoo Hitman Reborn! DS Fate of Heat III - Yuki no Shugosha Raishuu!', 'Katekyoo Hitman Reborn! DS Flame Rumble X - Mirai Chou-Bakuhatsu!!', 'Katekyoo Hitman Reborn! DS Flame Rumble XX - Kessen! Shin 6 Chouka', 'Katekyoo Hitman Reborn! DS: Bongole Shiki Taisen Battle Sugoroku', 'Katekyoo Hitman Reborn! DS: Fate of Heat - Hono no Unmei', 'Katekyoo Hitman Reborn! DS: Fate of Heat II - Unmei no Futari', 'Katekyoo Hitman Reborn! DS: Flame Rumble Hyper - Moeyo Mirai', 'Katekyoo Hitman Reborn! DS: Flame Rumble Kaien Ring Soudatsuen!', 'Katekyoo Hitman Reborn! DS: Flame Rumble Mukuro Kyoushuu', 'Katekyoo Hitman Reborn! DS: Mafia Daishuugou Bongole Festival', 'Katekyoo Hitman Reborn! DS: Ore ga Boss! Saikyou Family Taisen', 'Katekyoo Hitman Reborn! DS: Shinuki Max! Vongola Carnival!!', 'Katekyoo Hitman Reborn! Dream Hyper Battle!', 'Katekyoo Hitman Reborn! Dream Hyper Battle! Wii', 'Katekyoo Hitman Reborn! Kindan no Yami no Delta', 'Katekyoo Hitman Reborn! Kizuna no Tag Battle', \"Katekyoo Hitman Reborn!! Let's Ansatsu!? Nerawareta 10 Daime!\", 'Kawa no Nushi Tsuri', 'Kawaii Koinu DS 3', 'Kawasaki Jet Ski', 'Kawasaki Quad Bikes', 'Kawasaki Snowmobiles', 'Kawashima Ryuuta Kyouju Kanshuu Nouryoku Trainer Portable 2', 'Kazoku Keikaku', 'Keiba Eight Special', 'Kekkaishi: Karasumori Ayakashi Kidan', 'Kekkaishi: Kokubourou Shuurai', 'Kekkaishi: Kokubourou no Kage', 'Kekkon Zenya', 'Kekkon: Marriage', \"Kelly Slater's Pro Surfer\", \"Ken Griffey Jr.'s Slugfest\", 'Ken to Mahou to Gakuen Mono. 2', 'Ken to Mahou to Gakuen Mono. 2G', 'Ken to Mahou to Gakuen Mono. 3', 'Ken to Mahou to Gakuen Mono. 3D', 'Ken to Mahou to Gakuen Mono. Final: Shinnyusei wa Ohimesama', 'Kengo: Legend of The 9', 'Kengo: Master of Bushido', 'Kenka Bancho Bros: Tokyo Battle Royale', 'Kenka Bancho Otome', 'Kenka Bancho: Badass Rumble', 'Kenka Banchou 2: Full Throttle', 'Kenka Banchou 4: Ichinen Sensou', 'Kenka Banchou 5: Otoko no Housoku', 'Kenka Banchou 6: Soul & Blood', 'Kenka Banchou Portable', 'Kenkou Ouen Recipe 1000: DS Kondate Zenshuu', 'Kensei: Sacred Fist', 'Kenshuui Tendo Dokuta', 'Kenyuu Densetsu Yaiba', 'Keroro Gunsou: Enshuu da Yo! Zenin Shuugou Part 2', 'Keroro RPG: Kishi to Musha to Densetsu no Kaizoku', 'Keshisasu-Kun: Battle Kas-tival', 'Kessen', 'Kessen II', 'Kessen III', 'Ketsui Death Label', 'Ketsui: Kizuna Jigoku Tachi Extra', 'Kevin Van Dam: Big Bass Challenge', 'Keystone Kapers', 'Kid Adventures: Sky Captain', 'Kid Fit Island Resort', 'Kid Icarus', 'Kid Icarus: Uprising', 'Kidou Gekidan Haro Ichiza Gundam Mahjong DS: Oyaji nimo Agarareta koto nai noni!', 'Kidou Senkan Nadesico', 'Kidou Senshi Gundam 00', 'Kidou Senshi Gundam F91: Formula Senki 0122', 'Kidou Senshi Gundam Seed Battle Destiny', 'Kidou Senshi Gundam UC', 'Kidou Senshi Gundam: Extreme VS', 'Kidou Senshi Gundam: Giren no Yabou', 'Kidou Senshi Gundam: Giren no Yabou - Axis no Kyoui', 'Kidou Senshi Gundam: Giren no Yabou - Axis no Kyoui V', 'Kidou Senshi Gundam: Senjou no Kizuna Portable', 'Kidou Senshi Gundam: Shin Gihren no Yabou', 'Kidou Senshi V Gundam', 'Kids Learn Math: A+ Edition', 'Kids Learn Music A+ Edition', 'Kidz Bop Dance Party! The Video Game', 'Kidz Sports: Crazy Golf', 'Kikiite Hajimaru: Eigo Kaiwa Training - KikiTore', 'Kikou Heidan J-Phoenix', 'Kikou Heidan J-Phoenix 2', 'Kikou Heidan J-Phoenix: Cobalt Shoutaihen', 'Kiku! Kaku! Kotoba o Fuyasu! Hajimete no Eigo Training', 'Kilari: Na-san, Mon Meilleur Ami', 'Kileak: The DNA Imperative', 'Kill.Switch', 'Killer Instinct', 'Killer Instinct (2013)', 'Killer Instinct Gold', 'Killer Loop', 'Killer is Dead', 'Killer7', 'Killing Floor 2 ', 'Killing Zone', 'Killzone', 'Killzone 2', 'Killzone 3', 'Killzone: Liberation', 'Killzone: Mercenary', 'Killzone: Shadow Fall', 'Kimi ga Aruji de Shitsuji ga Ore de: Oshie Nikki', 'Kimi ni Todoke: Sodateru Omoi', 'Kimi ni Todoke: Tsutaeru Kimochi', 'Kimi no Yuusha', 'KimiKiss', 'KimiKiss (ebKore+)', 'Kimikare: New Semester', 'Kinect Adventures!', 'Kinect Joy Ride', 'Kinect Rush: A Disney Pixar Adventure', 'Kinect Sports', 'Kinect Sports Rivals', 'Kinect Sports: Season Two', 'Kinect Star Wars', 'Kinect: Disneyland Adventures', 'Kinectimals', 'Kinectimals: Now with Bears!', 'Kinetica', 'King Arthur', 'King Arthur II', 'King Kong', 'King of Clubs: Mini Golf', 'King of Colosseum (Red): Shin Nippon x Zen Nippon x Pancrase Disc', 'King of Fighters 2002: Unlimited Match Tougeki Ver.', 'King of Fighters: Maximum Impact', 'King of Fighters: Maximum Impact Regulation A', \"King's Bounty: Armored Princess\", \"King's Field\", \"King's Field (Japan)\", \"King's Field II\", \"King's Field: The Ancient City\", \"King's Quest: The Complete Collection\", 'Kingdom Hearts', 'Kingdom Hearts 358/2 Days', 'Kingdom Hearts 3D: Dream Drop Distance', 'Kingdom Hearts II', 'Kingdom Hearts Re: Chain of Memories', 'Kingdom Hearts Re:coded', 'Kingdom Hearts: Birth by Sleep', 'Kingdom Hearts: Birth by Sleep - Final Mix', 'Kingdom Hearts: Chain of Memories', 'Kingdom Under Fire: Circle of Doom', 'Kingdom Under Fire: Heroes', 'Kingdom Under Fire: The Crusaders', 'Kingdom of Paradise', 'Kingdom: Ikkitousen no Ken', 'Kingdoms of Amalur: Reckoning', 'Kiniro no Corda 2', 'Kiniro no Corda 2 Encore', 'Kiniro no Corda 2 f', 'Kiniro no Corda 2 f Encore', 'Kiniro no Corda 3', 'Kinnikuman Muscle Grand Prix Max', 'Kinnikuman Muscle Grand Prix Max 2: Tokumori', 'Kintaihi Shounen no Jiken: Kyakusen Eris-Gou no Sangeki', 'Kirarin * Revolution: Kira Kira Idol Audition', 'Kirarin * Revolution: Mezase! Idol Queen', 'Kirarin * Revolution: Minna de Odorou Furi Furi Debut!', 'Kirarin * Revolution: Tsukutte Misechao! Kime * Kira Stage', 'Kirby & the Amazing Mirror', 'Kirby 64: The Crystal Shards', 'Kirby Air Ride', 'Kirby Squeak Squad', 'Kirby Super Star', 'Kirby Super Star Ultra', \"Kirby Tilt 'n' Tumble\", 'Kirby and the Rainbow Curse', \"Kirby's Adventure\", \"Kirby's Block Ball\", \"Kirby's Dream Collection: Special Edition\", \"Kirby's Dream Course\", \"Kirby's Dream Land\", \"Kirby's Dream Land 2\", \"Kirby's Dream Land 3\", \"Kirby's Epic Yarn\", \"Kirby's Pinball Land\", \"Kirby's Return to Dreamland\", \"Kirby's Star Stacker\", 'Kirby: Canvas Curse', 'Kirby: Mass Attack', 'Kirby: Nightmare in Dream Land', 'Kirby: Planet Robobot', 'Kirby: Triple Deluxe', 'Kiss Bell', 'Kisuato', 'Klax', 'Klonoa', 'Klonoa 2: Dream Champ Tournament', \"Klonoa 2: Lunatea's Veil\", 'Klonoa Beach Volleyball', 'Klonoa Heroes: Densetsu no Star Medal', 'Klonoa: Door to Phantomile', 'Klonoa: Empire of Dreams', 'Knack', 'Knife Edge: NoseGunner', \"Knight's Apprentice: Memorick's Adventures\", 'Knights Contract', 'Knights in the Nightmare', 'Knights in the Nightmare: DHE Series Special Pack', 'Knights of Honor', 'Knockout Kings', 'Knockout Kings 2000', 'Knockout Kings 2001', 'Knockout Kings 2002', 'Knockout Kings 2003', 'Kobe Bryant in NBA Courtside', 'Kobitodzukan: Kobito Kansatsu Set', 'Kobitodzukan: Kobito no Fushigi - Jikken Set', 'Kochira Katsushikaku Kameari Kouenmae Hashutsujo: Machiteba Tengoku! Makereba Jigoku! Ryoutsuryuu Ikkakusenkin Daisakusen!', 'Koi Sentai Love & Peace the P.S.P: Power Zenkai! Special Youso Tenkomori de Portable Ka Daisakusen de Aru!', 'Koi to Senkyo to Chocolate Portable', 'Koihime Enbu', 'Koihime Musou', 'Koisuru Otome to Shugo no Tate Portable', 'Koisuru Otome to Shugo no Tate: The Shield of AIGIS', 'Kokoro Connect: Yochi Random', 'Kokoro no Kokoron', 'Konami Arcade Classics', 'Konami Classics Series: Arcade Hits', 'Konami Classics Vol. 1', 'Konami Classics Vol. 2', \"Konami Collector's Series: Arcade Advanced\", 'Konami Krazy Racers', 'Konductra', 'Kong: King of Atlantis', 'Kong: The 8th Wonder of the World', 'Kong: The Animated Series', 'Konjiki no Gashbell!! Makai no Bookmark', 'Kono Aozora ni Yakusoku o: Melody of the Sun and Sea', 'Kono Aozora ni Yakusoku o: Tenohira no Rakuen', 'Konohana 2: Todoke Kanai Requiem', 'Konpeki no Kantai', 'Kororinpa: Marble Mania', 'Kotoba no Puzzle: Mojipittan DS', 'Kotoba no Puzzle: Mojipittan Daijiten', 'Kouchuu Ouja Mushi King', 'Kouchuu Ouja Mushi King: Greatest Champion e no Michi DS', 'Kouchuu Ouja Mushi King: Greatest Champion e no Michi DS 2', 'Kouchuu Ouja Mushi King: Super Collection', 'Koudelka', 'Kousoku Card Battle: Card Hero', \"Kowloon's Gate\", 'Krazy Ivan', 'Krull', 'Kuma no Pooh-San: 100 Acre no Mori no Cooking Book', 'Kuma-Tomo', 'Kumamon Bomber: Puzzle de Kumamon Taisou', 'Kung Fu', 'Kung Fu Chaos', 'Kung Fu Panda', 'Kung Fu Panda 2', 'Kung Fu Panda: Legendary Warriors', 'Kung Fu Panda: Showdown of Legendary Legends', 'Kung Fu Rider', 'Kung Zhu', 'Kung-Fu Master', 'Kung-Fu: High Impact', 'Kuon', 'Kurikin: Nano Island Story', 'Kurogane Kaikitan', 'Kurohyou 2: Ryu ga Gotoku Ashura Hen', 'Kurohyou: Ryu ga Gotoku Shinshou', \"Kuroko's Basketball: Miracle Game\", \"Kuroko's Basketball: Ties to Future\", 'Kuroshitsuji: Phantom & Ghost', \"Kurt Warner's Arena Football Unleashed\", 'KuruKuru Kururin', 'Kurupoto Cool Cool Stars', 'Kururin Paradise', 'Kurushi Final: Mental Blocks', 'Kuryuu Youma Gakuenki Recharge', 'Kuukan * Zukei: Hirameki Training - KuuTore', 'Kuusen II', 'Kya: Dark Lineage', 'Kyokugen Dasshutsu ADV: Zennin Shiboudesu', 'Kyoukai Senjou no Horizon Portable', 'Kyoukai no Shirayuki', \"L'Aigle de Guerre\", 'L.A. Noire', 'L.A. Noire: The Complete Edition', 'L.A. Rush', 'L.G.S: Shinsetsu Houshinengi', 'L: the proLogue to DEATH NOTE - Rasen no Wana', 'LEGO Batman 2: DC Super Heroes', 'LEGO Batman: The Videogame', 'LEGO Battles', 'LEGO Battles: Ninjago', 'LEGO Bionicle', 'LEGO City Undercover', 'LEGO Dimensions', 'LEGO Friends', 'LEGO Harry Potter Collection', 'LEGO Harry Potter: Years 1-4', 'LEGO Harry Potter: Years 5-7', 'LEGO Indiana Jones 2: The Adventure Continues', 'LEGO Indiana Jones: The Original Adventures', \"LEGO Island 2: The Brickster's Revenge\", 'LEGO Island Xtreme Stunts', 'LEGO Jurassic World', \"LEGO Knights' Kingdom\", \"LEGO Legends of Chima: Laval's Journey\", 'LEGO Marvel Super Heroes', \"LEGO Marvel's Avengers\", 'LEGO Ninjago: Shadow of Ronin', 'LEGO Pirates of the Caribbean: The Video Game', 'LEGO Racers', 'LEGO Racers 2', 'LEGO Rock Band', 'LEGO Rock Raiders', 'LEGO Soccer Mania', 'LEGO Star Wars II: The Original Trilogy', 'LEGO Star Wars III: The Clone Wars', 'LEGO Star Wars: The Complete Saga', 'LEGO Star Wars: The Video Game', 'LEGO The Hobbit', 'LEGO The Lord of the Rings', 'LMA Manager 2007', \"La Corda d'Oro 4\", 'La Pucelle: Ragnarok', 'La Pucelle: Tactics', 'Labyrinth Cross Blood: Infinity', 'Lady Sia', 'Lagoon', 'Lair', 'Lalaloopsy', \"Land of the Dead: Road to Fiddler's Green\", 'Langrisser III', 'Langrisser IV', 'Langrisser V: The End of Legend', 'Langrisser: Re:Incarnation Tensei', 'Lara Croft Tomb Raider: The Angel of Darkness', 'Lara Croft and the Temple of Osiris', 'Largo Winch .// Commando Sar', 'Laser Blast', 'Last Bronx', 'Last Escort', 'Last Escort 2: Shinya no Amai Toge', 'Last Escort: Club Katze', 'Last Ranker', 'Last Rebellion', 'Last Window: The Secret of Cape West', 'Le Mans 24 Hours', 'Learn Chess', 'Learn Geography', 'Learn Math', 'Learn Science', 'Learning to Spell', 'Left 4 Dead', 'Left 4 Dead 2', 'Left Brain Right Brain 2', 'Left Brain Right Brain: Use Both Hands Train Both Sides', 'Legacy of Kain: Defiance', 'Legacy of Kain: Soul Reaver', 'Legacy of Ys: Books I & II', 'Legaia 2: Duel Saga', 'Legasista', 'Legend of Kay', 'Legend of Kay Anniversary', 'Legend of Legaia', 'Legend of Mana', 'Legend of the Dragon', \"Legend of the Guardians: The Owls of Ga'Hoole\", 'Legend: Hand of God', 'Legendary', \"Legends of Oz: Dorothy's Return\", 'Legends of WrestleMania', 'Legends of Wrestling', 'Legends of Wrestling II', 'Legion: The Legend of Excalibur', 'Lego Batman 3: Beyond Gotham', 'Lego Star Wars: The Force Awakens', 'Legoland', 'Leisure Suit Larry: Box Office Bust', 'Leisure Suit Larry: Magna Cum Laude', 'Lemmings', \"Lemony Snicket's A Series of Unfortunate Events\", \"Lernerfolg Vorschule: Capt'n Sharky\", \"Let's Cheer\", \"Let's Dance with Mel B\", \"Let's Draw!\", \"Let's Make a Soccer Team!\", \"Let's Paint\", \"Let's Pilates!\", \"Let's Play Ballerina\", \"Let's Play Flight Attendant\", \"Let's Play Garden\", \"Let's Ride! Dreamer\", \"Let's Ride! Friends Forever\", \"Let's Ride! Silver Buckle Stables\", \"Let's Ride: Sunshine Stables\", \"Let's Sing 2016\", \"Let's TAP\", \"Let's Yoga!\", 'Lethal Enforcers', 'Lethal Enforcers I & II', 'Lethal Skies Elite Pilot: Team SW', 'Lethal Skies II', 'Life is Strange', 'LifeSigns: Surgical Unit', 'Lifeline', 'Lightning Returns: Final Fantasy XIII', 'Lilie no Atelier: Salburg no Renkinjutsushi 3', 'Lilo & Stitch 2: Hämsterviel Havoc', 'Lilpri DS: Hime-Chen! Apple Pink', 'Line Rider 2: Unbound', \"Link's Crossbow Training\", 'Links 2004', 'Lionel Trains: On Track', 'Lips', 'Lips: Deutsche Partyknaller', 'Lips: I Love The 80s', 'Lips: Number One Hits', 'Lips: Party Classics', 'Lise no Atelier: Ordre no Renkinjutsushi', 'Little Battlers eXperience W', 'Little Battlers eXperience: Baku Boost', 'Little Battlers eXperience: Wars', 'Little Bears', 'Little Busters! Converted Edition', 'Little Deviants', \"Little King's Story\", 'Little League World Series Baseball 2008', 'Little League World Series Baseball 2009', 'Little League World Series Baseball 2010', 'Little League World Series Baseball: Double Play', \"Little Red Riding Hood's Zombie BBQ\", 'LittleBigPlanet', 'LittleBigPlanet 2', 'LittleBigPlanet 3', 'LittleBigPlanet Karting', 'LittleBigPlanet PS Vita', 'Littlest Pet Shop', 'Littlest Pet Shop 3: Biggest Stars - Blue / Pink / Purple Team', 'Littlest Pet Shop: Beach Friends', 'Littlest Pet Shop: City Friends', 'Littlest Pet Shop: Country Friends', 'Littlest Pet Shop: Friends', 'Littlest Pet Shop: Garden', 'Littlest Pet Shop: Jungle', 'Littlest Pet Shop: Spring', 'Littlest Pet Shop: Winter', 'Live A Live', 'Living Legends: Frozen Beauty', 'Livly Garden', 'Lizzie McGuire 2: Lizzie Diaries', 'Lizzie McGuire 3: Homecoming Havoc', 'Loading Human', 'Lock On: Modern Air Combat', \"Lock's Quest\", 'LocoRoco', 'LocoRoco 2', 'Lode Runner', 'Lode Runner 3-D', 'Logic Machines', 'Lollipop Chainsaw', 'London 2012: The Official Video Game of the Olympic Games', 'Looney Tunes Duck Dodgers Starring: Daffy Duck', 'Looney Tunes Racing', 'Looney Tunes: Acme Arsenal', 'Looney Tunes: Back in Action', 'Looney Tunes: Cartoon Conductor', 'Looney Tunes: Duck Amuck', 'Looney Tunes: Galactic Sports', 'Looney Tunes: Sheep Raider', 'Looney Tunes: Space Race', 'Loons: The Fight For Fame', 'Lord of Apocalypse', 'Lord of Arcana', 'Lord of Darkness', 'Lord of Magna: Maiden Heaven', 'Lord of the Rings: Battle for Middle-Earth', 'Lord of the Rings: Tactics', 'Lord of the Rings: The Third Age', 'Lords of the Fallen', 'Lost Dimension', 'Lost Heroes', 'Lost Heroes 2', 'Lost Horizon', 'Lost Kingdoms', 'Lost Kingdoms II', 'Lost Magic', 'Lost Odyssey', 'Lost Planet 2', 'Lost Planet 3', 'Lost Planet: Extreme Condition', 'Lost in Blue', 'Lost in Blue 2', 'Lost in Blue 3', 'Lost in Blue: Shipwrecked', 'Lost in Shadow', 'Lost: Via Domus', 'Lotus Challenge', 'Love Live! School Idol Paradise', \"Love Once: Mermaid's Tears\", 'Love Plus', 'Love Plus +', 'Lovely Lisa', 'Lovely Lisa and Friends', 'Lovely x Cation 1 & 2', 'Loving Life with Hello Kitty & Friends', 'Lowrider', 'Lucha Libre AAA: Heroes del Ring', \"Lucian Bee's: Justice Yellow / Evil Violet\", \"Lucian Bee's: Resurrection Supernova\", 'Lucky * Star: Ryouou Gakuen Outousai', 'Lucky Luke', 'Lufia: Curse of the Sinistrals', 'Lufia: The Ruins of Lore', \"Luigi's Mansion\", \"Luigi's Mansion: Dark Moon\", 'Lumines ll', 'Lumines: Electronic Symphony', 'Lumines: Puzzle Fusion', 'Luminous Arc', 'Luminous Arc 2', 'Luminous Arc 2 (JP sales)', 'Luminous Arc 3', 'Luminous Arc Infinity', 'Lumo', 'Lunacy', 'Lunar 2: Eternal Blue', 'Lunar 2: Eternal Blue Complete', 'Lunar 2: Eternal Blue(sales, but wrong system)', 'Lunar Knights', 'Lunar Legend', 'Lunar: Dragon Song', 'Lunar: Silver Star Harmony', 'Lunar: Silver Star Story', 'Lunar: Silver Star Story Complete', 'Lunatic Dawn Tempest', 'Lupin III: Lupin ni wa Shi o, Zenigata ni wa Koi o', 'Lupin Sansei: Shijou Saidai no Zunousen', 'Lupin the 3rd: Treasure of the Sorcerer King', 'Lux-Pain', 'Lux-Pain (JP sales)', 'Luxor 3', \"Luxor: Pharaoh's Challenge\", 'Luxor: The Wrath of Set', \"M&M's Adventure\", \"M&M's Beach Party\", \"M&M's Blast!\", \"M&M's Kart Racing\", 'M&Ms Shell Shocked', 'MAG: Massive Action Game', 'MAPLUS: Portable Navi', 'MAPLUS: Portable Navi 3', 'MC Groovz Dance Craze', 'MDK', 'MDK2 Armageddon', 'MLB', 'MLB 06: The Show', 'MLB 07: The Show', 'MLB 08: The Show', 'MLB 09: The Show', 'MLB 10: The Show', 'MLB 11: The Show', 'MLB 12: The Show', 'MLB 13: The Show', 'MLB 14: The Show', 'MLB 15: The Show', 'MLB 16: The Show', 'MLB 2000', 'MLB 2001', 'MLB 2002', 'MLB 2004', 'MLB 2005', 'MLB 2006', 'MLB 2K12 / NBA 2K12 Combo Pack', 'MLB 2K9 Fantasy All-Stars', 'MLB 99', 'MLB Front Office Manager', 'MLB Inside Pitch 2003', 'MLB Pennant Race', 'MLB Power Pros', 'MLB Power Pros 2008', 'MLB SlugFest 20-03', 'MLB SlugFest 20-04', 'MLB SlugFest 2006', 'MLB SlugFest Loaded', 'MLB Superstars', 'MRC: Multi-Racing Championship', 'MTV Celebrity Deathmatch', 'MTV Music Generator', 'MTV Music Generator 2', 'MTV Music Generator 3: This Is the Remix', 'MTV Sports: Pure Ride', 'MTX Mototrax', 'MVP 06 NCAA Baseball', 'MVP Baseball', 'MVP Baseball 2003', 'MVP Baseball 2004', 'MVP Baseball 2005', 'MX 2002 Featuring Ricky Carmichael', 'MX SuperFly featuring Ricky Carmichael', 'MX Unleashed', 'MX World Tour Featuring Jamie Little', 'MX vs. ATV Reflex', 'MX vs. ATV Supercross', 'MX vs. ATV Supercross Encore', 'MX vs. ATV Unleashed', 'MX vs. ATV Unleashed: On the Edge', 'MX vs. ATV Untamed', 'MX vs. ATV: Alive', 'MXGP 2', 'MXRider', 'Mace Griffin: Bounty Hunter', 'Mace: The Dark Age', 'Machi-Ing Maker 3 x Tousouchuu', 'Machi-ing Maker 4', 'Machi: Unmei no Kousaten', 'Machinarium', 'Machine Head', 'Macross 30: Ginga o Tsunagu Utagoe', 'Macross ? Scramble', 'Macross Ace Frontier', 'Macross Digital Mission VF-X', 'Macross Triangle Frontier', 'Macross Ultimate Frontier', 'Mad Dash Racing', 'Mad Dog McCree: Gunslinger Pack', 'Mad Maestro!', 'Mad Max (2015)', 'MadWorld', 'Madagascar', 'Madagascar: Escape 2 Africa', 'Madagascar: Operation Penguin', 'Madden Football 64', 'Madden NFL 06', 'Madden NFL 07', 'Madden NFL 08', 'Madden NFL 09', 'Madden NFL 09 All-Play', 'Madden NFL 10', 'Madden NFL 11', 'Madden NFL 12', 'Madden NFL 13', 'Madden NFL 15', 'Madden NFL 16', 'Madden NFL 17', 'Madden NFL 2000', 'Madden NFL 2001', 'Madden NFL 2002', 'Madden NFL 2003', 'Madden NFL 2004', 'Madden NFL 2005', 'Madden NFL 25', 'Madden NFL 97', 'Madden NFL 98', 'Madden NFL 99', 'Madden NFL Football', 'Madou Monogatari', 'Mafia', 'Mafia II', 'Mafia III', \"Mage Knight: Destiny's Soldier\", 'Magi: Aratanaru Sekai', 'Magi: The Labyrinth of Beginning', 'Magic Carpet', 'Magic Encyclopedia: Moonlight', 'Magic Pengel: The Quest for Color', 'Magic: The Gathering - Battlegrounds', 'Magic: The Gathering - Battlemage', 'Magical Starsign (JP sales)', 'Magical Starsign (US sales)', 'Magical Tetris Challenge', 'Magical Vacation', 'Magical ZhuZhu Princess: Carriages & Castles', \"Magician's Quest: Mysterious Times\", \"Magician's Quest: Town of Magic\", 'Magicians Academy', 'Magicka', 'Magicka Collection', 'Magna Carta 2', 'Magna Carta Portable', 'Magna Carta: Tears of Blood', 'Magnetica', 'Mah Jong Quest: Expeditions', 'Mahjong', 'Mahjong 300', 'Mahjong 3D: Warriors of the Emperor', 'Mahjong Cub3D', 'Mahjong Fight Club', 'Mahjong Fight Club DS: Wi-Fi Taiou', 'Mahjong Kakutou Club: Zenkoku Taisenban', 'Mahjong Master', 'Mahjong Taikai', 'Mahjong Taikai IV', 'Mahjong: Journey Quest for Tikal', 'Mahjongg Mysteries: Ancient Egypt', 'Mahou Sensei Negima! Kagai Jugyou ~Otome no Dokidoki Beachside~', 'Mahou Sensei Negima! Private Lesson 2: Ojama Shimasu Parasite de Chu', 'Mahou Sensei Negima!? Neo-Pactio Fight!!', \"Mahou Shoujo Lyrical Nanoha A's Portable: The Battle of Aces\", \"Mahou Shoujo Lyrical Nanoha A's Portable: The Gears of Destiny\", 'Mahouka Koukou no Rettousei: Out of Order', 'Mai-Otome Hime: Otome Butou Shi', 'Majesty 2 Collection', 'Majesty 2: The Fantasy Kingdom Sim', 'Maji de Manabu: LEC de Ukaru - DS Hishou Boki 3-Kyuu', 'Majin Tensei', 'Majin and the Forsaken Kingdom', 'Major Dream: Major DS Dream Baseball', 'Major Dream: Major Wii Nagero! Gyroball!!', 'Major League Baseball 2K10', 'Major League Baseball 2K11', 'Major League Baseball 2K12', 'Major League Baseball 2K13', 'Major League Baseball 2K5', 'Major League Baseball 2K6', 'Major League Baseball 2K7', 'Major League Baseball 2K8', 'Major League Baseball 2K8 Fantasy All-Stars', 'Major League Baseball 2K9', 'Major League Baseball Featuring Ken Griffey Jr', \"Major Minor's Majestic March\", 'Makai Kingdom: Chronicles of the Sacred Tome', 'Makai Senki Disgaea 3 Append Disc: Raspberyl-hen Hajime Mashita', 'Makai Senki Disgaea 4: Fuuka & Desco-hen Hajime Mashita', 'Makai Senki Disgaea Portable: Tsuushin Taisen Hajime Mashita', 'Makai Shin Trillion', 'Make 10: A Journey of Numbers', 'Maken Shao: Demon Sword', 'Making History: The Great War', 'Malice', 'Mame Goma 2: Uchi no Ko ga Ichiban!', 'Mame Goma: Honobo no Nikki', 'Mame Goma: Shiro to Kuro no Meikyuu', 'Mamoru-kun wa Norowarete Shimatta!', 'Man vs. Wild', 'Mana Khemia 2: Fall of Alchemy', 'Mana Khemia 2: Ochita Gakuen to Renkinjutsushi Tachi Portable+', 'Mana Khemia: Alchemists of Al-Revis', 'Mana Khemia: Alchemists of Al-Revis (JP sales)', 'Mana Khemia: Student Alliance', 'Manhunt', 'Manhunt 2', 'MapleStory DS', 'Mappy', 'Mar Heaven: Karudea no Akuma', 'Marble Madness / Klax', 'Marble Saga: Kororinpa', \"Marc Ecko's Getting Up: Contents Under Pressure\", 'March of the Penguins', 'Marginal #4: Idol of Supernova', \"Margot's Word Brain\", 'Marie no Atelier: Salburg no Renkinjutsushi', 'Marines: Modern Urban Combat', \"Mario & Luigi: Bowser's Inside Story\", 'Mario & Luigi: Dream Team', 'Mario & Luigi: Paper Jam', 'Mario & Luigi: Paper Jam & Mario Kart 7 Double Pack', 'Mario & Luigi: Partners in Time', 'Mario & Luigi: Superstar Saga', 'Mario & Sonic at the London 2012 Olympic Games', 'Mario & Sonic at the Olympic Games', 'Mario & Sonic at the Olympic Winter Games', 'Mario & Sonic at the Rio 2016 Olympic Games', 'Mario & Sonic at the Sochi 2014 Olympic Winter Games', 'Mario & Wario', 'Mario Bros.', 'Mario Golf', 'Mario Golf: Advance Tour', 'Mario Golf: Toadstool Tour', 'Mario Golf: World Tour', 'Mario Hoops 3 on 3', 'Mario Kart 64', 'Mario Kart 7', 'Mario Kart 8', 'Mario Kart DS', 'Mario Kart Wii', 'Mario Kart: Double Dash!!', 'Mario Kart: Super Circuit', 'Mario Paint', 'Mario Party', 'Mario Party 10', 'Mario Party 2', 'Mario Party 3', 'Mario Party 4', 'Mario Party 5', 'Mario Party 6', 'Mario Party 7', 'Mario Party 8', 'Mario Party 9', 'Mario Party Advance', 'Mario Party DS', 'Mario Party: Island Tour', 'Mario Party: Star Rush', 'Mario Pinball Land', 'Mario Power Tennis', 'Mario Sports Mix', 'Mario Strikers Charged', 'Mario Super Sluggers', 'Mario Superstar Baseball', 'Mario Tennis', 'Mario Tennis Open', 'Mario Tennis Ultra Smash', 'Mario Tennis: Power Tour', 'Mario no Super Picross', 'Mario vs. Donkey Kong', 'Mario vs. Donkey Kong 2: March of the Minis', 'Mario vs. Donkey Kong: Mini-Land Mayhem!', 'Mario vs. Donkey Kong: Tipping Stars', \"Mario's Picross\", 'Mark Davis Pro Bass Challenge', 'Mark McMorris Infinite Air', 'Marker Man Adventures', 'Marriage Royale: Prism Story', 'Martian Gothic: Unification', 'Martian Panic', 'Marvel Avengers: Battle for Earth', 'Marvel Nemesis: Rise of the Imperfects', 'Marvel Super Hero Squad', 'Marvel Super Hero Squad: Comic Combat', 'Marvel Super Hero Squad: The Infinity Gauntlet', 'Marvel Super Heroes', 'Marvel Super Heroes vs. Street Fighter', \"Marvel Superheroes 3D: Grandmaster's Challenge\", 'Marvel Trading Card Game', 'Marvel vs. Capcom 2: New Age of Heroes', 'Marvel vs. Capcom 3: Fate of Two Worlds', 'Marvel vs. Capcom Origins', 'Marvel vs. Capcom: Clash of Super Heroes', 'Marvel: Ultimate Alliance', 'Marvel: Ultimate Alliance 2', \"Mary King's Riding School\", \"Mary King's Riding School 2\", 'Mary-Kate and Ashley: Crush Course', 'Mary-Kate and Ashley: Girls Night Out', 'Mary-Kate and Ashley: Magical Mystery Mall', 'Mary-Kate and Ashley: Sweet 16 - Licenced to Drive', 'Mary-Kate and Ashley: Winners Circle', 'Mashiro Iro Symphony: *mutsu-no-hana', 'Mass Destruction', 'Mass Effect', 'Mass Effect 2', 'Mass Effect 3', 'Mass Effect Trilogy', \"Master Jin Jin's IQ Challenge\", 'Master of Illusion', 'Master of Monsters: Disciples of Gaia', 'Master of the Monster Lair', \"Mat Hoffman's Pro BMX\", \"Mat Hoffman's Pro BMX 2\", 'Mata Hari: Betrayal is only a Kiss Away', 'Match 3 Madness', 'Matchbox Cross Town Heroes', 'Math Blaster in the Prime Adventure', 'Math Play', 'Mathews Bowhunting', 'Mawashite Tsunageru Touch Panic', 'Max & the Magic Marker', 'Max Payne', 'Max Payne 2: The Fall of Max Payne', 'Max Payne 3', 'Maximo vs Army of Zin', 'Maximo: Ghosts to Glory', 'Maximum Capacity: Hotel Giant', 'Maximum Chase', 'Maximum Force', 'Maximum Racing: Crash Car Racer', 'Maximum Racing: Drag & Stock Racer', 'Maximum Racing: GP Classic Racing', \"May's Mystery: Forbidden Memories\", 'Mayhem 3D', \"Maze Craze: A Game of Cops 'n Robbers\", 'Mazes of Fate DS', 'McDROID', \"McFarlane's Evil Prophecy\", 'McGrath Vs. Pastrana Freestyle Motocross', 'Me & My Katamari', 'Meccha! Taiko no Tatsujin Master DS: 7-tsu no Shima no Daibouken', 'MechAssault', 'MechAssault 2: Lone Wolf', 'MechAssault: Phantom War', 'MechWarrior 2: 31st Century Combat', 'Mechanic Escape', 'Mechanic Master', 'Mechanic Master 2', 'Medabots 8', 'Medabots 9: Metabee / Rokusho', 'Medabots AX: Metabee', 'Medabots Dual: Kabuto / Kuwagata', 'Medabots Girls Mission: Metabee Ver. / Rokusho Ver.', 'Medabots: Infinity', 'Medabots: Metabee', 'Medal of Honor', 'Medal of Honor European Assault', 'Medal of Honor Heroes', 'Medal of Honor Heroes 2', 'Medal of Honor: Airborne', 'Medal of Honor: European Assault', 'Medal of Honor: European Assault (All Region sales)', 'Medal of Honor: European Assault (weekly JP sales)', 'Medal of Honor: Frontline', 'Medal of Honor: Infiltrator', 'Medal of Honor: Rising Sun', 'Medal of Honor: Underground', 'Medal of Honor: Vanguard', 'Medal of Honor: Warfighter', 'Medalot 7', 'Medarot 2: Kabuto / Kuwagata Version', 'Medarot 3: Kabuto / Kuwagata Version', 'Medarot 4: Kabuto / Kuwagata Version', 'Medarot 9: Kabuto Ver. / Kuwagata Ver.', 'Medarot DS: Kabuto / Kuwagata Ver.', 'Medarot: Kabuto / Kuwagata Version', 'MediEvil', 'MediEvil II', 'MediEvil: Resurrection', 'Medieval Games', 'Medieval II: Total War', 'Medieval II: Total War Gold Edition', \"Medieval Moves: Deadmund's Quest\", 'Mega Brain Boost', 'Mega Man', 'Mega Man & Bass', 'Mega Man 2', 'Mega Man 3', 'Mega Man 4', 'Mega Man 5', 'Mega Man 6', 'Mega Man 64', 'Mega Man 7', \"Mega Man 8 Anniversary Collector's Edition\", 'Mega Man Anniversary Collection', 'Mega Man Battle Chip Challenge', 'Mega Man Battle Network', 'Mega Man Battle Network 2', 'Mega Man Battle Network 3 Blue / White Version', 'Mega Man Battle Network 4: Red Sun / Blue Moon', 'Mega Man Battle Network 5: Double Team DS (JP sales)', 'Mega Man Battle Network 5: Double Team DS (US sales)', 'Mega Man Battle Network 5: Team Colonel / Protoman', 'Mega Man Battle Network 6: Cybeast Falzar / Gregar', 'Mega Man Battle Network: Operation Shooting Star', 'Mega Man II', 'Mega Man Legacy Collection', 'Mega Man Legends', 'Mega Man Legends 2', 'Mega Man Maverick Hunter X', 'Mega Man Network Transmission', 'Mega Man Powered Up', 'Mega Man Soccer', 'Mega Man Star Force 2: Zerker x Ninja / Saurian', 'Mega Man Star Force 3: Black Ace / Red Joker', 'Mega Man Star Force Dragon / Leo / Pegasus', 'Mega Man X', 'Mega Man X Collection', 'Mega Man X2', 'Mega Man X3', 'Mega Man X4', 'Mega Man X5', 'Mega Man X6', 'Mega Man X7', 'Mega Man X8', 'Mega Man X: Command Mission', 'Mega Man Xtreme', 'Mega Man Xtreme 2', 'Mega Man ZX', 'Mega Man ZX Advent', 'Mega Man Zero', 'Mega Man Zero 2', 'Mega Man Zero 3', 'Mega Man Zero 4', 'Mega Man Zero Collection', 'Mega Man: Battle & Chase', \"Mega Man: Dr. Wily's Revenge\", 'Mega Minis Volume 2', 'Mega Minis Volume 3', 'MegaTagmension Blanc + Neptune VS Zombies', 'Megamania', 'Megamind: Mega Team Unite', 'Megamind: The Blue Defender', 'Megamind: Ultimate Showdown', 'Megpoid the Music#', 'MeiQ no Chika Ni Shisu: A Maze to Eradicate Them All', 'Meiji Toukyou Renka', 'Meiji Toukyou Renka: Twilight Kiss', 'Meikyuu Cross Blood: Reloaded', 'Meitantei Conan & Kindaichi Shounen no Jikenbou: Meguri au Futari no Meitantei', 'Meitantei Conan: Aoki Houseki no Rinbukyoku', 'Meitantei Conan: Kieta Hakase to Machigai Sagashi no Tou', 'Meitantei Conan: Tantei Ryoku Trainer', 'Meitantei Evangelion', 'Melty Blood: Act Cadenza', 'Melty Blood: Actress Again', 'Memories Off', 'Memories Off #5: Encore', 'Memories Off #5: Togireta Film', 'Memories Off 6: Next Relation', 'Memories Off 6: T-Wave', 'Memories Off: Sorekara Again', 'Memories Off: Yubikiri no Kikou', 'Memories Off: Yubikiri no Kioku', 'Men in Black II: Alien Escape', 'Men in Black The Series: Crashdown', 'Men of Valor', 'Men of War', 'Men of War: Assault Squad', 'Men of War: Vietnam', 'Mercenaries 2: World in Flames', 'Mercenaries: Playground of Destruction', 'Mercury Meltdown', 'Mercury Meltdown Revolution', 'Meru Purana', \"Merv Griffin's Crosswords\", 'Mesaze!! Tsuri Master: Sekai ni Challenge! Hen', 'Metal Arms: Glitch in the System', 'Metal Dungeon', 'Metal Fight Beyblade', 'Metal Fight Beyblade Portable: Chouzetsu Tensei Vulcan Horses', 'Metal Fight Beyblade: Bakugami Susanoh Shuurai!', 'Metal Fight Beyblade: Choujou Kessen! Big Bang Bladers', 'Metal Gear Ac!d', 'Metal Gear Ac!d 2', 'Metal Gear Rising: Revengeance', 'Metal Gear Solid', 'Metal Gear Solid 2: Sons of Liberty', 'Metal Gear Solid 2: Substance', 'Metal Gear Solid 3: Snake Eater', 'Metal Gear Solid 3: Subsistence', 'Metal Gear Solid 4: Guns of the Patriots', 'Metal Gear Solid HD Edition', 'Metal Gear Solid Integral', 'Metal Gear Solid V: Ground Zeroes', 'Metal Gear Solid V: The Definitive Experience', 'Metal Gear Solid V: The Phantom Pain', 'Metal Gear Solid VR Missions', 'Metal Gear Solid: Digital Graphic Novel', 'Metal Gear Solid: Peace Walker', 'Metal Gear Solid: Peace Walker HD Edition', 'Metal Gear Solid: Portable Ops', 'Metal Gear Solid: Portable Ops Plus', 'Metal Gear Solid: Snake Eater 3D', 'Metal Gear Solid: Social Ops', 'Metal Gear Solid: The Essential Collection', 'Metal Gear Solid: The Essential Collection (JP sales)', 'Metal Gear Solid: The Legacy Collection', 'Metal Gear Solid: The Twin Snakes', 'Metal Max 2 Reloaded', 'Metal Max 3', 'Metal Max 4: Gekkou no Diva', 'Metal Max Returns', 'Metal Saga', 'Metal Saga: Hagane no Kisetsu', 'Metal Slug 3', 'Metal Slug 4 & 5', 'Metal Slug 7', 'Metal Slug Advance', 'Metal Slug Anthology', 'Metal Slug X', 'Metal Slug XX', 'Meteos', 'Meteos: Disney Magic', 'Metro 2033', 'Metro: Last Light', 'Metroid', 'Metroid Fusion', 'Metroid II: Return of Samus', 'Metroid Prime', 'Metroid Prime 2: Echoes', 'Metroid Prime 3: Corruption', 'Metroid Prime Hunters', 'Metroid Prime Pinball', 'Metroid Prime: Federation Force', 'Metroid Prime: Trilogy', 'Metroid: Other M', 'Metroid: Zero Mission', 'MetropolisMania', 'Mezase!! Tsuri Master DS', 'Mia Hamm Soccer 64', 'Miami Law', 'Miami Nights: Singles in the City', 'Miami Vice: The Game', 'Michael Jackson: The Experience', 'Michael Jackson: The Experience 3D', 'Michael Phelps: Push the Limit', \"Mickey's Speedway USA\", \"Mickey's Speedway USA (weekly JP sales)\", 'Micro Machines', 'Micro Machines 64 Turbo', 'Micro Machines V3', 'Micro Machines V4', 'Microsoft Flight Simulator', 'Microsoft Flight Simulator 2004: A Century of Flight', 'Microsoft Flight Simulator X', 'Microsoft Flight Simulator X Acceleration Expansion Pack', 'Microsoft Train Simulator', 'Middle-Earth: Shadow of Mordor', 'Midnight Club 3: DUB Edition', 'Midnight Club 3: DUB Edition (America weekly sales)', 'Midnight Club 3: DUB Edition Remix', 'Midnight Club II', 'Midnight Club: LA Remix', 'Midnight Club: Los Angeles', 'Midnight Club: Street Racing', 'Midnight Magic', 'Midnight Mysteries: The Edgar Allan Poe Conspiracy', 'Midnight Play! Pack', 'Midtown Madness 3', 'Midway Arcade Treasures', 'Midway Arcade Treasures 2', 'Midway Arcade Treasures 3', 'Midway Arcade Treasures: Extended Play', \"Midway Presents Arcade's Greatest Hits: The Atari Collection 1\", \"Midway's Greatest Arcade Hits\", \"Midway's Greatest Arcade Hits Volume 1\", 'Might & Magic Heroes VI', 'Might & Magic Heroes VII', 'Might & Magic X: Legacy', 'Might & Magic: Clash of Heroes', 'Mighty Beanz: Pocket Puzzles', 'Mighty No. 9', \"Mike Piazza's Strike Zone\", 'Mike Tyson Boxing', 'Mike Tyson Heavyweight Boxing', \"Mike Tyson's Punch-Out!!\", 'Military History: Commander - Europe at War', 'Million God', 'Millipede', 'Millipede / Super Breakout / Lunar Lander', \"Milo's Astro Lanes\", 'Mimana Iyar Chronicle', 'Mind Quiz', 'Mind Quiz: Your Brain Coach', 'Mind Your Language: Learn English! / French! / German! / Spanish! /Japanese!', 'Mind Zero', 'Mind over Matter', 'MindJack', 'Minds and Mystery: 5 Game Pack', 'Minecraft', 'Minecraft: Story Mode', 'Mini Ninjas', \"Mini-Yonku GB: Let's & Go!!\", \"Mini-Yonku Shining Scorpion: Let's & Go!!\", 'MiniCopter: Adventure Flight', 'Minna de Dokusho: Keatai Shousetsu Desu', 'Minna de Jibun no Setsumeisho: B-Kata, A-Kata, AB-Kata, O-Kata', 'Minna ga Shuyaku no NHK Kouhaku Quiz Kassen', 'Minna no Chizu', 'Minna no Chizu 2', 'Minna no Conveni', 'Minna no DS Seminar: Kanpeki Eitango Ryoku', 'Minna no DS Seminar: Kanpeki Kanji Ryoku', 'Minna no Ennichi', 'Minna no Golf Jou Vol.1', 'Minna no Joushiki Ryoku TV', 'Minna no Sukkiri', 'Minna to Issho', 'Minna to Kimi no Piramekino!', 'Minority Report: Everybody Runs', 'Minute to Win It', 'Miracle Girls Festival', \"Mirror's Edge\", \"Mirror's Edge Catalyst\", 'Mischief Makers', 'Misshitsu no Sacrifice', 'Missile Command', 'Mission Runway', 'Mission: Impossible', 'Mission: Impossible - Operation Surma', 'Mister Mosquito', 'Mister Slime', 'Mitsukete! Keroro Gunsou: Machigai Sagashi Daisakusen de Arimasu!', 'Miyako', 'Miyako: Awayuki no Utage', 'Mobil 1 Rally Championship', 'Mobile Light Force 2', 'Mobile Ops: The One Year War', 'Mobile Suit Gundam', 'Mobile Suit Gundam 00: Gundam Meisters', 'Mobile Suit Gundam Age: Universe Accel / Cosmic Drive', 'Mobile Suit Gundam Battlefield Record U.C.0081', 'Mobile Suit Gundam Seed', 'Mobile Suit Gundam Seed Destiny: Generation of C.E.', 'Mobile Suit Gundam Seed Destiny: Rengou vs. Z.A.F.T. II Plus', 'Mobile Suit Gundam Seed: Never Ending Tomorrow', 'Mobile Suit Gundam Seed: Rengou vs. Z.A.F.T. Portable', 'Mobile Suit Gundam Side Story I: Senritsu no Blue', 'Mobile Suit Gundam Side Story II: Aoi o Uketsugu Mono', 'Mobile Suit Gundam Side Story III: Sabakareshi Mono', 'Mobile Suit Gundam Side Story: Missing Link', 'Mobile Suit Gundam version 2.0', 'Mobile Suit Gundam: Climax U.C.', 'Mobile Suit Gundam: Crossfire', 'Mobile Suit Gundam: Encounters in Space', 'Mobile Suit Gundam: Extreme VS Force', 'Mobile Suit Gundam: Extreme VS Full Boost', 'Mobile Suit Gundam: Federation vs. Zeon', 'Mobile Suit Gundam: Giren no Yabou Zeon Dokuritsu Sensouden', 'Mobile Suit Gundam: Giren no Yabou- Zeon no Keifu', 'Mobile Suit Gundam: Gundam vs. Gundam', 'Mobile Suit Gundam: Gundam vs. Gundam NEXT PLUS', 'Mobile Suit Gundam: Gundam vs. Zeta Gundam', 'Mobile Suit Gundam: Journey to Jaburo', 'Mobile Suit Gundam: Lost War Chronicles', 'Mobile Suit Gundam: MS Sensen 0079', 'Mobile Suit Gundam: Mokuba no Kiseki', 'Mobile Suit Gundam: One Year War', 'Mobile Suit Gundam: Perfect One Year War', 'Mobile Suit Gundam: Zeonic Front', 'Mobile Suit Z Gundam: AEUG vs. Titans', 'Mobile Suit Z-Gundam', 'ModNation Racers', 'Model * Oshare Audition: Dream Girl', 'Modnation Racers: Road Trip', 'Moe Moe 2-Ji Daisenryaku 2', 'Moe Moe 2-ji Taisen (Ryoku) * Deluxe', 'Moe Star: Moeru Toudai Eigojuku', 'Moero! Nekketsu Rhythm Damashii: Osu! Tatakae! Ouendan! 2', 'Mojo!', 'Momotaro Douchuuki', 'Momotarou Dentetsu 11', 'Momotarou Dentetsu 12', 'Momotarou Dentetsu 15', 'Momotarou Dentetsu 16', 'Momotarou Dentetsu 20-Shuunen', 'Momotarou Dentetsu 7', 'Momotarou Dentetsu DS: Tokyo & Japan', 'Momotarou Dentetsu Happy', 'Momotarou Dentetsu Tag Match: Yuujou - Doryoku - Shouri no Maki!', 'Momotarou Dentetsu V', 'Momotarou Dentetsu World', 'Momotarou Dentetsu X: Kyuushuu-hen mo Arubai', 'Momu-chan Diet Wii: Figurobics by Chon Dayon', 'MonHun Nikki: Poka Poka Ailu Mura', 'MonHun Nikki: Poka Poka Ailu Mura G', 'Monaco Grand Prix', 'Monkey Hero', 'Monkey Island: Special Edition Collection', 'Monkey Madness: Island Escape', 'Monkey Mischief! Party Time', 'Monopoly', 'Monopoly Collection', 'Monopoly Party', 'Monopoly Streets', 'Monotaro Dentetsu 2010: Sengoku Ishin no Hero Daishuugou! no Maki', 'Monster 4X4: World Circuit', 'Monster 4x4: Masters of Metal', 'Monster 4x4: Stunt Racer', 'Monster Band', 'Monster Bomber', 'Monster Force', 'Monster Garage', 'Monster Guardians', 'Monster High 13 Wishes', 'Monster High: Ghoul Spirit', 'Monster High: New Ghoul in School', 'Monster House', 'Monster Hunter', 'Monster Hunter 2', 'Monster Hunter 4', 'Monster Hunter 4 Ultimate', 'Monster Hunter Diary: Poka Poka Airou Village DX', 'Monster Hunter Freedom', 'Monster Hunter Freedom 2', 'Monster Hunter Freedom 3', 'Monster Hunter Freedom Unite', 'Monster Hunter Frontier Online', 'Monster Hunter Frontier Online: Forward 1', 'Monster Hunter Frontier Online: Forward 2', 'Monster Hunter Frontier Online: Season 10', 'Monster Hunter Frontier Online: Season 9.0', 'Monster Hunter G', 'Monster Hunter Stories', 'Monster Hunter Tri', 'Monster Hunter X', 'Monster Jam', 'Monster Jam: Maximum Destruction', 'Monster Jam: Path of Destruction', 'Monster Jam: Urban Assault', 'Monster Kingdom: Jewel Summoner', 'Monster Lab', 'Monster Madness: Battle for Suburbia', 'Monster Madness: Grave Danger', 'Monster Mayhem: Build and Battle', 'Monster Racers', 'Monster Rancher', 'Monster Rancher 2', 'Monster Rancher 3', 'Monster Rancher 4', 'Monster Rancher Advance 2', 'Monster Rancher Battle Card: Episode II', 'Monster Rancher DS', 'Monster Rancher EVO', 'Monster Rancher Hop-A-Bout', 'Monster Strike 3DS', 'Monster Tale', 'Monster Truck Madness', 'Monster Truck Madness 64', 'Monster Trucks', 'Monster Trucks DS', 'Monster Trucks Mayhem', 'Monster Trux Arenas: Special Edition', 'Monster Trux Offroad', 'Monster! Bass Fishing', 'Monsters vs. Aliens', 'Monsters, Inc.', 'Monsters, Inc. Scream Arena', 'Monsters, Inc. Scream Team', 'Montessori Music', 'Moon', 'Moon Patrol', 'MorphX', 'Mortal Kombat', 'Mortal Kombat 3', 'Mortal Kombat 4', 'Mortal Kombat II', 'Mortal Kombat Kollection', 'Mortal Kombat Mythologies: Sub-Zero', 'Mortal Kombat Trilogy', 'Mortal Kombat X', 'Mortal Kombat vs. DC Universe', 'Mortal Kombat: Armageddon', 'Mortal Kombat: Deadly Alliance', 'Mortal Kombat: Deception', 'Mortal Kombat: Shaolin Monks', 'Mortal Kombat: Special Forces', 'Mortal Kombat: Tournament Edition', 'Mortal Kombat: Unchained', 'Mortimer Beckett and the Secrets of Spooky Manor', 'Moshi Monsters: Katsuma Unleashed', 'Moshi Monsters: Moshling Zoo', 'Moshi Monsters: Moshlings Theme Park', 'Moshi, Kono Sekai ni Kami-sama ga Iru to suru Naraba.', 'Mother 1+2', 'Mother 3', 'Mother Goose no Himitsu no Yakata', 'Motion Explosion!', 'MotionSports', 'MotionSports: Adrenaline', 'Moto Racer', 'Moto Racer 2', 'Moto Racer Advance', 'Moto Racer DS', 'Moto Racer World Tour', 'MotoGP', \"MotoGP '06\", \"MotoGP '07\", 'MotoGP 07', 'MotoGP 08', 'MotoGP 09/10', 'MotoGP 10/11', 'MotoGP 14 ', 'MotoGP 15', 'MotoGP 2', 'MotoGP 2: Ultimate Racing Technology', 'MotoGP 3 - Official Game of MotoGP', 'MotoGP 4 - Official Game of MotoGP', 'Motocross Mania', 'Motocross Mania 3', 'Motocross Maniacs Advance', 'Motor Toon Grand Prix (Japan)', 'Motor Trend presents Lotus Challenge', 'MotorHead', 'MotorStorm', 'MotorStorm RC', 'MotorStorm: Apocalypse', 'MotorStorm: Arctic Edge', 'MotorStorm: Pacific Rift', 'Motto Hayaku! Seikaku Ni! Suu Sense Keisan Ryuoku Up Training - SuuTore', 'Motto NUGA-CEL!', 'Motto TOEIC Test DS Training', 'Motto! SoniComi', 'Motto! Stitch! DS Rhythm de Rakugaki Daisakusen', 'Moujuutsukai to Oujisama', 'Moujuutsukai to Oujisama Portable', 'Moujuutsukai to Oujisama: Snow Bride', 'Moujuutsukai to Oujisama: Snow Bride Portable', 'Mount & Blade', 'Mount & Blade Collection', 'Mount & Blade: Warband', 'Mountain Bike Adrenaline', 'Mountain King', 'Mountain Sports', 'Mouse Trap', 'Mousetrap / Operation / Simon', 'Move Fitness', 'Moxie Girlz', 'Moyashimon DS', \"Mr Bean's Wacky World of Wii\", 'Mr. Do!', \"Mr. Do!'s Castle\", 'Mr. Driller', 'Mr. Driller 2', 'Mr. Driller: Drill Spirits', 'Ms Saga: A New Dawn', 'Ms. Pac-Man', 'Ms. Pac-Man Maze Madness', 'Ms. Pac-Man: Maze Madness', 'Ms. Pac-Man: Maze Madness / Pac-Man World', 'Mucha Lucha! Mascaritas of the Lost Code', 'Muchi Muchi Pork & Pink Sweets', 'Mugen Keitai Disgaea', 'Mugen Souls', 'Mugen Souls Z', 'Mugen no Frontier: Super Robot Taisen OG Saga EXCEED', 'Muppet RaceMania', 'Muppets Party Cruise', 'Murakumo: Renegade Mech Pursuit', 'Muramasa: The Demon Blade', 'Murder in Venice', 'Murder, She Wrote', 'Murdered: Soul Suspect', 'Musashi: Samurai Legend', 'Mushi Bugyou', 'Mushihimesama', 'Mushihimesama Futari Ver 1.5', 'Mushishi: Amefuru Sato', 'Mushroom Men: Rise of the Fungi', 'Mushroom Men: The Spore Wars', 'Music Maker', 'Music Maker: Rockstar', 'Musou Orochi Z', 'Musou Tourou', 'Muv-Luv Alternative', 'Muv-Luv Alternative: Total Eclipse', 'MuvLuv Double Pack', 'My Amusement Park', 'My Animal Centre', 'My Baby 3 & Friends', 'My Baby Boy', 'My Baby Girl', 'My Baby: First Steps', 'My Ballet Studio', 'My Body Coach', 'My Boyfriend', 'My Chinese Coach', 'My DoItAll', 'My Dress-Up', 'My English Coach: Para Hispanoparlantes', 'My Farm Around the World', 'My Fashion Studio', 'My First Dollhouse', 'My First Songs', 'My Fitness Coach', 'My Fitness Coach 2: Exercise and Nutrition', 'My Fitness Coach: Club', 'My French Coach', 'My Friends', 'My Frogger: Toy Trials', 'My Fun Facts Coach', 'My Healthy Cooking Coach', 'My Hero Academia: Battle for All', 'My Hero: Doctor', 'My Horse & Me', 'My Horse & Me: Riding for Gold', 'My Japanese Coach', 'My Little Baby', \"My Little Pony: Pinkie Pie's Party\", \"My Little Sister Can't Be This Cute Portable\", 'My Make-Up', 'My Pet Chimp', 'My Pet Shop', 'My Pet Shop (JP sales)', 'My SAT Coach with The Princeton Review', 'My Secret World by Imagine', 'My Spanish Coach', \"My Stop Smoking Coach: Allen Carr's EasyWay\", 'My Street', 'My Virtual Tutor: Reading Adventure First to Second Grade', 'My Virtual Tutor: Reading Adventure Kindergarten to First', 'My Virtual Tutor: Reading Adventure Pre-K to Kindergarten', 'My Weight Loss Coach', 'My Word Coach', 'My World, My Way (US sales)', 'MySims', 'MySims Agents', 'MySims Collection', 'MySims Kingdom', 'MySims Party', 'MySims Racing', 'MySims SkyHeroes', 'Myself; Yourself', 'Myst', 'Myst III: Exile', 'Myst IV: Revelation', 'Mystereet', 'Mystery Case Files: MillionHeir', 'Mystery Case Files: Ravenhearst', 'Mystery Case Files: The Malgrave Incident', 'Mystery Dungeon: Shiren the Wanderer', 'Mystery Legends: Beauty and the Beast', 'Mystery P.I. - Portrait of a Thief', 'Mystery Stories: Curse of the Ancient Spirits', 'Mystery Tales 2: The Spirit Mask', 'Mystery Tales of Time Travel', 'Mystery Trackers: The Void', 'Mystic Ark', 'Mystic Heroes', 'Mystical Ninja starring Goemon', 'Myth Makers: Orbs of Doom', 'Myth Makers: Super Kart GP', 'Myth Makers: Trixie in Toyland', 'Mytran Wars', 'N+', 'N2O: Nitrous Oxide', 'N3 II: Ninety-Nine Nights', 'N3: Ninety-Nine Nights', 'NANA: Live Staff Daiboshuu! Shoshinsha Kangei', 'NARC', 'NASCAR', \"NASCAR '14\", \"NASCAR '15\", 'NASCAR 06: Total Team Control', 'NASCAR 07', 'NASCAR 08', 'NASCAR 09', 'NASCAR 2000', 'NASCAR 2001', 'NASCAR 2005: Chase for the Cup', 'NASCAR 2011: The Game', 'NASCAR 98', 'NASCAR 99', 'NASCAR Heat', 'NASCAR Heat 2002', 'NASCAR Heat Evolution', 'NASCAR Kart Racing', 'NASCAR Racing', 'NASCAR Rumble', 'NASCAR The Game: Inside Line', 'NASCAR Thunder 2002', 'NASCAR Thunder 2003', 'NASCAR Thunder 2004', 'NASCAR Unleashed', 'NASCAR: Dirt to Daytona', 'NBA', 'NBA 06', 'NBA 07', 'NBA 08', 'NBA 09: The Inside', 'NBA 10: The Inside', 'NBA 2K', 'NBA 2K10', 'NBA 2K11', 'NBA 2K12', 'NBA 2K13', 'NBA 2K14', 'NBA 2K15', 'NBA 2K16', 'NBA 2K17', 'NBA 2K2', 'NBA 2K3', 'NBA 2K6', 'NBA 2K7', 'NBA 2K8', 'NBA 2K9', 'NBA Ballers', 'NBA Ballers: Chosen One', 'NBA Ballers: Phenom', 'NBA Ballers: Rebound', 'NBA Courtside 2 featuring Kobe Bryant', 'NBA Courtside 2002', 'NBA Hangtime', 'NBA Hoopz', 'NBA In The Zone', \"NBA In The Zone '98\", \"NBA In The Zone '99\", 'NBA Inside Drive 2002', 'NBA Inside Drive 2003', 'NBA Inside Drive 2004', 'NBA Jam', 'NBA Jam 2000', 'NBA Jam 2002', 'NBA Jam 99', 'NBA Jam Extreme', 'NBA Jam Tournament Edition', 'NBA Live 06', 'NBA Live 06 (All region sales)', 'NBA Live 06 (Weekly american sales)', 'NBA Live 07', 'NBA Live 08', 'NBA Live 09', 'NBA Live 09 All-Play', 'NBA Live 10', 'NBA Live 14', 'NBA Live 15', 'NBA Live 16', 'NBA Live 2000', 'NBA Live 2001', 'NBA Live 2002', 'NBA Live 2003', 'NBA Live 2004', 'NBA Live 2005', 'NBA Live 96', 'NBA Live 97', 'NBA Live 98', 'NBA Live 99', 'NBA ShootOut', \"NBA ShootOut '97\", 'NBA ShootOut 2000', 'NBA ShootOut 2001', 'NBA ShootOut 2002', 'NBA ShootOut 2003', 'NBA ShootOut 2004', 'NBA ShootOut 98', 'NBA Showtime: NBA on NBC', 'NBA Starting Five', 'NBA Street', 'NBA Street Homecourt', 'NBA Street V3', 'NBA Street Vol. 2', 'NBA Street: Showdown', 'NBA in the Zone 2000', 'NCAA Basketball 09', 'NCAA Basketball 10', 'NCAA Basketball Final Four 97', 'NCAA College Basketball 2K3', 'NCAA College Football 2K3', 'NCAA Final Four 2000', 'NCAA Final Four 2001', 'NCAA Final Four 2002', 'NCAA Final Four 2003', 'NCAA Final Four 2004', 'NCAA Football 06', 'NCAA Football 07', 'NCAA Football 08', 'NCAA Football 09', 'NCAA Football 09 All-Play', 'NCAA Football 10', 'NCAA Football 11', 'NCAA Football 12', 'NCAA Football 13', 'NCAA Football 14', 'NCAA Football 2000', 'NCAA Football 2001', 'NCAA Football 2002', 'NCAA Football 2003', 'NCAA Football 2004', 'NCAA Football 2005', 'NCAA Football 98', 'NCAA Football 99', 'NCAA GameBreaker 2000', 'NCAA GameBreaker 2001', 'NCAA GameBreaker 2003', 'NCAA GameBreaker 2004', 'NCAA Gamebreaker', 'NCAA Gamebreaker 99', 'NCAA March Madness 06', 'NCAA March Madness 07', 'NCAA March Madness 08', 'NCAA March Madness 2003', 'NCAA March Madness 2004', 'NCAA March Madness 2005', 'NCIS', 'NCIS 3D', 'NERF N-Strike', 'NERF N-Strike Elite', 'NERF N-Strike: Double Blast Bundle', 'NES Open Tournament Golf', 'NES Remix', 'NEVES', 'NFL 2K', 'NFL 2K1', 'NFL 2K2', 'NFL 2K3', 'NFL Blitz', 'NFL Blitz 20-02', 'NFL Blitz 20-03', 'NFL Blitz 2000', 'NFL Blitz 2001', 'NFL Blitz Pro', 'NFL Fever 2002', 'NFL Fever 2003', 'NFL Fever 2004', 'NFL GameDay', \"NFL GameDay '97\", 'NFL GameDay 2000', 'NFL GameDay 2001', 'NFL GameDay 2002', 'NFL GameDay 2003', 'NFL GameDay 2004', 'NFL GameDay 98', 'NFL GameDay 99', 'NFL Head Coach', 'NFL Head Coach 09', 'NFL QB Club 2001', 'NFL Quarterback Club 2000', 'NFL Quarterback Club 2002', 'NFL Quarterback Club 97', 'NFL Quarterback Club 98', 'NFL Quarterback Club 99', 'NFL Street', 'NFL Street 2', 'NFL Street 2 Unleashed', 'NFL Street 3', 'NFL Tour', 'NFL Xtreme', 'NFL Xtreme 2', 'NHL 06', 'NHL 07', 'NHL 08', 'NHL 09', 'NHL 10', 'NHL 11', 'NHL 12', 'NHL 13', 'NHL 14', 'NHL 15', 'NHL 16', 'NHL 17', 'NHL 2000', 'NHL 2001', 'NHL 2002', 'NHL 2003', 'NHL 2004', 'NHL 2005', 'NHL 2K10', 'NHL 2K11', 'NHL 2K3', 'NHL 2K6', 'NHL 2K7', 'NHL 2K8', 'NHL 2K9', 'NHL 97', 'NHL 98', 'NHL 99', \"NHL Blades of Steel '99\", 'NHL Blades of Steel 2000', 'NHL Breakaway 98', 'NHL Breakaway 99', 'NHL Championship 2000', 'NHL FaceOff', \"NHL FaceOff '97\", 'NHL FaceOff 2000', 'NHL FaceOff 2001', 'NHL FaceOff 2003', 'NHL FaceOff 98', 'NHL FaceOff 99', 'NHL Hitz 20-02', 'NHL Hitz 20-03', 'NHL Hitz Pro', 'NHL Legacy', 'NHL Open Ice', \"NHL Powerplay '96\", 'NHL Powerplay 98', 'NHL Rivals 2004', 'NHL Rock the Rink', 'NHL Slapshot', 'NHRA Championship Drag Racing', 'NHRA Drag Racing: Countdown to the Championship', 'NOëL: La Neige', 'NOëL: NOT DiGITAL', 'NPPL: Championship Paintball 2009', \"NTRA Breeders' Cup World Thoroughbred Championships\", 'Nacho Libre', \"Nagano Winter Olympics '98\", 'Nagano Winter Olympics 98', 'Nakayoshi All-Stars: Mezase Gakuen Idol', 'Namco Classic Fighter Collection', 'Namco Museum', 'Namco Museum 50th Anniversary (JP sales)', 'Namco Museum 64', 'Namco Museum Battle Collection', 'Namco Museum Battle Collection (JP sales)', 'Namco Museum DS', 'Namco Museum Megamix', 'Namco Museum Remix', 'Namco Museum Vol.1', 'Namco Museum Vol.2', 'Namco Museum Vol.3', 'Namco Museum Vol.4', 'Namco Museum Vol.5', 'Namco Museum: 50th Anniversary', 'Namco Museum: Virtual Arcade', 'Namco Soccer Prime Goal', 'Namco Tennis Smash Court', 'Nanashi no Game', 'Nanashi no Game Me', 'Nanatsuiro * Drops Pure!!', 'Nancy Drew: Alibi In Ashes', 'Nancy Drew: The Hidden Staircase', 'Nancy Drew: The Model Mysteries', 'Nancy Drew: The Mystery of the Clue Bender Society', 'Nancy Drew: The White Wolf of Icicle Creek', \"Nanda's Island\", 'Nano Assault', 'Nano Diver', 'NanoBreaker', 'Nanostray', 'Nanostray 2', 'Nanotek Warrior', 'Napoleon Dynamite: The Game', 'Napoleon: Total War', 'Naraku no Shiro', 'Narcissus: Moshimo Ashita ga Runara', 'Naruto RPG 2: Chidori vs Rasengan', 'Naruto RPG 3: Rejiuu vs Konoha Shoutai', 'Naruto Shippuden 3D: The New Era', 'Naruto Shippuden: Clash of Ninja Revolution 3', 'Naruto Shippuden: Dairansen! Kage Bunshin Emaki', 'Naruto Shippuden: Dragon Blade Chronicles', 'Naruto Shippuden: Gekito Ninja Taisen! EX', 'Naruto Shippuden: Gekito Ninja Taisen! EX 2', 'Naruto Shippuden: Gekito Ninja Taisen! EX 3', 'Naruto Shippuden: Gekito Ninja Taisen! Special', 'Naruto Shippuden: Kizuna Drive', 'Naruto Shippuden: Legends: Akatsuki Rising', 'Naruto Shippuden: Naruto vs. Sasuke', 'Naruto Shippuden: Ninja Council 4', 'Naruto Shippuden: Ninja Destiny 2', 'Naruto Shippuden: Ninja Destiny 3', 'Naruto Shippuden: Shinobi Rumble', 'Naruto Shippuden: Ultimate Ninja 4', 'Naruto Shippuden: Ultimate Ninja 5', 'Naruto Shippuden: Ultimate Ninja Heroes 3', 'Naruto Shippuden: Ultimate Ninja Impact', 'Naruto Shippuden: Ultimate Ninja Storm 2', 'Naruto Shippuden: Ultimate Ninja Storm 3', 'Naruto Shippuden: Ultimate Ninja Storm 4', 'Naruto Shippuden: Ultimate Ninja Storm Collection', 'Naruto Shippuden: Ultimate Ninja Storm Generations', 'Naruto Shippuden: Ultimate Ninja Storm Revolution', 'Naruto Shippuuden: Shinobi Retsuden III', 'Naruto Ultimate Collection', 'Naruto: Clash of Ninja', 'Naruto: Clash of Ninja (JP sales)', 'Naruto: Clash of Ninja 2', 'Naruto: Clash of Ninja Revolution', 'Naruto: Clash of Ninja Revolution 2', 'Naruto: Gekito Ninja Taisen! 3', 'Naruto: Gekito Ninja Taisen! 4', 'Naruto: Ninja Council', 'Naruto: Ninja Council 2 European Version', 'Naruto: Ninja Council 3', 'Naruto: Ninja Destiny', 'Naruto: Ninja Destiny (US sales)', 'Naruto: Path of the Ninja', 'Naruto: Path of the Ninja 2', 'Naruto: Powerful Shippuden', 'Naruto: Rise of a Ninja', 'Naruto: The Broken Bond', 'Naruto: Ultimate Ninja', 'Naruto: Ultimate Ninja (JP sales)', 'Naruto: Ultimate Ninja 2', 'Naruto: Ultimate Ninja 3', 'Naruto: Ultimate Ninja 3 (JP sales)', 'Naruto: Ultimate Ninja Heroes', 'Naruto: Ultimate Ninja Heroes (JP sales)', 'Naruto: Ultimate Ninja Heroes 2 - The Phantom Fortress', 'Naruto: Ultimate Ninja Storm', 'Naruto: Uzumaki Chronicles 2', 'Naruto: Uzumaki Chronicles 2 (JP sales)', 'NatGeo Challenge! Wild Life', 'Natalie Brooks: Mystery at Hillcrest High', 'National Geographic Challenge!', 'National Geographic Panda (JP sales)', 'National Geographic Panda (US sales)', 'Natsuiro High School: Seishun Hakusho', 'Natsuiro no Sunadokei', 'Natsuzora no Monologue', 'Natural Doctrine', 'Naughty Bear', 'Naval Assault: The Killing Tide', 'Naval Ops: Commander', 'Naval Ops: Warship Gunner', 'Naxat Soft Reachmania Vol. 1: CR Galaxy Angel', 'Nayuta no Kiseki', 'Nazo Waku Yakata: Oto no Ma ni Ma ni', 'Nazotoki Battle Tore! Densetsu no Makyuu o Fukkatsu Saseyo! ', 'Nectaris: Military Madness', 'Need For Speed: High Stakes', 'Need For Speed: Undercover', 'Need for Speed (2015)', 'Need for Speed Carbon', 'Need for Speed Carbon: Own the City', 'Need for Speed III: Hot Pursuit', 'Need for Speed Rivals', 'Need for Speed Underground', 'Need for Speed Underground 2', 'Need for Speed Underground Rivals', 'Need for Speed: Hot Pursuit', 'Need for Speed: Hot Pursuit 2', 'Need for Speed: Most Wanted', 'Need for Speed: Most Wanted 5-1-0', 'Need for Speed: Nitro', 'Need for Speed: Porsche Unleashed', 'Need for Speed: ProStreet', 'Need for Speed: Shift', 'Need for Speed: Shift 2 Unleashed', 'Need for Speed: The Run', 'Need for Speed: V-Rally', 'Negima!? 3-Jikanme ~Koi to Mahou to Sekaiju Densetsu~', 'Negima!? Chou Mahora Taisen Chuu: Checkiin Zenin Shuugou! Yappari Onsen Kichaimashitaa', 'Negima!? Chou Mahora Taisen Kattoiin, Keiyaku Shikkou Dechai masuu', 'Negima!? Dream Tactic Yumemiru Otome Princess', 'Neighborhood Games', 'Nekketsu Kouha Kunio-Kun SP: Rantou Kyousoukyoku', 'Nendoroid Generation', 'Neo Angelique', 'Neo Angelique Special', 'Neo Atlas', 'Neo Contra', 'NeoGeo Battle Coliseum', 'Neon Genesis Evangelion', 'Neon Genesis Evangelion 2nd Impression', 'Neopets Petpet Adventures: The Wand of Wishing', 'Neopets Puzzle Adventure', 'Neopets: The Darkest Faerie', 'Nep League DS', 'Nervous Brickdown', 'Net High', 'Netsu Chu! Pro Yakyuu 2002', 'Netsu Chu! Pro Yakyuu 2003', 'Nettou! Powerful Koushien', 'NeverDead', 'Neverland Card Battles', 'Neverwinter Nights', 'Neverwinter Nights 2', 'Neverwinter Nights 2: Mask of the Betrayer', 'Neverwinter Nights Diamond', 'New Atelier Rorona: Hajimari no Monogatari', 'New Carnival Games', 'New International Track & Field', 'New Interpretation Stranger of Sword City', 'New Legends', 'New Love Plus', 'New Play Control! Donkey Kong Jungle Beat', 'New Play Control! Mario Power Tennis', 'New Play Control! Pikmin', 'New Play Control! Pikmin 2', 'New Prince of Tennis: Go to the Top', 'New Super Luigi U', 'New Super Mario Bros.', 'New Super Mario Bros. 2', 'New Super Mario Bros. U', 'New Super Mario Bros. Wii', 'New Tokyo Legacy: Operation Babel', 'NewU Fitness First Mind Body, Yoga & Pilates Workout', 'Next Generation of Chaos', \"Ni Hao, Kai-lan: New Year's Celebration\", 'Ni Hao, Kai-lan: Super Game Day', 'Ni no Kuni: Wrath of the White Witch', 'NiGHTS into dreams...', 'NiGHTS: Journey of Dreams', 'Nichibeikan Pro Yakyuu: Final League', 'Nichibutsu Arcade Classics', 'NickToons: Racing', 'Nickelodeon Dance', 'Nickelodeon Fit', 'Nickelodeon Party Blast', 'Nickelodeon Team Umizoomi', 'Nicktoons Collection: Game Boy Advance Video Volume 1', 'Nicktoons Collection: Game Boy Advance Video Volume 2', 'Nicktoons Collection: Game Boy Advance Video Volume 3', 'Nicktoons: Attack of the Toybots', 'Nicktoons: Battle for Volcano Island', 'Nicktoons: Freeze Frame Frenzy', 'Nicktoons: MLB', \"Nicktoons: Movin'\", 'Nicktoons: Unite!', 'Nicola Kanshuu: Model * Oshare Audition', 'Nicola Kanshuu: Model * Oshare Audition 2', 'Nicola Kanshuu: Model Oshare * Audition Platina', 'NieR', 'Night Head: The Labyrinth', \"Night Warriors: Darkstalkers' Revenge\", 'Night Wizard the Video Game: Denial of the World', 'Night at the Museum: Battle of the Smithsonian', 'NightCaster', 'NightCaster II: Equinox', 'NightTruth: Explanation of the Paranormal - The Making of Nighttruth: Voice Selection', 'Nightmare Creatures', 'Nightmare Creatures II', 'Nights of Azure', 'Nightshade', 'Nihon Keizai Shinbunsha Kanshuu: Shiranai Mamade wa Son o Suru Mono ya Okane no Shikumi DS', 'Nihon Pro Mahjong Kishikai Kanshuu: Pro Ni Naru Mahjong DS', 'Nike+ Kinect Training', 'Niko Puchi Girls Runway', \"Nikoli's Pencil Puzzle\", 'Nil Admirari no Tenbin: Teito Genwaku Toukidan', 'Ninja Assault', 'Ninja Blade', 'Ninja Gaiden', 'Ninja Gaiden 3', 'Ninja Gaiden Black', 'Ninja Gaiden II', 'Ninja Gaiden Sigma', 'Ninja Gaiden Sigma 2', 'Ninja Gaiden: Dragon Sword', 'Ninja Hattori Kun: Ninja wa Shuugyou Degogiru no Maki', 'Ninja Reflex', 'Ninja Warriors', 'Ninja: Shadow of Darkness', 'Ninjabread Man', 'Ninjatown', 'Ninokuni: Shikkoku no Madoushi', 'Nintendo Land', 'Nintendo Presents: Crossword Collection', 'Nintendo Presents: New Style Boutique 2 - Fashion Forward', 'Nintendo Puzzle Collection', 'Nintendo World Cup', 'Nintendogs', 'Nintendogs + cats', 'Nintendogs and Cats Golden Retriever and New Friends', 'Nippon Daihyou Team no Kantoku ni Narou! Sekaihatsu Soccer RPG', 'Nippon no Asoko de', 'Nisekoi: Yomeiri!?', 'Nisenochigiri', 'Nisenochigiri: Omoide no Saki e', 'Nishijin Pachinko Monogatari 2', 'Nitrobike', 'Nitroplus Blasterz: Heroines Infinite Duel', 'No Fate! Only the Power of Will', 'No Fear Downhill Mountain Biking', \"No Man's Sky\", 'No More Heroes', 'No More Heroes 2: Desperate Struggle', \"No More Heroes: Heroes' Paradise\", 'No More Heroes: Red Zone', 'No One Can Stop Mr. Domino!', 'No Rules: Get Phat', 'No.1 Muscle Ranking - Kinniku Banzuke Vol. 1: Oregasaikyouno Otokoda!', 'No.1 Muscle Ranking - Kinniku Banzuke Vol. 2: Aratanarugenkai Enochousen!', 'Nobunaga no Yabou DS', 'Nobunaga no Yabou DS 2', 'Nobunaga no Yabou Online: Houou no Shou', 'Nobunaga no Yabou: Haouden', 'Nobunaga no Yabou: Kakushin with Power-Up Kit', 'Nobunaga no Yabou: Ranseiki', 'Nobunaga no Yabou: Reppuuden', 'Nobunaga no Yabou: Soutensoku with Power-Up Kit', 'Nobunaga no Yabou: Souzou', 'Nobunaga no Yabou: Tendou', 'Nobunaga no Yabou: Tendou with Power-Up Kit', 'Nobunaga no Yabou: Tenshoki', \"Nobunaga's Ambition (3DS)\", \"Nobunaga's Ambition II\", \"Nobunaga's Ambition: Iron Triangle\", \"Nobunaga's Ambition: Rise to Power\", \"Nobunaga's Ambition: Sphere of Influence\", \"Nobunaga's Ambition: Sphere of Influence - Sengoku Risshiden\", \"Nobunaga's Ambition: Tenshouki with Power-Up Kit HD Version\", 'Nodame Cantabile', 'Nodame Cantabile: Tanoshii Ongaku no Jikan Desu', 'Noddy in Toyland', 'Nogizaka Haruka no Himitsu Cosplay, Hajime Mashita', 'Nonomura Byoin no Hitobito', 'Nora to Koku no Koubou: Kiri no Mori no Majo', 'Norn + Nonette: Act Tune', 'Norn + Nonette: Last Era', 'Norn9: Norn + Nonette', 'Norse by Norsewest: The Return of the Lost Vikings', 'North American Hunting Extravaganza', 'North American Hunting Extravaganza 2', 'Nostalgia', 'Nounai Aeshe: IQ Suppli DS', 'Nounai Aeshe: IQ Suppli DS 2 - Sukkiri King Ketteisen', 'Nova Usagi no Game de Ryuugaku!? DS', 'Novastorm', \"Now! That's What I Call Music: Dance & Sing\", 'Nuclear Strike', 'Nuclear Strike 64', 'Nurarihyon no Mago: Hyakki Ryouran Taisen', 'Nyaruko-San: Nafushigatai Game no You na Mono', 'O.D.T.: Escape... Or Die Trying', 'O.M.G. 26 - Our Mini Games', 'OK! Puzzle Stars', 'OZMAFIA!! -vivace-', 'Obscure', 'Obscure: The Aftermath', 'Ocean Commander', 'Ochaken no Heya DS', 'Ochaken no Heya DS 2', 'Octomania', 'Odama', \"Oddworld: Abe's Exoddus\", \"Oddworld: Abe's Oddysee\", \"Oddworld: Munch's Oddysee\", \"Oddworld: Stranger's Wrath\", 'Odin Sphere', 'Odin Sphere: Leifthrasir', 'Odoru Daisousasen The Game: Sensuikan ni Sennyuu Seyo!', 'Off Road Challenge', 'Off-Road Drive', 'Off-World Interceptor Extreme', 'Ogre Battle 64: Person of Lordly Caliber', 'Ogre Battle Saga Episode Five: The March of the Black Queen', 'Ogre Battle Series: Tactics Ogre', 'Oil Rush', 'Ojyousama Express', 'Okaeri! Chibi-Robo! Happy Richie Oosouji', 'Okage: Shadow King', 'Okami', 'OkamiDen', 'Okashi na Shima no Peter Pan: Sweet Never Land', 'Olympic Hockey 98', 'Olympic Soccer: Atlanta 1996', 'Olympic Summer Games: Atlanta 1996', 'Omega Boost', 'Omega Labyrinth', 'Omega Quintet', 'Omerta: City of Gangsters', 'One Piece Mansion', 'One Piece Unlimited Cruise 1: The Treasure Beneath the Waves', 'One Piece Unlimited Cruise 2: Awakening of a Hero', 'One Piece Unlimited Cruise SP', 'One Piece: Burning Blood', 'One Piece: Daikaizoku Coliseum', 'One Piece: Gear Spirit', 'One Piece: Gigant Battle 2 Shin Sekai', 'One Piece: Gigant Battle!', 'One Piece: Grand Battle!', 'One Piece: Pirate Warriors', 'One Piece: Pirate Warriors 2', 'One Piece: Pirate Warriors 3', 'One Piece: Romance Dawn - Bouken no Yoake', 'One Piece: Super Grand Battle! X', 'One Piece: Unlimited Adventure', 'One Piece: Unlimited World Red', 'Onechanbara Special', 'Onechanbara Z Kagura', 'Onechanbara Z2: Chaos', 'Onechanbara: Bikini Samurai Squad', 'Onechanbara: Bikini Zombie Slayers', 'Oni', 'Onigokko! Portable', \"Onimusha 2: Samurai's Destiny\", 'Onimusha 3: Demon Siege', 'Onimusha Essentials', 'Onimusha Tactics', 'Onimusha: Blade Warriors', 'Onimusha: Dawn of Dreams', 'Onimusha: Warlords', 'Online Chess Kingdoms', 'Onna no Ko to Misshitsu ni Itara **shichau Kamoshirenai', 'Onsei Kanjou Sokuteiki: Kokoro Scan', 'Ontamarama', 'Ookami Kakushi', 'Ookami to Koushinryou: Boku to Horo no Ichinen', 'Ookami to Koushinryou: Omiowataru Kaze', 'Ookiku Furikabutte: Honto no Ace ni Nareru kamo', 'Open Season', 'Operation Abyss: New Tokyo Legacy', 'Operation Armored Liberty', 'Operation Darkness', 'Operation Flashpoint: Dragon Rising', 'Operation Flashpoint: Elite', 'Operation Flashpoint: Red River', 'Operation: Vietnam', 'Opoona', 'Option Tuning Car Battle', 'Orcs & Elves', 'Order Up!', 'Order Up!!', 'Order of War', 'Ore no Imouto ga Konna ni Kawaii Wake ga Nai Happy EnD', 'Ore no Imouto ga Konna ni Kawaii wake ga Nai Portable', 'Ore no Shikabane o Koete Yuke', 'Ore no Yome: Anata Dake no Hanayome', 'Ore wa Shoujo Mangaka', 'Ore-Sama Kingdom: Koi no Manga mo Debut o Mokushise! Doki Doki Love Lesson', 'Orega Kantoku Da! Gekitou Pennant Race', 'Oreshika: Tainted Bloodlines', 'Original Frisbee Disc Sports: Ultimate & Golf', 'Original Story from Fairy Tail: Gekitotsu! Kardia Daiseidou', 'Orphen: Scion of Sorcery', 'Oshare Majo Love and Berry: DS Collection', 'Oshiri Kajiri Mushi no Rhythm Lesson DS: Kawai Ongaku Kyoushitsu Kanshuu', 'Osu! Tatakae! Ouendan', 'Otogi 2: Immortal Warriors', 'Otogi: Myth of Demons', 'Otogirisou', 'Otoko Yukaku', 'Otome wa Oanesama Boku ni Koi Shiteru Portable', 'Otome wa Oanesama ni Koi Shiteru Portable: 2-Jin no Elder', 'Otomedius Excellent', 'Otomedius Gorgeous', 'Otometeki Koi Kakumei * Love Revo', 'Otometeki Koi Kakumei * Love Revo! Portable', 'Otometeki Koi Kakumei * Love Revo!! DS', 'Otona no Renai Shousetsu: Harlequin Selection', 'Ou to Maou to 7-nin no Himegimitachi: Shin Ousama Monogatari', 'Ouchi Mainichi Tamagotchi', 'Ouka Sengoku Portable', 'Oumagatoki: Kaidan Romance', 'Our House', 'Our House Party!', 'Ouran Koukou Host Bu', 'OutRun 2', 'OutRun 2006: Coast 2 Coast', 'Outdoors Unleashed: Africa 3D', 'Outdoors Unleashed: Alaska 3D', 'Outlaw Golf', 'Outlaw Golf 2', 'Outlaw Golf: Nine Holes of Christmas', 'Outlaw Tennis', 'Outlaw Volleyball', 'Outlaw Volleyball Remixed', 'Over G Fighters', 'Over the Hedge', 'Over the Hedge: Hammy Goes Nuts!', 'OverBlood', 'OverBlood 2', 'Overlord', 'Overlord II', 'Overlord: Dark Legend', 'Overlord: Minions', 'Overlord: Raising Hell', 'Overwatch', 'Oyaku de Asoberu DS Ehon: Ukkari Penelope', 'Ozzy & Drix', 'P.N.03 - Product Number Three', 'P.T.O. IV: Pacific Theater of Operations', 'PAC-MAN and the Ghostly Adventures', 'PANGYA: Fantasy Golf', 'PBR: Out of the Chute', 'PC Engine Best Collection: Tengai Makyou Collection', 'PC Engine Best Collention: Ginga Ojousama Densetsu Collection', 'PD Ultraman Battle Collection 64', 'PDC World Championship Darts 2008', 'PDC World Championship Darts 2009', 'PDC World Championship Darts: Pro Tour', 'PES 2009: Pro Evolution Soccer', 'PGA European Tour', 'PGA Tour 96', 'PGA Tour 97', 'PGR3 - Project Gotham Racing 3', 'PGR4 - Project Gotham Racing 4', 'PGR: Project Gotham Racing 2', \"PO'ed\", 'PQ2: Practical Intelligence Quotient', 'PQ: Practical Intelligence Quotient', 'PaRappa The Rapper', 'PaRappa The Rapper 2', \"Pac 'n Roll\", 'Pac-Man', 'Pac-Man & Galaga Dimensions', 'Pac-Man All-Stars', 'Pac-Man Championship Edition 2 + Arcade Game Series', 'Pac-Man Collection', 'Pac-Man Fever', 'Pac-Man Party', 'Pac-Man Party 3D', 'Pac-Man Pinball Advance', \"Pac-Man Player's Choice Bundle\", 'Pac-Man Power Pack', 'Pac-Man World', 'Pac-Man World 2', 'Pac-Man World 3', 'Pac-Man World Rally', 'Pac-Man and the Ghostly Adventures 2', 'Pac-Man: Adventures in Time', 'Pac-Pix', 'Pachi-Slot Aruze Oukoku 2', 'Pachi-Slot Aruze Oukoku 3', 'Pachi-Slot Aruze Oukoku 4', 'Pachi-Slot Higrashi no Naku Koro ni Matsuri', 'Pachi-Slot Kanzen Kouryaku 3: Universal Koushiki Gaido Volume 3', 'Pachi-Slot Teiou: Golgo 13 Las Vegas (JP sales, but wrong system)', 'PachiPara 13: Super Umi no Pachi-Pro Fuuunroku', 'PachiPara 14: Fuu to Kumo to Super Umi in Okinawa', 'PachiPara 15: Super Umi Monogatari in Okinawa 2', 'PachiPara 3D', 'PachiPara 3D: Ooumi Monogatari 2 - Pachi Pro Fuuunroku Hana', 'Pachinko Kamen Rider: Shocker Zenmetsu Daisakusen', 'Pachinko Kaou: Misora Hibari', 'Pachinko Wars II', 'Pachitte Chonmage Tatsujin 10: Pachinko Fuyu no Sonata', 'Pachitte Chonmage Tatsujin 12: Pachinko Ultraman', 'Pachitte Chonmage Tatsujin 13: Pachinko Hissatsu Shigotojin III', 'Pachitte Chonmage Tatsujin 15: Pachinko Fuyu no Sonata 2', 'Pachitte Chonmage Tatsujin 16: Pachinko Hissatsu Shigotojin III', 'Pacific Liberator', 'Paddington: Adventures in London', 'Painkiller', 'Painkiller: Hell & Damnation', 'Painkiller: Hell Wars', \"Pajama Sam: Don't Fear The Dark\", 'Pajama Sam: You are What You Eat From Your Head to Your Feet', 'Palais de Reine', 'Pandemonium 2', 'Pandemonium!', \"Pandora's Tower\", 'Panzer Dragoon', 'Panzer Dragoon II Zwei', 'Panzer Dragoon Orta', 'Panzer Dragoon Saga', 'Panzer General', 'Panzer Tactics', 'Paper Mario', 'Paper Mario: Color Splash', 'Paper Mario: Sticker Star', 'Paper Mario: The Thousand-Year Door', 'Paperboy', 'Paperboy / Rampage', 'ParaParaParadise', 'ParaWorld', 'Paragon', 'Paranormal Pursuit: The Gifted One', 'Parasite Eve', 'Parasite Eve II', 'Parfait', 'Parfait: Chocolat Second Style', 'Pariah', 'Paris-Dakar Rally', 'Parlor! Mini 2', 'Parlor! Mini 4', 'Parodius', 'Party Pigs: Farmyard Games', 'Pass the Pigs', 'Pastel Chime Continue', 'Patapon', 'Patapon 2', 'Patapon 3', 'Patrician IV', 'Pawly Pets: My Vet Practice', 'Paws & Claws Pet Vet: Australian Adventures', 'Paws & Claws: Dogs & Cats Best Friends', 'Paws & Claws: Marine Rescue', 'Paws & Claws: Pampered Pets', 'Paws & Claws: Pampered Pets 2', 'Paws & Claws: Pet Resort', 'Paws & Claws: Pet Vet', 'Paws & Claws: Pet Vet 2', 'Paws & Claws: Regal Resort', 'Payday 2', 'Payout Poker & Casino', 'Pe-Jongju to Manabu Kankokugo DS: Test-Hen', 'Peak Performance', 'Pebble Beach Golf Links', 'Peggle Nights', 'Peggle: Dual Shot', 'Pen 1 Grand Prix: Penguin no Mondai Special', 'PenPen TriIceLon', 'Pengo', 'Penguin no Mondai X: Tenkuu no 7 Senshi', \"Penguin no Mondai: Saikyou Penguin Densetsu! A Penguin's Troubles\", 'Penguin no Mondai: The World', 'Penguins of Madagascar', 'Penny Racers', 'Penny Racers Party: Turbo-Q Speedway', 'Peppa Pig: Fun and Games', 'Peppa Pig: The Game', 'Peppa Pig: Theme Park Fun', 'Percy Jackson and the Olympians: The Lightning Thief', 'Perfect Dark', 'Perfect Dark Zero', 'Perfect Weapon', 'Period Cube: Torikago no Amadeus', 'Persona', 'Persona 2: Eternal Punishment', 'Persona 4: Arena', 'Persona 4: Arena Ultimax', 'Persona 4: Dancing All Night', 'Persona 4: Golden', 'Persona 5', 'Persona Q: Shadow of the Labyrinth', 'Personal Trainer: Cooking', 'Personal Trainer: Math', 'Personal Trainer: Walking', 'Pet Alien: An Intergalactic Puzzlepalooza', 'Pet Pals: Animal Doctor', 'Pet Pals: New Leash on Life', 'Pet Shop Monogatari DS 2', 'Pet Vet: Down Under', 'Pet Zombies', 'Pet in TV', \"Peter Jackson's King Kong: The Official Game of the Movie\", \"Peter Jacobsen's Golden Tee Golf\", \"Peter Pan in Disney's Return to Never Land\", 'Petz Bunnyz', 'Petz Bunnyz Bunch', 'Petz Catz Clan', 'Petz Dogz 2', 'Petz Dogz Fashion', 'Petz Fantasy 3D', 'Petz Fantasy: Moonlight Magic', 'Petz Fantasy: Sunshine Magic', 'Petz Fashion: Dogz & Catz', 'Petz Hamsterz Superstarz', 'Petz Monkeyz House', 'Petz Nursery', 'Petz Pony: Beauty Pageant', 'Petz Puppyz & Kittenz', 'Petz Rescue: Endangered Paradise', 'Petz Rescue: Ocean Patrol', 'Petz Rescue: Wildlife Vet', 'Petz Sports', 'Petz Wild Animals: Dolphinz', 'Petz Wild Animals: Tigerz', 'Petz: Catz 2', 'Petz: Catz Playground', 'Petz: Crazy Monkeyz', 'Petz: Dogz Family', 'Petz: Dogz Pack', 'Petz: Dogz Talent Show', 'Petz: Dolphinz Encounter', 'Petz: Hamsterz Bunch', 'Petz: Hamsterz Life 2', 'Petz: Horse Club', 'Petz: Horseshoe Ranch', 'Petz: Horsez 2', 'Petz: Saddle Club', 'Phantasy Star Collection', 'Phantasy Star Nova', 'Phantasy Star Online', 'Phantasy Star Online 2', 'Phantasy Star Online 2: Episode 3 Deluxe Package', 'Phantasy Star Online Episode I & II', 'Phantasy Star Online Episode I & II Plus', 'Phantasy Star Online Episode III: C.A.R.D. Revolution', 'Phantasy Star Online Ver. 2', 'Phantasy Star Portable', 'Phantasy Star Portable 2', 'Phantasy Star Portable 2: Infinity', 'Phantasy Star Universe', 'Phantasy Star Universe: Ambition of the Illuminus', 'Phantasy Star Ø', 'Phantom Brave', 'Phantom Brave: The Hermuda Triangle', 'Phantom Brave: We Meet Again', 'Phantom Breaker', 'Phantom Crash', 'Phantom Dust', 'Phantom Kingdom Portable', 'Pharaoh', 'Pheasants Forever Wingshooter', 'Philosoma', 'Phineas and Ferb', 'Phineas and Ferb Ride Again', 'Phineas and Ferb: Across the 2nd Dimension', 'Phoenix', 'Phoenix Wright: Ace Attorney', 'Phoenix Wright: Ace Attorney - Dual Destinies', 'Phoenix Wright: Ace Attorney - Justice for All', 'Phoenix Wright: Ace Attorney - Trials and Tribulations', 'Phoenix Wright: Ace Attorney Trilogy', 'Phoenix Wright: Revived Turnabout', 'PhotoKano', 'Pia Carrot e Youkoso!! 2.5', 'Picross 2', 'Picross 3D', 'Picross 3D 2', 'Picross DS', 'Pictionary', 'Pictionary: Ultimate Edition', 'PictoImage', 'Picture Perfect Hair Salon', \"Piglet's Big Game\", 'Pikmin', 'Pikmin 2', 'Pikmin 3', 'Pillars of Eternity', 'Pillow Pets', 'Pilot ni Narou! 2', 'PilotWings Resort', 'Pilotwings', 'Pilotwings 64', 'Pimp My Ride', 'Pimp My Ride: Street Racing', 'Pinball', 'Pinball Hall of Fame: The Gottlieb Collection', 'Pinball Hall of Fame: The Williams Collection', 'Pinball Tycoon', 'Ping Pals', 'Pinkalicious', 'Pinobee: Wings of Adventure', 'Pipe Dreams 3D', 'Pipe Mania', 'Pippa Funnell 2: Farm Adventures', 'Pippa Funnell: Ranch Rescue', 'Pirates PlundArrr', 'Pirates of the Burning Sea', 'Pirates of the Caribbean', \"Pirates of the Caribbean: At World's End\", \"Pirates of the Caribbean: Dead Man's Chest\", 'Pirates of the Caribbean: The Curse of the Black Pearl', 'Pirates of the Caribbean: The Legend of Jack Sparrow', 'Pirates vs Ninja Dodgeball', 'Pirates: Duels on the High Seas', \"Pirates: Hunt For Blackbeard's Booty\", 'Pirates: Legend of the Black Buccaneer', 'Pirates: The Legend of Black Kat', 'Pitball', 'Pitfall 3D: Beyond the Jungle', 'Pitfall II: Lost Caverns', 'Pitfall!', 'Pitfall: The Big Adventure', 'Pitfall: The Lost Expedition', 'Pitfall: The Mayan Adventure', 'PixelJunk Monsters Deluxe', 'Pizza Delivery Boy', 'Planescape: Torment', 'Planet 51', 'Planet Monsters', 'Planet Puzzle League', 'Planet of the Apes', 'Planetarian: Chiisana Hoshi no Yume', 'Planetarium Creator Ohira Takayuki Kanshuu: HomeStar Portable - 21st Century Star Navigator', 'Plants vs. Zombies', 'Plants vs. Zombies: Garden Warfare', 'Plants vs. Zombies: Garden Warfare 2', 'Platinum Sudoku', 'Platypus', 'PlayStation All-Stars Battle Royale', 'PlayStation Move Heroes', 'PlayStation VR Worlds', 'Playboy: The Mansion', 'Playmobil Circus', 'Playmobil Knights', 'Playmobil Pirates', 'Playmobil Top Agents', 'Plushees', 'PoPoLoCrois', 'PoPoLoCrois (JP sales)', 'PoPoLoCrois Monogatari', 'PoPoLoCrois Monogatari II', 'PoPoLoCrois: Hajimari no Bouken', 'Pocket Dogs', 'Pocket Fighter', 'Pocket Monsters Stadium', 'Pocket Pets', 'Pocket Pool', 'Pocket Soccer League: Calciobit', 'Pocky & Rocky with Becky', 'Point Blank', 'Point Blank 2', 'Point Blank 3', 'Point Blank DS (JP sales)', 'Point Blank DS (US sales)', 'PokePark 2: Wonders Beyond', 'Pokemon Art Academy ', 'Pokemon Battle Revolution', 'Pokemon Black 2/Pokemon White 2', 'Pokemon Black/Pokemon White', 'Pokemon Box: Ruby & Sapphire', 'Pokemon Card GB2: Here Comes Team GR!', 'Pokemon Channel', 'Pokemon Conquest', 'Pokemon Dash', 'Pokemon Diamond/Pokemon Pearl', 'Pokemon FireRed/Pokemon LeafGreen', 'Pokemon Gold/Pokemon Silver', 'Pokemon HeartGold/Pokemon SoulSilver', 'Pokemon Mystery Dungeon: Explorers of Sky', 'Pokemon Mystery Dungeon: Explorers of Time/Explorers of Darkness', 'Pokemon Mystery Dungeon: Gates to Infinity', 'Pokemon Mystery Dungeon: Red/Blue Rescue Team', 'Pokemon Omega Ruby/Pokemon Alpha Sapphire', 'Pokemon Pinball', 'Pokemon Pinball: Ruby & Sapphire', 'Pokemon Puzzle League', 'Pokemon Ranger', 'Pokemon Ranger: Guardian Signs', 'Pokemon Ranger: Shadows of Almia', 'Pokemon Red/Pokemon Blue', 'Pokemon Ruby/Pokemon Sapphire', 'Pokemon Rumble Blast', 'Pokemon Rumble World', 'Pokemon Snap', 'Pokemon Stadium', 'Pokemon Sun/Moon', 'Pokemon Super Mystery Dungeon', 'Pokemon Trozei!', 'Pokemon X/Pokemon Y', 'Pokemon XD: Gale of Darkness', 'Poker for Dummies', 'Pokken Tournament', \"PokéPark Wii: Pikachu's Adventure\", 'Pokémon Beach Blank-out Blastoise / Go West Young Meowth Game Boy Advance Video', 'Pokémon Colosseum', 'Pokémon Crystal Version', 'Pokémon Emerald Version', 'Pokémon I Choose You / Squirtle Squad Game Boy Advance Video', 'Pokémon Mystery Dungeon: Blue Rescue Team', 'Pokémon Mystery Dungeon: Red Rescue Team (US weekly sales)', 'Pokémon Platinum Version', 'Pokémon Stadium 2', 'Pokémon Trading Card Game', 'Pokémon Yellow: Special Pikachu Edition', 'Pokémon: For Ho-Oh the Bells Toll!: Game Boy Advance Video', 'Pokémon: Johto Photo Finish: Game Boy Advance Video', 'Polar Bowler', 'Polaris', 'Polaris SnoCross', 'Polarium', 'Pole Position', 'Policenauts', 'Polly Pocket: Super Splash Island', \"Pong / Asteroids / Yars' Revenge\", 'Pong: The Next Level', 'Pony Friends', 'Pony Friends 2', 'Pony Friends: Mini Breeds Edition', 'Pony Luv', 'Pool Hall Pro', 'Pool Party', 'Pop Cutie! Street Fashion Simulation', 'Pop Cutie! Street Fashion Simulation (JP sales)', \"Pop'n Music\", \"Pop'n Music 12 Iroha\", \"Pop'n Music 13 Carnival\", \"Pop'n Music 14 Fever!\", \"Pop'n Music Portable\", \"Pop'n Music Portable 2\", \"Pop'n TwinBee: Rainbow Bell Adventure\", 'PopCap Arcade Vol 1', 'PopCap Arcade Vol 2', 'PopCap Hits!', 'PopCap Hits! Vol 2', 'PopStar Guitar', 'Popeye', 'Popeye: Rush for Spinach', 'Populous DS', 'Populous: The Beginning', \"Porky's\", 'Porsche Challenge', 'Port Royale 2', 'Port Royale 3', 'Portable Island: Tenohira Resort', 'Portal 2', 'Portal Runner', 'Post Mortem', 'Postman Pat: Special Delivery Service', 'Poupee Girl DS', 'Poupee Girl DS 2: Elegant Mint / Sweet Pink Style', 'Power Gig: Rise of the SixString', 'Power Play Pool', 'Power Pocket Koushien', 'Power Poke Dash', 'Power Pro GB', 'Power Pro Kun Pocket', 'Power Pro Kun Pocket 1+2', 'Power Pro Kun Pocket 10', 'Power Pro Kun Pocket 11', 'Power Pro Kun Pocket 12', 'Power Pro Kun Pocket 13', 'Power Pro Kun Pocket 14', 'Power Pro Kun Pocket 2', 'Power Pro Kun Pocket 3', 'Power Pro Kun Pocket 4', 'Power Pro Kun Pocket 5', 'Power Pro Kun Pocket 6', 'Power Pro Kun Pocket 8', 'Power Pro Kun Pocket 9', 'Power Pro Success Legends', 'Power Rangers Double Pack', 'Power Rangers Samurai', 'Power Rangers Super Megaforce ', 'Power Rangers: Dino Thunder', 'Power Rangers: Ninja Storm', 'Power Rangers: S.P.D.', 'Power Rangers: Super Legends', 'Power Rangers: Time Force', 'Power Rangers: Wild Force', 'Power Shovel', 'Power Spike Pro Beach Volleyball', 'Power Stakes', 'Power Stone', 'Power Stone Collection', 'PowerSlave', 'PowerUp Heroes', 'Powerbike', 'Powerdrome', 'Powerful Golf', 'Poy Poy', 'Poyo Poyo Kansatsu Nikki', 'Practise English!', 'Praetorians', 'Predator: Concrete Jungle', 'Prehistorik Man', 'Press Your Luck 2010 Edition', 'Pressure Cooker', \"Pretty Cure All Stars Everyone Gather ? Let's Dance!\", 'Pretty Rhythm Rainbow Live: Kira Kira My * Design', 'Pretty Rhythm: My Deco Rainbow Wedding', 'Prey', 'Prey the Stars', 'PriPara & Pretty Rhythm: PriPara de Tsukaeru Oshare Item 1450!', 'PriPara Mezameyo! Megami no Dress Design', 'PriPara Mezase! Idol Grand Prix No.1!', 'Pride FC: Fighting Championships', 'Primal', 'Primal Rage', 'Prince of Persia', 'Prince of Persia (2008)', 'Prince of Persia Trilogy', 'Prince of Persia: Revelations', 'Prince of Persia: Rival Swords', 'Prince of Persia: The Fallen King', 'Prince of Persia: The Forgotten Sands', 'Prince of Persia: The Sands of Time', 'Prince of Persia: The Two Thrones', 'Prince of Persia: Warrior Within', 'Prince of Stride', 'Princess Arthur', 'Princess Debut', 'Princess Frontier Portable', \"Princess Isabella: A Witch's Curse\", 'Princess Maker 2', 'Princess Maker: Yumemiru Yosei', 'Princess Natasha: Student, Secret Agent, Princess', 'Princess Saver! Eternal Love for My Lady', 'Princess in Love', 'Princess on Ice', 'Prinny 2: Dawn of Operation Panties, Dood!', 'Prinny: Can I Really Be The Hero? (US sales)', 'Prinny: Can I Really Be the Hero?', 'Prism Ark: Awake', 'Prism: Light the Way', 'Prison Architect', 'Prison Break: The Conspiracy', 'Prisoner of War', 'Pro Angler Moves', 'Pro Baseball Spirits 2015', 'Pro Cast Sports Fishing', 'Pro Cycling Manager 2016', 'Pro Evolution Soccer', 'Pro Evolution Soccer 2008', 'Pro Evolution Soccer 2008 (JP sales)', 'Pro Evolution Soccer 2010', 'Pro Evolution Soccer 2011 3D', 'Pro Evolution Soccer 2012', 'Pro Evolution Soccer 2013', 'Pro Evolution Soccer 2014', 'Pro Evolution Soccer 2015', 'Pro Evolution Soccer 2016', 'Pro Evolution Soccer 2017', 'Pro Farm 1', 'Pro Fishing Challenge', 'Pro Pinball', 'Pro Pinball: Big Race USA', 'Pro Race Driver', 'Pro Rally', 'Pro Wrestling', 'Pro Yaky? Spirits 2010', 'Pro Yaky? Spirits 2011', 'Pro Yaky? Spirits 2012', 'Pro Yaky? Spirits 2013', 'Pro Yaky? Spirits 2014', 'Pro Yaky? Spirits 3', 'Pro Yaky? Spirits 4', 'Pro Yaky? Spirits 5', 'Pro Yaky? Spirits 6', 'Pro Yakyuu Family Stadium', \"Pro Yakyuu Family Stadium '87\", \"Pro Yakyuu Family Stadium '88\", 'Pro Yakyuu Famista 2011', 'Pro Yakyuu Famista DS', 'Pro Yakyuu Famista DS 2009', 'Pro Yakyuu Famista DS 2010', \"Pro Yakyuu Greatest Nine '97\", 'Pro Yakyuu Greatest Nine 98', 'Pro Yakyuu Netsu Star 2006', 'Pro Yakyuu Netsu Star 2007', 'Pro Yakyuu Spirits 5 Kanzenban', 'Pro Yakyuu Team o Tsukurou!', 'Pro Yakyuu Team o Tsukurou! 2', 'Professional Farmer 2016', \"Professional Fisherman's Tour: Northern Hemisphere\", \"Professor Heinz Wolff's Gravity\", 'Professor Layton and the Azran Legacy', 'Professor Layton and the Curious Village', 'Professor Layton and the Diabolical Box', 'Professor Layton and the Last Specter', 'Professor Layton and the Mask of Miracle', 'Professor Layton and the Unwound Future', 'Professor Layton vs Phoenix Wright: Ace Attorney', 'Project CARS', 'Project Eden', 'Project FIFA World Cup', 'Project Gotham Racing', 'Project Gotham Racing (JP weekly sales)', 'Project Gotham Racing 2 (JP weekly sales)', 'Project Hacker: Kakusei', 'Project Overkill', 'Project Runway', 'Project Setsuna', 'Project Spark', 'Project Sylpheed: Arc of Deception', 'Project V6', 'Project X Zone', 'Project X Zone 2: Brave New World', 'Project: Horned Owl', 'Project: Snowblind', 'Prototype: Biohazard Bundle', 'Pryzm Chapter One: The Dark Unicorn', 'Psi-Ops: The Mindgate Conspiracy', 'Psychedelica of the Black Butterfly', 'Psychic Detective', 'Psychic Force', 'Psycho-Pass', 'Psycho-Pass: Mandatory Happiness', 'Psychonauts', 'Pucca Power Up', 'Puchi Puchi Virus', 'Puella Magi Madoka Magica Portable', 'Pulse Racer', 'Pump It Up: Exceed', 'Punch King', 'Punch-Out!!', 'Puppet Show 3: Lost Town', 'Puppeteer', 'Puppies 3D', 'Puppy Luv: Spa and Resort', 'Puppy Palace', 'Pure', 'Pure Futbol', 'Pure Pinball', 'Purr Pals', 'Pursuit Force', 'Pursuit Force: Extreme Justice', 'Puss in Boots', 'Putty Squad', 'Puyo Pop', 'Puyo Pop Fever', 'Puyo Pop Fever (JP sales)', 'Puyo Pop Fever(us sales)', 'Puyo Puyo 7', 'Puyo Puyo Sun', 'Puyo Puyo Sun 64', 'Puyo Puyo Sun Ketteiban', 'Puyo Puyo Tetris', 'Puyo Puyo! 15th Anniversary', 'Puyo Puyo!! 20th Anniversary', 'Puzzle & Action: Tant-R', 'Puzzle & Dragons', 'Puzzle & Dragons X: God Chapter / Dragon Chapter', 'Puzzle & Dragons Z + Super Mario Bros. Edition', 'Puzzle Challenge: Crosswords and More!', 'Puzzle Chronicles', 'Puzzle City', 'Puzzle Guzzle', 'Puzzle Kingdoms', 'Puzzle Quest 2', 'Puzzle Quest: Challenge of the Warlords', 'Puzzle Quest: Galactrix', 'Puzzle Star Sweep', 'Puzzle de Harvest Moon', 'Puzzler Brain Games', 'Puzzler Collection', 'Puzzler Mind Gym 3D', 'Puzzler World', 'Puzzler World 2', 'Q*bert', 'Q-Ball: Billiards Master', 'QUIZ PARTY', 'Qix', 'Quake', 'Quake 4', 'Quake II', 'Quake III: Revolution', 'Quantum Break', 'Quantum Redshift', 'Quantum Theory', 'Qubed', \"Queen's Blade: Spiral Chaos\", \"Queen's Gate: Spiral Chaos\", 'Quest 64', 'Quick Yoga Training', 'QuickSpot', 'Quiz Magic Academy DS', 'Quiz Magic Academy DS: Futatsu no Jikuu Koku', 'Quiz Mobile Gundam: Toi Senshi DX', 'Quiz Present Variety Q-Sama!! DS: Pressure Study x Atama Gai Kunaru Drill SP', 'Quiz! Hexagon II', 'Quo Vadis', 'R-Type Command', 'R-Type Command (correct US sales)', 'R-Type Delta', 'R-Type Final', 'R-Type III: The Third Lightning', 'R-Types', 'R.B.I. Baseball 2016', 'R.C. Pro-Am', 'R.U.S.E.', 'R/C Stunt Copter', 'R4: Ridge Racer Type 4', 'R: Racing Evolution', 'RACE On', 'RC Revenge Pro', 'RIFT', 'RIGS: Mechanized Combat League', 'RLH: Run Like Hell', 'RPG Maker', 'RPG Maker 3', 'RPG Maker II', 'RPG Tsukuru 2', 'RPG Tsukuru DS', 'RR64: Ridge Racer 64', 'RTX Red Rock', 'Rabbids Go Home', 'Rabbids Invasion: The Interactive TV Show', 'Rabbids Land', 'Rabbids Party Collection', 'Rabbids: Alive & Kicking', 'Race Driver 2006', 'Race Driver: Create & Race', 'Race Pro', 'Racing Gears Advance', 'Racing Lagoon', 'Racquet Sports', 'Rad Racer', 'Radiant Historia', 'Radiant Silvergun', 'Radiata Stories', 'Rage', 'Rage Racer', 'Ragnarok DS', 'Ragnarok Odyssey', 'Ragnarok: Hikari to Yami no Koujo', 'Raiden Fighters Aces', 'Raiden IV', 'Raiders of the Lost Ark', 'Rail Simulator', 'Railfan', 'Railroad Tycoon 3', 'Railroad Tycoon II', 'Rain (2013)', 'Rainbow Islands Revolution', 'Rainbow Islands: Revolution', 'Rakushou! Pachi-Slot Sengen 4', 'Rakushou! Pachi-Slot Sengen 5: Rio Paradise', 'Rakushou! Pachi-Slot Sengen 6: Rio 2 Cruising Vanadis', 'RalliSport Challenge', 'RalliSport Challenge 2', 'RalliSport Challenge(JP sales)', 'Rally Challenge 2000', 'Rally Championship', 'Rally Cross', 'Rally Cross 2', 'Rally Fusion: Race of Champions', 'Rampage', 'Rampage 2: Universal Tour', 'Rampage World Tour', 'Rampage: Total Destruction', 'Rampo', 'Rango: The Video Game', 'Ranma 1/2: Akanekodan Teki Hihou', 'Rapala Fishing Frenzy 2009', 'Rapala Pro Bass Fishing 2010', 'Rapala Pro Fishing', 'Rapala Tournament Fishing!', 'Rapala Trophies', 'Rapala for Kinect', \"Rapala's Fishing Frenzy\", 'Rapala: We Fish', 'Rapid Reload', 'Rare Replay', 'Rascal', 'Rat Attack!', 'Ratatouille', 'Ratatouille: Food Frenzy', 'Ratchet & Clank', 'Ratchet & Clank (2016)', 'Ratchet & Clank Collection', 'Ratchet & Clank Future: A Crack in Time', 'Ratchet & Clank Future: Quest for Booty', 'Ratchet & Clank Future: Tools of Destruction', 'Ratchet & Clank: All 4 One', 'Ratchet & Clank: Full Frontal Assault', 'Ratchet & Clank: Going Commando', 'Ratchet & Clank: Going Commando (JP weekly sales)', 'Ratchet & Clank: Into the Nexus', 'Ratchet & Clank: Quest for Booty', 'Ratchet & Clank: Size Matters', 'Ratchet & Clank: Up Your Arsenal', 'Ratchet & Clank: Up Your Arsenal (Weekly american sales)', 'Ratchet: Deadlocked', 'Rave Master', 'Rave Master: Special Attack Force!', 'Raven Squad: Operation Hidden Dagger', \"Raven's Cry\", 'Raving Rabbids: Travel in Time', 'Raving Rabbids: Travel in Time 3D', 'Raw Danger!', 'Raw Danger! (JP sales)', 'Ray Gigant', 'Ray Tracers', 'RayCrisis: Series Termination', 'RayStorm', 'Rayman', 'Rayman 10th Anniversary', 'Rayman 2: Revolution', 'Rayman 2: The Great Escape', 'Rayman 3', 'Rayman 3: Hoodlum Havoc', 'Rayman 3D', 'Rayman Advance', 'Rayman Arena', 'Rayman DS', 'Rayman Legends', 'Rayman Origins', 'Rayman Raving Rabbids', 'Rayman Raving Rabbids 2', 'Rayman Raving Rabbids: TV Party', \"Rayman: Hoodlum's Revenge\", \"Raze's Hell\", 'Razor Freestyle Scooter', 'Re-Volt', 'ReCore', 'Reactor', 'Reader Rabbit 1st Grade', 'Reader Rabbit 2nd Grade', 'Reader Rabbit Kindergarten', 'Reading Training', 'Ready 2 Rumble Boxing', 'Ready 2 Rumble Boxing: Round 2', 'Ready 2 Rumble Revolution', 'Real Bout Garou Densetsu', 'Real Bout Garou Densetsu Special: Dominated Mind', 'Real Crimes: The Unicorn Killer', 'Real Heroes: Firefighter', 'Real Pool', 'Real Robots Final Attack', 'Real Rode', 'Real Soccer 2008', 'Real Soccer 2009', 'Real Sound: Kaze no Riguretto', 'Real Time Conflict: Shogun Empires', 'Real World Golf', 'RealSports Baseball', 'RealSports Boxing', 'RealSports Football', 'RealSports Tennis', 'RealSports Volleyball', 'Reality Fighters', 'Really? Really! DS', 'Rebel Raiders: Operation Nighthawk', 'Rebelstar: Tactical Command', 'Rec Room Games', 'Reco Love: Blue Ocean', 'Record of Agarest War', 'Record of Agarest War 2', 'Record of Agarest War Zero', 'Record of Agarest War: Marriage', 'Record of Lodoss War: Eiyuu Sensou', 'Red Bull BC One', 'Red Dead Redemption', 'Red Dead Redemption: Undead Nightmare', 'Red Dead Revolver', 'Red Faction', 'Red Faction II', 'Red Faction: Armageddon', 'Red Faction: Guerrilla', 'Red Ninja: End of Honor', 'Red Orchestra 2: Heroes of Stalingrad', 'Red Steel', 'Red Steel 2', 'Red Stone DS: Akaki Ishi ni Michibikareshi Monotachi', 'RedCard 20-03', 'Reel Fishing', 'Reel Fishing II', 'Reel Fishing III', 'Reel Fishing Paradise 3D', \"Reel Fishing: Angler's Dream\", 'Reel Fishing: The Great Outdoors', 'Refrain no Chika Meikyuu to Majo no Ryodan', 'Reign of Fire', 'Reine des Fleurs', 'Reload: Target Down', 'Reloaded', 'Remember Me', 'Remington Great American Bird Hunt', 'Remington Super Slam Hunting: Africa', 'Remington Super Slam Hunting: Alaska', 'Remington Super Slam Hunting: North America', 'Renai 0 Kilometer', 'Renai Banchou: Inochi Meishi, Koiseyo Otome! Love is Power!!!', 'Renai Revenge', 'Renegade Racers', 'Rengoku II:  The Stairway To H.E.A.V.E.N.', 'Rengoku II: The Stairway to H.E.A.V.E.N. (jp sales)', 'Rengoku: The Tower of Purgatory', 'Republique', 'Rescue Heroes: Billy Blazes', 'Resident Evil', 'Resident Evil (Remake)', 'Resident Evil - Code: Veronica', 'Resident Evil - Code: Veronica X', 'Resident Evil 2', 'Resident Evil 2: Dual Shock Edition', 'Resident Evil 3: Nemesis', 'Resident Evil 4', 'Resident Evil 4 HD', 'Resident Evil 5', 'Resident Evil 5 HD', 'Resident Evil 6', 'Resident Evil Archives: Resident Evil', 'Resident Evil Archives: Resident Evil Zero', 'Resident Evil Chronicles HD', \"Resident Evil Director's Cut\", \"Resident Evil Director's Cut: Dual Shock Edition\", 'Resident Evil Outbreak File #2', 'Resident Evil Zero', 'Resident Evil: Dead Aim', 'Resident Evil: Deadly Silence', 'Resident Evil: Operation Raccoon City', 'Resident Evil: Outbreak', 'Resident Evil: Revelations', 'Resident Evil: Revelations 2', 'Resident Evil: Survivor', 'Resident Evil: The Darkside Chronicles', 'Resident Evil: The Mercenaries 3D', 'Resident Evil: The Umbrella Chronicles', 'Resident Evil: Umbrella Corps', 'Resistance 2', 'Resistance 3', 'Resistance Dual Pack', 'Resistance: Burning Skies', 'Resistance: Fall of Man', 'Resistance: Retribution', 'Resonance of Fate', 'Retro Atari Classics', 'Retro Game Challenge', 'Retro Game Challenge (US sales)', 'Return Fire', 'Return to Castle Wolfenstein: Operation Resurrection', 'Return to Castle Wolfenstein: Tides of War', 'Return to PopoloCrois: A Story of Seasons Fairytale', 'Reversal Challenge', 'Revolution X', 'Revolution: 25th Anniversary Collection', 'Rewrite', 'Rez', 'Rhapsody: A Musical Adventure', 'Rhythm Heaven', 'Rhythm Heaven: The Best+', 'Rhythm Tengoku', \"Rhythm Thief & the Emperor's Treasure\", 'Ribbit King', 'Richard Burns Rally', 'Ride', 'Ride 2', 'Ride to Hell', 'Ridge Racer', 'Ridge Racer 2', 'Ridge Racer 3D', 'Ridge Racer 6', 'Ridge Racer 7', 'Ridge Racer DS', 'Ridge Racer Revolution', 'Ridge Racer Unbounded', 'Ridge Racer V', 'Riding Spirits', 'Riding Stables: The Whitakers present Milton and Friends', 'Rimo-Cocoron', 'Ring of Red', 'Ringling Bros. and Barnum & Bailey Circus', 'Ringling Bros. and Barnum & Bailey: Circus Friends', 'Rinne no Lagrange: Kamogawa Days', 'Rio', 'Rise of Flight: Iron Cross Edition', 'Rise of Nations', 'Rise of Nations: Rise of Legends', 'Rise of Nightmares', 'Rise of the Kasai', 'Rise of the Tomb Raider', 'Risen', 'Risen 2: Dark Waters', 'Risen 3: Titan Lords', 'Rising Zan: The Samurai Gunman', 'Risk / Battleship / Clue', 'Risk: Global Domination', 'Rival Schools: United By Fate', 'Riven: The Sequel to Myst', 'River City Ransom EX', 'River City Ransom SP', 'River City Soccer Hooligans', 'River City Super Sports Challenge', 'River King: Mystic Valley (US sales)', 'River King: Mystic Valley (jp sales)', 'River King: Wonderful Journey', 'River Raid', 'River Raid II', 'Riviera: The Promised Land', 'Ro-Kyu-Bu!', 'Ro-Kyu-Bu! Lost Secret', 'Ro-Kyu-Bu! Secret Photo Op', 'Road & Track Presents: The Need for Speed', 'Road Rash', 'Road Rash 3D', 'Road Rash 64', 'Road Rash: Jailbreak', 'Road Trip', 'Road Trip: Shifting Gears', 'Road Trip: The Arcade Edition', 'RoadKill', 'Roadsters', 'Roadsters 99', 'Roary the Racing Car', \"Robert Ludlum's The Bourne Conspiracy\", 'Robin Hood: Defender of the Crown', 'Robinson: The Journey', 'Robo Pit', 'RoboCop', 'Robocalypse', 'Robopon 2: Cross Version', 'Robopon 2: Ring Version', 'Robot Alchemic Drive', 'Robotech: Battlecry', 'Robotech: Invasion', 'Robotech: The Macross Saga', 'Robotica', 'Robotics;Notes', 'Robotron 64', 'Robotron X', 'Robots', \"Rock 'N Roll Racing\", \"Rock 'N' Roll Adventures\", 'Rock Band', 'Rock Band 2', 'Rock Band 3', 'Rock Band 4', 'Rock Band Country Track Pack', 'Rock Band Country Track Pack 2', 'Rock Band Track Pack Volume 1', 'Rock Band Track Pack Volume 2', 'Rock Band Track Pack: Classic Rock', 'Rock Band Unplugged', 'Rock Band: Metal Track Pack', 'Rock Blast', \"Rock N' Roll Racing\", 'Rock Revolution', 'Rock of the Dead', 'RockMan & Forte', 'RockMan EXE 4.5 Real Operation', 'Rocket League', 'Rocket Power: Beach Bandits', 'Rocket Power: Dream Scheme', 'Rocket Power: Team Rocket Rescue', 'Rocket Power: Zero Gravity Zone', 'Rocket: Robot on Wheels', \"Rockin' Pretty\", 'Rocksmith', 'Rocksmith 2014', 'Rocksmith 2014 Edition Remastered', 'Rockstar Games Double Pack: Grand Theft Auto III & Grand Theft Auto Vice City', 'Rockstar Games presents Table Tennis', 'Rocky', 'Rocky Balboa', 'Rocky: Legends', 'Rodea the Sky Soldier', 'Rogue Galaxy', \"Rogue Galaxy: Director's Cut\", 'Rogue Ops', 'Rogue Trip: Vacation 2012', 'Rogue Trooper', 'Rogue Trooper: Quartz Zone Massacre', 'Rogue Warrior', 'Roll Away', 'Rollcage', 'Rollcage Stage II', 'RollerCoaster Tycoon', 'RollerCoaster Tycoon 2', 'RollerCoaster Tycoon 2: Triple Thrill Pack', 'RollerCoaster Tycoon 3', 'RollerCoaster Tycoon 3: Platinum', 'RollerCoaster Tycoon World', 'RollerCoaster Tycoon: Gold Edition', \"Rollin' Rascals\", 'Rolling Stone: Drum King', 'Romance of the Three Kingdoms (3DS)', 'Romance of the Three Kingdoms 13', 'Romance of the Three Kingdoms II', 'Romance of the Three Kingdoms III: Dragon of Destiny', 'Romance of the Three Kingdoms IV: Wall of Fire', 'Romance of the Three Kingdoms IX', 'Romance of the Three Kingdoms VI: Awakening of the Dragon', 'Romance of the Three Kingdoms VII', 'Romance of the Three Kingdoms VIII', 'Romance of the Three Kingdoms X', 'Romance of the Three Kingdoms XI', 'Romance of the Three Kingdoms XII', 'Romancing SaGa', 'Romancing SaGa 2', 'Romancing SaGa 3', 'Rome: Total War', 'Rome: Total War - Gold Edition', 'Romeo Vs. Juliet', 'Rondo of Swords (US sales)', 'Rondo of Swords (jp sales)', 'Roogoo Attack!', 'Roogoo Twisted Towers', 'Room Zoom: Race for Impact', 'Roommate Asami: Okusama wa Joshikousei', 'Rooms: The Main Building', 'Root Double: Before Crime After Days', 'Root Infinity Rexx', 'Root Letter', 'Rory McIlroy PGA Tour', 'Rosario to Vampire: Tanabata no Miss Youkai Gakuen', 'Rosco McQueen: Firefighter Extreme', 'Rose to Tasogare no Kojou', 'Roswell Conspiracies: Aliens, Myths & Legends', 'Routes PE', 'Royal Palace of White Sword and The City of Gentiles', 'Rozen Maiden: Duellwalzer', 'Rozen Maiden: Gebetgarten', \"Rubik's World\", 'Rudolph the Red-Nosed Reindeer', 'Rudra no Hihou', 'Ruff Trigger: The Vanocore Conspiracy', 'Rugby 06', 'Rugby 08', 'Rugby 15', 'Rugby 2004', 'Rugby 2005', 'Rugby Challenge 3', 'Rugby League 3', 'Rugby League Live', 'Rugby League Live 3', 'Rugby League Team Manager 2015', 'Rugby World Cup 2011', 'Rugby World Cup 2015', 'Rugrats Studio Tour', 'Rugrats in Paris: The Movie', 'Rugrats: Castle Capers', 'Rugrats: I Gotta Go Party', 'Rugrats: Royal Ransom', 'Rugrats: Scavenger Hunt', 'Rugrats: Search For Reptar', 'Rugrats: Totally Angelica', 'Rule of Rose', 'Rumble Racing', 'Rumble Roses', 'Rumble Roses XX', 'Runabout 3: Neo Age', 'Runaway: A Twist of Fate', 'Rune Factory 2: A Fantasy Harvest Moon', 'Rune Factory 3: A Fantasy Harvest Moon', 'Rune Factory 4', 'Rune Factory: A Fantasy Harvest Moon', 'Rune Factory: Frontier', 'Rune Factory: Tides of Destiny', 'Rune: Viking Warlord', 'Running Wild', 'Rurouni Kenshin: Enjou! Kyoto Rinne', 'Rurouni Kenshin: Meiji Kenkaku Romantan Saisen', 'Rurouni Kenshin: Meiji Kenyaku Romantan - Kansen', 'Rush', 'Rush 2: Extreme Racing USA', 'Rush Hour', 'Rygar: The Battle of Argus', 'Rygar: The Legendary Adventure', 'Ryse: Son of Rome', 'Ryu Ga Gotoku Kenzan!', 'Ryu-koku', 'S.C.A.R.S', 'S.L.A.I.: Steel Lancer Arena International', 'S.T.A.L.K.E.R.: Call of Pripyat', 'S.T.A.L.K.E.R.: Clear Sky', 'S.T.A.L.K.E.R.: Shadow of Chernobyl', 'S.Y.K Renshouden', 'S.Y.K Renshouden Portable', 'S.Y.K: Shinsetsu Saiyuuki', 'S.Y.K: Shinsetsu Saiyuuki Portable', 'SAW', 'SBK 2011: FIM Superbike World Championship', 'SBK Superbike World Championship', 'SBK X: Superbike World Championship', 'SBK09 Superbike World Championship', 'SBK: Snowboard Kids', 'SCORE International Baja 1000: The Official Game', 'SD Gundam Force', 'SD Gundam Force: Showdown!', 'SD Gundam G Century', 'SD Gundam G Generation', 'SD Gundam G Generation 3D', 'SD Gundam G Generation DS', 'SD Gundam G Generation Genesis', 'SD Gundam G Generation Neo', 'SD Gundam G Generation Portable', 'SD Gundam G Generation Seed', 'SD Gundam G Generation Spirits', 'SD Gundam G Generation Wars', 'SD Gundam G Generation World', 'SD Gundam G Generation Zero', 'SD Gundam G Generation-F', 'SD Gundam G Generation-F.I.F', 'SD Gundam G Generation: Cross Drive', 'SD Gundam G Generation: Gather Beat 2', 'SD Gundam G Generation: Overworld', 'SD Gundam GNext', 'SD Gundam GX', 'SD Gundam Gaiden: Knight Gundam Monogatari: Ooinaru Isan', 'SD Gundam Sangokuden Brave Battle Warriors: Shin Mirisha Taisen', 'SD Gundam: Gashapon Wars', 'SD Gundam: Over Galaxian', 'SD Gundam: Scad Hammers', 'SEGA Bass Fishing Duel', 'SEGA Classics Collection', 'SNK Arcade Classics Vol. 1', 'SNK vs. Capcom Card Fighters DS', 'SNK vs. Capcom: SVC Chaos', 'SNK vs. Capcom: The Match of the Millennium', 'SOCOM 3: U.S. Navy SEALs', 'SOCOM 4: U.S. Navy SEALs', 'SOCOM II: U.S. Navy SEALs', 'SOCOM: Tactical Strike', 'SOCOM: U.S. Navy SEALs', 'SOCOM: U.S. Navy SEALs Confrontation', 'SOCOM: U.S. Navy SEALs Fireteam Bravo', 'SOCOM: U.S. Navy SEALs Fireteam Bravo 2', 'SOCOM: U.S. Navy SEALs Fireteam Bravo 3', 'SOCOM: U.S. Navy SEALs: Combined Assault', 'SPRay', 'SRS: Street Racing Syndicate', 'SSX', 'SSX 3', 'SSX Blur', 'SSX On Tour', 'SSX Tricky', 'STORM: Frontline Nation', 'SWAT 4', 'SWAT: Global Strike Team', 'SWAT: Target Liberty', 'SX Superstar', 'SaGa 2: Hihou Densetsu - Goddess of Destiny', 'SaGa 3: Jikuu no Hasha - Shadow or Light', 'SaGa Frontier', 'SaGa Frontier 2', \"Saban's Power Rangers: Lightspeed Rescue\", 'Sabre Wulf', 'Sabrina The Teenage Witch: Potion Commotion', 'Sacra Terra: Angelic Night', 'Sacred 2: Fallen Angel', 'Sacred 3', 'Sacred Blaze', 'Sacred Gold', 'Saenai Kanojo no Sodatekata: Blessing Flowers', 'Safari Adventures: Africa', 'SafeCracker: The Ultimate Puzzle Adventure', 'Saigo no Yakusoku no Monogatari', 'Saihai no Yukue', 'Saikyou Habu Shogi', 'Sailor Moon', 'Saint', 'Saint Seiya Omega: Ultimate Cosmo', 'Saint Seiya: Brave Soldiers', 'Saint Seiya: Sanctuary Battle', \"Saint Seiya: Soldiers' Soul\", 'Saint Seiya: The Hades', 'Saints Row', 'Saints Row 2', 'Saints Row IV', 'Saints Row: Gat out of Hell', 'Saints Row: The Third', 'Saiyuki: Journey West', 'Saiyuuki: Kinkaku, Ginkaku no Inbou', 'Saka Agari Hurricane Portable', 'Saka-Tsuku DS: Touch and Direct', 'Saki Portable', 'Saki: Achiga-Hen Portable', 'Saki: Zenkoku-hen', 'Sakigake!! Otokojuku - Nihon yo, Kore ga Otoko Dearu!', 'Sakura Sakura: Haru Urara', 'Sakura Taisen 2 - Kimi, Shinitamou Koto Nakare', 'Sakura Taisen Hanagumi Tsuushin', 'Sakura Wars', 'Sakura Wars 1 & 2', 'Sakura Wars 2: Kimi, Shinitamou koto Nakare', 'Sakura Wars 3: Paris wa Moeteiru ka', 'Sakura Wars 4: Koi Seyo,Otome', 'Sakura Wars GB', 'Sakura Wars: Atsuki Chishio Ni', 'Sakura Wars: So Long, My Love', 'Sakura-Sou no Pet na Kanojo', \"Sally's Salon\", 'Salon Superstar', 'Salt Lake 2002', 'Saltwater Sportfishing', 'Sam & Max: Beyond Time and Space', 'Sam & Max: Season One', 'Samantha Swift and the Hidden Roses of Athena', 'Samba De Amigo', 'Sammy Sosa High Heat Baseball 2001', 'Samurai & Dragons', 'Samurai Champloo: Sidetracked', 'Samurai Deeper Kyo', 'Samurai Dou Portable', 'Samurai Jack: The Amulet of Time', 'Samurai Jack: The Shadow of Aku', 'Samurai Shodown', 'Samurai Shodown Anthology', 'Samurai Shodown Anthology (JP sales)', 'Samurai Shodown II', 'Samurai Shodown III', 'Samurai Shodown Sen', 'Samurai Shodown V', 'Samurai Shodown: Warrios Rage', 'Samurai Spirits (CD)', 'Samurai Spirits: Tenkaichi Kenkakuden', 'Samurai Warriors', 'Samurai Warriors 2', 'Samurai Warriors 2: Empires', 'Samurai Warriors 2: Xtreme Legends', 'Samurai Warriors 2: Xtreme Legends (JP sales)', 'Samurai Warriors 3', 'Samurai Warriors 4', 'Samurai Warriors 4-II', 'Samurai Warriors 4: Empires', 'Samurai Warriors Chronicles', 'Samurai Warriors Chronicles 2nd', 'Samurai Warriors Chronicles 3', 'Samurai Warriors: Katana', 'Samurai Warriors: Sanada Maru', 'Samurai Warriors: State of War', 'Samurai Warriors: Xtreme Legends', 'Samurai Western', 'San Francisco Rush 2049', 'San Francisco Rush: Extreme Racing', 'San Goku Shi DS 2', 'San Goku Shi DS 3', 'San Goku Shi Taisen DS', 'San Goku Shi Taisen Ten', 'San Goku Shi V', 'San-X Character Channel: All-Star Daishuugou!', 'San-X Land: Theme Park de Asobou!', 'San-X: Chara Sagashi Land', 'Sands of Destruction', 'Sangoku Koi Senki: Omoide Gaeshi - CS Edition', 'Sangoku Koi Senki: Otome no Heihou!', 'Sansuu Puzzle de Migaku: Gakken Otona no Shikou Sense', \"Santa Claus Is Comin' to Town!\", 'Sarah: Keeper of the Unicorn', 'Saru! Get You! Million Monkeys', 'Saru! Get You! Pipo Saru Senki', 'Saru! Get You! SaruSaru Daisakusen', 'Satisfashion', 'Satomi Hakkenden: Hachi Tamanoki', 'Saturday Night Slam Masters', 'Saturday Night Speedway', 'Saturn Bomberman', 'Savage Skies', 'Saw II: Flesh & Blood', 'Scaler', 'Scared Rider Xechs', 'Scarface: Money. Power. Respect.', 'Scarface: The World is Yours', 'Scarlett: Nichijou no Kyoukaisen', 'Scene It? Box Office Smash', 'Scene It? Bright Lights! Big Screen!', 'Scene It? Lights Camera Action', 'Scene It? Twilight', 'Schlag den Raab', 'School Days LxH', 'Science Papa', 'Scooby Doo and the Cyber Chase', 'Scooby-Doo', 'Scooby-Doo 2: Monsters Unleashed', 'Scooby-Doo and the Cyber Chase', 'Scooby-Doo! Classic Creep Capers', 'Scooby-Doo! First Frights', 'Scooby-Doo! Mystery Mayhem', 'Scooby-Doo! Night of 100 Frights', 'Scooby-Doo! Unmasked', \"Scooby-Doo! Who's Watching Who?\", 'Scooby-Doo! and the Spooky Swamp', 'Scrabble', 'Scrabble (Others sales)', 'Scrabble 2007 Edition', 'Scrabble Blast!', 'ScrapLand', 'Scribblenauts', 'Scribblenauts Unmasked: A DC Comics Adventure', 'Scribblenauts: Unlimited', 'Scripps Spelling Bee', 'Scurge: Hive', 'Sea Monsters: A Prehistoric Adventure', 'Sea Park Tycoon', 'SeaBlade', \"SeaWorld Adventure Parks: Shamu's Deep Sea Adventure\", 'Seaman', 'Seaman 2: Peking Genjin Ikusei Kit', 'Seaman: Kindan no Pet - Gaze Hakushi no Jikken Shima', 'Second Sight', 'Secret Agent Barbie: Royal Jewels Mission', 'Secret Agent Clank', 'Secret Agent Clank(US sales)', 'Secret Files 2: Puritas Cordis', 'Secret Files: Tunguska', 'Secret Game Portable', 'Secret Service', 'Secret Service: Ultimate Sacrifice', 'Secret Weapons Over Normandy', 'Secret of Mana', 'Secrets of the Titanic', 'Section 8', 'Seek and Destroy', 'Sega Ages 2500 Series Vol. 26: Dynamite Deka', 'Sega Ages 2500 Series Vol. 29: Monster World Complete Collection', 'Sega Ages 2500 Series Vol. 32: Phantasy Star Complete Collection', 'Sega Ages 2500 Series Vol. 33: Fantasy Zone Complete Collection', 'Sega Arcade Gallery', 'Sega Bass Fishing', 'Sega Casino', 'Sega GT', 'Sega GT 2002', 'Sega GT Online', 'Sega Golf Club: Miyazato San Kyoudai Naizou', 'Sega Rally 2006', 'Sega Rally Championship', 'Sega Rally Championship 2', 'Sega Rally Revo', 'Sega Smash Pack', 'Sega Soccer Slam', 'Sega Superstars', 'Sega Superstars Tennis', 'Sega Touring Car Championship', 'Seiken Densetsu 3', 'Seinaru Kana: Orichalcum no Na no Motoni', 'Seisou no Amazones', 'Seitokai no Ichizon: DS-suru Seitokai', 'Sekai no Gohan Shaberu! DS Oryouri Navi', 'Sekai no Hate Made Itte Q! Chinjuu Hunter Mono no Daibouken', 'Sekirei: Mirai Kara no Okurimono', 'Self-Defense Training Camp', 'Sengoku', 'Sengoku Basara 2', 'Sengoku Basara 2 Heroes', 'Sengoku Basara 3 Utage', 'Sengoku Basara 4', 'Sengoku Basara 4: Sumeragi', 'Sengoku Basara X', 'Sengoku Basara: Battle Heroes', 'Sengoku Basara: Chronicle Heroes', 'Sengoku Basara: Samurai Heroes', 'Sengoku Basara: Sanada Yukimura-Den', 'Sengoku Cyber: Fujimaru Jigokuhen', 'Sengoku Efuda Yuugi: Hototogisu Ran', 'Sengoku Efuda Yuugi: Hototogisu Tairan', 'Sengoku Hime 2 Arashi: Hyakubana Senran Tatsukaze no Gotoku', 'Sengoku Hime: Senran ni Mau Otometachi', 'Sengoku Musou 3 Empires', 'Sengoku Musou 3 Z', 'Sengoku Musou 3 Z Special', 'Sengoku Musou 3: Moushouden ', 'Sengoku Otome: Legend Battle', 'Senjou no Waltz', 'Senko no Ronde DUO', 'Senran Kagura 2: Deep Crimson ', 'Senran Kagura Burst: Guren no Sh?jo-tachi', 'Senran Kagura Shinovi Versus: Sh?jo-tachi no Sh?mei', 'Senran Kagura: Bon Appétit!', 'Senran Kagura: Estival Versus', 'Senran Kagura: Sh?jo-tachi no Shinei', 'Senritsu no Stratus', 'Sentimental Graffiti', 'Sentimental Graffiti 2', 'Sentimental Graffiti: First Window', 'Sentou Kokka Air Land Battle', 'Sentouchu: Densetsu no Shinobi to Survival Battle!', 'Serious Sam', 'Serious Sam 3: BFE', 'Serious Sam Advance', 'Serious Sam HD: Gold Edition', 'Serious Sam II', 'Serious Sam: Next Encounter', \"Sesame Street: Cookie's Counting Carnival\", \"Sesame Street: Elmo's A-to-Zoo Adventure\", \"Sesame Street: Elmo's Letter Adventure\", \"Sesame Street: Elmo's Number Journey\", 'Sesame Street: Once Upon A Monster', 'Sesame Street: Ready, Set, Grover!', 'Seven Samurai 20XX', 'Seven: Molmorth no Kiheitai', 'Shaberu! DS Oryouri Navi: Marugoto Teikoku Hotel: Saikouhou no Ryouri-chou ga Oshieru Katei Ryouri', 'Shadow Hearts', 'Shadow Hearts: Covenant', 'Shadow Hearts: From The New World', 'Shadow Madness', 'Shadow Man', 'Shadow Man: 2econd Coming', 'Shadow Master', 'Shadow Ops: Red Mercury', 'Shadow The Hedgehog', 'Shadow Tower', 'Shadow of Destiny', 'Shadow of Rome', 'Shadow of the Colossus', 'Shadowgate 64: Trials of the Four Towers', 'Shadowrun', 'Shadows of the Damned', 'Shakugan no Shana', 'Shaman King: Chou Senjiryokketsu 3', 'Shaman King: Power of Spirit', 'Shaman King: Soul Fight', 'Shaman King: Spirit of Shamans', 'Shanghai: True Valor', \"Shantae and the Pirate's Curse\", 'Shape Up', 'Sharin no Kuni, Himawari no Shoujo', 'Shark Tale', 'Shattered Union', \"Shaun Palmer's Pro Snowboarder\", 'Shaun White Skateboarding', 'Shaun White Snowboarding', 'Shaun White Snowboarding: Road Trip', 'Shaun White Snowboarding: World Stage', 'Shaun the Sheep', 'Shawn Johnson Gymnastics', 'Sheep', 'ShellShock 2: Blood Trails', 'Shellshock', \"Shellshock: Nam '67\", 'Shenmue', 'Shenmue II', \"Shepherd's Crossing\", 'Sherlock Holmes and the Mystery of Osborne House', 'Sherlock Holmes vs. Jack the Ripper', 'Sherlock Holmes: Crimes & Punishments', 'Sherlock Holmes: Secret of The Silver Earring', \"Sherlock Holmes: The Devil's Daughter\", 'Sherlock Holmes: The Mystery of the Mummy', 'Shifters', 'Shijyou Saikyou no Deshi Kenichi: Gekitou! Ragnarok Hachikengou', 'Shimano Xtreme Fishing', 'Shin Chan Contra ¡Los Plastas!', 'Shin Chan: Las Nuevas Aventuras Para Wii!', 'Shin Chan: ¡Aventuras de Cine!', 'Shin Fortune Quest: Sokutaku no Kishi', 'Shin Hayarigami', 'Shin Hayarigami 2', 'Shin Hisui no Shizuku: Hiiro no Kakera 2 Portable', 'Shin Kamaitachi no Yoru: 11 Hitome no Suspect', 'Shin Ken to Mah? to Gakuenmono. Toki no Gakuen', 'Shin Koihime Musou: Otome Ryouran * Sangokushi Engi - Shu-Hen', 'Shin Koihime Musou: Otome Ryouran * Sangokushi Engi - Wei-Hen', 'Shin Koihime Musou: Otome Ryouran * Sangokushi Engi - Wu-Hen', 'Shin Koihime Musou: Otome Taisen * Sangokushi Engi', 'Shin Lucky * Star: Moe Drill ~Tabidachi~', 'Shin Megami Tensei', 'Shin Megami Tensei II', 'Shin Megami Tensei IV', 'Shin Megami Tensei IV: Final', 'Shin Megami Tensei NINE', 'Shin Megami Tensei x Fire Emblem', 'Shin Megami Tensei: Devil Summoner', 'Shin Megami Tensei: Devil Summoner - Raidou Kuzunoha vs. The Soulless Army', 'Shin Megami Tensei: Devil Summoner - Soul Hackers', 'Shin Megami Tensei: Devil Summoner 2 - Raidou Kuzunoha vs. King Abaddon', 'Shin Megami Tensei: Devil Summoner 2 - Raidou Kuzunoha vs. King Abaddon (JP sales)', 'Shin Megami Tensei: Devil Survivor', 'Shin Megami Tensei: Devil Survivor 2', 'Shin Megami Tensei: Devil Survivor Overclocked', 'Shin Megami Tensei: Digital Devil Saga', 'Shin Megami Tensei: Digital Devil Saga 2', 'Shin Megami Tensei: Nocturne', 'Shin Megami Tensei: Persona', 'Shin Megami Tensei: Persona 2: Innocent Sin', 'Shin Megami Tensei: Persona 3', 'Shin Megami Tensei: Persona 3 (jp sales)', 'Shin Megami Tensei: Persona 3 FES', 'Shin Megami Tensei: Persona 3 Portable', 'Shin Megami Tensei: Persona 4', 'Shin Megami Tensei: Strange Journey', 'Shin Momotarou Densetsu', 'Shin Nippon Pro Wrestling: Toukon Retsuden', 'Shin Nippon Pro Wrestling: Toukon Retsuden 2', 'Shin Nippon Pro Wrestling: Toukon Retsuden 3', 'Shin Sangoku Musou 4 Special', 'Shin Sangoku Musou 5 Empires', 'Shin Sangoku Musou 5 Special', 'Shin Sangoku Musou 6 Special', 'Shin Sangoku Musou Online: Kamishou Ranbu', 'Shin Sangoku Musou Online: Souten Ranbu', 'Shin Sangoku Musou: Multi Raid 2', 'Shin Super Robot Taisen', 'Shin Super Robot Taisen Special Disk', 'Shinigami to Shoujo', 'Shining Ark', 'Shining Blade', 'Shining Force CD', 'Shining Force EXA', 'Shining Force Feather', 'Shining Force II', 'Shining Force III', 'Shining Force III: Scenario 2', 'Shining Force NEO', 'Shining Force: Resurrection of the Dark Dragon', 'Shining Hearts', 'Shining Resonance', 'Shining Soul', 'Shining Soul II', 'Shining Stars', 'Shining Tears', 'Shining Wind', 'Shinken de Watashi ni Koi Shinasai! R', 'Shinkyoku Soukai Polyphonica', 'Shinobi', 'Shinobi Koutsutsu', 'Shinobi, Koi Utsutsu: Setsugetsuka Koi Emaki', 'Shinobido 2: Tales of the Ninja', 'Shinseiki Evangelion 2: Tsukurareshi Sekai - Another Cases', 'Shinseiki Evangelion Ayanami Ikusei Keikaku DS with Asuka Hokan Keikaku', 'Shinseiki Evangelion- Eva: Yukai na Nakama Tachi', 'Shinseiki Evangelion: Battle Orchestra', 'Shinseiki Evangelion: Battle Orchestra Portable', 'Shinseiki Evangelion: Koutetsu no Girlfriend', 'Shinseiki Evangelion: Koutetsu no Girlfriend 2nd Portable', 'Shinseiki Evangelion: Koutetsu no Girlfriend Tokubetsu-Hen Portable', 'Shinseiki GPX Cyber Formula: Road To The INFINITY 4', 'Ship Simulator 2008', 'Ship Simulator Extremes', 'Shippuu Mahou Daisakusen: Kingdom-Grandprix', 'Shirahana no Ori: Hiiro no Kakera 4 - Shiki no Uta', 'Shiratsuyu no Kai', 'Shiren the Wanderer', \"Shiren the Wanderer 4 - God's Eye and the Demon's Navel\", 'Shiren the Wanderer 5 Plus: Fortune Tower and the Dice of Fate', 'Shirogane no Soleil: Contract to the Future - Mirai e no Keiyaku', 'Shitsuji ga Aruji o Erabu Toki', 'Shockwave Assault', \"Shonen Jump's One Piece: Grand Adventure\", \"Shonen Jump's One Piece: Grand Battle\", \"Shonen Jump's One Piece: Pirates Carnival\", \"Shonen Jump's Shaman King: Legacy of the Spirits - Soaring Hawk/Sprinting Wolf\", \"Shonen Jump's Shaman King: Master of Spirits\", \"Shonen Jump's Shaman King: Master of Spirits 2\", \"Shonen Jump's Yu-Gi-Oh! GX Card Almanac\", 'Shooter: Starfighter Sanvein', 'Short Track Racing: Trading Paint', 'Shorts', 'Shounen Onmyouji: Tsubasa Yoima, Ten e Kaere', 'Shounen Sunday x Shounen Magazine: Nettou! Dream Nine', 'Shovel Knight', 'Showdown: Legends of Wrestling', 'Showtime Championship Boxing', 'Shox', 'Shrek', 'Shrek / Shark Tale Game Boy Advance Video', 'Shrek / Shrek 2 2-in-1 Gameboy Advance Video', 'Shrek 2', 'Shrek 2 and Shark Tale 2-in-1 Pack', 'Shrek 2: Beg for Mercy', 'Shrek Extra Large', \"Shrek Smash n' Crash Racing\", 'Shrek Super Party', 'Shrek SuperSlam', 'Shrek Swamp Kart Speedway', 'Shrek the Third', \"Shrek's Carnival Craze Party Games\", 'Shrek: Forever After', 'Shrek: Hassle at the Castle', 'Shrek: Ogres & Dronkeys', \"Shrek: Reekin' Havoc\", 'Shugo Chara! 3-tsu no Tamagoto Koisuru Joker', 'Shugo Chara! Amunonijiro Chara Change', 'Shukufuku no Campanella Portable', 'Shutsugeki! Otometachi no Senjou 2: Ikusabana no Kizuna', 'Shutter Island', \"Sid Meier's Civilization IV\", \"Sid Meier's Civilization Revolution\", \"Sid Meier's Civilization Revolution 2+\", \"Sid Meier's Civilization V\", \"Sid Meier's Civilization VI\", \"Sid Meier's Civilization: Beyond Earth\", \"Sid Meier's Pirates!\", \"Sid Meier's Railroads!\", 'Sidewinder Max', 'Sigma Harmonics', 'Sigma Star Saga', 'Silent Bomber', 'Silent Hill', 'Silent Hill 2', 'Silent Hill 2: Restless Dreams', 'Silent Hill 3', 'Silent Hill 4: The Room', 'Silent Hill HD Collection', 'Silent Hill: Book of Memories', 'Silent Hill: Downpour', 'Silent Hill: Homecoming', 'Silent Hill: Origins', 'Silent Hill: Shattered Memories', 'Silent Hunter 5: Battle of the Atlantic', 'Silent Hunter III', 'Silent Hunter: Wolves of the Pacific', 'Silent Scope', 'Silent Scope 2: Dark Silhouette', 'Silent Scope 3', 'Silent Scope Complete', 'Silhouette Mirage', 'Silly Bandz: Play The Craze', 'Silpheed: The Lost Planet', 'Silverlicious', 'Sim Theme Park', 'SimAnimals', 'SimAnimals Africa', 'SimCity', 'SimCity (2013)', 'SimCity 2000', 'SimCity 4', 'SimCity 4: Deluxe Edition', 'SimCity Creator', 'SimCity Creator (JP sales)', 'SimCity DS', 'SimCity Societies', 'SimEarth: The Living Planet', 'Simple 1500 Series Vol. 1: The Mahjong', 'Simple 1500 Series Vol. 73: The Invaders ~Space Invaders 1500~', 'Simple 2000 Series Vol. 105: The Maid Fuku to Kikanjuu', 'Simple 2000 Series Vol. 120: The Saigo no Nippon Tsuwamono', 'Simple 2500 Series Portable!! Vol. 12: The Hohei 2: Senyuu yo, Sakini Ike', 'Simple DS Series Vol. 14: The Jidousha Kyoushuujo DS', 'Simple DS Series Vol. 15: The Kanshikikan 2 - Aratanaru 8-tsu no Jiken wo Touch seyo', 'Simple DS Series Vol. 41: The Bakudan Shori-Han', 'Simple DS Series Vol. 42: The Haioku Byoutou', 'Simple DS Series Vol. 8: The Kanshikikan - Kinkyuu Shutsudou!! Jiken Genba wo Touch Seyo', 'Simpsons Wrestling', 'Sin and Punishment', 'Sin and Punishment: Star Successor', 'Sing Party', 'Sing4: The Hits Edition', 'SingStar', \"SingStar '80s\", \"SingStar '90s\", 'SingStar Abba', 'SingStar Amped', 'SingStar Anthems', 'SingStar Apres-Ski Party 2', 'SingStar Chartbreaker', 'SingStar Country', 'SingStar Dance', 'SingStar Fussballhits', 'SingStar Guitar', 'SingStar Latino', 'SingStar Legends', 'SingStar Mallorca Party', 'SingStar Motown', 'SingStar Party', 'SingStar Pop', 'SingStar Pop Edition', 'SingStar Pop Hits', 'SingStar Pop Vol.2', 'SingStar Queen', 'SingStar R&B', 'SingStar Rocks!', 'SingStar Singalong With Disney', 'SingStar Summer Party', 'SingStar Take That', 'SingStar Vol. 2', 'SingStar Vol. 3', 'SingStar: Back to the 80s', 'SingStar: Made In Germany', 'Singstar: Ultimate Party', 'Singularity', 'Sins of a Solar Empire', 'Sins of a Solar Empire: Trinity', 'Siren', 'Siren: Blood Curse', 'Sitting Ducks', 'Six Flags Fun Park', 'Skate', 'Skate 2', 'Skate 3', 'Skate City Heroes', 'Skate it', 'Skeleton Warriors', 'Ski Region Simulator', 'Ski and Shoot', 'Ski-Doo Snowmobile Challenge', 'Skies of Arcadia', 'Skies of Arcadia Legends', 'SkullMonkeys', 'Sky Dancers', 'Sky Gunner', 'Sky Odyssey', 'Skydiving Extreme', 'Skylanders Giants', 'Skylanders Imaginators', 'Skylanders SWAP Force', \"Skylanders: Spyro's Adventure\", 'Skylanders: SuperChargers', 'Skylanders: Trap Team', \"Slam 'n Jam '96 featuring Magic & Kareem\", 'Slam Dunk SD Heat Up!!', 'Slam Dunk: Yonkyo Taiketsu!!', 'Slayers', 'Slayers Royal', 'Slayers Royal 2', 'Sled Shred featuring the Jamaican Bobsled Team', 'Sled Storm', 'Sleeping Dogs', 'Sleepover Party', 'Slide Adventure: Mag Kid', 'Slime MoriMori Dragon Quest 3: Taikaizoku to Shippo Dan', 'Slime MoriMori Dragon Quest: Shougeki No Shippo Dan', 'Sloane to MacHale no Nazo no Monogatari', 'Sloane to MacHale no Nazo no Monogatari 2', 'Slot Machine', 'Slotter Mania P: Tetsuya Shinjuku vs Ueno ', 'Sly 2: Band of Thieves', 'Sly 3: Honor Among Thieves', 'Sly Cooper and the Thievius Raccoonus', 'Sly Cooper: Thieves in Time', 'Small Soldiers', 'Smart Bomb', \"Smart Boy's Gameroom\", \"Smart Boy's Toys Club\", \"Smart Boy's Winter Wonderland\", \"Smart Girl's Party Game\", \"Smart Girl's Playhouse\", \"Smart Girl's Winter Wonderland\", \"Smart Kid's Mega Game Mix\", \"Smart Kid's Party Fun Pak\", 'Smarty Pants', 'Smash Cars', 'Smash Court Tennis 3', 'Smash Court Tennis Pro Tournament', 'Smash Court Tennis Pro Tournament 2', 'Smashing Drive', \"Smile PreCure! Let's Go! Marchen World\", 'Smiley World: Island Challenge', \"Smuggler's Run\", \"Smuggler's Run: Warzones\", \"Smurf: Rescue In Gargamel's Castle\", 'Sneakers', 'Sniper Elite', 'Sniper Elite 3', 'Sniper Elite V2', 'Sniper: Art of Victory', 'Sniper: Ghost Warrior', 'Sniper: Ghost Warrior 2', 'SnoCross Championship Racing', 'Snood', 'Snood 2: On Vacation', 'Snoopy vs the Red Baron', 'Snow Portable', 'Snowboard Kids', 'Snowboard Kids 2', 'Snowboarding', 'So Blonde', 'So-Ra-No-Wo-To: Otome no Gojuusou', 'Soccer', 'Soccer Tsuku 2002: J-League Pro Soccer Club o Tsukurou!', 'Soccer Tsuku DS: World Challenge 2010', 'Soccer Tsuku Tokudai Gou: J-League Pro Soccer Club o Tsukurou', 'Soccer Tsuku: Pro Soccer Club o Tsukurou!', 'Sokukoku no Kusabi: Hiiro no Kakera 3 Portable', 'Sol Trigger', 'SolarStriker', 'Solaris', 'Solatorobo: Red the Hunter', 'Soldier of Fortune II: Double Helix', 'Soldier of Fortune: Gold Edition', 'Soldier of Fortune: Payback', 'Solitaire & Mahjong', 'Solitaire Overload', 'Solitaire Overload Plus', 'Soma Bringer', 'Song of the Deep', 'SoniPro', 'Sonic & All-Stars Racing Transformed', 'Sonic & Knuckles', 'Sonic & SEGA All-Stars Racing with Banjo-Kazooie', 'Sonic & Sega All-Stars Racing', 'Sonic Advance', 'Sonic Advance & Sonic Pinball Party Combo Pack', 'Sonic Advance 2', 'Sonic Advance 3', 'Sonic Adventure', 'Sonic Adventure 2', 'Sonic Adventure 2 Battle', \"Sonic Adventure DX: Director's Cut\", 'Sonic Boom: Fire & Ice', 'Sonic Boom: Rise of Lyric', 'Sonic Boom: Shattered Crystal', 'Sonic CD', 'Sonic Chronicles: The Dark Brotherhood', 'Sonic Classic Collection', 'Sonic Colors', 'Sonic Free Riders', 'Sonic Generations', 'Sonic Heroes', 'Sonic Jam', 'Sonic Lost World', 'Sonic Mega Collection', 'Sonic Mega Collection Plus', 'Sonic PC Collection', 'Sonic Riders', 'Sonic Riders: Zero Gravity', 'Sonic Rivals', 'Sonic Rivals 2', 'Sonic Rush', 'Sonic Rush Adventure', 'Sonic Unleashed', 'Sonic X: Game Boy Advance Video Volume 1', 'Sonic and the Black Knight', 'Sonic and the Secret Rings', 'Sonic the Hedgehog', 'Sonic the Hedgehog 2', 'Sonic the Hedgehog 2 (8-bit)', 'Sonic the Hedgehog 3', \"Sonic's Ultimate Genesis Collection\", 'Sonny with a Chance', 'Sony Computer Science Kenkyuujo Mogi Kenichirou Hakase Kanshuu: Nou ni Kaikan Aha Taiken!', 'Sora no Otoshimono Forte: Dreamy Season', 'Sora no Otoshimono: DokiDoki Summer Vacation', 'Sorcery', 'Sorcery Saga: The Curse of the Great Curry God', 'Sorry! / Aggravation / Scrabble Junior', 'Soshite Kono Uchuu ni Kirameku Kimi no Shi XXX', 'Sotsugyou Crossworld', 'Sotsugyou II: Neo Generation', 'Sotsugyou II: Neo Generation Special', 'Soukaigi', 'Soukoku no Kusabi: Hiiro no Kakera 3 - Ashita e no Tobira', 'Soul Bubbles', 'Soul Eater: Battle Resonance', 'Soul Eater: Monotone Princess', 'Soul Eater: Plot of Medusa', 'Soul Edge', 'Soul Nomad & the World Eaters', 'Soul Reaver 2', 'Soul Sacrifice', 'Soul Sacrifice Delta', 'SoulCalibur', 'SoulCalibur II', 'SoulCalibur III', 'SoulCalibur IV', 'SoulCalibur Legends', 'SoulCalibur Legends (JP sales)', 'SoulCalibur V', 'SoulCalibur: Broken Destiny', 'SoulLink Extension', 'Sound Novel Evolution 1: Otogirisou Sosei-Hen', 'Sound Novel Machi', 'Sound Novel Tsukuru', 'Sousaku Alice to Oujisama!', 'South Park', 'South Park Rally', \"South Park: Chef's Luv Shack\", 'South Park: The Stick of Truth', 'Soviet Strike', 'Space Battleship Yamato: Harukanaru Hoshi Iscandar', 'Space Bust-A-Move', 'Space Camp', 'Space Channel 5 Special Edition', \"Space Channel 5: Ulala's Cosmic Attack\", 'Space Chimps', 'Space Griffon VF-9', 'Space Hulk: Vengeance of the Blood Angels', 'Space Invaders', 'Space Invaders Extreme', 'Space Invaders Extreme 2', 'Space Invaders Revolution', 'Space Jam', 'Space Raiders', 'Space Station Silicon Valley', 'Space Venus starring Morning Musume', 'Spanish for Everyone!', 'Spartan: Total Warrior', 'Spawn the Eternal', 'Spawn: Armageddon', 'Spec Ops: Airborne Commando', 'Spec Ops: Covert Assault', 'Spec Ops: Ranger Elite', 'Spec Ops: The Line', 'Special Forces: Nemesis Strike', 'Spectral Force 3', 'Spectral Force Genesis', 'Spectral Souls: Resurrection of the Ethereal Empires', 'Spectrobes', 'Spectrobes: Beyond the Portals', 'Spectrobes: Origins', 'Speed', 'Speed Kings', 'Speed Punks', 'Speed Racer', 'Speed Racer: The Videogame', 'Speed Zone', 'Speedball 2100', 'Spelling Challenges and more!', 'Sphinx and the Cursed Mummy', 'Spice World', 'Spider-Man', 'Spider-Man 2', 'Spider-Man 2: Enter: Electro', 'Spider-Man 3', 'Spider-Man: Battle for New York', 'Spider-Man: Edge of Time', 'Spider-Man: Friend or Foe', \"Spider-Man: Mysterio's Menace\", 'Spider-Man: Shattered Dimensions', 'Spider-Man: The Movie', 'Spider-Man: Web of Shadows', 'Spider-Man: Web of Shadows - Amazing Allies Edition', 'Spin Jam', 'Spirit Camera: The Cursed Memoir', 'Spirit: Stallion of the Cimarron', 'Spirits & Spells', 'Spirits and Demons: 5 Game Pack', 'Spitfire Heroes: Tales of the Royal Air Force', 'SplashDown', 'SplashDown: Rides Gone Wild', 'Splat Renegade Paintball', 'Splatoon', 'Splatterhouse', 'Split/Second', 'SpongeBob SquarePants featuring Nicktoons: Globs of Doom', 'SpongeBob SquarePants: Battle for Bikini Bottom', 'SpongeBob SquarePants: Creature from the Krusty Krab', 'SpongeBob SquarePants: Double Pack', 'SpongeBob SquarePants: Game Boy Advance Video Volume 1', 'SpongeBob SquarePants: Game Boy Advance Video Volume 2', 'SpongeBob SquarePants: Game Boy Advance Video Volume 3', 'SpongeBob SquarePants: Lights, Camera, Pants!', \"SpongeBob SquarePants: Plankton's Robotic Revenge\", 'SpongeBob SquarePants: Revenge of the Flying Dutchman', 'SpongeBob SquarePants: SuperSponge', 'SpongeBob SquarePants: The Yellow Avenger', 'SpongeBob SquigglePants', 'SpongeBob SquigglePants 3D', 'SpongeBob vs The Big One: Beach Party Cook Off', \"SpongeBob's Atlantis SquarePantis\", \"SpongeBob's Boating Bash\", \"SpongeBob's Surf & Skate Roadtrip\", \"SpongeBob's Truth or Square\", \"SpongeBob's Truth or Square (US sales)\", 'SpongeBob: HeroPants', 'Spongebob Squarepants / Fairly Odd Parents Double Pack', 'Spore', 'Spore Creatures', 'Spore Hero', 'Spore Hero Arena', 'Sports Car GT', 'Sports Champions', 'Sports Collection', 'Sports Illustrated for Kids: Baseball', 'Sports Illustrated for Kids: Football', 'Spot Goes to Hollywood', 'Sprint Cars: Road to Knoxville', 'Sprung - A Game Where Everyone Scores', 'Spy Fiction', 'Spy Fox in Dry Cereal', 'Spy Games: Elevator Mission', 'Spy Hunter', 'Spy Hunter / Super Sprint', 'Spy Hunter 2', 'Spy Hunter: Nowhere To Run', 'Spy Kids 3-D: Game Over', 'Spy Kids Challenger', 'Spy vs Spy', 'Spyborgs', \"Spyro 2: Ripto's Rage!\", 'Spyro 2: Season of Flame', 'Spyro Orange: The Cortex Conspiracy', 'Spyro the Dragon', \"Spyro: A Hero's Tail\", 'Spyro: Attack of the Rhynocs', 'Spyro: Enter the Dragonfly', 'Spyro: Season of Ice', 'Spyro: Shadow Legacy', 'Spyro: Year of the Dragon', 'Squeeballs Party', 'Squinkies', 'Squinkies 2: Adventure Mall Surprize!', 'Squishy Tank', 'Stacked with Daniel Negreanu', 'Stadium Games', 'Stake: Fortune Fighters', 'Star Driver: Kagayaki no Takuto - Ginga Bishounen Densetsu', 'Star Fighter', 'Star Fox', 'Star Fox 64', 'Star Fox 64 3D', 'Star Fox Adventures', 'Star Fox Command', 'Star Fox: Assault', 'Star Fox: Zero', 'Star Gladiator Episode: I Final Crusade', 'Star Ocean', 'Star Ocean 5: Integrity and Faithlessness', 'Star Ocean: Blue Sphere', 'Star Ocean: First Departure', 'Star Ocean: Second Evolution', 'Star Ocean: The Last Hope', 'Star Ocean: The Last Hope International', 'Star Ocean: The Second Story', 'Star Ocean: Till The End of Time', 'Star Soldier', 'Star Soldier: Vanishing Earth', 'Star Trek Online', 'Star Trek: Conquest', 'Star Trek: Invasion', 'Star Trek: Legacy', 'Star Trek: Shattered Universe', 'Star Trek: Tactical Assault', 'Star Trek: The Game', 'Star Trek: Voyager Elite Force', 'Star Wars Battlefront (2015)', 'Star Wars Battlefront: Elite Squadron', 'Star Wars Battlefront: Renegade Squadron', 'Star Wars Episode 1: Jedi Power Battles', 'Star Wars Episode I Racer', 'Star Wars Episode I: Battle for Naboo', 'Star Wars Episode I: The Phantom Menace', 'Star Wars Episode II: Attack of the Clones', 'Star Wars Episode III: Revenge of the Sith', 'Star Wars Jedi Knight II: Jedi Outcast', 'Star Wars Jedi Knight: Jedi Academy', 'Star Wars Knights of the Old Republic II: The Sith Lords', 'Star Wars Racer Revenge', 'Star Wars Rogue Leader: Rogue Squadron II', 'Star Wars Rogue Squadron III: Rebel Strike', 'Star Wars Starfighter: Special Edition', 'Star Wars The Clone Wars: Jedi Alliance', 'Star Wars The Clone Wars: Lightsaber Duels', 'Star Wars The Clone Wars: Republic Heroes', 'Star Wars Trilogy: Apprentice of the Force', 'Star Wars: Battlefront', 'Star Wars: Battlefront II', 'Star Wars: Bounty Hunter', 'Star Wars: Clone Wars', 'Star Wars: Dark Forces', 'Star Wars: Demolition', 'Star Wars: Empire at War', 'Star Wars: Empire at War - Forces of Corruption', 'Star Wars: Empire at War - Gold Pack', 'Star Wars: Flight of the Falcon', 'Star Wars: Jedi Power Battles', 'Star Wars: Jedi Starfighter', 'Star Wars: Knights of the Old Republic', 'Star Wars: Lethal Alliance', 'Star Wars: Masters of Teras Kasi', 'Star Wars: Obi-Wan', 'Star Wars: Rebel Assault II - The Hidden Empire', 'Star Wars: Republic Commando', 'Star Wars: Rogue Squadron', 'Star Wars: Shadows of the Empire', 'Star Wars: Starfighter', 'Star Wars: Super Bombad Racing', 'Star Wars: The Clone Wars & Tetris Worlds', 'Star Wars: The Force Unleashed', 'Star Wars: The Force Unleashed II', 'Star Wars: The Old Republic', 'Star X', 'StarBlade α', 'StarCraft', 'StarCraft II: Heart of the Swarm', 'StarCraft II: Legacy of the Void', 'StarCraft II: Wings of Liberty', 'Starcraft 64', 'Starhawk', 'Starry ? Sky: After Autumn', 'Starry ? Sky: After Spring', 'Starry ? Sky: After Summer', 'Starry ? Sky: In Autumn', 'Starry ? Sky: In Spring', 'Starry ? Sky: In Summer', 'Starry ? Sky: In Winter', 'Starship Troopers', 'Starshot: Space Circus Fever', 'Starsky & Hutch', 'Start the Party!', 'Start the Party! Save the World', 'Starwinder: The Ultimate Space Race', 'State of Decay', 'State of Emergency', 'State of Emergency 2', 'Steal Princess', 'Steambot Chronicles', 'Steambot Chronicles: Battle Tournament', 'Steel Battalion', 'Steel Battalion: Heavy Armor', 'Steel Battalion: Line of Contact', 'Steel Diver', 'Steins;Gate', 'Steins;Gate 0', 'Steins;Gate: Hiyoku Renri no Darling', 'Steins;Gate: Senkei Kousoku no Phonogram', 'Stella Deus: The Gate of Eternity', 'Stella Glow', 'Stellaris', 'Still Life', 'Still Life 2', 'StokEd', 'Stoked: Big Air Edition', 'Stolen', 'Stolen Song', 'Storm Lover 2nd', 'Storm Lover 2nd V', 'Storm Lover Kai!!', 'StormLover', 'StormLover Karen!!', 'Stormrise', 'Story Hour: Adventures', 'Story Hour: Fairy Tales', 'Story of Seasons', 'Story of Seasons: Good Friends of the Three Villages', 'Storybook Workshop', 'Stranger of Sword City', 'Stranglehold', 'Strawberry Nauts', 'Strawberry Shortcake: Game Boy Advance Video Volume 1', 'Strawberry Shortcake: Strawberryland Games', 'Strawberry Shortcake: Summertime Adventure', 'Streak: Hoverboard Racing', 'Street Fighter Alpha 2', 'Street Fighter Alpha 3', 'Street Fighter Alpha 3 MAX', \"Street Fighter Alpha: Warriors' Dreams\", 'Street Fighter Anniversary Collection', 'Street Fighter Collection', 'Street Fighter EX Plus Alpha', 'Street Fighter EX2 Plus', 'Street Fighter EX3', 'Street Fighter II Turbo', \"Street Fighter II': Special Champion Edition\", \"Street Fighter II': Special Champion Edition (JP weekly sales)\", 'Street Fighter II: The World Warrior', 'Street Fighter IV', 'Street Fighter V', 'Street Fighter X Tekken', 'Street Fighter: The Movie', 'Street Hoops', 'Street Jam Basketball', 'Street Racer', 'Street Sk8er', 'Street Supremacy', 'Streets of Rage', 'Streets of Rage 3', 'Stretch Panic', 'Strider (2014)', 'Strider 2', 'Strike Force Bowling', 'Strike Point', 'Strike Witches 2: Iyasu Naosu Punipunisuru', 'Strike Witches: Anata to Dekiru Koto - A Little Peaceful Days', 'Strike Witches: Aoi no Dengekisen - Shin Taichou Funtousuru!', 'Strike Witches: Shirogane no Tsubasa', 'Striker 96', 'Strikers 1945', 'Strongest Tokyo University Shogi DS', 'Stronghold', 'Stronghold 2 Deluxe', 'Stronghold 3', 'Stronghold Crusader Extreme', 'Stronghold Kingdoms', 'Stronghold Legends', 'Stuart Little 2', 'Stuart Little 3: Big Photo Adventure', 'Stubbs the Zombie in Rebel Without a Pulse', 'Stunt GP', 'Stunt Race FX', 'Stuntman', 'Stuntman: Ignition', 'Style Book: Cinnamoroll', 'Style Book: Junior City', 'Style Lab: Jewelry Design', 'Style Lab: Makeover', 'Style Savvy', 'Style Savvy: Trendsetters', 'Sub Rebellion', 'Sudeki', 'Sudoku Ball Detective', 'Sudoku Fever', 'Sudoku Gridmaster', 'Sudoku Gridmaster (JP sales)', 'Sudoku Mania', 'Sudokuro', 'Sugar + Spice! Anoko no Suteki na Nanimokamo', 'Suggoi! Arcana Heart 2', 'Sugoi Hebereke', 'Suikoden', 'Suikoden II', 'Suikoden III', 'Suikoden IV', 'Suikoden Tactics', 'Suikoden Tierkreis', 'Suikoden V', 'Suikoden: Tsumugareshi Hyakunen no Toki', 'Suite PreCure: Melody Collection', 'Sumikko Gurashi: Koko ga Ochitsukundesu', 'Sumikko Gurashi: Mura o Tsukurundesu', 'Sumikko Gurashi: Omise Hajimerundesu', 'Summer Athletics', 'Summer Athletics 2009', 'Summer Athletics: The Ultimate Challenge', 'Summer Athletics: The Ultimate Challenge (Others sales)', 'Summer Athletics: The Ultimate Challenge (US sales)', 'Summer Challenge: Athletics Tournament', 'Summer Heat Beach Volleyball', 'Summer Sports 2: Island Sports Party', 'Summer Sports: Paradise Island', 'Summer Sports: Paradise Island (Others sales)', 'Summon Night', 'Summon Night 2', 'Summon Night 3', 'Summon Night 4', 'Summon Night 5', 'Summon Night 6: Lost Borders', 'Summon Night Craft Sword Monogatari: Hajimari no Ishi', 'Summon Night EX-Thesis: Yoake no Tsubasa', 'Summon Night Granthese: Horobi no Ken to Yakusoku no Kishi', 'Summon Night X: Tears Crown', 'Summon Night: Swordcraft Story', 'Summon Night: Twin Age', 'Summoner', 'Summoner 2', 'Summoner: A Goddess Reborn', 'Sunday vs Magazine Shuuketsu! Choujou Daikessen', 'Sunny Garcia Surfing', 'Sunrise Eiyuutan R', 'Sunset Overdrive', 'Super Adventure Island', 'Super Army War', 'Super Baseball', 'Super Baseball Simulator 1.000', 'Super Batter Up', 'Super Battle For Money Sentouchuu: Kyuukyoku no Shinobu to Battle Player Choujou Kessen!', 'Super Black Bass Fishing', 'Super Bomberman', 'Super Bomberman 2', 'Super Bomberman 3', 'Super Bomberman 4', 'Super Bomberman 5', 'Super Bowling', 'Super Breakout', 'Super Bubble Pop', 'Super Bust-A-Move', 'Super Castlevania IV', 'Super Collapse! 3', 'Super Collapse! II', 'Super Dodge Ball', 'Super Dodge Ball Advance', 'Super Dodgeball Brawlers', 'Super Dodgeball Brawlers (jp sales)', 'Super Dragon Ball Z', 'Super Dungeon Bros', 'Super Duper Sumos', 'Super Famista 3', 'Super Famista 4', 'Super Famista 5', 'Super Fire ProWrestling', 'Super Fire ProWrestling Special', 'Super Fire ProWrestling X', 'Super Football', 'Super Formation Soccer 94', 'Super Fruit Fall', \"Super Ghouls 'n Ghosts\", 'Super Hero Generation', 'Super Heroine Chronicle', 'Super Jinsei Game 2', 'Super Mahjong 2: Honkaku 4Jin Uchi', 'Super Mario 3D Land', 'Super Mario 3D World', 'Super Mario 64', 'Super Mario Advance', 'Super Mario All-Stars', 'Super Mario All-Stars: Limited Edition', 'Super Mario Bros.', 'Super Mario Bros. 2', 'Super Mario Bros. 3', 'Super Mario Bros.: The Lost Levels', 'Super Mario Galaxy', 'Super Mario Galaxy 2', 'Super Mario Kart', 'Super Mario Land', 'Super Mario Land 2: 6 Golden Coins', 'Super Mario Land 3: Wario Land', 'Super Mario Maker', 'Super Mario RPG: Legend of the Seven Stars', 'Super Mario Strikers', 'Super Mario Sunshine', 'Super Mario World', \"Super Mario World 2: Yoshi's Island\", 'Super Meat Boy: Ultra Edition!', 'Super Metroid', 'Super Momotarou Dentetsu DX', 'Super Momotarou Dentetsu III', 'Super Monkey Ball', 'Super Monkey Ball 2', 'Super Monkey Ball 3D', 'Super Monkey Ball Adventure', 'Super Monkey Ball Deluxe', 'Super Monkey Ball Jr.', 'Super Monkey Ball: Banana Blitz', 'Super Monkey Ball: Step & Roll', 'Super Monkey Ball: Touch & Roll', 'Super Nazo Puyo Tsuu: Ruruu no Tetsuwan Hanjyouki', 'Super Nazo Puyo: Ruruu no Ruu', 'Super Paper Mario', 'Super PickUps', 'Super Power League', 'Super Power League 2', 'Super Princess Peach', 'Super Puyo Puyo', 'Super Puyo Puyo 2', 'Super Puzzle Fighter II', 'Super Puzzle Fighter II Turbo', 'Super R-Type', 'Super R.C. Pro-Am', 'Super Real Mahjong Graffiti', 'Super Real Mahjong P V', 'Super Robot Gakuen', 'Super Robot Monkey Team: Game Boy Advance Video Volume 1', 'Super Robot Spirits', 'Super Robot Taisen 64', 'Super Robot Taisen A', 'Super Robot Taisen A Portable', 'Super Robot Taisen Compact 2 Dai-1-Bu', 'Super Robot Taisen Complete Box', 'Super Robot Taisen D', 'Super Robot Taisen EX', 'Super Robot Taisen F', 'Super Robot Taisen F Kanketsuhen', 'Super Robot Taisen Impact', 'Super Robot Taisen J', 'Super Robot Taisen K', 'Super Robot Taisen L', 'Super Robot Taisen MX', 'Super Robot Taisen MX Portable', 'Super Robot Taisen Neo', 'Super Robot Taisen OG Infinite Battle', 'Super Robot Taisen OG Saga: Endless Frontier', 'Super Robot Taisen OG Saga: Endless Frontier (JP sales)', 'Super Robot Taisen OG Saga: Masou Kishin III - Pride of Justice', 'Super Robot Taisen OG: Original Generations', 'Super Robot Taisen OG: Original Generations Gaiden', 'Super Robot Taisen R', 'Super Robot Taisen UX', 'Super Robot Taisen W', 'Super Robot Taisen XO', 'Super Robot Taisen Z', 'Super Robot Taisen Z Special Disc', 'Super Robot Taisen α', 'Super Robot Taisen α Gaiden', 'Super Robot Taisen: Original Generation', 'Super Robot Taisen: Scramble Commander', 'Super Robot Taisen: Scramble Commander the 2nd', 'Super Robot Wars BX', 'Super Robot Wars OG Saga Masou Kishin F: Coffin of the End', 'Super Robot Wars OG Saga: Masou Kishin - The Lord of Elemental', 'Super Robot Wars OG Saga: Masou Kishin II - Revelation of Evil God', 'Super Robot Wars OG: The Moon Dwellers', 'Super Run For Money Tousouchuu Atsumare! Saikyou no Tousou Monotachi', 'Super Scope 6', 'Super Scribblenauts', 'Super Sentai Battle: Ranger Cross', 'Super Smash Bros.', 'Super Smash Bros. Brawl', 'Super Smash Bros. Melee', 'Super Smash Bros. for Wii U and 3DS', 'Super Soccer', 'Super Speed Machines', 'Super Stardust Ultra VR', 'Super Street Fighter II', 'Super Street Fighter II: Turbo Revival', 'Super Street Fighter IV: 3D Edition', 'Super Swing Golf', 'Super Swing Golf Season 2', 'Super Trucks Racing', 'Super Wagyan Land', 'SuperCar Challenge', 'Superbike 2000', 'Supercar Street Challenge', 'Supercross 2000', 'Superdimension Neptune vs Sega Hard Girls', 'Superman Returns', 'Superman: Countdown to Apokolips', 'Superman: Shadow of Apokolips', 'Superman: The Man of Steel', 'Superman: The New Superman Adventures', 'Supermodel Makeover by Lauren Luke', 'Superstars V8 Racing', 'Supremacy MMA', 'Supreme Commander', 'Supreme Commander 2', 'Supreme Commander: Forged Alliance', 'Supreme Ruler: Cold War', 'Surf Riders', \"Surf's Up\", 'Surfing H3O', 'Sushi Academy', 'Sushi Go-Round', 'Suujin Taisen', 'Suzuki Super-Bikes II: Riding Challenge', 'Suzuki TT Superbikes', 'Suzumiya Haruhi no Chokuretsu', 'Suzumiya Haruhi no Gekidou', 'Suzumiya Haruhi no Heiretsu', 'Suzumiya Haruhi no Tomadoi', 'Suzumiya Haruhi no Tsuisou', 'Suzumiya Haruhi no Yakusoku', 'Suzumiya Haruhi-Chan no Mahjong', 'Suzunone Seven: Rebirth Knot', 'Sweet Honey Coming', 'Swing Away Golf', 'Swingerz Golf', 'Sword & Sorcery', \"Sword Art Online: Game Director's Edition\", 'Sword Art Online: Hollow Fragment', 'Sword Art Online: Hollow Realization', 'Sword Art Online: Infinity Moment', 'Sword Art Online: Lost Song', 'Sword of Mana', 'Sword of the Samurai', 'Swords', 'Syberia', 'Syberia II', 'Sydney 2000', 'Syndicate', 'Syndicate Wars', 'Syphon Filter', 'Syphon Filter 2', 'Syphon Filter 3', 'Syphon Filter: Dark Mirror', \"Syphon Filter: Logan's Shadow\", 'Syphon Filter: The Omega Strain', 'System 3 presents Ferrari Challenge Trofeo Pirelli', 'System Flaw', 'Sébastien Loeb Rally Evo', \"T'ai Fu: Wrath of the Tiger\", 'T.A.C. Heroes : Big Red One', 'T.R.A.G. - Tactical Rescue Assault Group: Mission of Mercy', 'TERA', 'TMNT', 'TMNT: Mutant Melee', 'TNA iMPACT!', 'TNA iMPACT: Cross the Line', 'TNN Motor Sports Hardcore 4x4', 'TOCA 2: Touring Cars', 'TOCA Race Driver 2', 'TOCA Race Driver 2: Ultimate Racing Simulator', 'TOCA Race Driver 3', 'TOCA Touring Car Championship', 'TOEIC Test Training DS', \"TRINITY: Souls of Zill O'll\", 'TRON: Evolution', 'TRON: Evolution - Battle Grids', 'TV Anime Idolm@ster: Cinderella Girls G4U! Pack Vol.1', 'TV Anime Idolm@ster: Cinderella Girls G4U! Pack Vol.2', 'TV Anime Idolm@ster: Cinderella Girls G4U! Pack Vol.3', 'TV Anime Idolm@ster: Cinderella Girls G4U! Pack Vol.4', 'TV Anime Idolm@ster: Cinderella Girls G4U! Pack Vol.5', 'TV Anime Idolm@ster: Cinderella Girls G4U! Pack Vol.6', 'TV Anime Idolm@ster: Cinderella Girls G4U! Pack Vol.7', 'TV Anime Idolm@ster: Cinderella Girls G4U! Pack Vol.8', 'TV Anime Idolm@ster: Cinderella Girls G4U! Pack Vol.9', 'TV Anime: Fairy Tale Gekitou! Madoushi Kessen', 'TV Show King Party', 'TV Superstars', 'TV Total Events', 'Tabi no Yubisashi Kaiwachou DS: DS Series 1 Thai', 'Tabi no Yubisashi Kaiwachou DS: DS Series 2 Chuugoku', 'Tabi no Yubisashi Kaiwachou DS: DS Series 3 Kankoku', 'Tabi no Yubisashi Kaiwachou DS: DS Series 4 America', 'Tabi no Yubisashi Kaiwachou DS: DS Series 5 Deutsch', 'Tactics Layer: Ritina Guard Senki', 'Tactics Ogre: Let Us Cling Together', 'Tactics Ogre: The Knight of Lodis', 'Tag Team Match M.U.S.C.L.E.', 'Tago Akira no Atama no Taisou Dai-1-Shuu: Nazotoki Sekai Isshuu Ryokou', 'Tago Akira no Atama no Taisou Dai-2-Shuu: Ginga Oudan Nazotoki Adventure', 'Taiho Shichauzo!', 'Taiko Drum Master', \"Taiko Drum Master: Don and Katsu's Space-Time Great Adventure\", 'Taiko Drum Master: Tokumori!', 'Taiko no Tatsujin DS: Dororon! Youkai Daikessen!!', 'Taiko no Tatsujin DS: Touch de Dokodon!', 'Taiko no Tatsujin Portable 2', 'Taiko no Tatsujin Portable DX', 'Taiko no Tatsujin Wii', 'Taiko no Tatsujin Wii: Dodon to 2 Yome!', 'Taiko no Tatsujin Wii: Ketteiban', 'Taiko no Tatsujin Wii: Minna de Party * 3-Yome!', 'Taiko no Tatsujin: Appare Sandaime', 'Taiko no Tatsujin: Atsumete Tomodachi Daisakusen!', 'Taiko no Tatsujin: Chibi Dragon to Fushigi na Orb', 'Taiko no Tatsujin: Doki! Shinkyoku Darake no Haru Matsuri', 'Taiko no Tatsujin: Don Don! Mystery Adventure', 'Taiko no Tatsujin: Go! Go! Godaime', 'Taiko no Tatsujin: Tatakon de Dodon ga Don', 'Taiko no Tatsujin: V Version', 'Taiko no Tatsujin: Waku Waku Anime Matsuri', 'Taiko no Tatsujin: Wii U Version!', 'Taikou Risshiden V', 'Tail Concerto', 'Tail of the Sun', 'Taishou Moebius Line Vitable', 'Taishou x Alice: All in One', 'Taito Legends', 'Taito Legends 2', 'Taito Legends Power Up', 'Tak 2: The Staff of Dreams', 'Tak and the Guardians of Gross', 'Tak and the Power of Juju', 'Tak: Mojo Mistake', 'Tak: The Great Juju Challenge', \"Take A Break's: Puzzle Master\", 'Take On Helicopters', 'Tale of a Hero', 'Tales of Berseria', 'Tales of Destiny', 'Tales of Destiny 2', 'Tales of Destiny II', 'Tales of Eternia', 'Tales of Fandom Vol.2', 'Tales of Graces', 'Tales of Graces f', 'Tales of Hearts', 'Tales of Innocence', 'Tales of Innocence R', 'Tales of Legendia', 'Tales of Phantasia', 'Tales of Phantasia (PS1 & PSP Versions)', 'Tales of Phantasia: Narikiri Dungeon X', 'Tales of Rebirth', 'Tales of Symphonia', 'Tales of Symphonia: Dawn of the New World', 'Tales of VS.', 'Tales of Vesperia', 'Tales of Xillia', 'Tales of Zestiria', 'Tales of the Abyss', 'Tales of the Heroes: Twin Brave', 'Tales of the Tempest', 'Tales of the World: Narikiri Dungeon 2', 'Tales of the World: Radiant Mythology', 'Tales of the World: Radiant Mythology 2', 'Tales of the World: Radiant Mythology 3', 'Tales of the World: Reve Unitia', 'TalkMan', 'TalkMan (Japan)', 'Tamagotchi', 'Tamagotchi Collection', 'Tamagotchi Connection: Corner Shop', 'Tamagotchi Connection: Corner Shop 2', 'Tamagotchi Connection: Corner Shop 3', 'Tamagotchi Party On!', 'Tamagotchi no Appare! Niji Venture', 'Tamagotchi no Doki Doki Dream Omisecchi', 'Tamagotchi no KiraKira Omisecchi', 'Tamagotchi no Narikiri Challenge', 'Tamagotchi no Narikiri Channel', 'Tamagotchi no Pichi Pichi Omisecchi', 'Tanjou S Debut', 'Tank Beat', 'Tank! Tank! Tank!', 'Tantei Jinguuji Saburo DS: Fuserareta Shinjitsu', 'Tantei Jinguuji Saburo DS: Kienai Kokoro', 'Tantei Jinguuji Saburo: Hai to Diamond', 'Tantei Opera: Milky Holmes', 'Tao Adventure: Curse Demon', 'Tao Feng: Fist of the Lotus', 'Target: Terror', 'Tatsunoko vs. Capcom: Cross Generation of Heroes', 'Tatsunoko vs. Capcom: Ultimate All-Stars', 'Taz Wanted', 'Team Elimination Games', 'Tear Ring Saga Yutona Eiyuu Senki', 'Tearaway', 'Tearaway Unfolded', 'Tears to Tiara Anecdotes: The Secret of Avalon', 'Tears to Tiara II: Heir of the Overlord', 'Tears to Tiara: Garland of the Earth', 'Tears to Tiara: Kakan no Daichi Portable', 'Technic Beat', 'Tecmo Bowl: Kickoff', 'Tecmo Classic Arcade', 'Tecmo Super Bowl', \"Tecmo's Deception\", 'Teddy Together', 'Teen Titans', 'Teenage Mutant Ninja Turtles', 'Teenage Mutant Ninja Turtles (3DS)', 'Teenage Mutant Ninja Turtles 2: Battle Nexus', 'Teenage Mutant Ninja Turtles 3: Mutant Nightmare', 'Teenage Mutant Ninja Turtles Double Pack', 'Teenage Mutant Ninja Turtles II: Back from the Sewers', 'Teenage Mutant Ninja Turtles II: The Arcade Game', 'Teenage Mutant Ninja Turtles III: The Manhattan Project', 'Teenage Mutant Ninja Turtles: Arcade Attack', 'Teenage Mutant Ninja Turtles: Danger of the Ooze', 'Teenage Mutant Ninja Turtles: Game Boy Advance Video Volume 1', 'Teenage Mutant Ninja Turtles: Mutants in Manhattan', 'Teenage Mutant Ninja Turtles: Smash-Up', 'Teenage Mutant Ninja Turtles: Tournament Fighters', 'Teenage Zombies: Invasion of the Alien Brain Thingys', 'Tegami Bachi: Kokoro Tsumugu Mono e', 'Tekken', 'Tekken 2', 'Tekken 3', 'Tekken 3D: Prime Edition', 'Tekken 4', 'Tekken 5', 'Tekken 6', 'Tekken Advance', 'Tekken Tag Tournament', 'Tekken Tag Tournament 2', 'Tempest 3X', 'Ten Pin Alley 2', 'Tenchi Muyou! Ryoukouki Gokuraku', 'Tenchu 2: Birth of the Stealth Assassins', 'Tenchu San Portable', 'Tenchu Z', 'Tenchu: Dark Secret', 'Tenchu: Fatal Shadows', 'Tenchu: Return From Darkness', 'Tenchu: Shadow Assassins', 'Tenchu: Stealth Assassins', 'Tenchu: Wrath of Heaven', 'Tengai Makyo: Dai Yon no Mokushiroku', 'Tengai Makyou: Daishi no Mokushiroku - The Apocalypse IV', 'Tengen Toppa Gurren-Lagann', 'Tenjin Ranman: Happy GO Lucky!!', 'Tenka-bito', 'Tenkai Knights: Brave Battle', 'Tenkaichi * Sengoku Lovers', 'Tennis', 'Tennis Masters Series 2003', 'Tennis no Oji-Sama Gyutto! DokiDoki Survival - Umi to Yama no Love Passion', 'Tennis no Oji-Sama: 2005 Crystal Drive', 'Tennis no Oji-Sama: Aim at The Victory!', 'Tennis no Oji-Sama: Card Hunter', 'Tennis no Oji-Sama: DokiDoki Survival - Sanroku no Mystic', 'Tennis no Oji-Sama: DokiDoki Survival - Umibe no Secret', 'Tennis no Oji-Sama: Doubles no Oji-Sama - Boys, Be Glorious!', 'Tennis no Oji-Sama: Doubles no Oji-Sama - Girls, Be Gracious!', 'Tennis no Oji-Sama: Driving Smash! Side King', 'Tennis no Oji-Sama: Genius Boys Academy', 'Tennis no Oji-Sama: Motto Gakuensai no Ouji-Sama - More Sweet Edition', 'Tenshou Gakuen Gekkouroku', 'Terminator 3: Rise of the Machines', 'Terminator 3: The Redemption', 'Terminator Salvation', 'Terranigma', 'Terraria', 'Test Drive', 'Test Drive 4', 'Test Drive 5', 'Test Drive 6', 'Test Drive Le Mans', 'Test Drive Off-Road Wide Open', 'Test Drive Unlimited', 'Test Drive Unlimited 2', 'Test Drive: Eve of Destruction', 'Test Drive: Ferrari Legends', 'Test Drive: Off Road', 'Tetris', 'Tetris 2', 'Tetris 2 (All region sales)', 'Tetris 2 (weekly jp sales)', 'Tetris 2 + Bombliss', 'Tetris Attack', 'Tetris Axis', 'Tetris DS', 'Tetris DX', 'Tetris Evolution', 'Tetris Party Deluxe', 'Tetris Plus', 'Tetris Worlds', 'Tetris Worlds (Online Edition)', 'Tetrisphere', \"Texas Hold 'Em Poker\", \"Texas Hold 'Em Poker DS\", \"That's So Raven\", \"That's So Raven 2: Supernatural Style\", \"That's So Raven: Psychic on the Scene\", 'The $1 Pyramid', 'The 3rd Birthday', 'The 7th Guest', 'The Activision Decathlon', 'The Adventures of Cookie & Cream', 'The Adventures of Darwin', 'The Adventures of Jimmy Neutron Boy Genius vs. Jimmy Negatron', 'The Adventures of Jimmy Neutron Boy Genius: Attack of the Twonkies', 'The Adventures of Jimmy Neutron Boy Genius: Jet Fusion', 'The Adventures of Lomax', 'The Adventures of Tintin: The Game', 'The Amazing Race', 'The Amazing Spider-Man (Console Version)', 'The Amazing Spider-Man (DS & Mobile Versions)', 'The Amazing Spider-Man 2 (2014)', 'The Ant Bully', 'The Awakened Fate Ultimatum', 'The BIGS', 'The BIGS 2', 'The Bachelor: The Videogame', 'The Backyardigans', \"The Bard's Tale\", 'The Battle of Yuu Yuu Hakusho: Shitou! Ankoku Bujutsukai! 120%', 'The Beatles: Rock Band', 'The Bee Game', 'The Berenstain Bears and the Spooky Old Tree', 'The Bible Game', 'The Biggest Loser', 'The Biggest Loser: Challenge', 'The Biggest Loser: Ultimate Workout', 'The Binding of Isaac', 'The Black Eyed Peas Experience', 'The Bombing Islands', 'The Book of Unwritten Tales', 'The Book of Unwritten Tales 2', 'The Book of Unwritten Tales: The Critter Chronicles', 'The Bouncer', 'The Bureau: XCOM Declassified', 'The Cages: Pro Style Batting Practice', 'The Cat in the Hat', 'The Chase: Felix Meets Felicity', 'The Cheetah Girls', 'The Cheetah Girls: Passport to Stardom', 'The Cheetah Girls: Pop Star Sensations', 'The Chronicles of Narnia: Prince Caspian', 'The Chronicles of Narnia: The Lion, The Witch and The Wardrobe', 'The Chronicles of Riddick: Assault on Dark Athena', 'The Chronicles of Riddick: Escape from Butcher Bay', 'The Clique: Diss and Make Up', 'The Club', 'The Con', 'The Conduit', 'The Conveni 4', 'The Conveni: Ano Machi wo Dokusen Seyo', 'The Crew', 'The Crew: Wild Run', 'The Croods: Prehistoric Party!', 'The Crow: City of Angels', 'The Cube', 'The Cursed Crusade', 'The Da Vinci Code', 'The Daring Game for Girls', 'The Dark Hills of Cherai', 'The Dark Spire', 'The Darkness', 'The Darkness II', 'The Destiny of Zorro', 'The Dog Island', 'The Dukes of Hazzard II: Daisy Dukes It Out', 'The Dukes of Hazzard: Racing for Home', 'The Dukes of Hazzard: Return of the General Lee', 'The Elder Scrolls III: Morrowind', 'The Elder Scrolls IV: Oblivion', 'The Elder Scrolls Online', 'The Elder Scrolls V: Skyrim', 'The Evil Within', 'The Eye of Judgment', 'The Eye of Judgment: Legends', 'The Fairly Odd Parents: Breakin Da Rules', \"The Fairly Odd Parents: Breakin' Da Rules\", 'The Fairly Odd Parents: Clash with the Anti-World', 'The Fairly Odd Parents: Enter the Cleft', 'The Fairly Odd Parents: Game Boy Advance Video Volume 1', 'The Fairly Odd Parents: Game Boy Advance Video Volume 2', 'The Fairly Odd Parents: Shadow Showdown', \"The Fairly OddParents: Breakin' Da Rules\", 'The Fast and the Furious', 'The Fifth Element', 'The Fight: Lights Out', 'The Final Fantasy Legend', 'The Final Round', 'The First Templar', 'The Flintstones: Bedrock Bowling', 'The Flintstones: Big Trouble in Bedrock', 'The Game of Life', 'The Game of Life / Yahtzee / Payday', 'The Getaway', 'The Getaway: Black Monday', 'The God of War Trilogy', 'The Godfather', 'The Godfather (JP sales)', 'The Godfather (US & Others sales)', 'The Godfather (US sales)', 'The Godfather (old US sales)', 'The Godfather II', 'The Godfather: Blackhand Edition', 'The Godfather: Dons Edition', 'The Godfather: Mob Wars', 'The Golden Compass', 'The Golf Club', 'The Granstream Saga', 'The Great Battle Gaiden 2: Matsuri da Wasshoi', 'The Great Escape', 'The Great Mystery Hidden Object Package 5', 'The Grim Adventures of Billy & Mandy', 'The Grinch', 'The Guided Fate Paradox', 'The Gunstringer', 'The Guy Game', 'The Hardy Boys: The Hidden Theft', 'The Hardy Boys: Treasure on the Tracks', \"The Haunted: Hell's Reach\", 'The Heavy Rain and Beyond: Two Souls Collection', 'The Hidden', 'The History Channel: Battle for the Pacific', 'The History Channel: Civil War - A Nation Divided', 'The History Channel: Civil War - Secret Missions', 'The History Channel: Great Battles - Medieval', 'The Hobbit', 'The House of The Dead III', 'The House of the Dead', 'The House of the Dead 2', 'The House of the Dead 2 & 3 Return', 'The House of the Dead: Overkill', 'The House of the Dead: Overkill - Extended Cut', 'The Humans: Meet the Ancestors!', 'The Hustle: Detroit Streets', 'The ICO & Shadow of the Colossus Collection', 'The IdolM@ster: Gravure For You! Vol. 6', 'The IdolM@ster: One for All', 'The Idolm@ster', 'The Idolm@ster 2', 'The Idolm@ster SP: Wandering Star / Perfect Sun / Missing Moon', 'The Idolm@ster: Dearly Stars', 'The Idolm@ster: Live for You!', 'The Idolm@ster: Must Songs - Red Board / Blue Board', 'The Idolm@ster: Shiny Festa - Honey Sound / Funky Note / Groovy Tune', 'The Idolmaster 2', 'The Idolmaster: Gravure For You! Vol. 2', 'The Idolmaster: Gravure For You! Vol. 3', 'The Idolmaster: Gravure For You! Vol. 4', 'The Idolmaster: Gravure For You! Vol. 5', 'The Idolmaster: Gravure For You! Vol.7', 'The Idolmaster: Gravure For You! Vol.8', 'The Idolmaster: Gravure For You! Vol.9', 'The Idolmaster: Platinum Stars', 'The Incredible Hulk', 'The Incredible Hulk: The Pantheon Saga', 'The Incredible Hulk: Ultimate Destruction', 'The Incredibles', 'The Incredibles: Rise of the Underminer', 'The Inner World', 'The Invincible Iron Man', 'The Island of Dr. Frankenstein', 'The Italian Job', 'The Jak and Daxter Collection', \"The King of Fighters '94\", \"The King of Fighters '94 (CD)\", \"The King of Fighters '95\", \"The King of Fighters '95 (CD)\", \"The King of Fighters '96\", \"The King of Fighters '97\", \"The King of Fighters '98 Ultimate Match\", \"The King of Fighters '98: Dream Match Never Ends\", \"The King of Fighters '99\", 'The King of Fighters 02/03', 'The King of Fighters 2000', 'The King of Fighters 2000/2001', 'The King of Fighters 2002: Unlimited Match', 'The King of Fighters 2006', 'The King of Fighters Collection: The Orochi Saga', 'The King of Fighters Collection: The Orochi Saga (JP sales)', 'The King of Fighters EX2: Howling Blood', 'The King of Fighters Kyo', 'The King of Fighters NeoWave', \"The King of Fighters Portable '94~'98: Chapter of Orochi\", 'The King of Fighters XI', 'The King of Fighters XII', 'The King of Fighters XIII', 'The King of Fighters XIV', 'The King of Fighters: Dream Match 1999', 'The King of Fighters: Evolution', 'The King of Fighters: Maximum Impact - Maniax', 'The King of Route 66', 'The Kore Gang', 'The LEGO Movie Videogame', 'The Land Before Time: Big Water Adventure', 'The Land Before Time: Great Valley Racing Adventure', 'The Land Before Time: Into the Mysterious Beyond', 'The Last Airbender', 'The Last Guy', 'The Last Remnant', 'The Last Story', 'The Last of Us', \"The Legend of Alon D'ar\", 'The Legend of Dragoon', 'The Legend of Heroes II: Prophecy of the Moonlight Witch', 'The Legend of Heroes III: Song of the Ocean', 'The Legend of Heroes VII: The Trail of Blue', 'The Legend of Heroes VII: The Trail of Zero', 'The Legend of Heroes: A Tear of Vermillion', 'The Legend of Heroes: Trails in the Sky First Chapter', 'The Legend of Heroes: Trails in the Sky SC Evolution', 'The Legend of Heroes: Trails in the Sky Second Chapter', 'The Legend of Heroes: Trails in the Sky Third Chapter', 'The Legend of Heroes: Trails of Cold Steel', 'The Legend of Heroes: Trails of Cold Steel II', 'The Legend of Kage 2', 'The Legend of Korra (3DS)', 'The Legend of Legacy', 'The Legend of Spyro: A New Beginning', 'The Legend of Spyro: Dawn of the Dragon', 'The Legend of Spyro: The Eternal Night', 'The Legend of Zelda', 'The Legend of Zelda: A Link Between Worlds', 'The Legend of Zelda: A Link to the Past', 'The Legend of Zelda: Four Swords Adventures', \"The Legend of Zelda: Link's Awakening\", \"The Legend of Zelda: Link's Awakening DX\", \"The Legend of Zelda: Majora's Mask\", \"The Legend of Zelda: Majora's Mask 3D\", 'The Legend of Zelda: Ocarina of Time', 'The Legend of Zelda: Oracle of Ages', 'The Legend of Zelda: Oracle of Seasons', 'The Legend of Zelda: Phantom Hourglass', 'The Legend of Zelda: Skyward Sword', 'The Legend of Zelda: Spirit Tracks', 'The Legend of Zelda: The Minish Cap', 'The Legend of Zelda: The Minish Cap(weekly JP sales)', 'The Legend of Zelda: The Wind Waker', 'The Legend of Zelda: Tri Force Heroes', 'The Legend of Zelda: Twilight Princess', 'The Legend of Zelda: Twilight Princess HD', 'The Legend of the Mystical Ninja', 'The Legendary Starfy', 'The Longest 5 Minutes', 'The Longest Journey', 'The Lord of the Rings Online: Mines of Moria', \"The Lord of the Rings: Aragorn's Quest\", 'The Lord of the Rings: Conquest', 'The Lord of the Rings: The Battle for Middle-Earth', 'The Lord of the Rings: The Battle for Middle-Earth II', 'The Lord of the Rings: The Fellowship of the Ring', 'The Lord of the Rings: The Return of the King', 'The Lord of the Rings: The Third Age', 'The Lord of the Rings: The Two Towers', 'The Lord of the Rings: War in the North', 'The Lost Chronicles of Zerzura', 'The Lost Treasures of Alexandria', 'The Lost Vikings', 'The Lost World: Jurassic Park', 'The Magic School Bus: Oceans', 'The Magical Quest starring Mickey Mouse', 'The Mark of Kri', 'The Matrix: Path of Neo', 'The Misadventures of Tron Bonne', 'The Monkey King: The Legend Begins', 'The Movies', 'The Mummy', 'The Mummy Returns', 'The Mummy: Tomb of the Dragon Emperor', 'The Munchables', 'The Mysterious Case of Dr. Jekyll and Mr. Hyde', 'The Mysterious Murasame Castle', 'The Naked Brothers Band: The Video Game', 'The New Tetris', 'The New York Times Crosswords', 'The Next BIG Thing', 'The Next Tetris', 'The Night of the Rabbit', 'The Nightmare of Druaga: Fushigino Dungeon', 'The Operative: No One Lives Forever', 'The Orange Box', 'The Order: 1886', 'The Oregon Trail', 'The Outfit', \"The Peanuts Movie: Snoopy's Grand Adventure\", 'The Penguins of Madagascar', 'The Penguins of Madagascar: Dr. Blowhole Returns - Again!', 'The Perfect Golf', 'The Pinball of the Dead', 'The Polar Express', 'The Powerpuff Girls: Chemical X-Traction', 'The Powerpuff Girls: Him and Seek', 'The Powerpuff Girls: Relish Rampage', 'The Price is Right', 'The Price is Right 2010 Edition', 'The Price is Right: Decades', 'The Princess and the Frog', \"The Professor's Brain Trainer: Logic\", 'The Punisher', 'The Putter Golf', 'The Quest Trio', 'The Raiden Project', 'The Revenge of Shinobi', 'The Ripping Friends', 'The Rise of the Argonauts', 'The Rub Rabbits!', 'The Saboteur', 'The Scorpion King: Rise of the Akkadian', 'The Scorpion King: Sword of Osiris', 'The Secret Saturdays: Beasts of the 5th Sun', 'The Secret World', 'The Settlers', 'The Settlers 7: Paths to a Kingdom', 'The Settlers II 10th Anniversary', 'The Settlers IV', 'The Settlers: Rise of an Empire', 'The Seven Deadly Sins: Unjust Sin', 'The Shoot', 'The Simpsons Game', 'The Simpsons Skateboarding', 'The Simpsons: Hit & Run', 'The Simpsons: Road Rage', 'The Sims', 'The Sims 2', 'The Sims 2: Apartment Life', 'The Sims 2: Apartment Pets', 'The Sims 2: Bon Voyage', 'The Sims 2: Castaway', 'The Sims 2: Family Fun Stuff', 'The Sims 2: Glamour Life Stuff', 'The Sims 2: Happy Holiday Stuff', 'The Sims 2: Ikea Home Stuff', 'The Sims 2: Nightlife', 'The Sims 2: Open for Business', 'The Sims 2: Pets', 'The Sims 2: Seasons', 'The Sims 2: University', 'The Sims 3', 'The Sims 3: Ambitions', 'The Sims 3: Barnacle Bay', 'The Sims 3: Fast Lane Stuff', 'The Sims 3: Generations', 'The Sims 3: High-End Loft Stuff', 'The Sims 3: Late Night Expansion Pack', 'The Sims 3: Outdoor Living Stuff', 'The Sims 3: Seasons', 'The Sims 3: Town Life Stuff', 'The Sims 3: World Adventures', 'The Sims 4', 'The Sims 4: City Living', 'The Sims 4: Get Together', 'The Sims 4: Luxury Party Stuff', 'The Sims 4: Spa Day', 'The Sims Deluxe', 'The Sims Medieval: Pirates and Nobles', \"The Sims: Bustin' Out\", 'The Sims: Complete Collection', 'The Sims: Hot Date', 'The Sims: House Party', 'The Sims: Livin Large', \"The Sims: Makin' Magic\", 'The Sims: Medieval', 'The Sims: Superstar', 'The Sims: Unleashed', 'The Sims: Vacation', 'The Sky Crawlers: Innocent Aces', 'The Sly Collection', 'The Smurfs', 'The Smurfs 2', 'The Smurfs: Dance Party', 'The Space Bar', 'The Spiderwick Chronicles', 'The SpongeBob SquarePants Movie', \"The Story of Noah's Ark\", 'The Stronghold Collection', 'The Suffering', 'The Suffering: Ties That Bind', 'The Suite Life of Zack & Cody: Circle of Spies', 'The Suite Life of Zack & Cody: Tipton Trouble', 'The Sum of All Fears', 'The Tale of Despereaux', 'The Talos Principle', 'The Technomancer', 'The Terminator: Dawn of Fate', 'The Testament of Sherlock Holmes', 'The Thing', 'The Tomb Raider Trilogy', 'The Train Giant', 'The Treasures of Montezuma', 'The Treasures of Mystery Island 3 Pack - Save Mystery Island!', 'The Typing of the Dead', 'The Ultimate Battle of the Sexes', 'The Ultimate Red Ball Challenge', 'The Unholy War', 'The Urbz: Sims In the City (US weekly sales)', 'The Urbz: Sims in the City', 'The Urbz: Sims in the City (all regions sales)', 'The Voice', 'The Void', 'The Walking Dead: Season One', 'The Walking Dead: Season Two', 'The Walking Dead: Survival Instinct', 'The Warriors', 'The Weakest Link', 'The Whispered World', 'The Wild Thornberrys Movie', 'The Wild Thornberrys: Animal Adventures', 'The Wild Thornberrys: Chimp Chase', 'The Wild West', 'The Witch and the Hundred Knight', 'The Witcher', 'The Witcher 2: Assassins of Kings', 'The Witcher 3: Wild Hunt', 'The Witcher: Enhanced Edition', 'The Wizard of Oz: Beyond The Yellow Brick Road', 'The Wolf Among Us', 'The Wonderful 101', 'The World Ends With You', 'The X Files', 'The X Files: Resist or Serve', 'The X-Factor', 'Theatre Of War', 'Theatrhythm Dragon Quest', 'Theatrhythm Final Fantasy: Curtain Call', 'Theatrhythm: Final Fantasy', 'Theme Hospital', 'Theme Park', 'Theme Park Roller Coaster', 'There', 'Theresia...', 'Thief (2014)', 'Thief: Deadly Shadows', 'This War of Mine', 'Thomas & Friends: Hero of the Rails', 'Thomas and Friends: Steaming around Sodor', 'Thomas the Tank Engine & Friends', 'Thor: God of Thunder', 'Thoroughbred Breeder', 'Thoroughbred Breeder II', 'Thoroughbred Breeder II Plus', 'Thousand Arms', 'Thrasher Presents: Skate and Destroy', 'Threads of Fate', 'Thrillville', 'Thrillville: Off the Rails', 'Thunder Alley', 'Thunder Force V: Perfect System', 'Thunder Force VI', 'Thunder Truck Rally', 'ThunderStrike 2', 'Thunderbirds', 'Thunderstrike: Operation Phoenix', \"Tiger & Bunny: Hero's Day\", 'Tiger & Bunny: On-Air Jack!', 'Tiger Woods 99 PGA Tour Golf', 'Tiger Woods PGA Tour', 'Tiger Woods PGA Tour 06', 'Tiger Woods PGA Tour 07', 'Tiger Woods PGA Tour 08', 'Tiger Woods PGA Tour 09', 'Tiger Woods PGA Tour 09 All-Play', 'Tiger Woods PGA Tour 10', 'Tiger Woods PGA Tour 11', 'Tiger Woods PGA Tour 12: The Masters', 'Tiger Woods PGA Tour 13', 'Tiger Woods PGA Tour 14', 'Tiger Woods PGA Tour 2000', 'Tiger Woods PGA Tour 2001', 'Tiger Woods PGA Tour 2002', 'Tiger Woods PGA Tour 2003', 'Tiger Woods PGA Tour 2004', 'Tiger Woods PGA Tour 2005', 'Tiger Woods PGA Tour Golf', 'TigerShark', \"Tigger's Honey Hunt\", \"Tim Burton's The Nightmare Before Christmas: Oogie's Revenge\", \"Tim Burton's The Nightmare Before Christmas: The Pumpkin King\", 'Time Commando', 'Time Crisis', 'Time Crisis 3', 'Time Crisis 4', 'Time Crisis II', 'Time Crisis: Crisis Zone', 'Time Crisis: Project Titan', 'Time Crisis: Razing Storm', 'Time Hollow', 'Time Leap', 'Time Travelers', 'Time and Eternity', 'TimeShift', 'TimeSplitters', 'TimeSplitters 2', 'TimeSplitters: Future Perfect', 'Timeshock! Pro Pinball', 'Timmy Time', 'Tiny Tank', \"Tiny Toon Adventures: Plucky's Big Adventure\", 'Tiny Toon Adventures: The Great Beanstalk', 'Tiny Toon Adventures: Toonenstein - Dare to Scare', 'Tiny Toon Adventures: Wacky Stackers', 'Titan Quest', 'Titanfall', 'Titanfall 2', 'Titanic Mystery', 'To Heart', 'To Heart 2 DX Plus', 'To Heart 2: Dungeon Travelers', 'To Love-Ru Trouble Darkness: Battle Ecstasy', 'To Love-Ru Trouble: Darkness - True Princess', 'To LoveRu Trouble: Doki Doki! Rinkaigakkou-Hen', 'To LoveRu Trouble: Waku Waku! Rinkangakkou-Hen', 'Toaru Kagaku no Chou Denjihou', 'Toaru Majutsu no Index', 'Toaru Majutsu no Kagaku no Ensemble', 'Tobal 2', 'Tobal No.1', 'Tobidase! Kagaku-kun Chikyuu Daitanken! Nazo no Chinkai Seibutsu ni Idome!', 'ToeJam & Earl III: Mission to Earth', 'Togainu no Chi: True Blood', 'Tohoku Daigaku Karei Igaku Kenkyuusho - Kawashima Ryuuta Kyouju Kanshuu - Mono Sugoku Nou o Kitaeru 5-Funkan no Oni Training', 'Toki no Kizuna: Hanayui Tsuzuri', 'Toki no Kizuna: Sekigahara Kitan', 'Tokimeki Mahjong Paradise: Koi no Tenpai Beat', 'Tokimeki Memorial 2', 'Tokimeki Memorial 4', \"Tokimeki Memorial Girl's Side 1st Love Plus\", \"Tokimeki Memorial Girl's Side 2nd Kiss\", \"Tokimeki Memorial Girl's Side 3rd Story\", \"Tokimeki Memorial Girl's Side Premium: 3rd Story\", 'Tokimeki Memorial: Forever with You', \"Tokimeki Memorial: Girl's Side\", \"Tokimeki Memorial: Girl's Side 2nd Season\", 'Tokimeki Memorial: Girls Side 1st Love', 'Tokimeki Memorial: Private Collection', 'Tokimeki Memorial: Taisen Pazurudama', 'Tokimeki no Houkago', 'Tokobot', 'Tokumei Sentai Go-Busters', 'Tokushu Houdoubu', 'Tokyo Beat Down', 'Tokyo Friend Park II DS', 'Tokyo Ghoul: Jail', 'Tokyo Highway Battle', 'Tokyo Jungle', 'Tokyo Majin Gakuen: Kenfuuchou', 'Tokyo Mew Mew', 'Tokyo Mono Harashi: Karasu no Mori Gakuen Kitan', 'Tokyo Twilight Ghost Hunters', 'Tokyo Xanadu', 'Tokyo Xanadu eX+', 'Tokyo Xtreme Racer', 'Tokyo Xtreme Racer 3', 'Tokyo Xtreme Racer Advance', 'Tokyo Xtreme Racer DRIFT', 'Tokyo Xtreme Racer Zero', \"Tom Clancy's  Ghost Recon Advanced Warfighter (weekly JP sales)\", \"Tom Clancy's Classic Trilogy\", \"Tom Clancy's EndWar\", \"Tom Clancy's Ghost Recon\", \"Tom Clancy's Ghost Recon 2\", \"Tom Clancy's Ghost Recon 2: Summit Strike\", \"Tom Clancy's Ghost Recon Advanced Warfighter\", \"Tom Clancy's Ghost Recon Advanced Warfighter 2\", \"Tom Clancy's Ghost Recon: Advanced Warfighter\", \"Tom Clancy's Ghost Recon: Future Soldier\", \"Tom Clancy's Ghost Recon: Island Thunder\", \"Tom Clancy's Ghost Recon: Jungle Storm\", \"Tom Clancy's Ghost Recon: Predator\", \"Tom Clancy's Ghost Recon: Shadow Wars\", \"Tom Clancy's HAWX\", \"Tom Clancy's HAWX 2\", \"Tom Clancy's Rainbow Six\", \"Tom Clancy's Rainbow Six 3\", \"Tom Clancy's Rainbow Six 3: Black Arrow\", \"Tom Clancy's Rainbow Six: Critical Hour\", \"Tom Clancy's Rainbow Six: Lockdown\", \"Tom Clancy's Rainbow Six: Rogue Spear\", \"Tom Clancy's Rainbow Six: Siege\", \"Tom Clancy's Rainbow Six: Vegas\", \"Tom Clancy's Rainbow Six: Vegas 2\", \"Tom Clancy's Splinter Cell\", \"Tom Clancy's Splinter Cell 3D\", \"Tom Clancy's Splinter Cell Classic Trilogy HD\", \"Tom Clancy's Splinter Cell Trilogy\", \"Tom Clancy's Splinter Cell: Blacklist\", \"Tom Clancy's Splinter Cell: Chaos Theory\", \"Tom Clancy's Splinter Cell: Conviction\", \"Tom Clancy's Splinter Cell: Double Agent\", \"Tom Clancy's Splinter Cell: Essentials\", \"Tom Clancy's Splinter Cell: Pandora Tomorrow\", \"Tom Clancy's The Division\", 'Tom and Jerry Tales', 'Tom and Jerry in Fists of Furry', 'Tom and Jerry in House Trap', 'Tom and Jerry in War of the Whiskers', 'Tom and Jerry: Infurnal Escape', 'Tomb Raider', 'Tomb Raider (2013)', 'Tomb Raider Chronicles', 'Tomb Raider II', 'Tomb Raider III: Adventures of Lara Croft', 'Tomb Raider: Anniversary', 'Tomb Raider: Legend', 'Tomb Raider: The Last Revelation', 'Tomb Raider: The Prophecy', 'Tomb Raider: Underworld', 'Tomb Raider: Underworld (Others sales)', 'Tomba!', 'Tomba! 2: The Evil Swine Return', 'Tomodachi Life', \"Tomoyo After: It's a Wonderful Life CS Edition\", 'Tongari Boushi to Mahou no Otana', 'Tongari Boushi to Oshare na Mahou Tsukai', 'Tonic Trouble', 'Tonka Rescue Patrol', \"Tony Hawk's American Sk8land\", \"Tony Hawk's American Wasteland\", \"Tony Hawk's American Wasteland (Old all region sales)\", \"Tony Hawk's American Wasteland (Weekly american sales)\", \"Tony Hawk's Downhill Jam\", \"Tony Hawk's Motion\", \"Tony Hawk's Pro Skater\", \"Tony Hawk's Pro Skater 2\", \"Tony Hawk's Pro Skater 2x\", \"Tony Hawk's Pro Skater 3\", \"Tony Hawk's Pro Skater 4\", \"Tony Hawk's Pro Skater 5\", \"Tony Hawk's Project 8\", \"Tony Hawk's Proving Ground\", \"Tony Hawk's Underground\", \"Tony Hawk's Underground 2\", \"Tony Hawk's Underground 2 Remix\", 'Tony Hawk: RIDE', 'Tony Hawk: Shred', 'Too Human', 'Top Angler: Real Bass Fishing', 'Top Gear Hyper-Bike', 'Top Gear Overdrive', 'Top Gear RPM Tuning', 'Top Gear Rally', 'Top Gear Rally 2', 'Top Gun', 'Top Gun: Combat Zones', 'Top Gun: Fire at Will!', 'Top Gun: Firestorm Advance', 'Top Gun: Hard Lock', 'Top Shot Arcade', 'Top Spin', 'Top Spin 2', 'Top Spin 3', 'Top Spin 4', 'ToraDora Portable!', 'Torchlight', 'Toriko: Gourmet Battle!', 'Toriko: Gourmet Monsters!', 'Toriko: Gourmet Survival!', 'Toriko: Ultimate Survival', 'Torino 2006', 'Tork: Prehistoric Punk', 'Tornado', 'Tornado Outbreak', 'Torneko no Daibouken: Fushigi no Dungeon', 'Toro to Morimori', 'Toshochu: Run for Money', 'Total Immersion Racing', \"Total Overdose: A Gunslinger's Tale in Mexico\", 'Total War Attila: Tyrants & Kings', 'Total War: Attila', 'Total War: Rome II', 'Total War: Shogun 2', 'Total War: Shogun 2 - Fall of the Samurai', 'Total War: WARHAMMER', 'Totaled!', 'Totally Spies!', 'Totally Spies! 2: Undercover', 'Totally Spies! Totally Party', 'Tottadoo! Yoiko no Mujintou Seikatsu', \"Touch 'N' Play Collection\", 'Touch Detective', 'Touch Detective (JP sales)', 'Touch Detective 2 1/2', 'Touch Detective 3: Does Funghi Dream of Bananas?', 'Touch Detective: Nameko Shigeru', 'Touch Mechanic', 'Touch My Katamari ', 'Touch Shot! Love Application', 'Touch the Dead', 'TouchMaster', 'TouchMaster 2', 'TouchMaster 3', 'TouchMaster 3(Others sales)', 'TouchMaster: Connect', 'Touhoku Daigaku Mirai Kagaku Gijutsu Kyoudou Kenkyuu Center Kawashima Ryuuta Kyouju Kanshu: Nou Ryoku Trainer Portable', 'Touhou Genso Rondo: Bullet Ballet', 'Toukiden 2', 'Toukiden Kiwami', 'Toukiden: The Age of Demons', 'Tour de France 2011', 'Tour de France 2014', 'Tourist Trophy: The Real Riding Simulator', 'Tournament Pool', 'Tournament of Legends', 'Toushin Toshi', 'Toxic Grind', 'Toy Shop', 'Toy Soldiers: War Chest', 'Toy Story 2: Buzz Lightyear to the Rescue!', 'Toy Story 3: The Video Game', 'Toy Story Mania!', 'Toy Story Racer', 'Trace Memory', 'TrackMania DS', 'TrackMania Turbo', 'TrackMania Turbo: Build to Race', 'TrackMania: Build to Race', 'Trade & Battle: Card Hero', 'Train Simulator 2016', 'TransFormers Animated: The Game', 'Transformer: Rise of the Dark Spark', 'Transformer: Rise of the Dark Spark (3DS)', 'Transformers', 'Transformers: Autobots / Decepticons', 'Transformers: Beast Wars Transmetals', 'Transformers: Cybertron Adventures', 'Transformers: Dark of the Moon', 'Transformers: Dark of the Moon - Autobots/Decepticons', 'Transformers: Devastation', 'Transformers: Fall of Cybertron', 'Transformers: Prime', 'Transformers: Revenge of the Fallen (DS Versions)', 'Transformers: Revenge of the Fallen (Wii & PS2 Version)', 'Transformers: Revenge of the Fallen (XBox 360, PS3, & PC Versions)', 'Transformers: The Game (XBox 360, PS2, PS3, Wii & PC Versions)', 'Transformers: War for Cybertron (DS Version)', 'Transformers: War for Cybertron (XBox 360, PS3, & PC Versions)', 'Transformers: War for Cybertron -- Decepticons', 'Transport Fever', 'Transworld Snowboarding', 'Transworld Surf', 'Trap Gunner: Countdown to Oblivion', 'Trapped Dead', 'Trapt', 'Trauma Center: New Blood', 'Trauma Center: Second Opinion', 'Trauma Center: Under the Knife', 'Trauma Center: Under the Knife 2', 'Trauma Team', 'Travel Coach: Europe 1', 'Travel Games For Dummies', 'Treasure Chase', 'Treasure Gaust: Gaust Diver Crimson Red / Deep Purple', 'Treasure Hunter G', 'Treasure Report: Kikai Jikake no Isan', 'Treasure World', 'Treasures of the Deep', 'Trials Fusion', 'Tribes: Aerial Assault', 'Trick DS-han: Kakushi Kami no Sumukan', 'Trick x Logic: Season 1', 'Trick x Logic: Season 2', 'Trigger Man', 'Triggerheart Excelica Enhanced', 'Triggerheart Exelica', 'Trine', 'Trine 2', 'Tringo', 'Trinity Universe', 'Triple Crown Championship Snowboarding', 'Triple Pack: Xbox Live Arcade Compilation', 'Triple Play 2000', 'Triple Play 2001', 'Triple Play 2002', 'Triple Play 97', 'Triple Play 98', 'Triple Play 99', 'Trivial Pursuit', 'Trivial Pursuit unhinged', 'Trivial Pursuit: Bet You Know It', 'Trollz: Hair Affair!', 'Tron 2.0: Killer App', 'Tropico 3', 'Tropico 3: Gold Edition', 'Tropico 4', 'Tropico 4: Modern Times', 'Tropico 5', 'Tropico Reloaded', 'Tropix', 'Truck Racer', 'True Crime: New York City', 'True Crime: Streets of LA', 'True Love Story 3', 'True Pinball', 'True Swing Golf', 'Truth or Lies', 'Tsugunai: Atonement', 'Tsuki ni Yori Sou Otome no Sahou: Hidamari no Hibi', 'Tsuki no Hikari: Shizumeru Kane no Satsujin', \"Tsukigime Ranko's Longest Day\", 'Tsuku Monogatari', 'Tsumiki: Block Drop Mania', 'Tsurugi no Machi no Ihoujin: Kuro no Kyuuden', 'Tsuyo Kiss 2 Gakki: Swift Love', 'Tsuyo Kiss 2 Portable', 'Tsuyo Kiss 3 Portable', 'Tsuyo Kiss: Mighty Heart', 'Tube Slider', 'Tunnel B1', 'Turbo Prop Racing', 'Turbo Trainz', 'Turbo Turtle Adventure', 'Turbo: Super Stunt Squad', 'Turn It Around', 'Turning Point: Fall of Liberty', 'Turok', 'Turok 2: Seeds of Evil', 'Turok 3: Shadow of Oblivion', 'Turok: Dinosaur Hunter', 'Turok: Evolution', 'Turok: Rage Wars', 'Twilight Syndrome: Kinjiratera Toshi Densetsu', 'Twin Strike: Operation Thunder', 'TwinBee', 'Twinkle * Crusaders GoGo!', 'Twisted Edge Extreme Snowboarding', 'Twisted Metal', 'Twisted Metal (2012)', 'Twisted Metal 2', 'Twisted Metal 4', 'Twisted Metal III', 'Twisted Metal: Black', 'Twisted Metal: Head On', 'Twisted Metal: Small Brawl', 'Twister Mania', 'Two Worlds', 'Two Worlds II', 'Ty the Tasmanian Tiger', 'Ty the Tasmanian Tiger 2: Bush Rescue', 'Ty the Tasmanian Tiger 3: Night of the Quinkan', 'Tyco RC: Assault with a Battery', 'Tycoon City: New York', 'U-Sing', 'U-Sing  2', 'U-Sing: Girls Night', 'UEFA Champions League 2006-2007', 'UEFA Euro 2004: Portugal', 'UEFA Euro 2008 Austria-Switzerland', 'UEFA Euro 2016', 'UFC 2009 Undisputed', 'UFC Personal Trainer: The Ultimate Fitness System', 'UFC Undisputed 2010', 'UFC Undisputed 3', 'UFC: Sudden Impact', 'UFC: Tapout', 'UFC: Tapout 2', 'UFO: Trilogy', 'UK Truck Simulator', 'UN Squadron', 'UNO / Skip-Bo / UNO Freefall', 'UNO 52', 'USA Today Crossword Challenge', 'USA Today Puzzle Craze', 'Uchi no 3 Shimai DS', 'Uchida Yasuou Mystery: Meitantei Senken Mitsuhiko Series: Fukutoshin Renzoku Satsujin Jiken', 'Uchuu Keiji Tamashii: The Space Sheriff Spirits', 'Ukiyo no Roushi', 'Ukiyo no Shishi', 'Ultimate Band', 'Ultimate Block Party', 'Ultimate Board Game Collection', 'Ultimate Brain Games', 'Ultimate Card Games', 'Ultimate Card Games DS', 'Ultimate Duck Hunting', 'Ultimate Duck Hunting: Hunting & Retrieving Ducks', 'Ultimate Fighting Championship', 'Ultimate Fighting Championship: Throwdown', 'Ultimate Game Room', \"Ultimate Ghosts 'n Goblins\", \"Ultimate Ghosts 'n Goblins (JP sales)\", 'Ultimate I Spy', 'Ultimate Marvel vs. Capcom 3', 'Ultimate Mortal Kombat', 'Ultimate Muscle - The Kinnikuman Legacy: Legends vs New Generation', 'Ultimate Muscle - The Kinnikuman Legacy: The Path of the Superhero', 'Ultimate NES Remix', 'Ultimate Party Challenge', 'Ultimate Puzzle Games', 'Ultimate Puzzle Games: Sudoku Edition', 'Ultimate Shooting Collection', 'Ultimate Spider-Man', 'Ultra Bust-A-Move', 'Ultra Street Fighter IV', 'Ultraman Fighting Evolution 0', 'Ultraman Fighting Evolution 3', 'Ultraman Star Chronicles', 'Um Jammer Lammy', 'Umihara Kawase Jun: Second Edition Kanzenban', 'Umineko no Naku Koro ni Portable 1', 'Umineko no Naku Koro ni San: Shinjitsu to Gensou no Yasoukyoku', 'Umineko no Naku Koro ni: Majo to Suiri no Rinbukyoku', 'UnchainBlades EXXiV', 'Unchained Blades ', 'Uncharted 2: Among Thieves', \"Uncharted 3: Drake's Deception\", \"Uncharted 4: A Thief's End\", \"Uncharted: Drake's Fortune\", 'Uncharted: Golden Abyss', 'Uncharted: The Nathan Drake Collection', 'Undead Knights', 'Under Night In-Birth', 'Under the Skin', 'Underground Pool', 'Unending Bloody Call', 'Unison: Rebels of Rhythm & Dance', 'Unit 13', 'Universal Studios Theme Parks Adventure', 'Universe at War: Earth Assault', 'Unlimited Saga', 'Unou no Tatsujin: Soukai! Machigai Museum 2', 'Unreal Anthology', 'Unreal Championship', 'Unreal Championship 2: The Liandri Conflict', 'Unreal II: The Awakening', 'Unreal Tournament', 'Unreal Tournament 2003', 'Unreal Tournament 2004', 'Unreal Tournament III', 'Unsolved Crimes', 'Until Dawn', 'Until Dawn: Rush of Blood', 'Untold Legends: Brotherhood of the Blade', 'Untold Legends: Dark Kingdom', 'Untold Legends: The Warriors Code', 'Up', 'Uppers', 'Uprising X', 'Urakata Hakuoki', 'Urban Chaos', 'Urban Chaos: Riot Response', 'Urban Reign', 'Uru: Ages Beyond Myst', 'Usavichi: Game no Jikan', 'Uta Kumi 575', 'Uta no * Prince-Sama', 'Uta no * Prince-Sama: All Star', 'Uta no * Prince-Sama: Repeat', 'Uta no * Prince-Sama: Sweet Serenade', 'Uta no Prince-Sama: All Star After Secret', 'Uta no Prince-Sama: Debut', 'Uta no Prince-Sama: Music', 'Uta no Prince-Sama: Music 2', 'Uta no Prince-Sama: Music 3', 'Utawarerumono Portable', 'Utawarerumono: Chiriyukusha e no Komoriuta', 'Utawarerumono: Futari no Hakuoro', 'Utawarerumono: Itsuwari no Kamen', 'V-Rally 3', 'V-Rally Edition 99', 'VMX Racing', \"VR Golf '97\", \"VR Soccer '96\", 'Vacation Isle: Beach Party', 'Vacation Sports', 'Vagrant Story', 'Valentino Rossi: The Game', 'Valhalla Knights', 'Valhalla Knights 2', 'Valhalla Knights 2: Battle Stance', 'Valhalla Knights 3', 'Valhalla Knights: Eldar Saga', 'Valkyria Chronicles', 'Valkyria Chronicles II', 'Valkyria Chronicles III: Unrecorded Chronicles', 'Valkyrie Drive: Bhikkhuni', 'Valkyrie Profile', 'Valkyrie Profile 2: Silmeria', 'Valkyrie Profile: Covenant of the Plume', 'Valkyrie Profile: Lenneth', 'Vampire Knight DS', 'Vampire Legends: Power of Three', 'Vampire Mansion: Linda Hyde', 'Vampire Moon: The Mystery of the Hidden Sun', 'Vampire Night', 'Vampire Rain', 'Vampire Rain: Altered Species', 'Vampire Savior: The Lord of Vampire', 'Van Helsing', 'Vanark', 'Vancouver 2010 - The Official Video Game of the Olympic Winter Games', 'Vandal Hearts', 'Vandal Hearts II', 'Vanguard Bandits', 'Vanishing Point', 'Vanquish', 'Vantage Master Portable', 'Vegas Casino', 'Vegas Party', 'Veggy World', 'Vehicular Combat League presents Motor Mayhem', 'Velvet Assassin', 'Venetica', 'Venus & Braves: Majo to Megami to Horobi no Yogen', 'Vertigo', 'Vexx', \"Victorious Boxers: Ippo's Road to Glory\", 'Victorious Boxers: Revolution', 'Victorious: Hollywood Arts Debut', 'Victorious: Time to Shine', 'Victory Spike', 'Victory Zone', 'Vietcong', 'Vietcong: Purple Haze', 'Viewpoint', 'Viewtiful Joe', 'Viewtiful Joe 2', 'Viewtiful Joe: Double Trouble!', 'Viewtiful Joe: Red Hot Rumble', 'Vigilante 8', 'Vigilante 8: 2nd Offense', 'Viking: Battle for Asgard', 'Vin Diesel: Wheelman', 'Violet no Atelier: Gramnad no Renkinjutsushi 2 - Gunjou no Omoide', 'Virtua Cop', 'Virtua Cop 2', 'Virtua Fighter', 'Virtua Fighter 2', 'Virtua Fighter 3tb', 'Virtua Fighter 4', 'Virtua Fighter 4: Evolution', 'Virtua Fighter 5', 'Virtua Fighter 5 Online', 'Virtua Fighter CG Portrait Series Vol.1: Sarah Bryant', 'Virtua Fighter CG Portrait Series Vol.2: Jacky Bryant', 'Virtua Fighter CG Portrait Series Vol.3: Akira Yuki', 'Virtua Fighter CG Portrait Series Vol.4: Pai Chan', 'Virtua Fighter CG Portrait Series Vol.5: Wolf Hawkfield', 'Virtua Fighter CG Portrait Series Vol.6: Lau Chan', 'Virtua Fighter Kids', 'Virtua Pro Football', 'Virtua Quest', 'Virtua Racing', 'Virtua Striker 2', 'Virtua Striker 2002', 'Virtua Tennis', 'Virtua Tennis 2009', 'Virtua Tennis 3', 'Virtua Tennis 4', 'Virtua Tennis 4: World Tour', 'Virtua Tennis: World Tour (US & Others sales)', 'Virtua Tennis: World Tour (jp sales)', 'Virtual Chess 64', 'Virtual Hydlide', 'Virtual Kasparov', 'Virtual Pool', 'Virtual Pool 64', 'Virtual Pool: Tournament Edition', 'Virtual Pro Wrestling', 'Virtual Soccer', 'Virtual Villagers: A New Home', 'Virus', 'Vitamin R', 'Vitamin X', 'Vitamin X Evolution', 'Vitamin X Evolution Plus', 'Vitamin X to Z', 'Vitamin X: Detective B6', 'Vitamin Y', 'Vitamin Z', 'Vitamin Z Revolution', 'Viva Pinata', 'Viva Pinata: Party Animals', 'Viva Pinata: Pocket Paradise', 'Viva Pinata: Trouble in Paradise', 'Viz', 'Volleyball', 'Voodoo Chronicles: First Sign', 'Voodoo Vince', 'W.L.O. Sekai Renai Kikousen', 'WCW Backstage Assault', 'WCW Mayhem', 'WCW Nitro', 'WCW vs the World', 'WCW vs. nWo: World Tour', 'WCW/NWO Thunder', 'WCW/nWo Revenge', 'WRC 2: FIA World Rally Championship', 'WRC 5: FIA World Rally Championship', 'WRC: FIA World Rally Championship', 'WRC: World Rally Championship', 'WSC REAL 09: World Snooker Championship', 'WSC Real 11: World Snooker Championship', 'WTA Tour Tennis', 'WTF: Work Time Fun', \"WWE '12\", \"WWE '13\", 'WWE 2K14', 'WWE 2K15', 'WWE 2K16', 'WWE 2K17', 'WWE All Stars', 'WWE Crush Hour', 'WWE Day of Reckoning', 'WWE Day of Reckoning 2', 'WWE Raw 2', 'WWE Road to WrestleMania X8', 'WWE SmackDown vs Raw 2008', 'WWE SmackDown vs. RAW 2007', 'WWE SmackDown vs. Raw 2009', 'WWE SmackDown vs. Raw 2010', 'WWE SmackDown vs. Raw 2011', 'WWE SmackDown! Here Comes the Pain', 'WWE SmackDown! Shut Your Mouth', 'WWE SmackDown! vs. RAW 2006', 'WWE SmackDown! vs. Raw', 'WWE Survivor Series', 'WWE WrestleMania 21', 'WWE Wrestlemania X8', 'WWE Wrestlemania XIX', 'WWF Attitude', 'WWF No Mercy', 'WWF Raw', 'WWF SmackDown!', 'WWF SmackDown! 2: Know Your Role', 'WWF SmackDown! Just Bring It', 'WWF War Zone', 'WWF WrestleMania 2000', 'WWF Wrestlemania: The Arcade Game', 'WWF in Your House', 'WWII Aces', 'Wacky Races: Crash & Dash', 'Wacky World of Sports', \"Wade Hixton's Counter Punch\", 'Wakeboarding Unleashed Featuring Shaun Murray', 'Walk it Out!', 'Wall-E', 'Wallace & Gromit in Project Zoo', 'Wallace & Gromit: Curse of the Were-Rabbit', 'Walt Disney Pictures Presents Enchanted', 'Walt Disney Pictures Presents: The Wild', 'Walt Disney World Quest: Magical Racing Tour', \"Walt Disney's The Jungle Book: Rhythm N'Groove\", 'Wand of Fortune', 'Wand of Fortune 2 FD: Kimi ni Sasageru Epilogue', 'Wand of Fortune 2: Jikuu ni Shizumu Mokushiroku', 'Wand of Fortune Portable', 'Wand of Fortune R', 'Wand of Fortune: Mirai e no Prologue', 'Wand of Fortune: Mirai e no Prologue Portable', 'Wangan Midnight', 'Wangan Midnight Portable', 'Wantame Fortune Channel', 'Wantame Music Channel: Doko Demo Style', 'Wanted: Weapons of Fate', 'Wappy Dog', 'War Gods', 'War Leaders: Clash of Nations', 'War for the Overworld', 'War of the Monsters', 'WarCraft II: The Dark Saga', 'WarJetz', 'WarTech: Senko no Ronde', 'Warcraft II: Tides of Darkness', 'Warcraft III: Reign of Chaos', 'Warcraft III: The Frozen Throne', 'Warcraft: Orcs & Humans', 'Warhammer 40,000: Dawn of War', 'Warhammer 40,000: Dawn of War II', 'Warhammer 40,000: Dawn of War II - Chaos Rising', 'Warhammer 40,000: Dawn of War II - Retribution', 'Warhammer 40,000: Dawn of War: Soulstorm', 'Warhammer 40,000: Fire Warrior', 'Warhammer 40,000: Space Marine', 'Warhammer 40,000: Squad Command', 'Warhammer Online: Age of Reckoning', 'Warhammer: Battle For Atluma', 'Warhammer: Battle March', 'Warhammer: Dark Omen', 'Warhammer: Mark of Chaos', 'Warhammer: Shadow of the Horned Rat', 'Warhammer: The End Times - Vermintide', 'Warhawk', 'Wario Land 3', 'Wario Land 4', 'Wario Land II', 'Wario Land II (GBC)', 'Wario Land: Shake It!', 'Wario World', 'Wario: Master of Disguise', 'WarioWare D.I.Y.', 'WarioWare Touched!', 'WarioWare, Inc.: Mega MicroGame$', 'WarioWare, Inc.: Mega Party Game$', 'WarioWare: Smooth Moves', 'WarioWare: Twisted!', 'Warpath: Jurassic Park', 'Warriors Orochi', 'Warriors Orochi 2', 'Warriors Orochi 2 (JP sales)', 'Warriors Orochi 3', 'Warriors Orochi 3 Hyper', 'Warriors of Might and Magic', 'Warriors of the Lost Empire', 'Warriors of the Lost Empire (JP sales)', 'Warriors: Legends of Troy', 'Warship Gunner 2', 'Warship Gunner 2 Portable', 'Warzone 2100', 'Wasteland 2', 'Watashi no Relaxuma', 'Watch Dogs', 'Watch Dogs 2', 'Watchmen: The End is Nigh - The Complete Experience', 'Watchmen: The End is Nigh Part 1 & 2', 'Water Sports', 'Wave Race 64', 'Wave Race: Blue Storm', 'Wave Rally', 'Way of the Samurai', 'Way of the Samurai 2', 'Way of the Samurai 2 Portable', 'Way of the Samurai 3', 'Way of the Samurai 4', \"Wayne Gretzky's 3D Hockey\", \"Wayne Gretzky's 3D Hockey '98\", 'We Cheer', 'We Cheer 2', 'We Dance', 'We Love Golf!', 'We Love Katamari', 'We Sing', 'We Sing Deutsche Hits', 'We Sing Encore', 'We Sing Pop!', 'We Sing Robbie Williams', 'We Sing Rock!', 'We Sing UK Hits', 'We Ski', 'We Ski & Snowboard', 'We Wish You A Merry Christmas', 'Wedding Dash', 'Weiss Schwarz Portable', 'Western Riding Academy', 'Wet', 'Wetrix', 'Whac-A-Mole', 'Whacked!', 'What Did I Do to Deserve This, My Lord!? 2', \"What's Cooking? Jamie Oliver\", 'Wheel of Fortune', 'Wheel of Fortune: 2nd Edition', 'Where the Wild Things Are', \"Where's Waldo? The Fantastic Journey\", 'Whiplash', 'Whirl Tour', 'White Album 2: Shiawase no Mukougawa', 'White Album: Tsuzurareru Fuyu no Omoide', 'White Knight Chronicles II', 'White Knight Chronicles: International Edition', 'White Knight Chronicles: Origins', 'Whiteout', 'Who Wants to Be A Millionaire?', 'Who Wants to Be a Millionaire: 3rd Edition', 'Who Wants to be a Millionaire: 1st Edition', 'Who Wants to be a Millionaire: 2nd Edition', 'Who wants to be a millionaire', 'Wicked Monster Blast!', 'Wiffle Ball Advance', 'Wii Fit', 'Wii Fit Plus', 'Wii Fit U', 'Wii Music', 'Wii Party', 'Wii Party U', 'Wii Play', 'Wii Play: Motion', 'Wii Sports', 'Wii Sports Club', 'Wii Sports Resort', 'Wii de Asobu Chibi-Robo!', 'Wii de Asobu: Metroid Prime', 'Wild 9', 'Wild ARMs', 'Wild ARMs 2', 'Wild ARMs 3', 'Wild ARMs 4', 'Wild ARMs 5', 'Wild ARMs 5 (jp sales)', 'Wild ARMs XF', 'Wild ARMs: Alter Code F', 'Wild Earth: African Safari', 'Wild West Shootout', 'Wild Wild Racing', 'Wildlife Park 3', 'Wildstar', 'WinBack 2: Project Poseidon', 'WinBack: Covert Operations', 'Wing Arms', 'Wing Commander III: Heart of the Tiger', 'Wing Commander IV: The Price of Freedom', 'Wing Commander: Prophecy', 'Wing Island', 'Wings of War', 'Winning Eleven Playmaker 2010: Aoki Samurai no Chousen', 'Winning Eleven: Pro Evolution Soccer 2007', 'Winning Eleven: Pro Evolution Soccer 2007 (All Region sales)', 'Winning Post', 'Winning Post 2', 'Winning Post 3', 'Winning Post 4', 'Winning Post 4 Maximum', 'Winning Post 5', 'Winning Post 6', 'Winning Post 7 2009', 'Winning Post 7 2010', 'Winning Post 7 2012', 'Winning Post 7 2013', 'Winning Post 7 Maximum 2008', 'Winning Post 7: Maximum 2007', 'Winning Post 8 ', 'Winning Post 8 2015', 'Winning Post 8 2016', 'Winning Post World', 'Winning Post World 2010', 'Winter Blast: 9 Snow & Ice Games', 'Winter Heat', 'Winter Sports 2011', 'Winter Sports 2: The Next Challenge', 'Winter Sports 3: The Great Tournament', 'Winter Sports: The Ultimate Challenge', 'Winter Stars', 'Winx Club', 'Winx Club: Mission Enchantix', 'Winx Club: Quest for the Codex', 'Winx Club: Rockstars', 'Winx Club: Saving Alfea ', 'WipEout', 'WipEout 3', 'WipEout 64', 'WipEout Fusion', 'WipEout HD Fury', 'WipEout Pulse', 'WipEout Pure', 'WipEout XL', 'WipeOut 3 The Game', 'Wipeout 2', 'Wipeout 2048', 'Wipeout: In The Zone', 'Wipeout: The Game', 'WireWay', 'Witches & Vampires: The Secrets of Ashburry', 'Without Warning', 'Wizardry Twin Pack', 'Wizardry VI: Bane of the Cosmic Forge', 'Wizardry VII: Gadeia no Houshu', 'Wizardry XTH: Unlimited Students', 'Wizardry: Llylgamyn Saga', 'Wizardry: Tale of the Forsaken Land', 'Wizards of Waverly Place', 'Wizards of Waverly Place: Spellbound', 'Wolfenstein', 'Wolfenstein 3D', 'Wolfenstein: The New Order', 'Wolfenstein: The Old Blood', \"Women's Volleyball Championship\", 'Wonder Pets! Save the Animals!', 'Wonder Project J2: Koruro no Mori no Josette', 'Wonder Project J: Kikai no Shonen Pino', 'Wonder World Amusement Park', 'Woody Woodpecker Racing', 'Woody Woodpecker in Crazy Castle 5', 'Woody Woodpecker: Escape from Buzz Buzzard Park', 'WordJong', 'WordJong Party', 'Wordfish', 'Wordmaster', 'World Championship Athletics', 'World Championship Cards', 'World Championship Games: A Track & Field Event', 'World Championship Poker', 'World Championship Poker 2: Featuring Howard Lederer', 'World Championship Poker featuring Howard Lederer: All In', 'World Championship Poker: Deluxe Series', 'World Championship Poker: Featuring Howard Lederer - All In', 'World Championship Poker: Howard Lederer - All In', 'World Championship Pool 2004', 'World Championship Rugby', 'World Championship Spelling', \"World Class Rugby 2: Kokunai Gekitou Hen '93\", 'World Class Track Meet', \"World Cup '98 France: Road to Win\", 'World Cup 98', 'World Cup Golf: Professional Edition', 'World Cup of Pool', 'World Destruction League: Thunder Tanks', 'World Driver Championship', 'World Fantasista', 'World Heroes Anthology', 'World League Soccer', 'World Neverland 2in1 Portable: Olerud Kingdom & Republic of Pluto', 'World Party Games', 'World Poker Tour', 'World Racing', 'World Series Baseball', 'World Series Baseball 2K3', 'World Series of Poker', 'World Series of Poker 2008: Battle for the Bracelets', 'World Series of Poker: Tournament of Champions 2007 Edition', 'World Snooker Championship 2007', 'World Soccer Jikkyou Winning Eleven 2000: U-23 Medal heno Chousen', \"World Soccer Jikkyou Winning Eleven 3: World Cup France '98\", 'World Soccer Winning Eleven 2002', 'World Soccer Winning Eleven 2010: Aoki Samurai no Chousen', 'World Soccer Winning Eleven 5 Final Evolution', 'World Soccer Winning Eleven 6 International', 'World Soccer Winning Eleven 7', 'World Soccer Winning Eleven 7 International', 'World Soccer Winning Eleven 7 International (JP version)', 'World Soccer Winning Eleven 8 International', 'World Soccer Winning Eleven 8: Liveware Evolution', 'World Soccer Winning Eleven 9', 'World Soccer Winning Eleven 9 (JP & Others sales)', 'World Soccer Winning Eleven 9 (US sales)', 'World Soccer Winning Eleven 9 Bonus Pack', 'World Sports Competition', 'World Stadium 2', 'World Stadium 3', 'World Stadium 4', 'World Stadium 5', 'World Stadium EX', 'World Tour Soccer', 'World Tour Soccer 06', 'World Tour Soccer 2002', 'World Tour Soccer 2003', 'World Tour Soccer 2005', 'World Tour Soccer 2006', 'World Trigger: Borderless Mission', 'World War II Combat: Road To Berlin', 'World in Conflict', 'World in Conflict: Complete Edition', 'World of Dragon Warrior - Torneko: The Last Hope', 'World of Final Fantasy', 'World of Goo', 'World of Outlaws: Sprint Cars', 'World of Outlaws: Sprint Cars 2002', 'World of Tanks', 'World of Warcraft', 'World of Warcraft: Cataclysm', 'World of Warcraft: Legion', 'World of Warcraft: Mists of Pandaria', 'World of Warcraft: The Burning Crusade', 'World of Warcraft: Warlords of Draenor', 'World of Warcraft: Wrath of the Lich King', 'World of Zoo', \"World's Scariest Police Chases\", 'WorldShift', 'Worldwide Soccer', 'Worldwide Soccer Manager 2006', 'Worldwide Soccer Manager 2007', 'Worldwide Soccer Manager 2008', 'Worldwide Soccer Manager 2009', 'Worms', 'Worms 2', 'Worms 3D', 'Worms 4: Mayhem', 'Worms Armageddon', 'Worms Blast', 'Worms Forts: Under Siege', 'Worms Reloaded', 'Worms World Party', 'Worms: A Space Oddity', 'Worms: Battle Islands', 'Worms: Open Warfare', 'Worms: Open Warfare 2', 'Worms: Ultimate Mayhem', 'Worms: WMD', 'Wrath Unleashed', 'Wreckin Crew', 'Wrecking Crew', 'Wreckless: ThE YaKuza MisSiOns', 'Wrestle Angels: Survivor 2', 'Wrestle Kingdom', 'Wrestle Kingdom 2: Pro Wrestling Sekai Taisen', 'Writing and Speaking Beautiful Japanese DS', 'Wu-Tang: Shaolin Style', 'X Rebirth', 'X-Blades', 'X-COM: UFO Defense', 'X-Man', 'X-Men Legends', 'X-Men Legends II: Rise of Apocalypse', 'X-Men Origins: Wolverine', 'X-Men Origins: Wolverine - Uncaged Edition', 'X-Men vs. Street Fighter', 'X-Men: Children of the Atom', 'X-Men: Destiny', 'X-Men: Mutant Academy 2', 'X-Men: Next Dimension', 'X-Men: Reign of Apocalypse', 'X-Men: The Official Game', 'X-Plane 10 Global', \"X2: Wolverine's Revenge\", 'X3: Terran Conflict', 'X3: Terran War Pack', 'XBLAZE Code: Embryo', 'XCOM 2', 'XCOM: Enemy Unknown', 'XGIII: Extreme G Racing', 'XGRA: Extreme G Racing Association', 'XGRA: Extreme G-Racing Association', 'XI Coliseum', 'XIII', 'XS Airboat Racing', 'XXX', 'Xblaze: Lost Memories', 'Xbox Live Arcade Unplugged Volume 1', 'Xbox Music Mixer', 'Xena: Warrior Princess', 'Xena: Warrior Princess - The Talisman of Fate', 'Xenoblade Chronicles', 'Xenoblade Chronicles X', 'Xenogears', 'Xenosaga Episode I: Der Wille zur Macht', 'Xenosaga Episode II: Jenseits von Gut und Böse', 'Xenosaga Episode III: Also sprach Zarathustra', 'Xenosaga I·II', 'Xevious', 'Xevious 3D/G+', 'Xiaolin Showdown', 'Yager', 'Yahari Game Demo Ore no Seishun Love-Kome Hamachi Gatteiru', 'Yahari Game Demo Ore no Seishun Love-Kome wa Machigatteiru. Zoku', 'Yaiba: Ninja Gaiden Z', 'Yakuman', 'Yakuza', 'Yakuza 2', 'Yakuza 3', 'Yakuza 4', 'Yakuza 5', 'Yakuza Kiwami', 'Yakuza Zero: The Place of Oath', 'Yakuza: Dead Souls', 'Yakuza: Ishin', 'Yamaha Supercross', 'Yamakawa Shuppansha Kanshuu: Shousetsu Nihonshi B', 'Yamakawa Shuppansha Kanshuu: Shousetsu Sekaishi B', 'Yamasa Digi Portable: Matsuri no Tatsujin - Win-Chan no Natsumatsuri', 'Yamasa Digi World SP: Moeyo! Kung Fu Shukujo', 'Yanya Caballista: City Skater', 'Yard Sale Hidden Treasures: Sunnyville', \"Yars' Revenge\", 'Yarudora Series Vol. 2: Kisetsu wo Dakishimete', 'Yarudora Series Vol.1: Double Cast', 'Yattaman DS: BikkuriDokkiri Daisakusen da Koron', 'Yattaman Wii: BikkuriDokkiri Machine de Mou Race da Koron', 'Yes! PreCure 5', 'Yes! Precure 5 Go Go Zenin Shu Go! Dream Festival', \"Yggdra Union: We'll Never Fight Alone\", 'YoKai Watch Dance: Just Dance Special Version', 'Yoake Yori Ruriiro na Portable', 'Yoake Yori Ruriiro na: Brighter than Dawning Blue', 'Yoga Wii', 'Yogi Bear: The Video Game', 'Yokai Sangokushi', 'Yokai Watch', 'Yokai Watch 2 Ganso/Honke', 'Yokai Watch 2 Shinuchi', 'Yokai Watch 3', 'Yokai Watch Busters', 'Yomawari', 'Yoostar on MTV', 'Yoostar2', 'Yoru no Nai Kuni', 'Yoshi', 'Yoshi Topsy-Turvy', 'Yoshi Touch & Go', 'Yoshi Touch & Go (JP sales)', \"Yoshi's Cookie\", \"Yoshi's Island DS\", \"Yoshi's New Island\", \"Yoshi's Story\", \"Yoshi's Woolly World\", \"You Don't Know Jack\", \"You Don't Know Jack: Mock 2\", \"You're in the Movies\", 'Young Justice: Legacy', 'Your Shape featuring Jenny McCarthy', 'Your Shape: Fitness Evolved', 'Your Shape: Fitness Evolved 2012', 'Your Shape: Fitness Evolved 2013', 'Yourself Fitness', 'Yowamushi Pedal', 'Ys I & II Chronicles', 'Ys Seven', 'Ys VIII: Lacrimosa of Dana', 'Ys vs. Sora no Kiseki: Alternative Saga', 'Ys: Memories of Celceta', 'Ys: The Ark of Napishtim', 'Ys: The Oath in Felghana', 'Yu Yu Hakusho Ghost Files: Spirit Detective', 'Yu Yu Hakusho: Dark Tournament', 'Yu Yu Hakusho: Tournament Tactics', \"Yu-Gi-Oh! 5D's Stardust Accelerator: World Championship 2009\", \"Yu-Gi-Oh! 5D's Tag Force 4\", \"Yu-Gi-Oh! 5D's Tag Force 5\", \"Yu-Gi-Oh! 5D's Tag Force 6\", \"Yu-Gi-Oh! 5D's Wheelie Breakers\", \"Yu-Gi-Oh! 5D's Wheelie Breakers (JP sales)\", \"Yu-Gi-Oh! 5D's World Championship 2010 Reverse of Arcadia\", \"Yu-Gi-Oh! 5D's World Championship 2011: Over the Nexus\", \"Yu-Gi-Oh! 5D's: Duel Transer\", 'Yu-Gi-Oh! 7 Trials to Glory: World Championship Tournament 2005', 'Yu-Gi-Oh! Capsule Monster Coliseum', 'Yu-Gi-Oh! Dark Duel Stories', 'Yu-Gi-Oh! Destiny Board Traveler', 'Yu-Gi-Oh! Double Pack', 'Yu-Gi-Oh! Duel Monsters', 'Yu-Gi-Oh! Duel Monsters II: Dark Duel Stories', 'Yu-Gi-Oh! Dungeon Dice Monsters', 'Yu-Gi-Oh! Forbidden Memories', 'Yu-Gi-Oh! Forbidden Memories (JP sales)', 'Yu-Gi-Oh! GX: Duel Academy', 'Yu-Gi-Oh! GX: Spirit Caller (American Sales)', 'Yu-Gi-Oh! GX: Spirit Caller (Japan Sales)', 'Yu-Gi-Oh! GX: Tag Force', 'Yu-Gi-Oh! GX: Tag Force 2', 'Yu-Gi-Oh! GX: Tag Force 3', 'Yu-Gi-Oh! GX: The Beginning of Destiny (JP sales)', 'Yu-Gi-Oh! GX: The Beginning of Destiny (US sales)', 'Yu-Gi-Oh! Monster Capsule Breed & Battle', 'Yu-Gi-Oh! Monster Capture GB', 'Yu-Gi-Oh! Nightmare Troubadour (JP sales)', 'Yu-Gi-Oh! Nightmare Troubadour (US sales)', 'Yu-Gi-Oh! Reshef of Destruction', 'Yu-Gi-Oh! The Dawn of Destiny', 'Yu-Gi-Oh! The Duelists of the Roses', 'Yu-Gi-Oh! The Eternal Duelist Soul', 'Yu-Gi-Oh! The Eternal Duelist Soul (JP sales)', 'Yu-Gi-Oh! The Falsebound Kingdom', 'Yu-Gi-Oh! The Sacred Cards', 'Yu-Gi-Oh! The Sacred Cards (American and Others sales)', 'Yu-Gi-Oh! The Sacred Cards (JP weekly sales)', 'Yu-Gi-Oh! Ultimate Masters: World Championship Tournament 2006', 'Yu-Gi-Oh! World Championship 2007', 'Yu-Gi-Oh! World Championship 2008', 'Yu-Gi-Oh! World Championship Tournament 2004', 'Yu-Gi-Oh! Worldwide Edition: Stairway to the Destined Duel', 'Yu-Gi-Oh! Zexal World Duel Carnival', 'Yu-Gi-Oh: Duel Monsters 4', 'Yuki Yuna is a Hero: Memory of the Forest', 'Yume Neko DS', 'Yumeiro Patissiere: My Sweets Cooking', \"Yumi's Odd Odyssey\", 'Yuu Yuu Hakusho', 'Yuu Yuu Hakusho 2: Kakutou no Sho', 'Yuu Yuu Hakusho DS: Ankoku Bujutsukai Hen', 'Yuu Yuu Hakusho: Makyo Toitsusen', 'Yuugen Gaisha Brave Company', 'Yuusha Shisu.', 'Yuusha no Kuse ni Namaikida Or 3D', 'Zac to Ombra: Maboroshi no Yuuenchi', \"Zack & Wiki: Quest for Barbaros' Treasure\", 'Zaidan Houjin Nippon Kanji Nouryoko Kentei Kyoukai Kounin: KanKen DS', 'Zaidan Houjin Nippon Kanji Nouryoku Kentei Kyoukai Kounin: KanKen DS 2 + Jouyou Kanji Jiten', 'Zaidan Houjin Nippon Kanji Nouryoku Kentei Kyoukai Kounin: KanKen DS3 Deluxe', 'Zaidan Houjin Nippon Kanji Nouryoku Kentei Kyoukai Koushiki Soft: 200 Mannin no KanKen: Tokoton Kanji Nou', 'Zangeki no Reginleiv', 'Zapper: One Wicked Cricket!', 'Zatch Bell! Electric Arena', 'Zatch Bell! Mamodo Battles', 'Zatch Bell! Mamodo Fury', 'Zathura', 'Zelda II: The Adventure of Link', 'Zen-Nippon GT Senshuken', 'Zen-Nippon Pro Wrestling: Ouja no Kon', 'Zendoku', 'Zenkoku Dekotora Matsuri', 'Zenses: Ocean', 'Zenses: Rainforest', 'Zero Divide', \"Zero Escape: Virtue's Last Reward\", 'Zero Escape: Zero Time Dilemma', 'Zero no Tsukaima: Maigo no Period to Ikusen no Symphony', 'Zero no Tsukaima: Muma ga Tsumugu Yokaze no Nocturne', 'Zero no Tsukaima: Shou-akuma to Harukaze no Concerto', 'Zero4 Champ RR', 'Zero4 Champ RR-Z', 'Zero: Tsukihami no Kamen', 'Zetta Hero Project: Unlosing Ranger vs. Darkdeath Evilman', 'Zettai Kaikyuu Gakuen: Eden with Roses and Phantasm', 'Zettai Meikyuu Grimm: Nanatsu no Kagi to Rakuen no Otome', 'Zettai Onkan Otoda Master', 'Zettai Zetsumei Toshi 3: Kowareyuku Machi to Kanojyo no Uta', 'ZhuZhu Babies', 'ZhuZhu Pets', 'ZhuZhu Pets 2: Featuring The Wild Bunch', 'ZhuZhu Pets: Featuring The Wild Bunch', 'ZhuZhu Pets: Quest for Zhu', 'ZhuZhu Puppies', \"Zill O'll Infinite Plus\", 'Zillions of Enemy X: Zetsukai no Crusade', \"Zoboomafoo: Leapin' Lemurs!\", 'Zoey 101: Field Trip Fiasco', 'Zoids Assault', 'Zoids Dash', 'Zoids: Battle Legends', 'Zoids: Legacy', 'Zombi Daisuki', 'ZombiU', 'Zombie Army Trilogy', 'Zombie Hunters 2', 'Zone of the Enders', 'Zone of the Enders HD Collection', 'Zone of the Enders: The 2nd Runner', 'Zone of the Enders: The Fist of Mars', 'Zoo Hospital', 'Zoo Keeper', 'Zoo Quest: Puzzle Fun!', 'Zoo Resort 3D', 'Zoo Tycoon', 'Zoo Tycoon (2013)', 'Zoo Tycoon 2', 'Zoo Tycoon 2 DS', 'Zoo Tycoon 2: Ultimate Collection', 'Zoo Tycoon DS', 'Zoo Tycoon: Complete Collection', 'Zoo Vet: Endangered Animals', 'ZooCube', 'Zoobles! Spring to Life!', 'Zoop', 'Zubo', 'Zumba Fitness', 'Zumba Fitness 2', 'Zumba Fitness Core', 'Zumba Fitness Rush', 'Zumba Fitness: World Party', 'Zwei!!', 'Zyuden Sentai Kyoryuger: Game de Gaburincho!!', '[Prototype 2]', '[Prototype]', 'de Blob', 'de Blob 2', 'eJay Clubworld', 'echochrome', 'ef - a fairy tale of the two.', 'everGirl', 'futureU: The Prep Game for SAT', 'htoL#NiQ: The Firefly Diary', 'iCarly', 'iCarly 2: iJoin The Click!', 'inFAMOUS', 'inFAMOUS 2', 'inFAMOUS: Second Son', \"nail'd\", 'pro evolution soccer 2011', 'th!nk Logic Trainer', 'thinkSMART', 'thinkSMART FAMILY!', 'thinkSMART: Chess for Kids', 'uDraw Studio', 'uDraw Studio: Instant Artist', 'wwe Smackdown vs. Raw 2006', '¡Shin Chan Flipa en colores!', nan]\n"
     ]
    }
   ],
   "source": [
    "unique_names = df['Name'].sort_values().unique().tolist()\n",
    "print(unique_names) #зря..."
   ]
  },
  {
   "cell_type": "code",
   "execution_count": 10,
   "metadata": {},
   "outputs": [
    {
     "data": {
      "text/plain": [
       "11560"
      ]
     },
     "execution_count": 10,
     "metadata": {},
     "output_type": "execute_result"
    }
   ],
   "source": [
    "len(unique_names)"
   ]
  },
  {
   "cell_type": "markdown",
   "metadata": {},
   "source": [
    "К сожалению, количество игр не позволит вручную провести качественный анализ, анализ по подстрокам также будет нецелесообразным.\n",
    "Из явных ошибок видны названия, начинающиеся с пробела, переименуем их:"
   ]
  },
  {
   "cell_type": "code",
   "execution_count": 11,
   "metadata": {},
   "outputs": [],
   "source": [
    "df['Name'] = df['Name'].replace({' Beyblade Burst': 'Beyblade Burst',\n",
    "                                ' Fire Emblem Fates': 'Fire Emblem Fates',\n",
    "                                \" Frozen: Olaf's Quest\": \"Frozen: Olaf's Quest\",\n",
    "                                ' Haikyu!! Cross Team Match!': 'Haikyu!! Cross Team Match!',\n",
    "                                ' Tales of Xillia 2': 'Tales of Xillia 2'})"
   ]
  },
  {
   "cell_type": "markdown",
   "metadata": {},
   "source": [
    "Количество наименований меньше, чем количество строк. Предполагаем, что расхождение вызвано кроссплатформенностью некоторых игр. Проверим:"
   ]
  },
  {
   "cell_type": "code",
   "execution_count": 12,
   "metadata": {},
   "outputs": [
    {
     "data": {
      "text/plain": [
       "Need for Speed: Most Wanted                                              12\n",
       "FIFA 14                                                                   9\n",
       "Madden NFL 07                                                             9\n",
       "LEGO Marvel Super Heroes                                                  9\n",
       "Ratatouille                                                               9\n",
       "                                                                         ..\n",
       "Dolly Kanon Dokidoki Tokimeki Himitsu no Ongaku Katsudou Start Desu!!     1\n",
       "Star Fox: Zero                                                            1\n",
       "Real Soccer 2009                                                          1\n",
       "Boom Blox                                                                 1\n",
       "Magi: Aratanaru Sekai                                                     1\n",
       "Name: Name, Length: 11559, dtype: int64"
      ]
     },
     "execution_count": 12,
     "metadata": {},
     "output_type": "execute_result"
    }
   ],
   "source": [
    "#Смотрим на повторяющиеся наименования\n",
    "df['Name'].value_counts()"
   ]
  },
  {
   "cell_type": "code",
   "execution_count": 13,
   "metadata": {},
   "outputs": [
    {
     "data": {
      "text/html": [
       "<div>\n",
       "<style scoped>\n",
       "    .dataframe tbody tr th:only-of-type {\n",
       "        vertical-align: middle;\n",
       "    }\n",
       "\n",
       "    .dataframe tbody tr th {\n",
       "        vertical-align: top;\n",
       "    }\n",
       "\n",
       "    .dataframe thead th {\n",
       "        text-align: right;\n",
       "    }\n",
       "</style>\n",
       "<table border=\"1\" class=\"dataframe\">\n",
       "  <thead>\n",
       "    <tr style=\"text-align: right;\">\n",
       "      <th></th>\n",
       "      <th>Name</th>\n",
       "      <th>Platform</th>\n",
       "      <th>Year_of_Release</th>\n",
       "      <th>Genre</th>\n",
       "      <th>NA_sales</th>\n",
       "      <th>EU_sales</th>\n",
       "      <th>JP_sales</th>\n",
       "      <th>Other_sales</th>\n",
       "      <th>Critic_Score</th>\n",
       "      <th>User_Score</th>\n",
       "      <th>Rating</th>\n",
       "    </tr>\n",
       "  </thead>\n",
       "  <tbody>\n",
       "    <tr>\n",
       "      <th>253</th>\n",
       "      <td>Need for Speed: Most Wanted</td>\n",
       "      <td>PS2</td>\n",
       "      <td>2005.0</td>\n",
       "      <td>Racing</td>\n",
       "      <td>2.03</td>\n",
       "      <td>1.79</td>\n",
       "      <td>0.08</td>\n",
       "      <td>0.47</td>\n",
       "      <td>82.0</td>\n",
       "      <td>9.1</td>\n",
       "      <td>T</td>\n",
       "    </tr>\n",
       "    <tr>\n",
       "      <th>523</th>\n",
       "      <td>Need for Speed: Most Wanted</td>\n",
       "      <td>PS3</td>\n",
       "      <td>2012.0</td>\n",
       "      <td>Racing</td>\n",
       "      <td>0.71</td>\n",
       "      <td>1.46</td>\n",
       "      <td>0.06</td>\n",
       "      <td>0.58</td>\n",
       "      <td>NaN</td>\n",
       "      <td>NaN</td>\n",
       "      <td>NaN</td>\n",
       "    </tr>\n",
       "    <tr>\n",
       "      <th>1190</th>\n",
       "      <td>Need for Speed: Most Wanted</td>\n",
       "      <td>X360</td>\n",
       "      <td>2012.0</td>\n",
       "      <td>Racing</td>\n",
       "      <td>0.62</td>\n",
       "      <td>0.78</td>\n",
       "      <td>0.01</td>\n",
       "      <td>0.15</td>\n",
       "      <td>83.0</td>\n",
       "      <td>8.5</td>\n",
       "      <td>T</td>\n",
       "    </tr>\n",
       "    <tr>\n",
       "      <th>1591</th>\n",
       "      <td>Need for Speed: Most Wanted</td>\n",
       "      <td>X360</td>\n",
       "      <td>2005.0</td>\n",
       "      <td>Racing</td>\n",
       "      <td>1.00</td>\n",
       "      <td>0.13</td>\n",
       "      <td>0.02</td>\n",
       "      <td>0.10</td>\n",
       "      <td>83.0</td>\n",
       "      <td>8.5</td>\n",
       "      <td>T</td>\n",
       "    </tr>\n",
       "    <tr>\n",
       "      <th>1998</th>\n",
       "      <td>Need for Speed: Most Wanted</td>\n",
       "      <td>XB</td>\n",
       "      <td>2005.0</td>\n",
       "      <td>Racing</td>\n",
       "      <td>0.53</td>\n",
       "      <td>0.46</td>\n",
       "      <td>0.00</td>\n",
       "      <td>0.05</td>\n",
       "      <td>83.0</td>\n",
       "      <td>8.8</td>\n",
       "      <td>T</td>\n",
       "    </tr>\n",
       "    <tr>\n",
       "      <th>2048</th>\n",
       "      <td>Need for Speed: Most Wanted</td>\n",
       "      <td>PSV</td>\n",
       "      <td>2012.0</td>\n",
       "      <td>Racing</td>\n",
       "      <td>0.33</td>\n",
       "      <td>0.45</td>\n",
       "      <td>0.01</td>\n",
       "      <td>0.22</td>\n",
       "      <td>NaN</td>\n",
       "      <td>NaN</td>\n",
       "      <td>NaN</td>\n",
       "    </tr>\n",
       "    <tr>\n",
       "      <th>3581</th>\n",
       "      <td>Need for Speed: Most Wanted</td>\n",
       "      <td>GC</td>\n",
       "      <td>2005.0</td>\n",
       "      <td>Racing</td>\n",
       "      <td>0.43</td>\n",
       "      <td>0.11</td>\n",
       "      <td>0.00</td>\n",
       "      <td>0.02</td>\n",
       "      <td>80.0</td>\n",
       "      <td>9.1</td>\n",
       "      <td>T</td>\n",
       "    </tr>\n",
       "    <tr>\n",
       "      <th>5972</th>\n",
       "      <td>Need for Speed: Most Wanted</td>\n",
       "      <td>PC</td>\n",
       "      <td>2005.0</td>\n",
       "      <td>Racing</td>\n",
       "      <td>0.02</td>\n",
       "      <td>0.23</td>\n",
       "      <td>0.00</td>\n",
       "      <td>0.04</td>\n",
       "      <td>82.0</td>\n",
       "      <td>8.5</td>\n",
       "      <td>T</td>\n",
       "    </tr>\n",
       "    <tr>\n",
       "      <th>6273</th>\n",
       "      <td>Need for Speed: Most Wanted</td>\n",
       "      <td>WiiU</td>\n",
       "      <td>2013.0</td>\n",
       "      <td>Racing</td>\n",
       "      <td>0.13</td>\n",
       "      <td>0.12</td>\n",
       "      <td>0.00</td>\n",
       "      <td>0.02</td>\n",
       "      <td>NaN</td>\n",
       "      <td>NaN</td>\n",
       "      <td>NaN</td>\n",
       "    </tr>\n",
       "    <tr>\n",
       "      <th>6410</th>\n",
       "      <td>Need for Speed: Most Wanted</td>\n",
       "      <td>DS</td>\n",
       "      <td>2005.0</td>\n",
       "      <td>Racing</td>\n",
       "      <td>0.24</td>\n",
       "      <td>0.01</td>\n",
       "      <td>0.00</td>\n",
       "      <td>0.02</td>\n",
       "      <td>45.0</td>\n",
       "      <td>6.1</td>\n",
       "      <td>E</td>\n",
       "    </tr>\n",
       "    <tr>\n",
       "      <th>6473</th>\n",
       "      <td>Need for Speed: Most Wanted</td>\n",
       "      <td>GBA</td>\n",
       "      <td>2005.0</td>\n",
       "      <td>Racing</td>\n",
       "      <td>0.19</td>\n",
       "      <td>0.07</td>\n",
       "      <td>0.00</td>\n",
       "      <td>0.00</td>\n",
       "      <td>NaN</td>\n",
       "      <td>8.3</td>\n",
       "      <td>E</td>\n",
       "    </tr>\n",
       "    <tr>\n",
       "      <th>11715</th>\n",
       "      <td>Need for Speed: Most Wanted</td>\n",
       "      <td>PC</td>\n",
       "      <td>2012.0</td>\n",
       "      <td>Racing</td>\n",
       "      <td>0.00</td>\n",
       "      <td>0.06</td>\n",
       "      <td>0.00</td>\n",
       "      <td>0.02</td>\n",
       "      <td>82.0</td>\n",
       "      <td>8.5</td>\n",
       "      <td>T</td>\n",
       "    </tr>\n",
       "  </tbody>\n",
       "</table>\n",
       "</div>"
      ],
      "text/plain": [
       "                              Name Platform  Year_of_Release   Genre  \\\n",
       "253    Need for Speed: Most Wanted      PS2           2005.0  Racing   \n",
       "523    Need for Speed: Most Wanted      PS3           2012.0  Racing   \n",
       "1190   Need for Speed: Most Wanted     X360           2012.0  Racing   \n",
       "1591   Need for Speed: Most Wanted     X360           2005.0  Racing   \n",
       "1998   Need for Speed: Most Wanted       XB           2005.0  Racing   \n",
       "2048   Need for Speed: Most Wanted      PSV           2012.0  Racing   \n",
       "3581   Need for Speed: Most Wanted       GC           2005.0  Racing   \n",
       "5972   Need for Speed: Most Wanted       PC           2005.0  Racing   \n",
       "6273   Need for Speed: Most Wanted     WiiU           2013.0  Racing   \n",
       "6410   Need for Speed: Most Wanted       DS           2005.0  Racing   \n",
       "6473   Need for Speed: Most Wanted      GBA           2005.0  Racing   \n",
       "11715  Need for Speed: Most Wanted       PC           2012.0  Racing   \n",
       "\n",
       "       NA_sales  EU_sales  JP_sales  Other_sales  Critic_Score User_Score  \\\n",
       "253        2.03      1.79      0.08         0.47          82.0        9.1   \n",
       "523        0.71      1.46      0.06         0.58           NaN        NaN   \n",
       "1190       0.62      0.78      0.01         0.15          83.0        8.5   \n",
       "1591       1.00      0.13      0.02         0.10          83.0        8.5   \n",
       "1998       0.53      0.46      0.00         0.05          83.0        8.8   \n",
       "2048       0.33      0.45      0.01         0.22           NaN        NaN   \n",
       "3581       0.43      0.11      0.00         0.02          80.0        9.1   \n",
       "5972       0.02      0.23      0.00         0.04          82.0        8.5   \n",
       "6273       0.13      0.12      0.00         0.02           NaN        NaN   \n",
       "6410       0.24      0.01      0.00         0.02          45.0        6.1   \n",
       "6473       0.19      0.07      0.00         0.00           NaN        8.3   \n",
       "11715      0.00      0.06      0.00         0.02          82.0        8.5   \n",
       "\n",
       "      Rating  \n",
       "253        T  \n",
       "523      NaN  \n",
       "1190       T  \n",
       "1591       T  \n",
       "1998       T  \n",
       "2048     NaN  \n",
       "3581       T  \n",
       "5972       T  \n",
       "6273     NaN  \n",
       "6410       E  \n",
       "6473       E  \n",
       "11715      T  "
      ]
     },
     "execution_count": 13,
     "metadata": {},
     "output_type": "execute_result"
    }
   ],
   "source": [
    "#Рассмотрим информацию о повторяющейся игре\n",
    "df.query('Name == \"Need for Speed: Most Wanted\"')"
   ]
  },
  {
   "cell_type": "markdown",
   "metadata": {},
   "source": [
    "Предположение подтвердилось: одна игра выпускалась для разных платформ.\n",
    "\n",
    "Для игры `Need for Speed: Most Wanted` имеется две строки на платформе PC, но отличаются года. Проверка информации показала, что игра действительно выпускалась в <a href=\"https://ru.wikipedia.org/wiki/Need_for_Speed:_Most_Wanted\" target=\"_blank\">2005</a> и <a href=\"https://ru.wikipedia.org/wiki/Need_for_Speed:_Most_Wanted_(2012)\" target=\"_blank\">2012</a> году."
   ]
  },
  {
   "cell_type": "markdown",
   "metadata": {},
   "source": [
    "В столбцах с названием жанров найдём неявные дубликаты:"
   ]
  },
  {
   "cell_type": "code",
   "execution_count": 14,
   "metadata": {},
   "outputs": [
    {
     "name": "stdout",
     "output_type": "stream",
     "text": [
      "['Action', 'Adventure', 'Fighting', 'Misc', 'Platform', 'Puzzle', 'Racing', 'Role-Playing', 'Shooter', 'Simulation', 'Sports', 'Strategy', nan]\n"
     ]
    }
   ],
   "source": [
    "unique_genres = df['Genre'].sort_values().unique().tolist()\n",
    "print(unique_genres)"
   ]
  },
  {
   "cell_type": "markdown",
   "metadata": {},
   "source": [
    "Проверим неявные дубликаты в столбце с названиями платформ:"
   ]
  },
  {
   "cell_type": "code",
   "execution_count": 15,
   "metadata": {},
   "outputs": [
    {
     "name": "stdout",
     "output_type": "stream",
     "text": [
      "['2600', '3DO', '3DS', 'DC', 'DS', 'GB', 'GBA', 'GC', 'GEN', 'GG', 'N64', 'NES', 'NG', 'PC', 'PCFX', 'PS', 'PS2', 'PS3', 'PS4', 'PSP', 'PSV', 'SAT', 'SCD', 'SNES', 'TG16', 'WS', 'Wii', 'WiiU', 'X360', 'XB', 'XOne']\n"
     ]
    }
   ],
   "source": [
    "unique_platform = df['Platform'].sort_values().unique().tolist()\n",
    "print(unique_platform)"
   ]
  },
  {
   "cell_type": "markdown",
   "metadata": {},
   "source": [
    "В результате изучения данных выявлены следующие несоответствия, которые необходимо исправить:\n",
    "1. Изменить тип данных столбцов `Year_of_Release`, `Critic_Score` на int, так как содержимое - целые числа;\n",
    "2. Изменить тип данных столбца `User_Score` на float, предварительно заменив \"tbd\" на NaN, так как содержимое - числа с запятой;\n",
    "3. Привести названия столбцов к нижнему регистру для стандартизации стиля написания и исключения опечатки;\n",
    "4. Изучить строки без названия игры, определить их ценность;\n",
    "5. Проверить возможность и заполнить пропущенные значения в столбце годов на основании наименования;\n",
    "6. Посчитать суммарные продажи во всех регионах, записать в отдельный столбец.\n",
    "7. Заполнить пропуски в столбце `Rating` значением \"WR\" (without rating).\n",
    "\n",
    "Оценка \"tbd\" означает отсутствие финального результата. Так как в нашем случае это не имеет никакой ценности, все значения \"tbd\" заменим на пропуски. В случае, если значения в столбце имеют тип string, можно сделать наоборот - все пропуски заменить на \"tbd\", но так как в исследовании рейтинг будет обрабатываться как число, необходимо привести все значения столбца к одному типу.\n",
    "\n"
   ]
  },
  {
   "cell_type": "markdown",
   "metadata": {},
   "source": [
    "<a id=\"p2\"></a>\n",
    "## Шаг 2. Подготовка данных"
   ]
  },
  {
   "cell_type": "markdown",
   "metadata": {},
   "source": [
    "### Приведение названий столбцов к нижнему регистру"
   ]
  },
  {
   "cell_type": "code",
   "execution_count": 16,
   "metadata": {},
   "outputs": [
    {
     "data": {
      "text/plain": [
       "Index(['name', 'platform', 'year_of_release', 'genre', 'na_sales', 'eu_sales',\n",
       "       'jp_sales', 'other_sales', 'critic_score', 'user_score', 'rating'],\n",
       "      dtype='object')"
      ]
     },
     "execution_count": 16,
     "metadata": {},
     "output_type": "execute_result"
    }
   ],
   "source": [
    "df.columns = df.columns.str.lower()\n",
    "df.columns"
   ]
  },
  {
   "cell_type": "markdown",
   "metadata": {},
   "source": [
    "### Изучение строк без названий"
   ]
  },
  {
   "cell_type": "code",
   "execution_count": 17,
   "metadata": {},
   "outputs": [
    {
     "data": {
      "text/html": [
       "<div>\n",
       "<style scoped>\n",
       "    .dataframe tbody tr th:only-of-type {\n",
       "        vertical-align: middle;\n",
       "    }\n",
       "\n",
       "    .dataframe tbody tr th {\n",
       "        vertical-align: top;\n",
       "    }\n",
       "\n",
       "    .dataframe thead th {\n",
       "        text-align: right;\n",
       "    }\n",
       "</style>\n",
       "<table border=\"1\" class=\"dataframe\">\n",
       "  <thead>\n",
       "    <tr style=\"text-align: right;\">\n",
       "      <th></th>\n",
       "      <th>name</th>\n",
       "      <th>platform</th>\n",
       "      <th>year_of_release</th>\n",
       "      <th>genre</th>\n",
       "      <th>na_sales</th>\n",
       "      <th>eu_sales</th>\n",
       "      <th>jp_sales</th>\n",
       "      <th>other_sales</th>\n",
       "      <th>critic_score</th>\n",
       "      <th>user_score</th>\n",
       "      <th>rating</th>\n",
       "    </tr>\n",
       "  </thead>\n",
       "  <tbody>\n",
       "    <tr>\n",
       "      <th>659</th>\n",
       "      <td>noname</td>\n",
       "      <td>GEN</td>\n",
       "      <td>1993.0</td>\n",
       "      <td>NaN</td>\n",
       "      <td>1.78</td>\n",
       "      <td>0.53</td>\n",
       "      <td>0.00</td>\n",
       "      <td>0.08</td>\n",
       "      <td>NaN</td>\n",
       "      <td>NaN</td>\n",
       "      <td>NaN</td>\n",
       "    </tr>\n",
       "    <tr>\n",
       "      <th>14244</th>\n",
       "      <td>noname</td>\n",
       "      <td>GEN</td>\n",
       "      <td>1993.0</td>\n",
       "      <td>NaN</td>\n",
       "      <td>0.00</td>\n",
       "      <td>0.00</td>\n",
       "      <td>0.03</td>\n",
       "      <td>0.00</td>\n",
       "      <td>NaN</td>\n",
       "      <td>NaN</td>\n",
       "      <td>NaN</td>\n",
       "    </tr>\n",
       "  </tbody>\n",
       "</table>\n",
       "</div>"
      ],
      "text/plain": [
       "         name platform  year_of_release genre  na_sales  eu_sales  jp_sales  \\\n",
       "659    noname      GEN           1993.0   NaN      1.78      0.53      0.00   \n",
       "14244  noname      GEN           1993.0   NaN      0.00      0.00      0.03   \n",
       "\n",
       "       other_sales  critic_score user_score rating  \n",
       "659           0.08           NaN        NaN    NaN  \n",
       "14244         0.00           NaN        NaN    NaN  "
      ]
     },
     "execution_count": 17,
     "metadata": {},
     "output_type": "execute_result"
    }
   ],
   "source": [
    "df['name'] = df['name'].replace(np.NaN, \"noname\")\n",
    "df.query('name == \"noname\"')"
   ]
  },
  {
   "cell_type": "markdown",
   "metadata": {},
   "source": [
    "Так как строки выглядят целыми и корректными, не считая названия игры, оставим их в таблице. В данной работе проводится анализ оценок, платформ и рейтингов, название игры значения не имеет."
   ]
  },
  {
   "cell_type": "markdown",
   "metadata": {},
   "source": [
    "### Изменение типов данных на `int`"
   ]
  },
  {
   "cell_type": "markdown",
   "metadata": {},
   "source": [
    "Изменяем тип данных у столбца с годами. В данном исследовании менять тип на дату нецелесообразно."
   ]
  },
  {
   "cell_type": "code",
   "execution_count": 18,
   "metadata": {},
   "outputs": [
    {
     "data": {
      "text/plain": [
       "0        2006\n",
       "1        1985\n",
       "2        2008\n",
       "3        2009\n",
       "4        1996\n",
       "         ... \n",
       "16710    2016\n",
       "16711    2006\n",
       "16712    2016\n",
       "16713    2003\n",
       "16714    2016\n",
       "Name: year_of_release, Length: 16715, dtype: Int16"
      ]
     },
     "execution_count": 18,
     "metadata": {},
     "output_type": "execute_result"
    }
   ],
   "source": [
    "df['year_of_release'] = df['year_of_release'].astype('Int16') #сэкономим 98 килобайт :)\n",
    "df['year_of_release']"
   ]
  },
  {
   "cell_type": "markdown",
   "metadata": {},
   "source": [
    "Изменяем тип данных у столбца с оценками критиков."
   ]
  },
  {
   "cell_type": "code",
   "execution_count": 19,
   "metadata": {},
   "outputs": [
    {
     "data": {
      "text/plain": [
       "0          76\n",
       "1        <NA>\n",
       "2          82\n",
       "3          80\n",
       "4        <NA>\n",
       "         ... \n",
       "16710    <NA>\n",
       "16711    <NA>\n",
       "16712    <NA>\n",
       "16713    <NA>\n",
       "16714    <NA>\n",
       "Name: critic_score, Length: 16715, dtype: Int16"
      ]
     },
     "execution_count": 19,
     "metadata": {},
     "output_type": "execute_result"
    }
   ],
   "source": [
    "df['critic_score'] = df['critic_score'].astype('Int16')\n",
    "df['critic_score']"
   ]
  },
  {
   "cell_type": "markdown",
   "metadata": {},
   "source": [
    "### Изменение типов данных столбца `user_score`"
   ]
  },
  {
   "cell_type": "markdown",
   "metadata": {},
   "source": [
    "Ранее мы решили заменить все значения \"tbd\" на пропуски, чтобы оставшиеся числа привести к типу float."
   ]
  },
  {
   "cell_type": "code",
   "execution_count": 20,
   "metadata": {},
   "outputs": [],
   "source": [
    "df['user_score'] = df['user_score'].replace('tbd', np.NaN)"
   ]
  },
  {
   "cell_type": "code",
   "execution_count": 21,
   "metadata": {},
   "outputs": [
    {
     "data": {
      "text/plain": [
       "7.8    324\n",
       "8      290\n",
       "8.2    282\n",
       "8.3    254\n",
       "8.5    253\n",
       "      ... \n",
       "1.3      2\n",
       "0.5      2\n",
       "1.5      2\n",
       "0        1\n",
       "9.7      1\n",
       "Name: user_score, Length: 95, dtype: int64"
      ]
     },
     "execution_count": 21,
     "metadata": {},
     "output_type": "execute_result"
    }
   ],
   "source": [
    "#Проверяем, ушли ли tbd\n",
    "df['user_score'].value_counts()"
   ]
  },
  {
   "cell_type": "code",
   "execution_count": 22,
   "metadata": {},
   "outputs": [
    {
     "data": {
      "text/plain": [
       "0        8.0\n",
       "1        NaN\n",
       "2        8.3\n",
       "3        8.0\n",
       "4        NaN\n",
       "        ... \n",
       "16710    NaN\n",
       "16711    NaN\n",
       "16712    NaN\n",
       "16713    NaN\n",
       "16714    NaN\n",
       "Name: user_score, Length: 16715, dtype: float32"
      ]
     },
     "execution_count": 22,
     "metadata": {},
     "output_type": "execute_result"
    }
   ],
   "source": [
    "df['user_score'] = df['user_score'].astype('float32')\n",
    "df['user_score']"
   ]
  },
  {
   "cell_type": "markdown",
   "metadata": {},
   "source": [
    "### Расчёт суммарных продаж"
   ]
  },
  {
   "cell_type": "markdown",
   "metadata": {},
   "source": [
    "Создаём дополнительный столбец с суммой продаж игр:"
   ]
  },
  {
   "cell_type": "code",
   "execution_count": 23,
   "metadata": {},
   "outputs": [],
   "source": [
    "df['total_sales'] = df['na_sales'] + df['eu_sales'] + df['jp_sales'] + df['other_sales']"
   ]
  },
  {
   "cell_type": "code",
   "execution_count": 24,
   "metadata": {},
   "outputs": [
    {
     "data": {
      "text/html": [
       "<div>\n",
       "<style scoped>\n",
       "    .dataframe tbody tr th:only-of-type {\n",
       "        vertical-align: middle;\n",
       "    }\n",
       "\n",
       "    .dataframe tbody tr th {\n",
       "        vertical-align: top;\n",
       "    }\n",
       "\n",
       "    .dataframe thead th {\n",
       "        text-align: right;\n",
       "    }\n",
       "</style>\n",
       "<table border=\"1\" class=\"dataframe\">\n",
       "  <thead>\n",
       "    <tr style=\"text-align: right;\">\n",
       "      <th></th>\n",
       "      <th>name</th>\n",
       "      <th>platform</th>\n",
       "      <th>year_of_release</th>\n",
       "      <th>genre</th>\n",
       "      <th>na_sales</th>\n",
       "      <th>eu_sales</th>\n",
       "      <th>jp_sales</th>\n",
       "      <th>other_sales</th>\n",
       "      <th>critic_score</th>\n",
       "      <th>user_score</th>\n",
       "      <th>rating</th>\n",
       "      <th>total_sales</th>\n",
       "    </tr>\n",
       "  </thead>\n",
       "  <tbody>\n",
       "    <tr>\n",
       "      <th>12880</th>\n",
       "      <td>Jewel Link Chronicles: Mountains of Madness</td>\n",
       "      <td>DS</td>\n",
       "      <td>&lt;NA&gt;</td>\n",
       "      <td>Puzzle</td>\n",
       "      <td>0.00</td>\n",
       "      <td>0.05</td>\n",
       "      <td>0.00</td>\n",
       "      <td>0.01</td>\n",
       "      <td>&lt;NA&gt;</td>\n",
       "      <td>NaN</td>\n",
       "      <td>E10+</td>\n",
       "      <td>0.06</td>\n",
       "    </tr>\n",
       "    <tr>\n",
       "      <th>1640</th>\n",
       "      <td>Game &amp; Watch Gallery 2</td>\n",
       "      <td>GB</td>\n",
       "      <td>1997</td>\n",
       "      <td>Misc</td>\n",
       "      <td>0.76</td>\n",
       "      <td>0.30</td>\n",
       "      <td>0.12</td>\n",
       "      <td>0.04</td>\n",
       "      <td>&lt;NA&gt;</td>\n",
       "      <td>NaN</td>\n",
       "      <td>NaN</td>\n",
       "      <td>1.22</td>\n",
       "    </tr>\n",
       "    <tr>\n",
       "      <th>8356</th>\n",
       "      <td>Garfield: Lasagna World Tour</td>\n",
       "      <td>PS2</td>\n",
       "      <td>2007</td>\n",
       "      <td>Action</td>\n",
       "      <td>0.08</td>\n",
       "      <td>0.06</td>\n",
       "      <td>0.00</td>\n",
       "      <td>0.02</td>\n",
       "      <td>&lt;NA&gt;</td>\n",
       "      <td>NaN</td>\n",
       "      <td>E</td>\n",
       "      <td>0.16</td>\n",
       "    </tr>\n",
       "    <tr>\n",
       "      <th>16530</th>\n",
       "      <td>Carmageddon: Max Damage</td>\n",
       "      <td>PS4</td>\n",
       "      <td>2016</td>\n",
       "      <td>Action</td>\n",
       "      <td>0.01</td>\n",
       "      <td>0.00</td>\n",
       "      <td>0.00</td>\n",
       "      <td>0.00</td>\n",
       "      <td>51</td>\n",
       "      <td>5.5</td>\n",
       "      <td>M</td>\n",
       "      <td>0.01</td>\n",
       "    </tr>\n",
       "    <tr>\n",
       "      <th>1032</th>\n",
       "      <td>Crash Bandicoot: The Huge Adventure</td>\n",
       "      <td>GBA</td>\n",
       "      <td>2002</td>\n",
       "      <td>Platform</td>\n",
       "      <td>0.95</td>\n",
       "      <td>0.70</td>\n",
       "      <td>0.00</td>\n",
       "      <td>0.08</td>\n",
       "      <td>78</td>\n",
       "      <td>7.9</td>\n",
       "      <td>E</td>\n",
       "      <td>1.73</td>\n",
       "    </tr>\n",
       "    <tr>\n",
       "      <th>7322</th>\n",
       "      <td>WCW Backstage Assault</td>\n",
       "      <td>PS</td>\n",
       "      <td>1999</td>\n",
       "      <td>Action</td>\n",
       "      <td>0.12</td>\n",
       "      <td>0.08</td>\n",
       "      <td>0.00</td>\n",
       "      <td>0.01</td>\n",
       "      <td>40</td>\n",
       "      <td>NaN</td>\n",
       "      <td>T</td>\n",
       "      <td>0.21</td>\n",
       "    </tr>\n",
       "    <tr>\n",
       "      <th>15474</th>\n",
       "      <td>Princess Isabella: A Witch's Curse</td>\n",
       "      <td>Wii</td>\n",
       "      <td>2010</td>\n",
       "      <td>Adventure</td>\n",
       "      <td>0.02</td>\n",
       "      <td>0.00</td>\n",
       "      <td>0.00</td>\n",
       "      <td>0.00</td>\n",
       "      <td>&lt;NA&gt;</td>\n",
       "      <td>NaN</td>\n",
       "      <td>E</td>\n",
       "      <td>0.02</td>\n",
       "    </tr>\n",
       "    <tr>\n",
       "      <th>872</th>\n",
       "      <td>Tom Clancy's Rainbow Six: Vegas</td>\n",
       "      <td>X360</td>\n",
       "      <td>2006</td>\n",
       "      <td>Shooter</td>\n",
       "      <td>1.09</td>\n",
       "      <td>0.65</td>\n",
       "      <td>0.02</td>\n",
       "      <td>0.20</td>\n",
       "      <td>88</td>\n",
       "      <td>8.3</td>\n",
       "      <td>M</td>\n",
       "      <td>1.96</td>\n",
       "    </tr>\n",
       "    <tr>\n",
       "      <th>11927</th>\n",
       "      <td>The King of Fighters: Evolution</td>\n",
       "      <td>DC</td>\n",
       "      <td>2000</td>\n",
       "      <td>Fighting</td>\n",
       "      <td>0.00</td>\n",
       "      <td>0.00</td>\n",
       "      <td>0.07</td>\n",
       "      <td>0.00</td>\n",
       "      <td>&lt;NA&gt;</td>\n",
       "      <td>NaN</td>\n",
       "      <td>NaN</td>\n",
       "      <td>0.07</td>\n",
       "    </tr>\n",
       "    <tr>\n",
       "      <th>3506</th>\n",
       "      <td>Madden NFL 06</td>\n",
       "      <td>GC</td>\n",
       "      <td>2005</td>\n",
       "      <td>Sports</td>\n",
       "      <td>0.44</td>\n",
       "      <td>0.11</td>\n",
       "      <td>0.00</td>\n",
       "      <td>0.02</td>\n",
       "      <td>86</td>\n",
       "      <td>8.5</td>\n",
       "      <td>E</td>\n",
       "      <td>0.57</td>\n",
       "    </tr>\n",
       "  </tbody>\n",
       "</table>\n",
       "</div>"
      ],
      "text/plain": [
       "                                              name platform  year_of_release  \\\n",
       "12880  Jewel Link Chronicles: Mountains of Madness       DS             <NA>   \n",
       "1640                        Game & Watch Gallery 2       GB             1997   \n",
       "8356                  Garfield: Lasagna World Tour      PS2             2007   \n",
       "16530                      Carmageddon: Max Damage      PS4             2016   \n",
       "1032           Crash Bandicoot: The Huge Adventure      GBA             2002   \n",
       "7322                         WCW Backstage Assault       PS             1999   \n",
       "15474           Princess Isabella: A Witch's Curse      Wii             2010   \n",
       "872                Tom Clancy's Rainbow Six: Vegas     X360             2006   \n",
       "11927              The King of Fighters: Evolution       DC             2000   \n",
       "3506                                 Madden NFL 06       GC             2005   \n",
       "\n",
       "           genre  na_sales  eu_sales  jp_sales  other_sales  critic_score  \\\n",
       "12880     Puzzle      0.00      0.05      0.00         0.01          <NA>   \n",
       "1640        Misc      0.76      0.30      0.12         0.04          <NA>   \n",
       "8356      Action      0.08      0.06      0.00         0.02          <NA>   \n",
       "16530     Action      0.01      0.00      0.00         0.00            51   \n",
       "1032    Platform      0.95      0.70      0.00         0.08            78   \n",
       "7322      Action      0.12      0.08      0.00         0.01            40   \n",
       "15474  Adventure      0.02      0.00      0.00         0.00          <NA>   \n",
       "872      Shooter      1.09      0.65      0.02         0.20            88   \n",
       "11927   Fighting      0.00      0.00      0.07         0.00          <NA>   \n",
       "3506      Sports      0.44      0.11      0.00         0.02            86   \n",
       "\n",
       "       user_score rating  total_sales  \n",
       "12880         NaN   E10+         0.06  \n",
       "1640          NaN    NaN         1.22  \n",
       "8356          NaN      E         0.16  \n",
       "16530         5.5      M         0.01  \n",
       "1032          7.9      E         1.73  \n",
       "7322          NaN      T         0.21  \n",
       "15474         NaN      E         0.02  \n",
       "872           8.3      M         1.96  \n",
       "11927         NaN    NaN         0.07  \n",
       "3506          8.5      E         0.57  "
      ]
     },
     "execution_count": 24,
     "metadata": {},
     "output_type": "execute_result"
    }
   ],
   "source": [
    "df.sample(10)"
   ]
  },
  {
   "cell_type": "markdown",
   "metadata": {},
   "source": [
    "### Strongest Tokyo University Shogi DS"
   ]
  },
  {
   "cell_type": "markdown",
   "metadata": {},
   "source": [
    "На этапе анализа данных (пункт 3.2) выявлено несоответствие, препятствующее качественному изучению данных. Удалим год выпуска игры `Strongest Tokyo University Shogi DS`."
   ]
  },
  {
   "cell_type": "code",
   "execution_count": 25,
   "metadata": {},
   "outputs": [
    {
     "data": {
      "text/html": [
       "<div>\n",
       "<style scoped>\n",
       "    .dataframe tbody tr th:only-of-type {\n",
       "        vertical-align: middle;\n",
       "    }\n",
       "\n",
       "    .dataframe tbody tr th {\n",
       "        vertical-align: top;\n",
       "    }\n",
       "\n",
       "    .dataframe thead th {\n",
       "        text-align: right;\n",
       "    }\n",
       "</style>\n",
       "<table border=\"1\" class=\"dataframe\">\n",
       "  <thead>\n",
       "    <tr style=\"text-align: right;\">\n",
       "      <th></th>\n",
       "      <th>name</th>\n",
       "      <th>platform</th>\n",
       "      <th>year_of_release</th>\n",
       "      <th>genre</th>\n",
       "      <th>na_sales</th>\n",
       "      <th>eu_sales</th>\n",
       "      <th>jp_sales</th>\n",
       "      <th>other_sales</th>\n",
       "      <th>critic_score</th>\n",
       "      <th>user_score</th>\n",
       "      <th>rating</th>\n",
       "      <th>total_sales</th>\n",
       "    </tr>\n",
       "  </thead>\n",
       "  <tbody>\n",
       "    <tr>\n",
       "      <th>15957</th>\n",
       "      <td>Strongest Tokyo University Shogi DS</td>\n",
       "      <td>DS</td>\n",
       "      <td>1985</td>\n",
       "      <td>Action</td>\n",
       "      <td>0.0</td>\n",
       "      <td>0.0</td>\n",
       "      <td>0.02</td>\n",
       "      <td>0.0</td>\n",
       "      <td>&lt;NA&gt;</td>\n",
       "      <td>NaN</td>\n",
       "      <td>NaN</td>\n",
       "      <td>0.02</td>\n",
       "    </tr>\n",
       "  </tbody>\n",
       "</table>\n",
       "</div>"
      ],
      "text/plain": [
       "                                      name platform  year_of_release   genre  \\\n",
       "15957  Strongest Tokyo University Shogi DS       DS             1985  Action   \n",
       "\n",
       "       na_sales  eu_sales  jp_sales  other_sales  critic_score  user_score  \\\n",
       "15957       0.0       0.0      0.02          0.0          <NA>         NaN   \n",
       "\n",
       "      rating  total_sales  \n",
       "15957    NaN         0.02  "
      ]
     },
     "execution_count": 25,
     "metadata": {},
     "output_type": "execute_result"
    }
   ],
   "source": [
    "df.query('platform == \"DS\" & year_of_release == 1985')"
   ]
  },
  {
   "cell_type": "code",
   "execution_count": 26,
   "metadata": {},
   "outputs": [],
   "source": [
    "df.loc[15957, 'year_of_release'] = np.nan"
   ]
  },
  {
   "cell_type": "code",
   "execution_count": 27,
   "metadata": {},
   "outputs": [
    {
     "data": {
      "text/plain": [
       "name               Strongest Tokyo University Shogi DS\n",
       "platform                                            DS\n",
       "year_of_release                                   <NA>\n",
       "genre                                           Action\n",
       "na_sales                                           0.0\n",
       "eu_sales                                           0.0\n",
       "jp_sales                                          0.02\n",
       "other_sales                                        0.0\n",
       "critic_score                                      <NA>\n",
       "user_score                                         NaN\n",
       "rating                                             NaN\n",
       "total_sales                                       0.02\n",
       "Name: 15957, dtype: object"
      ]
     },
     "execution_count": 27,
     "metadata": {},
     "output_type": "execute_result"
    }
   ],
   "source": [
    "#Проверяем\n",
    "df.loc[15957, :]"
   ]
  },
  {
   "cell_type": "markdown",
   "metadata": {},
   "source": [
    "### Изучение строк с пропуском года выпуска"
   ]
  },
  {
   "cell_type": "code",
   "execution_count": 28,
   "metadata": {},
   "outputs": [
    {
     "data": {
      "text/html": [
       "<div>\n",
       "<style scoped>\n",
       "    .dataframe tbody tr th:only-of-type {\n",
       "        vertical-align: middle;\n",
       "    }\n",
       "\n",
       "    .dataframe tbody tr th {\n",
       "        vertical-align: top;\n",
       "    }\n",
       "\n",
       "    .dataframe thead th {\n",
       "        text-align: right;\n",
       "    }\n",
       "</style>\n",
       "<table border=\"1\" class=\"dataframe\">\n",
       "  <thead>\n",
       "    <tr style=\"text-align: right;\">\n",
       "      <th></th>\n",
       "      <th>name</th>\n",
       "      <th>platform</th>\n",
       "      <th>year_of_release</th>\n",
       "      <th>genre</th>\n",
       "      <th>na_sales</th>\n",
       "      <th>eu_sales</th>\n",
       "      <th>jp_sales</th>\n",
       "      <th>other_sales</th>\n",
       "      <th>critic_score</th>\n",
       "      <th>user_score</th>\n",
       "      <th>rating</th>\n",
       "      <th>total_sales</th>\n",
       "    </tr>\n",
       "  </thead>\n",
       "  <tbody>\n",
       "    <tr>\n",
       "      <th>183</th>\n",
       "      <td>Madden NFL 2004</td>\n",
       "      <td>PS2</td>\n",
       "      <td>&lt;NA&gt;</td>\n",
       "      <td>Sports</td>\n",
       "      <td>4.26</td>\n",
       "      <td>0.26</td>\n",
       "      <td>0.01</td>\n",
       "      <td>0.71</td>\n",
       "      <td>94</td>\n",
       "      <td>8.5</td>\n",
       "      <td>E</td>\n",
       "      <td>5.24</td>\n",
       "    </tr>\n",
       "    <tr>\n",
       "      <th>377</th>\n",
       "      <td>FIFA Soccer 2004</td>\n",
       "      <td>PS2</td>\n",
       "      <td>&lt;NA&gt;</td>\n",
       "      <td>Sports</td>\n",
       "      <td>0.59</td>\n",
       "      <td>2.36</td>\n",
       "      <td>0.04</td>\n",
       "      <td>0.51</td>\n",
       "      <td>84</td>\n",
       "      <td>6.4</td>\n",
       "      <td>E</td>\n",
       "      <td>3.50</td>\n",
       "    </tr>\n",
       "    <tr>\n",
       "      <th>456</th>\n",
       "      <td>LEGO Batman: The Videogame</td>\n",
       "      <td>Wii</td>\n",
       "      <td>&lt;NA&gt;</td>\n",
       "      <td>Action</td>\n",
       "      <td>1.80</td>\n",
       "      <td>0.97</td>\n",
       "      <td>0.00</td>\n",
       "      <td>0.29</td>\n",
       "      <td>74</td>\n",
       "      <td>7.9</td>\n",
       "      <td>E10+</td>\n",
       "      <td>3.06</td>\n",
       "    </tr>\n",
       "    <tr>\n",
       "      <th>475</th>\n",
       "      <td>wwe Smackdown vs. Raw 2006</td>\n",
       "      <td>PS2</td>\n",
       "      <td>&lt;NA&gt;</td>\n",
       "      <td>Fighting</td>\n",
       "      <td>1.57</td>\n",
       "      <td>1.02</td>\n",
       "      <td>0.00</td>\n",
       "      <td>0.41</td>\n",
       "      <td>&lt;NA&gt;</td>\n",
       "      <td>NaN</td>\n",
       "      <td>NaN</td>\n",
       "      <td>3.00</td>\n",
       "    </tr>\n",
       "    <tr>\n",
       "      <th>609</th>\n",
       "      <td>Space Invaders</td>\n",
       "      <td>2600</td>\n",
       "      <td>&lt;NA&gt;</td>\n",
       "      <td>Shooter</td>\n",
       "      <td>2.36</td>\n",
       "      <td>0.14</td>\n",
       "      <td>0.00</td>\n",
       "      <td>0.03</td>\n",
       "      <td>&lt;NA&gt;</td>\n",
       "      <td>NaN</td>\n",
       "      <td>NaN</td>\n",
       "      <td>2.53</td>\n",
       "    </tr>\n",
       "    <tr>\n",
       "      <th>...</th>\n",
       "      <td>...</td>\n",
       "      <td>...</td>\n",
       "      <td>...</td>\n",
       "      <td>...</td>\n",
       "      <td>...</td>\n",
       "      <td>...</td>\n",
       "      <td>...</td>\n",
       "      <td>...</td>\n",
       "      <td>...</td>\n",
       "      <td>...</td>\n",
       "      <td>...</td>\n",
       "      <td>...</td>\n",
       "    </tr>\n",
       "    <tr>\n",
       "      <th>16373</th>\n",
       "      <td>PDC World Championship Darts 2008</td>\n",
       "      <td>PSP</td>\n",
       "      <td>&lt;NA&gt;</td>\n",
       "      <td>Sports</td>\n",
       "      <td>0.01</td>\n",
       "      <td>0.00</td>\n",
       "      <td>0.00</td>\n",
       "      <td>0.00</td>\n",
       "      <td>43</td>\n",
       "      <td>NaN</td>\n",
       "      <td>E10+</td>\n",
       "      <td>0.01</td>\n",
       "    </tr>\n",
       "    <tr>\n",
       "      <th>16405</th>\n",
       "      <td>Freaky Flyers</td>\n",
       "      <td>GC</td>\n",
       "      <td>&lt;NA&gt;</td>\n",
       "      <td>Racing</td>\n",
       "      <td>0.01</td>\n",
       "      <td>0.00</td>\n",
       "      <td>0.00</td>\n",
       "      <td>0.00</td>\n",
       "      <td>69</td>\n",
       "      <td>6.5</td>\n",
       "      <td>T</td>\n",
       "      <td>0.01</td>\n",
       "    </tr>\n",
       "    <tr>\n",
       "      <th>16448</th>\n",
       "      <td>Inversion</td>\n",
       "      <td>PC</td>\n",
       "      <td>&lt;NA&gt;</td>\n",
       "      <td>Shooter</td>\n",
       "      <td>0.01</td>\n",
       "      <td>0.00</td>\n",
       "      <td>0.00</td>\n",
       "      <td>0.00</td>\n",
       "      <td>59</td>\n",
       "      <td>6.7</td>\n",
       "      <td>M</td>\n",
       "      <td>0.01</td>\n",
       "    </tr>\n",
       "    <tr>\n",
       "      <th>16458</th>\n",
       "      <td>Hakuouki: Shinsengumi Kitan</td>\n",
       "      <td>PS3</td>\n",
       "      <td>&lt;NA&gt;</td>\n",
       "      <td>Adventure</td>\n",
       "      <td>0.01</td>\n",
       "      <td>0.00</td>\n",
       "      <td>0.00</td>\n",
       "      <td>0.00</td>\n",
       "      <td>&lt;NA&gt;</td>\n",
       "      <td>NaN</td>\n",
       "      <td>NaN</td>\n",
       "      <td>0.01</td>\n",
       "    </tr>\n",
       "    <tr>\n",
       "      <th>16522</th>\n",
       "      <td>Virtua Quest</td>\n",
       "      <td>GC</td>\n",
       "      <td>&lt;NA&gt;</td>\n",
       "      <td>Role-Playing</td>\n",
       "      <td>0.01</td>\n",
       "      <td>0.00</td>\n",
       "      <td>0.00</td>\n",
       "      <td>0.00</td>\n",
       "      <td>55</td>\n",
       "      <td>5.5</td>\n",
       "      <td>T</td>\n",
       "      <td>0.01</td>\n",
       "    </tr>\n",
       "  </tbody>\n",
       "</table>\n",
       "<p>270 rows × 12 columns</p>\n",
       "</div>"
      ],
      "text/plain": [
       "                                    name platform  year_of_release  \\\n",
       "183                      Madden NFL 2004      PS2             <NA>   \n",
       "377                     FIFA Soccer 2004      PS2             <NA>   \n",
       "456           LEGO Batman: The Videogame      Wii             <NA>   \n",
       "475           wwe Smackdown vs. Raw 2006      PS2             <NA>   \n",
       "609                       Space Invaders     2600             <NA>   \n",
       "...                                  ...      ...              ...   \n",
       "16373  PDC World Championship Darts 2008      PSP             <NA>   \n",
       "16405                      Freaky Flyers       GC             <NA>   \n",
       "16448                          Inversion       PC             <NA>   \n",
       "16458        Hakuouki: Shinsengumi Kitan      PS3             <NA>   \n",
       "16522                       Virtua Quest       GC             <NA>   \n",
       "\n",
       "              genre  na_sales  eu_sales  jp_sales  other_sales  critic_score  \\\n",
       "183          Sports      4.26      0.26      0.01         0.71            94   \n",
       "377          Sports      0.59      2.36      0.04         0.51            84   \n",
       "456          Action      1.80      0.97      0.00         0.29            74   \n",
       "475        Fighting      1.57      1.02      0.00         0.41          <NA>   \n",
       "609         Shooter      2.36      0.14      0.00         0.03          <NA>   \n",
       "...             ...       ...       ...       ...          ...           ...   \n",
       "16373        Sports      0.01      0.00      0.00         0.00            43   \n",
       "16405        Racing      0.01      0.00      0.00         0.00            69   \n",
       "16448       Shooter      0.01      0.00      0.00         0.00            59   \n",
       "16458     Adventure      0.01      0.00      0.00         0.00          <NA>   \n",
       "16522  Role-Playing      0.01      0.00      0.00         0.00            55   \n",
       "\n",
       "       user_score rating  total_sales  \n",
       "183           8.5      E         5.24  \n",
       "377           6.4      E         3.50  \n",
       "456           7.9   E10+         3.06  \n",
       "475           NaN    NaN         3.00  \n",
       "609           NaN    NaN         2.53  \n",
       "...           ...    ...          ...  \n",
       "16373         NaN   E10+         0.01  \n",
       "16405         6.5      T         0.01  \n",
       "16448         6.7      M         0.01  \n",
       "16458         NaN    NaN         0.01  \n",
       "16522         5.5      T         0.01  \n",
       "\n",
       "[270 rows x 12 columns]"
      ]
     },
     "execution_count": 28,
     "metadata": {},
     "output_type": "execute_result"
    }
   ],
   "source": [
    "df[df.year_of_release.isnull()]"
   ]
  },
  {
   "cell_type": "markdown",
   "metadata": {},
   "source": [
    "Помимо года издания какие-либо закономерности в неполноте данных не выявлены. Заполнение столбца годами из названия игры может привести к ошибке, так как <a href=\"https://ru.wikipedia.org/wiki/FIFA_Football_2002\" target=\"_blank\">год в названии может не соответствовать году выпуска</a>.\n",
    "\n",
    "Ранее изучали данные игры `Need for Speed: Most Wanted`. Игра с одним наименованием имеет три разных года выпуска, поэтому частичное восстановление данных в столбце `year_of_release` по наименованию снова может привести к ошибкам.\n",
    "\n",
    "Так как год выпуска является одним из важнейших факторов для корректного сравнительного анализа, избавимся от строк с отсутствием года."
   ]
  },
  {
   "cell_type": "code",
   "execution_count": 29,
   "metadata": {},
   "outputs": [],
   "source": [
    "df = df.dropna(axis='index', subset=['year_of_release']).reset_index(drop=True)"
   ]
  },
  {
   "cell_type": "markdown",
   "metadata": {},
   "source": [
    "<a id='rating'></a>\n",
    "### Заполнение пропусков в столбце `rating`"
   ]
  },
  {
   "cell_type": "markdown",
   "metadata": {},
   "source": [
    "Заполним пропуски в столбце `rating`. Так как рейтинг в случае с ESRB - категории, а не количественные данные, примем отсутствие рейтинга за ещё одну дополнительную категорию и присвоим имя строкового типа."
   ]
  },
  {
   "cell_type": "code",
   "execution_count": 30,
   "metadata": {},
   "outputs": [],
   "source": [
    "df['rating'] = df['rating'].fillna('WR')"
   ]
  },
  {
   "cell_type": "markdown",
   "metadata": {},
   "source": [
    "### Вывод\n",
    "В ходе предобработки данных были внесены следующие исправления:\n",
    "1. Названия столбцов привели к нижнемы регистру;\n",
    "2. Изменили пропуске в столбце `name` на \"noname\";\n",
    "3. Типы данных в столбцах `critic_score` и `year_of_release` изменили на int;\n",
    "4. В столбце `user_score` удалили значения \"tbd\", изменили тип данных на float;\n",
    "5. Удалили строки с пропущенными значениями в столбце `year_of_release`;\n",
    "6. Заполнили пропуски в столбце `rating` значением \"WR\";\n",
    "7. Расчитали суммарные продажи всех регионов, записали результат в столбец `total_sales`."
   ]
  },
  {
   "cell_type": "markdown",
   "metadata": {},
   "source": [
    "<a id=\"p3\"></a>\n",
    "## Шаг 3. Исследовательский анализ данных"
   ]
  },
  {
   "cell_type": "markdown",
   "metadata": {},
   "source": [
    "### Изучение данных по годам выпуска"
   ]
  },
  {
   "cell_type": "markdown",
   "metadata": {},
   "source": [
    "Рассмотрим количество игр, выпущенных в разные годы."
   ]
  },
  {
   "cell_type": "code",
   "execution_count": 31,
   "metadata": {},
   "outputs": [
    {
     "data": {
      "image/png": "[encoded data removed]",
      "text/plain": [
       "<Figure size 1008x288 with 1 Axes>"
      ]
     },
     "metadata": {
      "needs_background": "light"
     },
     "output_type": "display_data"
    }
   ],
   "source": [
    "df['year_of_release'].hist(bins=(df['year_of_release'].max() - df['year_of_release'].min() + 1), figsize=(14, 4));"
   ]
  },
  {
   "cell_type": "markdown",
   "metadata": {},
   "source": [
    "Количество игр распределено неравномерно по годам. Предполагаем, что в 80-е годы лидировали игры для игровых приставок, далее с конца 90-х количество игр росло в связи с распространением персональных компьютеров и их возможностей. С 2010 года спад количества игр можем объяснить развитием онлайн игр - вместо постоянных выпусков новых частей одной игры или новых игр  разработчики могут выпустить одну игру, периодически обновляя содержимое. С 2014 года наблюдается рост количества игр. Возможно, это связано с популярностью игровых консолей. \n",
    "\n",
    "Проверим предположения, изучив распределение для некоторых платформ."
   ]
  },
  {
   "cell_type": "code",
   "execution_count": 32,
   "metadata": {},
   "outputs": [
    {
     "data": {
      "image/png": "[encoded data removed]",
      "text/plain": [
       "<Figure size 1008x288 with 1 Axes>"
      ]
     },
     "metadata": {
      "needs_background": "light"
     },
     "output_type": "display_data"
    }
   ],
   "source": [
    "df_pc = df.query('platform == \"PC\"')\n",
    "df_con = df.query('platform == \"PS4\" | platform == \"X360\" | platform == \"XOne\" | platform == \"WiiU\"')\n",
    "\n",
    "df_pc['year_of_release'].hist(bins=(df_pc['year_of_release'].max() - df_pc['year_of_release'].min() + 1), figsize=(14, 4));\n",
    "df_con['year_of_release'].hist(bins=(df_con['year_of_release'].max() - df_con['year_of_release'].min() + 1), figsize=(14, 4), alpha=0.5);"
   ]
  },
  {
   "cell_type": "markdown",
   "metadata": {},
   "source": [
    "График распределения частично не подтвердил предположения. Игры для ПК распределены по всему диапазону с 1985 года, но количество игр всегда было низким, по сравнению с консольными играми. С 2013 года действительно наблюдается резкий рост консольных игр, в то время как рост количества игр для ПК не такой интенсивный. Проверить влияние онлайн игр на основании имеющихся данных нельзя."
   ]
  },
  {
   "cell_type": "markdown",
   "metadata": {},
   "source": [
    "График распределения и наши примерные предположения о развитии игровой индустрии говорят о том, что в заданный период проходило несколько фазовых переходов. Текущая фаза началась в 2013 году, поэтому для планирования кампании на 2017 год будем использовать данные с 2013 года. Подробнее изучим распределение по платформам далее."
   ]
  },
  {
   "cell_type": "markdown",
   "metadata": {},
   "source": [
    "### Распределение продаж по платформам"
   ]
  },
  {
   "cell_type": "markdown",
   "metadata": {},
   "source": [
    "Ранее высказывали предположения по изменению количества игр по платформам. Рассмотрим продажи различных платформ по годам, построив сводные таблицы."
   ]
  },
  {
   "cell_type": "code",
   "execution_count": 33,
   "metadata": {},
   "outputs": [],
   "source": [
    "# Все продажи платформ по годам\n",
    "platform_sales_pivot = pd.pivot_table(df,\n",
    "                                     values='total_sales',\n",
    "                                     index='platform',\n",
    "                                     columns='year_of_release',\n",
    "                                     aggfunc='sum')"
   ]
  },
  {
   "cell_type": "markdown",
   "metadata": {},
   "source": [
    "Найдём платформы с наибольшими суммарными продажами:"
   ]
  },
  {
   "cell_type": "code",
   "execution_count": 34,
   "metadata": {},
   "outputs": [
    {
     "data": {
      "text/html": [
       "<div>\n",
       "<style scoped>\n",
       "    .dataframe tbody tr th:only-of-type {\n",
       "        vertical-align: middle;\n",
       "    }\n",
       "\n",
       "    .dataframe tbody tr th {\n",
       "        vertical-align: top;\n",
       "    }\n",
       "\n",
       "    .dataframe thead th {\n",
       "        text-align: right;\n",
       "    }\n",
       "</style>\n",
       "<table border=\"1\" class=\"dataframe\">\n",
       "  <thead>\n",
       "    <tr style=\"text-align: right;\">\n",
       "      <th></th>\n",
       "      <th>total_sales</th>\n",
       "    </tr>\n",
       "    <tr>\n",
       "      <th>platform</th>\n",
       "      <th></th>\n",
       "    </tr>\n",
       "  </thead>\n",
       "  <tbody>\n",
       "    <tr>\n",
       "      <th>PS2</th>\n",
       "      <td>1233.56</td>\n",
       "    </tr>\n",
       "    <tr>\n",
       "      <th>X360</th>\n",
       "      <td>961.24</td>\n",
       "    </tr>\n",
       "    <tr>\n",
       "      <th>PS3</th>\n",
       "      <td>931.34</td>\n",
       "    </tr>\n",
       "    <tr>\n",
       "      <th>Wii</th>\n",
       "      <td>891.18</td>\n",
       "    </tr>\n",
       "    <tr>\n",
       "      <th>DS</th>\n",
       "      <td>802.76</td>\n",
       "    </tr>\n",
       "    <tr>\n",
       "      <th>PS</th>\n",
       "      <td>727.58</td>\n",
       "    </tr>\n",
       "  </tbody>\n",
       "</table>\n",
       "</div>"
      ],
      "text/plain": [
       "          total_sales\n",
       "platform             \n",
       "PS2           1233.56\n",
       "X360           961.24\n",
       "PS3            931.34\n",
       "Wii            891.18\n",
       "DS             802.76\n",
       "PS             727.58"
      ]
     },
     "execution_count": 34,
     "metadata": {},
     "output_type": "execute_result"
    }
   ],
   "source": [
    "platform_sales_total = df.groupby('platform').agg({'total_sales': 'sum'})\n",
    "\n",
    "platform_sales_total.sort_values('total_sales', ascending=False).head(6)"
   ]
  },
  {
   "cell_type": "code",
   "execution_count": 35,
   "metadata": {},
   "outputs": [],
   "source": [
    "#Сохраняем названия платформ. Для 6 наименований сделаем вручную\n",
    "top_platforms = ['PS2', 'X360', 'PS3', 'Wii', 'DS', 'PS']"
   ]
  },
  {
   "cell_type": "code",
   "execution_count": 36,
   "metadata": {},
   "outputs": [
    {
     "data": {
      "text/html": [
       "<div>\n",
       "<style scoped>\n",
       "    .dataframe tbody tr th:only-of-type {\n",
       "        vertical-align: middle;\n",
       "    }\n",
       "\n",
       "    .dataframe tbody tr th {\n",
       "        vertical-align: top;\n",
       "    }\n",
       "\n",
       "    .dataframe thead th {\n",
       "        text-align: right;\n",
       "    }\n",
       "</style>\n",
       "<table border=\"1\" class=\"dataframe\">\n",
       "  <thead>\n",
       "    <tr style=\"text-align: right;\">\n",
       "      <th>year_of_release</th>\n",
       "      <th>1980</th>\n",
       "      <th>1981</th>\n",
       "      <th>1982</th>\n",
       "      <th>1983</th>\n",
       "      <th>1984</th>\n",
       "      <th>1985</th>\n",
       "      <th>1986</th>\n",
       "      <th>1987</th>\n",
       "      <th>1988</th>\n",
       "      <th>1989</th>\n",
       "      <th>...</th>\n",
       "      <th>2007</th>\n",
       "      <th>2008</th>\n",
       "      <th>2009</th>\n",
       "      <th>2010</th>\n",
       "      <th>2011</th>\n",
       "      <th>2012</th>\n",
       "      <th>2013</th>\n",
       "      <th>2014</th>\n",
       "      <th>2015</th>\n",
       "      <th>2016</th>\n",
       "    </tr>\n",
       "    <tr>\n",
       "      <th>platform</th>\n",
       "      <th></th>\n",
       "      <th></th>\n",
       "      <th></th>\n",
       "      <th></th>\n",
       "      <th></th>\n",
       "      <th></th>\n",
       "      <th></th>\n",
       "      <th></th>\n",
       "      <th></th>\n",
       "      <th></th>\n",
       "      <th></th>\n",
       "      <th></th>\n",
       "      <th></th>\n",
       "      <th></th>\n",
       "      <th></th>\n",
       "      <th></th>\n",
       "      <th></th>\n",
       "      <th></th>\n",
       "      <th></th>\n",
       "      <th></th>\n",
       "      <th></th>\n",
       "    </tr>\n",
       "  </thead>\n",
       "  <tbody>\n",
       "    <tr>\n",
       "      <th>DS</th>\n",
       "      <td>NaN</td>\n",
       "      <td>NaN</td>\n",
       "      <td>NaN</td>\n",
       "      <td>NaN</td>\n",
       "      <td>NaN</td>\n",
       "      <td>NaN</td>\n",
       "      <td>NaN</td>\n",
       "      <td>NaN</td>\n",
       "      <td>NaN</td>\n",
       "      <td>NaN</td>\n",
       "      <td>...</td>\n",
       "      <td>146.94</td>\n",
       "      <td>145.31</td>\n",
       "      <td>119.54</td>\n",
       "      <td>85.02</td>\n",
       "      <td>26.18</td>\n",
       "      <td>11.01</td>\n",
       "      <td>1.54</td>\n",
       "      <td>NaN</td>\n",
       "      <td>NaN</td>\n",
       "      <td>NaN</td>\n",
       "    </tr>\n",
       "    <tr>\n",
       "      <th>PS</th>\n",
       "      <td>NaN</td>\n",
       "      <td>NaN</td>\n",
       "      <td>NaN</td>\n",
       "      <td>NaN</td>\n",
       "      <td>NaN</td>\n",
       "      <td>NaN</td>\n",
       "      <td>NaN</td>\n",
       "      <td>NaN</td>\n",
       "      <td>NaN</td>\n",
       "      <td>NaN</td>\n",
       "      <td>...</td>\n",
       "      <td>NaN</td>\n",
       "      <td>NaN</td>\n",
       "      <td>NaN</td>\n",
       "      <td>NaN</td>\n",
       "      <td>NaN</td>\n",
       "      <td>NaN</td>\n",
       "      <td>NaN</td>\n",
       "      <td>NaN</td>\n",
       "      <td>NaN</td>\n",
       "      <td>NaN</td>\n",
       "    </tr>\n",
       "    <tr>\n",
       "      <th>PS2</th>\n",
       "      <td>NaN</td>\n",
       "      <td>NaN</td>\n",
       "      <td>NaN</td>\n",
       "      <td>NaN</td>\n",
       "      <td>NaN</td>\n",
       "      <td>NaN</td>\n",
       "      <td>NaN</td>\n",
       "      <td>NaN</td>\n",
       "      <td>NaN</td>\n",
       "      <td>NaN</td>\n",
       "      <td>...</td>\n",
       "      <td>75.99</td>\n",
       "      <td>53.90</td>\n",
       "      <td>26.40</td>\n",
       "      <td>5.64</td>\n",
       "      <td>0.45</td>\n",
       "      <td>NaN</td>\n",
       "      <td>NaN</td>\n",
       "      <td>NaN</td>\n",
       "      <td>NaN</td>\n",
       "      <td>NaN</td>\n",
       "    </tr>\n",
       "    <tr>\n",
       "      <th>PS3</th>\n",
       "      <td>NaN</td>\n",
       "      <td>NaN</td>\n",
       "      <td>NaN</td>\n",
       "      <td>NaN</td>\n",
       "      <td>NaN</td>\n",
       "      <td>NaN</td>\n",
       "      <td>NaN</td>\n",
       "      <td>NaN</td>\n",
       "      <td>NaN</td>\n",
       "      <td>NaN</td>\n",
       "      <td>...</td>\n",
       "      <td>73.19</td>\n",
       "      <td>118.52</td>\n",
       "      <td>130.93</td>\n",
       "      <td>142.17</td>\n",
       "      <td>156.78</td>\n",
       "      <td>107.36</td>\n",
       "      <td>113.25</td>\n",
       "      <td>47.76</td>\n",
       "      <td>16.82</td>\n",
       "      <td>3.60</td>\n",
       "    </tr>\n",
       "    <tr>\n",
       "      <th>Wii</th>\n",
       "      <td>NaN</td>\n",
       "      <td>NaN</td>\n",
       "      <td>NaN</td>\n",
       "      <td>NaN</td>\n",
       "      <td>NaN</td>\n",
       "      <td>NaN</td>\n",
       "      <td>NaN</td>\n",
       "      <td>NaN</td>\n",
       "      <td>NaN</td>\n",
       "      <td>NaN</td>\n",
       "      <td>...</td>\n",
       "      <td>152.77</td>\n",
       "      <td>171.32</td>\n",
       "      <td>206.97</td>\n",
       "      <td>127.95</td>\n",
       "      <td>59.65</td>\n",
       "      <td>21.71</td>\n",
       "      <td>8.59</td>\n",
       "      <td>3.75</td>\n",
       "      <td>1.14</td>\n",
       "      <td>0.18</td>\n",
       "    </tr>\n",
       "    <tr>\n",
       "      <th>X360</th>\n",
       "      <td>NaN</td>\n",
       "      <td>NaN</td>\n",
       "      <td>NaN</td>\n",
       "      <td>NaN</td>\n",
       "      <td>NaN</td>\n",
       "      <td>NaN</td>\n",
       "      <td>NaN</td>\n",
       "      <td>NaN</td>\n",
       "      <td>NaN</td>\n",
       "      <td>NaN</td>\n",
       "      <td>...</td>\n",
       "      <td>95.41</td>\n",
       "      <td>135.26</td>\n",
       "      <td>120.29</td>\n",
       "      <td>170.03</td>\n",
       "      <td>143.84</td>\n",
       "      <td>99.74</td>\n",
       "      <td>88.58</td>\n",
       "      <td>34.74</td>\n",
       "      <td>11.96</td>\n",
       "      <td>1.52</td>\n",
       "    </tr>\n",
       "  </tbody>\n",
       "</table>\n",
       "<p>6 rows × 37 columns</p>\n",
       "</div>"
      ],
      "text/plain": [
       "year_of_release  1980  1981  1982  1983  1984  1985  1986  1987  1988  1989  \\\n",
       "platform                                                                      \n",
       "DS                NaN   NaN   NaN   NaN   NaN   NaN   NaN   NaN   NaN   NaN   \n",
       "PS                NaN   NaN   NaN   NaN   NaN   NaN   NaN   NaN   NaN   NaN   \n",
       "PS2               NaN   NaN   NaN   NaN   NaN   NaN   NaN   NaN   NaN   NaN   \n",
       "PS3               NaN   NaN   NaN   NaN   NaN   NaN   NaN   NaN   NaN   NaN   \n",
       "Wii               NaN   NaN   NaN   NaN   NaN   NaN   NaN   NaN   NaN   NaN   \n",
       "X360              NaN   NaN   NaN   NaN   NaN   NaN   NaN   NaN   NaN   NaN   \n",
       "\n",
       "year_of_release  ...    2007    2008    2009    2010    2011    2012    2013  \\\n",
       "platform         ...                                                           \n",
       "DS               ...  146.94  145.31  119.54   85.02   26.18   11.01    1.54   \n",
       "PS               ...     NaN     NaN     NaN     NaN     NaN     NaN     NaN   \n",
       "PS2              ...   75.99   53.90   26.40    5.64    0.45     NaN     NaN   \n",
       "PS3              ...   73.19  118.52  130.93  142.17  156.78  107.36  113.25   \n",
       "Wii              ...  152.77  171.32  206.97  127.95   59.65   21.71    8.59   \n",
       "X360             ...   95.41  135.26  120.29  170.03  143.84   99.74   88.58   \n",
       "\n",
       "year_of_release   2014   2015  2016  \n",
       "platform                             \n",
       "DS                 NaN    NaN   NaN  \n",
       "PS                 NaN    NaN   NaN  \n",
       "PS2                NaN    NaN   NaN  \n",
       "PS3              47.76  16.82  3.60  \n",
       "Wii               3.75   1.14  0.18  \n",
       "X360             34.74  11.96  1.52  \n",
       "\n",
       "[6 rows x 37 columns]"
      ]
     },
     "execution_count": 36,
     "metadata": {},
     "output_type": "execute_result"
    }
   ],
   "source": [
    "#Выводим продажи топовых платформ\n",
    "top_platforms_year = platform_sales_pivot[platform_sales_pivot.index.isin(top_platforms)]\n",
    "top_platforms_year"
   ]
  },
  {
   "cell_type": "markdown",
   "metadata": {},
   "source": [
    "В данных за 1985 год на платформе DS замечена аномалия, изучим подробнее:"
   ]
  },
  {
   "cell_type": "code",
   "execution_count": 37,
   "metadata": {},
   "outputs": [
    {
     "data": {
      "text/html": [
       "<div>\n",
       "<style scoped>\n",
       "    .dataframe tbody tr th:only-of-type {\n",
       "        vertical-align: middle;\n",
       "    }\n",
       "\n",
       "    .dataframe tbody tr th {\n",
       "        vertical-align: top;\n",
       "    }\n",
       "\n",
       "    .dataframe thead th {\n",
       "        text-align: right;\n",
       "    }\n",
       "</style>\n",
       "<table border=\"1\" class=\"dataframe\">\n",
       "  <thead>\n",
       "    <tr style=\"text-align: right;\">\n",
       "      <th></th>\n",
       "      <th>name</th>\n",
       "      <th>platform</th>\n",
       "      <th>year_of_release</th>\n",
       "      <th>genre</th>\n",
       "      <th>na_sales</th>\n",
       "      <th>eu_sales</th>\n",
       "      <th>jp_sales</th>\n",
       "      <th>other_sales</th>\n",
       "      <th>critic_score</th>\n",
       "      <th>user_score</th>\n",
       "      <th>rating</th>\n",
       "      <th>total_sales</th>\n",
       "    </tr>\n",
       "  </thead>\n",
       "  <tbody>\n",
       "  </tbody>\n",
       "</table>\n",
       "</div>"
      ],
      "text/plain": [
       "Empty DataFrame\n",
       "Columns: [name, platform, year_of_release, genre, na_sales, eu_sales, jp_sales, other_sales, critic_score, user_score, rating, total_sales]\n",
       "Index: []"
      ]
     },
     "execution_count": 37,
     "metadata": {},
     "output_type": "execute_result"
    }
   ],
   "source": [
    "df.query('platform == \"DS\" & year_of_release == 1985')"
   ]
  },
  {
   "cell_type": "markdown",
   "metadata": {},
   "source": [
    "Согласно данным сайта <a href=\"https://www.vgchartz.com/game/4399/strongest-tokyo-university-shogi-ds/\" target=\"_blank\">vgchartz.com</a>, такая игра действительно существует, но данные разнятся у различных источников, точная информация об этой части игры не была найдена, поэтому заменим год выпуска игры `Strongest Tokyo University Shogi DS` на NaN. Операцию проведём на этапе предобработки данных.\n",
    "\n",
    "*Для корректного отображения несоответствия небоходимо закомментировать код в пункте 2.6.*"
   ]
  },
  {
   "cell_type": "markdown",
   "metadata": {},
   "source": [
    "Построим распределение по годам."
   ]
  },
  {
   "cell_type": "code",
   "execution_count": 38,
   "metadata": {},
   "outputs": [
    {
     "data": {
      "image/png": "[encoded data removed]",
      "text/plain": [
       "<Figure size 1008x288 with 1 Axes>"
      ]
     },
     "metadata": {
      "needs_background": "light"
     },
     "output_type": "display_data"
    }
   ],
   "source": [
    "top_platforms_year_t = top_platforms_year.transpose()\n",
    "top_platforms_year_t.plot(figsize=(14, 4));"
   ]
  },
  {
   "cell_type": "markdown",
   "metadata": {},
   "source": [
    "Графики распределения продаж по годам похожи для разных платформах. Несмотря на то, что общий график распределения количества игр по годам был неоднородным, сильной зависимости от времени не наблюдается: разные платформы в своё время добиваются схожего успеха."
   ]
  },
  {
   "cell_type": "markdown",
   "metadata": {},
   "source": [
    "Рассмотрим время жизни шести топовых платформ:"
   ]
  },
  {
   "cell_type": "code",
   "execution_count": 39,
   "metadata": {},
   "outputs": [
    {
     "data": {
      "text/plain": [
       "platform\n",
       "DS      10\n",
       "PS      10\n",
       "PS2     12\n",
       "PS3     11\n",
       "Wii     11\n",
       "X360    12\n",
       "dtype: int64"
      ]
     },
     "execution_count": 39,
     "metadata": {},
     "output_type": "execute_result"
    }
   ],
   "source": [
    "top_platforms_year_t.count()"
   ]
  },
  {
   "cell_type": "markdown",
   "metadata": {},
   "source": [
    "Время жизни платформ также примерно одинаковое - от 10 до 12 лет. "
   ]
  },
  {
   "cell_type": "markdown",
   "metadata": {},
   "source": [
    "### Создание датафрейма актуальных данных"
   ]
  },
  {
   "cell_type": "markdown",
   "metadata": {},
   "source": [
    "Ранее определили, что актуальным периодом является диапазон с 2013 года до текущего момента. Очистим имеющийся датафрейм от неактуальных данных.\n",
    "\n",
    "Фильтруем годы:"
   ]
  },
  {
   "cell_type": "code",
   "execution_count": 40,
   "metadata": {
    "scrolled": true
   },
   "outputs": [
    {
     "data": {
      "text/html": [
       "<div>\n",
       "<style scoped>\n",
       "    .dataframe tbody tr th:only-of-type {\n",
       "        vertical-align: middle;\n",
       "    }\n",
       "\n",
       "    .dataframe tbody tr th {\n",
       "        vertical-align: top;\n",
       "    }\n",
       "\n",
       "    .dataframe thead th {\n",
       "        text-align: right;\n",
       "    }\n",
       "</style>\n",
       "<table border=\"1\" class=\"dataframe\">\n",
       "  <thead>\n",
       "    <tr style=\"text-align: right;\">\n",
       "      <th></th>\n",
       "      <th>name</th>\n",
       "      <th>platform</th>\n",
       "      <th>year_of_release</th>\n",
       "      <th>genre</th>\n",
       "      <th>na_sales</th>\n",
       "      <th>eu_sales</th>\n",
       "      <th>jp_sales</th>\n",
       "      <th>other_sales</th>\n",
       "      <th>critic_score</th>\n",
       "      <th>user_score</th>\n",
       "      <th>rating</th>\n",
       "      <th>total_sales</th>\n",
       "    </tr>\n",
       "  </thead>\n",
       "  <tbody>\n",
       "    <tr>\n",
       "      <th>16</th>\n",
       "      <td>Grand Theft Auto V</td>\n",
       "      <td>PS3</td>\n",
       "      <td>2013</td>\n",
       "      <td>Action</td>\n",
       "      <td>7.02</td>\n",
       "      <td>9.09</td>\n",
       "      <td>0.98</td>\n",
       "      <td>3.96</td>\n",
       "      <td>97</td>\n",
       "      <td>8.2</td>\n",
       "      <td>M</td>\n",
       "      <td>21.05</td>\n",
       "    </tr>\n",
       "    <tr>\n",
       "      <th>23</th>\n",
       "      <td>Grand Theft Auto V</td>\n",
       "      <td>X360</td>\n",
       "      <td>2013</td>\n",
       "      <td>Action</td>\n",
       "      <td>9.66</td>\n",
       "      <td>5.14</td>\n",
       "      <td>0.06</td>\n",
       "      <td>1.41</td>\n",
       "      <td>97</td>\n",
       "      <td>8.1</td>\n",
       "      <td>M</td>\n",
       "      <td>16.27</td>\n",
       "    </tr>\n",
       "    <tr>\n",
       "      <th>31</th>\n",
       "      <td>Call of Duty: Black Ops 3</td>\n",
       "      <td>PS4</td>\n",
       "      <td>2015</td>\n",
       "      <td>Shooter</td>\n",
       "      <td>6.03</td>\n",
       "      <td>5.86</td>\n",
       "      <td>0.36</td>\n",
       "      <td>2.38</td>\n",
       "      <td>&lt;NA&gt;</td>\n",
       "      <td>NaN</td>\n",
       "      <td>WR</td>\n",
       "      <td>14.63</td>\n",
       "    </tr>\n",
       "    <tr>\n",
       "      <th>33</th>\n",
       "      <td>Pokemon X/Pokemon Y</td>\n",
       "      <td>3DS</td>\n",
       "      <td>2013</td>\n",
       "      <td>Role-Playing</td>\n",
       "      <td>5.28</td>\n",
       "      <td>4.19</td>\n",
       "      <td>4.35</td>\n",
       "      <td>0.78</td>\n",
       "      <td>&lt;NA&gt;</td>\n",
       "      <td>NaN</td>\n",
       "      <td>WR</td>\n",
       "      <td>14.60</td>\n",
       "    </tr>\n",
       "    <tr>\n",
       "      <th>42</th>\n",
       "      <td>Grand Theft Auto V</td>\n",
       "      <td>PS4</td>\n",
       "      <td>2014</td>\n",
       "      <td>Action</td>\n",
       "      <td>3.96</td>\n",
       "      <td>6.31</td>\n",
       "      <td>0.38</td>\n",
       "      <td>1.97</td>\n",
       "      <td>97</td>\n",
       "      <td>8.3</td>\n",
       "      <td>M</td>\n",
       "      <td>12.62</td>\n",
       "    </tr>\n",
       "    <tr>\n",
       "      <th>...</th>\n",
       "      <td>...</td>\n",
       "      <td>...</td>\n",
       "      <td>...</td>\n",
       "      <td>...</td>\n",
       "      <td>...</td>\n",
       "      <td>...</td>\n",
       "      <td>...</td>\n",
       "      <td>...</td>\n",
       "      <td>...</td>\n",
       "      <td>...</td>\n",
       "      <td>...</td>\n",
       "      <td>...</td>\n",
       "    </tr>\n",
       "    <tr>\n",
       "      <th>16433</th>\n",
       "      <td>Strawberry Nauts</td>\n",
       "      <td>PSV</td>\n",
       "      <td>2016</td>\n",
       "      <td>Adventure</td>\n",
       "      <td>0.00</td>\n",
       "      <td>0.00</td>\n",
       "      <td>0.01</td>\n",
       "      <td>0.00</td>\n",
       "      <td>&lt;NA&gt;</td>\n",
       "      <td>NaN</td>\n",
       "      <td>WR</td>\n",
       "      <td>0.01</td>\n",
       "    </tr>\n",
       "    <tr>\n",
       "      <th>16437</th>\n",
       "      <td>Aiyoku no Eustia</td>\n",
       "      <td>PSV</td>\n",
       "      <td>2014</td>\n",
       "      <td>Misc</td>\n",
       "      <td>0.00</td>\n",
       "      <td>0.00</td>\n",
       "      <td>0.01</td>\n",
       "      <td>0.00</td>\n",
       "      <td>&lt;NA&gt;</td>\n",
       "      <td>NaN</td>\n",
       "      <td>WR</td>\n",
       "      <td>0.01</td>\n",
       "    </tr>\n",
       "    <tr>\n",
       "      <th>16440</th>\n",
       "      <td>Samurai Warriors: Sanada Maru</td>\n",
       "      <td>PS3</td>\n",
       "      <td>2016</td>\n",
       "      <td>Action</td>\n",
       "      <td>0.00</td>\n",
       "      <td>0.00</td>\n",
       "      <td>0.01</td>\n",
       "      <td>0.00</td>\n",
       "      <td>&lt;NA&gt;</td>\n",
       "      <td>NaN</td>\n",
       "      <td>WR</td>\n",
       "      <td>0.01</td>\n",
       "    </tr>\n",
       "    <tr>\n",
       "      <th>16442</th>\n",
       "      <td>Haitaka no Psychedelica</td>\n",
       "      <td>PSV</td>\n",
       "      <td>2016</td>\n",
       "      <td>Adventure</td>\n",
       "      <td>0.00</td>\n",
       "      <td>0.00</td>\n",
       "      <td>0.01</td>\n",
       "      <td>0.00</td>\n",
       "      <td>&lt;NA&gt;</td>\n",
       "      <td>NaN</td>\n",
       "      <td>WR</td>\n",
       "      <td>0.01</td>\n",
       "    </tr>\n",
       "    <tr>\n",
       "      <th>16444</th>\n",
       "      <td>Winning Post 8 2016</td>\n",
       "      <td>PSV</td>\n",
       "      <td>2016</td>\n",
       "      <td>Simulation</td>\n",
       "      <td>0.00</td>\n",
       "      <td>0.00</td>\n",
       "      <td>0.01</td>\n",
       "      <td>0.00</td>\n",
       "      <td>&lt;NA&gt;</td>\n",
       "      <td>NaN</td>\n",
       "      <td>WR</td>\n",
       "      <td>0.01</td>\n",
       "    </tr>\n",
       "  </tbody>\n",
       "</table>\n",
       "<p>2233 rows × 12 columns</p>\n",
       "</div>"
      ],
      "text/plain": [
       "                                name platform  year_of_release         genre  \\\n",
       "16                Grand Theft Auto V      PS3             2013        Action   \n",
       "23                Grand Theft Auto V     X360             2013        Action   \n",
       "31         Call of Duty: Black Ops 3      PS4             2015       Shooter   \n",
       "33               Pokemon X/Pokemon Y      3DS             2013  Role-Playing   \n",
       "42                Grand Theft Auto V      PS4             2014        Action   \n",
       "...                              ...      ...              ...           ...   \n",
       "16433               Strawberry Nauts      PSV             2016     Adventure   \n",
       "16437               Aiyoku no Eustia      PSV             2014          Misc   \n",
       "16440  Samurai Warriors: Sanada Maru      PS3             2016        Action   \n",
       "16442        Haitaka no Psychedelica      PSV             2016     Adventure   \n",
       "16444            Winning Post 8 2016      PSV             2016    Simulation   \n",
       "\n",
       "       na_sales  eu_sales  jp_sales  other_sales  critic_score  user_score  \\\n",
       "16         7.02      9.09      0.98         3.96            97         8.2   \n",
       "23         9.66      5.14      0.06         1.41            97         8.1   \n",
       "31         6.03      5.86      0.36         2.38          <NA>         NaN   \n",
       "33         5.28      4.19      4.35         0.78          <NA>         NaN   \n",
       "42         3.96      6.31      0.38         1.97            97         8.3   \n",
       "...         ...       ...       ...          ...           ...         ...   \n",
       "16433      0.00      0.00      0.01         0.00          <NA>         NaN   \n",
       "16437      0.00      0.00      0.01         0.00          <NA>         NaN   \n",
       "16440      0.00      0.00      0.01         0.00          <NA>         NaN   \n",
       "16442      0.00      0.00      0.01         0.00          <NA>         NaN   \n",
       "16444      0.00      0.00      0.01         0.00          <NA>         NaN   \n",
       "\n",
       "      rating  total_sales  \n",
       "16         M        21.05  \n",
       "23         M        16.27  \n",
       "31        WR        14.63  \n",
       "33        WR        14.60  \n",
       "42         M        12.62  \n",
       "...      ...          ...  \n",
       "16433     WR         0.01  \n",
       "16437     WR         0.01  \n",
       "16440     WR         0.01  \n",
       "16442     WR         0.01  \n",
       "16444     WR         0.01  \n",
       "\n",
       "[2233 rows x 12 columns]"
      ]
     },
     "execution_count": 40,
     "metadata": {},
     "output_type": "execute_result"
    }
   ],
   "source": [
    "df_cleared = df.query('year_of_release >= 2013')\n",
    "\n",
    "df_cleared"
   ]
  },
  {
   "cell_type": "markdown",
   "metadata": {},
   "source": [
    "Ранее на графике распределения продаж по платформам мы наблюдали вымирание многих платформ. Изучим динамику различных платформ за последние несколько лет."
   ]
  },
  {
   "cell_type": "code",
   "execution_count": 41,
   "metadata": {},
   "outputs": [
    {
     "data": {
      "image/png": "[encoded data removed]",
      "text/plain": [
       "<Figure size 432x288 with 2 Axes>"
      ]
     },
     "metadata": {
      "needs_background": "light"
     },
     "output_type": "display_data"
    }
   ],
   "source": [
    "#Сведём таблицу продаж по годам, убрав вымершие до 2013 года платформы\n",
    "\n",
    "act_platform_pivot = pd.pivot_table(df_cleared,\n",
    "                                     values='total_sales',\n",
    "                                     index='platform',\n",
    "                                     columns='year_of_release',\n",
    "                                     aggfunc='sum')\n",
    "\n",
    "sns.heatmap(act_platform_pivot);"
   ]
  },
  {
   "cell_type": "code",
   "execution_count": 42,
   "metadata": {},
   "outputs": [
    {
     "data": {
      "text/html": [
       "<div>\n",
       "<style scoped>\n",
       "    .dataframe tbody tr th:only-of-type {\n",
       "        vertical-align: middle;\n",
       "    }\n",
       "\n",
       "    .dataframe tbody tr th {\n",
       "        vertical-align: top;\n",
       "    }\n",
       "\n",
       "    .dataframe thead th {\n",
       "        text-align: right;\n",
       "    }\n",
       "</style>\n",
       "<table border=\"1\" class=\"dataframe\">\n",
       "  <thead>\n",
       "    <tr style=\"text-align: right;\">\n",
       "      <th>year_of_release</th>\n",
       "      <th>2013</th>\n",
       "      <th>2014</th>\n",
       "      <th>2015</th>\n",
       "      <th>2016</th>\n",
       "    </tr>\n",
       "    <tr>\n",
       "      <th>platform</th>\n",
       "      <th></th>\n",
       "      <th></th>\n",
       "      <th></th>\n",
       "      <th></th>\n",
       "    </tr>\n",
       "  </thead>\n",
       "  <tbody>\n",
       "    <tr>\n",
       "      <th>3DS</th>\n",
       "      <td>56.57</td>\n",
       "      <td>43.76</td>\n",
       "      <td>27.78</td>\n",
       "      <td>15.14</td>\n",
       "    </tr>\n",
       "    <tr>\n",
       "      <th>DS</th>\n",
       "      <td>1.54</td>\n",
       "      <td>NaN</td>\n",
       "      <td>NaN</td>\n",
       "      <td>NaN</td>\n",
       "    </tr>\n",
       "    <tr>\n",
       "      <th>PC</th>\n",
       "      <td>12.38</td>\n",
       "      <td>13.28</td>\n",
       "      <td>8.52</td>\n",
       "      <td>5.25</td>\n",
       "    </tr>\n",
       "    <tr>\n",
       "      <th>PS3</th>\n",
       "      <td>113.25</td>\n",
       "      <td>47.76</td>\n",
       "      <td>16.82</td>\n",
       "      <td>3.60</td>\n",
       "    </tr>\n",
       "    <tr>\n",
       "      <th>PS4</th>\n",
       "      <td>25.99</td>\n",
       "      <td>100.00</td>\n",
       "      <td>118.90</td>\n",
       "      <td>69.25</td>\n",
       "    </tr>\n",
       "    <tr>\n",
       "      <th>PSP</th>\n",
       "      <td>3.14</td>\n",
       "      <td>0.24</td>\n",
       "      <td>0.12</td>\n",
       "      <td>NaN</td>\n",
       "    </tr>\n",
       "    <tr>\n",
       "      <th>PSV</th>\n",
       "      <td>10.59</td>\n",
       "      <td>11.90</td>\n",
       "      <td>6.25</td>\n",
       "      <td>4.25</td>\n",
       "    </tr>\n",
       "    <tr>\n",
       "      <th>Wii</th>\n",
       "      <td>8.59</td>\n",
       "      <td>3.75</td>\n",
       "      <td>1.14</td>\n",
       "      <td>0.18</td>\n",
       "    </tr>\n",
       "    <tr>\n",
       "      <th>WiiU</th>\n",
       "      <td>21.65</td>\n",
       "      <td>22.03</td>\n",
       "      <td>16.35</td>\n",
       "      <td>4.60</td>\n",
       "    </tr>\n",
       "    <tr>\n",
       "      <th>X360</th>\n",
       "      <td>88.58</td>\n",
       "      <td>34.74</td>\n",
       "      <td>11.96</td>\n",
       "      <td>1.52</td>\n",
       "    </tr>\n",
       "    <tr>\n",
       "      <th>XOne</th>\n",
       "      <td>18.96</td>\n",
       "      <td>54.07</td>\n",
       "      <td>60.14</td>\n",
       "      <td>26.15</td>\n",
       "    </tr>\n",
       "  </tbody>\n",
       "</table>\n",
       "</div>"
      ],
      "text/plain": [
       "year_of_release    2013    2014    2015   2016\n",
       "platform                                      \n",
       "3DS               56.57   43.76   27.78  15.14\n",
       "DS                 1.54     NaN     NaN    NaN\n",
       "PC                12.38   13.28    8.52   5.25\n",
       "PS3              113.25   47.76   16.82   3.60\n",
       "PS4               25.99  100.00  118.90  69.25\n",
       "PSP                3.14    0.24    0.12    NaN\n",
       "PSV               10.59   11.90    6.25   4.25\n",
       "Wii                8.59    3.75    1.14   0.18\n",
       "WiiU              21.65   22.03   16.35   4.60\n",
       "X360              88.58   34.74   11.96   1.52\n",
       "XOne              18.96   54.07   60.14  26.15"
      ]
     },
     "execution_count": 42,
     "metadata": {},
     "output_type": "execute_result"
    }
   ],
   "source": [
    "act_platform_pivot"
   ]
  },
  {
   "cell_type": "markdown",
   "metadata": {},
   "source": [
    "На тепловой карте наглядно видно падение продаж на всех платформах. Из 11 платформ потенциально могут принести прибыль PS4 и XOne, так как продажи ещё не упали до уровня 2013 года. \n",
    "\n",
    "Ранее, в разделе 3.2 мы наблюдали, что платформа выходит на пик своей популярности в среднем через 4 года. В таблице мы видим резке снижение продаж по платформам PS4, XOne, WiiU и PC, что может быть вызвано неполнотой данных за 2016 год: датасет мог быть создан до того, как год закончился.\n",
    "\n",
    "Платформы 3DS и WiiU ещё не устарели окончательно, но динамика негативная, даже сравнивая 2014 и 2015 год. Скорее всего, ожидается выпуск платформы нового поколение, в связи с чем на 2017 год ожидать гарантированную высокую долю продаж мы не можем, но, судя по динамике и зная среднее время жизни платформ, ещё год эти платформы будут актуальны.\n",
    "\n",
    "Также в пункте 3.1 мы выявили, что PC является единственной платформой, которая никогда не устаревала. В следующем году можем ожидать относительно низкие продажи игр на ПК, но они гарантированно будут.\n",
    "\n",
    "К сожалению, ни одна из представленных платформ не растёт по продажам*. Возможно, это частично связано с быстрорастущей популярностью мобильных игр за счёт увеличения мощностей мобильных устройств и, соответственно, появлением новых возможностей.\n",
    "\n",
    "\\**Сравнивая приращение продаж за 2013-2014 и 2014-2015 годы, за которые датасет уже полный, мы не можем гарантировать увеличение продаж в 2016, а тем более в 2017, даже на платформах PS4 и XOne*"
   ]
  },
  {
   "cell_type": "markdown",
   "metadata": {},
   "source": [
    "Из очищенного датафрейма удалим неинтересные для прогноза платформы. Оставляем PS4 и XOne как самые молодые и крупные по продажам, PC, так как является \"вечной\" платформой, а также 3DS и WiiU, которые имеют хороший объёмы продаж и могут ещё быть популярными в 2017 году."
   ]
  },
  {
   "cell_type": "code",
   "execution_count": 43,
   "metadata": {},
   "outputs": [
    {
     "data": {
      "text/html": [
       "<div>\n",
       "<style scoped>\n",
       "    .dataframe tbody tr th:only-of-type {\n",
       "        vertical-align: middle;\n",
       "    }\n",
       "\n",
       "    .dataframe tbody tr th {\n",
       "        vertical-align: top;\n",
       "    }\n",
       "\n",
       "    .dataframe thead th {\n",
       "        text-align: right;\n",
       "    }\n",
       "</style>\n",
       "<table border=\"1\" class=\"dataframe\">\n",
       "  <thead>\n",
       "    <tr style=\"text-align: right;\">\n",
       "      <th></th>\n",
       "      <th>name</th>\n",
       "      <th>platform</th>\n",
       "      <th>year_of_release</th>\n",
       "      <th>genre</th>\n",
       "      <th>na_sales</th>\n",
       "      <th>eu_sales</th>\n",
       "      <th>jp_sales</th>\n",
       "      <th>other_sales</th>\n",
       "      <th>critic_score</th>\n",
       "      <th>user_score</th>\n",
       "      <th>rating</th>\n",
       "      <th>total_sales</th>\n",
       "    </tr>\n",
       "  </thead>\n",
       "  <tbody>\n",
       "    <tr>\n",
       "      <th>0</th>\n",
       "      <td>Call of Duty: Black Ops 3</td>\n",
       "      <td>PS4</td>\n",
       "      <td>2015</td>\n",
       "      <td>Shooter</td>\n",
       "      <td>6.03</td>\n",
       "      <td>5.86</td>\n",
       "      <td>0.36</td>\n",
       "      <td>2.38</td>\n",
       "      <td>&lt;NA&gt;</td>\n",
       "      <td>NaN</td>\n",
       "      <td>WR</td>\n",
       "      <td>14.63</td>\n",
       "    </tr>\n",
       "    <tr>\n",
       "      <th>1</th>\n",
       "      <td>Pokemon X/Pokemon Y</td>\n",
       "      <td>3DS</td>\n",
       "      <td>2013</td>\n",
       "      <td>Role-Playing</td>\n",
       "      <td>5.28</td>\n",
       "      <td>4.19</td>\n",
       "      <td>4.35</td>\n",
       "      <td>0.78</td>\n",
       "      <td>&lt;NA&gt;</td>\n",
       "      <td>NaN</td>\n",
       "      <td>WR</td>\n",
       "      <td>14.60</td>\n",
       "    </tr>\n",
       "    <tr>\n",
       "      <th>2</th>\n",
       "      <td>Grand Theft Auto V</td>\n",
       "      <td>PS4</td>\n",
       "      <td>2014</td>\n",
       "      <td>Action</td>\n",
       "      <td>3.96</td>\n",
       "      <td>6.31</td>\n",
       "      <td>0.38</td>\n",
       "      <td>1.97</td>\n",
       "      <td>97</td>\n",
       "      <td>8.3</td>\n",
       "      <td>M</td>\n",
       "      <td>12.62</td>\n",
       "    </tr>\n",
       "    <tr>\n",
       "      <th>3</th>\n",
       "      <td>Pokemon Omega Ruby/Pokemon Alpha Sapphire</td>\n",
       "      <td>3DS</td>\n",
       "      <td>2014</td>\n",
       "      <td>Role-Playing</td>\n",
       "      <td>4.35</td>\n",
       "      <td>3.49</td>\n",
       "      <td>3.10</td>\n",
       "      <td>0.74</td>\n",
       "      <td>&lt;NA&gt;</td>\n",
       "      <td>NaN</td>\n",
       "      <td>WR</td>\n",
       "      <td>11.68</td>\n",
       "    </tr>\n",
       "    <tr>\n",
       "      <th>4</th>\n",
       "      <td>FIFA 16</td>\n",
       "      <td>PS4</td>\n",
       "      <td>2015</td>\n",
       "      <td>Sports</td>\n",
       "      <td>1.12</td>\n",
       "      <td>6.12</td>\n",
       "      <td>0.06</td>\n",
       "      <td>1.28</td>\n",
       "      <td>82</td>\n",
       "      <td>4.3</td>\n",
       "      <td>E</td>\n",
       "      <td>8.58</td>\n",
       "    </tr>\n",
       "    <tr>\n",
       "      <th>...</th>\n",
       "      <td>...</td>\n",
       "      <td>...</td>\n",
       "      <td>...</td>\n",
       "      <td>...</td>\n",
       "      <td>...</td>\n",
       "      <td>...</td>\n",
       "      <td>...</td>\n",
       "      <td>...</td>\n",
       "      <td>...</td>\n",
       "      <td>...</td>\n",
       "      <td>...</td>\n",
       "      <td>...</td>\n",
       "    </tr>\n",
       "    <tr>\n",
       "      <th>1241</th>\n",
       "      <td>Prison Architect</td>\n",
       "      <td>XOne</td>\n",
       "      <td>2016</td>\n",
       "      <td>Action</td>\n",
       "      <td>0.01</td>\n",
       "      <td>0.00</td>\n",
       "      <td>0.00</td>\n",
       "      <td>0.00</td>\n",
       "      <td>74</td>\n",
       "      <td>6.7</td>\n",
       "      <td>WR</td>\n",
       "      <td>0.01</td>\n",
       "    </tr>\n",
       "    <tr>\n",
       "      <th>1242</th>\n",
       "      <td>Fujiko F. Fujio Characters: Great Assembly! Sl...</td>\n",
       "      <td>3DS</td>\n",
       "      <td>2014</td>\n",
       "      <td>Action</td>\n",
       "      <td>0.00</td>\n",
       "      <td>0.00</td>\n",
       "      <td>0.01</td>\n",
       "      <td>0.00</td>\n",
       "      <td>&lt;NA&gt;</td>\n",
       "      <td>NaN</td>\n",
       "      <td>WR</td>\n",
       "      <td>0.01</td>\n",
       "    </tr>\n",
       "    <tr>\n",
       "      <th>1243</th>\n",
       "      <td>Metal Gear Solid V: The Definitive Experience</td>\n",
       "      <td>XOne</td>\n",
       "      <td>2016</td>\n",
       "      <td>Action</td>\n",
       "      <td>0.01</td>\n",
       "      <td>0.00</td>\n",
       "      <td>0.00</td>\n",
       "      <td>0.00</td>\n",
       "      <td>&lt;NA&gt;</td>\n",
       "      <td>NaN</td>\n",
       "      <td>M</td>\n",
       "      <td>0.01</td>\n",
       "    </tr>\n",
       "    <tr>\n",
       "      <th>1244</th>\n",
       "      <td>Aikatsu Stars! My Special Appeal</td>\n",
       "      <td>3DS</td>\n",
       "      <td>2016</td>\n",
       "      <td>Action</td>\n",
       "      <td>0.00</td>\n",
       "      <td>0.00</td>\n",
       "      <td>0.01</td>\n",
       "      <td>0.00</td>\n",
       "      <td>&lt;NA&gt;</td>\n",
       "      <td>NaN</td>\n",
       "      <td>WR</td>\n",
       "      <td>0.01</td>\n",
       "    </tr>\n",
       "    <tr>\n",
       "      <th>1245</th>\n",
       "      <td>Metal Gear Solid V: Ground Zeroes</td>\n",
       "      <td>PC</td>\n",
       "      <td>2014</td>\n",
       "      <td>Action</td>\n",
       "      <td>0.00</td>\n",
       "      <td>0.01</td>\n",
       "      <td>0.00</td>\n",
       "      <td>0.00</td>\n",
       "      <td>80</td>\n",
       "      <td>7.6</td>\n",
       "      <td>M</td>\n",
       "      <td>0.01</td>\n",
       "    </tr>\n",
       "  </tbody>\n",
       "</table>\n",
       "<p>1246 rows × 12 columns</p>\n",
       "</div>"
      ],
      "text/plain": [
       "                                                   name platform  \\\n",
       "0                             Call of Duty: Black Ops 3      PS4   \n",
       "1                                   Pokemon X/Pokemon Y      3DS   \n",
       "2                                    Grand Theft Auto V      PS4   \n",
       "3             Pokemon Omega Ruby/Pokemon Alpha Sapphire      3DS   \n",
       "4                                               FIFA 16      PS4   \n",
       "...                                                 ...      ...   \n",
       "1241                                   Prison Architect     XOne   \n",
       "1242  Fujiko F. Fujio Characters: Great Assembly! Sl...      3DS   \n",
       "1243      Metal Gear Solid V: The Definitive Experience     XOne   \n",
       "1244                   Aikatsu Stars! My Special Appeal      3DS   \n",
       "1245                  Metal Gear Solid V: Ground Zeroes       PC   \n",
       "\n",
       "      year_of_release         genre  na_sales  eu_sales  jp_sales  \\\n",
       "0                2015       Shooter      6.03      5.86      0.36   \n",
       "1                2013  Role-Playing      5.28      4.19      4.35   \n",
       "2                2014        Action      3.96      6.31      0.38   \n",
       "3                2014  Role-Playing      4.35      3.49      3.10   \n",
       "4                2015        Sports      1.12      6.12      0.06   \n",
       "...               ...           ...       ...       ...       ...   \n",
       "1241             2016        Action      0.01      0.00      0.00   \n",
       "1242             2014        Action      0.00      0.00      0.01   \n",
       "1243             2016        Action      0.01      0.00      0.00   \n",
       "1244             2016        Action      0.00      0.00      0.01   \n",
       "1245             2014        Action      0.00      0.01      0.00   \n",
       "\n",
       "      other_sales  critic_score  user_score rating  total_sales  \n",
       "0            2.38          <NA>         NaN     WR        14.63  \n",
       "1            0.78          <NA>         NaN     WR        14.60  \n",
       "2            1.97            97         8.3      M        12.62  \n",
       "3            0.74          <NA>         NaN     WR        11.68  \n",
       "4            1.28            82         4.3      E         8.58  \n",
       "...           ...           ...         ...    ...          ...  \n",
       "1241         0.00            74         6.7     WR         0.01  \n",
       "1242         0.00          <NA>         NaN     WR         0.01  \n",
       "1243         0.00          <NA>         NaN      M         0.01  \n",
       "1244         0.00          <NA>         NaN     WR         0.01  \n",
       "1245         0.00            80         7.6      M         0.01  \n",
       "\n",
       "[1246 rows x 12 columns]"
      ]
     },
     "execution_count": 43,
     "metadata": {},
     "output_type": "execute_result"
    }
   ],
   "source": [
    "df_cleared = (df_cleared\n",
    "              .query('platform == \"PC\" | platform == \"PS4\" | platform == \"XOne\" | platform == \"3DS\" | platform == \"WiiU\"')\n",
    "              .reset_index(drop=True)\n",
    "             )\n",
    "df_cleared"
   ]
  },
  {
   "cell_type": "markdown",
   "metadata": {},
   "source": [
    "### Изучение разброса глобальных продаж по платформам"
   ]
  },
  {
   "cell_type": "markdown",
   "metadata": {},
   "source": [
    "Рассмотрим разброс глобальных продаж по каждой из выбранных платформ."
   ]
  },
  {
   "cell_type": "code",
   "execution_count": 44,
   "metadata": {},
   "outputs": [
    {
     "data": {
      "image/png": "[encoded data removed]",
      "text/plain": [
       "<Figure size 1008x288 with 1 Axes>"
      ]
     },
     "metadata": {
      "needs_background": "light"
     },
     "output_type": "display_data"
    }
   ],
   "source": [
    "df_cleared.boxplot(column='total_sales', by='platform', vert=False, figsize=(14, 4))\n",
    "plt.suptitle('')\n",
    "plt.xlim([0, 2]) # слишком много выбросов, рассмотрим подробнее сами \"ящики с усами\"\n",
    "plt.title('Разброс глобальных продаж по платформам')\n",
    "plt.xlabel('Продано игр, млн');"
   ]
  },
  {
   "cell_type": "code",
   "execution_count": 45,
   "metadata": {},
   "outputs": [
    {
     "data": {
      "text/plain": [
       "PS4     392\n",
       "3DS     303\n",
       "XOne    247\n",
       "PC      189\n",
       "WiiU    115\n",
       "Name: platform, dtype: int64"
      ]
     },
     "execution_count": 45,
     "metadata": {},
     "output_type": "execute_result"
    }
   ],
   "source": [
    "df_cleared['platform'].value_counts()"
   ]
  },
  {
   "cell_type": "markdown",
   "metadata": {},
   "source": [
    "Медианные продажи игр на платформах XOne, WiiU и PS4 приблизительно одинаковые, но разброс у игр на PS4 гораздо выше, что связано с общим количеством игр на PS4. Количество игр на PC bи 3DS ниже, чем у остальной группы, и медианные значения между ними также похожи. Разброс аналогично связан с количеством игр."
   ]
  },
  {
   "cell_type": "markdown",
   "metadata": {},
   "source": [
    "На графике имеется большое количество выбросов. Датасет хранит в себе 11560 уникальных наименований, мир компьютерных игр слишком многообразный, но \"нашумевших\" игр, которые знают даже люди, не играющие в компьютерные игры, относительно немного. Предполагаем, что это именно они являются выбросами с большим количеством продаж. Проверим на примере PS4:"
   ]
  },
  {
   "cell_type": "code",
   "execution_count": 46,
   "metadata": {},
   "outputs": [
    {
     "data": {
      "text/html": [
       "<div>\n",
       "<style scoped>\n",
       "    .dataframe tbody tr th:only-of-type {\n",
       "        vertical-align: middle;\n",
       "    }\n",
       "\n",
       "    .dataframe tbody tr th {\n",
       "        vertical-align: top;\n",
       "    }\n",
       "\n",
       "    .dataframe thead th {\n",
       "        text-align: right;\n",
       "    }\n",
       "</style>\n",
       "<table border=\"1\" class=\"dataframe\">\n",
       "  <thead>\n",
       "    <tr style=\"text-align: right;\">\n",
       "      <th></th>\n",
       "      <th>name</th>\n",
       "      <th>platform</th>\n",
       "      <th>year_of_release</th>\n",
       "      <th>genre</th>\n",
       "      <th>na_sales</th>\n",
       "      <th>eu_sales</th>\n",
       "      <th>jp_sales</th>\n",
       "      <th>other_sales</th>\n",
       "      <th>critic_score</th>\n",
       "      <th>user_score</th>\n",
       "      <th>rating</th>\n",
       "      <th>total_sales</th>\n",
       "    </tr>\n",
       "  </thead>\n",
       "  <tbody>\n",
       "    <tr>\n",
       "      <th>0</th>\n",
       "      <td>Call of Duty: Black Ops 3</td>\n",
       "      <td>PS4</td>\n",
       "      <td>2015</td>\n",
       "      <td>Shooter</td>\n",
       "      <td>6.03</td>\n",
       "      <td>5.86</td>\n",
       "      <td>0.36</td>\n",
       "      <td>2.38</td>\n",
       "      <td>&lt;NA&gt;</td>\n",
       "      <td>NaN</td>\n",
       "      <td>WR</td>\n",
       "      <td>14.63</td>\n",
       "    </tr>\n",
       "    <tr>\n",
       "      <th>2</th>\n",
       "      <td>Grand Theft Auto V</td>\n",
       "      <td>PS4</td>\n",
       "      <td>2014</td>\n",
       "      <td>Action</td>\n",
       "      <td>3.96</td>\n",
       "      <td>6.31</td>\n",
       "      <td>0.38</td>\n",
       "      <td>1.97</td>\n",
       "      <td>97</td>\n",
       "      <td>8.3</td>\n",
       "      <td>M</td>\n",
       "      <td>12.62</td>\n",
       "    </tr>\n",
       "    <tr>\n",
       "      <th>4</th>\n",
       "      <td>FIFA 16</td>\n",
       "      <td>PS4</td>\n",
       "      <td>2015</td>\n",
       "      <td>Sports</td>\n",
       "      <td>1.12</td>\n",
       "      <td>6.12</td>\n",
       "      <td>0.06</td>\n",
       "      <td>1.28</td>\n",
       "      <td>82</td>\n",
       "      <td>4.3</td>\n",
       "      <td>E</td>\n",
       "      <td>8.58</td>\n",
       "    </tr>\n",
       "    <tr>\n",
       "      <th>5</th>\n",
       "      <td>Star Wars Battlefront (2015)</td>\n",
       "      <td>PS4</td>\n",
       "      <td>2015</td>\n",
       "      <td>Shooter</td>\n",
       "      <td>2.99</td>\n",
       "      <td>3.49</td>\n",
       "      <td>0.22</td>\n",
       "      <td>1.28</td>\n",
       "      <td>&lt;NA&gt;</td>\n",
       "      <td>NaN</td>\n",
       "      <td>WR</td>\n",
       "      <td>7.98</td>\n",
       "    </tr>\n",
       "    <tr>\n",
       "      <th>6</th>\n",
       "      <td>Call of Duty: Advanced Warfare</td>\n",
       "      <td>PS4</td>\n",
       "      <td>2014</td>\n",
       "      <td>Shooter</td>\n",
       "      <td>2.81</td>\n",
       "      <td>3.48</td>\n",
       "      <td>0.14</td>\n",
       "      <td>1.23</td>\n",
       "      <td>83</td>\n",
       "      <td>5.7</td>\n",
       "      <td>M</td>\n",
       "      <td>7.66</td>\n",
       "    </tr>\n",
       "    <tr>\n",
       "      <th>7</th>\n",
       "      <td>FIFA 17</td>\n",
       "      <td>PS4</td>\n",
       "      <td>2016</td>\n",
       "      <td>Sports</td>\n",
       "      <td>0.66</td>\n",
       "      <td>5.75</td>\n",
       "      <td>0.08</td>\n",
       "      <td>1.11</td>\n",
       "      <td>85</td>\n",
       "      <td>5.0</td>\n",
       "      <td>E</td>\n",
       "      <td>7.60</td>\n",
       "    </tr>\n",
       "    <tr>\n",
       "      <th>10</th>\n",
       "      <td>Fallout 4</td>\n",
       "      <td>PS4</td>\n",
       "      <td>2015</td>\n",
       "      <td>Role-Playing</td>\n",
       "      <td>2.53</td>\n",
       "      <td>3.27</td>\n",
       "      <td>0.24</td>\n",
       "      <td>1.13</td>\n",
       "      <td>87</td>\n",
       "      <td>6.5</td>\n",
       "      <td>M</td>\n",
       "      <td>7.17</td>\n",
       "    </tr>\n",
       "    <tr>\n",
       "      <th>13</th>\n",
       "      <td>FIFA 15</td>\n",
       "      <td>PS4</td>\n",
       "      <td>2014</td>\n",
       "      <td>Sports</td>\n",
       "      <td>0.80</td>\n",
       "      <td>4.33</td>\n",
       "      <td>0.05</td>\n",
       "      <td>0.90</td>\n",
       "      <td>82</td>\n",
       "      <td>5.7</td>\n",
       "      <td>E</td>\n",
       "      <td>6.08</td>\n",
       "    </tr>\n",
       "    <tr>\n",
       "      <th>14</th>\n",
       "      <td>Destiny</td>\n",
       "      <td>PS4</td>\n",
       "      <td>2014</td>\n",
       "      <td>Shooter</td>\n",
       "      <td>2.49</td>\n",
       "      <td>2.07</td>\n",
       "      <td>0.16</td>\n",
       "      <td>0.92</td>\n",
       "      <td>76</td>\n",
       "      <td>6.1</td>\n",
       "      <td>T</td>\n",
       "      <td>5.64</td>\n",
       "    </tr>\n",
       "    <tr>\n",
       "      <th>16</th>\n",
       "      <td>Uncharted 4: A Thief's End</td>\n",
       "      <td>PS4</td>\n",
       "      <td>2016</td>\n",
       "      <td>Shooter</td>\n",
       "      <td>1.85</td>\n",
       "      <td>2.50</td>\n",
       "      <td>0.19</td>\n",
       "      <td>0.85</td>\n",
       "      <td>93</td>\n",
       "      <td>7.9</td>\n",
       "      <td>T</td>\n",
       "      <td>5.39</td>\n",
       "    </tr>\n",
       "    <tr>\n",
       "      <th>20</th>\n",
       "      <td>The Last of Us</td>\n",
       "      <td>PS4</td>\n",
       "      <td>2014</td>\n",
       "      <td>Action</td>\n",
       "      <td>1.88</td>\n",
       "      <td>2.00</td>\n",
       "      <td>0.07</td>\n",
       "      <td>0.77</td>\n",
       "      <td>&lt;NA&gt;</td>\n",
       "      <td>NaN</td>\n",
       "      <td>WR</td>\n",
       "      <td>4.72</td>\n",
       "    </tr>\n",
       "    <tr>\n",
       "      <th>21</th>\n",
       "      <td>Uncharted: The Nathan Drake Collection</td>\n",
       "      <td>PS4</td>\n",
       "      <td>2015</td>\n",
       "      <td>Action</td>\n",
       "      <td>2.07</td>\n",
       "      <td>1.71</td>\n",
       "      <td>0.08</td>\n",
       "      <td>0.76</td>\n",
       "      <td>86</td>\n",
       "      <td>8.1</td>\n",
       "      <td>T</td>\n",
       "      <td>4.62</td>\n",
       "    </tr>\n",
       "    <tr>\n",
       "      <th>24</th>\n",
       "      <td>Call of Duty: Infinite Warfare</td>\n",
       "      <td>PS4</td>\n",
       "      <td>2016</td>\n",
       "      <td>Shooter</td>\n",
       "      <td>1.61</td>\n",
       "      <td>2.00</td>\n",
       "      <td>0.15</td>\n",
       "      <td>0.71</td>\n",
       "      <td>77</td>\n",
       "      <td>3.4</td>\n",
       "      <td>M</td>\n",
       "      <td>4.47</td>\n",
       "    </tr>\n",
       "    <tr>\n",
       "      <th>27</th>\n",
       "      <td>Minecraft</td>\n",
       "      <td>PS4</td>\n",
       "      <td>2014</td>\n",
       "      <td>Misc</td>\n",
       "      <td>1.48</td>\n",
       "      <td>2.02</td>\n",
       "      <td>0.14</td>\n",
       "      <td>0.68</td>\n",
       "      <td>&lt;NA&gt;</td>\n",
       "      <td>NaN</td>\n",
       "      <td>WR</td>\n",
       "      <td>4.32</td>\n",
       "    </tr>\n",
       "    <tr>\n",
       "      <th>29</th>\n",
       "      <td>Battlefield 1</td>\n",
       "      <td>PS4</td>\n",
       "      <td>2016</td>\n",
       "      <td>Shooter</td>\n",
       "      <td>1.10</td>\n",
       "      <td>2.15</td>\n",
       "      <td>0.21</td>\n",
       "      <td>0.61</td>\n",
       "      <td>88</td>\n",
       "      <td>8.4</td>\n",
       "      <td>M</td>\n",
       "      <td>4.07</td>\n",
       "    </tr>\n",
       "    <tr>\n",
       "      <th>30</th>\n",
       "      <td>Watch Dogs</td>\n",
       "      <td>PS4</td>\n",
       "      <td>2014</td>\n",
       "      <td>Action</td>\n",
       "      <td>1.40</td>\n",
       "      <td>1.90</td>\n",
       "      <td>0.11</td>\n",
       "      <td>0.64</td>\n",
       "      <td>80</td>\n",
       "      <td>6.3</td>\n",
       "      <td>M</td>\n",
       "      <td>4.05</td>\n",
       "    </tr>\n",
       "    <tr>\n",
       "      <th>31</th>\n",
       "      <td>Far Cry 4</td>\n",
       "      <td>PS4</td>\n",
       "      <td>2014</td>\n",
       "      <td>Shooter</td>\n",
       "      <td>1.13</td>\n",
       "      <td>2.18</td>\n",
       "      <td>0.10</td>\n",
       "      <td>0.63</td>\n",
       "      <td>85</td>\n",
       "      <td>7.7</td>\n",
       "      <td>M</td>\n",
       "      <td>4.04</td>\n",
       "    </tr>\n",
       "    <tr>\n",
       "      <th>32</th>\n",
       "      <td>The Witcher 3: Wild Hunt</td>\n",
       "      <td>PS4</td>\n",
       "      <td>2015</td>\n",
       "      <td>Role-Playing</td>\n",
       "      <td>1.02</td>\n",
       "      <td>2.13</td>\n",
       "      <td>0.23</td>\n",
       "      <td>0.59</td>\n",
       "      <td>92</td>\n",
       "      <td>9.2</td>\n",
       "      <td>M</td>\n",
       "      <td>3.97</td>\n",
       "    </tr>\n",
       "    <tr>\n",
       "      <th>33</th>\n",
       "      <td>Assassin's Creed: Unity</td>\n",
       "      <td>PS4</td>\n",
       "      <td>2014</td>\n",
       "      <td>Action</td>\n",
       "      <td>1.19</td>\n",
       "      <td>2.07</td>\n",
       "      <td>0.08</td>\n",
       "      <td>0.62</td>\n",
       "      <td>70</td>\n",
       "      <td>4.9</td>\n",
       "      <td>M</td>\n",
       "      <td>3.96</td>\n",
       "    </tr>\n",
       "    <tr>\n",
       "      <th>34</th>\n",
       "      <td>Batman: Arkham Knight</td>\n",
       "      <td>PS4</td>\n",
       "      <td>2015</td>\n",
       "      <td>Action</td>\n",
       "      <td>1.53</td>\n",
       "      <td>1.69</td>\n",
       "      <td>0.10</td>\n",
       "      <td>0.64</td>\n",
       "      <td>87</td>\n",
       "      <td>7.6</td>\n",
       "      <td>M</td>\n",
       "      <td>3.96</td>\n",
       "    </tr>\n",
       "    <tr>\n",
       "      <th>36</th>\n",
       "      <td>NBA 2K16</td>\n",
       "      <td>PS4</td>\n",
       "      <td>2015</td>\n",
       "      <td>Sports</td>\n",
       "      <td>2.49</td>\n",
       "      <td>0.66</td>\n",
       "      <td>0.03</td>\n",
       "      <td>0.69</td>\n",
       "      <td>87</td>\n",
       "      <td>6.7</td>\n",
       "      <td>E10+</td>\n",
       "      <td>3.87</td>\n",
       "    </tr>\n",
       "    <tr>\n",
       "      <th>37</th>\n",
       "      <td>Call of Duty: Ghosts</td>\n",
       "      <td>PS4</td>\n",
       "      <td>2013</td>\n",
       "      <td>Shooter</td>\n",
       "      <td>1.78</td>\n",
       "      <td>1.43</td>\n",
       "      <td>0.05</td>\n",
       "      <td>0.57</td>\n",
       "      <td>78</td>\n",
       "      <td>3.7</td>\n",
       "      <td>M</td>\n",
       "      <td>3.83</td>\n",
       "    </tr>\n",
       "    <tr>\n",
       "      <th>38</th>\n",
       "      <td>Tom Clancy's The Division</td>\n",
       "      <td>PS4</td>\n",
       "      <td>2016</td>\n",
       "      <td>Shooter</td>\n",
       "      <td>1.35</td>\n",
       "      <td>1.70</td>\n",
       "      <td>0.15</td>\n",
       "      <td>0.60</td>\n",
       "      <td>80</td>\n",
       "      <td>7.0</td>\n",
       "      <td>M</td>\n",
       "      <td>3.80</td>\n",
       "    </tr>\n",
       "    <tr>\n",
       "      <th>40</th>\n",
       "      <td>Battlefield 4</td>\n",
       "      <td>PS4</td>\n",
       "      <td>2013</td>\n",
       "      <td>Shooter</td>\n",
       "      <td>1.35</td>\n",
       "      <td>1.55</td>\n",
       "      <td>0.17</td>\n",
       "      <td>0.51</td>\n",
       "      <td>85</td>\n",
       "      <td>6.9</td>\n",
       "      <td>M</td>\n",
       "      <td>3.58</td>\n",
       "    </tr>\n",
       "    <tr>\n",
       "      <th>43</th>\n",
       "      <td>Metal Gear Solid V: The Phantom Pain</td>\n",
       "      <td>PS4</td>\n",
       "      <td>2015</td>\n",
       "      <td>Action</td>\n",
       "      <td>1.09</td>\n",
       "      <td>1.36</td>\n",
       "      <td>0.49</td>\n",
       "      <td>0.48</td>\n",
       "      <td>93</td>\n",
       "      <td>8.2</td>\n",
       "      <td>M</td>\n",
       "      <td>3.42</td>\n",
       "    </tr>\n",
       "    <tr>\n",
       "      <th>44</th>\n",
       "      <td>Assassin's Creed Syndicate</td>\n",
       "      <td>PS4</td>\n",
       "      <td>2015</td>\n",
       "      <td>Action</td>\n",
       "      <td>0.81</td>\n",
       "      <td>1.99</td>\n",
       "      <td>0.07</td>\n",
       "      <td>0.52</td>\n",
       "      <td>76</td>\n",
       "      <td>6.8</td>\n",
       "      <td>M</td>\n",
       "      <td>3.39</td>\n",
       "    </tr>\n",
       "    <tr>\n",
       "      <th>50</th>\n",
       "      <td>Madden NFL 16</td>\n",
       "      <td>PS4</td>\n",
       "      <td>2015</td>\n",
       "      <td>Sports</td>\n",
       "      <td>2.34</td>\n",
       "      <td>0.30</td>\n",
       "      <td>0.00</td>\n",
       "      <td>0.60</td>\n",
       "      <td>83</td>\n",
       "      <td>5.9</td>\n",
       "      <td>E</td>\n",
       "      <td>3.24</td>\n",
       "    </tr>\n",
       "    <tr>\n",
       "      <th>56</th>\n",
       "      <td>FIFA 14</td>\n",
       "      <td>PS4</td>\n",
       "      <td>2013</td>\n",
       "      <td>Sports</td>\n",
       "      <td>0.61</td>\n",
       "      <td>1.85</td>\n",
       "      <td>0.11</td>\n",
       "      <td>0.44</td>\n",
       "      <td>87</td>\n",
       "      <td>6.3</td>\n",
       "      <td>E</td>\n",
       "      <td>3.01</td>\n",
       "    </tr>\n",
       "  </tbody>\n",
       "</table>\n",
       "</div>"
      ],
      "text/plain": [
       "                                      name platform  year_of_release  \\\n",
       "0                Call of Duty: Black Ops 3      PS4             2015   \n",
       "2                       Grand Theft Auto V      PS4             2014   \n",
       "4                                  FIFA 16      PS4             2015   \n",
       "5             Star Wars Battlefront (2015)      PS4             2015   \n",
       "6           Call of Duty: Advanced Warfare      PS4             2014   \n",
       "7                                  FIFA 17      PS4             2016   \n",
       "10                               Fallout 4      PS4             2015   \n",
       "13                                 FIFA 15      PS4             2014   \n",
       "14                                 Destiny      PS4             2014   \n",
       "16              Uncharted 4: A Thief's End      PS4             2016   \n",
       "20                          The Last of Us      PS4             2014   \n",
       "21  Uncharted: The Nathan Drake Collection      PS4             2015   \n",
       "24          Call of Duty: Infinite Warfare      PS4             2016   \n",
       "27                               Minecraft      PS4             2014   \n",
       "29                           Battlefield 1      PS4             2016   \n",
       "30                              Watch Dogs      PS4             2014   \n",
       "31                               Far Cry 4      PS4             2014   \n",
       "32                The Witcher 3: Wild Hunt      PS4             2015   \n",
       "33                 Assassin's Creed: Unity      PS4             2014   \n",
       "34                   Batman: Arkham Knight      PS4             2015   \n",
       "36                                NBA 2K16      PS4             2015   \n",
       "37                    Call of Duty: Ghosts      PS4             2013   \n",
       "38               Tom Clancy's The Division      PS4             2016   \n",
       "40                           Battlefield 4      PS4             2013   \n",
       "43    Metal Gear Solid V: The Phantom Pain      PS4             2015   \n",
       "44              Assassin's Creed Syndicate      PS4             2015   \n",
       "50                           Madden NFL 16      PS4             2015   \n",
       "56                                 FIFA 14      PS4             2013   \n",
       "\n",
       "           genre  na_sales  eu_sales  jp_sales  other_sales  critic_score  \\\n",
       "0        Shooter      6.03      5.86      0.36         2.38          <NA>   \n",
       "2         Action      3.96      6.31      0.38         1.97            97   \n",
       "4         Sports      1.12      6.12      0.06         1.28            82   \n",
       "5        Shooter      2.99      3.49      0.22         1.28          <NA>   \n",
       "6        Shooter      2.81      3.48      0.14         1.23            83   \n",
       "7         Sports      0.66      5.75      0.08         1.11            85   \n",
       "10  Role-Playing      2.53      3.27      0.24         1.13            87   \n",
       "13        Sports      0.80      4.33      0.05         0.90            82   \n",
       "14       Shooter      2.49      2.07      0.16         0.92            76   \n",
       "16       Shooter      1.85      2.50      0.19         0.85            93   \n",
       "20        Action      1.88      2.00      0.07         0.77          <NA>   \n",
       "21        Action      2.07      1.71      0.08         0.76            86   \n",
       "24       Shooter      1.61      2.00      0.15         0.71            77   \n",
       "27          Misc      1.48      2.02      0.14         0.68          <NA>   \n",
       "29       Shooter      1.10      2.15      0.21         0.61            88   \n",
       "30        Action      1.40      1.90      0.11         0.64            80   \n",
       "31       Shooter      1.13      2.18      0.10         0.63            85   \n",
       "32  Role-Playing      1.02      2.13      0.23         0.59            92   \n",
       "33        Action      1.19      2.07      0.08         0.62            70   \n",
       "34        Action      1.53      1.69      0.10         0.64            87   \n",
       "36        Sports      2.49      0.66      0.03         0.69            87   \n",
       "37       Shooter      1.78      1.43      0.05         0.57            78   \n",
       "38       Shooter      1.35      1.70      0.15         0.60            80   \n",
       "40       Shooter      1.35      1.55      0.17         0.51            85   \n",
       "43        Action      1.09      1.36      0.49         0.48            93   \n",
       "44        Action      0.81      1.99      0.07         0.52            76   \n",
       "50        Sports      2.34      0.30      0.00         0.60            83   \n",
       "56        Sports      0.61      1.85      0.11         0.44            87   \n",
       "\n",
       "    user_score rating  total_sales  \n",
       "0          NaN     WR        14.63  \n",
       "2          8.3      M        12.62  \n",
       "4          4.3      E         8.58  \n",
       "5          NaN     WR         7.98  \n",
       "6          5.7      M         7.66  \n",
       "7          5.0      E         7.60  \n",
       "10         6.5      M         7.17  \n",
       "13         5.7      E         6.08  \n",
       "14         6.1      T         5.64  \n",
       "16         7.9      T         5.39  \n",
       "20         NaN     WR         4.72  \n",
       "21         8.1      T         4.62  \n",
       "24         3.4      M         4.47  \n",
       "27         NaN     WR         4.32  \n",
       "29         8.4      M         4.07  \n",
       "30         6.3      M         4.05  \n",
       "31         7.7      M         4.04  \n",
       "32         9.2      M         3.97  \n",
       "33         4.9      M         3.96  \n",
       "34         7.6      M         3.96  \n",
       "36         6.7   E10+         3.87  \n",
       "37         3.7      M         3.83  \n",
       "38         7.0      M         3.80  \n",
       "40         6.9      M         3.58  \n",
       "43         8.2      M         3.42  \n",
       "44         6.8      M         3.39  \n",
       "50         5.9      E         3.24  \n",
       "56         6.3      E         3.01  "
      ]
     },
     "execution_count": 46,
     "metadata": {},
     "output_type": "execute_result"
    }
   ],
   "source": [
    "df_cleared.query('platform == \"PS4\" & total_sales > 3')"
   ]
  },
  {
   "cell_type": "markdown",
   "metadata": {},
   "source": [
    "Проверим игры в районе медианных продаж:"
   ]
  },
  {
   "cell_type": "code",
   "execution_count": 47,
   "metadata": {},
   "outputs": [
    {
     "data": {
      "text/html": [
       "<div>\n",
       "<style scoped>\n",
       "    .dataframe tbody tr th:only-of-type {\n",
       "        vertical-align: middle;\n",
       "    }\n",
       "\n",
       "    .dataframe tbody tr th {\n",
       "        vertical-align: top;\n",
       "    }\n",
       "\n",
       "    .dataframe thead th {\n",
       "        text-align: right;\n",
       "    }\n",
       "</style>\n",
       "<table border=\"1\" class=\"dataframe\">\n",
       "  <thead>\n",
       "    <tr style=\"text-align: right;\">\n",
       "      <th></th>\n",
       "      <th>name</th>\n",
       "      <th>platform</th>\n",
       "      <th>year_of_release</th>\n",
       "      <th>genre</th>\n",
       "      <th>na_sales</th>\n",
       "      <th>eu_sales</th>\n",
       "      <th>jp_sales</th>\n",
       "      <th>other_sales</th>\n",
       "      <th>critic_score</th>\n",
       "      <th>user_score</th>\n",
       "      <th>rating</th>\n",
       "      <th>total_sales</th>\n",
       "    </tr>\n",
       "  </thead>\n",
       "  <tbody>\n",
       "    <tr>\n",
       "      <th>527</th>\n",
       "      <td>Tony Hawk's Pro Skater 5</td>\n",
       "      <td>PS4</td>\n",
       "      <td>2015</td>\n",
       "      <td>Sports</td>\n",
       "      <td>0.09</td>\n",
       "      <td>0.08</td>\n",
       "      <td>0.00</td>\n",
       "      <td>0.03</td>\n",
       "      <td>32</td>\n",
       "      <td>1.5</td>\n",
       "      <td>T</td>\n",
       "      <td>0.20</td>\n",
       "    </tr>\n",
       "    <tr>\n",
       "      <th>532</th>\n",
       "      <td>Zombie Army Trilogy</td>\n",
       "      <td>PS4</td>\n",
       "      <td>2015</td>\n",
       "      <td>Shooter</td>\n",
       "      <td>0.05</td>\n",
       "      <td>0.12</td>\n",
       "      <td>0.00</td>\n",
       "      <td>0.03</td>\n",
       "      <td>62</td>\n",
       "      <td>6.8</td>\n",
       "      <td>WR</td>\n",
       "      <td>0.20</td>\n",
       "    </tr>\n",
       "    <tr>\n",
       "      <th>543</th>\n",
       "      <td>Bound By Flame</td>\n",
       "      <td>PS4</td>\n",
       "      <td>2014</td>\n",
       "      <td>Role-Playing</td>\n",
       "      <td>0.08</td>\n",
       "      <td>0.09</td>\n",
       "      <td>0.00</td>\n",
       "      <td>0.03</td>\n",
       "      <td>53</td>\n",
       "      <td>5.9</td>\n",
       "      <td>M</td>\n",
       "      <td>0.20</td>\n",
       "    </tr>\n",
       "    <tr>\n",
       "      <th>549</th>\n",
       "      <td>Dynasty Warriors 8: Empires</td>\n",
       "      <td>PS4</td>\n",
       "      <td>2014</td>\n",
       "      <td>Action</td>\n",
       "      <td>0.06</td>\n",
       "      <td>0.07</td>\n",
       "      <td>0.03</td>\n",
       "      <td>0.03</td>\n",
       "      <td>63</td>\n",
       "      <td>7.5</td>\n",
       "      <td>T</td>\n",
       "      <td>0.19</td>\n",
       "    </tr>\n",
       "    <tr>\n",
       "      <th>556</th>\n",
       "      <td>Singstar: Ultimate Party</td>\n",
       "      <td>PS4</td>\n",
       "      <td>2014</td>\n",
       "      <td>Misc</td>\n",
       "      <td>0.00</td>\n",
       "      <td>0.16</td>\n",
       "      <td>0.00</td>\n",
       "      <td>0.03</td>\n",
       "      <td>47</td>\n",
       "      <td>4.1</td>\n",
       "      <td>WR</td>\n",
       "      <td>0.19</td>\n",
       "    </tr>\n",
       "    <tr>\n",
       "      <th>562</th>\n",
       "      <td>Sword Art Online: Hollow Realization</td>\n",
       "      <td>PS4</td>\n",
       "      <td>2016</td>\n",
       "      <td>Role-Playing</td>\n",
       "      <td>0.06</td>\n",
       "      <td>0.02</td>\n",
       "      <td>0.10</td>\n",
       "      <td>0.02</td>\n",
       "      <td>69</td>\n",
       "      <td>7.7</td>\n",
       "      <td>T</td>\n",
       "      <td>0.20</td>\n",
       "    </tr>\n",
       "    <tr>\n",
       "      <th>563</th>\n",
       "      <td>Godzilla (2015)</td>\n",
       "      <td>PS4</td>\n",
       "      <td>2014</td>\n",
       "      <td>Action</td>\n",
       "      <td>0.11</td>\n",
       "      <td>0.03</td>\n",
       "      <td>0.02</td>\n",
       "      <td>0.03</td>\n",
       "      <td>&lt;NA&gt;</td>\n",
       "      <td>NaN</td>\n",
       "      <td>WR</td>\n",
       "      <td>0.19</td>\n",
       "    </tr>\n",
       "    <tr>\n",
       "      <th>565</th>\n",
       "      <td>Saint Seiya: Soldiers' Soul</td>\n",
       "      <td>PS4</td>\n",
       "      <td>2015</td>\n",
       "      <td>Fighting</td>\n",
       "      <td>0.00</td>\n",
       "      <td>0.12</td>\n",
       "      <td>0.04</td>\n",
       "      <td>0.02</td>\n",
       "      <td>59</td>\n",
       "      <td>7.8</td>\n",
       "      <td>T</td>\n",
       "      <td>0.18</td>\n",
       "    </tr>\n",
       "    <tr>\n",
       "      <th>566</th>\n",
       "      <td>MotoGP 14</td>\n",
       "      <td>PS4</td>\n",
       "      <td>2014</td>\n",
       "      <td>Racing</td>\n",
       "      <td>0.04</td>\n",
       "      <td>0.11</td>\n",
       "      <td>0.00</td>\n",
       "      <td>0.03</td>\n",
       "      <td>73</td>\n",
       "      <td>6.4</td>\n",
       "      <td>E</td>\n",
       "      <td>0.18</td>\n",
       "    </tr>\n",
       "    <tr>\n",
       "      <th>572</th>\n",
       "      <td>Senran Kagura: Estival Versus</td>\n",
       "      <td>PS4</td>\n",
       "      <td>2015</td>\n",
       "      <td>Action</td>\n",
       "      <td>0.08</td>\n",
       "      <td>0.00</td>\n",
       "      <td>0.08</td>\n",
       "      <td>0.02</td>\n",
       "      <td>67</td>\n",
       "      <td>8.0</td>\n",
       "      <td>M</td>\n",
       "      <td>0.18</td>\n",
       "    </tr>\n",
       "    <tr>\n",
       "      <th>573</th>\n",
       "      <td>Back to the Future: The Game</td>\n",
       "      <td>PS4</td>\n",
       "      <td>2015</td>\n",
       "      <td>Adventure</td>\n",
       "      <td>0.10</td>\n",
       "      <td>0.05</td>\n",
       "      <td>0.00</td>\n",
       "      <td>0.03</td>\n",
       "      <td>&lt;NA&gt;</td>\n",
       "      <td>7.1</td>\n",
       "      <td>T</td>\n",
       "      <td>0.18</td>\n",
       "    </tr>\n",
       "  </tbody>\n",
       "</table>\n",
       "</div>"
      ],
      "text/plain": [
       "                                     name platform  year_of_release  \\\n",
       "527              Tony Hawk's Pro Skater 5      PS4             2015   \n",
       "532                   Zombie Army Trilogy      PS4             2015   \n",
       "543                        Bound By Flame      PS4             2014   \n",
       "549           Dynasty Warriors 8: Empires      PS4             2014   \n",
       "556              Singstar: Ultimate Party      PS4             2014   \n",
       "562  Sword Art Online: Hollow Realization      PS4             2016   \n",
       "563                       Godzilla (2015)      PS4             2014   \n",
       "565           Saint Seiya: Soldiers' Soul      PS4             2015   \n",
       "566                            MotoGP 14       PS4             2014   \n",
       "572         Senran Kagura: Estival Versus      PS4             2015   \n",
       "573          Back to the Future: The Game      PS4             2015   \n",
       "\n",
       "            genre  na_sales  eu_sales  jp_sales  other_sales  critic_score  \\\n",
       "527        Sports      0.09      0.08      0.00         0.03            32   \n",
       "532       Shooter      0.05      0.12      0.00         0.03            62   \n",
       "543  Role-Playing      0.08      0.09      0.00         0.03            53   \n",
       "549        Action      0.06      0.07      0.03         0.03            63   \n",
       "556          Misc      0.00      0.16      0.00         0.03            47   \n",
       "562  Role-Playing      0.06      0.02      0.10         0.02            69   \n",
       "563        Action      0.11      0.03      0.02         0.03          <NA>   \n",
       "565      Fighting      0.00      0.12      0.04         0.02            59   \n",
       "566        Racing      0.04      0.11      0.00         0.03            73   \n",
       "572        Action      0.08      0.00      0.08         0.02            67   \n",
       "573     Adventure      0.10      0.05      0.00         0.03          <NA>   \n",
       "\n",
       "     user_score rating  total_sales  \n",
       "527         1.5      T         0.20  \n",
       "532         6.8     WR         0.20  \n",
       "543         5.9      M         0.20  \n",
       "549         7.5      T         0.19  \n",
       "556         4.1     WR         0.19  \n",
       "562         7.7      T         0.20  \n",
       "563         NaN     WR         0.19  \n",
       "565         7.8      T         0.18  \n",
       "566         6.4      E         0.18  \n",
       "572         8.0      M         0.18  \n",
       "573         7.1      T         0.18  "
      ]
     },
     "execution_count": 47,
     "metadata": {},
     "output_type": "execute_result"
    }
   ],
   "source": [
    "df_cleared.query('platform == \"PS4\" & total_sales < 0.2 & total_sales > 0.17')"
   ]
  },
  {
   "cell_type": "markdown",
   "metadata": {},
   "source": [
    "Автор работы, не имея PS4, субъективно может утверждать, что знает все игры из списка с продажами более 3 млн и не знаком ни с одним из наименований из списка с околомедианными продажами. Выбросы - это игры, ради которых пользователи покупают ту или иную платформу. Из таблицы мы также видим, что все игры из выбросов - либо новые части уже существующих успешных игр, либо продукт от лидера индустрии (например, Watch Dogs)."
   ]
  },
  {
   "cell_type": "markdown",
   "metadata": {},
   "source": [
    "### Влияние отзывов на продажи"
   ]
  },
  {
   "cell_type": "markdown",
   "metadata": {},
   "source": [
    "Рассмотрим влияние отзывов на продажи одной из топовых платформ, например, XOne."
   ]
  },
  {
   "cell_type": "code",
   "execution_count": 48,
   "metadata": {},
   "outputs": [],
   "source": [
    "df_cleared_xone = df_cleared.query('platform == \"XOne\"').reset_index(drop=True)"
   ]
  },
  {
   "cell_type": "markdown",
   "metadata": {},
   "source": [
    "#### Зависимость от отзывов критиков"
   ]
  },
  {
   "cell_type": "code",
   "execution_count": 49,
   "metadata": {},
   "outputs": [
    {
     "data": {
      "image/png": "[encoded data removed]",
      "text/plain": [
       "<Figure size 432x288 with 1 Axes>"
      ]
     },
     "metadata": {
      "needs_background": "light"
     },
     "output_type": "display_data"
    }
   ],
   "source": [
    "df_cleared_xone.plot(x='critic_score', y='total_sales',kind='scatter');"
   ]
  },
  {
   "cell_type": "markdown",
   "metadata": {},
   "source": [
    "Корреляция между отзывами критиков и продажами:"
   ]
  },
  {
   "cell_type": "code",
   "execution_count": 50,
   "metadata": {},
   "outputs": [
    {
     "data": {
      "text/plain": [
       "0.41699832800840175"
      ]
     },
     "execution_count": 50,
     "metadata": {},
     "output_type": "execute_result"
    }
   ],
   "source": [
    "df_cleared_xone['critic_score'] = df_cleared_xone['critic_score'].astype('float')\n",
    "df_cleared_xone['total_sales'].corr(df_cleared_xone['critic_score'])"
   ]
  },
  {
   "cell_type": "markdown",
   "metadata": {},
   "source": [
    "**Вывод:**\n",
    "\n",
    "Имеется слабая корреляция между оценками критиков и продажами игры. Такую низкую зависимость можно интерпретировать по-разному:\n",
    "1. Пользователи прислушиваются к мнению критиков перед решением купить игру, поэтому игры с высокой оценкой покупают чаще;\n",
    "2. Критики достаточно точно оценивают игры: присваивают высокие оценки успешным играм и низкие оценки непопулярным.\n",
    "\n",
    "В пользу первой версии говорит отсутствие высоких продаж у игр с низкими оценками. В пользу второй - большое количество высоких оценок у игр с маленьким количеством продаж: критики высоко оценивают действительно качественные игры, но предназначенные для небольшой аудитории.\n",
    "\n",
    "Слабость связи вызвана тем, что не все игры с высокой оценкой имеют высокий уровень продаж. Это говорит о том, что высокие продажи не являются следствием хороших оценок критиков."
   ]
  },
  {
   "cell_type": "code",
   "execution_count": 51,
   "metadata": {
    "scrolled": true
   },
   "outputs": [
    {
     "name": "stdout",
     "output_type": "stream",
     "text": [
      "0.406567902061781\n",
      "0.3891528378570447\n",
      "0.3764149065423912\n",
      "0.3421834500443732\n"
     ]
    }
   ],
   "source": [
    "#Код к комментарию\n",
    "\n",
    "df_cleared['critic_score'] = df_cleared['critic_score'].astype('float')\n",
    "\n",
    "# Наугад пишем случайные условия\n",
    "df_cleared_ps = df_cleared.query('platform == \"PS4\"').reset_index(drop=True)\n",
    "df_cleared_xone_gen = df_cleared.query('platform == \"XOne\" | genre == \"Action\" | genre == \"Puzzle\"').reset_index(drop=True)\n",
    "df_cleared_wii = df_cleared.query('platform == \"WiiU\"').reset_index(drop=True)\n",
    "df_cleared_wii_gen = df_cleared.query('platform == \"WiiU\" | genre == \"Sports\" | genre == \"Strategy\" | genre == \"Simulation\" | genre == \"Shooter\"').reset_index(drop=True)\n",
    "\n",
    "# Выводим подозрительно похожие коэффициенты корреляции\n",
    "print(df_cleared_ps['total_sales'].corr(df_cleared_ps['critic_score']))\n",
    "print(df_cleared_xone_gen['total_sales'].corr(df_cleared_xone_gen['critic_score']))\n",
    "print(df_cleared_wii['total_sales'].corr(df_cleared_wii['critic_score']))\n",
    "print(df_cleared_wii_gen['total_sales'].corr(df_cleared_wii_gen['critic_score']))"
   ]
  },
  {
   "cell_type": "markdown",
   "metadata": {},
   "source": [
    "#### Зависимость от отзывов пользователей"
   ]
  },
  {
   "cell_type": "code",
   "execution_count": 52,
   "metadata": {},
   "outputs": [
    {
     "data": {
      "image/png": "[encoded data removed]",
      "text/plain": [
       "<Figure size 432x288 with 1 Axes>"
      ]
     },
     "metadata": {
      "needs_background": "light"
     },
     "output_type": "display_data"
    }
   ],
   "source": [
    "df_cleared_xone.plot(x='user_score', y='total_sales',kind='scatter');"
   ]
  },
  {
   "cell_type": "code",
   "execution_count": 53,
   "metadata": {},
   "outputs": [
    {
     "data": {
      "text/plain": [
       "-0.06892505319711208"
      ]
     },
     "execution_count": 53,
     "metadata": {},
     "output_type": "execute_result"
    }
   ],
   "source": [
    "df_cleared_xone['total_sales'].corr(df_cleared_xone['user_score'])"
   ]
  },
  {
   "cell_type": "markdown",
   "metadata": {},
   "source": [
    "Рассмотрим один из выбросов - точку левее оценки 4, но выше 2 по оси ординат:"
   ]
  },
  {
   "cell_type": "code",
   "execution_count": 54,
   "metadata": {},
   "outputs": [
    {
     "data": {
      "text/html": [
       "<div>\n",
       "<style scoped>\n",
       "    .dataframe tbody tr th:only-of-type {\n",
       "        vertical-align: middle;\n",
       "    }\n",
       "\n",
       "    .dataframe tbody tr th {\n",
       "        vertical-align: top;\n",
       "    }\n",
       "\n",
       "    .dataframe thead th {\n",
       "        text-align: right;\n",
       "    }\n",
       "</style>\n",
       "<table border=\"1\" class=\"dataframe\">\n",
       "  <thead>\n",
       "    <tr style=\"text-align: right;\">\n",
       "      <th></th>\n",
       "      <th>name</th>\n",
       "      <th>platform</th>\n",
       "      <th>year_of_release</th>\n",
       "      <th>genre</th>\n",
       "      <th>na_sales</th>\n",
       "      <th>eu_sales</th>\n",
       "      <th>jp_sales</th>\n",
       "      <th>other_sales</th>\n",
       "      <th>critic_score</th>\n",
       "      <th>user_score</th>\n",
       "      <th>rating</th>\n",
       "      <th>total_sales</th>\n",
       "    </tr>\n",
       "  </thead>\n",
       "  <tbody>\n",
       "    <tr>\n",
       "      <th>15</th>\n",
       "      <td>Call of Duty: Infinite Warfare</td>\n",
       "      <td>XOne</td>\n",
       "      <td>2016</td>\n",
       "      <td>Shooter</td>\n",
       "      <td>1.46</td>\n",
       "      <td>0.74</td>\n",
       "      <td>0.0</td>\n",
       "      <td>0.22</td>\n",
       "      <td>78.0</td>\n",
       "      <td>3.1</td>\n",
       "      <td>M</td>\n",
       "      <td>2.42</td>\n",
       "    </tr>\n",
       "  </tbody>\n",
       "</table>\n",
       "</div>"
      ],
      "text/plain": [
       "                              name platform  year_of_release    genre  \\\n",
       "15  Call of Duty: Infinite Warfare     XOne             2016  Shooter   \n",
       "\n",
       "    na_sales  eu_sales  jp_sales  other_sales  critic_score  user_score  \\\n",
       "15      1.46      0.74       0.0         0.22          78.0         3.1   \n",
       "\n",
       "   rating  total_sales  \n",
       "15      M         2.42  "
      ]
     },
     "execution_count": 54,
     "metadata": {},
     "output_type": "execute_result"
    }
   ],
   "source": [
    "df_cleared_xone.query('user_score < 3.5 & total_sales > 1')"
   ]
  },
  {
   "cell_type": "markdown",
   "metadata": {},
   "source": [
    "Для понимания высокого рассеяния данных по диаграмме изучим достоверность, а точнее причину расхождений: действительно ли эта игра получила крайне низкую оценку пользователей, но критики оценили гораздо выше?\n",
    "\n",
    "На сайте <a href=\"https://www.metacritic.com/game/xbox-one/call-of-duty-infinite-warfare\">metacritic.com</a> игра имеет оценку критиков 78 и пользовательский рейтинг 4.1. Из 18 отзывов критиков ни одного негативного, тогда как из 466 отзывов пользователей 259 - негативные. Изучив некоторые комментарии, в целом, ситуация следующая:\n",
    "1. Критики утверждают, что это неплохое освежение франшизы COD, но высказали недоумение по поводу наличия зомби в игре;\n",
    "2. Пользователи в большинстве крайне негативно отнеслись к тому, что некоторые моменты игры являются грубым копированием игры Black Ops 3, многие негодуют из-за наличия микротранзакций и ухода духа старых игр COD в сторону аркадности и научной фантастики.\n",
    "\n",
    "Действительно, игры серии Call of Duty являются очень популярными, поэтому высокие продажи являются априорными.\n",
    "\n",
    "Предполагаем, что в каждой игре имеются свои особенности и к каждой игре у пользователей будут отдельные критерии. Необходим более глубокий анализ различных выбросов, но для текущего исследования нас устраивает вывод о том, что оценки пользователей невозможно предсказать до выхода игры."
   ]
  },
  {
   "cell_type": "markdown",
   "metadata": {},
   "source": [
    "**Вывод:**\n",
    "\n",
    "Корреляция между оценками пользователей и количеством продаж отсутствует, на диаграмме наблюдается отсутствие явных зависимостей.\n",
    "\n",
    "Пользователи могут снизить оценку за те факторы, которые являются неосновными, но очень важными: нестабильность сервера для многопользовательской игры, стоимость внутриигровых вещей, схожесть сюжета с иными играми, завышенные ожидания и т.п.\n",
    "\n",
    "В целом, пользователи и критики оценивают совершенно разные аспекты игры, которые индивидуальны для каждого продукта, поэтому оценки критиков и оценки пользователей сходятся редко."
   ]
  },
  {
   "cell_type": "markdown",
   "metadata": {},
   "source": [
    "### Сравнение продаж и отзывов с другими платформами"
   ]
  },
  {
   "cell_type": "markdown",
   "metadata": {},
   "source": [
    "Проведём аналогичный анализ для игр на других платформах"
   ]
  },
  {
   "cell_type": "code",
   "execution_count": 55,
   "metadata": {},
   "outputs": [
    {
     "data": {
      "image/png": "[encoded data removed]",
      "text/plain": [
       "<Figure size 432x288 with 1 Axes>"
      ]
     },
     "metadata": {
      "needs_background": "light"
     },
     "output_type": "display_data"
    }
   ],
   "source": [
    "df_cleared.query('platform != \"XOne\"').plot(x='critic_score', y='total_sales', kind='scatter', alpha=0.5);"
   ]
  },
  {
   "cell_type": "code",
   "execution_count": 56,
   "metadata": {},
   "outputs": [
    {
     "data": {
      "text/html": [
       "<div>\n",
       "<style scoped>\n",
       "    .dataframe tbody tr th:only-of-type {\n",
       "        vertical-align: middle;\n",
       "    }\n",
       "\n",
       "    .dataframe tbody tr th {\n",
       "        vertical-align: top;\n",
       "    }\n",
       "\n",
       "    .dataframe thead th {\n",
       "        text-align: right;\n",
       "    }\n",
       "</style>\n",
       "<table border=\"1\" class=\"dataframe\">\n",
       "  <thead>\n",
       "    <tr style=\"text-align: right;\">\n",
       "      <th></th>\n",
       "      <th>name</th>\n",
       "      <th>platform</th>\n",
       "      <th>year_of_release</th>\n",
       "      <th>genre</th>\n",
       "      <th>na_sales</th>\n",
       "      <th>eu_sales</th>\n",
       "      <th>jp_sales</th>\n",
       "      <th>other_sales</th>\n",
       "      <th>critic_score</th>\n",
       "      <th>user_score</th>\n",
       "      <th>rating</th>\n",
       "      <th>total_sales</th>\n",
       "    </tr>\n",
       "  </thead>\n",
       "  <tbody>\n",
       "    <tr>\n",
       "      <th>2</th>\n",
       "      <td>Grand Theft Auto V</td>\n",
       "      <td>PS4</td>\n",
       "      <td>2014</td>\n",
       "      <td>Action</td>\n",
       "      <td>3.96</td>\n",
       "      <td>6.31</td>\n",
       "      <td>0.38</td>\n",
       "      <td>1.97</td>\n",
       "      <td>97.0</td>\n",
       "      <td>8.3</td>\n",
       "      <td>M</td>\n",
       "      <td>12.62</td>\n",
       "    </tr>\n",
       "  </tbody>\n",
       "</table>\n",
       "</div>"
      ],
      "text/plain": [
       "                 name platform  year_of_release   genre  na_sales  eu_sales  \\\n",
       "2  Grand Theft Auto V      PS4             2014  Action      3.96      6.31   \n",
       "\n",
       "   jp_sales  other_sales  critic_score  user_score rating  total_sales  \n",
       "2      0.38         1.97          97.0         8.3      M        12.62  "
      ]
     },
     "execution_count": 56,
     "metadata": {},
     "output_type": "execute_result"
    }
   ],
   "source": [
    "#Рассмотрим выброс в верхнем правом углу\n",
    "df_cleared.query('critic_score > 95 & total_sales > 11')"
   ]
  },
  {
   "cell_type": "markdown",
   "metadata": {},
   "source": [
    "Действительно, выброс не является ошибкой."
   ]
  },
  {
   "cell_type": "code",
   "execution_count": 57,
   "metadata": {},
   "outputs": [
    {
     "data": {
      "text/plain": [
       "0.3134792054405212"
      ]
     },
     "execution_count": 57,
     "metadata": {},
     "output_type": "execute_result"
    }
   ],
   "source": [
    "df_cleared['critic_score'] = df_cleared['critic_score'].astype('float')\n",
    "df_cleared.query('platform != \"XOne\"')['total_sales'].corr(df_cleared['critic_score'])"
   ]
  },
  {
   "cell_type": "markdown",
   "metadata": {},
   "source": [
    "Аналогично для оценок пользователей:"
   ]
  },
  {
   "cell_type": "code",
   "execution_count": 58,
   "metadata": {},
   "outputs": [
    {
     "data": {
      "image/png": "[encoded data removed]",
      "text/plain": [
       "<Figure size 432x288 with 1 Axes>"
      ]
     },
     "metadata": {
      "needs_background": "light"
     },
     "output_type": "display_data"
    }
   ],
   "source": [
    "df_cleared.query('platform != \"XOne\"').plot(x='user_score', y='total_sales',kind='scatter', alpha=0.5);"
   ]
  },
  {
   "cell_type": "code",
   "execution_count": 59,
   "metadata": {},
   "outputs": [
    {
     "data": {
      "text/plain": [
       "0.06884083276319593"
      ]
     },
     "execution_count": 59,
     "metadata": {},
     "output_type": "execute_result"
    }
   ],
   "source": [
    "df_cleared.query('platform != \"XOne\"')['total_sales'].corr(df_cleared['user_score'])"
   ]
  },
  {
   "cell_type": "markdown",
   "metadata": {},
   "source": [
    "**Вывод:**\n",
    "\n",
    "1. Критики более стабильны в своих рецензиях и оценивают с примерно одинаковой точностью игры на всех платформах, но низкая корреляция и график говорят о том, что далеко не все игры с высокими оценками имеют высокую популярность среди пользователей;\n",
    "2. Пользователи в своих оценках разнятся независимо от популярности игры. Корреляция незначительно выше у всех платформ, предполагаем, что причиной является большое количество игр с большим количеством продаж и высокой оценкой."
   ]
  },
  {
   "cell_type": "markdown",
   "metadata": {},
   "source": [
    "Для проверки корректности выбранного диапазона времени рассмотрим оценки и продажи старых игр."
   ]
  },
  {
   "cell_type": "code",
   "execution_count": 60,
   "metadata": {},
   "outputs": [],
   "source": [
    "df_old = df.query('year_of_release <= 2000').reset_index(drop=True)"
   ]
  },
  {
   "cell_type": "code",
   "execution_count": 61,
   "metadata": {},
   "outputs": [
    {
     "data": {
      "image/png": "[encoded data removed]",
      "text/plain": [
       "<Figure size 432x288 with 1 Axes>"
      ]
     },
     "metadata": {
      "needs_background": "light"
     },
     "output_type": "display_data"
    }
   ],
   "source": [
    "df_old.plot(x='critic_score', y='total_sales', kind='scatter', alpha=0.5)\n",
    "plt.title('Оценки критиков');"
   ]
  },
  {
   "cell_type": "code",
   "execution_count": 62,
   "metadata": {},
   "outputs": [
    {
     "data": {
      "text/plain": [
       "0.4092613138558337"
      ]
     },
     "execution_count": 62,
     "metadata": {},
     "output_type": "execute_result"
    }
   ],
   "source": [
    "df_old['critic_score'] = df_old['critic_score'].astype('float')\n",
    "df_old['total_sales'].corr(df_old['critic_score'])"
   ]
  },
  {
   "cell_type": "code",
   "execution_count": 63,
   "metadata": {},
   "outputs": [
    {
     "data": {
      "image/png": "[encoded data removed]",
      "text/plain": [
       "<Figure size 432x288 with 1 Axes>"
      ]
     },
     "metadata": {
      "needs_background": "light"
     },
     "output_type": "display_data"
    }
   ],
   "source": [
    "df_old.plot(x='user_score', y='total_sales', kind='scatter', alpha=0.5)\n",
    "plt.title('Оценки пользователей');"
   ]
  },
  {
   "cell_type": "code",
   "execution_count": 64,
   "metadata": {},
   "outputs": [
    {
     "data": {
      "text/plain": [
       "0.2695557607704081"
      ]
     },
     "execution_count": 64,
     "metadata": {},
     "output_type": "execute_result"
    }
   ],
   "source": [
    "df_old['total_sales'].corr(df_old['user_score'])"
   ]
  },
  {
   "cell_type": "markdown",
   "metadata": {},
   "source": [
    "**Вывод:**\n",
    "\n",
    "Критики всегда стабильно оценивают игры, но пользователи говорят, что \"раньше было лучше\"."
   ]
  },
  {
   "cell_type": "markdown",
   "metadata": {},
   "source": [
    "### Изучение игр по жанрам"
   ]
  },
  {
   "cell_type": "markdown",
   "metadata": {},
   "source": [
    "Рассмотрим количество игр и сумму их продаж по жанрам."
   ]
  },
  {
   "cell_type": "code",
   "execution_count": 65,
   "metadata": {},
   "outputs": [
    {
     "data": {
      "text/html": [
       "<style  type=\"text/css\" >\n",
       "#T_8d36a_row6_col0,#T_8d36a_row6_col1{\n",
       "            background-color:  coral;\n",
       "        }#T_8d36a_row9_col0,#T_8d36a_row9_col1{\n",
       "            background-color:  yellowgreen;\n",
       "        }</style><table id=\"T_8d36a_\" ><thead>    <tr>        <th class=\"blank level0\" ></th>        <th class=\"col_heading level0 col0\" >игр</th>        <th class=\"col_heading level0 col1\" >млн_продаж</th>        <th class=\"col_heading level0 col2\" >млн_копий_на_игру</th>    </tr>    <tr>        <th class=\"index_name level0\" >genre</th>        <th class=\"blank\" ></th>        <th class=\"blank\" ></th>        <th class=\"blank\" ></th>    </tr></thead><tbody>\n",
       "                <tr>\n",
       "                        <th id=\"T_8d36a_level0_row0\" class=\"row_heading level0 row0\" >Shooter</th>\n",
       "                        <td id=\"T_8d36a_row0_col0\" class=\"data row0 col0\" >120</td>\n",
       "                        <td id=\"T_8d36a_row0_col1\" class=\"data row0 col1\" >164.270000</td>\n",
       "                        <td id=\"T_8d36a_row0_col2\" class=\"data row0 col2\" >1.368917</td>\n",
       "            </tr>\n",
       "            <tr>\n",
       "                        <th id=\"T_8d36a_level0_row1\" class=\"row_heading level0 row1\" >Sports</th>\n",
       "                        <td id=\"T_8d36a_row1_col0\" class=\"data row1 col0\" >110</td>\n",
       "                        <td id=\"T_8d36a_row1_col1\" class=\"data row1 col1\" >88.590000</td>\n",
       "                        <td id=\"T_8d36a_row1_col2\" class=\"data row1 col2\" >0.805364</td>\n",
       "            </tr>\n",
       "            <tr>\n",
       "                        <th id=\"T_8d36a_level0_row2\" class=\"row_heading level0 row2\" >Role-Playing</th>\n",
       "                        <td id=\"T_8d36a_row2_col0\" class=\"data row2 col0\" >150</td>\n",
       "                        <td id=\"T_8d36a_row2_col1\" class=\"data row2 col1\" >113.710000</td>\n",
       "                        <td id=\"T_8d36a_row2_col2\" class=\"data row2 col2\" >0.758067</td>\n",
       "            </tr>\n",
       "            <tr>\n",
       "                        <th id=\"T_8d36a_level0_row3\" class=\"row_heading level0 row3\" >Platform</th>\n",
       "                        <td id=\"T_8d36a_row3_col0\" class=\"data row3 col0\" >49</td>\n",
       "                        <td id=\"T_8d36a_row3_col1\" class=\"data row3 col1\" >33.750000</td>\n",
       "                        <td id=\"T_8d36a_row3_col2\" class=\"data row3 col2\" >0.688776</td>\n",
       "            </tr>\n",
       "            <tr>\n",
       "                        <th id=\"T_8d36a_level0_row4\" class=\"row_heading level0 row4\" >Fighting</th>\n",
       "                        <td id=\"T_8d36a_row4_col0\" class=\"data row4 col0\" >38</td>\n",
       "                        <td id=\"T_8d36a_row4_col1\" class=\"data row4 col1\" >25.500000</td>\n",
       "                        <td id=\"T_8d36a_row4_col2\" class=\"data row4 col2\" >0.671053</td>\n",
       "            </tr>\n",
       "            <tr>\n",
       "                        <th id=\"T_8d36a_level0_row5\" class=\"row_heading level0 row5\" >Racing</th>\n",
       "                        <td id=\"T_8d36a_row5_col0\" class=\"data row5 col0\" >57</td>\n",
       "                        <td id=\"T_8d36a_row5_col1\" class=\"data row5 col1\" >30.260000</td>\n",
       "                        <td id=\"T_8d36a_row5_col2\" class=\"data row5 col2\" >0.530877</td>\n",
       "            </tr>\n",
       "            <tr>\n",
       "                        <th id=\"T_8d36a_level0_row6\" class=\"row_heading level0 row6\" >Action</th>\n",
       "                        <td id=\"T_8d36a_row6_col0\" class=\"data row6 col0\" >443</td>\n",
       "                        <td id=\"T_8d36a_row6_col1\" class=\"data row6 col1\" >189.460000</td>\n",
       "                        <td id=\"T_8d36a_row6_col2\" class=\"data row6 col2\" >0.427675</td>\n",
       "            </tr>\n",
       "            <tr>\n",
       "                        <th id=\"T_8d36a_level0_row7\" class=\"row_heading level0 row7\" >Simulation</th>\n",
       "                        <td id=\"T_8d36a_row7_col0\" class=\"data row7 col0\" >47</td>\n",
       "                        <td id=\"T_8d36a_row7_col1\" class=\"data row7 col1\" >19.760000</td>\n",
       "                        <td id=\"T_8d36a_row7_col2\" class=\"data row7 col2\" >0.420426</td>\n",
       "            </tr>\n",
       "            <tr>\n",
       "                        <th id=\"T_8d36a_level0_row8\" class=\"row_heading level0 row8\" >Misc</th>\n",
       "                        <td id=\"T_8d36a_row8_col0\" class=\"data row8 col0\" >93</td>\n",
       "                        <td id=\"T_8d36a_row8_col1\" class=\"data row8 col1\" >30.810000</td>\n",
       "                        <td id=\"T_8d36a_row8_col2\" class=\"data row8 col2\" >0.331290</td>\n",
       "            </tr>\n",
       "            <tr>\n",
       "                        <th id=\"T_8d36a_level0_row9\" class=\"row_heading level0 row9\" >Puzzle</th>\n",
       "                        <td id=\"T_8d36a_row9_col0\" class=\"data row9 col0\" >14</td>\n",
       "                        <td id=\"T_8d36a_row9_col1\" class=\"data row9 col1\" >3.070000</td>\n",
       "                        <td id=\"T_8d36a_row9_col2\" class=\"data row9 col2\" >0.219286</td>\n",
       "            </tr>\n",
       "            <tr>\n",
       "                        <th id=\"T_8d36a_level0_row10\" class=\"row_heading level0 row10\" >Strategy</th>\n",
       "                        <td id=\"T_8d36a_row10_col0\" class=\"data row10 col0\" >42</td>\n",
       "                        <td id=\"T_8d36a_row10_col1\" class=\"data row10 col1\" >8.560000</td>\n",
       "                        <td id=\"T_8d36a_row10_col2\" class=\"data row10 col2\" >0.203810</td>\n",
       "            </tr>\n",
       "            <tr>\n",
       "                        <th id=\"T_8d36a_level0_row11\" class=\"row_heading level0 row11\" >Adventure</th>\n",
       "                        <td id=\"T_8d36a_row11_col0\" class=\"data row11 col0\" >83</td>\n",
       "                        <td id=\"T_8d36a_row11_col1\" class=\"data row11 col1\" >13.030000</td>\n",
       "                        <td id=\"T_8d36a_row11_col2\" class=\"data row11 col2\" >0.156988</td>\n",
       "            </tr>\n",
       "    </tbody></table>"
      ],
      "text/plain": [
       "<pandas.io.formats.style.Styler at 0x7f5611e5fdc0>"
      ]
     },
     "execution_count": 65,
     "metadata": {},
     "output_type": "execute_result"
    }
   ],
   "source": [
    "genres = (df_cleared\n",
    "         .groupby('genre')\n",
    "         .agg(игр=('name', 'count'), млн_продаж=('total_sales', 'sum')))\n",
    "\n",
    "#Ради интереса посмотрим на среднее количество продаж на игру\n",
    "genres['млн_копий_на_игру'] = genres['млн_продаж'] / genres['игр']\n",
    "\n",
    "(genres\n",
    " .sort_values(by='млн_копий_на_игру', ascending=False)\n",
    " .style\n",
    " .highlight_max(color='coral', subset='игр')\n",
    " .highlight_min(color='yellowgreen', subset='игр')\n",
    " .highlight_max(color='coral', subset='млн_продаж')\n",
    " .highlight_min(color='yellowgreen', subset='млн_продаж')\n",
    ")"
   ]
  },
  {
   "cell_type": "markdown",
   "metadata": {},
   "source": [
    "Самый распространённый жанр выпускаемых игр - Action, но среднее количество копий каждой игры в 3 раза больше у игр жанра Shooter.\n",
    "\n",
    "Паззлы - самые редкие игры и имеют самое низкое количество проданных игр, но каждая игра, в среднем, продаётся хуже в стиле приключений и стратегий. "
   ]
  },
  {
   "cell_type": "markdown",
   "metadata": {},
   "source": [
    "Рассмотрим самый прибыльный жанр - Action."
   ]
  },
  {
   "cell_type": "code",
   "execution_count": 66,
   "metadata": {},
   "outputs": [
    {
     "data": {
      "image/png": "[encoded data removed]",
      "text/plain": [
       "<Figure size 432x288 with 1 Axes>"
      ]
     },
     "metadata": {
      "needs_background": "light"
     },
     "output_type": "display_data"
    }
   ],
   "source": [
    "df_cleared.query('genre == \"Action\" & total_sales < 10').plot(x='user_score', y='total_sales', kind='scatter', alpha=0.5);"
   ]
  },
  {
   "cell_type": "code",
   "execution_count": 67,
   "metadata": {},
   "outputs": [
    {
     "data": {
      "text/plain": [
       "0.1145719086613161"
      ]
     },
     "execution_count": 67,
     "metadata": {},
     "output_type": "execute_result"
    }
   ],
   "source": [
    "df_cleared.query('genre == \"Action\" & total_sales < 10')['total_sales'].corr(df_cleared['user_score'])"
   ]
  },
  {
   "cell_type": "markdown",
   "metadata": {},
   "source": [
    "Пользователи точнее оценивают игры жанра Action, но корреляция остаётся низкой. Рассмотрим корреляцию оценок пользователей и продаж у паззлов. Предполагаем, что в играх этого жанра не будет проблем с мультиплеером, микротранзакциями и сюжетом, и оценки пользователей будут точнее."
   ]
  },
  {
   "cell_type": "code",
   "execution_count": 68,
   "metadata": {},
   "outputs": [
    {
     "data": {
      "text/plain": [
       "0.5491692637828904"
      ]
     },
     "execution_count": 68,
     "metadata": {},
     "output_type": "execute_result"
    }
   ],
   "source": [
    "df_cleared.query('genre == \"Puzzle\"')['total_sales'].corr(df_cleared['user_score'])"
   ]
  },
  {
   "cell_type": "markdown",
   "metadata": {},
   "source": [
    "Предположение подтвердилось, корреляция выше у более редких игр, чего не скажешь об оценках, которые пользователи ставят шутерам, максимально влияя на общую статистику:"
   ]
  },
  {
   "cell_type": "code",
   "execution_count": 69,
   "metadata": {},
   "outputs": [
    {
     "data": {
      "text/plain": [
       "-0.019112784254802503"
      ]
     },
     "execution_count": 69,
     "metadata": {},
     "output_type": "execute_result"
    }
   ],
   "source": [
    "df_cleared.query('genre == \"Shooter\"')['total_sales'].corr(df_cleared['user_score'])"
   ]
  },
  {
   "cell_type": "markdown",
   "metadata": {},
   "source": [
    "**Вывод:**\n",
    "\n",
    "Жанры с высоким и низким рейтингом сильно выделяются:\n",
    "1. Игр жанра Action, Shooter и ролевых производится и продаётся больше, чем остальных жанров вместе взятых;\n",
    "2. Паззлы и стратегии - наиболее редкие игры. Предполагаем, что аудитория игр на мышление несравнимо ниже аудитории, которая ждёт от игр новых эмоций;\n",
    "3. Чем популярнее жанр, тем выше ожидания у пользователей. Более сложные игры пользователи оценивают хаотичнее, чем простые паззлы, чем влияют на общую картину."
   ]
  },
  {
   "cell_type": "markdown",
   "metadata": {},
   "source": [
    "<a id=\"p4\"></a>\n",
    "## Шаг 4. Портрет пользователя каждого региона"
   ]
  },
  {
   "cell_type": "markdown",
   "metadata": {},
   "source": [
    "Составим портреты пользователей разных регионов."
   ]
  },
  {
   "cell_type": "markdown",
   "metadata": {},
   "source": [
    "### Самые популярные платформы регионов NA, EU и JP"
   ]
  },
  {
   "cell_type": "code",
   "execution_count": 70,
   "metadata": {},
   "outputs": [
    {
     "data": {
      "text/html": [
       "<div>\n",
       "<style scoped>\n",
       "    .dataframe tbody tr th:only-of-type {\n",
       "        vertical-align: middle;\n",
       "    }\n",
       "\n",
       "    .dataframe tbody tr th {\n",
       "        vertical-align: top;\n",
       "    }\n",
       "\n",
       "    .dataframe thead th {\n",
       "        text-align: right;\n",
       "    }\n",
       "</style>\n",
       "<table border=\"1\" class=\"dataframe\">\n",
       "  <thead>\n",
       "    <tr style=\"text-align: right;\">\n",
       "      <th></th>\n",
       "      <th>na_sales</th>\n",
       "      <th>eu_sales</th>\n",
       "      <th>jp_sales</th>\n",
       "    </tr>\n",
       "    <tr>\n",
       "      <th>platform</th>\n",
       "      <th></th>\n",
       "      <th></th>\n",
       "      <th></th>\n",
       "    </tr>\n",
       "  </thead>\n",
       "  <tbody>\n",
       "    <tr>\n",
       "      <th>3DS</th>\n",
       "      <td>38.20</td>\n",
       "      <td>30.96</td>\n",
       "      <td>67.81</td>\n",
       "    </tr>\n",
       "    <tr>\n",
       "      <th>PC</th>\n",
       "      <td>11.11</td>\n",
       "      <td>25.36</td>\n",
       "      <td>0.00</td>\n",
       "    </tr>\n",
       "    <tr>\n",
       "      <th>PS4</th>\n",
       "      <td>108.74</td>\n",
       "      <td>141.09</td>\n",
       "      <td>15.96</td>\n",
       "    </tr>\n",
       "    <tr>\n",
       "      <th>WiiU</th>\n",
       "      <td>29.21</td>\n",
       "      <td>19.85</td>\n",
       "      <td>10.88</td>\n",
       "    </tr>\n",
       "    <tr>\n",
       "      <th>XOne</th>\n",
       "      <td>93.12</td>\n",
       "      <td>51.59</td>\n",
       "      <td>0.34</td>\n",
       "    </tr>\n",
       "  </tbody>\n",
       "</table>\n",
       "</div>"
      ],
      "text/plain": [
       "          na_sales  eu_sales  jp_sales\n",
       "platform                              \n",
       "3DS          38.20     30.96     67.81\n",
       "PC           11.11     25.36      0.00\n",
       "PS4         108.74    141.09     15.96\n",
       "WiiU         29.21     19.85     10.88\n",
       "XOne         93.12     51.59      0.34"
      ]
     },
     "execution_count": 70,
     "metadata": {},
     "output_type": "execute_result"
    }
   ],
   "source": [
    "reg_sales = (df_cleared\n",
    "         .groupby('platform')\n",
    "         .agg(na_sales=('na_sales', 'sum'), eu_sales=('eu_sales', 'sum'), jp_sales=('jp_sales', 'sum'))\n",
    ")\n",
    "reg_sales"
   ]
  },
  {
   "cell_type": "code",
   "execution_count": 71,
   "metadata": {},
   "outputs": [
    {
     "data": {
      "image/png": "[encoded data removed]",
      "text/plain": [
       "<Figure size 1008x288 with 1 Axes>"
      ]
     },
     "metadata": {
      "needs_background": "light"
     },
     "output_type": "display_data"
    }
   ],
   "source": [
    "#Для наглядности построим диаграмму\n",
    "reg_sales.plot(y=['na_sales', 'eu_sales', 'jp_sales'], kind='bar', figsize=(14, 4), rot=0)\n",
    "plt.title('Самые популярные платформы регионов NA, EU и JP')\n",
    "plt.xlabel('Платформа')\n",
    "plt.ylabel('Продажи, млн');"
   ]
  },
  {
   "cell_type": "markdown",
   "metadata": {},
   "source": [
    "Япония сильно выделяется на фоне Америки и Европы. Самыми продаваемыми играми в Японии являются продукты на платформах DS, PS, PS2, SNES, но все они устарели и не попали в актуальный датафрейм. Популярность в Японии сохраняется за портативной игровой системой 3DS. Компьютерный игры не продаются в Японии вовсе, либо отсутствуют официальные данные о продажах.\n",
    "\n",
    "Второй по популярности платформой является PS4, что не удивительно, так как компания Sony - японская, а консоли PlayStation выросли от партнёрства с Nintendo, производителем платформы 3DS.\n",
    "\n",
    "Учитывая население Японии и общее количество продаж, платформа 3DS является невероятно распространённой в данном регионе.\n",
    "<br>\n",
    "<br>\n",
    "<br>\n",
    "Общее количество продаж в Америке и Европе схоже, что делает анализ более корректным.\n",
    "Платформа XOne популярнее в Америке, так как производителем является американская компания, в то время, как PS4 популярнее в Европе. Предполагаем, что часть \"сомневающихся\" в выборе геймеров в Америке приняли решение в пользу приставки Xbox: разница в количестве проданных игр очень близка.\n",
    "\n",
    "Игры на ПК в Америке в 2,3 раза менее популярны, чем в Европе. К сожалению, смелых предположений по данному отличию высказать трудно, но имеется гипотеза о том, что игровые консоли более доступны в Америке, поэтому геймеры предпочитают игры на платформах, которые предназначены исключительно для игр, тогда как в Европе для пользователей приемлемы и игры на ПК.\n",
    "<br>\n",
    "<br>\n",
    "<br>\n",
    "Игры на платформе WiiU в Америке имеют столько же продаж, сколько в Европе и Японии. В Японии популярность объясняется общей распространённостью консолей от Nintendo. В Америке распространение WiiU можем объяснить так же, как и ранее непопулярность компьютеров - в Америке консоль WiiU доступнее, чем в Европе.\n",
    "<br>\n",
    "<br>\n",
    "<br>\n",
    "*// По крайней мере, мне, европейцу, не понять назначение приставок Wii U и не понять целесообразности иных консолей при наличии ПК, поэтому выводы могут быть субъективными.*"
   ]
  },
  {
   "cell_type": "markdown",
   "metadata": {},
   "source": [
    "### Самые популярные жанры регионов NA, EU и JP"
   ]
  },
  {
   "cell_type": "markdown",
   "metadata": {},
   "source": [
    "Создадим для каждого региона топ-5 жанров."
   ]
  },
  {
   "cell_type": "code",
   "execution_count": 72,
   "metadata": {},
   "outputs": [
    {
     "data": {
      "text/html": [
       "<div>\n",
       "<style scoped>\n",
       "    .dataframe tbody tr th:only-of-type {\n",
       "        vertical-align: middle;\n",
       "    }\n",
       "\n",
       "    .dataframe tbody tr th {\n",
       "        vertical-align: top;\n",
       "    }\n",
       "\n",
       "    .dataframe thead th {\n",
       "        text-align: right;\n",
       "    }\n",
       "</style>\n",
       "<table border=\"1\" class=\"dataframe\">\n",
       "  <thead>\n",
       "    <tr style=\"text-align: right;\">\n",
       "      <th></th>\n",
       "      <th>genre_name_na</th>\n",
       "      <th>na_sales</th>\n",
       "      <th>genre_name_eu</th>\n",
       "      <th>eu_sales</th>\n",
       "      <th>genre_name_jp</th>\n",
       "      <th>jp_sales</th>\n",
       "    </tr>\n",
       "  </thead>\n",
       "  <tbody>\n",
       "    <tr>\n",
       "      <th>Top-1</th>\n",
       "      <td>Shooter</td>\n",
       "      <td>74.85</td>\n",
       "      <td>Action</td>\n",
       "      <td>71.98</td>\n",
       "      <td>Role-Playing</td>\n",
       "      <td>38.00</td>\n",
       "    </tr>\n",
       "    <tr>\n",
       "      <th>Top-2</th>\n",
       "      <td>Action</td>\n",
       "      <td>72.43</td>\n",
       "      <td>Shooter</td>\n",
       "      <td>64.34</td>\n",
       "      <td>Action</td>\n",
       "      <td>24.00</td>\n",
       "    </tr>\n",
       "    <tr>\n",
       "      <th>Top-3</th>\n",
       "      <td>Sports</td>\n",
       "      <td>36.74</td>\n",
       "      <td>Sports</td>\n",
       "      <td>37.91</td>\n",
       "      <td>Misc</td>\n",
       "      <td>6.23</td>\n",
       "    </tr>\n",
       "    <tr>\n",
       "      <th>Top-4</th>\n",
       "      <td>Role-Playing</td>\n",
       "      <td>36.35</td>\n",
       "      <td>Role-Playing</td>\n",
       "      <td>30.96</td>\n",
       "      <td>Platform</td>\n",
       "      <td>4.71</td>\n",
       "    </tr>\n",
       "    <tr>\n",
       "      <th>Top-5</th>\n",
       "      <td>Platform</td>\n",
       "      <td>14.02</td>\n",
       "      <td>Racing</td>\n",
       "      <td>15.17</td>\n",
       "      <td>Fighting</td>\n",
       "      <td>4.68</td>\n",
       "    </tr>\n",
       "  </tbody>\n",
       "</table>\n",
       "</div>"
      ],
      "text/plain": [
       "      genre_name_na  na_sales genre_name_eu  eu_sales genre_name_jp  jp_sales\n",
       "Top-1       Shooter     74.85        Action     71.98  Role-Playing     38.00\n",
       "Top-2        Action     72.43       Shooter     64.34        Action     24.00\n",
       "Top-3        Sports     36.74        Sports     37.91          Misc      6.23\n",
       "Top-4  Role-Playing     36.35  Role-Playing     30.96      Platform      4.71\n",
       "Top-5      Platform     14.02        Racing     15.17      Fighting      4.68"
      ]
     },
     "execution_count": 72,
     "metadata": {},
     "output_type": "execute_result"
    }
   ],
   "source": [
    "reg_sales_genres = (df_cleared\n",
    "         .groupby('genre')\n",
    "         .agg(na_sales=('na_sales', 'sum'), eu_sales=('eu_sales', 'sum'), jp_sales=('jp_sales', 'sum'))\n",
    ")\n",
    "#Выделяем жанры, чтобы они не были индексами\n",
    "reg_sales_genres['genre_name'] = reg_sales_genres.index\n",
    "\n",
    "#Создаём новые индексы\n",
    "top = ['Top-1', 'Top-2', 'Top-3', 'Top-4', 'Top-5']\n",
    "\n",
    "#Создаём топы\n",
    "na_sales_genres = reg_sales_genres[['genre_name', 'na_sales']].sort_values(by='na_sales', ascending=False).head(5)\n",
    "eu_sales_genres = reg_sales_genres[['genre_name', 'eu_sales']].sort_values(by='eu_sales', ascending=False).head(5)\n",
    "jp_sales_genres = reg_sales_genres[['genre_name', 'jp_sales']].sort_values(by='jp_sales', ascending=False).head(5)\n",
    "\n",
    "na_sales_genres['top'] = top\n",
    "eu_sales_genres['top'] = top\n",
    "jp_sales_genres['top'] = top\n",
    "\n",
    "#Объединяем топы\n",
    "res = (na_sales_genres\n",
    "       .merge(eu_sales_genres, on='top', suffixes=['_na','_eu'])\n",
    "       .merge(jp_sales_genres, on='top')\n",
    "       .rename(columns = {'genre_name': 'genre_name_jp'})\n",
    "       .drop('top', 1)\n",
    "      )\n",
    "\n",
    "res.index = top\n",
    "res"
   ]
  },
  {
   "cell_type": "markdown",
   "metadata": {},
   "source": [
    "Игры жанров Shooter и Action - самые популярные в Европе и Северной Америке. Эти жанры часто очень похожи, поэтому в целом можно утверждать, что предпочтения большинства игроков схожи, так же как и в выборе спортивных и ролевых игр - продажи примерно одинаковые.\n",
    "\n",
    "На пятом месте в Европе и Северной Америка стоят платформеры и гонки. Эти игры в обоих регионах находятся на 5 и 6 месте, с незначительными отличиями в объёмах продаж.\n",
    "\n",
    "Предпочтения пользователей из Японии сильно отличаются от предпочтений игроков других регионов. На первом месте находятся ролевые игры. Возможно, это связано с двумя вещами:\n",
    "1. Ролевые игры распространены на платформе 3DS;\n",
    "2. Азия является одним из крупнейших производителем различных ролевых игр.\n",
    "\n",
    "Первое предположение проверим:"
   ]
  },
  {
   "cell_type": "code",
   "execution_count": 73,
   "metadata": {},
   "outputs": [
    {
     "data": {
      "text/plain": [
       "Action          116\n",
       "Role-Playing     62\n",
       "Misc             32\n",
       "Adventure        27\n",
       "Simulation       15\n",
       "Name: genre, dtype: int64"
      ]
     },
     "execution_count": 73,
     "metadata": {},
     "output_type": "execute_result"
    }
   ],
   "source": [
    "df_cleared.query('platform == \"3DS\"')['genre'].value_counts().head(5)"
   ]
  },
  {
   "cell_type": "markdown",
   "metadata": {},
   "source": [
    "Гипотезу подтверждаем, RPG и игры жанра Action наиболее распространены на платформу 3DS.\n",
    "\n",
    "В пользу второй версии говорит <a href=\"https://ru.wikipedia.org/wiki/%D0%9A%D0%BE%D0%BC%D0%BF%D1%8C%D1%8E%D1%82%D0%B5%D1%80%D0%BD%D0%B0%D1%8F_%D1%80%D0%BE%D0%BB%D0%B5%D0%B2%D0%B0%D1%8F_%D0%B8%D0%B3%D1%80%D0%B0#2010-%D0%B5_%D0%B3%D0%BE%D0%B4%D1%8B\" target=\"_blank\">общая информация</a> о ролевых игр - японские разработчики известны своими продуктами, в частности, в исследуемые годы, играми Dragon's Dogma, Ni no Kuni, Final Fantasy, Dark_Souls и т.д. Особенно в последний период пользуются популярностью игра из серий Pokemon и Monster Hunter."
   ]
  },
  {
   "cell_type": "markdown",
   "metadata": {},
   "source": [
    "### Влияние рейтинга ESRB на продажи в отдельном регионе"
   ]
  },
  {
   "cell_type": "code",
   "execution_count": 74,
   "metadata": {},
   "outputs": [
    {
     "data": {
      "text/html": [
       "<div>\n",
       "<style scoped>\n",
       "    .dataframe tbody tr th:only-of-type {\n",
       "        vertical-align: middle;\n",
       "    }\n",
       "\n",
       "    .dataframe tbody tr th {\n",
       "        vertical-align: top;\n",
       "    }\n",
       "\n",
       "    .dataframe thead th {\n",
       "        text-align: right;\n",
       "    }\n",
       "</style>\n",
       "<table border=\"1\" class=\"dataframe\">\n",
       "  <thead>\n",
       "    <tr style=\"text-align: right;\">\n",
       "      <th></th>\n",
       "      <th>eu_sales</th>\n",
       "      <th>jp_sales</th>\n",
       "      <th>na_sales</th>\n",
       "      <th>rating</th>\n",
       "    </tr>\n",
       "    <tr>\n",
       "      <th>rating</th>\n",
       "      <th></th>\n",
       "      <th></th>\n",
       "      <th></th>\n",
       "      <th></th>\n",
       "    </tr>\n",
       "  </thead>\n",
       "  <tbody>\n",
       "    <tr>\n",
       "      <th>M</th>\n",
       "      <td>93.37</td>\n",
       "      <td>6.75</td>\n",
       "      <td>95.62</td>\n",
       "      <td>M</td>\n",
       "    </tr>\n",
       "    <tr>\n",
       "      <th>WR</th>\n",
       "      <td>62.05</td>\n",
       "      <td>61.22</td>\n",
       "      <td>67.40</td>\n",
       "      <td>WR</td>\n",
       "    </tr>\n",
       "    <tr>\n",
       "      <th>E</th>\n",
       "      <td>57.00</td>\n",
       "      <td>13.20</td>\n",
       "      <td>51.84</td>\n",
       "      <td>E</td>\n",
       "    </tr>\n",
       "    <tr>\n",
       "      <th>T</th>\n",
       "      <td>31.38</td>\n",
       "      <td>8.44</td>\n",
       "      <td>33.67</td>\n",
       "      <td>T</td>\n",
       "    </tr>\n",
       "    <tr>\n",
       "      <th>E10+</th>\n",
       "      <td>25.05</td>\n",
       "      <td>5.38</td>\n",
       "      <td>31.85</td>\n",
       "      <td>E10+</td>\n",
       "    </tr>\n",
       "  </tbody>\n",
       "</table>\n",
       "</div>"
      ],
      "text/plain": [
       "        eu_sales  jp_sales  na_sales rating\n",
       "rating                                     \n",
       "M          93.37      6.75     95.62      M\n",
       "WR         62.05     61.22     67.40     WR\n",
       "E          57.00     13.20     51.84      E\n",
       "T          31.38      8.44     33.67      T\n",
       "E10+       25.05      5.38     31.85   E10+"
      ]
     },
     "execution_count": 74,
     "metadata": {},
     "output_type": "execute_result"
    }
   ],
   "source": [
    "rating_sales_pivot = (df_cleared\n",
    "                      .pivot_table(index='rating',\n",
    "                                   values=['na_sales', 'eu_sales', 'jp_sales'],\n",
    "                                   aggfunc='sum')\n",
    "                      .sort_values('na_sales', ascending=False)\n",
    "                     )\n",
    "\n",
    "rating_sales_pivot['rating'] = rating_sales_pivot.index\n",
    "rating_sales_pivot"
   ]
  },
  {
   "cell_type": "code",
   "execution_count": 75,
   "metadata": {},
   "outputs": [
    {
     "data": {
      "image/png": "[encoded data removed]",
      "text/plain": [
       "<Figure size 720x288 with 1 Axes>"
      ]
     },
     "metadata": {
      "needs_background": "light"
     },
     "output_type": "display_data"
    }
   ],
   "source": [
    "rating_sales_pivot.plot(x='rating', y=['na_sales', 'eu_sales', 'jp_sales'], kind='bar', rot=0, figsize=(10,4));"
   ]
  },
  {
   "cell_type": "markdown",
   "metadata": {},
   "source": [
    "В Европе и Северной Америке игры с рейтингом М (17+, со сценами насилия) лидирую, тогда как такие игры в Японии занимают только 3-е место по популярности. В Японии лидируют игры с рейтингом E, для всех. Возможно, это связано с тем, что шутеры и экшн-игры менее распространены в Японии, чем ролевые игры \"для всех\" - как мы помним, в этом регионе лидируют Покемоны.\n",
    "\n",
    "Влияет ли рейтинг на продажи, сказать сложно, так как в первую очередь игроки обращают внимание на саму игру и жанр, во вторую - на совместимость с платформой, и, может быть, далее на рейтинг игры. Несмотря на это, можно сделать общий вывод, что игры с захватывающими сценами популярны в Европе и Америке, но в Японии игры жанра Action популярнее с рейтингом E."
   ]
  },
  {
   "cell_type": "markdown",
   "metadata": {},
   "source": [
    "Ранее мы заполнили пропуски в столбце рейтингов значением \"WR\". Так как рейтинг ESRB работает на территории США и Канады, в большинстве случаев он не качается игр из Японии. Проверим:"
   ]
  },
  {
   "cell_type": "code",
   "execution_count": 76,
   "metadata": {
    "scrolled": false
   },
   "outputs": [
    {
     "data": {
      "text/html": [
       "<div>\n",
       "<style scoped>\n",
       "    .dataframe tbody tr th:only-of-type {\n",
       "        vertical-align: middle;\n",
       "    }\n",
       "\n",
       "    .dataframe tbody tr th {\n",
       "        vertical-align: top;\n",
       "    }\n",
       "\n",
       "    .dataframe thead th {\n",
       "        text-align: right;\n",
       "    }\n",
       "</style>\n",
       "<table border=\"1\" class=\"dataframe\">\n",
       "  <thead>\n",
       "    <tr style=\"text-align: right;\">\n",
       "      <th></th>\n",
       "      <th>name</th>\n",
       "      <th>platform</th>\n",
       "      <th>year_of_release</th>\n",
       "      <th>genre</th>\n",
       "      <th>na_sales</th>\n",
       "      <th>eu_sales</th>\n",
       "      <th>jp_sales</th>\n",
       "      <th>other_sales</th>\n",
       "      <th>critic_score</th>\n",
       "      <th>user_score</th>\n",
       "      <th>rating</th>\n",
       "      <th>total_sales</th>\n",
       "    </tr>\n",
       "  </thead>\n",
       "  <tbody>\n",
       "    <tr>\n",
       "      <th>1</th>\n",
       "      <td>Pokemon X/Pokemon Y</td>\n",
       "      <td>3DS</td>\n",
       "      <td>2013</td>\n",
       "      <td>Role-Playing</td>\n",
       "      <td>5.28</td>\n",
       "      <td>4.19</td>\n",
       "      <td>4.35</td>\n",
       "      <td>0.78</td>\n",
       "      <td>NaN</td>\n",
       "      <td>NaN</td>\n",
       "      <td>WR</td>\n",
       "      <td>14.60</td>\n",
       "    </tr>\n",
       "    <tr>\n",
       "      <th>42</th>\n",
       "      <td>Monster Hunter 4</td>\n",
       "      <td>3DS</td>\n",
       "      <td>2013</td>\n",
       "      <td>Role-Playing</td>\n",
       "      <td>0.00</td>\n",
       "      <td>0.00</td>\n",
       "      <td>3.44</td>\n",
       "      <td>0.00</td>\n",
       "      <td>NaN</td>\n",
       "      <td>NaN</td>\n",
       "      <td>WR</td>\n",
       "      <td>3.44</td>\n",
       "    </tr>\n",
       "    <tr>\n",
       "      <th>47</th>\n",
       "      <td>Yokai Watch 2 Ganso/Honke</td>\n",
       "      <td>3DS</td>\n",
       "      <td>2014</td>\n",
       "      <td>Role-Playing</td>\n",
       "      <td>0.09</td>\n",
       "      <td>0.00</td>\n",
       "      <td>3.18</td>\n",
       "      <td>0.01</td>\n",
       "      <td>NaN</td>\n",
       "      <td>NaN</td>\n",
       "      <td>WR</td>\n",
       "      <td>3.28</td>\n",
       "    </tr>\n",
       "    <tr>\n",
       "      <th>3</th>\n",
       "      <td>Pokemon Omega Ruby/Pokemon Alpha Sapphire</td>\n",
       "      <td>3DS</td>\n",
       "      <td>2014</td>\n",
       "      <td>Role-Playing</td>\n",
       "      <td>4.35</td>\n",
       "      <td>3.49</td>\n",
       "      <td>3.10</td>\n",
       "      <td>0.74</td>\n",
       "      <td>NaN</td>\n",
       "      <td>NaN</td>\n",
       "      <td>WR</td>\n",
       "      <td>11.68</td>\n",
       "    </tr>\n",
       "    <tr>\n",
       "      <th>46</th>\n",
       "      <td>Monster Hunter X</td>\n",
       "      <td>3DS</td>\n",
       "      <td>2015</td>\n",
       "      <td>Action</td>\n",
       "      <td>0.27</td>\n",
       "      <td>0.21</td>\n",
       "      <td>2.79</td>\n",
       "      <td>0.05</td>\n",
       "      <td>NaN</td>\n",
       "      <td>NaN</td>\n",
       "      <td>WR</td>\n",
       "      <td>3.32</td>\n",
       "    </tr>\n",
       "    <tr>\n",
       "      <th>65</th>\n",
       "      <td>Yokai Watch 2 Shinuchi</td>\n",
       "      <td>3DS</td>\n",
       "      <td>2014</td>\n",
       "      <td>Role-Playing</td>\n",
       "      <td>0.00</td>\n",
       "      <td>0.00</td>\n",
       "      <td>2.68</td>\n",
       "      <td>0.00</td>\n",
       "      <td>NaN</td>\n",
       "      <td>NaN</td>\n",
       "      <td>WR</td>\n",
       "      <td>2.68</td>\n",
       "    </tr>\n",
       "    <tr>\n",
       "      <th>8</th>\n",
       "      <td>Super Smash Bros. for Wii U and 3DS</td>\n",
       "      <td>3DS</td>\n",
       "      <td>2014</td>\n",
       "      <td>Fighting</td>\n",
       "      <td>3.27</td>\n",
       "      <td>1.37</td>\n",
       "      <td>2.43</td>\n",
       "      <td>0.48</td>\n",
       "      <td>NaN</td>\n",
       "      <td>NaN</td>\n",
       "      <td>WR</td>\n",
       "      <td>7.55</td>\n",
       "    </tr>\n",
       "    <tr>\n",
       "      <th>74</th>\n",
       "      <td>Yokai Watch Busters</td>\n",
       "      <td>3DS</td>\n",
       "      <td>2015</td>\n",
       "      <td>Action</td>\n",
       "      <td>0.00</td>\n",
       "      <td>0.00</td>\n",
       "      <td>2.29</td>\n",
       "      <td>0.00</td>\n",
       "      <td>NaN</td>\n",
       "      <td>NaN</td>\n",
       "      <td>WR</td>\n",
       "      <td>2.29</td>\n",
       "    </tr>\n",
       "    <tr>\n",
       "      <th>11</th>\n",
       "      <td>Pokemon Sun/Moon</td>\n",
       "      <td>3DS</td>\n",
       "      <td>2016</td>\n",
       "      <td>Role-Playing</td>\n",
       "      <td>2.98</td>\n",
       "      <td>1.45</td>\n",
       "      <td>2.26</td>\n",
       "      <td>0.45</td>\n",
       "      <td>NaN</td>\n",
       "      <td>NaN</td>\n",
       "      <td>WR</td>\n",
       "      <td>7.14</td>\n",
       "    </tr>\n",
       "    <tr>\n",
       "      <th>18</th>\n",
       "      <td>Tomodachi Life</td>\n",
       "      <td>3DS</td>\n",
       "      <td>2013</td>\n",
       "      <td>Simulation</td>\n",
       "      <td>0.97</td>\n",
       "      <td>2.11</td>\n",
       "      <td>1.90</td>\n",
       "      <td>0.24</td>\n",
       "      <td>NaN</td>\n",
       "      <td>NaN</td>\n",
       "      <td>WR</td>\n",
       "      <td>5.22</td>\n",
       "    </tr>\n",
       "  </tbody>\n",
       "</table>\n",
       "</div>"
      ],
      "text/plain": [
       "                                         name platform  year_of_release  \\\n",
       "1                         Pokemon X/Pokemon Y      3DS             2013   \n",
       "42                           Monster Hunter 4      3DS             2013   \n",
       "47                  Yokai Watch 2 Ganso/Honke      3DS             2014   \n",
       "3   Pokemon Omega Ruby/Pokemon Alpha Sapphire      3DS             2014   \n",
       "46                           Monster Hunter X      3DS             2015   \n",
       "65                     Yokai Watch 2 Shinuchi      3DS             2014   \n",
       "8         Super Smash Bros. for Wii U and 3DS      3DS             2014   \n",
       "74                        Yokai Watch Busters      3DS             2015   \n",
       "11                           Pokemon Sun/Moon      3DS             2016   \n",
       "18                             Tomodachi Life      3DS             2013   \n",
       "\n",
       "           genre  na_sales  eu_sales  jp_sales  other_sales  critic_score  \\\n",
       "1   Role-Playing      5.28      4.19      4.35         0.78           NaN   \n",
       "42  Role-Playing      0.00      0.00      3.44         0.00           NaN   \n",
       "47  Role-Playing      0.09      0.00      3.18         0.01           NaN   \n",
       "3   Role-Playing      4.35      3.49      3.10         0.74           NaN   \n",
       "46        Action      0.27      0.21      2.79         0.05           NaN   \n",
       "65  Role-Playing      0.00      0.00      2.68         0.00           NaN   \n",
       "8       Fighting      3.27      1.37      2.43         0.48           NaN   \n",
       "74        Action      0.00      0.00      2.29         0.00           NaN   \n",
       "11  Role-Playing      2.98      1.45      2.26         0.45           NaN   \n",
       "18    Simulation      0.97      2.11      1.90         0.24           NaN   \n",
       "\n",
       "    user_score rating  total_sales  \n",
       "1          NaN     WR        14.60  \n",
       "42         NaN     WR         3.44  \n",
       "47         NaN     WR         3.28  \n",
       "3          NaN     WR        11.68  \n",
       "46         NaN     WR         3.32  \n",
       "65         NaN     WR         2.68  \n",
       "8          NaN     WR         7.55  \n",
       "74         NaN     WR         2.29  \n",
       "11         NaN     WR         7.14  \n",
       "18         NaN     WR         5.22  "
      ]
     },
     "execution_count": 76,
     "metadata": {},
     "output_type": "execute_result"
    }
   ],
   "source": [
    "df_cleared.query('rating == \"WR\" & jp_sales != 0').sort_values(by='jp_sales', ascending=False).head(10)"
   ]
  },
  {
   "cell_type": "markdown",
   "metadata": {},
   "source": [
    "В таблице имеется большое количество японских игр, но также имеются игры, которые выпускаются и в Северной америке, родине ESRB:"
   ]
  },
  {
   "cell_type": "code",
   "execution_count": 77,
   "metadata": {
    "scrolled": true
   },
   "outputs": [
    {
     "data": {
      "text/html": [
       "<div>\n",
       "<style scoped>\n",
       "    .dataframe tbody tr th:only-of-type {\n",
       "        vertical-align: middle;\n",
       "    }\n",
       "\n",
       "    .dataframe tbody tr th {\n",
       "        vertical-align: top;\n",
       "    }\n",
       "\n",
       "    .dataframe thead th {\n",
       "        text-align: right;\n",
       "    }\n",
       "</style>\n",
       "<table border=\"1\" class=\"dataframe\">\n",
       "  <thead>\n",
       "    <tr style=\"text-align: right;\">\n",
       "      <th></th>\n",
       "      <th>name</th>\n",
       "      <th>platform</th>\n",
       "      <th>year_of_release</th>\n",
       "      <th>genre</th>\n",
       "      <th>na_sales</th>\n",
       "      <th>eu_sales</th>\n",
       "      <th>jp_sales</th>\n",
       "      <th>other_sales</th>\n",
       "      <th>critic_score</th>\n",
       "      <th>user_score</th>\n",
       "      <th>rating</th>\n",
       "      <th>total_sales</th>\n",
       "    </tr>\n",
       "  </thead>\n",
       "  <tbody>\n",
       "    <tr>\n",
       "      <th>0</th>\n",
       "      <td>Call of Duty: Black Ops 3</td>\n",
       "      <td>PS4</td>\n",
       "      <td>2015</td>\n",
       "      <td>Shooter</td>\n",
       "      <td>6.03</td>\n",
       "      <td>5.86</td>\n",
       "      <td>0.36</td>\n",
       "      <td>2.38</td>\n",
       "      <td>NaN</td>\n",
       "      <td>NaN</td>\n",
       "      <td>WR</td>\n",
       "      <td>14.63</td>\n",
       "    </tr>\n",
       "    <tr>\n",
       "      <th>1</th>\n",
       "      <td>Pokemon X/Pokemon Y</td>\n",
       "      <td>3DS</td>\n",
       "      <td>2013</td>\n",
       "      <td>Role-Playing</td>\n",
       "      <td>5.28</td>\n",
       "      <td>4.19</td>\n",
       "      <td>4.35</td>\n",
       "      <td>0.78</td>\n",
       "      <td>NaN</td>\n",
       "      <td>NaN</td>\n",
       "      <td>WR</td>\n",
       "      <td>14.60</td>\n",
       "    </tr>\n",
       "    <tr>\n",
       "      <th>9</th>\n",
       "      <td>Call of Duty: Black Ops 3</td>\n",
       "      <td>XOne</td>\n",
       "      <td>2015</td>\n",
       "      <td>Shooter</td>\n",
       "      <td>4.59</td>\n",
       "      <td>2.11</td>\n",
       "      <td>0.01</td>\n",
       "      <td>0.68</td>\n",
       "      <td>NaN</td>\n",
       "      <td>NaN</td>\n",
       "      <td>WR</td>\n",
       "      <td>7.39</td>\n",
       "    </tr>\n",
       "    <tr>\n",
       "      <th>3</th>\n",
       "      <td>Pokemon Omega Ruby/Pokemon Alpha Sapphire</td>\n",
       "      <td>3DS</td>\n",
       "      <td>2014</td>\n",
       "      <td>Role-Playing</td>\n",
       "      <td>4.35</td>\n",
       "      <td>3.49</td>\n",
       "      <td>3.10</td>\n",
       "      <td>0.74</td>\n",
       "      <td>NaN</td>\n",
       "      <td>NaN</td>\n",
       "      <td>WR</td>\n",
       "      <td>11.68</td>\n",
       "    </tr>\n",
       "    <tr>\n",
       "      <th>8</th>\n",
       "      <td>Super Smash Bros. for Wii U and 3DS</td>\n",
       "      <td>3DS</td>\n",
       "      <td>2014</td>\n",
       "      <td>Fighting</td>\n",
       "      <td>3.27</td>\n",
       "      <td>1.37</td>\n",
       "      <td>2.43</td>\n",
       "      <td>0.48</td>\n",
       "      <td>NaN</td>\n",
       "      <td>NaN</td>\n",
       "      <td>WR</td>\n",
       "      <td>7.55</td>\n",
       "    </tr>\n",
       "    <tr>\n",
       "      <th>5</th>\n",
       "      <td>Star Wars Battlefront (2015)</td>\n",
       "      <td>PS4</td>\n",
       "      <td>2015</td>\n",
       "      <td>Shooter</td>\n",
       "      <td>2.99</td>\n",
       "      <td>3.49</td>\n",
       "      <td>0.22</td>\n",
       "      <td>1.28</td>\n",
       "      <td>NaN</td>\n",
       "      <td>NaN</td>\n",
       "      <td>WR</td>\n",
       "      <td>7.98</td>\n",
       "    </tr>\n",
       "    <tr>\n",
       "      <th>11</th>\n",
       "      <td>Pokemon Sun/Moon</td>\n",
       "      <td>3DS</td>\n",
       "      <td>2016</td>\n",
       "      <td>Role-Playing</td>\n",
       "      <td>2.98</td>\n",
       "      <td>1.45</td>\n",
       "      <td>2.26</td>\n",
       "      <td>0.45</td>\n",
       "      <td>NaN</td>\n",
       "      <td>NaN</td>\n",
       "      <td>WR</td>\n",
       "      <td>7.14</td>\n",
       "    </tr>\n",
       "    <tr>\n",
       "      <th>19</th>\n",
       "      <td>Super Smash Bros. for Wii U and 3DS</td>\n",
       "      <td>WiiU</td>\n",
       "      <td>2014</td>\n",
       "      <td>Fighting</td>\n",
       "      <td>2.60</td>\n",
       "      <td>1.08</td>\n",
       "      <td>0.81</td>\n",
       "      <td>0.38</td>\n",
       "      <td>NaN</td>\n",
       "      <td>NaN</td>\n",
       "      <td>WR</td>\n",
       "      <td>4.87</td>\n",
       "    </tr>\n",
       "    <tr>\n",
       "      <th>39</th>\n",
       "      <td>Star Wars Battlefront (2015)</td>\n",
       "      <td>XOne</td>\n",
       "      <td>2015</td>\n",
       "      <td>Shooter</td>\n",
       "      <td>2.04</td>\n",
       "      <td>1.28</td>\n",
       "      <td>0.02</td>\n",
       "      <td>0.32</td>\n",
       "      <td>NaN</td>\n",
       "      <td>NaN</td>\n",
       "      <td>WR</td>\n",
       "      <td>3.66</td>\n",
       "    </tr>\n",
       "    <tr>\n",
       "      <th>20</th>\n",
       "      <td>The Last of Us</td>\n",
       "      <td>PS4</td>\n",
       "      <td>2014</td>\n",
       "      <td>Action</td>\n",
       "      <td>1.88</td>\n",
       "      <td>2.00</td>\n",
       "      <td>0.07</td>\n",
       "      <td>0.77</td>\n",
       "      <td>NaN</td>\n",
       "      <td>NaN</td>\n",
       "      <td>WR</td>\n",
       "      <td>4.72</td>\n",
       "    </tr>\n",
       "  </tbody>\n",
       "</table>\n",
       "</div>"
      ],
      "text/plain": [
       "                                         name platform  year_of_release  \\\n",
       "0                   Call of Duty: Black Ops 3      PS4             2015   \n",
       "1                         Pokemon X/Pokemon Y      3DS             2013   \n",
       "9                   Call of Duty: Black Ops 3     XOne             2015   \n",
       "3   Pokemon Omega Ruby/Pokemon Alpha Sapphire      3DS             2014   \n",
       "8         Super Smash Bros. for Wii U and 3DS      3DS             2014   \n",
       "5                Star Wars Battlefront (2015)      PS4             2015   \n",
       "11                           Pokemon Sun/Moon      3DS             2016   \n",
       "19        Super Smash Bros. for Wii U and 3DS     WiiU             2014   \n",
       "39               Star Wars Battlefront (2015)     XOne             2015   \n",
       "20                             The Last of Us      PS4             2014   \n",
       "\n",
       "           genre  na_sales  eu_sales  jp_sales  other_sales  critic_score  \\\n",
       "0        Shooter      6.03      5.86      0.36         2.38           NaN   \n",
       "1   Role-Playing      5.28      4.19      4.35         0.78           NaN   \n",
       "9        Shooter      4.59      2.11      0.01         0.68           NaN   \n",
       "3   Role-Playing      4.35      3.49      3.10         0.74           NaN   \n",
       "8       Fighting      3.27      1.37      2.43         0.48           NaN   \n",
       "5        Shooter      2.99      3.49      0.22         1.28           NaN   \n",
       "11  Role-Playing      2.98      1.45      2.26         0.45           NaN   \n",
       "19      Fighting      2.60      1.08      0.81         0.38           NaN   \n",
       "39       Shooter      2.04      1.28      0.02         0.32           NaN   \n",
       "20        Action      1.88      2.00      0.07         0.77           NaN   \n",
       "\n",
       "    user_score rating  total_sales  \n",
       "0          NaN     WR        14.63  \n",
       "1          NaN     WR        14.60  \n",
       "9          NaN     WR         7.39  \n",
       "3          NaN     WR        11.68  \n",
       "8          NaN     WR         7.55  \n",
       "5          NaN     WR         7.98  \n",
       "11         NaN     WR         7.14  \n",
       "19         NaN     WR         4.87  \n",
       "39         NaN     WR         3.66  \n",
       "20         NaN     WR         4.72  "
      ]
     },
     "execution_count": 77,
     "metadata": {},
     "output_type": "execute_result"
    }
   ],
   "source": [
    "df_cleared.query('rating == \"WR\" & na_sales != 0').sort_values(by='na_sales', ascending=False).head(10)"
   ]
  },
  {
   "cell_type": "markdown",
   "metadata": {},
   "source": [
    "Call of Duty: Black Ops 3 имеет рейтинг \"M\", но в полученных данных значение было пропущено. Рассмотрим причины:"
   ]
  },
  {
   "cell_type": "code",
   "execution_count": 78,
   "metadata": {},
   "outputs": [
    {
     "data": {
      "text/plain": [
       "Action          177\n",
       "Role-Playing     81\n",
       "Misc             52\n",
       "Adventure        48\n",
       "Simulation       22\n",
       "Strategy         21\n",
       "Sports           18\n",
       "Shooter          17\n",
       "Fighting         16\n",
       "Racing           13\n",
       "Platform          6\n",
       "Puzzle            5\n",
       "Name: genre, dtype: int64"
      ]
     },
     "execution_count": 78,
     "metadata": {},
     "output_type": "execute_result"
    }
   ],
   "source": [
    "df_cleared.query('rating == \"WR\"')['genre'].value_counts()"
   ]
  },
  {
   "cell_type": "code",
   "execution_count": 79,
   "metadata": {},
   "outputs": [
    {
     "data": {
      "text/plain": [
       "3DS     199\n",
       "PS4     137\n",
       "XOne     61\n",
       "PC       49\n",
       "WiiU     30\n",
       "Name: platform, dtype: int64"
      ]
     },
     "execution_count": 79,
     "metadata": {},
     "output_type": "execute_result"
    }
   ],
   "source": [
    "df_cleared.query('rating == \"WR\"')['platform'].value_counts()"
   ]
  },
  {
   "cell_type": "markdown",
   "metadata": {},
   "source": [
    "Ролевые, экшн-игры и игры на платформе 3DS - предпочтения Японии, но в играх без рейтинга имеется имеется большое количества игр для PS4, несвойственные этому региону. В датасете нет точного ответа на найденное несоответствие, но посмотрев поверхностно на общую картину игр без рейтинга, предполагаем, что их объединяет то, что все эти игры - онлайн. Действительно, в <a href=\"https://ru.wikipedia.org/wiki/Entertainment_Software_Rating_Board#%D0%9E%D0%BD%D0%BB%D0%B0%D0%B9%D0%BD-%D1%80%D0%B5%D0%B9%D1%82%D0%B8%D0%BD%D0%B3\" target=\"_blank\">источнике</a> указано, что рейтинг не присуждается онлайн играм, так как содержимое изменяется пользователями, а не разработчиком. По этой причине столбики продаж игр без рейтинга имеют отличающийся от остальных характер и распределены по всем регионам равномерно."
   ]
  },
  {
   "cell_type": "markdown",
   "metadata": {},
   "source": [
    "<a id=\"p5\"></a>\n",
    "## Шаг 5. Проверка гипотез"
   ]
  },
  {
   "cell_type": "markdown",
   "metadata": {},
   "source": [
    "### Гипотеза о равенстве средних пользовательских рейтингов платформ Xbox One и PC"
   ]
  },
  {
   "cell_type": "markdown",
   "metadata": {},
   "source": [
    "Проверим гипотезу о равенстве средних пользовательских рейтингов платформ XOne и PC.\n",
    "\n",
    "Считаем, что выборки независимые, поэтому используем метод проверки гипотезы о равенстве средних двух генеральных совокупностей по взятым из них выборкам `scipy.stats.ttest_ind`."
   ]
  },
  {
   "cell_type": "markdown",
   "metadata": {},
   "source": [
    "- **Нулевая гипотеза:** средний пользовательский рейтинг на платформе XOne и на платформе PC одинаковый.\n",
    "- **Альтернативная гипотеза:** средний пользовательский рейтинг на платформах XOne и PC различается."
   ]
  },
  {
   "cell_type": "code",
   "execution_count": 80,
   "metadata": {},
   "outputs": [
    {
     "name": "stdout",
     "output_type": "stream",
     "text": [
      "Длина выборок: 182 и 155\n"
     ]
    }
   ],
   "source": [
    "sample_1_1 = df_cleared.query('platform == \"XOne\"')['user_score'].dropna()\n",
    "sample_1_2 = df_cleared.query('platform == \"PC\"')['user_score'].dropna()\n",
    "\n",
    "print('Длина выборок:', len(sample_1_1),'и', len(sample_1_2))"
   ]
  },
  {
   "cell_type": "markdown",
   "metadata": {},
   "source": [
    "В выборках имеется достаточное количество значений, поэтому нормальное распределение не является обязательным условием. \n",
    "\n",
    "Так как выборки разного размера, `equal_var=False`"
   ]
  },
  {
   "cell_type": "code",
   "execution_count": 81,
   "metadata": {},
   "outputs": [
    {
     "name": "stdout",
     "output_type": "stream",
     "text": [
      "p-значение: 0.14759702913383088\n",
      "Не получилось отвергнуть нулевую гипотезу\n"
     ]
    }
   ],
   "source": [
    "results = st.ttest_ind(sample_1_1, sample_1_2, equal_var=False)\n",
    "\n",
    "alpha = .01\n",
    "\n",
    "print('p-значение:', results.pvalue)\n",
    "\n",
    "if results.pvalue < alpha:\n",
    "    print(\"Отвергаем нулевую гипотезу\")\n",
    "else:\n",
    "    print(\"Не получилось отвергнуть нулевую гипотезу\")"
   ]
  },
  {
   "cell_type": "code",
   "execution_count": 82,
   "metadata": {},
   "outputs": [
    {
     "data": {
      "text/plain": [
       "<AxesSubplot:>"
      ]
     },
     "metadata": {},
     "output_type": "display_data"
    },
    {
     "data": {
      "text/plain": [
       "<AxesSubplot:>"
      ]
     },
     "metadata": {},
     "output_type": "display_data"
    },
    {
     "data": {
      "image/png": "[encoded data removed]",
      "text/plain": [
       "<Figure size 432x288 with 1 Axes>"
      ]
     },
     "metadata": {
      "needs_background": "light"
     },
     "output_type": "display_data"
    }
   ],
   "source": [
    "# Посмотрим на график распределения\n",
    "display(sample_1_1.hist(bins=5));\n",
    "display(sample_1_2.hist(bins=5, alpha=0.5));"
   ]
  },
  {
   "cell_type": "markdown",
   "metadata": {},
   "source": [
    "**Вывод:**\n",
    "\n",
    "Гипотезу о равенстве средних пользовательских рейтингов платформ Xbox One и PC отвергнуть не удалось: с вероятностью 14,76% мы получим предполагаемый результат, что является достаточным уровнем. Ранее мы выявляли, что пользователи действительно примерно одинаково оценивают игры на схожих платформах; судя по корреляциям, оценки могут значительно отличаться между жанрами."
   ]
  },
  {
   "cell_type": "markdown",
   "metadata": {},
   "source": [
    "### Гипотеза о равенстве средних пользовательских рейтингов жанров Action и Sports"
   ]
  },
  {
   "cell_type": "markdown",
   "metadata": {},
   "source": [
    "Коэффициенты корреляции оценок-продаж различных жанров значительно различались. Проверим, действительно ли пользователи по-разному оценивают различные жанры игр?"
   ]
  },
  {
   "cell_type": "markdown",
   "metadata": {},
   "source": [
    "- **Нулевая гипотеза:** средний пользовательский рейтинг жанров Action и Sports одинаковый.\n",
    "- **Альтернативная гипотеза:** средний пользовательский рейтинг жанров Action и Sports различается."
   ]
  },
  {
   "cell_type": "code",
   "execution_count": 83,
   "metadata": {},
   "outputs": [
    {
     "name": "stdout",
     "output_type": "stream",
     "text": [
      "Длина выборок: 254 и 96\n"
     ]
    }
   ],
   "source": [
    "sample_2_1 = df_cleared.query('genre == \"Action\"')['user_score'].dropna()\n",
    "sample_2_2 = df_cleared.query('genre == \"Sports\"')['user_score'].dropna()\n",
    "\n",
    "print('Длина выборок:', len(sample_2_1),'и', len(sample_2_2))"
   ]
  },
  {
   "cell_type": "markdown",
   "metadata": {},
   "source": [
    "В выборках достаточно значений для проведения анализа. Считаем выборки независимыми, используем метод проверки гипотезы о равенстве средних двух генеральных совокупностей по взятым из них выборкам, `scipy.stats.ttest_ind`.\n",
    "\n",
    "Выборки сильно различаются по размеру, `equal_var=False`."
   ]
  },
  {
   "cell_type": "code",
   "execution_count": 84,
   "metadata": {},
   "outputs": [
    {
     "name": "stdout",
     "output_type": "stream",
     "text": [
      "p-значение: 6.954450246051381e-11\n",
      "Отвергаем нулевую гипотезу\n"
     ]
    }
   ],
   "source": [
    "results = st.ttest_ind(sample_2_1, sample_2_2, equal_var=False)\n",
    "\n",
    "alpha = .01\n",
    "\n",
    "print('p-значение:', results.pvalue)\n",
    "\n",
    "if results.pvalue < alpha:\n",
    "    print(\"Отвергаем нулевую гипотезу\")\n",
    "else:\n",
    "    print(\"Не получилось отвергнуть нулевую гипотезу\")"
   ]
  },
  {
   "cell_type": "code",
   "execution_count": 85,
   "metadata": {},
   "outputs": [
    {
     "data": {
      "text/plain": [
       "<AxesSubplot:>"
      ]
     },
     "metadata": {},
     "output_type": "display_data"
    },
    {
     "data": {
      "text/plain": [
       "<AxesSubplot:>"
      ]
     },
     "metadata": {},
     "output_type": "display_data"
    },
    {
     "data": {
      "image/png": "[encoded data removed]",
      "text/plain": [
       "<Figure size 432x288 with 1 Axes>"
      ]
     },
     "metadata": {
      "needs_background": "light"
     },
     "output_type": "display_data"
    }
   ],
   "source": [
    "#Посмотрим на графики для наглядности\n",
    "display(sample_2_1.hist(bins=5));\n",
    "display(sample_2_2.hist(bins=5, alpha=0.5));"
   ]
  },
  {
   "cell_type": "markdown",
   "metadata": {},
   "source": [
    "**Промежуточный вывод:**\n",
    "\n",
    "Гипотеза о равенстве не подтвердилась, принимаем альтернативную гипотезу, из чего следует, что наше предположение о различной оценке пользователями игр разных жанров верно."
   ]
  },
  {
   "cell_type": "markdown",
   "metadata": {},
   "source": [
    "В пункте 4.2 мы выяснили, что игры жанра Action популярны во всех регионах, а спортивные игры - в Европе и Северной Америке. Возможно, статистика из Японии нарушает общий результат. Повторим проверку гипотезы, исключив игры, оцениваемые в Японии, из исследования."
   ]
  },
  {
   "cell_type": "code",
   "execution_count": 86,
   "metadata": {},
   "outputs": [
    {
     "name": "stdout",
     "output_type": "stream",
     "text": [
      "Длина выборок: 64 и 17\n"
     ]
    }
   ],
   "source": [
    "#Также удалим все остальные продажи, так как в них могут быть включены азиатские продажи, схожие с японскими.\n",
    "#Без исключения other_sales результат мало отличается от первой проверки гипотезы\n",
    "sample_3_1 = df_cleared.query('genre == \"Action\" & jp_sales == 0 & other_sales == 0')['user_score'].dropna()\n",
    "sample_3_2 = df_cleared.query('genre == \"Sports\" & jp_sales == 0 & other_sales == 0')['user_score'].dropna()\n",
    "\n",
    "print('Длина выборок:', len(sample_3_1),'и', len(sample_3_2))"
   ]
  },
  {
   "cell_type": "markdown",
   "metadata": {},
   "source": [
    "**В анализе принимают участие игры исключительно американского и европейского рынка.**\n",
    "- **Нулевая гипотеза:** средний пользовательский рейтинг жанров Action и Sports одинаковый.\n",
    "- **Альтернативная гипотеза:** средний пользовательский рейтинг жанров Action и Sports различается."
   ]
  },
  {
   "cell_type": "code",
   "execution_count": 87,
   "metadata": {},
   "outputs": [
    {
     "name": "stdout",
     "output_type": "stream",
     "text": [
      "p-значение: 0.0024997440269158423\n",
      "Отвергаем нулевую гипотезу\n"
     ]
    }
   ],
   "source": [
    "results = st.ttest_ind(sample_3_1, sample_3_2, equal_var=False)\n",
    "\n",
    "alpha = .01\n",
    "\n",
    "print('p-значение:', results.pvalue)\n",
    "\n",
    "if results.pvalue < alpha:\n",
    "    print(\"Отвергаем нулевую гипотезу\")\n",
    "else:\n",
    "    print(\"Не получилось отвергнуть нулевую гипотезу\")"
   ]
  },
  {
   "cell_type": "markdown",
   "metadata": {},
   "source": [
    "**Вывод:**\n",
    "\n",
    "Гипотезу о равенстве средних пользовательских рейтингов жанров Action и Sports отвергаем, принимаем альтернативную гипотезу. Игроки по-разному оценивают игры различных жанров, независимо от их предпочтений в различных регионах."
   ]
  },
  {
   "cell_type": "markdown",
   "metadata": {},
   "source": [
    "<a id=\"p6\"></a>\n",
    "## Вывод"
   ]
  },
  {
   "cell_type": "markdown",
   "metadata": {},
   "source": [
    "**В ходе исследования была проведена следующая работа:**\n",
    "1. Изучены различные периоды времени и изменение количества игр в разные годы;\n",
    "2. Проанализированы изменения популярности различных игровых платформ по времени, выведен средний срок жизни платформы;\n",
    "3. Очищены данные за актуальную фазу развития игр;\n",
    "4. Выбраны потенциально прибыльные платформы, изучены глобальные продажи игр потенциально прибыльных платформ;\n",
    "5. Изучены зависимости продаж от оценок пользователей и оценок критиков;\n",
    "6. Изучено общее распределение игр по жанрам, выявлены прибыльные жанры;\n",
    "7. Составлен портрет пользователя каждого региона:\n",
    "    - Изучены различия в продажах игр для разных платформ;\n",
    "    - Выявлены наиболее популярные жанры в каждом регионе;\n",
    "    - Проанализировано влияние рейтинга ESRB на продажи в разных регионах.\n",
    "8. Проверена гипотеза о равенстве средних рейтингах пользователей игр на платформах Xbox One и PC;\n",
    "9. Проверена гипотеза о различных средних пользовательских рейтингах игр жанров экшн и спортивных игр.\n",
    "\n",
    "**Результаты исследования:**\n",
    "\n",
    "Для планирования кампании на 2017 год необходимо учесть следующие закономерности:\n",
    "1. В 2017 году будут наиболее популярны игры на платформах PlayStation 4 и Xbox One. Необходимо также уделить внимание играм на платформе WiiU, в частности на американском рынке, и играм на платформе Nintendo 3DS, особенно в Японии. Игры для персональных компьютеров считаем наиболее стабильными, поэтому они должны быть включены в план продаж, но в меньших объёмах.\n",
    "2. В Северной Америке и Европе наибольшей популярностью будут пользоваться игры жанров Action и Shooter.\n",
    "3. Пользователи готовы покупать игры популярных жанров даже при низких оценках других игроков. Пользовательские рейтинги случайны и не зависят от платформы.\n",
    "3. В Северной Америке и Европе стоит особое внимание уделить играм с рейтингом M и E.\n",
    "4. Игры без рейтинга - онлайн игры, пользуются популярностью во всём мире. Необходимо сфокусироваться на играх с многопользовательским режимом на платформе PS4.\n",
    "5. Спортивные игры также популярны в Америке и Европе. Такие игры имеют небольшой ассортимент, но они продаются в большом объёме.\n",
    "6. В Японии лучшие продажи у ролевых игр с рейтингом E, но также популярны и экшн-игры с рейтингом M, хоть и в меньшей степени."
   ]
  }
 ],
 "metadata": {
  "ExecuteTimeLog": [
   {
    "duration": 414,
    "start_time": "2022-05-04T10:44:04.666Z"
   },
   {
    "duration": 59,
    "start_time": "2022-05-04T10:44:34.393Z"
   },
   {
    "duration": 13,
    "start_time": "2022-05-04T10:45:55.415Z"
   },
   {
    "duration": 26,
    "start_time": "2022-05-04T10:46:19.419Z"
   },
   {
    "duration": 57,
    "start_time": "2022-05-04T10:47:16.689Z"
   },
   {
    "duration": 15,
    "start_time": "2022-05-04T10:47:24.884Z"
   },
   {
    "duration": 60,
    "start_time": "2022-05-04T11:58:43.319Z"
   },
   {
    "duration": 11,
    "start_time": "2022-05-04T12:15:13.770Z"
   },
   {
    "duration": 19,
    "start_time": "2022-05-04T12:16:28.266Z"
   },
   {
    "duration": 17,
    "start_time": "2022-05-04T12:16:43.217Z"
   },
   {
    "duration": 53,
    "start_time": "2022-05-04T12:16:58.355Z"
   },
   {
    "duration": 27,
    "start_time": "2022-05-04T12:17:29.221Z"
   },
   {
    "duration": 24,
    "start_time": "2022-05-04T12:19:04.724Z"
   },
   {
    "duration": 8,
    "start_time": "2022-05-04T12:27:30.003Z"
   },
   {
    "duration": 23,
    "start_time": "2022-05-04T12:27:36.736Z"
   },
   {
    "duration": 6,
    "start_time": "2022-05-04T12:27:40.678Z"
   },
   {
    "duration": 7,
    "start_time": "2022-05-04T12:27:48.771Z"
   },
   {
    "duration": 4,
    "start_time": "2022-05-04T12:27:56.290Z"
   },
   {
    "duration": 418,
    "start_time": "2022-05-05T05:03:02.041Z"
   },
   {
    "duration": 323,
    "start_time": "2022-05-05T05:03:02.461Z"
   },
   {
    "duration": 16,
    "start_time": "2022-05-05T05:03:02.785Z"
   },
   {
    "duration": 40,
    "start_time": "2022-05-05T05:03:02.803Z"
   },
   {
    "duration": 18,
    "start_time": "2022-05-05T05:03:02.845Z"
   },
   {
    "duration": 14,
    "start_time": "2022-05-05T05:03:02.865Z"
   },
   {
    "duration": 12,
    "start_time": "2022-05-05T05:03:02.881Z"
   },
   {
    "duration": 82,
    "start_time": "2022-05-05T05:03:02.895Z"
   },
   {
    "duration": 3,
    "start_time": "2022-05-05T05:03:02.979Z"
   },
   {
    "duration": 10,
    "start_time": "2022-05-05T05:03:02.984Z"
   },
   {
    "duration": 9,
    "start_time": "2022-05-05T05:03:11.128Z"
   },
   {
    "duration": 12,
    "start_time": "2022-05-05T05:03:31.315Z"
   },
   {
    "duration": 10,
    "start_time": "2022-05-05T05:03:47.635Z"
   },
   {
    "duration": 25,
    "start_time": "2022-05-05T05:04:04.032Z"
   },
   {
    "duration": 24,
    "start_time": "2022-05-05T05:04:44.450Z"
   },
   {
    "duration": 13,
    "start_time": "2022-05-05T05:05:53.153Z"
   },
   {
    "duration": 13,
    "start_time": "2022-05-05T05:08:27.406Z"
   },
   {
    "duration": 13,
    "start_time": "2022-05-05T05:08:57.250Z"
   },
   {
    "duration": 72,
    "start_time": "2022-05-05T06:05:11.918Z"
   },
   {
    "duration": 96,
    "start_time": "2022-05-05T10:07:03.544Z"
   },
   {
    "duration": 679,
    "start_time": "2022-05-05T10:07:18.528Z"
   },
   {
    "duration": 100,
    "start_time": "2022-05-05T10:07:19.209Z"
   },
   {
    "duration": 28,
    "start_time": "2022-05-05T10:07:19.312Z"
   },
   {
    "duration": 55,
    "start_time": "2022-05-05T10:07:19.353Z"
   },
   {
    "duration": 55,
    "start_time": "2022-05-05T10:07:19.413Z"
   },
   {
    "duration": 29,
    "start_time": "2022-05-05T10:07:19.471Z"
   },
   {
    "duration": 18,
    "start_time": "2022-05-05T10:07:19.503Z"
   },
   {
    "duration": 104,
    "start_time": "2022-05-05T10:07:19.524Z"
   },
   {
    "duration": 6,
    "start_time": "2022-05-05T10:07:19.632Z"
   },
   {
    "duration": 36,
    "start_time": "2022-05-05T10:07:19.641Z"
   },
   {
    "duration": 31,
    "start_time": "2022-05-05T10:07:19.683Z"
   },
   {
    "duration": 18,
    "start_time": "2022-05-05T10:07:19.717Z"
   },
   {
    "duration": 29,
    "start_time": "2022-05-05T10:07:19.754Z"
   },
   {
    "duration": 9,
    "start_time": "2022-05-05T10:07:38.470Z"
   },
   {
    "duration": 7,
    "start_time": "2022-05-05T10:08:19.553Z"
   },
   {
    "duration": 8,
    "start_time": "2022-05-05T10:08:20.323Z"
   },
   {
    "duration": 6,
    "start_time": "2022-05-05T10:08:35.478Z"
   },
   {
    "duration": 7,
    "start_time": "2022-05-05T10:08:36.486Z"
   },
   {
    "duration": 6,
    "start_time": "2022-05-05T10:09:20.273Z"
   },
   {
    "duration": 11,
    "start_time": "2022-05-05T10:09:20.731Z"
   },
   {
    "duration": 5,
    "start_time": "2022-05-05T10:09:37.326Z"
   },
   {
    "duration": 9,
    "start_time": "2022-05-05T10:09:37.786Z"
   },
   {
    "duration": 9,
    "start_time": "2022-05-05T10:09:48.343Z"
   },
   {
    "duration": 8,
    "start_time": "2022-05-05T10:09:55.987Z"
   },
   {
    "duration": 8,
    "start_time": "2022-05-05T10:11:25.608Z"
   },
   {
    "duration": 13,
    "start_time": "2022-05-05T10:12:05.765Z"
   },
   {
    "duration": 11,
    "start_time": "2022-05-05T10:12:35.840Z"
   },
   {
    "duration": 10,
    "start_time": "2022-05-05T10:12:45.156Z"
   },
   {
    "duration": 8,
    "start_time": "2022-05-05T10:17:13.244Z"
   },
   {
    "duration": 108,
    "start_time": "2022-05-05T10:21:11.996Z"
   },
   {
    "duration": 9,
    "start_time": "2022-05-05T10:22:57.772Z"
   },
   {
    "duration": 24,
    "start_time": "2022-05-05T10:23:30.298Z"
   },
   {
    "duration": 9,
    "start_time": "2022-05-05T10:23:41.079Z"
   },
   {
    "duration": 15,
    "start_time": "2022-05-05T11:19:31.226Z"
   },
   {
    "duration": 61,
    "start_time": "2022-05-05T11:29:29.442Z"
   },
   {
    "duration": 15,
    "start_time": "2022-05-05T11:56:23.523Z"
   },
   {
    "duration": 48,
    "start_time": "2022-05-05T11:56:32.177Z"
   },
   {
    "duration": 37,
    "start_time": "2022-05-05T11:56:55.881Z"
   },
   {
    "duration": 45,
    "start_time": "2022-05-05T11:57:36.044Z"
   },
   {
    "duration": 595,
    "start_time": "2022-05-05T12:08:07.113Z"
   },
   {
    "duration": 96,
    "start_time": "2022-05-05T12:08:07.711Z"
   },
   {
    "duration": 22,
    "start_time": "2022-05-05T12:08:07.809Z"
   },
   {
    "duration": 70,
    "start_time": "2022-05-05T12:08:07.834Z"
   },
   {
    "duration": 23,
    "start_time": "2022-05-05T12:08:07.909Z"
   },
   {
    "duration": 51,
    "start_time": "2022-05-05T12:08:07.934Z"
   },
   {
    "duration": 33,
    "start_time": "2022-05-05T12:08:07.988Z"
   },
   {
    "duration": 65,
    "start_time": "2022-05-05T12:08:08.024Z"
   },
   {
    "duration": 11,
    "start_time": "2022-05-05T12:08:08.091Z"
   },
   {
    "duration": 18,
    "start_time": "2022-05-05T12:08:08.105Z"
   },
   {
    "duration": 22,
    "start_time": "2022-05-05T12:08:08.125Z"
   },
   {
    "duration": 81,
    "start_time": "2022-05-05T12:08:08.160Z"
   },
   {
    "duration": 26,
    "start_time": "2022-05-05T12:08:08.245Z"
   },
   {
    "duration": 51,
    "start_time": "2022-05-05T12:08:08.277Z"
   },
   {
    "duration": 9,
    "start_time": "2022-05-05T12:08:08.331Z"
   },
   {
    "duration": 10,
    "start_time": "2022-05-05T12:08:08.354Z"
   },
   {
    "duration": 526,
    "start_time": "2022-05-06T05:15:53.415Z"
   },
   {
    "duration": 81,
    "start_time": "2022-05-06T05:15:53.945Z"
   },
   {
    "duration": 32,
    "start_time": "2022-05-06T05:15:54.028Z"
   },
   {
    "duration": 37,
    "start_time": "2022-05-06T05:15:54.063Z"
   },
   {
    "duration": 48,
    "start_time": "2022-05-06T05:15:54.103Z"
   },
   {
    "duration": 18,
    "start_time": "2022-05-06T05:15:54.154Z"
   },
   {
    "duration": 15,
    "start_time": "2022-05-06T05:15:54.174Z"
   },
   {
    "duration": 85,
    "start_time": "2022-05-06T05:15:54.191Z"
   },
   {
    "duration": 6,
    "start_time": "2022-05-06T05:15:54.278Z"
   },
   {
    "duration": 12,
    "start_time": "2022-05-06T05:15:54.286Z"
   },
   {
    "duration": 14,
    "start_time": "2022-05-06T05:15:54.300Z"
   },
   {
    "duration": 49,
    "start_time": "2022-05-06T05:15:54.317Z"
   },
   {
    "duration": 17,
    "start_time": "2022-05-06T05:15:54.368Z"
   },
   {
    "duration": 16,
    "start_time": "2022-05-06T05:15:54.388Z"
   },
   {
    "duration": 8,
    "start_time": "2022-05-06T05:15:54.407Z"
   },
   {
    "duration": 40,
    "start_time": "2022-05-06T05:15:54.417Z"
   },
   {
    "duration": 107,
    "start_time": "2022-05-06T07:17:41.112Z"
   },
   {
    "duration": 13,
    "start_time": "2022-05-06T07:18:17.932Z"
   },
   {
    "duration": 10,
    "start_time": "2022-05-06T07:18:40.583Z"
   },
   {
    "duration": 8,
    "start_time": "2022-05-06T07:18:47.769Z"
   },
   {
    "duration": 581,
    "start_time": "2022-05-06T07:19:17.403Z"
   },
   {
    "duration": 548,
    "start_time": "2022-05-06T07:19:57.791Z"
   },
   {
    "duration": 14,
    "start_time": "2022-05-06T07:20:48.291Z"
   },
   {
    "duration": 1477,
    "start_time": "2022-05-06T07:21:01.766Z"
   },
   {
    "duration": 536,
    "start_time": "2022-05-06T07:22:01.609Z"
   },
   {
    "duration": 83,
    "start_time": "2022-05-06T07:22:02.148Z"
   },
   {
    "duration": 32,
    "start_time": "2022-05-06T07:22:02.233Z"
   },
   {
    "duration": 41,
    "start_time": "2022-05-06T07:22:02.268Z"
   },
   {
    "duration": 54,
    "start_time": "2022-05-06T07:22:02.314Z"
   },
   {
    "duration": 21,
    "start_time": "2022-05-06T07:22:02.370Z"
   },
   {
    "duration": 20,
    "start_time": "2022-05-06T07:22:02.393Z"
   },
   {
    "duration": 84,
    "start_time": "2022-05-06T07:22:02.416Z"
   },
   {
    "duration": 5,
    "start_time": "2022-05-06T07:22:02.502Z"
   },
   {
    "duration": 16,
    "start_time": "2022-05-06T07:22:02.509Z"
   },
   {
    "duration": 32,
    "start_time": "2022-05-06T07:22:02.527Z"
   },
   {
    "duration": 28,
    "start_time": "2022-05-06T07:22:02.562Z"
   },
   {
    "duration": 19,
    "start_time": "2022-05-06T07:22:02.592Z"
   },
   {
    "duration": 41,
    "start_time": "2022-05-06T07:22:02.614Z"
   },
   {
    "duration": 9,
    "start_time": "2022-05-06T07:22:02.657Z"
   },
   {
    "duration": 8,
    "start_time": "2022-05-06T07:22:02.669Z"
   },
   {
    "duration": 135,
    "start_time": "2022-05-06T07:44:57.866Z"
   },
   {
    "duration": 446,
    "start_time": "2022-05-07T09:37:05.790Z"
   },
   {
    "duration": 516,
    "start_time": "2022-05-07T09:37:17.429Z"
   },
   {
    "duration": 80,
    "start_time": "2022-05-07T09:37:17.948Z"
   },
   {
    "duration": 34,
    "start_time": "2022-05-07T09:37:18.030Z"
   },
   {
    "duration": 38,
    "start_time": "2022-05-07T09:37:18.067Z"
   },
   {
    "duration": 56,
    "start_time": "2022-05-07T09:37:18.107Z"
   },
   {
    "duration": 17,
    "start_time": "2022-05-07T09:37:18.166Z"
   },
   {
    "duration": 16,
    "start_time": "2022-05-07T09:37:18.185Z"
   },
   {
    "duration": 90,
    "start_time": "2022-05-07T09:37:18.203Z"
   },
   {
    "duration": 6,
    "start_time": "2022-05-07T09:37:18.295Z"
   },
   {
    "duration": 15,
    "start_time": "2022-05-07T09:37:18.305Z"
   },
   {
    "duration": 22,
    "start_time": "2022-05-07T09:37:18.352Z"
   },
   {
    "duration": 30,
    "start_time": "2022-05-07T09:37:18.377Z"
   },
   {
    "duration": 20,
    "start_time": "2022-05-07T09:37:18.453Z"
   },
   {
    "duration": 19,
    "start_time": "2022-05-07T09:37:18.476Z"
   },
   {
    "duration": 643,
    "start_time": "2022-05-07T09:37:18.497Z"
   },
   {
    "duration": 0,
    "start_time": "2022-05-07T09:37:19.143Z"
   },
   {
    "duration": 0,
    "start_time": "2022-05-07T09:37:19.145Z"
   },
   {
    "duration": 5,
    "start_time": "2022-05-07T09:37:29.680Z"
   },
   {
    "duration": 7,
    "start_time": "2022-05-07T09:37:36.295Z"
   },
   {
    "duration": 1876,
    "start_time": "2022-05-07T09:38:20.720Z"
   },
   {
    "duration": 8,
    "start_time": "2022-05-07T09:38:30.425Z"
   },
   {
    "duration": 26,
    "start_time": "2022-05-07T09:39:03.080Z"
   },
   {
    "duration": 6,
    "start_time": "2022-05-07T09:41:07.475Z"
   },
   {
    "duration": 9,
    "start_time": "2022-05-07T09:41:15.002Z"
   },
   {
    "duration": 13,
    "start_time": "2022-05-07T09:41:44.834Z"
   },
   {
    "duration": 47,
    "start_time": "2022-05-07T09:41:51.882Z"
   },
   {
    "duration": 6,
    "start_time": "2022-05-07T09:42:21.501Z"
   },
   {
    "duration": 8,
    "start_time": "2022-05-07T09:42:26.611Z"
   },
   {
    "duration": 11,
    "start_time": "2022-05-07T09:53:28.498Z"
   },
   {
    "duration": 18,
    "start_time": "2022-05-07T09:54:49.571Z"
   },
   {
    "duration": 10,
    "start_time": "2022-05-07T09:55:13.940Z"
   },
   {
    "duration": 6,
    "start_time": "2022-05-07T09:55:23.195Z"
   },
   {
    "duration": 10,
    "start_time": "2022-05-07T09:55:26.235Z"
   },
   {
    "duration": 7,
    "start_time": "2022-05-07T09:55:29.317Z"
   },
   {
    "duration": 9,
    "start_time": "2022-05-07T09:57:56.845Z"
   },
   {
    "duration": 1845,
    "start_time": "2022-05-07T09:58:38.014Z"
   },
   {
    "duration": 16,
    "start_time": "2022-05-07T10:33:30.582Z"
   },
   {
    "duration": 45,
    "start_time": "2022-05-07T10:33:41.171Z"
   },
   {
    "duration": 40,
    "start_time": "2022-05-07T10:33:46.701Z"
   },
   {
    "duration": 44,
    "start_time": "2022-05-07T10:33:56.247Z"
   },
   {
    "duration": 15,
    "start_time": "2022-05-07T10:34:06.557Z"
   },
   {
    "duration": 14,
    "start_time": "2022-05-07T10:34:11.918Z"
   },
   {
    "duration": 14,
    "start_time": "2022-05-07T10:34:15.444Z"
   },
   {
    "duration": 16,
    "start_time": "2022-05-07T10:34:19.380Z"
   },
   {
    "duration": 15,
    "start_time": "2022-05-07T10:34:22.853Z"
   },
   {
    "duration": 40,
    "start_time": "2022-05-07T10:34:44.669Z"
   },
   {
    "duration": 12,
    "start_time": "2022-05-07T10:35:07.694Z"
   },
   {
    "duration": 10,
    "start_time": "2022-05-07T10:37:08.110Z"
   },
   {
    "duration": 7,
    "start_time": "2022-05-07T10:37:30.600Z"
   },
   {
    "duration": 24,
    "start_time": "2022-05-07T10:37:46.006Z"
   },
   {
    "duration": 556,
    "start_time": "2022-05-10T09:12:09.823Z"
   },
   {
    "duration": 87,
    "start_time": "2022-05-10T09:12:10.382Z"
   },
   {
    "duration": 17,
    "start_time": "2022-05-10T09:12:10.471Z"
   },
   {
    "duration": 59,
    "start_time": "2022-05-10T09:12:10.491Z"
   },
   {
    "duration": 20,
    "start_time": "2022-05-10T09:12:10.552Z"
   },
   {
    "duration": 15,
    "start_time": "2022-05-10T09:12:10.574Z"
   },
   {
    "duration": 35,
    "start_time": "2022-05-10T09:12:10.591Z"
   },
   {
    "duration": 63,
    "start_time": "2022-05-10T09:12:10.628Z"
   },
   {
    "duration": 4,
    "start_time": "2022-05-10T09:12:10.693Z"
   },
   {
    "duration": 10,
    "start_time": "2022-05-10T09:12:10.700Z"
   },
   {
    "duration": 34,
    "start_time": "2022-05-10T09:12:10.711Z"
   },
   {
    "duration": 23,
    "start_time": "2022-05-10T09:12:10.747Z"
   },
   {
    "duration": 18,
    "start_time": "2022-05-10T09:12:10.772Z"
   },
   {
    "duration": 67,
    "start_time": "2022-05-10T09:12:10.793Z"
   },
   {
    "duration": 7,
    "start_time": "2022-05-10T09:12:10.862Z"
   },
   {
    "duration": 27,
    "start_time": "2022-05-10T09:12:10.871Z"
   },
   {
    "duration": 10,
    "start_time": "2022-05-10T09:12:10.900Z"
   },
   {
    "duration": 18,
    "start_time": "2022-05-10T09:12:10.912Z"
   },
   {
    "duration": 6,
    "start_time": "2022-05-10T09:12:10.940Z"
   },
   {
    "duration": 10,
    "start_time": "2022-05-10T09:12:10.948Z"
   },
   {
    "duration": 8,
    "start_time": "2022-05-10T09:12:10.960Z"
   },
   {
    "duration": 23,
    "start_time": "2022-05-10T09:15:40.768Z"
   },
   {
    "duration": 464,
    "start_time": "2022-05-10T09:23:46.920Z"
   },
   {
    "duration": 94,
    "start_time": "2022-05-10T09:23:47.387Z"
   },
   {
    "duration": 23,
    "start_time": "2022-05-10T09:23:47.484Z"
   },
   {
    "duration": 44,
    "start_time": "2022-05-10T09:23:47.510Z"
   },
   {
    "duration": 28,
    "start_time": "2022-05-10T09:23:47.556Z"
   },
   {
    "duration": 22,
    "start_time": "2022-05-10T09:23:47.586Z"
   },
   {
    "duration": 20,
    "start_time": "2022-05-10T09:23:47.610Z"
   },
   {
    "duration": 55,
    "start_time": "2022-05-10T09:23:47.632Z"
   },
   {
    "duration": 5,
    "start_time": "2022-05-10T09:23:47.688Z"
   },
   {
    "duration": 13,
    "start_time": "2022-05-10T09:23:47.696Z"
   },
   {
    "duration": 24,
    "start_time": "2022-05-10T09:23:47.712Z"
   },
   {
    "duration": 25,
    "start_time": "2022-05-10T09:23:47.739Z"
   },
   {
    "duration": 15,
    "start_time": "2022-05-10T09:23:47.766Z"
   },
   {
    "duration": 14,
    "start_time": "2022-05-10T09:23:47.783Z"
   },
   {
    "duration": 6,
    "start_time": "2022-05-10T09:23:47.798Z"
   },
   {
    "duration": 28,
    "start_time": "2022-05-10T09:23:47.806Z"
   },
   {
    "duration": 9,
    "start_time": "2022-05-10T09:23:47.836Z"
   },
   {
    "duration": 8,
    "start_time": "2022-05-10T09:23:47.847Z"
   },
   {
    "duration": 10,
    "start_time": "2022-05-10T09:23:47.857Z"
   },
   {
    "duration": 8,
    "start_time": "2022-05-10T09:23:47.869Z"
   },
   {
    "duration": 17,
    "start_time": "2022-05-10T09:23:47.879Z"
   },
   {
    "duration": 13,
    "start_time": "2022-05-10T09:23:47.898Z"
   },
   {
    "duration": 8,
    "start_time": "2022-05-10T09:24:23.272Z"
   },
   {
    "duration": 4,
    "start_time": "2022-05-10T09:24:26.728Z"
   },
   {
    "duration": 9,
    "start_time": "2022-05-10T09:24:35.456Z"
   },
   {
    "duration": 7,
    "start_time": "2022-05-10T09:24:42.705Z"
   },
   {
    "duration": 81,
    "start_time": "2022-05-10T09:24:48.361Z"
   },
   {
    "duration": 7,
    "start_time": "2022-05-10T09:24:54.240Z"
   },
   {
    "duration": 9,
    "start_time": "2022-05-10T09:25:03.698Z"
   },
   {
    "duration": 518,
    "start_time": "2022-05-10T09:25:11.537Z"
   },
   {
    "duration": 96,
    "start_time": "2022-05-10T09:25:12.058Z"
   },
   {
    "duration": 17,
    "start_time": "2022-05-10T09:25:12.157Z"
   },
   {
    "duration": 31,
    "start_time": "2022-05-10T09:25:12.177Z"
   },
   {
    "duration": 35,
    "start_time": "2022-05-10T09:25:12.210Z"
   },
   {
    "duration": 16,
    "start_time": "2022-05-10T09:25:12.247Z"
   },
   {
    "duration": 14,
    "start_time": "2022-05-10T09:25:12.265Z"
   },
   {
    "duration": 94,
    "start_time": "2022-05-10T09:25:12.281Z"
   },
   {
    "duration": 4,
    "start_time": "2022-05-10T09:25:12.378Z"
   },
   {
    "duration": 11,
    "start_time": "2022-05-10T09:25:12.385Z"
   },
   {
    "duration": 28,
    "start_time": "2022-05-10T09:25:12.399Z"
   },
   {
    "duration": 30,
    "start_time": "2022-05-10T09:25:12.429Z"
   },
   {
    "duration": 15,
    "start_time": "2022-05-10T09:25:12.461Z"
   },
   {
    "duration": 40,
    "start_time": "2022-05-10T09:25:12.479Z"
   },
   {
    "duration": 10,
    "start_time": "2022-05-10T09:25:12.522Z"
   },
   {
    "duration": 27,
    "start_time": "2022-05-10T09:25:12.536Z"
   },
   {
    "duration": 16,
    "start_time": "2022-05-10T09:25:12.566Z"
   },
   {
    "duration": 25,
    "start_time": "2022-05-10T09:25:12.584Z"
   },
   {
    "duration": 19,
    "start_time": "2022-05-10T09:25:12.612Z"
   },
   {
    "duration": 33,
    "start_time": "2022-05-10T09:25:12.633Z"
   },
   {
    "duration": 26,
    "start_time": "2022-05-10T09:25:12.668Z"
   },
   {
    "duration": 423,
    "start_time": "2022-05-10T09:25:26.637Z"
   },
   {
    "duration": 66,
    "start_time": "2022-05-10T09:25:27.062Z"
   },
   {
    "duration": 18,
    "start_time": "2022-05-10T09:25:27.130Z"
   },
   {
    "duration": 30,
    "start_time": "2022-05-10T09:25:27.150Z"
   },
   {
    "duration": 48,
    "start_time": "2022-05-10T09:25:27.181Z"
   },
   {
    "duration": 32,
    "start_time": "2022-05-10T09:25:27.231Z"
   },
   {
    "duration": 18,
    "start_time": "2022-05-10T09:25:27.265Z"
   },
   {
    "duration": 90,
    "start_time": "2022-05-10T09:25:27.285Z"
   },
   {
    "duration": 4,
    "start_time": "2022-05-10T09:25:27.377Z"
   },
   {
    "duration": 9,
    "start_time": "2022-05-10T09:25:27.383Z"
   },
   {
    "duration": 12,
    "start_time": "2022-05-10T09:25:27.394Z"
   },
   {
    "duration": 27,
    "start_time": "2022-05-10T09:25:27.408Z"
   },
   {
    "duration": 16,
    "start_time": "2022-05-10T09:25:27.437Z"
   },
   {
    "duration": 13,
    "start_time": "2022-05-10T09:25:27.455Z"
   },
   {
    "duration": 4,
    "start_time": "2022-05-10T09:25:27.470Z"
   },
   {
    "duration": 18,
    "start_time": "2022-05-10T09:25:27.476Z"
   },
   {
    "duration": 35,
    "start_time": "2022-05-10T09:25:27.496Z"
   },
   {
    "duration": 10,
    "start_time": "2022-05-10T09:25:27.533Z"
   },
   {
    "duration": 6,
    "start_time": "2022-05-10T09:25:27.545Z"
   },
   {
    "duration": 11,
    "start_time": "2022-05-10T09:25:27.553Z"
   },
   {
    "duration": 13,
    "start_time": "2022-05-10T09:25:27.566Z"
   },
   {
    "duration": 454,
    "start_time": "2022-05-10T09:25:44.332Z"
   },
   {
    "duration": 73,
    "start_time": "2022-05-10T09:25:44.788Z"
   },
   {
    "duration": 16,
    "start_time": "2022-05-10T09:25:44.863Z"
   },
   {
    "duration": 41,
    "start_time": "2022-05-10T09:25:44.882Z"
   },
   {
    "duration": 34,
    "start_time": "2022-05-10T09:25:44.925Z"
   },
   {
    "duration": 16,
    "start_time": "2022-05-10T09:25:44.961Z"
   },
   {
    "duration": 13,
    "start_time": "2022-05-10T09:25:44.979Z"
   },
   {
    "duration": 97,
    "start_time": "2022-05-10T09:25:44.994Z"
   },
   {
    "duration": 5,
    "start_time": "2022-05-10T09:25:45.093Z"
   },
   {
    "duration": 11,
    "start_time": "2022-05-10T09:25:45.100Z"
   },
   {
    "duration": 15,
    "start_time": "2022-05-10T09:25:45.113Z"
   },
   {
    "duration": 29,
    "start_time": "2022-05-10T09:25:45.130Z"
   },
   {
    "duration": 21,
    "start_time": "2022-05-10T09:25:45.162Z"
   },
   {
    "duration": 44,
    "start_time": "2022-05-10T09:25:45.185Z"
   },
   {
    "duration": 7,
    "start_time": "2022-05-10T09:25:45.232Z"
   },
   {
    "duration": 19,
    "start_time": "2022-05-10T09:25:45.241Z"
   },
   {
    "duration": 7,
    "start_time": "2022-05-10T09:25:45.262Z"
   },
   {
    "duration": 7,
    "start_time": "2022-05-10T09:25:45.271Z"
   },
   {
    "duration": 45,
    "start_time": "2022-05-10T09:25:45.281Z"
   },
   {
    "duration": 15,
    "start_time": "2022-05-10T09:25:45.328Z"
   },
   {
    "duration": 11,
    "start_time": "2022-05-10T09:25:45.345Z"
   },
   {
    "duration": 6,
    "start_time": "2022-05-10T09:29:20.221Z"
   },
   {
    "duration": 26,
    "start_time": "2022-05-10T09:29:29.525Z"
   },
   {
    "duration": 15,
    "start_time": "2022-05-10T09:29:42.086Z"
   },
   {
    "duration": 17,
    "start_time": "2022-05-10T09:29:46.710Z"
   },
   {
    "duration": 12,
    "start_time": "2022-05-10T09:33:41.368Z"
   },
   {
    "duration": 93,
    "start_time": "2022-05-10T09:33:49.584Z"
   },
   {
    "duration": 15,
    "start_time": "2022-05-10T09:34:21.682Z"
   },
   {
    "duration": 9,
    "start_time": "2022-05-10T09:34:28.178Z"
   },
   {
    "duration": 9,
    "start_time": "2022-05-10T09:34:39.929Z"
   },
   {
    "duration": 27,
    "start_time": "2022-05-10T09:35:34.754Z"
   },
   {
    "duration": 3,
    "start_time": "2022-05-10T09:43:01.224Z"
   },
   {
    "duration": 677,
    "start_time": "2022-05-10T09:45:57.881Z"
   },
   {
    "duration": 20,
    "start_time": "2022-05-10T09:46:47.923Z"
   },
   {
    "duration": 271,
    "start_time": "2022-05-10T09:46:57.723Z"
   },
   {
    "duration": 285,
    "start_time": "2022-05-10T09:47:16.308Z"
   },
   {
    "duration": 282,
    "start_time": "2022-05-10T09:47:35.413Z"
   },
   {
    "duration": 19,
    "start_time": "2022-05-10T10:05:34.575Z"
   },
   {
    "duration": 32,
    "start_time": "2022-05-10T10:06:42.865Z"
   },
   {
    "duration": 460,
    "start_time": "2022-05-10T10:07:15.914Z"
   },
   {
    "duration": 81,
    "start_time": "2022-05-10T10:07:16.376Z"
   },
   {
    "duration": 16,
    "start_time": "2022-05-10T10:07:16.459Z"
   },
   {
    "duration": 30,
    "start_time": "2022-05-10T10:07:16.477Z"
   },
   {
    "duration": 27,
    "start_time": "2022-05-10T10:07:16.522Z"
   },
   {
    "duration": 14,
    "start_time": "2022-05-10T10:07:16.551Z"
   },
   {
    "duration": 12,
    "start_time": "2022-05-10T10:07:16.567Z"
   },
   {
    "duration": 90,
    "start_time": "2022-05-10T10:07:16.581Z"
   },
   {
    "duration": 5,
    "start_time": "2022-05-10T10:07:16.674Z"
   },
   {
    "duration": 13,
    "start_time": "2022-05-10T10:07:16.683Z"
   },
   {
    "duration": 34,
    "start_time": "2022-05-10T10:07:16.698Z"
   },
   {
    "duration": 23,
    "start_time": "2022-05-10T10:07:16.734Z"
   },
   {
    "duration": 14,
    "start_time": "2022-05-10T10:07:16.759Z"
   },
   {
    "duration": 14,
    "start_time": "2022-05-10T10:07:16.775Z"
   },
   {
    "duration": 34,
    "start_time": "2022-05-10T10:07:16.791Z"
   },
   {
    "duration": 26,
    "start_time": "2022-05-10T10:07:16.830Z"
   },
   {
    "duration": 7,
    "start_time": "2022-05-10T10:07:16.858Z"
   },
   {
    "duration": 9,
    "start_time": "2022-05-10T10:07:16.867Z"
   },
   {
    "duration": 5,
    "start_time": "2022-05-10T10:07:16.878Z"
   },
   {
    "duration": 45,
    "start_time": "2022-05-10T10:07:16.885Z"
   },
   {
    "duration": 12,
    "start_time": "2022-05-10T10:07:16.933Z"
   },
   {
    "duration": 6,
    "start_time": "2022-05-10T10:07:16.947Z"
   },
   {
    "duration": 20,
    "start_time": "2022-05-10T10:07:16.956Z"
   },
   {
    "duration": 55,
    "start_time": "2022-05-10T10:07:16.979Z"
   },
   {
    "duration": 509,
    "start_time": "2022-05-10T10:07:17.037Z"
   },
   {
    "duration": 111,
    "start_time": "2022-05-10T10:07:17.548Z"
   },
   {
    "duration": 281,
    "start_time": "2022-05-10T10:07:53.985Z"
   },
   {
    "duration": 265,
    "start_time": "2022-05-10T10:08:13.031Z"
   },
   {
    "duration": 254,
    "start_time": "2022-05-10T10:08:35.412Z"
   },
   {
    "duration": 447,
    "start_time": "2022-05-10T10:09:02.913Z"
   },
   {
    "duration": 70,
    "start_time": "2022-05-10T10:09:03.363Z"
   },
   {
    "duration": 19,
    "start_time": "2022-05-10T10:09:03.435Z"
   },
   {
    "duration": 30,
    "start_time": "2022-05-10T10:09:03.457Z"
   },
   {
    "duration": 50,
    "start_time": "2022-05-10T10:09:03.489Z"
   },
   {
    "duration": 16,
    "start_time": "2022-05-10T10:09:03.542Z"
   },
   {
    "duration": 14,
    "start_time": "2022-05-10T10:09:03.560Z"
   },
   {
    "duration": 75,
    "start_time": "2022-05-10T10:09:03.576Z"
   },
   {
    "duration": 5,
    "start_time": "2022-05-10T10:09:03.653Z"
   },
   {
    "duration": 13,
    "start_time": "2022-05-10T10:09:03.662Z"
   },
   {
    "duration": 13,
    "start_time": "2022-05-10T10:09:03.676Z"
   },
   {
    "duration": 35,
    "start_time": "2022-05-10T10:09:03.690Z"
   },
   {
    "duration": 18,
    "start_time": "2022-05-10T10:09:03.731Z"
   },
   {
    "duration": 15,
    "start_time": "2022-05-10T10:09:03.751Z"
   },
   {
    "duration": 7,
    "start_time": "2022-05-10T10:09:03.768Z"
   },
   {
    "duration": 18,
    "start_time": "2022-05-10T10:09:03.777Z"
   },
   {
    "duration": 34,
    "start_time": "2022-05-10T10:09:03.797Z"
   },
   {
    "duration": 11,
    "start_time": "2022-05-10T10:09:03.836Z"
   },
   {
    "duration": 4,
    "start_time": "2022-05-10T10:09:03.849Z"
   },
   {
    "duration": 13,
    "start_time": "2022-05-10T10:09:03.855Z"
   },
   {
    "duration": 11,
    "start_time": "2022-05-10T10:09:03.870Z"
   },
   {
    "duration": 10,
    "start_time": "2022-05-10T10:09:03.883Z"
   },
   {
    "duration": 46,
    "start_time": "2022-05-10T10:09:03.895Z"
   },
   {
    "duration": 25,
    "start_time": "2022-05-10T10:09:03.943Z"
   },
   {
    "duration": 524,
    "start_time": "2022-05-10T10:09:03.970Z"
   },
   {
    "duration": 252,
    "start_time": "2022-05-10T10:09:04.497Z"
   },
   {
    "duration": 13,
    "start_time": "2022-05-10T10:09:13.833Z"
   },
   {
    "duration": 357,
    "start_time": "2022-05-10T10:09:37.875Z"
   },
   {
    "duration": 273,
    "start_time": "2022-05-10T10:09:54.389Z"
   },
   {
    "duration": 37,
    "start_time": "2022-05-10T10:10:03.123Z"
   },
   {
    "duration": 203,
    "start_time": "2022-05-10T10:10:35.867Z"
   },
   {
    "duration": 206,
    "start_time": "2022-05-10T10:11:01.307Z"
   },
   {
    "duration": 25,
    "start_time": "2022-05-10T10:11:37.251Z"
   },
   {
    "duration": 78,
    "start_time": "2022-05-10T10:13:33.037Z"
   },
   {
    "duration": 8,
    "start_time": "2022-05-10T10:13:37.316Z"
   },
   {
    "duration": 9,
    "start_time": "2022-05-10T10:21:36.739Z"
   },
   {
    "duration": 205,
    "start_time": "2022-05-10T10:23:32.117Z"
   },
   {
    "duration": 294,
    "start_time": "2022-05-10T10:23:45.597Z"
   },
   {
    "duration": 301,
    "start_time": "2022-05-10T10:23:54.901Z"
   },
   {
    "duration": 12,
    "start_time": "2022-05-10T10:24:25.237Z"
   },
   {
    "duration": 189,
    "start_time": "2022-05-10T10:50:02.385Z"
   },
   {
    "duration": 162,
    "start_time": "2022-05-10T10:52:59.393Z"
   },
   {
    "duration": 22,
    "start_time": "2022-05-10T11:02:02.384Z"
   },
   {
    "duration": 47,
    "start_time": "2022-05-10T11:02:11.840Z"
   },
   {
    "duration": 40,
    "start_time": "2022-05-10T11:02:23.856Z"
   },
   {
    "duration": 50,
    "start_time": "2022-05-10T11:02:39.824Z"
   },
   {
    "duration": 45,
    "start_time": "2022-05-10T11:03:22.810Z"
   },
   {
    "duration": 173,
    "start_time": "2022-05-10T11:04:59.200Z"
   },
   {
    "duration": 18,
    "start_time": "2022-05-10T11:07:29.714Z"
   },
   {
    "duration": 12,
    "start_time": "2022-05-10T11:08:08.059Z"
   },
   {
    "duration": 13,
    "start_time": "2022-05-10T11:09:20.995Z"
   },
   {
    "duration": 14,
    "start_time": "2022-05-10T11:10:11.668Z"
   },
   {
    "duration": 14,
    "start_time": "2022-05-10T11:11:09.469Z"
   },
   {
    "duration": 15,
    "start_time": "2022-05-10T11:11:17.885Z"
   },
   {
    "duration": 17,
    "start_time": "2022-05-10T11:11:47.832Z"
   },
   {
    "duration": 22,
    "start_time": "2022-05-10T11:13:19.823Z"
   },
   {
    "duration": 16,
    "start_time": "2022-05-10T11:13:28.190Z"
   },
   {
    "duration": 11,
    "start_time": "2022-05-10T11:14:09.166Z"
   },
   {
    "duration": 4,
    "start_time": "2022-05-10T11:14:16.366Z"
   },
   {
    "duration": 31,
    "start_time": "2022-05-10T11:14:57.646Z"
   },
   {
    "duration": 9,
    "start_time": "2022-05-10T11:16:33.315Z"
   },
   {
    "duration": 2733,
    "start_time": "2022-05-10T11:16:50.104Z"
   },
   {
    "duration": 11,
    "start_time": "2022-05-10T11:20:13.226Z"
   },
   {
    "duration": 6,
    "start_time": "2022-05-10T11:20:17.044Z"
   },
   {
    "duration": 14,
    "start_time": "2022-05-10T11:20:17.475Z"
   },
   {
    "duration": 13,
    "start_time": "2022-05-10T11:21:41.950Z"
   },
   {
    "duration": 64,
    "start_time": "2022-05-10T11:21:53.804Z"
   },
   {
    "duration": 15,
    "start_time": "2022-05-10T11:22:03.870Z"
   },
   {
    "duration": 24,
    "start_time": "2022-05-10T11:25:04.311Z"
   },
   {
    "duration": 3,
    "start_time": "2022-05-10T11:26:11.598Z"
   },
   {
    "duration": 22,
    "start_time": "2022-05-10T11:26:42.144Z"
   },
   {
    "duration": 39,
    "start_time": "2022-05-10T11:29:47.537Z"
   },
   {
    "duration": 16,
    "start_time": "2022-05-10T11:29:58.307Z"
   },
   {
    "duration": 19,
    "start_time": "2022-05-10T11:58:36.276Z"
   },
   {
    "duration": 20,
    "start_time": "2022-05-10T12:16:10.761Z"
   },
   {
    "duration": 4,
    "start_time": "2022-05-10T12:18:03.315Z"
   },
   {
    "duration": 17,
    "start_time": "2022-05-10T12:18:11.843Z"
   },
   {
    "duration": 6,
    "start_time": "2022-05-10T12:18:31.405Z"
   },
   {
    "duration": 5,
    "start_time": "2022-05-10T12:18:44.436Z"
   },
   {
    "duration": 431,
    "start_time": "2022-05-10T12:18:52.908Z"
   },
   {
    "duration": 63,
    "start_time": "2022-05-10T12:18:53.342Z"
   },
   {
    "duration": 22,
    "start_time": "2022-05-10T12:18:53.407Z"
   },
   {
    "duration": 32,
    "start_time": "2022-05-10T12:18:53.431Z"
   },
   {
    "duration": 24,
    "start_time": "2022-05-10T12:18:53.465Z"
   },
   {
    "duration": 50,
    "start_time": "2022-05-10T12:18:53.491Z"
   },
   {
    "duration": 17,
    "start_time": "2022-05-10T12:18:53.543Z"
   },
   {
    "duration": 52,
    "start_time": "2022-05-10T12:18:53.562Z"
   },
   {
    "duration": 4,
    "start_time": "2022-05-10T12:18:53.617Z"
   },
   {
    "duration": 19,
    "start_time": "2022-05-10T12:18:53.625Z"
   },
   {
    "duration": 11,
    "start_time": "2022-05-10T12:18:53.646Z"
   },
   {
    "duration": 20,
    "start_time": "2022-05-10T12:18:53.659Z"
   },
   {
    "duration": 42,
    "start_time": "2022-05-10T12:18:53.681Z"
   },
   {
    "duration": 22,
    "start_time": "2022-05-10T12:18:53.725Z"
   },
   {
    "duration": 2937,
    "start_time": "2022-05-10T12:18:53.749Z"
   },
   {
    "duration": 0,
    "start_time": "2022-05-10T12:18:56.688Z"
   },
   {
    "duration": 0,
    "start_time": "2022-05-10T12:18:56.690Z"
   },
   {
    "duration": 0,
    "start_time": "2022-05-10T12:18:56.691Z"
   },
   {
    "duration": 0,
    "start_time": "2022-05-10T12:18:56.693Z"
   },
   {
    "duration": 0,
    "start_time": "2022-05-10T12:18:56.694Z"
   },
   {
    "duration": 0,
    "start_time": "2022-05-10T12:18:56.696Z"
   },
   {
    "duration": 0,
    "start_time": "2022-05-10T12:18:56.697Z"
   },
   {
    "duration": 0,
    "start_time": "2022-05-10T12:18:56.698Z"
   },
   {
    "duration": 0,
    "start_time": "2022-05-10T12:18:56.700Z"
   },
   {
    "duration": 0,
    "start_time": "2022-05-10T12:18:56.701Z"
   },
   {
    "duration": 0,
    "start_time": "2022-05-10T12:18:56.702Z"
   },
   {
    "duration": 0,
    "start_time": "2022-05-10T12:18:56.704Z"
   },
   {
    "duration": 0,
    "start_time": "2022-05-10T12:18:56.705Z"
   },
   {
    "duration": 0,
    "start_time": "2022-05-10T12:18:56.707Z"
   },
   {
    "duration": 0,
    "start_time": "2022-05-10T12:18:56.709Z"
   },
   {
    "duration": 0,
    "start_time": "2022-05-10T12:18:56.710Z"
   },
   {
    "duration": 0,
    "start_time": "2022-05-10T12:18:56.711Z"
   },
   {
    "duration": 0,
    "start_time": "2022-05-10T12:18:56.713Z"
   },
   {
    "duration": 0,
    "start_time": "2022-05-10T12:18:56.714Z"
   },
   {
    "duration": 0,
    "start_time": "2022-05-10T12:18:56.715Z"
   },
   {
    "duration": 447,
    "start_time": "2022-05-10T12:19:17.831Z"
   },
   {
    "duration": 81,
    "start_time": "2022-05-10T12:19:18.280Z"
   },
   {
    "duration": 17,
    "start_time": "2022-05-10T12:19:18.363Z"
   },
   {
    "duration": 46,
    "start_time": "2022-05-10T12:19:18.382Z"
   },
   {
    "duration": 19,
    "start_time": "2022-05-10T12:19:18.430Z"
   },
   {
    "duration": 16,
    "start_time": "2022-05-10T12:19:18.451Z"
   },
   {
    "duration": 20,
    "start_time": "2022-05-10T12:19:18.469Z"
   },
   {
    "duration": 100,
    "start_time": "2022-05-10T12:19:18.491Z"
   },
   {
    "duration": 6,
    "start_time": "2022-05-10T12:19:18.594Z"
   },
   {
    "duration": 21,
    "start_time": "2022-05-10T12:19:18.605Z"
   },
   {
    "duration": 13,
    "start_time": "2022-05-10T12:19:18.628Z"
   },
   {
    "duration": 23,
    "start_time": "2022-05-10T12:19:18.643Z"
   },
   {
    "duration": 15,
    "start_time": "2022-05-10T12:19:18.667Z"
   },
   {
    "duration": 45,
    "start_time": "2022-05-10T12:19:18.684Z"
   },
   {
    "duration": 6,
    "start_time": "2022-05-10T12:19:18.730Z"
   },
   {
    "duration": 19,
    "start_time": "2022-05-10T12:19:18.738Z"
   },
   {
    "duration": 12,
    "start_time": "2022-05-10T12:19:18.759Z"
   },
   {
    "duration": 10,
    "start_time": "2022-05-10T12:19:18.774Z"
   },
   {
    "duration": 40,
    "start_time": "2022-05-10T12:19:18.786Z"
   },
   {
    "duration": 9,
    "start_time": "2022-05-10T12:19:18.828Z"
   },
   {
    "duration": 9,
    "start_time": "2022-05-10T12:19:18.839Z"
   },
   {
    "duration": 5,
    "start_time": "2022-05-10T12:19:18.850Z"
   },
   {
    "duration": 24,
    "start_time": "2022-05-10T12:19:18.857Z"
   },
   {
    "duration": 58,
    "start_time": "2022-05-10T12:19:18.883Z"
   },
   {
    "duration": 18,
    "start_time": "2022-05-10T12:19:18.942Z"
   },
   {
    "duration": 6,
    "start_time": "2022-05-10T12:19:18.962Z"
   },
   {
    "duration": 9,
    "start_time": "2022-05-10T12:19:18.970Z"
   },
   {
    "duration": 544,
    "start_time": "2022-05-10T12:19:18.982Z"
   },
   {
    "duration": 200,
    "start_time": "2022-05-10T12:19:19.528Z"
   },
   {
    "duration": 17,
    "start_time": "2022-05-10T12:19:19.730Z"
   },
   {
    "duration": 12,
    "start_time": "2022-05-10T12:19:19.749Z"
   },
   {
    "duration": 4,
    "start_time": "2022-05-10T12:19:19.763Z"
   },
   {
    "duration": 33,
    "start_time": "2022-05-10T12:19:19.769Z"
   },
   {
    "duration": 14,
    "start_time": "2022-05-10T12:19:19.823Z"
   },
   {
    "duration": 120,
    "start_time": "2022-05-10T12:24:49.628Z"
   },
   {
    "duration": 1354,
    "start_time": "2022-05-10T12:27:30.910Z"
   },
   {
    "duration": 2652,
    "start_time": "2022-05-10T12:27:41.973Z"
   },
   {
    "duration": 25,
    "start_time": "2022-05-10T12:28:18.206Z"
   },
   {
    "duration": 2688,
    "start_time": "2022-05-10T12:28:29.462Z"
   },
   {
    "duration": 2655,
    "start_time": "2022-05-10T12:28:45.845Z"
   },
   {
    "duration": 3,
    "start_time": "2022-05-10T12:28:58.070Z"
   },
   {
    "duration": 6,
    "start_time": "2022-05-10T12:29:03.741Z"
   },
   {
    "duration": 4,
    "start_time": "2022-05-10T12:30:20.118Z"
   },
   {
    "duration": 8,
    "start_time": "2022-05-10T12:30:33.934Z"
   },
   {
    "duration": 714,
    "start_time": "2022-05-10T12:31:42.440Z"
   },
   {
    "duration": 259,
    "start_time": "2022-05-10T12:33:57.770Z"
   },
   {
    "duration": 4432,
    "start_time": "2022-05-10T12:34:02.474Z"
   },
   {
    "duration": 187,
    "start_time": "2022-05-10T12:45:01.808Z"
   },
   {
    "duration": 195,
    "start_time": "2022-05-10T12:45:29.553Z"
   },
   {
    "duration": 184,
    "start_time": "2022-05-10T12:45:41.855Z"
   },
   {
    "duration": 12,
    "start_time": "2022-05-10T12:46:09.369Z"
   },
   {
    "duration": 16,
    "start_time": "2022-05-10T12:46:13.626Z"
   },
   {
    "duration": 3,
    "start_time": "2022-05-10T12:46:25.487Z"
   },
   {
    "duration": 29,
    "start_time": "2022-05-10T12:46:28.225Z"
   },
   {
    "duration": 3,
    "start_time": "2022-05-10T12:46:41.240Z"
   },
   {
    "duration": 24,
    "start_time": "2022-05-10T12:46:41.680Z"
   },
   {
    "duration": 225,
    "start_time": "2022-05-10T12:46:45.743Z"
   },
   {
    "duration": 13,
    "start_time": "2022-05-10T12:47:09.289Z"
   },
   {
    "duration": 457,
    "start_time": "2022-05-10T13:09:58.361Z"
   },
   {
    "duration": 68,
    "start_time": "2022-05-10T13:09:58.824Z"
   },
   {
    "duration": 16,
    "start_time": "2022-05-10T13:09:58.894Z"
   },
   {
    "duration": 47,
    "start_time": "2022-05-10T13:09:58.913Z"
   },
   {
    "duration": 18,
    "start_time": "2022-05-10T13:09:58.962Z"
   },
   {
    "duration": 14,
    "start_time": "2022-05-10T13:09:58.982Z"
   },
   {
    "duration": 35,
    "start_time": "2022-05-10T13:09:58.998Z"
   },
   {
    "duration": 46,
    "start_time": "2022-05-10T13:09:59.037Z"
   },
   {
    "duration": 4,
    "start_time": "2022-05-10T13:09:59.085Z"
   },
   {
    "duration": 40,
    "start_time": "2022-05-10T13:09:59.094Z"
   },
   {
    "duration": 11,
    "start_time": "2022-05-10T13:09:59.136Z"
   },
   {
    "duration": 24,
    "start_time": "2022-05-10T13:09:59.149Z"
   },
   {
    "duration": 12,
    "start_time": "2022-05-10T13:09:59.175Z"
   },
   {
    "duration": 15,
    "start_time": "2022-05-10T13:09:59.189Z"
   },
   {
    "duration": 20,
    "start_time": "2022-05-10T13:09:59.205Z"
   },
   {
    "duration": 23,
    "start_time": "2022-05-10T13:09:59.227Z"
   },
   {
    "duration": 7,
    "start_time": "2022-05-10T13:09:59.252Z"
   },
   {
    "duration": 8,
    "start_time": "2022-05-10T13:09:59.261Z"
   },
   {
    "duration": 5,
    "start_time": "2022-05-10T13:09:59.271Z"
   },
   {
    "duration": 12,
    "start_time": "2022-05-10T13:09:59.278Z"
   },
   {
    "duration": 10,
    "start_time": "2022-05-10T13:09:59.330Z"
   },
   {
    "duration": 6,
    "start_time": "2022-05-10T13:09:59.342Z"
   },
   {
    "duration": 21,
    "start_time": "2022-05-10T13:09:59.350Z"
   },
   {
    "duration": 28,
    "start_time": "2022-05-10T13:09:59.374Z"
   },
   {
    "duration": 36,
    "start_time": "2022-05-10T13:09:59.404Z"
   },
   {
    "duration": 4,
    "start_time": "2022-05-10T13:09:59.442Z"
   },
   {
    "duration": 9,
    "start_time": "2022-05-10T13:09:59.448Z"
   },
   {
    "duration": 517,
    "start_time": "2022-05-10T13:09:59.460Z"
   },
   {
    "duration": 190,
    "start_time": "2022-05-10T13:09:59.979Z"
   },
   {
    "duration": 16,
    "start_time": "2022-05-10T13:10:00.171Z"
   },
   {
    "duration": 10,
    "start_time": "2022-05-10T13:10:00.189Z"
   },
   {
    "duration": 23,
    "start_time": "2022-05-10T13:10:00.201Z"
   },
   {
    "duration": 24,
    "start_time": "2022-05-10T13:10:00.226Z"
   },
   {
    "duration": 21,
    "start_time": "2022-05-10T13:10:00.252Z"
   },
   {
    "duration": 194,
    "start_time": "2022-05-10T13:10:00.275Z"
   },
   {
    "duration": 22,
    "start_time": "2022-05-10T13:15:36.320Z"
   },
   {
    "duration": 6,
    "start_time": "2022-05-10T13:16:06.794Z"
   },
   {
    "duration": 6,
    "start_time": "2022-05-10T13:17:20.570Z"
   },
   {
    "duration": 6,
    "start_time": "2022-05-10T13:32:05.603Z"
   },
   {
    "duration": 26,
    "start_time": "2022-05-10T13:32:11.371Z"
   },
   {
    "duration": 543,
    "start_time": "2022-05-10T13:34:57.229Z"
   },
   {
    "duration": 132,
    "start_time": "2022-05-10T13:35:40.710Z"
   },
   {
    "duration": 419,
    "start_time": "2022-05-10T13:36:07.175Z"
   },
   {
    "duration": 395,
    "start_time": "2022-05-10T13:36:20.438Z"
   },
   {
    "duration": 478,
    "start_time": "2022-05-10T13:36:45.903Z"
   },
   {
    "duration": 375,
    "start_time": "2022-05-10T13:40:51.170Z"
   },
   {
    "duration": 11,
    "start_time": "2022-05-10T13:46:00.837Z"
   },
   {
    "duration": 11,
    "start_time": "2022-05-10T15:15:35.052Z"
   },
   {
    "duration": 30,
    "start_time": "2022-05-10T15:15:43.586Z"
   },
   {
    "duration": 141,
    "start_time": "2022-05-10T15:15:46.268Z"
   },
   {
    "duration": 28,
    "start_time": "2022-05-10T15:16:24.077Z"
   },
   {
    "duration": 40,
    "start_time": "2022-05-10T15:20:42.440Z"
   },
   {
    "duration": 145,
    "start_time": "2022-05-10T15:23:30.520Z"
   },
   {
    "duration": 142,
    "start_time": "2022-05-10T15:23:42.938Z"
   },
   {
    "duration": 155,
    "start_time": "2022-05-10T15:24:01.105Z"
   },
   {
    "duration": 28,
    "start_time": "2022-05-10T15:37:21.643Z"
   },
   {
    "duration": 1309,
    "start_time": "2022-05-10T15:37:36.707Z"
   },
   {
    "duration": 217,
    "start_time": "2022-05-10T15:37:38.018Z"
   },
   {
    "duration": 16,
    "start_time": "2022-05-10T15:37:38.238Z"
   },
   {
    "duration": 33,
    "start_time": "2022-05-10T15:37:38.256Z"
   },
   {
    "duration": 36,
    "start_time": "2022-05-10T15:37:38.290Z"
   },
   {
    "duration": 13,
    "start_time": "2022-05-10T15:37:38.328Z"
   },
   {
    "duration": 12,
    "start_time": "2022-05-10T15:37:38.342Z"
   },
   {
    "duration": 55,
    "start_time": "2022-05-10T15:37:38.356Z"
   },
   {
    "duration": 11,
    "start_time": "2022-05-10T15:37:38.413Z"
   },
   {
    "duration": 7,
    "start_time": "2022-05-10T15:37:38.428Z"
   },
   {
    "duration": 14,
    "start_time": "2022-05-10T15:37:38.437Z"
   },
   {
    "duration": 20,
    "start_time": "2022-05-10T15:37:38.453Z"
   },
   {
    "duration": 47,
    "start_time": "2022-05-10T15:37:38.475Z"
   },
   {
    "duration": 13,
    "start_time": "2022-05-10T15:37:38.525Z"
   },
   {
    "duration": 5,
    "start_time": "2022-05-10T15:37:38.540Z"
   },
   {
    "duration": 20,
    "start_time": "2022-05-10T15:37:38.547Z"
   },
   {
    "duration": 10,
    "start_time": "2022-05-10T15:37:38.569Z"
   },
   {
    "duration": 7,
    "start_time": "2022-05-10T15:37:38.581Z"
   },
   {
    "duration": 6,
    "start_time": "2022-05-10T15:37:38.623Z"
   },
   {
    "duration": 10,
    "start_time": "2022-05-10T15:37:38.631Z"
   },
   {
    "duration": 10,
    "start_time": "2022-05-10T15:37:38.643Z"
   },
   {
    "duration": 6,
    "start_time": "2022-05-10T15:37:38.655Z"
   },
   {
    "duration": 24,
    "start_time": "2022-05-10T15:37:38.662Z"
   },
   {
    "duration": 55,
    "start_time": "2022-05-10T15:37:38.688Z"
   },
   {
    "duration": 19,
    "start_time": "2022-05-10T15:37:38.745Z"
   },
   {
    "duration": 4,
    "start_time": "2022-05-10T15:37:38.766Z"
   },
   {
    "duration": 6,
    "start_time": "2022-05-10T15:37:38.772Z"
   },
   {
    "duration": 223,
    "start_time": "2022-05-10T15:37:38.782Z"
   },
   {
    "duration": 185,
    "start_time": "2022-05-10T15:37:39.007Z"
   },
   {
    "duration": 28,
    "start_time": "2022-05-10T15:37:39.194Z"
   },
   {
    "duration": 13,
    "start_time": "2022-05-10T15:37:39.224Z"
   },
   {
    "duration": 3,
    "start_time": "2022-05-10T15:37:39.238Z"
   },
   {
    "duration": 26,
    "start_time": "2022-05-10T15:37:39.242Z"
   },
   {
    "duration": 14,
    "start_time": "2022-05-10T15:37:39.270Z"
   },
   {
    "duration": 211,
    "start_time": "2022-05-10T15:37:39.286Z"
   },
   {
    "duration": 7,
    "start_time": "2022-05-10T15:37:39.499Z"
   },
   {
    "duration": 39,
    "start_time": "2022-05-10T15:37:39.507Z"
   },
   {
    "duration": 321,
    "start_time": "2022-05-10T15:37:39.548Z"
   },
   {
    "duration": 12,
    "start_time": "2022-05-10T15:37:39.871Z"
   },
   {
    "duration": 41,
    "start_time": "2022-05-10T15:37:39.885Z"
   },
   {
    "duration": 196,
    "start_time": "2022-05-10T15:37:39.928Z"
   },
   {
    "duration": 254,
    "start_time": "2022-05-10T15:40:41.293Z"
   },
   {
    "duration": 3,
    "start_time": "2022-05-10T15:40:59.668Z"
   },
   {
    "duration": 182,
    "start_time": "2022-05-10T15:41:03.847Z"
   },
   {
    "duration": 177,
    "start_time": "2022-05-10T15:41:29.670Z"
   },
   {
    "duration": 249,
    "start_time": "2022-05-10T15:41:36.214Z"
   },
   {
    "duration": 213,
    "start_time": "2022-05-10T15:41:42.612Z"
   },
   {
    "duration": 158,
    "start_time": "2022-05-10T15:41:45.741Z"
   },
   {
    "duration": 170,
    "start_time": "2022-05-10T15:42:34.510Z"
   },
   {
    "duration": 162,
    "start_time": "2022-05-10T15:43:42.990Z"
   },
   {
    "duration": 154,
    "start_time": "2022-05-10T15:43:46.287Z"
   },
   {
    "duration": 112,
    "start_time": "2022-05-10T15:44:30.089Z"
   },
   {
    "duration": 171,
    "start_time": "2022-05-10T15:44:48.738Z"
   },
   {
    "duration": 248,
    "start_time": "2022-05-10T15:45:06.704Z"
   },
   {
    "duration": 169,
    "start_time": "2022-05-10T15:45:11.041Z"
   },
   {
    "duration": 184,
    "start_time": "2022-05-10T15:45:15.783Z"
   },
   {
    "duration": 176,
    "start_time": "2022-05-10T15:45:50.616Z"
   },
   {
    "duration": 9,
    "start_time": "2022-05-10T15:48:29.817Z"
   },
   {
    "duration": 6,
    "start_time": "2022-05-10T15:48:46.777Z"
   },
   {
    "duration": 192,
    "start_time": "2022-05-10T16:47:55.276Z"
   },
   {
    "duration": 43,
    "start_time": "2022-05-10T16:51:24.806Z"
   },
   {
    "duration": 11,
    "start_time": "2022-05-10T16:51:33.528Z"
   },
   {
    "duration": 373,
    "start_time": "2022-05-10T16:52:07.599Z"
   },
   {
    "duration": 151,
    "start_time": "2022-05-10T16:52:19.735Z"
   },
   {
    "duration": 16,
    "start_time": "2022-05-10T16:52:31.239Z"
   },
   {
    "duration": 15,
    "start_time": "2022-05-10T16:52:37.390Z"
   },
   {
    "duration": 157,
    "start_time": "2022-05-10T16:53:32.800Z"
   },
   {
    "duration": 205,
    "start_time": "2022-05-10T16:53:59.641Z"
   },
   {
    "duration": 178,
    "start_time": "2022-05-10T16:54:01.711Z"
   },
   {
    "duration": 721,
    "start_time": "2022-05-10T17:03:18.662Z"
   },
   {
    "duration": 16,
    "start_time": "2022-05-10T17:04:08.327Z"
   },
   {
    "duration": 4,
    "start_time": "2022-05-10T17:04:35.390Z"
   },
   {
    "duration": 11,
    "start_time": "2022-05-10T17:04:40.390Z"
   },
   {
    "duration": 21,
    "start_time": "2022-05-10T17:15:45.879Z"
   },
   {
    "duration": 7,
    "start_time": "2022-05-10T17:16:16.327Z"
   },
   {
    "duration": 541,
    "start_time": "2022-05-10T17:16:25.375Z"
   },
   {
    "duration": 550,
    "start_time": "2022-05-10T17:17:59.969Z"
   },
   {
    "duration": 7,
    "start_time": "2022-05-10T17:18:11.952Z"
   },
   {
    "duration": 176,
    "start_time": "2022-05-10T17:19:02.528Z"
   },
   {
    "duration": 8,
    "start_time": "2022-05-10T17:19:05.705Z"
   },
   {
    "duration": 151,
    "start_time": "2022-05-10T17:19:51.394Z"
   },
   {
    "duration": 7,
    "start_time": "2022-05-10T17:20:01.506Z"
   },
   {
    "duration": 125,
    "start_time": "2022-05-10T17:29:44.272Z"
   },
   {
    "duration": 6,
    "start_time": "2022-05-10T17:30:14.864Z"
   },
   {
    "duration": 130,
    "start_time": "2022-05-10T17:30:56.873Z"
   },
   {
    "duration": 6,
    "start_time": "2022-05-10T17:30:57.673Z"
   },
   {
    "duration": 16,
    "start_time": "2022-05-10T17:35:30.172Z"
   },
   {
    "duration": 17,
    "start_time": "2022-05-10T17:39:20.807Z"
   },
   {
    "duration": 140,
    "start_time": "2022-05-10T18:24:48.173Z"
   },
   {
    "duration": 143,
    "start_time": "2022-05-10T18:25:33.909Z"
   },
   {
    "duration": 146,
    "start_time": "2022-05-10T18:25:38.956Z"
   },
   {
    "duration": 167,
    "start_time": "2022-05-10T18:27:23.126Z"
   },
   {
    "duration": 17,
    "start_time": "2022-05-10T18:28:50.271Z"
   },
   {
    "duration": 16,
    "start_time": "2022-05-10T18:29:33.360Z"
   },
   {
    "duration": 9,
    "start_time": "2022-05-10T18:30:56.880Z"
   },
   {
    "duration": 226,
    "start_time": "2022-05-10T18:32:03.034Z"
   },
   {
    "duration": 9,
    "start_time": "2022-05-10T18:32:37.322Z"
   },
   {
    "duration": 166,
    "start_time": "2022-05-10T18:32:54.930Z"
   },
   {
    "duration": 9,
    "start_time": "2022-05-10T18:38:56.855Z"
   },
   {
    "duration": 133,
    "start_time": "2022-05-10T18:39:36.871Z"
   },
   {
    "duration": 189,
    "start_time": "2022-05-10T18:40:05.961Z"
   },
   {
    "duration": 251,
    "start_time": "2022-05-10T18:40:12.568Z"
   },
   {
    "duration": 6,
    "start_time": "2022-05-10T18:40:45.384Z"
   },
   {
    "duration": 8,
    "start_time": "2022-05-10T18:41:03.528Z"
   },
   {
    "duration": 129,
    "start_time": "2022-05-10T18:41:04.256Z"
   },
   {
    "duration": 9,
    "start_time": "2022-05-10T18:41:05.840Z"
   },
   {
    "duration": 141,
    "start_time": "2022-05-10T18:41:15.576Z"
   },
   {
    "duration": 149,
    "start_time": "2022-05-10T18:41:19.761Z"
   },
   {
    "duration": 180,
    "start_time": "2022-05-10T18:41:25.025Z"
   },
   {
    "duration": 8,
    "start_time": "2022-05-10T18:41:25.425Z"
   },
   {
    "duration": 211,
    "start_time": "2022-05-10T18:42:13.298Z"
   },
   {
    "duration": 123,
    "start_time": "2022-05-10T18:42:41.529Z"
   },
   {
    "duration": 19,
    "start_time": "2022-05-10T18:42:54.953Z"
   },
   {
    "duration": 6,
    "start_time": "2022-05-10T18:43:10.835Z"
   },
   {
    "duration": 726,
    "start_time": "2022-05-10T18:43:12.954Z"
   },
   {
    "duration": 520,
    "start_time": "2022-05-10T18:43:28.691Z"
   },
   {
    "duration": 10,
    "start_time": "2022-05-10T18:43:58.860Z"
   },
   {
    "duration": 11,
    "start_time": "2022-05-10T18:44:07.819Z"
   },
   {
    "duration": 7,
    "start_time": "2022-05-10T18:45:17.090Z"
   },
   {
    "duration": 168,
    "start_time": "2022-05-10T18:45:17.604Z"
   },
   {
    "duration": 528,
    "start_time": "2022-05-10T18:45:21.077Z"
   },
   {
    "duration": 8,
    "start_time": "2022-05-10T18:45:44.038Z"
   },
   {
    "duration": 7,
    "start_time": "2022-05-10T18:45:59.340Z"
   },
   {
    "duration": 140,
    "start_time": "2022-05-10T18:45:59.788Z"
   },
   {
    "duration": 8,
    "start_time": "2022-05-10T18:46:00.549Z"
   },
   {
    "duration": 150,
    "start_time": "2022-05-10T18:46:04.741Z"
   },
   {
    "duration": 8,
    "start_time": "2022-05-10T18:46:07.541Z"
   },
   {
    "duration": 14,
    "start_time": "2022-05-10T18:57:24.852Z"
   },
   {
    "duration": 19,
    "start_time": "2022-05-10T18:57:28.842Z"
   },
   {
    "duration": 23,
    "start_time": "2022-05-10T19:07:11.577Z"
   },
   {
    "duration": 23,
    "start_time": "2022-05-10T19:07:46.682Z"
   },
   {
    "duration": 20,
    "start_time": "2022-05-10T19:08:37.746Z"
   },
   {
    "duration": 22,
    "start_time": "2022-05-10T19:14:13.335Z"
   },
   {
    "duration": 157,
    "start_time": "2022-05-10T19:14:25.071Z"
   },
   {
    "duration": 35,
    "start_time": "2022-05-10T19:14:44.208Z"
   },
   {
    "duration": 27,
    "start_time": "2022-05-10T19:14:57.968Z"
   },
   {
    "duration": 31,
    "start_time": "2022-05-10T19:15:04.688Z"
   },
   {
    "duration": 131,
    "start_time": "2022-05-10T19:18:01.979Z"
   },
   {
    "duration": 137,
    "start_time": "2022-05-10T19:18:10.059Z"
   },
   {
    "duration": 143,
    "start_time": "2022-05-10T19:18:18.099Z"
   },
   {
    "duration": 131,
    "start_time": "2022-05-10T19:18:33.051Z"
   },
   {
    "duration": 10,
    "start_time": "2022-05-10T19:19:19.027Z"
   },
   {
    "duration": 10,
    "start_time": "2022-05-10T19:19:45.492Z"
   },
   {
    "duration": 141,
    "start_time": "2022-05-10T19:19:57.948Z"
   },
   {
    "duration": 8,
    "start_time": "2022-05-10T19:19:59.780Z"
   },
   {
    "duration": 8,
    "start_time": "2022-05-10T19:27:35.685Z"
   },
   {
    "duration": 8,
    "start_time": "2022-05-10T19:29:03.187Z"
   },
   {
    "duration": 166,
    "start_time": "2022-05-10T19:29:11.349Z"
   },
   {
    "duration": 8,
    "start_time": "2022-05-10T19:29:14.442Z"
   },
   {
    "duration": 9,
    "start_time": "2022-05-10T19:29:32.923Z"
   },
   {
    "duration": 8,
    "start_time": "2022-05-10T19:30:33.044Z"
   },
   {
    "duration": 8,
    "start_time": "2022-05-10T19:32:46.293Z"
   },
   {
    "duration": 6,
    "start_time": "2022-05-10T19:35:21.061Z"
   },
   {
    "duration": 5,
    "start_time": "2022-05-10T19:36:16.550Z"
   },
   {
    "duration": 17,
    "start_time": "2022-05-10T19:46:49.276Z"
   },
   {
    "duration": 10,
    "start_time": "2022-05-10T19:46:53.164Z"
   },
   {
    "duration": 16,
    "start_time": "2022-05-10T19:46:59.132Z"
   },
   {
    "duration": 17,
    "start_time": "2022-05-10T19:47:35.574Z"
   },
   {
    "duration": 17,
    "start_time": "2022-05-10T19:48:07.061Z"
   },
   {
    "duration": 24,
    "start_time": "2022-05-10T19:48:16.228Z"
   },
   {
    "duration": 17,
    "start_time": "2022-05-10T19:48:29.157Z"
   },
   {
    "duration": 23,
    "start_time": "2022-05-10T19:48:38.716Z"
   },
   {
    "duration": 22,
    "start_time": "2022-05-10T19:50:28.502Z"
   },
   {
    "duration": 29,
    "start_time": "2022-05-10T19:50:52.816Z"
   },
   {
    "duration": 24,
    "start_time": "2022-05-10T19:51:18.223Z"
   },
   {
    "duration": 4,
    "start_time": "2022-05-10T20:05:30.594Z"
   },
   {
    "duration": 4,
    "start_time": "2022-05-10T20:05:39.741Z"
   },
   {
    "duration": 1526,
    "start_time": "2022-05-10T20:35:19.924Z"
   },
   {
    "duration": 419,
    "start_time": "2022-05-10T20:35:21.453Z"
   },
   {
    "duration": 17,
    "start_time": "2022-05-10T20:35:21.874Z"
   },
   {
    "duration": 64,
    "start_time": "2022-05-10T20:35:21.893Z"
   },
   {
    "duration": 18,
    "start_time": "2022-05-10T20:35:21.959Z"
   },
   {
    "duration": 15,
    "start_time": "2022-05-10T20:35:21.979Z"
   },
   {
    "duration": 34,
    "start_time": "2022-05-10T20:35:21.996Z"
   },
   {
    "duration": 64,
    "start_time": "2022-05-10T20:35:22.035Z"
   },
   {
    "duration": 4,
    "start_time": "2022-05-10T20:35:22.101Z"
   },
   {
    "duration": 39,
    "start_time": "2022-05-10T20:35:22.109Z"
   },
   {
    "duration": 18,
    "start_time": "2022-05-10T20:35:22.150Z"
   },
   {
    "duration": 33,
    "start_time": "2022-05-10T20:35:22.170Z"
   },
   {
    "duration": 38,
    "start_time": "2022-05-10T20:35:22.205Z"
   },
   {
    "duration": 15,
    "start_time": "2022-05-10T20:35:22.246Z"
   },
   {
    "duration": 5,
    "start_time": "2022-05-10T20:35:22.263Z"
   },
   {
    "duration": 20,
    "start_time": "2022-05-10T20:35:22.270Z"
   },
   {
    "duration": 37,
    "start_time": "2022-05-10T20:35:22.292Z"
   },
   {
    "duration": 11,
    "start_time": "2022-05-10T20:35:22.332Z"
   },
   {
    "duration": 5,
    "start_time": "2022-05-10T20:35:22.345Z"
   },
   {
    "duration": 10,
    "start_time": "2022-05-10T20:35:22.352Z"
   },
   {
    "duration": 11,
    "start_time": "2022-05-10T20:35:22.364Z"
   },
   {
    "duration": 7,
    "start_time": "2022-05-10T20:35:22.377Z"
   },
   {
    "duration": 32,
    "start_time": "2022-05-10T20:35:22.422Z"
   },
   {
    "duration": 24,
    "start_time": "2022-05-10T20:35:22.456Z"
   },
   {
    "duration": 41,
    "start_time": "2022-05-10T20:35:22.482Z"
   },
   {
    "duration": 5,
    "start_time": "2022-05-10T20:35:22.524Z"
   },
   {
    "duration": 10,
    "start_time": "2022-05-10T20:35:22.531Z"
   },
   {
    "duration": 247,
    "start_time": "2022-05-10T20:35:22.546Z"
   },
   {
    "duration": 216,
    "start_time": "2022-05-10T20:35:22.795Z"
   },
   {
    "duration": 29,
    "start_time": "2022-05-10T20:35:23.013Z"
   },
   {
    "duration": 13,
    "start_time": "2022-05-10T20:35:23.044Z"
   },
   {
    "duration": 3,
    "start_time": "2022-05-10T20:35:23.059Z"
   },
   {
    "duration": 65,
    "start_time": "2022-05-10T20:35:23.065Z"
   },
   {
    "duration": 15,
    "start_time": "2022-05-10T20:35:23.139Z"
   },
   {
    "duration": 311,
    "start_time": "2022-05-10T20:35:23.156Z"
   },
   {
    "duration": 7,
    "start_time": "2022-05-10T20:35:23.469Z"
   },
   {
    "duration": 27,
    "start_time": "2022-05-10T20:35:23.477Z"
   },
   {
    "duration": 351,
    "start_time": "2022-05-10T20:35:23.506Z"
   },
   {
    "duration": 11,
    "start_time": "2022-05-10T20:35:23.860Z"
   },
   {
    "duration": 29,
    "start_time": "2022-05-10T20:35:23.873Z"
   },
   {
    "duration": 234,
    "start_time": "2022-05-10T20:35:23.905Z"
   },
   {
    "duration": 7,
    "start_time": "2022-05-10T20:35:24.141Z"
   },
   {
    "duration": 9,
    "start_time": "2022-05-10T20:35:24.150Z"
   },
   {
    "duration": 148,
    "start_time": "2022-05-10T20:35:24.160Z"
   },
   {
    "duration": 13,
    "start_time": "2022-05-10T20:35:24.310Z"
   },
   {
    "duration": 155,
    "start_time": "2022-05-10T20:35:24.325Z"
   },
   {
    "duration": 6,
    "start_time": "2022-05-10T20:35:24.482Z"
   },
   {
    "duration": 19,
    "start_time": "2022-05-10T20:35:24.490Z"
   },
   {
    "duration": 173,
    "start_time": "2022-05-10T20:35:24.511Z"
   },
   {
    "duration": 17,
    "start_time": "2022-05-10T20:35:24.686Z"
   },
   {
    "duration": 18,
    "start_time": "2022-05-10T20:35:24.705Z"
   },
   {
    "duration": 261,
    "start_time": "2022-05-10T20:35:24.725Z"
   },
   {
    "duration": 10,
    "start_time": "2022-05-10T20:35:24.987Z"
   },
   {
    "duration": 6,
    "start_time": "2022-05-10T20:35:24.999Z"
   },
   {
    "duration": 170,
    "start_time": "2022-05-10T20:35:25.007Z"
   },
   {
    "duration": 7,
    "start_time": "2022-05-10T20:35:25.179Z"
   },
   {
    "duration": 146,
    "start_time": "2022-05-10T20:35:25.187Z"
   },
   {
    "duration": 6,
    "start_time": "2022-05-10T20:35:25.340Z"
   },
   {
    "duration": 66,
    "start_time": "2022-05-10T20:35:25.348Z"
   },
   {
    "duration": 9,
    "start_time": "2022-05-10T20:35:25.415Z"
   },
   {
    "duration": 159,
    "start_time": "2022-05-10T20:35:25.426Z"
   },
   {
    "duration": 10,
    "start_time": "2022-05-10T20:35:25.587Z"
   },
   {
    "duration": 12,
    "start_time": "2022-05-10T20:35:25.599Z"
   },
   {
    "duration": 11,
    "start_time": "2022-05-10T20:35:25.625Z"
   },
   {
    "duration": 15,
    "start_time": "2022-05-10T20:35:25.639Z"
   },
   {
    "duration": 5,
    "start_time": "2022-05-10T20:35:25.656Z"
   },
   {
    "duration": 29,
    "start_time": "2022-05-10T20:35:38.454Z"
   },
   {
    "duration": 21,
    "start_time": "2022-05-10T20:35:47.749Z"
   },
   {
    "duration": 193,
    "start_time": "2022-05-10T20:37:14.742Z"
   },
   {
    "duration": 168,
    "start_time": "2022-05-10T20:37:31.902Z"
   },
   {
    "duration": 2853,
    "start_time": "2022-05-10T20:37:40.846Z"
   },
   {
    "duration": 250,
    "start_time": "2022-05-10T20:37:51.439Z"
   },
   {
    "duration": 286,
    "start_time": "2022-05-10T20:38:20.767Z"
   },
   {
    "duration": 286,
    "start_time": "2022-05-10T20:38:28.063Z"
   },
   {
    "duration": 195,
    "start_time": "2022-05-10T20:38:32.974Z"
   },
   {
    "duration": 179,
    "start_time": "2022-05-10T20:38:37.246Z"
   },
   {
    "duration": 198,
    "start_time": "2022-05-10T20:39:35.809Z"
   },
   {
    "duration": 379,
    "start_time": "2022-05-10T20:42:14.002Z"
   },
   {
    "duration": 157,
    "start_time": "2022-05-10T20:42:58.203Z"
   },
   {
    "duration": 218,
    "start_time": "2022-05-10T20:43:19.437Z"
   },
   {
    "duration": 203,
    "start_time": "2022-05-10T20:44:22.627Z"
   },
   {
    "duration": 217,
    "start_time": "2022-05-10T20:44:30.972Z"
   },
   {
    "duration": 34,
    "start_time": "2022-05-10T20:45:58.429Z"
   },
   {
    "duration": 1337,
    "start_time": "2022-05-11T05:04:30.602Z"
   },
   {
    "duration": 56,
    "start_time": "2022-05-11T05:04:31.941Z"
   },
   {
    "duration": 13,
    "start_time": "2022-05-11T05:04:31.998Z"
   },
   {
    "duration": 26,
    "start_time": "2022-05-11T05:04:32.013Z"
   },
   {
    "duration": 14,
    "start_time": "2022-05-11T05:04:32.041Z"
   },
   {
    "duration": 18,
    "start_time": "2022-05-11T05:04:32.057Z"
   },
   {
    "duration": 17,
    "start_time": "2022-05-11T05:04:32.101Z"
   },
   {
    "duration": 56,
    "start_time": "2022-05-11T05:04:32.121Z"
   },
   {
    "duration": 4,
    "start_time": "2022-05-11T05:04:32.179Z"
   },
   {
    "duration": 10,
    "start_time": "2022-05-11T05:04:32.200Z"
   },
   {
    "duration": 14,
    "start_time": "2022-05-11T05:04:32.212Z"
   },
   {
    "duration": 37,
    "start_time": "2022-05-11T05:04:32.228Z"
   },
   {
    "duration": 18,
    "start_time": "2022-05-11T05:04:32.267Z"
   },
   {
    "duration": 24,
    "start_time": "2022-05-11T05:04:32.287Z"
   },
   {
    "duration": 5,
    "start_time": "2022-05-11T05:04:32.313Z"
   },
   {
    "duration": 22,
    "start_time": "2022-05-11T05:04:32.320Z"
   },
   {
    "duration": 7,
    "start_time": "2022-05-11T05:04:32.343Z"
   },
   {
    "duration": 7,
    "start_time": "2022-05-11T05:04:32.352Z"
   },
   {
    "duration": 5,
    "start_time": "2022-05-11T05:04:32.361Z"
   },
   {
    "duration": 41,
    "start_time": "2022-05-11T05:04:32.367Z"
   },
   {
    "duration": 18,
    "start_time": "2022-05-11T05:04:32.409Z"
   },
   {
    "duration": 6,
    "start_time": "2022-05-11T05:04:32.429Z"
   },
   {
    "duration": 34,
    "start_time": "2022-05-11T05:04:32.437Z"
   },
   {
    "duration": 38,
    "start_time": "2022-05-11T05:04:32.473Z"
   },
   {
    "duration": 14,
    "start_time": "2022-05-11T05:04:32.513Z"
   },
   {
    "duration": 3,
    "start_time": "2022-05-11T05:04:32.529Z"
   },
   {
    "duration": 9,
    "start_time": "2022-05-11T05:04:32.533Z"
   },
   {
    "duration": 183,
    "start_time": "2022-05-11T05:04:32.545Z"
   },
   {
    "duration": 164,
    "start_time": "2022-05-11T05:04:32.730Z"
   },
   {
    "duration": 16,
    "start_time": "2022-05-11T05:04:32.895Z"
   },
   {
    "duration": 9,
    "start_time": "2022-05-11T05:04:32.913Z"
   },
   {
    "duration": 3,
    "start_time": "2022-05-11T05:04:32.924Z"
   },
   {
    "duration": 21,
    "start_time": "2022-05-11T05:04:32.928Z"
   },
   {
    "duration": 21,
    "start_time": "2022-05-11T05:04:32.951Z"
   },
   {
    "duration": 176,
    "start_time": "2022-05-11T05:04:32.973Z"
   },
   {
    "duration": 7,
    "start_time": "2022-05-11T05:04:33.150Z"
   },
   {
    "duration": 24,
    "start_time": "2022-05-11T05:04:33.158Z"
   },
   {
    "duration": 333,
    "start_time": "2022-05-11T05:04:33.200Z"
   },
   {
    "duration": 11,
    "start_time": "2022-05-11T05:04:33.534Z"
   },
   {
    "duration": 41,
    "start_time": "2022-05-11T05:04:33.546Z"
   },
   {
    "duration": 218,
    "start_time": "2022-05-11T05:04:33.599Z"
   },
   {
    "duration": 5,
    "start_time": "2022-05-11T05:04:33.819Z"
   },
   {
    "duration": 15,
    "start_time": "2022-05-11T05:04:33.825Z"
   },
   {
    "duration": 114,
    "start_time": "2022-05-11T05:04:33.842Z"
   },
   {
    "duration": 6,
    "start_time": "2022-05-11T05:04:33.958Z"
   },
   {
    "duration": 125,
    "start_time": "2022-05-11T05:04:33.965Z"
   },
   {
    "duration": 10,
    "start_time": "2022-05-11T05:04:34.091Z"
   },
   {
    "duration": 15,
    "start_time": "2022-05-11T05:04:34.102Z"
   },
   {
    "duration": 136,
    "start_time": "2022-05-11T05:04:34.118Z"
   },
   {
    "duration": 15,
    "start_time": "2022-05-11T05:04:34.256Z"
   },
   {
    "duration": 16,
    "start_time": "2022-05-11T05:04:34.273Z"
   },
   {
    "duration": 191,
    "start_time": "2022-05-11T05:04:34.290Z"
   },
   {
    "duration": 18,
    "start_time": "2022-05-11T05:04:34.482Z"
   },
   {
    "duration": 5,
    "start_time": "2022-05-11T05:04:34.501Z"
   },
   {
    "duration": 118,
    "start_time": "2022-05-11T05:04:34.507Z"
   },
   {
    "duration": 6,
    "start_time": "2022-05-11T05:04:34.627Z"
   },
   {
    "duration": 113,
    "start_time": "2022-05-11T05:04:34.634Z"
   },
   {
    "duration": 4,
    "start_time": "2022-05-11T05:04:34.749Z"
   },
   {
    "duration": 67,
    "start_time": "2022-05-11T05:04:34.754Z"
   },
   {
    "duration": 3,
    "start_time": "2022-05-11T05:04:34.823Z"
   },
   {
    "duration": 119,
    "start_time": "2022-05-11T05:04:34.828Z"
   },
   {
    "duration": 7,
    "start_time": "2022-05-11T05:04:34.949Z"
   },
   {
    "duration": 8,
    "start_time": "2022-05-11T05:04:34.958Z"
   },
   {
    "duration": 11,
    "start_time": "2022-05-11T05:04:34.967Z"
   },
   {
    "duration": 32,
    "start_time": "2022-05-11T05:04:34.980Z"
   },
   {
    "duration": 161,
    "start_time": "2022-05-11T05:04:35.014Z"
   },
   {
    "duration": 170,
    "start_time": "2022-05-11T05:04:35.176Z"
   },
   {
    "duration": 20,
    "start_time": "2022-05-11T05:06:15.059Z"
   },
   {
    "duration": 12,
    "start_time": "2022-05-11T05:12:54.010Z"
   },
   {
    "duration": 17,
    "start_time": "2022-05-11T05:12:58.280Z"
   },
   {
    "duration": 18,
    "start_time": "2022-05-11T05:13:07.719Z"
   },
   {
    "duration": 19,
    "start_time": "2022-05-11T05:14:07.291Z"
   },
   {
    "duration": 105,
    "start_time": "2022-05-11T05:21:29.189Z"
   },
   {
    "duration": 22,
    "start_time": "2022-05-11T05:22:17.562Z"
   },
   {
    "duration": 23,
    "start_time": "2022-05-11T05:22:26.206Z"
   },
   {
    "duration": 19,
    "start_time": "2022-05-11T05:24:19.481Z"
   },
   {
    "duration": 25,
    "start_time": "2022-05-11T05:24:29.733Z"
   },
   {
    "duration": 19,
    "start_time": "2022-05-11T05:27:39.261Z"
   },
   {
    "duration": 23,
    "start_time": "2022-05-11T05:28:03.954Z"
   },
   {
    "duration": 31,
    "start_time": "2022-05-11T05:28:44.928Z"
   },
   {
    "duration": 20,
    "start_time": "2022-05-11T05:28:55.705Z"
   },
   {
    "duration": 20,
    "start_time": "2022-05-11T05:29:03.797Z"
   },
   {
    "duration": 15,
    "start_time": "2022-05-11T05:29:31.953Z"
   },
   {
    "duration": 19,
    "start_time": "2022-05-11T05:29:38.208Z"
   },
   {
    "duration": 15,
    "start_time": "2022-05-11T08:35:57.792Z"
   },
   {
    "duration": 20,
    "start_time": "2022-05-11T08:36:33.378Z"
   },
   {
    "duration": 2771,
    "start_time": "2022-05-11T08:37:33.965Z"
   },
   {
    "duration": 23,
    "start_time": "2022-05-11T09:25:28.470Z"
   },
   {
    "duration": 19,
    "start_time": "2022-05-11T09:25:54.288Z"
   },
   {
    "duration": 20,
    "start_time": "2022-05-11T09:26:20.987Z"
   },
   {
    "duration": 22,
    "start_time": "2022-05-11T09:26:50.602Z"
   },
   {
    "duration": 23,
    "start_time": "2022-05-11T09:27:51.751Z"
   },
   {
    "duration": 29,
    "start_time": "2022-05-11T09:31:06.807Z"
   },
   {
    "duration": 30,
    "start_time": "2022-05-11T09:32:06.598Z"
   },
   {
    "duration": 24,
    "start_time": "2022-05-11T09:32:37.783Z"
   },
   {
    "duration": 24,
    "start_time": "2022-05-11T09:34:31.064Z"
   },
   {
    "duration": 27,
    "start_time": "2022-05-11T09:34:36.904Z"
   },
   {
    "duration": 26,
    "start_time": "2022-05-11T09:35:26.171Z"
   },
   {
    "duration": 26,
    "start_time": "2022-05-11T09:35:32.579Z"
   },
   {
    "duration": 30,
    "start_time": "2022-05-11T09:36:16.540Z"
   },
   {
    "duration": 24,
    "start_time": "2022-05-11T09:36:26.750Z"
   },
   {
    "duration": 26,
    "start_time": "2022-05-11T09:36:32.937Z"
   },
   {
    "duration": 30,
    "start_time": "2022-05-11T09:38:16.697Z"
   },
   {
    "duration": 36,
    "start_time": "2022-05-11T09:38:36.675Z"
   },
   {
    "duration": 32,
    "start_time": "2022-05-11T09:39:06.301Z"
   },
   {
    "duration": 25,
    "start_time": "2022-05-11T09:40:41.106Z"
   },
   {
    "duration": 27,
    "start_time": "2022-05-11T09:43:23.408Z"
   },
   {
    "duration": 34,
    "start_time": "2022-05-11T09:43:42.080Z"
   },
   {
    "duration": 33,
    "start_time": "2022-05-11T09:44:53.437Z"
   },
   {
    "duration": 33,
    "start_time": "2022-05-11T09:45:59.621Z"
   },
   {
    "duration": 34,
    "start_time": "2022-05-11T09:46:20.012Z"
   },
   {
    "duration": 10,
    "start_time": "2022-05-11T09:49:35.754Z"
   },
   {
    "duration": 34,
    "start_time": "2022-05-11T09:51:39.153Z"
   },
   {
    "duration": 16,
    "start_time": "2022-05-11T10:03:17.003Z"
   },
   {
    "duration": 20,
    "start_time": "2022-05-11T10:03:26.668Z"
   },
   {
    "duration": 7,
    "start_time": "2022-05-11T10:03:40.811Z"
   },
   {
    "duration": 9,
    "start_time": "2022-05-11T10:04:36.450Z"
   },
   {
    "duration": 7,
    "start_time": "2022-05-11T10:05:02.836Z"
   },
   {
    "duration": 26,
    "start_time": "2022-05-11T10:06:33.921Z"
   },
   {
    "duration": 25,
    "start_time": "2022-05-11T10:07:09.277Z"
   },
   {
    "duration": 25,
    "start_time": "2022-05-11T10:07:21.279Z"
   },
   {
    "duration": 24,
    "start_time": "2022-05-11T10:08:20.971Z"
   },
   {
    "duration": 24,
    "start_time": "2022-05-11T10:08:43.576Z"
   },
   {
    "duration": 1161,
    "start_time": "2022-05-11T10:16:46.358Z"
   },
   {
    "duration": 69,
    "start_time": "2022-05-11T10:16:47.520Z"
   },
   {
    "duration": 13,
    "start_time": "2022-05-11T10:16:47.591Z"
   },
   {
    "duration": 28,
    "start_time": "2022-05-11T10:16:47.606Z"
   },
   {
    "duration": 17,
    "start_time": "2022-05-11T10:16:47.636Z"
   },
   {
    "duration": 15,
    "start_time": "2022-05-11T10:16:47.654Z"
   },
   {
    "duration": 36,
    "start_time": "2022-05-11T10:16:47.671Z"
   },
   {
    "duration": 51,
    "start_time": "2022-05-11T10:16:47.709Z"
   },
   {
    "duration": 3,
    "start_time": "2022-05-11T10:16:47.762Z"
   },
   {
    "duration": 12,
    "start_time": "2022-05-11T10:16:47.768Z"
   },
   {
    "duration": 15,
    "start_time": "2022-05-11T10:16:47.781Z"
   },
   {
    "duration": 17,
    "start_time": "2022-05-11T10:16:47.800Z"
   },
   {
    "duration": 18,
    "start_time": "2022-05-11T10:16:47.818Z"
   },
   {
    "duration": 14,
    "start_time": "2022-05-11T10:16:47.837Z"
   },
   {
    "duration": 4,
    "start_time": "2022-05-11T10:16:47.853Z"
   },
   {
    "duration": 20,
    "start_time": "2022-05-11T10:16:47.858Z"
   },
   {
    "duration": 25,
    "start_time": "2022-05-11T10:16:47.880Z"
   },
   {
    "duration": 7,
    "start_time": "2022-05-11T10:16:47.906Z"
   },
   {
    "duration": 6,
    "start_time": "2022-05-11T10:16:47.914Z"
   },
   {
    "duration": 8,
    "start_time": "2022-05-11T10:16:47.922Z"
   },
   {
    "duration": 13,
    "start_time": "2022-05-11T10:16:47.931Z"
   },
   {
    "duration": 15,
    "start_time": "2022-05-11T10:16:47.945Z"
   },
   {
    "duration": 38,
    "start_time": "2022-05-11T10:16:47.962Z"
   },
   {
    "duration": 21,
    "start_time": "2022-05-11T10:16:48.001Z"
   },
   {
    "duration": 15,
    "start_time": "2022-05-11T10:16:48.024Z"
   },
   {
    "duration": 3,
    "start_time": "2022-05-11T10:16:48.040Z"
   },
   {
    "duration": 13,
    "start_time": "2022-05-11T10:16:48.045Z"
   },
   {
    "duration": 191,
    "start_time": "2022-05-11T10:16:48.062Z"
   },
   {
    "duration": 162,
    "start_time": "2022-05-11T10:16:48.255Z"
   },
   {
    "duration": 12,
    "start_time": "2022-05-11T10:16:48.419Z"
   },
   {
    "duration": 9,
    "start_time": "2022-05-11T10:16:48.433Z"
   },
   {
    "duration": 3,
    "start_time": "2022-05-11T10:16:48.443Z"
   },
   {
    "duration": 22,
    "start_time": "2022-05-11T10:16:48.447Z"
   },
   {
    "duration": 37,
    "start_time": "2022-05-11T10:16:48.470Z"
   },
   {
    "duration": 171,
    "start_time": "2022-05-11T10:16:48.509Z"
   },
   {
    "duration": 6,
    "start_time": "2022-05-11T10:16:48.682Z"
   },
   {
    "duration": 22,
    "start_time": "2022-05-11T10:16:48.700Z"
   },
   {
    "duration": 265,
    "start_time": "2022-05-11T10:16:48.724Z"
   },
   {
    "duration": 15,
    "start_time": "2022-05-11T10:16:48.990Z"
   },
   {
    "duration": 28,
    "start_time": "2022-05-11T10:16:49.006Z"
   },
   {
    "duration": 170,
    "start_time": "2022-05-11T10:16:49.035Z"
   },
   {
    "duration": 5,
    "start_time": "2022-05-11T10:16:49.207Z"
   },
   {
    "duration": 9,
    "start_time": "2022-05-11T10:16:49.213Z"
   },
   {
    "duration": 127,
    "start_time": "2022-05-11T10:16:49.223Z"
   },
   {
    "duration": 6,
    "start_time": "2022-05-11T10:16:49.351Z"
   },
   {
    "duration": 126,
    "start_time": "2022-05-11T10:16:49.358Z"
   },
   {
    "duration": 5,
    "start_time": "2022-05-11T10:16:49.485Z"
   },
   {
    "duration": 21,
    "start_time": "2022-05-11T10:16:49.491Z"
   },
   {
    "duration": 132,
    "start_time": "2022-05-11T10:16:49.513Z"
   },
   {
    "duration": 14,
    "start_time": "2022-05-11T10:16:49.647Z"
   },
   {
    "duration": 14,
    "start_time": "2022-05-11T10:16:49.663Z"
   },
   {
    "duration": 197,
    "start_time": "2022-05-11T10:16:49.679Z"
   },
   {
    "duration": 24,
    "start_time": "2022-05-11T10:16:49.877Z"
   },
   {
    "duration": 9,
    "start_time": "2022-05-11T10:16:49.903Z"
   },
   {
    "duration": 121,
    "start_time": "2022-05-11T10:16:49.913Z"
   },
   {
    "duration": 7,
    "start_time": "2022-05-11T10:16:50.036Z"
   },
   {
    "duration": 120,
    "start_time": "2022-05-11T10:16:50.045Z"
   },
   {
    "duration": 6,
    "start_time": "2022-05-11T10:16:50.167Z"
   },
   {
    "duration": 75,
    "start_time": "2022-05-11T10:16:50.175Z"
   },
   {
    "duration": 4,
    "start_time": "2022-05-11T10:16:50.252Z"
   },
   {
    "duration": 123,
    "start_time": "2022-05-11T10:16:50.258Z"
   },
   {
    "duration": 18,
    "start_time": "2022-05-11T10:16:50.383Z"
   },
   {
    "duration": 8,
    "start_time": "2022-05-11T10:16:50.402Z"
   },
   {
    "duration": 17,
    "start_time": "2022-05-11T10:16:50.411Z"
   },
   {
    "duration": 31,
    "start_time": "2022-05-11T10:16:50.429Z"
   },
   {
    "duration": 158,
    "start_time": "2022-05-11T10:16:50.461Z"
   },
   {
    "duration": 33,
    "start_time": "2022-05-11T10:16:50.621Z"
   },
   {
    "duration": 36,
    "start_time": "2022-05-11T10:16:50.656Z"
   },
   {
    "duration": 11,
    "start_time": "2022-05-11T10:36:28.326Z"
   },
   {
    "duration": 13,
    "start_time": "2022-05-11T10:36:47.292Z"
   },
   {
    "duration": 17,
    "start_time": "2022-05-11T10:36:52.466Z"
   },
   {
    "duration": 16,
    "start_time": "2022-05-11T10:37:03.450Z"
   },
   {
    "duration": 15,
    "start_time": "2022-05-11T10:37:13.008Z"
   },
   {
    "duration": 16,
    "start_time": "2022-05-11T10:37:19.336Z"
   },
   {
    "duration": 16,
    "start_time": "2022-05-11T10:37:26.127Z"
   },
   {
    "duration": 4630,
    "start_time": "2022-05-11T10:38:35.794Z"
   },
   {
    "duration": 15,
    "start_time": "2022-05-11T10:39:23.909Z"
   },
   {
    "duration": 2633,
    "start_time": "2022-05-11T10:39:45.529Z"
   },
   {
    "duration": 16,
    "start_time": "2022-05-11T10:40:35.167Z"
   },
   {
    "duration": 13,
    "start_time": "2022-05-11T10:40:41.035Z"
   },
   {
    "duration": 139,
    "start_time": "2022-05-11T10:40:47.887Z"
   },
   {
    "duration": 127,
    "start_time": "2022-05-11T10:40:58.106Z"
   },
   {
    "duration": 125,
    "start_time": "2022-05-11T10:41:04.657Z"
   },
   {
    "duration": 6,
    "start_time": "2022-05-11T10:42:13.653Z"
   },
   {
    "duration": 52,
    "start_time": "2022-05-11T19:19:29.972Z"
   },
   {
    "duration": 1598,
    "start_time": "2022-05-11T19:19:39.710Z"
   },
   {
    "duration": 57,
    "start_time": "2022-05-11T19:19:41.311Z"
   },
   {
    "duration": 15,
    "start_time": "2022-05-11T19:19:41.370Z"
   },
   {
    "duration": 27,
    "start_time": "2022-05-11T19:19:41.387Z"
   },
   {
    "duration": 17,
    "start_time": "2022-05-11T19:19:41.415Z"
   },
   {
    "duration": 2150,
    "start_time": "2022-05-11T19:19:41.433Z"
   },
   {
    "duration": 0,
    "start_time": "2022-05-11T19:19:43.587Z"
   },
   {
    "duration": 0,
    "start_time": "2022-05-11T19:19:43.588Z"
   },
   {
    "duration": 0,
    "start_time": "2022-05-11T19:19:43.589Z"
   },
   {
    "duration": 0,
    "start_time": "2022-05-11T19:19:43.590Z"
   },
   {
    "duration": 1,
    "start_time": "2022-05-11T19:19:43.591Z"
   },
   {
    "duration": 0,
    "start_time": "2022-05-11T19:19:43.593Z"
   },
   {
    "duration": 0,
    "start_time": "2022-05-11T19:19:43.594Z"
   },
   {
    "duration": 0,
    "start_time": "2022-05-11T19:19:43.595Z"
   },
   {
    "duration": 0,
    "start_time": "2022-05-11T19:19:43.596Z"
   },
   {
    "duration": 0,
    "start_time": "2022-05-11T19:19:43.597Z"
   },
   {
    "duration": 0,
    "start_time": "2022-05-11T19:19:43.598Z"
   },
   {
    "duration": 0,
    "start_time": "2022-05-11T19:19:43.599Z"
   },
   {
    "duration": 0,
    "start_time": "2022-05-11T19:19:43.600Z"
   },
   {
    "duration": 0,
    "start_time": "2022-05-11T19:19:43.601Z"
   },
   {
    "duration": 0,
    "start_time": "2022-05-11T19:19:43.602Z"
   },
   {
    "duration": 0,
    "start_time": "2022-05-11T19:19:43.603Z"
   },
   {
    "duration": 0,
    "start_time": "2022-05-11T19:19:43.604Z"
   },
   {
    "duration": 0,
    "start_time": "2022-05-11T19:19:43.605Z"
   },
   {
    "duration": 0,
    "start_time": "2022-05-11T19:19:43.607Z"
   },
   {
    "duration": 0,
    "start_time": "2022-05-11T19:19:43.607Z"
   },
   {
    "duration": 0,
    "start_time": "2022-05-11T19:19:43.609Z"
   },
   {
    "duration": 1,
    "start_time": "2022-05-11T19:19:43.609Z"
   },
   {
    "duration": 0,
    "start_time": "2022-05-11T19:19:43.610Z"
   },
   {
    "duration": 0,
    "start_time": "2022-05-11T19:19:43.611Z"
   },
   {
    "duration": 0,
    "start_time": "2022-05-11T19:19:43.612Z"
   },
   {
    "duration": 0,
    "start_time": "2022-05-11T19:19:43.614Z"
   },
   {
    "duration": 0,
    "start_time": "2022-05-11T19:19:43.615Z"
   },
   {
    "duration": 0,
    "start_time": "2022-05-11T19:19:43.616Z"
   },
   {
    "duration": 0,
    "start_time": "2022-05-11T19:19:43.617Z"
   },
   {
    "duration": 0,
    "start_time": "2022-05-11T19:19:43.618Z"
   },
   {
    "duration": 0,
    "start_time": "2022-05-11T19:19:43.619Z"
   },
   {
    "duration": 0,
    "start_time": "2022-05-11T19:19:43.620Z"
   },
   {
    "duration": 0,
    "start_time": "2022-05-11T19:19:43.621Z"
   },
   {
    "duration": 0,
    "start_time": "2022-05-11T19:19:43.622Z"
   },
   {
    "duration": 0,
    "start_time": "2022-05-11T19:19:43.623Z"
   },
   {
    "duration": 0,
    "start_time": "2022-05-11T19:19:43.667Z"
   },
   {
    "duration": 0,
    "start_time": "2022-05-11T19:19:43.668Z"
   },
   {
    "duration": 0,
    "start_time": "2022-05-11T19:19:43.669Z"
   },
   {
    "duration": 0,
    "start_time": "2022-05-11T19:19:43.671Z"
   },
   {
    "duration": 0,
    "start_time": "2022-05-11T19:19:43.672Z"
   },
   {
    "duration": 0,
    "start_time": "2022-05-11T19:19:43.673Z"
   },
   {
    "duration": 0,
    "start_time": "2022-05-11T19:19:43.675Z"
   },
   {
    "duration": 0,
    "start_time": "2022-05-11T19:19:43.676Z"
   },
   {
    "duration": 0,
    "start_time": "2022-05-11T19:19:43.677Z"
   },
   {
    "duration": 1,
    "start_time": "2022-05-11T19:19:43.677Z"
   },
   {
    "duration": 0,
    "start_time": "2022-05-11T19:19:43.679Z"
   },
   {
    "duration": 0,
    "start_time": "2022-05-11T19:19:43.680Z"
   },
   {
    "duration": 0,
    "start_time": "2022-05-11T19:19:43.681Z"
   },
   {
    "duration": 0,
    "start_time": "2022-05-11T19:19:43.682Z"
   },
   {
    "duration": 0,
    "start_time": "2022-05-11T19:19:43.683Z"
   },
   {
    "duration": 0,
    "start_time": "2022-05-11T19:19:43.684Z"
   },
   {
    "duration": 0,
    "start_time": "2022-05-11T19:19:43.685Z"
   },
   {
    "duration": 0,
    "start_time": "2022-05-11T19:19:43.687Z"
   },
   {
    "duration": 0,
    "start_time": "2022-05-11T19:19:43.688Z"
   },
   {
    "duration": 0,
    "start_time": "2022-05-11T19:19:43.689Z"
   },
   {
    "duration": 0,
    "start_time": "2022-05-11T19:19:43.690Z"
   },
   {
    "duration": 0,
    "start_time": "2022-05-11T19:19:43.691Z"
   },
   {
    "duration": 0,
    "start_time": "2022-05-11T19:19:43.692Z"
   },
   {
    "duration": 0,
    "start_time": "2022-05-11T19:19:43.693Z"
   },
   {
    "duration": 0,
    "start_time": "2022-05-11T19:19:43.694Z"
   },
   {
    "duration": 0,
    "start_time": "2022-05-11T19:19:43.696Z"
   },
   {
    "duration": 0,
    "start_time": "2022-05-11T19:19:43.697Z"
   },
   {
    "duration": 0,
    "start_time": "2022-05-11T19:19:43.698Z"
   },
   {
    "duration": 0,
    "start_time": "2022-05-11T19:19:43.700Z"
   },
   {
    "duration": 0,
    "start_time": "2022-05-11T19:19:43.701Z"
   },
   {
    "duration": 0,
    "start_time": "2022-05-11T19:19:43.702Z"
   },
   {
    "duration": 0,
    "start_time": "2022-05-11T19:19:43.703Z"
   },
   {
    "duration": 1501,
    "start_time": "2022-05-11T19:21:07.685Z"
   },
   {
    "duration": 59,
    "start_time": "2022-05-11T19:21:09.188Z"
   },
   {
    "duration": 21,
    "start_time": "2022-05-11T19:21:09.249Z"
   },
   {
    "duration": 30,
    "start_time": "2022-05-11T19:21:09.272Z"
   },
   {
    "duration": 18,
    "start_time": "2022-05-11T19:21:09.305Z"
   },
   {
    "duration": 7,
    "start_time": "2022-05-11T19:21:09.325Z"
   },
   {
    "duration": 45,
    "start_time": "2022-05-11T19:21:09.334Z"
   },
   {
    "duration": 13,
    "start_time": "2022-05-11T19:21:09.381Z"
   },
   {
    "duration": 55,
    "start_time": "2022-05-11T19:21:09.396Z"
   },
   {
    "duration": 12,
    "start_time": "2022-05-11T19:21:09.456Z"
   },
   {
    "duration": 10,
    "start_time": "2022-05-11T19:21:09.470Z"
   },
   {
    "duration": 16,
    "start_time": "2022-05-11T19:21:09.482Z"
   },
   {
    "duration": 19,
    "start_time": "2022-05-11T19:21:09.500Z"
   },
   {
    "duration": 30,
    "start_time": "2022-05-11T19:21:09.521Z"
   },
   {
    "duration": 14,
    "start_time": "2022-05-11T19:21:09.568Z"
   },
   {
    "duration": 8,
    "start_time": "2022-05-11T19:21:09.584Z"
   },
   {
    "duration": 21,
    "start_time": "2022-05-11T19:21:09.594Z"
   },
   {
    "duration": 8,
    "start_time": "2022-05-11T19:21:09.616Z"
   },
   {
    "duration": 8,
    "start_time": "2022-05-11T19:21:09.626Z"
   },
   {
    "duration": 5,
    "start_time": "2022-05-11T19:21:09.668Z"
   },
   {
    "duration": 12,
    "start_time": "2022-05-11T19:21:09.675Z"
   },
   {
    "duration": 13,
    "start_time": "2022-05-11T19:21:09.689Z"
   },
   {
    "duration": 9,
    "start_time": "2022-05-11T19:21:09.703Z"
   },
   {
    "duration": 23,
    "start_time": "2022-05-11T19:21:09.714Z"
   },
   {
    "duration": 46,
    "start_time": "2022-05-11T19:21:09.740Z"
   },
   {
    "duration": 18,
    "start_time": "2022-05-11T19:21:09.788Z"
   },
   {
    "duration": 4,
    "start_time": "2022-05-11T19:21:09.808Z"
   },
   {
    "duration": 7,
    "start_time": "2022-05-11T19:21:09.818Z"
   },
   {
    "duration": 220,
    "start_time": "2022-05-11T19:21:09.826Z"
   },
   {
    "duration": 181,
    "start_time": "2022-05-11T19:21:10.047Z"
   },
   {
    "duration": 14,
    "start_time": "2022-05-11T19:21:10.231Z"
   },
   {
    "duration": 27,
    "start_time": "2022-05-11T19:21:10.247Z"
   },
   {
    "duration": 2,
    "start_time": "2022-05-11T19:21:10.276Z"
   },
   {
    "duration": 30,
    "start_time": "2022-05-11T19:21:10.280Z"
   },
   {
    "duration": 14,
    "start_time": "2022-05-11T19:21:10.313Z"
   },
   {
    "duration": 195,
    "start_time": "2022-05-11T19:21:10.329Z"
   },
   {
    "duration": 7,
    "start_time": "2022-05-11T19:21:10.525Z"
   },
   {
    "duration": 42,
    "start_time": "2022-05-11T19:21:10.534Z"
   },
   {
    "duration": 303,
    "start_time": "2022-05-11T19:21:10.578Z"
   },
   {
    "duration": 11,
    "start_time": "2022-05-11T19:21:10.882Z"
   },
   {
    "duration": 29,
    "start_time": "2022-05-11T19:21:10.895Z"
   },
   {
    "duration": 199,
    "start_time": "2022-05-11T19:21:10.925Z"
   },
   {
    "duration": 6,
    "start_time": "2022-05-11T19:21:11.126Z"
   },
   {
    "duration": 7,
    "start_time": "2022-05-11T19:21:11.133Z"
   },
   {
    "duration": 145,
    "start_time": "2022-05-11T19:21:11.142Z"
   },
   {
    "duration": 6,
    "start_time": "2022-05-11T19:21:11.289Z"
   },
   {
    "duration": 133,
    "start_time": "2022-05-11T19:21:11.297Z"
   },
   {
    "duration": 5,
    "start_time": "2022-05-11T19:21:11.432Z"
   },
   {
    "duration": 29,
    "start_time": "2022-05-11T19:21:11.439Z"
   },
   {
    "duration": 139,
    "start_time": "2022-05-11T19:21:11.469Z"
   },
   {
    "duration": 15,
    "start_time": "2022-05-11T19:21:11.611Z"
   },
   {
    "duration": 13,
    "start_time": "2022-05-11T19:21:11.627Z"
   },
   {
    "duration": 222,
    "start_time": "2022-05-11T19:21:11.642Z"
   },
   {
    "duration": 9,
    "start_time": "2022-05-11T19:21:11.867Z"
   },
   {
    "duration": 7,
    "start_time": "2022-05-11T19:21:11.878Z"
   },
   {
    "duration": 145,
    "start_time": "2022-05-11T19:21:11.887Z"
   },
   {
    "duration": 6,
    "start_time": "2022-05-11T19:21:12.035Z"
   },
   {
    "duration": 124,
    "start_time": "2022-05-11T19:21:12.043Z"
   },
   {
    "duration": 6,
    "start_time": "2022-05-11T19:21:12.168Z"
   },
   {
    "duration": 66,
    "start_time": "2022-05-11T19:21:12.176Z"
   },
   {
    "duration": 4,
    "start_time": "2022-05-11T19:21:12.244Z"
   },
   {
    "duration": 127,
    "start_time": "2022-05-11T19:21:12.266Z"
   },
   {
    "duration": 8,
    "start_time": "2022-05-11T19:21:12.395Z"
   },
   {
    "duration": 9,
    "start_time": "2022-05-11T19:21:12.405Z"
   },
   {
    "duration": 15,
    "start_time": "2022-05-11T19:21:12.415Z"
   },
   {
    "duration": 37,
    "start_time": "2022-05-11T19:21:12.431Z"
   },
   {
    "duration": 172,
    "start_time": "2022-05-11T19:21:12.469Z"
   },
   {
    "duration": 47,
    "start_time": "2022-05-11T19:21:12.642Z"
   },
   {
    "duration": 8,
    "start_time": "2022-05-11T19:21:12.691Z"
   },
   {
    "duration": 17,
    "start_time": "2022-05-11T19:21:12.700Z"
   },
   {
    "duration": 153,
    "start_time": "2022-05-11T19:21:12.719Z"
   },
   {
    "duration": 8,
    "start_time": "2022-05-11T19:21:12.873Z"
   },
   {
    "duration": 129,
    "start_time": "2022-05-11T19:21:12.882Z"
   },
   {
    "duration": 11,
    "start_time": "2022-05-11T19:21:59.418Z"
   },
   {
    "duration": 9,
    "start_time": "2022-05-11T19:22:15.835Z"
   },
   {
    "duration": 9,
    "start_time": "2022-05-11T19:22:30.426Z"
   },
   {
    "duration": 137,
    "start_time": "2022-05-11T19:23:00.915Z"
   },
   {
    "duration": 133,
    "start_time": "2022-05-11T19:23:10.147Z"
   },
   {
    "duration": 145,
    "start_time": "2022-05-11T19:23:15.067Z"
   },
   {
    "duration": 136,
    "start_time": "2022-05-11T19:23:19.019Z"
   },
   {
    "duration": 223,
    "start_time": "2022-05-11T19:23:46.323Z"
   },
   {
    "duration": 149,
    "start_time": "2022-05-11T19:24:04.868Z"
   },
   {
    "duration": 140,
    "start_time": "2022-05-11T19:24:10.587Z"
   },
   {
    "duration": 2,
    "start_time": "2022-05-11T19:25:17.557Z"
   },
   {
    "duration": 3,
    "start_time": "2022-05-11T19:26:57.398Z"
   },
   {
    "duration": 5,
    "start_time": "2022-05-11T20:40:51.590Z"
   },
   {
    "duration": 9,
    "start_time": "2022-05-11T20:41:20.453Z"
   },
   {
    "duration": 5,
    "start_time": "2022-05-11T20:41:28.358Z"
   },
   {
    "duration": 1109,
    "start_time": "2022-05-11T20:42:22.173Z"
   },
   {
    "duration": 58,
    "start_time": "2022-05-11T20:42:23.284Z"
   },
   {
    "duration": 14,
    "start_time": "2022-05-11T20:42:23.343Z"
   },
   {
    "duration": 32,
    "start_time": "2022-05-11T20:42:23.358Z"
   },
   {
    "duration": 16,
    "start_time": "2022-05-11T20:42:23.392Z"
   },
   {
    "duration": 6,
    "start_time": "2022-05-11T20:42:23.410Z"
   },
   {
    "duration": 23,
    "start_time": "2022-05-11T20:42:23.418Z"
   },
   {
    "duration": 31,
    "start_time": "2022-05-11T20:42:23.442Z"
   },
   {
    "duration": 53,
    "start_time": "2022-05-11T20:42:23.474Z"
   },
   {
    "duration": 3,
    "start_time": "2022-05-11T20:42:23.531Z"
   },
   {
    "duration": 13,
    "start_time": "2022-05-11T20:42:23.536Z"
   },
   {
    "duration": 18,
    "start_time": "2022-05-11T20:42:23.550Z"
   },
   {
    "duration": 18,
    "start_time": "2022-05-11T20:42:23.569Z"
   },
   {
    "duration": 14,
    "start_time": "2022-05-11T20:42:23.589Z"
   },
   {
    "duration": 12,
    "start_time": "2022-05-11T20:42:23.605Z"
   },
   {
    "duration": 6,
    "start_time": "2022-05-11T20:42:23.618Z"
   },
   {
    "duration": 44,
    "start_time": "2022-05-11T20:42:23.626Z"
   },
   {
    "duration": 7,
    "start_time": "2022-05-11T20:42:23.671Z"
   },
   {
    "duration": 6,
    "start_time": "2022-05-11T20:42:23.680Z"
   },
   {
    "duration": 5,
    "start_time": "2022-05-11T20:42:23.687Z"
   },
   {
    "duration": 12,
    "start_time": "2022-05-11T20:42:23.693Z"
   },
   {
    "duration": 11,
    "start_time": "2022-05-11T20:42:23.707Z"
   },
   {
    "duration": 6,
    "start_time": "2022-05-11T20:42:23.719Z"
   },
   {
    "duration": 48,
    "start_time": "2022-05-11T20:42:23.726Z"
   },
   {
    "duration": 22,
    "start_time": "2022-05-11T20:42:23.776Z"
   },
   {
    "duration": 16,
    "start_time": "2022-05-11T20:42:23.799Z"
   },
   {
    "duration": 4,
    "start_time": "2022-05-11T20:42:23.816Z"
   },
   {
    "duration": 5,
    "start_time": "2022-05-11T20:42:23.824Z"
   },
   {
    "duration": 214,
    "start_time": "2022-05-11T20:42:23.830Z"
   },
   {
    "duration": 177,
    "start_time": "2022-05-11T20:42:24.045Z"
   },
   {
    "duration": 14,
    "start_time": "2022-05-11T20:42:24.223Z"
   },
   {
    "duration": 9,
    "start_time": "2022-05-11T20:42:24.239Z"
   },
   {
    "duration": 18,
    "start_time": "2022-05-11T20:42:24.250Z"
   },
   {
    "duration": 26,
    "start_time": "2022-05-11T20:42:24.269Z"
   },
   {
    "duration": 12,
    "start_time": "2022-05-11T20:42:24.296Z"
   },
   {
    "duration": 177,
    "start_time": "2022-05-11T20:42:24.309Z"
   },
   {
    "duration": 6,
    "start_time": "2022-05-11T20:42:24.488Z"
   },
   {
    "duration": 25,
    "start_time": "2022-05-11T20:42:24.495Z"
   },
   {
    "duration": 316,
    "start_time": "2022-05-11T20:42:24.521Z"
   },
   {
    "duration": 10,
    "start_time": "2022-05-11T20:42:24.839Z"
   },
   {
    "duration": 36,
    "start_time": "2022-05-11T20:42:24.850Z"
   },
   {
    "duration": 173,
    "start_time": "2022-05-11T20:42:24.888Z"
   },
   {
    "duration": 6,
    "start_time": "2022-05-11T20:42:25.067Z"
   },
   {
    "duration": 16,
    "start_time": "2022-05-11T20:42:25.074Z"
   },
   {
    "duration": 133,
    "start_time": "2022-05-11T20:42:25.092Z"
   },
   {
    "duration": 7,
    "start_time": "2022-05-11T20:42:25.226Z"
   },
   {
    "duration": 139,
    "start_time": "2022-05-11T20:42:25.234Z"
   },
   {
    "duration": 6,
    "start_time": "2022-05-11T20:42:25.375Z"
   },
   {
    "duration": 40,
    "start_time": "2022-05-11T20:42:25.382Z"
   },
   {
    "duration": 141,
    "start_time": "2022-05-11T20:42:25.424Z"
   },
   {
    "duration": 14,
    "start_time": "2022-05-11T20:42:25.567Z"
   },
   {
    "duration": 24,
    "start_time": "2022-05-11T20:42:25.583Z"
   },
   {
    "duration": 206,
    "start_time": "2022-05-11T20:42:25.608Z"
   },
   {
    "duration": 8,
    "start_time": "2022-05-11T20:42:25.816Z"
   },
   {
    "duration": 18,
    "start_time": "2022-05-11T20:42:25.825Z"
   },
   {
    "duration": 138,
    "start_time": "2022-05-11T20:42:25.845Z"
   },
   {
    "duration": 7,
    "start_time": "2022-05-11T20:42:25.984Z"
   },
   {
    "duration": 147,
    "start_time": "2022-05-11T20:42:25.993Z"
   },
   {
    "duration": 6,
    "start_time": "2022-05-11T20:42:26.142Z"
   },
   {
    "duration": 85,
    "start_time": "2022-05-11T20:42:26.150Z"
   },
   {
    "duration": 4,
    "start_time": "2022-05-11T20:42:26.237Z"
   },
   {
    "duration": 127,
    "start_time": "2022-05-11T20:42:26.243Z"
   },
   {
    "duration": 9,
    "start_time": "2022-05-11T20:42:26.372Z"
   },
   {
    "duration": 22,
    "start_time": "2022-05-11T20:42:26.382Z"
   },
   {
    "duration": 28,
    "start_time": "2022-05-11T20:42:26.405Z"
   },
   {
    "duration": 38,
    "start_time": "2022-05-11T20:42:26.435Z"
   },
   {
    "duration": 177,
    "start_time": "2022-05-11T20:42:26.475Z"
   },
   {
    "duration": 42,
    "start_time": "2022-05-11T20:42:26.653Z"
   },
   {
    "duration": 7,
    "start_time": "2022-05-11T20:42:26.697Z"
   },
   {
    "duration": 18,
    "start_time": "2022-05-11T20:42:26.706Z"
   },
   {
    "duration": 157,
    "start_time": "2022-05-11T20:42:26.725Z"
   },
   {
    "duration": 11,
    "start_time": "2022-05-11T20:42:26.885Z"
   },
   {
    "duration": 5,
    "start_time": "2022-05-11T20:42:26.898Z"
   },
   {
    "duration": 9,
    "start_time": "2022-05-11T20:42:26.905Z"
   },
   {
    "duration": 109,
    "start_time": "2022-05-11T20:42:26.916Z"
   },
   {
    "duration": 5,
    "start_time": "2022-05-11T20:42:49.222Z"
   },
   {
    "duration": 10,
    "start_time": "2022-05-11T20:43:35.687Z"
   },
   {
    "duration": 5,
    "start_time": "2022-05-11T20:43:38.006Z"
   },
   {
    "duration": 6,
    "start_time": "2022-05-11T20:43:56.391Z"
   },
   {
    "duration": 8,
    "start_time": "2022-05-11T20:44:33.464Z"
   },
   {
    "duration": 6,
    "start_time": "2022-05-11T20:44:35.391Z"
   },
   {
    "duration": 9,
    "start_time": "2022-05-11T20:44:50.032Z"
   },
   {
    "duration": 6,
    "start_time": "2022-05-11T20:44:51.716Z"
   },
   {
    "duration": 9,
    "start_time": "2022-05-11T20:44:59.514Z"
   },
   {
    "duration": 5,
    "start_time": "2022-05-11T20:45:01.304Z"
   },
   {
    "duration": 5,
    "start_time": "2022-05-11T20:45:05.417Z"
   },
   {
    "duration": 150,
    "start_time": "2022-05-11T20:54:13.069Z"
   },
   {
    "duration": 142,
    "start_time": "2022-05-11T20:54:31.038Z"
   },
   {
    "duration": 133,
    "start_time": "2022-05-11T20:55:37.608Z"
   },
   {
    "duration": 9,
    "start_time": "2022-05-11T21:03:15.638Z"
   },
   {
    "duration": 5,
    "start_time": "2022-05-11T21:06:56.416Z"
   },
   {
    "duration": 126,
    "start_time": "2022-05-11T21:08:11.618Z"
   },
   {
    "duration": 218,
    "start_time": "2022-05-11T21:09:01.164Z"
   },
   {
    "duration": 105,
    "start_time": "2022-05-11T21:17:17.624Z"
   },
   {
    "duration": 10,
    "start_time": "2022-05-11T21:17:23.480Z"
   },
   {
    "duration": 9,
    "start_time": "2022-05-11T21:18:11.472Z"
   },
   {
    "duration": 11,
    "start_time": "2022-05-11T21:18:18.840Z"
   },
   {
    "duration": 5,
    "start_time": "2022-05-11T21:18:24.800Z"
   },
   {
    "duration": 10,
    "start_time": "2022-05-11T21:19:51.434Z"
   },
   {
    "duration": 10,
    "start_time": "2022-05-11T21:20:29.955Z"
   },
   {
    "duration": 5,
    "start_time": "2022-05-11T21:20:41.642Z"
   },
   {
    "duration": 12,
    "start_time": "2022-05-11T21:22:38.860Z"
   },
   {
    "duration": 4,
    "start_time": "2022-05-11T21:22:51.100Z"
   },
   {
    "duration": 12,
    "start_time": "2022-05-11T21:25:31.558Z"
   },
   {
    "duration": 16,
    "start_time": "2022-05-11T21:26:23.687Z"
   },
   {
    "duration": 1218,
    "start_time": "2022-05-11T22:05:32.545Z"
   },
   {
    "duration": 56,
    "start_time": "2022-05-11T22:05:33.766Z"
   },
   {
    "duration": 15,
    "start_time": "2022-05-11T22:05:33.824Z"
   },
   {
    "duration": 39,
    "start_time": "2022-05-11T22:05:33.841Z"
   },
   {
    "duration": 18,
    "start_time": "2022-05-11T22:05:33.881Z"
   },
   {
    "duration": 7,
    "start_time": "2022-05-11T22:05:33.900Z"
   },
   {
    "duration": 14,
    "start_time": "2022-05-11T22:05:33.909Z"
   },
   {
    "duration": 42,
    "start_time": "2022-05-11T22:05:33.925Z"
   },
   {
    "duration": 51,
    "start_time": "2022-05-11T22:05:33.969Z"
   },
   {
    "duration": 4,
    "start_time": "2022-05-11T22:05:34.023Z"
   },
   {
    "duration": 28,
    "start_time": "2022-05-11T22:05:34.029Z"
   },
   {
    "duration": 36,
    "start_time": "2022-05-11T22:05:34.059Z"
   },
   {
    "duration": 35,
    "start_time": "2022-05-11T22:05:34.097Z"
   },
   {
    "duration": 50,
    "start_time": "2022-05-11T22:05:34.133Z"
   },
   {
    "duration": 21,
    "start_time": "2022-05-11T22:05:34.185Z"
   },
   {
    "duration": 8,
    "start_time": "2022-05-11T22:05:34.208Z"
   },
   {
    "duration": 25,
    "start_time": "2022-05-11T22:05:34.217Z"
   },
   {
    "duration": 6,
    "start_time": "2022-05-11T22:05:34.244Z"
   },
   {
    "duration": 21,
    "start_time": "2022-05-11T22:05:34.252Z"
   },
   {
    "duration": 5,
    "start_time": "2022-05-11T22:05:34.274Z"
   },
   {
    "duration": 25,
    "start_time": "2022-05-11T22:05:34.280Z"
   },
   {
    "duration": 25,
    "start_time": "2022-05-11T22:05:34.306Z"
   },
   {
    "duration": 13,
    "start_time": "2022-05-11T22:05:34.332Z"
   },
   {
    "duration": 21,
    "start_time": "2022-05-11T22:05:34.346Z"
   },
   {
    "duration": 21,
    "start_time": "2022-05-11T22:05:34.369Z"
   },
   {
    "duration": 17,
    "start_time": "2022-05-11T22:05:34.392Z"
   },
   {
    "duration": 3,
    "start_time": "2022-05-11T22:05:34.410Z"
   },
   {
    "duration": 12,
    "start_time": "2022-05-11T22:05:34.417Z"
   },
   {
    "duration": 200,
    "start_time": "2022-05-11T22:05:34.430Z"
   },
   {
    "duration": 183,
    "start_time": "2022-05-11T22:05:34.631Z"
   },
   {
    "duration": 14,
    "start_time": "2022-05-11T22:05:34.815Z"
   },
   {
    "duration": 10,
    "start_time": "2022-05-11T22:05:34.830Z"
   },
   {
    "duration": 2,
    "start_time": "2022-05-11T22:05:34.842Z"
   },
   {
    "duration": 37,
    "start_time": "2022-05-11T22:05:34.845Z"
   },
   {
    "duration": 15,
    "start_time": "2022-05-11T22:05:34.884Z"
   },
   {
    "duration": 180,
    "start_time": "2022-05-11T22:05:34.900Z"
   },
   {
    "duration": 5,
    "start_time": "2022-05-11T22:05:35.082Z"
   },
   {
    "duration": 26,
    "start_time": "2022-05-11T22:05:35.089Z"
   },
   {
    "duration": 353,
    "start_time": "2022-05-11T22:05:35.116Z"
   },
   {
    "duration": 9,
    "start_time": "2022-05-11T22:05:35.471Z"
   },
   {
    "duration": 30,
    "start_time": "2022-05-11T22:05:35.482Z"
   },
   {
    "duration": 179,
    "start_time": "2022-05-11T22:05:35.513Z"
   },
   {
    "duration": 5,
    "start_time": "2022-05-11T22:05:35.694Z"
   },
   {
    "duration": 6,
    "start_time": "2022-05-11T22:05:35.701Z"
   },
   {
    "duration": 137,
    "start_time": "2022-05-11T22:05:35.709Z"
   },
   {
    "duration": 5,
    "start_time": "2022-05-11T22:05:35.848Z"
   },
   {
    "duration": 133,
    "start_time": "2022-05-11T22:05:35.855Z"
   },
   {
    "duration": 5,
    "start_time": "2022-05-11T22:05:35.990Z"
   },
   {
    "duration": 23,
    "start_time": "2022-05-11T22:05:35.996Z"
   },
   {
    "duration": 139,
    "start_time": "2022-05-11T22:05:36.020Z"
   },
   {
    "duration": 17,
    "start_time": "2022-05-11T22:05:36.160Z"
   },
   {
    "duration": 22,
    "start_time": "2022-05-11T22:05:36.179Z"
   },
   {
    "duration": 206,
    "start_time": "2022-05-11T22:05:36.203Z"
   },
   {
    "duration": 8,
    "start_time": "2022-05-11T22:05:36.411Z"
   },
   {
    "duration": 11,
    "start_time": "2022-05-11T22:05:36.421Z"
   },
   {
    "duration": 136,
    "start_time": "2022-05-11T22:05:36.434Z"
   },
   {
    "duration": 7,
    "start_time": "2022-05-11T22:05:36.571Z"
   },
   {
    "duration": 122,
    "start_time": "2022-05-11T22:05:36.579Z"
   },
   {
    "duration": 5,
    "start_time": "2022-05-11T22:05:36.703Z"
   },
   {
    "duration": 78,
    "start_time": "2022-05-11T22:05:36.710Z"
   },
   {
    "duration": 145,
    "start_time": "2022-05-11T22:05:36.790Z"
   },
   {
    "duration": 9,
    "start_time": "2022-05-11T22:05:36.937Z"
   },
   {
    "duration": 25,
    "start_time": "2022-05-11T22:05:36.948Z"
   },
   {
    "duration": 9,
    "start_time": "2022-05-11T22:05:36.975Z"
   },
   {
    "duration": 19,
    "start_time": "2022-05-11T22:05:36.986Z"
   },
   {
    "duration": 198,
    "start_time": "2022-05-11T22:05:37.007Z"
   },
   {
    "duration": 38,
    "start_time": "2022-05-11T22:05:37.207Z"
   },
   {
    "duration": 25,
    "start_time": "2022-05-11T22:05:37.247Z"
   },
   {
    "duration": 41,
    "start_time": "2022-05-11T22:05:37.274Z"
   },
   {
    "duration": 134,
    "start_time": "2022-05-11T22:05:37.317Z"
   },
   {
    "duration": 15,
    "start_time": "2022-05-11T22:05:37.454Z"
   },
   {
    "duration": 7,
    "start_time": "2022-05-11T22:05:37.471Z"
   },
   {
    "duration": 166,
    "start_time": "2022-05-11T22:05:37.480Z"
   },
   {
    "duration": 10,
    "start_time": "2022-05-11T22:05:37.648Z"
   },
   {
    "duration": 10,
    "start_time": "2022-05-11T22:05:37.659Z"
   },
   {
    "duration": 140,
    "start_time": "2022-05-11T22:05:37.671Z"
   },
   {
    "duration": 11,
    "start_time": "2022-05-11T22:05:37.813Z"
   },
   {
    "duration": 8,
    "start_time": "2022-05-11T22:05:37.825Z"
   },
   {
    "duration": 20,
    "start_time": "2022-05-11T22:20:21.076Z"
   },
   {
    "duration": 23,
    "start_time": "2022-05-11T22:29:47.601Z"
   },
   {
    "duration": 1256,
    "start_time": "2022-05-11T22:52:21.437Z"
   },
   {
    "duration": 56,
    "start_time": "2022-05-11T22:52:22.695Z"
   },
   {
    "duration": 19,
    "start_time": "2022-05-11T22:52:22.752Z"
   },
   {
    "duration": 28,
    "start_time": "2022-05-11T22:52:22.774Z"
   },
   {
    "duration": 17,
    "start_time": "2022-05-11T22:52:22.803Z"
   },
   {
    "duration": 6,
    "start_time": "2022-05-11T22:52:22.821Z"
   },
   {
    "duration": 39,
    "start_time": "2022-05-11T22:52:22.829Z"
   },
   {
    "duration": 13,
    "start_time": "2022-05-11T22:52:22.870Z"
   },
   {
    "duration": 58,
    "start_time": "2022-05-11T22:52:22.885Z"
   },
   {
    "duration": 4,
    "start_time": "2022-05-11T22:52:22.946Z"
   },
   {
    "duration": 16,
    "start_time": "2022-05-11T22:52:22.951Z"
   },
   {
    "duration": 10,
    "start_time": "2022-05-11T22:52:22.968Z"
   },
   {
    "duration": 21,
    "start_time": "2022-05-11T22:52:22.980Z"
   },
   {
    "duration": 14,
    "start_time": "2022-05-11T22:52:23.003Z"
   },
   {
    "duration": 14,
    "start_time": "2022-05-11T22:52:23.019Z"
   },
   {
    "duration": 34,
    "start_time": "2022-05-11T22:52:23.035Z"
   },
   {
    "duration": 20,
    "start_time": "2022-05-11T22:52:23.071Z"
   },
   {
    "duration": 8,
    "start_time": "2022-05-11T22:52:23.092Z"
   },
   {
    "duration": 7,
    "start_time": "2022-05-11T22:52:23.102Z"
   },
   {
    "duration": 4,
    "start_time": "2022-05-11T22:52:23.111Z"
   },
   {
    "duration": 11,
    "start_time": "2022-05-11T22:52:23.117Z"
   },
   {
    "duration": 43,
    "start_time": "2022-05-11T22:52:23.130Z"
   },
   {
    "duration": 8,
    "start_time": "2022-05-11T22:52:23.175Z"
   },
   {
    "duration": 22,
    "start_time": "2022-05-11T22:52:23.184Z"
   },
   {
    "duration": 22,
    "start_time": "2022-05-11T22:52:23.207Z"
   },
   {
    "duration": 38,
    "start_time": "2022-05-11T22:52:23.230Z"
   },
   {
    "duration": 3,
    "start_time": "2022-05-11T22:52:23.270Z"
   },
   {
    "duration": 7,
    "start_time": "2022-05-11T22:52:23.278Z"
   },
   {
    "duration": 204,
    "start_time": "2022-05-11T22:52:23.287Z"
   },
   {
    "duration": 186,
    "start_time": "2022-05-11T22:52:23.493Z"
   },
   {
    "duration": 15,
    "start_time": "2022-05-11T22:52:23.681Z"
   },
   {
    "duration": 11,
    "start_time": "2022-05-11T22:52:23.698Z"
   },
   {
    "duration": 3,
    "start_time": "2022-05-11T22:52:23.711Z"
   },
   {
    "duration": 24,
    "start_time": "2022-05-11T22:52:23.715Z"
   },
   {
    "duration": 15,
    "start_time": "2022-05-11T22:52:23.766Z"
   },
   {
    "duration": 192,
    "start_time": "2022-05-11T22:52:23.783Z"
   },
   {
    "duration": 7,
    "start_time": "2022-05-11T22:52:23.976Z"
   },
   {
    "duration": 27,
    "start_time": "2022-05-11T22:52:23.985Z"
   },
   {
    "duration": 335,
    "start_time": "2022-05-11T22:52:24.014Z"
   },
   {
    "duration": 18,
    "start_time": "2022-05-11T22:52:24.350Z"
   },
   {
    "duration": 28,
    "start_time": "2022-05-11T22:52:24.370Z"
   },
   {
    "duration": 196,
    "start_time": "2022-05-11T22:52:24.400Z"
   },
   {
    "duration": 6,
    "start_time": "2022-05-11T22:52:24.598Z"
   },
   {
    "duration": 6,
    "start_time": "2022-05-11T22:52:24.606Z"
   },
   {
    "duration": 144,
    "start_time": "2022-05-11T22:52:24.614Z"
   },
   {
    "duration": 11,
    "start_time": "2022-05-11T22:52:24.760Z"
   },
   {
    "duration": 129,
    "start_time": "2022-05-11T22:52:24.772Z"
   },
   {
    "duration": 6,
    "start_time": "2022-05-11T22:52:24.902Z"
   },
   {
    "duration": 17,
    "start_time": "2022-05-11T22:52:24.909Z"
   },
   {
    "duration": 148,
    "start_time": "2022-05-11T22:52:24.927Z"
   },
   {
    "duration": 14,
    "start_time": "2022-05-11T22:52:25.077Z"
   },
   {
    "duration": 10,
    "start_time": "2022-05-11T22:52:25.093Z"
   },
   {
    "duration": 244,
    "start_time": "2022-05-11T22:52:25.105Z"
   },
   {
    "duration": 17,
    "start_time": "2022-05-11T22:52:25.351Z"
   },
   {
    "duration": 6,
    "start_time": "2022-05-11T22:52:25.370Z"
   },
   {
    "duration": 139,
    "start_time": "2022-05-11T22:52:25.378Z"
   },
   {
    "duration": 6,
    "start_time": "2022-05-11T22:52:25.519Z"
   },
   {
    "duration": 132,
    "start_time": "2022-05-11T22:52:25.527Z"
   },
   {
    "duration": 10,
    "start_time": "2022-05-11T22:52:25.661Z"
   },
   {
    "duration": 71,
    "start_time": "2022-05-11T22:52:25.673Z"
   },
   {
    "duration": 164,
    "start_time": "2022-05-11T22:52:25.746Z"
   },
   {
    "duration": 9,
    "start_time": "2022-05-11T22:52:25.912Z"
   },
   {
    "duration": 11,
    "start_time": "2022-05-11T22:52:25.923Z"
   },
   {
    "duration": 12,
    "start_time": "2022-05-11T22:52:25.935Z"
   },
   {
    "duration": 35,
    "start_time": "2022-05-11T22:52:25.949Z"
   },
   {
    "duration": 194,
    "start_time": "2022-05-11T22:52:25.985Z"
   },
   {
    "duration": 39,
    "start_time": "2022-05-11T22:52:26.180Z"
   },
   {
    "duration": 22,
    "start_time": "2022-05-11T22:52:26.221Z"
   },
   {
    "duration": 24,
    "start_time": "2022-05-11T22:52:26.244Z"
   },
   {
    "duration": 148,
    "start_time": "2022-05-11T22:52:26.270Z"
   },
   {
    "duration": 10,
    "start_time": "2022-05-11T22:52:26.420Z"
   },
   {
    "duration": 6,
    "start_time": "2022-05-11T22:52:26.432Z"
   },
   {
    "duration": 178,
    "start_time": "2022-05-11T22:52:26.440Z"
   },
   {
    "duration": 9,
    "start_time": "2022-05-11T22:52:26.620Z"
   },
   {
    "duration": 8,
    "start_time": "2022-05-11T22:52:26.631Z"
   },
   {
    "duration": 151,
    "start_time": "2022-05-11T22:52:26.641Z"
   },
   {
    "duration": 12,
    "start_time": "2022-05-11T22:52:26.793Z"
   },
   {
    "duration": 12,
    "start_time": "2022-05-11T22:52:26.807Z"
   },
   {
    "duration": 1192,
    "start_time": "2022-05-12T09:34:40.676Z"
   },
   {
    "duration": 68,
    "start_time": "2022-05-12T09:34:41.870Z"
   },
   {
    "duration": 15,
    "start_time": "2022-05-12T09:34:41.940Z"
   },
   {
    "duration": 36,
    "start_time": "2022-05-12T09:34:41.957Z"
   },
   {
    "duration": 37,
    "start_time": "2022-05-12T09:34:41.994Z"
   },
   {
    "duration": 7,
    "start_time": "2022-05-12T09:34:42.033Z"
   },
   {
    "duration": 15,
    "start_time": "2022-05-12T09:34:42.042Z"
   },
   {
    "duration": 14,
    "start_time": "2022-05-12T09:34:42.059Z"
   },
   {
    "duration": 64,
    "start_time": "2022-05-12T09:34:42.075Z"
   },
   {
    "duration": 4,
    "start_time": "2022-05-12T09:34:42.142Z"
   },
   {
    "duration": 10,
    "start_time": "2022-05-12T09:34:42.147Z"
   },
   {
    "duration": 11,
    "start_time": "2022-05-12T09:34:42.159Z"
   },
   {
    "duration": 30,
    "start_time": "2022-05-12T09:34:42.206Z"
   },
   {
    "duration": 14,
    "start_time": "2022-05-12T09:34:42.237Z"
   },
   {
    "duration": 12,
    "start_time": "2022-05-12T09:34:42.253Z"
   },
   {
    "duration": 4,
    "start_time": "2022-05-12T09:34:42.267Z"
   },
   {
    "duration": 35,
    "start_time": "2022-05-12T09:34:42.310Z"
   },
   {
    "duration": 8,
    "start_time": "2022-05-12T09:34:42.347Z"
   },
   {
    "duration": 8,
    "start_time": "2022-05-12T09:34:42.357Z"
   },
   {
    "duration": 5,
    "start_time": "2022-05-12T09:34:42.367Z"
   },
   {
    "duration": 36,
    "start_time": "2022-05-12T09:34:42.374Z"
   },
   {
    "duration": 10,
    "start_time": "2022-05-12T09:34:42.413Z"
   },
   {
    "duration": 5,
    "start_time": "2022-05-12T09:34:42.425Z"
   },
   {
    "duration": 19,
    "start_time": "2022-05-12T09:34:42.431Z"
   },
   {
    "duration": 22,
    "start_time": "2022-05-12T09:34:42.452Z"
   },
   {
    "duration": 47,
    "start_time": "2022-05-12T09:34:42.476Z"
   },
   {
    "duration": 4,
    "start_time": "2022-05-12T09:34:42.525Z"
   },
   {
    "duration": 6,
    "start_time": "2022-05-12T09:34:42.534Z"
   },
   {
    "duration": 239,
    "start_time": "2022-05-12T09:34:42.542Z"
   },
   {
    "duration": 206,
    "start_time": "2022-05-12T09:34:42.783Z"
   },
   {
    "duration": 25,
    "start_time": "2022-05-12T09:34:42.991Z"
   },
   {
    "duration": 12,
    "start_time": "2022-05-12T09:34:43.024Z"
   },
   {
    "duration": 3,
    "start_time": "2022-05-12T09:34:43.037Z"
   },
   {
    "duration": 36,
    "start_time": "2022-05-12T09:34:43.042Z"
   },
   {
    "duration": 34,
    "start_time": "2022-05-12T09:34:43.080Z"
   },
   {
    "duration": 219,
    "start_time": "2022-05-12T09:34:43.115Z"
   },
   {
    "duration": 6,
    "start_time": "2022-05-12T09:34:43.337Z"
   },
   {
    "duration": 26,
    "start_time": "2022-05-12T09:34:43.345Z"
   },
   {
    "duration": 357,
    "start_time": "2022-05-12T09:34:43.372Z"
   },
   {
    "duration": 12,
    "start_time": "2022-05-12T09:34:43.730Z"
   },
   {
    "duration": 29,
    "start_time": "2022-05-12T09:34:43.743Z"
   },
   {
    "duration": 220,
    "start_time": "2022-05-12T09:34:43.774Z"
   },
   {
    "duration": 16,
    "start_time": "2022-05-12T09:34:43.995Z"
   },
   {
    "duration": 12,
    "start_time": "2022-05-12T09:34:44.014Z"
   },
   {
    "duration": 155,
    "start_time": "2022-05-12T09:34:44.029Z"
   },
   {
    "duration": 6,
    "start_time": "2022-05-12T09:34:44.186Z"
   },
   {
    "duration": 166,
    "start_time": "2022-05-12T09:34:44.193Z"
   },
   {
    "duration": 6,
    "start_time": "2022-05-12T09:34:44.360Z"
   },
   {
    "duration": 21,
    "start_time": "2022-05-12T09:34:44.367Z"
   },
   {
    "duration": 164,
    "start_time": "2022-05-12T09:34:44.409Z"
   },
   {
    "duration": 16,
    "start_time": "2022-05-12T09:34:44.575Z"
   },
   {
    "duration": 24,
    "start_time": "2022-05-12T09:34:44.592Z"
   },
   {
    "duration": 239,
    "start_time": "2022-05-12T09:34:44.620Z"
   },
   {
    "duration": 8,
    "start_time": "2022-05-12T09:34:44.861Z"
   },
   {
    "duration": 6,
    "start_time": "2022-05-12T09:34:44.870Z"
   },
   {
    "duration": 183,
    "start_time": "2022-05-12T09:34:44.877Z"
   },
   {
    "duration": 8,
    "start_time": "2022-05-12T09:34:45.062Z"
   },
   {
    "duration": 156,
    "start_time": "2022-05-12T09:34:45.072Z"
   },
   {
    "duration": 6,
    "start_time": "2022-05-12T09:34:45.231Z"
   },
   {
    "duration": 112,
    "start_time": "2022-05-12T09:34:45.239Z"
   },
   {
    "duration": 169,
    "start_time": "2022-05-12T09:34:45.353Z"
   },
   {
    "duration": 10,
    "start_time": "2022-05-12T09:34:45.525Z"
   },
   {
    "duration": 8,
    "start_time": "2022-05-12T09:34:45.536Z"
   },
   {
    "duration": 15,
    "start_time": "2022-05-12T09:34:45.546Z"
   },
   {
    "duration": 22,
    "start_time": "2022-05-12T09:34:45.562Z"
   },
   {
    "duration": 218,
    "start_time": "2022-05-12T09:34:45.608Z"
   },
   {
    "duration": 37,
    "start_time": "2022-05-12T09:34:45.828Z"
   },
   {
    "duration": 8,
    "start_time": "2022-05-12T09:34:45.867Z"
   },
   {
    "duration": 52,
    "start_time": "2022-05-12T09:34:45.877Z"
   },
   {
    "duration": 166,
    "start_time": "2022-05-12T09:34:45.930Z"
   },
   {
    "duration": 20,
    "start_time": "2022-05-12T09:34:46.098Z"
   },
   {
    "duration": 7,
    "start_time": "2022-05-12T09:34:46.120Z"
   },
   {
    "duration": 179,
    "start_time": "2022-05-12T09:34:46.128Z"
   },
   {
    "duration": 11,
    "start_time": "2022-05-12T09:34:46.315Z"
   },
   {
    "duration": 9,
    "start_time": "2022-05-12T09:34:46.328Z"
   },
   {
    "duration": 158,
    "start_time": "2022-05-12T09:34:46.339Z"
   },
   {
    "duration": 20,
    "start_time": "2022-05-12T09:34:46.499Z"
   },
   {
    "duration": 9,
    "start_time": "2022-05-12T09:34:46.523Z"
   },
   {
    "duration": 5,
    "start_time": "2022-05-12T13:37:36.393Z"
   },
   {
    "duration": 1168,
    "start_time": "2022-05-12T13:44:28.088Z"
   },
   {
    "duration": 59,
    "start_time": "2022-05-12T13:44:29.258Z"
   },
   {
    "duration": 14,
    "start_time": "2022-05-12T13:44:29.319Z"
   },
   {
    "duration": 29,
    "start_time": "2022-05-12T13:44:29.335Z"
   },
   {
    "duration": 18,
    "start_time": "2022-05-12T13:44:29.365Z"
   },
   {
    "duration": 7,
    "start_time": "2022-05-12T13:44:29.408Z"
   },
   {
    "duration": 17,
    "start_time": "2022-05-12T13:44:29.416Z"
   },
   {
    "duration": 12,
    "start_time": "2022-05-12T13:44:29.434Z"
   },
   {
    "duration": 28,
    "start_time": "2022-05-12T13:44:29.447Z"
   },
   {
    "duration": 30,
    "start_time": "2022-05-12T13:44:29.478Z"
   },
   {
    "duration": 8,
    "start_time": "2022-05-12T13:44:29.510Z"
   },
   {
    "duration": 11,
    "start_time": "2022-05-12T13:44:29.520Z"
   },
   {
    "duration": 20,
    "start_time": "2022-05-12T13:44:29.532Z"
   },
   {
    "duration": 17,
    "start_time": "2022-05-12T13:44:29.553Z"
   },
   {
    "duration": 13,
    "start_time": "2022-05-12T13:44:29.607Z"
   },
   {
    "duration": 5,
    "start_time": "2022-05-12T13:44:29.622Z"
   },
   {
    "duration": 18,
    "start_time": "2022-05-12T13:44:29.629Z"
   },
   {
    "duration": 6,
    "start_time": "2022-05-12T13:44:29.649Z"
   },
   {
    "duration": 7,
    "start_time": "2022-05-12T13:44:29.656Z"
   },
   {
    "duration": 5,
    "start_time": "2022-05-12T13:44:29.664Z"
   },
   {
    "duration": 39,
    "start_time": "2022-05-12T13:44:29.670Z"
   },
   {
    "duration": 11,
    "start_time": "2022-05-12T13:44:29.711Z"
   },
   {
    "duration": 5,
    "start_time": "2022-05-12T13:44:29.723Z"
   },
   {
    "duration": 19,
    "start_time": "2022-05-12T13:44:29.729Z"
   },
   {
    "duration": 58,
    "start_time": "2022-05-12T13:44:29.750Z"
   },
   {
    "duration": 17,
    "start_time": "2022-05-12T13:44:29.810Z"
   },
   {
    "duration": 3,
    "start_time": "2022-05-12T13:44:29.829Z"
   },
   {
    "duration": 6,
    "start_time": "2022-05-12T13:44:29.836Z"
   },
   {
    "duration": 229,
    "start_time": "2022-05-12T13:44:29.845Z"
   },
   {
    "duration": 206,
    "start_time": "2022-05-12T13:44:30.076Z"
   },
   {
    "duration": 24,
    "start_time": "2022-05-12T13:44:30.284Z"
   },
   {
    "duration": 11,
    "start_time": "2022-05-12T13:44:30.309Z"
   },
   {
    "duration": 4,
    "start_time": "2022-05-12T13:44:30.322Z"
   },
   {
    "duration": 33,
    "start_time": "2022-05-12T13:44:30.328Z"
   },
   {
    "duration": 30,
    "start_time": "2022-05-12T13:44:30.362Z"
   },
   {
    "duration": 194,
    "start_time": "2022-05-12T13:44:30.394Z"
   },
   {
    "duration": 6,
    "start_time": "2022-05-12T13:44:30.590Z"
   },
   {
    "duration": 31,
    "start_time": "2022-05-12T13:44:30.607Z"
   },
   {
    "duration": 307,
    "start_time": "2022-05-12T13:44:30.640Z"
   },
   {
    "duration": 12,
    "start_time": "2022-05-12T13:44:30.948Z"
   },
   {
    "duration": 41,
    "start_time": "2022-05-12T13:44:30.961Z"
   },
   {
    "duration": 200,
    "start_time": "2022-05-12T13:44:31.008Z"
   },
   {
    "duration": 5,
    "start_time": "2022-05-12T13:44:31.210Z"
   },
   {
    "duration": 10,
    "start_time": "2022-05-12T13:44:31.217Z"
   },
   {
    "duration": 151,
    "start_time": "2022-05-12T13:44:31.228Z"
   },
   {
    "duration": 6,
    "start_time": "2022-05-12T13:44:31.381Z"
   },
   {
    "duration": 147,
    "start_time": "2022-05-12T13:44:31.389Z"
   },
   {
    "duration": 6,
    "start_time": "2022-05-12T13:44:31.538Z"
   },
   {
    "duration": 23,
    "start_time": "2022-05-12T13:44:31.545Z"
   },
   {
    "duration": 157,
    "start_time": "2022-05-12T13:44:31.570Z"
   },
   {
    "duration": 17,
    "start_time": "2022-05-12T13:44:31.728Z"
   },
   {
    "duration": 13,
    "start_time": "2022-05-12T13:44:31.747Z"
   },
   {
    "duration": 239,
    "start_time": "2022-05-12T13:44:31.762Z"
   },
   {
    "duration": 9,
    "start_time": "2022-05-12T13:44:32.007Z"
   },
   {
    "duration": 11,
    "start_time": "2022-05-12T13:44:32.018Z"
   },
   {
    "duration": 153,
    "start_time": "2022-05-12T13:44:32.031Z"
   },
   {
    "duration": 7,
    "start_time": "2022-05-12T13:44:32.186Z"
   },
   {
    "duration": 130,
    "start_time": "2022-05-12T13:44:32.208Z"
   },
   {
    "duration": 6,
    "start_time": "2022-05-12T13:44:32.339Z"
   },
   {
    "duration": 76,
    "start_time": "2022-05-12T13:44:32.347Z"
   },
   {
    "duration": 142,
    "start_time": "2022-05-12T13:44:32.425Z"
   },
   {
    "duration": 8,
    "start_time": "2022-05-12T13:44:32.569Z"
   },
   {
    "duration": 10,
    "start_time": "2022-05-12T13:44:32.578Z"
   },
   {
    "duration": 26,
    "start_time": "2022-05-12T13:44:32.589Z"
   },
   {
    "duration": 20,
    "start_time": "2022-05-12T13:44:32.617Z"
   },
   {
    "duration": 208,
    "start_time": "2022-05-12T13:44:32.638Z"
   },
   {
    "duration": 37,
    "start_time": "2022-05-12T13:44:32.848Z"
   },
   {
    "duration": 26,
    "start_time": "2022-05-12T13:44:32.887Z"
   },
   {
    "duration": 18,
    "start_time": "2022-05-12T13:44:32.914Z"
   },
   {
    "duration": 167,
    "start_time": "2022-05-12T13:44:32.934Z"
   },
   {
    "duration": 11,
    "start_time": "2022-05-12T13:44:33.102Z"
   },
   {
    "duration": 6,
    "start_time": "2022-05-12T13:44:33.115Z"
   },
   {
    "duration": 186,
    "start_time": "2022-05-12T13:44:33.123Z"
   },
   {
    "duration": 10,
    "start_time": "2022-05-12T13:44:33.310Z"
   },
   {
    "duration": 6,
    "start_time": "2022-05-12T13:44:33.321Z"
   },
   {
    "duration": 161,
    "start_time": "2022-05-12T13:44:33.329Z"
   },
   {
    "duration": 23,
    "start_time": "2022-05-12T13:44:33.491Z"
   },
   {
    "duration": 9,
    "start_time": "2022-05-12T13:44:33.516Z"
   },
   {
    "duration": 2498,
    "start_time": "2022-05-12T19:47:09.879Z"
   },
   {
    "duration": 171,
    "start_time": "2022-05-12T19:47:12.383Z"
   },
   {
    "duration": 35,
    "start_time": "2022-05-12T19:47:12.557Z"
   },
   {
    "duration": 74,
    "start_time": "2022-05-12T19:47:12.596Z"
   },
   {
    "duration": 36,
    "start_time": "2022-05-12T19:47:12.674Z"
   },
   {
    "duration": 9,
    "start_time": "2022-05-12T19:47:12.712Z"
   },
   {
    "duration": 24,
    "start_time": "2022-05-12T19:47:12.754Z"
   },
   {
    "duration": 29,
    "start_time": "2022-05-12T19:47:12.780Z"
   },
   {
    "duration": 89,
    "start_time": "2022-05-12T19:47:12.811Z"
   },
   {
    "duration": 6,
    "start_time": "2022-05-12T19:47:12.903Z"
   },
   {
    "duration": 12,
    "start_time": "2022-05-12T19:47:12.911Z"
   },
   {
    "duration": 18,
    "start_time": "2022-05-12T19:47:12.925Z"
   },
   {
    "duration": 40,
    "start_time": "2022-05-12T19:47:12.959Z"
   },
   {
    "duration": 27,
    "start_time": "2022-05-12T19:47:13.006Z"
   },
   {
    "duration": 33,
    "start_time": "2022-05-12T19:47:13.057Z"
   },
   {
    "duration": 8,
    "start_time": "2022-05-12T19:47:13.093Z"
   },
   {
    "duration": 60,
    "start_time": "2022-05-12T19:47:13.103Z"
   },
   {
    "duration": 11,
    "start_time": "2022-05-12T19:47:13.166Z"
   },
   {
    "duration": 31,
    "start_time": "2022-05-12T19:47:13.179Z"
   },
   {
    "duration": 9,
    "start_time": "2022-05-12T19:47:13.214Z"
   },
   {
    "duration": 14,
    "start_time": "2022-05-12T19:47:13.227Z"
   },
   {
    "duration": 19,
    "start_time": "2022-05-12T19:47:13.253Z"
   },
   {
    "duration": 19,
    "start_time": "2022-05-12T19:47:13.277Z"
   },
   {
    "duration": 43,
    "start_time": "2022-05-12T19:47:13.299Z"
   },
   {
    "duration": 62,
    "start_time": "2022-05-12T19:47:13.344Z"
   },
   {
    "duration": 12,
    "start_time": "2022-05-12T19:47:13.408Z"
   },
   {
    "duration": 61,
    "start_time": "2022-05-12T19:47:13.423Z"
   },
   {
    "duration": 11,
    "start_time": "2022-05-12T19:47:13.487Z"
   },
   {
    "duration": 19,
    "start_time": "2022-05-12T19:47:13.501Z"
   },
   {
    "duration": 433,
    "start_time": "2022-05-12T19:47:13.522Z"
   },
   {
    "duration": 359,
    "start_time": "2022-05-12T19:47:13.960Z"
   },
   {
    "duration": 59,
    "start_time": "2022-05-12T19:47:14.322Z"
   },
   {
    "duration": 18,
    "start_time": "2022-05-12T19:47:14.384Z"
   },
   {
    "duration": 4,
    "start_time": "2022-05-12T19:47:14.405Z"
   },
   {
    "duration": 39,
    "start_time": "2022-05-12T19:47:14.412Z"
   },
   {
    "duration": 38,
    "start_time": "2022-05-12T19:47:14.458Z"
   },
   {
    "duration": 339,
    "start_time": "2022-05-12T19:47:14.499Z"
   },
   {
    "duration": 16,
    "start_time": "2022-05-12T19:47:14.840Z"
   },
   {
    "duration": 58,
    "start_time": "2022-05-12T19:47:14.858Z"
   },
   {
    "duration": 699,
    "start_time": "2022-05-12T19:47:14.919Z"
   },
   {
    "duration": 16,
    "start_time": "2022-05-12T19:47:15.625Z"
   },
   {
    "duration": 73,
    "start_time": "2022-05-12T19:47:15.644Z"
   },
   {
    "duration": 374,
    "start_time": "2022-05-12T19:47:15.719Z"
   },
   {
    "duration": 11,
    "start_time": "2022-05-12T19:47:16.098Z"
   },
   {
    "duration": 12,
    "start_time": "2022-05-12T19:47:16.112Z"
   },
   {
    "duration": 307,
    "start_time": "2022-05-12T19:47:16.127Z"
   },
   {
    "duration": 11,
    "start_time": "2022-05-12T19:47:16.437Z"
   },
   {
    "duration": 314,
    "start_time": "2022-05-12T19:47:16.460Z"
   },
   {
    "duration": 20,
    "start_time": "2022-05-12T19:47:16.777Z"
   },
   {
    "duration": 30,
    "start_time": "2022-05-12T19:47:16.800Z"
   },
   {
    "duration": 339,
    "start_time": "2022-05-12T19:47:16.833Z"
   },
   {
    "duration": 34,
    "start_time": "2022-05-12T19:47:17.175Z"
   },
   {
    "duration": 17,
    "start_time": "2022-05-12T19:47:17.212Z"
   },
   {
    "duration": 384,
    "start_time": "2022-05-12T19:47:17.232Z"
   },
   {
    "duration": 12,
    "start_time": "2022-05-12T19:47:17.619Z"
   },
   {
    "duration": 23,
    "start_time": "2022-05-12T19:47:17.634Z"
   },
   {
    "duration": 348,
    "start_time": "2022-05-12T19:47:17.660Z"
   },
   {
    "duration": 10,
    "start_time": "2022-05-12T19:47:18.011Z"
   },
   {
    "duration": 264,
    "start_time": "2022-05-12T19:47:18.024Z"
   },
   {
    "duration": 11,
    "start_time": "2022-05-12T19:47:18.292Z"
   },
   {
    "duration": 135,
    "start_time": "2022-05-12T19:47:18.305Z"
   },
   {
    "duration": 278,
    "start_time": "2022-05-12T19:47:18.442Z"
   },
   {
    "duration": 13,
    "start_time": "2022-05-12T19:47:18.722Z"
   },
   {
    "duration": 26,
    "start_time": "2022-05-12T19:47:18.738Z"
   },
   {
    "duration": 45,
    "start_time": "2022-05-12T19:47:18.767Z"
   },
   {
    "duration": 30,
    "start_time": "2022-05-12T19:47:18.814Z"
   },
   {
    "duration": 362,
    "start_time": "2022-05-12T19:47:18.847Z"
   },
   {
    "duration": 96,
    "start_time": "2022-05-12T19:47:19.212Z"
   },
   {
    "duration": 11,
    "start_time": "2022-05-12T19:47:19.311Z"
   },
   {
    "duration": 32,
    "start_time": "2022-05-12T19:47:19.324Z"
   },
   {
    "duration": 344,
    "start_time": "2022-05-12T19:47:19.358Z"
   },
   {
    "duration": 13,
    "start_time": "2022-05-12T19:47:19.707Z"
   },
   {
    "duration": 9,
    "start_time": "2022-05-12T19:47:19.723Z"
   },
   {
    "duration": 373,
    "start_time": "2022-05-12T19:47:19.735Z"
   },
   {
    "duration": 14,
    "start_time": "2022-05-12T19:47:20.110Z"
   },
   {
    "duration": 22,
    "start_time": "2022-05-12T19:47:20.126Z"
   },
   {
    "duration": 292,
    "start_time": "2022-05-12T19:47:20.158Z"
   },
   {
    "duration": 25,
    "start_time": "2022-05-12T19:47:20.453Z"
   },
   {
    "duration": 34,
    "start_time": "2022-05-12T19:47:20.481Z"
   },
   {
    "duration": 206,
    "start_time": "2022-05-12T19:52:40.883Z"
   },
   {
    "duration": 10,
    "start_time": "2022-05-12T19:59:42.700Z"
   },
   {
    "duration": 11,
    "start_time": "2022-05-12T19:59:55.135Z"
   },
   {
    "duration": 21,
    "start_time": "2022-05-12T20:00:00.904Z"
   },
   {
    "duration": 5,
    "start_time": "2022-05-12T20:00:08.944Z"
   },
   {
    "duration": 10,
    "start_time": "2022-05-12T20:01:17.266Z"
   },
   {
    "duration": 41,
    "start_time": "2022-05-12T20:01:21.193Z"
   },
   {
    "duration": 46,
    "start_time": "2022-05-12T20:01:36.169Z"
   },
   {
    "duration": 13,
    "start_time": "2022-05-12T20:01:43.441Z"
   },
   {
    "duration": 20,
    "start_time": "2022-05-12T20:11:12.439Z"
   },
   {
    "duration": 6,
    "start_time": "2022-05-12T20:11:20.638Z"
   },
   {
    "duration": 9,
    "start_time": "2022-05-12T20:11:21.257Z"
   },
   {
    "duration": 6,
    "start_time": "2022-05-12T20:11:22.702Z"
   },
   {
    "duration": 7,
    "start_time": "2022-05-12T20:11:22.935Z"
   },
   {
    "duration": 5,
    "start_time": "2022-05-12T20:11:23.983Z"
   },
   {
    "duration": 8,
    "start_time": "2022-05-12T20:11:24.238Z"
   },
   {
    "duration": 1756,
    "start_time": "2022-05-12T20:14:41.180Z"
   },
   {
    "duration": 90,
    "start_time": "2022-05-12T20:14:42.939Z"
   },
   {
    "duration": 35,
    "start_time": "2022-05-12T20:14:43.031Z"
   },
   {
    "duration": 41,
    "start_time": "2022-05-12T20:14:43.071Z"
   },
   {
    "duration": 51,
    "start_time": "2022-05-12T20:14:43.115Z"
   },
   {
    "duration": 10,
    "start_time": "2022-05-12T20:14:43.169Z"
   },
   {
    "duration": 18,
    "start_time": "2022-05-12T20:14:43.181Z"
   },
   {
    "duration": 55,
    "start_time": "2022-05-12T20:14:43.201Z"
   },
   {
    "duration": 77,
    "start_time": "2022-05-12T20:14:43.259Z"
   },
   {
    "duration": 5,
    "start_time": "2022-05-12T20:14:43.342Z"
   },
   {
    "duration": 31,
    "start_time": "2022-05-12T20:14:43.352Z"
   },
   {
    "duration": 20,
    "start_time": "2022-05-12T20:14:43.386Z"
   },
   {
    "duration": 71,
    "start_time": "2022-05-12T20:14:43.408Z"
   },
   {
    "duration": 25,
    "start_time": "2022-05-12T20:14:43.481Z"
   },
   {
    "duration": 17,
    "start_time": "2022-05-12T20:14:43.509Z"
   },
   {
    "duration": 11,
    "start_time": "2022-05-12T20:14:43.553Z"
   },
   {
    "duration": 31,
    "start_time": "2022-05-12T20:14:43.566Z"
   },
   {
    "duration": 9,
    "start_time": "2022-05-12T20:14:43.599Z"
   },
   {
    "duration": 44,
    "start_time": "2022-05-12T20:14:43.610Z"
   },
   {
    "duration": 9,
    "start_time": "2022-05-12T20:14:43.657Z"
   },
   {
    "duration": 13,
    "start_time": "2022-05-12T20:14:43.670Z"
   },
   {
    "duration": 13,
    "start_time": "2022-05-12T20:14:43.685Z"
   },
   {
    "duration": 6,
    "start_time": "2022-05-12T20:14:43.700Z"
   },
   {
    "duration": 76,
    "start_time": "2022-05-12T20:14:43.708Z"
   },
   {
    "duration": 24,
    "start_time": "2022-05-12T20:14:43.786Z"
   },
   {
    "duration": 5,
    "start_time": "2022-05-12T20:14:43.812Z"
   },
   {
    "duration": 35,
    "start_time": "2022-05-12T20:14:43.819Z"
   },
   {
    "duration": 41,
    "start_time": "2022-05-12T20:14:43.867Z"
   },
   {
    "duration": 11,
    "start_time": "2022-05-12T20:14:43.911Z"
   },
   {
    "duration": 39,
    "start_time": "2022-05-12T20:14:43.924Z"
   },
   {
    "duration": 373,
    "start_time": "2022-05-12T20:14:43.967Z"
   },
   {
    "duration": 338,
    "start_time": "2022-05-12T20:14:44.342Z"
   },
   {
    "duration": 22,
    "start_time": "2022-05-12T20:14:44.683Z"
   },
   {
    "duration": 17,
    "start_time": "2022-05-12T20:14:44.707Z"
   },
   {
    "duration": 29,
    "start_time": "2022-05-12T20:14:44.725Z"
   },
   {
    "duration": 50,
    "start_time": "2022-05-12T20:14:44.757Z"
   },
   {
    "duration": 19,
    "start_time": "2022-05-12T20:14:44.809Z"
   },
   {
    "duration": 356,
    "start_time": "2022-05-12T20:14:44.831Z"
   },
   {
    "duration": 9,
    "start_time": "2022-05-12T20:14:45.189Z"
   },
   {
    "duration": 69,
    "start_time": "2022-05-12T20:14:45.201Z"
   },
   {
    "duration": 515,
    "start_time": "2022-05-12T20:14:45.273Z"
   },
   {
    "duration": 16,
    "start_time": "2022-05-12T20:14:45.790Z"
   },
   {
    "duration": 76,
    "start_time": "2022-05-12T20:14:45.809Z"
   },
   {
    "duration": 337,
    "start_time": "2022-05-12T20:14:45.887Z"
   },
   {
    "duration": 9,
    "start_time": "2022-05-12T20:14:46.226Z"
   },
   {
    "duration": 14,
    "start_time": "2022-05-12T20:14:46.253Z"
   },
   {
    "duration": 320,
    "start_time": "2022-05-12T20:14:46.270Z"
   },
   {
    "duration": 11,
    "start_time": "2022-05-12T20:14:46.592Z"
   },
   {
    "duration": 320,
    "start_time": "2022-05-12T20:14:46.605Z"
   },
   {
    "duration": 8,
    "start_time": "2022-05-12T20:14:46.928Z"
   },
   {
    "duration": 52,
    "start_time": "2022-05-12T20:14:46.938Z"
   },
   {
    "duration": 258,
    "start_time": "2022-05-12T20:14:46.993Z"
   },
   {
    "duration": 29,
    "start_time": "2022-05-12T20:14:47.254Z"
   },
   {
    "duration": 18,
    "start_time": "2022-05-12T20:14:47.285Z"
   },
   {
    "duration": 360,
    "start_time": "2022-05-12T20:14:47.305Z"
   },
   {
    "duration": 11,
    "start_time": "2022-05-12T20:14:47.668Z"
   },
   {
    "duration": 9,
    "start_time": "2022-05-12T20:14:47.681Z"
   },
   {
    "duration": 265,
    "start_time": "2022-05-12T20:14:47.693Z"
   },
   {
    "duration": 11,
    "start_time": "2022-05-12T20:14:47.961Z"
   },
   {
    "duration": 226,
    "start_time": "2022-05-12T20:14:47.975Z"
   },
   {
    "duration": 7,
    "start_time": "2022-05-12T20:14:48.203Z"
   },
   {
    "duration": 125,
    "start_time": "2022-05-12T20:14:48.212Z"
   },
   {
    "duration": 249,
    "start_time": "2022-05-12T20:14:48.340Z"
   },
   {
    "duration": 13,
    "start_time": "2022-05-12T20:14:48.592Z"
   },
   {
    "duration": 13,
    "start_time": "2022-05-12T20:14:48.608Z"
   },
   {
    "duration": 35,
    "start_time": "2022-05-12T20:14:48.624Z"
   },
   {
    "duration": 42,
    "start_time": "2022-05-12T20:14:48.662Z"
   },
   {
    "duration": 385,
    "start_time": "2022-05-12T20:14:48.706Z"
   },
   {
    "duration": 89,
    "start_time": "2022-05-12T20:14:49.094Z"
   },
   {
    "duration": 12,
    "start_time": "2022-05-12T20:14:49.186Z"
   },
   {
    "duration": 53,
    "start_time": "2022-05-12T20:14:49.202Z"
   },
   {
    "duration": 265,
    "start_time": "2022-05-12T20:14:49.258Z"
   },
   {
    "duration": 29,
    "start_time": "2022-05-12T20:14:49.526Z"
   },
   {
    "duration": 16,
    "start_time": "2022-05-12T20:14:49.558Z"
   },
   {
    "duration": 299,
    "start_time": "2022-05-12T20:14:49.576Z"
   },
   {
    "duration": 16,
    "start_time": "2022-05-12T20:14:49.878Z"
   },
   {
    "duration": 15,
    "start_time": "2022-05-12T20:14:49.897Z"
   },
   {
    "duration": 291,
    "start_time": "2022-05-12T20:14:49.915Z"
   },
   {
    "duration": 19,
    "start_time": "2022-05-12T20:14:50.209Z"
   },
   {
    "duration": 27,
    "start_time": "2022-05-12T20:14:50.231Z"
   },
   {
    "duration": 43,
    "start_time": "2022-05-12T20:24:49.464Z"
   },
   {
    "duration": 44,
    "start_time": "2022-05-12T20:25:19.983Z"
   },
   {
    "duration": 18,
    "start_time": "2022-05-12T20:29:02.944Z"
   },
   {
    "duration": 33,
    "start_time": "2022-05-12T20:29:06.935Z"
   },
   {
    "duration": 31,
    "start_time": "2022-05-12T20:29:47.888Z"
   },
   {
    "duration": 14,
    "start_time": "2022-05-12T20:56:23.639Z"
   },
   {
    "duration": 404,
    "start_time": "2022-05-12T20:56:53.078Z"
   },
   {
    "duration": 424,
    "start_time": "2022-05-12T20:57:12.814Z"
   },
   {
    "duration": 493,
    "start_time": "2022-05-12T20:58:22.959Z"
   },
   {
    "duration": 537,
    "start_time": "2022-05-12T20:58:31.800Z"
   },
   {
    "duration": 400,
    "start_time": "2022-05-12T20:58:38.512Z"
   },
   {
    "duration": 401,
    "start_time": "2022-05-12T20:58:41.815Z"
   },
   {
    "duration": 402,
    "start_time": "2022-05-12T20:59:04.696Z"
   },
   {
    "duration": 7,
    "start_time": "2022-05-12T21:00:00.989Z"
   },
   {
    "duration": 7,
    "start_time": "2022-05-12T21:00:07.974Z"
   },
   {
    "duration": 7,
    "start_time": "2022-05-12T21:00:13.119Z"
   },
   {
    "duration": 436,
    "start_time": "2022-05-12T21:00:23.238Z"
   },
   {
    "duration": 405,
    "start_time": "2022-05-12T21:00:32.687Z"
   },
   {
    "duration": 424,
    "start_time": "2022-05-12T21:00:39.173Z"
   },
   {
    "duration": 23,
    "start_time": "2022-05-12T21:01:10.294Z"
   },
   {
    "duration": 426,
    "start_time": "2022-05-12T21:01:24.757Z"
   },
   {
    "duration": 402,
    "start_time": "2022-05-12T21:02:00.582Z"
   },
   {
    "duration": 479,
    "start_time": "2022-05-12T21:02:15.029Z"
   },
   {
    "duration": 9,
    "start_time": "2022-05-12T21:02:57.431Z"
   },
   {
    "duration": 499,
    "start_time": "2022-05-12T21:03:17.542Z"
   },
   {
    "duration": 9,
    "start_time": "2022-05-12T21:03:20.174Z"
   },
   {
    "duration": 407,
    "start_time": "2022-05-12T21:03:25.911Z"
   },
   {
    "duration": 9,
    "start_time": "2022-05-12T21:03:28.238Z"
   },
   {
    "duration": 28,
    "start_time": "2022-05-12T21:19:23.916Z"
   },
   {
    "duration": 30,
    "start_time": "2022-05-12T21:20:22.022Z"
   },
   {
    "duration": 30,
    "start_time": "2022-05-12T21:20:59.632Z"
   },
   {
    "duration": 29,
    "start_time": "2022-05-12T21:21:06.167Z"
   },
   {
    "duration": 32,
    "start_time": "2022-05-12T21:21:56.352Z"
   },
   {
    "duration": 31,
    "start_time": "2022-05-12T21:22:16.801Z"
   },
   {
    "duration": 32,
    "start_time": "2022-05-12T21:22:47.465Z"
   },
   {
    "duration": 31,
    "start_time": "2022-05-12T21:23:02.841Z"
   },
   {
    "duration": 33,
    "start_time": "2022-05-12T21:23:19.105Z"
   },
   {
    "duration": 31,
    "start_time": "2022-05-12T21:23:27.673Z"
   },
   {
    "duration": 30,
    "start_time": "2022-05-12T21:23:44.519Z"
   },
   {
    "duration": 30,
    "start_time": "2022-05-12T21:24:06.145Z"
   },
   {
    "duration": 33,
    "start_time": "2022-05-12T21:28:54.442Z"
   },
   {
    "duration": 30,
    "start_time": "2022-05-12T21:37:22.544Z"
   },
   {
    "duration": 5,
    "start_time": "2022-05-12T21:41:15.059Z"
   },
   {
    "duration": 12,
    "start_time": "2022-05-12T21:42:17.076Z"
   },
   {
    "duration": 12,
    "start_time": "2022-05-12T21:42:40.132Z"
   },
   {
    "duration": 40,
    "start_time": "2022-05-12T21:43:32.454Z"
   },
   {
    "duration": 148,
    "start_time": "2022-05-12T21:45:02.318Z"
   },
   {
    "duration": 375,
    "start_time": "2022-05-12T21:45:17.023Z"
   },
   {
    "duration": 17,
    "start_time": "2022-05-12T21:45:34.967Z"
   },
   {
    "duration": 16,
    "start_time": "2022-05-12T21:45:51.144Z"
   },
   {
    "duration": 9,
    "start_time": "2022-05-12T21:46:08.113Z"
   },
   {
    "duration": 33,
    "start_time": "2022-05-12T21:58:33.874Z"
   },
   {
    "duration": 311,
    "start_time": "2022-05-12T21:58:38.161Z"
   },
   {
    "duration": 1643,
    "start_time": "2022-05-12T21:59:27.853Z"
   },
   {
    "duration": 80,
    "start_time": "2022-05-12T21:59:29.499Z"
   },
   {
    "duration": 21,
    "start_time": "2022-05-12T21:59:29.581Z"
   },
   {
    "duration": 60,
    "start_time": "2022-05-12T21:59:29.605Z"
   },
   {
    "duration": 26,
    "start_time": "2022-05-12T21:59:29.668Z"
   },
   {
    "duration": 10,
    "start_time": "2022-05-12T21:59:29.697Z"
   },
   {
    "duration": 52,
    "start_time": "2022-05-12T21:59:29.711Z"
   },
   {
    "duration": 18,
    "start_time": "2022-05-12T21:59:29.765Z"
   },
   {
    "duration": 90,
    "start_time": "2022-05-12T21:59:29.786Z"
   },
   {
    "duration": 5,
    "start_time": "2022-05-12T21:59:29.881Z"
   },
   {
    "duration": 12,
    "start_time": "2022-05-12T21:59:29.889Z"
   },
   {
    "duration": 15,
    "start_time": "2022-05-12T21:59:29.904Z"
   },
   {
    "duration": 45,
    "start_time": "2022-05-12T21:59:29.922Z"
   },
   {
    "duration": 17,
    "start_time": "2022-05-12T21:59:29.969Z"
   },
   {
    "duration": 18,
    "start_time": "2022-05-12T21:59:29.989Z"
   },
   {
    "duration": 43,
    "start_time": "2022-05-12T21:59:30.010Z"
   },
   {
    "duration": 27,
    "start_time": "2022-05-12T21:59:30.056Z"
   },
   {
    "duration": 11,
    "start_time": "2022-05-12T21:59:30.086Z"
   },
   {
    "duration": 9,
    "start_time": "2022-05-12T21:59:30.100Z"
   },
   {
    "duration": 44,
    "start_time": "2022-05-12T21:59:30.112Z"
   },
   {
    "duration": 27,
    "start_time": "2022-05-12T21:59:30.159Z"
   },
   {
    "duration": 23,
    "start_time": "2022-05-12T21:59:30.189Z"
   },
   {
    "duration": 17,
    "start_time": "2022-05-12T21:59:30.215Z"
   },
   {
    "duration": 45,
    "start_time": "2022-05-12T21:59:30.235Z"
   },
   {
    "duration": 31,
    "start_time": "2022-05-12T21:59:30.283Z"
   },
   {
    "duration": 5,
    "start_time": "2022-05-12T21:59:30.317Z"
   },
   {
    "duration": 43,
    "start_time": "2022-05-12T21:59:30.324Z"
   },
   {
    "duration": 50,
    "start_time": "2022-05-12T21:59:30.376Z"
   },
   {
    "duration": 29,
    "start_time": "2022-05-12T21:59:30.429Z"
   },
   {
    "duration": 17,
    "start_time": "2022-05-12T21:59:30.461Z"
   },
   {
    "duration": 334,
    "start_time": "2022-05-12T21:59:30.481Z"
   },
   {
    "duration": 317,
    "start_time": "2022-05-12T21:59:30.818Z"
   },
   {
    "duration": 26,
    "start_time": "2022-05-12T21:59:31.138Z"
   },
   {
    "duration": 15,
    "start_time": "2022-05-12T21:59:31.167Z"
   },
   {
    "duration": 4,
    "start_time": "2022-05-12T21:59:31.185Z"
   },
   {
    "duration": 68,
    "start_time": "2022-05-12T21:59:31.191Z"
   },
   {
    "duration": 27,
    "start_time": "2022-05-12T21:59:31.261Z"
   },
   {
    "duration": 309,
    "start_time": "2022-05-12T21:59:31.290Z"
   },
   {
    "duration": 9,
    "start_time": "2022-05-12T21:59:31.602Z"
   },
   {
    "duration": 59,
    "start_time": "2022-05-12T21:59:31.614Z"
   },
   {
    "duration": 596,
    "start_time": "2022-05-12T21:59:31.675Z"
   },
   {
    "duration": 22,
    "start_time": "2022-05-12T21:59:32.274Z"
   },
   {
    "duration": 57,
    "start_time": "2022-05-12T21:59:32.299Z"
   },
   {
    "duration": 322,
    "start_time": "2022-05-12T21:59:32.358Z"
   },
   {
    "duration": 8,
    "start_time": "2022-05-12T21:59:32.683Z"
   },
   {
    "duration": 67,
    "start_time": "2022-05-12T21:59:32.694Z"
   },
   {
    "duration": 44,
    "start_time": "2022-05-12T21:59:32.764Z"
   },
   {
    "duration": 10,
    "start_time": "2022-05-12T21:59:32.811Z"
   },
   {
    "duration": 241,
    "start_time": "2022-05-12T21:59:32.823Z"
   },
   {
    "duration": 8,
    "start_time": "2022-05-12T21:59:33.066Z"
   },
   {
    "duration": 33,
    "start_time": "2022-05-12T21:59:33.076Z"
   },
   {
    "duration": 234,
    "start_time": "2022-05-12T21:59:33.111Z"
   },
   {
    "duration": 9,
    "start_time": "2022-05-12T21:59:33.347Z"
   },
   {
    "duration": 25,
    "start_time": "2022-05-12T21:59:33.358Z"
   },
   {
    "duration": 250,
    "start_time": "2022-05-12T21:59:33.385Z"
   },
   {
    "duration": 32,
    "start_time": "2022-05-12T21:59:33.637Z"
   },
   {
    "duration": 15,
    "start_time": "2022-05-12T21:59:33.671Z"
   },
   {
    "duration": 318,
    "start_time": "2022-05-12T21:59:33.689Z"
   },
   {
    "duration": 14,
    "start_time": "2022-05-12T21:59:34.010Z"
   },
   {
    "duration": 31,
    "start_time": "2022-05-12T21:59:34.027Z"
   },
   {
    "duration": 228,
    "start_time": "2022-05-12T21:59:34.060Z"
   },
   {
    "duration": 8,
    "start_time": "2022-05-12T21:59:34.290Z"
   },
   {
    "duration": 209,
    "start_time": "2022-05-12T21:59:34.300Z"
   },
   {
    "duration": 7,
    "start_time": "2022-05-12T21:59:34.511Z"
   },
   {
    "duration": 112,
    "start_time": "2022-05-12T21:59:34.520Z"
   },
   {
    "duration": 221,
    "start_time": "2022-05-12T21:59:34.634Z"
   },
   {
    "duration": 11,
    "start_time": "2022-05-12T21:59:34.857Z"
   },
   {
    "duration": 12,
    "start_time": "2022-05-12T21:59:34.870Z"
   },
   {
    "duration": 11,
    "start_time": "2022-05-12T21:59:34.885Z"
   },
   {
    "duration": 64,
    "start_time": "2022-05-12T21:59:34.898Z"
   },
   {
    "duration": 305,
    "start_time": "2022-05-12T21:59:34.964Z"
   },
   {
    "duration": 56,
    "start_time": "2022-05-12T21:59:35.271Z"
   },
   {
    "duration": 12,
    "start_time": "2022-05-12T21:59:35.352Z"
   },
   {
    "duration": 25,
    "start_time": "2022-05-12T21:59:35.367Z"
   },
   {
    "duration": 262,
    "start_time": "2022-05-12T21:59:35.395Z"
   },
   {
    "duration": 13,
    "start_time": "2022-05-12T21:59:35.659Z"
   },
   {
    "duration": 12,
    "start_time": "2022-05-12T21:59:35.675Z"
   },
   {
    "duration": 288,
    "start_time": "2022-05-12T21:59:35.689Z"
   },
   {
    "duration": 13,
    "start_time": "2022-05-12T21:59:35.979Z"
   },
   {
    "duration": 10,
    "start_time": "2022-05-12T21:59:35.994Z"
   },
   {
    "duration": 246,
    "start_time": "2022-05-12T21:59:36.006Z"
   },
   {
    "duration": 17,
    "start_time": "2022-05-12T21:59:36.261Z"
   },
   {
    "duration": 10,
    "start_time": "2022-05-12T21:59:36.282Z"
   },
   {
    "duration": 6,
    "start_time": "2022-05-12T22:00:23.605Z"
   },
   {
    "duration": 1572,
    "start_time": "2022-05-12T22:00:29.959Z"
   },
   {
    "duration": 79,
    "start_time": "2022-05-12T22:00:31.533Z"
   },
   {
    "duration": 20,
    "start_time": "2022-05-12T22:00:31.614Z"
   },
   {
    "duration": 43,
    "start_time": "2022-05-12T22:00:31.637Z"
   },
   {
    "duration": 26,
    "start_time": "2022-05-12T22:00:31.682Z"
   },
   {
    "duration": 17,
    "start_time": "2022-05-12T22:00:31.710Z"
   },
   {
    "duration": 30,
    "start_time": "2022-05-12T22:00:31.729Z"
   },
   {
    "duration": 22,
    "start_time": "2022-05-12T22:00:31.761Z"
   },
   {
    "duration": 63,
    "start_time": "2022-05-12T22:00:31.785Z"
   },
   {
    "duration": 6,
    "start_time": "2022-05-12T22:00:31.853Z"
   },
   {
    "duration": 15,
    "start_time": "2022-05-12T22:00:31.861Z"
   },
   {
    "duration": 14,
    "start_time": "2022-05-12T22:00:31.878Z"
   },
   {
    "duration": 28,
    "start_time": "2022-05-12T22:00:31.893Z"
   },
   {
    "duration": 24,
    "start_time": "2022-05-12T22:00:31.923Z"
   },
   {
    "duration": 18,
    "start_time": "2022-05-12T22:00:31.952Z"
   },
   {
    "duration": 9,
    "start_time": "2022-05-12T22:00:31.972Z"
   },
   {
    "duration": 28,
    "start_time": "2022-05-12T22:00:31.983Z"
   },
   {
    "duration": 47,
    "start_time": "2022-05-12T22:00:32.013Z"
   },
   {
    "duration": 8,
    "start_time": "2022-05-12T22:00:32.063Z"
   },
   {
    "duration": 6,
    "start_time": "2022-05-12T22:00:32.074Z"
   },
   {
    "duration": 13,
    "start_time": "2022-05-12T22:00:32.082Z"
   },
   {
    "duration": 11,
    "start_time": "2022-05-12T22:00:32.152Z"
   },
   {
    "duration": 8,
    "start_time": "2022-05-12T22:00:32.166Z"
   },
   {
    "duration": 93,
    "start_time": "2022-05-12T22:00:32.176Z"
   },
   {
    "duration": 85,
    "start_time": "2022-05-12T22:00:32.272Z"
   },
   {
    "duration": 6,
    "start_time": "2022-05-12T22:00:32.360Z"
   },
   {
    "duration": 15,
    "start_time": "2022-05-12T22:00:32.369Z"
   },
   {
    "duration": 60,
    "start_time": "2022-05-12T22:00:32.391Z"
   },
   {
    "duration": 12,
    "start_time": "2022-05-12T22:00:32.453Z"
   },
   {
    "duration": 7,
    "start_time": "2022-05-12T22:00:32.467Z"
   },
   {
    "duration": 589,
    "start_time": "2022-05-12T22:00:32.476Z"
   },
   {
    "duration": 370,
    "start_time": "2022-05-12T22:00:33.067Z"
   },
   {
    "duration": 27,
    "start_time": "2022-05-12T22:00:33.439Z"
   },
   {
    "duration": 15,
    "start_time": "2022-05-12T22:00:33.469Z"
   },
   {
    "duration": 3,
    "start_time": "2022-05-12T22:00:33.486Z"
   },
   {
    "duration": 68,
    "start_time": "2022-05-12T22:00:33.491Z"
   },
   {
    "duration": 19,
    "start_time": "2022-05-12T22:00:33.561Z"
   },
   {
    "duration": 304,
    "start_time": "2022-05-12T22:00:33.583Z"
   },
   {
    "duration": 8,
    "start_time": "2022-05-12T22:00:33.890Z"
   },
   {
    "duration": 60,
    "start_time": "2022-05-12T22:00:33.901Z"
   },
   {
    "duration": 410,
    "start_time": "2022-05-12T22:00:33.964Z"
   },
   {
    "duration": 16,
    "start_time": "2022-05-12T22:00:34.376Z"
   },
   {
    "duration": 60,
    "start_time": "2022-05-12T22:00:34.394Z"
   },
   {
    "duration": 304,
    "start_time": "2022-05-12T22:00:34.457Z"
   },
   {
    "duration": 7,
    "start_time": "2022-05-12T22:00:34.764Z"
   },
   {
    "duration": 43,
    "start_time": "2022-05-12T22:00:34.773Z"
   },
   {
    "duration": 59,
    "start_time": "2022-05-12T22:00:34.818Z"
   },
   {
    "duration": 11,
    "start_time": "2022-05-12T22:00:34.879Z"
   },
   {
    "duration": 221,
    "start_time": "2022-05-12T22:00:34.892Z"
   },
   {
    "duration": 8,
    "start_time": "2022-05-12T22:00:35.116Z"
   },
   {
    "duration": 53,
    "start_time": "2022-05-12T22:00:35.127Z"
   },
   {
    "duration": 218,
    "start_time": "2022-05-12T22:00:35.182Z"
   },
   {
    "duration": 6,
    "start_time": "2022-05-12T22:00:35.403Z"
   },
   {
    "duration": 42,
    "start_time": "2022-05-12T22:00:35.411Z"
   },
   {
    "duration": 227,
    "start_time": "2022-05-12T22:00:35.455Z"
   },
   {
    "duration": 22,
    "start_time": "2022-05-12T22:00:35.684Z"
   },
   {
    "duration": 16,
    "start_time": "2022-05-12T22:00:35.709Z"
   },
   {
    "duration": 327,
    "start_time": "2022-05-12T22:00:35.727Z"
   },
   {
    "duration": 11,
    "start_time": "2022-05-12T22:00:36.057Z"
   },
   {
    "duration": 11,
    "start_time": "2022-05-12T22:00:36.070Z"
   },
   {
    "duration": 235,
    "start_time": "2022-05-12T22:00:36.084Z"
   },
   {
    "duration": 8,
    "start_time": "2022-05-12T22:00:36.321Z"
   },
   {
    "duration": 201,
    "start_time": "2022-05-12T22:00:36.331Z"
   },
   {
    "duration": 18,
    "start_time": "2022-05-12T22:00:36.534Z"
   },
   {
    "duration": 110,
    "start_time": "2022-05-12T22:00:36.554Z"
   },
   {
    "duration": 223,
    "start_time": "2022-05-12T22:00:36.667Z"
   },
   {
    "duration": 13,
    "start_time": "2022-05-12T22:00:36.893Z"
   },
   {
    "duration": 12,
    "start_time": "2022-05-12T22:00:36.908Z"
   },
   {
    "duration": 35,
    "start_time": "2022-05-12T22:00:36.923Z"
   },
   {
    "duration": 32,
    "start_time": "2022-05-12T22:00:36.960Z"
   },
   {
    "duration": 326,
    "start_time": "2022-05-12T22:00:36.994Z"
   },
   {
    "duration": 63,
    "start_time": "2022-05-12T22:00:37.323Z"
   },
   {
    "duration": 13,
    "start_time": "2022-05-12T22:00:37.388Z"
   },
   {
    "duration": 50,
    "start_time": "2022-05-12T22:00:37.403Z"
   },
   {
    "duration": 244,
    "start_time": "2022-05-12T22:00:37.456Z"
   },
   {
    "duration": 13,
    "start_time": "2022-05-12T22:00:37.702Z"
   },
   {
    "duration": 12,
    "start_time": "2022-05-12T22:00:37.717Z"
   },
   {
    "duration": 265,
    "start_time": "2022-05-12T22:00:37.732Z"
   },
   {
    "duration": 13,
    "start_time": "2022-05-12T22:00:38.000Z"
   },
   {
    "duration": 13,
    "start_time": "2022-05-12T22:00:38.015Z"
   },
   {
    "duration": 252,
    "start_time": "2022-05-12T22:00:38.031Z"
   },
   {
    "duration": 17,
    "start_time": "2022-05-12T22:00:38.290Z"
   },
   {
    "duration": 11,
    "start_time": "2022-05-12T22:00:38.310Z"
   },
   {
    "duration": 139,
    "start_time": "2022-05-12T22:01:14.905Z"
   },
   {
    "duration": 257,
    "start_time": "2022-05-12T22:01:26.936Z"
   },
   {
    "duration": 38,
    "start_time": "2022-05-12T22:06:10.678Z"
   },
   {
    "duration": 39,
    "start_time": "2022-05-12T22:06:47.270Z"
   },
   {
    "duration": 41,
    "start_time": "2022-05-12T22:07:16.431Z"
   },
   {
    "duration": 30,
    "start_time": "2022-05-12T22:07:33.399Z"
   },
   {
    "duration": 13,
    "start_time": "2022-05-12T22:10:41.824Z"
   },
   {
    "duration": 9,
    "start_time": "2022-05-12T22:11:05.441Z"
   },
   {
    "duration": 31,
    "start_time": "2022-05-12T22:12:43.731Z"
   },
   {
    "duration": 29,
    "start_time": "2022-05-12T22:18:45.169Z"
   },
   {
    "duration": 28,
    "start_time": "2022-05-12T22:21:06.205Z"
   },
   {
    "duration": 12,
    "start_time": "2022-05-12T22:21:31.844Z"
   },
   {
    "duration": 11,
    "start_time": "2022-05-12T22:23:54.166Z"
   },
   {
    "duration": 11,
    "start_time": "2022-05-12T22:25:44.302Z"
   },
   {
    "duration": 12,
    "start_time": "2022-05-12T22:25:44.862Z"
   },
   {
    "duration": 8,
    "start_time": "2022-05-12T22:27:13.919Z"
   },
   {
    "duration": 30,
    "start_time": "2022-05-12T22:31:35.388Z"
   },
   {
    "duration": 7,
    "start_time": "2022-05-12T22:41:43.320Z"
   },
   {
    "duration": 7,
    "start_time": "2022-05-12T22:41:48.967Z"
   },
   {
    "duration": 7,
    "start_time": "2022-05-12T22:52:54.191Z"
   },
   {
    "duration": 124,
    "start_time": "2022-05-12T22:58:40.035Z"
   },
   {
    "duration": 116,
    "start_time": "2022-05-12T22:58:47.867Z"
   },
   {
    "duration": 121,
    "start_time": "2022-05-12T22:58:54.060Z"
   },
   {
    "duration": 1534,
    "start_time": "2022-05-12T23:15:36.133Z"
   },
   {
    "duration": 80,
    "start_time": "2022-05-12T23:15:37.670Z"
   },
   {
    "duration": 20,
    "start_time": "2022-05-12T23:15:37.752Z"
   },
   {
    "duration": 38,
    "start_time": "2022-05-12T23:15:37.775Z"
   },
   {
    "duration": 52,
    "start_time": "2022-05-12T23:15:37.815Z"
   },
   {
    "duration": 9,
    "start_time": "2022-05-12T23:15:37.869Z"
   },
   {
    "duration": 21,
    "start_time": "2022-05-12T23:15:37.880Z"
   },
   {
    "duration": 17,
    "start_time": "2022-05-12T23:15:37.903Z"
   },
   {
    "duration": 52,
    "start_time": "2022-05-12T23:15:37.952Z"
   },
   {
    "duration": 6,
    "start_time": "2022-05-12T23:15:38.010Z"
   },
   {
    "duration": 37,
    "start_time": "2022-05-12T23:15:38.019Z"
   },
   {
    "duration": 17,
    "start_time": "2022-05-12T23:15:38.058Z"
   },
   {
    "duration": 32,
    "start_time": "2022-05-12T23:15:38.077Z"
   },
   {
    "duration": 52,
    "start_time": "2022-05-12T23:15:38.112Z"
   },
   {
    "duration": 18,
    "start_time": "2022-05-12T23:15:38.166Z"
   },
   {
    "duration": 10,
    "start_time": "2022-05-12T23:15:38.186Z"
   },
   {
    "duration": 55,
    "start_time": "2022-05-12T23:15:38.198Z"
   },
   {
    "duration": 10,
    "start_time": "2022-05-12T23:15:38.256Z"
   },
   {
    "duration": 10,
    "start_time": "2022-05-12T23:15:38.269Z"
   },
   {
    "duration": 6,
    "start_time": "2022-05-12T23:15:38.282Z"
   },
   {
    "duration": 12,
    "start_time": "2022-05-12T23:15:38.290Z"
   },
   {
    "duration": 53,
    "start_time": "2022-05-12T23:15:38.304Z"
   },
   {
    "duration": 13,
    "start_time": "2022-05-12T23:15:38.360Z"
   },
   {
    "duration": 32,
    "start_time": "2022-05-12T23:15:38.376Z"
   },
   {
    "duration": 45,
    "start_time": "2022-05-12T23:15:38.410Z"
   },
   {
    "duration": 5,
    "start_time": "2022-05-12T23:15:38.458Z"
   },
   {
    "duration": 20,
    "start_time": "2022-05-12T23:15:38.464Z"
   },
   {
    "duration": 41,
    "start_time": "2022-05-12T23:15:38.491Z"
   },
   {
    "duration": 24,
    "start_time": "2022-05-12T23:15:38.534Z"
   },
   {
    "duration": 7,
    "start_time": "2022-05-12T23:15:38.560Z"
   },
   {
    "duration": 333,
    "start_time": "2022-05-12T23:15:38.569Z"
   },
   {
    "duration": 308,
    "start_time": "2022-05-12T23:15:38.904Z"
   },
   {
    "duration": 22,
    "start_time": "2022-05-12T23:15:39.214Z"
   },
   {
    "duration": 28,
    "start_time": "2022-05-12T23:15:39.238Z"
   },
   {
    "duration": 32,
    "start_time": "2022-05-12T23:15:39.268Z"
   },
   {
    "duration": 44,
    "start_time": "2022-05-12T23:15:39.302Z"
   },
   {
    "duration": 17,
    "start_time": "2022-05-12T23:15:39.348Z"
   },
   {
    "duration": 298,
    "start_time": "2022-05-12T23:15:39.367Z"
   },
   {
    "duration": 9,
    "start_time": "2022-05-12T23:15:39.667Z"
   },
   {
    "duration": 37,
    "start_time": "2022-05-12T23:15:39.679Z"
   },
   {
    "duration": 422,
    "start_time": "2022-05-12T23:15:39.719Z"
   },
   {
    "duration": 20,
    "start_time": "2022-05-12T23:15:40.143Z"
   },
   {
    "duration": 42,
    "start_time": "2022-05-12T23:15:40.164Z"
   },
   {
    "duration": 311,
    "start_time": "2022-05-12T23:15:40.208Z"
   },
   {
    "duration": 7,
    "start_time": "2022-05-12T23:15:40.522Z"
   },
   {
    "duration": 40,
    "start_time": "2022-05-12T23:15:40.551Z"
   },
   {
    "duration": 37,
    "start_time": "2022-05-12T23:15:40.594Z"
   },
   {
    "duration": 21,
    "start_time": "2022-05-12T23:15:40.633Z"
   },
   {
    "duration": 222,
    "start_time": "2022-05-12T23:15:40.656Z"
   },
   {
    "duration": 8,
    "start_time": "2022-05-12T23:15:40.880Z"
   },
   {
    "duration": 33,
    "start_time": "2022-05-12T23:15:40.891Z"
   },
   {
    "duration": 234,
    "start_time": "2022-05-12T23:15:40.926Z"
   },
   {
    "duration": 7,
    "start_time": "2022-05-12T23:15:41.162Z"
   },
   {
    "duration": 30,
    "start_time": "2022-05-12T23:15:41.171Z"
   },
   {
    "duration": 239,
    "start_time": "2022-05-12T23:15:41.204Z"
   },
   {
    "duration": 26,
    "start_time": "2022-05-12T23:15:41.445Z"
   },
   {
    "duration": 15,
    "start_time": "2022-05-12T23:15:41.473Z"
   },
   {
    "duration": 313,
    "start_time": "2022-05-12T23:15:41.490Z"
   },
   {
    "duration": 12,
    "start_time": "2022-05-12T23:15:41.805Z"
   },
   {
    "duration": 15,
    "start_time": "2022-05-12T23:15:41.819Z"
   },
   {
    "duration": 226,
    "start_time": "2022-05-12T23:15:41.836Z"
   },
   {
    "duration": 8,
    "start_time": "2022-05-12T23:15:42.064Z"
   },
   {
    "duration": 204,
    "start_time": "2022-05-12T23:15:42.074Z"
   },
   {
    "duration": 6,
    "start_time": "2022-05-12T23:15:42.281Z"
   },
   {
    "duration": 119,
    "start_time": "2022-05-12T23:15:42.289Z"
   },
   {
    "duration": 227,
    "start_time": "2022-05-12T23:15:42.410Z"
   },
   {
    "duration": 18,
    "start_time": "2022-05-12T23:15:42.639Z"
   },
   {
    "duration": 13,
    "start_time": "2022-05-12T23:15:42.659Z"
   },
   {
    "duration": 14,
    "start_time": "2022-05-12T23:15:42.674Z"
   },
   {
    "duration": 29,
    "start_time": "2022-05-12T23:15:42.690Z"
   },
   {
    "duration": 333,
    "start_time": "2022-05-12T23:15:42.721Z"
   },
   {
    "duration": 53,
    "start_time": "2022-05-12T23:15:43.056Z"
   },
   {
    "duration": 12,
    "start_time": "2022-05-12T23:15:43.111Z"
   },
   {
    "duration": 52,
    "start_time": "2022-05-12T23:15:43.125Z"
   },
   {
    "duration": 255,
    "start_time": "2022-05-12T23:15:43.179Z"
   },
   {
    "duration": 37,
    "start_time": "2022-05-12T23:15:43.436Z"
   },
   {
    "duration": 30,
    "start_time": "2022-05-12T23:15:43.476Z"
   },
   {
    "duration": 15,
    "start_time": "2022-05-12T23:15:43.508Z"
   },
   {
    "duration": 38,
    "start_time": "2022-05-12T23:15:43.525Z"
   },
   {
    "duration": 32,
    "start_time": "2022-05-12T23:15:43.565Z"
   },
   {
    "duration": 11,
    "start_time": "2022-05-12T23:15:43.599Z"
   },
   {
    "duration": 245,
    "start_time": "2022-05-12T23:15:43.618Z"
   },
   {
    "duration": 13,
    "start_time": "2022-05-12T23:15:43.865Z"
   },
   {
    "duration": 10,
    "start_time": "2022-05-12T23:15:43.880Z"
   },
   {
    "duration": 238,
    "start_time": "2022-05-12T23:15:43.892Z"
   },
   {
    "duration": 27,
    "start_time": "2022-05-12T23:15:44.133Z"
   },
   {
    "duration": 23,
    "start_time": "2022-05-12T23:15:44.162Z"
   },
   {
    "duration": 1460,
    "start_time": "2022-05-13T10:28:00.883Z"
   },
   {
    "duration": 66,
    "start_time": "2022-05-13T10:28:02.345Z"
   },
   {
    "duration": 21,
    "start_time": "2022-05-13T10:28:02.412Z"
   },
   {
    "duration": 62,
    "start_time": "2022-05-13T10:28:02.436Z"
   },
   {
    "duration": 23,
    "start_time": "2022-05-13T10:28:02.500Z"
   },
   {
    "duration": 27,
    "start_time": "2022-05-13T10:28:02.524Z"
   },
   {
    "duration": 27,
    "start_time": "2022-05-13T10:28:02.552Z"
   },
   {
    "duration": 33,
    "start_time": "2022-05-13T10:28:02.581Z"
   },
   {
    "duration": 39,
    "start_time": "2022-05-13T10:28:02.616Z"
   },
   {
    "duration": 9,
    "start_time": "2022-05-13T10:28:02.658Z"
   },
   {
    "duration": 17,
    "start_time": "2022-05-13T10:28:02.669Z"
   },
   {
    "duration": 24,
    "start_time": "2022-05-13T10:28:02.688Z"
   },
   {
    "duration": 60,
    "start_time": "2022-05-13T10:28:02.714Z"
   },
   {
    "duration": 23,
    "start_time": "2022-05-13T10:28:02.776Z"
   },
   {
    "duration": 28,
    "start_time": "2022-05-13T10:28:02.801Z"
   },
   {
    "duration": 17,
    "start_time": "2022-05-13T10:28:02.832Z"
   },
   {
    "duration": 61,
    "start_time": "2022-05-13T10:28:02.852Z"
   },
   {
    "duration": 9,
    "start_time": "2022-05-13T10:28:02.915Z"
   },
   {
    "duration": 19,
    "start_time": "2022-05-13T10:28:02.926Z"
   },
   {
    "duration": 8,
    "start_time": "2022-05-13T10:28:02.948Z"
   },
   {
    "duration": 26,
    "start_time": "2022-05-13T10:28:02.959Z"
   },
   {
    "duration": 109,
    "start_time": "2022-05-13T10:28:02.987Z"
   },
   {
    "duration": 31,
    "start_time": "2022-05-13T10:28:03.098Z"
   },
   {
    "duration": 35,
    "start_time": "2022-05-13T10:28:03.131Z"
   },
   {
    "duration": 26,
    "start_time": "2022-05-13T10:28:03.168Z"
   },
   {
    "duration": 10,
    "start_time": "2022-05-13T10:28:03.196Z"
   },
   {
    "duration": 9,
    "start_time": "2022-05-13T10:28:03.209Z"
   },
   {
    "duration": 57,
    "start_time": "2022-05-13T10:28:03.225Z"
   },
   {
    "duration": 11,
    "start_time": "2022-05-13T10:28:03.284Z"
   },
   {
    "duration": 16,
    "start_time": "2022-05-13T10:28:03.297Z"
   },
   {
    "duration": 247,
    "start_time": "2022-05-13T10:28:03.315Z"
   },
   {
    "duration": 203,
    "start_time": "2022-05-13T10:28:03.564Z"
   },
   {
    "duration": 15,
    "start_time": "2022-05-13T10:28:03.769Z"
   },
   {
    "duration": 20,
    "start_time": "2022-05-13T10:28:03.786Z"
   },
   {
    "duration": 9,
    "start_time": "2022-05-13T10:28:03.809Z"
   },
   {
    "duration": 28,
    "start_time": "2022-05-13T10:28:03.820Z"
   },
   {
    "duration": 36,
    "start_time": "2022-05-13T10:28:03.850Z"
   },
   {
    "duration": 199,
    "start_time": "2022-05-13T10:28:03.888Z"
   },
   {
    "duration": 8,
    "start_time": "2022-05-13T10:28:04.089Z"
   },
   {
    "duration": 34,
    "start_time": "2022-05-13T10:28:04.099Z"
   },
   {
    "duration": 441,
    "start_time": "2022-05-13T10:28:04.135Z"
   },
   {
    "duration": 16,
    "start_time": "2022-05-13T10:28:04.579Z"
   },
   {
    "duration": 37,
    "start_time": "2022-05-13T10:28:04.597Z"
   },
   {
    "duration": 202,
    "start_time": "2022-05-13T10:28:04.636Z"
   },
   {
    "duration": 7,
    "start_time": "2022-05-13T10:28:04.840Z"
   },
   {
    "duration": 50,
    "start_time": "2022-05-13T10:28:04.849Z"
   },
   {
    "duration": 32,
    "start_time": "2022-05-13T10:28:04.902Z"
   },
   {
    "duration": 10,
    "start_time": "2022-05-13T10:28:04.936Z"
   },
   {
    "duration": 161,
    "start_time": "2022-05-13T10:28:04.948Z"
   },
   {
    "duration": 8,
    "start_time": "2022-05-13T10:28:05.111Z"
   },
   {
    "duration": 57,
    "start_time": "2022-05-13T10:28:05.121Z"
   },
   {
    "duration": 220,
    "start_time": "2022-05-13T10:28:05.180Z"
   },
   {
    "duration": 5,
    "start_time": "2022-05-13T10:28:05.403Z"
   },
   {
    "duration": 40,
    "start_time": "2022-05-13T10:28:05.410Z"
   },
   {
    "duration": 171,
    "start_time": "2022-05-13T10:28:05.453Z"
   },
   {
    "duration": 18,
    "start_time": "2022-05-13T10:28:05.626Z"
   },
   {
    "duration": 27,
    "start_time": "2022-05-13T10:28:05.646Z"
   },
   {
    "duration": 247,
    "start_time": "2022-05-13T10:28:05.675Z"
   },
   {
    "duration": 10,
    "start_time": "2022-05-13T10:28:05.924Z"
   },
   {
    "duration": 31,
    "start_time": "2022-05-13T10:28:05.936Z"
   },
   {
    "duration": 185,
    "start_time": "2022-05-13T10:28:05.969Z"
   },
   {
    "duration": 17,
    "start_time": "2022-05-13T10:28:06.155Z"
   },
   {
    "duration": 131,
    "start_time": "2022-05-13T10:28:06.174Z"
   },
   {
    "duration": 5,
    "start_time": "2022-05-13T10:28:06.307Z"
   },
   {
    "duration": 88,
    "start_time": "2022-05-13T10:28:06.314Z"
   },
   {
    "duration": 149,
    "start_time": "2022-05-13T10:28:06.404Z"
   },
   {
    "duration": 15,
    "start_time": "2022-05-13T10:28:06.555Z"
   },
   {
    "duration": 10,
    "start_time": "2022-05-13T10:28:06.572Z"
   },
   {
    "duration": 9,
    "start_time": "2022-05-13T10:28:06.584Z"
   },
   {
    "duration": 23,
    "start_time": "2022-05-13T10:28:06.594Z"
   },
   {
    "duration": 219,
    "start_time": "2022-05-13T10:28:06.619Z"
   },
   {
    "duration": 45,
    "start_time": "2022-05-13T10:28:06.839Z"
   },
   {
    "duration": 12,
    "start_time": "2022-05-13T10:28:06.886Z"
   },
   {
    "duration": 18,
    "start_time": "2022-05-13T10:28:06.900Z"
   },
   {
    "duration": 195,
    "start_time": "2022-05-13T10:28:06.920Z"
   },
   {
    "duration": 24,
    "start_time": "2022-05-13T10:28:07.117Z"
   },
   {
    "duration": 37,
    "start_time": "2022-05-13T10:28:07.143Z"
   },
   {
    "duration": 16,
    "start_time": "2022-05-13T10:28:07.183Z"
   },
   {
    "duration": 17,
    "start_time": "2022-05-13T10:28:07.201Z"
   },
   {
    "duration": 27,
    "start_time": "2022-05-13T10:28:07.220Z"
   },
   {
    "duration": 22,
    "start_time": "2022-05-13T10:28:07.249Z"
   },
   {
    "duration": 252,
    "start_time": "2022-05-13T10:28:07.281Z"
   },
   {
    "duration": 12,
    "start_time": "2022-05-13T10:28:07.535Z"
   },
   {
    "duration": 28,
    "start_time": "2022-05-13T10:28:07.548Z"
   },
   {
    "duration": 157,
    "start_time": "2022-05-13T10:28:07.578Z"
   },
   {
    "duration": 14,
    "start_time": "2022-05-13T10:28:07.737Z"
   },
   {
    "duration": 19,
    "start_time": "2022-05-13T10:28:07.753Z"
   }
  ],
  "kernelspec": {
   "display_name": "Python 3",
   "language": "python",
   "name": "python3"
  },
  "language_info": {
   "codemirror_mode": {
    "name": "ipython",
    "version": 3
   },
   "file_extension": ".py",
   "mimetype": "text/x-python",
   "name": "python",
   "nbconvert_exporter": "python",
   "pygments_lexer": "ipython3",
   "version": "3.8.3"
  },
  "toc": {
   "base_numbering": 1,
   "nav_menu": {},
   "number_sections": true,
   "sideBar": true,
   "skip_h1_title": true,
   "title_cell": "Table of Contents",
   "title_sidebar": "Contents",
   "toc_cell": false,
   "toc_position": {},
   "toc_section_display": true,
   "toc_window_display": false
  }
 },
 "nbformat": 4,
 "nbformat_minor": 2
}
