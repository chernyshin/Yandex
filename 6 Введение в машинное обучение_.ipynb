{
 "cells": [
  {
   "cell_type": "markdown",
   "metadata": {},
   "source": [
    "# Рекомендация тарифов"
   ]
  },
  {
   "cell_type": "markdown",
   "metadata": {},
   "source": [
    "В нашем распоряжении данные о поведении клиентов, которые уже перешли на тарифы \"Смарт\" и \"Ультра\" (из проекта курса «Статистический анализ данных»). Нужно построить модель для задачи классификации, которая выберет подходящий тариф. Предобработка данных не понадобится — мы её уже сделали.\n",
    "\n",
    "Необходимо построить модель с максимально большим значением *accuracy*. Чтобы сдать проект успешно, нужно довести долю правильных ответов по крайней мере до 0.75. Проверите *accuracy* на тестовой выборке самостоятельно."
   ]
  },
  {
   "cell_type": "markdown",
   "metadata": {},
   "source": [
    "**Ход исследования:**\n",
    "\n",
    "1. Изучить файл с данными. Путь к файлу - `/datasets/users_behavior.csv`;\n",
    "2. Разделить исходные данные на обучающую, валидационную и тестовую выборки;\n",
    "3. Исследовать качество разных моделей, меняя гиперпараметры, написать вывод;\n",
    "4. Проверить качество моделей на тестовой выборке;\n",
    "5. Проверить модели на вменяемость.\n",
    "\n",
    "**Описание данных:**\n",
    "- *сalls* — количество звонков,\n",
    "- *minutes* — суммарная длительность звонков в минутах,\n",
    "- *messages* — количество sms-сообщений,\n",
    "- *mb_used* — израсходованный интернет-трафик в Мб,\n",
    "- *is_ultra* — каким тарифом пользовался в течение месяца («Ультра» — 1, «Смарт» — 0)."
   ]
  },
  {
   "cell_type": "markdown",
   "metadata": {},
   "source": [
    "## Изучение файла с данными"
   ]
  },
  {
   "cell_type": "code",
   "execution_count": 23,
   "metadata": {},
   "outputs": [],
   "source": [
    "# Импорты\n",
    "\n",
    "import pandas as pd\n",
    "import matplotlib.pyplot as plt\n",
    "from sklearn.model_selection import train_test_split\n",
    "from sklearn.tree import DecisionTreeClassifier\n",
    "from sklearn.metrics import accuracy_score\n",
    "from sklearn.ensemble import RandomForestClassifier\n",
    "from sklearn.linear_model import LogisticRegression\n",
    "import warnings\n",
    "warnings.filterwarnings('ignore')"
   ]
  },
  {
   "cell_type": "code",
   "execution_count": 2,
   "metadata": {},
   "outputs": [],
   "source": [
    "df = pd.read_csv('/datasets/users_behavior.csv')"
   ]
  },
  {
   "cell_type": "code",
   "execution_count": 3,
   "metadata": {},
   "outputs": [
    {
     "data": {
      "text/html": [
       "<div>\n",
       "<style scoped>\n",
       "    .dataframe tbody tr th:only-of-type {\n",
       "        vertical-align: middle;\n",
       "    }\n",
       "\n",
       "    .dataframe tbody tr th {\n",
       "        vertical-align: top;\n",
       "    }\n",
       "\n",
       "    .dataframe thead th {\n",
       "        text-align: right;\n",
       "    }\n",
       "</style>\n",
       "<table border=\"1\" class=\"dataframe\">\n",
       "  <thead>\n",
       "    <tr style=\"text-align: right;\">\n",
       "      <th></th>\n",
       "      <th>calls</th>\n",
       "      <th>minutes</th>\n",
       "      <th>messages</th>\n",
       "      <th>mb_used</th>\n",
       "      <th>is_ultra</th>\n",
       "    </tr>\n",
       "  </thead>\n",
       "  <tbody>\n",
       "    <tr>\n",
       "      <th>0</th>\n",
       "      <td>40.0</td>\n",
       "      <td>311.90</td>\n",
       "      <td>83.0</td>\n",
       "      <td>19915.42</td>\n",
       "      <td>0</td>\n",
       "    </tr>\n",
       "    <tr>\n",
       "      <th>1</th>\n",
       "      <td>85.0</td>\n",
       "      <td>516.75</td>\n",
       "      <td>56.0</td>\n",
       "      <td>22696.96</td>\n",
       "      <td>0</td>\n",
       "    </tr>\n",
       "    <tr>\n",
       "      <th>2</th>\n",
       "      <td>77.0</td>\n",
       "      <td>467.66</td>\n",
       "      <td>86.0</td>\n",
       "      <td>21060.45</td>\n",
       "      <td>0</td>\n",
       "    </tr>\n",
       "    <tr>\n",
       "      <th>3</th>\n",
       "      <td>106.0</td>\n",
       "      <td>745.53</td>\n",
       "      <td>81.0</td>\n",
       "      <td>8437.39</td>\n",
       "      <td>1</td>\n",
       "    </tr>\n",
       "    <tr>\n",
       "      <th>4</th>\n",
       "      <td>66.0</td>\n",
       "      <td>418.74</td>\n",
       "      <td>1.0</td>\n",
       "      <td>14502.75</td>\n",
       "      <td>0</td>\n",
       "    </tr>\n",
       "    <tr>\n",
       "      <th>...</th>\n",
       "      <td>...</td>\n",
       "      <td>...</td>\n",
       "      <td>...</td>\n",
       "      <td>...</td>\n",
       "      <td>...</td>\n",
       "    </tr>\n",
       "    <tr>\n",
       "      <th>3209</th>\n",
       "      <td>122.0</td>\n",
       "      <td>910.98</td>\n",
       "      <td>20.0</td>\n",
       "      <td>35124.90</td>\n",
       "      <td>1</td>\n",
       "    </tr>\n",
       "    <tr>\n",
       "      <th>3210</th>\n",
       "      <td>25.0</td>\n",
       "      <td>190.36</td>\n",
       "      <td>0.0</td>\n",
       "      <td>3275.61</td>\n",
       "      <td>0</td>\n",
       "    </tr>\n",
       "    <tr>\n",
       "      <th>3211</th>\n",
       "      <td>97.0</td>\n",
       "      <td>634.44</td>\n",
       "      <td>70.0</td>\n",
       "      <td>13974.06</td>\n",
       "      <td>0</td>\n",
       "    </tr>\n",
       "    <tr>\n",
       "      <th>3212</th>\n",
       "      <td>64.0</td>\n",
       "      <td>462.32</td>\n",
       "      <td>90.0</td>\n",
       "      <td>31239.78</td>\n",
       "      <td>0</td>\n",
       "    </tr>\n",
       "    <tr>\n",
       "      <th>3213</th>\n",
       "      <td>80.0</td>\n",
       "      <td>566.09</td>\n",
       "      <td>6.0</td>\n",
       "      <td>29480.52</td>\n",
       "      <td>1</td>\n",
       "    </tr>\n",
       "  </tbody>\n",
       "</table>\n",
       "<p>3214 rows × 5 columns</p>\n",
       "</div>"
      ],
      "text/plain": [
       "      calls  minutes  messages   mb_used  is_ultra\n",
       "0      40.0   311.90      83.0  19915.42         0\n",
       "1      85.0   516.75      56.0  22696.96         0\n",
       "2      77.0   467.66      86.0  21060.45         0\n",
       "3     106.0   745.53      81.0   8437.39         1\n",
       "4      66.0   418.74       1.0  14502.75         0\n",
       "...     ...      ...       ...       ...       ...\n",
       "3209  122.0   910.98      20.0  35124.90         1\n",
       "3210   25.0   190.36       0.0   3275.61         0\n",
       "3211   97.0   634.44      70.0  13974.06         0\n",
       "3212   64.0   462.32      90.0  31239.78         0\n",
       "3213   80.0   566.09       6.0  29480.52         1\n",
       "\n",
       "[3214 rows x 5 columns]"
      ]
     },
     "execution_count": 3,
     "metadata": {},
     "output_type": "execute_result"
    }
   ],
   "source": [
    "df"
   ]
  },
  {
   "cell_type": "code",
   "execution_count": 4,
   "metadata": {},
   "outputs": [
    {
     "name": "stdout",
     "output_type": "stream",
     "text": [
      "<class 'pandas.core.frame.DataFrame'>\n",
      "RangeIndex: 3214 entries, 0 to 3213\n",
      "Data columns (total 5 columns):\n",
      " #   Column    Non-Null Count  Dtype  \n",
      "---  ------    --------------  -----  \n",
      " 0   calls     3214 non-null   float64\n",
      " 1   minutes   3214 non-null   float64\n",
      " 2   messages  3214 non-null   float64\n",
      " 3   mb_used   3214 non-null   float64\n",
      " 4   is_ultra  3214 non-null   int64  \n",
      "dtypes: float64(4), int64(1)\n",
      "memory usage: 125.7 KB\n"
     ]
    }
   ],
   "source": [
    "df.info()"
   ]
  },
  {
   "cell_type": "markdown",
   "metadata": {},
   "source": [
    "Предобработка данных выполнена, дополнительных операций не требуется. Изменение формата данных также нецелесообразно, так как может привести к ошибкам при анализе данных.\n",
    "\n",
    "Посмотрим на параметры данных."
   ]
  },
  {
   "cell_type": "code",
   "execution_count": 5,
   "metadata": {
    "scrolled": false
   },
   "outputs": [
    {
     "data": {
      "text/html": [
       "<div>\n",
       "<style scoped>\n",
       "    .dataframe tbody tr th:only-of-type {\n",
       "        vertical-align: middle;\n",
       "    }\n",
       "\n",
       "    .dataframe tbody tr th {\n",
       "        vertical-align: top;\n",
       "    }\n",
       "\n",
       "    .dataframe thead th {\n",
       "        text-align: right;\n",
       "    }\n",
       "</style>\n",
       "<table border=\"1\" class=\"dataframe\">\n",
       "  <thead>\n",
       "    <tr style=\"text-align: right;\">\n",
       "      <th></th>\n",
       "      <th>calls</th>\n",
       "      <th>minutes</th>\n",
       "      <th>messages</th>\n",
       "      <th>mb_used</th>\n",
       "      <th>is_ultra</th>\n",
       "    </tr>\n",
       "  </thead>\n",
       "  <tbody>\n",
       "    <tr>\n",
       "      <th>count</th>\n",
       "      <td>3214.000000</td>\n",
       "      <td>3214.000000</td>\n",
       "      <td>3214.000000</td>\n",
       "      <td>3214.000000</td>\n",
       "      <td>3214.000000</td>\n",
       "    </tr>\n",
       "    <tr>\n",
       "      <th>mean</th>\n",
       "      <td>63.038892</td>\n",
       "      <td>438.208787</td>\n",
       "      <td>38.281269</td>\n",
       "      <td>17207.673836</td>\n",
       "      <td>0.306472</td>\n",
       "    </tr>\n",
       "    <tr>\n",
       "      <th>std</th>\n",
       "      <td>33.236368</td>\n",
       "      <td>234.569872</td>\n",
       "      <td>36.148326</td>\n",
       "      <td>7570.968246</td>\n",
       "      <td>0.461100</td>\n",
       "    </tr>\n",
       "    <tr>\n",
       "      <th>min</th>\n",
       "      <td>0.000000</td>\n",
       "      <td>0.000000</td>\n",
       "      <td>0.000000</td>\n",
       "      <td>0.000000</td>\n",
       "      <td>0.000000</td>\n",
       "    </tr>\n",
       "    <tr>\n",
       "      <th>25%</th>\n",
       "      <td>40.000000</td>\n",
       "      <td>274.575000</td>\n",
       "      <td>9.000000</td>\n",
       "      <td>12491.902500</td>\n",
       "      <td>0.000000</td>\n",
       "    </tr>\n",
       "    <tr>\n",
       "      <th>50%</th>\n",
       "      <td>62.000000</td>\n",
       "      <td>430.600000</td>\n",
       "      <td>30.000000</td>\n",
       "      <td>16943.235000</td>\n",
       "      <td>0.000000</td>\n",
       "    </tr>\n",
       "    <tr>\n",
       "      <th>75%</th>\n",
       "      <td>82.000000</td>\n",
       "      <td>571.927500</td>\n",
       "      <td>57.000000</td>\n",
       "      <td>21424.700000</td>\n",
       "      <td>1.000000</td>\n",
       "    </tr>\n",
       "    <tr>\n",
       "      <th>max</th>\n",
       "      <td>244.000000</td>\n",
       "      <td>1632.060000</td>\n",
       "      <td>224.000000</td>\n",
       "      <td>49745.730000</td>\n",
       "      <td>1.000000</td>\n",
       "    </tr>\n",
       "  </tbody>\n",
       "</table>\n",
       "</div>"
      ],
      "text/plain": [
       "             calls      minutes     messages       mb_used     is_ultra\n",
       "count  3214.000000  3214.000000  3214.000000   3214.000000  3214.000000\n",
       "mean     63.038892   438.208787    38.281269  17207.673836     0.306472\n",
       "std      33.236368   234.569872    36.148326   7570.968246     0.461100\n",
       "min       0.000000     0.000000     0.000000      0.000000     0.000000\n",
       "25%      40.000000   274.575000     9.000000  12491.902500     0.000000\n",
       "50%      62.000000   430.600000    30.000000  16943.235000     0.000000\n",
       "75%      82.000000   571.927500    57.000000  21424.700000     1.000000\n",
       "max     244.000000  1632.060000   224.000000  49745.730000     1.000000"
      ]
     },
     "execution_count": 5,
     "metadata": {},
     "output_type": "execute_result"
    }
   ],
   "source": [
    "df.describe()"
   ]
  },
  {
   "cell_type": "markdown",
   "metadata": {},
   "source": [
    "Чтобы корректно обучить модель, необходимо иметь достаточное количество строк с целевыми признаками. Проверим:"
   ]
  },
  {
   "cell_type": "code",
   "execution_count": 6,
   "metadata": {},
   "outputs": [
    {
     "data": {
      "text/plain": [
       "0    0.693528\n",
       "1    0.306472\n",
       "Name: is_ultra, dtype: float64"
      ]
     },
     "execution_count": 6,
     "metadata": {},
     "output_type": "execute_result"
    }
   ],
   "source": [
    "df['is_ultra'].value_counts(normalize=True)"
   ]
  },
  {
   "cell_type": "markdown",
   "metadata": {},
   "source": [
    "Имеется перевес в сторону категории \"0\", но дисбаланс не критичный и количества данных достаточнодля корректного построения модели."
   ]
  },
  {
   "cell_type": "markdown",
   "metadata": {},
   "source": [
    "Проверим, распределены ли данные равномерно по датафрейму."
   ]
  },
  {
   "cell_type": "code",
   "execution_count": 7,
   "metadata": {},
   "outputs": [
    {
     "data": {
      "image/png": "[encoded data removed]",
      "text/plain": [
       "<Figure size 432x288 with 4 Axes>"
      ]
     },
     "metadata": {
      "needs_background": "light"
     },
     "output_type": "display_data"
    }
   ],
   "source": [
    "plt.subplot (2, 2, 1)\n",
    "plt.plot(df['minutes'])\n",
    "plt.subplot (2, 2, 2)\n",
    "plt.plot(df['mb_used'])\n",
    "plt.subplot (2, 2, 3)\n",
    "plt.plot(df['is_ultra'])\n",
    "plt.subplot (2, 2, 4)\n",
    "plt.plot(df[['calls', 'messages']], alpha=0.6)\n",
    "plt.rcParams[\"figure.figsize\"] = (16,6)\n",
    "plt.show()"
   ]
  },
  {
   "cell_type": "markdown",
   "metadata": {},
   "source": [
    "На графиках отсутствуют явные тренды и экстремумы, данные находятся примерно в одном коридоре, из чего следует, что со временем серьёзных изменений в тарифах и ограничений не возникало. Это же дополнительно доказывают графики распределений, имеющие по одному пику, не считая высоких плотностей на значении 0."
   ]
  },
  {
   "cell_type": "code",
   "execution_count": 8,
   "metadata": {},
   "outputs": [
    {
     "data": {
      "image/png": "[encoded data removed]",
      "text/plain": [
       "<Figure size 1152x432 with 4 Axes>"
      ]
     },
     "metadata": {
      "needs_background": "light"
     },
     "output_type": "display_data"
    }
   ],
   "source": [
    "plt.subplot (2, 2, 1)\n",
    "plt.hist(df['minutes'], bins=20)\n",
    "plt.subplot (2, 2, 2)\n",
    "plt.hist(df['mb_used'], bins=20)\n",
    "plt.subplot (2, 2, 3)\n",
    "plt.hist(df['calls'], bins=20)\n",
    "plt.subplot (2, 2, 4)\n",
    "plt.hist(df['messages'], bins=20)\n",
    "plt.rcParams[\"figure.figsize\"] = (16,6)\n",
    "plt.show()"
   ]
  },
  {
   "cell_type": "markdown",
   "metadata": {},
   "source": [
    "**Вывод**\n",
    "\n",
    "Изначальные данные выглядят корректными и готовыми к дальнейшей работе."
   ]
  },
  {
   "cell_type": "markdown",
   "metadata": {},
   "source": [
    "###### Разбиение данных на выборки"
   ]
  },
  {
   "cell_type": "markdown",
   "metadata": {},
   "source": [
    "Так как мы проводим работу с ограниченным набором данных, тестовую выборку выделим из имеющегося датафрейма.\n",
    "\n",
    "Соотношение обучающей, валидационной и тестовой выборки примем за 3:1:1, то есть из датафрейма выделим 1/5 данных и запишем в тестовую выборку."
   ]
  },
  {
   "cell_type": "markdown",
   "metadata": {},
   "source": [
    "Выделяем тестовую выборку:"
   ]
  },
  {
   "cell_type": "code",
   "execution_count": 9,
   "metadata": {},
   "outputs": [],
   "source": [
    "df, df_test = train_test_split(df, test_size=0.2, random_state=666, stratify=df['is_ultra'])"
   ]
  },
  {
   "cell_type": "markdown",
   "metadata": {},
   "source": [
    "Оставшийся датафрейм разделяем на обучающую и валидационную (25%)."
   ]
  },
  {
   "cell_type": "code",
   "execution_count": 10,
   "metadata": {},
   "outputs": [],
   "source": [
    "df_train, df_valid = train_test_split(df, test_size=0.25, random_state=777, stratify=df['is_ultra'])"
   ]
  },
  {
   "cell_type": "markdown",
   "metadata": {},
   "source": [
    "Проверяем размеры выборок:"
   ]
  },
  {
   "cell_type": "code",
   "execution_count": 11,
   "metadata": {},
   "outputs": [
    {
     "name": "stdout",
     "output_type": "stream",
     "text": [
      "1928\n",
      "643\n",
      "643\n"
     ]
    }
   ],
   "source": [
    "print(len(df_train))\n",
    "print(len(df_valid))\n",
    "print(len(df_test))"
   ]
  },
  {
   "cell_type": "markdown",
   "metadata": {},
   "source": [
    "Создадим переменные с признаками. Так как наша цель - решить задачу классификации для выбора подходящего тарифа. Столбец с тарицами, то есть целевым признаком - `is_ultra`."
   ]
  },
  {
   "cell_type": "code",
   "execution_count": 12,
   "metadata": {},
   "outputs": [],
   "source": [
    "df_train_features = df_train.drop(['is_ultra'], axis=1)\n",
    "df_train_target = df_train['is_ultra']\n",
    "\n",
    "df_valid_features = df_valid.drop(['is_ultra'], axis=1)\n",
    "df_valid_target = df_valid['is_ultra']\n",
    "\n",
    "df_test_features = df_test.drop(['is_ultra'], axis=1)\n",
    "df_test_target = df_test['is_ultra']"
   ]
  },
  {
   "cell_type": "markdown",
   "metadata": {},
   "source": [
    "**Вывод**\n",
    "\n",
    "Выборка данных разбита на обучающую, валидационную и тестовую в соотношении 3:1:1. Данные готовы к построению модели."
   ]
  },
  {
   "cell_type": "markdown",
   "metadata": {},
   "source": [
    "## Исследование модели"
   ]
  },
  {
   "cell_type": "markdown",
   "metadata": {},
   "source": [
    "### Решающее дерево"
   ]
  },
  {
   "cell_type": "markdown",
   "metadata": {},
   "source": [
    "Рассмотрим качество модели, построенной с использованием дерева решений. Изменим гиперпараметр `max_depth` для проверки точности при различной глубине дерева."
   ]
  },
  {
   "cell_type": "code",
   "execution_count": 13,
   "metadata": {},
   "outputs": [
    {
     "name": "stdout",
     "output_type": "stream",
     "text": [
      "Лучшая глубина - 5, точность - 0.8055987558320373\n"
     ]
    }
   ],
   "source": [
    "best_model_dtc = None\n",
    "best_result = 0\n",
    "for depth in range(1, 20):\n",
    "    model_dtc = DecisionTreeClassifier(random_state=888, max_depth=depth)\n",
    "    model_dtc.fit(df_train_features, df_train_target)\n",
    "    predictions_dtc = model_dtc.predict(df_valid_features)\n",
    "    result_dtc = accuracy_score(df_valid_target, predictions_dtc)\n",
    "    if result_dtc > best_result:\n",
    "        best_result = result_dtc\n",
    "        best_model_dtc = model_dtc\n",
    "        best_depth = depth\n",
    "        \n",
    "print(f'Лучшая глубина - {best_depth}, точность - {best_result}')"
   ]
  },
  {
   "cell_type": "markdown",
   "metadata": {},
   "source": [
    "### Случайный лес"
   ]
  },
  {
   "cell_type": "markdown",
   "metadata": {},
   "source": [
    "Случайный лес также подходит для задачи классификации, проверим эффективность модели этого типа. \n",
    "Данный алгоритм показывает наилучшую точность в текущей задаче. Подберём различные значения нескольких гиперпараметров для достижения максимального результата.\n",
    "\n",
    "Изменяемые гиперпараметры: `n_estimators` (по умолчанию = 100), `min_samples_split`(по умолчанию = 2), "
   ]
  },
  {
   "cell_type": "code",
   "execution_count": 14,
   "metadata": {},
   "outputs": [
    {
     "name": "stdout",
     "output_type": "stream",
     "text": [
      "Количество деревьев - 30, mss - 2, criterion - entropy, точность - 0.8180404354587869\n",
      "\n",
      "CPU times: user 1min 16s, sys: 207 ms, total: 1min 17s\n",
      "Wall time: 1min 17s\n"
     ]
    }
   ],
   "source": [
    "%%time\n",
    "\n",
    "best_model_rfc = None\n",
    "best_result_rfc = 0\n",
    "for crit in ['gini', 'entropy']:\n",
    "    for mss in range(2, 4):\n",
    "        for est in range(1, 100):\n",
    "            model_rfc = RandomForestClassifier(random_state=666, n_estimators=est, min_samples_split=mss, criterion=crit)\n",
    "            model_rfc.fit(df_train_features, df_train_target)\n",
    "            predictions_rfc = model_rfc.predict(df_valid_features)\n",
    "            result_rfc = accuracy_score(df_valid_target, predictions_rfc)\n",
    "            if result_rfc > best_result_rfc:\n",
    "                best_result_rfc = result_rfc\n",
    "                best_model_rfc = model_rfc\n",
    "                best_est = est\n",
    "                best_mss = mss\n",
    "                best_crit = crit\n",
    "        \n",
    "print(f'Количество деревьев - {best_est}, mss - {best_mss}, criterion - {best_crit}, точность - {best_result_rfc}\\n')"
   ]
  },
  {
   "cell_type": "markdown",
   "metadata": {},
   "source": [
    "Достигнута точность 0.818, что лучше результата решающего дерева."
   ]
  },
  {
   "cell_type": "markdown",
   "metadata": {},
   "source": [
    "### Логистическая регрессия"
   ]
  },
  {
   "cell_type": "markdown",
   "metadata": {},
   "source": [
    "Посмотрим на точность модели, построенной методом логистической регрессии. Изменяемый параметр - `max_iter`."
   ]
  },
  {
   "cell_type": "code",
   "execution_count": 15,
   "metadata": {},
   "outputs": [
    {
     "name": "stdout",
     "output_type": "stream",
     "text": [
      "Количество итераций - 82, точность - 0.7542768273716952\n"
     ]
    }
   ],
   "source": [
    "best_model_lr = None\n",
    "best_result_lr = 0\n",
    "for it in range(1, 100):\n",
    "    model_lr = LogisticRegression(random_state=666, solver='lbfgs', max_iter=it)\n",
    "    model_lr.fit(df_train_features, df_train_target)\n",
    "    predictions_lr = model_lr.predict(df_valid_features)\n",
    "    result_lr = accuracy_score(df_valid_target, predictions_lr)\n",
    "    if result_lr > best_result_lr:\n",
    "        best_result_lr = result_lr\n",
    "        best_model_lr = model_lr\n",
    "        best_iter = it\n",
    "        \n",
    "print(f'Количество итераций - {best_iter}, точность - {best_result_lr}')"
   ]
  },
  {
   "cell_type": "markdown",
   "metadata": {},
   "source": [
    "Лучшее количество итераций - 82, точность - 0.754, что гораздо ниже, чем у случайного леса и дерева решений."
   ]
  },
  {
   "cell_type": "markdown",
   "metadata": {},
   "source": [
    "Точность модели логистической регрессии слишком низкая, найдём другие гиперпараметры для достижения лучшего результата."
   ]
  },
  {
   "cell_type": "code",
   "execution_count": 16,
   "metadata": {},
   "outputs": [
    {
     "name": "stdout",
     "output_type": "stream",
     "text": [
      "Количество итераций - 24, точность - 0.7013996889580093\n"
     ]
    }
   ],
   "source": [
    "# fit_intercept заменяем True на False\n",
    "best_model_lr = None\n",
    "best_result_lr = 0\n",
    "for it in range(1, 1000):\n",
    "    model_lr = LogisticRegression(random_state=666, solver='lbfgs', max_iter=it, fit_intercept=False)\n",
    "    model_lr.fit(df_train_features, df_train_target)\n",
    "    predictions_lr = model_lr.predict(df_valid_features)\n",
    "    result_lr = accuracy_score(df_valid_target, predictions_lr)\n",
    "    if result_lr > best_result_lr:\n",
    "        best_result_lr = result_lr\n",
    "        best_model_lr = model_lr\n",
    "        best_iter = it\n",
    "        \n",
    "print(f'Количество итераций - {best_iter}, точность - {best_result_lr}')"
   ]
  },
  {
   "cell_type": "markdown",
   "metadata": {},
   "source": [
    "Точность ухудшилась. Пробуем разные значения `solver`."
   ]
  },
  {
   "cell_type": "code",
   "execution_count": 17,
   "metadata": {},
   "outputs": [
    {
     "name": "stdout",
     "output_type": "stream",
     "text": [
      "Количество итераций - 1, точность - 0.6936236391912908\n"
     ]
    }
   ],
   "source": [
    "best_model_lr = None\n",
    "best_result_lr = 0\n",
    "for it in range(1, 100):\n",
    "    model_lr = LogisticRegression(random_state=666, solver='saga', max_iter=it)\n",
    "    model_lr.fit(df_train_features, df_train_target)\n",
    "    predictions_lr = model_lr.predict(df_valid_features)\n",
    "    result_lr = accuracy_score(df_valid_target, predictions_lr)\n",
    "    if result_lr > best_result_lr:\n",
    "        best_result_lr = result_lr\n",
    "        best_model_lr = model_lr\n",
    "        best_iter = it\n",
    "        \n",
    "print(f'Количество итераций - {best_iter}, точность - {best_result_lr}')\n",
    "\n",
    "#'newton-cg' - 0.73717\n",
    "#'liblinear' - 0.73717\n",
    "#'sag' - 0.69518\n",
    "#'saga' - 0.69518"
   ]
  },
  {
   "cell_type": "markdown",
   "metadata": {},
   "source": [
    "Пробуем различные значения `multi_class`."
   ]
  },
  {
   "cell_type": "code",
   "execution_count": 18,
   "metadata": {},
   "outputs": [
    {
     "name": "stdout",
     "output_type": "stream",
     "text": [
      "Количество итераций - 82, точность - 0.7542768273716952\n"
     ]
    }
   ],
   "source": [
    "best_model_lr = None\n",
    "best_result_lr = 0\n",
    "for it in range(1, 100):\n",
    "    model_lr = LogisticRegression(random_state=666, solver='lbfgs', max_iter=it, multi_class='ovr')\n",
    "    model_lr.fit(df_train_features, df_train_target)\n",
    "    predictions_lr = model_lr.predict(df_valid_features)\n",
    "    result_lr = accuracy_score(df_valid_target, predictions_lr)\n",
    "    if result_lr > best_result_lr:\n",
    "        best_result_lr = result_lr\n",
    "        best_model_lr = model_lr\n",
    "        best_iter = it\n",
    "        \n",
    "print(f'Количество итераций - {best_iter}, точность - {best_result_lr}')\n",
    "\n",
    "#'multinomial' - 0.73717"
   ]
  },
  {
   "cell_type": "markdown",
   "metadata": {},
   "source": [
    "Модель \"по умолчанию\" - лучшая для логистической регрессии, но её точность недостаточна для дальнейшей работы."
   ]
  },
  {
   "cell_type": "code",
   "execution_count": 19,
   "metadata": {},
   "outputs": [],
   "source": [
    "# Здесь было про RMSE"
   ]
  },
  {
   "cell_type": "markdown",
   "metadata": {},
   "source": [
    "### Вывод"
   ]
  },
  {
   "cell_type": "markdown",
   "metadata": {},
   "source": [
    "Наибольшую точность и наименьшую ошибку показала модель, построенная по алгоритму случайного леса. Параметры следующие:"
   ]
  },
  {
   "cell_type": "code",
   "execution_count": 20,
   "metadata": {},
   "outputs": [
    {
     "data": {
      "text/plain": [
       "RandomForestClassifier(criterion='entropy', n_estimators=30, random_state=666)"
      ]
     },
     "execution_count": 20,
     "metadata": {},
     "output_type": "execute_result"
    }
   ],
   "source": [
    "best_model_rfc"
   ]
  },
  {
   "cell_type": "markdown",
   "metadata": {},
   "source": [
    "## Проверка модели на тестовой выборке"
   ]
  },
  {
   "cell_type": "markdown",
   "metadata": {},
   "source": [
    "Проверим выбранную модель на тестовой выборке."
   ]
  },
  {
   "cell_type": "code",
   "execution_count": 21,
   "metadata": {},
   "outputs": [
    {
     "data": {
      "text/plain": [
       "0.8040435458786936"
      ]
     },
     "execution_count": 21,
     "metadata": {},
     "output_type": "execute_result"
    }
   ],
   "source": [
    "predictions_rfc =  best_model_rfc.predict(df_test_features)\n",
    "accuracy = accuracy_score(df_test_target, predictions_rfc)\n",
    "accuracy"
   ]
  },
  {
   "cell_type": "markdown",
   "metadata": {},
   "source": [
    "На тестовой выборке модель показывает точность 80,40%, что приемлемо для поставленной задачи."
   ]
  },
  {
   "cell_type": "markdown",
   "metadata": {},
   "source": [
    "**Вывод**\n",
    "\n",
    "На тестовой выборке модель показала точность 80,40%. Это меньше, чем на валидационной выборке на 1,4 п.п., но допустимо для решения поставленной задачи."
   ]
  },
  {
   "cell_type": "markdown",
   "metadata": {},
   "source": [
    "## (бонус) Проверка модели на адекватность"
   ]
  },
  {
   "cell_type": "markdown",
   "metadata": {},
   "source": [
    "На тестовой выборке точность модели меньше, чем на валидационной. Проверим адекватность модели. Ранее мы вычислили, что распределение целевого признака в исходных данных - 0.694/0.306. Проверим точность предсказаний на константной модели:"
   ]
  },
  {
   "cell_type": "code",
   "execution_count": 22,
   "metadata": {},
   "outputs": [
    {
     "data": {
      "text/plain": [
       "0.6934647302904564"
      ]
     },
     "execution_count": 22,
     "metadata": {},
     "output_type": "execute_result"
    }
   ],
   "source": [
    "target_pred_constant = pd.Series(0, df_train_target.index)\n",
    "accuracy_score(df_train_target, target_pred_constant)"
   ]
  },
  {
   "cell_type": "markdown",
   "metadata": {},
   "source": [
    "В исходных данных имеется перевес в сторону категории \"0\" - в 2,3 раза больше. Для лучшего обучения модели необходимо соотношение классов близкое к 1:1."
   ]
  },
  {
   "cell_type": "markdown",
   "metadata": {},
   "source": [
    "## Вывод"
   ]
  },
  {
   "cell_type": "markdown",
   "metadata": {},
   "source": [
    "Построена модель для подбора наиболее эффективного тарифа на основании количества используемых услуг. Наибольшую точность показала модель, построенная методом случайного леса - 81.80% на валидационной и 80.40% на тестовой выборке. Предполагаем, что такая точность вызвана неэффективным использованием услуг клиентами или ошибочным выбором невыгодного тарифа среди некоторых пользователей. \n",
    "\n",
    "Количества данных для каждого тарифа достаточно для подтверждения корректности модели."
   ]
  },
  {
   "cell_type": "markdown",
   "metadata": {},
   "source": [
    "## Чек-лист готовности проекта"
   ]
  },
  {
   "cell_type": "markdown",
   "metadata": {},
   "source": [
    "- [x] Jupyter Notebook открыт\n",
    "- [x] Весь код исполняется без ошибок\n",
    "- [x] Ячейки с кодом расположены в порядке исполнения\n",
    "- [x] Выполнено задание 1: данные загружены и изучены\n",
    "- [x] Выполнено задание 2: данные разбиты на три выборки\n",
    "- [x] Выполнено задание 3: проведено исследование моделей\n",
    "    - [x] Рассмотрено больше одной модели\n",
    "    - [x] Рассмотрено хотя бы 3 значения гипепараметров для какой-нибудь модели\n",
    "    - [x] Написаны выводы по результатам исследования\n",
    "- [x] Выполнено задание 3: Проведено тестирование\n",
    "- [x] Удалось достичь accuracy не меньше 0.75\n"
   ]
  }
 ],
 "metadata": {
  "ExecuteTimeLog": [
   {
    "duration": 423,
    "start_time": "2022-05-13T11:05:42.575Z"
   },
   {
    "duration": 20,
    "start_time": "2022-05-13T11:06:03.323Z"
   },
   {
    "duration": 20,
    "start_time": "2022-05-13T11:06:08.840Z"
   },
   {
    "duration": 9,
    "start_time": "2022-05-13T11:42:08.046Z"
   },
   {
    "duration": 11,
    "start_time": "2022-05-13T11:42:19.493Z"
   },
   {
    "duration": 9,
    "start_time": "2022-05-13T11:42:23.424Z"
   },
   {
    "duration": 10,
    "start_time": "2022-05-13T11:42:27.024Z"
   },
   {
    "duration": 14,
    "start_time": "2022-05-13T11:42:33.091Z"
   },
   {
    "duration": 13,
    "start_time": "2022-05-13T11:42:37.935Z"
   },
   {
    "duration": 3,
    "start_time": "2022-05-13T11:42:45.681Z"
   },
   {
    "duration": 13,
    "start_time": "2022-05-13T11:42:55.102Z"
   },
   {
    "duration": 23,
    "start_time": "2022-05-13T11:45:07.428Z"
   },
   {
    "duration": 45,
    "start_time": "2022-05-14T10:42:35.609Z"
   },
   {
    "duration": 1210,
    "start_time": "2022-05-14T10:42:55.590Z"
   },
   {
    "duration": 18,
    "start_time": "2022-05-14T10:42:56.802Z"
   },
   {
    "duration": 20,
    "start_time": "2022-05-14T10:42:56.822Z"
   },
   {
    "duration": 18,
    "start_time": "2022-05-14T10:42:56.844Z"
   },
   {
    "duration": 21,
    "start_time": "2022-05-14T10:42:56.864Z"
   },
   {
    "duration": 4,
    "start_time": "2022-05-14T10:42:56.887Z"
   },
   {
    "duration": 3,
    "start_time": "2022-05-14T10:43:22.268Z"
   },
   {
    "duration": 2,
    "start_time": "2022-05-14T10:43:52.568Z"
   },
   {
    "duration": 8,
    "start_time": "2022-05-14T10:44:04.904Z"
   },
   {
    "duration": 4,
    "start_time": "2022-05-14T10:44:42.528Z"
   },
   {
    "duration": 10,
    "start_time": "2022-05-14T10:44:42.967Z"
   },
   {
    "duration": 827,
    "start_time": "2022-05-14T10:47:16.241Z"
   },
   {
    "duration": 221,
    "start_time": "2022-05-14T10:47:23.010Z"
   },
   {
    "duration": 151,
    "start_time": "2022-05-14T10:48:45.980Z"
   },
   {
    "duration": 320,
    "start_time": "2022-05-14T10:48:58.892Z"
   },
   {
    "duration": 179,
    "start_time": "2022-05-14T10:49:18.307Z"
   },
   {
    "duration": 200,
    "start_time": "2022-05-14T10:49:31.213Z"
   },
   {
    "duration": 190,
    "start_time": "2022-05-14T10:49:42.324Z"
   },
   {
    "duration": 101,
    "start_time": "2022-05-14T10:53:29.615Z"
   },
   {
    "duration": 3,
    "start_time": "2022-05-14T10:53:34.622Z"
   },
   {
    "duration": 83,
    "start_time": "2022-05-14T10:53:40.158Z"
   },
   {
    "duration": 209,
    "start_time": "2022-05-14T10:53:47.453Z"
   },
   {
    "duration": 114,
    "start_time": "2022-05-14T10:53:55.462Z"
   },
   {
    "duration": 147,
    "start_time": "2022-05-14T10:54:01.887Z"
   },
   {
    "duration": 88,
    "start_time": "2022-05-14T10:54:18.071Z"
   },
   {
    "duration": 88,
    "start_time": "2022-05-14T10:54:21.622Z"
   },
   {
    "duration": 152,
    "start_time": "2022-05-14T10:54:26.398Z"
   },
   {
    "duration": 128,
    "start_time": "2022-05-14T10:54:45.928Z"
   },
   {
    "duration": 321,
    "start_time": "2022-05-14T10:54:51.399Z"
   },
   {
    "duration": 139,
    "start_time": "2022-05-14T10:54:55.431Z"
   },
   {
    "duration": 163,
    "start_time": "2022-05-14T10:55:13.039Z"
   },
   {
    "duration": 138,
    "start_time": "2022-05-14T10:55:16.143Z"
   },
   {
    "duration": 110,
    "start_time": "2022-05-14T10:55:21.327Z"
   },
   {
    "duration": 312,
    "start_time": "2022-05-14T10:55:23.943Z"
   },
   {
    "duration": 142,
    "start_time": "2022-05-14T10:55:29.226Z"
   },
   {
    "duration": 205,
    "start_time": "2022-05-14T10:55:55.552Z"
   },
   {
    "duration": 271,
    "start_time": "2022-05-14T10:56:11.649Z"
   },
   {
    "duration": 231,
    "start_time": "2022-05-14T10:56:33.009Z"
   },
   {
    "duration": 330,
    "start_time": "2022-05-14T10:56:52.777Z"
   },
   {
    "duration": 392,
    "start_time": "2022-05-14T10:57:05.922Z"
   },
   {
    "duration": 266,
    "start_time": "2022-05-14T10:57:45.283Z"
   },
   {
    "duration": 279,
    "start_time": "2022-05-14T10:58:04.426Z"
   },
   {
    "duration": 452,
    "start_time": "2022-05-14T10:59:08.716Z"
   },
   {
    "duration": 444,
    "start_time": "2022-05-14T10:59:12.187Z"
   },
   {
    "duration": 525,
    "start_time": "2022-05-14T10:59:24.284Z"
   },
   {
    "duration": 358,
    "start_time": "2022-05-14T10:59:28.739Z"
   },
   {
    "duration": 365,
    "start_time": "2022-05-14T10:59:32.731Z"
   },
   {
    "duration": 4,
    "start_time": "2022-05-14T11:01:22.891Z"
   },
   {
    "duration": 4,
    "start_time": "2022-05-14T11:11:14.908Z"
   },
   {
    "duration": 4,
    "start_time": "2022-05-14T11:11:21.298Z"
   },
   {
    "duration": 4,
    "start_time": "2022-05-14T11:11:29.083Z"
   },
   {
    "duration": 5,
    "start_time": "2022-05-14T11:11:31.387Z"
   },
   {
    "duration": 3,
    "start_time": "2022-05-14T11:11:36.755Z"
   },
   {
    "duration": 12,
    "start_time": "2022-05-14T11:11:50.299Z"
   },
   {
    "duration": 3,
    "start_time": "2022-05-14T11:12:07.180Z"
   },
   {
    "duration": 12,
    "start_time": "2022-05-14T11:12:09.316Z"
   },
   {
    "duration": 3,
    "start_time": "2022-05-14T11:12:42.772Z"
   },
   {
    "duration": 1796,
    "start_time": "2022-05-14T11:14:55.996Z"
   },
   {
    "duration": 15,
    "start_time": "2022-05-14T11:14:57.795Z"
   },
   {
    "duration": 16,
    "start_time": "2022-05-14T11:14:57.812Z"
   },
   {
    "duration": 11,
    "start_time": "2022-05-14T11:14:57.830Z"
   },
   {
    "duration": 36,
    "start_time": "2022-05-14T11:14:57.842Z"
   },
   {
    "duration": 2,
    "start_time": "2022-05-14T11:14:57.880Z"
   },
   {
    "duration": 297,
    "start_time": "2022-05-14T11:14:57.884Z"
   },
   {
    "duration": 2,
    "start_time": "2022-05-14T11:14:58.183Z"
   },
   {
    "duration": 4,
    "start_time": "2022-05-14T11:14:58.187Z"
   },
   {
    "duration": 5,
    "start_time": "2022-05-14T11:14:58.193Z"
   },
   {
    "duration": 8,
    "start_time": "2022-05-14T11:15:08.626Z"
   },
   {
    "duration": 13,
    "start_time": "2022-05-14T11:15:15.466Z"
   },
   {
    "duration": 13,
    "start_time": "2022-05-14T11:15:27.898Z"
   },
   {
    "duration": 1547,
    "start_time": "2022-05-14T11:17:03.436Z"
   },
   {
    "duration": 14,
    "start_time": "2022-05-14T11:17:04.985Z"
   },
   {
    "duration": 17,
    "start_time": "2022-05-14T11:17:05.001Z"
   },
   {
    "duration": 11,
    "start_time": "2022-05-14T11:17:05.021Z"
   },
   {
    "duration": 39,
    "start_time": "2022-05-14T11:17:05.034Z"
   },
   {
    "duration": 4,
    "start_time": "2022-05-14T11:17:05.075Z"
   },
   {
    "duration": 481,
    "start_time": "2022-05-14T11:17:05.081Z"
   },
   {
    "duration": 4,
    "start_time": "2022-05-14T11:17:05.564Z"
   },
   {
    "duration": 17,
    "start_time": "2022-05-14T11:17:05.571Z"
   },
   {
    "duration": 24,
    "start_time": "2022-05-14T11:17:05.590Z"
   },
   {
    "duration": 46,
    "start_time": "2022-05-14T11:17:05.616Z"
   },
   {
    "duration": 42,
    "start_time": "2022-05-14T11:17:05.664Z"
   },
   {
    "duration": 37,
    "start_time": "2022-05-14T11:17:05.708Z"
   },
   {
    "duration": 12,
    "start_time": "2022-05-14T11:17:13.799Z"
   },
   {
    "duration": 5,
    "start_time": "2022-05-14T11:17:22.862Z"
   },
   {
    "duration": 14,
    "start_time": "2022-05-14T11:17:23.831Z"
   },
   {
    "duration": 12,
    "start_time": "2022-05-14T11:17:24.704Z"
   },
   {
    "duration": 3,
    "start_time": "2022-05-14T11:17:36.191Z"
   },
   {
    "duration": 1464,
    "start_time": "2022-05-14T11:19:33.834Z"
   },
   {
    "duration": 15,
    "start_time": "2022-05-14T11:19:35.300Z"
   },
   {
    "duration": 15,
    "start_time": "2022-05-14T11:19:35.317Z"
   },
   {
    "duration": 11,
    "start_time": "2022-05-14T11:19:35.334Z"
   },
   {
    "duration": 23,
    "start_time": "2022-05-14T11:19:35.363Z"
   },
   {
    "duration": 3,
    "start_time": "2022-05-14T11:19:35.388Z"
   },
   {
    "duration": 417,
    "start_time": "2022-05-14T11:19:35.393Z"
   },
   {
    "duration": 3,
    "start_time": "2022-05-14T11:19:35.813Z"
   },
   {
    "duration": 5,
    "start_time": "2022-05-14T11:19:35.818Z"
   },
   {
    "duration": 6,
    "start_time": "2022-05-14T11:19:35.826Z"
   },
   {
    "duration": 8,
    "start_time": "2022-05-14T11:19:35.834Z"
   },
   {
    "duration": 37,
    "start_time": "2022-05-14T11:19:35.844Z"
   },
   {
    "duration": 23,
    "start_time": "2022-05-14T11:19:35.884Z"
   },
   {
    "duration": 5,
    "start_time": "2022-05-14T11:20:57.956Z"
   },
   {
    "duration": 10,
    "start_time": "2022-05-14T11:21:44.956Z"
   },
   {
    "duration": 1424,
    "start_time": "2022-05-14T11:22:22.558Z"
   },
   {
    "duration": 14,
    "start_time": "2022-05-14T11:22:23.984Z"
   },
   {
    "duration": 16,
    "start_time": "2022-05-14T11:22:23.999Z"
   },
   {
    "duration": 11,
    "start_time": "2022-05-14T11:22:24.017Z"
   },
   {
    "duration": 45,
    "start_time": "2022-05-14T11:22:24.030Z"
   },
   {
    "duration": 2,
    "start_time": "2022-05-14T11:22:24.077Z"
   },
   {
    "duration": 311,
    "start_time": "2022-05-14T11:22:24.080Z"
   },
   {
    "duration": 2,
    "start_time": "2022-05-14T11:22:24.394Z"
   },
   {
    "duration": 6,
    "start_time": "2022-05-14T11:22:24.398Z"
   },
   {
    "duration": 10,
    "start_time": "2022-05-14T11:22:24.406Z"
   },
   {
    "duration": 9,
    "start_time": "2022-05-14T11:22:24.418Z"
   },
   {
    "duration": 7,
    "start_time": "2022-05-14T11:22:24.429Z"
   },
   {
    "duration": 15,
    "start_time": "2022-05-14T11:22:24.437Z"
   },
   {
    "duration": 18,
    "start_time": "2022-05-14T11:22:24.453Z"
   },
   {
    "duration": 14,
    "start_time": "2022-05-14T11:22:24.472Z"
   },
   {
    "duration": 5,
    "start_time": "2022-05-14T11:22:52.768Z"
   },
   {
    "duration": 4,
    "start_time": "2022-05-14T11:22:53.632Z"
   },
   {
    "duration": 14,
    "start_time": "2022-05-14T11:22:54.368Z"
   },
   {
    "duration": 10,
    "start_time": "2022-05-14T11:22:55.018Z"
   },
   {
    "duration": 10,
    "start_time": "2022-05-14T11:22:55.561Z"
   },
   {
    "duration": 1387,
    "start_time": "2022-05-14T11:23:33.703Z"
   },
   {
    "duration": 15,
    "start_time": "2022-05-14T11:23:35.092Z"
   },
   {
    "duration": 15,
    "start_time": "2022-05-14T11:23:35.111Z"
   },
   {
    "duration": 10,
    "start_time": "2022-05-14T11:23:35.128Z"
   },
   {
    "duration": 37,
    "start_time": "2022-05-14T11:23:35.140Z"
   },
   {
    "duration": 5,
    "start_time": "2022-05-14T11:23:35.179Z"
   },
   {
    "duration": 7,
    "start_time": "2022-05-14T11:23:35.186Z"
   },
   {
    "duration": 11,
    "start_time": "2022-05-14T11:23:35.195Z"
   },
   {
    "duration": 11,
    "start_time": "2022-05-14T11:23:35.208Z"
   },
   {
    "duration": 11,
    "start_time": "2022-05-14T11:23:35.221Z"
   },
   {
    "duration": 2206,
    "start_time": "2022-05-14T13:08:04.305Z"
   },
   {
    "duration": 18,
    "start_time": "2022-05-14T13:08:06.514Z"
   },
   {
    "duration": 34,
    "start_time": "2022-05-14T13:08:06.534Z"
   },
   {
    "duration": 16,
    "start_time": "2022-05-14T13:08:06.571Z"
   },
   {
    "duration": 34,
    "start_time": "2022-05-14T13:08:06.590Z"
   },
   {
    "duration": 7,
    "start_time": "2022-05-14T13:08:06.652Z"
   },
   {
    "duration": 10,
    "start_time": "2022-05-14T13:08:06.662Z"
   },
   {
    "duration": 16,
    "start_time": "2022-05-14T13:08:06.674Z"
   },
   {
    "duration": 21,
    "start_time": "2022-05-14T13:08:06.692Z"
   },
   {
    "duration": 42,
    "start_time": "2022-05-14T13:08:06.717Z"
   },
   {
    "duration": 182,
    "start_time": "2022-05-14T13:12:27.036Z"
   },
   {
    "duration": 18,
    "start_time": "2022-05-14T13:12:39.231Z"
   },
   {
    "duration": 12,
    "start_time": "2022-05-14T13:12:45.700Z"
   },
   {
    "duration": 7,
    "start_time": "2022-05-14T13:12:55.524Z"
   },
   {
    "duration": 7,
    "start_time": "2022-05-14T13:12:56.340Z"
   },
   {
    "duration": 15,
    "start_time": "2022-05-14T13:12:57.036Z"
   },
   {
    "duration": 14,
    "start_time": "2022-05-14T13:12:57.860Z"
   },
   {
    "duration": 7,
    "start_time": "2022-05-14T13:13:01.395Z"
   },
   {
    "duration": 6,
    "start_time": "2022-05-14T13:13:02.140Z"
   },
   {
    "duration": 14,
    "start_time": "2022-05-14T13:13:02.892Z"
   },
   {
    "duration": 14,
    "start_time": "2022-05-14T13:13:03.844Z"
   },
   {
    "duration": 15,
    "start_time": "2022-05-14T13:13:04.300Z"
   },
   {
    "duration": 8,
    "start_time": "2022-05-14T13:23:47.253Z"
   },
   {
    "duration": 3,
    "start_time": "2022-05-14T13:27:01.853Z"
   },
   {
    "duration": 17,
    "start_time": "2022-05-14T13:27:53.934Z"
   },
   {
    "duration": 15,
    "start_time": "2022-05-14T13:37:24.685Z"
   },
   {
    "duration": 20,
    "start_time": "2022-05-14T13:37:36.229Z"
   },
   {
    "duration": 5,
    "start_time": "2022-05-14T13:37:49.373Z"
   },
   {
    "duration": 21,
    "start_time": "2022-05-14T13:37:52.413Z"
   },
   {
    "duration": 125,
    "start_time": "2022-05-14T13:37:59.606Z"
   },
   {
    "duration": 128,
    "start_time": "2022-05-14T13:39:23.653Z"
   },
   {
    "duration": 126,
    "start_time": "2022-05-14T13:39:55.693Z"
   },
   {
    "duration": 123,
    "start_time": "2022-05-14T13:40:01.230Z"
   },
   {
    "duration": 121,
    "start_time": "2022-05-14T13:40:04.830Z"
   },
   {
    "duration": 1867,
    "start_time": "2022-05-14T13:40:14.638Z"
   },
   {
    "duration": 26,
    "start_time": "2022-05-14T13:40:16.508Z"
   },
   {
    "duration": 23,
    "start_time": "2022-05-14T13:40:16.536Z"
   },
   {
    "duration": 16,
    "start_time": "2022-05-14T13:40:16.562Z"
   },
   {
    "duration": 33,
    "start_time": "2022-05-14T13:40:16.580Z"
   },
   {
    "duration": 6,
    "start_time": "2022-05-14T13:40:16.615Z"
   },
   {
    "duration": 33,
    "start_time": "2022-05-14T13:40:16.623Z"
   },
   {
    "duration": 10,
    "start_time": "2022-05-14T13:40:16.658Z"
   },
   {
    "duration": 167,
    "start_time": "2022-05-14T13:40:16.670Z"
   },
   {
    "duration": 149,
    "start_time": "2022-05-14T13:42:13.231Z"
   },
   {
    "duration": 19,
    "start_time": "2022-05-14T15:47:48.974Z"
   },
   {
    "duration": 1971,
    "start_time": "2022-05-14T15:48:11.509Z"
   },
   {
    "duration": 16,
    "start_time": "2022-05-14T15:48:13.483Z"
   },
   {
    "duration": 29,
    "start_time": "2022-05-14T15:48:13.501Z"
   },
   {
    "duration": 33,
    "start_time": "2022-05-14T15:48:13.533Z"
   },
   {
    "duration": 44,
    "start_time": "2022-05-14T15:48:13.569Z"
   },
   {
    "duration": 6,
    "start_time": "2022-05-14T15:48:13.615Z"
   },
   {
    "duration": 21,
    "start_time": "2022-05-14T15:48:13.623Z"
   },
   {
    "duration": 27,
    "start_time": "2022-05-14T15:48:13.653Z"
   },
   {
    "duration": 157,
    "start_time": "2022-05-14T15:48:13.682Z"
   },
   {
    "duration": 5,
    "start_time": "2022-05-14T15:51:14.011Z"
   },
   {
    "duration": 161,
    "start_time": "2022-05-14T15:55:52.238Z"
   },
   {
    "duration": 160,
    "start_time": "2022-05-14T15:57:16.776Z"
   },
   {
    "duration": 154,
    "start_time": "2022-05-14T15:57:35.232Z"
   },
   {
    "duration": 159,
    "start_time": "2022-05-14T15:57:36.519Z"
   },
   {
    "duration": 5829,
    "start_time": "2022-05-14T15:58:08.686Z"
   },
   {
    "duration": 196,
    "start_time": "2022-05-14T15:59:31.842Z"
   },
   {
    "duration": 698,
    "start_time": "2022-05-14T15:59:37.354Z"
   },
   {
    "duration": 694,
    "start_time": "2022-05-14T15:59:45.249Z"
   },
   {
    "duration": 688,
    "start_time": "2022-05-14T15:59:47.000Z"
   },
   {
    "duration": 677,
    "start_time": "2022-05-14T16:00:06.290Z"
   },
   {
    "duration": 6,
    "start_time": "2022-05-14T16:01:32.374Z"
   },
   {
    "duration": 7,
    "start_time": "2022-05-14T16:02:12.805Z"
   },
   {
    "duration": 2698,
    "start_time": "2022-05-14T16:02:19.899Z"
   },
   {
    "duration": 402,
    "start_time": "2022-05-14T16:02:41.276Z"
   },
   {
    "duration": 2634,
    "start_time": "2022-05-14T16:02:43.508Z"
   },
   {
    "duration": 10321,
    "start_time": "2022-05-14T16:02:49.980Z"
   },
   {
    "duration": 683,
    "start_time": "2022-05-14T16:03:15.692Z"
   },
   {
    "duration": 10302,
    "start_time": "2022-05-14T16:04:05.565Z"
   },
   {
    "duration": 119259,
    "start_time": "2022-05-14T16:04:44.573Z"
   },
   {
    "duration": 5,
    "start_time": "2022-05-14T16:44:30.144Z"
   },
   {
    "duration": 6,
    "start_time": "2022-05-14T16:45:17.023Z"
   },
   {
    "duration": 5,
    "start_time": "2022-05-14T16:45:20.024Z"
   },
   {
    "duration": 3126,
    "start_time": "2022-05-14T16:51:06.796Z"
   },
   {
    "duration": 259,
    "start_time": "2022-05-14T16:55:01.711Z"
   },
   {
    "duration": 2418,
    "start_time": "2022-05-14T16:55:48.211Z"
   },
   {
    "duration": 16,
    "start_time": "2022-05-14T16:55:50.633Z"
   },
   {
    "duration": 31,
    "start_time": "2022-05-14T16:55:50.651Z"
   },
   {
    "duration": 26,
    "start_time": "2022-05-14T16:55:50.686Z"
   },
   {
    "duration": 69,
    "start_time": "2022-05-14T16:55:50.715Z"
   },
   {
    "duration": 8,
    "start_time": "2022-05-14T16:55:50.787Z"
   },
   {
    "duration": 13,
    "start_time": "2022-05-14T16:55:50.797Z"
   },
   {
    "duration": 13,
    "start_time": "2022-05-14T16:55:50.812Z"
   },
   {
    "duration": 195,
    "start_time": "2022-05-14T16:55:50.829Z"
   },
   {
    "duration": 0,
    "start_time": "2022-05-14T16:55:51.027Z"
   },
   {
    "duration": 0,
    "start_time": "2022-05-14T16:55:51.030Z"
   },
   {
    "duration": 1876,
    "start_time": "2022-05-14T16:57:23.409Z"
   },
   {
    "duration": 15,
    "start_time": "2022-05-14T16:57:25.288Z"
   },
   {
    "duration": 23,
    "start_time": "2022-05-14T16:57:25.305Z"
   },
   {
    "duration": 31,
    "start_time": "2022-05-14T16:57:25.330Z"
   },
   {
    "duration": 35,
    "start_time": "2022-05-14T16:57:25.364Z"
   },
   {
    "duration": 7,
    "start_time": "2022-05-14T16:57:25.402Z"
   },
   {
    "duration": 11,
    "start_time": "2022-05-14T16:57:25.411Z"
   },
   {
    "duration": 39,
    "start_time": "2022-05-14T16:57:25.424Z"
   },
   {
    "duration": 178,
    "start_time": "2022-05-14T16:57:25.465Z"
   },
   {
    "duration": 0,
    "start_time": "2022-05-14T16:57:25.646Z"
   },
   {
    "duration": 0,
    "start_time": "2022-05-14T16:57:25.652Z"
   },
   {
    "duration": 2357,
    "start_time": "2022-05-14T16:57:54.227Z"
   },
   {
    "duration": 17,
    "start_time": "2022-05-14T16:57:56.587Z"
   },
   {
    "duration": 24,
    "start_time": "2022-05-14T16:57:56.606Z"
   },
   {
    "duration": 33,
    "start_time": "2022-05-14T16:57:56.632Z"
   },
   {
    "duration": 34,
    "start_time": "2022-05-14T16:57:56.668Z"
   },
   {
    "duration": 7,
    "start_time": "2022-05-14T16:57:56.704Z"
   },
   {
    "duration": 46,
    "start_time": "2022-05-14T16:57:56.713Z"
   },
   {
    "duration": 10,
    "start_time": "2022-05-14T16:57:56.761Z"
   },
   {
    "duration": 322,
    "start_time": "2022-05-14T16:57:56.774Z"
   },
   {
    "duration": 53379,
    "start_time": "2022-05-14T16:57:57.099Z"
   },
   {
    "duration": 5,
    "start_time": "2022-05-14T16:58:50.481Z"
   },
   {
    "duration": 229,
    "start_time": "2022-05-14T16:59:04.410Z"
   },
   {
    "duration": 8,
    "start_time": "2022-05-14T16:59:16.825Z"
   },
   {
    "duration": 10,
    "start_time": "2022-05-14T16:59:17.858Z"
   },
   {
    "duration": 310,
    "start_time": "2022-05-14T16:59:21.393Z"
   },
   {
    "duration": 57986,
    "start_time": "2022-05-14T16:59:26.418Z"
   },
   {
    "duration": 2055,
    "start_time": "2022-05-14T17:01:04.828Z"
   },
   {
    "duration": 17,
    "start_time": "2022-05-14T17:01:06.886Z"
   },
   {
    "duration": 26,
    "start_time": "2022-05-14T17:01:06.906Z"
   },
   {
    "duration": 17,
    "start_time": "2022-05-14T17:01:06.951Z"
   },
   {
    "duration": 42,
    "start_time": "2022-05-14T17:01:06.971Z"
   },
   {
    "duration": 37,
    "start_time": "2022-05-14T17:01:07.015Z"
   },
   {
    "duration": 7,
    "start_time": "2022-05-14T17:01:07.054Z"
   },
   {
    "duration": 15,
    "start_time": "2022-05-14T17:01:07.064Z"
   },
   {
    "duration": 251,
    "start_time": "2022-05-14T17:01:07.081Z"
   },
   {
    "duration": 112094,
    "start_time": "2022-05-14T17:01:07.335Z"
   },
   {
    "duration": 20,
    "start_time": "2022-05-14T17:02:59.431Z"
   },
   {
    "duration": 2051,
    "start_time": "2022-05-14T17:04:05.910Z"
   },
   {
    "duration": 21,
    "start_time": "2022-05-14T17:04:07.964Z"
   },
   {
    "duration": 27,
    "start_time": "2022-05-14T17:04:07.987Z"
   },
   {
    "duration": 39,
    "start_time": "2022-05-14T17:04:08.018Z"
   },
   {
    "duration": 35,
    "start_time": "2022-05-14T17:04:08.059Z"
   },
   {
    "duration": 7,
    "start_time": "2022-05-14T17:04:08.096Z"
   },
   {
    "duration": 8,
    "start_time": "2022-05-14T17:04:08.105Z"
   },
   {
    "duration": 41,
    "start_time": "2022-05-14T17:04:08.116Z"
   },
   {
    "duration": 233,
    "start_time": "2022-05-14T17:04:08.160Z"
   },
   {
    "duration": 109372,
    "start_time": "2022-05-14T17:04:08.397Z"
   },
   {
    "duration": 5,
    "start_time": "2022-05-14T17:05:57.772Z"
   },
   {
    "duration": 305,
    "start_time": "2022-05-14T17:06:33.950Z"
   },
   {
    "duration": 294,
    "start_time": "2022-05-14T17:06:45.175Z"
   },
   {
    "duration": 2094,
    "start_time": "2022-05-14T17:06:52.048Z"
   },
   {
    "duration": 24,
    "start_time": "2022-05-14T17:06:54.144Z"
   },
   {
    "duration": 31,
    "start_time": "2022-05-14T17:06:54.171Z"
   },
   {
    "duration": 16,
    "start_time": "2022-05-14T17:06:54.204Z"
   },
   {
    "duration": 68,
    "start_time": "2022-05-14T17:06:54.222Z"
   },
   {
    "duration": 8,
    "start_time": "2022-05-14T17:06:54.292Z"
   },
   {
    "duration": 11,
    "start_time": "2022-05-14T17:06:54.303Z"
   },
   {
    "duration": 8,
    "start_time": "2022-05-14T17:06:54.317Z"
   },
   {
    "duration": 268,
    "start_time": "2022-05-14T17:06:54.352Z"
   },
   {
    "duration": 540,
    "start_time": "2022-05-14T17:06:54.624Z"
   },
   {
    "duration": 0,
    "start_time": "2022-05-14T17:06:55.166Z"
   },
   {
    "duration": 302,
    "start_time": "2022-05-14T17:07:40.883Z"
   },
   {
    "duration": 471,
    "start_time": "2022-05-14T17:09:22.556Z"
   },
   {
    "duration": 1642,
    "start_time": "2022-05-14T17:09:27.581Z"
   },
   {
    "duration": 1111,
    "start_time": "2022-05-14T17:10:02.125Z"
   },
   {
    "duration": 120954,
    "start_time": "2022-05-14T17:10:12.405Z"
   },
   {
    "duration": 6624,
    "start_time": "2022-05-14T17:33:02.149Z"
   },
   {
    "duration": 6724,
    "start_time": "2022-05-14T17:34:51.429Z"
   },
   {
    "duration": 6,
    "start_time": "2022-05-14T17:36:03.055Z"
   },
   {
    "duration": 6347,
    "start_time": "2022-05-14T17:36:07.438Z"
   },
   {
    "duration": 37061,
    "start_time": "2022-05-14T17:36:54.670Z"
   },
   {
    "duration": 153,
    "start_time": "2022-05-14T17:38:31.007Z"
   },
   {
    "duration": 8,
    "start_time": "2022-05-14T17:42:22.962Z"
   },
   {
    "duration": 1853,
    "start_time": "2022-05-14T17:44:03.048Z"
   },
   {
    "duration": 16,
    "start_time": "2022-05-14T17:44:04.903Z"
   },
   {
    "duration": 32,
    "start_time": "2022-05-14T17:44:04.921Z"
   },
   {
    "duration": 15,
    "start_time": "2022-05-14T17:44:04.956Z"
   },
   {
    "duration": 42,
    "start_time": "2022-05-14T17:44:04.973Z"
   },
   {
    "duration": 6,
    "start_time": "2022-05-14T17:44:05.017Z"
   },
   {
    "duration": 28,
    "start_time": "2022-05-14T17:44:05.025Z"
   },
   {
    "duration": 19,
    "start_time": "2022-05-14T17:44:05.055Z"
   },
   {
    "duration": 229,
    "start_time": "2022-05-14T17:44:05.076Z"
   },
   {
    "duration": 105778,
    "start_time": "2022-05-14T17:44:05.308Z"
   },
   {
    "duration": 40743,
    "start_time": "2022-05-14T17:45:51.088Z"
   },
   {
    "duration": 115,
    "start_time": "2022-05-14T17:46:31.835Z"
   },
   {
    "duration": 0,
    "start_time": "2022-05-14T17:46:31.953Z"
   },
   {
    "duration": 0,
    "start_time": "2022-05-14T17:46:31.954Z"
   },
   {
    "duration": 7,
    "start_time": "2022-05-14T17:47:28.090Z"
   },
   {
    "duration": 2290,
    "start_time": "2022-05-14T17:48:39.433Z"
   },
   {
    "duration": 16,
    "start_time": "2022-05-14T17:48:41.726Z"
   },
   {
    "duration": 35,
    "start_time": "2022-05-14T17:48:41.744Z"
   },
   {
    "duration": 16,
    "start_time": "2022-05-14T17:48:41.783Z"
   },
   {
    "duration": 62,
    "start_time": "2022-05-14T17:48:41.801Z"
   },
   {
    "duration": 7,
    "start_time": "2022-05-14T17:48:41.866Z"
   },
   {
    "duration": 12,
    "start_time": "2022-05-14T17:48:41.875Z"
   },
   {
    "duration": 9,
    "start_time": "2022-05-14T17:48:41.889Z"
   },
   {
    "duration": 253,
    "start_time": "2022-05-14T17:48:41.900Z"
   },
   {
    "duration": 110337,
    "start_time": "2022-05-14T17:48:42.159Z"
   },
   {
    "duration": 43138,
    "start_time": "2022-05-14T17:50:32.499Z"
   },
   {
    "duration": 3,
    "start_time": "2022-05-14T17:51:15.639Z"
   },
   {
    "duration": 30,
    "start_time": "2022-05-14T17:51:15.657Z"
   },
   {
    "duration": 4,
    "start_time": "2022-05-14T17:51:24.079Z"
   },
   {
    "duration": 130,
    "start_time": "2022-05-14T17:53:31.946Z"
   },
   {
    "duration": 115,
    "start_time": "2022-05-14T17:53:46.385Z"
   },
   {
    "duration": 5,
    "start_time": "2022-05-14T17:53:51.666Z"
   },
   {
    "duration": 5,
    "start_time": "2022-05-14T17:54:08.378Z"
   },
   {
    "duration": 6,
    "start_time": "2022-05-14T17:54:20.122Z"
   },
   {
    "duration": 6,
    "start_time": "2022-05-14T17:54:24.586Z"
   },
   {
    "duration": 4,
    "start_time": "2022-05-14T18:19:19.971Z"
   },
   {
    "duration": 9,
    "start_time": "2022-05-14T18:19:25.026Z"
   },
   {
    "duration": 4,
    "start_time": "2022-05-14T18:19:29.898Z"
   },
   {
    "duration": 155,
    "start_time": "2022-05-14T18:19:32.969Z"
   },
   {
    "duration": 104129,
    "start_time": "2022-05-14T18:19:45.114Z"
   },
   {
    "duration": 37695,
    "start_time": "2022-05-14T18:21:39.227Z"
   },
   {
    "duration": 6,
    "start_time": "2022-05-14T18:22:16.925Z"
   },
   {
    "duration": 6,
    "start_time": "2022-05-14T18:28:13.928Z"
   },
   {
    "duration": 12,
    "start_time": "2022-05-14T18:31:46.370Z"
   },
   {
    "duration": 2187,
    "start_time": "2022-05-14T18:33:58.818Z"
   },
   {
    "duration": 22,
    "start_time": "2022-05-14T18:34:01.008Z"
   },
   {
    "duration": 24,
    "start_time": "2022-05-14T18:34:01.032Z"
   },
   {
    "duration": 15,
    "start_time": "2022-05-14T18:34:01.059Z"
   },
   {
    "duration": 33,
    "start_time": "2022-05-14T18:34:01.075Z"
   },
   {
    "duration": 6,
    "start_time": "2022-05-14T18:34:01.110Z"
   },
   {
    "duration": 9,
    "start_time": "2022-05-14T18:34:01.119Z"
   },
   {
    "duration": 17,
    "start_time": "2022-05-14T18:34:01.131Z"
   },
   {
    "duration": 231,
    "start_time": "2022-05-14T18:34:01.151Z"
   },
   {
    "duration": 108372,
    "start_time": "2022-05-14T18:34:01.385Z"
   },
   {
    "duration": 37727,
    "start_time": "2022-05-14T18:35:49.760Z"
   },
   {
    "duration": 173,
    "start_time": "2022-05-14T18:36:27.489Z"
   },
   {
    "duration": 0,
    "start_time": "2022-05-14T18:36:27.664Z"
   },
   {
    "duration": 0,
    "start_time": "2022-05-14T18:36:27.666Z"
   },
   {
    "duration": 7,
    "start_time": "2022-05-14T18:44:33.876Z"
   },
   {
    "duration": 7,
    "start_time": "2022-05-14T18:45:14.420Z"
   },
   {
    "duration": 7,
    "start_time": "2022-05-14T18:51:57.553Z"
   },
   {
    "duration": 5,
    "start_time": "2022-05-14T18:59:30.709Z"
   },
   {
    "duration": 7,
    "start_time": "2022-05-14T18:59:44.612Z"
   },
   {
    "duration": 7,
    "start_time": "2022-05-14T18:59:51.678Z"
   },
   {
    "duration": 7,
    "start_time": "2022-05-14T19:01:22.631Z"
   },
   {
    "duration": 10,
    "start_time": "2022-05-14T19:01:45.038Z"
   },
   {
    "duration": 62,
    "start_time": "2022-05-14T19:02:46.135Z"
   },
   {
    "duration": 10,
    "start_time": "2022-05-14T19:03:54.287Z"
   },
   {
    "duration": 62,
    "start_time": "2022-05-14T19:03:55.567Z"
   },
   {
    "duration": 69,
    "start_time": "2022-05-14T19:04:50.528Z"
   },
   {
    "duration": 63,
    "start_time": "2022-05-14T19:04:59.983Z"
   },
   {
    "duration": 2716,
    "start_time": "2022-05-14T19:05:29.421Z"
   },
   {
    "duration": 22,
    "start_time": "2022-05-14T19:05:32.141Z"
   },
   {
    "duration": 42,
    "start_time": "2022-05-14T19:05:32.166Z"
   },
   {
    "duration": 16,
    "start_time": "2022-05-14T19:05:32.212Z"
   },
   {
    "duration": 58,
    "start_time": "2022-05-14T19:05:32.230Z"
   },
   {
    "duration": 7,
    "start_time": "2022-05-14T19:05:32.290Z"
   },
   {
    "duration": 7,
    "start_time": "2022-05-14T19:05:32.299Z"
   },
   {
    "duration": 10,
    "start_time": "2022-05-14T19:05:32.308Z"
   },
   {
    "duration": 266,
    "start_time": "2022-05-14T19:05:32.320Z"
   },
   {
    "duration": 106530,
    "start_time": "2022-05-14T19:05:32.589Z"
   },
   {
    "duration": 39224,
    "start_time": "2022-05-14T19:07:19.122Z"
   },
   {
    "duration": 8,
    "start_time": "2022-05-14T19:07:58.352Z"
   },
   {
    "duration": 13,
    "start_time": "2022-05-14T19:07:58.362Z"
   },
   {
    "duration": 238,
    "start_time": "2022-05-14T19:07:58.377Z"
   },
   {
    "duration": 0,
    "start_time": "2022-05-14T19:07:58.617Z"
   },
   {
    "duration": 64,
    "start_time": "2022-05-14T19:11:59.580Z"
   },
   {
    "duration": 64,
    "start_time": "2022-05-14T19:12:03.690Z"
   },
   {
    "duration": 1851,
    "start_time": "2022-05-14T19:12:22.371Z"
   },
   {
    "duration": 16,
    "start_time": "2022-05-14T19:12:24.225Z"
   },
   {
    "duration": 27,
    "start_time": "2022-05-14T19:12:24.243Z"
   },
   {
    "duration": 16,
    "start_time": "2022-05-14T19:12:24.273Z"
   },
   {
    "duration": 34,
    "start_time": "2022-05-14T19:12:24.292Z"
   },
   {
    "duration": 6,
    "start_time": "2022-05-14T19:12:24.352Z"
   },
   {
    "duration": 12,
    "start_time": "2022-05-14T19:12:24.360Z"
   },
   {
    "duration": 12,
    "start_time": "2022-05-14T19:12:24.374Z"
   },
   {
    "duration": 233,
    "start_time": "2022-05-14T19:12:24.389Z"
   },
   {
    "duration": 107086,
    "start_time": "2022-05-14T19:12:24.626Z"
   },
   {
    "duration": 38538,
    "start_time": "2022-05-14T19:14:11.715Z"
   },
   {
    "duration": 8,
    "start_time": "2022-05-14T19:14:50.255Z"
   },
   {
    "duration": 29,
    "start_time": "2022-05-14T19:14:50.265Z"
   },
   {
    "duration": 73,
    "start_time": "2022-05-14T19:14:50.297Z"
   },
   {
    "duration": 62,
    "start_time": "2022-05-14T19:14:50.372Z"
   },
   {
    "duration": 26,
    "start_time": "2022-05-14T19:34:33.603Z"
   },
   {
    "duration": 32,
    "start_time": "2022-05-14T19:35:00.323Z"
   },
   {
    "duration": 133,
    "start_time": "2022-05-14T19:35:41.692Z"
   },
   {
    "duration": 18734,
    "start_time": "2022-05-14T19:35:50.684Z"
   },
   {
    "duration": 19105,
    "start_time": "2022-05-14T19:37:41.646Z"
   },
   {
    "duration": 155323,
    "start_time": "2022-05-14T19:39:14.567Z"
   },
   {
    "duration": 1952,
    "start_time": "2022-05-14T19:50:12.913Z"
   },
   {
    "duration": 17,
    "start_time": "2022-05-14T19:50:14.867Z"
   },
   {
    "duration": 23,
    "start_time": "2022-05-14T19:50:14.886Z"
   },
   {
    "duration": 15,
    "start_time": "2022-05-14T19:50:14.911Z"
   },
   {
    "duration": 52,
    "start_time": "2022-05-14T19:50:14.929Z"
   },
   {
    "duration": 6,
    "start_time": "2022-05-14T19:50:14.983Z"
   },
   {
    "duration": 7,
    "start_time": "2022-05-14T19:50:14.991Z"
   },
   {
    "duration": 22,
    "start_time": "2022-05-14T19:50:15.000Z"
   },
   {
    "duration": 249,
    "start_time": "2022-05-14T19:50:15.024Z"
   },
   {
    "duration": 110011,
    "start_time": "2022-05-14T19:50:15.276Z"
   },
   {
    "duration": 72116,
    "start_time": "2022-05-14T19:52:05.290Z"
   },
   {
    "duration": 34389,
    "start_time": "2022-05-14T19:53:17.409Z"
   },
   {
    "duration": 1934,
    "start_time": "2022-05-14T19:53:51.801Z"
   },
   {
    "duration": 17,
    "start_time": "2022-05-14T19:53:53.740Z"
   },
   {
    "duration": 10,
    "start_time": "2022-05-14T19:53:53.760Z"
   },
   {
    "duration": 92,
    "start_time": "2022-05-14T19:53:53.772Z"
   },
   {
    "duration": 1838,
    "start_time": "2022-05-14T19:54:56.855Z"
   },
   {
    "duration": 1976,
    "start_time": "2022-05-14T19:55:28.608Z"
   },
   {
    "duration": 179,
    "start_time": "2022-05-14T19:58:22.290Z"
   },
   {
    "duration": 70581,
    "start_time": "2022-05-14T19:58:33.099Z"
   },
   {
    "duration": 21,
    "start_time": "2022-05-14T20:00:23.724Z"
   },
   {
    "duration": 2852,
    "start_time": "2022-05-14T20:00:29.492Z"
   },
   {
    "duration": 2026,
    "start_time": "2022-05-14T21:19:14.706Z"
   },
   {
    "duration": 19,
    "start_time": "2022-05-14T21:19:16.736Z"
   },
   {
    "duration": 27,
    "start_time": "2022-05-14T21:19:16.758Z"
   },
   {
    "duration": 15,
    "start_time": "2022-05-14T21:19:16.788Z"
   },
   {
    "duration": 61,
    "start_time": "2022-05-14T21:19:16.805Z"
   },
   {
    "duration": 6,
    "start_time": "2022-05-14T21:19:16.868Z"
   },
   {
    "duration": 8,
    "start_time": "2022-05-14T21:19:16.876Z"
   },
   {
    "duration": 8,
    "start_time": "2022-05-14T21:19:16.886Z"
   },
   {
    "duration": 260,
    "start_time": "2022-05-14T21:19:16.897Z"
   },
   {
    "duration": 107247,
    "start_time": "2022-05-14T21:19:17.161Z"
   },
   {
    "duration": 36796,
    "start_time": "2022-05-14T21:21:04.410Z"
   },
   {
    "duration": 17488,
    "start_time": "2022-05-14T21:21:41.208Z"
   },
   {
    "duration": 2024,
    "start_time": "2022-05-14T21:21:58.698Z"
   },
   {
    "duration": 2777,
    "start_time": "2022-05-14T21:22:00.724Z"
   },
   {
    "duration": 6,
    "start_time": "2022-05-14T21:22:03.504Z"
   },
   {
    "duration": 9,
    "start_time": "2022-05-14T21:22:03.512Z"
   },
   {
    "duration": 85,
    "start_time": "2022-05-14T21:22:03.523Z"
   },
   {
    "duration": 158,
    "start_time": "2022-05-14T21:37:21.000Z"
   },
   {
    "duration": 11,
    "start_time": "2022-05-14T21:37:27.175Z"
   },
   {
    "duration": 13,
    "start_time": "2022-05-14T21:37:31.687Z"
   },
   {
    "duration": 1938,
    "start_time": "2022-05-14T21:41:30.344Z"
   },
   {
    "duration": 21,
    "start_time": "2022-05-14T21:41:32.285Z"
   },
   {
    "duration": 25,
    "start_time": "2022-05-14T21:41:32.309Z"
   },
   {
    "duration": 26,
    "start_time": "2022-05-14T21:41:32.337Z"
   },
   {
    "duration": 37,
    "start_time": "2022-05-14T21:41:32.365Z"
   },
   {
    "duration": 6,
    "start_time": "2022-05-14T21:41:32.404Z"
   },
   {
    "duration": 8,
    "start_time": "2022-05-14T21:41:32.413Z"
   },
   {
    "duration": 34,
    "start_time": "2022-05-14T21:41:32.423Z"
   },
   {
    "duration": 230,
    "start_time": "2022-05-14T21:41:32.459Z"
   },
   {
    "duration": 103419,
    "start_time": "2022-05-14T21:41:32.693Z"
   },
   {
    "duration": 1924,
    "start_time": "2022-05-14T21:43:46.109Z"
   },
   {
    "duration": 21,
    "start_time": "2022-05-14T21:43:48.036Z"
   },
   {
    "duration": 23,
    "start_time": "2022-05-14T21:43:48.059Z"
   },
   {
    "duration": 15,
    "start_time": "2022-05-14T21:43:48.085Z"
   },
   {
    "duration": 56,
    "start_time": "2022-05-14T21:43:48.103Z"
   },
   {
    "duration": 6,
    "start_time": "2022-05-14T21:43:48.161Z"
   },
   {
    "duration": 15,
    "start_time": "2022-05-14T21:43:48.169Z"
   },
   {
    "duration": 10,
    "start_time": "2022-05-14T21:43:48.186Z"
   },
   {
    "duration": 235,
    "start_time": "2022-05-14T21:43:48.199Z"
   },
   {
    "duration": 104503,
    "start_time": "2022-05-14T21:43:48.436Z"
   },
   {
    "duration": 2712,
    "start_time": "2022-05-14T21:45:32.941Z"
   },
   {
    "duration": 17742,
    "start_time": "2022-05-14T21:45:35.655Z"
   },
   {
    "duration": 2016,
    "start_time": "2022-05-14T21:45:53.399Z"
   },
   {
    "duration": 2734,
    "start_time": "2022-05-14T21:45:55.419Z"
   },
   {
    "duration": 7,
    "start_time": "2022-05-14T21:45:58.155Z"
   },
   {
    "duration": 15,
    "start_time": "2022-05-14T21:45:58.164Z"
   },
   {
    "duration": 81,
    "start_time": "2022-05-14T21:45:58.181Z"
   },
   {
    "duration": 12,
    "start_time": "2022-05-14T21:45:58.264Z"
   },
   {
    "duration": 7,
    "start_time": "2022-05-14T21:51:45.738Z"
   },
   {
    "duration": 169,
    "start_time": "2022-05-14T21:53:01.275Z"
   },
   {
    "duration": 2606,
    "start_time": "2022-05-14T21:58:14.484Z"
   },
   {
    "duration": 25,
    "start_time": "2022-05-14T21:58:17.095Z"
   },
   {
    "duration": 44,
    "start_time": "2022-05-14T21:58:17.123Z"
   },
   {
    "duration": 24,
    "start_time": "2022-05-14T21:58:17.170Z"
   },
   {
    "duration": 72,
    "start_time": "2022-05-14T21:58:17.199Z"
   },
   {
    "duration": 8,
    "start_time": "2022-05-14T21:58:17.274Z"
   },
   {
    "duration": 7,
    "start_time": "2022-05-14T21:58:17.285Z"
   },
   {
    "duration": 11,
    "start_time": "2022-05-14T21:58:17.295Z"
   },
   {
    "duration": 361,
    "start_time": "2022-05-14T21:58:17.309Z"
   },
   {
    "duration": 115959,
    "start_time": "2022-05-14T21:58:17.674Z"
   },
   {
    "duration": 2723,
    "start_time": "2022-05-14T22:00:13.635Z"
   },
   {
    "duration": 18120,
    "start_time": "2022-05-14T22:00:16.360Z"
   },
   {
    "duration": 2024,
    "start_time": "2022-05-14T22:00:34.482Z"
   },
   {
    "duration": 2718,
    "start_time": "2022-05-14T22:00:36.509Z"
   },
   {
    "duration": 8,
    "start_time": "2022-05-14T22:00:39.230Z"
   },
   {
    "duration": 16,
    "start_time": "2022-05-14T22:00:39.240Z"
   },
   {
    "duration": 65,
    "start_time": "2022-05-14T22:00:39.259Z"
   },
   {
    "duration": 34,
    "start_time": "2022-05-14T22:00:39.326Z"
   },
   {
    "duration": 2072,
    "start_time": "2022-05-15T06:58:56.655Z"
   },
   {
    "duration": 21,
    "start_time": "2022-05-15T06:58:58.730Z"
   },
   {
    "duration": 30,
    "start_time": "2022-05-15T06:58:58.753Z"
   },
   {
    "duration": 15,
    "start_time": "2022-05-15T06:58:58.786Z"
   },
   {
    "duration": 33,
    "start_time": "2022-05-15T06:58:58.803Z"
   },
   {
    "duration": 6,
    "start_time": "2022-05-15T06:58:58.838Z"
   },
   {
    "duration": 37,
    "start_time": "2022-05-15T06:58:58.846Z"
   },
   {
    "duration": 10,
    "start_time": "2022-05-15T06:58:58.885Z"
   },
   {
    "duration": 243,
    "start_time": "2022-05-15T06:58:58.897Z"
   },
   {
    "duration": 95740,
    "start_time": "2022-05-15T06:58:59.144Z"
   },
   {
    "duration": 0,
    "start_time": "2022-05-15T07:00:34.887Z"
   },
   {
    "duration": 0,
    "start_time": "2022-05-15T07:00:34.888Z"
   },
   {
    "duration": 0,
    "start_time": "2022-05-15T07:00:34.890Z"
   },
   {
    "duration": 0,
    "start_time": "2022-05-15T07:00:34.892Z"
   },
   {
    "duration": 0,
    "start_time": "2022-05-15T07:00:34.893Z"
   },
   {
    "duration": 0,
    "start_time": "2022-05-15T07:00:34.895Z"
   },
   {
    "duration": 0,
    "start_time": "2022-05-15T07:00:34.896Z"
   },
   {
    "duration": 0,
    "start_time": "2022-05-15T07:00:34.898Z"
   },
   {
    "duration": 0,
    "start_time": "2022-05-15T07:00:34.899Z"
   },
   {
    "duration": 5,
    "start_time": "2022-05-15T07:00:38.451Z"
   },
   {
    "duration": 5,
    "start_time": "2022-05-15T07:00:43.709Z"
   },
   {
    "duration": 6,
    "start_time": "2022-05-15T07:00:49.386Z"
   },
   {
    "duration": 6,
    "start_time": "2022-05-15T07:00:59.343Z"
   },
   {
    "duration": 27,
    "start_time": "2022-05-15T07:00:59.352Z"
   },
   {
    "duration": 19,
    "start_time": "2022-05-15T07:00:59.382Z"
   },
   {
    "duration": 14,
    "start_time": "2022-05-15T07:00:59.404Z"
   },
   {
    "duration": 62,
    "start_time": "2022-05-15T07:00:59.421Z"
   },
   {
    "duration": 6,
    "start_time": "2022-05-15T07:00:59.486Z"
   },
   {
    "duration": 9,
    "start_time": "2022-05-15T07:00:59.495Z"
   },
   {
    "duration": 9,
    "start_time": "2022-05-15T07:00:59.506Z"
   },
   {
    "duration": 256,
    "start_time": "2022-05-15T07:00:59.518Z"
   },
   {
    "duration": 110585,
    "start_time": "2022-05-15T07:00:59.781Z"
   },
   {
    "duration": 2889,
    "start_time": "2022-05-15T07:02:50.369Z"
   },
   {
    "duration": 18353,
    "start_time": "2022-05-15T07:02:53.260Z"
   },
   {
    "duration": 2076,
    "start_time": "2022-05-15T07:03:11.617Z"
   },
   {
    "duration": 2714,
    "start_time": "2022-05-15T07:03:13.696Z"
   },
   {
    "duration": 8,
    "start_time": "2022-05-15T07:03:16.412Z"
   },
   {
    "duration": 8,
    "start_time": "2022-05-15T07:03:16.422Z"
   },
   {
    "duration": 90,
    "start_time": "2022-05-15T07:03:16.432Z"
   },
   {
    "duration": 12,
    "start_time": "2022-05-15T07:03:16.524Z"
   },
   {
    "duration": 6,
    "start_time": "2022-05-15T07:09:49.397Z"
   },
   {
    "duration": 45,
    "start_time": "2022-05-15T07:10:17.673Z"
   },
   {
    "duration": 17,
    "start_time": "2022-05-15T07:20:04.274Z"
   },
   {
    "duration": 20,
    "start_time": "2022-05-15T07:20:14.897Z"
   },
   {
    "duration": 9,
    "start_time": "2022-05-15T07:20:36.105Z"
   },
   {
    "duration": 8,
    "start_time": "2022-05-15T07:21:04.319Z"
   },
   {
    "duration": 7,
    "start_time": "2022-05-15T07:21:23.496Z"
   },
   {
    "duration": 125,
    "start_time": "2022-05-15T07:23:25.752Z"
   },
   {
    "duration": 7,
    "start_time": "2022-05-15T07:23:30.784Z"
   },
   {
    "duration": 11,
    "start_time": "2022-05-15T07:24:15.601Z"
   },
   {
    "duration": 12,
    "start_time": "2022-05-15T07:24:29.792Z"
   },
   {
    "duration": 2186,
    "start_time": "2022-05-15T11:23:01.341Z"
   },
   {
    "duration": 16,
    "start_time": "2022-05-15T11:23:03.531Z"
   },
   {
    "duration": 29,
    "start_time": "2022-05-15T11:23:03.549Z"
   },
   {
    "duration": 15,
    "start_time": "2022-05-15T11:23:03.581Z"
   },
   {
    "duration": 61,
    "start_time": "2022-05-15T11:23:03.598Z"
   },
   {
    "duration": 9,
    "start_time": "2022-05-15T11:23:03.662Z"
   },
   {
    "duration": 8,
    "start_time": "2022-05-15T11:23:03.673Z"
   },
   {
    "duration": 9,
    "start_time": "2022-05-15T11:23:03.684Z"
   },
   {
    "duration": 203,
    "start_time": "2022-05-15T11:23:03.695Z"
   },
   {
    "duration": 0,
    "start_time": "2022-05-15T11:23:03.901Z"
   },
   {
    "duration": 0,
    "start_time": "2022-05-15T11:23:03.903Z"
   },
   {
    "duration": 0,
    "start_time": "2022-05-15T11:23:03.904Z"
   },
   {
    "duration": 0,
    "start_time": "2022-05-15T11:23:03.905Z"
   },
   {
    "duration": 0,
    "start_time": "2022-05-15T11:23:03.906Z"
   },
   {
    "duration": 0,
    "start_time": "2022-05-15T11:23:03.907Z"
   },
   {
    "duration": 0,
    "start_time": "2022-05-15T11:23:03.909Z"
   },
   {
    "duration": 0,
    "start_time": "2022-05-15T11:23:03.910Z"
   },
   {
    "duration": 0,
    "start_time": "2022-05-15T11:23:03.912Z"
   },
   {
    "duration": 11,
    "start_time": "2022-05-15T11:27:45.188Z"
   },
   {
    "duration": 8,
    "start_time": "2022-05-15T11:28:58.533Z"
   },
   {
    "duration": 121,
    "start_time": "2022-05-15T11:35:01.050Z"
   },
   {
    "duration": 546,
    "start_time": "2022-05-15T11:37:45.763Z"
   },
   {
    "duration": 557,
    "start_time": "2022-05-15T11:38:50.445Z"
   },
   {
    "duration": 607,
    "start_time": "2022-05-15T11:39:13.749Z"
   },
   {
    "duration": 812,
    "start_time": "2022-05-15T11:39:18.660Z"
   },
   {
    "duration": 806,
    "start_time": "2022-05-15T11:39:25.749Z"
   },
   {
    "duration": 884,
    "start_time": "2022-05-15T11:39:28.975Z"
   },
   {
    "duration": 175,
    "start_time": "2022-05-15T11:40:24.421Z"
   },
   {
    "duration": 182,
    "start_time": "2022-05-15T11:40:38.655Z"
   },
   {
    "duration": 949,
    "start_time": "2022-05-15T11:41:56.287Z"
   },
   {
    "duration": 156,
    "start_time": "2022-05-15T11:43:57.864Z"
   },
   {
    "duration": 856,
    "start_time": "2022-05-15T11:44:10.136Z"
   },
   {
    "duration": 335,
    "start_time": "2022-05-15T11:44:42.617Z"
   },
   {
    "duration": 330,
    "start_time": "2022-05-15T11:44:54.130Z"
   },
   {
    "duration": 910,
    "start_time": "2022-05-15T11:45:02.306Z"
   },
   {
    "duration": 168,
    "start_time": "2022-05-15T11:45:18.745Z"
   },
   {
    "duration": 152,
    "start_time": "2022-05-15T11:45:31.195Z"
   },
   {
    "duration": 150,
    "start_time": "2022-05-15T11:45:40.409Z"
   },
   {
    "duration": 285,
    "start_time": "2022-05-15T11:46:24.202Z"
   },
   {
    "duration": 1101,
    "start_time": "2022-05-15T11:46:38.011Z"
   },
   {
    "duration": 46,
    "start_time": "2022-05-15T15:14:56.874Z"
   },
   {
    "duration": 1525,
    "start_time": "2022-05-15T15:15:03.979Z"
   },
   {
    "duration": 19,
    "start_time": "2022-05-15T15:15:05.506Z"
   },
   {
    "duration": 16,
    "start_time": "2022-05-15T15:15:05.526Z"
   },
   {
    "duration": 11,
    "start_time": "2022-05-15T15:15:05.544Z"
   },
   {
    "duration": 32,
    "start_time": "2022-05-15T15:15:05.557Z"
   },
   {
    "duration": 112,
    "start_time": "2022-05-15T15:15:05.591Z"
   },
   {
    "duration": 0,
    "start_time": "2022-05-15T15:15:05.705Z"
   },
   {
    "duration": 0,
    "start_time": "2022-05-15T15:15:05.706Z"
   },
   {
    "duration": 0,
    "start_time": "2022-05-15T15:15:05.707Z"
   },
   {
    "duration": 0,
    "start_time": "2022-05-15T15:15:05.708Z"
   },
   {
    "duration": 0,
    "start_time": "2022-05-15T15:15:05.709Z"
   },
   {
    "duration": 0,
    "start_time": "2022-05-15T15:15:05.710Z"
   },
   {
    "duration": 0,
    "start_time": "2022-05-15T15:15:05.711Z"
   },
   {
    "duration": 0,
    "start_time": "2022-05-15T15:15:05.712Z"
   },
   {
    "duration": 0,
    "start_time": "2022-05-15T15:15:05.713Z"
   },
   {
    "duration": 1,
    "start_time": "2022-05-15T15:15:05.714Z"
   },
   {
    "duration": 0,
    "start_time": "2022-05-15T15:15:05.715Z"
   },
   {
    "duration": 0,
    "start_time": "2022-05-15T15:15:05.717Z"
   },
   {
    "duration": 0,
    "start_time": "2022-05-15T15:15:05.717Z"
   },
   {
    "duration": 0,
    "start_time": "2022-05-15T15:15:05.718Z"
   },
   {
    "duration": 8,
    "start_time": "2022-05-15T15:15:34.310Z"
   },
   {
    "duration": 119,
    "start_time": "2022-05-15T15:15:35.621Z"
   },
   {
    "duration": 93,
    "start_time": "2022-05-15T15:15:49.896Z"
   },
   {
    "duration": 333,
    "start_time": "2022-05-15T15:15:58.415Z"
   },
   {
    "duration": 549,
    "start_time": "2022-05-15T15:16:01.758Z"
   },
   {
    "duration": 455,
    "start_time": "2022-05-15T15:16:05.183Z"
   },
   {
    "duration": 388,
    "start_time": "2022-05-15T15:16:26.031Z"
   },
   {
    "duration": 394,
    "start_time": "2022-05-15T15:20:30.155Z"
   },
   {
    "duration": 446,
    "start_time": "2022-05-15T15:20:31.498Z"
   },
   {
    "duration": 387,
    "start_time": "2022-05-15T15:23:19.972Z"
   },
   {
    "duration": 467,
    "start_time": "2022-05-15T15:23:52.548Z"
   },
   {
    "duration": 355,
    "start_time": "2022-05-15T15:24:02.909Z"
   },
   {
    "duration": 390,
    "start_time": "2022-05-15T15:24:19.013Z"
   },
   {
    "duration": 413,
    "start_time": "2022-05-15T15:24:26.301Z"
   },
   {
    "duration": 529,
    "start_time": "2022-05-15T15:25:55.629Z"
   },
   {
    "duration": 5,
    "start_time": "2022-05-15T15:54:34.298Z"
   },
   {
    "duration": 4,
    "start_time": "2022-05-15T15:54:35.242Z"
   },
   {
    "duration": 6,
    "start_time": "2022-05-15T15:54:35.897Z"
   },
   {
    "duration": 11,
    "start_time": "2022-05-15T15:55:28.682Z"
   },
   {
    "duration": 12,
    "start_time": "2022-05-15T15:55:54.059Z"
   },
   {
    "duration": 4,
    "start_time": "2022-05-15T15:55:59.363Z"
   },
   {
    "duration": 4,
    "start_time": "2022-05-15T15:56:23.722Z"
   },
   {
    "duration": 32,
    "start_time": "2022-05-15T15:57:17.987Z"
   },
   {
    "duration": 10,
    "start_time": "2022-05-15T15:57:54.380Z"
   },
   {
    "duration": 6,
    "start_time": "2022-05-15T16:00:39.310Z"
   },
   {
    "duration": 6,
    "start_time": "2022-05-15T16:00:51.350Z"
   },
   {
    "duration": 4,
    "start_time": "2022-05-15T16:00:53.061Z"
   },
   {
    "duration": 4,
    "start_time": "2022-05-15T16:01:00.542Z"
   },
   {
    "duration": 6,
    "start_time": "2022-05-15T16:01:02.302Z"
   },
   {
    "duration": 7,
    "start_time": "2022-05-15T16:01:02.774Z"
   },
   {
    "duration": 4,
    "start_time": "2022-05-15T16:01:03.326Z"
   },
   {
    "duration": 6,
    "start_time": "2022-05-15T16:01:05.469Z"
   },
   {
    "duration": 7,
    "start_time": "2022-05-15T16:01:05.878Z"
   },
   {
    "duration": 4,
    "start_time": "2022-05-15T16:01:06.296Z"
   },
   {
    "duration": 1399,
    "start_time": "2022-05-15T16:01:16.186Z"
   },
   {
    "duration": 19,
    "start_time": "2022-05-15T16:01:17.586Z"
   },
   {
    "duration": 17,
    "start_time": "2022-05-15T16:01:17.607Z"
   },
   {
    "duration": 20,
    "start_time": "2022-05-15T16:01:17.626Z"
   },
   {
    "duration": 25,
    "start_time": "2022-05-15T16:01:17.647Z"
   },
   {
    "duration": 16,
    "start_time": "2022-05-15T16:01:17.674Z"
   },
   {
    "duration": 293,
    "start_time": "2022-05-15T16:01:17.692Z"
   },
   {
    "duration": 427,
    "start_time": "2022-05-15T16:01:17.988Z"
   },
   {
    "duration": 6,
    "start_time": "2022-05-15T16:01:18.417Z"
   },
   {
    "duration": 8,
    "start_time": "2022-05-15T16:01:18.425Z"
   },
   {
    "duration": 6,
    "start_time": "2022-05-15T16:01:18.434Z"
   },
   {
    "duration": 7,
    "start_time": "2022-05-15T16:01:18.442Z"
   },
   {
    "duration": 251,
    "start_time": "2022-05-15T16:01:18.450Z"
   },
   {
    "duration": 70502,
    "start_time": "2022-05-15T16:01:18.703Z"
   },
   {
    "duration": 115,
    "start_time": "2022-05-15T16:02:29.207Z"
   },
   {
    "duration": 0,
    "start_time": "2022-05-15T16:02:29.324Z"
   },
   {
    "duration": 0,
    "start_time": "2022-05-15T16:02:29.325Z"
   },
   {
    "duration": 0,
    "start_time": "2022-05-15T16:02:29.326Z"
   },
   {
    "duration": 0,
    "start_time": "2022-05-15T16:02:29.327Z"
   },
   {
    "duration": 0,
    "start_time": "2022-05-15T16:02:29.328Z"
   },
   {
    "duration": 0,
    "start_time": "2022-05-15T16:02:29.329Z"
   },
   {
    "duration": 0,
    "start_time": "2022-05-15T16:02:29.330Z"
   },
   {
    "duration": 35584,
    "start_time": "2022-05-15T16:11:48.212Z"
   },
   {
    "duration": 35203,
    "start_time": "2022-05-15T16:12:40.637Z"
   },
   {
    "duration": 35323,
    "start_time": "2022-05-15T16:13:55.573Z"
   },
   {
    "duration": 77025,
    "start_time": "2022-05-15T16:19:57.058Z"
   },
   {
    "duration": 76786,
    "start_time": "2022-05-15T16:22:05.572Z"
   },
   {
    "duration": 77021,
    "start_time": "2022-05-15T16:24:13.462Z"
   },
   {
    "duration": 77442,
    "start_time": "2022-05-15T16:26:28.848Z"
   },
   {
    "duration": 1792,
    "start_time": "2022-05-15T16:33:19.245Z"
   },
   {
    "duration": 15515,
    "start_time": "2022-05-15T16:33:37.957Z"
   },
   {
    "duration": 1212,
    "start_time": "2022-05-15T16:34:02.901Z"
   },
   {
    "duration": 1702,
    "start_time": "2022-05-15T16:34:22.109Z"
   },
   {
    "duration": 6,
    "start_time": "2022-05-15T16:46:34.853Z"
   },
   {
    "duration": 2,
    "start_time": "2022-05-15T16:51:14.544Z"
   },
   {
    "duration": 5,
    "start_time": "2022-05-15T16:51:25.055Z"
   },
   {
    "duration": 14,
    "start_time": "2022-05-15T16:51:59.825Z"
   },
   {
    "duration": 14,
    "start_time": "2022-05-15T16:52:44.513Z"
   },
   {
    "duration": 14,
    "start_time": "2022-05-15T16:52:45.265Z"
   },
   {
    "duration": 7,
    "start_time": "2022-05-15T16:58:19.701Z"
   },
   {
    "duration": 14,
    "start_time": "2022-05-15T16:59:10.271Z"
   },
   {
    "duration": 131,
    "start_time": "2022-05-15T16:59:21.078Z"
   },
   {
    "duration": 102,
    "start_time": "2022-05-15T16:59:44.215Z"
   },
   {
    "duration": 90,
    "start_time": "2022-05-15T17:36:55.966Z"
   },
   {
    "duration": 5,
    "start_time": "2022-05-15T17:38:32.879Z"
   },
   {
    "duration": 90,
    "start_time": "2022-05-15T17:39:44.840Z"
   },
   {
    "duration": 5,
    "start_time": "2022-05-15T17:39:54.439Z"
   },
   {
    "duration": 4,
    "start_time": "2022-05-15T17:40:30.872Z"
   },
   {
    "duration": 6,
    "start_time": "2022-05-15T17:40:36.904Z"
   },
   {
    "duration": 1394,
    "start_time": "2022-05-15T17:46:15.707Z"
   },
   {
    "duration": 15,
    "start_time": "2022-05-15T17:46:17.102Z"
   },
   {
    "duration": 20,
    "start_time": "2022-05-15T17:46:17.119Z"
   },
   {
    "duration": 27,
    "start_time": "2022-05-15T17:46:17.141Z"
   },
   {
    "duration": 24,
    "start_time": "2022-05-15T17:46:17.170Z"
   },
   {
    "duration": 8,
    "start_time": "2022-05-15T17:46:17.195Z"
   },
   {
    "duration": 314,
    "start_time": "2022-05-15T17:46:17.205Z"
   },
   {
    "duration": 425,
    "start_time": "2022-05-15T17:46:17.521Z"
   },
   {
    "duration": 7,
    "start_time": "2022-05-15T17:46:17.948Z"
   },
   {
    "duration": 8,
    "start_time": "2022-05-15T17:46:17.958Z"
   },
   {
    "duration": 21,
    "start_time": "2022-05-15T17:46:17.967Z"
   },
   {
    "duration": 6,
    "start_time": "2022-05-15T17:46:17.989Z"
   },
   {
    "duration": 243,
    "start_time": "2022-05-15T17:46:17.996Z"
   },
   {
    "duration": 77209,
    "start_time": "2022-05-15T17:46:18.241Z"
   },
   {
    "duration": 1731,
    "start_time": "2022-05-15T17:47:35.452Z"
   },
   {
    "duration": 14905,
    "start_time": "2022-05-15T17:47:37.184Z"
   },
   {
    "duration": 1207,
    "start_time": "2022-05-15T17:47:52.091Z"
   },
   {
    "duration": 1686,
    "start_time": "2022-05-15T17:47:53.300Z"
   },
   {
    "duration": 2,
    "start_time": "2022-05-15T17:47:54.988Z"
   },
   {
    "duration": 8,
    "start_time": "2022-05-15T17:47:54.992Z"
   },
   {
    "duration": 20,
    "start_time": "2022-05-15T17:47:55.001Z"
   },
   {
    "duration": 8,
    "start_time": "2022-05-15T17:47:55.022Z"
   },
   {
    "duration": 3,
    "start_time": "2022-05-15T17:55:30.926Z"
   },
   {
    "duration": 115,
    "start_time": "2022-05-16T06:56:28.320Z"
   }
  ],
  "kernelspec": {
   "display_name": "Python 3",
   "language": "python",
   "name": "python3"
  },
  "language_info": {
   "codemirror_mode": {
    "name": "ipython",
    "version": 3
   },
   "file_extension": ".py",
   "mimetype": "text/x-python",
   "name": "python",
   "nbconvert_exporter": "python",
   "pygments_lexer": "ipython3",
   "version": "3.8.3"
  },
  "toc": {
   "base_numbering": 1,
   "nav_menu": {},
   "number_sections": true,
   "sideBar": true,
   "skip_h1_title": true,
   "title_cell": "Table of Contents",
   "title_sidebar": "Contents",
   "toc_cell": false,
   "toc_position": {},
   "toc_section_display": true,
   "toc_window_display": false
  }
 },
 "nbformat": 4,
 "nbformat_minor": 2
}
