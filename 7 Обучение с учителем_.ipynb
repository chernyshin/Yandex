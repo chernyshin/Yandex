{
 "cells": [
  {
   "cell_type": "markdown",
   "metadata": {
    "toc": true
   },
   "source": [
    "<h1>Содержание<span class=\"tocSkip\"></span></h1>\n",
    "<div class=\"toc\"><ul class=\"toc-item\"><li><span><a href=\"#Введение\" data-toc-modified-id=\"Введение-1\"><span class=\"toc-item-num\">1&nbsp;&nbsp;</span>Введение</a></span><ul class=\"toc-item\"><li><span><a href=\"#Описание-проекта\" data-toc-modified-id=\"Описание-проекта-1.1\"><span class=\"toc-item-num\">1.1&nbsp;&nbsp;</span>Описание проекта</a></span></li><li><span><a href=\"#Ход-исследования\" data-toc-modified-id=\"Ход-исследования-1.2\"><span class=\"toc-item-num\">1.2&nbsp;&nbsp;</span>Ход исследования</a></span></li><li><span><a href=\"#Описание-данных\" data-toc-modified-id=\"Описание-данных-1.3\"><span class=\"toc-item-num\">1.3&nbsp;&nbsp;</span>Описание данных</a></span></li></ul></li><li><span><a href=\"#Подготовка-данных\" data-toc-modified-id=\"Подготовка-данных-2\"><span class=\"toc-item-num\">2&nbsp;&nbsp;</span>Подготовка данных</a></span><ul class=\"toc-item\"><li><span><a href=\"#Изучение-начальных-данных\" data-toc-modified-id=\"Изучение-начальных-данных-2.1\"><span class=\"toc-item-num\">2.1&nbsp;&nbsp;</span>Изучение начальных данных</a></span></li><li><span><a href=\"#План-по-предобработке-данных\" data-toc-modified-id=\"План-по-предобработке-данных-2.2\"><span class=\"toc-item-num\">2.2&nbsp;&nbsp;</span>План по предобработке данных</a></span></li><li><span><a href=\"#Предобработка-данных\" data-toc-modified-id=\"Предобработка-данных-2.3\"><span class=\"toc-item-num\">2.3&nbsp;&nbsp;</span>Предобработка данных</a></span><ul class=\"toc-item\"><li><span><a href=\"#Создание-очищенного-датафрейма-от-лишних-признаков\" data-toc-modified-id=\"Создание-очищенного-датафрейма-от-лишних-признаков-2.3.1\"><span class=\"toc-item-num\">2.3.1&nbsp;&nbsp;</span>Создание очищенного датафрейма от лишних признаков</a></span></li><li><span><a href=\"#Приведение-столбцов-к-единому-написанию\" data-toc-modified-id=\"Приведение-столбцов-к-единому-написанию-2.3.2\"><span class=\"toc-item-num\">2.3.2&nbsp;&nbsp;</span>Приведение столбцов к единому написанию</a></span></li><li><span><a href=\"#Создание-дамми-признаков\" data-toc-modified-id=\"Создание-дамми-признаков-2.3.3\"><span class=\"toc-item-num\">2.3.3&nbsp;&nbsp;</span>Создание дамми-признаков</a></span></li><li><span><a href=\"#Обработка-столбца-tenure\" data-toc-modified-id=\"Обработка-столбца-tenure-2.3.4\"><span class=\"toc-item-num\">2.3.4&nbsp;&nbsp;</span>Обработка столбца <code>tenure</code></a></span></li><li><span><a href=\"#Масштабирование-признаков\" data-toc-modified-id=\"Масштабирование-признаков-2.3.5\"><span class=\"toc-item-num\">2.3.5&nbsp;&nbsp;</span>Масштабирование признаков</a></span></li></ul></li><li><span><a href=\"#Вывод\" data-toc-modified-id=\"Вывод-2.4\"><span class=\"toc-item-num\">2.4&nbsp;&nbsp;</span>Вывод</a></span></li></ul></li><li><span><a href=\"#Исследование-задачи\" data-toc-modified-id=\"Исследование-задачи-3\"><span class=\"toc-item-num\">3&nbsp;&nbsp;</span>Исследование задачи</a></span><ul class=\"toc-item\"><li><span><a href=\"#Дерево-решений\" data-toc-modified-id=\"Дерево-решений-3.1\"><span class=\"toc-item-num\">3.1&nbsp;&nbsp;</span>Дерево решений</a></span><ul class=\"toc-item\"><li><span><a href=\"#Матрица-ошибок\" data-toc-modified-id=\"Матрица-ошибок-3.1.1\"><span class=\"toc-item-num\">3.1.1&nbsp;&nbsp;</span>Матрица ошибок</a></span></li><li><span><a href=\"#Полнота,-точность\" data-toc-modified-id=\"Полнота,-точность-3.1.2\"><span class=\"toc-item-num\">3.1.2&nbsp;&nbsp;</span>Полнота, точность</a></span></li></ul></li><li><span><a href=\"#Случайный-лес\" data-toc-modified-id=\"Случайный-лес-3.2\"><span class=\"toc-item-num\">3.2&nbsp;&nbsp;</span>Случайный лес</a></span><ul class=\"toc-item\"><li><span><a href=\"#Матрица-ошибок\" data-toc-modified-id=\"Матрица-ошибок-3.2.1\"><span class=\"toc-item-num\">3.2.1&nbsp;&nbsp;</span>Матрица ошибок</a></span></li><li><span><a href=\"#F1-мера,-полнота,-точность\" data-toc-modified-id=\"F1-мера,-полнота,-точность-3.2.2\"><span class=\"toc-item-num\">3.2.2&nbsp;&nbsp;</span>F1-мера, полнота, точность</a></span></li></ul></li><li><span><a href=\"#Логистическая-регрессия\" data-toc-modified-id=\"Логистическая-регрессия-3.3\"><span class=\"toc-item-num\">3.3&nbsp;&nbsp;</span>Логистическая регрессия</a></span></li><li><span><a href=\"#Вывод\" data-toc-modified-id=\"Вывод-3.4\"><span class=\"toc-item-num\">3.4&nbsp;&nbsp;</span>Вывод</a></span></li></ul></li><li><span><a href=\"#Борьба-с-дисбалансом\" data-toc-modified-id=\"Борьба-с-дисбалансом-4\"><span class=\"toc-item-num\">4&nbsp;&nbsp;</span>Борьба с дисбалансом</a></span><ul class=\"toc-item\"><li><span><a href=\"#Уравновешивание-классов\" data-toc-modified-id=\"Уравновешивание-классов-4.1\"><span class=\"toc-item-num\">4.1&nbsp;&nbsp;</span>Уравновешивание классов</a></span><ul class=\"toc-item\"><li><span><a href=\"#Дерево-решений\" data-toc-modified-id=\"Дерево-решений-4.1.1\"><span class=\"toc-item-num\">4.1.1&nbsp;&nbsp;</span>Дерево решений</a></span></li><li><span><a href=\"#Случайный-лес\" data-toc-modified-id=\"Случайный-лес-4.1.2\"><span class=\"toc-item-num\">4.1.2&nbsp;&nbsp;</span>Случайный лес</a></span></li><li><span><a href=\"#Логистическая-регрессия\" data-toc-modified-id=\"Логистическая-регрессия-4.1.3\"><span class=\"toc-item-num\">4.1.3&nbsp;&nbsp;</span>Логистическая регрессия</a></span></li></ul></li><li><span><a href=\"#Увеличение-выборки\" data-toc-modified-id=\"Увеличение-выборки-4.2\"><span class=\"toc-item-num\">4.2&nbsp;&nbsp;</span>Увеличение выборки</a></span></li><li><span><a href=\"#Уменьшение-выборки\" data-toc-modified-id=\"Уменьшение-выборки-4.3\"><span class=\"toc-item-num\">4.3&nbsp;&nbsp;</span>Уменьшение выборки</a></span></li><li><span><a href=\"#Вывод\" data-toc-modified-id=\"Вывод-4.4\"><span class=\"toc-item-num\">4.4&nbsp;&nbsp;</span>Вывод</a></span></li></ul></li><li><span><a href=\"#Тестирование-модели\" data-toc-modified-id=\"Тестирование-модели-5\"><span class=\"toc-item-num\">5&nbsp;&nbsp;</span>Тестирование модели</a></span><ul class=\"toc-item\"><li><span><a href=\"#Исследование-F1-меры,-матриц-ошибок,-AUC-ROC\" data-toc-modified-id=\"Исследование-F1-меры,-матриц-ошибок,-AUC-ROC-5.1\"><span class=\"toc-item-num\">5.1&nbsp;&nbsp;</span>Исследование F1-меры, матриц ошибок, AUC-ROC</a></span></li><li><span><a href=\"#AUC-ROC\" data-toc-modified-id=\"AUC-ROC-5.2\"><span class=\"toc-item-num\">5.2&nbsp;&nbsp;</span>AUC-ROC</a></span></li><li><span><a href=\"#Вывод\" data-toc-modified-id=\"Вывод-5.3\"><span class=\"toc-item-num\">5.3&nbsp;&nbsp;</span>Вывод</a></span></li></ul></li><li><span><a href=\"#Вывод\" data-toc-modified-id=\"Вывод-6\"><span class=\"toc-item-num\">6&nbsp;&nbsp;</span>Вывод</a></span></li><li><span><a href=\"#Чек-лист-готовности-проекта\" data-toc-modified-id=\"Чек-лист-готовности-проекта-7\"><span class=\"toc-item-num\">7&nbsp;&nbsp;</span>Чек-лист готовности проекта</a></span></li></ul></div>"
   ]
  },
  {
   "cell_type": "markdown",
   "metadata": {},
   "source": [
    "# Отток клиентов"
   ]
  },
  {
   "cell_type": "markdown",
   "metadata": {},
   "source": [
    "## Введение"
   ]
  },
  {
   "cell_type": "markdown",
   "metadata": {},
   "source": [
    "### Описание проекта"
   ]
  },
  {
   "cell_type": "markdown",
   "metadata": {},
   "source": [
    "Из «Бета-Банка» стали уходить клиенты. Каждый месяц. Немного, но заметно. Банковские маркетологи посчитали: сохранять текущих клиентов дешевле, чем привлекать новых.\n",
    "\n",
    "Нужно спрогнозировать, уйдёт клиент из банка в ближайшее время или нет. Нам предоставлены исторические данные о поведении клиентов и расторжении договоров с банком. \n",
    "\n",
    "Построить модель с предельно большим значением *F1*-меры. Нужно довести метрику до 0.59, проверить *F1*-меру на тестовой выборке самостоятельно.\n",
    "\n",
    "Дополнительно измерить *AUC-ROC*, сравнить её значение с *F1*-мерой.\n",
    "\n",
    "Источник данных: [https://www.kaggle.com/barelydedicated/bank-customer-churn-modeling](https://www.kaggle.com/barelydedicated/bank-customer-churn-modeling)"
   ]
  },
  {
   "cell_type": "markdown",
   "metadata": {},
   "source": [
    "### Ход исследования"
   ]
  },
  {
   "cell_type": "markdown",
   "metadata": {},
   "source": [
    "**Шаг 1.**\n",
    "\n",
    "Загрузить и подготовьте данные. Пояснить порядок действий.\n",
    "\n",
    "**Шаг 2.**\n",
    "\n",
    "Исследовать баланс классов, обучить модель без учёта дисбаланса. Кратко описать выводы.\n",
    "\n",
    "**Шаг 3.**\n",
    "\n",
    "Улучшить качество модели, учитывая дисбаланс классов. Обучить разные модели и найти лучшую. Кратко описать выводы.\n",
    "\n",
    "**Шаг 4.**\n",
    "\n",
    "Провести финальное тестирование."
   ]
  },
  {
   "cell_type": "markdown",
   "metadata": {},
   "source": [
    "### Описание данных"
   ]
  },
  {
   "cell_type": "markdown",
   "metadata": {},
   "source": [
    "Данные находятся в файле `/datasets/Churn.csv` (англ. «отток клиентов»).\n",
    "\n",
    "**Признаки**\n",
    "\n",
    "- *RowNumber* — индекс строки в данных\n",
    "- *CustomerId* — уникальный идентификатор клиента\n",
    "- *Surname* — фамилия\n",
    "- *CreditScore* — кредитный рейтинг\n",
    "- *Geography* — страна проживания\n",
    "- *Gender* — пол\n",
    "- *Age* — возраст\n",
    "- *Tenure* — сколько лет человек является клиентом банка\n",
    "- *Balance* — баланс на счёте\n",
    "- *NumOfProducts* — количество продуктов банка, используемых клиентом\n",
    "- *HasCrCard* — наличие кредитной карты\n",
    "- *IsActiveMember* — активность клиента\n",
    "- *EstimatedSalary* — предполагаемая зарплата\n",
    "\n",
    "**Целевой признак**\n",
    "\n",
    "- *Exited* — факт ухода клиента"
   ]
  },
  {
   "cell_type": "markdown",
   "metadata": {},
   "source": [
    "## Подготовка данных"
   ]
  },
  {
   "cell_type": "markdown",
   "metadata": {},
   "source": [
    "### Изучение начальных данных"
   ]
  },
  {
   "cell_type": "code",
   "execution_count": 1,
   "metadata": {},
   "outputs": [],
   "source": [
    "#Импорты\n",
    "\n",
    "import pandas as pd\n",
    "import matplotlib.pyplot as plt\n",
    "import random\n",
    "import numpy as np\n",
    "\n",
    "from sklearn.model_selection import train_test_split\n",
    "from sklearn.preprocessing import StandardScaler \n",
    "from sklearn.preprocessing import MinMaxScaler\n",
    "from sklearn.model_selection import GridSearchCV\n",
    "from sklearn.metrics import accuracy_score\n",
    "from sklearn.metrics import confusion_matrix\n",
    "from sklearn.metrics import recall_score\n",
    "from sklearn.metrics import precision_score\n",
    "from sklearn.metrics import f1_score\n",
    "from sklearn.tree import DecisionTreeClassifier\n",
    "from sklearn.ensemble import RandomForestClassifier\n",
    "from sklearn.linear_model import LogisticRegression\n",
    "from sklearn.utils import shuffle\n",
    "from sklearn.metrics import roc_curve \n",
    "from matplotlib.pyplot import figure\n",
    "from sklearn.metrics import roc_auc_score"
   ]
  },
  {
   "cell_type": "code",
   "execution_count": 2,
   "metadata": {},
   "outputs": [],
   "source": [
    "# Прочая подготовка\n",
    "\n",
    "pd.options.mode.chained_assignment = None # Удаляем ошибку скелера"
   ]
  },
  {
   "cell_type": "code",
   "execution_count": 3,
   "metadata": {},
   "outputs": [],
   "source": [
    "df = pd.read_csv('/datasets/Churn.csv')"
   ]
  },
  {
   "cell_type": "code",
   "execution_count": 4,
   "metadata": {
    "scrolled": false
   },
   "outputs": [
    {
     "data": {
      "text/html": [
       "<div>\n",
       "<style scoped>\n",
       "    .dataframe tbody tr th:only-of-type {\n",
       "        vertical-align: middle;\n",
       "    }\n",
       "\n",
       "    .dataframe tbody tr th {\n",
       "        vertical-align: top;\n",
       "    }\n",
       "\n",
       "    .dataframe thead th {\n",
       "        text-align: right;\n",
       "    }\n",
       "</style>\n",
       "<table border=\"1\" class=\"dataframe\">\n",
       "  <thead>\n",
       "    <tr style=\"text-align: right;\">\n",
       "      <th></th>\n",
       "      <th>RowNumber</th>\n",
       "      <th>CustomerId</th>\n",
       "      <th>Surname</th>\n",
       "      <th>CreditScore</th>\n",
       "      <th>Geography</th>\n",
       "      <th>Gender</th>\n",
       "      <th>Age</th>\n",
       "      <th>Tenure</th>\n",
       "      <th>Balance</th>\n",
       "      <th>NumOfProducts</th>\n",
       "      <th>HasCrCard</th>\n",
       "      <th>IsActiveMember</th>\n",
       "      <th>EstimatedSalary</th>\n",
       "      <th>Exited</th>\n",
       "    </tr>\n",
       "  </thead>\n",
       "  <tbody>\n",
       "    <tr>\n",
       "      <th>0</th>\n",
       "      <td>1</td>\n",
       "      <td>15634602</td>\n",
       "      <td>Hargrave</td>\n",
       "      <td>619</td>\n",
       "      <td>France</td>\n",
       "      <td>Female</td>\n",
       "      <td>42</td>\n",
       "      <td>2.0</td>\n",
       "      <td>0.00</td>\n",
       "      <td>1</td>\n",
       "      <td>1</td>\n",
       "      <td>1</td>\n",
       "      <td>101348.88</td>\n",
       "      <td>1</td>\n",
       "    </tr>\n",
       "    <tr>\n",
       "      <th>1</th>\n",
       "      <td>2</td>\n",
       "      <td>15647311</td>\n",
       "      <td>Hill</td>\n",
       "      <td>608</td>\n",
       "      <td>Spain</td>\n",
       "      <td>Female</td>\n",
       "      <td>41</td>\n",
       "      <td>1.0</td>\n",
       "      <td>83807.86</td>\n",
       "      <td>1</td>\n",
       "      <td>0</td>\n",
       "      <td>1</td>\n",
       "      <td>112542.58</td>\n",
       "      <td>0</td>\n",
       "    </tr>\n",
       "    <tr>\n",
       "      <th>2</th>\n",
       "      <td>3</td>\n",
       "      <td>15619304</td>\n",
       "      <td>Onio</td>\n",
       "      <td>502</td>\n",
       "      <td>France</td>\n",
       "      <td>Female</td>\n",
       "      <td>42</td>\n",
       "      <td>8.0</td>\n",
       "      <td>159660.80</td>\n",
       "      <td>3</td>\n",
       "      <td>1</td>\n",
       "      <td>0</td>\n",
       "      <td>113931.57</td>\n",
       "      <td>1</td>\n",
       "    </tr>\n",
       "    <tr>\n",
       "      <th>3</th>\n",
       "      <td>4</td>\n",
       "      <td>15701354</td>\n",
       "      <td>Boni</td>\n",
       "      <td>699</td>\n",
       "      <td>France</td>\n",
       "      <td>Female</td>\n",
       "      <td>39</td>\n",
       "      <td>1.0</td>\n",
       "      <td>0.00</td>\n",
       "      <td>2</td>\n",
       "      <td>0</td>\n",
       "      <td>0</td>\n",
       "      <td>93826.63</td>\n",
       "      <td>0</td>\n",
       "    </tr>\n",
       "    <tr>\n",
       "      <th>4</th>\n",
       "      <td>5</td>\n",
       "      <td>15737888</td>\n",
       "      <td>Mitchell</td>\n",
       "      <td>850</td>\n",
       "      <td>Spain</td>\n",
       "      <td>Female</td>\n",
       "      <td>43</td>\n",
       "      <td>2.0</td>\n",
       "      <td>125510.82</td>\n",
       "      <td>1</td>\n",
       "      <td>1</td>\n",
       "      <td>1</td>\n",
       "      <td>79084.10</td>\n",
       "      <td>0</td>\n",
       "    </tr>\n",
       "    <tr>\n",
       "      <th>...</th>\n",
       "      <td>...</td>\n",
       "      <td>...</td>\n",
       "      <td>...</td>\n",
       "      <td>...</td>\n",
       "      <td>...</td>\n",
       "      <td>...</td>\n",
       "      <td>...</td>\n",
       "      <td>...</td>\n",
       "      <td>...</td>\n",
       "      <td>...</td>\n",
       "      <td>...</td>\n",
       "      <td>...</td>\n",
       "      <td>...</td>\n",
       "      <td>...</td>\n",
       "    </tr>\n",
       "    <tr>\n",
       "      <th>9995</th>\n",
       "      <td>9996</td>\n",
       "      <td>15606229</td>\n",
       "      <td>Obijiaku</td>\n",
       "      <td>771</td>\n",
       "      <td>France</td>\n",
       "      <td>Male</td>\n",
       "      <td>39</td>\n",
       "      <td>5.0</td>\n",
       "      <td>0.00</td>\n",
       "      <td>2</td>\n",
       "      <td>1</td>\n",
       "      <td>0</td>\n",
       "      <td>96270.64</td>\n",
       "      <td>0</td>\n",
       "    </tr>\n",
       "    <tr>\n",
       "      <th>9996</th>\n",
       "      <td>9997</td>\n",
       "      <td>15569892</td>\n",
       "      <td>Johnstone</td>\n",
       "      <td>516</td>\n",
       "      <td>France</td>\n",
       "      <td>Male</td>\n",
       "      <td>35</td>\n",
       "      <td>10.0</td>\n",
       "      <td>57369.61</td>\n",
       "      <td>1</td>\n",
       "      <td>1</td>\n",
       "      <td>1</td>\n",
       "      <td>101699.77</td>\n",
       "      <td>0</td>\n",
       "    </tr>\n",
       "    <tr>\n",
       "      <th>9997</th>\n",
       "      <td>9998</td>\n",
       "      <td>15584532</td>\n",
       "      <td>Liu</td>\n",
       "      <td>709</td>\n",
       "      <td>France</td>\n",
       "      <td>Female</td>\n",
       "      <td>36</td>\n",
       "      <td>7.0</td>\n",
       "      <td>0.00</td>\n",
       "      <td>1</td>\n",
       "      <td>0</td>\n",
       "      <td>1</td>\n",
       "      <td>42085.58</td>\n",
       "      <td>1</td>\n",
       "    </tr>\n",
       "    <tr>\n",
       "      <th>9998</th>\n",
       "      <td>9999</td>\n",
       "      <td>15682355</td>\n",
       "      <td>Sabbatini</td>\n",
       "      <td>772</td>\n",
       "      <td>Germany</td>\n",
       "      <td>Male</td>\n",
       "      <td>42</td>\n",
       "      <td>3.0</td>\n",
       "      <td>75075.31</td>\n",
       "      <td>2</td>\n",
       "      <td>1</td>\n",
       "      <td>0</td>\n",
       "      <td>92888.52</td>\n",
       "      <td>1</td>\n",
       "    </tr>\n",
       "    <tr>\n",
       "      <th>9999</th>\n",
       "      <td>10000</td>\n",
       "      <td>15628319</td>\n",
       "      <td>Walker</td>\n",
       "      <td>792</td>\n",
       "      <td>France</td>\n",
       "      <td>Female</td>\n",
       "      <td>28</td>\n",
       "      <td>NaN</td>\n",
       "      <td>130142.79</td>\n",
       "      <td>1</td>\n",
       "      <td>1</td>\n",
       "      <td>0</td>\n",
       "      <td>38190.78</td>\n",
       "      <td>0</td>\n",
       "    </tr>\n",
       "  </tbody>\n",
       "</table>\n",
       "<p>10000 rows × 14 columns</p>\n",
       "</div>"
      ],
      "text/plain": [
       "      RowNumber  CustomerId    Surname  CreditScore Geography  Gender  Age  \\\n",
       "0             1    15634602   Hargrave          619    France  Female   42   \n",
       "1             2    15647311       Hill          608     Spain  Female   41   \n",
       "2             3    15619304       Onio          502    France  Female   42   \n",
       "3             4    15701354       Boni          699    France  Female   39   \n",
       "4             5    15737888   Mitchell          850     Spain  Female   43   \n",
       "...         ...         ...        ...          ...       ...     ...  ...   \n",
       "9995       9996    15606229   Obijiaku          771    France    Male   39   \n",
       "9996       9997    15569892  Johnstone          516    France    Male   35   \n",
       "9997       9998    15584532        Liu          709    France  Female   36   \n",
       "9998       9999    15682355  Sabbatini          772   Germany    Male   42   \n",
       "9999      10000    15628319     Walker          792    France  Female   28   \n",
       "\n",
       "      Tenure    Balance  NumOfProducts  HasCrCard  IsActiveMember  \\\n",
       "0        2.0       0.00              1          1               1   \n",
       "1        1.0   83807.86              1          0               1   \n",
       "2        8.0  159660.80              3          1               0   \n",
       "3        1.0       0.00              2          0               0   \n",
       "4        2.0  125510.82              1          1               1   \n",
       "...      ...        ...            ...        ...             ...   \n",
       "9995     5.0       0.00              2          1               0   \n",
       "9996    10.0   57369.61              1          1               1   \n",
       "9997     7.0       0.00              1          0               1   \n",
       "9998     3.0   75075.31              2          1               0   \n",
       "9999     NaN  130142.79              1          1               0   \n",
       "\n",
       "      EstimatedSalary  Exited  \n",
       "0           101348.88       1  \n",
       "1           112542.58       0  \n",
       "2           113931.57       1  \n",
       "3            93826.63       0  \n",
       "4            79084.10       0  \n",
       "...               ...     ...  \n",
       "9995         96270.64       0  \n",
       "9996        101699.77       0  \n",
       "9997         42085.58       1  \n",
       "9998         92888.52       1  \n",
       "9999         38190.78       0  \n",
       "\n",
       "[10000 rows x 14 columns]"
      ]
     },
     "execution_count": 4,
     "metadata": {},
     "output_type": "execute_result"
    }
   ],
   "source": [
    "df"
   ]
  },
  {
   "cell_type": "markdown",
   "metadata": {},
   "source": [
    "Изучим общую информацию о данных:"
   ]
  },
  {
   "cell_type": "code",
   "execution_count": 5,
   "metadata": {
    "scrolled": false
   },
   "outputs": [
    {
     "name": "stdout",
     "output_type": "stream",
     "text": [
      "<class 'pandas.core.frame.DataFrame'>\n",
      "RangeIndex: 10000 entries, 0 to 9999\n",
      "Data columns (total 14 columns):\n",
      " #   Column           Non-Null Count  Dtype  \n",
      "---  ------           --------------  -----  \n",
      " 0   RowNumber        10000 non-null  int64  \n",
      " 1   CustomerId       10000 non-null  int64  \n",
      " 2   Surname          10000 non-null  object \n",
      " 3   CreditScore      10000 non-null  int64  \n",
      " 4   Geography        10000 non-null  object \n",
      " 5   Gender           10000 non-null  object \n",
      " 6   Age              10000 non-null  int64  \n",
      " 7   Tenure           9091 non-null   float64\n",
      " 8   Balance          10000 non-null  float64\n",
      " 9   NumOfProducts    10000 non-null  int64  \n",
      " 10  HasCrCard        10000 non-null  int64  \n",
      " 11  IsActiveMember   10000 non-null  int64  \n",
      " 12  EstimatedSalary  10000 non-null  float64\n",
      " 13  Exited           10000 non-null  int64  \n",
      "dtypes: float64(3), int64(8), object(3)\n",
      "memory usage: 1.1+ MB\n"
     ]
    }
   ],
   "source": [
    "df.info()"
   ]
  },
  {
   "cell_type": "markdown",
   "metadata": {},
   "source": [
    "Рассмотрим максимальные и минимальные значения некоторых признаков для выявления ложных данных."
   ]
  },
  {
   "cell_type": "code",
   "execution_count": 6,
   "metadata": {
    "scrolled": true
   },
   "outputs": [
    {
     "data": {
      "text/html": [
       "<div>\n",
       "<style scoped>\n",
       "    .dataframe tbody tr th:only-of-type {\n",
       "        vertical-align: middle;\n",
       "    }\n",
       "\n",
       "    .dataframe tbody tr th {\n",
       "        vertical-align: top;\n",
       "    }\n",
       "\n",
       "    .dataframe thead th {\n",
       "        text-align: right;\n",
       "    }\n",
       "</style>\n",
       "<table border=\"1\" class=\"dataframe\">\n",
       "  <thead>\n",
       "    <tr style=\"text-align: right;\">\n",
       "      <th></th>\n",
       "      <th>RowNumber</th>\n",
       "      <th>CustomerId</th>\n",
       "      <th>CreditScore</th>\n",
       "      <th>Age</th>\n",
       "      <th>Tenure</th>\n",
       "      <th>Balance</th>\n",
       "      <th>NumOfProducts</th>\n",
       "      <th>HasCrCard</th>\n",
       "      <th>IsActiveMember</th>\n",
       "      <th>EstimatedSalary</th>\n",
       "      <th>Exited</th>\n",
       "    </tr>\n",
       "  </thead>\n",
       "  <tbody>\n",
       "    <tr>\n",
       "      <th>count</th>\n",
       "      <td>10000.00000</td>\n",
       "      <td>1.000000e+04</td>\n",
       "      <td>10000.000000</td>\n",
       "      <td>10000.000000</td>\n",
       "      <td>9091.000000</td>\n",
       "      <td>10000.000000</td>\n",
       "      <td>10000.000000</td>\n",
       "      <td>10000.00000</td>\n",
       "      <td>10000.000000</td>\n",
       "      <td>10000.000000</td>\n",
       "      <td>10000.000000</td>\n",
       "    </tr>\n",
       "    <tr>\n",
       "      <th>mean</th>\n",
       "      <td>5000.50000</td>\n",
       "      <td>1.569094e+07</td>\n",
       "      <td>650.528800</td>\n",
       "      <td>38.921800</td>\n",
       "      <td>4.997690</td>\n",
       "      <td>76485.889288</td>\n",
       "      <td>1.530200</td>\n",
       "      <td>0.70550</td>\n",
       "      <td>0.515100</td>\n",
       "      <td>100090.239881</td>\n",
       "      <td>0.203700</td>\n",
       "    </tr>\n",
       "    <tr>\n",
       "      <th>std</th>\n",
       "      <td>2886.89568</td>\n",
       "      <td>7.193619e+04</td>\n",
       "      <td>96.653299</td>\n",
       "      <td>10.487806</td>\n",
       "      <td>2.894723</td>\n",
       "      <td>62397.405202</td>\n",
       "      <td>0.581654</td>\n",
       "      <td>0.45584</td>\n",
       "      <td>0.499797</td>\n",
       "      <td>57510.492818</td>\n",
       "      <td>0.402769</td>\n",
       "    </tr>\n",
       "    <tr>\n",
       "      <th>min</th>\n",
       "      <td>1.00000</td>\n",
       "      <td>1.556570e+07</td>\n",
       "      <td>350.000000</td>\n",
       "      <td>18.000000</td>\n",
       "      <td>0.000000</td>\n",
       "      <td>0.000000</td>\n",
       "      <td>1.000000</td>\n",
       "      <td>0.00000</td>\n",
       "      <td>0.000000</td>\n",
       "      <td>11.580000</td>\n",
       "      <td>0.000000</td>\n",
       "    </tr>\n",
       "    <tr>\n",
       "      <th>25%</th>\n",
       "      <td>2500.75000</td>\n",
       "      <td>1.562853e+07</td>\n",
       "      <td>584.000000</td>\n",
       "      <td>32.000000</td>\n",
       "      <td>2.000000</td>\n",
       "      <td>0.000000</td>\n",
       "      <td>1.000000</td>\n",
       "      <td>0.00000</td>\n",
       "      <td>0.000000</td>\n",
       "      <td>51002.110000</td>\n",
       "      <td>0.000000</td>\n",
       "    </tr>\n",
       "    <tr>\n",
       "      <th>50%</th>\n",
       "      <td>5000.50000</td>\n",
       "      <td>1.569074e+07</td>\n",
       "      <td>652.000000</td>\n",
       "      <td>37.000000</td>\n",
       "      <td>5.000000</td>\n",
       "      <td>97198.540000</td>\n",
       "      <td>1.000000</td>\n",
       "      <td>1.00000</td>\n",
       "      <td>1.000000</td>\n",
       "      <td>100193.915000</td>\n",
       "      <td>0.000000</td>\n",
       "    </tr>\n",
       "    <tr>\n",
       "      <th>75%</th>\n",
       "      <td>7500.25000</td>\n",
       "      <td>1.575323e+07</td>\n",
       "      <td>718.000000</td>\n",
       "      <td>44.000000</td>\n",
       "      <td>7.000000</td>\n",
       "      <td>127644.240000</td>\n",
       "      <td>2.000000</td>\n",
       "      <td>1.00000</td>\n",
       "      <td>1.000000</td>\n",
       "      <td>149388.247500</td>\n",
       "      <td>0.000000</td>\n",
       "    </tr>\n",
       "    <tr>\n",
       "      <th>max</th>\n",
       "      <td>10000.00000</td>\n",
       "      <td>1.581569e+07</td>\n",
       "      <td>850.000000</td>\n",
       "      <td>92.000000</td>\n",
       "      <td>10.000000</td>\n",
       "      <td>250898.090000</td>\n",
       "      <td>4.000000</td>\n",
       "      <td>1.00000</td>\n",
       "      <td>1.000000</td>\n",
       "      <td>199992.480000</td>\n",
       "      <td>1.000000</td>\n",
       "    </tr>\n",
       "  </tbody>\n",
       "</table>\n",
       "</div>"
      ],
      "text/plain": [
       "         RowNumber    CustomerId   CreditScore           Age       Tenure  \\\n",
       "count  10000.00000  1.000000e+04  10000.000000  10000.000000  9091.000000   \n",
       "mean    5000.50000  1.569094e+07    650.528800     38.921800     4.997690   \n",
       "std     2886.89568  7.193619e+04     96.653299     10.487806     2.894723   \n",
       "min        1.00000  1.556570e+07    350.000000     18.000000     0.000000   \n",
       "25%     2500.75000  1.562853e+07    584.000000     32.000000     2.000000   \n",
       "50%     5000.50000  1.569074e+07    652.000000     37.000000     5.000000   \n",
       "75%     7500.25000  1.575323e+07    718.000000     44.000000     7.000000   \n",
       "max    10000.00000  1.581569e+07    850.000000     92.000000    10.000000   \n",
       "\n",
       "             Balance  NumOfProducts    HasCrCard  IsActiveMember  \\\n",
       "count   10000.000000   10000.000000  10000.00000    10000.000000   \n",
       "mean    76485.889288       1.530200      0.70550        0.515100   \n",
       "std     62397.405202       0.581654      0.45584        0.499797   \n",
       "min         0.000000       1.000000      0.00000        0.000000   \n",
       "25%         0.000000       1.000000      0.00000        0.000000   \n",
       "50%     97198.540000       1.000000      1.00000        1.000000   \n",
       "75%    127644.240000       2.000000      1.00000        1.000000   \n",
       "max    250898.090000       4.000000      1.00000        1.000000   \n",
       "\n",
       "       EstimatedSalary        Exited  \n",
       "count     10000.000000  10000.000000  \n",
       "mean     100090.239881      0.203700  \n",
       "std       57510.492818      0.402769  \n",
       "min          11.580000      0.000000  \n",
       "25%       51002.110000      0.000000  \n",
       "50%      100193.915000      0.000000  \n",
       "75%      149388.247500      0.000000  \n",
       "max      199992.480000      1.000000  "
      ]
     },
     "execution_count": 6,
     "metadata": {},
     "output_type": "execute_result"
    }
   ],
   "source": [
    "df.describe()"
   ]
  },
  {
   "cell_type": "markdown",
   "metadata": {},
   "source": [
    "Значения выглядят корректными во всех признаках кроме `EstimatedSalary` - минимальное значение сильно отличается от остальных значений в столбце и от числа, указывающего на зарплату. Квартили также похожи на то, что распределение линейно.\n",
    "\n",
    "Рассмотрим распределения корректных признаков:"
   ]
  },
  {
   "cell_type": "code",
   "execution_count": 7,
   "metadata": {
    "scrolled": false
   },
   "outputs": [
    {
     "data": {
      "image/png": "[encoded data removed]",
      "text/plain": [
       "<Figure size 1152x432 with 6 Axes>"
      ]
     },
     "metadata": {
      "needs_background": "light"
     },
     "output_type": "display_data"
    }
   ],
   "source": [
    "plt.rcParams[\"figure.figsize\"] = (16,6)\n",
    "plt.subplot (2, 3, 1)\n",
    "plt.hist(df['CreditScore'], bins=20)\n",
    "plt.title('CreditScore')\n",
    "plt.subplot (2, 3, 2)\n",
    "plt.hist(df['Age'], bins=20)\n",
    "plt.title('Age')\n",
    "plt.subplot (2, 3, 3)\n",
    "plt.hist(df['Tenure'], bins=11)\n",
    "plt.title('Tenure')\n",
    "plt.subplot (2, 3, 4)\n",
    "plt.hist(df['Balance'], bins=20)\n",
    "plt.title('Balance')\n",
    "plt.subplot (2, 3, 5)\n",
    "plt.hist(df['NumOfProducts'], bins=4)\n",
    "plt.title('NumOfProducts')\n",
    "plt.subplot (2, 3, 6)\n",
    "plt.hist(df['EstimatedSalary'], bins=100)\n",
    "plt.title('EstimatedSalary')\n",
    "plt.show()"
   ]
  },
  {
   "cell_type": "markdown",
   "metadata": {},
   "source": [
    "На графиках распределений обнаружены следующие аномалии:\n",
    "1. Кредитный рейтинг распределён нормально, но ограничен сверху при значении 850. Преполагаемым более высоким значениям присваивается рейтинг 850. \n",
    "2. Основная часть графика балансов имеет распределение близкое к нормальному, но также существует значительное количество нулевых значений. Необходимо рассмотреть разбиение объектов на две категории - с нулевым и ненулевым балансом.\n",
    "3. Отсутствие плотностей концентрации зарплат. Настоящее распределение заработных плат должно иметь разные области концентрации с низким количеством околонулевых и максимальных значений. Предполагаем, что значения в признаке были сгенерированы случайно или высчитаны ошибочно."
   ]
  },
  {
   "cell_type": "markdown",
   "metadata": {},
   "source": [
    "В данных пропущены значения в признаке `Tenure`. Судя по графику, значения распределены с примерно равной вероятностью от 1 до 9 лет, 0 и 10 лет - более редкие значения. Рассмотрим, есть ли какая-то закономерность."
   ]
  },
  {
   "cell_type": "code",
   "execution_count": 8,
   "metadata": {},
   "outputs": [
    {
     "data": {
      "image/png": "[encoded data removed]",
      "text/plain": [
       "<Figure size 1152x288 with 3 Axes>"
      ]
     },
     "metadata": {
      "needs_background": "light"
     },
     "output_type": "display_data"
    }
   ],
   "source": [
    "# Возможно, у самых новых или самых старых клиентов уже нет денег на счету.\n",
    "plt.rcParams[\"figure.figsize\"] = (16,4)\n",
    "plt.subplot (1, 3, 1)\n",
    "plt.hist(df.query('Tenure == 0')['Balance'], bins=20)\n",
    "plt.title('Balance, Tenure=0')\n",
    "plt.subplot (1, 3, 2)\n",
    "plt.hist(df.query('Tenure == 10')['Balance'], bins=20)\n",
    "plt.title('Balance, Tenure=10')\n",
    "plt.subplot (1, 3, 3)\n",
    "plt.hist(df.query('Tenure != 10 & Tenure != 0')['Balance'], bins=20)\n",
    "plt.title('Balance, Tenure=1..9')\n",
    "plt.show()"
   ]
  },
  {
   "cell_type": "markdown",
   "metadata": {},
   "source": [
    "Распределение нулевых и ненулевых балансов мало отличаются друг от друга и от общей массы клиентов."
   ]
  },
  {
   "cell_type": "code",
   "execution_count": 9,
   "metadata": {
    "scrolled": true
   },
   "outputs": [
    {
     "data": {
      "image/png": "[encoded data removed]",
      "text/plain": [
       "<Figure size 1152x288 with 3 Axes>"
      ]
     },
     "metadata": {
      "needs_background": "light"
     },
     "output_type": "display_data"
    }
   ],
   "source": [
    "# Возможно, у самых новых или самых старых клиентов кредитный рейтинг отличается\n",
    "plt.rcParams[\"figure.figsize\"] = (16,4)\n",
    "plt.subplot (1, 3, 1)\n",
    "plt.hist(df.query('Tenure == 0')['CreditScore'], bins=20)\n",
    "plt.title('CreditScore, Tenure=0')\n",
    "plt.subplot (1, 3, 2)\n",
    "plt.hist(df.query('Tenure == 10')['CreditScore'], bins=20)\n",
    "plt.title('CreditScore, Tenure=10')\n",
    "plt.subplot (1, 3, 3)\n",
    "plt.hist(df.query('Tenure != 10 & Tenure != 0')['CreditScore'], bins=20)\n",
    "plt.title('CreditScore, Tenure=1..9')\n",
    "plt.show()"
   ]
  },
  {
   "cell_type": "markdown",
   "metadata": {},
   "source": [
    "Распределения аналогичны, близки к нормальным с пиком на значениях 850."
   ]
  },
  {
   "cell_type": "code",
   "execution_count": 10,
   "metadata": {
    "scrolled": true
   },
   "outputs": [
    {
     "data": {
      "image/png": "[encoded data removed]",
      "text/plain": [
       "<Figure size 1152x288 with 3 Axes>"
      ]
     },
     "metadata": {
      "needs_background": "light"
     },
     "output_type": "display_data"
    }
   ],
   "source": [
    "# Возможно, у самых новых или самых старых клиентов отличеются количество продуктов.\n",
    "# Вероятность мала, но необходимо убедиться.\n",
    "plt.rcParams[\"figure.figsize\"] = (16,4)\n",
    "plt.subplot (1, 3, 1)\n",
    "plt.hist(df.query('Tenure == 0')['NumOfProducts'], bins=3)\n",
    "plt.title('NumOfProducts, Tenure=0')\n",
    "plt.subplot (1, 3, 2)\n",
    "plt.hist(df.query('Tenure == 10')['NumOfProducts'], bins=4)\n",
    "plt.title('NumOfProducts, Tenure=10')\n",
    "plt.subplot (1, 3, 3)\n",
    "plt.hist(df.query('Tenure != 10 & Tenure != 0')['NumOfProducts'], bins=4)\n",
    "plt.title('NumOfProducts, Tenure=1..9')\n",
    "plt.show()"
   ]
  },
  {
   "cell_type": "markdown",
   "metadata": {},
   "source": [
    "Распределение незначительно отличается при Tenure=0, но явной зависимости, критично влияющей на анализ, нет."
   ]
  },
  {
   "cell_type": "markdown",
   "metadata": {},
   "source": [
    "Рассмотрим количество стран, представленных в датафрейме, и возможность распределить их по категориям."
   ]
  },
  {
   "cell_type": "code",
   "execution_count": 11,
   "metadata": {},
   "outputs": [
    {
     "data": {
      "text/plain": [
       "France     5014\n",
       "Germany    2509\n",
       "Spain      2477\n",
       "Name: Geography, dtype: int64"
      ]
     },
     "execution_count": 11,
     "metadata": {},
     "output_type": "execute_result"
    }
   ],
   "source": [
    "df['Geography'].value_counts()"
   ]
  },
  {
   "cell_type": "markdown",
   "metadata": {},
   "source": [
    "В данных имеются три страны. Количество объектов для каждой страны достаточное для качественного анализа, но значения находятся в дисбалансе: France:Germany:Spain - 2:1:1."
   ]
  },
  {
   "cell_type": "markdown",
   "metadata": {},
   "source": [
    "Проверим данные на дубликаты."
   ]
  },
  {
   "cell_type": "code",
   "execution_count": 12,
   "metadata": {},
   "outputs": [
    {
     "data": {
      "text/plain": [
       "0"
      ]
     },
     "execution_count": 12,
     "metadata": {},
     "output_type": "execute_result"
    }
   ],
   "source": [
    "df.duplicated().sum()"
   ]
  },
  {
   "cell_type": "markdown",
   "metadata": {},
   "source": [
    "Проверим баланс целевых признаков."
   ]
  },
  {
   "cell_type": "code",
   "execution_count": 13,
   "metadata": {},
   "outputs": [
    {
     "data": {
      "text/plain": [
       "0    0.7963\n",
       "1    0.2037\n",
       "Name: Exited, dtype: float64"
      ]
     },
     "execution_count": 13,
     "metadata": {},
     "output_type": "execute_result"
    }
   ],
   "source": [
    "df['Exited'].value_counts(normalize=True)"
   ]
  },
  {
   "cell_type": "markdown",
   "metadata": {},
   "source": [
    "В данных наблюдается сильный перевес в пользу \"0\" в целевом признаке. Необходимо это учесть при дальнейшей оценке адекватности модели."
   ]
  },
  {
   "cell_type": "markdown",
   "metadata": {},
   "source": [
    "### План по предобработке данных"
   ]
  },
  {
   "cell_type": "markdown",
   "metadata": {},
   "source": [
    "В результате изучения предоставленных данных были выявлены несоответствия, дальнейшие шаги по предобработке:"
   ]
  },
  {
   "cell_type": "markdown",
   "metadata": {},
   "source": [
    "1. Приведение наименований признаков к нижнему регистру и змеиному стилю написания.\n",
    "2. Заполнение пропусков признака `Tenure`.\n",
    "3. Изменение типа данных признака `Tenure` на `int`.\n",
    "4. Очищение датафрейма от столбцов `RowNumber`, `CustomerId`, `Surname`, так как эти данные не коррелируют с поведением клиента.\n",
    "5. Преобразование признака `Geography` в численные категории.\n",
    "6. Преобразование признака `Gender` в численные категории.\n",
    "7. Масштабирование признаков."
   ]
  },
  {
   "cell_type": "markdown",
   "metadata": {},
   "source": [
    "### Предобработка данных"
   ]
  },
  {
   "cell_type": "markdown",
   "metadata": {},
   "source": [
    "#### Создание очищенного датафрейма от лишних признаков"
   ]
  },
  {
   "cell_type": "code",
   "execution_count": 14,
   "metadata": {},
   "outputs": [],
   "source": [
    "# исходный датафрейм не понадобится в текущем исследовании, перезаписываем переменную df\n",
    "df = df.drop(columns=['RowNumber', 'CustomerId', 'Surname'])"
   ]
  },
  {
   "cell_type": "code",
   "execution_count": 15,
   "metadata": {
    "scrolled": true
   },
   "outputs": [
    {
     "data": {
      "text/plain": [
       "Index(['CreditScore', 'Geography', 'Gender', 'Age', 'Tenure', 'Balance',\n",
       "       'NumOfProducts', 'HasCrCard', 'IsActiveMember', 'EstimatedSalary',\n",
       "       'Exited'],\n",
       "      dtype='object')"
      ]
     },
     "execution_count": 15,
     "metadata": {},
     "output_type": "execute_result"
    }
   ],
   "source": [
    "df.columns"
   ]
  },
  {
   "cell_type": "markdown",
   "metadata": {},
   "source": [
    "#### Приведение столбцов к единому написанию"
   ]
  },
  {
   "cell_type": "code",
   "execution_count": 16,
   "metadata": {},
   "outputs": [],
   "source": [
    "df.columns = df.columns.str.lower()\n",
    "df = df.rename(columns={'creditscore': 'credit_score',\n",
    "                       'numofproducts': 'num_of_products',\n",
    "                       'hascrcard': 'has_credit_card',\n",
    "                       'isactivemember': 'is_active_member',\n",
    "                       'estimatedsalary': 'estimated_salary'\n",
    "                       })"
   ]
  },
  {
   "cell_type": "code",
   "execution_count": 17,
   "metadata": {},
   "outputs": [
    {
     "data": {
      "text/plain": [
       "Index(['credit_score', 'geography', 'gender', 'age', 'tenure', 'balance',\n",
       "       'num_of_products', 'has_credit_card', 'is_active_member',\n",
       "       'estimated_salary', 'exited'],\n",
       "      dtype='object')"
      ]
     },
     "execution_count": 17,
     "metadata": {},
     "output_type": "execute_result"
    }
   ],
   "source": [
    "df.columns"
   ]
  },
  {
   "cell_type": "markdown",
   "metadata": {},
   "source": [
    "#### Создание дамми-признаков"
   ]
  },
  {
   "cell_type": "code",
   "execution_count": 18,
   "metadata": {},
   "outputs": [],
   "source": [
    "# Перезапишем имеющийся датафрейм\n",
    "df = pd.get_dummies(df, drop_first=True)"
   ]
  },
  {
   "cell_type": "code",
   "execution_count": 19,
   "metadata": {
    "scrolled": false
   },
   "outputs": [
    {
     "data": {
      "text/html": [
       "<div>\n",
       "<style scoped>\n",
       "    .dataframe tbody tr th:only-of-type {\n",
       "        vertical-align: middle;\n",
       "    }\n",
       "\n",
       "    .dataframe tbody tr th {\n",
       "        vertical-align: top;\n",
       "    }\n",
       "\n",
       "    .dataframe thead th {\n",
       "        text-align: right;\n",
       "    }\n",
       "</style>\n",
       "<table border=\"1\" class=\"dataframe\">\n",
       "  <thead>\n",
       "    <tr style=\"text-align: right;\">\n",
       "      <th></th>\n",
       "      <th>credit_score</th>\n",
       "      <th>age</th>\n",
       "      <th>tenure</th>\n",
       "      <th>balance</th>\n",
       "      <th>num_of_products</th>\n",
       "      <th>has_credit_card</th>\n",
       "      <th>is_active_member</th>\n",
       "      <th>estimated_salary</th>\n",
       "      <th>exited</th>\n",
       "      <th>geography_germany</th>\n",
       "      <th>geography_spain</th>\n",
       "      <th>is_male</th>\n",
       "    </tr>\n",
       "  </thead>\n",
       "  <tbody>\n",
       "    <tr>\n",
       "      <th>0</th>\n",
       "      <td>619</td>\n",
       "      <td>42</td>\n",
       "      <td>2.0</td>\n",
       "      <td>0.00</td>\n",
       "      <td>1</td>\n",
       "      <td>1</td>\n",
       "      <td>1</td>\n",
       "      <td>101348.88</td>\n",
       "      <td>1</td>\n",
       "      <td>0</td>\n",
       "      <td>0</td>\n",
       "      <td>0</td>\n",
       "    </tr>\n",
       "    <tr>\n",
       "      <th>1</th>\n",
       "      <td>608</td>\n",
       "      <td>41</td>\n",
       "      <td>1.0</td>\n",
       "      <td>83807.86</td>\n",
       "      <td>1</td>\n",
       "      <td>0</td>\n",
       "      <td>1</td>\n",
       "      <td>112542.58</td>\n",
       "      <td>0</td>\n",
       "      <td>0</td>\n",
       "      <td>1</td>\n",
       "      <td>0</td>\n",
       "    </tr>\n",
       "    <tr>\n",
       "      <th>2</th>\n",
       "      <td>502</td>\n",
       "      <td>42</td>\n",
       "      <td>8.0</td>\n",
       "      <td>159660.80</td>\n",
       "      <td>3</td>\n",
       "      <td>1</td>\n",
       "      <td>0</td>\n",
       "      <td>113931.57</td>\n",
       "      <td>1</td>\n",
       "      <td>0</td>\n",
       "      <td>0</td>\n",
       "      <td>0</td>\n",
       "    </tr>\n",
       "    <tr>\n",
       "      <th>3</th>\n",
       "      <td>699</td>\n",
       "      <td>39</td>\n",
       "      <td>1.0</td>\n",
       "      <td>0.00</td>\n",
       "      <td>2</td>\n",
       "      <td>0</td>\n",
       "      <td>0</td>\n",
       "      <td>93826.63</td>\n",
       "      <td>0</td>\n",
       "      <td>0</td>\n",
       "      <td>0</td>\n",
       "      <td>0</td>\n",
       "    </tr>\n",
       "    <tr>\n",
       "      <th>4</th>\n",
       "      <td>850</td>\n",
       "      <td>43</td>\n",
       "      <td>2.0</td>\n",
       "      <td>125510.82</td>\n",
       "      <td>1</td>\n",
       "      <td>1</td>\n",
       "      <td>1</td>\n",
       "      <td>79084.10</td>\n",
       "      <td>0</td>\n",
       "      <td>0</td>\n",
       "      <td>1</td>\n",
       "      <td>0</td>\n",
       "    </tr>\n",
       "    <tr>\n",
       "      <th>...</th>\n",
       "      <td>...</td>\n",
       "      <td>...</td>\n",
       "      <td>...</td>\n",
       "      <td>...</td>\n",
       "      <td>...</td>\n",
       "      <td>...</td>\n",
       "      <td>...</td>\n",
       "      <td>...</td>\n",
       "      <td>...</td>\n",
       "      <td>...</td>\n",
       "      <td>...</td>\n",
       "      <td>...</td>\n",
       "    </tr>\n",
       "    <tr>\n",
       "      <th>9995</th>\n",
       "      <td>771</td>\n",
       "      <td>39</td>\n",
       "      <td>5.0</td>\n",
       "      <td>0.00</td>\n",
       "      <td>2</td>\n",
       "      <td>1</td>\n",
       "      <td>0</td>\n",
       "      <td>96270.64</td>\n",
       "      <td>0</td>\n",
       "      <td>0</td>\n",
       "      <td>0</td>\n",
       "      <td>1</td>\n",
       "    </tr>\n",
       "    <tr>\n",
       "      <th>9996</th>\n",
       "      <td>516</td>\n",
       "      <td>35</td>\n",
       "      <td>10.0</td>\n",
       "      <td>57369.61</td>\n",
       "      <td>1</td>\n",
       "      <td>1</td>\n",
       "      <td>1</td>\n",
       "      <td>101699.77</td>\n",
       "      <td>0</td>\n",
       "      <td>0</td>\n",
       "      <td>0</td>\n",
       "      <td>1</td>\n",
       "    </tr>\n",
       "    <tr>\n",
       "      <th>9997</th>\n",
       "      <td>709</td>\n",
       "      <td>36</td>\n",
       "      <td>7.0</td>\n",
       "      <td>0.00</td>\n",
       "      <td>1</td>\n",
       "      <td>0</td>\n",
       "      <td>1</td>\n",
       "      <td>42085.58</td>\n",
       "      <td>1</td>\n",
       "      <td>0</td>\n",
       "      <td>0</td>\n",
       "      <td>0</td>\n",
       "    </tr>\n",
       "    <tr>\n",
       "      <th>9998</th>\n",
       "      <td>772</td>\n",
       "      <td>42</td>\n",
       "      <td>3.0</td>\n",
       "      <td>75075.31</td>\n",
       "      <td>2</td>\n",
       "      <td>1</td>\n",
       "      <td>0</td>\n",
       "      <td>92888.52</td>\n",
       "      <td>1</td>\n",
       "      <td>1</td>\n",
       "      <td>0</td>\n",
       "      <td>1</td>\n",
       "    </tr>\n",
       "    <tr>\n",
       "      <th>9999</th>\n",
       "      <td>792</td>\n",
       "      <td>28</td>\n",
       "      <td>NaN</td>\n",
       "      <td>130142.79</td>\n",
       "      <td>1</td>\n",
       "      <td>1</td>\n",
       "      <td>0</td>\n",
       "      <td>38190.78</td>\n",
       "      <td>0</td>\n",
       "      <td>0</td>\n",
       "      <td>0</td>\n",
       "      <td>0</td>\n",
       "    </tr>\n",
       "  </tbody>\n",
       "</table>\n",
       "<p>10000 rows × 12 columns</p>\n",
       "</div>"
      ],
      "text/plain": [
       "      credit_score  age  tenure    balance  num_of_products  has_credit_card  \\\n",
       "0              619   42     2.0       0.00                1                1   \n",
       "1              608   41     1.0   83807.86                1                0   \n",
       "2              502   42     8.0  159660.80                3                1   \n",
       "3              699   39     1.0       0.00                2                0   \n",
       "4              850   43     2.0  125510.82                1                1   \n",
       "...            ...  ...     ...        ...              ...              ...   \n",
       "9995           771   39     5.0       0.00                2                1   \n",
       "9996           516   35    10.0   57369.61                1                1   \n",
       "9997           709   36     7.0       0.00                1                0   \n",
       "9998           772   42     3.0   75075.31                2                1   \n",
       "9999           792   28     NaN  130142.79                1                1   \n",
       "\n",
       "      is_active_member  estimated_salary  exited  geography_germany  \\\n",
       "0                    1         101348.88       1                  0   \n",
       "1                    1         112542.58       0                  0   \n",
       "2                    0         113931.57       1                  0   \n",
       "3                    0          93826.63       0                  0   \n",
       "4                    1          79084.10       0                  0   \n",
       "...                ...               ...     ...                ...   \n",
       "9995                 0          96270.64       0                  0   \n",
       "9996                 1         101699.77       0                  0   \n",
       "9997                 1          42085.58       1                  0   \n",
       "9998                 0          92888.52       1                  1   \n",
       "9999                 0          38190.78       0                  0   \n",
       "\n",
       "      geography_spain  is_male  \n",
       "0                   0        0  \n",
       "1                   1        0  \n",
       "2                   0        0  \n",
       "3                   0        0  \n",
       "4                   1        0  \n",
       "...               ...      ...  \n",
       "9995                0        1  \n",
       "9996                0        1  \n",
       "9997                0        0  \n",
       "9998                0        1  \n",
       "9999                0        0  \n",
       "\n",
       "[10000 rows x 12 columns]"
      ]
     },
     "execution_count": 19,
     "metadata": {},
     "output_type": "execute_result"
    }
   ],
   "source": [
    "df.columns = df.columns.str.lower()\n",
    "df = df.rename(columns={'gender_male': 'is_male'}) \n",
    "df"
   ]
  },
  {
   "cell_type": "markdown",
   "metadata": {},
   "source": [
    "#### Обработка столбца `tenure`"
   ]
  },
  {
   "cell_type": "markdown",
   "metadata": {},
   "source": [
    "Значение `tenure` имеет особенный характер распределения, необходимо сохранить это распределение, чтобы минимально исказить результат.\n",
    "\n",
    "Так как ранее мы не выявили прямой зависимости, заполним пропуски случайными значениями от 0 до 10 с соответствующей вероятностью."
   ]
  },
  {
   "cell_type": "code",
   "execution_count": 20,
   "metadata": {},
   "outputs": [],
   "source": [
    "# Считаем вероятность получить определённый tenure \n",
    "weights = df['tenure'].value_counts(normalize=True).sort_index().to_list()"
   ]
  },
  {
   "cell_type": "code",
   "execution_count": 21,
   "metadata": {},
   "outputs": [
    {
     "data": {
      "text/plain": [
       "0.0     382\n",
       "1.0     952\n",
       "2.0     950\n",
       "3.0     928\n",
       "4.0     885\n",
       "5.0     927\n",
       "6.0     881\n",
       "7.0     925\n",
       "8.0     933\n",
       "9.0     882\n",
       "10.0    446\n",
       "Name: tenure, dtype: int64"
      ]
     },
     "execution_count": 21,
     "metadata": {},
     "output_type": "execute_result"
    }
   ],
   "source": [
    "# Примерно вспоминаем распределение значений\n",
    "df['tenure'].value_counts().sort_index()"
   ]
  },
  {
   "cell_type": "markdown",
   "metadata": {},
   "source": [
    "Заменяем пропуски на случайное значение tenure с определённой вероятностью:"
   ]
  },
  {
   "cell_type": "code",
   "execution_count": 22,
   "metadata": {},
   "outputs": [],
   "source": [
    "np.random.seed(666) # Вероятности распределены, но лучше перестраховаться :)\n",
    "df.loc[df['tenure'].isna(), 'tenure'] = np.random.choice(list(range(0, 11)), size=df['tenure'].isna().sum(), p=weights)"
   ]
  },
  {
   "cell_type": "code",
   "execution_count": 23,
   "metadata": {},
   "outputs": [
    {
     "data": {
      "text/plain": [
       "0.0      422\n",
       "1.0     1049\n",
       "2.0     1042\n",
       "3.0     1021\n",
       "4.0      986\n",
       "5.0     1022\n",
       "6.0      961\n",
       "7.0     1022\n",
       "8.0     1016\n",
       "9.0      966\n",
       "10.0     493\n",
       "Name: tenure, dtype: int64"
      ]
     },
     "execution_count": 23,
     "metadata": {},
     "output_type": "execute_result"
    }
   ],
   "source": [
    "df['tenure'].value_counts().sort_index()"
   ]
  },
  {
   "cell_type": "code",
   "execution_count": 24,
   "metadata": {},
   "outputs": [
    {
     "data": {
      "image/png": "[encoded data removed]",
      "text/plain": [
       "<Figure size 360x216 with 1 Axes>"
      ]
     },
     "metadata": {
      "needs_background": "light"
     },
     "output_type": "display_data"
    }
   ],
   "source": [
    "plt.rcParams[\"figure.figsize\"] = (5, 3)\n",
    "plt.hist(df['tenure'], bins=11)\n",
    "plt.title('tenure');"
   ]
  },
  {
   "cell_type": "markdown",
   "metadata": {},
   "source": [
    "Распределение похоже на начальное, данные изменились минимально"
   ]
  },
  {
   "cell_type": "markdown",
   "metadata": {},
   "source": [
    "Переведём значения в признаке в `int`."
   ]
  },
  {
   "cell_type": "code",
   "execution_count": 25,
   "metadata": {},
   "outputs": [],
   "source": [
    "df['tenure'] = df['tenure'].astype('int16')"
   ]
  },
  {
   "cell_type": "code",
   "execution_count": 26,
   "metadata": {},
   "outputs": [
    {
     "name": "stdout",
     "output_type": "stream",
     "text": [
      "<class 'pandas.core.frame.DataFrame'>\n",
      "RangeIndex: 10000 entries, 0 to 9999\n",
      "Data columns (total 12 columns):\n",
      " #   Column             Non-Null Count  Dtype  \n",
      "---  ------             --------------  -----  \n",
      " 0   credit_score       10000 non-null  int64  \n",
      " 1   age                10000 non-null  int64  \n",
      " 2   tenure             10000 non-null  int16  \n",
      " 3   balance            10000 non-null  float64\n",
      " 4   num_of_products    10000 non-null  int64  \n",
      " 5   has_credit_card    10000 non-null  int64  \n",
      " 6   is_active_member   10000 non-null  int64  \n",
      " 7   estimated_salary   10000 non-null  float64\n",
      " 8   exited             10000 non-null  int64  \n",
      " 9   geography_germany  10000 non-null  uint8  \n",
      " 10  geography_spain    10000 non-null  uint8  \n",
      " 11  is_male            10000 non-null  uint8  \n",
      "dtypes: float64(2), int16(1), int64(6), uint8(3)\n",
      "memory usage: 674.0 KB\n"
     ]
    }
   ],
   "source": [
    "df.info()"
   ]
  },
  {
   "cell_type": "markdown",
   "metadata": {},
   "source": [
    "#### Масштабирование признаков"
   ]
  },
  {
   "cell_type": "markdown",
   "metadata": {},
   "source": [
    "В данных имеются значения, отличающиеся на несколько порядков между признаками. Для корректного обучения модели необходимо уравнять веса признаков, применив стандартизацию данных.\n",
    "\n",
    "Перед стандартизацией данных необходимо отобрать валидационную и тестовую выборку."
   ]
  },
  {
   "cell_type": "code",
   "execution_count": 27,
   "metadata": {},
   "outputs": [
    {
     "name": "stdout",
     "output_type": "stream",
     "text": [
      "7500\n",
      "2500\n"
     ]
    }
   ],
   "source": [
    "target = df['exited']\n",
    "features = df.drop(['exited'], axis=1)\n",
    "\n",
    "features_train, features_test, target_train, target_test = train_test_split(\n",
    "    features, target, test_size=0.25, random_state=888, stratify=target)\n",
    "\n",
    "#Проверяем:\n",
    "print(len(features_train))\n",
    "print(len(features_test))\n"
   ]
  },
  {
   "cell_type": "code",
   "execution_count": 28,
   "metadata": {},
   "outputs": [],
   "source": [
    "numeric = ['credit_score', 'age', 'tenure', 'num_of_products', 'estimated_salary', 'balance']"
   ]
  },
  {
   "cell_type": "code",
   "execution_count": 29,
   "metadata": {
    "scrolled": false
   },
   "outputs": [
    {
     "data": {
      "image/png": "[encoded data removed]",
      "text/plain": [
       "<Figure size 1152x432 with 6 Axes>"
      ]
     },
     "metadata": {
      "needs_background": "light"
     },
     "output_type": "display_data"
    }
   ],
   "source": [
    "scaler = StandardScaler()\n",
    "scaler.fit(features_train[numeric])\n",
    "\n",
    "features_train[numeric] = scaler.transform(features_train[numeric])\n",
    "features_test[numeric] = scaler.transform(features_test[numeric])\n",
    "\n",
    "plt.rcParams[\"figure.figsize\"] = (16,6)\n",
    "plt.subplot (2, 3, 1)\n",
    "plt.hist(features_train['credit_score'], bins=20)\n",
    "plt.title('credit_score')\n",
    "plt.subplot (2, 3, 2)\n",
    "plt.hist(features_train['age'], bins=20)\n",
    "plt.title('age')\n",
    "plt.subplot (2, 3, 3)\n",
    "plt.hist(features_train['tenure'], bins=11) \n",
    "plt.title('tenure')\n",
    "plt.subplot (2, 3, 4)\n",
    "plt.hist(features_train['balance'], bins=20)\n",
    "plt.title('balance')\n",
    "plt.subplot (2, 3, 5)\n",
    "plt.hist(features_train['num_of_products'], bins=4)\n",
    "plt.title('num_of_products')\n",
    "plt.subplot (2, 3, 6)\n",
    "plt.hist(features_train['estimated_salary'], bins=100)\n",
    "plt.title('estimated_salary')\n",
    "plt.show()"
   ]
  },
  {
   "cell_type": "code",
   "execution_count": 30,
   "metadata": {},
   "outputs": [
    {
     "data": {
      "text/html": [
       "<div>\n",
       "<style scoped>\n",
       "    .dataframe tbody tr th:only-of-type {\n",
       "        vertical-align: middle;\n",
       "    }\n",
       "\n",
       "    .dataframe tbody tr th {\n",
       "        vertical-align: top;\n",
       "    }\n",
       "\n",
       "    .dataframe thead th {\n",
       "        text-align: right;\n",
       "    }\n",
       "</style>\n",
       "<table border=\"1\" class=\"dataframe\">\n",
       "  <thead>\n",
       "    <tr style=\"text-align: right;\">\n",
       "      <th></th>\n",
       "      <th>credit_score</th>\n",
       "      <th>age</th>\n",
       "      <th>tenure</th>\n",
       "      <th>balance</th>\n",
       "      <th>num_of_products</th>\n",
       "      <th>has_credit_card</th>\n",
       "      <th>is_active_member</th>\n",
       "      <th>estimated_salary</th>\n",
       "      <th>geography_germany</th>\n",
       "      <th>geography_spain</th>\n",
       "      <th>is_male</th>\n",
       "    </tr>\n",
       "  </thead>\n",
       "  <tbody>\n",
       "    <tr>\n",
       "      <th>1771</th>\n",
       "      <td>-0.525584</td>\n",
       "      <td>-0.184538</td>\n",
       "      <td>0.338667</td>\n",
       "      <td>1.059695</td>\n",
       "      <td>-0.909003</td>\n",
       "      <td>0</td>\n",
       "      <td>1</td>\n",
       "      <td>-0.201030</td>\n",
       "      <td>0</td>\n",
       "      <td>0</td>\n",
       "      <td>1</td>\n",
       "    </tr>\n",
       "    <tr>\n",
       "      <th>3704</th>\n",
       "      <td>-0.484195</td>\n",
       "      <td>-0.471702</td>\n",
       "      <td>0.683121</td>\n",
       "      <td>-1.218337</td>\n",
       "      <td>0.813029</td>\n",
       "      <td>1</td>\n",
       "      <td>0</td>\n",
       "      <td>1.618841</td>\n",
       "      <td>0</td>\n",
       "      <td>0</td>\n",
       "      <td>0</td>\n",
       "    </tr>\n",
       "    <tr>\n",
       "      <th>9688</th>\n",
       "      <td>2.061257</td>\n",
       "      <td>2.782826</td>\n",
       "      <td>-0.005787</td>\n",
       "      <td>1.487345</td>\n",
       "      <td>-0.909003</td>\n",
       "      <td>1</td>\n",
       "      <td>1</td>\n",
       "      <td>1.502231</td>\n",
       "      <td>0</td>\n",
       "      <td>0</td>\n",
       "      <td>1</td>\n",
       "    </tr>\n",
       "    <tr>\n",
       "      <th>4740</th>\n",
       "      <td>-1.198163</td>\n",
       "      <td>-0.854588</td>\n",
       "      <td>0.338667</td>\n",
       "      <td>0.439208</td>\n",
       "      <td>-0.909003</td>\n",
       "      <td>1</td>\n",
       "      <td>1</td>\n",
       "      <td>0.444952</td>\n",
       "      <td>0</td>\n",
       "      <td>0</td>\n",
       "      <td>1</td>\n",
       "    </tr>\n",
       "    <tr>\n",
       "      <th>1514</th>\n",
       "      <td>-1.156773</td>\n",
       "      <td>-0.088817</td>\n",
       "      <td>1.027575</td>\n",
       "      <td>-0.077262</td>\n",
       "      <td>0.813029</td>\n",
       "      <td>1</td>\n",
       "      <td>1</td>\n",
       "      <td>-1.571725</td>\n",
       "      <td>0</td>\n",
       "      <td>1</td>\n",
       "      <td>1</td>\n",
       "    </tr>\n",
       "    <tr>\n",
       "      <th>...</th>\n",
       "      <td>...</td>\n",
       "      <td>...</td>\n",
       "      <td>...</td>\n",
       "      <td>...</td>\n",
       "      <td>...</td>\n",
       "      <td>...</td>\n",
       "      <td>...</td>\n",
       "      <td>...</td>\n",
       "      <td>...</td>\n",
       "      <td>...</td>\n",
       "      <td>...</td>\n",
       "    </tr>\n",
       "    <tr>\n",
       "      <th>6672</th>\n",
       "      <td>1.823267</td>\n",
       "      <td>-0.375981</td>\n",
       "      <td>0.683121</td>\n",
       "      <td>-1.218337</td>\n",
       "      <td>0.813029</td>\n",
       "      <td>0</td>\n",
       "      <td>1</td>\n",
       "      <td>1.470473</td>\n",
       "      <td>0</td>\n",
       "      <td>1</td>\n",
       "      <td>0</td>\n",
       "    </tr>\n",
       "    <tr>\n",
       "      <th>6767</th>\n",
       "      <td>-0.442805</td>\n",
       "      <td>0.868397</td>\n",
       "      <td>0.683121</td>\n",
       "      <td>-0.007944</td>\n",
       "      <td>-0.909003</td>\n",
       "      <td>1</td>\n",
       "      <td>0</td>\n",
       "      <td>0.445866</td>\n",
       "      <td>0</td>\n",
       "      <td>1</td>\n",
       "      <td>1</td>\n",
       "    </tr>\n",
       "    <tr>\n",
       "      <th>6822</th>\n",
       "      <td>0.188384</td>\n",
       "      <td>0.772676</td>\n",
       "      <td>-1.728057</td>\n",
       "      <td>-0.200804</td>\n",
       "      <td>0.813029</td>\n",
       "      <td>1</td>\n",
       "      <td>1</td>\n",
       "      <td>1.425377</td>\n",
       "      <td>1</td>\n",
       "      <td>0</td>\n",
       "      <td>1</td>\n",
       "    </tr>\n",
       "    <tr>\n",
       "      <th>6997</th>\n",
       "      <td>-0.411763</td>\n",
       "      <td>2.782826</td>\n",
       "      <td>-0.005787</td>\n",
       "      <td>0.099765</td>\n",
       "      <td>0.813029</td>\n",
       "      <td>1</td>\n",
       "      <td>1</td>\n",
       "      <td>0.806609</td>\n",
       "      <td>0</td>\n",
       "      <td>0</td>\n",
       "      <td>1</td>\n",
       "    </tr>\n",
       "    <tr>\n",
       "      <th>4248</th>\n",
       "      <td>-0.804963</td>\n",
       "      <td>-1.237474</td>\n",
       "      <td>1.027575</td>\n",
       "      <td>0.159226</td>\n",
       "      <td>0.813029</td>\n",
       "      <td>1</td>\n",
       "      <td>1</td>\n",
       "      <td>-0.174741</td>\n",
       "      <td>0</td>\n",
       "      <td>0</td>\n",
       "      <td>1</td>\n",
       "    </tr>\n",
       "  </tbody>\n",
       "</table>\n",
       "<p>2500 rows × 11 columns</p>\n",
       "</div>"
      ],
      "text/plain": [
       "      credit_score       age    tenure   balance  num_of_products  \\\n",
       "1771     -0.525584 -0.184538  0.338667  1.059695        -0.909003   \n",
       "3704     -0.484195 -0.471702  0.683121 -1.218337         0.813029   \n",
       "9688      2.061257  2.782826 -0.005787  1.487345        -0.909003   \n",
       "4740     -1.198163 -0.854588  0.338667  0.439208        -0.909003   \n",
       "1514     -1.156773 -0.088817  1.027575 -0.077262         0.813029   \n",
       "...            ...       ...       ...       ...              ...   \n",
       "6672      1.823267 -0.375981  0.683121 -1.218337         0.813029   \n",
       "6767     -0.442805  0.868397  0.683121 -0.007944        -0.909003   \n",
       "6822      0.188384  0.772676 -1.728057 -0.200804         0.813029   \n",
       "6997     -0.411763  2.782826 -0.005787  0.099765         0.813029   \n",
       "4248     -0.804963 -1.237474  1.027575  0.159226         0.813029   \n",
       "\n",
       "      has_credit_card  is_active_member  estimated_salary  geography_germany  \\\n",
       "1771                0                 1         -0.201030                  0   \n",
       "3704                1                 0          1.618841                  0   \n",
       "9688                1                 1          1.502231                  0   \n",
       "4740                1                 1          0.444952                  0   \n",
       "1514                1                 1         -1.571725                  0   \n",
       "...               ...               ...               ...                ...   \n",
       "6672                0                 1          1.470473                  0   \n",
       "6767                1                 0          0.445866                  0   \n",
       "6822                1                 1          1.425377                  1   \n",
       "6997                1                 1          0.806609                  0   \n",
       "4248                1                 1         -0.174741                  0   \n",
       "\n",
       "      geography_spain  is_male  \n",
       "1771                0        1  \n",
       "3704                0        0  \n",
       "9688                0        1  \n",
       "4740                0        1  \n",
       "1514                1        1  \n",
       "...               ...      ...  \n",
       "6672                1        0  \n",
       "6767                1        1  \n",
       "6822                0        1  \n",
       "6997                0        1  \n",
       "4248                0        1  \n",
       "\n",
       "[2500 rows x 11 columns]"
      ]
     },
     "execution_count": 30,
     "metadata": {},
     "output_type": "execute_result"
    }
   ],
   "source": [
    "features_test"
   ]
  },
  {
   "cell_type": "markdown",
   "metadata": {},
   "source": [
    "Большинство признаков не распределены нормально. На графиках видим, что нормальное распределение - редкость, и стандартизация приводит к значениям от -3 до 5, тогда как остальные признаки (страна, пол, активность, кредитная карта) - ограничены 0 и 1. Используем иной метод масштабирования - нормализацию."
   ]
  },
  {
   "cell_type": "code",
   "execution_count": 31,
   "metadata": {
    "scrolled": false
   },
   "outputs": [
    {
     "data": {
      "image/png": "[encoded data removed]",
      "text/plain": [
       "<Figure size 1152x432 with 6 Axes>"
      ]
     },
     "metadata": {
      "needs_background": "light"
     },
     "output_type": "display_data"
    }
   ],
   "source": [
    "target = df['exited']\n",
    "features = df.drop(['exited'], axis=1)\n",
    "\n",
    "features_train, features_test, target_train, target_test = train_test_split(\n",
    "    features, target, test_size=0.25, random_state=888, stratify=target)\n",
    "\n",
    "scaler = MinMaxScaler()\n",
    "scaler.fit(features_train[numeric])\n",
    "\n",
    "features_train[numeric] = scaler.transform(features_train[numeric])\n",
    "features_test[numeric] = scaler.transform(features_test[numeric])\n",
    "\n",
    "plt.rcParams[\"figure.figsize\"] = (16,6)\n",
    "plt.subplot (2, 3, 1)\n",
    "plt.hist(features_train['credit_score'], bins=20)\n",
    "plt.title('credit_score')\n",
    "plt.subplot (2, 3, 2)\n",
    "plt.hist(features_train['age'], bins=20)\n",
    "plt.title('age')\n",
    "plt.subplot (2, 3, 3)\n",
    "plt.hist(features_train['tenure'], bins=11)\n",
    "plt.title('tenure')\n",
    "plt.subplot (2, 3, 4)\n",
    "plt.hist(features_train['balance'], bins=20)\n",
    "plt.title('balance')\n",
    "plt.subplot (2, 3, 5)\n",
    "plt.hist(features_train['num_of_products'], bins=4)\n",
    "plt.title('num_of_products')\n",
    "plt.subplot (2, 3, 6)\n",
    "plt.hist(features_train['estimated_salary'], bins=100)\n",
    "plt.title('estimated_salary')\n",
    "plt.show()"
   ]
  },
  {
   "cell_type": "markdown",
   "metadata": {},
   "source": [
    "Проверим результат подготовки данных: минимальные и максимальные значения, количество значений."
   ]
  },
  {
   "cell_type": "code",
   "execution_count": 32,
   "metadata": {},
   "outputs": [
    {
     "data": {
      "text/html": [
       "<div>\n",
       "<style scoped>\n",
       "    .dataframe tbody tr th:only-of-type {\n",
       "        vertical-align: middle;\n",
       "    }\n",
       "\n",
       "    .dataframe tbody tr th {\n",
       "        vertical-align: top;\n",
       "    }\n",
       "\n",
       "    .dataframe thead th {\n",
       "        text-align: right;\n",
       "    }\n",
       "</style>\n",
       "<table border=\"1\" class=\"dataframe\">\n",
       "  <thead>\n",
       "    <tr style=\"text-align: right;\">\n",
       "      <th></th>\n",
       "      <th>credit_score</th>\n",
       "      <th>age</th>\n",
       "      <th>tenure</th>\n",
       "      <th>balance</th>\n",
       "      <th>num_of_products</th>\n",
       "      <th>has_credit_card</th>\n",
       "      <th>is_active_member</th>\n",
       "      <th>estimated_salary</th>\n",
       "      <th>geography_germany</th>\n",
       "      <th>geography_spain</th>\n",
       "      <th>is_male</th>\n",
       "    </tr>\n",
       "  </thead>\n",
       "  <tbody>\n",
       "    <tr>\n",
       "      <th>count</th>\n",
       "      <td>7500.000000</td>\n",
       "      <td>7500.000000</td>\n",
       "      <td>7500.000000</td>\n",
       "      <td>7500.000000</td>\n",
       "      <td>7500.000000</td>\n",
       "      <td>7500.000000</td>\n",
       "      <td>7500.000000</td>\n",
       "      <td>7500.000000</td>\n",
       "      <td>7500.000000</td>\n",
       "      <td>7500.000000</td>\n",
       "      <td>7500.000000</td>\n",
       "    </tr>\n",
       "    <tr>\n",
       "      <th>mean</th>\n",
       "      <td>0.601588</td>\n",
       "      <td>0.282809</td>\n",
       "      <td>0.501680</td>\n",
       "      <td>0.304105</td>\n",
       "      <td>0.175956</td>\n",
       "      <td>0.702267</td>\n",
       "      <td>0.512133</td>\n",
       "      <td>0.501029</td>\n",
       "      <td>0.249067</td>\n",
       "      <td>0.249467</td>\n",
       "      <td>0.547600</td>\n",
       "    </tr>\n",
       "    <tr>\n",
       "      <th>std</th>\n",
       "      <td>0.193299</td>\n",
       "      <td>0.141185</td>\n",
       "      <td>0.290334</td>\n",
       "      <td>0.249623</td>\n",
       "      <td>0.193583</td>\n",
       "      <td>0.457292</td>\n",
       "      <td>0.499886</td>\n",
       "      <td>0.286778</td>\n",
       "      <td>0.432501</td>\n",
       "      <td>0.432733</td>\n",
       "      <td>0.497762</td>\n",
       "    </tr>\n",
       "    <tr>\n",
       "      <th>min</th>\n",
       "      <td>0.000000</td>\n",
       "      <td>0.000000</td>\n",
       "      <td>0.000000</td>\n",
       "      <td>0.000000</td>\n",
       "      <td>0.000000</td>\n",
       "      <td>0.000000</td>\n",
       "      <td>0.000000</td>\n",
       "      <td>0.000000</td>\n",
       "      <td>0.000000</td>\n",
       "      <td>0.000000</td>\n",
       "      <td>0.000000</td>\n",
       "    </tr>\n",
       "    <tr>\n",
       "      <th>25%</th>\n",
       "      <td>0.468000</td>\n",
       "      <td>0.189189</td>\n",
       "      <td>0.300000</td>\n",
       "      <td>0.000000</td>\n",
       "      <td>0.000000</td>\n",
       "      <td>0.000000</td>\n",
       "      <td>0.000000</td>\n",
       "      <td>0.257070</td>\n",
       "      <td>0.000000</td>\n",
       "      <td>0.000000</td>\n",
       "      <td>0.000000</td>\n",
       "    </tr>\n",
       "    <tr>\n",
       "      <th>50%</th>\n",
       "      <td>0.604000</td>\n",
       "      <td>0.256757</td>\n",
       "      <td>0.500000</td>\n",
       "      <td>0.386739</td>\n",
       "      <td>0.000000</td>\n",
       "      <td>1.000000</td>\n",
       "      <td>1.000000</td>\n",
       "      <td>0.503652</td>\n",
       "      <td>0.000000</td>\n",
       "      <td>0.000000</td>\n",
       "      <td>1.000000</td>\n",
       "    </tr>\n",
       "    <tr>\n",
       "      <th>75%</th>\n",
       "      <td>0.734000</td>\n",
       "      <td>0.351351</td>\n",
       "      <td>0.800000</td>\n",
       "      <td>0.508877</td>\n",
       "      <td>0.333333</td>\n",
       "      <td>1.000000</td>\n",
       "      <td>1.000000</td>\n",
       "      <td>0.746045</td>\n",
       "      <td>0.000000</td>\n",
       "      <td>0.000000</td>\n",
       "      <td>1.000000</td>\n",
       "    </tr>\n",
       "    <tr>\n",
       "      <th>max</th>\n",
       "      <td>1.000000</td>\n",
       "      <td>1.000000</td>\n",
       "      <td>1.000000</td>\n",
       "      <td>1.000000</td>\n",
       "      <td>1.000000</td>\n",
       "      <td>1.000000</td>\n",
       "      <td>1.000000</td>\n",
       "      <td>1.000000</td>\n",
       "      <td>1.000000</td>\n",
       "      <td>1.000000</td>\n",
       "      <td>1.000000</td>\n",
       "    </tr>\n",
       "  </tbody>\n",
       "</table>\n",
       "</div>"
      ],
      "text/plain": [
       "       credit_score          age       tenure      balance  num_of_products  \\\n",
       "count   7500.000000  7500.000000  7500.000000  7500.000000      7500.000000   \n",
       "mean       0.601588     0.282809     0.501680     0.304105         0.175956   \n",
       "std        0.193299     0.141185     0.290334     0.249623         0.193583   \n",
       "min        0.000000     0.000000     0.000000     0.000000         0.000000   \n",
       "25%        0.468000     0.189189     0.300000     0.000000         0.000000   \n",
       "50%        0.604000     0.256757     0.500000     0.386739         0.000000   \n",
       "75%        0.734000     0.351351     0.800000     0.508877         0.333333   \n",
       "max        1.000000     1.000000     1.000000     1.000000         1.000000   \n",
       "\n",
       "       has_credit_card  is_active_member  estimated_salary  geography_germany  \\\n",
       "count      7500.000000       7500.000000       7500.000000        7500.000000   \n",
       "mean          0.702267          0.512133          0.501029           0.249067   \n",
       "std           0.457292          0.499886          0.286778           0.432501   \n",
       "min           0.000000          0.000000          0.000000           0.000000   \n",
       "25%           0.000000          0.000000          0.257070           0.000000   \n",
       "50%           1.000000          1.000000          0.503652           0.000000   \n",
       "75%           1.000000          1.000000          0.746045           0.000000   \n",
       "max           1.000000          1.000000          1.000000           1.000000   \n",
       "\n",
       "       geography_spain      is_male  \n",
       "count      7500.000000  7500.000000  \n",
       "mean          0.249467     0.547600  \n",
       "std           0.432733     0.497762  \n",
       "min           0.000000     0.000000  \n",
       "25%           0.000000     0.000000  \n",
       "50%           0.000000     1.000000  \n",
       "75%           0.000000     1.000000  \n",
       "max           1.000000     1.000000  "
      ]
     },
     "execution_count": 32,
     "metadata": {},
     "output_type": "execute_result"
    }
   ],
   "source": [
    "features_train.describe()"
   ]
  },
  {
   "cell_type": "code",
   "execution_count": 33,
   "metadata": {
    "scrolled": false
   },
   "outputs": [
    {
     "data": {
      "text/html": [
       "<div>\n",
       "<style scoped>\n",
       "    .dataframe tbody tr th:only-of-type {\n",
       "        vertical-align: middle;\n",
       "    }\n",
       "\n",
       "    .dataframe tbody tr th {\n",
       "        vertical-align: top;\n",
       "    }\n",
       "\n",
       "    .dataframe thead th {\n",
       "        text-align: right;\n",
       "    }\n",
       "</style>\n",
       "<table border=\"1\" class=\"dataframe\">\n",
       "  <thead>\n",
       "    <tr style=\"text-align: right;\">\n",
       "      <th></th>\n",
       "      <th>credit_score</th>\n",
       "      <th>age</th>\n",
       "      <th>tenure</th>\n",
       "      <th>balance</th>\n",
       "      <th>num_of_products</th>\n",
       "      <th>has_credit_card</th>\n",
       "      <th>is_active_member</th>\n",
       "      <th>estimated_salary</th>\n",
       "      <th>geography_germany</th>\n",
       "      <th>geography_spain</th>\n",
       "      <th>is_male</th>\n",
       "    </tr>\n",
       "  </thead>\n",
       "  <tbody>\n",
       "    <tr>\n",
       "      <th>count</th>\n",
       "      <td>2500.000000</td>\n",
       "      <td>2500.000000</td>\n",
       "      <td>2500.000000</td>\n",
       "      <td>2500.000000</td>\n",
       "      <td>2500.000000</td>\n",
       "      <td>2500.000000</td>\n",
       "      <td>2500.000000</td>\n",
       "      <td>2500.000000</td>\n",
       "      <td>2500.000000</td>\n",
       "      <td>2500.000000</td>\n",
       "      <td>2500.000000</td>\n",
       "    </tr>\n",
       "    <tr>\n",
       "      <th>mean</th>\n",
       "      <td>0.599466</td>\n",
       "      <td>0.282481</td>\n",
       "      <td>0.491840</td>\n",
       "      <td>0.307080</td>\n",
       "      <td>0.179067</td>\n",
       "      <td>0.715200</td>\n",
       "      <td>0.524000</td>\n",
       "      <td>0.498894</td>\n",
       "      <td>0.256400</td>\n",
       "      <td>0.242400</td>\n",
       "      <td>0.540000</td>\n",
       "    </tr>\n",
       "    <tr>\n",
       "      <th>std</th>\n",
       "      <td>0.193360</td>\n",
       "      <td>0.143370</td>\n",
       "      <td>0.286591</td>\n",
       "      <td>0.245931</td>\n",
       "      <td>0.194808</td>\n",
       "      <td>0.451409</td>\n",
       "      <td>0.499524</td>\n",
       "      <td>0.290148</td>\n",
       "      <td>0.436733</td>\n",
       "      <td>0.428621</td>\n",
       "      <td>0.498497</td>\n",
       "    </tr>\n",
       "    <tr>\n",
       "      <th>min</th>\n",
       "      <td>0.000000</td>\n",
       "      <td>0.000000</td>\n",
       "      <td>0.000000</td>\n",
       "      <td>0.000000</td>\n",
       "      <td>0.000000</td>\n",
       "      <td>0.000000</td>\n",
       "      <td>0.000000</td>\n",
       "      <td>0.000833</td>\n",
       "      <td>0.000000</td>\n",
       "      <td>0.000000</td>\n",
       "      <td>0.000000</td>\n",
       "    </tr>\n",
       "    <tr>\n",
       "      <th>25%</th>\n",
       "      <td>0.464000</td>\n",
       "      <td>0.189189</td>\n",
       "      <td>0.200000</td>\n",
       "      <td>0.000000</td>\n",
       "      <td>0.000000</td>\n",
       "      <td>0.000000</td>\n",
       "      <td>0.000000</td>\n",
       "      <td>0.245477</td>\n",
       "      <td>0.000000</td>\n",
       "      <td>0.000000</td>\n",
       "      <td>0.000000</td>\n",
       "    </tr>\n",
       "    <tr>\n",
       "      <th>50%</th>\n",
       "      <td>0.604000</td>\n",
       "      <td>0.256757</td>\n",
       "      <td>0.500000</td>\n",
       "      <td>0.389348</td>\n",
       "      <td>0.000000</td>\n",
       "      <td>1.000000</td>\n",
       "      <td>1.000000</td>\n",
       "      <td>0.489303</td>\n",
       "      <td>0.000000</td>\n",
       "      <td>0.000000</td>\n",
       "      <td>1.000000</td>\n",
       "    </tr>\n",
       "    <tr>\n",
       "      <th>75%</th>\n",
       "      <td>0.736000</td>\n",
       "      <td>0.351351</td>\n",
       "      <td>0.700000</td>\n",
       "      <td>0.508246</td>\n",
       "      <td>0.333333</td>\n",
       "      <td>1.000000</td>\n",
       "      <td>1.000000</td>\n",
       "      <td>0.747995</td>\n",
       "      <td>1.000000</td>\n",
       "      <td>0.000000</td>\n",
       "      <td>1.000000</td>\n",
       "    </tr>\n",
       "    <tr>\n",
       "      <th>max</th>\n",
       "      <td>1.000000</td>\n",
       "      <td>0.945946</td>\n",
       "      <td>1.000000</td>\n",
       "      <td>0.861345</td>\n",
       "      <td>1.000000</td>\n",
       "      <td>1.000000</td>\n",
       "      <td>1.000000</td>\n",
       "      <td>1.000109</td>\n",
       "      <td>1.000000</td>\n",
       "      <td>1.000000</td>\n",
       "      <td>1.000000</td>\n",
       "    </tr>\n",
       "  </tbody>\n",
       "</table>\n",
       "</div>"
      ],
      "text/plain": [
       "       credit_score          age       tenure      balance  num_of_products  \\\n",
       "count   2500.000000  2500.000000  2500.000000  2500.000000      2500.000000   \n",
       "mean       0.599466     0.282481     0.491840     0.307080         0.179067   \n",
       "std        0.193360     0.143370     0.286591     0.245931         0.194808   \n",
       "min        0.000000     0.000000     0.000000     0.000000         0.000000   \n",
       "25%        0.464000     0.189189     0.200000     0.000000         0.000000   \n",
       "50%        0.604000     0.256757     0.500000     0.389348         0.000000   \n",
       "75%        0.736000     0.351351     0.700000     0.508246         0.333333   \n",
       "max        1.000000     0.945946     1.000000     0.861345         1.000000   \n",
       "\n",
       "       has_credit_card  is_active_member  estimated_salary  geography_germany  \\\n",
       "count      2500.000000       2500.000000       2500.000000        2500.000000   \n",
       "mean          0.715200          0.524000          0.498894           0.256400   \n",
       "std           0.451409          0.499524          0.290148           0.436733   \n",
       "min           0.000000          0.000000          0.000833           0.000000   \n",
       "25%           0.000000          0.000000          0.245477           0.000000   \n",
       "50%           1.000000          1.000000          0.489303           0.000000   \n",
       "75%           1.000000          1.000000          0.747995           1.000000   \n",
       "max           1.000000          1.000000          1.000109           1.000000   \n",
       "\n",
       "       geography_spain      is_male  \n",
       "count      2500.000000  2500.000000  \n",
       "mean          0.242400     0.540000  \n",
       "std           0.428621     0.498497  \n",
       "min           0.000000     0.000000  \n",
       "25%           0.000000     0.000000  \n",
       "50%           0.000000     1.000000  \n",
       "75%           0.000000     1.000000  \n",
       "max           1.000000     1.000000  "
      ]
     },
     "execution_count": 33,
     "metadata": {},
     "output_type": "execute_result"
    }
   ],
   "source": [
    "features_test.describe()"
   ]
  },
  {
   "cell_type": "markdown",
   "metadata": {},
   "source": [
    "В валидационной выборке наблюдаем небольшой дисбаланс в признаках `age`, `balance` и `estimated_salary`. В валидационную выборку не попали некоторые максимальные и минимальные значения. Отклонения некритичны для дальнейшей работы."
   ]
  },
  {
   "cell_type": "code",
   "execution_count": 34,
   "metadata": {},
   "outputs": [
    {
     "data": {
      "text/plain": [
       "0    0.796267\n",
       "1    0.203733\n",
       "Name: exited, dtype: float64"
      ]
     },
     "execution_count": 34,
     "metadata": {},
     "output_type": "execute_result"
    }
   ],
   "source": [
    "# Проверяем баланс целевых классов в выборках\n",
    "target_train.value_counts(normalize=True)"
   ]
  },
  {
   "cell_type": "markdown",
   "metadata": {},
   "source": [
    "### Вывод"
   ]
  },
  {
   "cell_type": "markdown",
   "metadata": {},
   "source": [
    "1. Изучили данные, предоставленные Бета-Банком;\n",
    "2. Привели имена признаков к единому стилю написания;\n",
    "3. Избавились от признаков `RowNumber`, `CustomerId`, `Surname`, не влияющих на прогнозирование. Столбец с зарплатой оставили.\n",
    "4. Заполнили пропуски в столбце `tenure` случайными значениями на основании распределения имеющихся данных;\n",
    "5. Преобразовали `Geography` и `Gender` в численные категории;\n",
    "6. Масштабировали признаки методом нормализации;\n",
    "7. Выявили дисбаланс классов, адекватность модели без избавления от дисбаланса будет ниже приемлемой, требуется дальнейшее исправление."
   ]
  },
  {
   "cell_type": "markdown",
   "metadata": {},
   "source": [
    "\n",
    "## Исследование задачи"
   ]
  },
  {
   "cell_type": "markdown",
   "metadata": {},
   "source": [
    "Проведём обучение моделей на основе различных алгоритмов: дерево решений, случайный лес, логистическая регрессия."
   ]
  },
  {
   "cell_type": "markdown",
   "metadata": {},
   "source": [
    "### Дерево решений"
   ]
  },
  {
   "cell_type": "markdown",
   "metadata": {},
   "source": [
    "Подберём гиперпараметры с использованием модуля GridSearchCV."
   ]
  },
  {
   "cell_type": "code",
   "execution_count": 35,
   "metadata": {},
   "outputs": [
    {
     "data": {
      "text/plain": [
       "{'ccp_alpha': 0.0,\n",
       " 'class_weight': None,\n",
       " 'criterion': 'gini',\n",
       " 'max_depth': None,\n",
       " 'max_features': None,\n",
       " 'max_leaf_nodes': None,\n",
       " 'min_impurity_decrease': 0.0,\n",
       " 'min_impurity_split': None,\n",
       " 'min_samples_leaf': 1,\n",
       " 'min_samples_split': 2,\n",
       " 'min_weight_fraction_leaf': 0.0,\n",
       " 'random_state': None,\n",
       " 'splitter': 'best'}"
      ]
     },
     "execution_count": 35,
     "metadata": {},
     "output_type": "execute_result"
    }
   ],
   "source": [
    "dtc_null = DecisionTreeClassifier()\n",
    "dtc_null.get_params()"
   ]
  },
  {
   "cell_type": "markdown",
   "metadata": {},
   "source": [
    "Изменим пареметры `criterion`, `max_depth`, `min_samples_leaf`, `min_samples_split`."
   ]
  },
  {
   "cell_type": "code",
   "execution_count": 36,
   "metadata": {},
   "outputs": [],
   "source": [
    "dtc_params = {'criterion': ['gini', 'entropy'],\n",
    "              'max_depth': range (1, 25),\n",
    "              'min_samples_leaf': range (1, 3),\n",
    "              'min_samples_split': range (2, 4),\n",
    "             'random_state': [999]}"
   ]
  },
  {
   "cell_type": "code",
   "execution_count": 37,
   "metadata": {},
   "outputs": [
    {
     "name": "stdout",
     "output_type": "stream",
     "text": [
      "Гиперпараметры: {'criterion': 'entropy', 'max_depth': 7, 'min_samples_leaf': 1, 'min_samples_split': 2, 'random_state': 999}\n",
      "F1-мера 0.5557325972814949\n",
      "CPU times: user 13.8 s, sys: 21.6 ms, total: 13.8 s\n",
      "Wall time: 13.8 s\n"
     ]
    }
   ],
   "source": [
    "%%time\n",
    "\n",
    "dtc_grid = GridSearchCV(dtc_null, dtc_params, scoring='f1', cv=3)\n",
    "dtc_grid.fit(features_train, target_train)\n",
    "print('Гиперпараметры:', dtc_grid.best_params_)\n",
    "print('F1-мера',dtc_grid.best_score_)"
   ]
  },
  {
   "cell_type": "markdown",
   "metadata": {},
   "source": [
    "Обучаем модель:"
   ]
  },
  {
   "cell_type": "code",
   "execution_count": 38,
   "metadata": {},
   "outputs": [
    {
     "data": {
      "text/plain": [
       "DecisionTreeClassifier(criterion='entropy', max_depth=7, random_state=999)"
      ]
     },
     "execution_count": 38,
     "metadata": {},
     "output_type": "execute_result"
    }
   ],
   "source": [
    "model_dtc = DecisionTreeClassifier(criterion='entropy', max_depth=7, random_state=999)\n",
    "model_dtc.fit(features_train, target_train)"
   ]
  },
  {
   "cell_type": "code",
   "execution_count": 39,
   "metadata": {},
   "outputs": [
    {
     "data": {
      "text/plain": [
       "0.8291748033143251"
      ]
     },
     "execution_count": 39,
     "metadata": {},
     "output_type": "execute_result"
    }
   ],
   "source": [
    "model_dtc_prob = model_dtc.predict_proba(features_test)\n",
    "model_dtc_prod_one = model_dtc_prob[:,1]\n",
    "auc_roc_dtc = roc_auc_score(target_test, model_dtc_prod_one)\n",
    "auc_roc_dtc"
   ]
  },
  {
   "cell_type": "markdown",
   "metadata": {},
   "source": [
    "F1-мера недостаточная для решения задачи, так как в целевом признаке имеется количественный перевес в сторону одного из признаков. Изучим дополнительно другие метрики качества."
   ]
  },
  {
   "cell_type": "markdown",
   "metadata": {},
   "source": [
    "#### Матрица ошибок"
   ]
  },
  {
   "cell_type": "code",
   "execution_count": 40,
   "metadata": {},
   "outputs": [
    {
     "data": {
      "text/plain": [
       "array([[1923,   68],\n",
       "       [ 280,  229]])"
      ]
     },
     "execution_count": 40,
     "metadata": {},
     "output_type": "execute_result"
    }
   ],
   "source": [
    "predictions_dtc = model_dtc.predict(features_test)\n",
    "confusion_matrix(target_test, predictions_dtc)"
   ]
  },
  {
   "cell_type": "markdown",
   "metadata": {},
   "source": [
    "FN - 280 <br>TP - 229\n",
    "\n",
    "Количество ложноотрицательных ответов выше истинно положительных. Из этого следует, что для созданной модели факт ухода более 5% клиентов был непредсказуемым."
   ]
  },
  {
   "cell_type": "markdown",
   "metadata": {},
   "source": [
    "#### Полнота, точность"
   ]
  },
  {
   "cell_type": "code",
   "execution_count": 41,
   "metadata": {},
   "outputs": [
    {
     "name": "stdout",
     "output_type": "stream",
     "text": [
      "Полнота: 0.449901768172888\n",
      "Точность: 0.7710437710437711\n"
     ]
    }
   ],
   "source": [
    "print(\"Полнота:\", recall_score(target_test, predictions_dtc))\n",
    "print(\"Точность:\", precision_score(target_test, predictions_dtc))"
   ]
  },
  {
   "cell_type": "markdown",
   "metadata": {},
   "source": [
    "F1-мера на валидационной выборке недостаточна для решения поставленной задачи. Рассмотрим F1-меру на тестовой выборке:"
   ]
  },
  {
   "cell_type": "code",
   "execution_count": 42,
   "metadata": {},
   "outputs": [
    {
     "name": "stdout",
     "output_type": "stream",
     "text": [
      "F1-мера: 0.5682382133995038\n"
     ]
    }
   ],
   "source": [
    "predictions_dtc_test = model_dtc.predict(features_test)\n",
    "result_dtc_test = accuracy_score(target_test, predictions_dtc_test)\n",
    "print(\"F1-мера:\", f1_score(target_test, predictions_dtc_test))"
   ]
  },
  {
   "cell_type": "markdown",
   "metadata": {},
   "source": [
    "Результат неудовлетворительный. Построим модель на основе алгоритмов случайного леса."
   ]
  },
  {
   "cell_type": "markdown",
   "metadata": {},
   "source": [
    "### Случайный лес"
   ]
  },
  {
   "cell_type": "code",
   "execution_count": 43,
   "metadata": {},
   "outputs": [
    {
     "data": {
      "text/plain": [
       "{'bootstrap': True,\n",
       " 'ccp_alpha': 0.0,\n",
       " 'class_weight': None,\n",
       " 'criterion': 'gini',\n",
       " 'max_depth': None,\n",
       " 'max_features': 'auto',\n",
       " 'max_leaf_nodes': None,\n",
       " 'max_samples': None,\n",
       " 'min_impurity_decrease': 0.0,\n",
       " 'min_impurity_split': None,\n",
       " 'min_samples_leaf': 1,\n",
       " 'min_samples_split': 2,\n",
       " 'min_weight_fraction_leaf': 0.0,\n",
       " 'n_estimators': 100,\n",
       " 'n_jobs': None,\n",
       " 'oob_score': False,\n",
       " 'random_state': None,\n",
       " 'verbose': 0,\n",
       " 'warm_start': False}"
      ]
     },
     "execution_count": 43,
     "metadata": {},
     "output_type": "execute_result"
    }
   ],
   "source": [
    "rfc_null = RandomForestClassifier()\n",
    "rfc_null.get_params()"
   ]
  },
  {
   "cell_type": "markdown",
   "metadata": {},
   "source": [
    "Подберём параметры `criterion`, `max_depth`, `n_estimator`."
   ]
  },
  {
   "cell_type": "code",
   "execution_count": 44,
   "metadata": {},
   "outputs": [],
   "source": [
    "rfc_params = {'criterion': ['gini', 'entropy'],\n",
    "              'max_depth': range(1, 20, 2),         \n",
    "              'n_estimators': range(1, 80, 5),      \n",
    "              'random_state': [666]}"
   ]
  },
  {
   "cell_type": "code",
   "execution_count": 45,
   "metadata": {},
   "outputs": [
    {
     "name": "stdout",
     "output_type": "stream",
     "text": [
      "CPU times: user 3 µs, sys: 0 ns, total: 3 µs\n",
      "Wall time: 5.48 µs\n"
     ]
    },
    {
     "data": {
      "text/plain": [
       "\"rfc_grid = GridSearchCV(rfc_null, rfc_params, scoring='f1', cv=3)\\nrfc_grid.fit(features_train, target_train)\\nprint('Гиперпараметры:', rfc_grid.best_params_)\\nprint('F1-мера', rfc_grid.best_score_)\""
      ]
     },
     "execution_count": 45,
     "metadata": {},
     "output_type": "execute_result"
    }
   ],
   "source": [
    "%%time\n",
    "\n",
    "'''rfc_grid = GridSearchCV(rfc_null, rfc_params, scoring='f1', cv=3)\n",
    "rfc_grid.fit(features_train, target_train)\n",
    "print('Гиперпараметры:', rfc_grid.best_params_)\n",
    "print('F1-мера', rfc_grid.best_score_)'''"
   ]
  },
  {
   "cell_type": "markdown",
   "metadata": {},
   "source": [
    "Применим гиперпараметры для создания модели:"
   ]
  },
  {
   "cell_type": "code",
   "execution_count": 46,
   "metadata": {},
   "outputs": [
    {
     "data": {
      "text/plain": [
       "RandomForestClassifier(max_depth=16, n_estimators=76, random_state=666)"
      ]
     },
     "execution_count": 46,
     "metadata": {},
     "output_type": "execute_result"
    }
   ],
   "source": [
    "model_rfc = RandomForestClassifier(max_depth=16, n_estimators=76, random_state=666)\n",
    "model_rfc.fit(features_train, target_train)"
   ]
  },
  {
   "cell_type": "code",
   "execution_count": 47,
   "metadata": {},
   "outputs": [
    {
     "data": {
      "text/plain": [
       "0.849191203243673"
      ]
     },
     "execution_count": 47,
     "metadata": {},
     "output_type": "execute_result"
    }
   ],
   "source": [
    "model_rfc_prob = model_rfc.predict_proba(features_test)\n",
    "model_rfc_prod_one = model_rfc_prob[:,1]\n",
    "auc_roc_rfc = roc_auc_score(target_test, model_rfc_prod_one)\n",
    "auc_roc_rfc"
   ]
  },
  {
   "cell_type": "markdown",
   "metadata": {},
   "source": [
    "F1-мера и AUC-ROC модели превосходят модель на основе дерева решений. Проверим другие показатели качества."
   ]
  },
  {
   "cell_type": "markdown",
   "metadata": {},
   "source": [
    "#### Матрица ошибок"
   ]
  },
  {
   "cell_type": "code",
   "execution_count": 48,
   "metadata": {},
   "outputs": [
    {
     "data": {
      "text/plain": [
       "array([[1934,   57],\n",
       "       [ 279,  230]])"
      ]
     },
     "execution_count": 48,
     "metadata": {},
     "output_type": "execute_result"
    }
   ],
   "source": [
    "predictions_rfc = model_rfc.predict(features_test)\n",
    "confusion_matrix(target_test, predictions_rfc)"
   ]
  },
  {
   "cell_type": "markdown",
   "metadata": {},
   "source": [
    "FN - 279 <br>TP - 230\n",
    "\n",
    "Модель незначительно изменилась в лучшую сторону по показателю FP, но проблема остаётся - количество ложноотрицательных ответов слишком высокое. Созданная модель не смогла предсказать 55% расторжений договоров клиента с банком."
   ]
  },
  {
   "cell_type": "markdown",
   "metadata": {},
   "source": [
    "#### F1-мера, полнота, точность"
   ]
  },
  {
   "cell_type": "code",
   "execution_count": 49,
   "metadata": {},
   "outputs": [
    {
     "name": "stdout",
     "output_type": "stream",
     "text": [
      "Полнота: 0.4518664047151277\n",
      "Точность: 0.8013937282229965\n"
     ]
    }
   ],
   "source": [
    "print(\"Полнота:\", recall_score(target_test, predictions_rfc))\n",
    "print(\"Точность:\", precision_score(target_test, predictions_rfc))"
   ]
  },
  {
   "cell_type": "markdown",
   "metadata": {},
   "source": [
    "F1-мера недостаточна для решения поставленной задачи."
   ]
  },
  {
   "cell_type": "markdown",
   "metadata": {},
   "source": [
    "### Логистическая регрессия"
   ]
  },
  {
   "cell_type": "code",
   "execution_count": 50,
   "metadata": {},
   "outputs": [
    {
     "data": {
      "text/plain": [
       "{'C': 1.0,\n",
       " 'class_weight': None,\n",
       " 'dual': False,\n",
       " 'fit_intercept': True,\n",
       " 'intercept_scaling': 1,\n",
       " 'l1_ratio': None,\n",
       " 'max_iter': 100,\n",
       " 'multi_class': 'auto',\n",
       " 'n_jobs': None,\n",
       " 'penalty': 'l2',\n",
       " 'random_state': None,\n",
       " 'solver': 'lbfgs',\n",
       " 'tol': 0.0001,\n",
       " 'verbose': 0,\n",
       " 'warm_start': False}"
      ]
     },
     "execution_count": 50,
     "metadata": {},
     "output_type": "execute_result"
    }
   ],
   "source": [
    "lr_null = LogisticRegression()\n",
    "lr_null.get_params()"
   ]
  },
  {
   "cell_type": "markdown",
   "metadata": {},
   "source": [
    "Подберём параметры `max_iter`, `solver`"
   ]
  },
  {
   "cell_type": "code",
   "execution_count": 51,
   "metadata": {},
   "outputs": [],
   "source": [
    "lr_params = {'solver':  ['newton-cg', 'lbfgs', 'liblinear'],\n",
    "              'max_iter': range(9, 12),\n",
    "              'random_state': [666]}"
   ]
  },
  {
   "cell_type": "code",
   "execution_count": 52,
   "metadata": {},
   "outputs": [
    {
     "data": {
      "text/plain": [
       "\"lr_grid = GridSearchCV(lr_null, lr_params, scoring='f1', cv=3)\\nlr_grid.fit(features_train, target_train)\\nprint('Гиперпараметры:', lr_grid.best_params_)\\nprint('F1-мера', lr_grid.best_score_)\""
      ]
     },
     "execution_count": 52,
     "metadata": {},
     "output_type": "execute_result"
    }
   ],
   "source": [
    "'''lr_grid = GridSearchCV(lr_null, lr_params, scoring='f1', cv=3)\n",
    "lr_grid.fit(features_train, target_train)\n",
    "print('Гиперпараметры:', lr_grid.best_params_)\n",
    "print('F1-мера', lr_grid.best_score_)'''"
   ]
  },
  {
   "cell_type": "code",
   "execution_count": 53,
   "metadata": {
    "scrolled": true
   },
   "outputs": [
    {
     "name": "stderr",
     "output_type": "stream",
     "text": [
      "/opt/conda/lib/python3.9/site-packages/sklearn/linear_model/_logistic.py:763: ConvergenceWarning: lbfgs failed to converge (status=1):\n",
      "STOP: TOTAL NO. of ITERATIONS REACHED LIMIT.\n",
      "\n",
      "Increase the number of iterations (max_iter) or scale the data as shown in:\n",
      "    https://scikit-learn.org/stable/modules/preprocessing.html\n",
      "Please also refer to the documentation for alternative solver options:\n",
      "    https://scikit-learn.org/stable/modules/linear_model.html#logistic-regression\n",
      "  n_iter_i = _check_optimize_result(\n"
     ]
    },
    {
     "data": {
      "text/plain": [
       "LogisticRegression(max_iter=10, random_state=666)"
      ]
     },
     "execution_count": 53,
     "metadata": {},
     "output_type": "execute_result"
    }
   ],
   "source": [
    "model_lr = LogisticRegression(random_state=666, max_iter=10, solver='lbfgs')\n",
    "model_lr.fit(features_train, target_train)"
   ]
  },
  {
   "cell_type": "code",
   "execution_count": 54,
   "metadata": {},
   "outputs": [
    {
     "data": {
      "text/plain": [
       "0.7576609477422467"
      ]
     },
     "execution_count": 54,
     "metadata": {},
     "output_type": "execute_result"
    }
   ],
   "source": [
    "model_lr_prob = model_lr.predict_proba(features_test)\n",
    "model_lr_prod_one = model_lr_prob[:,1]\n",
    "auc_roc_lr = roc_auc_score(target_test, model_lr_prod_one)\n",
    "auc_roc_lr"
   ]
  },
  {
   "cell_type": "code",
   "execution_count": 55,
   "metadata": {},
   "outputs": [
    {
     "data": {
      "text/plain": [
       "array([[1917,   74],\n",
       "       [ 399,  110]])"
      ]
     },
     "execution_count": 55,
     "metadata": {},
     "output_type": "execute_result"
    }
   ],
   "source": [
    "predictions_lr = model_lr.predict(features_test)\n",
    "confusion_matrix(target_test, predictions_lr)"
   ]
  },
  {
   "cell_type": "markdown",
   "metadata": {},
   "source": [
    "По всем результатам логистическая регрессия уступает другим методам решения данной задачи."
   ]
  },
  {
   "cell_type": "markdown",
   "metadata": {},
   "source": [
    "### Вывод"
   ]
  },
  {
   "cell_type": "markdown",
   "metadata": {},
   "source": [
    "Показатели качества моделей представлены в таблице.\n",
    "<table width=680>\n",
    " <caption>Сравнение моделей</caption>\n",
    " <tr>\n",
    "  <th></th>\n",
    "  <th>Дерево решений</th>\n",
    "  <th>Случайный лес</th>\n",
    "  <th>Логистическая регрессия</th>\n",
    " </tr>\n",
    " <tr><td>F1-мера</td><td>0.556</td><td bgcolor=\"#aaffaa\">0.572</td><td bgcolor=\"#ffaaaa\">0.314</td></tr>\n",
    " <tr><td>AUC-ROC</td><td>0.829</td><td bgcolor=\"#aaffaa\">0.849</td><td bgcolor=\"#ffaaaa\">0.758</td></tr>\n",
    " <tr><td>FN</td><td>280</td><td bgcolor=\"#aaffaa\">279</td><td bgcolor=\"#ffaaaa\">399</td></tr>\n",
    "</table>\n",
    "\n",
    "Лучший результат показывает модель случайного леса.\n",
    "\n",
    "Для увеличения качества моделей необходимо избавиться от дисбаланса категорий целевого признака."
   ]
  },
  {
   "cell_type": "markdown",
   "metadata": {},
   "source": [
    "## Борьба с дисбалансом"
   ]
  },
  {
   "cell_type": "markdown",
   "metadata": {},
   "source": [
    "### Уравновешивание классов"
   ]
  },
  {
   "cell_type": "markdown",
   "metadata": {},
   "source": [
    "Сбалансируем классы аргументом `class_weight` и сравним F1-меры моделей без изменения остальных гиперпараметров."
   ]
  },
  {
   "cell_type": "markdown",
   "metadata": {},
   "source": [
    "#### Дерево решений"
   ]
  },
  {
   "cell_type": "code",
   "execution_count": 56,
   "metadata": {},
   "outputs": [
    {
     "data": {
      "text/plain": [
       "DecisionTreeClassifier(class_weight='balanced', criterion='entropy',\n",
       "                       max_depth=7, random_state=999)"
      ]
     },
     "execution_count": 56,
     "metadata": {},
     "output_type": "execute_result"
    }
   ],
   "source": [
    "model_dtc_balanced = DecisionTreeClassifier(criterion='entropy', random_state=999, max_depth=7, class_weight='balanced')\n",
    "model_dtc_balanced.fit(features_train, target_train)\n",
    "\n",
    "#'criterion': 'entropy', 'max_depth': 7, 'min_samples_leaf': 1, 'min_samples_split': 2, 'random_state': 999}"
   ]
  },
  {
   "cell_type": "code",
   "execution_count": 57,
   "metadata": {},
   "outputs": [
    {
     "name": "stdout",
     "output_type": "stream",
     "text": [
      "Матрица ошибок: [[1514  477]\n",
      " [ 125  384]]\n",
      "Полнота: 0.7544204322200393\n",
      "Точность: 0.445993031358885\n",
      "F1-мера: 0.5605839416058394\n"
     ]
    }
   ],
   "source": [
    "predictions_dtc_balanced = model_dtc_balanced.predict(features_test)\n",
    "result_dtc_balanced = f1_score(target_test, predictions_dtc_balanced)\n",
    "print('Матрица ошибок:', confusion_matrix(target_test, predictions_dtc_balanced))\n",
    "print(\"Полнота:\", recall_score(target_test, predictions_dtc_balanced))\n",
    "print(\"Точность:\", precision_score(target_test, predictions_dtc_balanced))\n",
    "print(\"F1-мера:\", result_dtc_balanced)"
   ]
  },
  {
   "cell_type": "markdown",
   "metadata": {},
   "source": [
    "Предыдущие значения:<br>F1-мера: 0.556<br>Матрица ошибок:<br>[1923,   68]<br>[ 280,  229]\n",
    "\n",
    "\n",
    "F1-мера увеличилась до 0.56, что говорит о повышенном качестве модели, но разница незначительная. Наиболее важное изменение - соотношение ложноотрицательных и истинно положительных значительно улучшилось: модель не смогла предугадать только 24,6% уходов клиентов против 55% до балансировки.\n",
    "\n",
    "Так как результат изменился, подберём гиперпараметры снова, зафиксировав аргумент `class_weight='balanced'`."
   ]
  },
  {
   "cell_type": "code",
   "execution_count": 58,
   "metadata": {
    "scrolled": false
   },
   "outputs": [
    {
     "name": "stdout",
     "output_type": "stream",
     "text": [
      "Гиперпараметры: {'criterion': 'gini', 'max_depth': 5, 'min_samples_leaf': 1, 'min_samples_split': 2, 'random_state': 999}\n",
      "F1-мера 0.57181086319001\n"
     ]
    }
   ],
   "source": [
    "dtc_null_updated = DecisionTreeClassifier(class_weight='balanced')\n",
    "dtc_params_updated = {'criterion': ['gini', 'entropy'],\n",
    "              'max_depth': range (1, 25),\n",
    "              'min_samples_leaf': range (1, 3),\n",
    "              'min_samples_split': range (2, 4),\n",
    "             'random_state': [999]}\n",
    "\n",
    "\n",
    "dtc_grid_updated = GridSearchCV(dtc_null_updated, dtc_params, scoring='f1', cv=3)\n",
    "dtc_grid_updated.fit(features_train, target_train)\n",
    "print('Гиперпараметры:', dtc_grid_updated.best_params_)\n",
    "print('F1-мера',dtc_grid_updated.best_score_)"
   ]
  },
  {
   "cell_type": "code",
   "execution_count": 59,
   "metadata": {},
   "outputs": [
    {
     "data": {
      "text/plain": [
       "DecisionTreeClassifier(class_weight='balanced', max_depth=5, random_state=999)"
      ]
     },
     "execution_count": 59,
     "metadata": {},
     "output_type": "execute_result"
    }
   ],
   "source": [
    "model_dtc_updated = DecisionTreeClassifier(random_state=999, max_depth=5, class_weight='balanced')\n",
    "model_dtc_updated.fit(features_train, target_train)"
   ]
  },
  {
   "cell_type": "markdown",
   "metadata": {},
   "source": [
    "AUC-ROC"
   ]
  },
  {
   "cell_type": "code",
   "execution_count": 60,
   "metadata": {},
   "outputs": [
    {
     "data": {
      "text/plain": [
       "0.8262687989864015"
      ]
     },
     "execution_count": 60,
     "metadata": {},
     "output_type": "execute_result"
    }
   ],
   "source": [
    "model_dtc_updated_prob = model_dtc_updated.predict_proba(features_test)\n",
    "model_dtc_updated_prod_one = model_dtc_updated_prob[:,1]\n",
    "auc_roc_dtc_updated = roc_auc_score(target_test, model_dtc_updated_prod_one)\n",
    "auc_roc_dtc_updated"
   ]
  },
  {
   "cell_type": "markdown",
   "metadata": {},
   "source": [
    "Матрица ошибок"
   ]
  },
  {
   "cell_type": "code",
   "execution_count": 61,
   "metadata": {},
   "outputs": [
    {
     "data": {
      "text/plain": [
       "array([[1529,  462],\n",
       "       [ 136,  373]])"
      ]
     },
     "execution_count": 61,
     "metadata": {},
     "output_type": "execute_result"
    }
   ],
   "source": [
    "predictions_dtc_updated = model_dtc_updated.predict(features_test)\n",
    "confusion_matrix(target_test, predictions_dtc_updated)"
   ]
  },
  {
   "cell_type": "markdown",
   "metadata": {},
   "source": [
    "Получена модель с F1-мерой 0,572, что является недостаточным для дальнейшей качественной работы. Одновременно с увеличением F1-меры улучшился результат по ложноотрицательным предсказаниям.\n",
    "\n",
    "AUC-ROC - без изменений.\n",
    "\n",
    "Рассмотрим модель, построенную по алгоритму случайного леса."
   ]
  },
  {
   "cell_type": "markdown",
   "metadata": {},
   "source": [
    "#### Случайный лес"
   ]
  },
  {
   "cell_type": "markdown",
   "metadata": {},
   "source": [
    "Добавим к модели с имеющимися гиперпараметрами `class_weight='balanced'`. Улучшим модель перебором параметров `n_estimators` и `max_depth`."
   ]
  },
  {
   "cell_type": "code",
   "execution_count": 62,
   "metadata": {},
   "outputs": [
    {
     "data": {
      "text/plain": [
       "\"\\nrfc_grid_updated = GridSearchCV(rfc_null_updated, rfc_params, scoring='f1', cv=3)\\nrfc_grid_updated.fit(features_train, target_train)\\nprint('Гиперпараметры:', rfc_grid_updated.best_params_)\\nprint('F1-мера', rfc_grid_updated.best_score_)\""
      ]
     },
     "execution_count": 62,
     "metadata": {},
     "output_type": "execute_result"
    }
   ],
   "source": [
    "rfc_null_updated = RandomForestClassifier(class_weight='balanced')\n",
    "rfc_params_updated = {'criterion': ['entropy'],\n",
    "                      'max_depth': range(1, 12),\n",
    "                      'n_estimators': range(65, 76),\n",
    "                      'random_state': [999]}\n",
    "'''\n",
    "rfc_grid_updated = GridSearchCV(rfc_null_updated, rfc_params, scoring='f1', cv=3)\n",
    "rfc_grid_updated.fit(features_train, target_train)\n",
    "print('Гиперпараметры:', rfc_grid_updated.best_params_)\n",
    "print('F1-мера', rfc_grid_updated.best_score_)'''"
   ]
  },
  {
   "cell_type": "markdown",
   "metadata": {},
   "source": [
    "Строим модель с наилучшими гиперпараметрами:"
   ]
  },
  {
   "cell_type": "code",
   "execution_count": 63,
   "metadata": {
    "scrolled": true
   },
   "outputs": [
    {
     "data": {
      "text/plain": [
       "RandomForestClassifier(class_weight='balanced', max_depth=8, n_estimators=71,\n",
       "                       random_state=999)"
      ]
     },
     "execution_count": 63,
     "metadata": {},
     "output_type": "execute_result"
    }
   ],
   "source": [
    "model_rfc_updated = RandomForestClassifier(random_state=999, criterion='gini', max_depth=8, n_estimators=71, class_weight='balanced')\n",
    "model_rfc_updated.fit(features_train, target_train)"
   ]
  },
  {
   "cell_type": "markdown",
   "metadata": {},
   "source": [
    "AUC-ROC"
   ]
  },
  {
   "cell_type": "code",
   "execution_count": 64,
   "metadata": {},
   "outputs": [
    {
     "data": {
      "text/plain": [
       "0.8554536672393158"
      ]
     },
     "execution_count": 64,
     "metadata": {},
     "output_type": "execute_result"
    }
   ],
   "source": [
    "model_rfc_updated_prob = model_rfc_updated.predict_proba(features_test)\n",
    "model_rfc_updated_prob_one = model_rfc_updated_prob[:,1]\n",
    "auc_roc_rfc_updated = roc_auc_score(target_test, model_rfc_updated_prob_one)\n",
    "auc_roc_rfc_updated"
   ]
  },
  {
   "cell_type": "markdown",
   "metadata": {},
   "source": [
    "Матрица ошибок"
   ]
  },
  {
   "cell_type": "code",
   "execution_count": 65,
   "metadata": {},
   "outputs": [
    {
     "data": {
      "text/plain": [
       "array([[1708,  283],\n",
       "       [ 153,  356]])"
      ]
     },
     "execution_count": 65,
     "metadata": {},
     "output_type": "execute_result"
    }
   ],
   "source": [
    "predictions_rfc_updated = model_rfc_updated.predict(features_test)\n",
    "confusion_matrix(target_test, predictions_rfc_updated)"
   ]
  },
  {
   "cell_type": "markdown",
   "metadata": {},
   "source": [
    "F1-мера модели случайного леса - 0.615, что является лучшим результатом среди всех моделей. Количество ложно отрицательных результатов ниже, чем у модели дерева решений - модель не смогла спрогнозировать около 30% всех расторжений договоров."
   ]
  },
  {
   "cell_type": "markdown",
   "metadata": {},
   "source": [
    "#### Логистическая регрессия"
   ]
  },
  {
   "cell_type": "code",
   "execution_count": 66,
   "metadata": {
    "scrolled": true
   },
   "outputs": [
    {
     "data": {
      "text/plain": [
       "\"lr_grid_updated = GridSearchCV(lr_null_updated, lr_params_updated, scoring='f1', cv=3)\\nlr_grid_updated.fit(features_train, target_train)\\nprint('Гиперпараметры:', lr_grid_updated.best_params_)\\nprint('F1-мера', lr_grid_updated.best_score_)\""
      ]
     },
     "execution_count": 66,
     "metadata": {},
     "output_type": "execute_result"
    }
   ],
   "source": [
    "lr_null_updated = LogisticRegression()\n",
    "\n",
    "lr_params_updated = {'solver':  ['newton-cg', 'lbfgs', 'liblinear'],\n",
    "              'max_iter': range(1, 20),\n",
    "              'random_state': [666]}\n",
    "\n",
    "'''lr_grid_updated = GridSearchCV(lr_null_updated, lr_params_updated, scoring='f1', cv=3)\n",
    "lr_grid_updated.fit(features_train, target_train)\n",
    "print('Гиперпараметры:', lr_grid_updated.best_params_)\n",
    "print('F1-мера', lr_grid_updated.best_score_)'''"
   ]
  },
  {
   "cell_type": "markdown",
   "metadata": {},
   "source": [
    "Строим модель с наилучшими гиперпараметрами:"
   ]
  },
  {
   "cell_type": "code",
   "execution_count": 67,
   "metadata": {},
   "outputs": [
    {
     "name": "stderr",
     "output_type": "stream",
     "text": [
      "/opt/conda/lib/python3.9/site-packages/sklearn/linear_model/_logistic.py:763: ConvergenceWarning: lbfgs failed to converge (status=1):\n",
      "STOP: TOTAL NO. of ITERATIONS REACHED LIMIT.\n",
      "\n",
      "Increase the number of iterations (max_iter) or scale the data as shown in:\n",
      "    https://scikit-learn.org/stable/modules/preprocessing.html\n",
      "Please also refer to the documentation for alternative solver options:\n",
      "    https://scikit-learn.org/stable/modules/linear_model.html#logistic-regression\n",
      "  n_iter_i = _check_optimize_result(\n"
     ]
    },
    {
     "data": {
      "text/plain": [
       "LogisticRegression(class_weight='balanced', max_iter=10, random_state=666)"
      ]
     },
     "execution_count": 67,
     "metadata": {},
     "output_type": "execute_result"
    }
   ],
   "source": [
    "model_lr_updated = LogisticRegression(random_state=666, max_iter=10, solver='lbfgs', class_weight='balanced')\n",
    "model_lr_updated.fit(features_train, target_train)"
   ]
  },
  {
   "cell_type": "markdown",
   "metadata": {},
   "source": [
    "AUC-ROC"
   ]
  },
  {
   "cell_type": "code",
   "execution_count": 68,
   "metadata": {},
   "outputs": [
    {
     "data": {
      "text/plain": [
       "0.7647024577198572"
      ]
     },
     "execution_count": 68,
     "metadata": {},
     "output_type": "execute_result"
    }
   ],
   "source": [
    "model_lr_updated_prob = model_lr_updated.predict_proba(features_test)\n",
    "model_lr_updated_prob_one = model_lr_updated_prob[:,1]\n",
    "auc_roc_lr_updated = roc_auc_score(target_test, model_lr_updated_prob_one)\n",
    "auc_roc_lr_updated"
   ]
  },
  {
   "cell_type": "markdown",
   "metadata": {},
   "source": [
    "Матрица ошибок"
   ]
  },
  {
   "cell_type": "code",
   "execution_count": 69,
   "metadata": {},
   "outputs": [
    {
     "data": {
      "text/plain": [
       "array([[1409,  582],\n",
       "       [ 162,  347]])"
      ]
     },
     "execution_count": 69,
     "metadata": {},
     "output_type": "execute_result"
    }
   ],
   "source": [
    "predictions_lr_updated = model_lr_updated.predict(features_test)\n",
    "confusion_matrix(target_test, predictions_lr_updated)"
   ]
  },
  {
   "cell_type": "markdown",
   "metadata": {},
   "source": [
    "Полученная модель имеет самую низкую F1-меру 0.314, худший AUC-ROC и высокий показатель FN."
   ]
  },
  {
   "cell_type": "markdown",
   "metadata": {},
   "source": [
    "**Промежуточный вывод:**\n",
    "\n",
    "Качество модели `RandomForestClassifier` является наивысшим, но количество ложноотрицательных результатов может быть недостаточным. Необходимо рассмотреть иные методы борьбы с дисбалансом для достижения наилучшего результата."
   ]
  },
  {
   "cell_type": "markdown",
   "metadata": {},
   "source": [
    "### Увеличение выборки"
   ]
  },
  {
   "cell_type": "markdown",
   "metadata": {},
   "source": [
    "Объектом меньшего класса являются единицы. Количество единиц - примерно в 4 раза меньше, чем нулей; увеличим количество объектов этой категории."
   ]
  },
  {
   "cell_type": "code",
   "execution_count": 70,
   "metadata": {},
   "outputs": [
    {
     "name": "stdout",
     "output_type": "stream",
     "text": [
      "12084\n",
      "12084\n",
      "1    6112\n",
      "0    5972\n",
      "Name: exited, dtype: int64\n"
     ]
    }
   ],
   "source": [
    "# Функция для увеличения выборки\n",
    "def upsample(features, target, repeat):\n",
    "    features_zeros = features_train[target == 0]\n",
    "    features_ones = features_train[target == 1]\n",
    "    target_zeros = target_train[target == 0]\n",
    "    target_ones = target_train[target == 1]\n",
    "    features_upsampled = pd.concat([features_zeros] + [features_ones] * repeat)\n",
    "    target_upsampled = pd.concat([target_zeros] + [target_ones] * repeat)\n",
    "    features_upsampled, target_upsampled = shuffle(features_upsampled, target_upsampled, random_state=888)\n",
    "    return features_upsampled, target_upsampled\n",
    "\n",
    "# Апсемплим\n",
    "features_upsampled, target_upsampled = upsample(features_train, target_train, 4)\n",
    "\n",
    "# Проверяем\n",
    "print(len(features_upsampled))\n",
    "print(len(target_upsampled))\n",
    "print(target_upsampled.value_counts())"
   ]
  },
  {
   "cell_type": "markdown",
   "metadata": {},
   "source": [
    "Обучаем модели, используя лучшие гиперпараметры раздела 3."
   ]
  },
  {
   "cell_type": "code",
   "execution_count": 71,
   "metadata": {},
   "outputs": [
    {
     "name": "stdout",
     "output_type": "stream",
     "text": [
      "Дерево решений\n",
      "Матрица ошибок: [[1534  457]\n",
      " [ 137  372]]\n",
      "AUC-ROC: 0.8276463141109454\n",
      "F1-мера: 0.5560538116591928\n",
      "----------------------------------------\n",
      "Случайный лес\n",
      "Матрица ошибок: [[1840  151]\n",
      " [ 218  291]]\n",
      "AUC-ROC: 0.849372273462408\n",
      "F1-мера: 0.61198738170347\n",
      "----------------------------------------\n",
      "Логистическая регрессия\n",
      "Матрица ошибок: [[1396  595]\n",
      " [ 153  356]]\n",
      "AUC-ROC: 0.7651376183000318\n",
      "F1-мера: 0.4876712328767124\n"
     ]
    },
    {
     "name": "stderr",
     "output_type": "stream",
     "text": [
      "/opt/conda/lib/python3.9/site-packages/sklearn/linear_model/_logistic.py:763: ConvergenceWarning: lbfgs failed to converge (status=1):\n",
      "STOP: TOTAL NO. of ITERATIONS REACHED LIMIT.\n",
      "\n",
      "Increase the number of iterations (max_iter) or scale the data as shown in:\n",
      "    https://scikit-learn.org/stable/modules/preprocessing.html\n",
      "Please also refer to the documentation for alternative solver options:\n",
      "    https://scikit-learn.org/stable/modules/linear_model.html#logistic-regression\n",
      "  n_iter_i = _check_optimize_result(\n"
     ]
    }
   ],
   "source": [
    "model_dtc_upsampled = DecisionTreeClassifier(criterion='entropy', max_depth=7, random_state=999)\n",
    "model_dtc_upsampled.fit(features_upsampled, target_upsampled)\n",
    "predictions_dtc_upsampled = model_dtc_upsampled.predict(features_test)\n",
    "result_dtc_upsampled = f1_score(target_test, predictions_dtc_upsampled)\n",
    "model_dtc_upsampled_prob = model_dtc_upsampled.predict_proba(features_test)\n",
    "model_dtc_upsampled_prob_one = model_dtc_upsampled_prob[:,1]\n",
    "auc_roc_dtc_upsampled = roc_auc_score(target_test, model_dtc_upsampled_prob_one)\n",
    "print('Дерево решений')\n",
    "print('Матрица ошибок:', confusion_matrix(target_test, predictions_dtc_upsampled))\n",
    "print('AUC-ROC:', auc_roc_dtc_upsampled)\n",
    "print(\"F1-мера:\", result_dtc_upsampled)\n",
    "print('-' * 40)\n",
    "\n",
    "model_rfc_upsampled = RandomForestClassifier(max_depth=16, n_estimators=76, random_state=666)\n",
    "model_rfc_upsampled.fit(features_upsampled, target_upsampled)\n",
    "predictions_rfc_upsampled = model_rfc_upsampled.predict(features_test)\n",
    "result_rfc_upsampled = f1_score(target_test, predictions_rfc_upsampled)\n",
    "model_rfc_upsampled_prob = model_rfc_upsampled.predict_proba(features_test)\n",
    "model_rfc_upsampled_prob_one = model_rfc_upsampled_prob[:,1]\n",
    "auc_roc_rfc_upsampled = roc_auc_score(target_test, model_rfc_upsampled_prob_one)\n",
    "print('Случайный лес')\n",
    "print('Матрица ошибок:', confusion_matrix(target_test, predictions_rfc_upsampled))\n",
    "print('AUC-ROC:', auc_roc_rfc_upsampled)\n",
    "print(\"F1-мера:\", result_rfc_upsampled)\n",
    "print('-' * 40)\n",
    "\n",
    "model_lr_upsampled = LogisticRegression(random_state=666, max_iter=10, solver='lbfgs')\n",
    "model_lr_upsampled.fit(features_upsampled, target_upsampled)\n",
    "predictions_lr_upsampled = model_lr_upsampled.predict(features_test)\n",
    "result_lr_upsampled = f1_score(target_test, predictions_lr_upsampled)\n",
    "model_lr_upsampled_prob = model_lr_upsampled.predict_proba(features_test)\n",
    "model_lr_upsampled_prob_one = model_lr_upsampled_prob[:,1]\n",
    "auc_roc_lr_upsampled = roc_auc_score(target_test, model_lr_upsampled_prob_one)\n",
    "print('Логистическая регрессия')\n",
    "print('Матрица ошибок:', confusion_matrix(target_test, predictions_lr_upsampled))\n",
    "print('AUC-ROC:', auc_roc_lr_upsampled)\n",
    "print(\"F1-мера:\", result_lr_upsampled)"
   ]
  },
  {
   "cell_type": "markdown",
   "metadata": {},
   "source": [
    "**Промежуточный вывод:**\n",
    "\n",
    "Метод upsampling для случайного леса ухудшил показатель FN, F1-мера снизилась до 0.612, но остаётся выше допустимого предела 0.59. \n",
    "\n",
    "На F1-меру модели логистической регрессии метод upsampling повлиял лучше, чем на другие модели - 0.314 до и 0.488 после обработки.\n",
    "\n",
    "Модель случайного леса - единственная прошла порог F1-меры 0.59."
   ]
  },
  {
   "cell_type": "markdown",
   "metadata": {},
   "source": [
    "### Уменьшение выборки"
   ]
  },
  {
   "cell_type": "markdown",
   "metadata": {},
   "source": [
    "Првоедём аналогичные операции с использованием метода уменьшения выборки."
   ]
  },
  {
   "cell_type": "code",
   "execution_count": 72,
   "metadata": {},
   "outputs": [
    {
     "name": "stdout",
     "output_type": "stream",
     "text": [
      "3021\n",
      "3021\n",
      "1    1528\n",
      "0    1493\n",
      "Name: exited, dtype: int64\n"
     ]
    }
   ],
   "source": [
    "def downsample(features, target, fraction):\n",
    "    features_zeros = features[target == 0]\n",
    "    features_ones = features[target == 1]\n",
    "    target_zeros = target[target == 0]\n",
    "    target_ones = target[target == 1]\n",
    "\n",
    "    features_downsampled = pd.concat(\n",
    "        [features_zeros.sample(frac=fraction, random_state=777)] + [features_ones])\n",
    "    target_downsampled = pd.concat(\n",
    "        [target_zeros.sample(frac=fraction, random_state=777)] + [target_ones])\n",
    "    \n",
    "    features_downsampled, target_downsampled = shuffle(\n",
    "        features_downsampled, target_downsampled, random_state=777)\n",
    "    \n",
    "    return features_downsampled, target_downsampled\n",
    "\n",
    "features_downsampled, target_downsampled = downsample(features_train, target_train, 0.25)\n",
    "\n",
    "# Проверяем\n",
    "print(len(features_downsampled))\n",
    "print(len(target_downsampled))\n",
    "print(target_downsampled.value_counts())"
   ]
  },
  {
   "cell_type": "code",
   "execution_count": 73,
   "metadata": {
    "scrolled": false
   },
   "outputs": [
    {
     "name": "stdout",
     "output_type": "stream",
     "text": [
      "Дерево решений\n",
      "Матрица ошибок: [[1584  407]\n",
      " [ 145  364]]\n",
      "AUC-ROC: 0.8211766307914101\n",
      "F1-мера: 0.56875\n",
      "----------------------------------------\n",
      "Случайный лес\n",
      "Матрица ошибок: [[1572  419]\n",
      " [ 132  377]]\n",
      "AUC-ROC: 0.8462787849842957\n",
      "F1-мера: 0.5777777777777777\n",
      "----------------------------------------\n",
      "Логистическая регрессия\n",
      "Матрица ошибок: [[1397  594]\n",
      " [ 155  354]]\n",
      "AUC-ROC: 0.7645731923320955\n",
      "F1-мера: 0.4859299931365819\n"
     ]
    },
    {
     "name": "stderr",
     "output_type": "stream",
     "text": [
      "/opt/conda/lib/python3.9/site-packages/sklearn/linear_model/_logistic.py:763: ConvergenceWarning: lbfgs failed to converge (status=1):\n",
      "STOP: TOTAL NO. of ITERATIONS REACHED LIMIT.\n",
      "\n",
      "Increase the number of iterations (max_iter) or scale the data as shown in:\n",
      "    https://scikit-learn.org/stable/modules/preprocessing.html\n",
      "Please also refer to the documentation for alternative solver options:\n",
      "    https://scikit-learn.org/stable/modules/linear_model.html#logistic-regression\n",
      "  n_iter_i = _check_optimize_result(\n"
     ]
    }
   ],
   "source": [
    "model_dtc_downsampled = DecisionTreeClassifier(criterion='entropy', max_depth=7, random_state=999)\n",
    "model_dtc_downsampled.fit(features_downsampled, target_downsampled)\n",
    "predictions_dtc_downsampled = model_dtc_downsampled.predict(features_test)\n",
    "result_dtc_downsampled = f1_score(target_test, predictions_dtc_downsampled)\n",
    "model_dtc_downsampled_prob = model_dtc_downsampled.predict_proba(features_test)\n",
    "model_dtc_downsampled_prob_one = model_dtc_downsampled_prob[:,1]\n",
    "auc_roc_dtc_downsampled = roc_auc_score(target_test, model_dtc_downsampled_prob_one)\n",
    "print('Дерево решений')\n",
    "print('Матрица ошибок:', confusion_matrix(target_test, predictions_dtc_downsampled))\n",
    "print('AUC-ROC:', auc_roc_dtc_downsampled)\n",
    "print(\"F1-мера:\", result_dtc_downsampled)\n",
    "print('-' * 40)\n",
    "\n",
    "model_rfc_downsampled = RandomForestClassifier(max_depth=16, n_estimators=76, random_state=666)\n",
    "model_rfc_downsampled.fit(features_downsampled, target_downsampled)\n",
    "predictions_rfc_downsampled = model_rfc_downsampled.predict(features_test)\n",
    "result_rfc_downsampled = f1_score(target_test, predictions_rfc_downsampled)\n",
    "model_rfc_downsampled_prob = model_rfc_downsampled.predict_proba(features_test)\n",
    "model_rfc_downsampled_prob_one = model_rfc_downsampled_prob[:,1]\n",
    "auc_roc_rfc_downsampled = roc_auc_score(target_test, model_rfc_downsampled_prob_one)\n",
    "print('Случайный лес')\n",
    "print('Матрица ошибок:', confusion_matrix(target_test, predictions_rfc_downsampled))\n",
    "print('AUC-ROC:', auc_roc_rfc_downsampled)\n",
    "print(\"F1-мера:\", result_rfc_downsampled)\n",
    "print('-' * 40)\n",
    "\n",
    "model_lr_downsampled = LogisticRegression(random_state=666, max_iter=10, solver='lbfgs')\n",
    "model_lr_downsampled.fit(features_downsampled, target_downsampled)\n",
    "predictions_lr_downsampled = model_lr_downsampled.predict(features_test)\n",
    "result_lr_downsampled = f1_score(target_test, predictions_lr_downsampled)\n",
    "model_lr_downsampled_prob = model_lr_downsampled.predict_proba(features_test)\n",
    "model_lr_downsampled_prob_one = model_lr_downsampled_prob[:,1]\n",
    "auc_roc_lr_downsampled = roc_auc_score(target_test, model_lr_downsampled_prob_one)\n",
    "print('Логистическая регрессия')\n",
    "print('Матрица ошибок:', confusion_matrix(target_test, predictions_lr_downsampled))\n",
    "print('AUC-ROC:', auc_roc_lr_downsampled)\n",
    "print(\"F1-мера:\", result_lr_downsampled)"
   ]
  },
  {
   "cell_type": "markdown",
   "metadata": {},
   "source": [
    "**Промежуточный вывод:**\n",
    "\n",
    "Качество модели `RandomForestClassifier` опустилось ниже допустимого предела, до 0.578, но количество FN значительно улучшилось - модель упустила всего 26% клиентов."
   ]
  },
  {
   "cell_type": "markdown",
   "metadata": {},
   "source": [
    "### Вывод"
   ]
  },
  {
   "cell_type": "markdown",
   "metadata": {},
   "source": [
    "Дальнейшую пригодность для решения задачи показали модели случайного леса, улучшенные уравновешиванием классов и увеличением выборки. F1-мера после борьбы с дисбалансом > 0.59."
   ]
  },
  {
   "cell_type": "markdown",
   "metadata": {},
   "source": [
    "<table width=680>\n",
    " <caption>До борьбы с дисбалансом</caption>\n",
    " <tr>\n",
    "  <th></th>\n",
    "  <th>Дерево решений</th>\n",
    "  <th>Случайный лес</th>\n",
    "  <th>Логистическая регрессия</th>\n",
    " </tr>\n",
    " <tr><td>F1-мера</td><td>0.556</td><td>0.572</td><td>0.314</td></tr>    \n",
    " <tr><td>AUC-ROC</td><td>0.829</td><td>0.849</td><td>0.758</td></tr>\n",
    " <tr><td>FN</td><td>280</td><td>279</td><td>399</td></tr>\n",
    "</table>\n",
    "\n",
    "<table width=680>\n",
    " <caption>Уравновешивание классов</caption>\n",
    " <tr>\n",
    "  <th></th>\n",
    "  <th>Дерево решений</th>\n",
    "  <th>Случайный лес</th>\n",
    "  <th>Логистическая регрессия</th>\n",
    " </tr>\n",
    " <tr><td>F1-мера</td><td bgcolor=\"#aaffaa\">0.572</td><td bgcolor=\"#aaffaa\">0.615</td><td>0.314</td></tr> \n",
    " <tr><td>AUC-ROC</td><td>0.829</td><td bgcolor=\"#aaffaa\">0.855</td><td bgcolor=\"#aaffaa\">0.765</td></tr>\n",
    " <tr><td>FN</td><td bgcolor=\"#aaffaa\">136</td><td bgcolor=\"#aaffaa\">153</td><td bgcolor=\"#ffaaaa\">162</td></tr>\n",
    "</table>\n",
    "\n",
    "<table width=680>\n",
    " <caption>Увеличение выборки</caption>\n",
    " <tr>\n",
    "  <th></th>\n",
    "  <th>Дерево решений</th>\n",
    "  <th>Случайный лес</th>\n",
    "  <th>Логистическая регрессия</th>\n",
    " </tr>\n",
    " <tr><td>F1-мера</td><td>0.556</td><td bgcolor=\"#aaffaa\">0.612</td><td bgcolor=\"#ffaaaa\">0.488</td></tr> \n",
    " <tr><td>AUC-ROC</td><td bgcolor=\"#ffaaaa\">0.828</td><td>0.849</td><td bgcolor=\"#aaffaa\">0.765</td></tr>\n",
    " <tr><td>FN</td><td bgcolor=\"#aaffaa\">137</td><td bgcolor=\"#aaffaa\">218</td><td bgcolor=\"#ffaaaa\">153</td></tr>\n",
    "</table>\n",
    "\n",
    "<table width=680>\n",
    " <caption>Уменьшение выборки</caption>\n",
    " <tr>\n",
    "  <th></th>\n",
    "  <th>Дерево решений</th>\n",
    "  <th>Случайный лес</th>\n",
    "  <th>Логистическая регрессия</th>\n",
    " </tr>\n",
    " <tr><td>F1-мера</td><td bgcolor=\"#aaffaa\">0.569</td><td bgcolor=\"#aaffaa\">0.578</td><td bgcolor=\"#ffaaaa\">0.486</td></tr> \n",
    " <tr><td>AUC-ROC</td><td bgcolor=\"#ffaaaa\">0.821</td><td bgcolor=\"#ffaaaa\">0.846</td><td bgcolor=\"#aaffaa\">0.765</td></tr>\n",
    " <tr><td>FN</td><td bgcolor=\"#aaffaa\">145</td><td bgcolor=\"#aaffaa\">132</td><td bgcolor=\"#ffaaaa\">155</td></tr>\n",
    "</table>\n"
   ]
  },
  {
   "cell_type": "markdown",
   "metadata": {},
   "source": [
    "## Тестирование модели"
   ]
  },
  {
   "cell_type": "markdown",
   "metadata": {},
   "source": [
    "### Исследование F1-меры, матриц ошибок, AUC-ROC"
   ]
  },
  {
   "cell_type": "markdown",
   "metadata": {},
   "source": [
    "Испытаем модели, прошедшие порог F1-меры 0.59, модели на тестовой выборке."
   ]
  },
  {
   "cell_type": "code",
   "execution_count": 74,
   "metadata": {},
   "outputs": [
    {
     "name": "stdout",
     "output_type": "stream",
     "text": [
      "Матрица ошибок: [[1708  283]\n",
      " [ 153  356]]\n",
      "F1-мера: 0.6202090592334496\n"
     ]
    }
   ],
   "source": [
    "#Взвешенные классы\n",
    "\n",
    "predictions_rfc_updated = model_rfc_updated.predict(features_test)\n",
    "result_rfc_updated = f1_score(target_test, predictions_rfc_updated)\n",
    "print('Матрица ошибок:', confusion_matrix(target_test, predictions_rfc_updated))\n",
    "print(\"F1-мера:\", result_rfc_updated)"
   ]
  },
  {
   "cell_type": "code",
   "execution_count": 75,
   "metadata": {},
   "outputs": [
    {
     "name": "stdout",
     "output_type": "stream",
     "text": [
      "Случайный лес\n",
      "Матрица ошибок: [[1840  151]\n",
      " [ 218  291]]\n",
      "F1-мера: 0.61198738170347\n"
     ]
    }
   ],
   "source": [
    "#Увеличение выборки\n",
    "\n",
    "predictions_rfc_upsampled = model_rfc_upsampled.predict(features_test)\n",
    "result_rfc_upsampled = f1_score(target_test, predictions_rfc_upsampled)\n",
    "print('Случайный лес')\n",
    "print('Матрица ошибок:', confusion_matrix(target_test, predictions_rfc_upsampled))\n",
    "print(\"F1-мера:\", result_rfc_upsampled)"
   ]
  },
  {
   "cell_type": "markdown",
   "metadata": {},
   "source": [
    "Все модели обладают своими преимуществами: \n",
    "- `model_rfc_updated` - наилучший показатель FP, средняя F1-мера;\n",
    "- `model_rfc_upsampled` - лучшая F1-мера, средние показатели матрицы ошибок;\n",
    "- `model_rfc_downsampled` - лучший показатель FN."
   ]
  },
  {
   "cell_type": "markdown",
   "metadata": {},
   "source": [
    "### AUC-ROC"
   ]
  },
  {
   "cell_type": "markdown",
   "metadata": {},
   "source": [
    "Распределение F1-меры по моделям рассчитано, но отличается на несколько тысячных долей. Эксперименты показывают, что тысячные доли изменяются при подборе параметра `random_state`. Обратим внимание на матрицу ошибок и построим ROC-кривые для наглядного отображения и посчитаем AUC-ROC."
   ]
  },
  {
   "cell_type": "code",
   "execution_count": 76,
   "metadata": {},
   "outputs": [],
   "source": [
    "def auc_roc_draw(model_name, title):\n",
    "    probab = model_name.predict_proba(features_test)\n",
    "    probab_one = probab[:, 1]\n",
    "    fpr, tpr, thresholds = roc_curve(target_test, probab_one)\n",
    "    plt.figure()\n",
    "    figure(figsize=(5, 5))\n",
    "    plt.plot(fpr, tpr)\n",
    "    plt.plot([0, 1], [0, 1], linestyle='--')\n",
    "    plt.xlim([0.0, 1.0])\n",
    "    plt.ylim([0.0, 1.0])\n",
    "    plt.xlabel('False Positive Rate')\n",
    "    plt.ylabel('True Positive Rate')\n",
    "    plt.title(title)\n",
    "    plt.show()"
   ]
  },
  {
   "cell_type": "code",
   "execution_count": 77,
   "metadata": {},
   "outputs": [
    {
     "data": {
      "text/plain": [
       "<Figure size 1152x432 with 0 Axes>"
      ]
     },
     "metadata": {},
     "output_type": "display_data"
    },
    {
     "data": {
      "image/png": "[encoded data removed]",
      "text/plain": [
       "<Figure size 360x360 with 1 Axes>"
      ]
     },
     "metadata": {
      "needs_background": "light"
     },
     "output_type": "display_data"
    },
    {
     "name": "stdout",
     "output_type": "stream",
     "text": [
      "None\n",
      "AUC-ROC: 0.8554536672393158\n"
     ]
    }
   ],
   "source": [
    "print(auc_roc_draw(model_rfc_updated, 'ROC-кривая, взвешенные классы'))\n",
    "print('AUC-ROC:',auc_roc_rfc_updated)"
   ]
  },
  {
   "cell_type": "code",
   "execution_count": 78,
   "metadata": {},
   "outputs": [
    {
     "data": {
      "text/plain": [
       "<Figure size 1152x432 with 0 Axes>"
      ]
     },
     "metadata": {},
     "output_type": "display_data"
    },
    {
     "data": {
      "image/png": "[encoded data removed]",
      "text/plain": [
       "<Figure size 360x360 with 1 Axes>"
      ]
     },
     "metadata": {
      "needs_background": "light"
     },
     "output_type": "display_data"
    },
    {
     "name": "stdout",
     "output_type": "stream",
     "text": [
      "None\n",
      "AUC-ROC: 0.849372273462408\n"
     ]
    }
   ],
   "source": [
    "print(auc_roc_draw(model_rfc_upsampled, 'ROC-кривая, увеличение выборки'))\n",
    "print('AUC-ROC:',auc_roc_rfc_upsampled)"
   ]
  },
  {
   "cell_type": "markdown",
   "metadata": {},
   "source": [
    "Отличия между моделями незначительные."
   ]
  },
  {
   "cell_type": "markdown",
   "metadata": {},
   "source": [
    "### Вывод"
   ]
  },
  {
   "cell_type": "markdown",
   "metadata": {},
   "source": [
    "Выбранные модели показали допустимый результат при вычислении F1-меры.\n",
    "\n",
    "На основании значений показателей качества моделей принимаем решение, что для поставленной задачи лучшая модель - случайный лес, улучшенный балансировкой целевых классов, так как имеет наивысшую F1-меру и AUC-ROC.\n",
    "\n",
    "В зависимости от цели, например, фокусировании на потенциально уходящих клиентах, допустимо использовать модель случайного леса, улучшенную уменьшением выборки, так как эта модель даёт наименьшее количество ложно отрицательных результатов."
   ]
  },
  {
   "cell_type": "markdown",
   "metadata": {},
   "source": [
    "## Вывод"
   ]
  },
  {
   "cell_type": "markdown",
   "metadata": {},
   "source": [
    "Проведено исследование исторических данных о клиентах \"Бета-Банка\" и спрогнозированы расторжения их договоров с банком.\n",
    "\n",
    "Данные предобработали и масштабировали методом нормализации. В ходе анализа было выявлено, что данные о зарплате не являются достоверными. Модели построены с учётом этого признака, что могло повлиять на её качество и конечный результат.\n",
    "\n",
    "Построение моделей провели алгоритмами \"дерево решений\", \"случайный лес\" и \"логистическая регрессия\". При изучении метрик \"F1-мера\" и \"матрица ошибок\" выявили, что построение моделей на \"сырых\" данных не имеют необходимого качества, так как в целевом признаке присутствует дисбаланс классов в соотношении 1:4. В качестве борьбы с дисбалансом балансировали целевые классов, а также применили методы увеличения и уменьшения выборок. Результаты следующие:\n",
    "1. Модели логистической регрессии показывают низкое качество при решении поставленной задачи.\n",
    "2. Модели дерева решений имеют лучшее качество, но недостаточное для требуемой задачи.\n",
    "3. Модели случайного леса позволяют решить задачу на необходимом уровне.\n",
    "4. Модель случайного леса, улучшенная уравновешением классов, показала наилучший результат. F1-мера - 0.620, AUC-ROC = 0.855, матрица ошибок: \n",
    "<table width=115>\n",
    " <caption>Матрица ошибок</caption>\n",
    " <tr>\n",
    "  <th></th>\n",
    "  <th>0</th>\n",
    "  <th>1</th>\n",
    " </tr>\n",
    " <tr><td>0</td><td>1708</td><td>283</td></tr>\n",
    " <tr><td>1</td><td>153</td><td>356</td></tr>\n",
    "</table>"
   ]
  },
  {
   "cell_type": "markdown",
   "metadata": {},
   "source": [
    "## Чек-лист готовности проекта"
   ]
  },
  {
   "cell_type": "markdown",
   "metadata": {},
   "source": [
    "- [x]  Jupyter Notebook открыт\n",
    "- [x]  Весь код выполняется без ошибок\n",
    "- [x]  Ячейки с кодом расположены в порядке исполнения\n",
    "- [x]  Выполнен шаг 1: данные подготовлены\n",
    "- [x]  Выполнен шаг 2: задача исследована\n",
    "    - [x]  Исследован баланс классов\n",
    "    - [x]  Изучены модели без учёта дисбаланса\n",
    "    - [x]  Написаны выводы по результатам исследования\n",
    "- [x]  Выполнен шаг 3: учтён дисбаланс\n",
    "    - [x]  Применено несколько способов борьбы с дисбалансом\n",
    "    - [x]  Написаны выводы по результатам исследования\n",
    "- [x]  Выполнен шаг 4: проведено тестирование\n",
    "- [x]  Удалось достичь *F1*-меры не менее 0.59\n",
    "- [x]  Исследована метрика *AUC-ROC*"
   ]
  }
 ],
 "metadata": {
  "ExecuteTimeLog": [
   {
    "duration": 135,
    "start_time": "2022-05-16T07:53:23.313Z"
   },
   {
    "duration": 481,
    "start_time": "2022-05-16T07:53:31.636Z"
   },
   {
    "duration": 37,
    "start_time": "2022-05-16T07:53:53.175Z"
   },
   {
    "duration": 45,
    "start_time": "2022-05-16T07:53:58.007Z"
   },
   {
    "duration": 20,
    "start_time": "2022-05-16T07:57:57.057Z"
   },
   {
    "duration": 59,
    "start_time": "2022-05-16T08:45:11.286Z"
   },
   {
    "duration": 97,
    "start_time": "2022-05-16T10:22:01.007Z"
   },
   {
    "duration": 603,
    "start_time": "2022-05-16T10:22:14.137Z"
   },
   {
    "duration": 636,
    "start_time": "2022-05-16T10:22:18.638Z"
   },
   {
    "duration": 1417,
    "start_time": "2022-05-16T10:22:31.322Z"
   },
   {
    "duration": 810,
    "start_time": "2022-05-16T10:23:10.591Z"
   },
   {
    "duration": 839,
    "start_time": "2022-05-16T10:23:48.503Z"
   },
   {
    "duration": 213,
    "start_time": "2022-05-16T10:26:01.542Z"
   },
   {
    "duration": 888,
    "start_time": "2022-05-16T10:26:06.598Z"
   },
   {
    "duration": 921,
    "start_time": "2022-05-16T10:27:20.439Z"
   },
   {
    "duration": 1034,
    "start_time": "2022-05-16T10:27:28.521Z"
   },
   {
    "duration": 1253,
    "start_time": "2022-05-16T12:24:26.682Z"
   },
   {
    "duration": 861,
    "start_time": "2022-05-17T06:55:58.587Z"
   },
   {
    "duration": 36,
    "start_time": "2022-05-17T06:55:59.451Z"
   },
   {
    "duration": 37,
    "start_time": "2022-05-17T06:55:59.490Z"
   },
   {
    "duration": 17,
    "start_time": "2022-05-17T06:55:59.529Z"
   },
   {
    "duration": 84,
    "start_time": "2022-05-17T06:55:59.549Z"
   },
   {
    "duration": 988,
    "start_time": "2022-05-17T06:55:59.635Z"
   },
   {
    "duration": 1337,
    "start_time": "2022-05-17T06:57:03.220Z"
   },
   {
    "duration": 892,
    "start_time": "2022-05-17T06:57:31.331Z"
   },
   {
    "duration": 32,
    "start_time": "2022-05-17T06:57:32.226Z"
   },
   {
    "duration": 45,
    "start_time": "2022-05-17T06:57:32.260Z"
   },
   {
    "duration": 18,
    "start_time": "2022-05-17T06:57:32.308Z"
   },
   {
    "duration": 87,
    "start_time": "2022-05-17T06:57:32.329Z"
   },
   {
    "duration": 1218,
    "start_time": "2022-05-17T06:57:32.418Z"
   },
   {
    "duration": 119,
    "start_time": "2022-05-17T07:05:43.477Z"
   },
   {
    "duration": 5,
    "start_time": "2022-05-17T07:05:48.981Z"
   },
   {
    "duration": 91,
    "start_time": "2022-05-17T07:06:06.073Z"
   },
   {
    "duration": 32,
    "start_time": "2022-05-17T07:06:27.937Z"
   },
   {
    "duration": 18,
    "start_time": "2022-05-17T07:06:37.932Z"
   },
   {
    "duration": 2632,
    "start_time": "2022-05-17T07:08:15.286Z"
   },
   {
    "duration": 14,
    "start_time": "2022-05-17T07:08:22.920Z"
   },
   {
    "duration": 451,
    "start_time": "2022-05-17T07:10:50.555Z"
   },
   {
    "duration": 393,
    "start_time": "2022-05-17T07:11:01.003Z"
   },
   {
    "duration": 215,
    "start_time": "2022-05-17T07:11:22.993Z"
   },
   {
    "duration": 394,
    "start_time": "2022-05-17T07:11:33.219Z"
   },
   {
    "duration": 398,
    "start_time": "2022-05-17T07:12:12.944Z"
   },
   {
    "duration": 373,
    "start_time": "2022-05-17T07:13:05.452Z"
   },
   {
    "duration": 738,
    "start_time": "2022-05-17T07:14:53.828Z"
   },
   {
    "duration": 591,
    "start_time": "2022-05-17T07:14:59.665Z"
   },
   {
    "duration": 537,
    "start_time": "2022-05-17T07:16:00.268Z"
   },
   {
    "duration": 538,
    "start_time": "2022-05-17T07:18:38.930Z"
   },
   {
    "duration": 660,
    "start_time": "2022-05-17T07:19:18.885Z"
   },
   {
    "duration": 561,
    "start_time": "2022-05-17T07:19:31.922Z"
   },
   {
    "duration": 478,
    "start_time": "2022-05-17T07:19:50.342Z"
   },
   {
    "duration": 464,
    "start_time": "2022-05-17T07:20:01.693Z"
   },
   {
    "duration": 480,
    "start_time": "2022-05-17T07:20:22.559Z"
   },
   {
    "duration": 9,
    "start_time": "2022-05-17T07:36:01.488Z"
   },
   {
    "duration": 18,
    "start_time": "2022-05-17T08:39:57.274Z"
   },
   {
    "duration": 35,
    "start_time": "2022-05-17T08:40:01.318Z"
   },
   {
    "duration": 905,
    "start_time": "2022-05-17T08:40:36.048Z"
   },
   {
    "duration": 32,
    "start_time": "2022-05-17T08:40:36.956Z"
   },
   {
    "duration": 37,
    "start_time": "2022-05-17T08:40:36.991Z"
   },
   {
    "duration": 19,
    "start_time": "2022-05-17T08:40:37.031Z"
   },
   {
    "duration": 58,
    "start_time": "2022-05-17T08:40:37.081Z"
   },
   {
    "duration": 1197,
    "start_time": "2022-05-17T08:40:37.141Z"
   },
   {
    "duration": 659,
    "start_time": "2022-05-17T08:40:38.340Z"
   },
   {
    "duration": 543,
    "start_time": "2022-05-17T08:40:39.001Z"
   },
   {
    "duration": 479,
    "start_time": "2022-05-17T08:40:39.546Z"
   },
   {
    "duration": 9,
    "start_time": "2022-05-17T08:40:40.027Z"
   },
   {
    "duration": 10,
    "start_time": "2022-05-17T08:40:40.038Z"
   },
   {
    "duration": 50,
    "start_time": "2022-05-17T08:40:40.050Z"
   },
   {
    "duration": 14,
    "start_time": "2022-05-17T09:00:26.956Z"
   },
   {
    "duration": 14,
    "start_time": "2022-05-17T09:02:11.481Z"
   },
   {
    "duration": 9,
    "start_time": "2022-05-17T10:15:03.154Z"
   },
   {
    "duration": 6,
    "start_time": "2022-05-17T10:15:11.370Z"
   },
   {
    "duration": 7,
    "start_time": "2022-05-17T10:15:23.483Z"
   },
   {
    "duration": 6,
    "start_time": "2022-05-17T10:15:26.629Z"
   },
   {
    "duration": 28,
    "start_time": "2022-05-17T10:15:34.259Z"
   },
   {
    "duration": 6,
    "start_time": "2022-05-17T10:15:54.228Z"
   },
   {
    "duration": 3121,
    "start_time": "2022-05-17T10:37:12.880Z"
   },
   {
    "duration": 6,
    "start_time": "2022-05-17T10:37:22.651Z"
   },
   {
    "duration": 2055,
    "start_time": "2022-05-17T10:37:30.633Z"
   },
   {
    "duration": 868,
    "start_time": "2022-05-17T10:37:39.759Z"
   },
   {
    "duration": 32,
    "start_time": "2022-05-17T10:37:40.629Z"
   },
   {
    "duration": 65,
    "start_time": "2022-05-17T10:37:40.663Z"
   },
   {
    "duration": 22,
    "start_time": "2022-05-17T10:37:40.732Z"
   },
   {
    "duration": 76,
    "start_time": "2022-05-17T10:37:40.758Z"
   },
   {
    "duration": 1202,
    "start_time": "2022-05-17T10:37:40.836Z"
   },
   {
    "duration": 663,
    "start_time": "2022-05-17T10:37:42.040Z"
   },
   {
    "duration": 536,
    "start_time": "2022-05-17T10:37:42.705Z"
   },
   {
    "duration": 479,
    "start_time": "2022-05-17T10:37:43.243Z"
   },
   {
    "duration": 8,
    "start_time": "2022-05-17T10:37:43.725Z"
   },
   {
    "duration": 18,
    "start_time": "2022-05-17T10:37:43.736Z"
   },
   {
    "duration": 26,
    "start_time": "2022-05-17T10:37:43.756Z"
   },
   {
    "duration": 30,
    "start_time": "2022-05-17T10:37:43.785Z"
   },
   {
    "duration": 8,
    "start_time": "2022-05-17T10:37:43.820Z"
   },
   {
    "duration": 7,
    "start_time": "2022-05-17T10:37:43.831Z"
   },
   {
    "duration": 8,
    "start_time": "2022-05-17T10:37:43.880Z"
   },
   {
    "duration": 11,
    "start_time": "2022-05-17T10:37:50.454Z"
   },
   {
    "duration": 2817,
    "start_time": "2022-05-17T10:38:46.193Z"
   },
   {
    "duration": 897,
    "start_time": "2022-05-17T10:39:04.403Z"
   },
   {
    "duration": 33,
    "start_time": "2022-05-17T10:39:05.302Z"
   },
   {
    "duration": 47,
    "start_time": "2022-05-17T10:39:05.337Z"
   },
   {
    "duration": 20,
    "start_time": "2022-05-17T10:39:05.386Z"
   },
   {
    "duration": 78,
    "start_time": "2022-05-17T10:39:05.409Z"
   },
   {
    "duration": 1426,
    "start_time": "2022-05-17T10:39:05.489Z"
   },
   {
    "duration": 671,
    "start_time": "2022-05-17T10:39:06.917Z"
   },
   {
    "duration": 553,
    "start_time": "2022-05-17T10:39:07.591Z"
   },
   {
    "duration": 487,
    "start_time": "2022-05-17T10:39:08.146Z"
   },
   {
    "duration": 9,
    "start_time": "2022-05-17T10:39:08.635Z"
   },
   {
    "duration": 37,
    "start_time": "2022-05-17T10:39:08.647Z"
   },
   {
    "duration": 6,
    "start_time": "2022-05-17T10:39:08.687Z"
   },
   {
    "duration": 54,
    "start_time": "2022-05-17T10:39:08.695Z"
   },
   {
    "duration": 7,
    "start_time": "2022-05-17T10:39:08.753Z"
   },
   {
    "duration": 12,
    "start_time": "2022-05-17T10:39:08.762Z"
   },
   {
    "duration": 11,
    "start_time": "2022-05-17T10:39:08.780Z"
   },
   {
    "duration": 36,
    "start_time": "2022-05-17T10:39:08.793Z"
   },
   {
    "duration": 14,
    "start_time": "2022-05-17T10:40:09.632Z"
   },
   {
    "duration": 890,
    "start_time": "2022-05-17T10:41:07.867Z"
   },
   {
    "duration": 32,
    "start_time": "2022-05-17T10:41:08.760Z"
   },
   {
    "duration": 37,
    "start_time": "2022-05-17T10:41:08.795Z"
   },
   {
    "duration": 19,
    "start_time": "2022-05-17T10:41:08.834Z"
   },
   {
    "duration": 59,
    "start_time": "2022-05-17T10:41:08.880Z"
   },
   {
    "duration": 1258,
    "start_time": "2022-05-17T10:41:08.941Z"
   },
   {
    "duration": 734,
    "start_time": "2022-05-17T10:41:10.202Z"
   },
   {
    "duration": 573,
    "start_time": "2022-05-17T10:41:10.938Z"
   },
   {
    "duration": 489,
    "start_time": "2022-05-17T10:41:11.514Z"
   },
   {
    "duration": 9,
    "start_time": "2022-05-17T10:41:12.006Z"
   },
   {
    "duration": 21,
    "start_time": "2022-05-17T10:41:12.017Z"
   },
   {
    "duration": 6,
    "start_time": "2022-05-17T10:41:12.040Z"
   },
   {
    "duration": 55,
    "start_time": "2022-05-17T10:41:12.047Z"
   },
   {
    "duration": 9,
    "start_time": "2022-05-17T10:41:12.106Z"
   },
   {
    "duration": 11,
    "start_time": "2022-05-17T10:41:12.117Z"
   },
   {
    "duration": 18,
    "start_time": "2022-05-17T10:41:12.130Z"
   },
   {
    "duration": 17,
    "start_time": "2022-05-17T10:41:12.179Z"
   },
   {
    "duration": 28,
    "start_time": "2022-05-17T10:43:07.496Z"
   },
   {
    "duration": 29,
    "start_time": "2022-05-17T10:44:27.886Z"
   },
   {
    "duration": 32,
    "start_time": "2022-05-17T10:45:53.472Z"
   },
   {
    "duration": 7,
    "start_time": "2022-05-17T10:47:14.919Z"
   },
   {
    "duration": 12,
    "start_time": "2022-05-17T10:47:37.802Z"
   },
   {
    "duration": 6,
    "start_time": "2022-05-17T10:47:50.259Z"
   },
   {
    "duration": 6,
    "start_time": "2022-05-17T10:47:56.442Z"
   },
   {
    "duration": 8,
    "start_time": "2022-05-17T10:48:06.757Z"
   },
   {
    "duration": 9,
    "start_time": "2022-05-17T10:52:03.164Z"
   },
   {
    "duration": 9,
    "start_time": "2022-05-17T10:52:08.911Z"
   },
   {
    "duration": 8,
    "start_time": "2022-05-17T10:52:12.510Z"
   },
   {
    "duration": 9,
    "start_time": "2022-05-17T10:52:19.471Z"
   },
   {
    "duration": 9,
    "start_time": "2022-05-17T10:52:25.421Z"
   },
   {
    "duration": 9,
    "start_time": "2022-05-17T10:52:27.784Z"
   },
   {
    "duration": 6,
    "start_time": "2022-05-17T10:53:04.349Z"
   },
   {
    "duration": 108,
    "start_time": "2022-05-17T10:53:27.798Z"
   },
   {
    "duration": 6,
    "start_time": "2022-05-17T10:53:37.801Z"
   },
   {
    "duration": 12,
    "start_time": "2022-05-17T10:53:45.990Z"
   },
   {
    "duration": 12,
    "start_time": "2022-05-17T10:53:52.389Z"
   },
   {
    "duration": 16,
    "start_time": "2022-05-17T10:54:23.035Z"
   },
   {
    "duration": 12,
    "start_time": "2022-05-17T10:54:28.201Z"
   },
   {
    "duration": 15,
    "start_time": "2022-05-17T10:54:39.203Z"
   },
   {
    "duration": 11,
    "start_time": "2022-05-17T10:54:46.161Z"
   },
   {
    "duration": 12,
    "start_time": "2022-05-17T10:54:57.070Z"
   },
   {
    "duration": 11,
    "start_time": "2022-05-17T10:55:02.675Z"
   },
   {
    "duration": 11,
    "start_time": "2022-05-17T10:55:07.625Z"
   },
   {
    "duration": 11,
    "start_time": "2022-05-17T10:55:16.715Z"
   },
   {
    "duration": 16,
    "start_time": "2022-05-17T10:55:20.651Z"
   },
   {
    "duration": 11,
    "start_time": "2022-05-17T10:55:24.807Z"
   },
   {
    "duration": 2020,
    "start_time": "2022-05-17T10:59:00.292Z"
   },
   {
    "duration": 12,
    "start_time": "2022-05-17T10:59:26.087Z"
   },
   {
    "duration": 13,
    "start_time": "2022-05-17T10:59:47.175Z"
   },
   {
    "duration": 13,
    "start_time": "2022-05-17T11:04:58.621Z"
   },
   {
    "duration": 2632,
    "start_time": "2022-05-17T11:05:15.799Z"
   },
   {
    "duration": 8,
    "start_time": "2022-05-17T11:05:49.563Z"
   },
   {
    "duration": 8,
    "start_time": "2022-05-17T11:05:54.058Z"
   },
   {
    "duration": 13,
    "start_time": "2022-05-17T11:06:14.379Z"
   },
   {
    "duration": 13,
    "start_time": "2022-05-17T11:06:34.127Z"
   },
   {
    "duration": 13,
    "start_time": "2022-05-17T11:07:05.216Z"
   },
   {
    "duration": 10,
    "start_time": "2022-05-17T11:07:12.412Z"
   },
   {
    "duration": 9,
    "start_time": "2022-05-17T11:07:15.784Z"
   },
   {
    "duration": 9,
    "start_time": "2022-05-17T11:07:20.848Z"
   },
   {
    "duration": 8,
    "start_time": "2022-05-17T11:07:24.002Z"
   },
   {
    "duration": 10,
    "start_time": "2022-05-17T11:07:29.168Z"
   },
   {
    "duration": 8,
    "start_time": "2022-05-17T11:08:07.320Z"
   },
   {
    "duration": 11,
    "start_time": "2022-05-17T11:08:18.110Z"
   },
   {
    "duration": 8,
    "start_time": "2022-05-17T11:08:20.810Z"
   },
   {
    "duration": 8,
    "start_time": "2022-05-17T11:08:23.622Z"
   },
   {
    "duration": 5,
    "start_time": "2022-05-17T11:12:43.456Z"
   },
   {
    "duration": 11,
    "start_time": "2022-05-17T11:12:57.154Z"
   },
   {
    "duration": 11,
    "start_time": "2022-05-17T11:13:11.300Z"
   },
   {
    "duration": 6,
    "start_time": "2022-05-17T11:13:27.792Z"
   },
   {
    "duration": 130,
    "start_time": "2022-05-17T11:13:38.564Z"
   },
   {
    "duration": 138,
    "start_time": "2022-05-17T11:13:49.223Z"
   },
   {
    "duration": 10,
    "start_time": "2022-05-17T11:16:57.759Z"
   },
   {
    "duration": 6,
    "start_time": "2022-05-17T11:17:02.360Z"
   },
   {
    "duration": 121,
    "start_time": "2022-05-17T11:17:40.501Z"
   },
   {
    "duration": 6,
    "start_time": "2022-05-17T11:17:42.751Z"
   },
   {
    "duration": 10,
    "start_time": "2022-05-17T11:18:23.463Z"
   },
   {
    "duration": 10,
    "start_time": "2022-05-17T11:18:50.147Z"
   },
   {
    "duration": 8,
    "start_time": "2022-05-17T11:18:57.445Z"
   },
   {
    "duration": 11,
    "start_time": "2022-05-17T11:19:13.621Z"
   },
   {
    "duration": 5,
    "start_time": "2022-05-17T11:19:20.127Z"
   },
   {
    "duration": 6,
    "start_time": "2022-05-17T11:19:27.428Z"
   },
   {
    "duration": 8,
    "start_time": "2022-05-17T11:19:34.717Z"
   },
   {
    "duration": 9,
    "start_time": "2022-05-17T11:19:35.512Z"
   },
   {
    "duration": 10,
    "start_time": "2022-05-17T11:19:36.197Z"
   },
   {
    "duration": 9,
    "start_time": "2022-05-17T11:19:36.769Z"
   },
   {
    "duration": 9,
    "start_time": "2022-05-17T11:19:37.467Z"
   },
   {
    "duration": 9,
    "start_time": "2022-05-17T11:19:38.037Z"
   },
   {
    "duration": 10,
    "start_time": "2022-05-17T11:19:38.610Z"
   },
   {
    "duration": 8,
    "start_time": "2022-05-17T11:19:39.183Z"
   },
   {
    "duration": 10,
    "start_time": "2022-05-17T11:19:44.682Z"
   },
   {
    "duration": 14,
    "start_time": "2022-05-17T11:19:58.477Z"
   },
   {
    "duration": 19,
    "start_time": "2022-05-17T11:20:35.931Z"
   },
   {
    "duration": 22,
    "start_time": "2022-05-17T11:20:52.440Z"
   },
   {
    "duration": 6,
    "start_time": "2022-05-17T11:20:53.569Z"
   },
   {
    "duration": 7,
    "start_time": "2022-05-17T11:21:04.560Z"
   },
   {
    "duration": 7,
    "start_time": "2022-05-17T11:21:40.596Z"
   },
   {
    "duration": 11,
    "start_time": "2022-05-17T11:21:45.317Z"
   },
   {
    "duration": 12,
    "start_time": "2022-05-17T11:22:04.275Z"
   },
   {
    "duration": 12,
    "start_time": "2022-05-17T11:22:05.855Z"
   },
   {
    "duration": 11,
    "start_time": "2022-05-17T11:22:06.655Z"
   },
   {
    "duration": 12,
    "start_time": "2022-05-17T11:22:07.262Z"
   },
   {
    "duration": 11,
    "start_time": "2022-05-17T11:22:07.836Z"
   },
   {
    "duration": 12,
    "start_time": "2022-05-17T11:22:08.407Z"
   },
   {
    "duration": 12,
    "start_time": "2022-05-17T11:22:08.986Z"
   },
   {
    "duration": 11,
    "start_time": "2022-05-17T11:22:10.117Z"
   },
   {
    "duration": 6,
    "start_time": "2022-05-17T11:22:14.279Z"
   },
   {
    "duration": 855,
    "start_time": "2022-05-17T11:22:40.812Z"
   },
   {
    "duration": 36,
    "start_time": "2022-05-17T11:22:41.670Z"
   },
   {
    "duration": 38,
    "start_time": "2022-05-17T11:22:41.709Z"
   },
   {
    "duration": 38,
    "start_time": "2022-05-17T11:22:41.749Z"
   },
   {
    "duration": 69,
    "start_time": "2022-05-17T11:22:41.790Z"
   },
   {
    "duration": 1171,
    "start_time": "2022-05-17T11:22:41.862Z"
   },
   {
    "duration": 677,
    "start_time": "2022-05-17T11:22:43.035Z"
   },
   {
    "duration": 547,
    "start_time": "2022-05-17T11:22:43.715Z"
   },
   {
    "duration": 471,
    "start_time": "2022-05-17T11:22:44.264Z"
   },
   {
    "duration": 8,
    "start_time": "2022-05-17T11:22:44.737Z"
   },
   {
    "duration": 34,
    "start_time": "2022-05-17T11:22:44.747Z"
   },
   {
    "duration": 5,
    "start_time": "2022-05-17T11:22:44.783Z"
   },
   {
    "duration": 32,
    "start_time": "2022-05-17T11:22:44.790Z"
   },
   {
    "duration": 6,
    "start_time": "2022-05-17T11:22:44.826Z"
   },
   {
    "duration": 8,
    "start_time": "2022-05-17T11:22:44.835Z"
   },
   {
    "duration": 48,
    "start_time": "2022-05-17T11:22:44.845Z"
   },
   {
    "duration": 29,
    "start_time": "2022-05-17T11:22:44.896Z"
   },
   {
    "duration": 6,
    "start_time": "2022-05-17T11:22:44.927Z"
   },
   {
    "duration": 141,
    "start_time": "2022-05-17T11:22:44.935Z"
   },
   {
    "duration": 0,
    "start_time": "2022-05-17T11:22:45.079Z"
   },
   {
    "duration": 0,
    "start_time": "2022-05-17T11:22:45.081Z"
   },
   {
    "duration": 0,
    "start_time": "2022-05-17T11:22:45.082Z"
   },
   {
    "duration": 0,
    "start_time": "2022-05-17T11:22:45.083Z"
   },
   {
    "duration": 5,
    "start_time": "2022-05-17T11:23:19.630Z"
   },
   {
    "duration": 6,
    "start_time": "2022-05-17T11:23:23.557Z"
   },
   {
    "duration": 7,
    "start_time": "2022-05-17T11:23:28.495Z"
   },
   {
    "duration": 9,
    "start_time": "2022-05-17T11:23:29.851Z"
   },
   {
    "duration": 4,
    "start_time": "2022-05-17T11:23:32.440Z"
   },
   {
    "duration": 8,
    "start_time": "2022-05-17T11:23:32.899Z"
   },
   {
    "duration": 894,
    "start_time": "2022-05-17T11:25:03.101Z"
   },
   {
    "duration": 31,
    "start_time": "2022-05-17T11:25:03.998Z"
   },
   {
    "duration": 48,
    "start_time": "2022-05-17T11:25:04.031Z"
   },
   {
    "duration": 18,
    "start_time": "2022-05-17T11:25:04.081Z"
   },
   {
    "duration": 58,
    "start_time": "2022-05-17T11:25:04.102Z"
   },
   {
    "duration": 1204,
    "start_time": "2022-05-17T11:25:04.179Z"
   },
   {
    "duration": 683,
    "start_time": "2022-05-17T11:25:05.385Z"
   },
   {
    "duration": 556,
    "start_time": "2022-05-17T11:25:06.070Z"
   },
   {
    "duration": 487,
    "start_time": "2022-05-17T11:25:06.628Z"
   },
   {
    "duration": 9,
    "start_time": "2022-05-17T11:25:07.117Z"
   },
   {
    "duration": 19,
    "start_time": "2022-05-17T11:25:07.128Z"
   },
   {
    "duration": 31,
    "start_time": "2022-05-17T11:25:07.149Z"
   },
   {
    "duration": 29,
    "start_time": "2022-05-17T11:25:07.183Z"
   },
   {
    "duration": 7,
    "start_time": "2022-05-17T11:25:07.216Z"
   },
   {
    "duration": 7,
    "start_time": "2022-05-17T11:25:07.225Z"
   },
   {
    "duration": 55,
    "start_time": "2022-05-17T11:25:07.235Z"
   },
   {
    "duration": 32,
    "start_time": "2022-05-17T11:25:07.292Z"
   },
   {
    "duration": 7,
    "start_time": "2022-05-17T11:25:07.327Z"
   },
   {
    "duration": 8,
    "start_time": "2022-05-17T11:25:07.338Z"
   },
   {
    "duration": 9,
    "start_time": "2022-05-17T11:25:07.379Z"
   },
   {
    "duration": 9,
    "start_time": "2022-05-17T11:25:07.391Z"
   },
   {
    "duration": 7,
    "start_time": "2022-05-17T11:25:07.402Z"
   },
   {
    "duration": 9,
    "start_time": "2022-05-17T11:25:07.410Z"
   },
   {
    "duration": 113,
    "start_time": "2022-05-17T11:31:09.777Z"
   },
   {
    "duration": 13,
    "start_time": "2022-05-17T11:31:16.182Z"
   },
   {
    "duration": 12,
    "start_time": "2022-05-17T11:31:19.892Z"
   },
   {
    "duration": 13,
    "start_time": "2022-05-17T11:31:25.063Z"
   },
   {
    "duration": 6,
    "start_time": "2022-05-17T11:31:32.704Z"
   },
   {
    "duration": 7,
    "start_time": "2022-05-17T11:31:38.551Z"
   },
   {
    "duration": 11,
    "start_time": "2022-05-17T11:31:47.638Z"
   },
   {
    "duration": 7,
    "start_time": "2022-05-17T11:32:07.740Z"
   },
   {
    "duration": 6,
    "start_time": "2022-05-17T11:32:33.311Z"
   },
   {
    "duration": 896,
    "start_time": "2022-05-17T11:33:12.336Z"
   },
   {
    "duration": 32,
    "start_time": "2022-05-17T11:33:13.236Z"
   },
   {
    "duration": 48,
    "start_time": "2022-05-17T11:33:13.270Z"
   },
   {
    "duration": 25,
    "start_time": "2022-05-17T11:33:13.320Z"
   },
   {
    "duration": 87,
    "start_time": "2022-05-17T11:33:13.349Z"
   },
   {
    "duration": 1471,
    "start_time": "2022-05-17T11:33:13.438Z"
   },
   {
    "duration": 780,
    "start_time": "2022-05-17T11:33:14.912Z"
   },
   {
    "duration": 637,
    "start_time": "2022-05-17T11:33:15.695Z"
   },
   {
    "duration": 462,
    "start_time": "2022-05-17T11:33:16.335Z"
   },
   {
    "duration": 9,
    "start_time": "2022-05-17T11:33:16.799Z"
   },
   {
    "duration": 20,
    "start_time": "2022-05-17T11:33:16.810Z"
   },
   {
    "duration": 5,
    "start_time": "2022-05-17T11:33:16.832Z"
   },
   {
    "duration": 58,
    "start_time": "2022-05-17T11:33:16.839Z"
   },
   {
    "duration": 8,
    "start_time": "2022-05-17T11:33:16.901Z"
   },
   {
    "duration": 7,
    "start_time": "2022-05-17T11:33:16.911Z"
   },
   {
    "duration": 16,
    "start_time": "2022-05-17T11:33:16.920Z"
   },
   {
    "duration": 60,
    "start_time": "2022-05-17T11:33:16.938Z"
   },
   {
    "duration": 9,
    "start_time": "2022-05-17T11:33:17.000Z"
   },
   {
    "duration": 8,
    "start_time": "2022-05-17T11:33:17.011Z"
   },
   {
    "duration": 137,
    "start_time": "2022-05-17T11:33:17.021Z"
   },
   {
    "duration": 0,
    "start_time": "2022-05-17T11:33:17.160Z"
   },
   {
    "duration": 0,
    "start_time": "2022-05-17T11:33:17.161Z"
   },
   {
    "duration": 0,
    "start_time": "2022-05-17T11:33:17.162Z"
   },
   {
    "duration": 0,
    "start_time": "2022-05-17T11:33:17.180Z"
   },
   {
    "duration": 900,
    "start_time": "2022-05-17T11:33:51.167Z"
   },
   {
    "duration": 33,
    "start_time": "2022-05-17T11:33:52.071Z"
   },
   {
    "duration": 38,
    "start_time": "2022-05-17T11:33:52.107Z"
   },
   {
    "duration": 43,
    "start_time": "2022-05-17T11:33:52.147Z"
   },
   {
    "duration": 58,
    "start_time": "2022-05-17T11:33:52.193Z"
   },
   {
    "duration": 1232,
    "start_time": "2022-05-17T11:33:52.253Z"
   },
   {
    "duration": 688,
    "start_time": "2022-05-17T11:33:53.488Z"
   },
   {
    "duration": 569,
    "start_time": "2022-05-17T11:33:54.179Z"
   },
   {
    "duration": 494,
    "start_time": "2022-05-17T11:33:54.751Z"
   },
   {
    "duration": 10,
    "start_time": "2022-05-17T11:33:55.248Z"
   },
   {
    "duration": 18,
    "start_time": "2022-05-17T11:33:55.281Z"
   },
   {
    "duration": 5,
    "start_time": "2022-05-17T11:33:55.302Z"
   },
   {
    "duration": 35,
    "start_time": "2022-05-17T11:33:55.309Z"
   },
   {
    "duration": 35,
    "start_time": "2022-05-17T11:33:55.348Z"
   },
   {
    "duration": 9,
    "start_time": "2022-05-17T11:33:55.385Z"
   },
   {
    "duration": 19,
    "start_time": "2022-05-17T11:33:55.396Z"
   },
   {
    "duration": 30,
    "start_time": "2022-05-17T11:33:55.418Z"
   },
   {
    "duration": 34,
    "start_time": "2022-05-17T11:33:55.451Z"
   },
   {
    "duration": 9,
    "start_time": "2022-05-17T11:33:55.488Z"
   },
   {
    "duration": 10,
    "start_time": "2022-05-17T11:33:55.499Z"
   },
   {
    "duration": 144,
    "start_time": "2022-05-17T11:33:55.512Z"
   },
   {
    "duration": 0,
    "start_time": "2022-05-17T11:33:55.658Z"
   },
   {
    "duration": 0,
    "start_time": "2022-05-17T11:33:55.660Z"
   },
   {
    "duration": 0,
    "start_time": "2022-05-17T11:33:55.662Z"
   },
   {
    "duration": 0,
    "start_time": "2022-05-17T11:33:55.663Z"
   },
   {
    "duration": 8,
    "start_time": "2022-05-17T11:34:17.949Z"
   },
   {
    "duration": 9,
    "start_time": "2022-05-17T11:34:23.691Z"
   },
   {
    "duration": 21,
    "start_time": "2022-05-17T11:35:28.544Z"
   },
   {
    "duration": 18,
    "start_time": "2022-05-17T11:38:05.701Z"
   },
   {
    "duration": 129,
    "start_time": "2022-05-17T11:39:08.518Z"
   },
   {
    "duration": 18,
    "start_time": "2022-05-17T11:39:12.111Z"
   },
   {
    "duration": 1248,
    "start_time": "2022-05-17T11:39:24.129Z"
   },
   {
    "duration": 1148,
    "start_time": "2022-05-17T11:39:46.448Z"
   },
   {
    "duration": 27,
    "start_time": "2022-05-17T11:39:48.931Z"
   },
   {
    "duration": 13,
    "start_time": "2022-05-17T11:39:57.359Z"
   },
   {
    "duration": 1335,
    "start_time": "2022-05-17T11:40:10.265Z"
   },
   {
    "duration": 8,
    "start_time": "2022-05-17T11:40:23.855Z"
   },
   {
    "duration": 18,
    "start_time": "2022-05-17T11:40:31.489Z"
   },
   {
    "duration": 7,
    "start_time": "2022-05-17T11:40:38.009Z"
   },
   {
    "duration": 9,
    "start_time": "2022-05-17T11:40:49.565Z"
   },
   {
    "duration": 9,
    "start_time": "2022-05-17T11:41:01.014Z"
   },
   {
    "duration": 10,
    "start_time": "2022-05-17T11:41:13.803Z"
   },
   {
    "duration": 27,
    "start_time": "2022-05-17T11:41:18.635Z"
   },
   {
    "duration": 8,
    "start_time": "2022-05-17T11:41:23.817Z"
   },
   {
    "duration": 6,
    "start_time": "2022-05-17T12:22:04.231Z"
   },
   {
    "duration": 9,
    "start_time": "2022-05-17T12:22:11.759Z"
   },
   {
    "duration": 9,
    "start_time": "2022-05-17T12:22:27.931Z"
   },
   {
    "duration": 7,
    "start_time": "2022-05-17T12:23:11.918Z"
   },
   {
    "duration": 2222,
    "start_time": "2022-05-17T12:26:06.266Z"
   },
   {
    "duration": 238,
    "start_time": "2022-05-17T12:26:14.689Z"
   },
   {
    "duration": 227,
    "start_time": "2022-05-17T12:26:22.890Z"
   },
   {
    "duration": 245,
    "start_time": "2022-05-17T12:26:35.571Z"
   },
   {
    "duration": 208,
    "start_time": "2022-05-17T12:27:31.657Z"
   },
   {
    "duration": 193,
    "start_time": "2022-05-17T12:27:35.483Z"
   },
   {
    "duration": 263,
    "start_time": "2022-05-17T12:27:39.868Z"
   },
   {
    "duration": 880,
    "start_time": "2022-05-17T12:28:52.276Z"
   },
   {
    "duration": 31,
    "start_time": "2022-05-17T12:28:53.159Z"
   },
   {
    "duration": 37,
    "start_time": "2022-05-17T12:28:53.192Z"
   },
   {
    "duration": 18,
    "start_time": "2022-05-17T12:28:53.231Z"
   },
   {
    "duration": 82,
    "start_time": "2022-05-17T12:28:53.252Z"
   },
   {
    "duration": 1224,
    "start_time": "2022-05-17T12:28:53.336Z"
   },
   {
    "duration": 670,
    "start_time": "2022-05-17T12:28:54.563Z"
   },
   {
    "duration": 550,
    "start_time": "2022-05-17T12:28:55.235Z"
   },
   {
    "duration": 480,
    "start_time": "2022-05-17T12:28:55.788Z"
   },
   {
    "duration": 12,
    "start_time": "2022-05-17T12:28:56.270Z"
   },
   {
    "duration": 22,
    "start_time": "2022-05-17T12:28:56.284Z"
   },
   {
    "duration": 5,
    "start_time": "2022-05-17T12:28:56.308Z"
   },
   {
    "duration": 29,
    "start_time": "2022-05-17T12:28:56.315Z"
   },
   {
    "duration": 36,
    "start_time": "2022-05-17T12:28:56.348Z"
   },
   {
    "duration": 12,
    "start_time": "2022-05-17T12:28:56.386Z"
   },
   {
    "duration": 17,
    "start_time": "2022-05-17T12:28:56.400Z"
   },
   {
    "duration": 28,
    "start_time": "2022-05-17T12:28:56.419Z"
   },
   {
    "duration": 36,
    "start_time": "2022-05-17T12:28:56.450Z"
   },
   {
    "duration": 7,
    "start_time": "2022-05-17T12:28:56.489Z"
   },
   {
    "duration": 12,
    "start_time": "2022-05-17T12:28:56.499Z"
   },
   {
    "duration": 8,
    "start_time": "2022-05-17T12:28:56.513Z"
   },
   {
    "duration": 10,
    "start_time": "2022-05-17T12:28:56.524Z"
   },
   {
    "duration": 195,
    "start_time": "2022-05-17T12:28:56.579Z"
   },
   {
    "duration": 7,
    "start_time": "2022-05-17T12:31:50.574Z"
   },
   {
    "duration": 8,
    "start_time": "2022-05-17T12:31:52.052Z"
   },
   {
    "duration": 8,
    "start_time": "2022-05-17T12:31:52.857Z"
   },
   {
    "duration": 8,
    "start_time": "2022-05-17T12:31:53.540Z"
   },
   {
    "duration": 5,
    "start_time": "2022-05-17T12:31:59.382Z"
   },
   {
    "duration": 6,
    "start_time": "2022-05-17T12:32:00.177Z"
   },
   {
    "duration": 6,
    "start_time": "2022-05-17T12:32:00.752Z"
   },
   {
    "duration": 6,
    "start_time": "2022-05-17T12:32:01.993Z"
   },
   {
    "duration": 6,
    "start_time": "2022-05-17T12:32:02.680Z"
   },
   {
    "duration": 6,
    "start_time": "2022-05-17T12:32:03.362Z"
   },
   {
    "duration": 6,
    "start_time": "2022-05-17T12:32:03.936Z"
   },
   {
    "duration": 7,
    "start_time": "2022-05-17T12:32:30.188Z"
   },
   {
    "duration": 9,
    "start_time": "2022-05-17T12:32:31.436Z"
   },
   {
    "duration": 847,
    "start_time": "2022-05-17T12:32:43.326Z"
   },
   {
    "duration": 37,
    "start_time": "2022-05-17T12:32:44.179Z"
   },
   {
    "duration": 38,
    "start_time": "2022-05-17T12:32:44.219Z"
   },
   {
    "duration": 34,
    "start_time": "2022-05-17T12:32:44.260Z"
   },
   {
    "duration": 82,
    "start_time": "2022-05-17T12:32:44.299Z"
   },
   {
    "duration": 1183,
    "start_time": "2022-05-17T12:32:44.384Z"
   },
   {
    "duration": 663,
    "start_time": "2022-05-17T12:32:45.579Z"
   },
   {
    "duration": 549,
    "start_time": "2022-05-17T12:32:46.245Z"
   },
   {
    "duration": 482,
    "start_time": "2022-05-17T12:32:46.797Z"
   },
   {
    "duration": 8,
    "start_time": "2022-05-17T12:32:47.282Z"
   },
   {
    "duration": 20,
    "start_time": "2022-05-17T12:32:47.292Z"
   },
   {
    "duration": 5,
    "start_time": "2022-05-17T12:32:47.314Z"
   },
   {
    "duration": 61,
    "start_time": "2022-05-17T12:32:47.321Z"
   },
   {
    "duration": 5,
    "start_time": "2022-05-17T12:32:47.386Z"
   },
   {
    "duration": 9,
    "start_time": "2022-05-17T12:32:47.393Z"
   },
   {
    "duration": 19,
    "start_time": "2022-05-17T12:32:47.404Z"
   },
   {
    "duration": 57,
    "start_time": "2022-05-17T12:32:47.425Z"
   },
   {
    "duration": 9,
    "start_time": "2022-05-17T12:32:47.485Z"
   },
   {
    "duration": 10,
    "start_time": "2022-05-17T12:32:47.496Z"
   },
   {
    "duration": 12,
    "start_time": "2022-05-17T12:32:47.508Z"
   },
   {
    "duration": 16,
    "start_time": "2022-05-17T12:32:47.522Z"
   },
   {
    "duration": 13,
    "start_time": "2022-05-17T12:32:47.540Z"
   },
   {
    "duration": 218,
    "start_time": "2022-05-17T12:32:47.555Z"
   },
   {
    "duration": 6,
    "start_time": "2022-05-17T12:32:47.779Z"
   },
   {
    "duration": 7,
    "start_time": "2022-05-17T12:36:29.000Z"
   },
   {
    "duration": 7,
    "start_time": "2022-05-17T12:37:01.209Z"
   },
   {
    "duration": 71,
    "start_time": "2022-05-17T15:57:22.662Z"
   },
   {
    "duration": 1265,
    "start_time": "2022-05-17T15:58:37.880Z"
   },
   {
    "duration": 63,
    "start_time": "2022-05-17T15:58:39.149Z"
   },
   {
    "duration": 54,
    "start_time": "2022-05-17T15:58:39.214Z"
   },
   {
    "duration": 20,
    "start_time": "2022-05-17T15:58:39.272Z"
   },
   {
    "duration": 76,
    "start_time": "2022-05-17T15:58:39.294Z"
   },
   {
    "duration": 1333,
    "start_time": "2022-05-17T15:58:39.374Z"
   },
   {
    "duration": 764,
    "start_time": "2022-05-17T15:58:40.710Z"
   },
   {
    "duration": 623,
    "start_time": "2022-05-17T15:58:41.477Z"
   },
   {
    "duration": 557,
    "start_time": "2022-05-17T15:58:42.102Z"
   },
   {
    "duration": 12,
    "start_time": "2022-05-17T15:58:42.667Z"
   },
   {
    "duration": 17,
    "start_time": "2022-05-17T15:58:42.681Z"
   },
   {
    "duration": 5,
    "start_time": "2022-05-17T15:58:42.701Z"
   },
   {
    "duration": 70,
    "start_time": "2022-05-17T15:58:42.708Z"
   },
   {
    "duration": 7,
    "start_time": "2022-05-17T15:58:42.781Z"
   },
   {
    "duration": 8,
    "start_time": "2022-05-17T15:58:42.791Z"
   },
   {
    "duration": 45,
    "start_time": "2022-05-17T15:58:42.801Z"
   },
   {
    "duration": 39,
    "start_time": "2022-05-17T15:58:42.850Z"
   },
   {
    "duration": 7,
    "start_time": "2022-05-17T15:58:42.891Z"
   },
   {
    "duration": 11,
    "start_time": "2022-05-17T15:58:42.901Z"
   },
   {
    "duration": 71,
    "start_time": "2022-05-17T15:58:42.915Z"
   },
   {
    "duration": 12,
    "start_time": "2022-05-17T15:58:42.989Z"
   },
   {
    "duration": 204,
    "start_time": "2022-05-17T15:58:43.004Z"
   },
   {
    "duration": 7,
    "start_time": "2022-05-17T15:58:43.211Z"
   },
   {
    "duration": 9,
    "start_time": "2022-05-17T15:59:16.330Z"
   },
   {
    "duration": 5,
    "start_time": "2022-05-17T16:04:04.425Z"
   },
   {
    "duration": 8,
    "start_time": "2022-05-17T16:04:11.661Z"
   },
   {
    "duration": 7,
    "start_time": "2022-05-17T16:04:48.880Z"
   },
   {
    "duration": 17,
    "start_time": "2022-05-17T16:05:41.312Z"
   },
   {
    "duration": 16,
    "start_time": "2022-05-17T16:06:21.319Z"
   },
   {
    "duration": 3487,
    "start_time": "2022-05-17T16:28:18.302Z"
   },
   {
    "duration": 8,
    "start_time": "2022-05-17T16:28:26.063Z"
   },
   {
    "duration": 184,
    "start_time": "2022-05-17T16:29:12.983Z"
   },
   {
    "duration": 1239,
    "start_time": "2022-05-17T20:14:05.996Z"
   },
   {
    "duration": 174,
    "start_time": "2022-05-17T20:14:07.237Z"
   },
   {
    "duration": 36,
    "start_time": "2022-05-17T20:14:07.412Z"
   },
   {
    "duration": 17,
    "start_time": "2022-05-17T20:14:07.450Z"
   },
   {
    "duration": 40,
    "start_time": "2022-05-17T20:14:07.469Z"
   },
   {
    "duration": 961,
    "start_time": "2022-05-17T20:14:07.511Z"
   },
   {
    "duration": 398,
    "start_time": "2022-05-17T20:14:08.473Z"
   },
   {
    "duration": 344,
    "start_time": "2022-05-17T20:14:08.873Z"
   },
   {
    "duration": 291,
    "start_time": "2022-05-17T20:14:09.219Z"
   },
   {
    "duration": 6,
    "start_time": "2022-05-17T20:14:09.512Z"
   },
   {
    "duration": 17,
    "start_time": "2022-05-17T20:14:09.519Z"
   },
   {
    "duration": 131,
    "start_time": "2022-05-17T20:14:09.537Z"
   },
   {
    "duration": 0,
    "start_time": "2022-05-17T20:14:09.670Z"
   },
   {
    "duration": 0,
    "start_time": "2022-05-17T20:14:09.671Z"
   },
   {
    "duration": 0,
    "start_time": "2022-05-17T20:14:09.672Z"
   },
   {
    "duration": 0,
    "start_time": "2022-05-17T20:14:09.673Z"
   },
   {
    "duration": 0,
    "start_time": "2022-05-17T20:14:09.674Z"
   },
   {
    "duration": 0,
    "start_time": "2022-05-17T20:14:09.675Z"
   },
   {
    "duration": 0,
    "start_time": "2022-05-17T20:14:09.675Z"
   },
   {
    "duration": 0,
    "start_time": "2022-05-17T20:14:09.677Z"
   },
   {
    "duration": 0,
    "start_time": "2022-05-17T20:14:09.678Z"
   },
   {
    "duration": 0,
    "start_time": "2022-05-17T20:14:09.679Z"
   },
   {
    "duration": 0,
    "start_time": "2022-05-17T20:14:09.680Z"
   },
   {
    "duration": 0,
    "start_time": "2022-05-17T20:14:09.681Z"
   },
   {
    "duration": 0,
    "start_time": "2022-05-17T20:14:09.682Z"
   },
   {
    "duration": 0,
    "start_time": "2022-05-17T20:14:09.682Z"
   },
   {
    "duration": 1277,
    "start_time": "2022-05-17T20:14:34.234Z"
   },
   {
    "duration": 42,
    "start_time": "2022-05-17T20:14:35.513Z"
   },
   {
    "duration": 23,
    "start_time": "2022-05-17T20:14:35.556Z"
   },
   {
    "duration": 12,
    "start_time": "2022-05-17T20:14:35.580Z"
   },
   {
    "duration": 43,
    "start_time": "2022-05-17T20:14:35.593Z"
   },
   {
    "duration": 783,
    "start_time": "2022-05-17T20:14:35.638Z"
   },
   {
    "duration": 366,
    "start_time": "2022-05-17T20:14:36.422Z"
   },
   {
    "duration": 327,
    "start_time": "2022-05-17T20:14:36.790Z"
   },
   {
    "duration": 280,
    "start_time": "2022-05-17T20:14:37.118Z"
   },
   {
    "duration": 5,
    "start_time": "2022-05-17T20:14:37.400Z"
   },
   {
    "duration": 20,
    "start_time": "2022-05-17T20:14:37.407Z"
   },
   {
    "duration": 5,
    "start_time": "2022-05-17T20:14:37.429Z"
   },
   {
    "duration": 9,
    "start_time": "2022-05-17T20:14:37.435Z"
   },
   {
    "duration": 8,
    "start_time": "2022-05-17T20:14:37.446Z"
   },
   {
    "duration": 6,
    "start_time": "2022-05-17T20:14:37.456Z"
   },
   {
    "duration": 6,
    "start_time": "2022-05-17T20:14:37.463Z"
   },
   {
    "duration": 11,
    "start_time": "2022-05-17T20:14:37.470Z"
   },
   {
    "duration": 19,
    "start_time": "2022-05-17T20:14:37.482Z"
   },
   {
    "duration": 27,
    "start_time": "2022-05-17T20:14:37.502Z"
   },
   {
    "duration": 6,
    "start_time": "2022-05-17T20:14:37.530Z"
   },
   {
    "duration": 5,
    "start_time": "2022-05-17T20:14:37.537Z"
   },
   {
    "duration": 7,
    "start_time": "2022-05-17T20:14:37.544Z"
   },
   {
    "duration": 141,
    "start_time": "2022-05-17T20:14:37.552Z"
   },
   {
    "duration": 3,
    "start_time": "2022-05-17T20:14:37.695Z"
   },
   {
    "duration": 13,
    "start_time": "2022-05-17T20:14:37.700Z"
   },
   {
    "duration": 116,
    "start_time": "2022-05-17T20:14:37.714Z"
   },
   {
    "duration": 1142,
    "start_time": "2022-05-17T20:15:00.516Z"
   },
   {
    "duration": 41,
    "start_time": "2022-05-17T20:15:01.660Z"
   },
   {
    "duration": 24,
    "start_time": "2022-05-17T20:15:01.703Z"
   },
   {
    "duration": 14,
    "start_time": "2022-05-17T20:15:01.729Z"
   },
   {
    "duration": 42,
    "start_time": "2022-05-17T20:15:01.745Z"
   },
   {
    "duration": 809,
    "start_time": "2022-05-17T20:15:01.789Z"
   },
   {
    "duration": 347,
    "start_time": "2022-05-17T20:15:02.600Z"
   },
   {
    "duration": 324,
    "start_time": "2022-05-17T20:15:02.948Z"
   },
   {
    "duration": 288,
    "start_time": "2022-05-17T20:15:03.274Z"
   },
   {
    "duration": 6,
    "start_time": "2022-05-17T20:15:03.564Z"
   },
   {
    "duration": 12,
    "start_time": "2022-05-17T20:15:03.571Z"
   },
   {
    "duration": 5,
    "start_time": "2022-05-17T20:15:03.585Z"
   },
   {
    "duration": 6,
    "start_time": "2022-05-17T20:15:03.591Z"
   },
   {
    "duration": 8,
    "start_time": "2022-05-17T20:15:03.599Z"
   },
   {
    "duration": 20,
    "start_time": "2022-05-17T20:15:03.609Z"
   },
   {
    "duration": 6,
    "start_time": "2022-05-17T20:15:03.631Z"
   },
   {
    "duration": 15,
    "start_time": "2022-05-17T20:15:03.638Z"
   },
   {
    "duration": 17,
    "start_time": "2022-05-17T20:15:03.654Z"
   },
   {
    "duration": 3,
    "start_time": "2022-05-17T20:15:03.673Z"
   },
   {
    "duration": 10,
    "start_time": "2022-05-17T20:15:03.678Z"
   },
   {
    "duration": 7,
    "start_time": "2022-05-17T20:15:03.689Z"
   },
   {
    "duration": 31,
    "start_time": "2022-05-17T20:15:03.697Z"
   },
   {
    "duration": 109,
    "start_time": "2022-05-17T20:15:03.730Z"
   },
   {
    "duration": 4,
    "start_time": "2022-05-17T20:15:03.840Z"
   },
   {
    "duration": 14,
    "start_time": "2022-05-17T20:15:03.845Z"
   },
   {
    "duration": 120,
    "start_time": "2022-05-17T20:15:03.861Z"
   },
   {
    "duration": 9,
    "start_time": "2022-05-17T20:15:32.785Z"
   },
   {
    "duration": 7,
    "start_time": "2022-05-17T20:18:46.210Z"
   },
   {
    "duration": 15,
    "start_time": "2022-05-17T20:18:56.477Z"
   },
   {
    "duration": 4,
    "start_time": "2022-05-17T20:20:30.565Z"
   },
   {
    "duration": 4,
    "start_time": "2022-05-17T20:20:33.677Z"
   },
   {
    "duration": 18,
    "start_time": "2022-05-17T20:27:09.113Z"
   },
   {
    "duration": 28,
    "start_time": "2022-05-17T20:27:16.306Z"
   },
   {
    "duration": 30,
    "start_time": "2022-05-17T20:27:33.871Z"
   },
   {
    "duration": 121,
    "start_time": "2022-05-17T20:27:41.394Z"
   },
   {
    "duration": 1140,
    "start_time": "2022-05-17T20:28:31.401Z"
   },
   {
    "duration": 3,
    "start_time": "2022-05-17T20:28:32.542Z"
   },
   {
    "duration": 47,
    "start_time": "2022-05-17T20:28:32.546Z"
   },
   {
    "duration": 23,
    "start_time": "2022-05-17T20:28:32.595Z"
   },
   {
    "duration": 12,
    "start_time": "2022-05-17T20:28:32.620Z"
   },
   {
    "duration": 44,
    "start_time": "2022-05-17T20:28:32.634Z"
   },
   {
    "duration": 867,
    "start_time": "2022-05-17T20:28:32.680Z"
   },
   {
    "duration": 351,
    "start_time": "2022-05-17T20:28:33.549Z"
   },
   {
    "duration": 342,
    "start_time": "2022-05-17T20:28:33.902Z"
   },
   {
    "duration": 299,
    "start_time": "2022-05-17T20:28:34.246Z"
   },
   {
    "duration": 6,
    "start_time": "2022-05-17T20:28:34.547Z"
   },
   {
    "duration": 12,
    "start_time": "2022-05-17T20:28:34.554Z"
   },
   {
    "duration": 6,
    "start_time": "2022-05-17T20:28:34.567Z"
   },
   {
    "duration": 6,
    "start_time": "2022-05-17T20:28:34.574Z"
   },
   {
    "duration": 8,
    "start_time": "2022-05-17T20:28:34.581Z"
   },
   {
    "duration": 5,
    "start_time": "2022-05-17T20:28:34.590Z"
   },
   {
    "duration": 31,
    "start_time": "2022-05-17T20:28:34.597Z"
   },
   {
    "duration": 9,
    "start_time": "2022-05-17T20:28:34.629Z"
   },
   {
    "duration": 19,
    "start_time": "2022-05-17T20:28:34.639Z"
   },
   {
    "duration": 4,
    "start_time": "2022-05-17T20:28:34.660Z"
   },
   {
    "duration": 8,
    "start_time": "2022-05-17T20:28:34.665Z"
   },
   {
    "duration": 5,
    "start_time": "2022-05-17T20:28:34.675Z"
   },
   {
    "duration": 8,
    "start_time": "2022-05-17T20:28:34.681Z"
   },
   {
    "duration": 137,
    "start_time": "2022-05-17T20:28:34.691Z"
   },
   {
    "duration": 4,
    "start_time": "2022-05-17T20:28:34.830Z"
   },
   {
    "duration": 12,
    "start_time": "2022-05-17T20:28:34.835Z"
   },
   {
    "duration": 141,
    "start_time": "2022-05-17T20:28:34.849Z"
   },
   {
    "duration": 14,
    "start_time": "2022-05-17T20:28:34.993Z"
   },
   {
    "duration": 17,
    "start_time": "2022-05-17T20:28:56.693Z"
   },
   {
    "duration": 29,
    "start_time": "2022-05-17T20:29:18.229Z"
   },
   {
    "duration": 16,
    "start_time": "2022-05-17T20:29:18.940Z"
   },
   {
    "duration": 55,
    "start_time": "2022-05-17T20:30:53.668Z"
   },
   {
    "duration": 28,
    "start_time": "2022-05-17T20:31:00.281Z"
   },
   {
    "duration": 716,
    "start_time": "2022-05-17T20:31:03.613Z"
   },
   {
    "duration": 108,
    "start_time": "2022-05-17T20:33:54.063Z"
   },
   {
    "duration": 3,
    "start_time": "2022-05-17T20:34:00.903Z"
   },
   {
    "duration": 713,
    "start_time": "2022-05-17T20:34:04.656Z"
   },
   {
    "duration": 4,
    "start_time": "2022-05-17T20:36:31.330Z"
   },
   {
    "duration": 30,
    "start_time": "2022-05-17T20:41:16.444Z"
   },
   {
    "duration": 27,
    "start_time": "2022-05-17T20:41:17.036Z"
   },
   {
    "duration": 27,
    "start_time": "2022-05-17T20:41:27.789Z"
   },
   {
    "duration": 779,
    "start_time": "2022-05-17T20:41:28.669Z"
   },
   {
    "duration": 700,
    "start_time": "2022-05-17T20:47:16.209Z"
   },
   {
    "duration": 1100,
    "start_time": "2022-05-17T20:48:09.441Z"
   },
   {
    "duration": 2,
    "start_time": "2022-05-17T20:48:10.543Z"
   },
   {
    "duration": 45,
    "start_time": "2022-05-17T20:48:10.547Z"
   },
   {
    "duration": 23,
    "start_time": "2022-05-17T20:48:10.594Z"
   },
   {
    "duration": 11,
    "start_time": "2022-05-17T20:48:10.619Z"
   },
   {
    "duration": 39,
    "start_time": "2022-05-17T20:48:10.632Z"
   },
   {
    "duration": 811,
    "start_time": "2022-05-17T20:48:10.673Z"
   },
   {
    "duration": 382,
    "start_time": "2022-05-17T20:48:11.486Z"
   },
   {
    "duration": 339,
    "start_time": "2022-05-17T20:48:11.869Z"
   },
   {
    "duration": 287,
    "start_time": "2022-05-17T20:48:12.211Z"
   },
   {
    "duration": 6,
    "start_time": "2022-05-17T20:48:12.500Z"
   },
   {
    "duration": 22,
    "start_time": "2022-05-17T20:48:12.508Z"
   },
   {
    "duration": 6,
    "start_time": "2022-05-17T20:48:12.532Z"
   },
   {
    "duration": 5,
    "start_time": "2022-05-17T20:48:12.540Z"
   },
   {
    "duration": 6,
    "start_time": "2022-05-17T20:48:12.547Z"
   },
   {
    "duration": 6,
    "start_time": "2022-05-17T20:48:12.555Z"
   },
   {
    "duration": 5,
    "start_time": "2022-05-17T20:48:12.563Z"
   },
   {
    "duration": 14,
    "start_time": "2022-05-17T20:48:12.570Z"
   },
   {
    "duration": 54,
    "start_time": "2022-05-17T20:48:12.586Z"
   },
   {
    "duration": 4,
    "start_time": "2022-05-17T20:48:12.642Z"
   },
   {
    "duration": 8,
    "start_time": "2022-05-17T20:48:12.648Z"
   },
   {
    "duration": 6,
    "start_time": "2022-05-17T20:48:12.658Z"
   },
   {
    "duration": 10,
    "start_time": "2022-05-17T20:48:12.665Z"
   },
   {
    "duration": 141,
    "start_time": "2022-05-17T20:48:12.677Z"
   },
   {
    "duration": 9,
    "start_time": "2022-05-17T20:48:12.819Z"
   },
   {
    "duration": 12,
    "start_time": "2022-05-17T20:48:12.830Z"
   },
   {
    "duration": 10,
    "start_time": "2022-05-17T20:48:12.844Z"
   },
   {
    "duration": 22,
    "start_time": "2022-05-17T20:48:12.858Z"
   },
   {
    "duration": 847,
    "start_time": "2022-05-17T20:48:12.882Z"
   },
   {
    "duration": 705,
    "start_time": "2022-05-17T20:48:13.731Z"
   },
   {
    "duration": 38,
    "start_time": "2022-05-17T20:52:22.368Z"
   },
   {
    "duration": 37,
    "start_time": "2022-05-17T20:52:58.498Z"
   },
   {
    "duration": 1033,
    "start_time": "2022-05-17T20:53:58.068Z"
   },
   {
    "duration": 693,
    "start_time": "2022-05-17T20:54:20.587Z"
   },
   {
    "duration": 6,
    "start_time": "2022-05-17T20:55:28.579Z"
   },
   {
    "duration": 6,
    "start_time": "2022-05-17T20:55:35.195Z"
   },
   {
    "duration": 6,
    "start_time": "2022-05-17T20:55:40.268Z"
   },
   {
    "duration": 1020,
    "start_time": "2022-05-17T20:58:12.142Z"
   },
   {
    "duration": 870,
    "start_time": "2022-05-17T20:58:16.871Z"
   },
   {
    "duration": 959,
    "start_time": "2022-05-17T20:58:19.638Z"
   },
   {
    "duration": 879,
    "start_time": "2022-05-17T20:58:28.222Z"
   },
   {
    "duration": 1077,
    "start_time": "2022-05-17T20:58:48.686Z"
   },
   {
    "duration": 3,
    "start_time": "2022-05-17T20:58:49.765Z"
   },
   {
    "duration": 45,
    "start_time": "2022-05-17T20:58:49.769Z"
   },
   {
    "duration": 23,
    "start_time": "2022-05-17T20:58:49.815Z"
   },
   {
    "duration": 14,
    "start_time": "2022-05-17T20:58:49.840Z"
   },
   {
    "duration": 36,
    "start_time": "2022-05-17T20:58:49.855Z"
   },
   {
    "duration": 769,
    "start_time": "2022-05-17T20:58:49.893Z"
   },
   {
    "duration": 344,
    "start_time": "2022-05-17T20:58:50.664Z"
   },
   {
    "duration": 312,
    "start_time": "2022-05-17T20:58:51.010Z"
   },
   {
    "duration": 276,
    "start_time": "2022-05-17T20:58:51.327Z"
   },
   {
    "duration": 5,
    "start_time": "2022-05-17T20:58:51.605Z"
   },
   {
    "duration": 19,
    "start_time": "2022-05-17T20:58:51.612Z"
   },
   {
    "duration": 4,
    "start_time": "2022-05-17T20:58:51.633Z"
   },
   {
    "duration": 5,
    "start_time": "2022-05-17T20:58:51.638Z"
   },
   {
    "duration": 7,
    "start_time": "2022-05-17T20:58:51.645Z"
   },
   {
    "duration": 5,
    "start_time": "2022-05-17T20:58:51.653Z"
   },
   {
    "duration": 5,
    "start_time": "2022-05-17T20:58:51.659Z"
   },
   {
    "duration": 11,
    "start_time": "2022-05-17T20:58:51.665Z"
   },
   {
    "duration": 17,
    "start_time": "2022-05-17T20:58:51.677Z"
   },
   {
    "duration": 33,
    "start_time": "2022-05-17T20:58:51.695Z"
   },
   {
    "duration": 8,
    "start_time": "2022-05-17T20:58:51.730Z"
   },
   {
    "duration": 5,
    "start_time": "2022-05-17T20:58:51.740Z"
   },
   {
    "duration": 8,
    "start_time": "2022-05-17T20:58:51.747Z"
   },
   {
    "duration": 118,
    "start_time": "2022-05-17T20:58:51.756Z"
   },
   {
    "duration": 4,
    "start_time": "2022-05-17T20:58:51.875Z"
   },
   {
    "duration": 14,
    "start_time": "2022-05-17T20:58:51.880Z"
   },
   {
    "duration": 9,
    "start_time": "2022-05-17T20:58:51.895Z"
   },
   {
    "duration": 45,
    "start_time": "2022-05-17T20:58:51.907Z"
   },
   {
    "duration": 790,
    "start_time": "2022-05-17T20:58:51.954Z"
   },
   {
    "duration": 837,
    "start_time": "2022-05-17T20:58:52.746Z"
   },
   {
    "duration": 43,
    "start_time": "2022-05-17T20:58:53.585Z"
   },
   {
    "duration": 35,
    "start_time": "2022-05-17T20:58:53.629Z"
   },
   {
    "duration": 5,
    "start_time": "2022-05-17T20:58:53.665Z"
   },
   {
    "duration": 8,
    "start_time": "2022-05-17T20:58:53.672Z"
   },
   {
    "duration": 1127,
    "start_time": "2022-05-17T20:59:32.016Z"
   },
   {
    "duration": 3,
    "start_time": "2022-05-17T20:59:33.144Z"
   },
   {
    "duration": 43,
    "start_time": "2022-05-17T20:59:33.148Z"
   },
   {
    "duration": 23,
    "start_time": "2022-05-17T20:59:33.193Z"
   },
   {
    "duration": 13,
    "start_time": "2022-05-17T20:59:33.217Z"
   },
   {
    "duration": 40,
    "start_time": "2022-05-17T20:59:33.231Z"
   },
   {
    "duration": 781,
    "start_time": "2022-05-17T20:59:33.272Z"
   },
   {
    "duration": 358,
    "start_time": "2022-05-17T20:59:34.054Z"
   },
   {
    "duration": 318,
    "start_time": "2022-05-17T20:59:34.413Z"
   },
   {
    "duration": 273,
    "start_time": "2022-05-17T20:59:34.734Z"
   },
   {
    "duration": 6,
    "start_time": "2022-05-17T20:59:35.009Z"
   },
   {
    "duration": 11,
    "start_time": "2022-05-17T20:59:35.026Z"
   },
   {
    "duration": 5,
    "start_time": "2022-05-17T20:59:35.039Z"
   },
   {
    "duration": 6,
    "start_time": "2022-05-17T20:59:35.045Z"
   },
   {
    "duration": 7,
    "start_time": "2022-05-17T20:59:35.052Z"
   },
   {
    "duration": 5,
    "start_time": "2022-05-17T20:59:35.060Z"
   },
   {
    "duration": 5,
    "start_time": "2022-05-17T20:59:35.066Z"
   },
   {
    "duration": 13,
    "start_time": "2022-05-17T20:59:35.073Z"
   },
   {
    "duration": 46,
    "start_time": "2022-05-17T20:59:35.087Z"
   },
   {
    "duration": 5,
    "start_time": "2022-05-17T20:59:35.134Z"
   },
   {
    "duration": 11,
    "start_time": "2022-05-17T20:59:35.140Z"
   },
   {
    "duration": 6,
    "start_time": "2022-05-17T20:59:35.152Z"
   },
   {
    "duration": 7,
    "start_time": "2022-05-17T20:59:35.159Z"
   },
   {
    "duration": 127,
    "start_time": "2022-05-17T20:59:35.167Z"
   },
   {
    "duration": 4,
    "start_time": "2022-05-17T20:59:35.295Z"
   },
   {
    "duration": 15,
    "start_time": "2022-05-17T20:59:35.301Z"
   },
   {
    "duration": 11,
    "start_time": "2022-05-17T20:59:35.333Z"
   },
   {
    "duration": 4,
    "start_time": "2022-05-17T20:59:35.346Z"
   },
   {
    "duration": 6,
    "start_time": "2022-05-17T20:59:35.351Z"
   },
   {
    "duration": 784,
    "start_time": "2022-05-17T20:59:35.358Z"
   },
   {
    "duration": 37,
    "start_time": "2022-05-17T20:59:36.144Z"
   },
   {
    "duration": 49,
    "start_time": "2022-05-17T20:59:36.182Z"
   },
   {
    "duration": 5,
    "start_time": "2022-05-17T20:59:36.232Z"
   },
   {
    "duration": 8,
    "start_time": "2022-05-17T20:59:36.239Z"
   },
   {
    "duration": 886,
    "start_time": "2022-05-17T21:01:00.645Z"
   },
   {
    "duration": 39,
    "start_time": "2022-05-17T21:01:06.853Z"
   },
   {
    "duration": 37,
    "start_time": "2022-05-17T21:01:08.786Z"
   },
   {
    "duration": 947,
    "start_time": "2022-05-17T21:01:13.065Z"
   },
   {
    "duration": 1112,
    "start_time": "2022-05-17T21:01:21.313Z"
   },
   {
    "duration": 2,
    "start_time": "2022-05-17T21:01:22.427Z"
   },
   {
    "duration": 46,
    "start_time": "2022-05-17T21:01:22.431Z"
   },
   {
    "duration": 23,
    "start_time": "2022-05-17T21:01:22.479Z"
   },
   {
    "duration": 12,
    "start_time": "2022-05-17T21:01:22.504Z"
   },
   {
    "duration": 46,
    "start_time": "2022-05-17T21:01:22.517Z"
   },
   {
    "duration": 807,
    "start_time": "2022-05-17T21:01:22.565Z"
   },
   {
    "duration": 362,
    "start_time": "2022-05-17T21:01:23.373Z"
   },
   {
    "duration": 323,
    "start_time": "2022-05-17T21:01:23.736Z"
   },
   {
    "duration": 277,
    "start_time": "2022-05-17T21:01:24.061Z"
   },
   {
    "duration": 6,
    "start_time": "2022-05-17T21:01:24.339Z"
   },
   {
    "duration": 13,
    "start_time": "2022-05-17T21:01:24.346Z"
   },
   {
    "duration": 6,
    "start_time": "2022-05-17T21:01:24.360Z"
   },
   {
    "duration": 10,
    "start_time": "2022-05-17T21:01:24.368Z"
   },
   {
    "duration": 9,
    "start_time": "2022-05-17T21:01:24.380Z"
   },
   {
    "duration": 10,
    "start_time": "2022-05-17T21:01:24.391Z"
   },
   {
    "duration": 8,
    "start_time": "2022-05-17T21:01:24.403Z"
   },
   {
    "duration": 18,
    "start_time": "2022-05-17T21:01:24.412Z"
   },
   {
    "duration": 19,
    "start_time": "2022-05-17T21:01:24.431Z"
   },
   {
    "duration": 6,
    "start_time": "2022-05-17T21:01:24.452Z"
   },
   {
    "duration": 8,
    "start_time": "2022-05-17T21:01:24.459Z"
   },
   {
    "duration": 5,
    "start_time": "2022-05-17T21:01:24.468Z"
   },
   {
    "duration": 9,
    "start_time": "2022-05-17T21:01:24.475Z"
   },
   {
    "duration": 134,
    "start_time": "2022-05-17T21:01:24.486Z"
   },
   {
    "duration": 8,
    "start_time": "2022-05-17T21:01:24.622Z"
   },
   {
    "duration": 17,
    "start_time": "2022-05-17T21:01:24.632Z"
   },
   {
    "duration": 11,
    "start_time": "2022-05-17T21:01:24.651Z"
   },
   {
    "duration": 4,
    "start_time": "2022-05-17T21:01:24.664Z"
   },
   {
    "duration": 12,
    "start_time": "2022-05-17T21:01:24.670Z"
   },
   {
    "duration": 801,
    "start_time": "2022-05-17T21:01:24.683Z"
   },
   {
    "duration": 47,
    "start_time": "2022-05-17T21:01:25.486Z"
   },
   {
    "duration": 38,
    "start_time": "2022-05-17T21:01:25.535Z"
   },
   {
    "duration": 6,
    "start_time": "2022-05-17T21:01:25.574Z"
   },
   {
    "duration": 7,
    "start_time": "2022-05-17T21:01:25.582Z"
   },
   {
    "duration": 1140,
    "start_time": "2022-05-17T21:01:57.292Z"
   },
   {
    "duration": 3,
    "start_time": "2022-05-17T21:01:58.434Z"
   },
   {
    "duration": 43,
    "start_time": "2022-05-17T21:01:58.441Z"
   },
   {
    "duration": 24,
    "start_time": "2022-05-17T21:01:58.486Z"
   },
   {
    "duration": 12,
    "start_time": "2022-05-17T21:01:58.511Z"
   },
   {
    "duration": 44,
    "start_time": "2022-05-17T21:01:58.524Z"
   },
   {
    "duration": 837,
    "start_time": "2022-05-17T21:01:58.569Z"
   },
   {
    "duration": 371,
    "start_time": "2022-05-17T21:01:59.407Z"
   },
   {
    "duration": 343,
    "start_time": "2022-05-17T21:01:59.780Z"
   },
   {
    "duration": 306,
    "start_time": "2022-05-17T21:02:00.124Z"
   },
   {
    "duration": 7,
    "start_time": "2022-05-17T21:02:00.432Z"
   },
   {
    "duration": 17,
    "start_time": "2022-05-17T21:02:00.440Z"
   },
   {
    "duration": 7,
    "start_time": "2022-05-17T21:02:00.458Z"
   },
   {
    "duration": 11,
    "start_time": "2022-05-17T21:02:00.466Z"
   },
   {
    "duration": 16,
    "start_time": "2022-05-17T21:02:00.478Z"
   },
   {
    "duration": 10,
    "start_time": "2022-05-17T21:02:00.495Z"
   },
   {
    "duration": 11,
    "start_time": "2022-05-17T21:02:00.507Z"
   },
   {
    "duration": 16,
    "start_time": "2022-05-17T21:02:00.519Z"
   },
   {
    "duration": 28,
    "start_time": "2022-05-17T21:02:00.537Z"
   },
   {
    "duration": 4,
    "start_time": "2022-05-17T21:02:00.567Z"
   },
   {
    "duration": 11,
    "start_time": "2022-05-17T21:02:00.573Z"
   },
   {
    "duration": 14,
    "start_time": "2022-05-17T21:02:00.585Z"
   },
   {
    "duration": 20,
    "start_time": "2022-05-17T21:02:00.600Z"
   },
   {
    "duration": 120,
    "start_time": "2022-05-17T21:02:00.621Z"
   },
   {
    "duration": 3,
    "start_time": "2022-05-17T21:02:00.743Z"
   },
   {
    "duration": 22,
    "start_time": "2022-05-17T21:02:00.747Z"
   },
   {
    "duration": 9,
    "start_time": "2022-05-17T21:02:00.773Z"
   },
   {
    "duration": 22,
    "start_time": "2022-05-17T21:02:00.784Z"
   },
   {
    "duration": 24,
    "start_time": "2022-05-17T21:02:00.808Z"
   },
   {
    "duration": 920,
    "start_time": "2022-05-17T21:02:00.834Z"
   },
   {
    "duration": 44,
    "start_time": "2022-05-17T21:02:01.756Z"
   },
   {
    "duration": 77,
    "start_time": "2022-05-17T21:02:01.802Z"
   },
   {
    "duration": 6,
    "start_time": "2022-05-17T21:02:01.881Z"
   },
   {
    "duration": 12,
    "start_time": "2022-05-17T21:02:01.889Z"
   },
   {
    "duration": 7,
    "start_time": "2022-05-17T21:03:16.365Z"
   },
   {
    "duration": 6,
    "start_time": "2022-05-17T21:03:16.863Z"
   },
   {
    "duration": 40,
    "start_time": "2022-05-17T21:04:22.917Z"
   },
   {
    "duration": 39,
    "start_time": "2022-05-17T21:04:23.502Z"
   },
   {
    "duration": 6,
    "start_time": "2022-05-17T21:04:30.230Z"
   },
   {
    "duration": 6,
    "start_time": "2022-05-17T21:04:30.614Z"
   },
   {
    "duration": 6,
    "start_time": "2022-05-17T21:05:02.070Z"
   },
   {
    "duration": 7,
    "start_time": "2022-05-17T21:05:03.367Z"
   },
   {
    "duration": 37,
    "start_time": "2022-05-17T21:06:33.815Z"
   },
   {
    "duration": 34,
    "start_time": "2022-05-17T21:10:13.953Z"
   },
   {
    "duration": 1346,
    "start_time": "2022-05-18T19:15:15.865Z"
   },
   {
    "duration": 3,
    "start_time": "2022-05-18T19:15:17.216Z"
   },
   {
    "duration": 282,
    "start_time": "2022-05-18T19:15:17.220Z"
   },
   {
    "duration": 24,
    "start_time": "2022-05-18T19:15:17.504Z"
   },
   {
    "duration": 13,
    "start_time": "2022-05-18T19:15:17.529Z"
   },
   {
    "duration": 45,
    "start_time": "2022-05-18T19:15:17.544Z"
   },
   {
    "duration": 804,
    "start_time": "2022-05-18T19:15:17.591Z"
   },
   {
    "duration": 397,
    "start_time": "2022-05-18T19:15:18.397Z"
   },
   {
    "duration": 366,
    "start_time": "2022-05-18T19:15:18.796Z"
   },
   {
    "duration": 311,
    "start_time": "2022-05-18T19:15:19.166Z"
   },
   {
    "duration": 5,
    "start_time": "2022-05-18T19:15:19.479Z"
   },
   {
    "duration": 12,
    "start_time": "2022-05-18T19:15:19.486Z"
   },
   {
    "duration": 6,
    "start_time": "2022-05-18T19:15:19.499Z"
   },
   {
    "duration": 6,
    "start_time": "2022-05-18T19:15:19.507Z"
   },
   {
    "duration": 7,
    "start_time": "2022-05-18T19:15:19.514Z"
   },
   {
    "duration": 26,
    "start_time": "2022-05-18T19:15:19.523Z"
   },
   {
    "duration": 20,
    "start_time": "2022-05-18T19:15:19.557Z"
   },
   {
    "duration": 12,
    "start_time": "2022-05-18T19:15:19.579Z"
   },
   {
    "duration": 111,
    "start_time": "2022-05-18T19:15:19.593Z"
   },
   {
    "duration": 4,
    "start_time": "2022-05-18T19:15:19.706Z"
   },
   {
    "duration": 9,
    "start_time": "2022-05-18T19:15:19.712Z"
   },
   {
    "duration": 7,
    "start_time": "2022-05-18T19:15:19.722Z"
   },
   {
    "duration": 7,
    "start_time": "2022-05-18T19:15:19.744Z"
   },
   {
    "duration": 157,
    "start_time": "2022-05-18T19:15:19.752Z"
   },
   {
    "duration": 5,
    "start_time": "2022-05-18T19:15:19.911Z"
   },
   {
    "duration": 19,
    "start_time": "2022-05-18T19:15:19.918Z"
   },
   {
    "duration": 46,
    "start_time": "2022-05-18T19:15:19.940Z"
   },
   {
    "duration": 6,
    "start_time": "2022-05-18T19:15:19.989Z"
   },
   {
    "duration": 7,
    "start_time": "2022-05-18T19:15:19.997Z"
   },
   {
    "duration": 795,
    "start_time": "2022-05-18T19:15:20.005Z"
   },
   {
    "duration": 61,
    "start_time": "2022-05-18T19:15:20.802Z"
   },
   {
    "duration": 53,
    "start_time": "2022-05-18T19:15:20.870Z"
   },
   {
    "duration": 7,
    "start_time": "2022-05-18T19:15:20.925Z"
   },
   {
    "duration": 19,
    "start_time": "2022-05-18T19:15:20.933Z"
   },
   {
    "duration": 16,
    "start_time": "2022-05-18T19:18:56.472Z"
   },
   {
    "duration": 3,
    "start_time": "2022-05-18T19:24:55.987Z"
   },
   {
    "duration": 4,
    "start_time": "2022-05-18T19:25:17.472Z"
   },
   {
    "duration": 148,
    "start_time": "2022-05-18T19:27:37.700Z"
   },
   {
    "duration": 5,
    "start_time": "2022-05-18T19:27:50.793Z"
   },
   {
    "duration": 8,
    "start_time": "2022-05-18T19:27:54.700Z"
   },
   {
    "duration": 3,
    "start_time": "2022-05-18T19:28:14.185Z"
   },
   {
    "duration": 7,
    "start_time": "2022-05-18T19:28:18.978Z"
   },
   {
    "duration": 14,
    "start_time": "2022-05-18T19:28:53.469Z"
   },
   {
    "duration": 2557,
    "start_time": "2022-05-18T19:28:58.742Z"
   },
   {
    "duration": 31340,
    "start_time": "2022-05-18T19:29:13.071Z"
   },
   {
    "duration": 30694,
    "start_time": "2022-05-18T19:30:23.425Z"
   },
   {
    "duration": 12,
    "start_time": "2022-05-18T19:31:28.055Z"
   },
   {
    "duration": 5,
    "start_time": "2022-05-18T19:34:39.913Z"
   },
   {
    "duration": 3,
    "start_time": "2022-05-18T19:39:22.585Z"
   },
   {
    "duration": 46,
    "start_time": "2022-05-18T19:39:39.876Z"
   },
   {
    "duration": 3,
    "start_time": "2022-05-18T19:40:03.322Z"
   },
   {
    "duration": 28775,
    "start_time": "2022-05-18T19:40:04.613Z"
   },
   {
    "duration": 60,
    "start_time": "2022-05-18T19:44:20.032Z"
   },
   {
    "duration": 6,
    "start_time": "2022-05-18T19:44:40.882Z"
   },
   {
    "duration": 26,
    "start_time": "2022-05-18T19:44:46.785Z"
   },
   {
    "duration": 23,
    "start_time": "2022-05-18T19:46:59.491Z"
   },
   {
    "duration": 39,
    "start_time": "2022-05-18T19:48:21.499Z"
   },
   {
    "duration": 26,
    "start_time": "2022-05-18T19:48:25.881Z"
   },
   {
    "duration": 4,
    "start_time": "2022-05-18T19:51:01.117Z"
   },
   {
    "duration": 6,
    "start_time": "2022-05-18T19:52:08.103Z"
   },
   {
    "duration": 13,
    "start_time": "2022-05-18T20:12:53.968Z"
   },
   {
    "duration": 7,
    "start_time": "2022-05-18T20:13:30.885Z"
   },
   {
    "duration": 1193,
    "start_time": "2022-05-18T20:13:53.822Z"
   },
   {
    "duration": 2,
    "start_time": "2022-05-18T20:13:55.018Z"
   },
   {
    "duration": 122,
    "start_time": "2022-05-18T20:13:55.022Z"
   },
   {
    "duration": 28,
    "start_time": "2022-05-18T20:13:55.149Z"
   },
   {
    "duration": 13,
    "start_time": "2022-05-18T20:13:55.179Z"
   },
   {
    "duration": 55,
    "start_time": "2022-05-18T20:13:55.194Z"
   },
   {
    "duration": 765,
    "start_time": "2022-05-18T20:13:55.252Z"
   },
   {
    "duration": 457,
    "start_time": "2022-05-18T20:13:56.019Z"
   },
   {
    "duration": 378,
    "start_time": "2022-05-18T20:13:56.477Z"
   },
   {
    "duration": 394,
    "start_time": "2022-05-18T20:13:56.860Z"
   },
   {
    "duration": 12,
    "start_time": "2022-05-18T20:13:57.256Z"
   },
   {
    "duration": 24,
    "start_time": "2022-05-18T20:13:57.272Z"
   },
   {
    "duration": 8,
    "start_time": "2022-05-18T20:13:57.298Z"
   },
   {
    "duration": 10,
    "start_time": "2022-05-18T20:13:57.308Z"
   },
   {
    "duration": 9,
    "start_time": "2022-05-18T20:13:57.321Z"
   },
   {
    "duration": 10,
    "start_time": "2022-05-18T20:13:57.332Z"
   },
   {
    "duration": 34,
    "start_time": "2022-05-18T20:13:57.344Z"
   },
   {
    "duration": 18,
    "start_time": "2022-05-18T20:13:57.380Z"
   },
   {
    "duration": 135,
    "start_time": "2022-05-18T20:13:57.400Z"
   },
   {
    "duration": 12,
    "start_time": "2022-05-18T20:13:57.542Z"
   },
   {
    "duration": 22,
    "start_time": "2022-05-18T20:13:57.561Z"
   },
   {
    "duration": 6,
    "start_time": "2022-05-18T20:13:57.585Z"
   },
   {
    "duration": 14,
    "start_time": "2022-05-18T20:13:57.592Z"
   },
   {
    "duration": 118,
    "start_time": "2022-05-18T20:13:57.607Z"
   },
   {
    "duration": 4,
    "start_time": "2022-05-18T20:13:57.726Z"
   },
   {
    "duration": 34,
    "start_time": "2022-05-18T20:13:57.742Z"
   },
   {
    "duration": 23,
    "start_time": "2022-05-18T20:13:57.778Z"
   },
   {
    "duration": 7,
    "start_time": "2022-05-18T20:13:57.805Z"
   },
   {
    "duration": 9,
    "start_time": "2022-05-18T20:13:57.813Z"
   },
   {
    "duration": 6,
    "start_time": "2022-05-18T20:13:57.823Z"
   },
   {
    "duration": 123,
    "start_time": "2022-05-18T20:13:57.831Z"
   },
   {
    "duration": 0,
    "start_time": "2022-05-18T20:13:57.956Z"
   },
   {
    "duration": 0,
    "start_time": "2022-05-18T20:13:57.958Z"
   },
   {
    "duration": 0,
    "start_time": "2022-05-18T20:13:57.958Z"
   },
   {
    "duration": 0,
    "start_time": "2022-05-18T20:13:57.959Z"
   },
   {
    "duration": 0,
    "start_time": "2022-05-18T20:13:57.960Z"
   },
   {
    "duration": 0,
    "start_time": "2022-05-18T20:13:57.960Z"
   },
   {
    "duration": 0,
    "start_time": "2022-05-18T20:13:57.961Z"
   },
   {
    "duration": 0,
    "start_time": "2022-05-18T20:13:57.962Z"
   },
   {
    "duration": 0,
    "start_time": "2022-05-18T20:13:57.965Z"
   },
   {
    "duration": 1190,
    "start_time": "2022-05-18T20:15:30.113Z"
   },
   {
    "duration": 3,
    "start_time": "2022-05-18T20:15:31.307Z"
   },
   {
    "duration": 130,
    "start_time": "2022-05-18T20:15:31.312Z"
   },
   {
    "duration": 32,
    "start_time": "2022-05-18T20:15:31.445Z"
   },
   {
    "duration": 16,
    "start_time": "2022-05-18T20:15:31.479Z"
   },
   {
    "duration": 71,
    "start_time": "2022-05-18T20:15:31.497Z"
   },
   {
    "duration": 818,
    "start_time": "2022-05-18T20:15:31.569Z"
   },
   {
    "duration": 395,
    "start_time": "2022-05-18T20:15:32.389Z"
   },
   {
    "duration": 340,
    "start_time": "2022-05-18T20:15:32.786Z"
   },
   {
    "duration": 309,
    "start_time": "2022-05-18T20:15:33.129Z"
   },
   {
    "duration": 16,
    "start_time": "2022-05-18T20:15:33.440Z"
   },
   {
    "duration": 22,
    "start_time": "2022-05-18T20:15:33.460Z"
   },
   {
    "duration": 8,
    "start_time": "2022-05-18T20:15:33.484Z"
   },
   {
    "duration": 6,
    "start_time": "2022-05-18T20:15:33.494Z"
   },
   {
    "duration": 5,
    "start_time": "2022-05-18T20:15:33.502Z"
   },
   {
    "duration": 6,
    "start_time": "2022-05-18T20:15:33.509Z"
   },
   {
    "duration": 5,
    "start_time": "2022-05-18T20:15:33.516Z"
   },
   {
    "duration": 32,
    "start_time": "2022-05-18T20:15:33.524Z"
   },
   {
    "duration": 122,
    "start_time": "2022-05-18T20:15:33.558Z"
   },
   {
    "duration": 4,
    "start_time": "2022-05-18T20:15:33.682Z"
   },
   {
    "duration": 8,
    "start_time": "2022-05-18T20:15:33.688Z"
   },
   {
    "duration": 5,
    "start_time": "2022-05-18T20:15:33.698Z"
   },
   {
    "duration": 9,
    "start_time": "2022-05-18T20:15:33.705Z"
   },
   {
    "duration": 148,
    "start_time": "2022-05-18T20:15:33.716Z"
   },
   {
    "duration": 3,
    "start_time": "2022-05-18T20:15:33.866Z"
   },
   {
    "duration": 14,
    "start_time": "2022-05-18T20:15:33.871Z"
   },
   {
    "duration": 14,
    "start_time": "2022-05-18T20:15:33.887Z"
   },
   {
    "duration": 6,
    "start_time": "2022-05-18T20:15:33.905Z"
   },
   {
    "duration": 9,
    "start_time": "2022-05-18T20:15:33.913Z"
   },
   {
    "duration": 30,
    "start_time": "2022-05-18T20:15:33.924Z"
   },
   {
    "duration": 738,
    "start_time": "2022-05-18T20:15:33.955Z"
   },
   {
    "duration": 59,
    "start_time": "2022-05-18T20:15:34.695Z"
   },
   {
    "duration": 40,
    "start_time": "2022-05-18T20:15:34.755Z"
   },
   {
    "duration": 5,
    "start_time": "2022-05-18T20:15:34.797Z"
   },
   {
    "duration": 7,
    "start_time": "2022-05-18T20:15:34.804Z"
   },
   {
    "duration": 5,
    "start_time": "2022-05-18T20:15:34.813Z"
   },
   {
    "duration": 22,
    "start_time": "2022-05-18T20:15:34.820Z"
   },
   {
    "duration": 23656,
    "start_time": "2022-05-18T20:15:34.848Z"
   },
   {
    "duration": 22,
    "start_time": "2022-05-18T20:15:58.505Z"
   },
   {
    "duration": 6,
    "start_time": "2022-05-18T20:15:58.528Z"
   },
   {
    "duration": 1304,
    "start_time": "2022-05-18T20:17:56.650Z"
   },
   {
    "duration": 2,
    "start_time": "2022-05-18T20:17:57.966Z"
   },
   {
    "duration": 124,
    "start_time": "2022-05-18T20:17:57.970Z"
   },
   {
    "duration": 30,
    "start_time": "2022-05-18T20:17:58.096Z"
   },
   {
    "duration": 27,
    "start_time": "2022-05-18T20:17:58.129Z"
   },
   {
    "duration": 76,
    "start_time": "2022-05-18T20:17:58.158Z"
   },
   {
    "duration": 801,
    "start_time": "2022-05-18T20:17:58.236Z"
   },
   {
    "duration": 422,
    "start_time": "2022-05-18T20:17:59.042Z"
   },
   {
    "duration": 385,
    "start_time": "2022-05-18T20:17:59.466Z"
   },
   {
    "duration": 362,
    "start_time": "2022-05-18T20:17:59.855Z"
   },
   {
    "duration": 7,
    "start_time": "2022-05-18T20:18:00.218Z"
   },
   {
    "duration": 35,
    "start_time": "2022-05-18T20:18:00.226Z"
   },
   {
    "duration": 32,
    "start_time": "2022-05-18T20:18:00.263Z"
   },
   {
    "duration": 9,
    "start_time": "2022-05-18T20:18:00.299Z"
   },
   {
    "duration": 20,
    "start_time": "2022-05-18T20:18:00.310Z"
   },
   {
    "duration": 55,
    "start_time": "2022-05-18T20:18:00.332Z"
   },
   {
    "duration": 22,
    "start_time": "2022-05-18T20:18:00.388Z"
   },
   {
    "duration": 125,
    "start_time": "2022-05-18T20:18:00.411Z"
   },
   {
    "duration": 50,
    "start_time": "2022-05-18T20:18:00.538Z"
   },
   {
    "duration": 18,
    "start_time": "2022-05-18T20:18:00.590Z"
   },
   {
    "duration": 22,
    "start_time": "2022-05-18T20:18:00.610Z"
   },
   {
    "duration": 53,
    "start_time": "2022-05-18T20:18:00.634Z"
   },
   {
    "duration": 31,
    "start_time": "2022-05-18T20:18:00.689Z"
   },
   {
    "duration": 154,
    "start_time": "2022-05-18T20:18:00.721Z"
   },
   {
    "duration": 5,
    "start_time": "2022-05-18T20:18:00.877Z"
   },
   {
    "duration": 31,
    "start_time": "2022-05-18T20:18:00.883Z"
   },
   {
    "duration": 13,
    "start_time": "2022-05-18T20:18:00.915Z"
   },
   {
    "duration": 9,
    "start_time": "2022-05-18T20:18:00.930Z"
   },
   {
    "duration": 52,
    "start_time": "2022-05-18T20:18:00.940Z"
   },
   {
    "duration": 15,
    "start_time": "2022-05-18T20:18:00.994Z"
   },
   {
    "duration": 837,
    "start_time": "2022-05-18T20:18:01.011Z"
   },
   {
    "duration": 48,
    "start_time": "2022-05-18T20:18:01.850Z"
   },
   {
    "duration": 64,
    "start_time": "2022-05-18T20:18:01.900Z"
   },
   {
    "duration": 27,
    "start_time": "2022-05-18T20:18:01.966Z"
   },
   {
    "duration": 74,
    "start_time": "2022-05-18T20:18:01.996Z"
   },
   {
    "duration": 24,
    "start_time": "2022-05-18T20:18:02.080Z"
   },
   {
    "duration": 63,
    "start_time": "2022-05-18T20:18:02.106Z"
   },
   {
    "duration": 26187,
    "start_time": "2022-05-18T20:18:02.171Z"
   },
   {
    "duration": 26,
    "start_time": "2022-05-18T20:18:28.367Z"
   },
   {
    "duration": 6,
    "start_time": "2022-05-18T20:18:28.394Z"
   },
   {
    "duration": 1261,
    "start_time": "2022-05-18T20:19:23.268Z"
   },
   {
    "duration": 3,
    "start_time": "2022-05-18T20:19:24.532Z"
   },
   {
    "duration": 165,
    "start_time": "2022-05-18T20:19:24.537Z"
   },
   {
    "duration": 27,
    "start_time": "2022-05-18T20:19:24.704Z"
   },
   {
    "duration": 16,
    "start_time": "2022-05-18T20:19:24.733Z"
   },
   {
    "duration": 81,
    "start_time": "2022-05-18T20:19:24.751Z"
   },
   {
    "duration": 921,
    "start_time": "2022-05-18T20:19:24.833Z"
   },
   {
    "duration": 421,
    "start_time": "2022-05-18T20:19:25.763Z"
   },
   {
    "duration": 409,
    "start_time": "2022-05-18T20:19:26.185Z"
   },
   {
    "duration": 377,
    "start_time": "2022-05-18T20:19:26.603Z"
   },
   {
    "duration": 18,
    "start_time": "2022-05-18T20:19:26.992Z"
   },
   {
    "duration": 25,
    "start_time": "2022-05-18T20:19:27.012Z"
   },
   {
    "duration": 28,
    "start_time": "2022-05-18T20:19:27.039Z"
   },
   {
    "duration": 39,
    "start_time": "2022-05-18T20:19:27.075Z"
   },
   {
    "duration": 12,
    "start_time": "2022-05-18T20:19:27.116Z"
   },
   {
    "duration": 73,
    "start_time": "2022-05-18T20:19:27.130Z"
   },
   {
    "duration": 17,
    "start_time": "2022-05-18T20:19:27.205Z"
   },
   {
    "duration": 142,
    "start_time": "2022-05-18T20:19:27.224Z"
   },
   {
    "duration": 64,
    "start_time": "2022-05-18T20:19:27.372Z"
   },
   {
    "duration": 23,
    "start_time": "2022-05-18T20:19:27.438Z"
   },
   {
    "duration": 44,
    "start_time": "2022-05-18T20:19:27.463Z"
   },
   {
    "duration": 16,
    "start_time": "2022-05-18T20:19:27.510Z"
   },
   {
    "duration": 28,
    "start_time": "2022-05-18T20:19:27.528Z"
   },
   {
    "duration": 195,
    "start_time": "2022-05-18T20:19:27.559Z"
   },
   {
    "duration": 4,
    "start_time": "2022-05-18T20:19:27.756Z"
   },
   {
    "duration": 41,
    "start_time": "2022-05-18T20:19:27.762Z"
   },
   {
    "duration": 14,
    "start_time": "2022-05-18T20:19:27.805Z"
   },
   {
    "duration": 7,
    "start_time": "2022-05-18T20:19:27.820Z"
   },
   {
    "duration": 5,
    "start_time": "2022-05-18T20:19:27.828Z"
   },
   {
    "duration": 24,
    "start_time": "2022-05-18T20:19:27.835Z"
   },
   {
    "duration": 832,
    "start_time": "2022-05-18T20:19:27.862Z"
   },
   {
    "duration": 38,
    "start_time": "2022-05-18T20:19:28.696Z"
   },
   {
    "duration": 62,
    "start_time": "2022-05-18T20:19:28.743Z"
   },
   {
    "duration": 6,
    "start_time": "2022-05-18T20:19:28.806Z"
   },
   {
    "duration": 12,
    "start_time": "2022-05-18T20:19:28.813Z"
   },
   {
    "duration": 6,
    "start_time": "2022-05-18T20:19:28.826Z"
   },
   {
    "duration": 19,
    "start_time": "2022-05-18T20:19:28.834Z"
   },
   {
    "duration": 24640,
    "start_time": "2022-05-18T20:19:28.854Z"
   },
   {
    "duration": 28,
    "start_time": "2022-05-18T20:19:53.497Z"
   },
   {
    "duration": 9,
    "start_time": "2022-05-18T20:19:53.554Z"
   },
   {
    "duration": 126,
    "start_time": "2022-05-18T20:35:01.268Z"
   },
   {
    "duration": 4,
    "start_time": "2022-05-18T20:35:08.513Z"
   },
   {
    "duration": 13,
    "start_time": "2022-05-18T20:35:12.481Z"
   },
   {
    "duration": 9,
    "start_time": "2022-05-18T20:35:21.626Z"
   },
   {
    "duration": 8,
    "start_time": "2022-05-18T20:39:19.477Z"
   },
   {
    "duration": 8,
    "start_time": "2022-05-18T20:42:02.872Z"
   },
   {
    "duration": 4,
    "start_time": "2022-05-18T20:42:17.884Z"
   },
   {
    "duration": 4,
    "start_time": "2022-05-18T20:46:23.466Z"
   },
   {
    "duration": 65,
    "start_time": "2022-05-18T20:46:48.274Z"
   },
   {
    "duration": 3,
    "start_time": "2022-05-18T20:47:12.994Z"
   },
   {
    "duration": 228,
    "start_time": "2022-05-18T20:47:13.532Z"
   },
   {
    "duration": 3,
    "start_time": "2022-05-18T20:47:21.977Z"
   },
   {
    "duration": 63,
    "start_time": "2022-05-18T20:47:23.291Z"
   },
   {
    "duration": 4,
    "start_time": "2022-05-18T20:47:58.368Z"
   },
   {
    "duration": 84,
    "start_time": "2022-05-18T20:48:00.308Z"
   },
   {
    "duration": 2,
    "start_time": "2022-05-18T20:48:18.275Z"
   },
   {
    "duration": 156,
    "start_time": "2022-05-18T20:48:19.768Z"
   },
   {
    "duration": 3,
    "start_time": "2022-05-18T20:48:29.403Z"
   },
   {
    "duration": 90,
    "start_time": "2022-05-18T20:48:30.557Z"
   },
   {
    "duration": 3,
    "start_time": "2022-05-18T20:48:39.515Z"
   },
   {
    "duration": 84,
    "start_time": "2022-05-18T20:48:40.604Z"
   },
   {
    "duration": 3,
    "start_time": "2022-05-18T20:50:26.741Z"
   },
   {
    "duration": 85,
    "start_time": "2022-05-18T20:50:27.272Z"
   },
   {
    "duration": 3,
    "start_time": "2022-05-18T20:50:50.236Z"
   },
   {
    "duration": 1167,
    "start_time": "2022-05-18T20:56:45.526Z"
   },
   {
    "duration": 3,
    "start_time": "2022-05-18T20:56:46.695Z"
   },
   {
    "duration": 112,
    "start_time": "2022-05-18T20:56:46.699Z"
   },
   {
    "duration": 39,
    "start_time": "2022-05-18T20:56:46.813Z"
   },
   {
    "duration": 23,
    "start_time": "2022-05-18T20:56:46.856Z"
   },
   {
    "duration": 62,
    "start_time": "2022-05-18T20:56:46.885Z"
   },
   {
    "duration": 852,
    "start_time": "2022-05-18T20:56:46.950Z"
   },
   {
    "duration": 405,
    "start_time": "2022-05-18T20:56:47.804Z"
   },
   {
    "duration": 373,
    "start_time": "2022-05-18T20:56:48.211Z"
   },
   {
    "duration": 303,
    "start_time": "2022-05-18T20:56:48.587Z"
   },
   {
    "duration": 6,
    "start_time": "2022-05-18T20:56:48.891Z"
   },
   {
    "duration": 13,
    "start_time": "2022-05-18T20:56:48.898Z"
   },
   {
    "duration": 5,
    "start_time": "2022-05-18T20:56:48.913Z"
   },
   {
    "duration": 23,
    "start_time": "2022-05-18T20:56:48.919Z"
   },
   {
    "duration": 22,
    "start_time": "2022-05-18T20:56:48.944Z"
   },
   {
    "duration": 9,
    "start_time": "2022-05-18T20:56:48.969Z"
   },
   {
    "duration": 5,
    "start_time": "2022-05-18T20:56:48.980Z"
   },
   {
    "duration": 10,
    "start_time": "2022-05-18T20:56:48.987Z"
   },
   {
    "duration": 134,
    "start_time": "2022-05-18T20:56:48.999Z"
   },
   {
    "duration": 13,
    "start_time": "2022-05-18T20:56:49.134Z"
   },
   {
    "duration": 33,
    "start_time": "2022-05-18T20:56:49.148Z"
   },
   {
    "duration": 5,
    "start_time": "2022-05-18T20:56:49.182Z"
   },
   {
    "duration": 6,
    "start_time": "2022-05-18T20:56:49.189Z"
   },
   {
    "duration": 113,
    "start_time": "2022-05-18T20:56:49.197Z"
   },
   {
    "duration": 4,
    "start_time": "2022-05-18T20:56:49.312Z"
   },
   {
    "duration": 24,
    "start_time": "2022-05-18T20:56:49.317Z"
   },
   {
    "duration": 19,
    "start_time": "2022-05-18T20:56:49.350Z"
   },
   {
    "duration": 7,
    "start_time": "2022-05-18T20:56:49.373Z"
   },
   {
    "duration": 6,
    "start_time": "2022-05-18T20:56:49.382Z"
   },
   {
    "duration": 8,
    "start_time": "2022-05-18T20:56:49.389Z"
   },
   {
    "duration": 833,
    "start_time": "2022-05-18T20:56:49.398Z"
   },
   {
    "duration": 56,
    "start_time": "2022-05-18T20:56:50.233Z"
   },
   {
    "duration": 42,
    "start_time": "2022-05-18T20:56:50.291Z"
   },
   {
    "duration": 14,
    "start_time": "2022-05-18T20:56:50.350Z"
   },
   {
    "duration": 22,
    "start_time": "2022-05-18T20:56:50.370Z"
   },
   {
    "duration": 16,
    "start_time": "2022-05-18T20:56:50.394Z"
   },
   {
    "duration": 18,
    "start_time": "2022-05-18T20:56:50.412Z"
   },
   {
    "duration": 23358,
    "start_time": "2022-05-18T20:56:50.432Z"
   },
   {
    "duration": 21,
    "start_time": "2022-05-18T20:57:13.792Z"
   },
   {
    "duration": 7,
    "start_time": "2022-05-18T20:57:13.814Z"
   },
   {
    "duration": 15,
    "start_time": "2022-05-18T20:57:13.842Z"
   },
   {
    "duration": 28,
    "start_time": "2022-05-18T20:57:13.860Z"
   },
   {
    "duration": 4,
    "start_time": "2022-05-18T20:57:13.890Z"
   },
   {
    "duration": 5,
    "start_time": "2022-05-18T20:57:13.895Z"
   },
   {
    "duration": 1334,
    "start_time": "2022-05-18T21:08:13.274Z"
   },
   {
    "duration": 3,
    "start_time": "2022-05-18T21:08:14.613Z"
   },
   {
    "duration": 166,
    "start_time": "2022-05-18T21:08:14.619Z"
   },
   {
    "duration": 49,
    "start_time": "2022-05-18T21:08:14.788Z"
   },
   {
    "duration": 22,
    "start_time": "2022-05-18T21:08:14.840Z"
   },
   {
    "duration": 97,
    "start_time": "2022-05-18T21:08:14.864Z"
   },
   {
    "duration": 1021,
    "start_time": "2022-05-18T21:08:14.963Z"
   },
   {
    "duration": 452,
    "start_time": "2022-05-18T21:08:15.986Z"
   },
   {
    "duration": 417,
    "start_time": "2022-05-18T21:08:16.441Z"
   },
   {
    "duration": 400,
    "start_time": "2022-05-18T21:08:16.863Z"
   },
   {
    "duration": 8,
    "start_time": "2022-05-18T21:08:17.265Z"
   },
   {
    "duration": 41,
    "start_time": "2022-05-18T21:08:17.274Z"
   },
   {
    "duration": 9,
    "start_time": "2022-05-18T21:08:17.318Z"
   },
   {
    "duration": 32,
    "start_time": "2022-05-18T21:08:17.330Z"
   },
   {
    "duration": 40,
    "start_time": "2022-05-18T21:08:17.376Z"
   },
   {
    "duration": 164,
    "start_time": "2022-05-18T21:08:17.418Z"
   },
   {
    "duration": 3,
    "start_time": "2022-05-18T21:08:17.585Z"
   },
   {
    "duration": 32,
    "start_time": "2022-05-18T21:08:17.590Z"
   },
   {
    "duration": 40,
    "start_time": "2022-05-18T21:08:17.624Z"
   },
   {
    "duration": 27,
    "start_time": "2022-05-18T21:08:17.666Z"
   },
   {
    "duration": 20,
    "start_time": "2022-05-18T21:08:17.698Z"
   },
   {
    "duration": 7,
    "start_time": "2022-05-18T21:08:17.720Z"
   },
   {
    "duration": 13,
    "start_time": "2022-05-18T21:08:17.729Z"
   },
   {
    "duration": 246,
    "start_time": "2022-05-18T21:08:17.744Z"
   },
   {
    "duration": 4,
    "start_time": "2022-05-18T21:08:17.992Z"
   },
   {
    "duration": 17,
    "start_time": "2022-05-18T21:08:17.998Z"
   },
   {
    "duration": 44,
    "start_time": "2022-05-18T21:08:18.017Z"
   },
   {
    "duration": 29,
    "start_time": "2022-05-18T21:08:18.063Z"
   },
   {
    "duration": 9,
    "start_time": "2022-05-18T21:08:18.094Z"
   },
   {
    "duration": 7,
    "start_time": "2022-05-18T21:08:18.105Z"
   },
   {
    "duration": 880,
    "start_time": "2022-05-18T21:08:18.114Z"
   },
   {
    "duration": 60,
    "start_time": "2022-05-18T21:08:18.996Z"
   },
   {
    "duration": 60,
    "start_time": "2022-05-18T21:08:19.057Z"
   },
   {
    "duration": 7,
    "start_time": "2022-05-18T21:08:19.120Z"
   },
   {
    "duration": 15,
    "start_time": "2022-05-18T21:08:19.129Z"
   },
   {
    "duration": 35,
    "start_time": "2022-05-18T21:08:19.147Z"
   },
   {
    "duration": 11,
    "start_time": "2022-05-18T21:08:19.184Z"
   },
   {
    "duration": 26240,
    "start_time": "2022-05-18T21:08:19.197Z"
   },
   {
    "duration": 31,
    "start_time": "2022-05-18T21:08:45.449Z"
   },
   {
    "duration": 20,
    "start_time": "2022-05-18T21:08:45.483Z"
   },
   {
    "duration": 12,
    "start_time": "2022-05-18T21:08:45.508Z"
   },
   {
    "duration": 7,
    "start_time": "2022-05-18T21:08:45.523Z"
   },
   {
    "duration": 7,
    "start_time": "2022-05-18T21:08:45.544Z"
   },
   {
    "duration": 39,
    "start_time": "2022-05-18T21:08:45.555Z"
   },
   {
    "duration": 1717,
    "start_time": "2022-05-18T21:17:24.304Z"
   },
   {
    "duration": 8,
    "start_time": "2022-05-18T21:17:26.025Z"
   },
   {
    "duration": 189,
    "start_time": "2022-05-18T21:17:26.035Z"
   },
   {
    "duration": 49,
    "start_time": "2022-05-18T21:17:26.226Z"
   },
   {
    "duration": 32,
    "start_time": "2022-05-18T21:17:26.283Z"
   },
   {
    "duration": 60,
    "start_time": "2022-05-18T21:17:26.317Z"
   },
   {
    "duration": 1024,
    "start_time": "2022-05-18T21:17:26.378Z"
   },
   {
    "duration": 508,
    "start_time": "2022-05-18T21:17:27.408Z"
   },
   {
    "duration": 520,
    "start_time": "2022-05-18T21:17:27.921Z"
   },
   {
    "duration": 420,
    "start_time": "2022-05-18T21:17:28.444Z"
   },
   {
    "duration": 11,
    "start_time": "2022-05-18T21:17:28.870Z"
   },
   {
    "duration": 36,
    "start_time": "2022-05-18T21:17:28.886Z"
   },
   {
    "duration": 19,
    "start_time": "2022-05-18T21:17:28.928Z"
   },
   {
    "duration": 24,
    "start_time": "2022-05-18T21:17:28.960Z"
   },
   {
    "duration": 54,
    "start_time": "2022-05-18T21:17:28.989Z"
   },
   {
    "duration": 317,
    "start_time": "2022-05-18T21:17:29.050Z"
   },
   {
    "duration": 40,
    "start_time": "2022-05-18T21:17:29.369Z"
   },
   {
    "duration": 159,
    "start_time": "2022-05-18T21:17:29.411Z"
   },
   {
    "duration": 164,
    "start_time": "2022-05-18T21:17:29.577Z"
   },
   {
    "duration": 20,
    "start_time": "2022-05-18T21:17:29.751Z"
   },
   {
    "duration": 49,
    "start_time": "2022-05-18T21:17:29.783Z"
   },
   {
    "duration": 16,
    "start_time": "2022-05-18T21:17:29.835Z"
   },
   {
    "duration": 181,
    "start_time": "2022-05-18T21:17:29.859Z"
   },
   {
    "duration": 332,
    "start_time": "2022-05-18T21:17:30.048Z"
   },
   {
    "duration": 55,
    "start_time": "2022-05-18T21:17:30.384Z"
   },
   {
    "duration": 135,
    "start_time": "2022-05-18T21:17:30.441Z"
   },
   {
    "duration": 157,
    "start_time": "2022-05-18T21:17:30.580Z"
   },
   {
    "duration": 39,
    "start_time": "2022-05-18T21:17:30.740Z"
   },
   {
    "duration": 14,
    "start_time": "2022-05-18T21:17:30.788Z"
   },
   {
    "duration": 54,
    "start_time": "2022-05-18T21:17:30.804Z"
   },
   {
    "duration": 1408,
    "start_time": "2022-05-18T21:17:30.866Z"
   },
   {
    "duration": 68,
    "start_time": "2022-05-18T21:17:32.276Z"
   },
   {
    "duration": 61,
    "start_time": "2022-05-18T21:17:32.350Z"
   },
   {
    "duration": 21,
    "start_time": "2022-05-18T21:17:32.413Z"
   },
   {
    "duration": 48,
    "start_time": "2022-05-18T21:17:32.436Z"
   },
   {
    "duration": 16,
    "start_time": "2022-05-18T21:17:32.488Z"
   },
   {
    "duration": 17,
    "start_time": "2022-05-18T21:17:32.512Z"
   },
   {
    "duration": 26162,
    "start_time": "2022-05-18T21:17:32.531Z"
   },
   {
    "duration": 25,
    "start_time": "2022-05-18T21:17:58.694Z"
   },
   {
    "duration": 23,
    "start_time": "2022-05-18T21:17:58.720Z"
   },
   {
    "duration": 21,
    "start_time": "2022-05-18T21:17:58.749Z"
   },
   {
    "duration": 22,
    "start_time": "2022-05-18T21:17:58.775Z"
   },
   {
    "duration": 11,
    "start_time": "2022-05-18T21:17:58.799Z"
   },
   {
    "duration": 7,
    "start_time": "2022-05-18T21:17:58.811Z"
   },
   {
    "duration": 188744,
    "start_time": "2022-05-18T21:17:58.819Z"
   },
   {
    "duration": 4,
    "start_time": "2022-05-18T21:23:04.694Z"
   },
   {
    "duration": 734286,
    "start_time": "2022-05-18T21:23:07.083Z"
   },
   {
    "duration": 46,
    "start_time": "2022-05-18T21:37:04.152Z"
   },
   {
    "duration": 14,
    "start_time": "2022-05-18T21:37:09.895Z"
   },
   {
    "duration": 4,
    "start_time": "2022-05-18T21:37:16.727Z"
   },
   {
    "duration": 5,
    "start_time": "2022-05-18T21:37:19.791Z"
   },
   {
    "duration": 5,
    "start_time": "2022-05-18T21:37:26.467Z"
   },
   {
    "duration": 1246,
    "start_time": "2022-05-18T21:38:16.140Z"
   },
   {
    "duration": 3,
    "start_time": "2022-05-18T21:38:17.389Z"
   },
   {
    "duration": 118,
    "start_time": "2022-05-18T21:38:17.393Z"
   },
   {
    "duration": 40,
    "start_time": "2022-05-18T21:38:17.513Z"
   },
   {
    "duration": 14,
    "start_time": "2022-05-18T21:38:17.559Z"
   },
   {
    "duration": 42,
    "start_time": "2022-05-18T21:38:17.574Z"
   },
   {
    "duration": 770,
    "start_time": "2022-05-18T21:38:17.618Z"
   },
   {
    "duration": 386,
    "start_time": "2022-05-18T21:38:18.389Z"
   },
   {
    "duration": 360,
    "start_time": "2022-05-18T21:38:18.777Z"
   },
   {
    "duration": 326,
    "start_time": "2022-05-18T21:38:19.139Z"
   },
   {
    "duration": 8,
    "start_time": "2022-05-18T21:38:19.466Z"
   },
   {
    "duration": 19,
    "start_time": "2022-05-18T21:38:19.475Z"
   },
   {
    "duration": 6,
    "start_time": "2022-05-18T21:38:19.496Z"
   },
   {
    "duration": 5,
    "start_time": "2022-05-18T21:38:19.503Z"
   },
   {
    "duration": 6,
    "start_time": "2022-05-18T21:38:19.510Z"
   },
   {
    "duration": 33,
    "start_time": "2022-05-18T21:38:19.517Z"
   },
   {
    "duration": 12,
    "start_time": "2022-05-18T21:38:19.551Z"
   },
   {
    "duration": 10,
    "start_time": "2022-05-18T21:38:19.565Z"
   },
   {
    "duration": 131,
    "start_time": "2022-05-18T21:38:19.577Z"
   },
   {
    "duration": 4,
    "start_time": "2022-05-18T21:38:19.710Z"
   },
   {
    "duration": 7,
    "start_time": "2022-05-18T21:38:19.716Z"
   },
   {
    "duration": 15,
    "start_time": "2022-05-18T21:38:19.741Z"
   },
   {
    "duration": 13,
    "start_time": "2022-05-18T21:38:19.757Z"
   },
   {
    "duration": 146,
    "start_time": "2022-05-18T21:38:19.772Z"
   },
   {
    "duration": 5,
    "start_time": "2022-05-18T21:38:19.920Z"
   },
   {
    "duration": 30,
    "start_time": "2022-05-18T21:38:19.926Z"
   },
   {
    "duration": 16,
    "start_time": "2022-05-18T21:38:19.959Z"
   },
   {
    "duration": 17,
    "start_time": "2022-05-18T21:38:19.980Z"
   },
   {
    "duration": 15,
    "start_time": "2022-05-18T21:38:19.999Z"
   },
   {
    "duration": 8,
    "start_time": "2022-05-18T21:38:20.016Z"
   },
   {
    "duration": 727,
    "start_time": "2022-05-18T21:38:20.026Z"
   },
   {
    "duration": 37,
    "start_time": "2022-05-18T21:38:20.759Z"
   },
   {
    "duration": 37,
    "start_time": "2022-05-18T21:38:20.797Z"
   },
   {
    "duration": 15,
    "start_time": "2022-05-18T21:38:20.841Z"
   },
   {
    "duration": 7,
    "start_time": "2022-05-18T21:38:20.858Z"
   },
   {
    "duration": 14,
    "start_time": "2022-05-18T21:38:20.867Z"
   },
   {
    "duration": 6,
    "start_time": "2022-05-18T21:38:20.883Z"
   },
   {
    "duration": 22895,
    "start_time": "2022-05-18T21:38:20.890Z"
   },
   {
    "duration": 26,
    "start_time": "2022-05-18T21:38:43.787Z"
   },
   {
    "duration": 7,
    "start_time": "2022-05-18T21:38:43.815Z"
   },
   {
    "duration": 28,
    "start_time": "2022-05-18T21:38:43.824Z"
   },
   {
    "duration": 22,
    "start_time": "2022-05-18T21:38:43.854Z"
   },
   {
    "duration": 4,
    "start_time": "2022-05-18T21:38:43.878Z"
   },
   {
    "duration": 4,
    "start_time": "2022-05-18T21:38:43.884Z"
   },
   {
    "duration": 503361,
    "start_time": "2022-05-18T21:38:43.889Z"
   },
   {
    "duration": 2,
    "start_time": "2022-05-18T21:53:28.182Z"
   },
   {
    "duration": 8474,
    "start_time": "2022-05-18T21:53:35.885Z"
   },
   {
    "duration": 40,
    "start_time": "2022-05-18T21:57:00.052Z"
   },
   {
    "duration": 3,
    "start_time": "2022-05-18T21:57:07.829Z"
   },
   {
    "duration": 328,
    "start_time": "2022-05-18T21:57:42.349Z"
   },
   {
    "duration": 6,
    "start_time": "2022-05-18T21:58:48.257Z"
   },
   {
    "duration": 6,
    "start_time": "2022-05-18T22:01:07.267Z"
   },
   {
    "duration": 9,
    "start_time": "2022-05-18T22:01:38.580Z"
   },
   {
    "duration": 54,
    "start_time": "2022-05-19T15:03:03.755Z"
   },
   {
    "duration": 1354,
    "start_time": "2022-05-19T15:03:22.054Z"
   },
   {
    "duration": 2,
    "start_time": "2022-05-19T15:03:23.412Z"
   },
   {
    "duration": 254,
    "start_time": "2022-05-19T15:03:23.416Z"
   },
   {
    "duration": 24,
    "start_time": "2022-05-19T15:03:23.673Z"
   },
   {
    "duration": 12,
    "start_time": "2022-05-19T15:03:23.698Z"
   },
   {
    "duration": 56,
    "start_time": "2022-05-19T15:03:23.712Z"
   },
   {
    "duration": 832,
    "start_time": "2022-05-19T15:03:23.769Z"
   },
   {
    "duration": 405,
    "start_time": "2022-05-19T15:03:24.603Z"
   },
   {
    "duration": 375,
    "start_time": "2022-05-19T15:03:25.010Z"
   },
   {
    "duration": 306,
    "start_time": "2022-05-19T15:03:25.387Z"
   },
   {
    "duration": 6,
    "start_time": "2022-05-19T15:03:25.695Z"
   },
   {
    "duration": 17,
    "start_time": "2022-05-19T15:03:25.702Z"
   },
   {
    "duration": 27,
    "start_time": "2022-05-19T15:03:25.721Z"
   },
   {
    "duration": 12,
    "start_time": "2022-05-19T15:03:25.752Z"
   },
   {
    "duration": 8,
    "start_time": "2022-05-19T15:03:25.765Z"
   },
   {
    "duration": 8,
    "start_time": "2022-05-19T15:03:25.774Z"
   },
   {
    "duration": 5,
    "start_time": "2022-05-19T15:03:25.783Z"
   },
   {
    "duration": 13,
    "start_time": "2022-05-19T15:03:25.789Z"
   },
   {
    "duration": 116,
    "start_time": "2022-05-19T15:03:25.804Z"
   },
   {
    "duration": 5,
    "start_time": "2022-05-19T15:03:25.922Z"
   },
   {
    "duration": 18,
    "start_time": "2022-05-19T15:03:25.928Z"
   },
   {
    "duration": 10,
    "start_time": "2022-05-19T15:03:25.955Z"
   },
   {
    "duration": 9,
    "start_time": "2022-05-19T15:03:25.966Z"
   },
   {
    "duration": 126,
    "start_time": "2022-05-19T15:03:25.977Z"
   },
   {
    "duration": 4,
    "start_time": "2022-05-19T15:03:26.104Z"
   },
   {
    "duration": 16,
    "start_time": "2022-05-19T15:03:26.109Z"
   },
   {
    "duration": 29,
    "start_time": "2022-05-19T15:03:26.127Z"
   },
   {
    "duration": 7,
    "start_time": "2022-05-19T15:03:26.161Z"
   },
   {
    "duration": 8,
    "start_time": "2022-05-19T15:03:26.169Z"
   },
   {
    "duration": 10,
    "start_time": "2022-05-19T15:03:26.179Z"
   },
   {
    "duration": 783,
    "start_time": "2022-05-19T15:03:26.190Z"
   },
   {
    "duration": 52,
    "start_time": "2022-05-19T15:03:26.975Z"
   },
   {
    "duration": 51,
    "start_time": "2022-05-19T15:03:27.040Z"
   },
   {
    "duration": 7,
    "start_time": "2022-05-19T15:03:27.093Z"
   },
   {
    "duration": 7,
    "start_time": "2022-05-19T15:03:27.102Z"
   },
   {
    "duration": 11,
    "start_time": "2022-05-19T15:03:27.111Z"
   },
   {
    "duration": 13,
    "start_time": "2022-05-19T15:03:27.142Z"
   },
   {
    "duration": 23628,
    "start_time": "2022-05-19T15:03:27.156Z"
   },
   {
    "duration": 22,
    "start_time": "2022-05-19T15:03:50.786Z"
   },
   {
    "duration": 6,
    "start_time": "2022-05-19T15:03:50.810Z"
   },
   {
    "duration": 40,
    "start_time": "2022-05-19T15:03:50.818Z"
   },
   {
    "duration": 12,
    "start_time": "2022-05-19T15:03:50.859Z"
   },
   {
    "duration": 9,
    "start_time": "2022-05-19T15:03:50.875Z"
   },
   {
    "duration": 6,
    "start_time": "2022-05-19T15:03:50.886Z"
   },
   {
    "duration": 10,
    "start_time": "2022-05-19T15:03:50.894Z"
   },
   {
    "duration": 378,
    "start_time": "2022-05-19T15:03:50.906Z"
   },
   {
    "duration": 7,
    "start_time": "2022-05-19T15:03:51.286Z"
   },
   {
    "duration": 10,
    "start_time": "2022-05-19T15:03:51.294Z"
   },
   {
    "duration": 4,
    "start_time": "2022-05-19T15:03:51.306Z"
   },
   {
    "duration": 40,
    "start_time": "2022-05-19T15:13:45.773Z"
   },
   {
    "duration": 2,
    "start_time": "2022-05-19T15:14:09.622Z"
   },
   {
    "duration": 128,
    "start_time": "2022-05-19T15:14:45.310Z"
   },
   {
    "duration": 3,
    "start_time": "2022-05-19T15:14:51.526Z"
   },
   {
    "duration": 255100,
    "start_time": "2022-05-19T15:14:51.942Z"
   },
   {
    "duration": 10,
    "start_time": "2022-05-19T15:54:33.792Z"
   },
   {
    "duration": 20,
    "start_time": "2022-05-19T15:54:39.198Z"
   },
   {
    "duration": 21,
    "start_time": "2022-05-19T15:55:14.639Z"
   },
   {
    "duration": 30,
    "start_time": "2022-05-19T15:55:20.990Z"
   },
   {
    "duration": 18,
    "start_time": "2022-05-19T15:55:26.053Z"
   },
   {
    "duration": 63,
    "start_time": "2022-05-19T15:55:31.080Z"
   },
   {
    "duration": 14,
    "start_time": "2022-05-19T15:55:34.415Z"
   },
   {
    "duration": 13,
    "start_time": "2022-05-19T15:55:37.975Z"
   },
   {
    "duration": 33,
    "start_time": "2022-05-19T15:55:46.488Z"
   },
   {
    "duration": 43,
    "start_time": "2022-05-19T15:55:54.327Z"
   },
   {
    "duration": 35,
    "start_time": "2022-05-19T15:55:59.162Z"
   },
   {
    "duration": 16,
    "start_time": "2022-05-19T15:56:05.679Z"
   },
   {
    "duration": 19,
    "start_time": "2022-05-19T15:56:10.335Z"
   },
   {
    "duration": 10,
    "start_time": "2022-05-19T15:56:36.816Z"
   },
   {
    "duration": 15,
    "start_time": "2022-05-19T15:58:20.473Z"
   },
   {
    "duration": 72,
    "start_time": "2022-05-19T15:58:24.184Z"
   },
   {
    "duration": 84,
    "start_time": "2022-05-19T15:58:27.177Z"
   },
   {
    "duration": 381,
    "start_time": "2022-05-19T15:58:30.664Z"
   },
   {
    "duration": 334,
    "start_time": "2022-05-19T15:58:36.113Z"
   },
   {
    "duration": 2,
    "start_time": "2022-05-19T15:58:45.384Z"
   },
   {
    "duration": 207054,
    "start_time": "2022-05-19T15:58:45.897Z"
   },
   {
    "duration": 183,
    "start_time": "2022-05-19T16:04:41.869Z"
   },
   {
    "duration": 6,
    "start_time": "2022-05-19T16:04:47.180Z"
   },
   {
    "duration": 23,
    "start_time": "2022-05-19T16:13:03.053Z"
   },
   {
    "duration": 37,
    "start_time": "2022-05-19T16:14:11.813Z"
   },
   {
    "duration": 37,
    "start_time": "2022-05-19T16:18:50.924Z"
   },
   {
    "duration": 52,
    "start_time": "2022-05-19T16:36:46.556Z"
   },
   {
    "duration": 22,
    "start_time": "2022-05-19T16:36:51.135Z"
   },
   {
    "duration": 29207,
    "start_time": "2022-05-19T16:37:07.654Z"
   },
   {
    "duration": 54,
    "start_time": "2022-05-19T16:41:30.426Z"
   },
   {
    "duration": 48,
    "start_time": "2022-05-19T16:41:57.856Z"
   },
   {
    "duration": 48,
    "start_time": "2022-05-19T16:42:04.292Z"
   },
   {
    "duration": 29330,
    "start_time": "2022-05-19T16:42:19.168Z"
   },
   {
    "duration": 563,
    "start_time": "2022-05-19T16:50:01.368Z"
   },
   {
    "duration": 1481,
    "start_time": "2022-05-19T16:51:43.769Z"
   },
   {
    "duration": 1338,
    "start_time": "2022-05-19T16:51:57.767Z"
   },
   {
    "duration": 505,
    "start_time": "2022-05-19T16:52:17.529Z"
   },
   {
    "duration": 1096,
    "start_time": "2022-05-19T16:52:23.217Z"
   },
   {
    "duration": 1023,
    "start_time": "2022-05-19T16:54:28.836Z"
   },
   {
    "duration": 1038,
    "start_time": "2022-05-19T16:59:02.927Z"
   },
   {
    "duration": 1124,
    "start_time": "2022-05-19T16:59:38.638Z"
   },
   {
    "duration": 1201,
    "start_time": "2022-05-19T16:59:46.344Z"
   },
   {
    "duration": 13,
    "start_time": "2022-05-19T17:00:50.607Z"
   },
   {
    "duration": 361385,
    "start_time": "2022-05-19T17:01:06.396Z"
   },
   {
    "duration": 62,
    "start_time": "2022-05-19T17:11:40.526Z"
   },
   {
    "duration": 1271,
    "start_time": "2022-05-19T17:41:07.011Z"
   },
   {
    "duration": 3,
    "start_time": "2022-05-19T17:41:08.285Z"
   },
   {
    "duration": 135,
    "start_time": "2022-05-19T17:41:08.290Z"
   },
   {
    "duration": 37,
    "start_time": "2022-05-19T17:41:08.428Z"
   },
   {
    "duration": 19,
    "start_time": "2022-05-19T17:41:08.467Z"
   },
   {
    "duration": 52,
    "start_time": "2022-05-19T17:41:08.488Z"
   },
   {
    "duration": 824,
    "start_time": "2022-05-19T17:41:08.542Z"
   },
   {
    "duration": 416,
    "start_time": "2022-05-19T17:41:09.368Z"
   },
   {
    "duration": 420,
    "start_time": "2022-05-19T17:41:09.786Z"
   },
   {
    "duration": 356,
    "start_time": "2022-05-19T17:41:10.208Z"
   },
   {
    "duration": 6,
    "start_time": "2022-05-19T17:41:10.567Z"
   },
   {
    "duration": 21,
    "start_time": "2022-05-19T17:41:10.575Z"
   },
   {
    "duration": 7,
    "start_time": "2022-05-19T17:41:10.598Z"
   },
   {
    "duration": 9,
    "start_time": "2022-05-19T17:41:10.606Z"
   },
   {
    "duration": 42,
    "start_time": "2022-05-19T17:41:10.617Z"
   },
   {
    "duration": 10,
    "start_time": "2022-05-19T17:41:10.661Z"
   },
   {
    "duration": 9,
    "start_time": "2022-05-19T17:41:10.672Z"
   },
   {
    "duration": 14,
    "start_time": "2022-05-19T17:41:10.682Z"
   },
   {
    "duration": 162,
    "start_time": "2022-05-19T17:41:10.698Z"
   },
   {
    "duration": 6,
    "start_time": "2022-05-19T17:41:10.862Z"
   },
   {
    "duration": 21,
    "start_time": "2022-05-19T17:41:10.869Z"
   },
   {
    "duration": 9,
    "start_time": "2022-05-19T17:41:10.892Z"
   },
   {
    "duration": 14,
    "start_time": "2022-05-19T17:41:10.902Z"
   },
   {
    "duration": 142,
    "start_time": "2022-05-19T17:41:10.918Z"
   },
   {
    "duration": 4,
    "start_time": "2022-05-19T17:41:11.062Z"
   },
   {
    "duration": 18,
    "start_time": "2022-05-19T17:41:11.067Z"
   },
   {
    "duration": 15,
    "start_time": "2022-05-19T17:41:11.087Z"
   },
   {
    "duration": 8,
    "start_time": "2022-05-19T17:41:11.106Z"
   },
   {
    "duration": 11,
    "start_time": "2022-05-19T17:41:11.116Z"
   },
   {
    "duration": 23,
    "start_time": "2022-05-19T17:41:11.144Z"
   },
   {
    "duration": 870,
    "start_time": "2022-05-19T17:41:11.169Z"
   },
   {
    "duration": 43,
    "start_time": "2022-05-19T17:41:12.041Z"
   },
   {
    "duration": 40,
    "start_time": "2022-05-19T17:41:12.086Z"
   },
   {
    "duration": 27,
    "start_time": "2022-05-19T17:41:12.127Z"
   },
   {
    "duration": 14,
    "start_time": "2022-05-19T17:41:12.157Z"
   },
   {
    "duration": 8,
    "start_time": "2022-05-19T17:41:12.173Z"
   },
   {
    "duration": 7,
    "start_time": "2022-05-19T17:41:12.182Z"
   },
   {
    "duration": 24170,
    "start_time": "2022-05-19T17:41:12.190Z"
   },
   {
    "duration": 23,
    "start_time": "2022-05-19T17:41:36.362Z"
   },
   {
    "duration": 5,
    "start_time": "2022-05-19T17:41:36.387Z"
   },
   {
    "duration": 10,
    "start_time": "2022-05-19T17:41:36.394Z"
   },
   {
    "duration": 46,
    "start_time": "2022-05-19T17:41:36.405Z"
   },
   {
    "duration": 14,
    "start_time": "2022-05-19T17:41:36.452Z"
   },
   {
    "duration": 6,
    "start_time": "2022-05-19T17:41:36.468Z"
   },
   {
    "duration": 7,
    "start_time": "2022-05-19T17:41:36.476Z"
   },
   {
    "duration": 373,
    "start_time": "2022-05-19T17:41:36.484Z"
   },
   {
    "duration": 8,
    "start_time": "2022-05-19T17:41:36.863Z"
   },
   {
    "duration": 20,
    "start_time": "2022-05-19T17:41:36.872Z"
   },
   {
    "duration": 7,
    "start_time": "2022-05-19T17:41:36.895Z"
   },
   {
    "duration": 8,
    "start_time": "2022-05-19T17:41:36.906Z"
   },
   {
    "duration": 220134,
    "start_time": "2022-05-19T17:41:36.916Z"
   },
   {
    "duration": 302,
    "start_time": "2022-05-19T17:45:17.056Z"
   },
   {
    "duration": 84,
    "start_time": "2022-05-19T17:45:17.363Z"
   },
   {
    "duration": 125,
    "start_time": "2022-05-19T17:45:17.449Z"
   },
   {
    "duration": 29386,
    "start_time": "2022-05-19T17:45:17.576Z"
   },
   {
    "duration": 72,
    "start_time": "2022-05-19T17:45:46.965Z"
   },
   {
    "duration": 1081,
    "start_time": "2022-05-19T17:45:47.039Z"
   },
   {
    "duration": 327293,
    "start_time": "2022-05-19T17:45:48.122Z"
   },
   {
    "duration": 83385,
    "start_time": "2022-05-19T18:06:45.578Z"
   },
   {
    "duration": 194454,
    "start_time": "2022-05-19T18:09:40.529Z"
   },
   {
    "duration": 320160,
    "start_time": "2022-05-19T18:15:40.540Z"
   },
   {
    "duration": 560431,
    "start_time": "2022-05-19T18:51:48.268Z"
   },
   {
    "duration": 460699,
    "start_time": "2022-05-19T19:01:47.105Z"
   },
   {
    "duration": 57500,
    "start_time": "2022-05-19T19:18:15.298Z"
   },
   {
    "duration": 99051,
    "start_time": "2022-05-19T19:21:00.961Z"
   },
   {
    "duration": 47218,
    "start_time": "2022-05-19T19:23:03.649Z"
   },
   {
    "duration": 54582,
    "start_time": "2022-05-19T19:24:15.108Z"
   },
   {
    "duration": 149,
    "start_time": "2022-05-19T19:25:31.456Z"
   },
   {
    "duration": 32191,
    "start_time": "2022-05-19T19:25:42.620Z"
   },
   {
    "duration": 404,
    "start_time": "2022-05-19T19:27:18.909Z"
   },
   {
    "duration": 370,
    "start_time": "2022-05-19T19:27:40.871Z"
   },
   {
    "duration": 12,
    "start_time": "2022-05-19T19:27:49.101Z"
   },
   {
    "duration": 391,
    "start_time": "2022-05-19T19:28:54.078Z"
   },
   {
    "duration": 358,
    "start_time": "2022-05-19T19:30:20.556Z"
   },
   {
    "duration": 410,
    "start_time": "2022-05-19T19:30:31.057Z"
   },
   {
    "duration": 418,
    "start_time": "2022-05-19T19:30:40.470Z"
   },
   {
    "duration": 356,
    "start_time": "2022-05-19T19:33:08.810Z"
   },
   {
    "duration": 648,
    "start_time": "2022-05-19T19:34:38.099Z"
   },
   {
    "duration": 364,
    "start_time": "2022-05-19T19:34:41.211Z"
   },
   {
    "duration": 382,
    "start_time": "2022-05-19T19:34:57.212Z"
   },
   {
    "duration": 17536,
    "start_time": "2022-05-19T19:37:00.620Z"
   },
   {
    "duration": 121053,
    "start_time": "2022-05-19T19:38:03.391Z"
   },
   {
    "duration": 7639,
    "start_time": "2022-05-19T19:51:51.429Z"
   },
   {
    "duration": 233929,
    "start_time": "2022-05-19T19:57:44.673Z"
   },
   {
    "duration": 30829,
    "start_time": "2022-05-19T20:05:44.692Z"
   },
   {
    "duration": 17,
    "start_time": "2022-05-19T20:08:05.785Z"
   },
   {
    "duration": 58,
    "start_time": "2022-05-19T20:08:37.238Z"
   },
   {
    "duration": 56,
    "start_time": "2022-05-19T20:09:14.127Z"
   },
   {
    "duration": 51,
    "start_time": "2022-05-19T20:09:28.296Z"
   },
   {
    "duration": 36,
    "start_time": "2022-05-19T20:09:33.257Z"
   },
   {
    "duration": 52,
    "start_time": "2022-05-19T20:09:36.198Z"
   },
   {
    "duration": 42,
    "start_time": "2022-05-19T20:14:52.289Z"
   },
   {
    "duration": 1456,
    "start_time": "2022-05-19T21:02:15.072Z"
   },
   {
    "duration": 3,
    "start_time": "2022-05-19T21:02:16.532Z"
   },
   {
    "duration": 140,
    "start_time": "2022-05-19T21:02:16.537Z"
   },
   {
    "duration": 40,
    "start_time": "2022-05-19T21:02:16.679Z"
   },
   {
    "duration": 29,
    "start_time": "2022-05-19T21:02:16.721Z"
   },
   {
    "duration": 54,
    "start_time": "2022-05-19T21:02:16.752Z"
   },
   {
    "duration": 941,
    "start_time": "2022-05-19T21:02:16.808Z"
   },
   {
    "duration": 403,
    "start_time": "2022-05-19T21:02:17.751Z"
   },
   {
    "duration": 467,
    "start_time": "2022-05-19T21:02:18.156Z"
   },
   {
    "duration": 321,
    "start_time": "2022-05-19T21:02:18.627Z"
   },
   {
    "duration": 6,
    "start_time": "2022-05-19T21:02:18.950Z"
   },
   {
    "duration": 15,
    "start_time": "2022-05-19T21:02:18.958Z"
   },
   {
    "duration": 7,
    "start_time": "2022-05-19T21:02:18.975Z"
   },
   {
    "duration": 13,
    "start_time": "2022-05-19T21:02:18.984Z"
   },
   {
    "duration": 10,
    "start_time": "2022-05-19T21:02:19.000Z"
   },
   {
    "duration": 31,
    "start_time": "2022-05-19T21:02:19.012Z"
   },
   {
    "duration": 6,
    "start_time": "2022-05-19T21:02:19.045Z"
   },
   {
    "duration": 15,
    "start_time": "2022-05-19T21:02:19.053Z"
   },
   {
    "duration": 182,
    "start_time": "2022-05-19T21:02:19.070Z"
   },
   {
    "duration": 6,
    "start_time": "2022-05-19T21:02:19.254Z"
   },
   {
    "duration": 11,
    "start_time": "2022-05-19T21:02:19.261Z"
   },
   {
    "duration": 7,
    "start_time": "2022-05-19T21:02:19.274Z"
   },
   {
    "duration": 11,
    "start_time": "2022-05-19T21:02:19.283Z"
   },
   {
    "duration": 181,
    "start_time": "2022-05-19T21:02:19.296Z"
   },
   {
    "duration": 5,
    "start_time": "2022-05-19T21:02:19.479Z"
   },
   {
    "duration": 17,
    "start_time": "2022-05-19T21:02:19.486Z"
   },
   {
    "duration": 40,
    "start_time": "2022-05-19T21:02:19.505Z"
   },
   {
    "duration": 9,
    "start_time": "2022-05-19T21:02:19.550Z"
   },
   {
    "duration": 9,
    "start_time": "2022-05-19T21:02:19.561Z"
   },
   {
    "duration": 7,
    "start_time": "2022-05-19T21:02:19.572Z"
   },
   {
    "duration": 875,
    "start_time": "2022-05-19T21:02:19.581Z"
   },
   {
    "duration": 42,
    "start_time": "2022-05-19T21:02:20.458Z"
   },
   {
    "duration": 53,
    "start_time": "2022-05-19T21:02:20.502Z"
   },
   {
    "duration": 11,
    "start_time": "2022-05-19T21:02:20.557Z"
   },
   {
    "duration": 12,
    "start_time": "2022-05-19T21:02:20.571Z"
   },
   {
    "duration": 9,
    "start_time": "2022-05-19T21:02:20.584Z"
   },
   {
    "duration": 8,
    "start_time": "2022-05-19T21:02:20.595Z"
   },
   {
    "duration": 24576,
    "start_time": "2022-05-19T21:02:20.605Z"
   },
   {
    "duration": 22,
    "start_time": "2022-05-19T21:02:45.183Z"
   },
   {
    "duration": 7,
    "start_time": "2022-05-19T21:02:45.207Z"
   },
   {
    "duration": 10,
    "start_time": "2022-05-19T21:02:45.242Z"
   },
   {
    "duration": 12,
    "start_time": "2022-05-19T21:02:45.254Z"
   },
   {
    "duration": 4,
    "start_time": "2022-05-19T21:02:45.268Z"
   },
   {
    "duration": 9,
    "start_time": "2022-05-19T21:02:45.274Z"
   },
   {
    "duration": 5,
    "start_time": "2022-05-19T21:02:45.285Z"
   },
   {
    "duration": 388,
    "start_time": "2022-05-19T21:02:45.292Z"
   },
   {
    "duration": 7,
    "start_time": "2022-05-19T21:02:45.682Z"
   },
   {
    "duration": 14,
    "start_time": "2022-05-19T21:02:45.690Z"
   },
   {
    "duration": 6,
    "start_time": "2022-05-19T21:02:45.706Z"
   },
   {
    "duration": 28,
    "start_time": "2022-05-19T21:02:45.714Z"
   },
   {
    "duration": 73806,
    "start_time": "2022-05-19T21:02:45.744Z"
   },
   {
    "duration": 193,
    "start_time": "2022-05-19T21:03:59.555Z"
   },
   {
    "duration": 120,
    "start_time": "2022-05-19T21:03:59.753Z"
   },
   {
    "duration": 49,
    "start_time": "2022-05-19T21:03:59.943Z"
   },
   {
    "duration": 29308,
    "start_time": "2022-05-19T21:03:59.994Z"
   },
   {
    "duration": 66,
    "start_time": "2022-05-19T21:04:29.304Z"
   },
   {
    "duration": 225834,
    "start_time": "2022-05-19T21:04:29.372Z"
   },
   {
    "duration": 0,
    "start_time": "2022-05-19T21:22:38.633Z"
   },
   {
    "duration": 0,
    "start_time": "2022-05-19T21:22:38.634Z"
   },
   {
    "duration": 0,
    "start_time": "2022-05-19T21:22:38.636Z"
   },
   {
    "duration": 155757,
    "start_time": "2022-05-19T21:28:08.336Z"
   },
   {
    "duration": 37,
    "start_time": "2022-05-19T21:32:50.456Z"
   },
   {
    "duration": 471,
    "start_time": "2022-05-19T21:32:56.456Z"
   },
   {
    "duration": 86192,
    "start_time": "2022-05-19T21:42:38.560Z"
   },
   {
    "duration": 721,
    "start_time": "2022-05-19T21:46:38.523Z"
   },
   {
    "duration": 9,
    "start_time": "2022-05-19T21:54:30.320Z"
   },
   {
    "duration": 20,
    "start_time": "2022-05-19T22:10:46.252Z"
   },
   {
    "duration": 5,
    "start_time": "2022-05-19T22:11:01.242Z"
   },
   {
    "duration": 13,
    "start_time": "2022-05-19T22:11:08.922Z"
   },
   {
    "duration": 22,
    "start_time": "2022-05-19T22:11:58.723Z"
   },
   {
    "duration": 15,
    "start_time": "2022-05-19T22:12:14.220Z"
   },
   {
    "duration": 13,
    "start_time": "2022-05-19T22:12:20.563Z"
   },
   {
    "duration": 14,
    "start_time": "2022-05-19T22:12:46.691Z"
   },
   {
    "duration": 903,
    "start_time": "2022-05-19T22:20:51.447Z"
   },
   {
    "duration": 1275,
    "start_time": "2022-05-19T22:21:49.775Z"
   },
   {
    "duration": 1230,
    "start_time": "2022-05-19T22:26:35.411Z"
   },
   {
    "duration": 26,
    "start_time": "2022-05-19T22:35:43.970Z"
   },
   {
    "duration": 18,
    "start_time": "2022-05-19T22:35:50.714Z"
   },
   {
    "duration": 574,
    "start_time": "2022-05-19T22:38:24.971Z"
   },
   {
    "duration": 446,
    "start_time": "2022-05-19T22:44:20.432Z"
   },
   {
    "duration": 1198,
    "start_time": "2022-05-19T22:45:32.043Z"
   },
   {
    "duration": 3,
    "start_time": "2022-05-19T22:45:33.245Z"
   },
   {
    "duration": 114,
    "start_time": "2022-05-19T22:45:33.250Z"
   },
   {
    "duration": 26,
    "start_time": "2022-05-19T22:45:33.366Z"
   },
   {
    "duration": 13,
    "start_time": "2022-05-19T22:45:33.393Z"
   },
   {
    "duration": 64,
    "start_time": "2022-05-19T22:45:33.408Z"
   },
   {
    "duration": 771,
    "start_time": "2022-05-19T22:45:33.473Z"
   },
   {
    "duration": 393,
    "start_time": "2022-05-19T22:45:34.245Z"
   },
   {
    "duration": 335,
    "start_time": "2022-05-19T22:45:34.640Z"
   },
   {
    "duration": 298,
    "start_time": "2022-05-19T22:45:34.979Z"
   },
   {
    "duration": 7,
    "start_time": "2022-05-19T22:45:35.279Z"
   },
   {
    "duration": 12,
    "start_time": "2022-05-19T22:45:35.288Z"
   },
   {
    "duration": 6,
    "start_time": "2022-05-19T22:45:35.303Z"
   },
   {
    "duration": 31,
    "start_time": "2022-05-19T22:45:35.311Z"
   },
   {
    "duration": 14,
    "start_time": "2022-05-19T22:45:35.344Z"
   },
   {
    "duration": 6,
    "start_time": "2022-05-19T22:45:35.360Z"
   },
   {
    "duration": 12,
    "start_time": "2022-05-19T22:45:35.367Z"
   },
   {
    "duration": 18,
    "start_time": "2022-05-19T22:45:35.380Z"
   },
   {
    "duration": 142,
    "start_time": "2022-05-19T22:45:35.400Z"
   },
   {
    "duration": 5,
    "start_time": "2022-05-19T22:45:35.544Z"
   },
   {
    "duration": 18,
    "start_time": "2022-05-19T22:45:35.551Z"
   },
   {
    "duration": 14,
    "start_time": "2022-05-19T22:45:35.570Z"
   },
   {
    "duration": 19,
    "start_time": "2022-05-19T22:45:35.586Z"
   },
   {
    "duration": 119,
    "start_time": "2022-05-19T22:45:35.607Z"
   },
   {
    "duration": 13,
    "start_time": "2022-05-19T22:45:35.729Z"
   },
   {
    "duration": 12,
    "start_time": "2022-05-19T22:45:35.744Z"
   },
   {
    "duration": 19,
    "start_time": "2022-05-19T22:45:35.758Z"
   },
   {
    "duration": 10,
    "start_time": "2022-05-19T22:45:35.783Z"
   },
   {
    "duration": 10,
    "start_time": "2022-05-19T22:45:35.794Z"
   },
   {
    "duration": 6,
    "start_time": "2022-05-19T22:45:35.805Z"
   },
   {
    "duration": 724,
    "start_time": "2022-05-19T22:45:35.842Z"
   },
   {
    "duration": 43,
    "start_time": "2022-05-19T22:45:36.568Z"
   },
   {
    "duration": 57,
    "start_time": "2022-05-19T22:45:36.613Z"
   },
   {
    "duration": 6,
    "start_time": "2022-05-19T22:45:36.671Z"
   },
   {
    "duration": 8,
    "start_time": "2022-05-19T22:45:36.679Z"
   },
   {
    "duration": 7,
    "start_time": "2022-05-19T22:45:36.689Z"
   },
   {
    "duration": 4,
    "start_time": "2022-05-19T22:45:36.697Z"
   },
   {
    "duration": 21896,
    "start_time": "2022-05-19T22:45:36.704Z"
   },
   {
    "duration": 22,
    "start_time": "2022-05-19T22:45:58.601Z"
   },
   {
    "duration": 6,
    "start_time": "2022-05-19T22:45:58.642Z"
   },
   {
    "duration": 11,
    "start_time": "2022-05-19T22:45:58.650Z"
   },
   {
    "duration": 8,
    "start_time": "2022-05-19T22:45:58.663Z"
   },
   {
    "duration": 6,
    "start_time": "2022-05-19T22:45:58.673Z"
   },
   {
    "duration": 8,
    "start_time": "2022-05-19T22:45:58.681Z"
   },
   {
    "duration": 7,
    "start_time": "2022-05-19T22:45:58.691Z"
   },
   {
    "duration": 364,
    "start_time": "2022-05-19T22:45:58.700Z"
   },
   {
    "duration": 7,
    "start_time": "2022-05-19T22:45:59.066Z"
   },
   {
    "duration": 13,
    "start_time": "2022-05-19T22:45:59.075Z"
   },
   {
    "duration": 6,
    "start_time": "2022-05-19T22:45:59.090Z"
   },
   {
    "duration": 17,
    "start_time": "2022-05-19T22:45:59.097Z"
   },
   {
    "duration": 73929,
    "start_time": "2022-05-19T22:45:59.116Z"
   },
   {
    "duration": 203,
    "start_time": "2022-05-19T22:47:13.048Z"
   },
   {
    "duration": 97,
    "start_time": "2022-05-19T22:47:13.254Z"
   },
   {
    "duration": 133,
    "start_time": "2022-05-19T22:47:13.353Z"
   },
   {
    "duration": 27401,
    "start_time": "2022-05-19T22:47:13.488Z"
   },
   {
    "duration": 36,
    "start_time": "2022-05-19T22:47:40.891Z"
   },
   {
    "duration": 3,
    "start_time": "2022-05-19T22:47:40.941Z"
   },
   {
    "duration": 427,
    "start_time": "2022-05-19T22:47:40.945Z"
   },
   {
    "duration": 93676,
    "start_time": "2022-05-19T22:47:41.373Z"
   },
   {
    "duration": 490,
    "start_time": "2022-05-19T22:49:15.053Z"
   },
   {
    "duration": 100,
    "start_time": "2022-05-19T22:49:15.545Z"
   },
   {
    "duration": 1196,
    "start_time": "2022-05-19T22:49:15.647Z"
   },
   {
    "duration": 104,
    "start_time": "2022-05-19T22:49:16.845Z"
   },
   {
    "duration": 591,
    "start_time": "2022-05-19T22:49:16.952Z"
   },
   {
    "duration": 119,
    "start_time": "2022-05-19T22:49:17.545Z"
   },
   {
    "duration": 29,
    "start_time": "2022-05-19T22:51:40.416Z"
   },
   {
    "duration": 32,
    "start_time": "2022-05-19T22:52:25.367Z"
   },
   {
    "duration": 406,
    "start_time": "2022-05-19T22:53:03.872Z"
   },
   {
    "duration": 439,
    "start_time": "2022-05-19T22:54:47.034Z"
   },
   {
    "duration": 40,
    "start_time": "2022-05-19T22:55:07.482Z"
   },
   {
    "duration": 37,
    "start_time": "2022-05-19T22:55:26.042Z"
   },
   {
    "duration": 37,
    "start_time": "2022-05-19T22:55:35.634Z"
   },
   {
    "duration": 37,
    "start_time": "2022-05-19T22:55:54.451Z"
   },
   {
    "duration": 7,
    "start_time": "2022-05-19T22:56:30.091Z"
   },
   {
    "duration": 44,
    "start_time": "2022-05-19T22:57:10.629Z"
   },
   {
    "duration": 594,
    "start_time": "2022-05-19T22:58:06.546Z"
   },
   {
    "duration": 573,
    "start_time": "2022-05-19T22:58:30.373Z"
   },
   {
    "duration": 533,
    "start_time": "2022-05-19T22:58:43.285Z"
   },
   {
    "duration": 16,
    "start_time": "2022-05-19T22:59:34.005Z"
   },
   {
    "duration": 986,
    "start_time": "2022-05-19T23:00:45.952Z"
   },
   {
    "duration": 41,
    "start_time": "2022-05-19T23:00:56.270Z"
   },
   {
    "duration": 39,
    "start_time": "2022-05-19T23:01:57.455Z"
   },
   {
    "duration": 40,
    "start_time": "2022-05-19T23:02:19.655Z"
   },
   {
    "duration": 36,
    "start_time": "2022-05-19T23:03:00.152Z"
   },
   {
    "duration": 38,
    "start_time": "2022-05-19T23:04:04.865Z"
   },
   {
    "duration": 36,
    "start_time": "2022-05-19T23:04:31.937Z"
   },
   {
    "duration": 37,
    "start_time": "2022-05-19T23:04:34.137Z"
   },
   {
    "duration": 34,
    "start_time": "2022-05-19T23:04:35.285Z"
   },
   {
    "duration": 1373,
    "start_time": "2022-05-20T16:40:03.945Z"
   },
   {
    "duration": 3,
    "start_time": "2022-05-20T16:40:05.321Z"
   },
   {
    "duration": 244,
    "start_time": "2022-05-20T16:40:05.326Z"
   },
   {
    "duration": 22,
    "start_time": "2022-05-20T16:40:05.573Z"
   },
   {
    "duration": 24,
    "start_time": "2022-05-20T16:40:05.597Z"
   },
   {
    "duration": 37,
    "start_time": "2022-05-20T16:40:05.622Z"
   },
   {
    "duration": 720,
    "start_time": "2022-05-20T16:40:05.660Z"
   },
   {
    "duration": 348,
    "start_time": "2022-05-20T16:40:06.382Z"
   },
   {
    "duration": 321,
    "start_time": "2022-05-20T16:40:06.731Z"
   },
   {
    "duration": 269,
    "start_time": "2022-05-20T16:40:07.054Z"
   },
   {
    "duration": 5,
    "start_time": "2022-05-20T16:40:07.325Z"
   },
   {
    "duration": 14,
    "start_time": "2022-05-20T16:40:07.332Z"
   },
   {
    "duration": 5,
    "start_time": "2022-05-20T16:40:07.348Z"
   },
   {
    "duration": 22,
    "start_time": "2022-05-20T16:40:07.354Z"
   },
   {
    "duration": 4,
    "start_time": "2022-05-20T16:40:07.377Z"
   },
   {
    "duration": 7,
    "start_time": "2022-05-20T16:40:07.383Z"
   },
   {
    "duration": 10,
    "start_time": "2022-05-20T16:40:07.391Z"
   },
   {
    "duration": 16,
    "start_time": "2022-05-20T16:40:07.403Z"
   },
   {
    "duration": 140,
    "start_time": "2022-05-20T16:40:07.420Z"
   },
   {
    "duration": 5,
    "start_time": "2022-05-20T16:40:07.562Z"
   },
   {
    "duration": 18,
    "start_time": "2022-05-20T16:40:07.569Z"
   },
   {
    "duration": 10,
    "start_time": "2022-05-20T16:40:07.589Z"
   },
   {
    "duration": 9,
    "start_time": "2022-05-20T16:40:07.600Z"
   },
   {
    "duration": 125,
    "start_time": "2022-05-20T16:40:07.611Z"
   },
   {
    "duration": 3,
    "start_time": "2022-05-20T16:40:07.738Z"
   },
   {
    "duration": 17,
    "start_time": "2022-05-20T16:40:07.743Z"
   },
   {
    "duration": 26,
    "start_time": "2022-05-20T16:40:07.762Z"
   },
   {
    "duration": 9,
    "start_time": "2022-05-20T16:40:07.791Z"
   },
   {
    "duration": 9,
    "start_time": "2022-05-20T16:40:07.801Z"
   },
   {
    "duration": 13,
    "start_time": "2022-05-20T16:40:07.812Z"
   },
   {
    "duration": 712,
    "start_time": "2022-05-20T16:40:07.827Z"
   },
   {
    "duration": 43,
    "start_time": "2022-05-20T16:40:08.541Z"
   },
   {
    "duration": 36,
    "start_time": "2022-05-20T16:40:08.585Z"
   },
   {
    "duration": 7,
    "start_time": "2022-05-20T16:40:08.623Z"
   },
   {
    "duration": 7,
    "start_time": "2022-05-20T16:40:08.631Z"
   },
   {
    "duration": 5,
    "start_time": "2022-05-20T16:40:08.640Z"
   },
   {
    "duration": 31,
    "start_time": "2022-05-20T16:40:08.647Z"
   },
   {
    "duration": 20745,
    "start_time": "2022-05-20T16:40:08.680Z"
   },
   {
    "duration": 28,
    "start_time": "2022-05-20T16:40:29.426Z"
   },
   {
    "duration": 23,
    "start_time": "2022-05-20T16:40:29.456Z"
   },
   {
    "duration": 10,
    "start_time": "2022-05-20T16:40:29.481Z"
   },
   {
    "duration": 9,
    "start_time": "2022-05-20T16:40:29.493Z"
   },
   {
    "duration": 5,
    "start_time": "2022-05-20T16:40:29.504Z"
   },
   {
    "duration": 5,
    "start_time": "2022-05-20T16:40:29.510Z"
   },
   {
    "duration": 6,
    "start_time": "2022-05-20T16:40:29.517Z"
   },
   {
    "duration": 368,
    "start_time": "2022-05-20T16:40:29.524Z"
   },
   {
    "duration": 8,
    "start_time": "2022-05-20T16:40:29.894Z"
   },
   {
    "duration": 19,
    "start_time": "2022-05-20T16:40:29.906Z"
   },
   {
    "duration": 4,
    "start_time": "2022-05-20T16:40:29.927Z"
   },
   {
    "duration": 8,
    "start_time": "2022-05-20T16:40:29.934Z"
   },
   {
    "duration": 93035,
    "start_time": "2022-05-20T16:40:29.944Z"
   },
   {
    "duration": 319,
    "start_time": "2022-05-20T16:42:02.981Z"
   },
   {
    "duration": 72,
    "start_time": "2022-05-20T16:42:03.306Z"
   },
   {
    "duration": 152,
    "start_time": "2022-05-20T16:42:03.380Z"
   },
   {
    "duration": 29538,
    "start_time": "2022-05-20T16:42:03.534Z"
   },
   {
    "duration": 50,
    "start_time": "2022-05-20T16:42:33.075Z"
   },
   {
    "duration": 4,
    "start_time": "2022-05-20T16:42:33.127Z"
   },
   {
    "duration": 542,
    "start_time": "2022-05-20T16:42:33.133Z"
   },
   {
    "duration": 138017,
    "start_time": "2022-05-20T16:42:33.677Z"
   },
   {
    "duration": 692,
    "start_time": "2022-05-20T16:44:51.698Z"
   },
   {
    "duration": 84,
    "start_time": "2022-05-20T16:44:52.392Z"
   },
   {
    "duration": 1698,
    "start_time": "2022-05-20T16:44:52.481Z"
   },
   {
    "duration": 104,
    "start_time": "2022-05-20T16:44:54.186Z"
   },
   {
    "duration": 889,
    "start_time": "2022-05-20T16:44:54.291Z"
   },
   {
    "duration": 7,
    "start_time": "2022-05-20T16:44:55.185Z"
   },
   {
    "duration": 135,
    "start_time": "2022-05-20T16:44:55.195Z"
   },
   {
    "duration": 34,
    "start_time": "2022-05-20T16:44:55.332Z"
   },
   {
    "duration": 36,
    "start_time": "2022-05-20T16:44:55.368Z"
   },
   {
    "duration": 4,
    "start_time": "2022-05-20T16:58:26.253Z"
   },
   {
    "duration": 226,
    "start_time": "2022-05-20T17:19:27.023Z"
   },
   {
    "duration": 142,
    "start_time": "2022-05-20T17:20:22.851Z"
   },
   {
    "duration": 12,
    "start_time": "2022-05-20T17:21:03.603Z"
   },
   {
    "duration": 9,
    "start_time": "2022-05-20T17:44:56.734Z"
   },
   {
    "duration": 168,
    "start_time": "2022-05-20T17:48:11.070Z"
   },
   {
    "duration": 5,
    "start_time": "2022-05-20T17:48:47.070Z"
   },
   {
    "duration": 170,
    "start_time": "2022-05-20T17:49:46.091Z"
   },
   {
    "duration": 164,
    "start_time": "2022-05-20T17:49:53.518Z"
   },
   {
    "duration": 170,
    "start_time": "2022-05-20T17:50:01.527Z"
   },
   {
    "duration": 203,
    "start_time": "2022-05-20T17:50:05.543Z"
   },
   {
    "duration": 154,
    "start_time": "2022-05-20T17:50:58.303Z"
   },
   {
    "duration": 148,
    "start_time": "2022-05-20T17:54:28.582Z"
   },
   {
    "duration": 471,
    "start_time": "2022-05-20T17:56:41.066Z"
   },
   {
    "duration": 753,
    "start_time": "2022-05-20T17:58:09.572Z"
   },
   {
    "duration": 572,
    "start_time": "2022-05-20T17:58:21.363Z"
   },
   {
    "duration": 501,
    "start_time": "2022-05-20T17:58:41.165Z"
   },
   {
    "duration": 453,
    "start_time": "2022-05-20T17:58:57.173Z"
   },
   {
    "duration": 713,
    "start_time": "2022-05-20T17:59:07.724Z"
   },
   {
    "duration": 589,
    "start_time": "2022-05-20T17:59:29.702Z"
   },
   {
    "duration": 463,
    "start_time": "2022-05-20T17:59:46.934Z"
   },
   {
    "duration": 407,
    "start_time": "2022-05-20T18:00:08.702Z"
   },
   {
    "duration": 406,
    "start_time": "2022-05-20T18:00:13.229Z"
   },
   {
    "duration": 399,
    "start_time": "2022-05-20T18:00:23.677Z"
   },
   {
    "duration": 491,
    "start_time": "2022-05-20T18:00:32.390Z"
   },
   {
    "duration": 410,
    "start_time": "2022-05-20T18:00:47.365Z"
   },
   {
    "duration": 587,
    "start_time": "2022-05-20T18:00:55.958Z"
   },
   {
    "duration": 487,
    "start_time": "2022-05-20T18:01:04.525Z"
   },
   {
    "duration": 413,
    "start_time": "2022-05-20T18:01:13.063Z"
   },
   {
    "duration": 351,
    "start_time": "2022-05-20T18:01:29.415Z"
   },
   {
    "duration": 385,
    "start_time": "2022-05-20T18:01:37.879Z"
   },
   {
    "duration": 284,
    "start_time": "2022-05-20T18:01:54.407Z"
   },
   {
    "duration": 309,
    "start_time": "2022-05-20T18:02:16.287Z"
   },
   {
    "duration": 307,
    "start_time": "2022-05-20T18:02:37.024Z"
   },
   {
    "duration": 410,
    "start_time": "2022-05-20T18:02:44.319Z"
   },
   {
    "duration": 304,
    "start_time": "2022-05-20T18:03:08.408Z"
   },
   {
    "duration": 285,
    "start_time": "2022-05-20T18:03:11.239Z"
   },
   {
    "duration": 342,
    "start_time": "2022-05-20T18:03:26.952Z"
   },
   {
    "duration": 388,
    "start_time": "2022-05-20T18:03:35.951Z"
   },
   {
    "duration": 337,
    "start_time": "2022-05-20T18:03:46.703Z"
   },
   {
    "duration": 170,
    "start_time": "2022-05-20T18:04:12.080Z"
   },
   {
    "duration": 420,
    "start_time": "2022-05-20T18:04:17.216Z"
   },
   {
    "duration": 534,
    "start_time": "2022-05-20T18:04:43.033Z"
   },
   {
    "duration": 354,
    "start_time": "2022-05-20T18:04:55.495Z"
   },
   {
    "duration": 354,
    "start_time": "2022-05-20T18:05:07.216Z"
   },
   {
    "duration": 348,
    "start_time": "2022-05-20T18:05:23.560Z"
   },
   {
    "duration": 336,
    "start_time": "2022-05-20T18:05:28.736Z"
   },
   {
    "duration": 370,
    "start_time": "2022-05-20T18:05:32.888Z"
   },
   {
    "duration": 4,
    "start_time": "2022-05-20T18:06:47.825Z"
   },
   {
    "duration": 11,
    "start_time": "2022-05-20T18:07:25.665Z"
   },
   {
    "duration": 5,
    "start_time": "2022-05-20T18:07:32.186Z"
   },
   {
    "duration": 6,
    "start_time": "2022-05-20T18:07:38.593Z"
   },
   {
    "duration": 6,
    "start_time": "2022-05-20T18:08:31.466Z"
   },
   {
    "duration": 8,
    "start_time": "2022-05-20T18:08:32.826Z"
   },
   {
    "duration": 7,
    "start_time": "2022-05-20T18:09:16.027Z"
   },
   {
    "duration": 6,
    "start_time": "2022-05-20T18:09:17.339Z"
   },
   {
    "duration": 8,
    "start_time": "2022-05-20T18:09:18.234Z"
   },
   {
    "duration": 46,
    "start_time": "2022-05-20T19:13:17.560Z"
   },
   {
    "duration": 25,
    "start_time": "2022-05-20T19:13:27.683Z"
   },
   {
    "duration": 9,
    "start_time": "2022-05-20T19:13:36.544Z"
   },
   {
    "duration": 11,
    "start_time": "2022-05-20T19:13:44.062Z"
   },
   {
    "duration": 10,
    "start_time": "2022-05-20T19:14:11.244Z"
   },
   {
    "duration": 9,
    "start_time": "2022-05-20T19:14:12.653Z"
   },
   {
    "duration": 340,
    "start_time": "2022-05-20T19:37:50.059Z"
   },
   {
    "duration": 8,
    "start_time": "2022-05-20T19:37:51.834Z"
   },
   {
    "duration": 38,
    "start_time": "2022-05-20T19:39:09.949Z"
   },
   {
    "duration": 35,
    "start_time": "2022-05-20T19:39:20.892Z"
   },
   {
    "duration": 1330,
    "start_time": "2022-05-20T19:47:41.570Z"
   },
   {
    "duration": 3,
    "start_time": "2022-05-20T19:47:42.905Z"
   },
   {
    "duration": 147,
    "start_time": "2022-05-20T19:47:42.910Z"
   },
   {
    "duration": 59,
    "start_time": "2022-05-20T19:47:43.060Z"
   },
   {
    "duration": 17,
    "start_time": "2022-05-20T19:47:43.122Z"
   },
   {
    "duration": 61,
    "start_time": "2022-05-20T19:47:43.141Z"
   },
   {
    "duration": 784,
    "start_time": "2022-05-20T19:47:43.204Z"
   },
   {
    "duration": 382,
    "start_time": "2022-05-20T19:47:43.990Z"
   },
   {
    "duration": 339,
    "start_time": "2022-05-20T19:47:44.380Z"
   },
   {
    "duration": 330,
    "start_time": "2022-05-20T19:47:44.723Z"
   },
   {
    "duration": 6,
    "start_time": "2022-05-20T19:47:45.054Z"
   },
   {
    "duration": 30,
    "start_time": "2022-05-20T19:47:45.062Z"
   },
   {
    "duration": 8,
    "start_time": "2022-05-20T19:47:45.093Z"
   },
   {
    "duration": 6,
    "start_time": "2022-05-20T19:47:45.102Z"
   },
   {
    "duration": 8,
    "start_time": "2022-05-20T19:47:45.109Z"
   },
   {
    "duration": 9,
    "start_time": "2022-05-20T19:47:45.118Z"
   },
   {
    "duration": 12,
    "start_time": "2022-05-20T19:47:45.129Z"
   },
   {
    "duration": 11,
    "start_time": "2022-05-20T19:47:45.143Z"
   },
   {
    "duration": 145,
    "start_time": "2022-05-20T19:47:45.156Z"
   },
   {
    "duration": 5,
    "start_time": "2022-05-20T19:47:45.302Z"
   },
   {
    "duration": 10,
    "start_time": "2022-05-20T19:47:45.308Z"
   },
   {
    "duration": 8,
    "start_time": "2022-05-20T19:47:45.320Z"
   },
   {
    "duration": 10,
    "start_time": "2022-05-20T19:47:45.330Z"
   },
   {
    "duration": 125,
    "start_time": "2022-05-20T19:47:45.342Z"
   },
   {
    "duration": 9,
    "start_time": "2022-05-20T19:47:45.469Z"
   },
   {
    "duration": 25,
    "start_time": "2022-05-20T19:47:45.484Z"
   },
   {
    "duration": 15,
    "start_time": "2022-05-20T19:47:45.511Z"
   },
   {
    "duration": 6,
    "start_time": "2022-05-20T19:47:45.529Z"
   },
   {
    "duration": 12,
    "start_time": "2022-05-20T19:47:45.537Z"
   },
   {
    "duration": 6,
    "start_time": "2022-05-20T19:47:45.551Z"
   },
   {
    "duration": 733,
    "start_time": "2022-05-20T19:47:45.558Z"
   },
   {
    "duration": 38,
    "start_time": "2022-05-20T19:47:46.293Z"
   },
   {
    "duration": 44,
    "start_time": "2022-05-20T19:47:46.333Z"
   },
   {
    "duration": 11,
    "start_time": "2022-05-20T19:47:46.379Z"
   },
   {
    "duration": 6,
    "start_time": "2022-05-20T19:47:46.391Z"
   },
   {
    "duration": 6,
    "start_time": "2022-05-20T19:47:46.399Z"
   },
   {
    "duration": 4,
    "start_time": "2022-05-20T19:47:46.406Z"
   },
   {
    "duration": 21940,
    "start_time": "2022-05-20T19:47:46.412Z"
   },
   {
    "duration": 38,
    "start_time": "2022-05-20T19:48:08.354Z"
   },
   {
    "duration": 8,
    "start_time": "2022-05-20T19:48:08.394Z"
   },
   {
    "duration": 9,
    "start_time": "2022-05-20T19:48:08.403Z"
   },
   {
    "duration": 7,
    "start_time": "2022-05-20T19:48:08.413Z"
   },
   {
    "duration": 6,
    "start_time": "2022-05-20T19:48:08.422Z"
   },
   {
    "duration": 3,
    "start_time": "2022-05-20T19:48:08.430Z"
   },
   {
    "duration": 7,
    "start_time": "2022-05-20T19:48:08.435Z"
   },
   {
    "duration": 359,
    "start_time": "2022-05-20T19:48:08.443Z"
   },
   {
    "duration": 5,
    "start_time": "2022-05-20T19:48:08.804Z"
   },
   {
    "duration": 9,
    "start_time": "2022-05-20T19:48:08.811Z"
   },
   {
    "duration": 4,
    "start_time": "2022-05-20T19:48:08.821Z"
   },
   {
    "duration": 6,
    "start_time": "2022-05-20T19:48:08.827Z"
   },
   {
    "duration": 132153,
    "start_time": "2022-05-20T19:48:08.834Z"
   },
   {
    "duration": 290,
    "start_time": "2022-05-20T19:50:20.989Z"
   },
   {
    "duration": 96,
    "start_time": "2022-05-20T19:50:21.281Z"
   },
   {
    "duration": 98,
    "start_time": "2022-05-20T19:50:21.379Z"
   },
   {
    "duration": 29425,
    "start_time": "2022-05-20T19:50:21.479Z"
   },
   {
    "duration": 41,
    "start_time": "2022-05-20T19:50:50.905Z"
   },
   {
    "duration": 4,
    "start_time": "2022-05-20T19:50:50.947Z"
   },
   {
    "duration": 505,
    "start_time": "2022-05-20T19:50:50.976Z"
   },
   {
    "duration": 76498,
    "start_time": "2022-05-20T19:50:51.483Z"
   },
   {
    "duration": 496,
    "start_time": "2022-05-20T19:52:07.983Z"
   },
   {
    "duration": 14,
    "start_time": "2022-05-20T19:52:08.480Z"
   },
   {
    "duration": 1183,
    "start_time": "2022-05-20T19:52:08.496Z"
   },
   {
    "duration": 101,
    "start_time": "2022-05-20T19:52:09.682Z"
   },
   {
    "duration": 496,
    "start_time": "2022-05-20T19:52:09.784Z"
   },
   {
    "duration": 34,
    "start_time": "2022-05-20T19:52:10.374Z"
   },
   {
    "duration": 34,
    "start_time": "2022-05-20T19:52:10.409Z"
   },
   {
    "duration": 51,
    "start_time": "2022-05-20T19:52:10.445Z"
   },
   {
    "duration": 458,
    "start_time": "2022-05-20T19:52:10.498Z"
   },
   {
    "duration": 7,
    "start_time": "2022-05-20T19:52:10.958Z"
   },
   {
    "duration": 7,
    "start_time": "2022-05-20T19:52:10.974Z"
   },
   {
    "duration": 6,
    "start_time": "2022-05-20T19:52:10.983Z"
   },
   {
    "duration": 1168,
    "start_time": "2022-05-20T19:56:06.546Z"
   },
   {
    "duration": 2,
    "start_time": "2022-05-20T19:56:07.717Z"
   },
   {
    "duration": 123,
    "start_time": "2022-05-20T19:56:07.720Z"
   },
   {
    "duration": 21,
    "start_time": "2022-05-20T19:56:07.845Z"
   },
   {
    "duration": 16,
    "start_time": "2022-05-20T19:56:07.868Z"
   },
   {
    "duration": 36,
    "start_time": "2022-05-20T19:56:07.885Z"
   },
   {
    "duration": 697,
    "start_time": "2022-05-20T19:56:07.923Z"
   },
   {
    "duration": 368,
    "start_time": "2022-05-20T19:56:08.622Z"
   },
   {
    "duration": 324,
    "start_time": "2022-05-20T19:56:08.991Z"
   },
   {
    "duration": 278,
    "start_time": "2022-05-20T19:56:09.319Z"
   },
   {
    "duration": 6,
    "start_time": "2022-05-20T19:56:09.599Z"
   },
   {
    "duration": 17,
    "start_time": "2022-05-20T19:56:09.606Z"
   },
   {
    "duration": 5,
    "start_time": "2022-05-20T19:56:09.624Z"
   },
   {
    "duration": 8,
    "start_time": "2022-05-20T19:56:09.630Z"
   },
   {
    "duration": 9,
    "start_time": "2022-05-20T19:56:09.639Z"
   },
   {
    "duration": 6,
    "start_time": "2022-05-20T19:56:09.650Z"
   },
   {
    "duration": 18,
    "start_time": "2022-05-20T19:56:09.657Z"
   },
   {
    "duration": 9,
    "start_time": "2022-05-20T19:56:09.677Z"
   },
   {
    "duration": 125,
    "start_time": "2022-05-20T19:56:09.688Z"
   },
   {
    "duration": 4,
    "start_time": "2022-05-20T19:56:09.815Z"
   },
   {
    "duration": 9,
    "start_time": "2022-05-20T19:56:09.820Z"
   },
   {
    "duration": 10,
    "start_time": "2022-05-20T19:56:09.831Z"
   },
   {
    "duration": 8,
    "start_time": "2022-05-20T19:56:09.843Z"
   },
   {
    "duration": 131,
    "start_time": "2022-05-20T19:56:09.852Z"
   },
   {
    "duration": 4,
    "start_time": "2022-05-20T19:56:09.985Z"
   },
   {
    "duration": 16,
    "start_time": "2022-05-20T19:56:09.990Z"
   },
   {
    "duration": 12,
    "start_time": "2022-05-20T19:56:10.008Z"
   },
   {
    "duration": 6,
    "start_time": "2022-05-20T19:56:10.024Z"
   },
   {
    "duration": 10,
    "start_time": "2022-05-20T19:56:10.032Z"
   },
   {
    "duration": 11,
    "start_time": "2022-05-20T19:56:10.043Z"
   },
   {
    "duration": 692,
    "start_time": "2022-05-20T19:56:10.056Z"
   },
   {
    "duration": 44,
    "start_time": "2022-05-20T19:56:10.750Z"
   },
   {
    "duration": 35,
    "start_time": "2022-05-20T19:56:10.796Z"
   },
   {
    "duration": 4,
    "start_time": "2022-05-20T19:56:10.833Z"
   },
   {
    "duration": 8,
    "start_time": "2022-05-20T19:56:10.839Z"
   },
   {
    "duration": 27,
    "start_time": "2022-05-20T19:56:10.849Z"
   },
   {
    "duration": 7,
    "start_time": "2022-05-20T19:56:10.877Z"
   },
   {
    "duration": 22280,
    "start_time": "2022-05-20T19:56:10.886Z"
   },
   {
    "duration": 29,
    "start_time": "2022-05-20T19:56:33.175Z"
   },
   {
    "duration": 9,
    "start_time": "2022-05-20T19:56:33.206Z"
   },
   {
    "duration": 11,
    "start_time": "2022-05-20T19:56:33.217Z"
   },
   {
    "duration": 11,
    "start_time": "2022-05-20T19:56:33.230Z"
   },
   {
    "duration": 35,
    "start_time": "2022-05-20T19:56:33.243Z"
   },
   {
    "duration": 6,
    "start_time": "2022-05-20T19:56:33.280Z"
   },
   {
    "duration": 7,
    "start_time": "2022-05-20T19:56:33.288Z"
   },
   {
    "duration": 350,
    "start_time": "2022-05-20T19:56:33.297Z"
   },
   {
    "duration": 5,
    "start_time": "2022-05-20T19:56:33.649Z"
   },
   {
    "duration": 23,
    "start_time": "2022-05-20T19:56:33.656Z"
   },
   {
    "duration": 4,
    "start_time": "2022-05-20T19:56:33.680Z"
   },
   {
    "duration": 6,
    "start_time": "2022-05-20T19:56:33.686Z"
   },
   {
    "duration": 5,
    "start_time": "2022-05-20T19:56:33.694Z"
   },
   {
    "duration": 177,
    "start_time": "2022-05-20T19:56:33.701Z"
   },
   {
    "duration": 101,
    "start_time": "2022-05-20T19:56:33.881Z"
   },
   {
    "duration": 121,
    "start_time": "2022-05-20T19:56:33.983Z"
   },
   {
    "duration": 4,
    "start_time": "2022-05-20T19:56:34.106Z"
   },
   {
    "duration": 37,
    "start_time": "2022-05-20T19:56:34.111Z"
   },
   {
    "duration": 4,
    "start_time": "2022-05-20T19:56:34.150Z"
   },
   {
    "duration": 449,
    "start_time": "2022-05-20T19:56:34.155Z"
   },
   {
    "duration": 3,
    "start_time": "2022-05-20T19:56:34.606Z"
   },
   {
    "duration": 0,
    "start_time": "2022-05-20T19:56:34.611Z"
   },
   {
    "duration": 0,
    "start_time": "2022-05-20T19:56:34.612Z"
   },
   {
    "duration": 0,
    "start_time": "2022-05-20T19:56:34.613Z"
   },
   {
    "duration": 0,
    "start_time": "2022-05-20T19:56:34.614Z"
   },
   {
    "duration": 0,
    "start_time": "2022-05-20T19:56:34.615Z"
   },
   {
    "duration": 0,
    "start_time": "2022-05-20T19:56:34.616Z"
   },
   {
    "duration": 0,
    "start_time": "2022-05-20T19:56:34.617Z"
   },
   {
    "duration": 0,
    "start_time": "2022-05-20T19:56:34.618Z"
   },
   {
    "duration": 0,
    "start_time": "2022-05-20T19:56:34.619Z"
   },
   {
    "duration": 0,
    "start_time": "2022-05-20T19:56:34.620Z"
   },
   {
    "duration": 0,
    "start_time": "2022-05-20T19:56:34.620Z"
   },
   {
    "duration": 0,
    "start_time": "2022-05-20T19:56:34.621Z"
   },
   {
    "duration": 1209,
    "start_time": "2022-05-20T19:57:07.456Z"
   },
   {
    "duration": 3,
    "start_time": "2022-05-20T19:57:08.667Z"
   },
   {
    "duration": 116,
    "start_time": "2022-05-20T19:57:08.671Z"
   },
   {
    "duration": 33,
    "start_time": "2022-05-20T19:57:08.790Z"
   },
   {
    "duration": 16,
    "start_time": "2022-05-20T19:57:08.825Z"
   },
   {
    "duration": 63,
    "start_time": "2022-05-20T19:57:08.842Z"
   },
   {
    "duration": 762,
    "start_time": "2022-05-20T19:57:08.908Z"
   },
   {
    "duration": 381,
    "start_time": "2022-05-20T19:57:09.674Z"
   },
   {
    "duration": 342,
    "start_time": "2022-05-20T19:57:10.056Z"
   },
   {
    "duration": 288,
    "start_time": "2022-05-20T19:57:10.400Z"
   },
   {
    "duration": 7,
    "start_time": "2022-05-20T19:57:10.689Z"
   },
   {
    "duration": 13,
    "start_time": "2022-05-20T19:57:10.697Z"
   },
   {
    "duration": 10,
    "start_time": "2022-05-20T19:57:10.712Z"
   },
   {
    "duration": 6,
    "start_time": "2022-05-20T19:57:10.723Z"
   },
   {
    "duration": 10,
    "start_time": "2022-05-20T19:57:10.730Z"
   },
   {
    "duration": 7,
    "start_time": "2022-05-20T19:57:10.741Z"
   },
   {
    "duration": 7,
    "start_time": "2022-05-20T19:57:10.749Z"
   },
   {
    "duration": 23,
    "start_time": "2022-05-20T19:57:10.757Z"
   },
   {
    "duration": 134,
    "start_time": "2022-05-20T19:57:10.782Z"
   },
   {
    "duration": 5,
    "start_time": "2022-05-20T19:57:10.918Z"
   },
   {
    "duration": 12,
    "start_time": "2022-05-20T19:57:10.924Z"
   },
   {
    "duration": 11,
    "start_time": "2022-05-20T19:57:10.937Z"
   },
   {
    "duration": 12,
    "start_time": "2022-05-20T19:57:10.949Z"
   },
   {
    "duration": 117,
    "start_time": "2022-05-20T19:57:10.975Z"
   },
   {
    "duration": 3,
    "start_time": "2022-05-20T19:57:11.094Z"
   },
   {
    "duration": 16,
    "start_time": "2022-05-20T19:57:11.099Z"
   },
   {
    "duration": 13,
    "start_time": "2022-05-20T19:57:11.116Z"
   },
   {
    "duration": 7,
    "start_time": "2022-05-20T19:57:11.132Z"
   },
   {
    "duration": 10,
    "start_time": "2022-05-20T19:57:11.140Z"
   },
   {
    "duration": 27,
    "start_time": "2022-05-20T19:57:11.151Z"
   },
   {
    "duration": 734,
    "start_time": "2022-05-20T19:57:11.180Z"
   },
   {
    "duration": 41,
    "start_time": "2022-05-20T19:57:11.916Z"
   },
   {
    "duration": 55,
    "start_time": "2022-05-20T19:57:11.958Z"
   },
   {
    "duration": 6,
    "start_time": "2022-05-20T19:57:12.014Z"
   },
   {
    "duration": 8,
    "start_time": "2022-05-20T19:57:12.022Z"
   },
   {
    "duration": 8,
    "start_time": "2022-05-20T19:57:12.032Z"
   },
   {
    "duration": 5,
    "start_time": "2022-05-20T19:57:12.041Z"
   },
   {
    "duration": 20875,
    "start_time": "2022-05-20T19:57:12.047Z"
   },
   {
    "duration": 26,
    "start_time": "2022-05-20T19:57:32.924Z"
   },
   {
    "duration": 21,
    "start_time": "2022-05-20T19:57:32.954Z"
   },
   {
    "duration": 8,
    "start_time": "2022-05-20T19:57:32.977Z"
   },
   {
    "duration": 7,
    "start_time": "2022-05-20T19:57:32.986Z"
   },
   {
    "duration": 7,
    "start_time": "2022-05-20T19:57:32.995Z"
   },
   {
    "duration": 5,
    "start_time": "2022-05-20T19:57:33.003Z"
   },
   {
    "duration": 6,
    "start_time": "2022-05-20T19:57:33.010Z"
   },
   {
    "duration": 335,
    "start_time": "2022-05-20T19:57:33.017Z"
   },
   {
    "duration": 5,
    "start_time": "2022-05-20T19:57:33.353Z"
   },
   {
    "duration": 20,
    "start_time": "2022-05-20T19:57:33.359Z"
   },
   {
    "duration": 4,
    "start_time": "2022-05-20T19:57:33.381Z"
   },
   {
    "duration": 6,
    "start_time": "2022-05-20T19:57:33.386Z"
   },
   {
    "duration": 6,
    "start_time": "2022-05-20T19:57:33.394Z"
   },
   {
    "duration": 177,
    "start_time": "2022-05-20T19:57:33.401Z"
   },
   {
    "duration": 96,
    "start_time": "2022-05-20T19:57:33.580Z"
   },
   {
    "duration": 30,
    "start_time": "2022-05-20T19:57:33.677Z"
   },
   {
    "duration": 4,
    "start_time": "2022-05-20T19:57:33.708Z"
   },
   {
    "duration": 64,
    "start_time": "2022-05-20T19:57:33.713Z"
   },
   {
    "duration": 4,
    "start_time": "2022-05-20T19:57:33.778Z"
   },
   {
    "duration": 413,
    "start_time": "2022-05-20T19:57:33.783Z"
   },
   {
    "duration": 4,
    "start_time": "2022-05-20T19:57:34.198Z"
   },
   {
    "duration": 973,
    "start_time": "2022-05-20T19:57:34.204Z"
   },
   {
    "duration": 96,
    "start_time": "2022-05-20T19:57:35.179Z"
   },
   {
    "duration": 1302,
    "start_time": "2022-05-20T19:57:35.277Z"
   },
   {
    "duration": 105,
    "start_time": "2022-05-20T19:57:36.581Z"
   },
   {
    "duration": 689,
    "start_time": "2022-05-20T19:57:36.688Z"
   },
   {
    "duration": 130,
    "start_time": "2022-05-20T19:57:37.379Z"
   },
   {
    "duration": 40,
    "start_time": "2022-05-20T19:57:37.510Z"
   },
   {
    "duration": 56,
    "start_time": "2022-05-20T19:57:37.552Z"
   },
   {
    "duration": 384,
    "start_time": "2022-05-20T19:57:37.609Z"
   },
   {
    "duration": 7,
    "start_time": "2022-05-20T19:57:37.994Z"
   },
   {
    "duration": 7,
    "start_time": "2022-05-20T19:57:38.003Z"
   },
   {
    "duration": 6,
    "start_time": "2022-05-20T19:57:38.012Z"
   },
   {
    "duration": 316,
    "start_time": "2022-05-20T20:10:26.405Z"
   },
   {
    "duration": 6,
    "start_time": "2022-05-20T20:10:30.106Z"
   },
   {
    "duration": 9,
    "start_time": "2022-05-20T20:11:26.476Z"
   },
   {
    "duration": 1208,
    "start_time": "2022-05-20T20:11:43.061Z"
   },
   {
    "duration": 3,
    "start_time": "2022-05-20T20:11:44.274Z"
   },
   {
    "duration": 111,
    "start_time": "2022-05-20T20:11:44.278Z"
   },
   {
    "duration": 24,
    "start_time": "2022-05-20T20:11:44.391Z"
   },
   {
    "duration": 12,
    "start_time": "2022-05-20T20:11:44.417Z"
   },
   {
    "duration": 56,
    "start_time": "2022-05-20T20:11:44.430Z"
   },
   {
    "duration": 713,
    "start_time": "2022-05-20T20:11:44.488Z"
   },
   {
    "duration": 377,
    "start_time": "2022-05-20T20:11:45.202Z"
   },
   {
    "duration": 309,
    "start_time": "2022-05-20T20:11:45.581Z"
   },
   {
    "duration": 269,
    "start_time": "2022-05-20T20:11:45.892Z"
   },
   {
    "duration": 6,
    "start_time": "2022-05-20T20:11:46.162Z"
   },
   {
    "duration": 11,
    "start_time": "2022-05-20T20:11:46.174Z"
   },
   {
    "duration": 5,
    "start_time": "2022-05-20T20:11:46.186Z"
   },
   {
    "duration": 7,
    "start_time": "2022-05-20T20:11:46.192Z"
   },
   {
    "duration": 8,
    "start_time": "2022-05-20T20:11:46.201Z"
   },
   {
    "duration": 12,
    "start_time": "2022-05-20T20:11:46.210Z"
   },
   {
    "duration": 16,
    "start_time": "2022-05-20T20:11:46.224Z"
   },
   {
    "duration": 15,
    "start_time": "2022-05-20T20:11:46.242Z"
   },
   {
    "duration": 135,
    "start_time": "2022-05-20T20:11:46.259Z"
   },
   {
    "duration": 5,
    "start_time": "2022-05-20T20:11:46.395Z"
   },
   {
    "duration": 10,
    "start_time": "2022-05-20T20:11:46.402Z"
   },
   {
    "duration": 10,
    "start_time": "2022-05-20T20:11:46.415Z"
   },
   {
    "duration": 9,
    "start_time": "2022-05-20T20:11:46.428Z"
   },
   {
    "duration": 132,
    "start_time": "2022-05-20T20:11:46.438Z"
   },
   {
    "duration": 6,
    "start_time": "2022-05-20T20:11:46.571Z"
   },
   {
    "duration": 14,
    "start_time": "2022-05-20T20:11:46.578Z"
   },
   {
    "duration": 12,
    "start_time": "2022-05-20T20:11:46.593Z"
   },
   {
    "duration": 6,
    "start_time": "2022-05-20T20:11:46.608Z"
   },
   {
    "duration": 9,
    "start_time": "2022-05-20T20:11:46.616Z"
   },
   {
    "duration": 6,
    "start_time": "2022-05-20T20:11:46.627Z"
   },
   {
    "duration": 736,
    "start_time": "2022-05-20T20:11:46.635Z"
   },
   {
    "duration": 41,
    "start_time": "2022-05-20T20:11:47.374Z"
   },
   {
    "duration": 36,
    "start_time": "2022-05-20T20:11:47.416Z"
   },
   {
    "duration": 23,
    "start_time": "2022-05-20T20:11:47.453Z"
   },
   {
    "duration": 5,
    "start_time": "2022-05-20T20:11:47.477Z"
   },
   {
    "duration": 23,
    "start_time": "2022-05-20T20:11:47.484Z"
   },
   {
    "duration": 10,
    "start_time": "2022-05-20T20:11:47.508Z"
   },
   {
    "duration": 20806,
    "start_time": "2022-05-20T20:11:47.519Z"
   },
   {
    "duration": 20,
    "start_time": "2022-05-20T20:12:08.326Z"
   },
   {
    "duration": 5,
    "start_time": "2022-05-20T20:12:08.348Z"
   },
   {
    "duration": 26,
    "start_time": "2022-05-20T20:12:08.355Z"
   },
   {
    "duration": 8,
    "start_time": "2022-05-20T20:12:08.383Z"
   },
   {
    "duration": 4,
    "start_time": "2022-05-20T20:12:08.393Z"
   },
   {
    "duration": 4,
    "start_time": "2022-05-20T20:12:08.398Z"
   },
   {
    "duration": 5,
    "start_time": "2022-05-20T20:12:08.404Z"
   },
   {
    "duration": 333,
    "start_time": "2022-05-20T20:12:08.412Z"
   },
   {
    "duration": 5,
    "start_time": "2022-05-20T20:12:08.747Z"
   },
   {
    "duration": 8,
    "start_time": "2022-05-20T20:12:08.753Z"
   },
   {
    "duration": 4,
    "start_time": "2022-05-20T20:12:08.774Z"
   },
   {
    "duration": 5,
    "start_time": "2022-05-20T20:12:08.779Z"
   },
   {
    "duration": 10,
    "start_time": "2022-05-20T20:12:08.785Z"
   },
   {
    "duration": 190,
    "start_time": "2022-05-20T20:12:08.796Z"
   },
   {
    "duration": 103,
    "start_time": "2022-05-20T20:12:09.076Z"
   },
   {
    "duration": 32,
    "start_time": "2022-05-20T20:12:09.180Z"
   },
   {
    "duration": 4,
    "start_time": "2022-05-20T20:12:09.214Z"
   },
   {
    "duration": 35,
    "start_time": "2022-05-20T20:12:09.219Z"
   },
   {
    "duration": 3,
    "start_time": "2022-05-20T20:12:09.275Z"
   },
   {
    "duration": 421,
    "start_time": "2022-05-20T20:12:09.280Z"
   },
   {
    "duration": 4,
    "start_time": "2022-05-20T20:12:09.702Z"
   },
   {
    "duration": 373,
    "start_time": "2022-05-20T20:12:09.707Z"
   },
   {
    "duration": 102,
    "start_time": "2022-05-20T20:12:10.085Z"
   },
   {
    "duration": 1089,
    "start_time": "2022-05-20T20:12:10.189Z"
   },
   {
    "duration": 102,
    "start_time": "2022-05-20T20:12:11.280Z"
   },
   {
    "duration": 899,
    "start_time": "2022-05-20T20:12:11.384Z"
   },
   {
    "duration": 34,
    "start_time": "2022-05-20T20:12:12.375Z"
   },
   {
    "duration": 37,
    "start_time": "2022-05-20T20:12:12.411Z"
   },
   {
    "duration": 59,
    "start_time": "2022-05-20T20:12:12.449Z"
   },
   {
    "duration": 470,
    "start_time": "2022-05-20T20:12:12.510Z"
   },
   {
    "duration": 7,
    "start_time": "2022-05-20T20:12:12.982Z"
   },
   {
    "duration": 7,
    "start_time": "2022-05-20T20:12:12.991Z"
   },
   {
    "duration": 7,
    "start_time": "2022-05-20T20:12:12.999Z"
   },
   {
    "duration": 1328,
    "start_time": "2022-05-21T18:44:07.132Z"
   },
   {
    "duration": 2,
    "start_time": "2022-05-21T18:44:08.464Z"
   },
   {
    "duration": 233,
    "start_time": "2022-05-21T18:44:08.468Z"
   },
   {
    "duration": 26,
    "start_time": "2022-05-21T18:44:08.703Z"
   },
   {
    "duration": 12,
    "start_time": "2022-05-21T18:44:08.731Z"
   },
   {
    "duration": 70,
    "start_time": "2022-05-21T18:44:08.745Z"
   },
   {
    "duration": 1072,
    "start_time": "2022-05-21T18:44:08.816Z"
   },
   {
    "duration": 383,
    "start_time": "2022-05-21T18:44:09.890Z"
   },
   {
    "duration": 334,
    "start_time": "2022-05-21T18:44:10.275Z"
   },
   {
    "duration": 292,
    "start_time": "2022-05-21T18:44:10.611Z"
   },
   {
    "duration": 6,
    "start_time": "2022-05-21T18:44:10.905Z"
   },
   {
    "duration": 17,
    "start_time": "2022-05-21T18:44:10.913Z"
   },
   {
    "duration": 5,
    "start_time": "2022-05-21T18:44:10.932Z"
   },
   {
    "duration": 4,
    "start_time": "2022-05-21T18:44:10.940Z"
   },
   {
    "duration": 9,
    "start_time": "2022-05-21T18:44:10.945Z"
   },
   {
    "duration": 124,
    "start_time": "2022-05-21T18:44:10.955Z"
   },
   {
    "duration": 7,
    "start_time": "2022-05-21T18:44:11.080Z"
   },
   {
    "duration": 14,
    "start_time": "2022-05-21T18:44:11.088Z"
   },
   {
    "duration": 18,
    "start_time": "2022-05-21T18:44:11.104Z"
   },
   {
    "duration": 4,
    "start_time": "2022-05-21T18:44:11.124Z"
   },
   {
    "duration": 8,
    "start_time": "2022-05-21T18:44:11.129Z"
   },
   {
    "duration": 5,
    "start_time": "2022-05-21T18:44:11.138Z"
   },
   {
    "duration": 9,
    "start_time": "2022-05-21T18:44:11.144Z"
   },
   {
    "duration": 151,
    "start_time": "2022-05-21T18:44:11.154Z"
   },
   {
    "duration": 3,
    "start_time": "2022-05-21T18:44:11.307Z"
   },
   {
    "duration": 19,
    "start_time": "2022-05-21T18:44:11.312Z"
   },
   {
    "duration": 17,
    "start_time": "2022-05-21T18:44:11.333Z"
   },
   {
    "duration": 8,
    "start_time": "2022-05-21T18:44:11.352Z"
   },
   {
    "duration": 8,
    "start_time": "2022-05-21T18:44:11.362Z"
   },
   {
    "duration": 23,
    "start_time": "2022-05-21T18:44:11.372Z"
   },
   {
    "duration": 777,
    "start_time": "2022-05-21T18:44:11.397Z"
   },
   {
    "duration": 51,
    "start_time": "2022-05-21T18:44:12.176Z"
   },
   {
    "duration": 36,
    "start_time": "2022-05-21T18:44:12.229Z"
   },
   {
    "duration": 6,
    "start_time": "2022-05-21T18:44:12.267Z"
   },
   {
    "duration": 23,
    "start_time": "2022-05-21T18:44:12.274Z"
   },
   {
    "duration": 6,
    "start_time": "2022-05-21T18:44:12.299Z"
   },
   {
    "duration": 8,
    "start_time": "2022-05-21T18:44:12.307Z"
   },
   {
    "duration": 22373,
    "start_time": "2022-05-21T18:44:12.316Z"
   },
   {
    "duration": 25,
    "start_time": "2022-05-21T18:44:34.695Z"
   },
   {
    "duration": 6,
    "start_time": "2022-05-21T18:44:34.722Z"
   },
   {
    "duration": 10,
    "start_time": "2022-05-21T18:44:34.734Z"
   },
   {
    "duration": 11,
    "start_time": "2022-05-21T18:44:34.745Z"
   },
   {
    "duration": 14,
    "start_time": "2022-05-21T18:44:34.757Z"
   },
   {
    "duration": 3,
    "start_time": "2022-05-21T18:44:34.795Z"
   },
   {
    "duration": 11,
    "start_time": "2022-05-21T18:44:34.799Z"
   },
   {
    "duration": 335,
    "start_time": "2022-05-21T18:44:34.811Z"
   },
   {
    "duration": 6,
    "start_time": "2022-05-21T18:44:35.147Z"
   },
   {
    "duration": 11,
    "start_time": "2022-05-21T18:44:35.154Z"
   },
   {
    "duration": 4,
    "start_time": "2022-05-21T18:44:35.167Z"
   },
   {
    "duration": 2,
    "start_time": "2022-05-21T18:44:35.195Z"
   },
   {
    "duration": 11,
    "start_time": "2022-05-21T18:44:35.199Z"
   },
   {
    "duration": 196,
    "start_time": "2022-05-21T18:44:35.211Z"
   },
   {
    "duration": 103,
    "start_time": "2022-05-21T18:44:35.496Z"
   },
   {
    "duration": 31,
    "start_time": "2022-05-21T18:44:35.601Z"
   },
   {
    "duration": 4,
    "start_time": "2022-05-21T18:44:35.633Z"
   },
   {
    "duration": 60,
    "start_time": "2022-05-21T18:44:35.638Z"
   },
   {
    "duration": 4,
    "start_time": "2022-05-21T18:44:35.700Z"
   },
   {
    "duration": 455,
    "start_time": "2022-05-21T18:44:35.705Z"
   },
   {
    "duration": 4,
    "start_time": "2022-05-21T18:44:36.162Z"
   },
   {
    "duration": 632,
    "start_time": "2022-05-21T18:44:36.167Z"
   },
   {
    "duration": 96,
    "start_time": "2022-05-21T18:44:36.801Z"
   },
   {
    "duration": 1202,
    "start_time": "2022-05-21T18:44:36.900Z"
   },
   {
    "duration": 98,
    "start_time": "2022-05-21T18:44:38.104Z"
   },
   {
    "duration": 407,
    "start_time": "2022-05-21T18:44:38.204Z"
   },
   {
    "duration": 116,
    "start_time": "2022-05-21T18:44:38.700Z"
   },
   {
    "duration": 41,
    "start_time": "2022-05-21T18:44:38.818Z"
   },
   {
    "duration": 62,
    "start_time": "2022-05-21T18:44:38.861Z"
   },
   {
    "duration": 413,
    "start_time": "2022-05-21T18:44:38.925Z"
   },
   {
    "duration": 7,
    "start_time": "2022-05-21T18:44:39.339Z"
   },
   {
    "duration": 18,
    "start_time": "2022-05-21T18:44:39.347Z"
   },
   {
    "duration": 7,
    "start_time": "2022-05-21T18:44:39.367Z"
   },
   {
    "duration": 23,
    "start_time": "2022-05-21T20:06:56.606Z"
   },
   {
    "duration": 1318,
    "start_time": "2022-05-21T20:18:39.787Z"
   },
   {
    "duration": 2,
    "start_time": "2022-05-21T20:18:41.108Z"
   },
   {
    "duration": 126,
    "start_time": "2022-05-21T20:18:41.111Z"
   },
   {
    "duration": 29,
    "start_time": "2022-05-21T20:18:41.239Z"
   },
   {
    "duration": 11,
    "start_time": "2022-05-21T20:18:41.270Z"
   },
   {
    "duration": 39,
    "start_time": "2022-05-21T20:18:41.282Z"
   },
   {
    "duration": 784,
    "start_time": "2022-05-21T20:18:41.323Z"
   },
   {
    "duration": 375,
    "start_time": "2022-05-21T20:18:42.109Z"
   },
   {
    "duration": 363,
    "start_time": "2022-05-21T20:18:42.486Z"
   },
   {
    "duration": 298,
    "start_time": "2022-05-21T20:18:42.853Z"
   },
   {
    "duration": 10,
    "start_time": "2022-05-21T20:18:43.152Z"
   },
   {
    "duration": 15,
    "start_time": "2022-05-21T20:18:43.164Z"
   },
   {
    "duration": 5,
    "start_time": "2022-05-21T20:18:43.181Z"
   },
   {
    "duration": 7,
    "start_time": "2022-05-21T20:18:43.187Z"
   },
   {
    "duration": 9,
    "start_time": "2022-05-21T20:18:43.196Z"
   },
   {
    "duration": 5,
    "start_time": "2022-05-21T20:18:43.206Z"
   },
   {
    "duration": 6,
    "start_time": "2022-05-21T20:18:43.212Z"
   },
   {
    "duration": 33,
    "start_time": "2022-05-21T20:18:43.220Z"
   },
   {
    "duration": 114,
    "start_time": "2022-05-21T20:18:43.255Z"
   },
   {
    "duration": 6,
    "start_time": "2022-05-21T20:18:43.371Z"
   },
   {
    "duration": 9,
    "start_time": "2022-05-21T20:18:43.378Z"
   },
   {
    "duration": 5,
    "start_time": "2022-05-21T20:18:43.388Z"
   },
   {
    "duration": 6,
    "start_time": "2022-05-21T20:18:43.395Z"
   },
   {
    "duration": 132,
    "start_time": "2022-05-21T20:18:43.403Z"
   },
   {
    "duration": 4,
    "start_time": "2022-05-21T20:18:43.537Z"
   },
   {
    "duration": 23,
    "start_time": "2022-05-21T20:18:43.542Z"
   },
   {
    "duration": 15,
    "start_time": "2022-05-21T20:18:43.566Z"
   },
   {
    "duration": 6,
    "start_time": "2022-05-21T20:18:43.586Z"
   },
   {
    "duration": 9,
    "start_time": "2022-05-21T20:18:43.594Z"
   },
   {
    "duration": 7,
    "start_time": "2022-05-21T20:18:43.604Z"
   },
   {
    "duration": 776,
    "start_time": "2022-05-21T20:18:43.612Z"
   },
   {
    "duration": 39,
    "start_time": "2022-05-21T20:18:44.390Z"
   },
   {
    "duration": 54,
    "start_time": "2022-05-21T20:18:44.430Z"
   },
   {
    "duration": 5,
    "start_time": "2022-05-21T20:18:44.485Z"
   },
   {
    "duration": 9,
    "start_time": "2022-05-21T20:18:44.491Z"
   },
   {
    "duration": 6,
    "start_time": "2022-05-21T20:18:44.502Z"
   },
   {
    "duration": 6,
    "start_time": "2022-05-21T20:18:44.509Z"
   },
   {
    "duration": 22179,
    "start_time": "2022-05-21T20:18:44.516Z"
   },
   {
    "duration": 24,
    "start_time": "2022-05-21T20:19:06.697Z"
   },
   {
    "duration": 10,
    "start_time": "2022-05-21T20:19:06.723Z"
   },
   {
    "duration": 13,
    "start_time": "2022-05-21T20:19:06.752Z"
   },
   {
    "duration": 13,
    "start_time": "2022-05-21T20:19:06.766Z"
   },
   {
    "duration": 6,
    "start_time": "2022-05-21T20:19:06.780Z"
   },
   {
    "duration": 5,
    "start_time": "2022-05-21T20:19:06.787Z"
   },
   {
    "duration": 7,
    "start_time": "2022-05-21T20:19:06.793Z"
   },
   {
    "duration": 343,
    "start_time": "2022-05-21T20:19:06.802Z"
   },
   {
    "duration": 21,
    "start_time": "2022-05-21T20:19:07.147Z"
   },
   {
    "duration": 13,
    "start_time": "2022-05-21T20:19:07.169Z"
   },
   {
    "duration": 7,
    "start_time": "2022-05-21T20:19:07.184Z"
   },
   {
    "duration": 6,
    "start_time": "2022-05-21T20:19:07.193Z"
   },
   {
    "duration": 8,
    "start_time": "2022-05-21T20:19:07.200Z"
   },
   {
    "duration": 265,
    "start_time": "2022-05-21T20:19:07.209Z"
   },
   {
    "duration": 19,
    "start_time": "2022-05-21T20:19:07.555Z"
   },
   {
    "duration": 40,
    "start_time": "2022-05-21T20:19:07.653Z"
   },
   {
    "duration": 4,
    "start_time": "2022-05-21T20:19:07.694Z"
   },
   {
    "duration": 63,
    "start_time": "2022-05-21T20:19:07.699Z"
   },
   {
    "duration": 3,
    "start_time": "2022-05-21T20:19:07.764Z"
   },
   {
    "duration": 436,
    "start_time": "2022-05-21T20:19:07.769Z"
   },
   {
    "duration": 4,
    "start_time": "2022-05-21T20:19:08.207Z"
   },
   {
    "duration": 945,
    "start_time": "2022-05-21T20:19:08.212Z"
   },
   {
    "duration": 102,
    "start_time": "2022-05-21T20:19:09.164Z"
   },
   {
    "duration": 1490,
    "start_time": "2022-05-21T20:19:09.268Z"
   },
   {
    "duration": 97,
    "start_time": "2022-05-21T20:19:10.759Z"
   },
   {
    "duration": 1808,
    "start_time": "2022-05-21T20:19:10.858Z"
   },
   {
    "duration": 118,
    "start_time": "2022-05-21T20:19:12.667Z"
   },
   {
    "duration": 37,
    "start_time": "2022-05-21T20:19:12.787Z"
   },
   {
    "duration": 58,
    "start_time": "2022-05-21T20:19:12.826Z"
   },
   {
    "duration": 437,
    "start_time": "2022-05-21T20:19:12.886Z"
   },
   {
    "duration": 6,
    "start_time": "2022-05-21T20:19:13.325Z"
   },
   {
    "duration": 35,
    "start_time": "2022-05-21T20:19:13.333Z"
   },
   {
    "duration": 7,
    "start_time": "2022-05-21T20:19:13.371Z"
   },
   {
    "duration": 1185,
    "start_time": "2022-05-21T20:19:59.697Z"
   },
   {
    "duration": 2,
    "start_time": "2022-05-21T20:20:00.885Z"
   },
   {
    "duration": 111,
    "start_time": "2022-05-21T20:20:00.889Z"
   },
   {
    "duration": 23,
    "start_time": "2022-05-21T20:20:01.002Z"
   },
   {
    "duration": 19,
    "start_time": "2022-05-21T20:20:01.026Z"
   },
   {
    "duration": 67,
    "start_time": "2022-05-21T20:20:01.046Z"
   },
   {
    "duration": 757,
    "start_time": "2022-05-21T20:20:01.115Z"
   },
   {
    "duration": 394,
    "start_time": "2022-05-21T20:20:01.874Z"
   },
   {
    "duration": 362,
    "start_time": "2022-05-21T20:20:02.269Z"
   },
   {
    "duration": 308,
    "start_time": "2022-05-21T20:20:02.634Z"
   },
   {
    "duration": 20,
    "start_time": "2022-05-21T20:20:02.944Z"
   },
   {
    "duration": 29,
    "start_time": "2022-05-21T20:20:02.966Z"
   },
   {
    "duration": 15,
    "start_time": "2022-05-21T20:20:02.997Z"
   },
   {
    "duration": 16,
    "start_time": "2022-05-21T20:20:03.014Z"
   },
   {
    "duration": 40,
    "start_time": "2022-05-21T20:20:03.032Z"
   },
   {
    "duration": 25,
    "start_time": "2022-05-21T20:20:03.073Z"
   },
   {
    "duration": 6,
    "start_time": "2022-05-21T20:20:03.100Z"
   },
   {
    "duration": 24,
    "start_time": "2022-05-21T20:20:03.107Z"
   },
   {
    "duration": 113,
    "start_time": "2022-05-21T20:20:03.132Z"
   },
   {
    "duration": 16,
    "start_time": "2022-05-21T20:20:03.247Z"
   },
   {
    "duration": 7,
    "start_time": "2022-05-21T20:20:03.265Z"
   },
   {
    "duration": 5,
    "start_time": "2022-05-21T20:20:03.273Z"
   },
   {
    "duration": 8,
    "start_time": "2022-05-21T20:20:03.279Z"
   },
   {
    "duration": 127,
    "start_time": "2022-05-21T20:20:03.288Z"
   },
   {
    "duration": 4,
    "start_time": "2022-05-21T20:20:03.417Z"
   },
   {
    "duration": 14,
    "start_time": "2022-05-21T20:20:03.422Z"
   },
   {
    "duration": 33,
    "start_time": "2022-05-21T20:20:03.437Z"
   },
   {
    "duration": 7,
    "start_time": "2022-05-21T20:20:03.473Z"
   },
   {
    "duration": 53,
    "start_time": "2022-05-21T20:20:03.481Z"
   },
   {
    "duration": 758,
    "start_time": "2022-05-21T20:20:03.536Z"
   },
   {
    "duration": 953,
    "start_time": "2022-05-21T20:20:04.296Z"
   },
   {
    "duration": 47,
    "start_time": "2022-05-21T20:20:05.252Z"
   },
   {
    "duration": 190,
    "start_time": "2022-05-21T20:20:05.301Z"
   },
   {
    "duration": 6,
    "start_time": "2022-05-21T20:20:05.493Z"
   },
   {
    "duration": 23,
    "start_time": "2022-05-21T20:20:05.501Z"
   },
   {
    "duration": 5,
    "start_time": "2022-05-21T20:20:05.525Z"
   },
   {
    "duration": 18,
    "start_time": "2022-05-21T20:20:05.531Z"
   },
   {
    "duration": 19735,
    "start_time": "2022-05-21T20:20:05.550Z"
   },
   {
    "duration": 23,
    "start_time": "2022-05-21T20:20:25.287Z"
   },
   {
    "duration": 8,
    "start_time": "2022-05-21T20:20:25.312Z"
   },
   {
    "duration": 41,
    "start_time": "2022-05-21T20:20:25.321Z"
   },
   {
    "duration": 22,
    "start_time": "2022-05-21T20:20:25.364Z"
   },
   {
    "duration": 9,
    "start_time": "2022-05-21T20:20:25.387Z"
   },
   {
    "duration": 9,
    "start_time": "2022-05-21T20:20:25.399Z"
   },
   {
    "duration": 18,
    "start_time": "2022-05-21T20:20:25.410Z"
   },
   {
    "duration": 343,
    "start_time": "2022-05-21T20:20:25.430Z"
   },
   {
    "duration": 6,
    "start_time": "2022-05-21T20:20:25.775Z"
   },
   {
    "duration": 11,
    "start_time": "2022-05-21T20:20:25.783Z"
   },
   {
    "duration": 4,
    "start_time": "2022-05-21T20:20:25.796Z"
   },
   {
    "duration": 9,
    "start_time": "2022-05-21T20:20:25.801Z"
   },
   {
    "duration": 7,
    "start_time": "2022-05-21T20:20:25.812Z"
   },
   {
    "duration": 340,
    "start_time": "2022-05-21T20:20:25.820Z"
   },
   {
    "duration": 97,
    "start_time": "2022-05-21T20:20:26.161Z"
   },
   {
    "duration": 41,
    "start_time": "2022-05-21T20:20:26.260Z"
   },
   {
    "duration": 4,
    "start_time": "2022-05-21T20:20:26.303Z"
   },
   {
    "duration": 58,
    "start_time": "2022-05-21T20:20:26.309Z"
   },
   {
    "duration": 5,
    "start_time": "2022-05-21T20:20:26.369Z"
   },
   {
    "duration": 410,
    "start_time": "2022-05-21T20:20:26.376Z"
   },
   {
    "duration": 4,
    "start_time": "2022-05-21T20:20:26.787Z"
   },
   {
    "duration": 866,
    "start_time": "2022-05-21T20:20:26.792Z"
   },
   {
    "duration": 14,
    "start_time": "2022-05-21T20:20:27.660Z"
   },
   {
    "duration": 1687,
    "start_time": "2022-05-21T20:20:27.676Z"
   },
   {
    "duration": 98,
    "start_time": "2022-05-21T20:20:29.365Z"
   },
   {
    "duration": 893,
    "start_time": "2022-05-21T20:20:29.466Z"
   },
   {
    "duration": 120,
    "start_time": "2022-05-21T20:20:30.365Z"
   },
   {
    "duration": 36,
    "start_time": "2022-05-21T20:20:30.487Z"
   },
   {
    "duration": 56,
    "start_time": "2022-05-21T20:20:30.524Z"
   },
   {
    "duration": 414,
    "start_time": "2022-05-21T20:20:30.582Z"
   },
   {
    "duration": 6,
    "start_time": "2022-05-21T20:20:30.997Z"
   },
   {
    "duration": 19,
    "start_time": "2022-05-21T20:20:31.005Z"
   },
   {
    "duration": 16,
    "start_time": "2022-05-21T20:20:31.025Z"
   },
   {
    "duration": 1228,
    "start_time": "2022-05-21T20:22:31.595Z"
   },
   {
    "duration": 3,
    "start_time": "2022-05-21T20:22:32.826Z"
   },
   {
    "duration": 93,
    "start_time": "2022-05-21T20:22:32.830Z"
   },
   {
    "duration": 22,
    "start_time": "2022-05-21T20:22:32.925Z"
   },
   {
    "duration": 20,
    "start_time": "2022-05-21T20:22:32.949Z"
   },
   {
    "duration": 49,
    "start_time": "2022-05-21T20:22:32.971Z"
   },
   {
    "duration": 759,
    "start_time": "2022-05-21T20:22:33.022Z"
   },
   {
    "duration": 400,
    "start_time": "2022-05-21T20:22:33.783Z"
   },
   {
    "duration": 371,
    "start_time": "2022-05-21T20:22:34.185Z"
   },
   {
    "duration": 307,
    "start_time": "2022-05-21T20:22:34.563Z"
   },
   {
    "duration": 5,
    "start_time": "2022-05-21T20:22:34.872Z"
   },
   {
    "duration": 20,
    "start_time": "2022-05-21T20:22:34.879Z"
   },
   {
    "duration": 7,
    "start_time": "2022-05-21T20:22:34.900Z"
   },
   {
    "duration": 5,
    "start_time": "2022-05-21T20:22:34.911Z"
   },
   {
    "duration": 7,
    "start_time": "2022-05-21T20:22:34.918Z"
   },
   {
    "duration": 135,
    "start_time": "2022-05-21T20:22:34.927Z"
   },
   {
    "duration": 14,
    "start_time": "2022-05-21T20:22:35.068Z"
   },
   {
    "duration": 18,
    "start_time": "2022-05-21T20:22:35.084Z"
   },
   {
    "duration": 29,
    "start_time": "2022-05-21T20:22:35.105Z"
   },
   {
    "duration": 20,
    "start_time": "2022-05-21T20:22:35.136Z"
   },
   {
    "duration": 14,
    "start_time": "2022-05-21T20:22:35.167Z"
   },
   {
    "duration": 15,
    "start_time": "2022-05-21T20:22:35.183Z"
   },
   {
    "duration": 17,
    "start_time": "2022-05-21T20:22:35.201Z"
   },
   {
    "duration": 154,
    "start_time": "2022-05-21T20:22:35.220Z"
   },
   {
    "duration": 5,
    "start_time": "2022-05-21T20:22:35.376Z"
   },
   {
    "duration": 26,
    "start_time": "2022-05-21T20:22:35.383Z"
   },
   {
    "duration": 20,
    "start_time": "2022-05-21T20:22:35.411Z"
   },
   {
    "duration": 27,
    "start_time": "2022-05-21T20:22:35.433Z"
   },
   {
    "duration": 149,
    "start_time": "2022-05-21T20:22:35.462Z"
   },
   {
    "duration": 0,
    "start_time": "2022-05-21T20:22:35.615Z"
   },
   {
    "duration": 0,
    "start_time": "2022-05-21T20:22:35.616Z"
   },
   {
    "duration": 0,
    "start_time": "2022-05-21T20:22:35.618Z"
   },
   {
    "duration": 0,
    "start_time": "2022-05-21T20:22:35.619Z"
   },
   {
    "duration": 0,
    "start_time": "2022-05-21T20:22:35.620Z"
   },
   {
    "duration": 0,
    "start_time": "2022-05-21T20:22:35.621Z"
   },
   {
    "duration": 0,
    "start_time": "2022-05-21T20:22:35.623Z"
   },
   {
    "duration": 0,
    "start_time": "2022-05-21T20:22:35.623Z"
   },
   {
    "duration": 0,
    "start_time": "2022-05-21T20:22:35.625Z"
   },
   {
    "duration": 0,
    "start_time": "2022-05-21T20:22:35.626Z"
   },
   {
    "duration": 0,
    "start_time": "2022-05-21T20:22:35.628Z"
   },
   {
    "duration": 0,
    "start_time": "2022-05-21T20:22:35.629Z"
   },
   {
    "duration": 0,
    "start_time": "2022-05-21T20:22:35.654Z"
   },
   {
    "duration": 0,
    "start_time": "2022-05-21T20:22:35.655Z"
   },
   {
    "duration": 0,
    "start_time": "2022-05-21T20:22:35.656Z"
   },
   {
    "duration": 0,
    "start_time": "2022-05-21T20:22:35.657Z"
   },
   {
    "duration": 0,
    "start_time": "2022-05-21T20:22:35.658Z"
   },
   {
    "duration": 0,
    "start_time": "2022-05-21T20:22:35.659Z"
   },
   {
    "duration": 0,
    "start_time": "2022-05-21T20:22:35.660Z"
   },
   {
    "duration": 0,
    "start_time": "2022-05-21T20:22:35.661Z"
   },
   {
    "duration": 0,
    "start_time": "2022-05-21T20:22:35.661Z"
   },
   {
    "duration": 0,
    "start_time": "2022-05-21T20:22:35.662Z"
   },
   {
    "duration": 0,
    "start_time": "2022-05-21T20:22:35.663Z"
   },
   {
    "duration": 0,
    "start_time": "2022-05-21T20:22:35.664Z"
   },
   {
    "duration": 0,
    "start_time": "2022-05-21T20:22:35.665Z"
   },
   {
    "duration": 0,
    "start_time": "2022-05-21T20:22:35.666Z"
   },
   {
    "duration": 0,
    "start_time": "2022-05-21T20:22:35.667Z"
   },
   {
    "duration": 0,
    "start_time": "2022-05-21T20:22:35.668Z"
   },
   {
    "duration": 0,
    "start_time": "2022-05-21T20:22:35.669Z"
   },
   {
    "duration": 0,
    "start_time": "2022-05-21T20:22:35.670Z"
   },
   {
    "duration": 0,
    "start_time": "2022-05-21T20:22:35.671Z"
   },
   {
    "duration": 0,
    "start_time": "2022-05-21T20:22:35.672Z"
   },
   {
    "duration": 0,
    "start_time": "2022-05-21T20:22:35.675Z"
   },
   {
    "duration": 0,
    "start_time": "2022-05-21T20:22:35.676Z"
   },
   {
    "duration": 0,
    "start_time": "2022-05-21T20:22:35.678Z"
   },
   {
    "duration": 0,
    "start_time": "2022-05-21T20:22:35.679Z"
   },
   {
    "duration": 0,
    "start_time": "2022-05-21T20:22:35.681Z"
   },
   {
    "duration": 0,
    "start_time": "2022-05-21T20:22:35.682Z"
   },
   {
    "duration": 0,
    "start_time": "2022-05-21T20:22:35.683Z"
   },
   {
    "duration": 0,
    "start_time": "2022-05-21T20:22:35.684Z"
   },
   {
    "duration": 0,
    "start_time": "2022-05-21T20:22:35.685Z"
   },
   {
    "duration": 0,
    "start_time": "2022-05-21T20:22:35.686Z"
   },
   {
    "duration": 26,
    "start_time": "2022-05-21T20:24:17.268Z"
   },
   {
    "duration": 741,
    "start_time": "2022-05-21T20:24:18.964Z"
   },
   {
    "duration": 19,
    "start_time": "2022-05-21T20:24:44.476Z"
   },
   {
    "duration": 21,
    "start_time": "2022-05-21T20:25:02.562Z"
   },
   {
    "duration": 24,
    "start_time": "2022-05-21T20:25:11.481Z"
   },
   {
    "duration": 726,
    "start_time": "2022-05-21T20:25:13.418Z"
   },
   {
    "duration": 25,
    "start_time": "2022-05-21T20:25:15.888Z"
   },
   {
    "duration": 822,
    "start_time": "2022-05-21T20:25:16.880Z"
   },
   {
    "duration": 23,
    "start_time": "2022-05-21T20:25:21.077Z"
   },
   {
    "duration": 760,
    "start_time": "2022-05-21T20:25:22.609Z"
   },
   {
    "duration": 1027,
    "start_time": "2022-05-21T20:25:53.612Z"
   },
   {
    "duration": 1677,
    "start_time": "2022-05-22T07:02:25.320Z"
   },
   {
    "duration": 3,
    "start_time": "2022-05-22T07:02:26.999Z"
   },
   {
    "duration": 231,
    "start_time": "2022-05-22T07:02:27.007Z"
   },
   {
    "duration": 66,
    "start_time": "2022-05-22T07:02:27.241Z"
   },
   {
    "duration": 14,
    "start_time": "2022-05-22T07:02:27.309Z"
   },
   {
    "duration": 64,
    "start_time": "2022-05-22T07:02:27.326Z"
   },
   {
    "duration": 926,
    "start_time": "2022-05-22T07:02:27.392Z"
   },
   {
    "duration": 451,
    "start_time": "2022-05-22T07:02:28.320Z"
   },
   {
    "duration": 429,
    "start_time": "2022-05-22T07:02:28.773Z"
   },
   {
    "duration": 472,
    "start_time": "2022-05-22T07:02:29.205Z"
   },
   {
    "duration": 7,
    "start_time": "2022-05-22T07:02:29.679Z"
   },
   {
    "duration": 12,
    "start_time": "2022-05-22T07:02:29.688Z"
   },
   {
    "duration": 5,
    "start_time": "2022-05-22T07:02:29.702Z"
   },
   {
    "duration": 6,
    "start_time": "2022-05-22T07:02:29.708Z"
   },
   {
    "duration": 11,
    "start_time": "2022-05-22T07:02:29.716Z"
   },
   {
    "duration": 26,
    "start_time": "2022-05-22T07:02:29.729Z"
   },
   {
    "duration": 14,
    "start_time": "2022-05-22T07:02:29.762Z"
   },
   {
    "duration": 15,
    "start_time": "2022-05-22T07:02:29.778Z"
   },
   {
    "duration": 28,
    "start_time": "2022-05-22T07:02:29.795Z"
   },
   {
    "duration": 6,
    "start_time": "2022-05-22T07:02:29.825Z"
   },
   {
    "duration": 18,
    "start_time": "2022-05-22T07:02:29.833Z"
   },
   {
    "duration": 35,
    "start_time": "2022-05-22T07:02:29.853Z"
   },
   {
    "duration": 15,
    "start_time": "2022-05-22T07:02:29.890Z"
   },
   {
    "duration": 173,
    "start_time": "2022-05-22T07:02:29.907Z"
   },
   {
    "duration": 4,
    "start_time": "2022-05-22T07:02:30.081Z"
   },
   {
    "duration": 16,
    "start_time": "2022-05-22T07:02:30.086Z"
   },
   {
    "duration": 14,
    "start_time": "2022-05-22T07:02:30.104Z"
   },
   {
    "duration": 9,
    "start_time": "2022-05-22T07:02:30.121Z"
   },
   {
    "duration": 949,
    "start_time": "2022-05-22T07:02:30.144Z"
   },
   {
    "duration": 1284,
    "start_time": "2022-05-22T07:02:31.094Z"
   },
   {
    "duration": 40,
    "start_time": "2022-05-22T07:02:32.382Z"
   },
   {
    "duration": 64,
    "start_time": "2022-05-22T07:02:32.424Z"
   },
   {
    "duration": 6,
    "start_time": "2022-05-22T07:02:32.489Z"
   },
   {
    "duration": 9,
    "start_time": "2022-05-22T07:02:32.497Z"
   },
   {
    "duration": 6,
    "start_time": "2022-05-22T07:02:32.508Z"
   },
   {
    "duration": 40,
    "start_time": "2022-05-22T07:02:32.515Z"
   },
   {
    "duration": 22537,
    "start_time": "2022-05-22T07:02:32.563Z"
   },
   {
    "duration": 23,
    "start_time": "2022-05-22T07:02:55.102Z"
   },
   {
    "duration": 42,
    "start_time": "2022-05-22T07:02:55.126Z"
   },
   {
    "duration": 14,
    "start_time": "2022-05-22T07:02:55.174Z"
   },
   {
    "duration": 14,
    "start_time": "2022-05-22T07:02:55.190Z"
   },
   {
    "duration": 6,
    "start_time": "2022-05-22T07:02:55.207Z"
   },
   {
    "duration": 6,
    "start_time": "2022-05-22T07:02:55.215Z"
   },
   {
    "duration": 6,
    "start_time": "2022-05-22T07:02:55.223Z"
   },
   {
    "duration": 519,
    "start_time": "2022-05-22T07:02:55.231Z"
   },
   {
    "duration": 41,
    "start_time": "2022-05-22T07:02:55.762Z"
   },
   {
    "duration": 14,
    "start_time": "2022-05-22T07:02:55.808Z"
   },
   {
    "duration": 17,
    "start_time": "2022-05-22T07:02:55.825Z"
   },
   {
    "duration": 42,
    "start_time": "2022-05-22T07:02:55.844Z"
   },
   {
    "duration": 17,
    "start_time": "2022-05-22T07:02:55.887Z"
   },
   {
    "duration": 341,
    "start_time": "2022-05-22T07:02:55.906Z"
   },
   {
    "duration": 25,
    "start_time": "2022-05-22T07:02:56.250Z"
   },
   {
    "duration": 134,
    "start_time": "2022-05-22T07:02:56.278Z"
   },
   {
    "duration": 4,
    "start_time": "2022-05-22T07:02:56.415Z"
   },
   {
    "duration": 53,
    "start_time": "2022-05-22T07:02:56.421Z"
   },
   {
    "duration": 24,
    "start_time": "2022-05-22T07:02:56.475Z"
   },
   {
    "duration": 566,
    "start_time": "2022-05-22T07:02:56.501Z"
   },
   {
    "duration": 8,
    "start_time": "2022-05-22T07:02:57.069Z"
   },
   {
    "duration": 670,
    "start_time": "2022-05-22T07:02:57.079Z"
   },
   {
    "duration": 39,
    "start_time": "2022-05-22T07:02:57.756Z"
   },
   {
    "duration": 2960,
    "start_time": "2022-05-22T07:02:57.817Z"
   },
   {
    "duration": 52,
    "start_time": "2022-05-22T07:03:00.843Z"
   },
   {
    "duration": 6058,
    "start_time": "2022-05-22T07:03:00.897Z"
   },
   {
    "duration": 112,
    "start_time": "2022-05-22T07:03:06.970Z"
   },
   {
    "duration": 48,
    "start_time": "2022-05-22T07:03:07.090Z"
   },
   {
    "duration": 141,
    "start_time": "2022-05-22T07:03:07.148Z"
   },
   {
    "duration": 706,
    "start_time": "2022-05-22T07:03:07.301Z"
   },
   {
    "duration": 10,
    "start_time": "2022-05-22T07:03:08.009Z"
   },
   {
    "duration": 25,
    "start_time": "2022-05-22T07:03:08.022Z"
   },
   {
    "duration": 55,
    "start_time": "2022-05-22T07:03:08.049Z"
   },
   {
    "duration": 152,
    "start_time": "2022-05-22T07:14:16.520Z"
   },
   {
    "duration": 46,
    "start_time": "2022-05-22T07:14:21.111Z"
   },
   {
    "duration": 11,
    "start_time": "2022-05-22T07:15:20.201Z"
   },
   {
    "duration": 15,
    "start_time": "2022-05-22T07:15:48.372Z"
   },
   {
    "duration": 1309,
    "start_time": "2022-05-22T07:16:23.075Z"
   },
   {
    "duration": 2,
    "start_time": "2022-05-22T07:16:24.388Z"
   },
   {
    "duration": 285,
    "start_time": "2022-05-22T07:16:24.392Z"
   },
   {
    "duration": 32,
    "start_time": "2022-05-22T07:16:24.680Z"
   },
   {
    "duration": 13,
    "start_time": "2022-05-22T07:16:24.714Z"
   },
   {
    "duration": 66,
    "start_time": "2022-05-22T07:16:24.729Z"
   },
   {
    "duration": 835,
    "start_time": "2022-05-22T07:16:24.797Z"
   },
   {
    "duration": 446,
    "start_time": "2022-05-22T07:16:25.634Z"
   },
   {
    "duration": 374,
    "start_time": "2022-05-22T07:16:26.084Z"
   },
   {
    "duration": 309,
    "start_time": "2022-05-22T07:16:26.460Z"
   },
   {
    "duration": 9,
    "start_time": "2022-05-22T07:16:26.770Z"
   },
   {
    "duration": 21,
    "start_time": "2022-05-22T07:16:26.780Z"
   },
   {
    "duration": 6,
    "start_time": "2022-05-22T07:16:26.803Z"
   },
   {
    "duration": 5,
    "start_time": "2022-05-22T07:16:26.811Z"
   },
   {
    "duration": 8,
    "start_time": "2022-05-22T07:16:26.818Z"
   },
   {
    "duration": 6,
    "start_time": "2022-05-22T07:16:26.845Z"
   },
   {
    "duration": 58,
    "start_time": "2022-05-22T07:16:26.853Z"
   },
   {
    "duration": 30,
    "start_time": "2022-05-22T07:16:26.913Z"
   },
   {
    "duration": 189,
    "start_time": "2022-05-22T07:16:26.944Z"
   },
   {
    "duration": 42,
    "start_time": "2022-05-22T07:16:27.135Z"
   },
   {
    "duration": 34,
    "start_time": "2022-05-22T07:16:27.180Z"
   },
   {
    "duration": 15,
    "start_time": "2022-05-22T07:16:27.217Z"
   },
   {
    "duration": 63,
    "start_time": "2022-05-22T07:16:27.234Z"
   },
   {
    "duration": 161,
    "start_time": "2022-05-22T07:16:27.300Z"
   },
   {
    "duration": 6,
    "start_time": "2022-05-22T07:16:27.465Z"
   },
   {
    "duration": 23,
    "start_time": "2022-05-22T07:16:27.472Z"
   },
   {
    "duration": 13,
    "start_time": "2022-05-22T07:16:27.497Z"
   },
   {
    "duration": 121,
    "start_time": "2022-05-22T07:16:27.514Z"
   },
   {
    "duration": 0,
    "start_time": "2022-05-22T07:16:27.636Z"
   },
   {
    "duration": 0,
    "start_time": "2022-05-22T07:16:27.643Z"
   },
   {
    "duration": 0,
    "start_time": "2022-05-22T07:16:27.644Z"
   },
   {
    "duration": 0,
    "start_time": "2022-05-22T07:16:27.644Z"
   },
   {
    "duration": 0,
    "start_time": "2022-05-22T07:16:27.645Z"
   },
   {
    "duration": 0,
    "start_time": "2022-05-22T07:16:27.646Z"
   },
   {
    "duration": 0,
    "start_time": "2022-05-22T07:16:27.649Z"
   },
   {
    "duration": 0,
    "start_time": "2022-05-22T07:16:27.650Z"
   },
   {
    "duration": 0,
    "start_time": "2022-05-22T07:16:27.653Z"
   },
   {
    "duration": 0,
    "start_time": "2022-05-22T07:16:27.653Z"
   },
   {
    "duration": 0,
    "start_time": "2022-05-22T07:16:27.654Z"
   },
   {
    "duration": 0,
    "start_time": "2022-05-22T07:16:27.655Z"
   },
   {
    "duration": 0,
    "start_time": "2022-05-22T07:16:27.656Z"
   },
   {
    "duration": 0,
    "start_time": "2022-05-22T07:16:27.657Z"
   },
   {
    "duration": 0,
    "start_time": "2022-05-22T07:16:27.658Z"
   },
   {
    "duration": 0,
    "start_time": "2022-05-22T07:16:27.659Z"
   },
   {
    "duration": 0,
    "start_time": "2022-05-22T07:16:27.659Z"
   },
   {
    "duration": 0,
    "start_time": "2022-05-22T07:16:27.660Z"
   },
   {
    "duration": 0,
    "start_time": "2022-05-22T07:16:27.661Z"
   },
   {
    "duration": 0,
    "start_time": "2022-05-22T07:16:27.665Z"
   },
   {
    "duration": 0,
    "start_time": "2022-05-22T07:16:27.665Z"
   },
   {
    "duration": 0,
    "start_time": "2022-05-22T07:16:27.666Z"
   },
   {
    "duration": 0,
    "start_time": "2022-05-22T07:16:27.667Z"
   },
   {
    "duration": 0,
    "start_time": "2022-05-22T07:16:27.668Z"
   },
   {
    "duration": 0,
    "start_time": "2022-05-22T07:16:27.671Z"
   },
   {
    "duration": 0,
    "start_time": "2022-05-22T07:16:27.674Z"
   },
   {
    "duration": 0,
    "start_time": "2022-05-22T07:16:27.675Z"
   },
   {
    "duration": 0,
    "start_time": "2022-05-22T07:16:27.676Z"
   },
   {
    "duration": 0,
    "start_time": "2022-05-22T07:16:27.677Z"
   },
   {
    "duration": 0,
    "start_time": "2022-05-22T07:16:27.680Z"
   },
   {
    "duration": 0,
    "start_time": "2022-05-22T07:16:27.681Z"
   },
   {
    "duration": 0,
    "start_time": "2022-05-22T07:16:27.681Z"
   },
   {
    "duration": 0,
    "start_time": "2022-05-22T07:16:27.683Z"
   },
   {
    "duration": 0,
    "start_time": "2022-05-22T07:16:27.684Z"
   },
   {
    "duration": 0,
    "start_time": "2022-05-22T07:16:27.684Z"
   },
   {
    "duration": 0,
    "start_time": "2022-05-22T07:16:27.685Z"
   },
   {
    "duration": 0,
    "start_time": "2022-05-22T07:16:27.686Z"
   },
   {
    "duration": 0,
    "start_time": "2022-05-22T07:16:27.689Z"
   },
   {
    "duration": 0,
    "start_time": "2022-05-22T07:16:27.690Z"
   },
   {
    "duration": 0,
    "start_time": "2022-05-22T07:16:27.692Z"
   },
   {
    "duration": 0,
    "start_time": "2022-05-22T07:16:27.693Z"
   },
   {
    "duration": 0,
    "start_time": "2022-05-22T07:16:27.694Z"
   },
   {
    "duration": 0,
    "start_time": "2022-05-22T07:16:27.749Z"
   },
   {
    "duration": 35,
    "start_time": "2022-05-22T07:17:26.885Z"
   },
   {
    "duration": 1367,
    "start_time": "2022-05-22T07:17:36.385Z"
   },
   {
    "duration": 4,
    "start_time": "2022-05-22T07:17:37.757Z"
   },
   {
    "duration": 157,
    "start_time": "2022-05-22T07:17:37.764Z"
   },
   {
    "duration": 50,
    "start_time": "2022-05-22T07:17:37.924Z"
   },
   {
    "duration": 38,
    "start_time": "2022-05-22T07:17:37.976Z"
   },
   {
    "duration": 57,
    "start_time": "2022-05-22T07:17:38.016Z"
   },
   {
    "duration": 803,
    "start_time": "2022-05-22T07:17:38.078Z"
   },
   {
    "duration": 420,
    "start_time": "2022-05-22T07:17:38.884Z"
   },
   {
    "duration": 403,
    "start_time": "2022-05-22T07:17:39.305Z"
   },
   {
    "duration": 369,
    "start_time": "2022-05-22T07:17:39.710Z"
   },
   {
    "duration": 12,
    "start_time": "2022-05-22T07:17:40.081Z"
   },
   {
    "duration": 36,
    "start_time": "2022-05-22T07:17:40.094Z"
   },
   {
    "duration": 7,
    "start_time": "2022-05-22T07:17:40.132Z"
   },
   {
    "duration": 42,
    "start_time": "2022-05-22T07:17:40.144Z"
   },
   {
    "duration": 12,
    "start_time": "2022-05-22T07:17:40.188Z"
   },
   {
    "duration": 12,
    "start_time": "2022-05-22T07:17:40.202Z"
   },
   {
    "duration": 9,
    "start_time": "2022-05-22T07:17:40.216Z"
   },
   {
    "duration": 13,
    "start_time": "2022-05-22T07:17:40.227Z"
   },
   {
    "duration": 138,
    "start_time": "2022-05-22T07:17:40.248Z"
   },
   {
    "duration": 4,
    "start_time": "2022-05-22T07:17:40.388Z"
   },
   {
    "duration": 21,
    "start_time": "2022-05-22T07:17:40.393Z"
   },
   {
    "duration": 10,
    "start_time": "2022-05-22T07:17:40.415Z"
   },
   {
    "duration": 16,
    "start_time": "2022-05-22T07:17:40.427Z"
   },
   {
    "duration": 169,
    "start_time": "2022-05-22T07:17:40.450Z"
   },
   {
    "duration": 4,
    "start_time": "2022-05-22T07:17:40.620Z"
   },
   {
    "duration": 38,
    "start_time": "2022-05-22T07:17:40.626Z"
   },
   {
    "duration": 144,
    "start_time": "2022-05-22T07:17:40.670Z"
   },
   {
    "duration": 0,
    "start_time": "2022-05-22T07:17:40.817Z"
   },
   {
    "duration": 0,
    "start_time": "2022-05-22T07:17:40.818Z"
   },
   {
    "duration": 0,
    "start_time": "2022-05-22T07:17:40.819Z"
   },
   {
    "duration": 0,
    "start_time": "2022-05-22T07:17:40.821Z"
   },
   {
    "duration": 0,
    "start_time": "2022-05-22T07:17:40.822Z"
   },
   {
    "duration": 0,
    "start_time": "2022-05-22T07:17:40.824Z"
   },
   {
    "duration": 0,
    "start_time": "2022-05-22T07:17:40.825Z"
   },
   {
    "duration": 0,
    "start_time": "2022-05-22T07:17:40.826Z"
   },
   {
    "duration": 0,
    "start_time": "2022-05-22T07:17:40.846Z"
   },
   {
    "duration": 0,
    "start_time": "2022-05-22T07:17:40.848Z"
   },
   {
    "duration": 0,
    "start_time": "2022-05-22T07:17:40.848Z"
   },
   {
    "duration": 0,
    "start_time": "2022-05-22T07:17:40.849Z"
   },
   {
    "duration": 0,
    "start_time": "2022-05-22T07:17:40.851Z"
   },
   {
    "duration": 0,
    "start_time": "2022-05-22T07:17:40.853Z"
   },
   {
    "duration": 0,
    "start_time": "2022-05-22T07:17:40.854Z"
   },
   {
    "duration": 0,
    "start_time": "2022-05-22T07:17:40.855Z"
   },
   {
    "duration": 0,
    "start_time": "2022-05-22T07:17:40.856Z"
   },
   {
    "duration": 0,
    "start_time": "2022-05-22T07:17:40.857Z"
   },
   {
    "duration": 0,
    "start_time": "2022-05-22T07:17:40.858Z"
   },
   {
    "duration": 0,
    "start_time": "2022-05-22T07:17:40.859Z"
   },
   {
    "duration": 0,
    "start_time": "2022-05-22T07:17:40.860Z"
   },
   {
    "duration": 0,
    "start_time": "2022-05-22T07:17:40.862Z"
   },
   {
    "duration": 0,
    "start_time": "2022-05-22T07:17:40.863Z"
   },
   {
    "duration": 0,
    "start_time": "2022-05-22T07:17:40.864Z"
   },
   {
    "duration": 0,
    "start_time": "2022-05-22T07:17:40.865Z"
   },
   {
    "duration": 0,
    "start_time": "2022-05-22T07:17:40.866Z"
   },
   {
    "duration": 0,
    "start_time": "2022-05-22T07:17:40.867Z"
   },
   {
    "duration": 0,
    "start_time": "2022-05-22T07:17:40.868Z"
   },
   {
    "duration": 0,
    "start_time": "2022-05-22T07:17:40.869Z"
   },
   {
    "duration": 0,
    "start_time": "2022-05-22T07:17:40.870Z"
   },
   {
    "duration": 0,
    "start_time": "2022-05-22T07:17:40.871Z"
   },
   {
    "duration": 0,
    "start_time": "2022-05-22T07:17:40.873Z"
   },
   {
    "duration": 0,
    "start_time": "2022-05-22T07:17:40.874Z"
   },
   {
    "duration": 0,
    "start_time": "2022-05-22T07:17:40.875Z"
   },
   {
    "duration": 0,
    "start_time": "2022-05-22T07:17:40.876Z"
   },
   {
    "duration": 0,
    "start_time": "2022-05-22T07:17:40.878Z"
   },
   {
    "duration": 0,
    "start_time": "2022-05-22T07:17:40.879Z"
   },
   {
    "duration": 0,
    "start_time": "2022-05-22T07:17:40.880Z"
   },
   {
    "duration": 0,
    "start_time": "2022-05-22T07:17:40.881Z"
   },
   {
    "duration": 0,
    "start_time": "2022-05-22T07:17:40.882Z"
   },
   {
    "duration": 0,
    "start_time": "2022-05-22T07:17:40.882Z"
   },
   {
    "duration": 0,
    "start_time": "2022-05-22T07:17:40.883Z"
   },
   {
    "duration": 0,
    "start_time": "2022-05-22T07:17:40.884Z"
   },
   {
    "duration": 0,
    "start_time": "2022-05-22T07:17:40.885Z"
   },
   {
    "duration": 36,
    "start_time": "2022-05-22T07:18:37.329Z"
   },
   {
    "duration": 17,
    "start_time": "2022-05-22T07:18:46.263Z"
   },
   {
    "duration": 1288,
    "start_time": "2022-05-22T07:18:59.663Z"
   },
   {
    "duration": 6,
    "start_time": "2022-05-22T07:19:00.954Z"
   },
   {
    "duration": 143,
    "start_time": "2022-05-22T07:19:00.962Z"
   },
   {
    "duration": 35,
    "start_time": "2022-05-22T07:19:01.107Z"
   },
   {
    "duration": 20,
    "start_time": "2022-05-22T07:19:01.144Z"
   },
   {
    "duration": 64,
    "start_time": "2022-05-22T07:19:01.166Z"
   },
   {
    "duration": 857,
    "start_time": "2022-05-22T07:19:01.231Z"
   },
   {
    "duration": 673,
    "start_time": "2022-05-22T07:19:02.092Z"
   },
   {
    "duration": 383,
    "start_time": "2022-05-22T07:19:02.767Z"
   },
   {
    "duration": 313,
    "start_time": "2022-05-22T07:19:03.157Z"
   },
   {
    "duration": 14,
    "start_time": "2022-05-22T07:19:03.472Z"
   },
   {
    "duration": 16,
    "start_time": "2022-05-22T07:19:03.487Z"
   },
   {
    "duration": 6,
    "start_time": "2022-05-22T07:19:03.504Z"
   },
   {
    "duration": 26,
    "start_time": "2022-05-22T07:19:03.513Z"
   },
   {
    "duration": 42,
    "start_time": "2022-05-22T07:19:03.541Z"
   },
   {
    "duration": 119,
    "start_time": "2022-05-22T07:19:03.585Z"
   },
   {
    "duration": 12,
    "start_time": "2022-05-22T07:19:03.706Z"
   },
   {
    "duration": 16,
    "start_time": "2022-05-22T07:19:03.720Z"
   },
   {
    "duration": 28,
    "start_time": "2022-05-22T07:19:03.738Z"
   },
   {
    "duration": 19,
    "start_time": "2022-05-22T07:19:03.771Z"
   },
   {
    "duration": 7,
    "start_time": "2022-05-22T07:19:03.792Z"
   },
   {
    "duration": 5,
    "start_time": "2022-05-22T07:19:03.801Z"
   },
   {
    "duration": 10,
    "start_time": "2022-05-22T07:19:03.807Z"
   },
   {
    "duration": 133,
    "start_time": "2022-05-22T07:19:03.818Z"
   },
   {
    "duration": 19,
    "start_time": "2022-05-22T07:19:03.953Z"
   },
   {
    "duration": 20,
    "start_time": "2022-05-22T07:19:03.980Z"
   },
   {
    "duration": 15,
    "start_time": "2022-05-22T07:19:04.002Z"
   },
   {
    "duration": 163,
    "start_time": "2022-05-22T07:19:04.020Z"
   },
   {
    "duration": 0,
    "start_time": "2022-05-22T07:19:04.187Z"
   },
   {
    "duration": 0,
    "start_time": "2022-05-22T07:19:04.188Z"
   },
   {
    "duration": 0,
    "start_time": "2022-05-22T07:19:04.190Z"
   },
   {
    "duration": 0,
    "start_time": "2022-05-22T07:19:04.192Z"
   },
   {
    "duration": 0,
    "start_time": "2022-05-22T07:19:04.193Z"
   },
   {
    "duration": 0,
    "start_time": "2022-05-22T07:19:04.195Z"
   },
   {
    "duration": 0,
    "start_time": "2022-05-22T07:19:04.196Z"
   },
   {
    "duration": 0,
    "start_time": "2022-05-22T07:19:04.198Z"
   },
   {
    "duration": 0,
    "start_time": "2022-05-22T07:19:04.199Z"
   },
   {
    "duration": 0,
    "start_time": "2022-05-22T07:19:04.201Z"
   },
   {
    "duration": 0,
    "start_time": "2022-05-22T07:19:04.202Z"
   },
   {
    "duration": 0,
    "start_time": "2022-05-22T07:19:04.204Z"
   },
   {
    "duration": 0,
    "start_time": "2022-05-22T07:19:04.206Z"
   },
   {
    "duration": 0,
    "start_time": "2022-05-22T07:19:04.207Z"
   },
   {
    "duration": 0,
    "start_time": "2022-05-22T07:19:04.244Z"
   },
   {
    "duration": 0,
    "start_time": "2022-05-22T07:19:04.246Z"
   },
   {
    "duration": 0,
    "start_time": "2022-05-22T07:19:04.247Z"
   },
   {
    "duration": 0,
    "start_time": "2022-05-22T07:19:04.248Z"
   },
   {
    "duration": 0,
    "start_time": "2022-05-22T07:19:04.250Z"
   },
   {
    "duration": 0,
    "start_time": "2022-05-22T07:19:04.251Z"
   },
   {
    "duration": 0,
    "start_time": "2022-05-22T07:19:04.252Z"
   },
   {
    "duration": 0,
    "start_time": "2022-05-22T07:19:04.253Z"
   },
   {
    "duration": 0,
    "start_time": "2022-05-22T07:19:04.254Z"
   },
   {
    "duration": 0,
    "start_time": "2022-05-22T07:19:04.256Z"
   },
   {
    "duration": 0,
    "start_time": "2022-05-22T07:19:04.257Z"
   },
   {
    "duration": 0,
    "start_time": "2022-05-22T07:19:04.259Z"
   },
   {
    "duration": 0,
    "start_time": "2022-05-22T07:19:04.261Z"
   },
   {
    "duration": 0,
    "start_time": "2022-05-22T07:19:04.262Z"
   },
   {
    "duration": 0,
    "start_time": "2022-05-22T07:19:04.264Z"
   },
   {
    "duration": 0,
    "start_time": "2022-05-22T07:19:04.266Z"
   },
   {
    "duration": 0,
    "start_time": "2022-05-22T07:19:04.267Z"
   },
   {
    "duration": 0,
    "start_time": "2022-05-22T07:19:04.269Z"
   },
   {
    "duration": 0,
    "start_time": "2022-05-22T07:19:04.270Z"
   },
   {
    "duration": 0,
    "start_time": "2022-05-22T07:19:04.272Z"
   },
   {
    "duration": 0,
    "start_time": "2022-05-22T07:19:04.274Z"
   },
   {
    "duration": 0,
    "start_time": "2022-05-22T07:19:04.275Z"
   },
   {
    "duration": 0,
    "start_time": "2022-05-22T07:19:04.277Z"
   },
   {
    "duration": 0,
    "start_time": "2022-05-22T07:19:04.278Z"
   },
   {
    "duration": 0,
    "start_time": "2022-05-22T07:19:04.280Z"
   },
   {
    "duration": 0,
    "start_time": "2022-05-22T07:19:04.281Z"
   },
   {
    "duration": 0,
    "start_time": "2022-05-22T07:19:04.282Z"
   },
   {
    "duration": 0,
    "start_time": "2022-05-22T07:19:04.283Z"
   },
   {
    "duration": 0,
    "start_time": "2022-05-22T07:19:04.284Z"
   },
   {
    "duration": 2,
    "start_time": "2022-05-22T07:20:22.422Z"
   },
   {
    "duration": 18,
    "start_time": "2022-05-22T07:20:45.478Z"
   },
   {
    "duration": 7,
    "start_time": "2022-05-22T07:20:46.868Z"
   },
   {
    "duration": 870,
    "start_time": "2022-05-22T07:21:20.569Z"
   },
   {
    "duration": 9,
    "start_time": "2022-05-22T07:23:02.154Z"
   },
   {
    "duration": 1284,
    "start_time": "2022-05-22T07:23:11.705Z"
   },
   {
    "duration": 3,
    "start_time": "2022-05-22T07:23:12.992Z"
   },
   {
    "duration": 125,
    "start_time": "2022-05-22T07:23:12.997Z"
   },
   {
    "duration": 47,
    "start_time": "2022-05-22T07:23:13.124Z"
   },
   {
    "duration": 32,
    "start_time": "2022-05-22T07:23:13.177Z"
   },
   {
    "duration": 55,
    "start_time": "2022-05-22T07:23:13.210Z"
   },
   {
    "duration": 852,
    "start_time": "2022-05-22T07:23:13.268Z"
   },
   {
    "duration": 452,
    "start_time": "2022-05-22T07:23:14.123Z"
   },
   {
    "duration": 384,
    "start_time": "2022-05-22T07:23:14.580Z"
   },
   {
    "duration": 333,
    "start_time": "2022-05-22T07:23:14.968Z"
   },
   {
    "duration": 6,
    "start_time": "2022-05-22T07:23:15.304Z"
   },
   {
    "duration": 14,
    "start_time": "2022-05-22T07:23:15.312Z"
   },
   {
    "duration": 7,
    "start_time": "2022-05-22T07:23:15.342Z"
   },
   {
    "duration": 33,
    "start_time": "2022-05-22T07:23:15.350Z"
   },
   {
    "duration": 7,
    "start_time": "2022-05-22T07:23:15.385Z"
   },
   {
    "duration": 8,
    "start_time": "2022-05-22T07:23:15.394Z"
   },
   {
    "duration": 11,
    "start_time": "2022-05-22T07:23:15.404Z"
   },
   {
    "duration": 16,
    "start_time": "2022-05-22T07:23:15.416Z"
   },
   {
    "duration": 152,
    "start_time": "2022-05-22T07:23:15.434Z"
   },
   {
    "duration": 18,
    "start_time": "2022-05-22T07:23:15.588Z"
   },
   {
    "duration": 10,
    "start_time": "2022-05-22T07:23:15.608Z"
   },
   {
    "duration": 6,
    "start_time": "2022-05-22T07:23:15.621Z"
   },
   {
    "duration": 19,
    "start_time": "2022-05-22T07:23:15.628Z"
   },
   {
    "duration": 218,
    "start_time": "2022-05-22T07:23:15.649Z"
   },
   {
    "duration": 7,
    "start_time": "2022-05-22T07:23:15.871Z"
   },
   {
    "duration": 33,
    "start_time": "2022-05-22T07:23:15.882Z"
   },
   {
    "duration": 18,
    "start_time": "2022-05-22T07:23:15.917Z"
   },
   {
    "duration": 11,
    "start_time": "2022-05-22T07:23:15.940Z"
   },
   {
    "duration": 205,
    "start_time": "2022-05-22T07:23:15.960Z"
   },
   {
    "duration": 0,
    "start_time": "2022-05-22T07:23:16.174Z"
   },
   {
    "duration": 0,
    "start_time": "2022-05-22T07:23:16.175Z"
   },
   {
    "duration": 0,
    "start_time": "2022-05-22T07:23:16.175Z"
   },
   {
    "duration": 0,
    "start_time": "2022-05-22T07:23:16.176Z"
   },
   {
    "duration": 0,
    "start_time": "2022-05-22T07:23:16.177Z"
   },
   {
    "duration": 0,
    "start_time": "2022-05-22T07:23:16.178Z"
   },
   {
    "duration": 0,
    "start_time": "2022-05-22T07:23:16.180Z"
   },
   {
    "duration": 0,
    "start_time": "2022-05-22T07:23:16.182Z"
   },
   {
    "duration": 0,
    "start_time": "2022-05-22T07:23:16.185Z"
   },
   {
    "duration": 0,
    "start_time": "2022-05-22T07:23:16.190Z"
   },
   {
    "duration": 0,
    "start_time": "2022-05-22T07:23:16.191Z"
   },
   {
    "duration": 0,
    "start_time": "2022-05-22T07:23:16.193Z"
   },
   {
    "duration": 0,
    "start_time": "2022-05-22T07:23:16.194Z"
   },
   {
    "duration": 0,
    "start_time": "2022-05-22T07:23:16.196Z"
   },
   {
    "duration": 0,
    "start_time": "2022-05-22T07:23:16.199Z"
   },
   {
    "duration": 0,
    "start_time": "2022-05-22T07:23:16.200Z"
   },
   {
    "duration": 0,
    "start_time": "2022-05-22T07:23:16.201Z"
   },
   {
    "duration": 0,
    "start_time": "2022-05-22T07:23:16.202Z"
   },
   {
    "duration": 0,
    "start_time": "2022-05-22T07:23:16.203Z"
   },
   {
    "duration": 0,
    "start_time": "2022-05-22T07:23:16.205Z"
   },
   {
    "duration": 0,
    "start_time": "2022-05-22T07:23:16.206Z"
   },
   {
    "duration": 0,
    "start_time": "2022-05-22T07:23:16.207Z"
   },
   {
    "duration": 0,
    "start_time": "2022-05-22T07:23:16.208Z"
   },
   {
    "duration": 0,
    "start_time": "2022-05-22T07:23:16.210Z"
   },
   {
    "duration": 0,
    "start_time": "2022-05-22T07:23:16.211Z"
   },
   {
    "duration": 0,
    "start_time": "2022-05-22T07:23:16.212Z"
   },
   {
    "duration": 0,
    "start_time": "2022-05-22T07:23:16.213Z"
   },
   {
    "duration": 0,
    "start_time": "2022-05-22T07:23:16.214Z"
   },
   {
    "duration": 1,
    "start_time": "2022-05-22T07:23:16.241Z"
   },
   {
    "duration": 0,
    "start_time": "2022-05-22T07:23:16.243Z"
   },
   {
    "duration": 0,
    "start_time": "2022-05-22T07:23:16.244Z"
   },
   {
    "duration": 0,
    "start_time": "2022-05-22T07:23:16.245Z"
   },
   {
    "duration": 0,
    "start_time": "2022-05-22T07:23:16.246Z"
   },
   {
    "duration": 0,
    "start_time": "2022-05-22T07:23:16.249Z"
   },
   {
    "duration": 0,
    "start_time": "2022-05-22T07:23:16.250Z"
   },
   {
    "duration": 0,
    "start_time": "2022-05-22T07:23:16.253Z"
   },
   {
    "duration": 0,
    "start_time": "2022-05-22T07:23:16.254Z"
   },
   {
    "duration": 0,
    "start_time": "2022-05-22T07:23:16.255Z"
   },
   {
    "duration": 0,
    "start_time": "2022-05-22T07:23:16.256Z"
   },
   {
    "duration": 0,
    "start_time": "2022-05-22T07:23:16.257Z"
   },
   {
    "duration": 0,
    "start_time": "2022-05-22T07:23:16.259Z"
   },
   {
    "duration": 26,
    "start_time": "2022-05-22T07:25:02.289Z"
   },
   {
    "duration": 32,
    "start_time": "2022-05-22T07:25:12.315Z"
   },
   {
    "duration": 1287,
    "start_time": "2022-05-22T07:25:36.882Z"
   },
   {
    "duration": 891,
    "start_time": "2022-05-22T07:25:54.373Z"
   },
   {
    "duration": 1400,
    "start_time": "2022-05-22T07:26:19.673Z"
   },
   {
    "duration": 4,
    "start_time": "2022-05-22T07:26:21.078Z"
   },
   {
    "duration": 150,
    "start_time": "2022-05-22T07:26:21.105Z"
   },
   {
    "duration": 41,
    "start_time": "2022-05-22T07:26:21.260Z"
   },
   {
    "duration": 14,
    "start_time": "2022-05-22T07:26:21.303Z"
   },
   {
    "duration": 63,
    "start_time": "2022-05-22T07:26:21.319Z"
   },
   {
    "duration": 881,
    "start_time": "2022-05-22T07:26:21.384Z"
   },
   {
    "duration": 421,
    "start_time": "2022-05-22T07:26:22.267Z"
   },
   {
    "duration": 485,
    "start_time": "2022-05-22T07:26:22.690Z"
   },
   {
    "duration": 408,
    "start_time": "2022-05-22T07:26:23.180Z"
   },
   {
    "duration": 8,
    "start_time": "2022-05-22T07:26:23.592Z"
   },
   {
    "duration": 14,
    "start_time": "2022-05-22T07:26:23.602Z"
   },
   {
    "duration": 6,
    "start_time": "2022-05-22T07:26:23.618Z"
   },
   {
    "duration": 6,
    "start_time": "2022-05-22T07:26:23.642Z"
   },
   {
    "duration": 53,
    "start_time": "2022-05-22T07:26:23.659Z"
   },
   {
    "duration": 6,
    "start_time": "2022-05-22T07:26:23.714Z"
   },
   {
    "duration": 6,
    "start_time": "2022-05-22T07:26:23.723Z"
   },
   {
    "duration": 14,
    "start_time": "2022-05-22T07:26:23.731Z"
   },
   {
    "duration": 151,
    "start_time": "2022-05-22T07:26:23.748Z"
   },
   {
    "duration": 6,
    "start_time": "2022-05-22T07:26:23.901Z"
   },
   {
    "duration": 10,
    "start_time": "2022-05-22T07:26:23.908Z"
   },
   {
    "duration": 7,
    "start_time": "2022-05-22T07:26:23.921Z"
   },
   {
    "duration": 49,
    "start_time": "2022-05-22T07:26:23.941Z"
   },
   {
    "duration": 173,
    "start_time": "2022-05-22T07:26:23.992Z"
   },
   {
    "duration": 6,
    "start_time": "2022-05-22T07:26:24.168Z"
   },
   {
    "duration": 20,
    "start_time": "2022-05-22T07:26:24.176Z"
   },
   {
    "duration": 17,
    "start_time": "2022-05-22T07:26:24.199Z"
   },
   {
    "duration": 3,
    "start_time": "2022-05-22T07:26:24.222Z"
   },
   {
    "duration": 905,
    "start_time": "2022-05-22T07:26:24.227Z"
   },
   {
    "duration": 885,
    "start_time": "2022-05-22T07:26:25.133Z"
   },
   {
    "duration": 54,
    "start_time": "2022-05-22T07:26:26.020Z"
   },
   {
    "duration": 40,
    "start_time": "2022-05-22T07:26:26.076Z"
   },
   {
    "duration": 33,
    "start_time": "2022-05-22T07:26:26.118Z"
   },
   {
    "duration": 14,
    "start_time": "2022-05-22T07:26:26.157Z"
   },
   {
    "duration": 22,
    "start_time": "2022-05-22T07:26:26.172Z"
   },
   {
    "duration": 6,
    "start_time": "2022-05-22T07:26:26.196Z"
   },
   {
    "duration": 28033,
    "start_time": "2022-05-22T07:26:26.205Z"
   },
   {
    "duration": 25,
    "start_time": "2022-05-22T07:26:54.240Z"
   },
   {
    "duration": 12,
    "start_time": "2022-05-22T07:26:54.269Z"
   },
   {
    "duration": 10,
    "start_time": "2022-05-22T07:26:54.283Z"
   },
   {
    "duration": 9,
    "start_time": "2022-05-22T07:26:54.295Z"
   },
   {
    "duration": 6,
    "start_time": "2022-05-22T07:26:54.305Z"
   },
   {
    "duration": 8,
    "start_time": "2022-05-22T07:26:54.343Z"
   },
   {
    "duration": 26,
    "start_time": "2022-05-22T07:26:54.355Z"
   },
   {
    "duration": 356,
    "start_time": "2022-05-22T07:26:54.383Z"
   },
   {
    "duration": 13,
    "start_time": "2022-05-22T07:26:54.743Z"
   },
   {
    "duration": 23,
    "start_time": "2022-05-22T07:26:54.758Z"
   },
   {
    "duration": 6,
    "start_time": "2022-05-22T07:26:54.783Z"
   },
   {
    "duration": 11,
    "start_time": "2022-05-22T07:26:54.790Z"
   },
   {
    "duration": 11,
    "start_time": "2022-05-22T07:26:54.803Z"
   },
   {
    "duration": 930,
    "start_time": "2022-05-22T07:26:54.816Z"
   },
   {
    "duration": 16,
    "start_time": "2022-05-22T07:26:55.748Z"
   },
   {
    "duration": 132,
    "start_time": "2022-05-22T07:26:55.768Z"
   },
   {
    "duration": 5,
    "start_time": "2022-05-22T07:26:55.902Z"
   },
   {
    "duration": 52,
    "start_time": "2022-05-22T07:26:55.909Z"
   },
   {
    "duration": 5,
    "start_time": "2022-05-22T07:26:55.964Z"
   },
   {
    "duration": 490,
    "start_time": "2022-05-22T07:26:55.972Z"
   },
   {
    "duration": 4,
    "start_time": "2022-05-22T07:26:56.464Z"
   },
   {
    "duration": 1505,
    "start_time": "2022-05-22T07:26:56.469Z"
   },
   {
    "duration": 39,
    "start_time": "2022-05-22T07:26:58.047Z"
   },
   {
    "duration": 1838,
    "start_time": "2022-05-22T07:26:58.145Z"
   },
   {
    "duration": 99,
    "start_time": "2022-05-22T07:27:00.048Z"
   },
   {
    "duration": 1024,
    "start_time": "2022-05-22T07:27:00.148Z"
   },
   {
    "duration": 175,
    "start_time": "2022-05-22T07:27:01.175Z"
   },
   {
    "duration": 90,
    "start_time": "2022-05-22T07:27:01.358Z"
   },
   {
    "duration": 101,
    "start_time": "2022-05-22T07:27:01.450Z"
   },
   {
    "duration": 647,
    "start_time": "2022-05-22T07:27:01.553Z"
   },
   {
    "duration": 8,
    "start_time": "2022-05-22T07:27:02.201Z"
   },
   {
    "duration": 20,
    "start_time": "2022-05-22T07:27:02.212Z"
   },
   {
    "duration": 37,
    "start_time": "2022-05-22T07:27:02.234Z"
   },
   {
    "duration": 48,
    "start_time": "2022-05-22T07:27:50.081Z"
   },
   {
    "duration": 55,
    "start_time": "2022-05-22T07:28:33.368Z"
   },
   {
    "duration": 16,
    "start_time": "2022-05-22T07:38:03.295Z"
   },
   {
    "duration": 1384,
    "start_time": "2022-05-22T07:38:24.739Z"
   },
   {
    "duration": 3,
    "start_time": "2022-05-22T07:38:26.126Z"
   },
   {
    "duration": 169,
    "start_time": "2022-05-22T07:38:26.131Z"
   },
   {
    "duration": 26,
    "start_time": "2022-05-22T07:38:26.304Z"
   },
   {
    "duration": 35,
    "start_time": "2022-05-22T07:38:26.332Z"
   },
   {
    "duration": 81,
    "start_time": "2022-05-22T07:38:26.377Z"
   },
   {
    "duration": 1055,
    "start_time": "2022-05-22T07:38:26.463Z"
   },
   {
    "duration": 609,
    "start_time": "2022-05-22T07:38:27.522Z"
   },
   {
    "duration": 393,
    "start_time": "2022-05-22T07:38:28.134Z"
   },
   {
    "duration": 361,
    "start_time": "2022-05-22T07:38:28.531Z"
   },
   {
    "duration": 7,
    "start_time": "2022-05-22T07:38:28.894Z"
   },
   {
    "duration": 20,
    "start_time": "2022-05-22T07:38:28.903Z"
   },
   {
    "duration": 8,
    "start_time": "2022-05-22T07:38:28.925Z"
   },
   {
    "duration": 48,
    "start_time": "2022-05-22T07:38:28.935Z"
   },
   {
    "duration": 18,
    "start_time": "2022-05-22T07:38:28.985Z"
   },
   {
    "duration": 16,
    "start_time": "2022-05-22T07:38:29.006Z"
   },
   {
    "duration": 27,
    "start_time": "2022-05-22T07:38:29.024Z"
   },
   {
    "duration": 53,
    "start_time": "2022-05-22T07:38:29.056Z"
   },
   {
    "duration": 183,
    "start_time": "2022-05-22T07:38:29.112Z"
   },
   {
    "duration": 4,
    "start_time": "2022-05-22T07:38:29.297Z"
   },
   {
    "duration": 15,
    "start_time": "2022-05-22T07:38:29.303Z"
   },
   {
    "duration": 18,
    "start_time": "2022-05-22T07:38:29.320Z"
   },
   {
    "duration": 51,
    "start_time": "2022-05-22T07:38:29.342Z"
   },
   {
    "duration": 158,
    "start_time": "2022-05-22T07:38:29.395Z"
   },
   {
    "duration": 9,
    "start_time": "2022-05-22T07:38:29.555Z"
   },
   {
    "duration": 50,
    "start_time": "2022-05-22T07:38:29.567Z"
   },
   {
    "duration": 14,
    "start_time": "2022-05-22T07:38:29.619Z"
   },
   {
    "duration": 3,
    "start_time": "2022-05-22T07:38:29.638Z"
   },
   {
    "duration": 1163,
    "start_time": "2022-05-22T07:38:29.644Z"
   },
   {
    "duration": 1078,
    "start_time": "2022-05-22T07:38:30.809Z"
   },
   {
    "duration": 68,
    "start_time": "2022-05-22T07:38:31.889Z"
   },
   {
    "duration": 168,
    "start_time": "2022-05-22T07:38:31.959Z"
   },
   {
    "duration": 0,
    "start_time": "2022-05-22T07:38:32.129Z"
   },
   {
    "duration": 0,
    "start_time": "2022-05-22T07:38:32.131Z"
   },
   {
    "duration": 0,
    "start_time": "2022-05-22T07:38:32.134Z"
   },
   {
    "duration": 0,
    "start_time": "2022-05-22T07:38:32.136Z"
   },
   {
    "duration": 0,
    "start_time": "2022-05-22T07:38:32.149Z"
   },
   {
    "duration": 0,
    "start_time": "2022-05-22T07:38:32.150Z"
   },
   {
    "duration": 1,
    "start_time": "2022-05-22T07:38:32.159Z"
   },
   {
    "duration": 0,
    "start_time": "2022-05-22T07:38:32.161Z"
   },
   {
    "duration": 0,
    "start_time": "2022-05-22T07:38:32.164Z"
   },
   {
    "duration": 0,
    "start_time": "2022-05-22T07:38:32.164Z"
   },
   {
    "duration": 0,
    "start_time": "2022-05-22T07:38:32.167Z"
   },
   {
    "duration": 0,
    "start_time": "2022-05-22T07:38:32.168Z"
   },
   {
    "duration": 0,
    "start_time": "2022-05-22T07:38:32.169Z"
   },
   {
    "duration": 0,
    "start_time": "2022-05-22T07:38:32.171Z"
   },
   {
    "duration": 0,
    "start_time": "2022-05-22T07:38:32.172Z"
   },
   {
    "duration": 0,
    "start_time": "2022-05-22T07:38:32.174Z"
   },
   {
    "duration": 0,
    "start_time": "2022-05-22T07:38:32.175Z"
   },
   {
    "duration": 0,
    "start_time": "2022-05-22T07:38:32.177Z"
   },
   {
    "duration": 0,
    "start_time": "2022-05-22T07:38:32.179Z"
   },
   {
    "duration": 0,
    "start_time": "2022-05-22T07:38:32.180Z"
   },
   {
    "duration": 0,
    "start_time": "2022-05-22T07:38:32.182Z"
   },
   {
    "duration": 0,
    "start_time": "2022-05-22T07:38:32.183Z"
   },
   {
    "duration": 0,
    "start_time": "2022-05-22T07:38:32.386Z"
   },
   {
    "duration": 0,
    "start_time": "2022-05-22T07:38:32.388Z"
   },
   {
    "duration": 0,
    "start_time": "2022-05-22T07:38:32.390Z"
   },
   {
    "duration": 0,
    "start_time": "2022-05-22T07:38:32.391Z"
   },
   {
    "duration": 0,
    "start_time": "2022-05-22T07:38:32.393Z"
   },
   {
    "duration": 0,
    "start_time": "2022-05-22T07:38:32.395Z"
   },
   {
    "duration": 0,
    "start_time": "2022-05-22T07:38:32.397Z"
   },
   {
    "duration": 0,
    "start_time": "2022-05-22T07:38:32.399Z"
   },
   {
    "duration": 0,
    "start_time": "2022-05-22T07:38:32.401Z"
   },
   {
    "duration": 0,
    "start_time": "2022-05-22T07:38:32.403Z"
   },
   {
    "duration": 0,
    "start_time": "2022-05-22T07:38:32.404Z"
   },
   {
    "duration": 0,
    "start_time": "2022-05-22T07:38:32.406Z"
   },
   {
    "duration": 0,
    "start_time": "2022-05-22T07:38:32.408Z"
   },
   {
    "duration": 0,
    "start_time": "2022-05-22T07:38:32.409Z"
   },
   {
    "duration": 0,
    "start_time": "2022-05-22T07:38:32.410Z"
   },
   {
    "duration": 0,
    "start_time": "2022-05-22T07:38:32.447Z"
   },
   {
    "duration": 54,
    "start_time": "2022-05-22T07:38:56.467Z"
   },
   {
    "duration": 1016,
    "start_time": "2022-05-22T07:39:29.115Z"
   },
   {
    "duration": 57,
    "start_time": "2022-05-22T07:39:35.827Z"
   },
   {
    "duration": 74,
    "start_time": "2022-05-22T07:39:37.408Z"
   },
   {
    "duration": 58,
    "start_time": "2022-05-22T07:39:40.907Z"
   },
   {
    "duration": 877,
    "start_time": "2022-05-22T07:40:12.531Z"
   },
   {
    "duration": 48,
    "start_time": "2022-05-22T07:40:19.227Z"
   },
   {
    "duration": 60,
    "start_time": "2022-05-22T07:40:19.870Z"
   },
   {
    "duration": 30,
    "start_time": "2022-05-22T07:41:33.116Z"
   },
   {
    "duration": 23,
    "start_time": "2022-05-22T07:41:39.082Z"
   },
   {
    "duration": 28,
    "start_time": "2022-05-22T07:41:43.868Z"
   },
   {
    "duration": 16,
    "start_time": "2022-05-22T07:42:07.158Z"
   },
   {
    "duration": 1034,
    "start_time": "2022-05-22T07:42:10.899Z"
   },
   {
    "duration": 27,
    "start_time": "2022-05-22T07:42:15.065Z"
   },
   {
    "duration": 1439,
    "start_time": "2022-05-22T07:42:26.615Z"
   },
   {
    "duration": 4,
    "start_time": "2022-05-22T07:42:28.057Z"
   },
   {
    "duration": 164,
    "start_time": "2022-05-22T07:42:28.062Z"
   },
   {
    "duration": 34,
    "start_time": "2022-05-22T07:42:28.229Z"
   },
   {
    "duration": 35,
    "start_time": "2022-05-22T07:42:28.265Z"
   },
   {
    "duration": 41,
    "start_time": "2022-05-22T07:42:28.302Z"
   },
   {
    "duration": 981,
    "start_time": "2022-05-22T07:42:28.350Z"
   },
   {
    "duration": 455,
    "start_time": "2022-05-22T07:42:29.333Z"
   },
   {
    "duration": 421,
    "start_time": "2022-05-22T07:42:29.790Z"
   },
   {
    "duration": 380,
    "start_time": "2022-05-22T07:42:30.215Z"
   },
   {
    "duration": 9,
    "start_time": "2022-05-22T07:42:30.597Z"
   },
   {
    "duration": 28,
    "start_time": "2022-05-22T07:42:30.608Z"
   },
   {
    "duration": 12,
    "start_time": "2022-05-22T07:42:30.638Z"
   },
   {
    "duration": 67,
    "start_time": "2022-05-22T07:42:30.651Z"
   },
   {
    "duration": 71,
    "start_time": "2022-05-22T07:42:30.720Z"
   },
   {
    "duration": 11,
    "start_time": "2022-05-22T07:42:30.793Z"
   },
   {
    "duration": 20,
    "start_time": "2022-05-22T07:42:30.806Z"
   },
   {
    "duration": 17,
    "start_time": "2022-05-22T07:42:30.828Z"
   },
   {
    "duration": 191,
    "start_time": "2022-05-22T07:42:30.847Z"
   },
   {
    "duration": 9,
    "start_time": "2022-05-22T07:42:31.040Z"
   },
   {
    "duration": 45,
    "start_time": "2022-05-22T07:42:31.051Z"
   },
   {
    "duration": 20,
    "start_time": "2022-05-22T07:42:31.098Z"
   },
   {
    "duration": 12,
    "start_time": "2022-05-22T07:42:31.119Z"
   },
   {
    "duration": 167,
    "start_time": "2022-05-22T07:42:31.132Z"
   },
   {
    "duration": 3,
    "start_time": "2022-05-22T07:42:31.300Z"
   },
   {
    "duration": 19,
    "start_time": "2022-05-22T07:42:31.305Z"
   },
   {
    "duration": 31,
    "start_time": "2022-05-22T07:42:31.326Z"
   },
   {
    "duration": 26,
    "start_time": "2022-05-22T07:42:31.367Z"
   },
   {
    "duration": 1029,
    "start_time": "2022-05-22T07:42:31.395Z"
   },
   {
    "duration": 31,
    "start_time": "2022-05-22T07:42:32.426Z"
   },
   {
    "duration": 875,
    "start_time": "2022-05-22T07:42:32.460Z"
   },
   {
    "duration": 58,
    "start_time": "2022-05-22T07:42:33.336Z"
   },
   {
    "duration": 180,
    "start_time": "2022-05-22T07:42:33.396Z"
   },
   {
    "duration": 9,
    "start_time": "2022-05-22T07:42:33.578Z"
   },
   {
    "duration": 144,
    "start_time": "2022-05-22T07:42:33.590Z"
   },
   {
    "duration": 0,
    "start_time": "2022-05-22T07:42:33.736Z"
   },
   {
    "duration": 0,
    "start_time": "2022-05-22T07:42:33.737Z"
   },
   {
    "duration": 0,
    "start_time": "2022-05-22T07:42:33.738Z"
   },
   {
    "duration": 0,
    "start_time": "2022-05-22T07:42:33.739Z"
   },
   {
    "duration": 0,
    "start_time": "2022-05-22T07:42:33.741Z"
   },
   {
    "duration": 0,
    "start_time": "2022-05-22T07:42:33.743Z"
   },
   {
    "duration": 0,
    "start_time": "2022-05-22T07:42:33.744Z"
   },
   {
    "duration": 0,
    "start_time": "2022-05-22T07:42:33.746Z"
   },
   {
    "duration": 0,
    "start_time": "2022-05-22T07:42:33.747Z"
   },
   {
    "duration": 0,
    "start_time": "2022-05-22T07:42:33.750Z"
   },
   {
    "duration": 0,
    "start_time": "2022-05-22T07:42:33.751Z"
   },
   {
    "duration": 0,
    "start_time": "2022-05-22T07:42:33.752Z"
   },
   {
    "duration": 0,
    "start_time": "2022-05-22T07:42:33.755Z"
   },
   {
    "duration": 0,
    "start_time": "2022-05-22T07:42:33.756Z"
   },
   {
    "duration": 0,
    "start_time": "2022-05-22T07:42:33.757Z"
   },
   {
    "duration": 0,
    "start_time": "2022-05-22T07:42:33.759Z"
   },
   {
    "duration": 0,
    "start_time": "2022-05-22T07:42:33.760Z"
   },
   {
    "duration": 0,
    "start_time": "2022-05-22T07:42:33.760Z"
   },
   {
    "duration": 0,
    "start_time": "2022-05-22T07:42:33.761Z"
   },
   {
    "duration": 0,
    "start_time": "2022-05-22T07:42:33.762Z"
   },
   {
    "duration": 0,
    "start_time": "2022-05-22T07:42:33.764Z"
   },
   {
    "duration": 0,
    "start_time": "2022-05-22T07:42:33.766Z"
   },
   {
    "duration": 1,
    "start_time": "2022-05-22T07:42:33.768Z"
   },
   {
    "duration": 0,
    "start_time": "2022-05-22T07:42:33.770Z"
   },
   {
    "duration": 0,
    "start_time": "2022-05-22T07:42:33.771Z"
   },
   {
    "duration": 0,
    "start_time": "2022-05-22T07:42:33.772Z"
   },
   {
    "duration": 0,
    "start_time": "2022-05-22T07:42:33.773Z"
   },
   {
    "duration": 0,
    "start_time": "2022-05-22T07:42:33.774Z"
   },
   {
    "duration": 0,
    "start_time": "2022-05-22T07:42:33.776Z"
   },
   {
    "duration": 0,
    "start_time": "2022-05-22T07:42:33.777Z"
   },
   {
    "duration": 0,
    "start_time": "2022-05-22T07:42:33.778Z"
   },
   {
    "duration": 0,
    "start_time": "2022-05-22T07:42:33.779Z"
   },
   {
    "duration": 0,
    "start_time": "2022-05-22T07:42:33.780Z"
   },
   {
    "duration": 1,
    "start_time": "2022-05-22T07:42:33.781Z"
   },
   {
    "duration": 0,
    "start_time": "2022-05-22T07:42:33.783Z"
   },
   {
    "duration": 0,
    "start_time": "2022-05-22T07:42:33.784Z"
   },
   {
    "duration": 1425,
    "start_time": "2022-05-22T07:44:13.000Z"
   },
   {
    "duration": 2,
    "start_time": "2022-05-22T07:44:14.429Z"
   },
   {
    "duration": 210,
    "start_time": "2022-05-22T07:44:14.433Z"
   },
   {
    "duration": 54,
    "start_time": "2022-05-22T07:44:14.646Z"
   },
   {
    "duration": 20,
    "start_time": "2022-05-22T07:44:14.702Z"
   },
   {
    "duration": 50,
    "start_time": "2022-05-22T07:44:14.723Z"
   },
   {
    "duration": 976,
    "start_time": "2022-05-22T07:44:14.775Z"
   },
   {
    "duration": 527,
    "start_time": "2022-05-22T07:44:15.759Z"
   },
   {
    "duration": 440,
    "start_time": "2022-05-22T07:44:16.288Z"
   },
   {
    "duration": 402,
    "start_time": "2022-05-22T07:44:16.734Z"
   },
   {
    "duration": 16,
    "start_time": "2022-05-22T07:44:17.138Z"
   },
   {
    "duration": 81,
    "start_time": "2022-05-22T07:44:17.156Z"
   },
   {
    "duration": 8,
    "start_time": "2022-05-22T07:44:17.239Z"
   },
   {
    "duration": 67,
    "start_time": "2022-05-22T07:44:17.250Z"
   },
   {
    "duration": 11,
    "start_time": "2022-05-22T07:44:17.320Z"
   },
   {
    "duration": 82,
    "start_time": "2022-05-22T07:44:17.333Z"
   },
   {
    "duration": 12,
    "start_time": "2022-05-22T07:44:17.417Z"
   },
   {
    "duration": 48,
    "start_time": "2022-05-22T07:44:17.432Z"
   },
   {
    "duration": 225,
    "start_time": "2022-05-22T07:44:17.483Z"
   },
   {
    "duration": 15,
    "start_time": "2022-05-22T07:44:17.710Z"
   },
   {
    "duration": 9,
    "start_time": "2022-05-22T07:44:17.727Z"
   },
   {
    "duration": 69,
    "start_time": "2022-05-22T07:44:17.737Z"
   },
   {
    "duration": 10,
    "start_time": "2022-05-22T07:44:17.808Z"
   },
   {
    "duration": 188,
    "start_time": "2022-05-22T07:44:17.820Z"
   },
   {
    "duration": 4,
    "start_time": "2022-05-22T07:44:18.010Z"
   },
   {
    "duration": 14,
    "start_time": "2022-05-22T07:44:18.016Z"
   },
   {
    "duration": 17,
    "start_time": "2022-05-22T07:44:18.031Z"
   },
   {
    "duration": 52,
    "start_time": "2022-05-22T07:44:18.053Z"
   },
   {
    "duration": 1000,
    "start_time": "2022-05-22T07:44:18.107Z"
   },
   {
    "duration": 19,
    "start_time": "2022-05-22T07:44:19.109Z"
   },
   {
    "duration": 999,
    "start_time": "2022-05-22T07:44:19.130Z"
   },
   {
    "duration": 63,
    "start_time": "2022-05-22T07:44:20.130Z"
   },
   {
    "duration": 39,
    "start_time": "2022-05-22T07:44:20.194Z"
   },
   {
    "duration": 10,
    "start_time": "2022-05-22T07:44:20.235Z"
   },
   {
    "duration": 206,
    "start_time": "2022-05-22T07:44:20.246Z"
   },
   {
    "duration": 0,
    "start_time": "2022-05-22T07:44:20.453Z"
   },
   {
    "duration": 0,
    "start_time": "2022-05-22T07:44:20.454Z"
   },
   {
    "duration": 0,
    "start_time": "2022-05-22T07:44:20.455Z"
   },
   {
    "duration": 0,
    "start_time": "2022-05-22T07:44:20.456Z"
   },
   {
    "duration": 0,
    "start_time": "2022-05-22T07:44:20.458Z"
   },
   {
    "duration": 0,
    "start_time": "2022-05-22T07:44:20.458Z"
   },
   {
    "duration": 0,
    "start_time": "2022-05-22T07:44:20.466Z"
   },
   {
    "duration": 0,
    "start_time": "2022-05-22T07:44:20.467Z"
   },
   {
    "duration": 0,
    "start_time": "2022-05-22T07:44:20.472Z"
   },
   {
    "duration": 0,
    "start_time": "2022-05-22T07:44:20.473Z"
   },
   {
    "duration": 0,
    "start_time": "2022-05-22T07:44:20.477Z"
   },
   {
    "duration": 0,
    "start_time": "2022-05-22T07:44:20.478Z"
   },
   {
    "duration": 0,
    "start_time": "2022-05-22T07:44:20.480Z"
   },
   {
    "duration": 0,
    "start_time": "2022-05-22T07:44:20.481Z"
   },
   {
    "duration": 0,
    "start_time": "2022-05-22T07:44:20.487Z"
   },
   {
    "duration": 0,
    "start_time": "2022-05-22T07:44:20.489Z"
   },
   {
    "duration": 0,
    "start_time": "2022-05-22T07:44:20.491Z"
   },
   {
    "duration": 0,
    "start_time": "2022-05-22T07:44:20.492Z"
   },
   {
    "duration": 0,
    "start_time": "2022-05-22T07:44:20.652Z"
   },
   {
    "duration": 0,
    "start_time": "2022-05-22T07:44:20.654Z"
   },
   {
    "duration": 0,
    "start_time": "2022-05-22T07:44:20.655Z"
   },
   {
    "duration": 0,
    "start_time": "2022-05-22T07:44:20.657Z"
   },
   {
    "duration": 0,
    "start_time": "2022-05-22T07:44:20.658Z"
   },
   {
    "duration": 0,
    "start_time": "2022-05-22T07:44:20.659Z"
   },
   {
    "duration": 0,
    "start_time": "2022-05-22T07:44:20.661Z"
   },
   {
    "duration": 0,
    "start_time": "2022-05-22T07:44:20.662Z"
   },
   {
    "duration": 0,
    "start_time": "2022-05-22T07:44:20.664Z"
   },
   {
    "duration": 0,
    "start_time": "2022-05-22T07:44:20.665Z"
   },
   {
    "duration": 0,
    "start_time": "2022-05-22T07:44:20.667Z"
   },
   {
    "duration": 0,
    "start_time": "2022-05-22T07:44:20.669Z"
   },
   {
    "duration": 0,
    "start_time": "2022-05-22T07:44:20.671Z"
   },
   {
    "duration": 0,
    "start_time": "2022-05-22T07:44:20.673Z"
   },
   {
    "duration": 1,
    "start_time": "2022-05-22T07:44:20.674Z"
   },
   {
    "duration": 0,
    "start_time": "2022-05-22T07:44:20.676Z"
   },
   {
    "duration": 0,
    "start_time": "2022-05-22T07:44:20.678Z"
   },
   {
    "duration": 0,
    "start_time": "2022-05-22T07:44:20.680Z"
   },
   {
    "duration": 12,
    "start_time": "2022-05-22T07:46:35.340Z"
   },
   {
    "duration": 4,
    "start_time": "2022-05-22T07:46:38.198Z"
   },
   {
    "duration": 17549,
    "start_time": "2022-05-22T07:46:41.274Z"
   },
   {
    "duration": 1480,
    "start_time": "2022-05-22T07:49:04.531Z"
   },
   {
    "duration": 3,
    "start_time": "2022-05-22T07:49:06.015Z"
   },
   {
    "duration": 171,
    "start_time": "2022-05-22T07:49:06.020Z"
   },
   {
    "duration": 40,
    "start_time": "2022-05-22T07:49:06.193Z"
   },
   {
    "duration": 29,
    "start_time": "2022-05-22T07:49:06.236Z"
   },
   {
    "duration": 87,
    "start_time": "2022-05-22T07:49:06.267Z"
   },
   {
    "duration": 1046,
    "start_time": "2022-05-22T07:49:06.357Z"
   },
   {
    "duration": 567,
    "start_time": "2022-05-22T07:49:07.407Z"
   },
   {
    "duration": 415,
    "start_time": "2022-05-22T07:49:07.976Z"
   },
   {
    "duration": 368,
    "start_time": "2022-05-22T07:49:08.394Z"
   },
   {
    "duration": 15,
    "start_time": "2022-05-22T07:49:08.771Z"
   },
   {
    "duration": 17,
    "start_time": "2022-05-22T07:49:08.790Z"
   },
   {
    "duration": 11,
    "start_time": "2022-05-22T07:49:08.811Z"
   },
   {
    "duration": 10,
    "start_time": "2022-05-22T07:49:08.825Z"
   },
   {
    "duration": 50,
    "start_time": "2022-05-22T07:49:08.837Z"
   },
   {
    "duration": 188,
    "start_time": "2022-05-22T07:49:08.889Z"
   },
   {
    "duration": 9,
    "start_time": "2022-05-22T07:49:09.084Z"
   },
   {
    "duration": 25,
    "start_time": "2022-05-22T07:49:09.095Z"
   },
   {
    "duration": 55,
    "start_time": "2022-05-22T07:49:09.122Z"
   },
   {
    "duration": 10,
    "start_time": "2022-05-22T07:49:09.179Z"
   },
   {
    "duration": 20,
    "start_time": "2022-05-22T07:49:09.191Z"
   },
   {
    "duration": 17,
    "start_time": "2022-05-22T07:49:09.213Z"
   },
   {
    "duration": 31,
    "start_time": "2022-05-22T07:49:09.233Z"
   },
   {
    "duration": 144,
    "start_time": "2022-05-22T07:49:09.266Z"
   },
   {
    "duration": 9,
    "start_time": "2022-05-22T07:49:09.412Z"
   },
   {
    "duration": 24,
    "start_time": "2022-05-22T07:49:09.423Z"
   },
   {
    "duration": 46,
    "start_time": "2022-05-22T07:49:09.449Z"
   },
   {
    "duration": 13,
    "start_time": "2022-05-22T07:49:09.497Z"
   },
   {
    "duration": 984,
    "start_time": "2022-05-22T07:49:09.512Z"
   },
   {
    "duration": 22,
    "start_time": "2022-05-22T07:49:10.502Z"
   },
   {
    "duration": 982,
    "start_time": "2022-05-22T07:49:10.526Z"
   },
   {
    "duration": 66,
    "start_time": "2022-05-22T07:49:11.511Z"
   },
   {
    "duration": 42,
    "start_time": "2022-05-22T07:49:11.579Z"
   },
   {
    "duration": 6,
    "start_time": "2022-05-22T07:49:11.623Z"
   },
   {
    "duration": 12,
    "start_time": "2022-05-22T07:49:11.641Z"
   },
   {
    "duration": 35,
    "start_time": "2022-05-22T07:49:11.655Z"
   },
   {
    "duration": 16355,
    "start_time": "2022-05-22T07:49:11.692Z"
   },
   {
    "duration": 165,
    "start_time": "2022-05-22T07:49:28.049Z"
   },
   {
    "duration": 0,
    "start_time": "2022-05-22T07:49:28.217Z"
   },
   {
    "duration": 0,
    "start_time": "2022-05-22T07:49:28.218Z"
   },
   {
    "duration": 0,
    "start_time": "2022-05-22T07:49:28.220Z"
   },
   {
    "duration": 0,
    "start_time": "2022-05-22T07:49:28.221Z"
   },
   {
    "duration": 0,
    "start_time": "2022-05-22T07:49:28.222Z"
   },
   {
    "duration": 1,
    "start_time": "2022-05-22T07:49:28.222Z"
   },
   {
    "duration": 0,
    "start_time": "2022-05-22T07:49:28.223Z"
   },
   {
    "duration": 0,
    "start_time": "2022-05-22T07:49:28.225Z"
   },
   {
    "duration": 0,
    "start_time": "2022-05-22T07:49:28.226Z"
   },
   {
    "duration": 0,
    "start_time": "2022-05-22T07:49:28.244Z"
   },
   {
    "duration": 0,
    "start_time": "2022-05-22T07:49:28.245Z"
   },
   {
    "duration": 0,
    "start_time": "2022-05-22T07:49:28.245Z"
   },
   {
    "duration": 0,
    "start_time": "2022-05-22T07:49:28.246Z"
   },
   {
    "duration": 0,
    "start_time": "2022-05-22T07:49:28.247Z"
   },
   {
    "duration": 0,
    "start_time": "2022-05-22T07:49:28.248Z"
   },
   {
    "duration": 0,
    "start_time": "2022-05-22T07:49:28.249Z"
   },
   {
    "duration": 1,
    "start_time": "2022-05-22T07:49:28.249Z"
   },
   {
    "duration": 0,
    "start_time": "2022-05-22T07:49:28.250Z"
   },
   {
    "duration": 0,
    "start_time": "2022-05-22T07:49:28.251Z"
   },
   {
    "duration": 0,
    "start_time": "2022-05-22T07:49:28.252Z"
   },
   {
    "duration": 0,
    "start_time": "2022-05-22T07:49:28.253Z"
   },
   {
    "duration": 0,
    "start_time": "2022-05-22T07:49:28.254Z"
   },
   {
    "duration": 0,
    "start_time": "2022-05-22T07:49:28.254Z"
   },
   {
    "duration": 0,
    "start_time": "2022-05-22T07:49:28.255Z"
   },
   {
    "duration": 0,
    "start_time": "2022-05-22T07:49:28.256Z"
   },
   {
    "duration": 0,
    "start_time": "2022-05-22T07:49:28.257Z"
   },
   {
    "duration": 0,
    "start_time": "2022-05-22T07:49:28.258Z"
   },
   {
    "duration": 0,
    "start_time": "2022-05-22T07:49:28.259Z"
   },
   {
    "duration": 0,
    "start_time": "2022-05-22T07:49:28.260Z"
   },
   {
    "duration": 0,
    "start_time": "2022-05-22T07:49:28.261Z"
   },
   {
    "duration": 0,
    "start_time": "2022-05-22T07:49:28.261Z"
   },
   {
    "duration": 0,
    "start_time": "2022-05-22T07:49:28.262Z"
   },
   {
    "duration": 6,
    "start_time": "2022-05-22T07:50:07.577Z"
   },
   {
    "duration": 16669,
    "start_time": "2022-05-22T07:50:08.398Z"
   },
   {
    "duration": 16985,
    "start_time": "2022-05-22T07:51:28.712Z"
   },
   {
    "duration": 16344,
    "start_time": "2022-05-22T07:52:05.872Z"
   },
   {
    "duration": 16540,
    "start_time": "2022-05-22T07:55:44.071Z"
   },
   {
    "duration": 7,
    "start_time": "2022-05-22T08:04:16.527Z"
   },
   {
    "duration": 14,
    "start_time": "2022-05-22T08:07:23.677Z"
   },
   {
    "duration": 43,
    "start_time": "2022-05-22T08:07:32.090Z"
   },
   {
    "duration": 8,
    "start_time": "2022-05-22T08:07:33.676Z"
   },
   {
    "duration": 13,
    "start_time": "2022-05-22T08:07:36.363Z"
   },
   {
    "duration": 42,
    "start_time": "2022-05-22T08:07:37.545Z"
   },
   {
    "duration": 12,
    "start_time": "2022-05-22T08:07:37.823Z"
   },
   {
    "duration": 39,
    "start_time": "2022-05-22T08:07:41.912Z"
   },
   {
    "duration": 11,
    "start_time": "2022-05-22T08:07:42.172Z"
   },
   {
    "duration": 14,
    "start_time": "2022-05-22T08:11:29.299Z"
   },
   {
    "duration": 27,
    "start_time": "2022-05-22T08:15:04.902Z"
   },
   {
    "duration": 13,
    "start_time": "2022-05-22T08:15:10.385Z"
   },
   {
    "duration": 13,
    "start_time": "2022-05-22T08:15:13.408Z"
   },
   {
    "duration": 12,
    "start_time": "2022-05-22T08:15:14.110Z"
   },
   {
    "duration": 12,
    "start_time": "2022-05-22T08:16:23.119Z"
   },
   {
    "duration": 20,
    "start_time": "2022-05-22T08:16:33.639Z"
   },
   {
    "duration": 4,
    "start_time": "2022-05-22T08:17:38.377Z"
   },
   {
    "duration": 4,
    "start_time": "2022-05-22T08:17:41.703Z"
   },
   {
    "duration": 395083,
    "start_time": "2022-05-22T08:17:42.832Z"
   },
   {
    "duration": 5,
    "start_time": "2022-05-22T08:27:06.486Z"
   },
   {
    "duration": 217018,
    "start_time": "2022-05-22T08:27:08.291Z"
   },
   {
    "duration": 8,
    "start_time": "2022-05-22T09:02:12.565Z"
   },
   {
    "duration": 145494,
    "start_time": "2022-05-22T09:02:14.267Z"
   },
   {
    "duration": 9,
    "start_time": "2022-05-22T09:07:04.296Z"
   },
   {
    "duration": 16,
    "start_time": "2022-05-22T09:07:07.567Z"
   },
   {
    "duration": 664,
    "start_time": "2022-05-22T09:07:11.968Z"
   },
   {
    "duration": 55,
    "start_time": "2022-05-22T09:07:12.633Z"
   },
   {
    "duration": 52,
    "start_time": "2022-05-22T09:08:35.825Z"
   },
   {
    "duration": 7,
    "start_time": "2022-05-22T09:10:32.285Z"
   },
   {
    "duration": 4,
    "start_time": "2022-05-22T09:11:12.612Z"
   },
   {
    "duration": 3,
    "start_time": "2022-05-22T09:11:17.804Z"
   },
   {
    "duration": 47,
    "start_time": "2022-05-22T09:11:57.829Z"
   },
   {
    "duration": 170327,
    "start_time": "2022-05-22T09:12:02.621Z"
   },
   {
    "duration": 4,
    "start_time": "2022-05-22T09:16:59.810Z"
   },
   {
    "duration": 8335,
    "start_time": "2022-05-22T09:17:01.806Z"
   },
   {
    "duration": 33,
    "start_time": "2022-05-22T09:17:54.513Z"
   },
   {
    "duration": 11,
    "start_time": "2022-05-22T09:18:32.531Z"
   },
   {
    "duration": 10,
    "start_time": "2022-05-22T09:18:38.586Z"
   },
   {
    "duration": 9,
    "start_time": "2022-05-22T09:18:44.114Z"
   },
   {
    "duration": 13,
    "start_time": "2022-05-22T09:19:04.442Z"
   },
   {
    "duration": 32,
    "start_time": "2022-05-22T09:37:46.238Z"
   },
   {
    "duration": 37,
    "start_time": "2022-05-22T09:38:57.904Z"
   },
   {
    "duration": 21,
    "start_time": "2022-05-22T09:39:35.879Z"
   },
   {
    "duration": 25,
    "start_time": "2022-05-22T09:39:50.025Z"
   },
   {
    "duration": 21,
    "start_time": "2022-05-22T09:40:08.329Z"
   },
   {
    "duration": 13899,
    "start_time": "2022-05-22T09:45:35.535Z"
   },
   {
    "duration": 15089,
    "start_time": "2022-05-22T09:46:09.415Z"
   },
   {
    "duration": 23,
    "start_time": "2022-05-22T09:54:24.652Z"
   },
   {
    "duration": 9,
    "start_time": "2022-05-22T09:56:01.494Z"
   },
   {
    "duration": 9,
    "start_time": "2022-05-22T09:56:03.621Z"
   },
   {
    "duration": 142946,
    "start_time": "2022-05-22T10:01:04.834Z"
   },
   {
    "duration": 143791,
    "start_time": "2022-05-22T10:04:00.597Z"
   },
   {
    "duration": 5,
    "start_time": "2022-05-22T10:06:34.266Z"
   },
   {
    "duration": 140781,
    "start_time": "2022-05-22T10:06:40.465Z"
   },
   {
    "duration": 420,
    "start_time": "2022-05-22T10:09:50.184Z"
   },
   {
    "duration": 37,
    "start_time": "2022-05-22T10:10:32.993Z"
   },
   {
    "duration": 40,
    "start_time": "2022-05-22T10:11:01.409Z"
   },
   {
    "duration": 491902,
    "start_time": "2022-05-22T10:13:53.243Z"
   },
   {
    "duration": 37,
    "start_time": "2022-05-22T10:27:41.277Z"
   },
   {
    "duration": 352,
    "start_time": "2022-05-22T10:28:08.307Z"
   },
   {
    "duration": 60,
    "start_time": "2022-05-22T10:28:12.083Z"
   },
   {
    "duration": 15,
    "start_time": "2022-05-22T10:28:14.395Z"
   },
   {
    "duration": 16,
    "start_time": "2022-05-22T10:30:20.257Z"
   },
   {
    "duration": 49,
    "start_time": "2022-05-22T10:41:07.874Z"
   },
   {
    "duration": 1773,
    "start_time": "2022-05-22T10:41:45.170Z"
   },
   {
    "duration": 15,
    "start_time": "2022-05-22T10:46:47.790Z"
   },
   {
    "duration": 1479,
    "start_time": "2022-05-22T10:48:02.497Z"
   },
   {
    "duration": 45,
    "start_time": "2022-05-22T11:03:22.445Z"
   },
   {
    "duration": 56,
    "start_time": "2022-05-22T11:03:23.975Z"
   },
   {
    "duration": 63,
    "start_time": "2022-05-22T11:03:24.738Z"
   },
   {
    "duration": 52,
    "start_time": "2022-05-22T11:10:21.466Z"
   },
   {
    "duration": 61,
    "start_time": "2022-05-22T11:10:22.203Z"
   },
   {
    "duration": 472,
    "start_time": "2022-05-22T11:10:31.422Z"
   },
   {
    "duration": 360,
    "start_time": "2022-05-22T11:10:37.926Z"
   },
   {
    "duration": 7,
    "start_time": "2022-05-22T11:10:47.392Z"
   },
   {
    "duration": 7,
    "start_time": "2022-05-22T11:10:47.925Z"
   },
   {
    "duration": 4,
    "start_time": "2022-05-22T11:16:58.819Z"
   },
   {
    "duration": 58,
    "start_time": "2022-05-22T11:17:23.008Z"
   },
   {
    "duration": 5,
    "start_time": "2022-05-22T11:17:28.113Z"
   },
   {
    "duration": 170,
    "start_time": "2022-05-22T11:17:28.721Z"
   },
   {
    "duration": 215,
    "start_time": "2022-05-22T11:18:01.647Z"
   },
   {
    "duration": 170,
    "start_time": "2022-05-22T11:18:08.592Z"
   },
   {
    "duration": 208,
    "start_time": "2022-05-22T11:18:09.818Z"
   },
   {
    "duration": 167,
    "start_time": "2022-05-22T11:18:13.404Z"
   },
   {
    "duration": 211,
    "start_time": "2022-05-22T11:18:13.573Z"
   },
   {
    "duration": 7,
    "start_time": "2022-05-22T11:18:24.396Z"
   },
   {
    "duration": 8,
    "start_time": "2022-05-22T11:18:24.859Z"
   },
   {
    "duration": 4,
    "start_time": "2022-05-22T11:20:20.525Z"
   },
   {
    "duration": 182,
    "start_time": "2022-05-22T11:20:20.894Z"
   },
   {
    "duration": 183,
    "start_time": "2022-05-22T11:20:21.716Z"
   },
   {
    "duration": 18,
    "start_time": "2022-05-22T11:20:24.740Z"
   },
   {
    "duration": 7,
    "start_time": "2022-05-22T11:20:25.172Z"
   },
   {
    "duration": 1625,
    "start_time": "2022-05-22T11:25:30.232Z"
   },
   {
    "duration": 42,
    "start_time": "2022-05-22T11:26:12.668Z"
   },
   {
    "duration": 23,
    "start_time": "2022-05-22T11:26:27.532Z"
   },
   {
    "duration": 2118,
    "start_time": "2022-05-22T11:28:06.435Z"
   },
   {
    "duration": 410,
    "start_time": "2022-05-22T11:30:22.302Z"
   },
   {
    "duration": 874,
    "start_time": "2022-05-22T11:31:07.480Z"
   },
   {
    "duration": 48,
    "start_time": "2022-05-22T11:41:46.982Z"
   },
   {
    "duration": 41,
    "start_time": "2022-05-22T11:41:47.980Z"
   },
   {
    "duration": 1396,
    "start_time": "2022-05-22T11:49:06.371Z"
   },
   {
    "duration": 3,
    "start_time": "2022-05-22T11:49:07.770Z"
   },
   {
    "duration": 235,
    "start_time": "2022-05-22T11:49:07.774Z"
   },
   {
    "duration": 26,
    "start_time": "2022-05-22T11:49:08.010Z"
   },
   {
    "duration": 13,
    "start_time": "2022-05-22T11:49:08.038Z"
   },
   {
    "duration": 43,
    "start_time": "2022-05-22T11:49:08.053Z"
   },
   {
    "duration": 805,
    "start_time": "2022-05-22T11:49:08.098Z"
   },
   {
    "duration": 406,
    "start_time": "2022-05-22T11:49:08.905Z"
   },
   {
    "duration": 347,
    "start_time": "2022-05-22T11:49:09.313Z"
   },
   {
    "duration": 348,
    "start_time": "2022-05-22T11:49:09.661Z"
   },
   {
    "duration": 6,
    "start_time": "2022-05-22T11:49:10.011Z"
   },
   {
    "duration": 24,
    "start_time": "2022-05-22T11:49:10.018Z"
   },
   {
    "duration": 6,
    "start_time": "2022-05-22T11:49:10.043Z"
   },
   {
    "duration": 5,
    "start_time": "2022-05-22T11:49:10.052Z"
   },
   {
    "duration": 8,
    "start_time": "2022-05-22T11:49:10.058Z"
   },
   {
    "duration": 142,
    "start_time": "2022-05-22T11:49:10.067Z"
   },
   {
    "duration": 3,
    "start_time": "2022-05-22T11:49:10.211Z"
   },
   {
    "duration": 25,
    "start_time": "2022-05-22T11:49:10.216Z"
   },
   {
    "duration": 21,
    "start_time": "2022-05-22T11:49:10.243Z"
   },
   {
    "duration": 5,
    "start_time": "2022-05-22T11:49:10.266Z"
   },
   {
    "duration": 10,
    "start_time": "2022-05-22T11:49:10.273Z"
   },
   {
    "duration": 9,
    "start_time": "2022-05-22T11:49:10.284Z"
   },
   {
    "duration": 7,
    "start_time": "2022-05-22T11:49:10.295Z"
   },
   {
    "duration": 167,
    "start_time": "2022-05-22T11:49:10.303Z"
   },
   {
    "duration": 4,
    "start_time": "2022-05-22T11:49:10.471Z"
   },
   {
    "duration": 16,
    "start_time": "2022-05-22T11:49:10.476Z"
   },
   {
    "duration": 13,
    "start_time": "2022-05-22T11:49:10.493Z"
   },
   {
    "duration": 3,
    "start_time": "2022-05-22T11:49:10.508Z"
   },
   {
    "duration": 775,
    "start_time": "2022-05-22T11:49:10.540Z"
   },
   {
    "duration": 25,
    "start_time": "2022-05-22T11:49:11.317Z"
   },
   {
    "duration": 779,
    "start_time": "2022-05-22T11:49:11.344Z"
   },
   {
    "duration": 47,
    "start_time": "2022-05-22T11:49:12.126Z"
   },
   {
    "duration": 47,
    "start_time": "2022-05-22T11:49:12.175Z"
   },
   {
    "duration": 21,
    "start_time": "2022-05-22T11:49:12.224Z"
   },
   {
    "duration": 12,
    "start_time": "2022-05-22T11:49:12.247Z"
   },
   {
    "duration": 6,
    "start_time": "2022-05-22T11:49:12.261Z"
   },
   {
    "duration": 14572,
    "start_time": "2022-05-22T11:49:12.268Z"
   },
   {
    "duration": 43,
    "start_time": "2022-05-22T11:49:26.841Z"
   },
   {
    "duration": 12,
    "start_time": "2022-05-22T11:49:26.886Z"
   },
   {
    "duration": 21,
    "start_time": "2022-05-22T11:49:26.901Z"
   },
   {
    "duration": 10,
    "start_time": "2022-05-22T11:49:26.942Z"
   },
   {
    "duration": 24,
    "start_time": "2022-05-22T11:49:26.954Z"
   },
   {
    "duration": 5,
    "start_time": "2022-05-22T11:49:26.981Z"
   },
   {
    "duration": 5,
    "start_time": "2022-05-22T11:49:26.988Z"
   },
   {
    "duration": 9,
    "start_time": "2022-05-22T11:49:26.996Z"
   },
   {
    "duration": 713,
    "start_time": "2022-05-22T11:49:27.007Z"
   },
   {
    "duration": 65,
    "start_time": "2022-05-22T11:49:27.721Z"
   },
   {
    "duration": 63,
    "start_time": "2022-05-22T11:49:27.788Z"
   },
   {
    "duration": 7,
    "start_time": "2022-05-22T11:49:27.853Z"
   },
   {
    "duration": 4,
    "start_time": "2022-05-22T11:49:27.862Z"
   },
   {
    "duration": 6,
    "start_time": "2022-05-22T11:49:27.868Z"
   },
   {
    "duration": 5,
    "start_time": "2022-05-22T11:49:27.876Z"
   },
   {
    "duration": 163,
    "start_time": "2022-05-22T11:49:27.882Z"
   },
   {
    "duration": 100,
    "start_time": "2022-05-22T11:49:28.047Z"
   },
   {
    "duration": 107,
    "start_time": "2022-05-22T11:49:28.149Z"
   },
   {
    "duration": 215,
    "start_time": "2022-05-22T11:49:28.259Z"
   },
   {
    "duration": 19,
    "start_time": "2022-05-22T11:49:28.476Z"
   },
   {
    "duration": 14846,
    "start_time": "2022-05-22T11:49:28.496Z"
   },
   {
    "duration": 22,
    "start_time": "2022-05-22T11:49:43.343Z"
   },
   {
    "duration": 10,
    "start_time": "2022-05-22T11:49:43.367Z"
   },
   {
    "duration": 11,
    "start_time": "2022-05-22T11:49:43.379Z"
   },
   {
    "duration": 6,
    "start_time": "2022-05-22T11:49:43.392Z"
   },
   {
    "duration": 428,
    "start_time": "2022-05-22T11:49:43.399Z"
   },
   {
    "duration": 42,
    "start_time": "2022-05-22T11:49:43.829Z"
   },
   {
    "duration": 37,
    "start_time": "2022-05-22T11:49:43.873Z"
   },
   {
    "duration": 5,
    "start_time": "2022-05-22T11:49:43.911Z"
   },
   {
    "duration": 135,
    "start_time": "2022-05-22T11:49:43.917Z"
   },
   {
    "duration": 96,
    "start_time": "2022-05-22T11:49:44.055Z"
   },
   {
    "duration": 188,
    "start_time": "2022-05-22T11:49:44.153Z"
   },
   {
    "duration": 102,
    "start_time": "2022-05-22T11:49:44.344Z"
   },
   {
    "duration": 1295,
    "start_time": "2022-05-22T11:49:44.448Z"
   },
   {
    "duration": 101,
    "start_time": "2022-05-22T11:49:45.745Z"
   },
   {
    "duration": 596,
    "start_time": "2022-05-22T11:49:45.847Z"
   },
   {
    "duration": 123,
    "start_time": "2022-05-22T11:49:46.451Z"
   },
   {
    "duration": 68,
    "start_time": "2022-05-22T11:49:46.577Z"
   },
   {
    "duration": 4,
    "start_time": "2022-05-22T11:49:46.647Z"
   },
   {
    "duration": 169,
    "start_time": "2022-05-22T11:49:46.653Z"
   },
   {
    "duration": 219,
    "start_time": "2022-05-22T11:49:46.824Z"
   },
   {
    "duration": 152,
    "start_time": "2022-05-22T11:49:47.046Z"
   },
   {
    "duration": 0,
    "start_time": "2022-05-22T11:49:47.200Z"
   },
   {
    "duration": 7,
    "start_time": "2022-05-22T11:51:02.896Z"
   },
   {
    "duration": 10,
    "start_time": "2022-05-22T11:51:03.918Z"
   },
   {
    "duration": 44,
    "start_time": "2022-05-22T11:51:38.624Z"
   },
   {
    "duration": 163,
    "start_time": "2022-05-22T11:52:12.033Z"
   },
   {
    "duration": 149,
    "start_time": "2022-05-22T11:52:29.424Z"
   },
   {
    "duration": 36,
    "start_time": "2022-05-22T11:52:36.713Z"
   },
   {
    "duration": 151,
    "start_time": "2022-05-22T11:52:40.663Z"
   },
   {
    "duration": 171,
    "start_time": "2022-05-22T11:53:08.081Z"
   },
   {
    "duration": 155,
    "start_time": "2022-05-22T11:53:10.520Z"
   },
   {
    "duration": 172,
    "start_time": "2022-05-22T11:53:10.866Z"
   },
   {
    "duration": 1226,
    "start_time": "2022-05-22T11:53:36.374Z"
   },
   {
    "duration": 2,
    "start_time": "2022-05-22T11:53:37.604Z"
   },
   {
    "duration": 111,
    "start_time": "2022-05-22T11:53:37.608Z"
   },
   {
    "duration": 35,
    "start_time": "2022-05-22T11:53:37.722Z"
   },
   {
    "duration": 13,
    "start_time": "2022-05-22T11:53:37.759Z"
   },
   {
    "duration": 40,
    "start_time": "2022-05-22T11:53:37.774Z"
   },
   {
    "duration": 813,
    "start_time": "2022-05-22T11:53:37.816Z"
   },
   {
    "duration": 411,
    "start_time": "2022-05-22T11:53:38.632Z"
   },
   {
    "duration": 416,
    "start_time": "2022-05-22T11:53:39.045Z"
   },
   {
    "duration": 298,
    "start_time": "2022-05-22T11:53:39.463Z"
   },
   {
    "duration": 6,
    "start_time": "2022-05-22T11:53:39.763Z"
   },
   {
    "duration": 18,
    "start_time": "2022-05-22T11:53:39.771Z"
   },
   {
    "duration": 6,
    "start_time": "2022-05-22T11:53:39.790Z"
   },
   {
    "duration": 10,
    "start_time": "2022-05-22T11:53:39.797Z"
   },
   {
    "duration": 9,
    "start_time": "2022-05-22T11:53:39.809Z"
   },
   {
    "duration": 30,
    "start_time": "2022-05-22T11:53:39.820Z"
   },
   {
    "duration": 5,
    "start_time": "2022-05-22T11:53:39.852Z"
   },
   {
    "duration": 14,
    "start_time": "2022-05-22T11:53:39.859Z"
   },
   {
    "duration": 144,
    "start_time": "2022-05-22T11:53:39.875Z"
   },
   {
    "duration": 5,
    "start_time": "2022-05-22T11:53:40.020Z"
   },
   {
    "duration": 18,
    "start_time": "2022-05-22T11:53:40.027Z"
   },
   {
    "duration": 6,
    "start_time": "2022-05-22T11:53:40.046Z"
   },
   {
    "duration": 6,
    "start_time": "2022-05-22T11:53:40.054Z"
   },
   {
    "duration": 132,
    "start_time": "2022-05-22T11:53:40.062Z"
   },
   {
    "duration": 4,
    "start_time": "2022-05-22T11:53:40.196Z"
   },
   {
    "duration": 15,
    "start_time": "2022-05-22T11:53:40.201Z"
   },
   {
    "duration": 30,
    "start_time": "2022-05-22T11:53:40.218Z"
   },
   {
    "duration": 3,
    "start_time": "2022-05-22T11:53:40.252Z"
   },
   {
    "duration": 760,
    "start_time": "2022-05-22T11:53:40.257Z"
   },
   {
    "duration": 27,
    "start_time": "2022-05-22T11:53:41.019Z"
   },
   {
    "duration": 743,
    "start_time": "2022-05-22T11:53:41.048Z"
   },
   {
    "duration": 49,
    "start_time": "2022-05-22T11:53:41.793Z"
   },
   {
    "duration": 40,
    "start_time": "2022-05-22T11:53:41.844Z"
   },
   {
    "duration": 6,
    "start_time": "2022-05-22T11:53:41.885Z"
   },
   {
    "duration": 6,
    "start_time": "2022-05-22T11:53:41.893Z"
   },
   {
    "duration": 5,
    "start_time": "2022-05-22T11:53:41.901Z"
   },
   {
    "duration": 13832,
    "start_time": "2022-05-22T11:53:41.908Z"
   },
   {
    "duration": 29,
    "start_time": "2022-05-22T11:53:55.742Z"
   },
   {
    "duration": 8,
    "start_time": "2022-05-22T11:53:55.772Z"
   },
   {
    "duration": 12,
    "start_time": "2022-05-22T11:53:55.782Z"
   },
   {
    "duration": 10,
    "start_time": "2022-05-22T11:53:55.796Z"
   },
   {
    "duration": 7,
    "start_time": "2022-05-22T11:53:55.808Z"
   },
   {
    "duration": 4,
    "start_time": "2022-05-22T11:53:55.841Z"
   },
   {
    "duration": 6,
    "start_time": "2022-05-22T11:53:55.847Z"
   },
   {
    "duration": 9,
    "start_time": "2022-05-22T11:53:55.854Z"
   },
   {
    "duration": 603,
    "start_time": "2022-05-22T11:53:55.865Z"
   },
   {
    "duration": 52,
    "start_time": "2022-05-22T11:53:56.469Z"
   },
   {
    "duration": 64,
    "start_time": "2022-05-22T11:53:56.522Z"
   },
   {
    "duration": 7,
    "start_time": "2022-05-22T11:53:56.588Z"
   },
   {
    "duration": 4,
    "start_time": "2022-05-22T11:53:56.596Z"
   },
   {
    "duration": 3,
    "start_time": "2022-05-22T11:53:56.602Z"
   },
   {
    "duration": 6,
    "start_time": "2022-05-22T11:53:56.607Z"
   },
   {
    "duration": 330,
    "start_time": "2022-05-22T11:53:56.614Z"
   },
   {
    "duration": 197,
    "start_time": "2022-05-22T11:53:56.946Z"
   },
   {
    "duration": 110,
    "start_time": "2022-05-22T11:53:57.145Z"
   },
   {
    "duration": 208,
    "start_time": "2022-05-22T11:53:57.257Z"
   },
   {
    "duration": 15,
    "start_time": "2022-05-22T11:53:57.466Z"
   },
   {
    "duration": 14069,
    "start_time": "2022-05-22T11:53:57.483Z"
   },
   {
    "duration": 22,
    "start_time": "2022-05-22T11:54:11.554Z"
   },
   {
    "duration": 8,
    "start_time": "2022-05-22T11:54:11.578Z"
   },
   {
    "duration": 11,
    "start_time": "2022-05-22T11:54:11.588Z"
   },
   {
    "duration": 6,
    "start_time": "2022-05-22T11:54:11.601Z"
   },
   {
    "duration": 398,
    "start_time": "2022-05-22T11:54:11.643Z"
   },
   {
    "duration": 38,
    "start_time": "2022-05-22T11:54:12.042Z"
   },
   {
    "duration": 40,
    "start_time": "2022-05-22T11:54:12.081Z"
   },
   {
    "duration": 7,
    "start_time": "2022-05-22T11:54:12.141Z"
   },
   {
    "duration": 102,
    "start_time": "2022-05-22T11:54:12.149Z"
   },
   {
    "duration": 189,
    "start_time": "2022-05-22T11:54:12.253Z"
   },
   {
    "duration": 110,
    "start_time": "2022-05-22T11:54:12.445Z"
   },
   {
    "duration": 199,
    "start_time": "2022-05-22T11:54:12.558Z"
   },
   {
    "duration": 1191,
    "start_time": "2022-05-22T11:54:12.759Z"
   },
   {
    "duration": 97,
    "start_time": "2022-05-22T11:54:13.952Z"
   },
   {
    "duration": 690,
    "start_time": "2022-05-22T11:54:14.051Z"
   },
   {
    "duration": 39,
    "start_time": "2022-05-22T11:54:14.743Z"
   },
   {
    "duration": 103,
    "start_time": "2022-05-22T11:54:14.784Z"
   },
   {
    "duration": 5,
    "start_time": "2022-05-22T11:54:14.889Z"
   },
   {
    "duration": 175,
    "start_time": "2022-05-22T11:54:14.896Z"
   },
   {
    "duration": 188,
    "start_time": "2022-05-22T11:54:15.073Z"
   }
  ],
  "kernelspec": {
   "display_name": "Python 3",
   "language": "python",
   "name": "python3"
  },
  "language_info": {
   "codemirror_mode": {
    "name": "ipython",
    "version": 3
   },
   "file_extension": ".py",
   "mimetype": "text/x-python",
   "name": "python",
   "nbconvert_exporter": "python",
   "pygments_lexer": "ipython3",
   "version": "3.8.3"
  },
  "toc": {
   "base_numbering": 1,
   "nav_menu": {},
   "number_sections": true,
   "sideBar": true,
   "skip_h1_title": true,
   "title_cell": "Содержание",
   "title_sidebar": "Contents",
   "toc_cell": true,
   "toc_position": {
    "height": "calc(100% - 180px)",
    "left": "10px",
    "top": "150px",
    "width": "308.391px"
   },
   "toc_section_display": true,
   "toc_window_display": true
  }
 },
 "nbformat": 4,
 "nbformat_minor": 2
}
