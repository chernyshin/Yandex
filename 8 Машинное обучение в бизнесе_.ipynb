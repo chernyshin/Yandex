{
 "cells": [
  {
   "cell_type": "markdown",
   "metadata": {},
   "source": [
    "# Выбор локации для скважины"
   ]
  },
  {
   "cell_type": "markdown",
   "metadata": {},
   "source": [
    "## Введение"
   ]
  },
  {
   "cell_type": "markdown",
   "metadata": {},
   "source": [
    "Заказчик исследования - добывающая компания «ГлавРосГосНефть». Нужно решить, где бурить новую скважину.\n",
    "\n",
    "Нам предоставлены пробы нефти в трёх регионах: в каждом 10 000 месторождений, где измерили качество нефти и объём её запасов. Требуется построить модель машинного обучения, которая поможет определить регион, где добыча принесёт наибольшую прибыль и проанализировать возможную прибыль и риски техникой *Bootstrap.*\n",
    "\n",
    "Шаги для выбора локации:\n",
    "- В избранном регионе ищут месторождения, для каждого определяют значения признаков;\n",
    "- Строят модель и оценивают объём запасов;\n",
    "- Выбирают месторождения с самым высокими оценками значений. Количество месторождений зависит от бюджета компании и стоимости разработки одной скважины;\n",
    "- Прибыль равна суммарной прибыли отобранных месторождений."
   ]
  },
  {
   "cell_type": "markdown",
   "metadata": {},
   "source": [
    "### Ход исследования"
   ]
  },
  {
   "cell_type": "markdown",
   "metadata": {},
   "source": [
    "#### Загрузка и подготовка данных"
   ]
  },
  {
   "cell_type": "markdown",
   "metadata": {},
   "source": [
    "Данные геологоразведки трёх регионов находятся в файлах:\n",
    "\n",
    "- /datasets/geo_data_0.csv\n",
    "- /datasets/geo_data_1.csv\n",
    "- /datasets/geo_data_2.csv\n",
    "\n",
    "id — уникальный идентификатор скважины;\n",
    "\n",
    "f0, f1, f2 — три признака точек (неважно, что они означают, но сами признаки значимы);\n",
    "\n",
    "product — объём запасов в скважине (тыс. баррелей)."
   ]
  },
  {
   "cell_type": "markdown",
   "metadata": {},
   "source": [
    "#### Построение модели"
   ]
  },
  {
   "cell_type": "markdown",
   "metadata": {},
   "source": [
    "1. Разбить данные на обучающую и валидационную выборки в соотношении 75:25.\n",
    "2. Обучить модель и сделать предсказания на валидационной выборке.\n",
    "3. Сохранить предсказания и правильные ответы на валидационной выборке.\n",
    "4. Напечатать на экране средний запас предсказанного сырья и RMSE модели.\n",
    "5. Проанализировать результаты."
   ]
  },
  {
   "cell_type": "markdown",
   "metadata": {},
   "source": [
    "#### Подготовка к расчёту прибыли"
   ]
  },
  {
   "cell_type": "markdown",
   "metadata": {},
   "source": [
    "1. Все ключевые значения для расчётов сохранить в отдельных переменных.\n",
    "2. Рассчитать достаточный объём сырья для безубыточной разработки новой скважины. Сравнить полученный объём сырья со средним запасом в каждом регионе.\n",
    "3. Написать выводы по этапу подготовки расчёта прибыли."
   ]
  },
  {
   "cell_type": "markdown",
   "metadata": {},
   "source": [
    "#### Написать функцию для расчёта прибыли по выбранным скважинам и предсказаниям модели"
   ]
  },
  {
   "cell_type": "markdown",
   "metadata": {},
   "source": [
    "1. Выбрать скважины с максимальными значениями предсказаний.\n",
    "2. Просуммировать целевое значение объёма сырья, соответствующее этим предсказаниям.\n",
    "3. Рассчитать прибыль для полученного объёма сырья."
   ]
  },
  {
   "cell_type": "markdown",
   "metadata": {},
   "source": [
    "#### Посчитать риски и прибыль для каждого региона"
   ]
  },
  {
   "cell_type": "markdown",
   "metadata": {},
   "source": [
    "### Дополнительная информация"
   ]
  },
  {
   "cell_type": "markdown",
   "metadata": {},
   "source": [
    "Для обучения модели подходит только линейная регрессия (остальные — недостаточно предсказуемые).\n",
    "\n",
    "При разведке региона исследуют 500 точек, из которых с помощью машинного обучения выбирают 200 лучших для разработки.\n",
    "\n",
    "Бюджет на разработку скважин в регионе — 10 млрд рублей.\n",
    "\n",
    "При нынешних ценах один баррель сырья приносит 450 рублей дохода. Доход с каждой единицы продукта составляет 450 тыс. рублей, поскольку объём указан в тысячах баррелей.\n",
    "\n",
    "После оценки рисков нужно оставить лишь те регионы, в которых вероятность убытков меньше 2.5%. Среди них выбирают регион с наибольшей средней прибылью.\n",
    "\n",
    "Данные синтетические: детали контрактов и характеристики месторождений не разглашаются."
   ]
  },
  {
   "cell_type": "markdown",
   "metadata": {},
   "source": [
    "## Загрузка и подготовка данных"
   ]
  },
  {
   "cell_type": "markdown",
   "metadata": {},
   "source": [
    "### Первичное изучение данных"
   ]
  },
  {
   "cell_type": "code",
   "execution_count": 1,
   "metadata": {},
   "outputs": [],
   "source": [
    "# Импорты\n",
    "\n",
    "import pandas as pd\n",
    "from sklearn.model_selection import train_test_split\n",
    "from sklearn.linear_model import LinearRegression\n",
    "from sklearn.metrics import mean_squared_error\n",
    "from sklearn.metrics import r2_score\n",
    "from scipy import stats as st"
   ]
  },
  {
   "cell_type": "code",
   "execution_count": 2,
   "metadata": {},
   "outputs": [],
   "source": [
    "# Загрузка файлов\n",
    "\n",
    "df_1 = pd.read_csv('/datasets/geo_data_0.csv')\n",
    "df_2 = pd.read_csv('/datasets/geo_data_1.csv')\n",
    "df_3 = pd.read_csv('/datasets/geo_data_2.csv')"
   ]
  },
  {
   "cell_type": "code",
   "execution_count": 3,
   "metadata": {},
   "outputs": [
    {
     "data": {
      "text/html": [
       "<div>\n",
       "<style scoped>\n",
       "    .dataframe tbody tr th:only-of-type {\n",
       "        vertical-align: middle;\n",
       "    }\n",
       "\n",
       "    .dataframe tbody tr th {\n",
       "        vertical-align: top;\n",
       "    }\n",
       "\n",
       "    .dataframe thead th {\n",
       "        text-align: right;\n",
       "    }\n",
       "</style>\n",
       "<table border=\"1\" class=\"dataframe\">\n",
       "  <thead>\n",
       "    <tr style=\"text-align: right;\">\n",
       "      <th></th>\n",
       "      <th>id</th>\n",
       "      <th>f0</th>\n",
       "      <th>f1</th>\n",
       "      <th>f2</th>\n",
       "      <th>product</th>\n",
       "    </tr>\n",
       "  </thead>\n",
       "  <tbody>\n",
       "    <tr>\n",
       "      <th>0</th>\n",
       "      <td>txEyH</td>\n",
       "      <td>0.705745</td>\n",
       "      <td>-0.497823</td>\n",
       "      <td>1.221170</td>\n",
       "      <td>105.280062</td>\n",
       "    </tr>\n",
       "    <tr>\n",
       "      <th>1</th>\n",
       "      <td>2acmU</td>\n",
       "      <td>1.334711</td>\n",
       "      <td>-0.340164</td>\n",
       "      <td>4.365080</td>\n",
       "      <td>73.037750</td>\n",
       "    </tr>\n",
       "    <tr>\n",
       "      <th>2</th>\n",
       "      <td>409Wp</td>\n",
       "      <td>1.022732</td>\n",
       "      <td>0.151990</td>\n",
       "      <td>1.419926</td>\n",
       "      <td>85.265647</td>\n",
       "    </tr>\n",
       "    <tr>\n",
       "      <th>3</th>\n",
       "      <td>iJLyR</td>\n",
       "      <td>-0.032172</td>\n",
       "      <td>0.139033</td>\n",
       "      <td>2.978566</td>\n",
       "      <td>168.620776</td>\n",
       "    </tr>\n",
       "    <tr>\n",
       "      <th>4</th>\n",
       "      <td>Xdl7t</td>\n",
       "      <td>1.988431</td>\n",
       "      <td>0.155413</td>\n",
       "      <td>4.751769</td>\n",
       "      <td>154.036647</td>\n",
       "    </tr>\n",
       "    <tr>\n",
       "      <th>...</th>\n",
       "      <td>...</td>\n",
       "      <td>...</td>\n",
       "      <td>...</td>\n",
       "      <td>...</td>\n",
       "      <td>...</td>\n",
       "    </tr>\n",
       "    <tr>\n",
       "      <th>99995</th>\n",
       "      <td>DLsed</td>\n",
       "      <td>0.971957</td>\n",
       "      <td>0.370953</td>\n",
       "      <td>6.075346</td>\n",
       "      <td>110.744026</td>\n",
       "    </tr>\n",
       "    <tr>\n",
       "      <th>99996</th>\n",
       "      <td>QKivN</td>\n",
       "      <td>1.392429</td>\n",
       "      <td>-0.382606</td>\n",
       "      <td>1.273912</td>\n",
       "      <td>122.346843</td>\n",
       "    </tr>\n",
       "    <tr>\n",
       "      <th>99997</th>\n",
       "      <td>3rnvd</td>\n",
       "      <td>1.029585</td>\n",
       "      <td>0.018787</td>\n",
       "      <td>-1.348308</td>\n",
       "      <td>64.375443</td>\n",
       "    </tr>\n",
       "    <tr>\n",
       "      <th>99998</th>\n",
       "      <td>7kl59</td>\n",
       "      <td>0.998163</td>\n",
       "      <td>-0.528582</td>\n",
       "      <td>1.583869</td>\n",
       "      <td>74.040764</td>\n",
       "    </tr>\n",
       "    <tr>\n",
       "      <th>99999</th>\n",
       "      <td>1CWhH</td>\n",
       "      <td>1.764754</td>\n",
       "      <td>-0.266417</td>\n",
       "      <td>5.722849</td>\n",
       "      <td>149.633246</td>\n",
       "    </tr>\n",
       "  </tbody>\n",
       "</table>\n",
       "<p>100000 rows × 5 columns</p>\n",
       "</div>"
      ],
      "text/plain": [
       "          id        f0        f1        f2     product\n",
       "0      txEyH  0.705745 -0.497823  1.221170  105.280062\n",
       "1      2acmU  1.334711 -0.340164  4.365080   73.037750\n",
       "2      409Wp  1.022732  0.151990  1.419926   85.265647\n",
       "3      iJLyR -0.032172  0.139033  2.978566  168.620776\n",
       "4      Xdl7t  1.988431  0.155413  4.751769  154.036647\n",
       "...      ...       ...       ...       ...         ...\n",
       "99995  DLsed  0.971957  0.370953  6.075346  110.744026\n",
       "99996  QKivN  1.392429 -0.382606  1.273912  122.346843\n",
       "99997  3rnvd  1.029585  0.018787 -1.348308   64.375443\n",
       "99998  7kl59  0.998163 -0.528582  1.583869   74.040764\n",
       "99999  1CWhH  1.764754 -0.266417  5.722849  149.633246\n",
       "\n",
       "[100000 rows x 5 columns]"
      ]
     },
     "execution_count": 3,
     "metadata": {},
     "output_type": "execute_result"
    }
   ],
   "source": [
    "df_1"
   ]
  },
  {
   "cell_type": "code",
   "execution_count": 4,
   "metadata": {},
   "outputs": [
    {
     "data": {
      "text/html": [
       "<div>\n",
       "<style scoped>\n",
       "    .dataframe tbody tr th:only-of-type {\n",
       "        vertical-align: middle;\n",
       "    }\n",
       "\n",
       "    .dataframe tbody tr th {\n",
       "        vertical-align: top;\n",
       "    }\n",
       "\n",
       "    .dataframe thead th {\n",
       "        text-align: right;\n",
       "    }\n",
       "</style>\n",
       "<table border=\"1\" class=\"dataframe\">\n",
       "  <thead>\n",
       "    <tr style=\"text-align: right;\">\n",
       "      <th></th>\n",
       "      <th>id</th>\n",
       "      <th>f0</th>\n",
       "      <th>f1</th>\n",
       "      <th>f2</th>\n",
       "      <th>product</th>\n",
       "    </tr>\n",
       "  </thead>\n",
       "  <tbody>\n",
       "    <tr>\n",
       "      <th>0</th>\n",
       "      <td>kBEdx</td>\n",
       "      <td>-15.001348</td>\n",
       "      <td>-8.276000</td>\n",
       "      <td>-0.005876</td>\n",
       "      <td>3.179103</td>\n",
       "    </tr>\n",
       "    <tr>\n",
       "      <th>1</th>\n",
       "      <td>62mP7</td>\n",
       "      <td>14.272088</td>\n",
       "      <td>-3.475083</td>\n",
       "      <td>0.999183</td>\n",
       "      <td>26.953261</td>\n",
       "    </tr>\n",
       "    <tr>\n",
       "      <th>2</th>\n",
       "      <td>vyE1P</td>\n",
       "      <td>6.263187</td>\n",
       "      <td>-5.948386</td>\n",
       "      <td>5.001160</td>\n",
       "      <td>134.766305</td>\n",
       "    </tr>\n",
       "    <tr>\n",
       "      <th>3</th>\n",
       "      <td>KcrkZ</td>\n",
       "      <td>-13.081196</td>\n",
       "      <td>-11.506057</td>\n",
       "      <td>4.999415</td>\n",
       "      <td>137.945408</td>\n",
       "    </tr>\n",
       "    <tr>\n",
       "      <th>4</th>\n",
       "      <td>AHL4O</td>\n",
       "      <td>12.702195</td>\n",
       "      <td>-8.147433</td>\n",
       "      <td>5.004363</td>\n",
       "      <td>134.766305</td>\n",
       "    </tr>\n",
       "    <tr>\n",
       "      <th>...</th>\n",
       "      <td>...</td>\n",
       "      <td>...</td>\n",
       "      <td>...</td>\n",
       "      <td>...</td>\n",
       "      <td>...</td>\n",
       "    </tr>\n",
       "    <tr>\n",
       "      <th>99995</th>\n",
       "      <td>QywKC</td>\n",
       "      <td>9.535637</td>\n",
       "      <td>-6.878139</td>\n",
       "      <td>1.998296</td>\n",
       "      <td>53.906522</td>\n",
       "    </tr>\n",
       "    <tr>\n",
       "      <th>99996</th>\n",
       "      <td>ptvty</td>\n",
       "      <td>-10.160631</td>\n",
       "      <td>-12.558096</td>\n",
       "      <td>5.005581</td>\n",
       "      <td>137.945408</td>\n",
       "    </tr>\n",
       "    <tr>\n",
       "      <th>99997</th>\n",
       "      <td>09gWa</td>\n",
       "      <td>-7.378891</td>\n",
       "      <td>-3.084104</td>\n",
       "      <td>4.998651</td>\n",
       "      <td>137.945408</td>\n",
       "    </tr>\n",
       "    <tr>\n",
       "      <th>99998</th>\n",
       "      <td>rqwUm</td>\n",
       "      <td>0.665714</td>\n",
       "      <td>-6.152593</td>\n",
       "      <td>1.000146</td>\n",
       "      <td>30.132364</td>\n",
       "    </tr>\n",
       "    <tr>\n",
       "      <th>99999</th>\n",
       "      <td>relB0</td>\n",
       "      <td>-3.426139</td>\n",
       "      <td>-7.794274</td>\n",
       "      <td>-0.003299</td>\n",
       "      <td>3.179103</td>\n",
       "    </tr>\n",
       "  </tbody>\n",
       "</table>\n",
       "<p>100000 rows × 5 columns</p>\n",
       "</div>"
      ],
      "text/plain": [
       "          id         f0         f1        f2     product\n",
       "0      kBEdx -15.001348  -8.276000 -0.005876    3.179103\n",
       "1      62mP7  14.272088  -3.475083  0.999183   26.953261\n",
       "2      vyE1P   6.263187  -5.948386  5.001160  134.766305\n",
       "3      KcrkZ -13.081196 -11.506057  4.999415  137.945408\n",
       "4      AHL4O  12.702195  -8.147433  5.004363  134.766305\n",
       "...      ...        ...        ...       ...         ...\n",
       "99995  QywKC   9.535637  -6.878139  1.998296   53.906522\n",
       "99996  ptvty -10.160631 -12.558096  5.005581  137.945408\n",
       "99997  09gWa  -7.378891  -3.084104  4.998651  137.945408\n",
       "99998  rqwUm   0.665714  -6.152593  1.000146   30.132364\n",
       "99999  relB0  -3.426139  -7.794274 -0.003299    3.179103\n",
       "\n",
       "[100000 rows x 5 columns]"
      ]
     },
     "execution_count": 4,
     "metadata": {},
     "output_type": "execute_result"
    }
   ],
   "source": [
    "df_2"
   ]
  },
  {
   "cell_type": "code",
   "execution_count": 5,
   "metadata": {},
   "outputs": [
    {
     "data": {
      "text/html": [
       "<div>\n",
       "<style scoped>\n",
       "    .dataframe tbody tr th:only-of-type {\n",
       "        vertical-align: middle;\n",
       "    }\n",
       "\n",
       "    .dataframe tbody tr th {\n",
       "        vertical-align: top;\n",
       "    }\n",
       "\n",
       "    .dataframe thead th {\n",
       "        text-align: right;\n",
       "    }\n",
       "</style>\n",
       "<table border=\"1\" class=\"dataframe\">\n",
       "  <thead>\n",
       "    <tr style=\"text-align: right;\">\n",
       "      <th></th>\n",
       "      <th>id</th>\n",
       "      <th>f0</th>\n",
       "      <th>f1</th>\n",
       "      <th>f2</th>\n",
       "      <th>product</th>\n",
       "    </tr>\n",
       "  </thead>\n",
       "  <tbody>\n",
       "    <tr>\n",
       "      <th>0</th>\n",
       "      <td>fwXo0</td>\n",
       "      <td>-1.146987</td>\n",
       "      <td>0.963328</td>\n",
       "      <td>-0.828965</td>\n",
       "      <td>27.758673</td>\n",
       "    </tr>\n",
       "    <tr>\n",
       "      <th>1</th>\n",
       "      <td>WJtFt</td>\n",
       "      <td>0.262778</td>\n",
       "      <td>0.269839</td>\n",
       "      <td>-2.530187</td>\n",
       "      <td>56.069697</td>\n",
       "    </tr>\n",
       "    <tr>\n",
       "      <th>2</th>\n",
       "      <td>ovLUW</td>\n",
       "      <td>0.194587</td>\n",
       "      <td>0.289035</td>\n",
       "      <td>-5.586433</td>\n",
       "      <td>62.871910</td>\n",
       "    </tr>\n",
       "    <tr>\n",
       "      <th>3</th>\n",
       "      <td>q6cA6</td>\n",
       "      <td>2.236060</td>\n",
       "      <td>-0.553760</td>\n",
       "      <td>0.930038</td>\n",
       "      <td>114.572842</td>\n",
       "    </tr>\n",
       "    <tr>\n",
       "      <th>4</th>\n",
       "      <td>WPMUX</td>\n",
       "      <td>-0.515993</td>\n",
       "      <td>1.716266</td>\n",
       "      <td>5.899011</td>\n",
       "      <td>149.600746</td>\n",
       "    </tr>\n",
       "    <tr>\n",
       "      <th>...</th>\n",
       "      <td>...</td>\n",
       "      <td>...</td>\n",
       "      <td>...</td>\n",
       "      <td>...</td>\n",
       "      <td>...</td>\n",
       "    </tr>\n",
       "    <tr>\n",
       "      <th>99995</th>\n",
       "      <td>4GxBu</td>\n",
       "      <td>-1.777037</td>\n",
       "      <td>1.125220</td>\n",
       "      <td>6.263374</td>\n",
       "      <td>172.327046</td>\n",
       "    </tr>\n",
       "    <tr>\n",
       "      <th>99996</th>\n",
       "      <td>YKFjq</td>\n",
       "      <td>-1.261523</td>\n",
       "      <td>-0.894828</td>\n",
       "      <td>2.524545</td>\n",
       "      <td>138.748846</td>\n",
       "    </tr>\n",
       "    <tr>\n",
       "      <th>99997</th>\n",
       "      <td>tKPY3</td>\n",
       "      <td>-1.199934</td>\n",
       "      <td>-2.957637</td>\n",
       "      <td>5.219411</td>\n",
       "      <td>157.080080</td>\n",
       "    </tr>\n",
       "    <tr>\n",
       "      <th>99998</th>\n",
       "      <td>nmxp2</td>\n",
       "      <td>-2.419896</td>\n",
       "      <td>2.417221</td>\n",
       "      <td>-5.548444</td>\n",
       "      <td>51.795253</td>\n",
       "    </tr>\n",
       "    <tr>\n",
       "      <th>99999</th>\n",
       "      <td>V9kWn</td>\n",
       "      <td>-2.551421</td>\n",
       "      <td>-2.025625</td>\n",
       "      <td>6.090891</td>\n",
       "      <td>102.775767</td>\n",
       "    </tr>\n",
       "  </tbody>\n",
       "</table>\n",
       "<p>100000 rows × 5 columns</p>\n",
       "</div>"
      ],
      "text/plain": [
       "          id        f0        f1        f2     product\n",
       "0      fwXo0 -1.146987  0.963328 -0.828965   27.758673\n",
       "1      WJtFt  0.262778  0.269839 -2.530187   56.069697\n",
       "2      ovLUW  0.194587  0.289035 -5.586433   62.871910\n",
       "3      q6cA6  2.236060 -0.553760  0.930038  114.572842\n",
       "4      WPMUX -0.515993  1.716266  5.899011  149.600746\n",
       "...      ...       ...       ...       ...         ...\n",
       "99995  4GxBu -1.777037  1.125220  6.263374  172.327046\n",
       "99996  YKFjq -1.261523 -0.894828  2.524545  138.748846\n",
       "99997  tKPY3 -1.199934 -2.957637  5.219411  157.080080\n",
       "99998  nmxp2 -2.419896  2.417221 -5.548444   51.795253\n",
       "99999  V9kWn -2.551421 -2.025625  6.090891  102.775767\n",
       "\n",
       "[100000 rows x 5 columns]"
      ]
     },
     "execution_count": 5,
     "metadata": {},
     "output_type": "execute_result"
    }
   ],
   "source": [
    "df_3"
   ]
  },
  {
   "cell_type": "markdown",
   "metadata": {},
   "source": [
    "Рассмотрим параметры данных в столбцах."
   ]
  },
  {
   "cell_type": "code",
   "execution_count": 6,
   "metadata": {},
   "outputs": [
    {
     "data": {
      "text/html": [
       "<div>\n",
       "<style scoped>\n",
       "    .dataframe tbody tr th:only-of-type {\n",
       "        vertical-align: middle;\n",
       "    }\n",
       "\n",
       "    .dataframe tbody tr th {\n",
       "        vertical-align: top;\n",
       "    }\n",
       "\n",
       "    .dataframe thead th {\n",
       "        text-align: right;\n",
       "    }\n",
       "</style>\n",
       "<table border=\"1\" class=\"dataframe\">\n",
       "  <thead>\n",
       "    <tr style=\"text-align: right;\">\n",
       "      <th></th>\n",
       "      <th>f0</th>\n",
       "      <th>f1</th>\n",
       "      <th>f2</th>\n",
       "      <th>product</th>\n",
       "    </tr>\n",
       "  </thead>\n",
       "  <tbody>\n",
       "    <tr>\n",
       "      <th>count</th>\n",
       "      <td>100000.000000</td>\n",
       "      <td>100000.000000</td>\n",
       "      <td>100000.000000</td>\n",
       "      <td>100000.000000</td>\n",
       "    </tr>\n",
       "    <tr>\n",
       "      <th>mean</th>\n",
       "      <td>0.500419</td>\n",
       "      <td>0.250143</td>\n",
       "      <td>2.502647</td>\n",
       "      <td>92.500000</td>\n",
       "    </tr>\n",
       "    <tr>\n",
       "      <th>std</th>\n",
       "      <td>0.871832</td>\n",
       "      <td>0.504433</td>\n",
       "      <td>3.248248</td>\n",
       "      <td>44.288691</td>\n",
       "    </tr>\n",
       "    <tr>\n",
       "      <th>min</th>\n",
       "      <td>-1.408605</td>\n",
       "      <td>-0.848218</td>\n",
       "      <td>-12.088328</td>\n",
       "      <td>0.000000</td>\n",
       "    </tr>\n",
       "    <tr>\n",
       "      <th>25%</th>\n",
       "      <td>-0.072580</td>\n",
       "      <td>-0.200881</td>\n",
       "      <td>0.287748</td>\n",
       "      <td>56.497507</td>\n",
       "    </tr>\n",
       "    <tr>\n",
       "      <th>50%</th>\n",
       "      <td>0.502360</td>\n",
       "      <td>0.250252</td>\n",
       "      <td>2.515969</td>\n",
       "      <td>91.849972</td>\n",
       "    </tr>\n",
       "    <tr>\n",
       "      <th>75%</th>\n",
       "      <td>1.073581</td>\n",
       "      <td>0.700646</td>\n",
       "      <td>4.715088</td>\n",
       "      <td>128.564089</td>\n",
       "    </tr>\n",
       "    <tr>\n",
       "      <th>max</th>\n",
       "      <td>2.362331</td>\n",
       "      <td>1.343769</td>\n",
       "      <td>16.003790</td>\n",
       "      <td>185.364347</td>\n",
       "    </tr>\n",
       "  </tbody>\n",
       "</table>\n",
       "</div>"
      ],
      "text/plain": [
       "                  f0             f1             f2        product\n",
       "count  100000.000000  100000.000000  100000.000000  100000.000000\n",
       "mean        0.500419       0.250143       2.502647      92.500000\n",
       "std         0.871832       0.504433       3.248248      44.288691\n",
       "min        -1.408605      -0.848218     -12.088328       0.000000\n",
       "25%        -0.072580      -0.200881       0.287748      56.497507\n",
       "50%         0.502360       0.250252       2.515969      91.849972\n",
       "75%         1.073581       0.700646       4.715088     128.564089\n",
       "max         2.362331       1.343769      16.003790     185.364347"
      ]
     },
     "execution_count": 6,
     "metadata": {},
     "output_type": "execute_result"
    }
   ],
   "source": [
    "df_1.describe()"
   ]
  },
  {
   "cell_type": "code",
   "execution_count": 7,
   "metadata": {},
   "outputs": [
    {
     "data": {
      "text/html": [
       "<div>\n",
       "<style scoped>\n",
       "    .dataframe tbody tr th:only-of-type {\n",
       "        vertical-align: middle;\n",
       "    }\n",
       "\n",
       "    .dataframe tbody tr th {\n",
       "        vertical-align: top;\n",
       "    }\n",
       "\n",
       "    .dataframe thead th {\n",
       "        text-align: right;\n",
       "    }\n",
       "</style>\n",
       "<table border=\"1\" class=\"dataframe\">\n",
       "  <thead>\n",
       "    <tr style=\"text-align: right;\">\n",
       "      <th></th>\n",
       "      <th>f0</th>\n",
       "      <th>f1</th>\n",
       "      <th>f2</th>\n",
       "      <th>product</th>\n",
       "    </tr>\n",
       "  </thead>\n",
       "  <tbody>\n",
       "    <tr>\n",
       "      <th>count</th>\n",
       "      <td>100000.000000</td>\n",
       "      <td>100000.000000</td>\n",
       "      <td>100000.000000</td>\n",
       "      <td>100000.000000</td>\n",
       "    </tr>\n",
       "    <tr>\n",
       "      <th>mean</th>\n",
       "      <td>1.141296</td>\n",
       "      <td>-4.796579</td>\n",
       "      <td>2.494541</td>\n",
       "      <td>68.825000</td>\n",
       "    </tr>\n",
       "    <tr>\n",
       "      <th>std</th>\n",
       "      <td>8.965932</td>\n",
       "      <td>5.119872</td>\n",
       "      <td>1.703572</td>\n",
       "      <td>45.944423</td>\n",
       "    </tr>\n",
       "    <tr>\n",
       "      <th>min</th>\n",
       "      <td>-31.609576</td>\n",
       "      <td>-26.358598</td>\n",
       "      <td>-0.018144</td>\n",
       "      <td>0.000000</td>\n",
       "    </tr>\n",
       "    <tr>\n",
       "      <th>25%</th>\n",
       "      <td>-6.298551</td>\n",
       "      <td>-8.267985</td>\n",
       "      <td>1.000021</td>\n",
       "      <td>26.953261</td>\n",
       "    </tr>\n",
       "    <tr>\n",
       "      <th>50%</th>\n",
       "      <td>1.153055</td>\n",
       "      <td>-4.813172</td>\n",
       "      <td>2.011479</td>\n",
       "      <td>57.085625</td>\n",
       "    </tr>\n",
       "    <tr>\n",
       "      <th>75%</th>\n",
       "      <td>8.621015</td>\n",
       "      <td>-1.332816</td>\n",
       "      <td>3.999904</td>\n",
       "      <td>107.813044</td>\n",
       "    </tr>\n",
       "    <tr>\n",
       "      <th>max</th>\n",
       "      <td>29.421755</td>\n",
       "      <td>18.734063</td>\n",
       "      <td>5.019721</td>\n",
       "      <td>137.945408</td>\n",
       "    </tr>\n",
       "  </tbody>\n",
       "</table>\n",
       "</div>"
      ],
      "text/plain": [
       "                  f0             f1             f2        product\n",
       "count  100000.000000  100000.000000  100000.000000  100000.000000\n",
       "mean        1.141296      -4.796579       2.494541      68.825000\n",
       "std         8.965932       5.119872       1.703572      45.944423\n",
       "min       -31.609576     -26.358598      -0.018144       0.000000\n",
       "25%        -6.298551      -8.267985       1.000021      26.953261\n",
       "50%         1.153055      -4.813172       2.011479      57.085625\n",
       "75%         8.621015      -1.332816       3.999904     107.813044\n",
       "max        29.421755      18.734063       5.019721     137.945408"
      ]
     },
     "execution_count": 7,
     "metadata": {},
     "output_type": "execute_result"
    }
   ],
   "source": [
    "df_2.describe()"
   ]
  },
  {
   "cell_type": "code",
   "execution_count": 8,
   "metadata": {},
   "outputs": [
    {
     "data": {
      "text/html": [
       "<div>\n",
       "<style scoped>\n",
       "    .dataframe tbody tr th:only-of-type {\n",
       "        vertical-align: middle;\n",
       "    }\n",
       "\n",
       "    .dataframe tbody tr th {\n",
       "        vertical-align: top;\n",
       "    }\n",
       "\n",
       "    .dataframe thead th {\n",
       "        text-align: right;\n",
       "    }\n",
       "</style>\n",
       "<table border=\"1\" class=\"dataframe\">\n",
       "  <thead>\n",
       "    <tr style=\"text-align: right;\">\n",
       "      <th></th>\n",
       "      <th>f0</th>\n",
       "      <th>f1</th>\n",
       "      <th>f2</th>\n",
       "      <th>product</th>\n",
       "    </tr>\n",
       "  </thead>\n",
       "  <tbody>\n",
       "    <tr>\n",
       "      <th>count</th>\n",
       "      <td>100000.000000</td>\n",
       "      <td>100000.000000</td>\n",
       "      <td>100000.000000</td>\n",
       "      <td>100000.000000</td>\n",
       "    </tr>\n",
       "    <tr>\n",
       "      <th>mean</th>\n",
       "      <td>0.002023</td>\n",
       "      <td>-0.002081</td>\n",
       "      <td>2.495128</td>\n",
       "      <td>95.000000</td>\n",
       "    </tr>\n",
       "    <tr>\n",
       "      <th>std</th>\n",
       "      <td>1.732045</td>\n",
       "      <td>1.730417</td>\n",
       "      <td>3.473445</td>\n",
       "      <td>44.749921</td>\n",
       "    </tr>\n",
       "    <tr>\n",
       "      <th>min</th>\n",
       "      <td>-8.760004</td>\n",
       "      <td>-7.084020</td>\n",
       "      <td>-11.970335</td>\n",
       "      <td>0.000000</td>\n",
       "    </tr>\n",
       "    <tr>\n",
       "      <th>25%</th>\n",
       "      <td>-1.162288</td>\n",
       "      <td>-1.174820</td>\n",
       "      <td>0.130359</td>\n",
       "      <td>59.450441</td>\n",
       "    </tr>\n",
       "    <tr>\n",
       "      <th>50%</th>\n",
       "      <td>0.009424</td>\n",
       "      <td>-0.009482</td>\n",
       "      <td>2.484236</td>\n",
       "      <td>94.925613</td>\n",
       "    </tr>\n",
       "    <tr>\n",
       "      <th>75%</th>\n",
       "      <td>1.158535</td>\n",
       "      <td>1.163678</td>\n",
       "      <td>4.858794</td>\n",
       "      <td>130.595027</td>\n",
       "    </tr>\n",
       "    <tr>\n",
       "      <th>max</th>\n",
       "      <td>7.238262</td>\n",
       "      <td>7.844801</td>\n",
       "      <td>16.739402</td>\n",
       "      <td>190.029838</td>\n",
       "    </tr>\n",
       "  </tbody>\n",
       "</table>\n",
       "</div>"
      ],
      "text/plain": [
       "                  f0             f1             f2        product\n",
       "count  100000.000000  100000.000000  100000.000000  100000.000000\n",
       "mean        0.002023      -0.002081       2.495128      95.000000\n",
       "std         1.732045       1.730417       3.473445      44.749921\n",
       "min        -8.760004      -7.084020     -11.970335       0.000000\n",
       "25%        -1.162288      -1.174820       0.130359      59.450441\n",
       "50%         0.009424      -0.009482       2.484236      94.925613\n",
       "75%         1.158535       1.163678       4.858794     130.595027\n",
       "max         7.238262       7.844801      16.739402     190.029838"
      ]
     },
     "execution_count": 8,
     "metadata": {},
     "output_type": "execute_result"
    }
   ],
   "source": [
    "df_3.describe()"
   ]
  },
  {
   "cell_type": "markdown",
   "metadata": {},
   "source": [
    "Данные выглядят корректными, но разбросы отличаются между регионами. Рассмотрим распределения."
   ]
  },
  {
   "cell_type": "code",
   "execution_count": 9,
   "metadata": {
    "scrolled": false
   },
   "outputs": [
    {
     "data": {
      "image/png": "[encoded data removed]",
      "text/plain": [
       "<Figure size 1080x360 with 4 Axes>"
      ]
     },
     "metadata": {
      "needs_background": "light"
     },
     "output_type": "display_data"
    }
   ],
   "source": [
    "df_1.hist(bins=100, figsize=(15,5));"
   ]
  },
  {
   "cell_type": "code",
   "execution_count": 10,
   "metadata": {},
   "outputs": [
    {
     "data": {
      "image/png": "[encoded data removed]",
      "text/plain": [
       "<Figure size 1080x360 with 4 Axes>"
      ]
     },
     "metadata": {
      "needs_background": "light"
     },
     "output_type": "display_data"
    }
   ],
   "source": [
    "df_2.hist(bins=100, figsize=(15,5));"
   ]
  },
  {
   "cell_type": "code",
   "execution_count": 11,
   "metadata": {
    "scrolled": true
   },
   "outputs": [
    {
     "data": {
      "image/png": "[encoded data removed]",
      "text/plain": [
       "<Figure size 1080x360 with 4 Axes>"
      ]
     },
     "metadata": {
      "needs_background": "light"
     },
     "output_type": "display_data"
    }
   ],
   "source": [
    "df_3.hist(bins=100, figsize=(15,5));"
   ]
  },
  {
   "cell_type": "markdown",
   "metadata": {},
   "source": [
    "Распределения в разных регионах различаются. Диапазоны также отличны. Принимаем решение не стандартизировать данные, так как веса могут быть важны - в разных регионах могут быть действительно сильно различные показатели одного параметра. Параметры завуалированы, поэтому мы не можем гарантировать целесообразность стандартизации.\n",
    "\n",
    "Также имеем предположение, что данные уже стандартизированы, так как многие первичные параметры скважин, имеющие значение в нефтедобывающей сфере, не имеют подобных размеров, разбросанных около нуля (вряд ли глубина месторождения ложится в диапазон 0±6 ед. или содержание воды измеряется в 2±13 ед.)."
   ]
  },
  {
   "cell_type": "markdown",
   "metadata": {},
   "source": [
    "Несмотря на то, что распределения похожи на нормальные, посмотрим, имеются ли выбросы:"
   ]
  },
  {
   "cell_type": "code",
   "execution_count": 12,
   "metadata": {
    "scrolled": true
   },
   "outputs": [
    {
     "data": {
      "image/png": "[encoded data removed]",
      "text/plain": [
       "<Figure size 1152x288 with 1 Axes>"
      ]
     },
     "metadata": {
      "needs_background": "light"
     },
     "output_type": "display_data"
    }
   ],
   "source": [
    "df_1.boxplot(figsize=(16, 4), vert=0);"
   ]
  },
  {
   "cell_type": "code",
   "execution_count": 13,
   "metadata": {
    "scrolled": true
   },
   "outputs": [
    {
     "data": {
      "image/png": "[encoded data removed]",
      "text/plain": [
       "<Figure size 1152x144 with 1 Axes>"
      ]
     },
     "metadata": {
      "needs_background": "light"
     },
     "output_type": "display_data"
    }
   ],
   "source": [
    "# Выбросы есть только в столбце f2, рассмотим поближе\n",
    "\n",
    "df_1.boxplot('f2', figsize=(16, 2), vert=False);"
   ]
  },
  {
   "cell_type": "markdown",
   "metadata": {},
   "source": [
    "Проведём аналогичные операции для остальных датасетов."
   ]
  },
  {
   "cell_type": "code",
   "execution_count": 14,
   "metadata": {},
   "outputs": [
    {
     "data": {
      "image/png": "[encoded data removed]",
      "text/plain": [
       "<Figure size 1152x288 with 1 Axes>"
      ]
     },
     "metadata": {
      "needs_background": "light"
     },
     "output_type": "display_data"
    }
   ],
   "source": [
    "df_2.boxplot(figsize=(16, 4), vert=0);"
   ]
  },
  {
   "cell_type": "code",
   "execution_count": 15,
   "metadata": {
    "scrolled": true
   },
   "outputs": [
    {
     "data": {
      "image/png": "[encoded data removed]",
      "text/plain": [
       "<Figure size 1152x288 with 1 Axes>"
      ]
     },
     "metadata": {
      "needs_background": "light"
     },
     "output_type": "display_data"
    }
   ],
   "source": [
    "df_2.boxplot('f1', figsize=(16, 4), vert=False);"
   ]
  },
  {
   "cell_type": "code",
   "execution_count": 16,
   "metadata": {},
   "outputs": [
    {
     "data": {
      "image/png": "[encoded data removed]",
      "text/plain": [
       "<Figure size 1152x288 with 1 Axes>"
      ]
     },
     "metadata": {
      "needs_background": "light"
     },
     "output_type": "display_data"
    }
   ],
   "source": [
    "df_3.boxplot(['f0', 'f1', 'f2'], figsize=(16, 4), vert=0);"
   ]
  },
  {
   "cell_type": "markdown",
   "metadata": {},
   "source": [
    "Выбросы плотно сконцентрированы, но есть и оторванные от общей массы значения. Так как нам неизвестна природа признаков f0, f1, f2, можем только предположить: для выбора нефтяной скважины могут иметь значения такие параметры, как глубина месторождения, давление, содержание воды в добываемой жидкости, возраст отложений и т.д. Параметры, полученные напрямую или косвенно приборными измерениями, имеют погрешность. Данных достаточно для проведения качественного анализа, поэтому можем рассмотреть удаление части выбросов перед дальнейшей работой. Решение примем далее в ходе изучения данных."
   ]
  },
  {
   "cell_type": "markdown",
   "metadata": {},
   "source": [
    "Распределение данных во втором регионе сильно отличается от других регионов. Заметно, что аномалия касается столбца `f2` и `product`. Построим матрицы корреляций:"
   ]
  },
  {
   "cell_type": "code",
   "execution_count": 17,
   "metadata": {},
   "outputs": [
    {
     "data": {
      "text/html": [
       "<div>\n",
       "<style scoped>\n",
       "    .dataframe tbody tr th:only-of-type {\n",
       "        vertical-align: middle;\n",
       "    }\n",
       "\n",
       "    .dataframe tbody tr th {\n",
       "        vertical-align: top;\n",
       "    }\n",
       "\n",
       "    .dataframe thead th {\n",
       "        text-align: right;\n",
       "    }\n",
       "</style>\n",
       "<table border=\"1\" class=\"dataframe\">\n",
       "  <thead>\n",
       "    <tr style=\"text-align: right;\">\n",
       "      <th></th>\n",
       "      <th>f0</th>\n",
       "      <th>f1</th>\n",
       "      <th>f2</th>\n",
       "      <th>product</th>\n",
       "    </tr>\n",
       "  </thead>\n",
       "  <tbody>\n",
       "    <tr>\n",
       "      <th>f0</th>\n",
       "      <td>1.000000</td>\n",
       "      <td>-0.440723</td>\n",
       "      <td>-0.003153</td>\n",
       "      <td>0.143536</td>\n",
       "    </tr>\n",
       "    <tr>\n",
       "      <th>f1</th>\n",
       "      <td>-0.440723</td>\n",
       "      <td>1.000000</td>\n",
       "      <td>0.001724</td>\n",
       "      <td>-0.192356</td>\n",
       "    </tr>\n",
       "    <tr>\n",
       "      <th>f2</th>\n",
       "      <td>-0.003153</td>\n",
       "      <td>0.001724</td>\n",
       "      <td>1.000000</td>\n",
       "      <td>0.483663</td>\n",
       "    </tr>\n",
       "    <tr>\n",
       "      <th>product</th>\n",
       "      <td>0.143536</td>\n",
       "      <td>-0.192356</td>\n",
       "      <td>0.483663</td>\n",
       "      <td>1.000000</td>\n",
       "    </tr>\n",
       "  </tbody>\n",
       "</table>\n",
       "</div>"
      ],
      "text/plain": [
       "               f0        f1        f2   product\n",
       "f0       1.000000 -0.440723 -0.003153  0.143536\n",
       "f1      -0.440723  1.000000  0.001724 -0.192356\n",
       "f2      -0.003153  0.001724  1.000000  0.483663\n",
       "product  0.143536 -0.192356  0.483663  1.000000"
      ]
     },
     "execution_count": 17,
     "metadata": {},
     "output_type": "execute_result"
    }
   ],
   "source": [
    "df_1.corr()"
   ]
  },
  {
   "cell_type": "code",
   "execution_count": 18,
   "metadata": {},
   "outputs": [
    {
     "data": {
      "text/html": [
       "<div>\n",
       "<style scoped>\n",
       "    .dataframe tbody tr th:only-of-type {\n",
       "        vertical-align: middle;\n",
       "    }\n",
       "\n",
       "    .dataframe tbody tr th {\n",
       "        vertical-align: top;\n",
       "    }\n",
       "\n",
       "    .dataframe thead th {\n",
       "        text-align: right;\n",
       "    }\n",
       "</style>\n",
       "<table border=\"1\" class=\"dataframe\">\n",
       "  <thead>\n",
       "    <tr style=\"text-align: right;\">\n",
       "      <th></th>\n",
       "      <th>f0</th>\n",
       "      <th>f1</th>\n",
       "      <th>f2</th>\n",
       "      <th>product</th>\n",
       "    </tr>\n",
       "  </thead>\n",
       "  <tbody>\n",
       "    <tr>\n",
       "      <th>f0</th>\n",
       "      <td>1.000000</td>\n",
       "      <td>0.182287</td>\n",
       "      <td>-0.001777</td>\n",
       "      <td>-0.030491</td>\n",
       "    </tr>\n",
       "    <tr>\n",
       "      <th>f1</th>\n",
       "      <td>0.182287</td>\n",
       "      <td>1.000000</td>\n",
       "      <td>-0.002595</td>\n",
       "      <td>-0.010155</td>\n",
       "    </tr>\n",
       "    <tr>\n",
       "      <th>f2</th>\n",
       "      <td>-0.001777</td>\n",
       "      <td>-0.002595</td>\n",
       "      <td>1.000000</td>\n",
       "      <td>0.999397</td>\n",
       "    </tr>\n",
       "    <tr>\n",
       "      <th>product</th>\n",
       "      <td>-0.030491</td>\n",
       "      <td>-0.010155</td>\n",
       "      <td>0.999397</td>\n",
       "      <td>1.000000</td>\n",
       "    </tr>\n",
       "  </tbody>\n",
       "</table>\n",
       "</div>"
      ],
      "text/plain": [
       "               f0        f1        f2   product\n",
       "f0       1.000000  0.182287 -0.001777 -0.030491\n",
       "f1       0.182287  1.000000 -0.002595 -0.010155\n",
       "f2      -0.001777 -0.002595  1.000000  0.999397\n",
       "product -0.030491 -0.010155  0.999397  1.000000"
      ]
     },
     "execution_count": 18,
     "metadata": {},
     "output_type": "execute_result"
    }
   ],
   "source": [
    "df_2.corr()"
   ]
  },
  {
   "cell_type": "code",
   "execution_count": 19,
   "metadata": {
    "scrolled": true
   },
   "outputs": [
    {
     "data": {
      "text/html": [
       "<div>\n",
       "<style scoped>\n",
       "    .dataframe tbody tr th:only-of-type {\n",
       "        vertical-align: middle;\n",
       "    }\n",
       "\n",
       "    .dataframe tbody tr th {\n",
       "        vertical-align: top;\n",
       "    }\n",
       "\n",
       "    .dataframe thead th {\n",
       "        text-align: right;\n",
       "    }\n",
       "</style>\n",
       "<table border=\"1\" class=\"dataframe\">\n",
       "  <thead>\n",
       "    <tr style=\"text-align: right;\">\n",
       "      <th></th>\n",
       "      <th>f0</th>\n",
       "      <th>f1</th>\n",
       "      <th>f2</th>\n",
       "      <th>product</th>\n",
       "    </tr>\n",
       "  </thead>\n",
       "  <tbody>\n",
       "    <tr>\n",
       "      <th>f0</th>\n",
       "      <td>1.000000</td>\n",
       "      <td>0.000528</td>\n",
       "      <td>-0.000448</td>\n",
       "      <td>-0.001987</td>\n",
       "    </tr>\n",
       "    <tr>\n",
       "      <th>f1</th>\n",
       "      <td>0.000528</td>\n",
       "      <td>1.000000</td>\n",
       "      <td>0.000779</td>\n",
       "      <td>-0.001012</td>\n",
       "    </tr>\n",
       "    <tr>\n",
       "      <th>f2</th>\n",
       "      <td>-0.000448</td>\n",
       "      <td>0.000779</td>\n",
       "      <td>1.000000</td>\n",
       "      <td>0.445871</td>\n",
       "    </tr>\n",
       "    <tr>\n",
       "      <th>product</th>\n",
       "      <td>-0.001987</td>\n",
       "      <td>-0.001012</td>\n",
       "      <td>0.445871</td>\n",
       "      <td>1.000000</td>\n",
       "    </tr>\n",
       "  </tbody>\n",
       "</table>\n",
       "</div>"
      ],
      "text/plain": [
       "               f0        f1        f2   product\n",
       "f0       1.000000  0.000528 -0.000448 -0.001987\n",
       "f1       0.000528  1.000000  0.000779 -0.001012\n",
       "f2      -0.000448  0.000779  1.000000  0.445871\n",
       "product -0.001987 -0.001012  0.445871  1.000000"
      ]
     },
     "execution_count": 19,
     "metadata": {},
     "output_type": "execute_result"
    }
   ],
   "source": [
    "df_3.corr()"
   ]
  },
  {
   "cell_type": "markdown",
   "metadata": {},
   "source": [
    "Действительно, для второго региона задачу можно считать решённой без машинного обучения - существует прямая зависимость целевого признака `product` от признака `f2`. В остальных случаях такой сильной зависимости нет. Учтём это в дальнейшей работе."
   ]
  },
  {
   "cell_type": "code",
   "execution_count": 20,
   "metadata": {},
   "outputs": [
    {
     "name": "stdout",
     "output_type": "stream",
     "text": [
      "0\n",
      "0\n",
      "0\n"
     ]
    }
   ],
   "source": [
    "# Ищем дубли\n",
    "\n",
    "print(df_1.duplicated().sum())\n",
    "print(df_2.duplicated().sum())\n",
    "print(df_3.duplicated().sum())"
   ]
  },
  {
   "cell_type": "code",
   "execution_count": 21,
   "metadata": {},
   "outputs": [
    {
     "name": "stdout",
     "output_type": "stream",
     "text": [
      "<class 'pandas.core.frame.DataFrame'>\n",
      "RangeIndex: 100000 entries, 0 to 99999\n",
      "Data columns (total 5 columns):\n",
      " #   Column   Non-Null Count   Dtype  \n",
      "---  ------   --------------   -----  \n",
      " 0   id       100000 non-null  object \n",
      " 1   f0       100000 non-null  float64\n",
      " 2   f1       100000 non-null  float64\n",
      " 3   f2       100000 non-null  float64\n",
      " 4   product  100000 non-null  float64\n",
      "dtypes: float64(4), object(1)\n",
      "memory usage: 3.8+ MB\n",
      "None\n",
      "<class 'pandas.core.frame.DataFrame'>\n",
      "RangeIndex: 100000 entries, 0 to 99999\n",
      "Data columns (total 5 columns):\n",
      " #   Column   Non-Null Count   Dtype  \n",
      "---  ------   --------------   -----  \n",
      " 0   id       100000 non-null  object \n",
      " 1   f0       100000 non-null  float64\n",
      " 2   f1       100000 non-null  float64\n",
      " 3   f2       100000 non-null  float64\n",
      " 4   product  100000 non-null  float64\n",
      "dtypes: float64(4), object(1)\n",
      "memory usage: 3.8+ MB\n",
      "None\n",
      "<class 'pandas.core.frame.DataFrame'>\n",
      "RangeIndex: 100000 entries, 0 to 99999\n",
      "Data columns (total 5 columns):\n",
      " #   Column   Non-Null Count   Dtype  \n",
      "---  ------   --------------   -----  \n",
      " 0   id       100000 non-null  object \n",
      " 1   f0       100000 non-null  float64\n",
      " 2   f1       100000 non-null  float64\n",
      " 3   f2       100000 non-null  float64\n",
      " 4   product  100000 non-null  float64\n",
      "dtypes: float64(4), object(1)\n",
      "memory usage: 3.8+ MB\n",
      "None\n"
     ]
    }
   ],
   "source": [
    "# Ищем аномалии в типах и пропуски\n",
    "\n",
    "print(df_1.info())\n",
    "print(df_2.info())\n",
    "print(df_3.info())"
   ]
  },
  {
   "cell_type": "code",
   "execution_count": 22,
   "metadata": {},
   "outputs": [
    {
     "name": "stdout",
     "output_type": "stream",
     "text": [
      "TtcGQ    2\n",
      "fiKDv    2\n",
      "74z30    2\n",
      "bsk9y    2\n",
      "Tdehs    2\n",
      "        ..\n",
      "Sj80T    1\n",
      "UQTcR    1\n",
      "hJPzH    1\n",
      "Cl0he    1\n",
      "7GkWe    1\n",
      "Name: id, Length: 99990, dtype: int64\n",
      "5ltQ6    2\n",
      "LHZR0    2\n",
      "bfPNe    2\n",
      "wt4Uk    2\n",
      "wToig    1\n",
      "        ..\n",
      "mf4ro    1\n",
      "l08PY    1\n",
      "JPMhL    1\n",
      "vPL84    1\n",
      "Ivqak    1\n",
      "Name: id, Length: 99996, dtype: int64\n",
      "Vcm5J    2\n",
      "KUPhW    2\n",
      "VF7Jo    2\n",
      "xCHr8    2\n",
      "lP7GO    1\n",
      "        ..\n",
      "Gm9E0    1\n",
      "6OcCJ    1\n",
      "bIqqS    1\n",
      "jz6bf    1\n",
      "K5UZL    1\n",
      "Name: id, Length: 99996, dtype: int64\n"
     ]
    }
   ],
   "source": [
    "# Ищем дубли в id\n",
    "\n",
    "print(df_1['id'].value_counts())\n",
    "print(df_2['id'].value_counts())\n",
    "print(df_3['id'].value_counts())"
   ]
  },
  {
   "cell_type": "markdown",
   "metadata": {},
   "source": [
    "Некоторые id дублируются. Проверим выборочно строки с дублирующимися id."
   ]
  },
  {
   "cell_type": "code",
   "execution_count": 23,
   "metadata": {},
   "outputs": [
    {
     "data": {
      "text/html": [
       "<div>\n",
       "<style scoped>\n",
       "    .dataframe tbody tr th:only-of-type {\n",
       "        vertical-align: middle;\n",
       "    }\n",
       "\n",
       "    .dataframe tbody tr th {\n",
       "        vertical-align: top;\n",
       "    }\n",
       "\n",
       "    .dataframe thead th {\n",
       "        text-align: right;\n",
       "    }\n",
       "</style>\n",
       "<table border=\"1\" class=\"dataframe\">\n",
       "  <thead>\n",
       "    <tr style=\"text-align: right;\">\n",
       "      <th></th>\n",
       "      <th>id</th>\n",
       "      <th>f0</th>\n",
       "      <th>f1</th>\n",
       "      <th>f2</th>\n",
       "      <th>product</th>\n",
       "    </tr>\n",
       "  </thead>\n",
       "  <tbody>\n",
       "    <tr>\n",
       "      <th>1949</th>\n",
       "      <td>QcMuo</td>\n",
       "      <td>0.506563</td>\n",
       "      <td>-0.323775</td>\n",
       "      <td>-2.215583</td>\n",
       "      <td>75.496502</td>\n",
       "    </tr>\n",
       "    <tr>\n",
       "      <th>63593</th>\n",
       "      <td>QcMuo</td>\n",
       "      <td>0.635635</td>\n",
       "      <td>-0.473422</td>\n",
       "      <td>0.862670</td>\n",
       "      <td>64.578675</td>\n",
       "    </tr>\n",
       "  </tbody>\n",
       "</table>\n",
       "</div>"
      ],
      "text/plain": [
       "          id        f0        f1        f2    product\n",
       "1949   QcMuo  0.506563 -0.323775 -2.215583  75.496502\n",
       "63593  QcMuo  0.635635 -0.473422  0.862670  64.578675"
      ]
     },
     "execution_count": 23,
     "metadata": {},
     "output_type": "execute_result"
    }
   ],
   "source": [
    "df_1.query('id == \"QcMuo\"')"
   ]
  },
  {
   "cell_type": "code",
   "execution_count": 24,
   "metadata": {},
   "outputs": [
    {
     "data": {
      "text/html": [
       "<div>\n",
       "<style scoped>\n",
       "    .dataframe tbody tr th:only-of-type {\n",
       "        vertical-align: middle;\n",
       "    }\n",
       "\n",
       "    .dataframe tbody tr th {\n",
       "        vertical-align: top;\n",
       "    }\n",
       "\n",
       "    .dataframe thead th {\n",
       "        text-align: right;\n",
       "    }\n",
       "</style>\n",
       "<table border=\"1\" class=\"dataframe\">\n",
       "  <thead>\n",
       "    <tr style=\"text-align: right;\">\n",
       "      <th></th>\n",
       "      <th>id</th>\n",
       "      <th>f0</th>\n",
       "      <th>f1</th>\n",
       "      <th>f2</th>\n",
       "      <th>product</th>\n",
       "    </tr>\n",
       "  </thead>\n",
       "  <tbody>\n",
       "    <tr>\n",
       "      <th>5849</th>\n",
       "      <td>5ltQ6</td>\n",
       "      <td>-3.435401</td>\n",
       "      <td>-12.296043</td>\n",
       "      <td>1.999796</td>\n",
       "      <td>57.085625</td>\n",
       "    </tr>\n",
       "    <tr>\n",
       "      <th>84461</th>\n",
       "      <td>5ltQ6</td>\n",
       "      <td>18.213839</td>\n",
       "      <td>2.191999</td>\n",
       "      <td>3.993869</td>\n",
       "      <td>107.813044</td>\n",
       "    </tr>\n",
       "  </tbody>\n",
       "</table>\n",
       "</div>"
      ],
      "text/plain": [
       "          id         f0         f1        f2     product\n",
       "5849   5ltQ6  -3.435401 -12.296043  1.999796   57.085625\n",
       "84461  5ltQ6  18.213839   2.191999  3.993869  107.813044"
      ]
     },
     "execution_count": 24,
     "metadata": {},
     "output_type": "execute_result"
    }
   ],
   "source": [
    "df_2.query('id == \"5ltQ6\"')"
   ]
  },
  {
   "cell_type": "code",
   "execution_count": 25,
   "metadata": {
    "scrolled": true
   },
   "outputs": [
    {
     "data": {
      "text/html": [
       "<div>\n",
       "<style scoped>\n",
       "    .dataframe tbody tr th:only-of-type {\n",
       "        vertical-align: middle;\n",
       "    }\n",
       "\n",
       "    .dataframe tbody tr th {\n",
       "        vertical-align: top;\n",
       "    }\n",
       "\n",
       "    .dataframe thead th {\n",
       "        text-align: right;\n",
       "    }\n",
       "</style>\n",
       "<table border=\"1\" class=\"dataframe\">\n",
       "  <thead>\n",
       "    <tr style=\"text-align: right;\">\n",
       "      <th></th>\n",
       "      <th>id</th>\n",
       "      <th>f0</th>\n",
       "      <th>f1</th>\n",
       "      <th>f2</th>\n",
       "      <th>product</th>\n",
       "    </tr>\n",
       "  </thead>\n",
       "  <tbody>\n",
       "    <tr>\n",
       "      <th>45404</th>\n",
       "      <td>KUPhW</td>\n",
       "      <td>0.231846</td>\n",
       "      <td>-1.698941</td>\n",
       "      <td>4.990775</td>\n",
       "      <td>11.716299</td>\n",
       "    </tr>\n",
       "    <tr>\n",
       "      <th>55967</th>\n",
       "      <td>KUPhW</td>\n",
       "      <td>1.211150</td>\n",
       "      <td>3.176408</td>\n",
       "      <td>5.543540</td>\n",
       "      <td>132.831802</td>\n",
       "    </tr>\n",
       "  </tbody>\n",
       "</table>\n",
       "</div>"
      ],
      "text/plain": [
       "          id        f0        f1        f2     product\n",
       "45404  KUPhW  0.231846 -1.698941  4.990775   11.716299\n",
       "55967  KUPhW  1.211150  3.176408  5.543540  132.831802"
      ]
     },
     "execution_count": 25,
     "metadata": {},
     "output_type": "execute_result"
    }
   ],
   "source": [
    "df_3.query('id == \"KUPhW\"')"
   ]
  },
  {
   "cell_type": "markdown",
   "metadata": {},
   "source": [
    "Показатели f0, f1, f2 и объём нефти сильно отличаются для одного и того же id. Также видна зависимость - чем больше некоторые значения показателей `f`, тем выше `product`. Возможно, были проведены измерения в одной скважине, но в разное время (до/после/во время бурения). "
   ]
  },
  {
   "cell_type": "markdown",
   "metadata": {},
   "source": [
    "### Предобработка данных"
   ]
  },
  {
   "cell_type": "markdown",
   "metadata": {},
   "source": [
    "Так как id не является признаком, влияющим на добычу нефте, избавляемся от соответствующего столбца."
   ]
  },
  {
   "cell_type": "code",
   "execution_count": 26,
   "metadata": {},
   "outputs": [],
   "source": [
    "df_1 = df_1.drop('id', axis=1)\n",
    "df_2 = df_2.drop('id', axis=1)\n",
    "df_3 = df_3.drop('id', axis=1)"
   ]
  },
  {
   "cell_type": "markdown",
   "metadata": {},
   "source": [
    "### Вывод"
   ]
  },
  {
   "cell_type": "markdown",
   "metadata": {},
   "source": [
    "В ходе изучения данных были рассмотрены распределения, выбросы, масштаб данных. Критичных отклонений не выявлено: серьёзные выбросы отсутствуют, дубли объяснимы и выглядят достоверными, масштаб значений принимаем за стандартизированный.\n",
    "\n",
    "В регионе 2 обнаружена прямая зависимость между параметром `f2` и целевым признаком `product`. Возможно, это является утечкой целевого признака, но так как нам неизвеста природа этого признака, принимаем решение не избавляться от столбца `f2`.\n",
    "\n",
    "Предобработка данных не требуется."
   ]
  },
  {
   "cell_type": "markdown",
   "metadata": {},
   "source": [
    "## Обучение и проверка модели"
   ]
  },
  {
   "cell_type": "markdown",
   "metadata": {},
   "source": [
    "### Построение моделей, обучение"
   ]
  },
  {
   "cell_type": "code",
   "execution_count": 27,
   "metadata": {},
   "outputs": [],
   "source": [
    "features_df_1 = df_1.drop('product', axis=1)\n",
    "target_df_1 = df_1['product']\n",
    "\n",
    "features_df_2 = df_2.drop('product', axis=1)\n",
    "target_df_2 = df_2['product']\n",
    "\n",
    "features_df_3 = df_3.drop('product', axis=1)\n",
    "target_df_3= df_3['product']"
   ]
  },
  {
   "cell_type": "code",
   "execution_count": 28,
   "metadata": {},
   "outputs": [],
   "source": [
    "features_train_df_1, features_test_df_1, target_train_df_1, target_test_df_1 = train_test_split(\n",
    "    features_df_1, target_df_1, test_size=0.25, random_state=777)\n",
    "\n",
    "features_train_df_2, features_test_df_2, target_train_df_2, target_test_df_2 = train_test_split(\n",
    "    features_df_2, target_df_2, test_size=0.25, random_state=777)\n",
    "\n",
    "features_train_df_3, features_test_df_3, target_train_df_3, target_test_df_3 = train_test_split(\n",
    "    features_df_3, target_df_3, test_size=0.25, random_state=777)"
   ]
  },
  {
   "cell_type": "code",
   "execution_count": 29,
   "metadata": {},
   "outputs": [
    {
     "name": "stdout",
     "output_type": "stream",
     "text": [
      "(75000, 3)\n",
      "(75000,)\n",
      "(75000, 3)\n",
      "(75000,)\n",
      "(75000, 3)\n",
      "(75000,)\n",
      "(25000, 3)\n",
      "(25000,)\n",
      "(25000, 3)\n",
      "(25000,)\n",
      "(25000, 3)\n",
      "(25000,)\n"
     ]
    }
   ],
   "source": [
    "# Проверяем (хотя, что тут может пойти не так?)\n",
    "\n",
    "print(features_train_df_1.shape)\n",
    "print(target_train_df_1.shape)\n",
    "\n",
    "print(features_train_df_2.shape)\n",
    "print(target_train_df_2.shape)\n",
    "\n",
    "print(features_train_df_3.shape)\n",
    "print(target_train_df_3.shape)\n",
    "\n",
    "print(features_test_df_1.shape)\n",
    "print(target_test_df_1.shape)\n",
    "\n",
    "print(features_test_df_2.shape)\n",
    "print(target_test_df_2.shape)\n",
    "\n",
    "print(features_test_df_3.shape)\n",
    "print(target_test_df_3.shape)"
   ]
  },
  {
   "cell_type": "markdown",
   "metadata": {},
   "source": [
    "### Проверка моделей на адекватность"
   ]
  },
  {
   "cell_type": "markdown",
   "metadata": {},
   "source": [
    "Рассмотрим параметр RMSE для моделей линейной регрессии каждого региона."
   ]
  },
  {
   "cell_type": "code",
   "execution_count": 30,
   "metadata": {},
   "outputs": [
    {
     "name": "stdout",
     "output_type": "stream",
     "text": [
      "RMSE, reg 1 = 37.99219303094202\n",
      "RMSE, reg 2 = 0.8911506041453015\n",
      "RMSE, reg 3 = 40.23018694848326\n"
     ]
    }
   ],
   "source": [
    "model_1 = LinearRegression()\n",
    "model_1.fit(features_train_df_1, target_train_df_1)\n",
    "predicted_1 = model_1.predict(features_test_df_1)\n",
    "print('RMSE, reg 1 =', (mean_squared_error(target_test_df_1, predicted_1)) ** 0.5)\n",
    "\n",
    "model_2 = LinearRegression()\n",
    "model_2.fit(features_train_df_2, target_train_df_2)\n",
    "predicted_2 = model_2.predict(features_test_df_2)\n",
    "print('RMSE, reg 2 =', (mean_squared_error(target_test_df_2, predicted_2)) ** 0.5)\n",
    "\n",
    "model_3 = LinearRegression()\n",
    "model_3.fit(features_train_df_3, target_train_df_3)\n",
    "predicted_3 = model_3.predict(features_test_df_3)\n",
    "print('RMSE, reg 3 =', (mean_squared_error(target_test_df_3, predicted_3)) ** 0.5)"
   ]
  },
  {
   "cell_type": "markdown",
   "metadata": {},
   "source": [
    "RMSE находятся в диапазоне от 38 до 46. Проверим RMSE для константной модели."
   ]
  },
  {
   "cell_type": "code",
   "execution_count": 31,
   "metadata": {},
   "outputs": [
    {
     "name": "stdout",
     "output_type": "stream",
     "text": [
      "RMSE const, reg 1 = 44.52949424185096\n",
      "RMSE const, reg 2 = 45.93117415006517\n",
      "RMSE const, reg 3 = 44.88426322978363\n"
     ]
    }
   ],
   "source": [
    "predicted_const_1 = pd.Series(target_train_df_1.mean(), index=target_test_df_1.index)\n",
    "print('RMSE const, reg 1 =', (mean_squared_error(target_test_df_1, predicted_const_1)) ** 0.5)\n",
    "\n",
    "predicted_const_2 = pd.Series(target_train_df_2.mean(), index=target_test_df_2.index)\n",
    "print('RMSE const, reg 2 =', (mean_squared_error(target_test_df_2, predicted_const_2)) ** 0.5)\n",
    "\n",
    "predicted_const_3 = pd.Series(target_train_df_3.mean(), index=target_test_df_3.index)\n",
    "print('RMSE const, reg 3 =', (mean_squared_error(target_test_df_3, predicted_const_3)) ** 0.5)"
   ]
  },
  {
   "cell_type": "markdown",
   "metadata": {},
   "source": [
    "Отклонение у обученных моделей в разной степени меньше, чем у константной модели. Вычислим дополнительно коэффициент детерминации для более наглядного понимания адекватности модели."
   ]
  },
  {
   "cell_type": "code",
   "execution_count": 32,
   "metadata": {},
   "outputs": [
    {
     "name": "stdout",
     "output_type": "stream",
     "text": [
      "R2, reg 1: 0.27195837250637545\n",
      "R2, reg 2: 0.9996232950483743\n",
      "R2, reg 3: 0.19661582889091822\n"
     ]
    }
   ],
   "source": [
    "print('R2, reg 1:', r2_score(target_test_df_1, predicted_1))\n",
    "print('R2, reg 2:', r2_score(target_test_df_2, predicted_2))\n",
    "print('R2, reg 3:', r2_score(target_test_df_3, predicted_3))"
   ]
  },
  {
   "cell_type": "markdown",
   "metadata": {},
   "source": [
    "Рассчитаем средний запас предполагаемого сырья для разных регионов:"
   ]
  },
  {
   "cell_type": "code",
   "execution_count": 33,
   "metadata": {},
   "outputs": [
    {
     "name": "stdout",
     "output_type": "stream",
     "text": [
      "Средний предполагаемый запас сырья в регионе 1: 92.71675294828385 тысяч баррелей\n",
      "Средний предполагаемый запас сырья в регионе 2: 69.75032521418686 тысяч баррелей\n",
      "Средний предполагаемый запас сырья в регионе 3: 94.97788403611848 тысяч баррелей\n"
     ]
    }
   ],
   "source": [
    "print('Средний предполагаемый запас сырья в регионе 1:', predicted_1.mean(), 'тысяч баррелей')\n",
    "print('Средний предполагаемый запас сырья в регионе 2:', predicted_2.mean(), 'тысяч баррелей')\n",
    "print('Средний предполагаемый запас сырья в регионе 3:', predicted_3.mean(), 'тысяч баррелей')"
   ]
  },
  {
   "cell_type": "markdown",
   "metadata": {},
   "source": [
    "### Вывод"
   ]
  },
  {
   "cell_type": "markdown",
   "metadata": {},
   "source": [
    "Построено три модели линейной регрессии для разных регионов. Наибольшую адекватность проявили модели, построенные для 1 и 3 регионов. Предполагаем, что во 2 регионе отсутствует должная эффективность по причине удаления признака `f2` из обучения.\n",
    "\n",
    "Результат вычислений представлен в таблице:\n",
    "<table width=400>\n",
    " <tr>\n",
    "  <th></th>\n",
    "  <th>Регион 1</th>\n",
    "  <th>Регион 2</th>\n",
    "  <th>Регион 3</th>\n",
    " </tr>\n",
    " <tr><td>RMSE</td><td>37.99</td><td>0.89</td><td>40.23</td></tr>\n",
    " <tr><td>R2</td><td bgcolor=\"#ffffaa\" >0.272</td><td bgcolor=\"#aaffaa\">0.999</td><td bgcolor=\"#ffaaaa\">0.197</td></tr>\n",
    " <tr><td>V сырья предпол., тыс. баррелей</td><td>92.7</td><td>69.8</td><td>95.0</td></tr>\n",
    "</table>\n",
    "\n"
   ]
  },
  {
   "cell_type": "markdown",
   "metadata": {},
   "source": [
    "## Подготовка к расчёту прибыли"
   ]
  },
  {
   "cell_type": "code",
   "execution_count": 34,
   "metadata": {},
   "outputs": [],
   "source": [
    "# Записываем необходимые переменные\n",
    "\n",
    "BUDGET = 10000000000\n",
    "PRICE = 450000\n",
    "POINTS = 500\n",
    "WELLS = 200\n",
    "RISK = 0.025"
   ]
  },
  {
   "cell_type": "markdown",
   "metadata": {},
   "source": [
    "Рассчитаем возврат инвестиций. ROI = (Итоговая прибыль - Инвестиции) / Инвестиции. Объём инвестиций записан в переменной `budget`, итоговую прибыль необходимо вычислить. Допустим, что операционные затраты уже включены в инвестиции, таким образом за итоговую прибыль возьмём выручку - объём добытой нефти, умноженный на стоимость."
   ]
  },
  {
   "cell_type": "code",
   "execution_count": 35,
   "metadata": {},
   "outputs": [],
   "source": [
    "def roi(PROFIT, BUDGET=10000000000):\n",
    "    return (PROFIT - BUDGET) / BUDGET"
   ]
  },
  {
   "cell_type": "markdown",
   "metadata": {},
   "source": [
    "Рассчитаем безубыточную точку, то есть ROI = 0 (Инвестиции = Прибыль):"
   ]
  },
  {
   "cell_type": "code",
   "execution_count": 36,
   "metadata": {},
   "outputs": [
    {
     "data": {
      "text/plain": [
       "22222.222222222223"
      ]
     },
     "execution_count": 36,
     "metadata": {},
     "output_type": "execute_result"
    }
   ],
   "source": [
    "# budget = price * product\n",
    "\n",
    "product_total = BUDGET / PRICE\n",
    "product_total"
   ]
  },
  {
   "cell_type": "markdown",
   "metadata": {},
   "source": [
    "Так как мы разрабатываем 200 скважин, разделим общий объём на 200."
   ]
  },
  {
   "cell_type": "code",
   "execution_count": 37,
   "metadata": {},
   "outputs": [
    {
     "data": {
      "text/plain": [
       "111.11111111111111"
      ]
     },
     "execution_count": 37,
     "metadata": {},
     "output_type": "execute_result"
    }
   ],
   "source": [
    "product_per_well = product_total / WELLS\n",
    "product_per_well"
   ]
  },
  {
   "cell_type": "markdown",
   "metadata": {},
   "source": [
    "Средний объём нефтепродуктов в одной скважине, необходимый для безубыточной работы - 111.11. Это значение выше, чем средний объём продуктов в скважинах в регионах. Посмотрим на топ-200 случайных 500 скважин."
   ]
  },
  {
   "cell_type": "code",
   "execution_count": 38,
   "metadata": {},
   "outputs": [
    {
     "name": "stdout",
     "output_type": "stream",
     "text": [
      "reg 1: 137.29623259572185\n",
      "reg 2: 118.10780762169246\n",
      "reg 3: 138.7120326304259\n"
     ]
    }
   ],
   "source": [
    "rand_wells_1 = df_1['product'].sample(500).sort_values(ascending=False).head(200).mean()\n",
    "print('reg 1:', rand_wells_1)\n",
    "\n",
    "rand_wells_2 = df_2['product'].sample(500).sort_values(ascending=False).head(200).mean()\n",
    "print('reg 2:', rand_wells_2)\n",
    "\n",
    "rand_wells_3 = df_3['product'].sample(500).sort_values(ascending=False).head(200).mean()\n",
    "print('reg 3:', rand_wells_3)"
   ]
  },
  {
   "cell_type": "markdown",
   "metadata": {},
   "source": [
    "Несколько ротаций вычислений показали, что для каждого региона возможно вычислить прибыльные 200 точек из случайных 500. Проделаем аналогичную операцию, используя данные предсказаний."
   ]
  },
  {
   "cell_type": "code",
   "execution_count": 39,
   "metadata": {},
   "outputs": [
    {
     "name": "stdout",
     "output_type": "stream",
     "text": [
      "reg 1: 115.3277111956495\n",
      "reg 2: 116.14403521519675\n",
      "reg 3: 114.06933871792754\n"
     ]
    }
   ],
   "source": [
    "pred_1 = pd.Series(predicted_1)\n",
    "pred_2 = pd.Series(predicted_2)\n",
    "pred_3 = pd.Series(predicted_3)\n",
    "\n",
    "rand_wells_1_predicted = pred_1.sample(500).sort_values(ascending=False).head(200).mean()\n",
    "print('reg 1:', rand_wells_1_predicted)\n",
    "\n",
    "rand_wells_2_predicted = pred_2.sample(500).sort_values(ascending=False).head(200).mean()\n",
    "print('reg 2:', rand_wells_2_predicted)\n",
    "\n",
    "rand_wells_3_predicted = pred_3.sample(500).sort_values(ascending=False).head(200).mean()\n",
    "print('reg 3:', rand_wells_3_predicted)"
   ]
  },
  {
   "cell_type": "markdown",
   "metadata": {},
   "source": [
    "Судя по предсказанным значениям, все модели показывают возможность нахождения прибыльных точек."
   ]
  },
  {
   "cell_type": "markdown",
   "metadata": {},
   "source": [
    "Создадим функцию для расчёта прибыли:"
   ]
  },
  {
   "cell_type": "code",
   "execution_count": 40,
   "metadata": {},
   "outputs": [],
   "source": [
    "target_test_df_1 = target_test_df_1.reset_index(drop=True)\n",
    "target_test_df_2 = target_test_df_2.reset_index(drop=True)\n",
    "target_test_df_3 = target_test_df_3.reset_index(drop=True)\n",
    "\n",
    "def profit(target, predictions):\n",
    "    pred_sorted = predictions.sort_values(ascending=False)\n",
    "    selected = target[pred_sorted.index][:WELLS]\n",
    "    income = selected.sum() * PRICE - BUDGET\n",
    "    return income"
   ]
  },
  {
   "cell_type": "markdown",
   "metadata": {},
   "source": [
    "**Вывод:**\n",
    "\n",
    "1. Ключевые значения записали в отдельные переменные;\n",
    "2. Достаточный объём сырья в скважине для безубыточной разработки - 111 тысяч баррелей, что выше, чем средний объём сырья в скважине в каком-либо регионе, но ниже, чем средний объём 200 лучших скважин из 500 случайных;\n",
    "3. Модель, прогнозирующая объём сырья во втором регионе, неэффективна по причине низкой адекватности."
   ]
  },
  {
   "cell_type": "markdown",
   "metadata": {},
   "source": [
    "## Расчёт прибыли и рисков "
   ]
  },
  {
   "cell_type": "code",
   "execution_count": 41,
   "metadata": {},
   "outputs": [],
   "source": [
    "def bootstrap(target, predictions):\n",
    "    values = []\n",
    "    for i in range(1000):\n",
    "        target_subsample = target.sample(n=POINTS, replace=True)\n",
    "        preds_subsample = predictions[target_subsample.index]\n",
    "        values.append(profit(target_subsample, preds_subsample))\n",
    "    values = pd.Series(values)\n",
    "    mean = values.mean()\n",
    "    low = values.quantile(0.025)\n",
    "    upper = values.quantile(0.975)\n",
    "    confidence_interval = low, upper\n",
    "    lose_chanse = (values < 0).mean() * 100\n",
    "    print('Средняя прибыль:', mean.round(2))\n",
    "    print('Шанс убытков:', lose_chanse.round(2), '%')\n",
    "    print('Доверительный интервал:', confidence_interval)"
   ]
  },
  {
   "cell_type": "code",
   "execution_count": 42,
   "metadata": {},
   "outputs": [
    {
     "name": "stdout",
     "output_type": "stream",
     "text": [
      "Средняя прибыль: 491130530.32\n",
      "Шанс убытков: 3.6 %\n",
      "Доверительный интервал: (-48330548.08613205, 1018789827.8653411)\n"
     ]
    }
   ],
   "source": [
    "inc_1 = bootstrap(target_test_df_1, pred_1)\n",
    "inc_1"
   ]
  },
  {
   "cell_type": "code",
   "execution_count": 43,
   "metadata": {},
   "outputs": [
    {
     "name": "stdout",
     "output_type": "stream",
     "text": [
      "Средняя прибыль: 588786080.71\n",
      "Шанс убытков: 0.2 %\n",
      "Доверительный интервал: (150051782.61001346, 1033745027.1136751)\n"
     ]
    }
   ],
   "source": [
    "inc_2 = bootstrap(target_test_df_2, pred_2)\n",
    "inc_2"
   ]
  },
  {
   "cell_type": "code",
   "execution_count": 44,
   "metadata": {},
   "outputs": [
    {
     "name": "stdout",
     "output_type": "stream",
     "text": [
      "Средняя прибыль: 388652789.13\n",
      "Шанс убытков: 9.0 %\n",
      "Доверительный интервал: (-154912309.0629209, 945225332.8138734)\n"
     ]
    }
   ],
   "source": [
    "inc_3 = bootstrap(target_test_df_3, pred_3)\n",
    "inc_3"
   ]
  },
  {
   "cell_type": "markdown",
   "metadata": {},
   "source": [
    "Ни один из регионов не прошёл отбор по уровню риска. Проверим второй регион, используя первоначальный датафрейм."
   ]
  },
  {
   "cell_type": "markdown",
   "metadata": {},
   "source": [
    "**Вывод:**\n",
    "\n",
    "Первый и третий регион не проходят отбор по уровню риска: шанс убытка > 2.5%. Второй регион проходит по уровню риска."
   ]
  },
  {
   "cell_type": "markdown",
   "metadata": {},
   "source": [
    "## Вывод"
   ]
  },
  {
   "cell_type": "markdown",
   "metadata": {},
   "source": [
    "Изучили данные о точках отбора проб из нефтяных месторождений трёх регионов.\n",
    "\n",
    "В предоставленных данных отклонения не выявили, но имеется гипотеза об утечке целевого признака в признак `f2` второго региона: имеется прямая зависимость между значением `f2` и количеством содержащейся нефти в скважине. Если зависимость не является утечкой признака, в дальнейшей работе рекомендуется использовать параметр `f2`, так как он коррелирует со значением `product` с коэффициентом 0.999397, что превосходит точность моделей машинного обучения.\n",
    "\n",
    "Модели обучили по алгоритмам линейной регрессии. В результате вычислений получен следующий результат: регионы 1 и 3 не соответствуют требуемому уровню риска - около 3,7% и 9,5% соответственно. Шанс убытков в регионе 2 часто не превышает 0,7%."
   ]
  },
  {
   "cell_type": "markdown",
   "metadata": {},
   "source": [
    "## Чек-лист готовности проекта"
   ]
  },
  {
   "cell_type": "markdown",
   "metadata": {},
   "source": [
    "- [x]  Jupyter Notebook открыт\n",
    "- [x]  Весь код выполняется без ошибок\n",
    "- [x]  Ячейки с кодом расположены в порядке исполнения\n",
    "- [x]  Выполнен шаг 1: данные подготовлены\n",
    "- [x]  Выполнен шаг 2: модели обучены и проверены\n",
    "    - [x]  Данные корректно разбиты на обучающую и валидационную выборки\n",
    "    - [x]  Модели обучены, предсказания сделаны\n",
    "    - [x]  Предсказания и правильные ответы на валидационной выборке сохранены\n",
    "    - [x]  На экране напечатаны результаты\n",
    "    - [x]  Сделаны выводы\n",
    "- [x]  Выполнен шаг 3: проведена подготовка к расчёту прибыли\n",
    "    - [x]  Для всех ключевых значений созданы константы Python\n",
    "    - [x]  Посчитано минимальное среднее количество продукта в месторождениях региона, достаточное для разработки\n",
    "    - [x]  По предыдущему пункту сделаны выводы\n",
    "    - [x]  Написана функция расчёта прибыли\n",
    "- [x]  Выполнен шаг 4: посчитаны риски и прибыль\n",
    "    - [x]  Проведена процедура *Bootstrap*\n",
    "    - [x]  Все параметры бутстрепа соответствуют условию\n",
    "    - [x]  Найдены все нужные величины\n",
    "    - [x]  Предложен регион для разработки месторождения\n",
    "    - [x]  Выбор региона обоснован"
   ]
  }
 ],
 "metadata": {
  "ExecuteTimeLog": [
   {
    "duration": 768,
    "start_time": "2022-05-23T08:26:49.150Z"
   },
   {
    "duration": 1698,
    "start_time": "2022-05-23T08:27:30.065Z"
   },
   {
    "duration": 19,
    "start_time": "2022-05-23T08:27:46.026Z"
   },
   {
    "duration": 14,
    "start_time": "2022-05-23T08:28:25.164Z"
   },
   {
    "duration": 17,
    "start_time": "2022-05-23T08:28:28.812Z"
   },
   {
    "duration": 40,
    "start_time": "2022-05-23T08:28:48.348Z"
   },
   {
    "duration": 2,
    "start_time": "2022-05-23T08:29:21.922Z"
   },
   {
    "duration": 444,
    "start_time": "2022-05-23T08:29:35.172Z"
   },
   {
    "duration": 41,
    "start_time": "2022-05-23T08:30:11.963Z"
   },
   {
    "duration": 39,
    "start_time": "2022-05-23T08:30:14.234Z"
   },
   {
    "duration": 69,
    "start_time": "2022-05-23T08:36:17.555Z"
   },
   {
    "duration": 46,
    "start_time": "2022-05-23T08:36:24.266Z"
   },
   {
    "duration": 155,
    "start_time": "2022-05-23T08:36:49.371Z"
   },
   {
    "duration": 135,
    "start_time": "2022-05-23T08:37:03.378Z"
   },
   {
    "duration": 84,
    "start_time": "2022-05-23T08:37:21.394Z"
   },
   {
    "duration": 15,
    "start_time": "2022-05-23T08:37:25.889Z"
   },
   {
    "duration": 38,
    "start_time": "2022-05-23T08:38:06.211Z"
   },
   {
    "duration": 36,
    "start_time": "2022-05-23T08:38:29.831Z"
   },
   {
    "duration": 35,
    "start_time": "2022-05-23T08:38:34.366Z"
   },
   {
    "duration": 1198,
    "start_time": "2022-05-23T11:35:11.413Z"
   },
   {
    "duration": 824,
    "start_time": "2022-05-23T11:35:19.784Z"
   },
   {
    "duration": 799,
    "start_time": "2022-05-23T11:35:31.709Z"
   },
   {
    "duration": 4,
    "start_time": "2022-05-23T11:35:43.447Z"
   },
   {
    "duration": 938,
    "start_time": "2022-05-23T11:35:49.493Z"
   },
   {
    "duration": 867,
    "start_time": "2022-05-23T11:36:16.206Z"
   },
   {
    "duration": 952,
    "start_time": "2022-05-23T11:36:42.773Z"
   },
   {
    "duration": 796,
    "start_time": "2022-05-23T11:36:44.054Z"
   },
   {
    "duration": 1408,
    "start_time": "2022-05-23T11:41:04.060Z"
   },
   {
    "duration": 723,
    "start_time": "2022-05-23T11:41:10.788Z"
   },
   {
    "duration": 831,
    "start_time": "2022-05-23T11:41:21.695Z"
   },
   {
    "duration": 1002,
    "start_time": "2022-05-23T11:41:35.303Z"
   },
   {
    "duration": 963,
    "start_time": "2022-05-23T11:41:37.270Z"
   },
   {
    "duration": 1029,
    "start_time": "2022-05-23T11:41:39.022Z"
   },
   {
    "duration": 78,
    "start_time": "2022-05-23T11:48:50.730Z"
   },
   {
    "duration": 203,
    "start_time": "2022-05-23T11:49:10.662Z"
   },
   {
    "duration": 251,
    "start_time": "2022-05-23T11:50:01.223Z"
   },
   {
    "duration": 7,
    "start_time": "2022-05-23T11:50:15.373Z"
   },
   {
    "duration": 37,
    "start_time": "2022-05-23T11:50:33.752Z"
   },
   {
    "duration": 13,
    "start_time": "2022-05-23T11:51:04.452Z"
   },
   {
    "duration": 14,
    "start_time": "2022-05-23T11:57:10.314Z"
   },
   {
    "duration": 17,
    "start_time": "2022-05-23T11:57:14.713Z"
   },
   {
    "duration": 13,
    "start_time": "2022-05-23T11:57:37.760Z"
   },
   {
    "duration": 467,
    "start_time": "2022-05-23T12:04:54.879Z"
   },
   {
    "duration": 459,
    "start_time": "2022-05-23T12:05:21.849Z"
   },
   {
    "duration": 466,
    "start_time": "2022-05-23T12:05:39.720Z"
   },
   {
    "duration": 503,
    "start_time": "2022-05-23T12:05:46.433Z"
   },
   {
    "duration": 504,
    "start_time": "2022-05-23T12:06:48.180Z"
   },
   {
    "duration": 458,
    "start_time": "2022-05-23T12:07:24.616Z"
   },
   {
    "duration": 2,
    "start_time": "2022-05-23T12:08:14.366Z"
   },
   {
    "duration": 10,
    "start_time": "2022-05-23T12:08:38.775Z"
   },
   {
    "duration": 170,
    "start_time": "2022-05-23T12:08:50.985Z"
   },
   {
    "duration": 577,
    "start_time": "2022-05-23T12:09:02.289Z"
   },
   {
    "duration": 8,
    "start_time": "2022-05-23T12:09:22.562Z"
   },
   {
    "duration": 8,
    "start_time": "2022-05-23T12:09:41.449Z"
   },
   {
    "duration": 9,
    "start_time": "2022-05-23T12:09:50.847Z"
   },
   {
    "duration": 190,
    "start_time": "2022-05-23T12:11:18.987Z"
   },
   {
    "duration": 176,
    "start_time": "2022-05-23T12:11:28.812Z"
   },
   {
    "duration": 146,
    "start_time": "2022-05-23T12:14:30.570Z"
   },
   {
    "duration": 187,
    "start_time": "2022-05-23T12:14:36.084Z"
   },
   {
    "duration": 467,
    "start_time": "2022-05-23T12:15:05.361Z"
   },
   {
    "duration": 463,
    "start_time": "2022-05-23T12:15:08.771Z"
   },
   {
    "duration": 67,
    "start_time": "2022-05-23T12:15:32.509Z"
   },
   {
    "duration": 170,
    "start_time": "2022-05-23T12:15:52.744Z"
   },
   {
    "duration": 162,
    "start_time": "2022-05-23T12:16:02.568Z"
   },
   {
    "duration": 165,
    "start_time": "2022-05-23T12:16:09.719Z"
   },
   {
    "duration": 178,
    "start_time": "2022-05-23T12:16:26.635Z"
   },
   {
    "duration": 486,
    "start_time": "2022-05-23T12:16:55.255Z"
   },
   {
    "duration": 353,
    "start_time": "2022-05-23T12:17:38.277Z"
   },
   {
    "duration": 426,
    "start_time": "2022-05-23T18:14:29.151Z"
   },
   {
    "duration": 1642,
    "start_time": "2022-05-23T18:14:29.578Z"
   },
   {
    "duration": 28,
    "start_time": "2022-05-23T18:14:31.223Z"
   },
   {
    "duration": 15,
    "start_time": "2022-05-23T18:14:31.254Z"
   },
   {
    "duration": 34,
    "start_time": "2022-05-23T18:14:31.272Z"
   },
   {
    "duration": 58,
    "start_time": "2022-05-23T18:14:31.308Z"
   },
   {
    "duration": 48,
    "start_time": "2022-05-23T18:14:31.369Z"
   },
   {
    "duration": 35,
    "start_time": "2022-05-23T18:14:31.419Z"
   },
   {
    "duration": 1406,
    "start_time": "2022-05-23T18:14:31.456Z"
   },
   {
    "duration": 981,
    "start_time": "2022-05-23T18:14:32.866Z"
   },
   {
    "duration": 935,
    "start_time": "2022-05-23T18:14:33.849Z"
   },
   {
    "duration": 552,
    "start_time": "2022-05-23T18:14:34.786Z"
   },
   {
    "duration": 188,
    "start_time": "2022-05-23T18:14:35.339Z"
   },
   {
    "duration": 432,
    "start_time": "2022-05-23T18:14:35.529Z"
   },
   {
    "duration": 191,
    "start_time": "2022-05-23T18:14:35.962Z"
   },
   {
    "duration": 347,
    "start_time": "2022-05-23T18:14:36.155Z"
   },
   {
    "duration": 148,
    "start_time": "2022-05-23T18:14:36.504Z"
   },
   {
    "duration": 66,
    "start_time": "2022-05-23T18:14:36.655Z"
   },
   {
    "duration": 222,
    "start_time": "2022-05-23T18:14:36.723Z"
   },
   {
    "duration": 19,
    "start_time": "2022-05-23T18:14:36.948Z"
   },
   {
    "duration": 38,
    "start_time": "2022-05-23T18:14:36.970Z"
   },
   {
    "duration": 17,
    "start_time": "2022-05-23T18:14:37.010Z"
   },
   {
    "duration": 22,
    "start_time": "2022-05-23T19:03:49.304Z"
   },
   {
    "duration": 23,
    "start_time": "2022-05-23T19:04:02.951Z"
   },
   {
    "duration": 14,
    "start_time": "2022-05-23T19:04:13.612Z"
   },
   {
    "duration": 6,
    "start_time": "2022-05-23T19:11:44.194Z"
   },
   {
    "duration": 11,
    "start_time": "2022-05-23T19:11:51.495Z"
   },
   {
    "duration": 11,
    "start_time": "2022-05-23T19:11:57.555Z"
   },
   {
    "duration": 446,
    "start_time": "2022-05-24T04:46:55.169Z"
   },
   {
    "duration": 2449,
    "start_time": "2022-05-24T04:46:55.617Z"
   },
   {
    "duration": 22,
    "start_time": "2022-05-24T04:46:58.068Z"
   },
   {
    "duration": 11,
    "start_time": "2022-05-24T04:46:58.093Z"
   },
   {
    "duration": 14,
    "start_time": "2022-05-24T04:46:58.106Z"
   },
   {
    "duration": 38,
    "start_time": "2022-05-24T04:46:58.121Z"
   },
   {
    "duration": 53,
    "start_time": "2022-05-24T04:46:58.161Z"
   },
   {
    "duration": 32,
    "start_time": "2022-05-24T04:46:58.216Z"
   },
   {
    "duration": 1276,
    "start_time": "2022-05-24T04:46:58.250Z"
   },
   {
    "duration": 920,
    "start_time": "2022-05-24T04:46:59.529Z"
   },
   {
    "duration": 871,
    "start_time": "2022-05-24T04:47:00.451Z"
   },
   {
    "duration": 537,
    "start_time": "2022-05-24T04:47:01.324Z"
   },
   {
    "duration": 173,
    "start_time": "2022-05-24T04:47:01.863Z"
   },
   {
    "duration": 379,
    "start_time": "2022-05-24T04:47:02.037Z"
   },
   {
    "duration": 159,
    "start_time": "2022-05-24T04:47:02.418Z"
   },
   {
    "duration": 312,
    "start_time": "2022-05-24T04:47:02.583Z"
   },
   {
    "duration": 17,
    "start_time": "2022-05-24T04:47:02.896Z"
   },
   {
    "duration": 14,
    "start_time": "2022-05-24T04:47:02.915Z"
   },
   {
    "duration": 15,
    "start_time": "2022-05-24T04:47:02.931Z"
   },
   {
    "duration": 175,
    "start_time": "2022-05-24T04:47:02.948Z"
   },
   {
    "duration": 35,
    "start_time": "2022-05-24T04:47:03.126Z"
   },
   {
    "duration": 165,
    "start_time": "2022-05-24T04:47:03.163Z"
   },
   {
    "duration": 13,
    "start_time": "2022-05-24T04:47:03.330Z"
   },
   {
    "duration": 12,
    "start_time": "2022-05-24T04:47:03.345Z"
   },
   {
    "duration": 36,
    "start_time": "2022-05-24T04:47:03.359Z"
   },
   {
    "duration": 7,
    "start_time": "2022-05-24T04:47:03.397Z"
   },
   {
    "duration": 401,
    "start_time": "2022-05-24T04:48:32.323Z"
   },
   {
    "duration": 389,
    "start_time": "2022-05-24T04:48:32.726Z"
   },
   {
    "duration": 18,
    "start_time": "2022-05-24T04:48:33.116Z"
   },
   {
    "duration": 12,
    "start_time": "2022-05-24T04:48:33.137Z"
   },
   {
    "duration": 13,
    "start_time": "2022-05-24T04:48:33.150Z"
   },
   {
    "duration": 53,
    "start_time": "2022-05-24T04:48:33.165Z"
   },
   {
    "duration": 33,
    "start_time": "2022-05-24T04:48:33.219Z"
   },
   {
    "duration": 56,
    "start_time": "2022-05-24T04:48:33.254Z"
   },
   {
    "duration": 1074,
    "start_time": "2022-05-24T04:48:33.312Z"
   },
   {
    "duration": 891,
    "start_time": "2022-05-24T04:48:34.389Z"
   },
   {
    "duration": 841,
    "start_time": "2022-05-24T04:48:35.283Z"
   },
   {
    "duration": 394,
    "start_time": "2022-05-24T04:48:36.125Z"
   },
   {
    "duration": 286,
    "start_time": "2022-05-24T04:48:36.521Z"
   },
   {
    "duration": 402,
    "start_time": "2022-05-24T04:48:36.808Z"
   },
   {
    "duration": 171,
    "start_time": "2022-05-24T04:48:37.211Z"
   },
   {
    "duration": 334,
    "start_time": "2022-05-24T04:48:37.384Z"
   },
   {
    "duration": 18,
    "start_time": "2022-05-24T04:48:37.720Z"
   },
   {
    "duration": 15,
    "start_time": "2022-05-24T04:48:37.740Z"
   },
   {
    "duration": 38,
    "start_time": "2022-05-24T04:48:37.757Z"
   },
   {
    "duration": 166,
    "start_time": "2022-05-24T04:48:37.797Z"
   },
   {
    "duration": 50,
    "start_time": "2022-05-24T04:48:37.965Z"
   },
   {
    "duration": 176,
    "start_time": "2022-05-24T04:48:38.017Z"
   },
   {
    "duration": 13,
    "start_time": "2022-05-24T04:48:38.195Z"
   },
   {
    "duration": 12,
    "start_time": "2022-05-24T04:48:38.209Z"
   },
   {
    "duration": 14,
    "start_time": "2022-05-24T04:48:38.223Z"
   },
   {
    "duration": 6,
    "start_time": "2022-05-24T04:48:38.238Z"
   },
   {
    "duration": 6,
    "start_time": "2022-05-24T04:49:44.854Z"
   },
   {
    "duration": 11,
    "start_time": "2022-05-24T04:49:54.747Z"
   },
   {
    "duration": 23,
    "start_time": "2022-05-24T04:54:26.083Z"
   },
   {
    "duration": 20,
    "start_time": "2022-05-24T04:55:38.872Z"
   },
   {
    "duration": 9,
    "start_time": "2022-05-24T04:55:42.424Z"
   },
   {
    "duration": 17,
    "start_time": "2022-05-24T04:55:45.590Z"
   },
   {
    "duration": 89,
    "start_time": "2022-05-24T04:56:25.155Z"
   },
   {
    "duration": 448,
    "start_time": "2022-05-24T04:56:35.850Z"
   },
   {
    "duration": 379,
    "start_time": "2022-05-24T04:56:36.300Z"
   },
   {
    "duration": 24,
    "start_time": "2022-05-24T04:56:36.681Z"
   },
   {
    "duration": 13,
    "start_time": "2022-05-24T04:56:36.709Z"
   },
   {
    "duration": 11,
    "start_time": "2022-05-24T04:56:36.724Z"
   },
   {
    "duration": 68,
    "start_time": "2022-05-24T04:56:36.736Z"
   },
   {
    "duration": 39,
    "start_time": "2022-05-24T04:56:36.806Z"
   },
   {
    "duration": 60,
    "start_time": "2022-05-24T04:56:36.847Z"
   },
   {
    "duration": 1366,
    "start_time": "2022-05-24T04:56:36.910Z"
   },
   {
    "duration": 1096,
    "start_time": "2022-05-24T04:56:38.278Z"
   },
   {
    "duration": 939,
    "start_time": "2022-05-24T04:56:39.376Z"
   },
   {
    "duration": 503,
    "start_time": "2022-05-24T04:56:40.317Z"
   },
   {
    "duration": 327,
    "start_time": "2022-05-24T04:56:40.822Z"
   },
   {
    "duration": 408,
    "start_time": "2022-05-24T04:56:41.151Z"
   },
   {
    "duration": 201,
    "start_time": "2022-05-24T04:56:41.560Z"
   },
   {
    "duration": 367,
    "start_time": "2022-05-24T04:56:41.763Z"
   },
   {
    "duration": 15,
    "start_time": "2022-05-24T04:56:42.132Z"
   },
   {
    "duration": 13,
    "start_time": "2022-05-24T04:56:42.148Z"
   },
   {
    "duration": 40,
    "start_time": "2022-05-24T04:56:42.163Z"
   },
   {
    "duration": 148,
    "start_time": "2022-05-24T04:56:42.206Z"
   },
   {
    "duration": 50,
    "start_time": "2022-05-24T04:56:42.356Z"
   },
   {
    "duration": 178,
    "start_time": "2022-05-24T04:56:42.408Z"
   },
   {
    "duration": 15,
    "start_time": "2022-05-24T04:56:42.597Z"
   },
   {
    "duration": 13,
    "start_time": "2022-05-24T04:56:42.614Z"
   },
   {
    "duration": 16,
    "start_time": "2022-05-24T04:56:42.629Z"
   },
   {
    "duration": 6,
    "start_time": "2022-05-24T04:56:42.647Z"
   },
   {
    "duration": 38,
    "start_time": "2022-05-24T04:56:42.655Z"
   },
   {
    "duration": 4,
    "start_time": "2022-05-24T04:56:42.702Z"
   },
   {
    "duration": 15,
    "start_time": "2022-05-24T04:56:42.708Z"
   },
   {
    "duration": 11,
    "start_time": "2022-05-24T04:59:52.195Z"
   },
   {
    "duration": 10,
    "start_time": "2022-05-24T04:59:55.154Z"
   },
   {
    "duration": 10,
    "start_time": "2022-05-24T04:59:58.928Z"
   },
   {
    "duration": 7,
    "start_time": "2022-05-24T05:00:03.489Z"
   },
   {
    "duration": 794,
    "start_time": "2022-05-24T05:10:38.102Z"
   },
   {
    "duration": 939,
    "start_time": "2022-05-24T09:15:39.780Z"
   },
   {
    "duration": 393,
    "start_time": "2022-05-24T09:15:40.721Z"
   },
   {
    "duration": 20,
    "start_time": "2022-05-24T09:15:41.116Z"
   },
   {
    "duration": 11,
    "start_time": "2022-05-24T09:15:41.139Z"
   },
   {
    "duration": 13,
    "start_time": "2022-05-24T09:15:41.152Z"
   },
   {
    "duration": 67,
    "start_time": "2022-05-24T09:15:41.167Z"
   },
   {
    "duration": 34,
    "start_time": "2022-05-24T09:15:41.236Z"
   },
   {
    "duration": 45,
    "start_time": "2022-05-24T09:15:41.271Z"
   },
   {
    "duration": 1260,
    "start_time": "2022-05-24T09:15:41.318Z"
   },
   {
    "duration": 1009,
    "start_time": "2022-05-24T09:15:42.580Z"
   },
   {
    "duration": 920,
    "start_time": "2022-05-24T09:15:43.591Z"
   },
   {
    "duration": 438,
    "start_time": "2022-05-24T09:15:44.512Z"
   },
   {
    "duration": 174,
    "start_time": "2022-05-24T09:15:44.952Z"
   },
   {
    "duration": 431,
    "start_time": "2022-05-24T09:15:45.128Z"
   },
   {
    "duration": 183,
    "start_time": "2022-05-24T09:15:45.560Z"
   },
   {
    "duration": 500,
    "start_time": "2022-05-24T09:15:45.744Z"
   },
   {
    "duration": 15,
    "start_time": "2022-05-24T09:15:46.245Z"
   },
   {
    "duration": 31,
    "start_time": "2022-05-24T09:15:46.262Z"
   },
   {
    "duration": 16,
    "start_time": "2022-05-24T09:15:46.296Z"
   },
   {
    "duration": 153,
    "start_time": "2022-05-24T09:15:46.314Z"
   },
   {
    "duration": 49,
    "start_time": "2022-05-24T09:15:46.468Z"
   },
   {
    "duration": 151,
    "start_time": "2022-05-24T09:15:46.518Z"
   },
   {
    "duration": 28,
    "start_time": "2022-05-24T09:15:46.671Z"
   },
   {
    "duration": 13,
    "start_time": "2022-05-24T09:15:46.701Z"
   },
   {
    "duration": 13,
    "start_time": "2022-05-24T09:15:46.715Z"
   },
   {
    "duration": 8,
    "start_time": "2022-05-24T09:15:46.729Z"
   },
   {
    "duration": 15,
    "start_time": "2022-05-24T09:15:46.739Z"
   },
   {
    "duration": 37,
    "start_time": "2022-05-24T09:15:46.757Z"
   },
   {
    "duration": 146,
    "start_time": "2022-05-24T11:35:07.595Z"
   },
   {
    "duration": 15,
    "start_time": "2022-05-24T11:35:25.293Z"
   },
   {
    "duration": 20,
    "start_time": "2022-05-24T11:35:58.175Z"
   },
   {
    "duration": 15,
    "start_time": "2022-05-24T11:35:58.335Z"
   },
   {
    "duration": 16,
    "start_time": "2022-05-24T11:35:58.875Z"
   },
   {
    "duration": 8,
    "start_time": "2022-05-24T11:36:46.224Z"
   },
   {
    "duration": 13,
    "start_time": "2022-05-24T11:36:58.045Z"
   },
   {
    "duration": 29,
    "start_time": "2022-05-24T11:37:23.395Z"
   },
   {
    "duration": 6,
    "start_time": "2022-05-24T11:37:25.006Z"
   },
   {
    "duration": 923,
    "start_time": "2022-05-24T18:50:44.097Z"
   },
   {
    "duration": 1782,
    "start_time": "2022-05-24T18:50:45.022Z"
   },
   {
    "duration": 29,
    "start_time": "2022-05-24T18:50:46.812Z"
   },
   {
    "duration": 15,
    "start_time": "2022-05-24T18:50:46.844Z"
   },
   {
    "duration": 12,
    "start_time": "2022-05-24T18:50:46.861Z"
   },
   {
    "duration": 57,
    "start_time": "2022-05-24T18:50:46.874Z"
   },
   {
    "duration": 36,
    "start_time": "2022-05-24T18:50:46.933Z"
   },
   {
    "duration": 58,
    "start_time": "2022-05-24T18:50:46.971Z"
   },
   {
    "duration": 1987,
    "start_time": "2022-05-24T18:50:47.031Z"
   },
   {
    "duration": 1801,
    "start_time": "2022-05-24T18:50:49.022Z"
   },
   {
    "duration": 1030,
    "start_time": "2022-05-24T18:50:50.825Z"
   },
   {
    "duration": 434,
    "start_time": "2022-05-24T18:50:51.857Z"
   },
   {
    "duration": 177,
    "start_time": "2022-05-24T18:50:52.293Z"
   },
   {
    "duration": 461,
    "start_time": "2022-05-24T18:50:52.472Z"
   },
   {
    "duration": 341,
    "start_time": "2022-05-24T18:50:52.935Z"
   },
   {
    "duration": 371,
    "start_time": "2022-05-24T18:50:53.278Z"
   },
   {
    "duration": 16,
    "start_time": "2022-05-24T18:50:53.650Z"
   },
   {
    "duration": 37,
    "start_time": "2022-05-24T18:50:53.668Z"
   },
   {
    "duration": 20,
    "start_time": "2022-05-24T18:50:53.707Z"
   },
   {
    "duration": 161,
    "start_time": "2022-05-24T18:50:53.729Z"
   },
   {
    "duration": 50,
    "start_time": "2022-05-24T18:50:53.892Z"
   },
   {
    "duration": 154,
    "start_time": "2022-05-24T18:50:53.944Z"
   },
   {
    "duration": 22,
    "start_time": "2022-05-24T18:50:54.102Z"
   },
   {
    "duration": 12,
    "start_time": "2022-05-24T18:50:54.126Z"
   },
   {
    "duration": 12,
    "start_time": "2022-05-24T18:50:54.140Z"
   },
   {
    "duration": 5,
    "start_time": "2022-05-24T18:50:54.153Z"
   },
   {
    "duration": 43,
    "start_time": "2022-05-24T18:50:54.159Z"
   },
   {
    "duration": 17,
    "start_time": "2022-05-24T18:50:54.212Z"
   },
   {
    "duration": 31,
    "start_time": "2022-05-24T18:50:54.231Z"
   },
   {
    "duration": 112,
    "start_time": "2022-05-24T18:51:40.835Z"
   },
   {
    "duration": 5,
    "start_time": "2022-05-24T18:51:50.907Z"
   },
   {
    "duration": 9,
    "start_time": "2022-05-24T18:51:58.202Z"
   },
   {
    "duration": 5,
    "start_time": "2022-05-24T18:52:26.746Z"
   },
   {
    "duration": 22,
    "start_time": "2022-05-24T18:58:11.150Z"
   },
   {
    "duration": 5,
    "start_time": "2022-05-24T18:59:23.078Z"
   },
   {
    "duration": 4,
    "start_time": "2022-05-24T18:59:28.583Z"
   },
   {
    "duration": 15,
    "start_time": "2022-05-24T19:33:16.022Z"
   },
   {
    "duration": 2,
    "start_time": "2022-05-24T19:34:35.926Z"
   },
   {
    "duration": 15,
    "start_time": "2022-05-24T19:35:33.031Z"
   },
   {
    "duration": 22,
    "start_time": "2022-05-24T19:35:51.846Z"
   },
   {
    "duration": 130,
    "start_time": "2022-05-24T19:36:36.175Z"
   },
   {
    "duration": 961,
    "start_time": "2022-05-25T05:30:54.579Z"
   },
   {
    "duration": 764,
    "start_time": "2022-05-25T05:30:55.542Z"
   },
   {
    "duration": 69,
    "start_time": "2022-05-25T05:30:56.308Z"
   },
   {
    "duration": 11,
    "start_time": "2022-05-25T05:30:56.379Z"
   },
   {
    "duration": 27,
    "start_time": "2022-05-25T05:30:56.391Z"
   },
   {
    "duration": 38,
    "start_time": "2022-05-25T05:30:56.420Z"
   },
   {
    "duration": 34,
    "start_time": "2022-05-25T05:30:56.460Z"
   },
   {
    "duration": 34,
    "start_time": "2022-05-25T05:30:56.495Z"
   },
   {
    "duration": 1508,
    "start_time": "2022-05-25T05:30:56.530Z"
   },
   {
    "duration": 1041,
    "start_time": "2022-05-25T05:30:58.041Z"
   },
   {
    "duration": 934,
    "start_time": "2022-05-25T05:30:59.085Z"
   },
   {
    "duration": 401,
    "start_time": "2022-05-25T05:31:00.021Z"
   },
   {
    "duration": 164,
    "start_time": "2022-05-25T05:31:00.424Z"
   },
   {
    "duration": 392,
    "start_time": "2022-05-25T05:31:00.590Z"
   },
   {
    "duration": 292,
    "start_time": "2022-05-25T05:31:00.984Z"
   },
   {
    "duration": 358,
    "start_time": "2022-05-25T05:31:01.278Z"
   },
   {
    "duration": 21,
    "start_time": "2022-05-25T05:31:01.638Z"
   },
   {
    "duration": 18,
    "start_time": "2022-05-25T05:31:01.661Z"
   },
   {
    "duration": 20,
    "start_time": "2022-05-25T05:31:01.681Z"
   },
   {
    "duration": 172,
    "start_time": "2022-05-25T05:31:01.703Z"
   },
   {
    "duration": 36,
    "start_time": "2022-05-25T05:31:01.877Z"
   },
   {
    "duration": 187,
    "start_time": "2022-05-25T05:31:01.916Z"
   },
   {
    "duration": 12,
    "start_time": "2022-05-25T05:31:02.105Z"
   },
   {
    "duration": 21,
    "start_time": "2022-05-25T05:31:02.119Z"
   },
   {
    "duration": 16,
    "start_time": "2022-05-25T05:31:02.152Z"
   },
   {
    "duration": 9,
    "start_time": "2022-05-25T05:31:02.170Z"
   },
   {
    "duration": 15,
    "start_time": "2022-05-25T05:31:02.180Z"
   },
   {
    "duration": 28,
    "start_time": "2022-05-25T05:31:02.199Z"
   },
   {
    "duration": 46,
    "start_time": "2022-05-25T05:31:02.228Z"
   },
   {
    "duration": 11,
    "start_time": "2022-05-25T05:31:02.275Z"
   },
   {
    "duration": 173,
    "start_time": "2022-05-25T05:31:02.287Z"
   },
   {
    "duration": 7,
    "start_time": "2022-05-25T05:47:33.569Z"
   },
   {
    "duration": 4,
    "start_time": "2022-05-25T05:57:22.070Z"
   },
   {
    "duration": 4,
    "start_time": "2022-05-25T05:57:30.923Z"
   },
   {
    "duration": 4,
    "start_time": "2022-05-25T05:57:37.200Z"
   },
   {
    "duration": 5,
    "start_time": "2022-05-25T05:57:53.333Z"
   },
   {
    "duration": 3,
    "start_time": "2022-05-25T05:58:40.527Z"
   },
   {
    "duration": 5,
    "start_time": "2022-05-25T05:59:08.476Z"
   },
   {
    "duration": 3,
    "start_time": "2022-05-25T05:59:31.331Z"
   },
   {
    "duration": 13,
    "start_time": "2022-05-25T05:59:35.458Z"
   },
   {
    "duration": 12,
    "start_time": "2022-05-25T05:59:48.971Z"
   },
   {
    "duration": 12,
    "start_time": "2022-05-25T06:05:32.654Z"
   },
   {
    "duration": 7,
    "start_time": "2022-05-25T06:58:48.493Z"
   },
   {
    "duration": 9,
    "start_time": "2022-05-25T06:59:18.349Z"
   },
   {
    "duration": 10,
    "start_time": "2022-05-25T07:00:01.775Z"
   },
   {
    "duration": 133,
    "start_time": "2022-05-25T07:14:19.082Z"
   },
   {
    "duration": 10,
    "start_time": "2022-05-25T07:14:32.453Z"
   },
   {
    "duration": 10,
    "start_time": "2022-05-25T07:14:45.802Z"
   },
   {
    "duration": 10,
    "start_time": "2022-05-25T07:14:51.424Z"
   },
   {
    "duration": 5,
    "start_time": "2022-05-25T07:19:55.300Z"
   },
   {
    "duration": 35,
    "start_time": "2022-05-25T07:21:55.180Z"
   },
   {
    "duration": 7,
    "start_time": "2022-05-25T07:22:13.308Z"
   },
   {
    "duration": 7,
    "start_time": "2022-05-25T07:23:11.919Z"
   },
   {
    "duration": 5,
    "start_time": "2022-05-25T07:29:09.745Z"
   },
   {
    "duration": 5,
    "start_time": "2022-05-25T07:29:16.975Z"
   },
   {
    "duration": 4,
    "start_time": "2022-05-25T07:29:58.319Z"
   },
   {
    "duration": 3,
    "start_time": "2022-05-25T07:31:02.944Z"
   },
   {
    "duration": 5,
    "start_time": "2022-05-25T07:31:17.095Z"
   },
   {
    "duration": 5,
    "start_time": "2022-05-25T07:31:38.636Z"
   },
   {
    "duration": 129,
    "start_time": "2022-05-25T08:34:58.315Z"
   },
   {
    "duration": 4,
    "start_time": "2022-05-25T08:38:04.270Z"
   },
   {
    "duration": 4,
    "start_time": "2022-05-25T08:38:50.104Z"
   },
   {
    "duration": 4,
    "start_time": "2022-05-25T10:16:07.768Z"
   },
   {
    "duration": 22,
    "start_time": "2022-05-25T10:21:14.010Z"
   },
   {
    "duration": 3,
    "start_time": "2022-05-25T10:24:44.975Z"
   },
   {
    "duration": 3,
    "start_time": "2022-05-25T10:24:51.879Z"
   },
   {
    "duration": 9,
    "start_time": "2022-05-25T10:26:07.339Z"
   },
   {
    "duration": 5,
    "start_time": "2022-05-25T10:26:10.342Z"
   },
   {
    "duration": 2,
    "start_time": "2022-05-25T10:26:11.705Z"
   },
   {
    "duration": 4,
    "start_time": "2022-05-25T10:26:16.725Z"
   },
   {
    "duration": 7,
    "start_time": "2022-05-25T10:31:17.489Z"
   },
   {
    "duration": 8,
    "start_time": "2022-05-25T10:31:24.923Z"
   },
   {
    "duration": 8,
    "start_time": "2022-05-25T10:31:31.076Z"
   },
   {
    "duration": 9,
    "start_time": "2022-05-25T10:31:31.845Z"
   },
   {
    "duration": 8,
    "start_time": "2022-05-25T10:31:32.416Z"
   },
   {
    "duration": 8,
    "start_time": "2022-05-25T10:31:33.020Z"
   },
   {
    "duration": 8,
    "start_time": "2022-05-25T10:31:33.588Z"
   },
   {
    "duration": 10,
    "start_time": "2022-05-25T10:31:34.150Z"
   },
   {
    "duration": 9,
    "start_time": "2022-05-25T10:31:34.691Z"
   },
   {
    "duration": 11,
    "start_time": "2022-05-25T10:31:35.229Z"
   },
   {
    "duration": 8,
    "start_time": "2022-05-25T10:31:35.804Z"
   },
   {
    "duration": 8,
    "start_time": "2022-05-25T10:31:36.417Z"
   },
   {
    "duration": 9,
    "start_time": "2022-05-25T10:31:37.087Z"
   },
   {
    "duration": 10,
    "start_time": "2022-05-25T10:31:37.782Z"
   },
   {
    "duration": 9,
    "start_time": "2022-05-25T10:31:38.339Z"
   },
   {
    "duration": 10,
    "start_time": "2022-05-25T10:31:38.942Z"
   },
   {
    "duration": 11,
    "start_time": "2022-05-25T10:31:39.614Z"
   },
   {
    "duration": 10,
    "start_time": "2022-05-25T10:31:40.213Z"
   },
   {
    "duration": 10,
    "start_time": "2022-05-25T10:31:40.756Z"
   },
   {
    "duration": 8,
    "start_time": "2022-05-25T10:31:41.307Z"
   },
   {
    "duration": 14,
    "start_time": "2022-05-25T10:32:21.033Z"
   },
   {
    "duration": 16,
    "start_time": "2022-05-25T10:32:23.018Z"
   },
   {
    "duration": 15,
    "start_time": "2022-05-25T10:32:23.714Z"
   },
   {
    "duration": 20,
    "start_time": "2022-05-25T10:32:24.277Z"
   },
   {
    "duration": 38,
    "start_time": "2022-05-25T10:32:24.876Z"
   },
   {
    "duration": 22,
    "start_time": "2022-05-25T10:32:25.458Z"
   },
   {
    "duration": 20,
    "start_time": "2022-05-25T10:32:26.057Z"
   },
   {
    "duration": 22,
    "start_time": "2022-05-25T10:32:26.622Z"
   },
   {
    "duration": 19,
    "start_time": "2022-05-25T10:32:27.178Z"
   },
   {
    "duration": 19,
    "start_time": "2022-05-25T10:32:27.781Z"
   },
   {
    "duration": 20,
    "start_time": "2022-05-25T10:32:28.297Z"
   },
   {
    "duration": 20,
    "start_time": "2022-05-25T10:32:28.816Z"
   },
   {
    "duration": 15,
    "start_time": "2022-05-25T10:32:29.400Z"
   },
   {
    "duration": 19,
    "start_time": "2022-05-25T10:32:29.955Z"
   },
   {
    "duration": 16,
    "start_time": "2022-05-25T10:32:30.487Z"
   },
   {
    "duration": 20,
    "start_time": "2022-05-25T10:32:31.087Z"
   },
   {
    "duration": 15,
    "start_time": "2022-05-25T10:32:31.631Z"
   },
   {
    "duration": 19,
    "start_time": "2022-05-25T10:32:32.137Z"
   },
   {
    "duration": 24,
    "start_time": "2022-05-25T10:32:32.661Z"
   },
   {
    "duration": 19,
    "start_time": "2022-05-25T10:32:33.255Z"
   },
   {
    "duration": 15,
    "start_time": "2022-05-25T10:32:33.790Z"
   },
   {
    "duration": 16,
    "start_time": "2022-05-25T10:32:34.308Z"
   },
   {
    "duration": 14,
    "start_time": "2022-05-25T10:32:34.837Z"
   },
   {
    "duration": 21,
    "start_time": "2022-05-25T10:32:35.392Z"
   },
   {
    "duration": 16,
    "start_time": "2022-05-25T10:32:35.936Z"
   },
   {
    "duration": 15,
    "start_time": "2022-05-25T10:32:36.510Z"
   },
   {
    "duration": 15,
    "start_time": "2022-05-25T10:32:37.048Z"
   },
   {
    "duration": 18,
    "start_time": "2022-05-25T10:32:37.636Z"
   },
   {
    "duration": 13,
    "start_time": "2022-05-25T10:32:39.451Z"
   },
   {
    "duration": 14,
    "start_time": "2022-05-25T10:32:40.281Z"
   },
   {
    "duration": 19,
    "start_time": "2022-05-25T10:32:40.991Z"
   },
   {
    "duration": 18,
    "start_time": "2022-05-25T10:32:41.881Z"
   },
   {
    "duration": 18,
    "start_time": "2022-05-25T10:32:42.583Z"
   },
   {
    "duration": 888,
    "start_time": "2022-05-25T15:41:37.608Z"
   },
   {
    "duration": 748,
    "start_time": "2022-05-25T15:41:38.497Z"
   },
   {
    "duration": 77,
    "start_time": "2022-05-25T15:41:39.247Z"
   },
   {
    "duration": 12,
    "start_time": "2022-05-25T15:41:39.326Z"
   },
   {
    "duration": 23,
    "start_time": "2022-05-25T15:41:39.340Z"
   },
   {
    "duration": 44,
    "start_time": "2022-05-25T15:41:39.365Z"
   },
   {
    "duration": 51,
    "start_time": "2022-05-25T15:41:39.411Z"
   },
   {
    "duration": 35,
    "start_time": "2022-05-25T15:41:39.464Z"
   },
   {
    "duration": 1379,
    "start_time": "2022-05-25T15:41:39.500Z"
   },
   {
    "duration": 974,
    "start_time": "2022-05-25T15:41:40.881Z"
   },
   {
    "duration": 903,
    "start_time": "2022-05-25T15:41:41.856Z"
   },
   {
    "duration": 390,
    "start_time": "2022-05-25T15:41:42.760Z"
   },
   {
    "duration": 162,
    "start_time": "2022-05-25T15:41:43.152Z"
   },
   {
    "duration": 398,
    "start_time": "2022-05-25T15:41:43.315Z"
   },
   {
    "duration": 297,
    "start_time": "2022-05-25T15:41:43.716Z"
   },
   {
    "duration": 346,
    "start_time": "2022-05-25T15:41:44.015Z"
   },
   {
    "duration": 17,
    "start_time": "2022-05-25T15:41:44.362Z"
   },
   {
    "duration": 14,
    "start_time": "2022-05-25T15:41:44.380Z"
   },
   {
    "duration": 15,
    "start_time": "2022-05-25T15:41:44.396Z"
   },
   {
    "duration": 171,
    "start_time": "2022-05-25T15:41:44.412Z"
   },
   {
    "duration": 33,
    "start_time": "2022-05-25T15:41:44.584Z"
   },
   {
    "duration": 164,
    "start_time": "2022-05-25T15:41:44.618Z"
   },
   {
    "duration": 13,
    "start_time": "2022-05-25T15:41:44.784Z"
   },
   {
    "duration": 12,
    "start_time": "2022-05-25T15:41:44.799Z"
   },
   {
    "duration": 15,
    "start_time": "2022-05-25T15:41:44.812Z"
   },
   {
    "duration": 28,
    "start_time": "2022-05-25T15:41:44.829Z"
   },
   {
    "duration": 14,
    "start_time": "2022-05-25T15:41:44.858Z"
   },
   {
    "duration": 17,
    "start_time": "2022-05-25T15:41:44.875Z"
   },
   {
    "duration": 40,
    "start_time": "2022-05-25T15:41:44.894Z"
   },
   {
    "duration": 6,
    "start_time": "2022-05-25T15:41:44.936Z"
   },
   {
    "duration": 303,
    "start_time": "2022-05-25T15:41:44.952Z"
   },
   {
    "duration": 107,
    "start_time": "2022-05-25T15:41:45.257Z"
   },
   {
    "duration": 15,
    "start_time": "2022-05-25T15:41:45.453Z"
   },
   {
    "duration": 10,
    "start_time": "2022-05-25T15:41:45.470Z"
   },
   {
    "duration": 10,
    "start_time": "2022-05-25T15:41:45.481Z"
   },
   {
    "duration": 21,
    "start_time": "2022-05-25T15:41:45.492Z"
   },
   {
    "duration": 9,
    "start_time": "2022-05-25T15:41:45.514Z"
   },
   {
    "duration": 7,
    "start_time": "2022-05-25T15:41:45.525Z"
   },
   {
    "duration": 20,
    "start_time": "2022-05-25T15:41:45.533Z"
   },
   {
    "duration": 112,
    "start_time": "2022-05-25T15:49:20.556Z"
   },
   {
    "duration": 14,
    "start_time": "2022-05-25T15:50:54.197Z"
   },
   {
    "duration": 11,
    "start_time": "2022-05-25T15:50:57.581Z"
   },
   {
    "duration": 10,
    "start_time": "2022-05-25T15:50:58.869Z"
   },
   {
    "duration": 10,
    "start_time": "2022-05-25T15:51:00.238Z"
   },
   {
    "duration": 11,
    "start_time": "2022-05-25T15:51:00.902Z"
   },
   {
    "duration": 11,
    "start_time": "2022-05-25T15:51:01.461Z"
   },
   {
    "duration": 14,
    "start_time": "2022-05-25T15:51:02.038Z"
   },
   {
    "duration": 11,
    "start_time": "2022-05-25T15:51:02.597Z"
   },
   {
    "duration": 10,
    "start_time": "2022-05-25T15:51:03.157Z"
   },
   {
    "duration": 12,
    "start_time": "2022-05-25T15:51:03.709Z"
   },
   {
    "duration": 14,
    "start_time": "2022-05-25T15:51:04.253Z"
   },
   {
    "duration": 13,
    "start_time": "2022-05-25T15:51:04.789Z"
   },
   {
    "duration": 15,
    "start_time": "2022-05-25T15:51:05.338Z"
   },
   {
    "duration": 16,
    "start_time": "2022-05-25T15:51:05.927Z"
   },
   {
    "duration": 13,
    "start_time": "2022-05-25T15:51:06.525Z"
   },
   {
    "duration": 13,
    "start_time": "2022-05-25T15:51:07.141Z"
   },
   {
    "duration": 11,
    "start_time": "2022-05-25T15:51:08.029Z"
   },
   {
    "duration": 11,
    "start_time": "2022-05-25T15:51:09.037Z"
   },
   {
    "duration": 11,
    "start_time": "2022-05-25T15:51:09.844Z"
   },
   {
    "duration": 19,
    "start_time": "2022-05-25T15:52:23.502Z"
   },
   {
    "duration": 15,
    "start_time": "2022-05-25T15:52:25.319Z"
   },
   {
    "duration": 13,
    "start_time": "2022-05-25T15:52:25.879Z"
   },
   {
    "duration": 16,
    "start_time": "2022-05-25T15:52:26.447Z"
   },
   {
    "duration": 14,
    "start_time": "2022-05-25T15:52:27.025Z"
   },
   {
    "duration": 14,
    "start_time": "2022-05-25T15:52:27.574Z"
   },
   {
    "duration": 16,
    "start_time": "2022-05-25T15:52:28.126Z"
   },
   {
    "duration": 18,
    "start_time": "2022-05-25T15:52:28.639Z"
   },
   {
    "duration": 9,
    "start_time": "2022-05-25T15:52:29.438Z"
   },
   {
    "duration": 9,
    "start_time": "2022-05-25T15:52:30.198Z"
   },
   {
    "duration": 10,
    "start_time": "2022-05-25T15:52:30.807Z"
   },
   {
    "duration": 10,
    "start_time": "2022-05-25T15:52:31.374Z"
   },
   {
    "duration": 10,
    "start_time": "2022-05-25T15:52:31.910Z"
   },
   {
    "duration": 10,
    "start_time": "2022-05-25T15:52:32.455Z"
   },
   {
    "duration": 10,
    "start_time": "2022-05-25T15:52:32.990Z"
   },
   {
    "duration": 10,
    "start_time": "2022-05-25T15:52:33.574Z"
   },
   {
    "duration": 11,
    "start_time": "2022-05-25T15:52:34.182Z"
   },
   {
    "duration": 10,
    "start_time": "2022-05-25T15:52:34.743Z"
   },
   {
    "duration": 11,
    "start_time": "2022-05-25T15:52:35.303Z"
   },
   {
    "duration": 10,
    "start_time": "2022-05-25T15:52:35.886Z"
   },
   {
    "duration": 12,
    "start_time": "2022-05-25T15:52:36.394Z"
   },
   {
    "duration": 10,
    "start_time": "2022-05-25T15:52:36.950Z"
   },
   {
    "duration": 9,
    "start_time": "2022-05-25T15:52:37.522Z"
   },
   {
    "duration": 9,
    "start_time": "2022-05-25T15:52:38.191Z"
   },
   {
    "duration": 12,
    "start_time": "2022-05-25T15:52:38.862Z"
   },
   {
    "duration": 12,
    "start_time": "2022-05-25T15:52:39.599Z"
   },
   {
    "duration": 10,
    "start_time": "2022-05-25T15:52:40.246Z"
   },
   {
    "duration": 15,
    "start_time": "2022-05-25T15:52:41.616Z"
   },
   {
    "duration": 22,
    "start_time": "2022-05-25T15:52:42.567Z"
   },
   {
    "duration": 13,
    "start_time": "2022-05-25T15:52:43.226Z"
   },
   {
    "duration": 13,
    "start_time": "2022-05-25T15:52:43.839Z"
   },
   {
    "duration": 19,
    "start_time": "2022-05-25T15:52:44.529Z"
   },
   {
    "duration": 11,
    "start_time": "2022-05-25T15:52:45.391Z"
   },
   {
    "duration": 13,
    "start_time": "2022-05-25T15:53:49.904Z"
   },
   {
    "duration": 11,
    "start_time": "2022-05-25T15:53:50.583Z"
   },
   {
    "duration": 10,
    "start_time": "2022-05-25T15:53:51.192Z"
   },
   {
    "duration": 10,
    "start_time": "2022-05-25T15:53:51.751Z"
   },
   {
    "duration": 11,
    "start_time": "2022-05-25T15:53:52.330Z"
   },
   {
    "duration": 10,
    "start_time": "2022-05-25T15:53:52.944Z"
   },
   {
    "duration": 11,
    "start_time": "2022-05-25T15:53:53.567Z"
   },
   {
    "duration": 11,
    "start_time": "2022-05-25T15:53:54.175Z"
   },
   {
    "duration": 14,
    "start_time": "2022-05-25T15:53:54.728Z"
   },
   {
    "duration": 13,
    "start_time": "2022-05-25T15:53:55.328Z"
   },
   {
    "duration": 9,
    "start_time": "2022-05-25T15:53:55.921Z"
   },
   {
    "duration": 9,
    "start_time": "2022-05-25T15:53:56.523Z"
   },
   {
    "duration": 10,
    "start_time": "2022-05-25T15:53:57.123Z"
   },
   {
    "duration": 14,
    "start_time": "2022-05-25T15:53:57.688Z"
   },
   {
    "duration": 10,
    "start_time": "2022-05-25T15:53:58.271Z"
   },
   {
    "duration": 957,
    "start_time": "2022-05-25T17:50:45.244Z"
   },
   {
    "duration": 864,
    "start_time": "2022-05-25T17:50:46.203Z"
   },
   {
    "duration": 79,
    "start_time": "2022-05-25T17:50:47.069Z"
   },
   {
    "duration": 18,
    "start_time": "2022-05-25T17:50:47.151Z"
   },
   {
    "duration": 17,
    "start_time": "2022-05-25T17:50:47.170Z"
   },
   {
    "duration": 53,
    "start_time": "2022-05-25T17:50:47.188Z"
   },
   {
    "duration": 45,
    "start_time": "2022-05-25T17:50:47.243Z"
   },
   {
    "duration": 55,
    "start_time": "2022-05-25T17:50:47.290Z"
   },
   {
    "duration": 1474,
    "start_time": "2022-05-25T17:50:47.347Z"
   },
   {
    "duration": 1088,
    "start_time": "2022-05-25T17:50:48.823Z"
   },
   {
    "duration": 1059,
    "start_time": "2022-05-25T17:50:49.913Z"
   },
   {
    "duration": 507,
    "start_time": "2022-05-25T17:50:50.974Z"
   },
   {
    "duration": 185,
    "start_time": "2022-05-25T17:50:51.483Z"
   },
   {
    "duration": 391,
    "start_time": "2022-05-25T17:50:51.670Z"
   },
   {
    "duration": 338,
    "start_time": "2022-05-25T17:50:52.063Z"
   },
   {
    "duration": 389,
    "start_time": "2022-05-25T17:50:52.403Z"
   },
   {
    "duration": 17,
    "start_time": "2022-05-25T17:50:52.793Z"
   },
   {
    "duration": 14,
    "start_time": "2022-05-25T17:50:52.812Z"
   },
   {
    "duration": 38,
    "start_time": "2022-05-25T17:50:52.828Z"
   },
   {
    "duration": 141,
    "start_time": "2022-05-25T17:50:52.869Z"
   },
   {
    "duration": 46,
    "start_time": "2022-05-25T17:50:53.011Z"
   },
   {
    "duration": 181,
    "start_time": "2022-05-25T17:50:53.058Z"
   },
   {
    "duration": 28,
    "start_time": "2022-05-25T17:50:53.241Z"
   },
   {
    "duration": 15,
    "start_time": "2022-05-25T17:50:53.271Z"
   },
   {
    "duration": 13,
    "start_time": "2022-05-25T17:50:53.288Z"
   },
   {
    "duration": 6,
    "start_time": "2022-05-25T17:50:53.303Z"
   },
   {
    "duration": 14,
    "start_time": "2022-05-25T17:50:53.311Z"
   },
   {
    "duration": 12,
    "start_time": "2022-05-25T17:50:53.361Z"
   },
   {
    "duration": 33,
    "start_time": "2022-05-25T17:50:53.375Z"
   },
   {
    "duration": 6,
    "start_time": "2022-05-25T17:50:53.410Z"
   },
   {
    "duration": 246,
    "start_time": "2022-05-25T17:50:53.417Z"
   },
   {
    "duration": 99,
    "start_time": "2022-05-25T17:50:53.665Z"
   },
   {
    "duration": 107,
    "start_time": "2022-05-25T17:50:53.766Z"
   },
   {
    "duration": 7,
    "start_time": "2022-05-25T17:50:53.875Z"
   },
   {
    "duration": 4,
    "start_time": "2022-05-25T17:50:53.884Z"
   },
   {
    "duration": 8,
    "start_time": "2022-05-25T17:50:53.889Z"
   },
   {
    "duration": 7,
    "start_time": "2022-05-25T17:50:53.898Z"
   },
   {
    "duration": 5,
    "start_time": "2022-05-25T17:50:53.907Z"
   },
   {
    "duration": 13,
    "start_time": "2022-05-25T17:50:53.914Z"
   },
   {
    "duration": 29,
    "start_time": "2022-05-25T17:50:53.929Z"
   },
   {
    "duration": 10,
    "start_time": "2022-05-25T17:50:53.960Z"
   },
   {
    "duration": 6,
    "start_time": "2022-05-25T18:06:28.949Z"
   },
   {
    "duration": 15,
    "start_time": "2022-05-25T18:10:18.744Z"
   },
   {
    "duration": 19,
    "start_time": "2022-05-25T18:10:33.741Z"
   },
   {
    "duration": 18,
    "start_time": "2022-05-25T18:11:06.389Z"
   },
   {
    "duration": 9,
    "start_time": "2022-05-25T18:11:13.825Z"
   },
   {
    "duration": 14,
    "start_time": "2022-05-25T18:11:29.707Z"
   },
   {
    "duration": 22,
    "start_time": "2022-05-25T18:11:39.955Z"
   },
   {
    "duration": 15,
    "start_time": "2022-05-25T18:11:53.113Z"
   },
   {
    "duration": 19,
    "start_time": "2022-05-25T18:12:23.907Z"
   },
   {
    "duration": 16,
    "start_time": "2022-05-25T18:12:42.999Z"
   },
   {
    "duration": 14,
    "start_time": "2022-05-25T18:13:00.483Z"
   },
   {
    "duration": 19,
    "start_time": "2022-05-25T18:13:45.843Z"
   },
   {
    "duration": 22,
    "start_time": "2022-05-25T18:13:52.611Z"
   },
   {
    "duration": 25,
    "start_time": "2022-05-25T18:14:36.445Z"
   },
   {
    "duration": 5,
    "start_time": "2022-05-25T18:15:00.828Z"
   },
   {
    "duration": 139,
    "start_time": "2022-05-25T18:15:09.676Z"
   },
   {
    "duration": 21,
    "start_time": "2022-05-25T18:15:14.147Z"
   },
   {
    "duration": 23,
    "start_time": "2022-05-25T18:15:20.504Z"
   },
   {
    "duration": 8,
    "start_time": "2022-05-25T18:15:25.924Z"
   },
   {
    "duration": 8,
    "start_time": "2022-05-25T18:15:28.500Z"
   },
   {
    "duration": 6,
    "start_time": "2022-05-25T18:15:31.525Z"
   },
   {
    "duration": 8,
    "start_time": "2022-05-25T18:15:38.030Z"
   },
   {
    "duration": 50,
    "start_time": "2022-05-25T18:15:43.674Z"
   },
   {
    "duration": 560,
    "start_time": "2022-05-25T18:15:48.806Z"
   },
   {
    "duration": 5,
    "start_time": "2022-05-25T18:15:53.100Z"
   },
   {
    "duration": 13,
    "start_time": "2022-05-25T18:16:00.324Z"
   },
   {
    "duration": 7,
    "start_time": "2022-05-25T18:16:09.732Z"
   },
   {
    "duration": 7,
    "start_time": "2022-05-25T18:16:13.276Z"
   },
   {
    "duration": 7,
    "start_time": "2022-05-25T18:16:15.710Z"
   },
   {
    "duration": 7,
    "start_time": "2022-05-25T18:16:18.276Z"
   },
   {
    "duration": 9,
    "start_time": "2022-05-25T18:16:24.260Z"
   },
   {
    "duration": 8,
    "start_time": "2022-05-25T18:16:28.100Z"
   },
   {
    "duration": 15,
    "start_time": "2022-05-25T18:16:32.252Z"
   },
   {
    "duration": 8,
    "start_time": "2022-05-25T18:16:35.732Z"
   },
   {
    "duration": 7,
    "start_time": "2022-05-25T18:16:39.676Z"
   },
   {
    "duration": 8,
    "start_time": "2022-05-25T18:16:43.244Z"
   },
   {
    "duration": 9,
    "start_time": "2022-05-25T18:16:45.437Z"
   },
   {
    "duration": 10,
    "start_time": "2022-05-25T18:16:48.269Z"
   },
   {
    "duration": 352,
    "start_time": "2022-05-25T18:17:42.598Z"
   },
   {
    "duration": 245,
    "start_time": "2022-05-25T18:17:48.933Z"
   },
   {
    "duration": 7,
    "start_time": "2022-05-25T18:18:10.638Z"
   },
   {
    "duration": 19,
    "start_time": "2022-05-25T18:18:20.363Z"
   },
   {
    "duration": 25,
    "start_time": "2022-05-25T18:22:11.289Z"
   },
   {
    "duration": 10,
    "start_time": "2022-05-25T18:22:34.946Z"
   },
   {
    "duration": 15,
    "start_time": "2022-05-25T18:23:03.881Z"
   },
   {
    "duration": 27,
    "start_time": "2022-05-25T18:23:11.241Z"
   },
   {
    "duration": 17,
    "start_time": "2022-05-25T18:23:14.473Z"
   },
   {
    "duration": 23,
    "start_time": "2022-05-25T18:24:00.650Z"
   },
   {
    "duration": 27,
    "start_time": "2022-05-25T18:24:15.979Z"
   },
   {
    "duration": 15,
    "start_time": "2022-05-25T18:24:23.946Z"
   },
   {
    "duration": 4,
    "start_time": "2022-05-25T20:02:52.762Z"
   },
   {
    "duration": 23,
    "start_time": "2022-05-25T20:04:23.643Z"
   },
   {
    "duration": 24,
    "start_time": "2022-05-25T20:05:19.357Z"
   },
   {
    "duration": 522,
    "start_time": "2022-05-25T20:06:12.663Z"
   },
   {
    "duration": 4,
    "start_time": "2022-05-25T20:07:14.174Z"
   },
   {
    "duration": 544,
    "start_time": "2022-05-25T20:07:14.606Z"
   },
   {
    "duration": 5,
    "start_time": "2022-05-25T20:09:40.136Z"
   },
   {
    "duration": 522,
    "start_time": "2022-05-25T20:09:40.532Z"
   },
   {
    "duration": 3,
    "start_time": "2022-05-25T20:15:53.124Z"
   },
   {
    "duration": 648,
    "start_time": "2022-05-25T20:15:54.836Z"
   },
   {
    "duration": 5,
    "start_time": "2022-05-25T20:16:16.100Z"
   },
   {
    "duration": 548,
    "start_time": "2022-05-25T20:16:16.268Z"
   },
   {
    "duration": 4,
    "start_time": "2022-05-25T20:16:23.491Z"
   },
   {
    "duration": 4,
    "start_time": "2022-05-25T20:27:42.133Z"
   },
   {
    "duration": 22,
    "start_time": "2022-05-25T20:28:38.900Z"
   },
   {
    "duration": 9,
    "start_time": "2022-05-25T20:29:04.677Z"
   },
   {
    "duration": 13,
    "start_time": "2022-05-25T20:29:09.516Z"
   },
   {
    "duration": 23,
    "start_time": "2022-05-25T20:29:46.573Z"
   },
   {
    "duration": 6,
    "start_time": "2022-05-25T20:31:43.470Z"
   },
   {
    "duration": 4,
    "start_time": "2022-05-25T20:38:52.203Z"
   },
   {
    "duration": 26,
    "start_time": "2022-05-25T20:38:52.819Z"
   },
   {
    "duration": 6,
    "start_time": "2022-05-25T20:38:59.627Z"
   },
   {
    "duration": 5,
    "start_time": "2022-05-25T20:39:32.796Z"
   },
   {
    "duration": 3,
    "start_time": "2022-05-25T20:39:56.788Z"
   },
   {
    "duration": 7,
    "start_time": "2022-05-25T20:39:57.308Z"
   },
   {
    "duration": 9,
    "start_time": "2022-05-25T20:40:04.700Z"
   },
   {
    "duration": 9,
    "start_time": "2022-05-25T20:40:37.276Z"
   },
   {
    "duration": 22,
    "start_time": "2022-05-25T20:41:08.901Z"
   },
   {
    "duration": 22,
    "start_time": "2022-05-25T20:41:21.541Z"
   },
   {
    "duration": 5,
    "start_time": "2022-05-25T20:41:31.453Z"
   },
   {
    "duration": 9,
    "start_time": "2022-05-25T20:41:31.821Z"
   },
   {
    "duration": 9,
    "start_time": "2022-05-25T20:41:32.262Z"
   },
   {
    "duration": 6,
    "start_time": "2022-05-25T20:41:35.213Z"
   },
   {
    "duration": 10,
    "start_time": "2022-05-25T20:41:35.428Z"
   },
   {
    "duration": 9,
    "start_time": "2022-05-25T20:41:36.376Z"
   },
   {
    "duration": 8,
    "start_time": "2022-05-25T20:41:53.717Z"
   },
   {
    "duration": 878,
    "start_time": "2022-05-25T20:42:51.906Z"
   },
   {
    "duration": 349,
    "start_time": "2022-05-25T20:42:52.786Z"
   },
   {
    "duration": 70,
    "start_time": "2022-05-25T20:42:53.137Z"
   },
   {
    "duration": 12,
    "start_time": "2022-05-25T20:42:53.209Z"
   },
   {
    "duration": 13,
    "start_time": "2022-05-25T20:42:53.222Z"
   },
   {
    "duration": 36,
    "start_time": "2022-05-25T20:42:53.251Z"
   },
   {
    "duration": 34,
    "start_time": "2022-05-25T20:42:53.289Z"
   },
   {
    "duration": 58,
    "start_time": "2022-05-25T20:42:53.325Z"
   },
   {
    "duration": 1114,
    "start_time": "2022-05-25T20:42:53.384Z"
   },
   {
    "duration": 1061,
    "start_time": "2022-05-25T20:42:54.501Z"
   },
   {
    "duration": 898,
    "start_time": "2022-05-25T20:42:55.564Z"
   },
   {
    "duration": 396,
    "start_time": "2022-05-25T20:42:56.463Z"
   },
   {
    "duration": 155,
    "start_time": "2022-05-25T20:42:56.861Z"
   },
   {
    "duration": 355,
    "start_time": "2022-05-25T20:42:57.018Z"
   },
   {
    "duration": 153,
    "start_time": "2022-05-25T20:42:57.374Z"
   },
   {
    "duration": 429,
    "start_time": "2022-05-25T20:42:57.529Z"
   },
   {
    "duration": 14,
    "start_time": "2022-05-25T20:42:57.960Z"
   },
   {
    "duration": 13,
    "start_time": "2022-05-25T20:42:57.975Z"
   },
   {
    "duration": 13,
    "start_time": "2022-05-25T20:42:57.989Z"
   },
   {
    "duration": 149,
    "start_time": "2022-05-25T20:42:58.003Z"
   },
   {
    "duration": 30,
    "start_time": "2022-05-25T20:42:58.153Z"
   },
   {
    "duration": 143,
    "start_time": "2022-05-25T20:42:58.185Z"
   },
   {
    "duration": 23,
    "start_time": "2022-05-25T20:42:58.330Z"
   },
   {
    "duration": 11,
    "start_time": "2022-05-25T20:42:58.354Z"
   },
   {
    "duration": 10,
    "start_time": "2022-05-25T20:42:58.367Z"
   },
   {
    "duration": 4,
    "start_time": "2022-05-25T20:42:58.379Z"
   },
   {
    "duration": 12,
    "start_time": "2022-05-25T20:42:58.385Z"
   },
   {
    "duration": 13,
    "start_time": "2022-05-25T20:42:58.400Z"
   },
   {
    "duration": 52,
    "start_time": "2022-05-25T20:42:58.415Z"
   },
   {
    "duration": 4,
    "start_time": "2022-05-25T20:42:58.469Z"
   },
   {
    "duration": 179,
    "start_time": "2022-05-25T20:42:58.475Z"
   },
   {
    "duration": 97,
    "start_time": "2022-05-25T20:42:58.656Z"
   },
   {
    "duration": 101,
    "start_time": "2022-05-25T20:42:58.755Z"
   },
   {
    "duration": 6,
    "start_time": "2022-05-25T20:42:58.858Z"
   },
   {
    "duration": 5,
    "start_time": "2022-05-25T20:42:58.866Z"
   },
   {
    "duration": 10,
    "start_time": "2022-05-25T20:42:58.872Z"
   },
   {
    "duration": 6,
    "start_time": "2022-05-25T20:42:58.884Z"
   },
   {
    "duration": 6,
    "start_time": "2022-05-25T20:42:58.891Z"
   },
   {
    "duration": 18,
    "start_time": "2022-05-25T20:42:58.899Z"
   },
   {
    "duration": 33,
    "start_time": "2022-05-25T20:42:58.919Z"
   },
   {
    "duration": 15,
    "start_time": "2022-05-25T20:42:58.954Z"
   },
   {
    "duration": 11,
    "start_time": "2022-05-25T20:42:58.970Z"
   },
   {
    "duration": 4,
    "start_time": "2022-05-25T20:42:58.982Z"
   },
   {
    "duration": 4,
    "start_time": "2022-05-25T20:42:58.987Z"
   },
   {
    "duration": 9,
    "start_time": "2022-05-25T20:42:58.992Z"
   },
   {
    "duration": 13,
    "start_time": "2022-05-25T20:42:59.003Z"
   },
   {
    "duration": 36,
    "start_time": "2022-05-25T20:42:59.017Z"
   },
   {
    "duration": 8,
    "start_time": "2022-05-25T20:42:59.055Z"
   },
   {
    "duration": 3,
    "start_time": "2022-05-25T20:52:10.421Z"
   },
   {
    "duration": 4,
    "start_time": "2022-05-25T20:54:58.453Z"
   },
   {
    "duration": 111,
    "start_time": "2022-05-25T20:55:27.071Z"
   },
   {
    "duration": 4,
    "start_time": "2022-05-25T20:55:37.118Z"
   },
   {
    "duration": 2,
    "start_time": "2022-05-25T20:55:37.574Z"
   },
   {
    "duration": 754,
    "start_time": "2022-05-25T20:55:37.991Z"
   },
   {
    "duration": 5,
    "start_time": "2022-05-25T20:57:04.407Z"
   },
   {
    "duration": 3,
    "start_time": "2022-05-25T20:57:05.023Z"
   },
   {
    "duration": 1569,
    "start_time": "2022-05-25T20:57:05.536Z"
   },
   {
    "duration": 5,
    "start_time": "2022-05-25T21:04:35.508Z"
   },
   {
    "duration": 3,
    "start_time": "2022-05-25T21:04:36.747Z"
   },
   {
    "duration": 13,
    "start_time": "2022-05-25T21:04:37.060Z"
   },
   {
    "duration": 4,
    "start_time": "2022-05-25T21:04:43.716Z"
   },
   {
    "duration": 2,
    "start_time": "2022-05-25T21:04:44.891Z"
   },
   {
    "duration": 14,
    "start_time": "2022-05-25T21:04:45.101Z"
   },
   {
    "duration": 5,
    "start_time": "2022-05-25T21:05:02.012Z"
   },
   {
    "duration": 2,
    "start_time": "2022-05-25T21:05:02.412Z"
   },
   {
    "duration": 18,
    "start_time": "2022-05-25T21:05:02.652Z"
   },
   {
    "duration": 5,
    "start_time": "2022-05-25T21:05:33.109Z"
   },
   {
    "duration": 2,
    "start_time": "2022-05-25T21:05:33.565Z"
   },
   {
    "duration": 2606,
    "start_time": "2022-05-25T21:05:33.830Z"
   },
   {
    "duration": 4,
    "start_time": "2022-05-25T21:05:46.256Z"
   },
   {
    "duration": 2,
    "start_time": "2022-05-25T21:05:46.447Z"
   },
   {
    "duration": 2381,
    "start_time": "2022-05-25T21:05:46.717Z"
   },
   {
    "duration": 9,
    "start_time": "2022-05-25T21:05:58.015Z"
   },
   {
    "duration": 2442,
    "start_time": "2022-05-25T21:06:16.781Z"
   },
   {
    "duration": 2512,
    "start_time": "2022-05-25T21:06:19.974Z"
   },
   {
    "duration": 2490,
    "start_time": "2022-05-25T21:07:03.374Z"
   },
   {
    "duration": 2431,
    "start_time": "2022-05-25T21:07:05.867Z"
   },
   {
    "duration": 2466,
    "start_time": "2022-05-25T21:07:08.300Z"
   },
   {
    "duration": 5,
    "start_time": "2022-05-25T21:07:47.454Z"
   },
   {
    "duration": 3,
    "start_time": "2022-05-25T21:07:47.933Z"
   },
   {
    "duration": 2397,
    "start_time": "2022-05-25T21:07:48.295Z"
   },
   {
    "duration": 0,
    "start_time": "2022-05-25T21:07:50.694Z"
   },
   {
    "duration": 0,
    "start_time": "2022-05-25T21:07:50.695Z"
   },
   {
    "duration": 66,
    "start_time": "2022-05-25T21:08:04.383Z"
   },
   {
    "duration": 3,
    "start_time": "2022-05-25T21:08:04.598Z"
   },
   {
    "duration": 2505,
    "start_time": "2022-05-25T21:08:04.815Z"
   },
   {
    "duration": 0,
    "start_time": "2022-05-25T21:08:07.322Z"
   },
   {
    "duration": 5,
    "start_time": "2022-05-25T21:08:08.840Z"
   },
   {
    "duration": 3,
    "start_time": "2022-05-25T21:08:09.233Z"
   },
   {
    "duration": 2390,
    "start_time": "2022-05-25T21:08:09.447Z"
   },
   {
    "duration": 2417,
    "start_time": "2022-05-25T21:08:11.839Z"
   },
   {
    "duration": 2494,
    "start_time": "2022-05-25T21:08:14.257Z"
   },
   {
    "duration": 6,
    "start_time": "2022-05-25T21:08:52.639Z"
   },
   {
    "duration": 2,
    "start_time": "2022-05-25T21:08:53.095Z"
   },
   {
    "duration": 2554,
    "start_time": "2022-05-25T21:08:53.423Z"
   },
   {
    "duration": 2472,
    "start_time": "2022-05-25T21:08:55.979Z"
   },
   {
    "duration": 2495,
    "start_time": "2022-05-25T21:08:58.453Z"
   },
   {
    "duration": 4,
    "start_time": "2022-05-25T21:09:12.679Z"
   },
   {
    "duration": 2,
    "start_time": "2022-05-25T21:09:12.871Z"
   },
   {
    "duration": 2567,
    "start_time": "2022-05-25T21:09:13.039Z"
   },
   {
    "duration": 2419,
    "start_time": "2022-05-25T21:09:15.608Z"
   },
   {
    "duration": 2436,
    "start_time": "2022-05-25T21:09:18.029Z"
   },
   {
    "duration": 4,
    "start_time": "2022-05-25T21:09:25.111Z"
   },
   {
    "duration": 2,
    "start_time": "2022-05-25T21:09:25.296Z"
   },
   {
    "duration": 2376,
    "start_time": "2022-05-25T21:09:25.464Z"
   },
   {
    "duration": 2408,
    "start_time": "2022-05-25T21:09:27.842Z"
   },
   {
    "duration": 2459,
    "start_time": "2022-05-25T21:09:30.253Z"
   },
   {
    "duration": 10,
    "start_time": "2022-05-25T21:10:02.897Z"
   },
   {
    "duration": 10,
    "start_time": "2022-05-25T21:10:04.616Z"
   },
   {
    "duration": 10,
    "start_time": "2022-05-25T21:10:05.918Z"
   },
   {
    "duration": 9,
    "start_time": "2022-05-25T21:10:06.656Z"
   },
   {
    "duration": 9,
    "start_time": "2022-05-25T21:10:07.256Z"
   },
   {
    "duration": 9,
    "start_time": "2022-05-25T21:10:07.880Z"
   },
   {
    "duration": 12,
    "start_time": "2022-05-25T21:10:08.499Z"
   },
   {
    "duration": 10,
    "start_time": "2022-05-25T21:10:09.137Z"
   },
   {
    "duration": 9,
    "start_time": "2022-05-25T21:10:09.776Z"
   },
   {
    "duration": 11,
    "start_time": "2022-05-25T21:10:10.392Z"
   },
   {
    "duration": 10,
    "start_time": "2022-05-25T21:10:11.000Z"
   },
   {
    "duration": 11,
    "start_time": "2022-05-25T21:10:11.736Z"
   },
   {
    "duration": 9,
    "start_time": "2022-05-25T21:10:12.457Z"
   },
   {
    "duration": 10,
    "start_time": "2022-05-25T21:10:13.233Z"
   },
   {
    "duration": 9,
    "start_time": "2022-05-25T21:10:13.913Z"
   },
   {
    "duration": 9,
    "start_time": "2022-05-25T21:10:14.632Z"
   },
   {
    "duration": 12,
    "start_time": "2022-05-25T21:10:15.320Z"
   },
   {
    "duration": 10,
    "start_time": "2022-05-25T21:10:16.008Z"
   },
   {
    "duration": 9,
    "start_time": "2022-05-25T21:10:17.080Z"
   },
   {
    "duration": 10,
    "start_time": "2022-05-25T21:10:17.857Z"
   },
   {
    "duration": 9,
    "start_time": "2022-05-25T21:10:18.552Z"
   },
   {
    "duration": 10,
    "start_time": "2022-05-25T21:10:19.248Z"
   },
   {
    "duration": 10,
    "start_time": "2022-05-25T21:10:19.913Z"
   },
   {
    "duration": 10,
    "start_time": "2022-05-25T21:10:21.097Z"
   },
   {
    "duration": 10,
    "start_time": "2022-05-25T21:10:21.896Z"
   },
   {
    "duration": 10,
    "start_time": "2022-05-25T21:10:22.608Z"
   },
   {
    "duration": 9,
    "start_time": "2022-05-25T21:10:23.720Z"
   },
   {
    "duration": 9,
    "start_time": "2022-05-25T21:10:24.457Z"
   },
   {
    "duration": 11,
    "start_time": "2022-05-25T21:10:25.177Z"
   },
   {
    "duration": 9,
    "start_time": "2022-05-25T21:10:25.913Z"
   },
   {
    "duration": 10,
    "start_time": "2022-05-25T21:10:26.633Z"
   },
   {
    "duration": 9,
    "start_time": "2022-05-25T21:10:27.409Z"
   },
   {
    "duration": 9,
    "start_time": "2022-05-25T21:10:28.241Z"
   },
   {
    "duration": 10,
    "start_time": "2022-05-25T21:10:29.152Z"
   },
   {
    "duration": 10,
    "start_time": "2022-05-25T21:10:29.934Z"
   },
   {
    "duration": 10,
    "start_time": "2022-05-25T21:10:30.705Z"
   },
   {
    "duration": 10,
    "start_time": "2022-05-25T21:10:31.441Z"
   },
   {
    "duration": 10,
    "start_time": "2022-05-25T21:10:32.145Z"
   },
   {
    "duration": 12,
    "start_time": "2022-05-25T21:10:32.864Z"
   },
   {
    "duration": 10,
    "start_time": "2022-05-25T21:10:33.827Z"
   },
   {
    "duration": 10,
    "start_time": "2022-05-25T21:10:34.544Z"
   },
   {
    "duration": 13,
    "start_time": "2022-05-25T21:10:35.289Z"
   },
   {
    "duration": 10,
    "start_time": "2022-05-25T21:10:36.033Z"
   },
   {
    "duration": 10,
    "start_time": "2022-05-25T21:10:36.817Z"
   },
   {
    "duration": 10,
    "start_time": "2022-05-25T21:10:37.674Z"
   },
   {
    "duration": 10,
    "start_time": "2022-05-25T21:10:38.497Z"
   },
   {
    "duration": 9,
    "start_time": "2022-05-25T21:10:39.437Z"
   },
   {
    "duration": 10,
    "start_time": "2022-05-25T21:10:40.664Z"
   },
   {
    "duration": 9,
    "start_time": "2022-05-25T21:10:41.481Z"
   },
   {
    "duration": 11,
    "start_time": "2022-05-25T21:10:42.209Z"
   },
   {
    "duration": 10,
    "start_time": "2022-05-25T21:10:42.889Z"
   },
   {
    "duration": 10,
    "start_time": "2022-05-25T21:10:44.097Z"
   },
   {
    "duration": 10,
    "start_time": "2022-05-25T21:10:44.905Z"
   },
   {
    "duration": 11,
    "start_time": "2022-05-25T21:10:45.637Z"
   },
   {
    "duration": 9,
    "start_time": "2022-05-25T21:10:46.426Z"
   },
   {
    "duration": 10,
    "start_time": "2022-05-25T21:10:47.168Z"
   },
   {
    "duration": 10,
    "start_time": "2022-05-25T21:10:54.257Z"
   },
   {
    "duration": 10,
    "start_time": "2022-05-25T21:10:54.985Z"
   },
   {
    "duration": 10,
    "start_time": "2022-05-25T21:10:55.682Z"
   },
   {
    "duration": 10,
    "start_time": "2022-05-25T21:10:56.331Z"
   },
   {
    "duration": 9,
    "start_time": "2022-05-25T21:10:56.960Z"
   },
   {
    "duration": 4,
    "start_time": "2022-05-25T21:12:09.041Z"
   },
   {
    "duration": 5,
    "start_time": "2022-05-25T21:14:52.123Z"
   },
   {
    "duration": 5,
    "start_time": "2022-05-25T21:15:04.836Z"
   },
   {
    "duration": 2507,
    "start_time": "2022-05-25T21:15:05.523Z"
   },
   {
    "duration": 2,
    "start_time": "2022-05-25T21:15:17.060Z"
   },
   {
    "duration": 4,
    "start_time": "2022-05-25T21:15:26.524Z"
   },
   {
    "duration": 2430,
    "start_time": "2022-05-25T21:15:26.956Z"
   },
   {
    "duration": 5,
    "start_time": "2022-05-25T21:15:58.412Z"
   },
   {
    "duration": 2426,
    "start_time": "2022-05-25T21:15:59.748Z"
   },
   {
    "duration": 5,
    "start_time": "2022-05-25T21:17:15.836Z"
   },
   {
    "duration": 2406,
    "start_time": "2022-05-25T21:17:16.502Z"
   },
   {
    "duration": 2666,
    "start_time": "2022-05-25T21:19:13.968Z"
   },
   {
    "duration": 2398,
    "start_time": "2022-05-25T21:19:16.636Z"
   },
   {
    "duration": 5,
    "start_time": "2022-05-25T21:19:41.967Z"
   },
   {
    "duration": 2198,
    "start_time": "2022-05-25T21:19:42.384Z"
   },
   {
    "duration": 2275,
    "start_time": "2022-05-25T21:19:44.584Z"
   },
   {
    "duration": 2186,
    "start_time": "2022-05-25T21:19:46.860Z"
   },
   {
    "duration": 4,
    "start_time": "2022-05-25T21:19:57.312Z"
   },
   {
    "duration": 2172,
    "start_time": "2022-05-25T21:19:57.608Z"
   },
   {
    "duration": 2268,
    "start_time": "2022-05-25T21:19:59.782Z"
   },
   {
    "duration": 2177,
    "start_time": "2022-05-25T21:20:02.051Z"
   },
   {
    "duration": 5,
    "start_time": "2022-05-25T21:21:11.640Z"
   },
   {
    "duration": 2261,
    "start_time": "2022-05-25T21:21:11.973Z"
   },
   {
    "duration": 2355,
    "start_time": "2022-05-25T21:21:14.236Z"
   },
   {
    "duration": 2219,
    "start_time": "2022-05-25T21:21:16.593Z"
   },
   {
    "duration": 5,
    "start_time": "2022-05-25T21:21:38.758Z"
   },
   {
    "duration": 2249,
    "start_time": "2022-05-25T21:21:39.213Z"
   },
   {
    "duration": 0,
    "start_time": "2022-05-25T21:21:41.464Z"
   },
   {
    "duration": 0,
    "start_time": "2022-05-25T21:21:41.465Z"
   },
   {
    "duration": 5,
    "start_time": "2022-05-25T21:21:45.974Z"
   },
   {
    "duration": 2192,
    "start_time": "2022-05-25T21:21:46.317Z"
   },
   {
    "duration": 2181,
    "start_time": "2022-05-25T21:21:48.511Z"
   },
   {
    "duration": 2171,
    "start_time": "2022-05-25T21:21:50.694Z"
   },
   {
    "duration": 4,
    "start_time": "2022-05-25T21:27:30.643Z"
   },
   {
    "duration": 2303,
    "start_time": "2022-05-25T21:27:30.942Z"
   },
   {
    "duration": 2364,
    "start_time": "2022-05-25T21:27:33.247Z"
   },
   {
    "duration": 2355,
    "start_time": "2022-05-25T21:27:35.613Z"
   },
   {
    "duration": 12,
    "start_time": "2022-05-25T21:29:04.524Z"
   },
   {
    "duration": 14,
    "start_time": "2022-05-25T21:29:05.627Z"
   },
   {
    "duration": 12,
    "start_time": "2022-05-25T21:29:06.523Z"
   },
   {
    "duration": 12,
    "start_time": "2022-05-25T21:29:07.491Z"
   },
   {
    "duration": 14,
    "start_time": "2022-05-25T21:29:08.219Z"
   },
   {
    "duration": 13,
    "start_time": "2022-05-25T21:29:09.115Z"
   },
   {
    "duration": 13,
    "start_time": "2022-05-25T21:29:09.915Z"
   },
   {
    "duration": 13,
    "start_time": "2022-05-25T21:29:10.618Z"
   },
   {
    "duration": 13,
    "start_time": "2022-05-25T21:29:11.291Z"
   },
   {
    "duration": 13,
    "start_time": "2022-05-25T21:29:12.099Z"
   },
   {
    "duration": 13,
    "start_time": "2022-05-25T21:29:12.907Z"
   },
   {
    "duration": 13,
    "start_time": "2022-05-25T21:29:13.543Z"
   },
   {
    "duration": 13,
    "start_time": "2022-05-25T21:29:14.219Z"
   },
   {
    "duration": 14,
    "start_time": "2022-05-25T21:29:14.882Z"
   },
   {
    "duration": 13,
    "start_time": "2022-05-25T21:29:15.563Z"
   },
   {
    "duration": 14,
    "start_time": "2022-05-25T21:29:16.259Z"
   },
   {
    "duration": 13,
    "start_time": "2022-05-25T21:29:17.419Z"
   },
   {
    "duration": 11,
    "start_time": "2022-05-25T21:29:19.971Z"
   },
   {
    "duration": 53,
    "start_time": "2022-05-25T21:33:23.055Z"
   },
   {
    "duration": 2338,
    "start_time": "2022-05-25T21:33:56.088Z"
   },
   {
    "duration": 2375,
    "start_time": "2022-05-25T21:34:06.241Z"
   },
   {
    "duration": 2373,
    "start_time": "2022-05-25T21:34:10.071Z"
   },
   {
    "duration": 2471,
    "start_time": "2022-05-25T21:34:14.015Z"
   },
   {
    "duration": 6,
    "start_time": "2022-05-25T21:35:51.819Z"
   },
   {
    "duration": 54,
    "start_time": "2022-05-25T21:36:00.649Z"
   },
   {
    "duration": 2424,
    "start_time": "2022-05-25T21:36:03.961Z"
   },
   {
    "duration": 2551,
    "start_time": "2022-05-25T21:36:37.322Z"
   },
   {
    "duration": 2356,
    "start_time": "2022-05-25T21:36:56.106Z"
   },
   {
    "duration": 2337,
    "start_time": "2022-05-25T21:37:05.553Z"
   },
   {
    "duration": 2386,
    "start_time": "2022-05-25T21:37:11.858Z"
   },
   {
    "duration": 2388,
    "start_time": "2022-05-25T21:37:26.241Z"
   },
   {
    "duration": 2395,
    "start_time": "2022-05-25T21:37:39.850Z"
   },
   {
    "duration": 2420,
    "start_time": "2022-05-25T21:38:15.996Z"
   },
   {
    "duration": 2395,
    "start_time": "2022-05-25T21:38:26.243Z"
   },
   {
    "duration": 4,
    "start_time": "2022-05-25T21:39:22.171Z"
   },
   {
    "duration": 2279,
    "start_time": "2022-05-25T21:39:23.523Z"
   },
   {
    "duration": 4,
    "start_time": "2022-05-25T21:39:58.572Z"
   },
   {
    "duration": 2299,
    "start_time": "2022-05-25T21:39:59.907Z"
   },
   {
    "duration": 2166,
    "start_time": "2022-05-25T21:40:06.899Z"
   },
   {
    "duration": 6,
    "start_time": "2022-05-25T21:40:12.620Z"
   },
   {
    "duration": 2199,
    "start_time": "2022-05-25T21:40:13.051Z"
   },
   {
    "duration": 2229,
    "start_time": "2022-05-25T21:40:16.157Z"
   },
   {
    "duration": 2164,
    "start_time": "2022-05-25T21:40:18.388Z"
   },
   {
    "duration": 2373,
    "start_time": "2022-05-25T21:40:20.553Z"
   },
   {
    "duration": 6,
    "start_time": "2022-05-25T21:40:41.239Z"
   },
   {
    "duration": 2199,
    "start_time": "2022-05-25T21:40:41.508Z"
   },
   {
    "duration": 4,
    "start_time": "2022-05-25T21:41:04.791Z"
   },
   {
    "duration": 2250,
    "start_time": "2022-05-25T21:41:05.450Z"
   },
   {
    "duration": 2231,
    "start_time": "2022-05-25T21:41:12.308Z"
   },
   {
    "duration": 2308,
    "start_time": "2022-05-25T21:41:14.540Z"
   },
   {
    "duration": 2372,
    "start_time": "2022-05-25T21:41:30.701Z"
   },
   {
    "duration": 2441,
    "start_time": "2022-05-25T21:41:44.445Z"
   },
   {
    "duration": 2541,
    "start_time": "2022-05-25T21:42:53.150Z"
   },
   {
    "duration": 5,
    "start_time": "2022-05-25T21:50:06.373Z"
   },
   {
    "duration": 2194,
    "start_time": "2022-05-25T21:50:06.747Z"
   },
   {
    "duration": 2179,
    "start_time": "2022-05-25T21:50:08.943Z"
   },
   {
    "duration": 2199,
    "start_time": "2022-05-25T21:50:11.124Z"
   },
   {
    "duration": 837,
    "start_time": "2022-05-25T21:51:48.540Z"
   },
   {
    "duration": 347,
    "start_time": "2022-05-25T21:51:49.379Z"
   },
   {
    "duration": 71,
    "start_time": "2022-05-25T21:51:49.728Z"
   },
   {
    "duration": 17,
    "start_time": "2022-05-25T21:51:49.802Z"
   },
   {
    "duration": 22,
    "start_time": "2022-05-25T21:51:49.820Z"
   },
   {
    "duration": 41,
    "start_time": "2022-05-25T21:51:49.843Z"
   },
   {
    "duration": 36,
    "start_time": "2022-05-25T21:51:49.886Z"
   },
   {
    "duration": 52,
    "start_time": "2022-05-25T21:51:49.923Z"
   },
   {
    "duration": 1118,
    "start_time": "2022-05-25T21:51:49.976Z"
   },
   {
    "duration": 892,
    "start_time": "2022-05-25T21:51:51.097Z"
   },
   {
    "duration": 890,
    "start_time": "2022-05-25T21:51:51.990Z"
   },
   {
    "duration": 376,
    "start_time": "2022-05-25T21:51:52.882Z"
   },
   {
    "duration": 148,
    "start_time": "2022-05-25T21:51:53.259Z"
   },
   {
    "duration": 366,
    "start_time": "2022-05-25T21:51:53.409Z"
   },
   {
    "duration": 157,
    "start_time": "2022-05-25T21:51:53.776Z"
   },
   {
    "duration": 454,
    "start_time": "2022-05-25T21:51:53.934Z"
   },
   {
    "duration": 15,
    "start_time": "2022-05-25T21:51:54.391Z"
   },
   {
    "duration": 15,
    "start_time": "2022-05-25T21:51:54.408Z"
   },
   {
    "duration": 40,
    "start_time": "2022-05-25T21:51:54.425Z"
   },
   {
    "duration": 152,
    "start_time": "2022-05-25T21:51:54.467Z"
   },
   {
    "duration": 40,
    "start_time": "2022-05-25T21:51:54.620Z"
   },
   {
    "duration": 179,
    "start_time": "2022-05-25T21:51:54.662Z"
   },
   {
    "duration": 21,
    "start_time": "2022-05-25T21:51:54.842Z"
   },
   {
    "duration": 14,
    "start_time": "2022-05-25T21:51:54.865Z"
   },
   {
    "duration": 26,
    "start_time": "2022-05-25T21:51:54.881Z"
   },
   {
    "duration": 6,
    "start_time": "2022-05-25T21:51:54.909Z"
   },
   {
    "duration": 14,
    "start_time": "2022-05-25T21:51:54.917Z"
   },
   {
    "duration": 10,
    "start_time": "2022-05-25T21:51:54.952Z"
   },
   {
    "duration": 34,
    "start_time": "2022-05-25T21:51:54.964Z"
   },
   {
    "duration": 5,
    "start_time": "2022-05-25T21:51:55.000Z"
   },
   {
    "duration": 155,
    "start_time": "2022-05-25T21:51:55.007Z"
   },
   {
    "duration": 101,
    "start_time": "2022-05-25T21:51:55.253Z"
   },
   {
    "duration": 17,
    "start_time": "2022-05-25T21:51:55.356Z"
   },
   {
    "duration": 18,
    "start_time": "2022-05-25T21:51:55.375Z"
   },
   {
    "duration": 12,
    "start_time": "2022-05-25T21:51:55.395Z"
   },
   {
    "duration": 11,
    "start_time": "2022-05-25T21:51:55.410Z"
   },
   {
    "duration": 16,
    "start_time": "2022-05-25T21:51:55.423Z"
   },
   {
    "duration": 11,
    "start_time": "2022-05-25T21:51:55.441Z"
   },
   {
    "duration": 33,
    "start_time": "2022-05-25T21:51:55.454Z"
   },
   {
    "duration": 10,
    "start_time": "2022-05-25T21:51:55.489Z"
   },
   {
    "duration": 15,
    "start_time": "2022-05-25T21:51:55.501Z"
   },
   {
    "duration": 12,
    "start_time": "2022-05-25T21:51:55.517Z"
   },
   {
    "duration": 5,
    "start_time": "2022-05-25T21:51:55.530Z"
   },
   {
    "duration": 5,
    "start_time": "2022-05-25T21:51:55.553Z"
   },
   {
    "duration": 2342,
    "start_time": "2022-05-25T21:51:55.560Z"
   },
   {
    "duration": 2169,
    "start_time": "2022-05-25T21:51:57.904Z"
   },
   {
    "duration": 2216,
    "start_time": "2022-05-25T21:52:00.074Z"
   },
   {
    "duration": 2333,
    "start_time": "2022-05-25T21:52:02.292Z"
   },
   {
    "duration": 5,
    "start_time": "2022-05-25T22:00:29.882Z"
   },
   {
    "duration": 7,
    "start_time": "2022-05-25T22:00:55.178Z"
   },
   {
    "duration": 46,
    "start_time": "2022-05-25T22:01:07.115Z"
   },
   {
    "duration": 6,
    "start_time": "2022-05-25T22:04:37.212Z"
   },
   {
    "duration": 5,
    "start_time": "2022-05-25T22:04:42.452Z"
   },
   {
    "duration": 7,
    "start_time": "2022-05-25T22:04:43.292Z"
   },
   {
    "duration": 5,
    "start_time": "2022-05-25T22:04:44.060Z"
   },
   {
    "duration": 6,
    "start_time": "2022-05-25T22:04:45.138Z"
   },
   {
    "duration": 15,
    "start_time": "2022-05-25T22:05:02.700Z"
   },
   {
    "duration": 9,
    "start_time": "2022-05-25T22:05:03.253Z"
   },
   {
    "duration": 966,
    "start_time": "2022-05-25T22:08:54.364Z"
   },
   {
    "duration": 394,
    "start_time": "2022-05-25T22:08:55.333Z"
   },
   {
    "duration": 76,
    "start_time": "2022-05-25T22:08:55.728Z"
   },
   {
    "duration": 12,
    "start_time": "2022-05-25T22:08:55.806Z"
   },
   {
    "duration": 15,
    "start_time": "2022-05-25T22:08:55.819Z"
   },
   {
    "duration": 40,
    "start_time": "2022-05-25T22:08:55.852Z"
   },
   {
    "duration": 39,
    "start_time": "2022-05-25T22:08:55.893Z"
   },
   {
    "duration": 54,
    "start_time": "2022-05-25T22:08:55.934Z"
   },
   {
    "duration": 1199,
    "start_time": "2022-05-25T22:08:55.990Z"
   },
   {
    "duration": 944,
    "start_time": "2022-05-25T22:08:57.192Z"
   },
   {
    "duration": 846,
    "start_time": "2022-05-25T22:08:58.139Z"
   },
   {
    "duration": 399,
    "start_time": "2022-05-25T22:08:58.987Z"
   },
   {
    "duration": 155,
    "start_time": "2022-05-25T22:08:59.388Z"
   },
   {
    "duration": 378,
    "start_time": "2022-05-25T22:08:59.544Z"
   },
   {
    "duration": 167,
    "start_time": "2022-05-25T22:08:59.924Z"
   },
   {
    "duration": 441,
    "start_time": "2022-05-25T22:09:00.093Z"
   },
   {
    "duration": 20,
    "start_time": "2022-05-25T22:09:00.535Z"
   },
   {
    "duration": 14,
    "start_time": "2022-05-25T22:09:00.556Z"
   },
   {
    "duration": 26,
    "start_time": "2022-05-25T22:09:00.572Z"
   },
   {
    "duration": 136,
    "start_time": "2022-05-25T22:09:00.600Z"
   },
   {
    "duration": 42,
    "start_time": "2022-05-25T22:09:00.737Z"
   },
   {
    "duration": 164,
    "start_time": "2022-05-25T22:09:00.780Z"
   },
   {
    "duration": 13,
    "start_time": "2022-05-25T22:09:00.952Z"
   },
   {
    "duration": 22,
    "start_time": "2022-05-25T22:09:00.967Z"
   },
   {
    "duration": 21,
    "start_time": "2022-05-25T22:09:00.990Z"
   },
   {
    "duration": 8,
    "start_time": "2022-05-25T22:09:01.013Z"
   },
   {
    "duration": 24,
    "start_time": "2022-05-25T22:09:01.022Z"
   },
   {
    "duration": 19,
    "start_time": "2022-05-25T22:09:01.051Z"
   },
   {
    "duration": 45,
    "start_time": "2022-05-25T22:09:01.072Z"
   },
   {
    "duration": 6,
    "start_time": "2022-05-25T22:09:01.119Z"
   },
   {
    "duration": 130,
    "start_time": "2022-05-25T22:09:01.126Z"
   },
   {
    "duration": 102,
    "start_time": "2022-05-25T22:09:01.258Z"
   },
   {
    "duration": 111,
    "start_time": "2022-05-25T22:09:01.362Z"
   },
   {
    "duration": 29,
    "start_time": "2022-05-25T22:09:01.474Z"
   },
   {
    "duration": 13,
    "start_time": "2022-05-25T22:09:01.505Z"
   },
   {
    "duration": 32,
    "start_time": "2022-05-25T22:09:01.520Z"
   },
   {
    "duration": 28,
    "start_time": "2022-05-25T22:09:01.554Z"
   },
   {
    "duration": 16,
    "start_time": "2022-05-25T22:09:01.584Z"
   },
   {
    "duration": 33,
    "start_time": "2022-05-25T22:09:01.601Z"
   },
   {
    "duration": 16,
    "start_time": "2022-05-25T22:09:01.636Z"
   },
   {
    "duration": 26,
    "start_time": "2022-05-25T22:09:01.654Z"
   },
   {
    "duration": 12,
    "start_time": "2022-05-25T22:09:01.682Z"
   },
   {
    "duration": 8,
    "start_time": "2022-05-25T22:09:01.695Z"
   },
   {
    "duration": 19,
    "start_time": "2022-05-25T22:09:01.705Z"
   },
   {
    "duration": 2350,
    "start_time": "2022-05-25T22:09:01.726Z"
   },
   {
    "duration": 2323,
    "start_time": "2022-05-25T22:09:04.078Z"
   },
   {
    "duration": 2214,
    "start_time": "2022-05-25T22:09:06.402Z"
   },
   {
    "duration": 2438,
    "start_time": "2022-05-25T22:09:08.618Z"
   },
   {
    "duration": 972,
    "start_time": "2022-05-27T04:15:27.874Z"
   },
   {
    "duration": 957,
    "start_time": "2022-05-27T04:15:28.848Z"
   },
   {
    "duration": 88,
    "start_time": "2022-05-27T04:15:29.806Z"
   },
   {
    "duration": 12,
    "start_time": "2022-05-27T04:15:29.896Z"
   },
   {
    "duration": 13,
    "start_time": "2022-05-27T04:15:29.909Z"
   },
   {
    "duration": 64,
    "start_time": "2022-05-27T04:15:29.924Z"
   },
   {
    "duration": 36,
    "start_time": "2022-05-27T04:15:29.990Z"
   },
   {
    "duration": 65,
    "start_time": "2022-05-27T04:15:30.028Z"
   },
   {
    "duration": 1927,
    "start_time": "2022-05-27T04:15:30.095Z"
   },
   {
    "duration": 1174,
    "start_time": "2022-05-27T04:15:32.025Z"
   },
   {
    "duration": 1022,
    "start_time": "2022-05-27T04:15:33.200Z"
   },
   {
    "duration": 466,
    "start_time": "2022-05-27T04:15:34.224Z"
   },
   {
    "duration": 194,
    "start_time": "2022-05-27T04:15:34.692Z"
   },
   {
    "duration": 460,
    "start_time": "2022-05-27T04:15:34.888Z"
   },
   {
    "duration": 424,
    "start_time": "2022-05-27T04:15:35.350Z"
   },
   {
    "duration": 408,
    "start_time": "2022-05-27T04:15:35.783Z"
   },
   {
    "duration": 33,
    "start_time": "2022-05-27T04:15:36.196Z"
   },
   {
    "duration": 17,
    "start_time": "2022-05-27T04:15:36.231Z"
   },
   {
    "duration": 27,
    "start_time": "2022-05-27T04:15:36.250Z"
   },
   {
    "duration": 163,
    "start_time": "2022-05-27T04:15:36.280Z"
   },
   {
    "duration": 52,
    "start_time": "2022-05-27T04:15:36.444Z"
   },
   {
    "duration": 189,
    "start_time": "2022-05-27T04:15:36.497Z"
   },
   {
    "duration": 16,
    "start_time": "2022-05-27T04:15:36.689Z"
   },
   {
    "duration": 13,
    "start_time": "2022-05-27T04:15:36.707Z"
   },
   {
    "duration": 11,
    "start_time": "2022-05-27T04:15:36.721Z"
   },
   {
    "duration": 40,
    "start_time": "2022-05-27T04:15:36.734Z"
   },
   {
    "duration": 13,
    "start_time": "2022-05-27T04:15:36.784Z"
   },
   {
    "duration": 33,
    "start_time": "2022-05-27T04:15:36.800Z"
   },
   {
    "duration": 6,
    "start_time": "2022-05-27T04:15:36.834Z"
   },
   {
    "duration": 317,
    "start_time": "2022-05-27T04:15:36.841Z"
   },
   {
    "duration": 89,
    "start_time": "2022-05-27T04:15:37.178Z"
   },
   {
    "duration": 35,
    "start_time": "2022-05-27T04:15:37.271Z"
   },
   {
    "duration": 11,
    "start_time": "2022-05-27T04:15:37.308Z"
   },
   {
    "duration": 14,
    "start_time": "2022-05-27T04:15:37.321Z"
   },
   {
    "duration": 7,
    "start_time": "2022-05-27T04:15:37.337Z"
   },
   {
    "duration": 36,
    "start_time": "2022-05-27T04:15:37.346Z"
   },
   {
    "duration": 18,
    "start_time": "2022-05-27T04:15:37.383Z"
   },
   {
    "duration": 30,
    "start_time": "2022-05-27T04:15:37.403Z"
   },
   {
    "duration": 10,
    "start_time": "2022-05-27T04:15:37.435Z"
   },
   {
    "duration": 164,
    "start_time": "2022-05-27T04:15:37.447Z"
   },
   {
    "duration": 0,
    "start_time": "2022-05-27T04:15:37.613Z"
   },
   {
    "duration": 0,
    "start_time": "2022-05-27T04:15:37.615Z"
   },
   {
    "duration": 0,
    "start_time": "2022-05-27T04:15:37.616Z"
   },
   {
    "duration": 0,
    "start_time": "2022-05-27T04:15:37.617Z"
   },
   {
    "duration": 0,
    "start_time": "2022-05-27T04:15:37.619Z"
   },
   {
    "duration": 0,
    "start_time": "2022-05-27T04:15:37.620Z"
   },
   {
    "duration": 0,
    "start_time": "2022-05-27T04:15:37.621Z"
   },
   {
    "duration": 14,
    "start_time": "2022-05-27T04:39:04.700Z"
   },
   {
    "duration": 19,
    "start_time": "2022-05-27T04:39:05.279Z"
   },
   {
    "duration": 13,
    "start_time": "2022-05-27T04:39:05.937Z"
   },
   {
    "duration": 13,
    "start_time": "2022-05-27T04:39:06.283Z"
   },
   {
    "duration": 28,
    "start_time": "2022-05-27T04:39:07.558Z"
   },
   {
    "duration": 14,
    "start_time": "2022-05-27T04:39:08.517Z"
   },
   {
    "duration": 12,
    "start_time": "2022-05-27T04:39:09.012Z"
   },
   {
    "duration": 13,
    "start_time": "2022-05-27T04:39:09.413Z"
   },
   {
    "duration": 18,
    "start_time": "2022-05-27T04:39:09.671Z"
   },
   {
    "duration": 14,
    "start_time": "2022-05-27T04:39:09.989Z"
   },
   {
    "duration": 17,
    "start_time": "2022-05-27T04:39:10.281Z"
   },
   {
    "duration": 14,
    "start_time": "2022-05-27T04:39:10.532Z"
   },
   {
    "duration": 13,
    "start_time": "2022-05-27T04:39:10.899Z"
   },
   {
    "duration": 25,
    "start_time": "2022-05-27T04:39:11.441Z"
   },
   {
    "duration": 13,
    "start_time": "2022-05-27T04:39:11.809Z"
   },
   {
    "duration": 18,
    "start_time": "2022-05-27T04:39:12.127Z"
   },
   {
    "duration": 18,
    "start_time": "2022-05-27T04:39:12.488Z"
   },
   {
    "duration": 13,
    "start_time": "2022-05-27T04:39:24.286Z"
   },
   {
    "duration": 36,
    "start_time": "2022-05-27T04:39:24.652Z"
   },
   {
    "duration": 13,
    "start_time": "2022-05-27T04:39:25.004Z"
   },
   {
    "duration": 23,
    "start_time": "2022-05-27T04:39:25.243Z"
   },
   {
    "duration": 38,
    "start_time": "2022-05-27T04:39:25.547Z"
   },
   {
    "duration": 13,
    "start_time": "2022-05-27T04:39:25.797Z"
   },
   {
    "duration": 13,
    "start_time": "2022-05-27T04:39:26.075Z"
   },
   {
    "duration": 13,
    "start_time": "2022-05-27T04:39:26.390Z"
   },
   {
    "duration": 12,
    "start_time": "2022-05-27T04:39:27.004Z"
   },
   {
    "duration": 19,
    "start_time": "2022-05-27T04:39:27.348Z"
   },
   {
    "duration": 13,
    "start_time": "2022-05-27T04:39:27.691Z"
   },
   {
    "duration": 15,
    "start_time": "2022-05-27T04:39:28.002Z"
   },
   {
    "duration": 12,
    "start_time": "2022-05-27T04:39:28.406Z"
   },
   {
    "duration": 11,
    "start_time": "2022-05-27T04:39:29.096Z"
   },
   {
    "duration": 11,
    "start_time": "2022-05-27T04:39:29.331Z"
   },
   {
    "duration": 13,
    "start_time": "2022-05-27T04:39:29.682Z"
   },
   {
    "duration": 14,
    "start_time": "2022-05-27T04:39:29.983Z"
   },
   {
    "duration": 13,
    "start_time": "2022-05-27T04:39:30.378Z"
   },
   {
    "duration": 6,
    "start_time": "2022-05-27T06:50:49.473Z"
   },
   {
    "duration": 887,
    "start_time": "2022-05-27T06:51:17.409Z"
   },
   {
    "duration": 401,
    "start_time": "2022-05-27T06:51:18.298Z"
   },
   {
    "duration": 90,
    "start_time": "2022-05-27T06:51:18.701Z"
   },
   {
    "duration": 11,
    "start_time": "2022-05-27T06:51:18.793Z"
   },
   {
    "duration": 14,
    "start_time": "2022-05-27T06:51:18.805Z"
   },
   {
    "duration": 65,
    "start_time": "2022-05-27T06:51:18.821Z"
   },
   {
    "duration": 36,
    "start_time": "2022-05-27T06:51:18.888Z"
   },
   {
    "duration": 47,
    "start_time": "2022-05-27T06:51:18.926Z"
   },
   {
    "duration": 1328,
    "start_time": "2022-05-27T06:51:18.978Z"
   },
   {
    "duration": 1081,
    "start_time": "2022-05-27T06:51:20.308Z"
   },
   {
    "duration": 957,
    "start_time": "2022-05-27T06:51:21.391Z"
   },
   {
    "duration": 467,
    "start_time": "2022-05-27T06:51:22.349Z"
   },
   {
    "duration": 179,
    "start_time": "2022-05-27T06:51:22.817Z"
   },
   {
    "duration": 477,
    "start_time": "2022-05-27T06:51:22.997Z"
   },
   {
    "duration": 195,
    "start_time": "2022-05-27T06:51:23.480Z"
   },
   {
    "duration": 503,
    "start_time": "2022-05-27T06:51:23.680Z"
   },
   {
    "duration": 18,
    "start_time": "2022-05-27T06:51:24.186Z"
   },
   {
    "duration": 14,
    "start_time": "2022-05-27T06:51:24.206Z"
   },
   {
    "duration": 33,
    "start_time": "2022-05-27T06:51:24.221Z"
   },
   {
    "duration": 145,
    "start_time": "2022-05-27T06:51:24.256Z"
   },
   {
    "duration": 32,
    "start_time": "2022-05-27T06:51:24.403Z"
   },
   {
    "duration": 185,
    "start_time": "2022-05-27T06:51:24.437Z"
   },
   {
    "duration": 12,
    "start_time": "2022-05-27T06:51:24.624Z"
   },
   {
    "duration": 42,
    "start_time": "2022-05-27T06:51:24.638Z"
   },
   {
    "duration": 13,
    "start_time": "2022-05-27T06:51:24.682Z"
   },
   {
    "duration": 14,
    "start_time": "2022-05-27T06:51:24.697Z"
   },
   {
    "duration": 16,
    "start_time": "2022-05-27T06:51:24.713Z"
   },
   {
    "duration": 47,
    "start_time": "2022-05-27T06:51:24.732Z"
   },
   {
    "duration": 6,
    "start_time": "2022-05-27T06:51:24.781Z"
   },
   {
    "duration": 95,
    "start_time": "2022-05-27T06:51:24.789Z"
   },
   {
    "duration": 77,
    "start_time": "2022-05-27T06:51:24.886Z"
   },
   {
    "duration": 121,
    "start_time": "2022-05-27T06:51:24.965Z"
   },
   {
    "duration": 7,
    "start_time": "2022-05-27T06:51:25.088Z"
   },
   {
    "duration": 14,
    "start_time": "2022-05-27T06:51:25.096Z"
   },
   {
    "duration": 11,
    "start_time": "2022-05-27T06:51:25.112Z"
   },
   {
    "duration": 11,
    "start_time": "2022-05-27T06:51:25.124Z"
   },
   {
    "duration": 6,
    "start_time": "2022-05-27T06:51:25.137Z"
   },
   {
    "duration": 16,
    "start_time": "2022-05-27T06:51:25.144Z"
   },
   {
    "duration": 27,
    "start_time": "2022-05-27T06:51:25.164Z"
   },
   {
    "duration": 8,
    "start_time": "2022-05-27T06:51:25.194Z"
   },
   {
    "duration": 7,
    "start_time": "2022-05-27T06:51:25.204Z"
   },
   {
    "duration": 183,
    "start_time": "2022-05-27T06:51:25.212Z"
   },
   {
    "duration": 0,
    "start_time": "2022-05-27T06:51:25.397Z"
   },
   {
    "duration": 0,
    "start_time": "2022-05-27T06:51:25.399Z"
   },
   {
    "duration": 0,
    "start_time": "2022-05-27T06:51:25.400Z"
   },
   {
    "duration": 5,
    "start_time": "2022-05-27T06:52:22.700Z"
   },
   {
    "duration": 2730,
    "start_time": "2022-05-27T06:52:23.670Z"
   },
   {
    "duration": 2554,
    "start_time": "2022-05-27T06:52:27.893Z"
   },
   {
    "duration": 2654,
    "start_time": "2022-05-27T06:52:30.449Z"
   },
   {
    "duration": 16,
    "start_time": "2022-05-27T06:52:45.171Z"
   },
   {
    "duration": 52,
    "start_time": "2022-05-27T06:53:55.829Z"
   },
   {
    "duration": 2577,
    "start_time": "2022-05-27T06:54:47.784Z"
   },
   {
    "duration": 8,
    "start_time": "2022-05-27T06:56:05.679Z"
   },
   {
    "duration": 2690,
    "start_time": "2022-05-27T06:56:07.824Z"
   },
   {
    "duration": 10,
    "start_time": "2022-05-27T06:56:24.678Z"
   },
   {
    "duration": 2829,
    "start_time": "2022-05-27T06:56:25.479Z"
   },
   {
    "duration": 2706,
    "start_time": "2022-05-27T06:56:31.014Z"
   },
   {
    "duration": 2740,
    "start_time": "2022-05-27T06:56:33.723Z"
   },
   {
    "duration": 21,
    "start_time": "2022-05-27T06:56:49.761Z"
   },
   {
    "duration": 3210,
    "start_time": "2022-05-27T06:56:50.174Z"
   },
   {
    "duration": 2921,
    "start_time": "2022-05-27T06:56:53.390Z"
   },
   {
    "duration": 2978,
    "start_time": "2022-05-27T06:56:56.313Z"
   },
   {
    "duration": 7,
    "start_time": "2022-05-27T06:57:04.898Z"
   },
   {
    "duration": 2721,
    "start_time": "2022-05-27T06:57:05.526Z"
   },
   {
    "duration": 2596,
    "start_time": "2022-05-27T06:57:08.249Z"
   },
   {
    "duration": 2619,
    "start_time": "2022-05-27T06:57:10.847Z"
   },
   {
    "duration": 9,
    "start_time": "2022-05-27T06:58:12.870Z"
   },
   {
    "duration": 1776,
    "start_time": "2022-05-27T06:58:13.884Z"
   },
   {
    "duration": 1592,
    "start_time": "2022-05-27T06:58:15.668Z"
   },
   {
    "duration": 1561,
    "start_time": "2022-05-27T06:58:17.261Z"
   },
   {
    "duration": 9,
    "start_time": "2022-05-27T08:02:29.952Z"
   },
   {
    "duration": 2730,
    "start_time": "2022-05-27T08:02:31.541Z"
   },
   {
    "duration": 2517,
    "start_time": "2022-05-27T08:02:38.013Z"
   },
   {
    "duration": 2158,
    "start_time": "2022-05-27T08:02:40.537Z"
   },
   {
    "duration": 7,
    "start_time": "2022-05-27T08:02:53.716Z"
   },
   {
    "duration": 2085,
    "start_time": "2022-05-27T08:02:54.328Z"
   },
   {
    "duration": 2077,
    "start_time": "2022-05-27T08:02:56.419Z"
   },
   {
    "duration": 2127,
    "start_time": "2022-05-27T08:02:58.499Z"
   },
   {
    "duration": 1205,
    "start_time": "2022-05-27T08:07:29.417Z"
   },
   {
    "duration": 1618,
    "start_time": "2022-05-27T08:07:30.631Z"
   },
   {
    "duration": 171,
    "start_time": "2022-05-27T08:07:32.255Z"
   },
   {
    "duration": 30,
    "start_time": "2022-05-27T08:07:32.430Z"
   },
   {
    "duration": 52,
    "start_time": "2022-05-27T08:07:32.465Z"
   },
   {
    "duration": 139,
    "start_time": "2022-05-27T08:07:32.522Z"
   },
   {
    "duration": 74,
    "start_time": "2022-05-27T08:07:32.664Z"
   },
   {
    "duration": 77,
    "start_time": "2022-05-27T08:07:32.745Z"
   },
   {
    "duration": 1739,
    "start_time": "2022-05-27T08:07:32.828Z"
   },
   {
    "duration": 1386,
    "start_time": "2022-05-27T08:07:34.574Z"
   },
   {
    "duration": 1317,
    "start_time": "2022-05-27T08:07:35.968Z"
   },
   {
    "duration": 570,
    "start_time": "2022-05-27T08:07:37.290Z"
   },
   {
    "duration": 283,
    "start_time": "2022-05-27T08:07:37.863Z"
   },
   {
    "duration": 641,
    "start_time": "2022-05-27T08:07:38.151Z"
   },
   {
    "duration": 272,
    "start_time": "2022-05-27T08:07:38.794Z"
   },
   {
    "duration": 665,
    "start_time": "2022-05-27T08:07:39.068Z"
   },
   {
    "duration": 38,
    "start_time": "2022-05-27T08:07:39.736Z"
   },
   {
    "duration": 25,
    "start_time": "2022-05-27T08:07:39.776Z"
   },
   {
    "duration": 61,
    "start_time": "2022-05-27T08:07:39.803Z"
   },
   {
    "duration": 212,
    "start_time": "2022-05-27T08:07:39.867Z"
   },
   {
    "duration": 77,
    "start_time": "2022-05-27T08:07:40.081Z"
   },
   {
    "duration": 321,
    "start_time": "2022-05-27T08:07:40.168Z"
   },
   {
    "duration": 22,
    "start_time": "2022-05-27T08:07:40.495Z"
   },
   {
    "duration": 26,
    "start_time": "2022-05-27T08:07:40.522Z"
   },
   {
    "duration": 27,
    "start_time": "2022-05-27T08:07:40.556Z"
   },
   {
    "duration": 44,
    "start_time": "2022-05-27T08:07:40.586Z"
   },
   {
    "duration": 13,
    "start_time": "2022-05-27T08:07:40.632Z"
   },
   {
    "duration": 71,
    "start_time": "2022-05-27T08:07:40.650Z"
   },
   {
    "duration": 12,
    "start_time": "2022-05-27T08:07:40.724Z"
   },
   {
    "duration": 167,
    "start_time": "2022-05-27T08:07:40.738Z"
   },
   {
    "duration": 59,
    "start_time": "2022-05-27T08:07:40.908Z"
   },
   {
    "duration": 99,
    "start_time": "2022-05-27T08:07:40.969Z"
   },
   {
    "duration": 48,
    "start_time": "2022-05-27T08:07:41.076Z"
   },
   {
    "duration": 4,
    "start_time": "2022-05-27T08:07:41.126Z"
   },
   {
    "duration": 6,
    "start_time": "2022-05-27T08:07:41.132Z"
   },
   {
    "duration": 8,
    "start_time": "2022-05-27T08:07:41.140Z"
   },
   {
    "duration": 69,
    "start_time": "2022-05-27T08:07:41.150Z"
   },
   {
    "duration": 25,
    "start_time": "2022-05-27T08:07:41.222Z"
   },
   {
    "duration": 24,
    "start_time": "2022-05-27T08:07:41.249Z"
   },
   {
    "duration": 66,
    "start_time": "2022-05-27T08:07:41.275Z"
   },
   {
    "duration": 38,
    "start_time": "2022-05-27T08:07:41.343Z"
   },
   {
    "duration": 2169,
    "start_time": "2022-05-27T08:07:41.382Z"
   },
   {
    "duration": 1857,
    "start_time": "2022-05-27T08:07:43.553Z"
   },
   {
    "duration": 1910,
    "start_time": "2022-05-27T08:07:45.422Z"
   }
  ],
  "kernelspec": {
   "display_name": "Python 3",
   "language": "python",
   "name": "python3"
  },
  "language_info": {
   "codemirror_mode": {
    "name": "ipython",
    "version": 3
   },
   "file_extension": ".py",
   "mimetype": "text/x-python",
   "name": "python",
   "nbconvert_exporter": "python",
   "pygments_lexer": "ipython3",
   "version": "3.8.3"
  },
  "toc": {
   "base_numbering": 1,
   "nav_menu": {
    "height": "622px",
    "width": "336px"
   },
   "number_sections": true,
   "sideBar": true,
   "skip_h1_title": true,
   "title_cell": "Table of Contents",
   "title_sidebar": "Contents",
   "toc_cell": false,
   "toc_position": {
    "height": "calc(100% - 180px)",
    "left": "10px",
    "top": "150px",
    "width": "342.4px"
   },
   "toc_section_display": true,
   "toc_window_display": true
  }
 },
 "nbformat": 4,
 "nbformat_minor": 2
}
