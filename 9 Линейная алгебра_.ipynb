{
 "cells": [
  {
   "cell_type": "markdown",
   "metadata": {
    "toc": true
   },
   "source": [
    "<h1>Содержание<span class=\"tocSkip\"></span></h1>\n",
    "<div class=\"toc\"><ul class=\"toc-item\"><li><span><a href=\"#Загрузка-данных\" data-toc-modified-id=\"Загрузка-данных-1\"><span class=\"toc-item-num\">1&nbsp;&nbsp;</span>Загрузка данных</a></span><ul class=\"toc-item\"><li><span><a href=\"#Предобработка-данных\" data-toc-modified-id=\"Предобработка-данных-1.1\"><span class=\"toc-item-num\">1.1&nbsp;&nbsp;</span>Предобработка данных</a></span></li></ul></li><li><span><a href=\"#Умножение-матриц\" data-toc-modified-id=\"Умножение-матриц-2\"><span class=\"toc-item-num\">2&nbsp;&nbsp;</span>Умножение матриц</a></span></li><li><span><a href=\"#Алгоритм-преобразования\" data-toc-modified-id=\"Алгоритм-преобразования-3\"><span class=\"toc-item-num\">3&nbsp;&nbsp;</span>Алгоритм преобразования</a></span></li><li><span><a href=\"#Проверка-алгоритма\" data-toc-modified-id=\"Проверка-алгоритма-4\"><span class=\"toc-item-num\">4&nbsp;&nbsp;</span>Проверка алгоритма</a></span></li><li><span><a href=\"#Вывод\" data-toc-modified-id=\"Вывод-5\"><span class=\"toc-item-num\">5&nbsp;&nbsp;</span>Вывод</a></span></li><li><span><a href=\"#Чек-лист-проверки\" data-toc-modified-id=\"Чек-лист-проверки-6\"><span class=\"toc-item-num\">6&nbsp;&nbsp;</span>Чек-лист проверки</a></span></li></ul></div>"
   ]
  },
  {
   "cell_type": "markdown",
   "metadata": {},
   "source": [
    "# Защита персональных данных клиентов"
   ]
  },
  {
   "cell_type": "markdown",
   "metadata": {},
   "source": [
    "Требуется защитить данные клиентов страховой компании «Хоть потоп». Необходимо разработать такой метод преобразования данных, чтобы по ним было сложно восстановить персональную информацию и обосновать корректность его работы.\n",
    "\n",
    "Нужно защитить данные, чтобы при преобразовании качество моделей машинного обучения не ухудшилось. Подбирать наилучшую модель не требуется."
   ]
  },
  {
   "cell_type": "markdown",
   "metadata": {},
   "source": [
    "**Ход работы**\n",
    "\n",
    "1. Загрузить и изучить данные.\n",
    "\n",
    "2. Ответить на вопрос и обосновать решение:\n",
    "\n",
    "    Признаки умножают на обратимую матрицу. Изменится ли качество линейной регрессии? (Её можно обучить заново.)\n",
    "    \n",
    "    a. Изменится. Приведите примеры матриц.\n",
    "    \n",
    "    b. Не изменится. Укажите, как связаны параметры линейной регрессии в исходной задаче и в преобразованной.\n",
    "\n",
    "\n",
    "3. Предложить алгоритм преобразования данных для решения задачи. Обосновать, почему качество линейной регрессии не поменяется.\n",
    "\n",
    "4. Запрограммировать этот алгоритм, применив матричные операции. Проверить, что качество линейной регрессии из sklearn не отличается до и после преобразования. Применить метрику R2.\n",
    "\n",
    "Набор данных находится в файле /datasets/insurance.csv. Скачать датасет.\n",
    "\n",
    "Признаки: пол, возраст и зарплата застрахованного, количество членов его семьи.\n",
    "\n",
    "Целевой признак: количество страховых выплат клиенту за последние 5 лет."
   ]
  },
  {
   "cell_type": "markdown",
   "metadata": {},
   "source": [
    "## Загрузка данных"
   ]
  },
  {
   "cell_type": "code",
   "execution_count": 1,
   "metadata": {},
   "outputs": [],
   "source": [
    "# Импорты\n",
    "\n",
    "import pandas as pd\n",
    "import numpy as np\n",
    "\n",
    "from sklearn.linear_model import LinearRegression\n",
    "from sklearn.metrics import r2_score"
   ]
  },
  {
   "cell_type": "code",
   "execution_count": 2,
   "metadata": {},
   "outputs": [],
   "source": [
    "# Функции\n",
    "\n",
    "# Проверка целых чисел\n",
    "def int_please(col):\n",
    "    p = 0\n",
    "    for i in col:\n",
    "        p += i % 1\n",
    "    if p != 0:\n",
    "        print('Не все числа целые')\n",
    "    else: \n",
    "        print('Все числа целые')"
   ]
  },
  {
   "cell_type": "code",
   "execution_count": 35,
   "metadata": {},
   "outputs": [],
   "source": [
    "# Получение данных\n",
    "\n",
    "df = pd.read_csv('/datasets/insurance.csv')"
   ]
  },
  {
   "cell_type": "code",
   "execution_count": 36,
   "metadata": {},
   "outputs": [
    {
     "data": {
      "text/html": [
       "<div>\n",
       "<style scoped>\n",
       "    .dataframe tbody tr th:only-of-type {\n",
       "        vertical-align: middle;\n",
       "    }\n",
       "\n",
       "    .dataframe tbody tr th {\n",
       "        vertical-align: top;\n",
       "    }\n",
       "\n",
       "    .dataframe thead th {\n",
       "        text-align: right;\n",
       "    }\n",
       "</style>\n",
       "<table border=\"1\" class=\"dataframe\">\n",
       "  <thead>\n",
       "    <tr style=\"text-align: right;\">\n",
       "      <th></th>\n",
       "      <th>Пол</th>\n",
       "      <th>Возраст</th>\n",
       "      <th>Зарплата</th>\n",
       "      <th>Члены семьи</th>\n",
       "      <th>Страховые выплаты</th>\n",
       "    </tr>\n",
       "  </thead>\n",
       "  <tbody>\n",
       "    <tr>\n",
       "      <th>0</th>\n",
       "      <td>1</td>\n",
       "      <td>41.0</td>\n",
       "      <td>49600.0</td>\n",
       "      <td>1</td>\n",
       "      <td>0</td>\n",
       "    </tr>\n",
       "    <tr>\n",
       "      <th>1</th>\n",
       "      <td>0</td>\n",
       "      <td>46.0</td>\n",
       "      <td>38000.0</td>\n",
       "      <td>1</td>\n",
       "      <td>1</td>\n",
       "    </tr>\n",
       "    <tr>\n",
       "      <th>2</th>\n",
       "      <td>0</td>\n",
       "      <td>29.0</td>\n",
       "      <td>21000.0</td>\n",
       "      <td>0</td>\n",
       "      <td>0</td>\n",
       "    </tr>\n",
       "    <tr>\n",
       "      <th>3</th>\n",
       "      <td>0</td>\n",
       "      <td>21.0</td>\n",
       "      <td>41700.0</td>\n",
       "      <td>2</td>\n",
       "      <td>0</td>\n",
       "    </tr>\n",
       "    <tr>\n",
       "      <th>4</th>\n",
       "      <td>1</td>\n",
       "      <td>28.0</td>\n",
       "      <td>26100.0</td>\n",
       "      <td>0</td>\n",
       "      <td>0</td>\n",
       "    </tr>\n",
       "    <tr>\n",
       "      <th>...</th>\n",
       "      <td>...</td>\n",
       "      <td>...</td>\n",
       "      <td>...</td>\n",
       "      <td>...</td>\n",
       "      <td>...</td>\n",
       "    </tr>\n",
       "    <tr>\n",
       "      <th>4995</th>\n",
       "      <td>0</td>\n",
       "      <td>28.0</td>\n",
       "      <td>35700.0</td>\n",
       "      <td>2</td>\n",
       "      <td>0</td>\n",
       "    </tr>\n",
       "    <tr>\n",
       "      <th>4996</th>\n",
       "      <td>0</td>\n",
       "      <td>34.0</td>\n",
       "      <td>52400.0</td>\n",
       "      <td>1</td>\n",
       "      <td>0</td>\n",
       "    </tr>\n",
       "    <tr>\n",
       "      <th>4997</th>\n",
       "      <td>0</td>\n",
       "      <td>20.0</td>\n",
       "      <td>33900.0</td>\n",
       "      <td>2</td>\n",
       "      <td>0</td>\n",
       "    </tr>\n",
       "    <tr>\n",
       "      <th>4998</th>\n",
       "      <td>1</td>\n",
       "      <td>22.0</td>\n",
       "      <td>32700.0</td>\n",
       "      <td>3</td>\n",
       "      <td>0</td>\n",
       "    </tr>\n",
       "    <tr>\n",
       "      <th>4999</th>\n",
       "      <td>1</td>\n",
       "      <td>28.0</td>\n",
       "      <td>40600.0</td>\n",
       "      <td>1</td>\n",
       "      <td>0</td>\n",
       "    </tr>\n",
       "  </tbody>\n",
       "</table>\n",
       "<p>5000 rows × 5 columns</p>\n",
       "</div>"
      ],
      "text/plain": [
       "      Пол  Возраст  Зарплата  Члены семьи  Страховые выплаты\n",
       "0       1     41.0   49600.0            1                  0\n",
       "1       0     46.0   38000.0            1                  1\n",
       "2       0     29.0   21000.0            0                  0\n",
       "3       0     21.0   41700.0            2                  0\n",
       "4       1     28.0   26100.0            0                  0\n",
       "...   ...      ...       ...          ...                ...\n",
       "4995    0     28.0   35700.0            2                  0\n",
       "4996    0     34.0   52400.0            1                  0\n",
       "4997    0     20.0   33900.0            2                  0\n",
       "4998    1     22.0   32700.0            3                  0\n",
       "4999    1     28.0   40600.0            1                  0\n",
       "\n",
       "[5000 rows x 5 columns]"
      ]
     },
     "execution_count": 36,
     "metadata": {},
     "output_type": "execute_result"
    }
   ],
   "source": [
    "df"
   ]
  },
  {
   "cell_type": "markdown",
   "metadata": {},
   "source": [
    "### Предобработка данных"
   ]
  },
  {
   "cell_type": "markdown",
   "metadata": {},
   "source": [
    "Рассмотрим общую информацию о датафрейме."
   ]
  },
  {
   "cell_type": "code",
   "execution_count": 5,
   "metadata": {},
   "outputs": [
    {
     "name": "stdout",
     "output_type": "stream",
     "text": [
      "<class 'pandas.core.frame.DataFrame'>\n",
      "RangeIndex: 5000 entries, 0 to 4999\n",
      "Data columns (total 5 columns):\n",
      " #   Column             Non-Null Count  Dtype  \n",
      "---  ------             --------------  -----  \n",
      " 0   Пол                5000 non-null   int64  \n",
      " 1   Возраст            5000 non-null   float64\n",
      " 2   Зарплата           5000 non-null   float64\n",
      " 3   Члены семьи        5000 non-null   int64  \n",
      " 4   Страховые выплаты  5000 non-null   int64  \n",
      "dtypes: float64(2), int64(3)\n",
      "memory usage: 195.4 KB\n"
     ]
    }
   ],
   "source": [
    "df.info()"
   ]
  },
  {
   "cell_type": "markdown",
   "metadata": {},
   "source": [
    "При дальнейшем изучении данных необходимо рассмотреть целесообразность использования `float` в столбцах `age` и `salary`. Если значения - целые числа, переведём в тип `int`."
   ]
  },
  {
   "cell_type": "markdown",
   "metadata": {},
   "source": [
    "Рассмотрим свойства данных:"
   ]
  },
  {
   "cell_type": "code",
   "execution_count": 6,
   "metadata": {
    "scrolled": true
   },
   "outputs": [
    {
     "data": {
      "text/html": [
       "<div>\n",
       "<style scoped>\n",
       "    .dataframe tbody tr th:only-of-type {\n",
       "        vertical-align: middle;\n",
       "    }\n",
       "\n",
       "    .dataframe tbody tr th {\n",
       "        vertical-align: top;\n",
       "    }\n",
       "\n",
       "    .dataframe thead th {\n",
       "        text-align: right;\n",
       "    }\n",
       "</style>\n",
       "<table border=\"1\" class=\"dataframe\">\n",
       "  <thead>\n",
       "    <tr style=\"text-align: right;\">\n",
       "      <th></th>\n",
       "      <th>Пол</th>\n",
       "      <th>Возраст</th>\n",
       "      <th>Зарплата</th>\n",
       "      <th>Члены семьи</th>\n",
       "      <th>Страховые выплаты</th>\n",
       "    </tr>\n",
       "  </thead>\n",
       "  <tbody>\n",
       "    <tr>\n",
       "      <th>count</th>\n",
       "      <td>5000.000000</td>\n",
       "      <td>5000.000000</td>\n",
       "      <td>5000.000000</td>\n",
       "      <td>5000.000000</td>\n",
       "      <td>5000.000000</td>\n",
       "    </tr>\n",
       "    <tr>\n",
       "      <th>mean</th>\n",
       "      <td>0.499000</td>\n",
       "      <td>30.952800</td>\n",
       "      <td>39916.360000</td>\n",
       "      <td>1.194200</td>\n",
       "      <td>0.148000</td>\n",
       "    </tr>\n",
       "    <tr>\n",
       "      <th>std</th>\n",
       "      <td>0.500049</td>\n",
       "      <td>8.440807</td>\n",
       "      <td>9900.083569</td>\n",
       "      <td>1.091387</td>\n",
       "      <td>0.463183</td>\n",
       "    </tr>\n",
       "    <tr>\n",
       "      <th>min</th>\n",
       "      <td>0.000000</td>\n",
       "      <td>18.000000</td>\n",
       "      <td>5300.000000</td>\n",
       "      <td>0.000000</td>\n",
       "      <td>0.000000</td>\n",
       "    </tr>\n",
       "    <tr>\n",
       "      <th>25%</th>\n",
       "      <td>0.000000</td>\n",
       "      <td>24.000000</td>\n",
       "      <td>33300.000000</td>\n",
       "      <td>0.000000</td>\n",
       "      <td>0.000000</td>\n",
       "    </tr>\n",
       "    <tr>\n",
       "      <th>50%</th>\n",
       "      <td>0.000000</td>\n",
       "      <td>30.000000</td>\n",
       "      <td>40200.000000</td>\n",
       "      <td>1.000000</td>\n",
       "      <td>0.000000</td>\n",
       "    </tr>\n",
       "    <tr>\n",
       "      <th>75%</th>\n",
       "      <td>1.000000</td>\n",
       "      <td>37.000000</td>\n",
       "      <td>46600.000000</td>\n",
       "      <td>2.000000</td>\n",
       "      <td>0.000000</td>\n",
       "    </tr>\n",
       "    <tr>\n",
       "      <th>max</th>\n",
       "      <td>1.000000</td>\n",
       "      <td>65.000000</td>\n",
       "      <td>79000.000000</td>\n",
       "      <td>6.000000</td>\n",
       "      <td>5.000000</td>\n",
       "    </tr>\n",
       "  </tbody>\n",
       "</table>\n",
       "</div>"
      ],
      "text/plain": [
       "               Пол      Возраст      Зарплата  Члены семьи  Страховые выплаты\n",
       "count  5000.000000  5000.000000   5000.000000  5000.000000        5000.000000\n",
       "mean      0.499000    30.952800  39916.360000     1.194200           0.148000\n",
       "std       0.500049     8.440807   9900.083569     1.091387           0.463183\n",
       "min       0.000000    18.000000   5300.000000     0.000000           0.000000\n",
       "25%       0.000000    24.000000  33300.000000     0.000000           0.000000\n",
       "50%       0.000000    30.000000  40200.000000     1.000000           0.000000\n",
       "75%       1.000000    37.000000  46600.000000     2.000000           0.000000\n",
       "max       1.000000    65.000000  79000.000000     6.000000           5.000000"
      ]
     },
     "execution_count": 6,
     "metadata": {},
     "output_type": "execute_result"
    }
   ],
   "source": [
    "df.describe()"
   ]
  },
  {
   "cell_type": "markdown",
   "metadata": {},
   "source": [
    "Для дальнейшей работы приведём наименования признаков к общепринятому написанию:"
   ]
  },
  {
   "cell_type": "code",
   "execution_count": 7,
   "metadata": {},
   "outputs": [
    {
     "data": {
      "text/plain": [
       "Index(['sex', 'age', 'salary', 'family', 'payments'], dtype='object')"
      ]
     },
     "execution_count": 7,
     "metadata": {},
     "output_type": "execute_result"
    }
   ],
   "source": [
    "df = df.rename(columns={'Пол': 'sex',\n",
    "                  'Возраст': 'age',\n",
    "                  'Зарплата': 'salary',\n",
    "                  'Члены семьи': 'family',\n",
    "                  'Страховые выплаты': 'payments'})\n",
    "df.columns"
   ]
  },
  {
   "cell_type": "markdown",
   "metadata": {},
   "source": [
    "Изучим распределение полов:"
   ]
  },
  {
   "cell_type": "code",
   "execution_count": 8,
   "metadata": {
    "scrolled": true
   },
   "outputs": [
    {
     "data": {
      "text/plain": [
       "0    2505\n",
       "1    2495\n",
       "Name: sex, dtype: int64"
      ]
     },
     "execution_count": 8,
     "metadata": {},
     "output_type": "execute_result"
    }
   ],
   "source": [
    "df.sex.value_counts()"
   ]
  },
  {
   "cell_type": "markdown",
   "metadata": {},
   "source": [
    "Сильного перевеса в пользу какого-либо значения нет. Изучим возрасты:"
   ]
  },
  {
   "cell_type": "code",
   "execution_count": 9,
   "metadata": {},
   "outputs": [
    {
     "data": {
      "image/png": "[encoded data removed]",
      "text/plain": [
       "<Figure size 432x288 with 1 Axes>"
      ]
     },
     "metadata": {
      "needs_background": "light"
     },
     "output_type": "display_data"
    }
   ],
   "source": [
    "df.age.hist(bins=(df.age.max().astype(int) - df.age.min().astype(int) + 1));"
   ]
  },
  {
   "cell_type": "markdown",
   "metadata": {},
   "source": [
    "Существенных отклонений нет, примем данные за корректные. Узнаем, имеются ли нецелые значения в столбце:"
   ]
  },
  {
   "cell_type": "code",
   "execution_count": 10,
   "metadata": {},
   "outputs": [
    {
     "name": "stdout",
     "output_type": "stream",
     "text": [
      "Все числа целые\n"
     ]
    }
   ],
   "source": [
    "int_please(df.age)"
   ]
  },
  {
   "cell_type": "markdown",
   "metadata": {},
   "source": [
    "Аналогично проверим зарплаты:"
   ]
  },
  {
   "cell_type": "code",
   "execution_count": 11,
   "metadata": {},
   "outputs": [
    {
     "data": {
      "image/png": "[encoded data removed]",
      "text/plain": [
       "<Figure size 432x288 with 1 Axes>"
      ]
     },
     "metadata": {
      "needs_background": "light"
     },
     "output_type": "display_data"
    }
   ],
   "source": [
    "df.salary.hist(bins=20);"
   ]
  },
  {
   "cell_type": "markdown",
   "metadata": {},
   "source": [
    "Данные распределены нормально, что не совсем корректно для зарплат. На графике имеются зарплаты ниже МРОТ, это возможно для студентов и пенсионеров, проверим предположение:"
   ]
  },
  {
   "cell_type": "code",
   "execution_count": 12,
   "metadata": {},
   "outputs": [
    {
     "data": {
      "image/png": "[encoded data removed]",
      "text/plain": [
       "<Figure size 432x288 with 1 Axes>"
      ]
     },
     "metadata": {
      "needs_background": "light"
     },
     "output_type": "display_data"
    }
   ],
   "source": [
    "df.query('salary < 13000')['age'].hist();"
   ]
  },
  {
   "cell_type": "markdown",
   "metadata": {},
   "source": [
    "Предположение не подтвердилось - сверхнизкую зарплату имеют люди всех возрастов.\n",
    "Вся полученная информация указывает на то, что данные по зарплатам являются синтетическими, сгенерированными случайно. Оставим это допущение, как для учебной исследовательской работы.\n",
    "\n",
    "Проверим, целые ли значения:"
   ]
  },
  {
   "cell_type": "code",
   "execution_count": 13,
   "metadata": {},
   "outputs": [
    {
     "name": "stdout",
     "output_type": "stream",
     "text": [
      "Не все числа целые\n"
     ]
    }
   ],
   "source": [
    "int_please(df.salary)"
   ]
  },
  {
   "cell_type": "code",
   "execution_count": 14,
   "metadata": {},
   "outputs": [
    {
     "name": "stdout",
     "output_type": "stream",
     "text": [
      "32700.000000000004\n",
      "64900.00000000001\n",
      "32700.000000000004\n",
      "32700.000000000004\n",
      "32700.000000000004\n",
      "65099.99999999999\n",
      "32200.000000000004\n",
      "32200.000000000004\n",
      "32200.000000000004\n",
      "64099.99999999999\n",
      "32700.000000000004\n",
      "32200.000000000004\n",
      "32700.000000000004\n",
      "32700.000000000004\n",
      "32200.000000000004\n",
      "32700.000000000004\n",
      "32200.000000000004\n",
      "32200.000000000004\n",
      "32200.000000000004\n",
      "32700.000000000004\n",
      "32700.000000000004\n",
      "32200.000000000004\n",
      "32700.000000000004\n",
      "32700.000000000004\n",
      "32200.000000000004\n",
      "64400.00000000001\n",
      "32200.000000000004\n",
      "32200.000000000004\n",
      "32700.000000000004\n",
      "65099.99999999999\n",
      "32700.000000000004\n",
      "32700.000000000004\n",
      "32700.000000000004\n",
      "32700.000000000004\n",
      "32200.000000000004\n",
      "32200.000000000004\n",
      "32700.000000000004\n",
      "32200.000000000004\n",
      "32700.000000000004\n",
      "32700.000000000004\n"
     ]
    }
   ],
   "source": [
    "# При поверхностном изучении данных мы наблюдали округлённые до сотен значения. Проверим, действительно ли имеются нецелые:\n",
    "\n",
    "for i in df.salary:\n",
    "    if i % 1 != 0:\n",
    "        print(i)  "
   ]
  },
  {
   "cell_type": "markdown",
   "metadata": {},
   "source": [
    "Округляем и проверяем снова:"
   ]
  },
  {
   "cell_type": "code",
   "execution_count": 15,
   "metadata": {},
   "outputs": [
    {
     "name": "stdout",
     "output_type": "stream",
     "text": [
      "Все числа целые\n"
     ]
    }
   ],
   "source": [
    "df.salary = df.salary.round()\n",
    "int_please(df.salary)"
   ]
  },
  {
   "cell_type": "markdown",
   "metadata": {},
   "source": [
    "Проверим распределение количества членов семьи."
   ]
  },
  {
   "cell_type": "code",
   "execution_count": 16,
   "metadata": {},
   "outputs": [
    {
     "data": {
      "image/png": "[encoded data removed]",
      "text/plain": [
       "<Figure size 432x288 with 1 Axes>"
      ]
     },
     "metadata": {
      "needs_background": "light"
     },
     "output_type": "display_data"
    }
   ],
   "source": [
    "df.family.hist(bins=7);"
   ]
  },
  {
   "cell_type": "markdown",
   "metadata": {},
   "source": [
    "Проверим количество страховых выплат клиенту."
   ]
  },
  {
   "cell_type": "code",
   "execution_count": 17,
   "metadata": {},
   "outputs": [
    {
     "data": {
      "image/png": "[encoded data removed]",
      "text/plain": [
       "<Figure size 432x288 with 1 Axes>"
      ]
     },
     "metadata": {
      "needs_background": "light"
     },
     "output_type": "display_data"
    }
   ],
   "source": [
    "df.payments.hist(bins=6);"
   ]
  },
  {
   "cell_type": "markdown",
   "metadata": {},
   "source": [
    "Количество нулевых значений сильно превосходит остальные. Уточним данные:"
   ]
  },
  {
   "cell_type": "code",
   "execution_count": 18,
   "metadata": {},
   "outputs": [
    {
     "data": {
      "text/plain": [
       "0    4436\n",
       "1     423\n",
       "2     115\n",
       "3      18\n",
       "4       7\n",
       "5       1\n",
       "Name: payments, dtype: int64"
      ]
     },
     "execution_count": 18,
     "metadata": {},
     "output_type": "execute_result"
    }
   ],
   "source": [
    "df.payments.value_counts()"
   ]
  },
  {
   "cell_type": "markdown",
   "metadata": {},
   "source": [
    "Преобразуем все значения в целые."
   ]
  },
  {
   "cell_type": "code",
   "execution_count": 19,
   "metadata": {},
   "outputs": [],
   "source": [
    "df.age = df.age.astype(int)\n",
    "df.salary = df.salary.astype(int)"
   ]
  },
  {
   "cell_type": "code",
   "execution_count": 20,
   "metadata": {},
   "outputs": [
    {
     "name": "stdout",
     "output_type": "stream",
     "text": [
      "<class 'pandas.core.frame.DataFrame'>\n",
      "RangeIndex: 5000 entries, 0 to 4999\n",
      "Data columns (total 5 columns):\n",
      " #   Column    Non-Null Count  Dtype\n",
      "---  ------    --------------  -----\n",
      " 0   sex       5000 non-null   int64\n",
      " 1   age       5000 non-null   int64\n",
      " 2   salary    5000 non-null   int64\n",
      " 3   family    5000 non-null   int64\n",
      " 4   payments  5000 non-null   int64\n",
      "dtypes: int64(5)\n",
      "memory usage: 195.4 KB\n"
     ]
    }
   ],
   "source": [
    "df.info()"
   ]
  },
  {
   "cell_type": "markdown",
   "metadata": {},
   "source": [
    "## Умножение матриц"
   ]
  },
  {
   "cell_type": "markdown",
   "metadata": {},
   "source": [
    "Обозначения:\n",
    "\n",
    "- $X$ — матрица признаков (нулевой столбец состоит из единиц)\n",
    "\n",
    "- $y$ — вектор целевого признака\n",
    "\n",
    "- $P$ — матрица, на которую умножаются признаки\n",
    "\n",
    "- $w$ — вектор весов линейной регрессии (нулевой элемент равен сдвигу)"
   ]
  },
  {
   "cell_type": "markdown",
   "metadata": {},
   "source": [
    "Предсказания:\n",
    "\n",
    "$$\n",
    "a = Xw\n",
    "$$\n",
    "\n",
    "Задача обучения:\n",
    "\n",
    "$$\n",
    "w = \\arg\\min_w MSE(Xw, y)\n",
    "$$\n",
    "\n",
    "Формула обучения:\n",
    "\n",
    "$$\n",
    "w = (X^T X)^{-1} X^T y\n",
    "$$"
   ]
  },
  {
   "cell_type": "markdown",
   "metadata": {},
   "source": [
    "Проверим изменение или их отсутствии при умножении матрицы на обратную.\n",
    "Умножим матрицу на обратную в формуле предсказаний:"
   ]
  },
  {
   "cell_type": "markdown",
   "metadata": {},
   "source": [
    "$$\n",
    "a_{k} = XPw_{k}\n",
    "$$"
   ]
  },
  {
   "cell_type": "markdown",
   "metadata": {},
   "source": [
    "Необходимо доказать, что $a = a_{k}$."
   ]
  },
  {
   "cell_type": "markdown",
   "metadata": {},
   "source": [
    "Формула обучения:"
   ]
  },
  {
   "cell_type": "markdown",
   "metadata": {},
   "source": [
    "$$\n",
    "w_{k} = \\big((XP)^T*(XP)\\big)^{-1}*(XP)^T*y\n",
    "$$"
   ]
  },
  {
   "cell_type": "markdown",
   "metadata": {},
   "source": [
    "Раскроем скобки:"
   ]
  },
  {
   "cell_type": "markdown",
   "metadata": {},
   "source": [
    "$$\n",
    "w_{k} = (P^TX^T*XP)^{-1}*P^TX^T*y\n",
    "$$"
   ]
  },
  {
   "cell_type": "markdown",
   "metadata": {},
   "source": [
    "Вынесем $P$ за скобки, оставив начальную формулу обучения:"
   ]
  },
  {
   "cell_type": "markdown",
   "metadata": {},
   "source": [
    "$$\n",
    "w_{k} = (P^{T})^{-1}P^{-1}(X^T*X)^{-1}*P^TX^T*y\n",
    "$$"
   ]
  },
  {
   "cell_type": "markdown",
   "metadata": {},
   "source": [
    "Известно свойство матрицы, при которой умножение её на обратную даёт единичную матрицу, в нашем случае $(P^{T})^{-1}P^T=E$. Избавимся от единичной матрицы в выражении:"
   ]
  },
  {
   "cell_type": "markdown",
   "metadata": {},
   "source": [
    "$$\n",
    "w_{k} = P^{-1}*(X^TX)^{-1}X^Ty\n",
    "$$"
   ]
  },
  {
   "cell_type": "markdown",
   "metadata": {},
   "source": [
    "Заменим вторую часть выражения на $w$:"
   ]
  },
  {
   "cell_type": "markdown",
   "metadata": {},
   "source": [
    "$$\n",
    "w_{k} = P^{-1}*w\n",
    "$$"
   ]
  },
  {
   "cell_type": "markdown",
   "metadata": {},
   "source": [
    "Так как необходимо доказать равенство $a = a_{k}$, подставим полученное выражение в формулу $a_{k}$:"
   ]
  },
  {
   "cell_type": "markdown",
   "metadata": {},
   "source": [
    "$$\n",
    "a_{k} = XPP^{-1}*w\n",
    "$$"
   ]
  },
  {
   "cell_type": "markdown",
   "metadata": {},
   "source": [
    "Произведение $P$ на $P^{-1}$ приравняем к единичной матрице, таким образом:"
   ]
  },
  {
   "cell_type": "markdown",
   "metadata": {},
   "source": [
    "$$\n",
    "a_{k} = X*w = a\n",
    "$$"
   ]
  },
  {
   "cell_type": "markdown",
   "metadata": {},
   "source": [
    "Равенство доказано."
   ]
  },
  {
   "cell_type": "markdown",
   "metadata": {},
   "source": [
    "## Алгоритм преобразования"
   ]
  },
  {
   "cell_type": "markdown",
   "metadata": {},
   "source": [
    "**Алгоритм**\n",
    "\n",
    "1. Сгенерируем случайную матрицу $P$,\n",
    "2. Докажем, что сгенерированная матрица обратимая,\n",
    "3. Преобразуем признаки с использованием обратимой матрицы ($A = XP$).\n",
    "\n",
    "Для соблюдения стиля написания кода используем следующие имена переменных:\n",
    "$$\n",
    "P - key\n",
    "$$\n",
    "$$\n",
    "A - features\\_encrypted\n",
    "$$\n",
    "$$\n",
    "X - features\n",
    "$$"
   ]
  },
  {
   "cell_type": "markdown",
   "metadata": {},
   "source": [
    "**Обоснование**\n",
    "\n",
    "Ранее мы доказали, что умножение матрицы признаков на обратимую матрицу не изменяет предсказания. Для корректной работы необходимо сгенерировать квадратную матрицу с длиной стороны, равной количеству признаков."
   ]
  },
  {
   "cell_type": "markdown",
   "metadata": {},
   "source": [
    "## Проверка алгоритма"
   ]
  },
  {
   "cell_type": "markdown",
   "metadata": {},
   "source": [
    "Создадим случайную квадратную матрицу."
   ]
  },
  {
   "cell_type": "code",
   "execution_count": 21,
   "metadata": {},
   "outputs": [],
   "source": [
    "np.random.seed(12345)\n",
    "key = np.random.normal(size=(4,4))"
   ]
  },
  {
   "cell_type": "code",
   "execution_count": 22,
   "metadata": {},
   "outputs": [
    {
     "data": {
      "text/plain": [
       "array([[-0.20470766,  0.47894334, -0.51943872, -0.5557303 ],\n",
       "       [ 1.96578057,  1.39340583,  0.09290788,  0.28174615],\n",
       "       [ 0.76902257,  1.24643474,  1.00718936, -1.29622111],\n",
       "       [ 0.27499163,  0.22891288,  1.35291684,  0.88642934]])"
      ]
     },
     "execution_count": 22,
     "metadata": {},
     "output_type": "execute_result"
    }
   ],
   "source": [
    "key"
   ]
  },
  {
   "cell_type": "markdown",
   "metadata": {},
   "source": [
    "Найдём обратную матрицу:"
   ]
  },
  {
   "cell_type": "code",
   "execution_count": 23,
   "metadata": {},
   "outputs": [],
   "source": [
    "key1 = np.linalg.inv(key)"
   ]
  },
  {
   "cell_type": "code",
   "execution_count": 24,
   "metadata": {},
   "outputs": [
    {
     "data": {
      "text/plain": [
       "array([[-1.31136747,  0.3921804 ,  0.18868055, -0.67088287],\n",
       "       [ 1.75872714,  0.14106138, -0.17773045,  0.79787127],\n",
       "       [-0.41702659, -0.22854768,  0.3550602 ,  0.33039819],\n",
       "       [ 0.58912996,  0.19073027, -0.5545481 ,  0.6259302 ]])"
      ]
     },
     "execution_count": 24,
     "metadata": {},
     "output_type": "execute_result"
    }
   ],
   "source": [
    "key1"
   ]
  },
  {
   "cell_type": "markdown",
   "metadata": {},
   "source": [
    "Обратная матрицы для созданной существует, что означает, что она обратимая."
   ]
  },
  {
   "cell_type": "code",
   "execution_count": 25,
   "metadata": {},
   "outputs": [
    {
     "data": {
      "text/plain": [
       "array([[ 1.00000000e+00, -4.80768575e-17,  8.94509723e-17,\n",
       "         5.93284188e-18],\n",
       "       [ 1.01127894e-16,  1.00000000e+00,  3.12121139e-17,\n",
       "        -2.70547548e-17],\n",
       "       [-1.50460664e-18, -1.90299568e-17,  1.00000000e+00,\n",
       "        -4.54527472e-17],\n",
       "       [-3.50771589e-17, -6.45070714e-17,  4.51272929e-17,\n",
       "         1.00000000e+00]])"
      ]
     },
     "execution_count": 25,
     "metadata": {},
     "output_type": "execute_result"
    }
   ],
   "source": [
    "#Убедимся наглядно:\n",
    "key @ key1"
   ]
  },
  {
   "cell_type": "markdown",
   "metadata": {},
   "source": [
    "Единичная матрица имеет единицы на главной диагонали и остальные элементы - нули. Учитывая погрешности в округлении и при умножении, в полученной матрице элементами являются близкие к нулю числа. Считаем матрицу единичной. Предварительное округление значений в матрице не даёт чистой единичной матрице при проверке."
   ]
  },
  {
   "cell_type": "markdown",
   "metadata": {},
   "source": [
    "Обучим модель линейной регрессии.\n",
    "Так как задача предсказания не стоит, используем полный датасет как обучающую выборку."
   ]
  },
  {
   "cell_type": "code",
   "execution_count": 26,
   "metadata": {},
   "outputs": [],
   "source": [
    "features = df.drop('payments', 1)\n",
    "target = df.payments"
   ]
  },
  {
   "cell_type": "code",
   "execution_count": 27,
   "metadata": {
    "scrolled": true
   },
   "outputs": [
    {
     "name": "stdout",
     "output_type": "stream",
     "text": [
      "Целевая метрика R2: 0.4249455028666801\n"
     ]
    }
   ],
   "source": [
    "model = LinearRegression()\n",
    "model.fit(features, target)\n",
    "predictions = model.predict(features)\n",
    "score = r2_score(target, predictions)\n",
    "print('Целевая метрика R2:', score)"
   ]
  },
  {
   "cell_type": "markdown",
   "metadata": {},
   "source": [
    "Создадим модель с использованием зашифрованных данных:"
   ]
  },
  {
   "cell_type": "code",
   "execution_count": 28,
   "metadata": {},
   "outputs": [],
   "source": [
    "features_encrypted = features @ key"
   ]
  },
  {
   "cell_type": "code",
   "execution_count": 29,
   "metadata": {},
   "outputs": [
    {
     "name": "stdout",
     "output_type": "stream",
     "text": [
      "Метрика R2 зашифрованных данных: 0.4249455028666812\n"
     ]
    }
   ],
   "source": [
    "model_encrypted = LinearRegression()\n",
    "model_encrypted.fit(features_encrypted, target)\n",
    "predictions_encrypted = model_encrypted.predict(features_encrypted)\n",
    "score_encrypted = r2_score(target, predictions_encrypted)\n",
    "print('Метрика R2 зашифрованных данных:', score_encrypted)"
   ]
  },
  {
   "cell_type": "markdown",
   "metadata": {},
   "source": [
    "Сравним качество моделей:"
   ]
  },
  {
   "cell_type": "code",
   "execution_count": 30,
   "metadata": {},
   "outputs": [
    {
     "data": {
      "text/plain": [
       "-1.1102230246251565e-15"
      ]
     },
     "execution_count": 30,
     "metadata": {},
     "output_type": "execute_result"
    }
   ],
   "source": [
    "score - score_encrypted"
   ]
  },
  {
   "cell_type": "markdown",
   "metadata": {},
   "source": [
    "Зашифрованные данные:"
   ]
  },
  {
   "cell_type": "code",
   "execution_count": 31,
   "metadata": {},
   "outputs": [
    {
     "data": {
      "text/html": [
       "<div>\n",
       "<style scoped>\n",
       "    .dataframe tbody tr th:only-of-type {\n",
       "        vertical-align: middle;\n",
       "    }\n",
       "\n",
       "    .dataframe tbody tr th {\n",
       "        vertical-align: top;\n",
       "    }\n",
       "\n",
       "    .dataframe thead th {\n",
       "        text-align: right;\n",
       "    }\n",
       "</style>\n",
       "<table border=\"1\" class=\"dataframe\">\n",
       "  <thead>\n",
       "    <tr style=\"text-align: right;\">\n",
       "      <th></th>\n",
       "      <th>0</th>\n",
       "      <th>1</th>\n",
       "      <th>2</th>\n",
       "      <th>3</th>\n",
       "    </tr>\n",
       "  </thead>\n",
       "  <tbody>\n",
       "    <tr>\n",
       "      <th>0</th>\n",
       "      <td>38224.186641</td>\n",
       "      <td>61881.000420</td>\n",
       "      <td>49961.234837</td>\n",
       "      <td>-64280.684721</td>\n",
       "    </tr>\n",
       "    <tr>\n",
       "      <th>1</th>\n",
       "      <td>29313.558467</td>\n",
       "      <td>47428.845564</td>\n",
       "      <td>38278.822267</td>\n",
       "      <td>-49242.555394</td>\n",
       "    </tr>\n",
       "    <tr>\n",
       "      <th>2</th>\n",
       "      <td>16206.481556</td>\n",
       "      <td>26215.538233</td>\n",
       "      <td>21153.670838</td>\n",
       "      <td>-27212.472653</td>\n",
       "    </tr>\n",
       "    <tr>\n",
       "      <th>3</th>\n",
       "      <td>32110.072445</td>\n",
       "      <td>52006.047856</td>\n",
       "      <td>42004.453110</td>\n",
       "      <td>-54044.730722</td>\n",
       "    </tr>\n",
       "    <tr>\n",
       "      <th>4</th>\n",
       "      <td>20126.326163</td>\n",
       "      <td>32571.440926</td>\n",
       "      <td>26289.724215</td>\n",
       "      <td>-33824.037786</td>\n",
       "    </tr>\n",
       "  </tbody>\n",
       "</table>\n",
       "</div>"
      ],
      "text/plain": [
       "              0             1             2             3\n",
       "0  38224.186641  61881.000420  49961.234837 -64280.684721\n",
       "1  29313.558467  47428.845564  38278.822267 -49242.555394\n",
       "2  16206.481556  26215.538233  21153.670838 -27212.472653\n",
       "3  32110.072445  52006.047856  42004.453110 -54044.730722\n",
       "4  20126.326163  32571.440926  26289.724215 -33824.037786"
      ]
     },
     "execution_count": 31,
     "metadata": {},
     "output_type": "execute_result"
    }
   ],
   "source": [
    "features_encrypted.head(5)"
   ]
  },
  {
   "cell_type": "markdown",
   "metadata": {},
   "source": [
    "## Вывод"
   ]
  },
  {
   "cell_type": "markdown",
   "metadata": {},
   "source": [
    "В ходе работы расчётно доказали, что умножение матрицы на обратимую не изменяет качество линейной регрессии.\n",
    "\n",
    "Расчётное доказательство проверили на примере данных клиентов, метрика R2 не отличается с точностью 14 знаков после запятой, что является удовлетворительным результатом."
   ]
  },
  {
   "cell_type": "markdown",
   "metadata": {},
   "source": [
    "## Чек-лист проверки"
   ]
  },
  {
   "cell_type": "markdown",
   "metadata": {},
   "source": [
    "- [x]  Jupyter Notebook открыт\n",
    "- [x]  Весь код выполняется без ошибок\n",
    "- [x]  Ячейки с кодом расположены в порядке исполнения\n",
    "- [x]  Выполнен шаг 1: данные загружены\n",
    "- [x]  Выполнен шаг 2: получен ответ на вопрос об умножении матриц\n",
    "    - [x]  Указан правильный вариант ответа\n",
    "    - [x]  Вариант обоснован\n",
    "- [x]  Выполнен шаг 3: предложен алгоритм преобразования\n",
    "    - [x]  Алгоритм описан\n",
    "    - [x]  Алгоритм обоснован\n",
    "- [x]  Выполнен шаг 4: алгоритм проверен\n",
    "    - [x]  Алгоритм реализован\n",
    "    - [x]  Проведено сравнение качества моделей до и после преобразования"
   ]
  }
 ],
 "metadata": {
  "ExecuteTimeLog": [
   {
    "duration": 469,
    "start_time": "2022-07-13T11:34:54.971Z"
   },
   {
    "duration": 64,
    "start_time": "2022-07-13T11:36:36.852Z"
   },
   {
    "duration": 65,
    "start_time": "2022-07-13T11:36:45.164Z"
   },
   {
    "duration": 19,
    "start_time": "2022-07-13T11:36:50.763Z"
   },
   {
    "duration": 4,
    "start_time": "2022-07-13T11:37:17.326Z"
   },
   {
    "duration": 19,
    "start_time": "2022-07-13T11:37:32.977Z"
   },
   {
    "duration": 11,
    "start_time": "2022-07-13T11:37:44.563Z"
   },
   {
    "duration": 15,
    "start_time": "2022-07-13T11:37:52.317Z"
   },
   {
    "duration": 9,
    "start_time": "2022-07-13T11:39:16.765Z"
   },
   {
    "duration": 24,
    "start_time": "2022-07-13T11:40:03.165Z"
   },
   {
    "duration": 871,
    "start_time": "2022-07-13T11:40:57.121Z"
   },
   {
    "duration": 304,
    "start_time": "2022-07-13T11:43:53.002Z"
   },
   {
    "duration": 19,
    "start_time": "2022-07-13T11:47:41.866Z"
   },
   {
    "duration": 6,
    "start_time": "2022-07-13T11:47:55.265Z"
   },
   {
    "duration": 6,
    "start_time": "2022-07-13T11:48:17.788Z"
   },
   {
    "duration": 9,
    "start_time": "2022-07-13T11:48:50.574Z"
   },
   {
    "duration": 15,
    "start_time": "2022-07-13T11:48:58.771Z"
   },
   {
    "duration": 87,
    "start_time": "2022-07-13T11:49:41.195Z"
   },
   {
    "duration": 11,
    "start_time": "2022-07-13T11:49:45.662Z"
   },
   {
    "duration": 28,
    "start_time": "2022-07-13T11:51:58.207Z"
   },
   {
    "duration": 7,
    "start_time": "2022-07-13T11:52:02.049Z"
   },
   {
    "duration": 6,
    "start_time": "2022-07-13T11:52:03.062Z"
   },
   {
    "duration": 5,
    "start_time": "2022-07-13T11:52:31.086Z"
   },
   {
    "duration": 57,
    "start_time": "2022-07-13T11:52:48.582Z"
   },
   {
    "duration": 5,
    "start_time": "2022-07-13T11:52:54.564Z"
   },
   {
    "duration": 5,
    "start_time": "2022-07-13T11:53:25.189Z"
   },
   {
    "duration": 126,
    "start_time": "2022-07-13T11:53:29.464Z"
   },
   {
    "duration": 194,
    "start_time": "2022-07-13T11:53:45.770Z"
   },
   {
    "duration": 217,
    "start_time": "2022-07-13T11:53:49.721Z"
   },
   {
    "duration": 186,
    "start_time": "2022-07-13T11:54:33.072Z"
   },
   {
    "duration": 154,
    "start_time": "2022-07-13T11:54:58.052Z"
   },
   {
    "duration": 4,
    "start_time": "2022-07-13T12:03:03.765Z"
   },
   {
    "duration": 608,
    "start_time": "2022-07-13T12:04:49.418Z"
   },
   {
    "duration": 6,
    "start_time": "2022-07-13T12:05:01.664Z"
   },
   {
    "duration": 3,
    "start_time": "2022-07-13T12:06:36.852Z"
   },
   {
    "duration": 4,
    "start_time": "2022-07-13T12:06:58.983Z"
   },
   {
    "duration": 3,
    "start_time": "2022-07-13T12:07:12.694Z"
   },
   {
    "duration": 5,
    "start_time": "2022-07-13T12:07:13.093Z"
   },
   {
    "duration": 6,
    "start_time": "2022-07-13T12:07:31.213Z"
   },
   {
    "duration": 7,
    "start_time": "2022-07-13T12:07:52.557Z"
   },
   {
    "duration": 6,
    "start_time": "2022-07-13T12:08:01.373Z"
   },
   {
    "duration": 9,
    "start_time": "2022-07-13T12:08:11.579Z"
   },
   {
    "duration": 5,
    "start_time": "2022-07-13T12:08:17.620Z"
   },
   {
    "duration": 6,
    "start_time": "2022-07-13T12:08:29.383Z"
   },
   {
    "duration": 4,
    "start_time": "2022-07-13T12:08:56.524Z"
   },
   {
    "duration": 3,
    "start_time": "2022-07-13T12:09:05.984Z"
   },
   {
    "duration": 3,
    "start_time": "2022-07-13T12:09:12.549Z"
   },
   {
    "duration": 5,
    "start_time": "2022-07-13T12:09:12.978Z"
   },
   {
    "duration": 3,
    "start_time": "2022-07-13T12:09:13.553Z"
   },
   {
    "duration": 4,
    "start_time": "2022-07-13T12:09:21.361Z"
   },
   {
    "duration": 3,
    "start_time": "2022-07-13T12:09:22.092Z"
   },
   {
    "duration": 3,
    "start_time": "2022-07-13T12:09:23.761Z"
   },
   {
    "duration": 4,
    "start_time": "2022-07-13T12:09:24.057Z"
   },
   {
    "duration": 4,
    "start_time": "2022-07-13T12:09:24.248Z"
   },
   {
    "duration": 10,
    "start_time": "2022-07-13T12:09:30.909Z"
   },
   {
    "duration": 4,
    "start_time": "2022-07-13T12:09:31.649Z"
   },
   {
    "duration": 3,
    "start_time": "2022-07-13T12:09:33.072Z"
   },
   {
    "duration": 4,
    "start_time": "2022-07-13T12:09:33.357Z"
   },
   {
    "duration": 3,
    "start_time": "2022-07-13T12:09:33.957Z"
   },
   {
    "duration": 4,
    "start_time": "2022-07-13T12:09:43.749Z"
   },
   {
    "duration": 3,
    "start_time": "2022-07-13T12:10:04.776Z"
   },
   {
    "duration": 4,
    "start_time": "2022-07-13T12:10:05.349Z"
   },
   {
    "duration": 5,
    "start_time": "2022-07-13T12:10:05.903Z"
   },
   {
    "duration": 3,
    "start_time": "2022-07-13T12:10:29.967Z"
   },
   {
    "duration": 5,
    "start_time": "2022-07-13T12:10:30.325Z"
   },
   {
    "duration": 6,
    "start_time": "2022-07-13T12:10:30.811Z"
   },
   {
    "duration": 4,
    "start_time": "2022-07-13T12:10:41.823Z"
   },
   {
    "duration": 5,
    "start_time": "2022-07-13T12:10:42.473Z"
   },
   {
    "duration": 5,
    "start_time": "2022-07-13T12:10:50.069Z"
   },
   {
    "duration": 9,
    "start_time": "2022-07-13T12:12:02.895Z"
   },
   {
    "duration": 4,
    "start_time": "2022-07-13T12:12:20.125Z"
   },
   {
    "duration": 8,
    "start_time": "2022-07-13T12:12:25.688Z"
   },
   {
    "duration": 94,
    "start_time": "2022-07-13T12:13:28.260Z"
   },
   {
    "duration": 10,
    "start_time": "2022-07-13T12:13:33.585Z"
   },
   {
    "duration": 4,
    "start_time": "2022-07-13T12:14:32.693Z"
   },
   {
    "duration": 408,
    "start_time": "2022-07-13T12:14:47.606Z"
   },
   {
    "duration": 2,
    "start_time": "2022-07-13T12:14:48.017Z"
   },
   {
    "duration": 22,
    "start_time": "2022-07-13T12:14:48.021Z"
   },
   {
    "duration": 18,
    "start_time": "2022-07-13T12:14:48.045Z"
   },
   {
    "duration": 15,
    "start_time": "2022-07-13T12:14:48.064Z"
   },
   {
    "duration": 21,
    "start_time": "2022-07-13T12:14:48.080Z"
   },
   {
    "duration": 10,
    "start_time": "2022-07-13T12:14:48.102Z"
   },
   {
    "duration": 9,
    "start_time": "2022-07-13T12:14:48.114Z"
   },
   {
    "duration": 394,
    "start_time": "2022-07-13T12:14:48.125Z"
   },
   {
    "duration": 4,
    "start_time": "2022-07-13T12:14:48.521Z"
   },
   {
    "duration": 23,
    "start_time": "2022-07-13T12:14:48.527Z"
   },
   {
    "duration": 138,
    "start_time": "2022-07-13T12:16:12.295Z"
   },
   {
    "duration": 165,
    "start_time": "2022-07-13T12:16:19.890Z"
   },
   {
    "duration": 137,
    "start_time": "2022-07-13T12:16:28.367Z"
   },
   {
    "duration": 9,
    "start_time": "2022-07-13T12:19:18.970Z"
   },
   {
    "duration": 179,
    "start_time": "2022-07-13T12:19:26.666Z"
   },
   {
    "duration": 127,
    "start_time": "2022-07-13T12:19:32.466Z"
   },
   {
    "duration": 8,
    "start_time": "2022-07-13T12:24:04.368Z"
   },
   {
    "duration": 5,
    "start_time": "2022-07-13T12:24:26.581Z"
   },
   {
    "duration": 6,
    "start_time": "2022-07-13T12:25:25.355Z"
   },
   {
    "duration": 9,
    "start_time": "2022-07-13T12:25:40.277Z"
   },
   {
    "duration": 4,
    "start_time": "2022-07-13T12:28:19.755Z"
   },
   {
    "duration": 4,
    "start_time": "2022-07-13T12:28:37.672Z"
   },
   {
    "duration": 72,
    "start_time": "2022-07-13T12:29:17.102Z"
   },
   {
    "duration": 385,
    "start_time": "2022-07-13T12:29:34.365Z"
   },
   {
    "duration": 3,
    "start_time": "2022-07-13T12:29:34.752Z"
   },
   {
    "duration": 25,
    "start_time": "2022-07-13T12:29:34.757Z"
   },
   {
    "duration": 25,
    "start_time": "2022-07-13T12:29:34.784Z"
   },
   {
    "duration": 20,
    "start_time": "2022-07-13T12:29:34.810Z"
   },
   {
    "duration": 31,
    "start_time": "2022-07-13T12:29:34.831Z"
   },
   {
    "duration": 7,
    "start_time": "2022-07-13T12:29:34.864Z"
   },
   {
    "duration": 29,
    "start_time": "2022-07-13T12:29:34.872Z"
   },
   {
    "duration": 437,
    "start_time": "2022-07-13T12:29:34.903Z"
   },
   {
    "duration": 3,
    "start_time": "2022-07-13T12:29:35.343Z"
   },
   {
    "duration": 178,
    "start_time": "2022-07-13T12:29:35.348Z"
   },
   {
    "duration": 142,
    "start_time": "2022-07-13T12:29:35.528Z"
   },
   {
    "duration": 4,
    "start_time": "2022-07-13T12:29:35.672Z"
   },
   {
    "duration": 32,
    "start_time": "2022-07-13T12:29:35.678Z"
   },
   {
    "duration": 13,
    "start_time": "2022-07-13T12:29:35.712Z"
   },
   {
    "duration": 378,
    "start_time": "2022-08-05T07:19:22.501Z"
   },
   {
    "duration": 8,
    "start_time": "2022-08-05T07:19:22.884Z"
   },
   {
    "duration": 124,
    "start_time": "2022-08-05T07:19:22.893Z"
   },
   {
    "duration": 35,
    "start_time": "2022-08-05T07:19:23.021Z"
   },
   {
    "duration": 20,
    "start_time": "2022-08-05T07:19:23.061Z"
   },
   {
    "duration": 34,
    "start_time": "2022-08-05T07:19:23.084Z"
   },
   {
    "duration": 6,
    "start_time": "2022-08-05T07:19:23.120Z"
   },
   {
    "duration": 8,
    "start_time": "2022-08-05T07:19:23.128Z"
   },
   {
    "duration": 589,
    "start_time": "2022-08-05T07:19:23.138Z"
   },
   {
    "duration": 5,
    "start_time": "2022-08-05T07:19:23.730Z"
   },
   {
    "duration": 170,
    "start_time": "2022-08-05T07:19:23.737Z"
   },
   {
    "duration": 140,
    "start_time": "2022-08-05T07:19:23.908Z"
   },
   {
    "duration": 12,
    "start_time": "2022-08-05T07:19:24.050Z"
   },
   {
    "duration": 35,
    "start_time": "2022-08-05T07:19:24.069Z"
   },
   {
    "duration": 6,
    "start_time": "2022-08-05T07:19:24.106Z"
   },
   {
    "duration": 241,
    "start_time": "2022-08-05T07:21:54.047Z"
   },
   {
    "duration": 167,
    "start_time": "2022-08-05T07:22:07.110Z"
   },
   {
    "duration": 173,
    "start_time": "2022-08-05T07:22:15.447Z"
   },
   {
    "duration": 133,
    "start_time": "2022-08-05T07:22:24.488Z"
   },
   {
    "duration": 129,
    "start_time": "2022-08-05T07:22:32.918Z"
   },
   {
    "duration": 144,
    "start_time": "2022-08-05T07:22:39.615Z"
   },
   {
    "duration": 137,
    "start_time": "2022-08-05T07:23:10.403Z"
   },
   {
    "duration": 203,
    "start_time": "2022-08-05T07:23:27.497Z"
   },
   {
    "duration": 114,
    "start_time": "2022-08-05T07:23:39.481Z"
   },
   {
    "duration": 91,
    "start_time": "2022-08-05T07:26:23.184Z"
   },
   {
    "duration": 9,
    "start_time": "2022-08-05T07:26:46.782Z"
   },
   {
    "duration": 12,
    "start_time": "2022-08-05T07:27:23.841Z"
   },
   {
    "duration": 19,
    "start_time": "2022-08-05T07:27:26.719Z"
   },
   {
    "duration": 6,
    "start_time": "2022-08-05T07:28:50.340Z"
   },
   {
    "duration": 7,
    "start_time": "2022-08-05T07:28:59.090Z"
   },
   {
    "duration": 5,
    "start_time": "2022-08-05T07:29:24.718Z"
   },
   {
    "duration": 14,
    "start_time": "2022-08-05T07:29:32.029Z"
   },
   {
    "duration": 4,
    "start_time": "2022-08-05T07:29:53.928Z"
   },
   {
    "duration": 9,
    "start_time": "2022-08-05T07:29:54.792Z"
   },
   {
    "duration": 399,
    "start_time": "2022-08-05T07:30:09.738Z"
   },
   {
    "duration": 5,
    "start_time": "2022-08-05T07:30:10.139Z"
   },
   {
    "duration": 51,
    "start_time": "2022-08-05T07:30:10.146Z"
   },
   {
    "duration": 18,
    "start_time": "2022-08-05T07:30:10.199Z"
   },
   {
    "duration": 15,
    "start_time": "2022-08-05T07:30:10.219Z"
   },
   {
    "duration": 27,
    "start_time": "2022-08-05T07:30:10.236Z"
   },
   {
    "duration": 42,
    "start_time": "2022-08-05T07:30:10.265Z"
   },
   {
    "duration": 12,
    "start_time": "2022-08-05T07:30:10.309Z"
   },
   {
    "duration": 489,
    "start_time": "2022-08-05T07:30:10.323Z"
   },
   {
    "duration": 4,
    "start_time": "2022-08-05T07:30:10.816Z"
   },
   {
    "duration": 167,
    "start_time": "2022-08-05T07:30:10.822Z"
   },
   {
    "duration": 146,
    "start_time": "2022-08-05T07:30:10.991Z"
   },
   {
    "duration": 6,
    "start_time": "2022-08-05T07:30:11.138Z"
   },
   {
    "duration": 20,
    "start_time": "2022-08-05T07:30:11.162Z"
   },
   {
    "duration": 16,
    "start_time": "2022-08-05T07:30:11.184Z"
   },
   {
    "duration": 131,
    "start_time": "2022-08-05T07:30:11.202Z"
   },
   {
    "duration": 177,
    "start_time": "2022-08-05T07:30:11.335Z"
   },
   {
    "duration": 6,
    "start_time": "2022-08-05T07:30:11.513Z"
   },
   {
    "duration": 6,
    "start_time": "2022-08-05T07:30:11.521Z"
   },
   {
    "duration": 32,
    "start_time": "2022-08-05T07:30:11.528Z"
   },
   {
    "duration": 420,
    "start_time": "2022-08-18T06:27:27.569Z"
   },
   {
    "duration": 3,
    "start_time": "2022-08-18T06:27:27.991Z"
   },
   {
    "duration": 77,
    "start_time": "2022-08-18T06:27:27.996Z"
   },
   {
    "duration": 21,
    "start_time": "2022-08-18T06:27:28.075Z"
   },
   {
    "duration": 9,
    "start_time": "2022-08-18T06:27:28.098Z"
   },
   {
    "duration": 24,
    "start_time": "2022-08-18T06:27:28.109Z"
   },
   {
    "duration": 6,
    "start_time": "2022-08-18T06:27:28.135Z"
   },
   {
    "duration": 16,
    "start_time": "2022-08-18T06:27:28.142Z"
   },
   {
    "duration": 572,
    "start_time": "2022-08-18T06:27:28.159Z"
   },
   {
    "duration": 4,
    "start_time": "2022-08-18T06:27:28.734Z"
   },
   {
    "duration": 162,
    "start_time": "2022-08-18T06:27:28.739Z"
   },
   {
    "duration": 131,
    "start_time": "2022-08-18T06:27:28.903Z"
   },
   {
    "duration": 4,
    "start_time": "2022-08-18T06:27:29.036Z"
   },
   {
    "duration": 12,
    "start_time": "2022-08-18T06:27:29.041Z"
   },
   {
    "duration": 5,
    "start_time": "2022-08-18T06:27:29.054Z"
   },
   {
    "duration": 189,
    "start_time": "2022-08-18T06:27:29.061Z"
   },
   {
    "duration": 114,
    "start_time": "2022-08-18T06:27:29.252Z"
   },
   {
    "duration": 6,
    "start_time": "2022-08-18T06:27:29.368Z"
   },
   {
    "duration": 12,
    "start_time": "2022-08-18T06:27:29.375Z"
   },
   {
    "duration": 10,
    "start_time": "2022-08-18T06:27:29.389Z"
   },
   {
    "duration": 82,
    "start_time": "2022-08-18T13:49:56.117Z"
   },
   {
    "duration": 81,
    "start_time": "2022-08-18T15:26:47.524Z"
   },
   {
    "duration": 152,
    "start_time": "2022-08-18T15:34:16.023Z"
   },
   {
    "duration": 85,
    "start_time": "2022-08-18T15:48:20.259Z"
   },
   {
    "duration": 44,
    "start_time": "2022-08-19T08:38:00.500Z"
   },
   {
    "duration": 422,
    "start_time": "2022-08-19T08:38:08.328Z"
   },
   {
    "duration": 3,
    "start_time": "2022-08-19T08:38:08.752Z"
   },
   {
    "duration": 90,
    "start_time": "2022-08-19T08:38:08.757Z"
   },
   {
    "duration": 21,
    "start_time": "2022-08-19T08:38:08.849Z"
   },
   {
    "duration": 12,
    "start_time": "2022-08-19T08:38:08.871Z"
   },
   {
    "duration": 28,
    "start_time": "2022-08-19T08:38:08.885Z"
   },
   {
    "duration": 5,
    "start_time": "2022-08-19T08:38:08.915Z"
   },
   {
    "duration": 28,
    "start_time": "2022-08-19T08:38:08.922Z"
   },
   {
    "duration": 588,
    "start_time": "2022-08-19T08:38:08.952Z"
   },
   {
    "duration": 4,
    "start_time": "2022-08-19T08:38:09.546Z"
   },
   {
    "duration": 164,
    "start_time": "2022-08-19T08:38:09.552Z"
   },
   {
    "duration": 149,
    "start_time": "2022-08-19T08:38:09.718Z"
   },
   {
    "duration": 4,
    "start_time": "2022-08-19T08:38:09.869Z"
   },
   {
    "duration": 13,
    "start_time": "2022-08-19T08:38:09.875Z"
   },
   {
    "duration": 5,
    "start_time": "2022-08-19T08:38:09.890Z"
   },
   {
    "duration": 218,
    "start_time": "2022-08-19T08:38:09.896Z"
   },
   {
    "duration": 132,
    "start_time": "2022-08-19T08:38:10.116Z"
   },
   {
    "duration": 6,
    "start_time": "2022-08-19T08:38:10.249Z"
   },
   {
    "duration": 7,
    "start_time": "2022-08-19T08:38:10.256Z"
   },
   {
    "duration": 14,
    "start_time": "2022-08-19T08:38:10.265Z"
   },
   {
    "duration": 4,
    "start_time": "2022-08-19T08:38:10.281Z"
   },
   {
    "duration": 4,
    "start_time": "2022-08-19T08:38:54.085Z"
   },
   {
    "duration": 75,
    "start_time": "2022-08-19T08:40:30.818Z"
   },
   {
    "duration": 3,
    "start_time": "2022-08-19T08:46:04.319Z"
   },
   {
    "duration": 3,
    "start_time": "2022-08-19T08:46:11.802Z"
   },
   {
    "duration": 4,
    "start_time": "2022-08-19T08:46:23.396Z"
   },
   {
    "duration": 4,
    "start_time": "2022-08-19T08:46:24.776Z"
   },
   {
    "duration": 4,
    "start_time": "2022-08-19T08:46:25.307Z"
   },
   {
    "duration": 5,
    "start_time": "2022-08-19T08:46:25.688Z"
   },
   {
    "duration": 5,
    "start_time": "2022-08-19T08:46:26.013Z"
   },
   {
    "duration": 3,
    "start_time": "2022-08-19T08:46:27.483Z"
   },
   {
    "duration": 3,
    "start_time": "2022-08-19T08:46:28.041Z"
   },
   {
    "duration": 5,
    "start_time": "2022-08-19T08:46:29.750Z"
   },
   {
    "duration": 7,
    "start_time": "2022-08-19T08:48:07.046Z"
   },
   {
    "duration": 3,
    "start_time": "2022-08-19T08:48:32.140Z"
   },
   {
    "duration": 4,
    "start_time": "2022-08-19T08:48:34.148Z"
   },
   {
    "duration": 4,
    "start_time": "2022-08-19T08:48:35.201Z"
   },
   {
    "duration": 4,
    "start_time": "2022-08-19T08:48:36.137Z"
   },
   {
    "duration": 3,
    "start_time": "2022-08-19T08:48:37.034Z"
   },
   {
    "duration": 4,
    "start_time": "2022-08-19T08:48:38.794Z"
   },
   {
    "duration": 2,
    "start_time": "2022-08-19T08:48:39.873Z"
   },
   {
    "duration": 4,
    "start_time": "2022-08-19T08:48:41.314Z"
   },
   {
    "duration": 3,
    "start_time": "2022-08-19T08:48:42.364Z"
   },
   {
    "duration": 4,
    "start_time": "2022-08-19T08:48:43.415Z"
   },
   {
    "duration": 5,
    "start_time": "2022-08-19T08:51:31.941Z"
   },
   {
    "duration": 5,
    "start_time": "2022-08-19T08:51:33.144Z"
   },
   {
    "duration": 4,
    "start_time": "2022-08-19T08:51:35.958Z"
   },
   {
    "duration": 4,
    "start_time": "2022-08-19T08:51:36.677Z"
   },
   {
    "duration": 3,
    "start_time": "2022-08-19T08:51:37.589Z"
   },
   {
    "duration": 5,
    "start_time": "2022-08-19T08:51:39.000Z"
   },
   {
    "duration": 166,
    "start_time": "2022-08-19T08:52:24.998Z"
   },
   {
    "duration": 6,
    "start_time": "2022-08-19T08:53:35.047Z"
   },
   {
    "duration": 4,
    "start_time": "2022-08-19T08:53:43.381Z"
   },
   {
    "duration": 3,
    "start_time": "2022-08-19T08:54:54.786Z"
   },
   {
    "duration": 4,
    "start_time": "2022-08-19T08:54:55.643Z"
   },
   {
    "duration": 3,
    "start_time": "2022-08-19T08:55:10.230Z"
   },
   {
    "duration": 20,
    "start_time": "2022-08-19T08:55:10.236Z"
   },
   {
    "duration": 4,
    "start_time": "2022-08-19T08:55:24.015Z"
   },
   {
    "duration": 4,
    "start_time": "2022-08-19T08:56:31.911Z"
   },
   {
    "duration": 77,
    "start_time": "2022-08-19T08:59:56.214Z"
   },
   {
    "duration": 4,
    "start_time": "2022-08-19T09:00:06.314Z"
   },
   {
    "duration": 815,
    "start_time": "2022-08-19T09:01:49.048Z"
   },
   {
    "duration": 3,
    "start_time": "2022-08-19T09:01:56.049Z"
   },
   {
    "duration": 11,
    "start_time": "2022-08-19T09:06:04.955Z"
   },
   {
    "duration": 119,
    "start_time": "2022-08-19T09:07:55.416Z"
   },
   {
    "duration": 3,
    "start_time": "2022-08-19T09:08:54.250Z"
   },
   {
    "duration": 14,
    "start_time": "2022-08-19T09:10:54.867Z"
   },
   {
    "duration": 14,
    "start_time": "2022-08-19T09:11:21.732Z"
   },
   {
    "duration": 12,
    "start_time": "2022-08-19T09:12:08.478Z"
   },
   {
    "duration": 15,
    "start_time": "2022-08-19T09:12:47.737Z"
   },
   {
    "duration": 2,
    "start_time": "2022-08-19T09:17:48.252Z"
   },
   {
    "duration": 4,
    "start_time": "2022-08-19T09:17:54.307Z"
   },
   {
    "duration": 3,
    "start_time": "2022-08-19T09:17:59.295Z"
   },
   {
    "duration": 4,
    "start_time": "2022-08-19T09:17:59.824Z"
   },
   {
    "duration": 4,
    "start_time": "2022-08-19T09:18:05.155Z"
   },
   {
    "duration": 5,
    "start_time": "2022-08-19T09:18:07.541Z"
   },
   {
    "duration": 3,
    "start_time": "2022-08-19T09:18:13.559Z"
   },
   {
    "duration": 4,
    "start_time": "2022-08-19T09:18:13.985Z"
   },
   {
    "duration": 3,
    "start_time": "2022-08-19T09:18:15.669Z"
   },
   {
    "duration": 4,
    "start_time": "2022-08-19T09:18:16.089Z"
   },
   {
    "duration": 4,
    "start_time": "2022-08-19T09:18:18.940Z"
   },
   {
    "duration": 1056,
    "start_time": "2022-08-19T09:19:48.709Z"
   },
   {
    "duration": 3,
    "start_time": "2022-08-19T09:19:49.767Z"
   },
   {
    "duration": 42,
    "start_time": "2022-08-19T09:19:49.772Z"
   },
   {
    "duration": 20,
    "start_time": "2022-08-19T09:19:49.816Z"
   },
   {
    "duration": 12,
    "start_time": "2022-08-19T09:19:49.837Z"
   },
   {
    "duration": 28,
    "start_time": "2022-08-19T09:19:49.850Z"
   },
   {
    "duration": 5,
    "start_time": "2022-08-19T09:19:49.880Z"
   },
   {
    "duration": 9,
    "start_time": "2022-08-19T09:19:49.886Z"
   },
   {
    "duration": 484,
    "start_time": "2022-08-19T09:19:49.896Z"
   },
   {
    "duration": 4,
    "start_time": "2022-08-19T09:19:50.383Z"
   },
   {
    "duration": 174,
    "start_time": "2022-08-19T09:19:50.388Z"
   },
   {
    "duration": 154,
    "start_time": "2022-08-19T09:19:50.564Z"
   },
   {
    "duration": 4,
    "start_time": "2022-08-19T09:19:50.720Z"
   },
   {
    "duration": 23,
    "start_time": "2022-08-19T09:19:50.725Z"
   },
   {
    "duration": 6,
    "start_time": "2022-08-19T09:19:50.749Z"
   },
   {
    "duration": 148,
    "start_time": "2022-08-19T09:19:50.756Z"
   },
   {
    "duration": 131,
    "start_time": "2022-08-19T09:19:50.905Z"
   },
   {
    "duration": 9,
    "start_time": "2022-08-19T09:19:51.037Z"
   },
   {
    "duration": 17,
    "start_time": "2022-08-19T09:19:51.047Z"
   },
   {
    "duration": 17,
    "start_time": "2022-08-19T09:19:51.066Z"
   },
   {
    "duration": 14,
    "start_time": "2022-08-19T09:19:51.085Z"
   },
   {
    "duration": 10,
    "start_time": "2022-08-19T09:19:51.100Z"
   },
   {
    "duration": 6,
    "start_time": "2022-08-19T09:19:51.112Z"
   },
   {
    "duration": 26,
    "start_time": "2022-08-19T09:19:51.120Z"
   },
   {
    "duration": 11,
    "start_time": "2022-08-19T09:19:51.148Z"
   },
   {
    "duration": 87,
    "start_time": "2022-08-19T09:19:51.161Z"
   },
   {
    "duration": 196,
    "start_time": "2022-08-19T09:19:51.249Z"
   },
   {
    "duration": 95,
    "start_time": "2022-08-19T09:19:51.450Z"
   },
   {
    "duration": 10,
    "start_time": "2022-08-19T09:19:51.547Z"
   },
   {
    "duration": 1166,
    "start_time": "2022-08-19T09:33:34.330Z"
   },
   {
    "duration": 3,
    "start_time": "2022-08-19T09:33:35.498Z"
   },
   {
    "duration": 38,
    "start_time": "2022-08-19T09:33:35.502Z"
   },
   {
    "duration": 20,
    "start_time": "2022-08-19T09:33:35.542Z"
   },
   {
    "duration": 11,
    "start_time": "2022-08-19T09:33:35.563Z"
   },
   {
    "duration": 27,
    "start_time": "2022-08-19T09:33:35.576Z"
   },
   {
    "duration": 5,
    "start_time": "2022-08-19T09:33:35.604Z"
   },
   {
    "duration": 16,
    "start_time": "2022-08-19T09:33:35.610Z"
   },
   {
    "duration": 431,
    "start_time": "2022-08-19T09:33:35.644Z"
   },
   {
    "duration": 4,
    "start_time": "2022-08-19T09:33:36.078Z"
   },
   {
    "duration": 169,
    "start_time": "2022-08-19T09:33:36.084Z"
   },
   {
    "duration": 146,
    "start_time": "2022-08-19T09:33:36.255Z"
   },
   {
    "duration": 4,
    "start_time": "2022-08-19T09:33:36.403Z"
   },
   {
    "duration": 11,
    "start_time": "2022-08-19T09:33:36.409Z"
   },
   {
    "duration": 24,
    "start_time": "2022-08-19T09:33:36.422Z"
   },
   {
    "duration": 149,
    "start_time": "2022-08-19T09:33:36.448Z"
   },
   {
    "duration": 137,
    "start_time": "2022-08-19T09:33:36.599Z"
   },
   {
    "duration": 11,
    "start_time": "2022-08-19T09:33:36.738Z"
   },
   {
    "duration": 9,
    "start_time": "2022-08-19T09:33:36.750Z"
   },
   {
    "duration": 11,
    "start_time": "2022-08-19T09:33:36.760Z"
   },
   {
    "duration": 3,
    "start_time": "2022-08-19T09:33:36.772Z"
   },
   {
    "duration": 8,
    "start_time": "2022-08-19T09:33:36.777Z"
   },
   {
    "duration": 6,
    "start_time": "2022-08-19T09:33:36.787Z"
   },
   {
    "duration": 51,
    "start_time": "2022-08-19T09:33:36.795Z"
   },
   {
    "duration": 5,
    "start_time": "2022-08-19T09:33:36.848Z"
   },
   {
    "duration": 10,
    "start_time": "2022-08-19T09:33:36.854Z"
   },
   {
    "duration": 181,
    "start_time": "2022-08-19T09:33:36.865Z"
   },
   {
    "duration": 99,
    "start_time": "2022-08-19T09:33:37.051Z"
   },
   {
    "duration": 118,
    "start_time": "2022-08-19T09:33:37.151Z"
   },
   {
    "duration": 12,
    "start_time": "2022-08-19T09:35:08.341Z"
   },
   {
    "duration": 164,
    "start_time": "2022-08-19T09:36:55.251Z"
   },
   {
    "duration": 9,
    "start_time": "2022-08-19T09:37:11.271Z"
   },
   {
    "duration": 5,
    "start_time": "2022-08-19T09:37:20.282Z"
   },
   {
    "duration": 4,
    "start_time": "2022-08-19T09:39:19.412Z"
   },
   {
    "duration": 5,
    "start_time": "2022-08-19T09:39:45.039Z"
   },
   {
    "duration": 6,
    "start_time": "2022-08-19T09:41:17.231Z"
   },
   {
    "duration": 5,
    "start_time": "2022-08-19T09:41:30.881Z"
   },
   {
    "duration": 4,
    "start_time": "2022-08-19T09:41:31.968Z"
   },
   {
    "duration": 5,
    "start_time": "2022-08-19T09:41:41.058Z"
   },
   {
    "duration": 3,
    "start_time": "2022-08-19T09:45:40.971Z"
   },
   {
    "duration": 1076,
    "start_time": "2022-08-19T09:50:47.992Z"
   },
   {
    "duration": 3,
    "start_time": "2022-08-19T09:50:49.070Z"
   },
   {
    "duration": 35,
    "start_time": "2022-08-19T09:50:49.075Z"
   },
   {
    "duration": 21,
    "start_time": "2022-08-19T09:50:49.112Z"
   },
   {
    "duration": 14,
    "start_time": "2022-08-19T09:50:49.135Z"
   },
   {
    "duration": 26,
    "start_time": "2022-08-19T09:50:49.150Z"
   },
   {
    "duration": 5,
    "start_time": "2022-08-19T09:50:49.178Z"
   },
   {
    "duration": 13,
    "start_time": "2022-08-19T09:50:49.184Z"
   },
   {
    "duration": 463,
    "start_time": "2022-08-19T09:50:49.199Z"
   },
   {
    "duration": 5,
    "start_time": "2022-08-19T09:50:49.666Z"
   },
   {
    "duration": 173,
    "start_time": "2022-08-19T09:50:49.673Z"
   },
   {
    "duration": 149,
    "start_time": "2022-08-19T09:50:49.848Z"
   },
   {
    "duration": 4,
    "start_time": "2022-08-19T09:50:50.000Z"
   },
   {
    "duration": 12,
    "start_time": "2022-08-19T09:50:50.006Z"
   },
   {
    "duration": 25,
    "start_time": "2022-08-19T09:50:50.020Z"
   },
   {
    "duration": 153,
    "start_time": "2022-08-19T09:50:50.048Z"
   },
   {
    "duration": 126,
    "start_time": "2022-08-19T09:50:50.203Z"
   },
   {
    "duration": 15,
    "start_time": "2022-08-19T09:50:50.331Z"
   },
   {
    "duration": 5,
    "start_time": "2022-08-19T09:50:50.349Z"
   },
   {
    "duration": 16,
    "start_time": "2022-08-19T09:50:50.355Z"
   },
   {
    "duration": 11,
    "start_time": "2022-08-19T09:50:50.373Z"
   },
   {
    "duration": 10,
    "start_time": "2022-08-19T09:50:50.386Z"
   },
   {
    "duration": 19,
    "start_time": "2022-08-19T09:50:50.397Z"
   },
   {
    "duration": 28,
    "start_time": "2022-08-19T09:50:50.419Z"
   },
   {
    "duration": 4,
    "start_time": "2022-08-19T09:50:50.449Z"
   },
   {
    "duration": 92,
    "start_time": "2022-08-19T09:50:50.455Z"
   },
   {
    "duration": 102,
    "start_time": "2022-08-19T09:50:50.549Z"
   },
   {
    "duration": 93,
    "start_time": "2022-08-19T09:50:50.655Z"
   },
   {
    "duration": 111,
    "start_time": "2022-08-19T09:50:50.749Z"
   },
   {
    "duration": 87,
    "start_time": "2022-08-19T09:50:50.861Z"
   },
   {
    "duration": 114,
    "start_time": "2022-08-19T09:50:50.950Z"
   },
   {
    "duration": 1120,
    "start_time": "2022-08-20T09:13:08.532Z"
   },
   {
    "duration": 3,
    "start_time": "2022-08-20T09:13:09.654Z"
   },
   {
    "duration": 86,
    "start_time": "2022-08-20T09:13:09.658Z"
   },
   {
    "duration": 19,
    "start_time": "2022-08-20T09:13:09.746Z"
   },
   {
    "duration": 10,
    "start_time": "2022-08-20T09:13:09.766Z"
   },
   {
    "duration": 22,
    "start_time": "2022-08-20T09:13:09.777Z"
   },
   {
    "duration": 5,
    "start_time": "2022-08-20T09:13:09.800Z"
   },
   {
    "duration": 9,
    "start_time": "2022-08-20T09:13:09.806Z"
   },
   {
    "duration": 594,
    "start_time": "2022-08-20T09:13:09.816Z"
   },
   {
    "duration": 4,
    "start_time": "2022-08-20T09:13:10.413Z"
   },
   {
    "duration": 152,
    "start_time": "2022-08-20T09:13:10.419Z"
   },
   {
    "duration": 125,
    "start_time": "2022-08-20T09:13:10.572Z"
   },
   {
    "duration": 8,
    "start_time": "2022-08-20T09:13:10.698Z"
   },
   {
    "duration": 18,
    "start_time": "2022-08-20T09:13:10.708Z"
   },
   {
    "duration": 6,
    "start_time": "2022-08-20T09:13:10.728Z"
   },
   {
    "duration": 133,
    "start_time": "2022-08-20T09:13:10.736Z"
   },
   {
    "duration": 99,
    "start_time": "2022-08-20T09:13:10.870Z"
   },
   {
    "duration": 6,
    "start_time": "2022-08-20T09:13:10.970Z"
   },
   {
    "duration": 4,
    "start_time": "2022-08-20T09:13:10.977Z"
   },
   {
    "duration": 11,
    "start_time": "2022-08-20T09:13:10.982Z"
   },
   {
    "duration": 3,
    "start_time": "2022-08-20T09:13:11.006Z"
   },
   {
    "duration": 9,
    "start_time": "2022-08-20T09:13:11.011Z"
   },
   {
    "duration": 15,
    "start_time": "2022-08-20T09:13:11.021Z"
   },
   {
    "duration": 173,
    "start_time": "2022-08-20T09:13:11.038Z"
   },
   {
    "duration": 14,
    "start_time": "2022-08-20T09:13:11.212Z"
   },
   {
    "duration": 13,
    "start_time": "2022-08-20T09:13:11.228Z"
   },
   {
    "duration": 176,
    "start_time": "2022-08-20T09:13:11.242Z"
   },
   {
    "duration": 88,
    "start_time": "2022-08-20T09:13:11.423Z"
   },
   {
    "duration": 17,
    "start_time": "2022-08-20T09:13:11.513Z"
   },
   {
    "duration": 4,
    "start_time": "2022-08-20T09:13:11.532Z"
   },
   {
    "duration": 111,
    "start_time": "2022-08-20T09:13:11.607Z"
   },
   {
    "duration": 118,
    "start_time": "2022-08-20T09:14:31.946Z"
   },
   {
    "duration": 1759,
    "start_time": "2022-08-20T09:14:40.334Z"
   },
   {
    "duration": 9,
    "start_time": "2022-08-20T09:15:07.232Z"
   },
   {
    "duration": 27,
    "start_time": "2022-08-20T09:15:09.133Z"
   },
   {
    "duration": 12,
    "start_time": "2022-08-20T09:15:10.471Z"
   },
   {
    "duration": 4,
    "start_time": "2022-08-20T09:15:13.149Z"
   }
  ],
  "kernelspec": {
   "display_name": "Python 3",
   "language": "python",
   "name": "python3"
  },
  "language_info": {
   "codemirror_mode": {
    "name": "ipython",
    "version": 3
   },
   "file_extension": ".py",
   "mimetype": "text/x-python",
   "name": "python",
   "nbconvert_exporter": "python",
   "pygments_lexer": "ipython3",
   "version": "3.8.3"
  },
  "toc": {
   "base_numbering": 1,
   "nav_menu": {},
   "number_sections": true,
   "sideBar": true,
   "skip_h1_title": true,
   "title_cell": "Содержание",
   "title_sidebar": "Contents",
   "toc_cell": true,
   "toc_position": {},
   "toc_section_display": true,
   "toc_window_display": true
  }
 },
 "nbformat": 4,
 "nbformat_minor": 2
}
